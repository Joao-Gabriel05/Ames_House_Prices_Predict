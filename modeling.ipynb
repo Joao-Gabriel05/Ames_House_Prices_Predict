{
 "cells": [
  {
   "cell_type": "markdown",
   "metadata": {},
   "source": [
    "# Separação treino-teste"
   ]
  },
  {
   "cell_type": "code",
   "execution_count": 3,
   "metadata": {},
   "outputs": [],
   "source": [
    "from loader_and_preprocess_funcs import *"
   ]
  },
  {
   "cell_type": "code",
   "execution_count": 4,
   "metadata": {},
   "outputs": [],
   "source": [
    "data =load__data()"
   ]
  },
  {
   "cell_type": "code",
   "execution_count": 5,
   "metadata": {},
   "outputs": [],
   "source": [
    "top15 = ['Neighborhood','House.Style','Overall.Qual','Full.Bath','Year.Remod.Add','Lot.Area','TotRms.AbvGrd','Fireplaces','Heating.QC','Lot.Frontage',\n",
    "             'Foundation','Gr.Liv.Area','Kitchen.AbvGr','Open.Porch.SF','Roof.Style','SalePrice']\n",
    "\n",
    "data = choose_feat(data,top15)"
   ]
  },
  {
   "cell_type": "code",
   "execution_count": 6,
   "metadata": {},
   "outputs": [
    {
     "data": {
      "text/html": [
       "<div>\n",
       "<style scoped>\n",
       "    .dataframe tbody tr th:only-of-type {\n",
       "        vertical-align: middle;\n",
       "    }\n",
       "\n",
       "    .dataframe tbody tr th {\n",
       "        vertical-align: top;\n",
       "    }\n",
       "\n",
       "    .dataframe thead th {\n",
       "        text-align: right;\n",
       "    }\n",
       "</style>\n",
       "<table border=\"1\" class=\"dataframe\">\n",
       "  <thead>\n",
       "    <tr style=\"text-align: right;\">\n",
       "      <th></th>\n",
       "      <th>Neighborhood</th>\n",
       "      <th>House.Style</th>\n",
       "      <th>Overall.Qual</th>\n",
       "      <th>Full.Bath</th>\n",
       "      <th>Year.Remod.Add</th>\n",
       "      <th>Lot.Area</th>\n",
       "      <th>TotRms.AbvGrd</th>\n",
       "      <th>Fireplaces</th>\n",
       "      <th>Heating.QC</th>\n",
       "      <th>Lot.Frontage</th>\n",
       "      <th>Foundation</th>\n",
       "      <th>Gr.Liv.Area</th>\n",
       "      <th>Kitchen.AbvGr</th>\n",
       "      <th>Open.Porch.SF</th>\n",
       "      <th>Roof.Style</th>\n",
       "      <th>SalePrice</th>\n",
       "    </tr>\n",
       "  </thead>\n",
       "  <tbody>\n",
       "    <tr>\n",
       "      <th>0</th>\n",
       "      <td>NAmes</td>\n",
       "      <td>1Story</td>\n",
       "      <td>6</td>\n",
       "      <td>1</td>\n",
       "      <td>1960</td>\n",
       "      <td>31770</td>\n",
       "      <td>7</td>\n",
       "      <td>2</td>\n",
       "      <td>Fa</td>\n",
       "      <td>141.0</td>\n",
       "      <td>CBlock</td>\n",
       "      <td>1656</td>\n",
       "      <td>1</td>\n",
       "      <td>62</td>\n",
       "      <td>Hip</td>\n",
       "      <td>215000</td>\n",
       "    </tr>\n",
       "    <tr>\n",
       "      <th>1</th>\n",
       "      <td>NAmes</td>\n",
       "      <td>1Story</td>\n",
       "      <td>5</td>\n",
       "      <td>1</td>\n",
       "      <td>1961</td>\n",
       "      <td>11622</td>\n",
       "      <td>5</td>\n",
       "      <td>0</td>\n",
       "      <td>TA</td>\n",
       "      <td>80.0</td>\n",
       "      <td>CBlock</td>\n",
       "      <td>896</td>\n",
       "      <td>1</td>\n",
       "      <td>0</td>\n",
       "      <td>Gable</td>\n",
       "      <td>105000</td>\n",
       "    </tr>\n",
       "    <tr>\n",
       "      <th>2</th>\n",
       "      <td>NAmes</td>\n",
       "      <td>1Story</td>\n",
       "      <td>6</td>\n",
       "      <td>1</td>\n",
       "      <td>1958</td>\n",
       "      <td>14267</td>\n",
       "      <td>6</td>\n",
       "      <td>0</td>\n",
       "      <td>TA</td>\n",
       "      <td>81.0</td>\n",
       "      <td>CBlock</td>\n",
       "      <td>1329</td>\n",
       "      <td>1</td>\n",
       "      <td>36</td>\n",
       "      <td>Hip</td>\n",
       "      <td>172000</td>\n",
       "    </tr>\n",
       "    <tr>\n",
       "      <th>3</th>\n",
       "      <td>NAmes</td>\n",
       "      <td>1Story</td>\n",
       "      <td>7</td>\n",
       "      <td>2</td>\n",
       "      <td>1968</td>\n",
       "      <td>11160</td>\n",
       "      <td>8</td>\n",
       "      <td>2</td>\n",
       "      <td>Ex</td>\n",
       "      <td>93.0</td>\n",
       "      <td>CBlock</td>\n",
       "      <td>2110</td>\n",
       "      <td>1</td>\n",
       "      <td>0</td>\n",
       "      <td>Hip</td>\n",
       "      <td>244000</td>\n",
       "    </tr>\n",
       "    <tr>\n",
       "      <th>4</th>\n",
       "      <td>Gilbert</td>\n",
       "      <td>2Story</td>\n",
       "      <td>5</td>\n",
       "      <td>2</td>\n",
       "      <td>1998</td>\n",
       "      <td>13830</td>\n",
       "      <td>6</td>\n",
       "      <td>1</td>\n",
       "      <td>Gd</td>\n",
       "      <td>74.0</td>\n",
       "      <td>PConc</td>\n",
       "      <td>1629</td>\n",
       "      <td>1</td>\n",
       "      <td>34</td>\n",
       "      <td>Gable</td>\n",
       "      <td>189900</td>\n",
       "    </tr>\n",
       "    <tr>\n",
       "      <th>...</th>\n",
       "      <td>...</td>\n",
       "      <td>...</td>\n",
       "      <td>...</td>\n",
       "      <td>...</td>\n",
       "      <td>...</td>\n",
       "      <td>...</td>\n",
       "      <td>...</td>\n",
       "      <td>...</td>\n",
       "      <td>...</td>\n",
       "      <td>...</td>\n",
       "      <td>...</td>\n",
       "      <td>...</td>\n",
       "      <td>...</td>\n",
       "      <td>...</td>\n",
       "      <td>...</td>\n",
       "      <td>...</td>\n",
       "    </tr>\n",
       "    <tr>\n",
       "      <th>2925</th>\n",
       "      <td>Mitchel</td>\n",
       "      <td>SLvl</td>\n",
       "      <td>6</td>\n",
       "      <td>1</td>\n",
       "      <td>1984</td>\n",
       "      <td>7937</td>\n",
       "      <td>6</td>\n",
       "      <td>0</td>\n",
       "      <td>TA</td>\n",
       "      <td>37.0</td>\n",
       "      <td>CBlock</td>\n",
       "      <td>1003</td>\n",
       "      <td>1</td>\n",
       "      <td>0</td>\n",
       "      <td>Gable</td>\n",
       "      <td>142500</td>\n",
       "    </tr>\n",
       "    <tr>\n",
       "      <th>2926</th>\n",
       "      <td>Mitchel</td>\n",
       "      <td>1Story</td>\n",
       "      <td>5</td>\n",
       "      <td>1</td>\n",
       "      <td>1983</td>\n",
       "      <td>8885</td>\n",
       "      <td>5</td>\n",
       "      <td>0</td>\n",
       "      <td>TA</td>\n",
       "      <td>NaN</td>\n",
       "      <td>CBlock</td>\n",
       "      <td>902</td>\n",
       "      <td>1</td>\n",
       "      <td>0</td>\n",
       "      <td>Gable</td>\n",
       "      <td>131000</td>\n",
       "    </tr>\n",
       "    <tr>\n",
       "      <th>2927</th>\n",
       "      <td>Mitchel</td>\n",
       "      <td>SFoyer</td>\n",
       "      <td>5</td>\n",
       "      <td>1</td>\n",
       "      <td>1992</td>\n",
       "      <td>10441</td>\n",
       "      <td>6</td>\n",
       "      <td>0</td>\n",
       "      <td>TA</td>\n",
       "      <td>62.0</td>\n",
       "      <td>PConc</td>\n",
       "      <td>970</td>\n",
       "      <td>1</td>\n",
       "      <td>32</td>\n",
       "      <td>Gable</td>\n",
       "      <td>132000</td>\n",
       "    </tr>\n",
       "    <tr>\n",
       "      <th>2928</th>\n",
       "      <td>Mitchel</td>\n",
       "      <td>1Story</td>\n",
       "      <td>5</td>\n",
       "      <td>1</td>\n",
       "      <td>1975</td>\n",
       "      <td>10010</td>\n",
       "      <td>6</td>\n",
       "      <td>1</td>\n",
       "      <td>Gd</td>\n",
       "      <td>77.0</td>\n",
       "      <td>CBlock</td>\n",
       "      <td>1389</td>\n",
       "      <td>1</td>\n",
       "      <td>38</td>\n",
       "      <td>Gable</td>\n",
       "      <td>170000</td>\n",
       "    </tr>\n",
       "    <tr>\n",
       "      <th>2929</th>\n",
       "      <td>Mitchel</td>\n",
       "      <td>2Story</td>\n",
       "      <td>7</td>\n",
       "      <td>2</td>\n",
       "      <td>1994</td>\n",
       "      <td>9627</td>\n",
       "      <td>9</td>\n",
       "      <td>1</td>\n",
       "      <td>Ex</td>\n",
       "      <td>74.0</td>\n",
       "      <td>PConc</td>\n",
       "      <td>2000</td>\n",
       "      <td>1</td>\n",
       "      <td>48</td>\n",
       "      <td>Gable</td>\n",
       "      <td>188000</td>\n",
       "    </tr>\n",
       "  </tbody>\n",
       "</table>\n",
       "<p>2930 rows × 16 columns</p>\n",
       "</div>"
      ],
      "text/plain": [
       "     Neighborhood House.Style  Overall.Qual  Full.Bath  Year.Remod.Add  \\\n",
       "0           NAmes      1Story             6          1            1960   \n",
       "1           NAmes      1Story             5          1            1961   \n",
       "2           NAmes      1Story             6          1            1958   \n",
       "3           NAmes      1Story             7          2            1968   \n",
       "4         Gilbert      2Story             5          2            1998   \n",
       "...           ...         ...           ...        ...             ...   \n",
       "2925      Mitchel        SLvl             6          1            1984   \n",
       "2926      Mitchel      1Story             5          1            1983   \n",
       "2927      Mitchel      SFoyer             5          1            1992   \n",
       "2928      Mitchel      1Story             5          1            1975   \n",
       "2929      Mitchel      2Story             7          2            1994   \n",
       "\n",
       "      Lot.Area  TotRms.AbvGrd  Fireplaces Heating.QC  Lot.Frontage Foundation  \\\n",
       "0        31770              7           2         Fa         141.0     CBlock   \n",
       "1        11622              5           0         TA          80.0     CBlock   \n",
       "2        14267              6           0         TA          81.0     CBlock   \n",
       "3        11160              8           2         Ex          93.0     CBlock   \n",
       "4        13830              6           1         Gd          74.0      PConc   \n",
       "...        ...            ...         ...        ...           ...        ...   \n",
       "2925      7937              6           0         TA          37.0     CBlock   \n",
       "2926      8885              5           0         TA           NaN     CBlock   \n",
       "2927     10441              6           0         TA          62.0      PConc   \n",
       "2928     10010              6           1         Gd          77.0     CBlock   \n",
       "2929      9627              9           1         Ex          74.0      PConc   \n",
       "\n",
       "      Gr.Liv.Area  Kitchen.AbvGr  Open.Porch.SF Roof.Style  SalePrice  \n",
       "0            1656              1             62        Hip     215000  \n",
       "1             896              1              0      Gable     105000  \n",
       "2            1329              1             36        Hip     172000  \n",
       "3            2110              1              0        Hip     244000  \n",
       "4            1629              1             34      Gable     189900  \n",
       "...           ...            ...            ...        ...        ...  \n",
       "2925         1003              1              0      Gable     142500  \n",
       "2926          902              1              0      Gable     131000  \n",
       "2927          970              1             32      Gable     132000  \n",
       "2928         1389              1             38      Gable     170000  \n",
       "2929         2000              1             48      Gable     188000  \n",
       "\n",
       "[2930 rows x 16 columns]"
      ]
     },
     "execution_count": 6,
     "metadata": {},
     "output_type": "execute_result"
    }
   ],
   "source": [
    "data"
   ]
  },
  {
   "cell_type": "code",
   "execution_count": 7,
   "metadata": {},
   "outputs": [],
   "source": [
    "data = preprocessor(data)"
   ]
  },
  {
   "cell_type": "code",
   "execution_count": 8,
   "metadata": {},
   "outputs": [
    {
     "name": "stdout",
     "output_type": "stream",
     "text": [
      "<class 'pandas.core.frame.DataFrame'>\n",
      "Index: 2273 entries, 1 to 2929\n",
      "Data columns (total 16 columns):\n",
      " #   Column             Non-Null Count  Dtype  \n",
      "---  ------             --------------  -----  \n",
      " 0   Neighborhood       2273 non-null   object \n",
      " 1   House.Style        2273 non-null   object \n",
      " 2   Overall.Qual       2273 non-null   object \n",
      " 3   Full.Bath          2273 non-null   object \n",
      " 4   Year.Remod.Add     2273 non-null   int64  \n",
      " 5   TotRms.AbvGrd      2273 non-null   object \n",
      " 6   Fireplaces         2273 non-null   object \n",
      " 7   Heating.QC         2273 non-null   object \n",
      " 8   Foundation         2273 non-null   object \n",
      " 9   Kitchen.AbvGr      2273 non-null   object \n",
      " 10  Roof.Style         2273 non-null   object \n",
      " 11  Lot.Area_log       2273 non-null   float64\n",
      " 12  Lot.Frontage_log   1878 non-null   float64\n",
      " 13  Gr.Liv.Area_log    2273 non-null   float64\n",
      " 14  SalePrice_log      2273 non-null   float64\n",
      " 15  Open.Porch.SF_bin  2273 non-null   object \n",
      "dtypes: float64(4), int64(1), object(11)\n",
      "memory usage: 301.9+ KB\n"
     ]
    }
   ],
   "source": [
    "data.info()"
   ]
  },
  {
   "cell_type": "code",
   "execution_count": 9,
   "metadata": {},
   "outputs": [],
   "source": [
    "from sklearn.model_selection import train_test_split"
   ]
  },
  {
   "cell_type": "code",
   "execution_count": 10,
   "metadata": {},
   "outputs": [],
   "source": [
    "y = data['SalePrice_log']\n",
    "X = data.drop(columns=['SalePrice_log'])\n",
    "X_train, X_test, y_train, y_test = train_test_split(X, y, test_size=0.2, random_state=42)"
   ]
  },
  {
   "cell_type": "markdown",
   "metadata": {},
   "source": [
    "# Pipeline Global"
   ]
  },
  {
   "cell_type": "code",
   "execution_count": 11,
   "metadata": {},
   "outputs": [
    {
     "name": "stderr",
     "output_type": "stream",
     "text": [
      "/Users/jgfaraco/miniconda3/lib/python3.12/site-packages/tqdm/auto.py:21: TqdmWarning: IProgress not found. Please update jupyter and ipywidgets. See https://ipywidgets.readthedocs.io/en/stable/user_install.html\n",
      "  from .autonotebook import tqdm as notebook_tqdm\n"
     ]
    }
   ],
   "source": [
    "\n",
    "from sklearn.pipeline import Pipeline\n",
    "from sklearn.compose import ColumnTransformer\n",
    "from sklearn.impute import SimpleImputer\n",
    "from sklearn.preprocessing import StandardScaler, OneHotEncoder,PolynomialFeatures\n",
    "from sklearn.model_selection import cross_val_score\n",
    "import optuna\n",
    "from optuna.visualization import *\n",
    "import plotly\n",
    "import optuna\n",
    "import nbformat "
   ]
  },
  {
   "cell_type": "code",
   "execution_count": 12,
   "metadata": {},
   "outputs": [],
   "source": [
    "num_cols =['Gr.Liv.Area_log','Lot.Area_log','Lot.Frontage_log','Year.Remod.Add']\n",
    "cat_cols = X.select_dtypes(include=['object', 'category']).columns.tolist()\n",
    "\n",
    "numeric_pipeline = Pipeline([\n",
    "    ('imputer', SimpleImputer(strategy='mean')),\n",
    "        ('poly', PolynomialFeatures(degree=3, include_bias=False))\n",
    "])\n",
    "\n",
    "categorical_pipeline = Pipeline([\n",
    "    ('imputer', SimpleImputer(strategy='most_frequent')),\n",
    "    ('onehot',  OneHotEncoder(handle_unknown='ignore', sparse_output=False,drop='first')),\n",
    "])\n",
    "\n",
    "preprocessor = ColumnTransformer([\n",
    "    ('num', numeric_pipeline,      num_cols),\n",
    "    ('cat', categorical_pipeline,  cat_cols),\n",
    "],\n",
    "remainder='passthrough')\n",
    "\n"
   ]
  },
  {
   "cell_type": "markdown",
   "metadata": {},
   "source": [
    "# Modelos"
   ]
  },
  {
   "cell_type": "markdown",
   "metadata": {},
   "source": [
    "ElasticNet, SVM, Trees e ensamble(cpa)"
   ]
  },
  {
   "cell_type": "code",
   "execution_count": 13,
   "metadata": {},
   "outputs": [],
   "source": [
    "def print_cv_results(model_name, cv_results):\n",
    "    cv_results = -cv_results\n",
    "\n",
    "    print(f'{model_name} CV results:')\n",
    "    print(cv_results)\n",
    "\n",
    "    mean_rmse = cv_results.mean()\n",
    "    std_rmse = cv_results.std()\n",
    "\n",
    "    print(f'RMSE: {mean_rmse:.2f} +/- {std_rmse:.2f}')\n",
    "    print()"
   ]
  },
  {
   "cell_type": "code",
   "execution_count": 14,
   "metadata": {},
   "outputs": [],
   "source": [
    "result = pd.DataFrame()"
   ]
  },
  {
   "cell_type": "markdown",
   "metadata": {},
   "source": [
    "# Dummy model"
   ]
  },
  {
   "cell_type": "code",
   "execution_count": 15,
   "metadata": {},
   "outputs": [],
   "source": [
    "from sklearn.dummy import DummyRegressor"
   ]
  },
  {
   "cell_type": "code",
   "execution_count": 16,
   "metadata": {},
   "outputs": [],
   "source": [
    "from sklearn.impute          import SimpleImputer\n",
    "from sklearn.preprocessing  import StandardScaler, PolynomialFeatures, OneHotEncoder\n",
    "from sklearn.compose        import ColumnTransformer\n",
    "from sklearn.pipeline       import Pipeline\n",
    "from sklearn.dummy          import DummyRegressor\n",
    "from sklearn.model_selection import cross_val_score\n",
    "\n",
    "def objective(trial):\n",
    "    strategy     = trial.suggest_categorical(\n",
    "        'strategy',\n",
    "        ['mean', 'median', 'constant']\n",
    "    )\n",
    "    if strategy == 'constant':\n",
    "        constant_val = trial.suggest_float('constant_val', 0.0, 1.0)\n",
    "    use_scaler  = trial.suggest_categorical('use_scaler', [False, True])\n",
    "    if use_scaler:\n",
    "        with_mean = trial.suggest_categorical('with_mean', [True, False])\n",
    "        with_std  = trial.suggest_categorical('with_std',  [True, False])\n",
    "    else:\n",
    "        with_mean = False\n",
    "        with_std  = False\n",
    "\n",
    "    poly_degree = trial.suggest_int('poly_degree', 1, 5)\n",
    "    num_steps = [('imputer', SimpleImputer(strategy='mean'))]\n",
    "    if use_scaler:\n",
    "        num_steps.append((\n",
    "            'scaler',\n",
    "            StandardScaler(with_mean=with_mean, with_std=with_std)\n",
    "        ))\n",
    "    num_steps.append((\n",
    "        'poly',\n",
    "        PolynomialFeatures(degree=poly_degree, include_bias=False)\n",
    "    ))\n",
    "    numeric_pipeline = Pipeline(num_steps)\n",
    "\n",
    "    categorical_pipeline = Pipeline([\n",
    "        ('imputer', SimpleImputer(strategy='most_frequent')),\n",
    "        ('onehot',  OneHotEncoder(handle_unknown='ignore',\n",
    "                                  sparse_output=False,\n",
    "                                  drop='first')),\n",
    "    ])\n",
    "\n",
    "    preprocessor = ColumnTransformer(\n",
    "        [\n",
    "            ('num', numeric_pipeline, num_cols),\n",
    "            ('cat', categorical_pipeline, cat_cols),\n",
    "        ],\n",
    "        remainder='passthrough'\n",
    "    )\n",
    "\n",
    "    dummy_kwargs = {'strategy': strategy}\n",
    "    if strategy == 'constant':\n",
    "        dummy_kwargs['constant'] = constant_val\n",
    "\n",
    "    model = Pipeline([\n",
    "        ('preproc', preprocessor),\n",
    "        ('dummy',  DummyRegressor(**dummy_kwargs)),\n",
    "    ])\n",
    "\n",
    "    neg_mse = cross_val_score(\n",
    "        model,\n",
    "        X_train, y_train,\n",
    "        cv=5,\n",
    "        scoring='neg_mean_squared_error',\n",
    "        n_jobs=-1\n",
    "    ).mean()\n",
    "\n",
    "    return neg_mse\n"
   ]
  },
  {
   "cell_type": "code",
   "execution_count": 17,
   "metadata": {},
   "outputs": [
    {
     "name": "stderr",
     "output_type": "stream",
     "text": [
      "[I 2025-05-17 10:22:12,294] A new study created in memory with name: no-name-89ef9e68-3259-4832-bcc3-befcff6ecbfd\n"
     ]
    }
   ],
   "source": [
    "study = optuna.create_study(direction='maximize', sampler=optuna.samplers.RandomSampler(seed=42)) "
   ]
  },
  {
   "cell_type": "code",
   "execution_count": 18,
   "metadata": {},
   "outputs": [
    {
     "name": "stderr",
     "output_type": "stream",
     "text": [
      "[I 2025-05-17 10:22:18,081] Trial 0 finished with value: -0.024529403559009882 and parameters: {'strategy': 'median', 'use_scaler': False, 'poly_degree': 1}. Best is trial 0 with value: -0.024529403559009882.\n",
      "[I 2025-05-17 10:22:18,923] Trial 1 finished with value: -0.024529403559009882 and parameters: {'strategy': 'median', 'use_scaler': False, 'poly_degree': 5}. Best is trial 0 with value: -0.024529403559009882.\n",
      "[I 2025-05-17 10:22:19,768] Trial 2 finished with value: -0.024290639236509086 and parameters: {'strategy': 'mean', 'use_scaler': True, 'with_mean': True, 'with_std': False, 'poly_degree': 1}. Best is trial 2 with value: -0.024290639236509086.\n",
      "[I 2025-05-17 10:22:20,620] Trial 3 finished with value: -19.97385203085658 and parameters: {'strategy': 'constant', 'constant_val': 0.7851759613930136, 'use_scaler': True, 'with_mean': True, 'with_std': True, 'poly_degree': 1}. Best is trial 2 with value: -0.024290639236509086.\n",
      "[I 2025-05-17 10:22:20,685] Trial 4 finished with value: -0.024529403559009882 and parameters: {'strategy': 'median', 'use_scaler': False, 'poly_degree': 4}. Best is trial 2 with value: -0.024290639236509086.\n",
      "[I 2025-05-17 10:22:20,735] Trial 5 finished with value: -27.244309592958263 and parameters: {'strategy': 'constant', 'constant_val': 0.034388521115218396, 'use_scaler': False, 'poly_degree': 4}. Best is trial 2 with value: -0.024290639236509086.\n",
      "[I 2025-05-17 10:22:20,790] Trial 6 finished with value: -25.69690321873502 and parameters: {'strategy': 'constant', 'constant_val': 0.18485445552552704, 'use_scaler': False, 'poly_degree': 5}. Best is trial 2 with value: -0.024290639236509086.\n",
      "[I 2025-05-17 10:22:20,842] Trial 7 finished with value: -26.68268540023302 and parameters: {'strategy': 'constant', 'constant_val': 0.0884925020519195, 'use_scaler': False, 'poly_degree': 2}. Best is trial 2 with value: -0.024290639236509086.\n",
      "[I 2025-05-17 10:22:20,897] Trial 8 finished with value: -23.98449257447841 and parameters: {'strategy': 'constant', 'constant_val': 0.3567533266935893, 'use_scaler': True, 'with_mean': False, 'with_std': False, 'poly_degree': 4}. Best is trial 2 with value: -0.024290639236509086.\n",
      "[I 2025-05-17 10:22:20,953] Trial 9 finished with value: -20.679605168660864 and parameters: {'strategy': 'constant', 'constant_val': 0.7068573438476171, 'use_scaler': True, 'with_mean': False, 'with_std': False, 'poly_degree': 4}. Best is trial 2 with value: -0.024290639236509086.\n",
      "[I 2025-05-17 10:22:21,000] Trial 10 finished with value: -0.024290639236509086 and parameters: {'strategy': 'mean', 'use_scaler': True, 'with_mean': False, 'with_std': True, 'poly_degree': 4}. Best is trial 2 with value: -0.024290639236509086.\n",
      "[I 2025-05-17 10:22:21,053] Trial 11 finished with value: -22.661652080058992 and parameters: {'strategy': 'constant', 'constant_val': 0.49379559636439074, 'use_scaler': False, 'poly_degree': 1}. Best is trial 2 with value: -0.024290639236509086.\n",
      "[I 2025-05-17 10:22:21,107] Trial 12 finished with value: -24.401353087204043 and parameters: {'strategy': 'constant', 'constant_val': 0.3143559810763267, 'use_scaler': True, 'with_mean': False, 'with_std': True, 'poly_degree': 1}. Best is trial 2 with value: -0.024290639236509086.\n",
      "[I 2025-05-17 10:22:21,162] Trial 13 finished with value: -19.769416247048525 and parameters: {'strategy': 'constant', 'constant_val': 0.808120379564417, 'use_scaler': True, 'with_mean': True, 'with_std': True, 'poly_degree': 5}. Best is trial 2 with value: -0.024290639236509086.\n",
      "[I 2025-05-17 10:22:21,215] Trial 14 finished with value: -0.024290639236509086 and parameters: {'strategy': 'mean', 'use_scaler': True, 'with_mean': False, 'with_std': False, 'poly_degree': 3}. Best is trial 2 with value: -0.024290639236509086.\n",
      "[I 2025-05-17 10:22:21,258] Trial 15 finished with value: -18.589698211925676 and parameters: {'strategy': 'constant', 'constant_val': 0.9429097039125192, 'use_scaler': True, 'with_mean': True, 'with_std': True, 'poly_degree': 2}. Best is trial 2 with value: -0.024290639236509086.\n",
      "[I 2025-05-17 10:22:21,301] Trial 16 finished with value: -0.024290639236509086 and parameters: {'strategy': 'mean', 'use_scaler': True, 'with_mean': True, 'with_std': False, 'poly_degree': 2}. Best is trial 2 with value: -0.024290639236509086.\n",
      "[I 2025-05-17 10:22:21,355] Trial 17 finished with value: -25.120523144584887 and parameters: {'strategy': 'constant', 'constant_val': 0.2420552715115004, 'use_scaler': True, 'with_mean': False, 'with_std': False, 'poly_degree': 4}. Best is trial 2 with value: -0.024290639236509086.\n",
      "[I 2025-05-17 10:22:21,409] Trial 18 finished with value: -24.33795891257963 and parameters: {'strategy': 'constant', 'constant_val': 0.32078006497173583, 'use_scaler': False, 'poly_degree': 3}. Best is trial 2 with value: -0.024290639236509086.\n",
      "[I 2025-05-17 10:22:21,462] Trial 19 finished with value: -0.024290639236509086 and parameters: {'strategy': 'mean', 'use_scaler': True, 'with_mean': False, 'with_std': False, 'poly_degree': 1}. Best is trial 2 with value: -0.024290639236509086.\n",
      "[I 2025-05-17 10:22:21,518] Trial 20 finished with value: -19.159051574945284 and parameters: {'strategy': 'constant', 'constant_val': 0.877339353380981, 'use_scaler': True, 'with_mean': True, 'with_std': True, 'poly_degree': 1}. Best is trial 2 with value: -0.024290639236509086.\n",
      "[I 2025-05-17 10:22:21,572] Trial 21 finished with value: -0.024529403559009882 and parameters: {'strategy': 'median', 'use_scaler': True, 'with_mean': False, 'with_std': True, 'poly_degree': 4}. Best is trial 2 with value: -0.024290639236509086.\n",
      "[I 2025-05-17 10:22:21,625] Trial 22 finished with value: -21.602546553727045 and parameters: {'strategy': 'constant', 'constant_val': 0.6064290596595899, 'use_scaler': True, 'with_mean': True, 'with_std': False, 'poly_degree': 4}. Best is trial 2 with value: -0.024290639236509086.\n",
      "[I 2025-05-17 10:22:21,678] Trial 23 finished with value: -25.168700507832447 and parameters: {'strategy': 'constant', 'constant_val': 0.23724908749680007, 'use_scaler': True, 'with_mean': False, 'with_std': True, 'poly_degree': 1}. Best is trial 2 with value: -0.024290639236509086.\n",
      "[I 2025-05-17 10:22:21,742] Trial 24 finished with value: -0.024290639236509086 and parameters: {'strategy': 'mean', 'use_scaler': False, 'poly_degree': 5}. Best is trial 2 with value: -0.024290639236509086.\n",
      "[I 2025-05-17 10:22:21,795] Trial 25 finished with value: -0.024529403559009882 and parameters: {'strategy': 'median', 'use_scaler': False, 'poly_degree': 1}. Best is trial 2 with value: -0.024290639236509086.\n",
      "[I 2025-05-17 10:22:21,853] Trial 26 finished with value: -0.024290639236509086 and parameters: {'strategy': 'mean', 'use_scaler': False, 'poly_degree': 5}. Best is trial 2 with value: -0.024290639236509086.\n",
      "[I 2025-05-17 10:22:21,910] Trial 27 finished with value: -0.024290639236509086 and parameters: {'strategy': 'mean', 'use_scaler': True, 'with_mean': False, 'with_std': True, 'poly_degree': 2}. Best is trial 2 with value: -0.024290639236509086.\n",
      "[I 2025-05-17 10:22:21,965] Trial 28 finished with value: -0.024529403559009882 and parameters: {'strategy': 'median', 'use_scaler': True, 'with_mean': True, 'with_std': True, 'poly_degree': 4}. Best is trial 2 with value: -0.024290639236509086.\n",
      "[I 2025-05-17 10:22:22,020] Trial 29 finished with value: -0.024290639236509086 and parameters: {'strategy': 'mean', 'use_scaler': False, 'poly_degree': 4}. Best is trial 2 with value: -0.024290639236509086.\n",
      "[I 2025-05-17 10:22:22,071] Trial 30 finished with value: -0.024290639236509086 and parameters: {'strategy': 'mean', 'use_scaler': True, 'with_mean': False, 'with_std': True, 'poly_degree': 4}. Best is trial 2 with value: -0.024290639236509086.\n",
      "[I 2025-05-17 10:22:22,125] Trial 31 finished with value: -19.048401550506547 and parameters: {'strategy': 'constant', 'constant_val': 0.8900053418175663, 'use_scaler': True, 'with_mean': False, 'with_std': False, 'poly_degree': 3}. Best is trial 2 with value: -0.024290639236509086.\n",
      "[I 2025-05-17 10:22:22,179] Trial 32 finished with value: -0.024529403559009882 and parameters: {'strategy': 'median', 'use_scaler': True, 'with_mean': True, 'with_std': False, 'poly_degree': 2}. Best is trial 2 with value: -0.024290639236509086.\n",
      "[I 2025-05-17 10:22:22,235] Trial 33 finished with value: -0.024290639236509086 and parameters: {'strategy': 'mean', 'use_scaler': True, 'with_mean': False, 'with_std': True, 'poly_degree': 2}. Best is trial 2 with value: -0.024290639236509086.\n",
      "[I 2025-05-17 10:22:22,290] Trial 34 finished with value: -0.024290639236509086 and parameters: {'strategy': 'mean', 'use_scaler': False, 'poly_degree': 5}. Best is trial 2 with value: -0.024290639236509086.\n",
      "[I 2025-05-17 10:22:22,343] Trial 35 finished with value: -0.024290639236509086 and parameters: {'strategy': 'mean', 'use_scaler': False, 'poly_degree': 2}. Best is trial 2 with value: -0.024290639236509086.\n",
      "[I 2025-05-17 10:22:22,393] Trial 36 finished with value: -0.024529403559009882 and parameters: {'strategy': 'median', 'use_scaler': True, 'with_mean': True, 'with_std': True, 'poly_degree': 2}. Best is trial 2 with value: -0.024290639236509086.\n",
      "[I 2025-05-17 10:22:22,436] Trial 37 finished with value: -0.024529403559009882 and parameters: {'strategy': 'median', 'use_scaler': False, 'poly_degree': 1}. Best is trial 2 with value: -0.024290639236509086.\n",
      "[I 2025-05-17 10:22:22,488] Trial 38 finished with value: -0.024290639236509086 and parameters: {'strategy': 'mean', 'use_scaler': True, 'with_mean': True, 'with_std': True, 'poly_degree': 4}. Best is trial 2 with value: -0.024290639236509086.\n",
      "[I 2025-05-17 10:22:22,542] Trial 39 finished with value: -0.024290639236509086 and parameters: {'strategy': 'mean', 'use_scaler': False, 'poly_degree': 5}. Best is trial 2 with value: -0.024290639236509086.\n",
      "[I 2025-05-17 10:22:22,594] Trial 40 finished with value: -0.024290639236509086 and parameters: {'strategy': 'mean', 'use_scaler': False, 'poly_degree': 3}. Best is trial 2 with value: -0.024290639236509086.\n",
      "[I 2025-05-17 10:22:22,646] Trial 41 finished with value: -0.024290639236509086 and parameters: {'strategy': 'mean', 'use_scaler': False, 'poly_degree': 3}. Best is trial 2 with value: -0.024290639236509086.\n",
      "[I 2025-05-17 10:22:22,698] Trial 42 finished with value: -18.914774911362095 and parameters: {'strategy': 'constant', 'constant_val': 0.9053506419560637, 'use_scaler': False, 'poly_degree': 1}. Best is trial 2 with value: -0.024290639236509086.\n",
      "[I 2025-05-17 10:22:22,753] Trial 43 finished with value: -26.86167057076143 and parameters: {'strategy': 'constant', 'constant_val': 0.07118864846022899, 'use_scaler': True, 'with_mean': False, 'with_std': True, 'poly_degree': 4}. Best is trial 2 with value: -0.024290639236509086.\n",
      "[I 2025-05-17 10:22:22,809] Trial 44 finished with value: -0.024529403559009882 and parameters: {'strategy': 'median', 'use_scaler': False, 'poly_degree': 1}. Best is trial 2 with value: -0.024290639236509086.\n",
      "[I 2025-05-17 10:22:22,860] Trial 45 finished with value: -23.440710682085182 and parameters: {'strategy': 'constant', 'constant_val': 0.4126176769114265, 'use_scaler': True, 'with_mean': False, 'with_std': True, 'poly_degree': 4}. Best is trial 2 with value: -0.024290639236509086.\n",
      "[I 2025-05-17 10:22:22,914] Trial 46 finished with value: -22.552763526351917 and parameters: {'strategy': 'constant', 'constant_val': 0.5052523724478571, 'use_scaler': False, 'poly_degree': 5}. Best is trial 2 with value: -0.024290639236509086.\n",
      "[I 2025-05-17 10:22:22,970] Trial 47 finished with value: -26.653839565450284 and parameters: {'strategy': 'constant', 'constant_val': 0.09128667678613356, 'use_scaler': True, 'with_mean': True, 'with_std': True, 'poly_degree': 2}. Best is trial 2 with value: -0.024290639236509086.\n",
      "[I 2025-05-17 10:22:23,023] Trial 48 finished with value: -19.916694367670896 and parameters: {'strategy': 'constant', 'constant_val': 0.7915790437258485, 'use_scaler': False, 'poly_degree': 3}. Best is trial 2 with value: -0.024290639236509086.\n",
      "[I 2025-05-17 10:22:23,077] Trial 49 finished with value: -0.024529403559009882 and parameters: {'strategy': 'median', 'use_scaler': False, 'poly_degree': 1}. Best is trial 2 with value: -0.024290639236509086.\n",
      "[I 2025-05-17 10:22:23,132] Trial 50 finished with value: -0.024529403559009882 and parameters: {'strategy': 'median', 'use_scaler': False, 'poly_degree': 4}. Best is trial 2 with value: -0.024290639236509086.\n",
      "[I 2025-05-17 10:22:23,188] Trial 51 finished with value: -0.024529403559009882 and parameters: {'strategy': 'median', 'use_scaler': True, 'with_mean': True, 'with_std': False, 'poly_degree': 5}. Best is trial 2 with value: -0.024290639236509086.\n",
      "[I 2025-05-17 10:22:23,243] Trial 52 finished with value: -0.024290639236509086 and parameters: {'strategy': 'mean', 'use_scaler': True, 'with_mean': True, 'with_std': True, 'poly_degree': 3}. Best is trial 2 with value: -0.024290639236509086.\n",
      "[I 2025-05-17 10:22:23,299] Trial 53 finished with value: -0.024529403559009882 and parameters: {'strategy': 'median', 'use_scaler': False, 'poly_degree': 4}. Best is trial 2 with value: -0.024290639236509086.\n",
      "[I 2025-05-17 10:22:23,356] Trial 54 finished with value: -23.807455910655545 and parameters: {'strategy': 'constant', 'constant_val': 0.37487057952370406, 'use_scaler': True, 'with_mean': False, 'with_std': False, 'poly_degree': 1}. Best is trial 2 with value: -0.024290639236509086.\n",
      "[I 2025-05-17 10:22:23,408] Trial 55 finished with value: -26.834656846891072 and parameters: {'strategy': 'constant', 'constant_val': 0.07379656473539886, 'use_scaler': True, 'with_mean': False, 'with_std': True, 'poly_degree': 4}. Best is trial 2 with value: -0.024290639236509086.\n",
      "[I 2025-05-17 10:22:23,465] Trial 56 finished with value: -0.024529403559009882 and parameters: {'strategy': 'median', 'use_scaler': True, 'with_mean': True, 'with_std': True, 'poly_degree': 1}. Best is trial 2 with value: -0.024290639236509086.\n",
      "[I 2025-05-17 10:22:23,514] Trial 57 finished with value: -26.79389067336124 and parameters: {'strategy': 'constant', 'constant_val': 0.07773463696498484, 'use_scaler': True, 'with_mean': True, 'with_std': False, 'poly_degree': 4}. Best is trial 2 with value: -0.024290639236509086.\n",
      "[I 2025-05-17 10:22:23,570] Trial 58 finished with value: -0.024529403559009882 and parameters: {'strategy': 'median', 'use_scaler': False, 'poly_degree': 4}. Best is trial 2 with value: -0.024290639236509086.\n",
      "[I 2025-05-17 10:22:23,624] Trial 59 finished with value: -0.024529403559009882 and parameters: {'strategy': 'median', 'use_scaler': False, 'poly_degree': 2}. Best is trial 2 with value: -0.024290639236509086.\n",
      "[I 2025-05-17 10:22:23,677] Trial 60 finished with value: -0.024529403559009882 and parameters: {'strategy': 'median', 'use_scaler': False, 'poly_degree': 5}. Best is trial 2 with value: -0.024290639236509086.\n",
      "[I 2025-05-17 10:22:23,729] Trial 61 finished with value: -0.024290639236509086 and parameters: {'strategy': 'mean', 'use_scaler': False, 'poly_degree': 1}. Best is trial 2 with value: -0.024290639236509086.\n",
      "[I 2025-05-17 10:22:23,772] Trial 62 finished with value: -18.12959010252375 and parameters: {'strategy': 'constant', 'constant_val': 0.9966368370739054, 'use_scaler': True, 'with_mean': True, 'with_std': False, 'poly_degree': 1}. Best is trial 2 with value: -0.024290639236509086.\n",
      "[I 2025-05-17 10:22:23,825] Trial 63 finished with value: -0.024290639236509086 and parameters: {'strategy': 'mean', 'use_scaler': False, 'poly_degree': 2}. Best is trial 2 with value: -0.024290639236509086.\n",
      "[I 2025-05-17 10:22:23,890] Trial 64 finished with value: -0.024529403559009882 and parameters: {'strategy': 'median', 'use_scaler': False, 'poly_degree': 5}. Best is trial 2 with value: -0.024290639236509086.\n",
      "[I 2025-05-17 10:22:23,960] Trial 65 finished with value: -23.529201787157447 and parameters: {'strategy': 'constant', 'constant_val': 0.40348286621239704, 'use_scaler': False, 'poly_degree': 4}. Best is trial 2 with value: -0.024290639236509086.\n",
      "[I 2025-05-17 10:22:24,021] Trial 66 finished with value: -0.024529403559009882 and parameters: {'strategy': 'median', 'use_scaler': False, 'poly_degree': 2}. Best is trial 2 with value: -0.024290639236509086.\n",
      "[I 2025-05-17 10:22:24,075] Trial 67 finished with value: -0.024290639236509086 and parameters: {'strategy': 'mean', 'use_scaler': False, 'poly_degree': 3}. Best is trial 2 with value: -0.024290639236509086.\n",
      "[I 2025-05-17 10:22:24,125] Trial 68 finished with value: -0.024290639236509086 and parameters: {'strategy': 'mean', 'use_scaler': True, 'with_mean': False, 'with_std': True, 'poly_degree': 3}. Best is trial 2 with value: -0.024290639236509086.\n",
      "[I 2025-05-17 10:22:24,177] Trial 69 finished with value: -0.024290639236509086 and parameters: {'strategy': 'mean', 'use_scaler': False, 'poly_degree': 1}. Best is trial 2 with value: -0.024290639236509086.\n",
      "[I 2025-05-17 10:22:24,232] Trial 70 finished with value: -26.165445266633856 and parameters: {'strategy': 'constant', 'constant_val': 0.13882717264941014, 'use_scaler': False, 'poly_degree': 2}. Best is trial 2 with value: -0.024290639236509086.\n",
      "[I 2025-05-17 10:22:24,289] Trial 71 finished with value: -0.024290639236509086 and parameters: {'strategy': 'mean', 'use_scaler': True, 'with_mean': False, 'with_std': True, 'poly_degree': 1}. Best is trial 2 with value: -0.024290639236509086.\n",
      "[I 2025-05-17 10:22:24,345] Trial 72 finished with value: -0.024529403559009882 and parameters: {'strategy': 'median', 'use_scaler': True, 'with_mean': True, 'with_std': True, 'poly_degree': 1}. Best is trial 2 with value: -0.024290639236509086.\n",
      "[I 2025-05-17 10:22:24,400] Trial 73 finished with value: -0.024529403559009882 and parameters: {'strategy': 'median', 'use_scaler': True, 'with_mean': True, 'with_std': False, 'poly_degree': 3}. Best is trial 2 with value: -0.024290639236509086.\n",
      "[I 2025-05-17 10:22:24,450] Trial 74 finished with value: -0.024290639236509086 and parameters: {'strategy': 'mean', 'use_scaler': False, 'poly_degree': 2}. Best is trial 2 with value: -0.024290639236509086.\n",
      "[I 2025-05-17 10:22:24,507] Trial 75 finished with value: -0.024529403559009882 and parameters: {'strategy': 'median', 'use_scaler': False, 'poly_degree': 3}. Best is trial 2 with value: -0.024290639236509086.\n",
      "[I 2025-05-17 10:22:24,572] Trial 76 finished with value: -0.024290639236509086 and parameters: {'strategy': 'mean', 'use_scaler': False, 'poly_degree': 2}. Best is trial 2 with value: -0.024290639236509086.\n",
      "[I 2025-05-17 10:22:24,627] Trial 77 finished with value: -0.024529403559009882 and parameters: {'strategy': 'median', 'use_scaler': False, 'poly_degree': 4}. Best is trial 2 with value: -0.024290639236509086.\n",
      "[I 2025-05-17 10:22:24,686] Trial 78 finished with value: -0.024290639236509086 and parameters: {'strategy': 'mean', 'use_scaler': True, 'with_mean': True, 'with_std': False, 'poly_degree': 2}. Best is trial 2 with value: -0.024290639236509086.\n",
      "[I 2025-05-17 10:22:24,746] Trial 79 finished with value: -0.024290639236509086 and parameters: {'strategy': 'mean', 'use_scaler': False, 'poly_degree': 2}. Best is trial 2 with value: -0.024290639236509086.\n",
      "[I 2025-05-17 10:22:24,799] Trial 80 finished with value: -25.94244867164282 and parameters: {'strategy': 'constant', 'constant_val': 0.16068137325955567, 'use_scaler': True, 'with_mean': False, 'with_std': False, 'poly_degree': 3}. Best is trial 2 with value: -0.024290639236509086.\n",
      "[I 2025-05-17 10:22:24,855] Trial 81 finished with value: -0.024290639236509086 and parameters: {'strategy': 'mean', 'use_scaler': False, 'poly_degree': 5}. Best is trial 2 with value: -0.024290639236509086.\n",
      "[I 2025-05-17 10:22:24,919] Trial 82 finished with value: -18.706508448746902 and parameters: {'strategy': 'constant', 'constant_val': 0.9293759891275858, 'use_scaler': True, 'with_mean': False, 'with_std': False, 'poly_degree': 3}. Best is trial 2 with value: -0.024290639236509086.\n",
      "[I 2025-05-17 10:22:24,984] Trial 83 finished with value: -0.024290639236509086 and parameters: {'strategy': 'mean', 'use_scaler': False, 'poly_degree': 3}. Best is trial 2 with value: -0.024290639236509086.\n",
      "[I 2025-05-17 10:22:25,055] Trial 84 finished with value: -27.0626867913775 and parameters: {'strategy': 'constant', 'constant_val': 0.05182353682242691, 'use_scaler': False, 'poly_degree': 1}. Best is trial 2 with value: -0.024290639236509086.\n",
      "[I 2025-05-17 10:22:25,129] Trial 85 finished with value: -0.024290639236509086 and parameters: {'strategy': 'mean', 'use_scaler': True, 'with_mean': True, 'with_std': True, 'poly_degree': 2}. Best is trial 2 with value: -0.024290639236509086.\n",
      "[I 2025-05-17 10:22:25,214] Trial 86 finished with value: -26.314235089024663 and parameters: {'strategy': 'constant', 'constant_val': 0.12429722348554473, 'use_scaler': True, 'with_mean': True, 'with_std': True, 'poly_degree': 5}. Best is trial 2 with value: -0.024290639236509086.\n",
      "[I 2025-05-17 10:22:25,285] Trial 87 finished with value: -0.024529403559009882 and parameters: {'strategy': 'median', 'use_scaler': True, 'with_mean': True, 'with_std': True, 'poly_degree': 5}. Best is trial 2 with value: -0.024290639236509086.\n",
      "[I 2025-05-17 10:22:25,368] Trial 88 finished with value: -0.024529403559009882 and parameters: {'strategy': 'median', 'use_scaler': True, 'with_mean': False, 'with_std': True, 'poly_degree': 5}. Best is trial 2 with value: -0.024290639236509086.\n",
      "[I 2025-05-17 10:22:25,439] Trial 89 finished with value: -21.437410099801415 and parameters: {'strategy': 'constant', 'constant_val': 0.6242379959139921, 'use_scaler': True, 'with_mean': True, 'with_std': False, 'poly_degree': 4}. Best is trial 2 with value: -0.024290639236509086.\n",
      "[I 2025-05-17 10:22:25,510] Trial 90 finished with value: -0.024529403559009882 and parameters: {'strategy': 'median', 'use_scaler': True, 'with_mean': False, 'with_std': False, 'poly_degree': 4}. Best is trial 2 with value: -0.024290639236509086.\n",
      "[I 2025-05-17 10:22:25,583] Trial 91 finished with value: -0.024290639236509086 and parameters: {'strategy': 'mean', 'use_scaler': True, 'with_mean': False, 'with_std': True, 'poly_degree': 2}. Best is trial 2 with value: -0.024290639236509086.\n",
      "[I 2025-05-17 10:22:25,652] Trial 92 finished with value: -0.024290639236509086 and parameters: {'strategy': 'mean', 'use_scaler': False, 'poly_degree': 2}. Best is trial 2 with value: -0.024290639236509086.\n",
      "[I 2025-05-17 10:22:25,722] Trial 93 finished with value: -21.81710457760899 and parameters: {'strategy': 'constant', 'constant_val': 0.5833917947661205, 'use_scaler': True, 'with_mean': True, 'with_std': True, 'poly_degree': 4}. Best is trial 2 with value: -0.024290639236509086.\n",
      "[I 2025-05-17 10:22:25,790] Trial 94 finished with value: -21.987910520588443 and parameters: {'strategy': 'constant', 'constant_val': 0.5651331835892089, 'use_scaler': True, 'with_mean': True, 'with_std': False, 'poly_degree': 3}. Best is trial 2 with value: -0.024290639236509086.\n",
      "[I 2025-05-17 10:22:25,860] Trial 95 finished with value: -0.024529403559009882 and parameters: {'strategy': 'median', 'use_scaler': False, 'poly_degree': 5}. Best is trial 2 with value: -0.024290639236509086.\n",
      "[I 2025-05-17 10:22:25,928] Trial 96 finished with value: -19.224223188367475 and parameters: {'strategy': 'constant', 'constant_val': 0.8698963620621283, 'use_scaler': True, 'with_mean': True, 'with_std': False, 'poly_degree': 1}. Best is trial 2 with value: -0.024290639236509086.\n",
      "[I 2025-05-17 10:22:25,985] Trial 97 finished with value: -18.788898792885906 and parameters: {'strategy': 'constant', 'constant_val': 0.9198556164127605, 'use_scaler': True, 'with_mean': True, 'with_std': False, 'poly_degree': 1}. Best is trial 2 with value: -0.024290639236509086.\n",
      "[I 2025-05-17 10:22:26,040] Trial 98 finished with value: -0.024529403559009882 and parameters: {'strategy': 'median', 'use_scaler': False, 'poly_degree': 3}. Best is trial 2 with value: -0.024290639236509086.\n",
      "[I 2025-05-17 10:22:26,094] Trial 99 finished with value: -25.766045763949545 and parameters: {'strategy': 'constant', 'constant_val': 0.17803596686975143, 'use_scaler': False, 'poly_degree': 3}. Best is trial 2 with value: -0.024290639236509086.\n"
     ]
    }
   ],
   "source": [
    "study.optimize(objective, n_trials=100)"
   ]
  },
  {
   "cell_type": "code",
   "execution_count": 19,
   "metadata": {},
   "outputs": [
    {
     "data": {
      "application/vnd.plotly.v1+json": {
       "config": {
        "plotlyServerURL": "https://plot.ly"
       },
       "data": [
        {
         "mode": "markers",
         "name": "Objective Value",
         "type": "scatter",
         "x": [
          0,
          1,
          2,
          3,
          4,
          5,
          6,
          7,
          8,
          9,
          10,
          11,
          12,
          13,
          14,
          15,
          16,
          17,
          18,
          19,
          20,
          21,
          22,
          23,
          24,
          25,
          26,
          27,
          28,
          29,
          30,
          31,
          32,
          33,
          34,
          35,
          36,
          37,
          38,
          39,
          40,
          41,
          42,
          43,
          44,
          45,
          46,
          47,
          48,
          49,
          50,
          51,
          52,
          53,
          54,
          55,
          56,
          57,
          58,
          59,
          60,
          61,
          62,
          63,
          64,
          65,
          66,
          67,
          68,
          69,
          70,
          71,
          72,
          73,
          74,
          75,
          76,
          77,
          78,
          79,
          80,
          81,
          82,
          83,
          84,
          85,
          86,
          87,
          88,
          89,
          90,
          91,
          92,
          93,
          94,
          95,
          96,
          97,
          98,
          99
         ],
         "y": [
          -0.024529403559009882,
          -0.024529403559009882,
          -0.024290639236509086,
          -19.97385203085658,
          -0.024529403559009882,
          -27.244309592958263,
          -25.69690321873502,
          -26.68268540023302,
          -23.98449257447841,
          -20.679605168660864,
          -0.024290639236509086,
          -22.661652080058992,
          -24.401353087204043,
          -19.769416247048525,
          -0.024290639236509086,
          -18.589698211925676,
          -0.024290639236509086,
          -25.120523144584887,
          -24.33795891257963,
          -0.024290639236509086,
          -19.159051574945284,
          -0.024529403559009882,
          -21.602546553727045,
          -25.168700507832447,
          -0.024290639236509086,
          -0.024529403559009882,
          -0.024290639236509086,
          -0.024290639236509086,
          -0.024529403559009882,
          -0.024290639236509086,
          -0.024290639236509086,
          -19.048401550506547,
          -0.024529403559009882,
          -0.024290639236509086,
          -0.024290639236509086,
          -0.024290639236509086,
          -0.024529403559009882,
          -0.024529403559009882,
          -0.024290639236509086,
          -0.024290639236509086,
          -0.024290639236509086,
          -0.024290639236509086,
          -18.914774911362095,
          -26.86167057076143,
          -0.024529403559009882,
          -23.440710682085182,
          -22.552763526351917,
          -26.653839565450284,
          -19.916694367670896,
          -0.024529403559009882,
          -0.024529403559009882,
          -0.024529403559009882,
          -0.024290639236509086,
          -0.024529403559009882,
          -23.807455910655545,
          -26.834656846891072,
          -0.024529403559009882,
          -26.79389067336124,
          -0.024529403559009882,
          -0.024529403559009882,
          -0.024529403559009882,
          -0.024290639236509086,
          -18.12959010252375,
          -0.024290639236509086,
          -0.024529403559009882,
          -23.529201787157447,
          -0.024529403559009882,
          -0.024290639236509086,
          -0.024290639236509086,
          -0.024290639236509086,
          -26.165445266633856,
          -0.024290639236509086,
          -0.024529403559009882,
          -0.024529403559009882,
          -0.024290639236509086,
          -0.024529403559009882,
          -0.024290639236509086,
          -0.024529403559009882,
          -0.024290639236509086,
          -0.024290639236509086,
          -25.94244867164282,
          -0.024290639236509086,
          -18.706508448746902,
          -0.024290639236509086,
          -27.0626867913775,
          -0.024290639236509086,
          -26.314235089024663,
          -0.024529403559009882,
          -0.024529403559009882,
          -21.437410099801415,
          -0.024529403559009882,
          -0.024290639236509086,
          -0.024290639236509086,
          -21.81710457760899,
          -21.987910520588443,
          -0.024529403559009882,
          -19.224223188367475,
          -18.788898792885906,
          -0.024529403559009882,
          -25.766045763949545
         ]
        },
        {
         "mode": "lines",
         "name": "Best Value",
         "type": "scatter",
         "x": [
          0,
          1,
          2,
          3,
          4,
          5,
          6,
          7,
          8,
          9,
          10,
          11,
          12,
          13,
          14,
          15,
          16,
          17,
          18,
          19,
          20,
          21,
          22,
          23,
          24,
          25,
          26,
          27,
          28,
          29,
          30,
          31,
          32,
          33,
          34,
          35,
          36,
          37,
          38,
          39,
          40,
          41,
          42,
          43,
          44,
          45,
          46,
          47,
          48,
          49,
          50,
          51,
          52,
          53,
          54,
          55,
          56,
          57,
          58,
          59,
          60,
          61,
          62,
          63,
          64,
          65,
          66,
          67,
          68,
          69,
          70,
          71,
          72,
          73,
          74,
          75,
          76,
          77,
          78,
          79,
          80,
          81,
          82,
          83,
          84,
          85,
          86,
          87,
          88,
          89,
          90,
          91,
          92,
          93,
          94,
          95,
          96,
          97,
          98,
          99
         ],
         "y": [
          -0.024529403559009882,
          -0.024529403559009882,
          -0.024290639236509086,
          -0.024290639236509086,
          -0.024290639236509086,
          -0.024290639236509086,
          -0.024290639236509086,
          -0.024290639236509086,
          -0.024290639236509086,
          -0.024290639236509086,
          -0.024290639236509086,
          -0.024290639236509086,
          -0.024290639236509086,
          -0.024290639236509086,
          -0.024290639236509086,
          -0.024290639236509086,
          -0.024290639236509086,
          -0.024290639236509086,
          -0.024290639236509086,
          -0.024290639236509086,
          -0.024290639236509086,
          -0.024290639236509086,
          -0.024290639236509086,
          -0.024290639236509086,
          -0.024290639236509086,
          -0.024290639236509086,
          -0.024290639236509086,
          -0.024290639236509086,
          -0.024290639236509086,
          -0.024290639236509086,
          -0.024290639236509086,
          -0.024290639236509086,
          -0.024290639236509086,
          -0.024290639236509086,
          -0.024290639236509086,
          -0.024290639236509086,
          -0.024290639236509086,
          -0.024290639236509086,
          -0.024290639236509086,
          -0.024290639236509086,
          -0.024290639236509086,
          -0.024290639236509086,
          -0.024290639236509086,
          -0.024290639236509086,
          -0.024290639236509086,
          -0.024290639236509086,
          -0.024290639236509086,
          -0.024290639236509086,
          -0.024290639236509086,
          -0.024290639236509086,
          -0.024290639236509086,
          -0.024290639236509086,
          -0.024290639236509086,
          -0.024290639236509086,
          -0.024290639236509086,
          -0.024290639236509086,
          -0.024290639236509086,
          -0.024290639236509086,
          -0.024290639236509086,
          -0.024290639236509086,
          -0.024290639236509086,
          -0.024290639236509086,
          -0.024290639236509086,
          -0.024290639236509086,
          -0.024290639236509086,
          -0.024290639236509086,
          -0.024290639236509086,
          -0.024290639236509086,
          -0.024290639236509086,
          -0.024290639236509086,
          -0.024290639236509086,
          -0.024290639236509086,
          -0.024290639236509086,
          -0.024290639236509086,
          -0.024290639236509086,
          -0.024290639236509086,
          -0.024290639236509086,
          -0.024290639236509086,
          -0.024290639236509086,
          -0.024290639236509086,
          -0.024290639236509086,
          -0.024290639236509086,
          -0.024290639236509086,
          -0.024290639236509086,
          -0.024290639236509086,
          -0.024290639236509086,
          -0.024290639236509086,
          -0.024290639236509086,
          -0.024290639236509086,
          -0.024290639236509086,
          -0.024290639236509086,
          -0.024290639236509086,
          -0.024290639236509086,
          -0.024290639236509086,
          -0.024290639236509086,
          -0.024290639236509086,
          -0.024290639236509086,
          -0.024290639236509086,
          -0.024290639236509086,
          -0.024290639236509086
         ]
        },
        {
         "marker": {
          "color": "#cccccc"
         },
         "mode": "markers",
         "name": "Infeasible Trial",
         "showlegend": false,
         "type": "scatter",
         "x": [],
         "y": []
        }
       ],
       "layout": {
        "template": {
         "data": {
          "bar": [
           {
            "error_x": {
             "color": "#2a3f5f"
            },
            "error_y": {
             "color": "#2a3f5f"
            },
            "marker": {
             "line": {
              "color": "#E5ECF6",
              "width": 0.5
             },
             "pattern": {
              "fillmode": "overlay",
              "size": 10,
              "solidity": 0.2
             }
            },
            "type": "bar"
           }
          ],
          "barpolar": [
           {
            "marker": {
             "line": {
              "color": "#E5ECF6",
              "width": 0.5
             },
             "pattern": {
              "fillmode": "overlay",
              "size": 10,
              "solidity": 0.2
             }
            },
            "type": "barpolar"
           }
          ],
          "carpet": [
           {
            "aaxis": {
             "endlinecolor": "#2a3f5f",
             "gridcolor": "white",
             "linecolor": "white",
             "minorgridcolor": "white",
             "startlinecolor": "#2a3f5f"
            },
            "baxis": {
             "endlinecolor": "#2a3f5f",
             "gridcolor": "white",
             "linecolor": "white",
             "minorgridcolor": "white",
             "startlinecolor": "#2a3f5f"
            },
            "type": "carpet"
           }
          ],
          "choropleth": [
           {
            "colorbar": {
             "outlinewidth": 0,
             "ticks": ""
            },
            "type": "choropleth"
           }
          ],
          "contour": [
           {
            "colorbar": {
             "outlinewidth": 0,
             "ticks": ""
            },
            "colorscale": [
             [
              0,
              "#0d0887"
             ],
             [
              0.1111111111111111,
              "#46039f"
             ],
             [
              0.2222222222222222,
              "#7201a8"
             ],
             [
              0.3333333333333333,
              "#9c179e"
             ],
             [
              0.4444444444444444,
              "#bd3786"
             ],
             [
              0.5555555555555556,
              "#d8576b"
             ],
             [
              0.6666666666666666,
              "#ed7953"
             ],
             [
              0.7777777777777778,
              "#fb9f3a"
             ],
             [
              0.8888888888888888,
              "#fdca26"
             ],
             [
              1,
              "#f0f921"
             ]
            ],
            "type": "contour"
           }
          ],
          "contourcarpet": [
           {
            "colorbar": {
             "outlinewidth": 0,
             "ticks": ""
            },
            "type": "contourcarpet"
           }
          ],
          "heatmap": [
           {
            "colorbar": {
             "outlinewidth": 0,
             "ticks": ""
            },
            "colorscale": [
             [
              0,
              "#0d0887"
             ],
             [
              0.1111111111111111,
              "#46039f"
             ],
             [
              0.2222222222222222,
              "#7201a8"
             ],
             [
              0.3333333333333333,
              "#9c179e"
             ],
             [
              0.4444444444444444,
              "#bd3786"
             ],
             [
              0.5555555555555556,
              "#d8576b"
             ],
             [
              0.6666666666666666,
              "#ed7953"
             ],
             [
              0.7777777777777778,
              "#fb9f3a"
             ],
             [
              0.8888888888888888,
              "#fdca26"
             ],
             [
              1,
              "#f0f921"
             ]
            ],
            "type": "heatmap"
           }
          ],
          "histogram": [
           {
            "marker": {
             "pattern": {
              "fillmode": "overlay",
              "size": 10,
              "solidity": 0.2
             }
            },
            "type": "histogram"
           }
          ],
          "histogram2d": [
           {
            "colorbar": {
             "outlinewidth": 0,
             "ticks": ""
            },
            "colorscale": [
             [
              0,
              "#0d0887"
             ],
             [
              0.1111111111111111,
              "#46039f"
             ],
             [
              0.2222222222222222,
              "#7201a8"
             ],
             [
              0.3333333333333333,
              "#9c179e"
             ],
             [
              0.4444444444444444,
              "#bd3786"
             ],
             [
              0.5555555555555556,
              "#d8576b"
             ],
             [
              0.6666666666666666,
              "#ed7953"
             ],
             [
              0.7777777777777778,
              "#fb9f3a"
             ],
             [
              0.8888888888888888,
              "#fdca26"
             ],
             [
              1,
              "#f0f921"
             ]
            ],
            "type": "histogram2d"
           }
          ],
          "histogram2dcontour": [
           {
            "colorbar": {
             "outlinewidth": 0,
             "ticks": ""
            },
            "colorscale": [
             [
              0,
              "#0d0887"
             ],
             [
              0.1111111111111111,
              "#46039f"
             ],
             [
              0.2222222222222222,
              "#7201a8"
             ],
             [
              0.3333333333333333,
              "#9c179e"
             ],
             [
              0.4444444444444444,
              "#bd3786"
             ],
             [
              0.5555555555555556,
              "#d8576b"
             ],
             [
              0.6666666666666666,
              "#ed7953"
             ],
             [
              0.7777777777777778,
              "#fb9f3a"
             ],
             [
              0.8888888888888888,
              "#fdca26"
             ],
             [
              1,
              "#f0f921"
             ]
            ],
            "type": "histogram2dcontour"
           }
          ],
          "mesh3d": [
           {
            "colorbar": {
             "outlinewidth": 0,
             "ticks": ""
            },
            "type": "mesh3d"
           }
          ],
          "parcoords": [
           {
            "line": {
             "colorbar": {
              "outlinewidth": 0,
              "ticks": ""
             }
            },
            "type": "parcoords"
           }
          ],
          "pie": [
           {
            "automargin": true,
            "type": "pie"
           }
          ],
          "scatter": [
           {
            "fillpattern": {
             "fillmode": "overlay",
             "size": 10,
             "solidity": 0.2
            },
            "type": "scatter"
           }
          ],
          "scatter3d": [
           {
            "line": {
             "colorbar": {
              "outlinewidth": 0,
              "ticks": ""
             }
            },
            "marker": {
             "colorbar": {
              "outlinewidth": 0,
              "ticks": ""
             }
            },
            "type": "scatter3d"
           }
          ],
          "scattercarpet": [
           {
            "marker": {
             "colorbar": {
              "outlinewidth": 0,
              "ticks": ""
             }
            },
            "type": "scattercarpet"
           }
          ],
          "scattergeo": [
           {
            "marker": {
             "colorbar": {
              "outlinewidth": 0,
              "ticks": ""
             }
            },
            "type": "scattergeo"
           }
          ],
          "scattergl": [
           {
            "marker": {
             "colorbar": {
              "outlinewidth": 0,
              "ticks": ""
             }
            },
            "type": "scattergl"
           }
          ],
          "scattermap": [
           {
            "marker": {
             "colorbar": {
              "outlinewidth": 0,
              "ticks": ""
             }
            },
            "type": "scattermap"
           }
          ],
          "scattermapbox": [
           {
            "marker": {
             "colorbar": {
              "outlinewidth": 0,
              "ticks": ""
             }
            },
            "type": "scattermapbox"
           }
          ],
          "scatterpolar": [
           {
            "marker": {
             "colorbar": {
              "outlinewidth": 0,
              "ticks": ""
             }
            },
            "type": "scatterpolar"
           }
          ],
          "scatterpolargl": [
           {
            "marker": {
             "colorbar": {
              "outlinewidth": 0,
              "ticks": ""
             }
            },
            "type": "scatterpolargl"
           }
          ],
          "scatterternary": [
           {
            "marker": {
             "colorbar": {
              "outlinewidth": 0,
              "ticks": ""
             }
            },
            "type": "scatterternary"
           }
          ],
          "surface": [
           {
            "colorbar": {
             "outlinewidth": 0,
             "ticks": ""
            },
            "colorscale": [
             [
              0,
              "#0d0887"
             ],
             [
              0.1111111111111111,
              "#46039f"
             ],
             [
              0.2222222222222222,
              "#7201a8"
             ],
             [
              0.3333333333333333,
              "#9c179e"
             ],
             [
              0.4444444444444444,
              "#bd3786"
             ],
             [
              0.5555555555555556,
              "#d8576b"
             ],
             [
              0.6666666666666666,
              "#ed7953"
             ],
             [
              0.7777777777777778,
              "#fb9f3a"
             ],
             [
              0.8888888888888888,
              "#fdca26"
             ],
             [
              1,
              "#f0f921"
             ]
            ],
            "type": "surface"
           }
          ],
          "table": [
           {
            "cells": {
             "fill": {
              "color": "#EBF0F8"
             },
             "line": {
              "color": "white"
             }
            },
            "header": {
             "fill": {
              "color": "#C8D4E3"
             },
             "line": {
              "color": "white"
             }
            },
            "type": "table"
           }
          ]
         },
         "layout": {
          "annotationdefaults": {
           "arrowcolor": "#2a3f5f",
           "arrowhead": 0,
           "arrowwidth": 1
          },
          "autotypenumbers": "strict",
          "coloraxis": {
           "colorbar": {
            "outlinewidth": 0,
            "ticks": ""
           }
          },
          "colorscale": {
           "diverging": [
            [
             0,
             "#8e0152"
            ],
            [
             0.1,
             "#c51b7d"
            ],
            [
             0.2,
             "#de77ae"
            ],
            [
             0.3,
             "#f1b6da"
            ],
            [
             0.4,
             "#fde0ef"
            ],
            [
             0.5,
             "#f7f7f7"
            ],
            [
             0.6,
             "#e6f5d0"
            ],
            [
             0.7,
             "#b8e186"
            ],
            [
             0.8,
             "#7fbc41"
            ],
            [
             0.9,
             "#4d9221"
            ],
            [
             1,
             "#276419"
            ]
           ],
           "sequential": [
            [
             0,
             "#0d0887"
            ],
            [
             0.1111111111111111,
             "#46039f"
            ],
            [
             0.2222222222222222,
             "#7201a8"
            ],
            [
             0.3333333333333333,
             "#9c179e"
            ],
            [
             0.4444444444444444,
             "#bd3786"
            ],
            [
             0.5555555555555556,
             "#d8576b"
            ],
            [
             0.6666666666666666,
             "#ed7953"
            ],
            [
             0.7777777777777778,
             "#fb9f3a"
            ],
            [
             0.8888888888888888,
             "#fdca26"
            ],
            [
             1,
             "#f0f921"
            ]
           ],
           "sequentialminus": [
            [
             0,
             "#0d0887"
            ],
            [
             0.1111111111111111,
             "#46039f"
            ],
            [
             0.2222222222222222,
             "#7201a8"
            ],
            [
             0.3333333333333333,
             "#9c179e"
            ],
            [
             0.4444444444444444,
             "#bd3786"
            ],
            [
             0.5555555555555556,
             "#d8576b"
            ],
            [
             0.6666666666666666,
             "#ed7953"
            ],
            [
             0.7777777777777778,
             "#fb9f3a"
            ],
            [
             0.8888888888888888,
             "#fdca26"
            ],
            [
             1,
             "#f0f921"
            ]
           ]
          },
          "colorway": [
           "#636efa",
           "#EF553B",
           "#00cc96",
           "#ab63fa",
           "#FFA15A",
           "#19d3f3",
           "#FF6692",
           "#B6E880",
           "#FF97FF",
           "#FECB52"
          ],
          "font": {
           "color": "#2a3f5f"
          },
          "geo": {
           "bgcolor": "white",
           "lakecolor": "white",
           "landcolor": "#E5ECF6",
           "showlakes": true,
           "showland": true,
           "subunitcolor": "white"
          },
          "hoverlabel": {
           "align": "left"
          },
          "hovermode": "closest",
          "mapbox": {
           "style": "light"
          },
          "paper_bgcolor": "white",
          "plot_bgcolor": "#E5ECF6",
          "polar": {
           "angularaxis": {
            "gridcolor": "white",
            "linecolor": "white",
            "ticks": ""
           },
           "bgcolor": "#E5ECF6",
           "radialaxis": {
            "gridcolor": "white",
            "linecolor": "white",
            "ticks": ""
           }
          },
          "scene": {
           "xaxis": {
            "backgroundcolor": "#E5ECF6",
            "gridcolor": "white",
            "gridwidth": 2,
            "linecolor": "white",
            "showbackground": true,
            "ticks": "",
            "zerolinecolor": "white"
           },
           "yaxis": {
            "backgroundcolor": "#E5ECF6",
            "gridcolor": "white",
            "gridwidth": 2,
            "linecolor": "white",
            "showbackground": true,
            "ticks": "",
            "zerolinecolor": "white"
           },
           "zaxis": {
            "backgroundcolor": "#E5ECF6",
            "gridcolor": "white",
            "gridwidth": 2,
            "linecolor": "white",
            "showbackground": true,
            "ticks": "",
            "zerolinecolor": "white"
           }
          },
          "shapedefaults": {
           "line": {
            "color": "#2a3f5f"
           }
          },
          "ternary": {
           "aaxis": {
            "gridcolor": "white",
            "linecolor": "white",
            "ticks": ""
           },
           "baxis": {
            "gridcolor": "white",
            "linecolor": "white",
            "ticks": ""
           },
           "bgcolor": "#E5ECF6",
           "caxis": {
            "gridcolor": "white",
            "linecolor": "white",
            "ticks": ""
           }
          },
          "title": {
           "x": 0.05
          },
          "xaxis": {
           "automargin": true,
           "gridcolor": "white",
           "linecolor": "white",
           "ticks": "",
           "title": {
            "standoff": 15
           },
           "zerolinecolor": "white",
           "zerolinewidth": 2
          },
          "yaxis": {
           "automargin": true,
           "gridcolor": "white",
           "linecolor": "white",
           "ticks": "",
           "title": {
            "standoff": 15
           },
           "zerolinecolor": "white",
           "zerolinewidth": 2
          }
         }
        },
        "title": {
         "text": "Optimization History Plot"
        },
        "xaxis": {
         "title": {
          "text": "Trial"
         }
        },
        "yaxis": {
         "title": {
          "text": "Objective Value"
         }
        }
       }
      }
     },
     "metadata": {},
     "output_type": "display_data"
    }
   ],
   "source": [
    "optuna.visualization.plot_optimization_history(study)"
   ]
  },
  {
   "cell_type": "code",
   "execution_count": 20,
   "metadata": {},
   "outputs": [
    {
     "name": "stdout",
     "output_type": "stream",
     "text": [
      "Best Hyperparameters: {'strategy': 'mean', 'use_scaler': True, 'with_mean': True, 'with_std': False, 'poly_degree': 1}\n"
     ]
    }
   ],
   "source": [
    "best_params = study.best_params \n",
    "print(f\"Best Hyperparameters: {best_params}\")"
   ]
  },
  {
   "cell_type": "code",
   "execution_count": 21,
   "metadata": {},
   "outputs": [
    {
     "data": {
      "application/vnd.plotly.v1+json": {
       "config": {
        "plotlyServerURL": "https://plot.ly"
       },
       "data": [
        {
         "marker": {
          "color": [
           0,
           1,
           2,
           3,
           4,
           5,
           6,
           7,
           8,
           9,
           10,
           11,
           12,
           13,
           14,
           15,
           16,
           17,
           18,
           19,
           20,
           21,
           22,
           23,
           24,
           25,
           26,
           27,
           28,
           29,
           30,
           31,
           32,
           33,
           34,
           35,
           36,
           37,
           38,
           39,
           40,
           41,
           42,
           43,
           44,
           45,
           46,
           47,
           48,
           49,
           50,
           51,
           52,
           53,
           54,
           55,
           56,
           57,
           58,
           59,
           60,
           61,
           62,
           63,
           64,
           65,
           66,
           67,
           68,
           69,
           70,
           71,
           72,
           73,
           74,
           75,
           76,
           77,
           78,
           79,
           80,
           81,
           82,
           83,
           84,
           85,
           86,
           87,
           88,
           89,
           90,
           91,
           92,
           93,
           94,
           95,
           96,
           97,
           98,
           99
          ],
          "colorbar": {
           "title": {
            "text": "Trial"
           },
           "x": 1,
           "xpad": 40
          },
          "colorscale": [
           [
            0,
            "rgb(247,251,255)"
           ],
           [
            0.125,
            "rgb(222,235,247)"
           ],
           [
            0.25,
            "rgb(198,219,239)"
           ],
           [
            0.375,
            "rgb(158,202,225)"
           ],
           [
            0.5,
            "rgb(107,174,214)"
           ],
           [
            0.625,
            "rgb(66,146,198)"
           ],
           [
            0.75,
            "rgb(33,113,181)"
           ],
           [
            0.875,
            "rgb(8,81,156)"
           ],
           [
            1,
            "rgb(8,48,107)"
           ]
          ],
          "line": {
           "color": "Grey",
           "width": 0.5
          },
          "showscale": true
         },
         "mode": "markers",
         "name": "Feasible Trial",
         "showlegend": false,
         "type": "scatter",
         "x": [
          1,
          5,
          1,
          1,
          4,
          4,
          5,
          2,
          4,
          4,
          4,
          1,
          1,
          5,
          3,
          2,
          2,
          4,
          3,
          1,
          1,
          4,
          4,
          1,
          5,
          1,
          5,
          2,
          4,
          4,
          4,
          3,
          2,
          2,
          5,
          2,
          2,
          1,
          4,
          5,
          3,
          3,
          1,
          4,
          1,
          4,
          5,
          2,
          3,
          1,
          4,
          5,
          3,
          4,
          1,
          4,
          1,
          4,
          4,
          2,
          5,
          1,
          1,
          2,
          5,
          4,
          2,
          3,
          3,
          1,
          2,
          1,
          1,
          3,
          2,
          3,
          2,
          4,
          2,
          2,
          3,
          5,
          3,
          3,
          1,
          2,
          5,
          5,
          5,
          4,
          4,
          2,
          2,
          4,
          3,
          5,
          1,
          1,
          3,
          3
         ],
         "xaxis": "x",
         "y": [
          -0.024529403559009882,
          -0.024529403559009882,
          -0.024290639236509086,
          -19.97385203085658,
          -0.024529403559009882,
          -27.244309592958263,
          -25.69690321873502,
          -26.68268540023302,
          -23.98449257447841,
          -20.679605168660864,
          -0.024290639236509086,
          -22.661652080058992,
          -24.401353087204043,
          -19.769416247048525,
          -0.024290639236509086,
          -18.589698211925676,
          -0.024290639236509086,
          -25.120523144584887,
          -24.33795891257963,
          -0.024290639236509086,
          -19.159051574945284,
          -0.024529403559009882,
          -21.602546553727045,
          -25.168700507832447,
          -0.024290639236509086,
          -0.024529403559009882,
          -0.024290639236509086,
          -0.024290639236509086,
          -0.024529403559009882,
          -0.024290639236509086,
          -0.024290639236509086,
          -19.048401550506547,
          -0.024529403559009882,
          -0.024290639236509086,
          -0.024290639236509086,
          -0.024290639236509086,
          -0.024529403559009882,
          -0.024529403559009882,
          -0.024290639236509086,
          -0.024290639236509086,
          -0.024290639236509086,
          -0.024290639236509086,
          -18.914774911362095,
          -26.86167057076143,
          -0.024529403559009882,
          -23.440710682085182,
          -22.552763526351917,
          -26.653839565450284,
          -19.916694367670896,
          -0.024529403559009882,
          -0.024529403559009882,
          -0.024529403559009882,
          -0.024290639236509086,
          -0.024529403559009882,
          -23.807455910655545,
          -26.834656846891072,
          -0.024529403559009882,
          -26.79389067336124,
          -0.024529403559009882,
          -0.024529403559009882,
          -0.024529403559009882,
          -0.024290639236509086,
          -18.12959010252375,
          -0.024290639236509086,
          -0.024529403559009882,
          -23.529201787157447,
          -0.024529403559009882,
          -0.024290639236509086,
          -0.024290639236509086,
          -0.024290639236509086,
          -26.165445266633856,
          -0.024290639236509086,
          -0.024529403559009882,
          -0.024529403559009882,
          -0.024290639236509086,
          -0.024529403559009882,
          -0.024290639236509086,
          -0.024529403559009882,
          -0.024290639236509086,
          -0.024290639236509086,
          -25.94244867164282,
          -0.024290639236509086,
          -18.706508448746902,
          -0.024290639236509086,
          -27.0626867913775,
          -0.024290639236509086,
          -26.314235089024663,
          -0.024529403559009882,
          -0.024529403559009882,
          -21.437410099801415,
          -0.024529403559009882,
          -0.024290639236509086,
          -0.024290639236509086,
          -21.81710457760899,
          -21.987910520588443,
          -0.024529403559009882,
          -19.224223188367475,
          -18.788898792885906,
          -0.024529403559009882,
          -25.766045763949545
         ],
         "yaxis": "y"
        },
        {
         "marker": {
          "color": [
           0,
           1,
           2,
           3,
           4,
           5,
           6,
           7,
           8,
           9,
           10,
           11,
           12,
           13,
           14,
           15,
           16,
           17,
           18,
           19,
           20,
           21,
           22,
           23,
           24,
           25,
           26,
           27,
           28,
           29,
           30,
           31,
           32,
           33,
           34,
           35,
           36,
           37,
           38,
           39,
           40,
           41,
           42,
           43,
           44,
           45,
           46,
           47,
           48,
           49,
           50,
           51,
           52,
           53,
           54,
           55,
           56,
           57,
           58,
           59,
           60,
           61,
           62,
           63,
           64,
           65,
           66,
           67,
           68,
           69,
           70,
           71,
           72,
           73,
           74,
           75,
           76,
           77,
           78,
           79,
           80,
           81,
           82,
           83,
           84,
           85,
           86,
           87,
           88,
           89,
           90,
           91,
           92,
           93,
           94,
           95,
           96,
           97,
           98,
           99
          ],
          "colorbar": {
           "title": {
            "text": "Trial"
           },
           "x": 1,
           "xpad": 40
          },
          "colorscale": [
           [
            0,
            "rgb(247,251,255)"
           ],
           [
            0.125,
            "rgb(222,235,247)"
           ],
           [
            0.25,
            "rgb(198,219,239)"
           ],
           [
            0.375,
            "rgb(158,202,225)"
           ],
           [
            0.5,
            "rgb(107,174,214)"
           ],
           [
            0.625,
            "rgb(66,146,198)"
           ],
           [
            0.75,
            "rgb(33,113,181)"
           ],
           [
            0.875,
            "rgb(8,81,156)"
           ],
           [
            1,
            "rgb(8,48,107)"
           ]
          ],
          "line": {
           "color": "Grey",
           "width": 0.5
          },
          "showscale": false
         },
         "mode": "markers",
         "name": "Feasible Trial",
         "showlegend": false,
         "type": "scatter",
         "x": [
          "median",
          "median",
          "mean",
          "constant",
          "median",
          "constant",
          "constant",
          "constant",
          "constant",
          "constant",
          "mean",
          "constant",
          "constant",
          "constant",
          "mean",
          "constant",
          "mean",
          "constant",
          "constant",
          "mean",
          "constant",
          "median",
          "constant",
          "constant",
          "mean",
          "median",
          "mean",
          "mean",
          "median",
          "mean",
          "mean",
          "constant",
          "median",
          "mean",
          "mean",
          "mean",
          "median",
          "median",
          "mean",
          "mean",
          "mean",
          "mean",
          "constant",
          "constant",
          "median",
          "constant",
          "constant",
          "constant",
          "constant",
          "median",
          "median",
          "median",
          "mean",
          "median",
          "constant",
          "constant",
          "median",
          "constant",
          "median",
          "median",
          "median",
          "mean",
          "constant",
          "mean",
          "median",
          "constant",
          "median",
          "mean",
          "mean",
          "mean",
          "constant",
          "mean",
          "median",
          "median",
          "mean",
          "median",
          "mean",
          "median",
          "mean",
          "mean",
          "constant",
          "mean",
          "constant",
          "mean",
          "constant",
          "mean",
          "constant",
          "median",
          "median",
          "constant",
          "median",
          "mean",
          "mean",
          "constant",
          "constant",
          "median",
          "constant",
          "constant",
          "median",
          "constant"
         ],
         "xaxis": "x2",
         "y": [
          -0.024529403559009882,
          -0.024529403559009882,
          -0.024290639236509086,
          -19.97385203085658,
          -0.024529403559009882,
          -27.244309592958263,
          -25.69690321873502,
          -26.68268540023302,
          -23.98449257447841,
          -20.679605168660864,
          -0.024290639236509086,
          -22.661652080058992,
          -24.401353087204043,
          -19.769416247048525,
          -0.024290639236509086,
          -18.589698211925676,
          -0.024290639236509086,
          -25.120523144584887,
          -24.33795891257963,
          -0.024290639236509086,
          -19.159051574945284,
          -0.024529403559009882,
          -21.602546553727045,
          -25.168700507832447,
          -0.024290639236509086,
          -0.024529403559009882,
          -0.024290639236509086,
          -0.024290639236509086,
          -0.024529403559009882,
          -0.024290639236509086,
          -0.024290639236509086,
          -19.048401550506547,
          -0.024529403559009882,
          -0.024290639236509086,
          -0.024290639236509086,
          -0.024290639236509086,
          -0.024529403559009882,
          -0.024529403559009882,
          -0.024290639236509086,
          -0.024290639236509086,
          -0.024290639236509086,
          -0.024290639236509086,
          -18.914774911362095,
          -26.86167057076143,
          -0.024529403559009882,
          -23.440710682085182,
          -22.552763526351917,
          -26.653839565450284,
          -19.916694367670896,
          -0.024529403559009882,
          -0.024529403559009882,
          -0.024529403559009882,
          -0.024290639236509086,
          -0.024529403559009882,
          -23.807455910655545,
          -26.834656846891072,
          -0.024529403559009882,
          -26.79389067336124,
          -0.024529403559009882,
          -0.024529403559009882,
          -0.024529403559009882,
          -0.024290639236509086,
          -18.12959010252375,
          -0.024290639236509086,
          -0.024529403559009882,
          -23.529201787157447,
          -0.024529403559009882,
          -0.024290639236509086,
          -0.024290639236509086,
          -0.024290639236509086,
          -26.165445266633856,
          -0.024290639236509086,
          -0.024529403559009882,
          -0.024529403559009882,
          -0.024290639236509086,
          -0.024529403559009882,
          -0.024290639236509086,
          -0.024529403559009882,
          -0.024290639236509086,
          -0.024290639236509086,
          -25.94244867164282,
          -0.024290639236509086,
          -18.706508448746902,
          -0.024290639236509086,
          -27.0626867913775,
          -0.024290639236509086,
          -26.314235089024663,
          -0.024529403559009882,
          -0.024529403559009882,
          -21.437410099801415,
          -0.024529403559009882,
          -0.024290639236509086,
          -0.024290639236509086,
          -21.81710457760899,
          -21.987910520588443,
          -0.024529403559009882,
          -19.224223188367475,
          -18.788898792885906,
          -0.024529403559009882,
          -25.766045763949545
         ],
         "yaxis": "y2"
        },
        {
         "marker": {
          "color": [
           0,
           1,
           2,
           3,
           4,
           5,
           6,
           7,
           8,
           9,
           10,
           11,
           12,
           13,
           14,
           15,
           16,
           17,
           18,
           19,
           20,
           21,
           22,
           23,
           24,
           25,
           26,
           27,
           28,
           29,
           30,
           31,
           32,
           33,
           34,
           35,
           36,
           37,
           38,
           39,
           40,
           41,
           42,
           43,
           44,
           45,
           46,
           47,
           48,
           49,
           50,
           51,
           52,
           53,
           54,
           55,
           56,
           57,
           58,
           59,
           60,
           61,
           62,
           63,
           64,
           65,
           66,
           67,
           68,
           69,
           70,
           71,
           72,
           73,
           74,
           75,
           76,
           77,
           78,
           79,
           80,
           81,
           82,
           83,
           84,
           85,
           86,
           87,
           88,
           89,
           90,
           91,
           92,
           93,
           94,
           95,
           96,
           97,
           98,
           99
          ],
          "colorbar": {
           "title": {
            "text": "Trial"
           },
           "x": 1,
           "xpad": 40
          },
          "colorscale": [
           [
            0,
            "rgb(247,251,255)"
           ],
           [
            0.125,
            "rgb(222,235,247)"
           ],
           [
            0.25,
            "rgb(198,219,239)"
           ],
           [
            0.375,
            "rgb(158,202,225)"
           ],
           [
            0.5,
            "rgb(107,174,214)"
           ],
           [
            0.625,
            "rgb(66,146,198)"
           ],
           [
            0.75,
            "rgb(33,113,181)"
           ],
           [
            0.875,
            "rgb(8,81,156)"
           ],
           [
            1,
            "rgb(8,48,107)"
           ]
          ],
          "line": {
           "color": "Grey",
           "width": 0.5
          },
          "showscale": false
         },
         "mode": "markers",
         "name": "Feasible Trial",
         "showlegend": false,
         "type": "scatter",
         "x": [
          false,
          false,
          true,
          true,
          false,
          false,
          false,
          false,
          true,
          true,
          true,
          false,
          true,
          true,
          true,
          true,
          true,
          true,
          false,
          true,
          true,
          true,
          true,
          true,
          false,
          false,
          false,
          true,
          true,
          false,
          true,
          true,
          true,
          true,
          false,
          false,
          true,
          false,
          true,
          false,
          false,
          false,
          false,
          true,
          false,
          true,
          false,
          true,
          false,
          false,
          false,
          true,
          true,
          false,
          true,
          true,
          true,
          true,
          false,
          false,
          false,
          false,
          true,
          false,
          false,
          false,
          false,
          false,
          true,
          false,
          false,
          true,
          true,
          true,
          false,
          false,
          false,
          false,
          true,
          false,
          true,
          false,
          true,
          false,
          false,
          true,
          true,
          true,
          true,
          true,
          true,
          true,
          false,
          true,
          true,
          false,
          true,
          true,
          false,
          false
         ],
         "xaxis": "x3",
         "y": [
          -0.024529403559009882,
          -0.024529403559009882,
          -0.024290639236509086,
          -19.97385203085658,
          -0.024529403559009882,
          -27.244309592958263,
          -25.69690321873502,
          -26.68268540023302,
          -23.98449257447841,
          -20.679605168660864,
          -0.024290639236509086,
          -22.661652080058992,
          -24.401353087204043,
          -19.769416247048525,
          -0.024290639236509086,
          -18.589698211925676,
          -0.024290639236509086,
          -25.120523144584887,
          -24.33795891257963,
          -0.024290639236509086,
          -19.159051574945284,
          -0.024529403559009882,
          -21.602546553727045,
          -25.168700507832447,
          -0.024290639236509086,
          -0.024529403559009882,
          -0.024290639236509086,
          -0.024290639236509086,
          -0.024529403559009882,
          -0.024290639236509086,
          -0.024290639236509086,
          -19.048401550506547,
          -0.024529403559009882,
          -0.024290639236509086,
          -0.024290639236509086,
          -0.024290639236509086,
          -0.024529403559009882,
          -0.024529403559009882,
          -0.024290639236509086,
          -0.024290639236509086,
          -0.024290639236509086,
          -0.024290639236509086,
          -18.914774911362095,
          -26.86167057076143,
          -0.024529403559009882,
          -23.440710682085182,
          -22.552763526351917,
          -26.653839565450284,
          -19.916694367670896,
          -0.024529403559009882,
          -0.024529403559009882,
          -0.024529403559009882,
          -0.024290639236509086,
          -0.024529403559009882,
          -23.807455910655545,
          -26.834656846891072,
          -0.024529403559009882,
          -26.79389067336124,
          -0.024529403559009882,
          -0.024529403559009882,
          -0.024529403559009882,
          -0.024290639236509086,
          -18.12959010252375,
          -0.024290639236509086,
          -0.024529403559009882,
          -23.529201787157447,
          -0.024529403559009882,
          -0.024290639236509086,
          -0.024290639236509086,
          -0.024290639236509086,
          -26.165445266633856,
          -0.024290639236509086,
          -0.024529403559009882,
          -0.024529403559009882,
          -0.024290639236509086,
          -0.024529403559009882,
          -0.024290639236509086,
          -0.024529403559009882,
          -0.024290639236509086,
          -0.024290639236509086,
          -25.94244867164282,
          -0.024290639236509086,
          -18.706508448746902,
          -0.024290639236509086,
          -27.0626867913775,
          -0.024290639236509086,
          -26.314235089024663,
          -0.024529403559009882,
          -0.024529403559009882,
          -21.437410099801415,
          -0.024529403559009882,
          -0.024290639236509086,
          -0.024290639236509086,
          -21.81710457760899,
          -21.987910520588443,
          -0.024529403559009882,
          -19.224223188367475,
          -18.788898792885906,
          -0.024529403559009882,
          -25.766045763949545
         ],
         "yaxis": "y3"
        },
        {
         "marker": {
          "color": [
           2,
           3,
           8,
           9,
           10,
           12,
           13,
           14,
           15,
           16,
           17,
           19,
           20,
           21,
           22,
           23,
           27,
           28,
           30,
           31,
           32,
           33,
           36,
           38,
           43,
           45,
           47,
           51,
           52,
           54,
           55,
           56,
           57,
           62,
           68,
           71,
           72,
           73,
           78,
           80,
           82,
           85,
           86,
           87,
           88,
           89,
           90,
           91,
           93,
           94,
           96,
           97
          ],
          "colorbar": {
           "title": {
            "text": "Trial"
           },
           "x": 1,
           "xpad": 40
          },
          "colorscale": [
           [
            0,
            "rgb(247,251,255)"
           ],
           [
            0.125,
            "rgb(222,235,247)"
           ],
           [
            0.25,
            "rgb(198,219,239)"
           ],
           [
            0.375,
            "rgb(158,202,225)"
           ],
           [
            0.5,
            "rgb(107,174,214)"
           ],
           [
            0.625,
            "rgb(66,146,198)"
           ],
           [
            0.75,
            "rgb(33,113,181)"
           ],
           [
            0.875,
            "rgb(8,81,156)"
           ],
           [
            1,
            "rgb(8,48,107)"
           ]
          ],
          "line": {
           "color": "Grey",
           "width": 0.5
          },
          "showscale": false
         },
         "mode": "markers",
         "name": "Feasible Trial",
         "showlegend": false,
         "type": "scatter",
         "x": [
          true,
          true,
          false,
          false,
          false,
          false,
          true,
          false,
          true,
          true,
          false,
          false,
          true,
          false,
          true,
          false,
          false,
          true,
          false,
          false,
          true,
          false,
          true,
          true,
          false,
          false,
          true,
          true,
          true,
          false,
          false,
          true,
          true,
          true,
          false,
          false,
          true,
          true,
          true,
          false,
          false,
          true,
          true,
          true,
          false,
          true,
          false,
          false,
          true,
          true,
          true,
          true
         ],
         "xaxis": "x4",
         "y": [
          -0.024290639236509086,
          -19.97385203085658,
          -23.98449257447841,
          -20.679605168660864,
          -0.024290639236509086,
          -24.401353087204043,
          -19.769416247048525,
          -0.024290639236509086,
          -18.589698211925676,
          -0.024290639236509086,
          -25.120523144584887,
          -0.024290639236509086,
          -19.159051574945284,
          -0.024529403559009882,
          -21.602546553727045,
          -25.168700507832447,
          -0.024290639236509086,
          -0.024529403559009882,
          -0.024290639236509086,
          -19.048401550506547,
          -0.024529403559009882,
          -0.024290639236509086,
          -0.024529403559009882,
          -0.024290639236509086,
          -26.86167057076143,
          -23.440710682085182,
          -26.653839565450284,
          -0.024529403559009882,
          -0.024290639236509086,
          -23.807455910655545,
          -26.834656846891072,
          -0.024529403559009882,
          -26.79389067336124,
          -18.12959010252375,
          -0.024290639236509086,
          -0.024290639236509086,
          -0.024529403559009882,
          -0.024529403559009882,
          -0.024290639236509086,
          -25.94244867164282,
          -18.706508448746902,
          -0.024290639236509086,
          -26.314235089024663,
          -0.024529403559009882,
          -0.024529403559009882,
          -21.437410099801415,
          -0.024529403559009882,
          -0.024290639236509086,
          -21.81710457760899,
          -21.987910520588443,
          -19.224223188367475,
          -18.788898792885906
         ],
         "yaxis": "y4"
        },
        {
         "marker": {
          "color": [
           2,
           3,
           8,
           9,
           10,
           12,
           13,
           14,
           15,
           16,
           17,
           19,
           20,
           21,
           22,
           23,
           27,
           28,
           30,
           31,
           32,
           33,
           36,
           38,
           43,
           45,
           47,
           51,
           52,
           54,
           55,
           56,
           57,
           62,
           68,
           71,
           72,
           73,
           78,
           80,
           82,
           85,
           86,
           87,
           88,
           89,
           90,
           91,
           93,
           94,
           96,
           97
          ],
          "colorbar": {
           "title": {
            "text": "Trial"
           },
           "x": 1,
           "xpad": 40
          },
          "colorscale": [
           [
            0,
            "rgb(247,251,255)"
           ],
           [
            0.125,
            "rgb(222,235,247)"
           ],
           [
            0.25,
            "rgb(198,219,239)"
           ],
           [
            0.375,
            "rgb(158,202,225)"
           ],
           [
            0.5,
            "rgb(107,174,214)"
           ],
           [
            0.625,
            "rgb(66,146,198)"
           ],
           [
            0.75,
            "rgb(33,113,181)"
           ],
           [
            0.875,
            "rgb(8,81,156)"
           ],
           [
            1,
            "rgb(8,48,107)"
           ]
          ],
          "line": {
           "color": "Grey",
           "width": 0.5
          },
          "showscale": false
         },
         "mode": "markers",
         "name": "Feasible Trial",
         "showlegend": false,
         "type": "scatter",
         "x": [
          false,
          true,
          false,
          false,
          true,
          true,
          true,
          false,
          true,
          false,
          false,
          false,
          true,
          true,
          false,
          true,
          true,
          true,
          true,
          false,
          false,
          true,
          true,
          true,
          true,
          true,
          true,
          false,
          true,
          false,
          true,
          true,
          false,
          false,
          true,
          true,
          true,
          false,
          false,
          false,
          false,
          true,
          true,
          true,
          true,
          false,
          false,
          true,
          true,
          false,
          false,
          false
         ],
         "xaxis": "x5",
         "y": [
          -0.024290639236509086,
          -19.97385203085658,
          -23.98449257447841,
          -20.679605168660864,
          -0.024290639236509086,
          -24.401353087204043,
          -19.769416247048525,
          -0.024290639236509086,
          -18.589698211925676,
          -0.024290639236509086,
          -25.120523144584887,
          -0.024290639236509086,
          -19.159051574945284,
          -0.024529403559009882,
          -21.602546553727045,
          -25.168700507832447,
          -0.024290639236509086,
          -0.024529403559009882,
          -0.024290639236509086,
          -19.048401550506547,
          -0.024529403559009882,
          -0.024290639236509086,
          -0.024529403559009882,
          -0.024290639236509086,
          -26.86167057076143,
          -23.440710682085182,
          -26.653839565450284,
          -0.024529403559009882,
          -0.024290639236509086,
          -23.807455910655545,
          -26.834656846891072,
          -0.024529403559009882,
          -26.79389067336124,
          -18.12959010252375,
          -0.024290639236509086,
          -0.024290639236509086,
          -0.024529403559009882,
          -0.024529403559009882,
          -0.024290639236509086,
          -25.94244867164282,
          -18.706508448746902,
          -0.024290639236509086,
          -26.314235089024663,
          -0.024529403559009882,
          -0.024529403559009882,
          -21.437410099801415,
          -0.024529403559009882,
          -0.024290639236509086,
          -21.81710457760899,
          -21.987910520588443,
          -19.224223188367475,
          -18.788898792885906
         ],
         "yaxis": "y5"
        }
       ],
       "layout": {
        "template": {
         "data": {
          "bar": [
           {
            "error_x": {
             "color": "#2a3f5f"
            },
            "error_y": {
             "color": "#2a3f5f"
            },
            "marker": {
             "line": {
              "color": "#E5ECF6",
              "width": 0.5
             },
             "pattern": {
              "fillmode": "overlay",
              "size": 10,
              "solidity": 0.2
             }
            },
            "type": "bar"
           }
          ],
          "barpolar": [
           {
            "marker": {
             "line": {
              "color": "#E5ECF6",
              "width": 0.5
             },
             "pattern": {
              "fillmode": "overlay",
              "size": 10,
              "solidity": 0.2
             }
            },
            "type": "barpolar"
           }
          ],
          "carpet": [
           {
            "aaxis": {
             "endlinecolor": "#2a3f5f",
             "gridcolor": "white",
             "linecolor": "white",
             "minorgridcolor": "white",
             "startlinecolor": "#2a3f5f"
            },
            "baxis": {
             "endlinecolor": "#2a3f5f",
             "gridcolor": "white",
             "linecolor": "white",
             "minorgridcolor": "white",
             "startlinecolor": "#2a3f5f"
            },
            "type": "carpet"
           }
          ],
          "choropleth": [
           {
            "colorbar": {
             "outlinewidth": 0,
             "ticks": ""
            },
            "type": "choropleth"
           }
          ],
          "contour": [
           {
            "colorbar": {
             "outlinewidth": 0,
             "ticks": ""
            },
            "colorscale": [
             [
              0,
              "#0d0887"
             ],
             [
              0.1111111111111111,
              "#46039f"
             ],
             [
              0.2222222222222222,
              "#7201a8"
             ],
             [
              0.3333333333333333,
              "#9c179e"
             ],
             [
              0.4444444444444444,
              "#bd3786"
             ],
             [
              0.5555555555555556,
              "#d8576b"
             ],
             [
              0.6666666666666666,
              "#ed7953"
             ],
             [
              0.7777777777777778,
              "#fb9f3a"
             ],
             [
              0.8888888888888888,
              "#fdca26"
             ],
             [
              1,
              "#f0f921"
             ]
            ],
            "type": "contour"
           }
          ],
          "contourcarpet": [
           {
            "colorbar": {
             "outlinewidth": 0,
             "ticks": ""
            },
            "type": "contourcarpet"
           }
          ],
          "heatmap": [
           {
            "colorbar": {
             "outlinewidth": 0,
             "ticks": ""
            },
            "colorscale": [
             [
              0,
              "#0d0887"
             ],
             [
              0.1111111111111111,
              "#46039f"
             ],
             [
              0.2222222222222222,
              "#7201a8"
             ],
             [
              0.3333333333333333,
              "#9c179e"
             ],
             [
              0.4444444444444444,
              "#bd3786"
             ],
             [
              0.5555555555555556,
              "#d8576b"
             ],
             [
              0.6666666666666666,
              "#ed7953"
             ],
             [
              0.7777777777777778,
              "#fb9f3a"
             ],
             [
              0.8888888888888888,
              "#fdca26"
             ],
             [
              1,
              "#f0f921"
             ]
            ],
            "type": "heatmap"
           }
          ],
          "histogram": [
           {
            "marker": {
             "pattern": {
              "fillmode": "overlay",
              "size": 10,
              "solidity": 0.2
             }
            },
            "type": "histogram"
           }
          ],
          "histogram2d": [
           {
            "colorbar": {
             "outlinewidth": 0,
             "ticks": ""
            },
            "colorscale": [
             [
              0,
              "#0d0887"
             ],
             [
              0.1111111111111111,
              "#46039f"
             ],
             [
              0.2222222222222222,
              "#7201a8"
             ],
             [
              0.3333333333333333,
              "#9c179e"
             ],
             [
              0.4444444444444444,
              "#bd3786"
             ],
             [
              0.5555555555555556,
              "#d8576b"
             ],
             [
              0.6666666666666666,
              "#ed7953"
             ],
             [
              0.7777777777777778,
              "#fb9f3a"
             ],
             [
              0.8888888888888888,
              "#fdca26"
             ],
             [
              1,
              "#f0f921"
             ]
            ],
            "type": "histogram2d"
           }
          ],
          "histogram2dcontour": [
           {
            "colorbar": {
             "outlinewidth": 0,
             "ticks": ""
            },
            "colorscale": [
             [
              0,
              "#0d0887"
             ],
             [
              0.1111111111111111,
              "#46039f"
             ],
             [
              0.2222222222222222,
              "#7201a8"
             ],
             [
              0.3333333333333333,
              "#9c179e"
             ],
             [
              0.4444444444444444,
              "#bd3786"
             ],
             [
              0.5555555555555556,
              "#d8576b"
             ],
             [
              0.6666666666666666,
              "#ed7953"
             ],
             [
              0.7777777777777778,
              "#fb9f3a"
             ],
             [
              0.8888888888888888,
              "#fdca26"
             ],
             [
              1,
              "#f0f921"
             ]
            ],
            "type": "histogram2dcontour"
           }
          ],
          "mesh3d": [
           {
            "colorbar": {
             "outlinewidth": 0,
             "ticks": ""
            },
            "type": "mesh3d"
           }
          ],
          "parcoords": [
           {
            "line": {
             "colorbar": {
              "outlinewidth": 0,
              "ticks": ""
             }
            },
            "type": "parcoords"
           }
          ],
          "pie": [
           {
            "automargin": true,
            "type": "pie"
           }
          ],
          "scatter": [
           {
            "fillpattern": {
             "fillmode": "overlay",
             "size": 10,
             "solidity": 0.2
            },
            "type": "scatter"
           }
          ],
          "scatter3d": [
           {
            "line": {
             "colorbar": {
              "outlinewidth": 0,
              "ticks": ""
             }
            },
            "marker": {
             "colorbar": {
              "outlinewidth": 0,
              "ticks": ""
             }
            },
            "type": "scatter3d"
           }
          ],
          "scattercarpet": [
           {
            "marker": {
             "colorbar": {
              "outlinewidth": 0,
              "ticks": ""
             }
            },
            "type": "scattercarpet"
           }
          ],
          "scattergeo": [
           {
            "marker": {
             "colorbar": {
              "outlinewidth": 0,
              "ticks": ""
             }
            },
            "type": "scattergeo"
           }
          ],
          "scattergl": [
           {
            "marker": {
             "colorbar": {
              "outlinewidth": 0,
              "ticks": ""
             }
            },
            "type": "scattergl"
           }
          ],
          "scattermap": [
           {
            "marker": {
             "colorbar": {
              "outlinewidth": 0,
              "ticks": ""
             }
            },
            "type": "scattermap"
           }
          ],
          "scattermapbox": [
           {
            "marker": {
             "colorbar": {
              "outlinewidth": 0,
              "ticks": ""
             }
            },
            "type": "scattermapbox"
           }
          ],
          "scatterpolar": [
           {
            "marker": {
             "colorbar": {
              "outlinewidth": 0,
              "ticks": ""
             }
            },
            "type": "scatterpolar"
           }
          ],
          "scatterpolargl": [
           {
            "marker": {
             "colorbar": {
              "outlinewidth": 0,
              "ticks": ""
             }
            },
            "type": "scatterpolargl"
           }
          ],
          "scatterternary": [
           {
            "marker": {
             "colorbar": {
              "outlinewidth": 0,
              "ticks": ""
             }
            },
            "type": "scatterternary"
           }
          ],
          "surface": [
           {
            "colorbar": {
             "outlinewidth": 0,
             "ticks": ""
            },
            "colorscale": [
             [
              0,
              "#0d0887"
             ],
             [
              0.1111111111111111,
              "#46039f"
             ],
             [
              0.2222222222222222,
              "#7201a8"
             ],
             [
              0.3333333333333333,
              "#9c179e"
             ],
             [
              0.4444444444444444,
              "#bd3786"
             ],
             [
              0.5555555555555556,
              "#d8576b"
             ],
             [
              0.6666666666666666,
              "#ed7953"
             ],
             [
              0.7777777777777778,
              "#fb9f3a"
             ],
             [
              0.8888888888888888,
              "#fdca26"
             ],
             [
              1,
              "#f0f921"
             ]
            ],
            "type": "surface"
           }
          ],
          "table": [
           {
            "cells": {
             "fill": {
              "color": "#EBF0F8"
             },
             "line": {
              "color": "white"
             }
            },
            "header": {
             "fill": {
              "color": "#C8D4E3"
             },
             "line": {
              "color": "white"
             }
            },
            "type": "table"
           }
          ]
         },
         "layout": {
          "annotationdefaults": {
           "arrowcolor": "#2a3f5f",
           "arrowhead": 0,
           "arrowwidth": 1
          },
          "autotypenumbers": "strict",
          "coloraxis": {
           "colorbar": {
            "outlinewidth": 0,
            "ticks": ""
           }
          },
          "colorscale": {
           "diverging": [
            [
             0,
             "#8e0152"
            ],
            [
             0.1,
             "#c51b7d"
            ],
            [
             0.2,
             "#de77ae"
            ],
            [
             0.3,
             "#f1b6da"
            ],
            [
             0.4,
             "#fde0ef"
            ],
            [
             0.5,
             "#f7f7f7"
            ],
            [
             0.6,
             "#e6f5d0"
            ],
            [
             0.7,
             "#b8e186"
            ],
            [
             0.8,
             "#7fbc41"
            ],
            [
             0.9,
             "#4d9221"
            ],
            [
             1,
             "#276419"
            ]
           ],
           "sequential": [
            [
             0,
             "#0d0887"
            ],
            [
             0.1111111111111111,
             "#46039f"
            ],
            [
             0.2222222222222222,
             "#7201a8"
            ],
            [
             0.3333333333333333,
             "#9c179e"
            ],
            [
             0.4444444444444444,
             "#bd3786"
            ],
            [
             0.5555555555555556,
             "#d8576b"
            ],
            [
             0.6666666666666666,
             "#ed7953"
            ],
            [
             0.7777777777777778,
             "#fb9f3a"
            ],
            [
             0.8888888888888888,
             "#fdca26"
            ],
            [
             1,
             "#f0f921"
            ]
           ],
           "sequentialminus": [
            [
             0,
             "#0d0887"
            ],
            [
             0.1111111111111111,
             "#46039f"
            ],
            [
             0.2222222222222222,
             "#7201a8"
            ],
            [
             0.3333333333333333,
             "#9c179e"
            ],
            [
             0.4444444444444444,
             "#bd3786"
            ],
            [
             0.5555555555555556,
             "#d8576b"
            ],
            [
             0.6666666666666666,
             "#ed7953"
            ],
            [
             0.7777777777777778,
             "#fb9f3a"
            ],
            [
             0.8888888888888888,
             "#fdca26"
            ],
            [
             1,
             "#f0f921"
            ]
           ]
          },
          "colorway": [
           "#636efa",
           "#EF553B",
           "#00cc96",
           "#ab63fa",
           "#FFA15A",
           "#19d3f3",
           "#FF6692",
           "#B6E880",
           "#FF97FF",
           "#FECB52"
          ],
          "font": {
           "color": "#2a3f5f"
          },
          "geo": {
           "bgcolor": "white",
           "lakecolor": "white",
           "landcolor": "#E5ECF6",
           "showlakes": true,
           "showland": true,
           "subunitcolor": "white"
          },
          "hoverlabel": {
           "align": "left"
          },
          "hovermode": "closest",
          "mapbox": {
           "style": "light"
          },
          "paper_bgcolor": "white",
          "plot_bgcolor": "#E5ECF6",
          "polar": {
           "angularaxis": {
            "gridcolor": "white",
            "linecolor": "white",
            "ticks": ""
           },
           "bgcolor": "#E5ECF6",
           "radialaxis": {
            "gridcolor": "white",
            "linecolor": "white",
            "ticks": ""
           }
          },
          "scene": {
           "xaxis": {
            "backgroundcolor": "#E5ECF6",
            "gridcolor": "white",
            "gridwidth": 2,
            "linecolor": "white",
            "showbackground": true,
            "ticks": "",
            "zerolinecolor": "white"
           },
           "yaxis": {
            "backgroundcolor": "#E5ECF6",
            "gridcolor": "white",
            "gridwidth": 2,
            "linecolor": "white",
            "showbackground": true,
            "ticks": "",
            "zerolinecolor": "white"
           },
           "zaxis": {
            "backgroundcolor": "#E5ECF6",
            "gridcolor": "white",
            "gridwidth": 2,
            "linecolor": "white",
            "showbackground": true,
            "ticks": "",
            "zerolinecolor": "white"
           }
          },
          "shapedefaults": {
           "line": {
            "color": "#2a3f5f"
           }
          },
          "ternary": {
           "aaxis": {
            "gridcolor": "white",
            "linecolor": "white",
            "ticks": ""
           },
           "baxis": {
            "gridcolor": "white",
            "linecolor": "white",
            "ticks": ""
           },
           "bgcolor": "#E5ECF6",
           "caxis": {
            "gridcolor": "white",
            "linecolor": "white",
            "ticks": ""
           }
          },
          "title": {
           "x": 0.05
          },
          "xaxis": {
           "automargin": true,
           "gridcolor": "white",
           "linecolor": "white",
           "ticks": "",
           "title": {
            "standoff": 15
           },
           "zerolinecolor": "white",
           "zerolinewidth": 2
          },
          "yaxis": {
           "automargin": true,
           "gridcolor": "white",
           "linecolor": "white",
           "ticks": "",
           "title": {
            "standoff": 15
           },
           "zerolinecolor": "white",
           "zerolinewidth": 2
          }
         }
        },
        "title": {
         "text": "Slice Plot"
        },
        "width": 1500,
        "xaxis": {
         "anchor": "y",
         "domain": [
          0,
          0.16799999999999998
         ],
         "title": {
          "text": "poly_degree"
         }
        },
        "xaxis2": {
         "anchor": "y2",
         "categoryarray": [
          "mean",
          "median",
          "constant"
         ],
         "categoryorder": "array",
         "domain": [
          0.208,
          0.376
         ],
         "title": {
          "text": "strategy"
         },
         "type": "category"
        },
        "xaxis3": {
         "anchor": "y3",
         "categoryarray": [
          false,
          true
         ],
         "categoryorder": "array",
         "domain": [
          0.416,
          0.584
         ],
         "title": {
          "text": "use_scaler"
         },
         "type": "category"
        },
        "xaxis4": {
         "anchor": "y4",
         "categoryarray": [
          true,
          false
         ],
         "categoryorder": "array",
         "domain": [
          0.624,
          0.792
         ],
         "title": {
          "text": "with_mean"
         },
         "type": "category"
        },
        "xaxis5": {
         "anchor": "y5",
         "categoryarray": [
          true,
          false
         ],
         "categoryorder": "array",
         "domain": [
          0.832,
          1
         ],
         "title": {
          "text": "with_std"
         },
         "type": "category"
        },
        "yaxis": {
         "anchor": "x",
         "domain": [
          0,
          1
         ],
         "title": {
          "text": "Objective Value"
         }
        },
        "yaxis2": {
         "anchor": "x2",
         "domain": [
          0,
          1
         ],
         "matches": "y",
         "showticklabels": false
        },
        "yaxis3": {
         "anchor": "x3",
         "domain": [
          0,
          1
         ],
         "matches": "y",
         "showticklabels": false
        },
        "yaxis4": {
         "anchor": "x4",
         "domain": [
          0,
          1
         ],
         "matches": "y",
         "showticklabels": false
        },
        "yaxis5": {
         "anchor": "x5",
         "domain": [
          0,
          1
         ],
         "matches": "y",
         "showticklabels": false
        }
       }
      }
     },
     "metadata": {},
     "output_type": "display_data"
    }
   ],
   "source": [
    "optuna.visualization.plot_slice(study, params=['strategy','use_scaler','poly_degree','with_std','with_mean'])"
   ]
  },
  {
   "cell_type": "code",
   "execution_count": 22,
   "metadata": {},
   "outputs": [
    {
     "data": {
      "application/vnd.plotly.v1+json": {
       "config": {
        "plotlyServerURL": "https://plot.ly"
       },
       "data": [
        {
         "cliponaxis": false,
         "hovertemplate": [
          "use_scaler (CategoricalDistribution): 0.0029404889515484965<extra></extra>",
          "poly_degree (IntDistribution): 0.004447378346887178<extra></extra>",
          "strategy (CategoricalDistribution): 0.9926121327015642<extra></extra>"
         ],
         "name": "Objective Value",
         "orientation": "h",
         "text": [
          "<0.01",
          "<0.01",
          "0.99"
         ],
         "textposition": "outside",
         "type": "bar",
         "x": [
          0.0029404889515484965,
          0.004447378346887178,
          0.9926121327015642
         ],
         "y": [
          "use_scaler",
          "poly_degree",
          "strategy"
         ]
        }
       ],
       "layout": {
        "template": {
         "data": {
          "bar": [
           {
            "error_x": {
             "color": "#2a3f5f"
            },
            "error_y": {
             "color": "#2a3f5f"
            },
            "marker": {
             "line": {
              "color": "#E5ECF6",
              "width": 0.5
             },
             "pattern": {
              "fillmode": "overlay",
              "size": 10,
              "solidity": 0.2
             }
            },
            "type": "bar"
           }
          ],
          "barpolar": [
           {
            "marker": {
             "line": {
              "color": "#E5ECF6",
              "width": 0.5
             },
             "pattern": {
              "fillmode": "overlay",
              "size": 10,
              "solidity": 0.2
             }
            },
            "type": "barpolar"
           }
          ],
          "carpet": [
           {
            "aaxis": {
             "endlinecolor": "#2a3f5f",
             "gridcolor": "white",
             "linecolor": "white",
             "minorgridcolor": "white",
             "startlinecolor": "#2a3f5f"
            },
            "baxis": {
             "endlinecolor": "#2a3f5f",
             "gridcolor": "white",
             "linecolor": "white",
             "minorgridcolor": "white",
             "startlinecolor": "#2a3f5f"
            },
            "type": "carpet"
           }
          ],
          "choropleth": [
           {
            "colorbar": {
             "outlinewidth": 0,
             "ticks": ""
            },
            "type": "choropleth"
           }
          ],
          "contour": [
           {
            "colorbar": {
             "outlinewidth": 0,
             "ticks": ""
            },
            "colorscale": [
             [
              0,
              "#0d0887"
             ],
             [
              0.1111111111111111,
              "#46039f"
             ],
             [
              0.2222222222222222,
              "#7201a8"
             ],
             [
              0.3333333333333333,
              "#9c179e"
             ],
             [
              0.4444444444444444,
              "#bd3786"
             ],
             [
              0.5555555555555556,
              "#d8576b"
             ],
             [
              0.6666666666666666,
              "#ed7953"
             ],
             [
              0.7777777777777778,
              "#fb9f3a"
             ],
             [
              0.8888888888888888,
              "#fdca26"
             ],
             [
              1,
              "#f0f921"
             ]
            ],
            "type": "contour"
           }
          ],
          "contourcarpet": [
           {
            "colorbar": {
             "outlinewidth": 0,
             "ticks": ""
            },
            "type": "contourcarpet"
           }
          ],
          "heatmap": [
           {
            "colorbar": {
             "outlinewidth": 0,
             "ticks": ""
            },
            "colorscale": [
             [
              0,
              "#0d0887"
             ],
             [
              0.1111111111111111,
              "#46039f"
             ],
             [
              0.2222222222222222,
              "#7201a8"
             ],
             [
              0.3333333333333333,
              "#9c179e"
             ],
             [
              0.4444444444444444,
              "#bd3786"
             ],
             [
              0.5555555555555556,
              "#d8576b"
             ],
             [
              0.6666666666666666,
              "#ed7953"
             ],
             [
              0.7777777777777778,
              "#fb9f3a"
             ],
             [
              0.8888888888888888,
              "#fdca26"
             ],
             [
              1,
              "#f0f921"
             ]
            ],
            "type": "heatmap"
           }
          ],
          "histogram": [
           {
            "marker": {
             "pattern": {
              "fillmode": "overlay",
              "size": 10,
              "solidity": 0.2
             }
            },
            "type": "histogram"
           }
          ],
          "histogram2d": [
           {
            "colorbar": {
             "outlinewidth": 0,
             "ticks": ""
            },
            "colorscale": [
             [
              0,
              "#0d0887"
             ],
             [
              0.1111111111111111,
              "#46039f"
             ],
             [
              0.2222222222222222,
              "#7201a8"
             ],
             [
              0.3333333333333333,
              "#9c179e"
             ],
             [
              0.4444444444444444,
              "#bd3786"
             ],
             [
              0.5555555555555556,
              "#d8576b"
             ],
             [
              0.6666666666666666,
              "#ed7953"
             ],
             [
              0.7777777777777778,
              "#fb9f3a"
             ],
             [
              0.8888888888888888,
              "#fdca26"
             ],
             [
              1,
              "#f0f921"
             ]
            ],
            "type": "histogram2d"
           }
          ],
          "histogram2dcontour": [
           {
            "colorbar": {
             "outlinewidth": 0,
             "ticks": ""
            },
            "colorscale": [
             [
              0,
              "#0d0887"
             ],
             [
              0.1111111111111111,
              "#46039f"
             ],
             [
              0.2222222222222222,
              "#7201a8"
             ],
             [
              0.3333333333333333,
              "#9c179e"
             ],
             [
              0.4444444444444444,
              "#bd3786"
             ],
             [
              0.5555555555555556,
              "#d8576b"
             ],
             [
              0.6666666666666666,
              "#ed7953"
             ],
             [
              0.7777777777777778,
              "#fb9f3a"
             ],
             [
              0.8888888888888888,
              "#fdca26"
             ],
             [
              1,
              "#f0f921"
             ]
            ],
            "type": "histogram2dcontour"
           }
          ],
          "mesh3d": [
           {
            "colorbar": {
             "outlinewidth": 0,
             "ticks": ""
            },
            "type": "mesh3d"
           }
          ],
          "parcoords": [
           {
            "line": {
             "colorbar": {
              "outlinewidth": 0,
              "ticks": ""
             }
            },
            "type": "parcoords"
           }
          ],
          "pie": [
           {
            "automargin": true,
            "type": "pie"
           }
          ],
          "scatter": [
           {
            "fillpattern": {
             "fillmode": "overlay",
             "size": 10,
             "solidity": 0.2
            },
            "type": "scatter"
           }
          ],
          "scatter3d": [
           {
            "line": {
             "colorbar": {
              "outlinewidth": 0,
              "ticks": ""
             }
            },
            "marker": {
             "colorbar": {
              "outlinewidth": 0,
              "ticks": ""
             }
            },
            "type": "scatter3d"
           }
          ],
          "scattercarpet": [
           {
            "marker": {
             "colorbar": {
              "outlinewidth": 0,
              "ticks": ""
             }
            },
            "type": "scattercarpet"
           }
          ],
          "scattergeo": [
           {
            "marker": {
             "colorbar": {
              "outlinewidth": 0,
              "ticks": ""
             }
            },
            "type": "scattergeo"
           }
          ],
          "scattergl": [
           {
            "marker": {
             "colorbar": {
              "outlinewidth": 0,
              "ticks": ""
             }
            },
            "type": "scattergl"
           }
          ],
          "scattermap": [
           {
            "marker": {
             "colorbar": {
              "outlinewidth": 0,
              "ticks": ""
             }
            },
            "type": "scattermap"
           }
          ],
          "scattermapbox": [
           {
            "marker": {
             "colorbar": {
              "outlinewidth": 0,
              "ticks": ""
             }
            },
            "type": "scattermapbox"
           }
          ],
          "scatterpolar": [
           {
            "marker": {
             "colorbar": {
              "outlinewidth": 0,
              "ticks": ""
             }
            },
            "type": "scatterpolar"
           }
          ],
          "scatterpolargl": [
           {
            "marker": {
             "colorbar": {
              "outlinewidth": 0,
              "ticks": ""
             }
            },
            "type": "scatterpolargl"
           }
          ],
          "scatterternary": [
           {
            "marker": {
             "colorbar": {
              "outlinewidth": 0,
              "ticks": ""
             }
            },
            "type": "scatterternary"
           }
          ],
          "surface": [
           {
            "colorbar": {
             "outlinewidth": 0,
             "ticks": ""
            },
            "colorscale": [
             [
              0,
              "#0d0887"
             ],
             [
              0.1111111111111111,
              "#46039f"
             ],
             [
              0.2222222222222222,
              "#7201a8"
             ],
             [
              0.3333333333333333,
              "#9c179e"
             ],
             [
              0.4444444444444444,
              "#bd3786"
             ],
             [
              0.5555555555555556,
              "#d8576b"
             ],
             [
              0.6666666666666666,
              "#ed7953"
             ],
             [
              0.7777777777777778,
              "#fb9f3a"
             ],
             [
              0.8888888888888888,
              "#fdca26"
             ],
             [
              1,
              "#f0f921"
             ]
            ],
            "type": "surface"
           }
          ],
          "table": [
           {
            "cells": {
             "fill": {
              "color": "#EBF0F8"
             },
             "line": {
              "color": "white"
             }
            },
            "header": {
             "fill": {
              "color": "#C8D4E3"
             },
             "line": {
              "color": "white"
             }
            },
            "type": "table"
           }
          ]
         },
         "layout": {
          "annotationdefaults": {
           "arrowcolor": "#2a3f5f",
           "arrowhead": 0,
           "arrowwidth": 1
          },
          "autotypenumbers": "strict",
          "coloraxis": {
           "colorbar": {
            "outlinewidth": 0,
            "ticks": ""
           }
          },
          "colorscale": {
           "diverging": [
            [
             0,
             "#8e0152"
            ],
            [
             0.1,
             "#c51b7d"
            ],
            [
             0.2,
             "#de77ae"
            ],
            [
             0.3,
             "#f1b6da"
            ],
            [
             0.4,
             "#fde0ef"
            ],
            [
             0.5,
             "#f7f7f7"
            ],
            [
             0.6,
             "#e6f5d0"
            ],
            [
             0.7,
             "#b8e186"
            ],
            [
             0.8,
             "#7fbc41"
            ],
            [
             0.9,
             "#4d9221"
            ],
            [
             1,
             "#276419"
            ]
           ],
           "sequential": [
            [
             0,
             "#0d0887"
            ],
            [
             0.1111111111111111,
             "#46039f"
            ],
            [
             0.2222222222222222,
             "#7201a8"
            ],
            [
             0.3333333333333333,
             "#9c179e"
            ],
            [
             0.4444444444444444,
             "#bd3786"
            ],
            [
             0.5555555555555556,
             "#d8576b"
            ],
            [
             0.6666666666666666,
             "#ed7953"
            ],
            [
             0.7777777777777778,
             "#fb9f3a"
            ],
            [
             0.8888888888888888,
             "#fdca26"
            ],
            [
             1,
             "#f0f921"
            ]
           ],
           "sequentialminus": [
            [
             0,
             "#0d0887"
            ],
            [
             0.1111111111111111,
             "#46039f"
            ],
            [
             0.2222222222222222,
             "#7201a8"
            ],
            [
             0.3333333333333333,
             "#9c179e"
            ],
            [
             0.4444444444444444,
             "#bd3786"
            ],
            [
             0.5555555555555556,
             "#d8576b"
            ],
            [
             0.6666666666666666,
             "#ed7953"
            ],
            [
             0.7777777777777778,
             "#fb9f3a"
            ],
            [
             0.8888888888888888,
             "#fdca26"
            ],
            [
             1,
             "#f0f921"
            ]
           ]
          },
          "colorway": [
           "#636efa",
           "#EF553B",
           "#00cc96",
           "#ab63fa",
           "#FFA15A",
           "#19d3f3",
           "#FF6692",
           "#B6E880",
           "#FF97FF",
           "#FECB52"
          ],
          "font": {
           "color": "#2a3f5f"
          },
          "geo": {
           "bgcolor": "white",
           "lakecolor": "white",
           "landcolor": "#E5ECF6",
           "showlakes": true,
           "showland": true,
           "subunitcolor": "white"
          },
          "hoverlabel": {
           "align": "left"
          },
          "hovermode": "closest",
          "mapbox": {
           "style": "light"
          },
          "paper_bgcolor": "white",
          "plot_bgcolor": "#E5ECF6",
          "polar": {
           "angularaxis": {
            "gridcolor": "white",
            "linecolor": "white",
            "ticks": ""
           },
           "bgcolor": "#E5ECF6",
           "radialaxis": {
            "gridcolor": "white",
            "linecolor": "white",
            "ticks": ""
           }
          },
          "scene": {
           "xaxis": {
            "backgroundcolor": "#E5ECF6",
            "gridcolor": "white",
            "gridwidth": 2,
            "linecolor": "white",
            "showbackground": true,
            "ticks": "",
            "zerolinecolor": "white"
           },
           "yaxis": {
            "backgroundcolor": "#E5ECF6",
            "gridcolor": "white",
            "gridwidth": 2,
            "linecolor": "white",
            "showbackground": true,
            "ticks": "",
            "zerolinecolor": "white"
           },
           "zaxis": {
            "backgroundcolor": "#E5ECF6",
            "gridcolor": "white",
            "gridwidth": 2,
            "linecolor": "white",
            "showbackground": true,
            "ticks": "",
            "zerolinecolor": "white"
           }
          },
          "shapedefaults": {
           "line": {
            "color": "#2a3f5f"
           }
          },
          "ternary": {
           "aaxis": {
            "gridcolor": "white",
            "linecolor": "white",
            "ticks": ""
           },
           "baxis": {
            "gridcolor": "white",
            "linecolor": "white",
            "ticks": ""
           },
           "bgcolor": "#E5ECF6",
           "caxis": {
            "gridcolor": "white",
            "linecolor": "white",
            "ticks": ""
           }
          },
          "title": {
           "x": 0.05
          },
          "xaxis": {
           "automargin": true,
           "gridcolor": "white",
           "linecolor": "white",
           "ticks": "",
           "title": {
            "standoff": 15
           },
           "zerolinecolor": "white",
           "zerolinewidth": 2
          },
          "yaxis": {
           "automargin": true,
           "gridcolor": "white",
           "linecolor": "white",
           "ticks": "",
           "title": {
            "standoff": 15
           },
           "zerolinecolor": "white",
           "zerolinewidth": 2
          }
         }
        },
        "title": {
         "text": "Hyperparameter Importances"
        },
        "xaxis": {
         "title": {
          "text": "Hyperparameter Importance"
         }
        },
        "yaxis": {
         "title": {
          "text": "Hyperparameter"
         }
        }
       }
      }
     },
     "metadata": {},
     "output_type": "display_data"
    }
   ],
   "source": [
    "optuna.visualization.plot_param_importances(study)"
   ]
  },
  {
   "cell_type": "code",
   "execution_count": 23,
   "metadata": {},
   "outputs": [],
   "source": [
    "best_strat = best_params['strategy']\n"
   ]
  },
  {
   "cell_type": "code",
   "execution_count": 24,
   "metadata": {},
   "outputs": [],
   "source": [
    "numeric_pipeline_dummy = Pipeline([\n",
    "    ('imputer', SimpleImputer(strategy='mean')),\n",
    "        ('poly', PolynomialFeatures(degree=1, include_bias=False)),\n",
    "        ('scaler', StandardScaler(with_mean=True,with_std=False))\n",
    "])\n",
    "\n",
    "categorical_pipeline_dummy = Pipeline([\n",
    "    ('imputer', SimpleImputer(strategy='most_frequent')),\n",
    "    ('onehot',  OneHotEncoder(handle_unknown='ignore', sparse_output=False,drop='first')),\n",
    "])\n",
    "\n",
    "preprocessor = ColumnTransformer([\n",
    "    ('num', numeric_pipeline_dummy,      num_cols),\n",
    "    ('cat', categorical_pipeline_dummy,  cat_cols),\n",
    "],\n",
    "remainder='passthrough')\n",
    "\n",
    "dummy = Pipeline([\n",
    "    ('prepoc',preprocessor),\n",
    "        ('dummy', DummyRegressor(\n",
    "            strategy=best_strat\n",
    "        )),\n",
    "    \n",
    "])"
   ]
  },
  {
   "cell_type": "code",
   "execution_count": 25,
   "metadata": {},
   "outputs": [
    {
     "name": "stdout",
     "output_type": "stream",
     "text": [
      "Dummy Regressor CV results:\n",
      "[0.02432599 0.02459076 0.02582598 0.02384896 0.0228615 ]\n",
      "RMSE: 0.02 +/- 0.00\n",
      "\n"
     ]
    }
   ],
   "source": [
    "dummy_reg_cv = cross_val_score(\n",
    "        dummy, X_train, y_train,\n",
    "        cv=5,\n",
    "        scoring='neg_mean_squared_error',\n",
    "        n_jobs=-1\n",
    "    )\n",
    "print_cv_results('Dummy Regressor',dummy_reg_cv)"
   ]
  },
  {
   "cell_type": "code",
   "execution_count": 26,
   "metadata": {},
   "outputs": [],
   "source": [
    "\n",
    "result['Dummy'] = dummy_reg_cv"
   ]
  },
  {
   "cell_type": "markdown",
   "metadata": {},
   "source": [
    "# Linear Model "
   ]
  },
  {
   "cell_type": "code",
   "execution_count": 27,
   "metadata": {},
   "outputs": [],
   "source": [
    "from sklearn.linear_model import LinearRegression\n",
    "\n"
   ]
  },
  {
   "cell_type": "code",
   "execution_count": 28,
   "metadata": {},
   "outputs": [],
   "source": [
    "def objective(trial):\n",
    "    fit_intercept = trial.suggest_categorical('fit_intercept', [False, True])\n",
    "    use_scaler  = trial.suggest_categorical('use_scaler', [False, True])\n",
    "    if use_scaler:\n",
    "        with_mean = trial.suggest_categorical('with_mean', [True, False])\n",
    "        with_std  = trial.suggest_categorical('with_std',  [True, False])\n",
    "    else:\n",
    "        with_mean = False\n",
    "        with_std  = False\n",
    "\n",
    "    poly_degree = trial.suggest_int('poly_degree', 1, 5)\n",
    "    num_steps = [('imputer', SimpleImputer(strategy='mean'))]\n",
    "    if use_scaler:\n",
    "        num_steps.append((\n",
    "            'scaler',\n",
    "            StandardScaler(with_mean=with_mean, with_std=with_std)\n",
    "        ))\n",
    "    num_steps.append((\n",
    "        'poly',\n",
    "        PolynomialFeatures(degree=poly_degree, include_bias=False)\n",
    "    ))\n",
    "    numeric_pipeline = Pipeline(num_steps)\n",
    "\n",
    "    categorical_pipeline = Pipeline([\n",
    "        ('imputer', SimpleImputer(strategy='most_frequent')),\n",
    "        ('onehot',  OneHotEncoder(handle_unknown='ignore',\n",
    "                                  sparse_output=False,\n",
    "                                  drop='first')),\n",
    "    ])\n",
    "\n",
    "    preprocessor = ColumnTransformer(\n",
    "        [\n",
    "            ('num', numeric_pipeline, num_cols),\n",
    "            ('cat', categorical_pipeline, cat_cols),\n",
    "        ],\n",
    "        remainder='passthrough'\n",
    "    )\n",
    "\n",
    "    model = Pipeline([\n",
    "        ('preproc', preprocessor),\n",
    "        ('linear', LinearRegression(fit_intercept=fit_intercept)),\n",
    "    ])\n",
    "\n",
    "    neg_mse = cross_val_score(\n",
    "        model,\n",
    "        X_train, y_train,\n",
    "        cv=5,\n",
    "        scoring='neg_mean_squared_error',\n",
    "        n_jobs=-1\n",
    "    ).mean()\n",
    "\n",
    "    return neg_mse"
   ]
  },
  {
   "cell_type": "code",
   "execution_count": 29,
   "metadata": {},
   "outputs": [
    {
     "name": "stderr",
     "output_type": "stream",
     "text": [
      "[I 2025-05-17 10:22:26,653] A new study created in memory with name: no-name-35c728e6-6188-4404-86e0-8e6b431c8c7c\n"
     ]
    }
   ],
   "source": [
    "study = optuna.create_study(direction='maximize', sampler=optuna.samplers.RandomSampler(seed=42)) "
   ]
  },
  {
   "cell_type": "code",
   "execution_count": 30,
   "metadata": {},
   "outputs": [
    {
     "name": "stderr",
     "output_type": "stream",
     "text": [
      "[I 2025-05-17 10:22:26,722] Trial 0 finished with value: -0.00297418192849084 and parameters: {'fit_intercept': True, 'use_scaler': False, 'poly_degree': 1}. Best is trial 0 with value: -0.00297418192849084.\n",
      "[I 2025-05-17 10:22:26,799] Trial 1 finished with value: -0.006949901960131823 and parameters: {'fit_intercept': False, 'use_scaler': False, 'poly_degree': 4}. Best is trial 0 with value: -0.00297418192849084.\n",
      "[I 2025-05-17 10:22:26,855] Trial 2 finished with value: -0.00297418192849084 and parameters: {'fit_intercept': True, 'use_scaler': False, 'poly_degree': 1}. Best is trial 0 with value: -0.00297418192849084.\n",
      "[I 2025-05-17 10:22:26,923] Trial 3 finished with value: -0.002900251376377368 and parameters: {'fit_intercept': True, 'use_scaler': False, 'poly_degree': 2}. Best is trial 3 with value: -0.002900251376377368.\n",
      "[I 2025-05-17 10:22:27,005] Trial 4 finished with value: -0.0029234658241886298 and parameters: {'fit_intercept': False, 'use_scaler': True, 'with_mean': False, 'with_std': False, 'poly_degree': 3}. Best is trial 3 with value: -0.002900251376377368.\n",
      "[I 2025-05-17 10:22:27,109] Trial 5 finished with value: -0.006862772051776202 and parameters: {'fit_intercept': True, 'use_scaler': False, 'poly_degree': 5}. Best is trial 3 with value: -0.002900251376377368.\n",
      "[I 2025-05-17 10:22:27,257] Trial 6 finished with value: -0.006949901960131823 and parameters: {'fit_intercept': False, 'use_scaler': False, 'poly_degree': 4}. Best is trial 3 with value: -0.002900251376377368.\n",
      "[I 2025-05-17 10:22:27,452] Trial 7 finished with value: -0.006943357842808933 and parameters: {'fit_intercept': False, 'use_scaler': False, 'poly_degree': 5}. Best is trial 3 with value: -0.002900251376377368.\n",
      "[I 2025-05-17 10:22:27,592] Trial 8 finished with value: -0.004265449810969909 and parameters: {'fit_intercept': True, 'use_scaler': True, 'with_mean': True, 'with_std': True, 'poly_degree': 5}. Best is trial 3 with value: -0.002900251376377368.\n",
      "[I 2025-05-17 10:22:27,658] Trial 9 finished with value: -0.0030031129516354905 and parameters: {'fit_intercept': False, 'use_scaler': False, 'poly_degree': 1}. Best is trial 3 with value: -0.002900251376377368.\n",
      "[I 2025-05-17 10:22:27,752] Trial 10 finished with value: -0.006862772051776202 and parameters: {'fit_intercept': True, 'use_scaler': False, 'poly_degree': 5}. Best is trial 3 with value: -0.002900251376377368.\n",
      "[I 2025-05-17 10:22:27,866] Trial 11 finished with value: -0.006943357842808933 and parameters: {'fit_intercept': False, 'use_scaler': False, 'poly_degree': 5}. Best is trial 3 with value: -0.002900251376377368.\n",
      "[I 2025-05-17 10:22:28,005] Trial 12 finished with value: -0.00297418192849084 and parameters: {'fit_intercept': True, 'use_scaler': False, 'poly_degree': 1}. Best is trial 3 with value: -0.002900251376377368.\n",
      "[I 2025-05-17 10:22:28,212] Trial 13 finished with value: -0.006949901960131823 and parameters: {'fit_intercept': False, 'use_scaler': True, 'with_mean': False, 'with_std': False, 'poly_degree': 4}. Best is trial 3 with value: -0.002900251376377368.\n",
      "[I 2025-05-17 10:22:28,309] Trial 14 finished with value: -0.21583589988001445 and parameters: {'fit_intercept': False, 'use_scaler': True, 'with_mean': True, 'with_std': True, 'poly_degree': 1}. Best is trial 3 with value: -0.002900251376377368.\n",
      "[I 2025-05-17 10:22:28,392] Trial 15 finished with value: -0.00297418192849086 and parameters: {'fit_intercept': True, 'use_scaler': True, 'with_mean': False, 'with_std': True, 'poly_degree': 1}. Best is trial 3 with value: -0.002900251376377368.\n",
      "[I 2025-05-17 10:22:28,460] Trial 16 finished with value: -0.002900251375965142 and parameters: {'fit_intercept': True, 'use_scaler': True, 'with_mean': True, 'with_std': False, 'poly_degree': 2}. Best is trial 16 with value: -0.002900251375965142.\n",
      "[I 2025-05-17 10:22:28,527] Trial 17 finished with value: -0.002974181928490868 and parameters: {'fit_intercept': True, 'use_scaler': True, 'with_mean': True, 'with_std': True, 'poly_degree': 1}. Best is trial 16 with value: -0.002900251375965142.\n",
      "[I 2025-05-17 10:22:28,619] Trial 18 finished with value: -0.22139661557561524 and parameters: {'fit_intercept': False, 'use_scaler': True, 'with_mean': True, 'with_std': False, 'poly_degree': 5}. Best is trial 16 with value: -0.002900251375965142.\n",
      "[I 2025-05-17 10:22:28,696] Trial 19 finished with value: -0.002898128376183294 and parameters: {'fit_intercept': False, 'use_scaler': False, 'poly_degree': 2}. Best is trial 19 with value: -0.002898128376183294.\n",
      "[I 2025-05-17 10:22:28,764] Trial 20 finished with value: -0.002954825599303536 and parameters: {'fit_intercept': True, 'use_scaler': False, 'poly_degree': 3}. Best is trial 19 with value: -0.002898128376183294.\n",
      "[I 2025-05-17 10:22:28,829] Trial 21 finished with value: -0.002898128376183294 and parameters: {'fit_intercept': False, 'use_scaler': False, 'poly_degree': 2}. Best is trial 19 with value: -0.002898128376183294.\n",
      "[I 2025-05-17 10:22:28,898] Trial 22 finished with value: -0.006949901960131823 and parameters: {'fit_intercept': False, 'use_scaler': False, 'poly_degree': 4}. Best is trial 19 with value: -0.002898128376183294.\n",
      "[I 2025-05-17 10:22:28,966] Trial 23 finished with value: -0.19491898254228945 and parameters: {'fit_intercept': False, 'use_scaler': True, 'with_mean': True, 'with_std': False, 'poly_degree': 2}. Best is trial 19 with value: -0.002898128376183294.\n",
      "[I 2025-05-17 10:22:29,024] Trial 24 finished with value: -0.00297418192849086 and parameters: {'fit_intercept': True, 'use_scaler': True, 'with_mean': False, 'with_std': True, 'poly_degree': 1}. Best is trial 19 with value: -0.002898128376183294.\n",
      "[I 2025-05-17 10:22:29,093] Trial 25 finished with value: -0.0029234658241886298 and parameters: {'fit_intercept': False, 'use_scaler': False, 'poly_degree': 3}. Best is trial 19 with value: -0.002898128376183294.\n",
      "[I 2025-05-17 10:22:29,173] Trial 26 finished with value: -0.006949901960131823 and parameters: {'fit_intercept': False, 'use_scaler': False, 'poly_degree': 4}. Best is trial 19 with value: -0.002898128376183294.\n",
      "[I 2025-05-17 10:22:29,265] Trial 27 finished with value: -0.006862772051776202 and parameters: {'fit_intercept': True, 'use_scaler': True, 'with_mean': False, 'with_std': False, 'poly_degree': 5}. Best is trial 19 with value: -0.002898128376183294.\n",
      "[I 2025-05-17 10:22:29,343] Trial 28 finished with value: -0.002954825599303536 and parameters: {'fit_intercept': True, 'use_scaler': False, 'poly_degree': 3}. Best is trial 19 with value: -0.002898128376183294.\n",
      "[I 2025-05-17 10:22:29,449] Trial 29 finished with value: -0.22139661557561524 and parameters: {'fit_intercept': False, 'use_scaler': True, 'with_mean': True, 'with_std': False, 'poly_degree': 5}. Best is trial 19 with value: -0.002898128376183294.\n",
      "[I 2025-05-17 10:22:29,532] Trial 30 finished with value: -0.0030031129516354905 and parameters: {'fit_intercept': False, 'use_scaler': False, 'poly_degree': 1}. Best is trial 19 with value: -0.002898128376183294.\n",
      "[I 2025-05-17 10:22:29,620] Trial 31 finished with value: -0.19493609476781823 and parameters: {'fit_intercept': False, 'use_scaler': True, 'with_mean': True, 'with_std': False, 'poly_degree': 4}. Best is trial 19 with value: -0.002898128376183294.\n",
      "[I 2025-05-17 10:22:29,703] Trial 32 finished with value: -0.002898128376183294 and parameters: {'fit_intercept': False, 'use_scaler': False, 'poly_degree': 2}. Best is trial 19 with value: -0.002898128376183294.\n",
      "[I 2025-05-17 10:22:29,783] Trial 33 finished with value: -0.0029234658241886298 and parameters: {'fit_intercept': False, 'use_scaler': False, 'poly_degree': 3}. Best is trial 19 with value: -0.002898128376183294.\n",
      "[I 2025-05-17 10:22:29,864] Trial 34 finished with value: -0.006862772051776202 and parameters: {'fit_intercept': True, 'use_scaler': False, 'poly_degree': 5}. Best is trial 19 with value: -0.002898128376183294.\n",
      "[I 2025-05-17 10:22:30,035] Trial 35 finished with value: -0.003016454402943482 and parameters: {'fit_intercept': True, 'use_scaler': True, 'with_mean': False, 'with_std': True, 'poly_degree': 4}. Best is trial 19 with value: -0.002898128376183294.\n",
      "[I 2025-05-17 10:22:30,153] Trial 36 finished with value: -0.006943357842808933 and parameters: {'fit_intercept': False, 'use_scaler': False, 'poly_degree': 5}. Best is trial 19 with value: -0.002898128376183294.\n",
      "[I 2025-05-17 10:22:30,313] Trial 37 finished with value: -0.006943357842808933 and parameters: {'fit_intercept': False, 'use_scaler': False, 'poly_degree': 5}. Best is trial 19 with value: -0.002898128376183294.\n",
      "[I 2025-05-17 10:22:30,398] Trial 38 finished with value: -0.002900251376377368 and parameters: {'fit_intercept': True, 'use_scaler': False, 'poly_degree': 2}. Best is trial 19 with value: -0.002898128376183294.\n",
      "[I 2025-05-17 10:22:30,481] Trial 39 finished with value: -0.002954825599303536 and parameters: {'fit_intercept': True, 'use_scaler': False, 'poly_degree': 3}. Best is trial 19 with value: -0.002898128376183294.\n",
      "[I 2025-05-17 10:22:30,568] Trial 40 finished with value: -0.006949901960131823 and parameters: {'fit_intercept': False, 'use_scaler': False, 'poly_degree': 4}. Best is trial 19 with value: -0.002898128376183294.\n",
      "[I 2025-05-17 10:22:30,636] Trial 41 finished with value: -0.19491898254228937 and parameters: {'fit_intercept': False, 'use_scaler': True, 'with_mean': True, 'with_std': True, 'poly_degree': 2}. Best is trial 19 with value: -0.002898128376183294.\n",
      "[I 2025-05-17 10:22:30,701] Trial 42 finished with value: -0.0030109496792113306 and parameters: {'fit_intercept': True, 'use_scaler': True, 'with_mean': True, 'with_std': True, 'poly_degree': 4}. Best is trial 19 with value: -0.002898128376183294.\n",
      "[I 2025-05-17 10:22:30,770] Trial 43 finished with value: -0.002954825599303536 and parameters: {'fit_intercept': True, 'use_scaler': True, 'with_mean': False, 'with_std': False, 'poly_degree': 3}. Best is trial 19 with value: -0.002898128376183294.\n",
      "[I 2025-05-17 10:22:30,841] Trial 44 finished with value: -0.0030109496790112563 and parameters: {'fit_intercept': True, 'use_scaler': True, 'with_mean': True, 'with_std': False, 'poly_degree': 4}. Best is trial 19 with value: -0.002898128376183294.\n",
      "[I 2025-05-17 10:22:30,904] Trial 45 finished with value: -0.002954825599303536 and parameters: {'fit_intercept': True, 'use_scaler': False, 'poly_degree': 3}. Best is trial 19 with value: -0.002898128376183294.\n",
      "[I 2025-05-17 10:22:30,984] Trial 46 finished with value: -0.002962510274803748 and parameters: {'fit_intercept': True, 'use_scaler': True, 'with_mean': True, 'with_std': True, 'poly_degree': 3}. Best is trial 19 with value: -0.002898128376183294.\n",
      "[I 2025-05-17 10:22:31,062] Trial 47 finished with value: -0.006949901960131823 and parameters: {'fit_intercept': False, 'use_scaler': False, 'poly_degree': 4}. Best is trial 19 with value: -0.002898128376183294.\n",
      "[I 2025-05-17 10:22:31,163] Trial 48 finished with value: -0.003422657483218819 and parameters: {'fit_intercept': False, 'use_scaler': True, 'with_mean': False, 'with_std': True, 'poly_degree': 5}. Best is trial 19 with value: -0.002898128376183294.\n",
      "[I 2025-05-17 10:22:31,233] Trial 49 finished with value: -0.002898128376183294 and parameters: {'fit_intercept': False, 'use_scaler': False, 'poly_degree': 2}. Best is trial 19 with value: -0.002898128376183294.\n",
      "[I 2025-05-17 10:22:31,313] Trial 50 finished with value: -0.002962510274803748 and parameters: {'fit_intercept': True, 'use_scaler': True, 'with_mean': True, 'with_std': True, 'poly_degree': 3}. Best is trial 19 with value: -0.002898128376183294.\n",
      "[I 2025-05-17 10:22:31,409] Trial 51 finished with value: -0.002954825599303536 and parameters: {'fit_intercept': True, 'use_scaler': False, 'poly_degree': 3}. Best is trial 19 with value: -0.002898128376183294.\n",
      "[I 2025-05-17 10:22:31,516] Trial 52 finished with value: -0.002900251376377368 and parameters: {'fit_intercept': True, 'use_scaler': False, 'poly_degree': 2}. Best is trial 19 with value: -0.002898128376183294.\n",
      "[I 2025-05-17 10:22:31,602] Trial 53 finished with value: -0.0030031129516354905 and parameters: {'fit_intercept': False, 'use_scaler': False, 'poly_degree': 1}. Best is trial 19 with value: -0.002898128376183294.\n",
      "[I 2025-05-17 10:22:31,688] Trial 54 finished with value: -0.0029625102748015004 and parameters: {'fit_intercept': True, 'use_scaler': True, 'with_mean': True, 'with_std': False, 'poly_degree': 3}. Best is trial 19 with value: -0.002898128376183294.\n",
      "[I 2025-05-17 10:22:31,756] Trial 55 finished with value: -0.0029741819284908396 and parameters: {'fit_intercept': True, 'use_scaler': True, 'with_mean': True, 'with_std': False, 'poly_degree': 1}. Best is trial 19 with value: -0.002898128376183294.\n",
      "[I 2025-05-17 10:22:31,824] Trial 56 finished with value: -0.002974181928490868 and parameters: {'fit_intercept': True, 'use_scaler': True, 'with_mean': True, 'with_std': True, 'poly_degree': 1}. Best is trial 19 with value: -0.002898128376183294.\n",
      "[I 2025-05-17 10:22:31,905] Trial 57 finished with value: -0.006943357842808933 and parameters: {'fit_intercept': False, 'use_scaler': False, 'poly_degree': 5}. Best is trial 19 with value: -0.002898128376183294.\n",
      "[I 2025-05-17 10:22:31,963] Trial 58 finished with value: -0.19491898254228945 and parameters: {'fit_intercept': False, 'use_scaler': True, 'with_mean': True, 'with_std': False, 'poly_degree': 2}. Best is trial 19 with value: -0.002898128376183294.\n",
      "[I 2025-05-17 10:22:32,055] Trial 59 finished with value: -0.22139675313496027 and parameters: {'fit_intercept': False, 'use_scaler': True, 'with_mean': True, 'with_std': True, 'poly_degree': 5}. Best is trial 19 with value: -0.002898128376183294.\n",
      "[I 2025-05-17 10:22:32,132] Trial 60 finished with value: -0.006862772051776202 and parameters: {'fit_intercept': True, 'use_scaler': False, 'poly_degree': 5}. Best is trial 19 with value: -0.002898128376183294.\n",
      "[I 2025-05-17 10:22:32,199] Trial 61 finished with value: -0.0029002513759653972 and parameters: {'fit_intercept': True, 'use_scaler': True, 'with_mean': False, 'with_std': True, 'poly_degree': 2}. Best is trial 19 with value: -0.002898128376183294.\n",
      "[I 2025-05-17 10:22:32,265] Trial 62 finished with value: -0.00297418192849084 and parameters: {'fit_intercept': True, 'use_scaler': False, 'poly_degree': 1}. Best is trial 19 with value: -0.002898128376183294.\n",
      "[I 2025-05-17 10:22:32,355] Trial 63 finished with value: -0.006943357842808933 and parameters: {'fit_intercept': False, 'use_scaler': False, 'poly_degree': 5}. Best is trial 19 with value: -0.002898128376183294.\n",
      "[I 2025-05-17 10:22:32,426] Trial 64 finished with value: -0.21583589988001423 and parameters: {'fit_intercept': False, 'use_scaler': True, 'with_mean': True, 'with_std': False, 'poly_degree': 1}. Best is trial 19 with value: -0.002898128376183294.\n",
      "[I 2025-05-17 10:22:32,506] Trial 65 finished with value: -0.22139661557561524 and parameters: {'fit_intercept': False, 'use_scaler': True, 'with_mean': True, 'with_std': False, 'poly_degree': 5}. Best is trial 19 with value: -0.002898128376183294.\n",
      "[I 2025-05-17 10:22:32,583] Trial 66 finished with value: -0.006949901960131823 and parameters: {'fit_intercept': False, 'use_scaler': False, 'poly_degree': 4}. Best is trial 19 with value: -0.002898128376183294.\n",
      "[I 2025-05-17 10:22:32,651] Trial 67 finished with value: -0.0029234658241886298 and parameters: {'fit_intercept': False, 'use_scaler': False, 'poly_degree': 3}. Best is trial 19 with value: -0.002898128376183294.\n",
      "[I 2025-05-17 10:22:32,731] Trial 68 finished with value: -0.0034280831189119933 and parameters: {'fit_intercept': True, 'use_scaler': True, 'with_mean': False, 'with_std': True, 'poly_degree': 5}. Best is trial 19 with value: -0.002898128376183294.\n",
      "[I 2025-05-17 10:22:32,810] Trial 69 finished with value: -0.006943357842808933 and parameters: {'fit_intercept': False, 'use_scaler': False, 'poly_degree': 5}. Best is trial 19 with value: -0.002898128376183294.\n",
      "[I 2025-05-17 10:22:32,913] Trial 70 finished with value: -0.006862772051776202 and parameters: {'fit_intercept': True, 'use_scaler': True, 'with_mean': False, 'with_std': False, 'poly_degree': 5}. Best is trial 19 with value: -0.002898128376183294.\n",
      "[I 2025-05-17 10:22:32,992] Trial 71 finished with value: -0.0038729565555889675 and parameters: {'fit_intercept': True, 'use_scaler': False, 'poly_degree': 4}. Best is trial 19 with value: -0.002898128376183294.\n",
      "[I 2025-05-17 10:22:33,060] Trial 72 finished with value: -0.002900251375965142 and parameters: {'fit_intercept': True, 'use_scaler': True, 'with_mean': True, 'with_std': False, 'poly_degree': 2}. Best is trial 19 with value: -0.002898128376183294.\n",
      "[I 2025-05-17 10:22:33,129] Trial 73 finished with value: -0.0029625102673905947 and parameters: {'fit_intercept': True, 'use_scaler': True, 'with_mean': False, 'with_std': True, 'poly_degree': 3}. Best is trial 19 with value: -0.002898128376183294.\n",
      "[I 2025-05-17 10:22:33,208] Trial 74 finished with value: -0.006862772051776202 and parameters: {'fit_intercept': True, 'use_scaler': False, 'poly_degree': 5}. Best is trial 19 with value: -0.002898128376183294.\n",
      "[I 2025-05-17 10:22:33,281] Trial 75 finished with value: -0.002954825599303536 and parameters: {'fit_intercept': True, 'use_scaler': False, 'poly_degree': 3}. Best is trial 19 with value: -0.002898128376183294.\n",
      "[I 2025-05-17 10:22:33,337] Trial 76 finished with value: -0.002898128376183294 and parameters: {'fit_intercept': False, 'use_scaler': False, 'poly_degree': 2}. Best is trial 19 with value: -0.002898128376183294.\n",
      "[I 2025-05-17 10:22:33,397] Trial 77 finished with value: -0.0029625102673905947 and parameters: {'fit_intercept': True, 'use_scaler': True, 'with_mean': False, 'with_std': True, 'poly_degree': 3}. Best is trial 19 with value: -0.002898128376183294.\n",
      "[I 2025-05-17 10:22:33,476] Trial 78 finished with value: -0.0030018875931922375 and parameters: {'fit_intercept': False, 'use_scaler': True, 'with_mean': False, 'with_std': True, 'poly_degree': 4}. Best is trial 19 with value: -0.002898128376183294.\n",
      "[I 2025-05-17 10:22:33,555] Trial 79 finished with value: -0.0030018875931922375 and parameters: {'fit_intercept': False, 'use_scaler': True, 'with_mean': False, 'with_std': True, 'poly_degree': 4}. Best is trial 19 with value: -0.002898128376183294.\n",
      "[I 2025-05-17 10:22:33,619] Trial 80 finished with value: -0.0029234658241886298 and parameters: {'fit_intercept': False, 'use_scaler': True, 'with_mean': False, 'with_std': False, 'poly_degree': 3}. Best is trial 19 with value: -0.002898128376183294.\n",
      "[I 2025-05-17 10:22:33,673] Trial 81 finished with value: -0.00297418192849084 and parameters: {'fit_intercept': True, 'use_scaler': False, 'poly_degree': 1}. Best is trial 19 with value: -0.002898128376183294.\n",
      "[I 2025-05-17 10:22:33,733] Trial 82 finished with value: -0.0030031129516354905 and parameters: {'fit_intercept': False, 'use_scaler': False, 'poly_degree': 1}. Best is trial 19 with value: -0.002898128376183294.\n",
      "[I 2025-05-17 10:22:33,799] Trial 83 finished with value: -0.002954825599303536 and parameters: {'fit_intercept': True, 'use_scaler': False, 'poly_degree': 3}. Best is trial 19 with value: -0.002898128376183294.\n",
      "[I 2025-05-17 10:22:33,853] Trial 84 finished with value: -0.0030031129516354905 and parameters: {'fit_intercept': False, 'use_scaler': True, 'with_mean': False, 'with_std': False, 'poly_degree': 1}. Best is trial 19 with value: -0.002898128376183294.\n",
      "[I 2025-05-17 10:22:33,921] Trial 85 finished with value: -0.19491898254228945 and parameters: {'fit_intercept': False, 'use_scaler': True, 'with_mean': True, 'with_std': False, 'poly_degree': 2}. Best is trial 19 with value: -0.002898128376183294.\n",
      "[I 2025-05-17 10:22:34,006] Trial 86 finished with value: -0.006862772051776202 and parameters: {'fit_intercept': True, 'use_scaler': True, 'with_mean': False, 'with_std': False, 'poly_degree': 5}. Best is trial 19 with value: -0.002898128376183294.\n",
      "[I 2025-05-17 10:22:34,075] Trial 87 finished with value: -0.00297418192849086 and parameters: {'fit_intercept': True, 'use_scaler': True, 'with_mean': False, 'with_std': True, 'poly_degree': 1}. Best is trial 19 with value: -0.002898128376183294.\n",
      "[I 2025-05-17 10:22:34,155] Trial 88 finished with value: -0.0038729565555889675 and parameters: {'fit_intercept': True, 'use_scaler': True, 'with_mean': False, 'with_std': False, 'poly_degree': 4}. Best is trial 19 with value: -0.002898128376183294.\n",
      "[I 2025-05-17 10:22:34,223] Trial 89 finished with value: -0.002900251376377368 and parameters: {'fit_intercept': True, 'use_scaler': False, 'poly_degree': 2}. Best is trial 19 with value: -0.002898128376183294.\n",
      "[I 2025-05-17 10:22:34,290] Trial 90 finished with value: -0.002977223298472228 and parameters: {'fit_intercept': False, 'use_scaler': True, 'with_mean': False, 'with_std': True, 'poly_degree': 3}. Best is trial 19 with value: -0.002898128376183294.\n",
      "[I 2025-05-17 10:22:34,356] Trial 91 finished with value: -0.19233729189446178 and parameters: {'fit_intercept': False, 'use_scaler': True, 'with_mean': True, 'with_std': True, 'poly_degree': 3}. Best is trial 19 with value: -0.002898128376183294.\n",
      "[I 2025-05-17 10:22:34,418] Trial 92 finished with value: -0.0030031129516354905 and parameters: {'fit_intercept': False, 'use_scaler': True, 'with_mean': False, 'with_std': False, 'poly_degree': 1}. Best is trial 19 with value: -0.002898128376183294.\n",
      "[I 2025-05-17 10:22:34,487] Trial 93 finished with value: -0.19493609476781823 and parameters: {'fit_intercept': False, 'use_scaler': True, 'with_mean': True, 'with_std': False, 'poly_degree': 4}. Best is trial 19 with value: -0.002898128376183294.\n",
      "[I 2025-05-17 10:22:34,551] Trial 94 finished with value: -0.19493609476781823 and parameters: {'fit_intercept': False, 'use_scaler': True, 'with_mean': True, 'with_std': False, 'poly_degree': 4}. Best is trial 19 with value: -0.002898128376183294.\n",
      "[I 2025-05-17 10:22:34,632] Trial 95 finished with value: -0.003422657483218819 and parameters: {'fit_intercept': False, 'use_scaler': True, 'with_mean': False, 'with_std': True, 'poly_degree': 5}. Best is trial 19 with value: -0.002898128376183294.\n",
      "[I 2025-05-17 10:22:34,722] Trial 96 finished with value: -0.0034280831189119933 and parameters: {'fit_intercept': True, 'use_scaler': True, 'with_mean': False, 'with_std': True, 'poly_degree': 5}. Best is trial 19 with value: -0.002898128376183294.\n",
      "[I 2025-05-17 10:22:34,792] Trial 97 finished with value: -0.0030031129516354905 and parameters: {'fit_intercept': False, 'use_scaler': True, 'with_mean': False, 'with_std': False, 'poly_degree': 1}. Best is trial 19 with value: -0.002898128376183294.\n",
      "[I 2025-05-17 10:22:34,861] Trial 98 finished with value: -0.00297418192849084 and parameters: {'fit_intercept': True, 'use_scaler': False, 'poly_degree': 1}. Best is trial 19 with value: -0.002898128376183294.\n",
      "[I 2025-05-17 10:22:34,928] Trial 99 finished with value: -0.0029234658241886298 and parameters: {'fit_intercept': False, 'use_scaler': False, 'poly_degree': 3}. Best is trial 19 with value: -0.002898128376183294.\n"
     ]
    }
   ],
   "source": [
    "study.optimize(objective, n_trials=100)"
   ]
  },
  {
   "cell_type": "code",
   "execution_count": 31,
   "metadata": {},
   "outputs": [
    {
     "data": {
      "application/vnd.plotly.v1+json": {
       "config": {
        "plotlyServerURL": "https://plot.ly"
       },
       "data": [
        {
         "mode": "markers",
         "name": "Objective Value",
         "type": "scatter",
         "x": [
          0,
          1,
          2,
          3,
          4,
          5,
          6,
          7,
          8,
          9,
          10,
          11,
          12,
          13,
          14,
          15,
          16,
          17,
          18,
          19,
          20,
          21,
          22,
          23,
          24,
          25,
          26,
          27,
          28,
          29,
          30,
          31,
          32,
          33,
          34,
          35,
          36,
          37,
          38,
          39,
          40,
          41,
          42,
          43,
          44,
          45,
          46,
          47,
          48,
          49,
          50,
          51,
          52,
          53,
          54,
          55,
          56,
          57,
          58,
          59,
          60,
          61,
          62,
          63,
          64,
          65,
          66,
          67,
          68,
          69,
          70,
          71,
          72,
          73,
          74,
          75,
          76,
          77,
          78,
          79,
          80,
          81,
          82,
          83,
          84,
          85,
          86,
          87,
          88,
          89,
          90,
          91,
          92,
          93,
          94,
          95,
          96,
          97,
          98,
          99
         ],
         "y": [
          -0.00297418192849084,
          -0.006949901960131823,
          -0.00297418192849084,
          -0.002900251376377368,
          -0.0029234658241886298,
          -0.006862772051776202,
          -0.006949901960131823,
          -0.006943357842808933,
          -0.004265449810969909,
          -0.0030031129516354905,
          -0.006862772051776202,
          -0.006943357842808933,
          -0.00297418192849084,
          -0.006949901960131823,
          -0.21583589988001445,
          -0.00297418192849086,
          -0.002900251375965142,
          -0.002974181928490868,
          -0.22139661557561524,
          -0.002898128376183294,
          -0.002954825599303536,
          -0.002898128376183294,
          -0.006949901960131823,
          -0.19491898254228945,
          -0.00297418192849086,
          -0.0029234658241886298,
          -0.006949901960131823,
          -0.006862772051776202,
          -0.002954825599303536,
          -0.22139661557561524,
          -0.0030031129516354905,
          -0.19493609476781823,
          -0.002898128376183294,
          -0.0029234658241886298,
          -0.006862772051776202,
          -0.003016454402943482,
          -0.006943357842808933,
          -0.006943357842808933,
          -0.002900251376377368,
          -0.002954825599303536,
          -0.006949901960131823,
          -0.19491898254228937,
          -0.0030109496792113306,
          -0.002954825599303536,
          -0.0030109496790112563,
          -0.002954825599303536,
          -0.002962510274803748,
          -0.006949901960131823,
          -0.003422657483218819,
          -0.002898128376183294,
          -0.002962510274803748,
          -0.002954825599303536,
          -0.002900251376377368,
          -0.0030031129516354905,
          -0.0029625102748015004,
          -0.0029741819284908396,
          -0.002974181928490868,
          -0.006943357842808933,
          -0.19491898254228945,
          -0.22139675313496027,
          -0.006862772051776202,
          -0.0029002513759653972,
          -0.00297418192849084,
          -0.006943357842808933,
          -0.21583589988001423,
          -0.22139661557561524,
          -0.006949901960131823,
          -0.0029234658241886298,
          -0.0034280831189119933,
          -0.006943357842808933,
          -0.006862772051776202,
          -0.0038729565555889675,
          -0.002900251375965142,
          -0.0029625102673905947,
          -0.006862772051776202,
          -0.002954825599303536,
          -0.002898128376183294,
          -0.0029625102673905947,
          -0.0030018875931922375,
          -0.0030018875931922375,
          -0.0029234658241886298,
          -0.00297418192849084,
          -0.0030031129516354905,
          -0.002954825599303536,
          -0.0030031129516354905,
          -0.19491898254228945,
          -0.006862772051776202,
          -0.00297418192849086,
          -0.0038729565555889675,
          -0.002900251376377368,
          -0.002977223298472228,
          -0.19233729189446178,
          -0.0030031129516354905,
          -0.19493609476781823,
          -0.19493609476781823,
          -0.003422657483218819,
          -0.0034280831189119933,
          -0.0030031129516354905,
          -0.00297418192849084,
          -0.0029234658241886298
         ]
        },
        {
         "mode": "lines",
         "name": "Best Value",
         "type": "scatter",
         "x": [
          0,
          1,
          2,
          3,
          4,
          5,
          6,
          7,
          8,
          9,
          10,
          11,
          12,
          13,
          14,
          15,
          16,
          17,
          18,
          19,
          20,
          21,
          22,
          23,
          24,
          25,
          26,
          27,
          28,
          29,
          30,
          31,
          32,
          33,
          34,
          35,
          36,
          37,
          38,
          39,
          40,
          41,
          42,
          43,
          44,
          45,
          46,
          47,
          48,
          49,
          50,
          51,
          52,
          53,
          54,
          55,
          56,
          57,
          58,
          59,
          60,
          61,
          62,
          63,
          64,
          65,
          66,
          67,
          68,
          69,
          70,
          71,
          72,
          73,
          74,
          75,
          76,
          77,
          78,
          79,
          80,
          81,
          82,
          83,
          84,
          85,
          86,
          87,
          88,
          89,
          90,
          91,
          92,
          93,
          94,
          95,
          96,
          97,
          98,
          99
         ],
         "y": [
          -0.00297418192849084,
          -0.00297418192849084,
          -0.00297418192849084,
          -0.002900251376377368,
          -0.002900251376377368,
          -0.002900251376377368,
          -0.002900251376377368,
          -0.002900251376377368,
          -0.002900251376377368,
          -0.002900251376377368,
          -0.002900251376377368,
          -0.002900251376377368,
          -0.002900251376377368,
          -0.002900251376377368,
          -0.002900251376377368,
          -0.002900251376377368,
          -0.002900251375965142,
          -0.002900251375965142,
          -0.002900251375965142,
          -0.002898128376183294,
          -0.002898128376183294,
          -0.002898128376183294,
          -0.002898128376183294,
          -0.002898128376183294,
          -0.002898128376183294,
          -0.002898128376183294,
          -0.002898128376183294,
          -0.002898128376183294,
          -0.002898128376183294,
          -0.002898128376183294,
          -0.002898128376183294,
          -0.002898128376183294,
          -0.002898128376183294,
          -0.002898128376183294,
          -0.002898128376183294,
          -0.002898128376183294,
          -0.002898128376183294,
          -0.002898128376183294,
          -0.002898128376183294,
          -0.002898128376183294,
          -0.002898128376183294,
          -0.002898128376183294,
          -0.002898128376183294,
          -0.002898128376183294,
          -0.002898128376183294,
          -0.002898128376183294,
          -0.002898128376183294,
          -0.002898128376183294,
          -0.002898128376183294,
          -0.002898128376183294,
          -0.002898128376183294,
          -0.002898128376183294,
          -0.002898128376183294,
          -0.002898128376183294,
          -0.002898128376183294,
          -0.002898128376183294,
          -0.002898128376183294,
          -0.002898128376183294,
          -0.002898128376183294,
          -0.002898128376183294,
          -0.002898128376183294,
          -0.002898128376183294,
          -0.002898128376183294,
          -0.002898128376183294,
          -0.002898128376183294,
          -0.002898128376183294,
          -0.002898128376183294,
          -0.002898128376183294,
          -0.002898128376183294,
          -0.002898128376183294,
          -0.002898128376183294,
          -0.002898128376183294,
          -0.002898128376183294,
          -0.002898128376183294,
          -0.002898128376183294,
          -0.002898128376183294,
          -0.002898128376183294,
          -0.002898128376183294,
          -0.002898128376183294,
          -0.002898128376183294,
          -0.002898128376183294,
          -0.002898128376183294,
          -0.002898128376183294,
          -0.002898128376183294,
          -0.002898128376183294,
          -0.002898128376183294,
          -0.002898128376183294,
          -0.002898128376183294,
          -0.002898128376183294,
          -0.002898128376183294,
          -0.002898128376183294,
          -0.002898128376183294,
          -0.002898128376183294,
          -0.002898128376183294,
          -0.002898128376183294,
          -0.002898128376183294,
          -0.002898128376183294,
          -0.002898128376183294,
          -0.002898128376183294,
          -0.002898128376183294
         ]
        },
        {
         "marker": {
          "color": "#cccccc"
         },
         "mode": "markers",
         "name": "Infeasible Trial",
         "showlegend": false,
         "type": "scatter",
         "x": [],
         "y": []
        }
       ],
       "layout": {
        "template": {
         "data": {
          "bar": [
           {
            "error_x": {
             "color": "#2a3f5f"
            },
            "error_y": {
             "color": "#2a3f5f"
            },
            "marker": {
             "line": {
              "color": "#E5ECF6",
              "width": 0.5
             },
             "pattern": {
              "fillmode": "overlay",
              "size": 10,
              "solidity": 0.2
             }
            },
            "type": "bar"
           }
          ],
          "barpolar": [
           {
            "marker": {
             "line": {
              "color": "#E5ECF6",
              "width": 0.5
             },
             "pattern": {
              "fillmode": "overlay",
              "size": 10,
              "solidity": 0.2
             }
            },
            "type": "barpolar"
           }
          ],
          "carpet": [
           {
            "aaxis": {
             "endlinecolor": "#2a3f5f",
             "gridcolor": "white",
             "linecolor": "white",
             "minorgridcolor": "white",
             "startlinecolor": "#2a3f5f"
            },
            "baxis": {
             "endlinecolor": "#2a3f5f",
             "gridcolor": "white",
             "linecolor": "white",
             "minorgridcolor": "white",
             "startlinecolor": "#2a3f5f"
            },
            "type": "carpet"
           }
          ],
          "choropleth": [
           {
            "colorbar": {
             "outlinewidth": 0,
             "ticks": ""
            },
            "type": "choropleth"
           }
          ],
          "contour": [
           {
            "colorbar": {
             "outlinewidth": 0,
             "ticks": ""
            },
            "colorscale": [
             [
              0,
              "#0d0887"
             ],
             [
              0.1111111111111111,
              "#46039f"
             ],
             [
              0.2222222222222222,
              "#7201a8"
             ],
             [
              0.3333333333333333,
              "#9c179e"
             ],
             [
              0.4444444444444444,
              "#bd3786"
             ],
             [
              0.5555555555555556,
              "#d8576b"
             ],
             [
              0.6666666666666666,
              "#ed7953"
             ],
             [
              0.7777777777777778,
              "#fb9f3a"
             ],
             [
              0.8888888888888888,
              "#fdca26"
             ],
             [
              1,
              "#f0f921"
             ]
            ],
            "type": "contour"
           }
          ],
          "contourcarpet": [
           {
            "colorbar": {
             "outlinewidth": 0,
             "ticks": ""
            },
            "type": "contourcarpet"
           }
          ],
          "heatmap": [
           {
            "colorbar": {
             "outlinewidth": 0,
             "ticks": ""
            },
            "colorscale": [
             [
              0,
              "#0d0887"
             ],
             [
              0.1111111111111111,
              "#46039f"
             ],
             [
              0.2222222222222222,
              "#7201a8"
             ],
             [
              0.3333333333333333,
              "#9c179e"
             ],
             [
              0.4444444444444444,
              "#bd3786"
             ],
             [
              0.5555555555555556,
              "#d8576b"
             ],
             [
              0.6666666666666666,
              "#ed7953"
             ],
             [
              0.7777777777777778,
              "#fb9f3a"
             ],
             [
              0.8888888888888888,
              "#fdca26"
             ],
             [
              1,
              "#f0f921"
             ]
            ],
            "type": "heatmap"
           }
          ],
          "histogram": [
           {
            "marker": {
             "pattern": {
              "fillmode": "overlay",
              "size": 10,
              "solidity": 0.2
             }
            },
            "type": "histogram"
           }
          ],
          "histogram2d": [
           {
            "colorbar": {
             "outlinewidth": 0,
             "ticks": ""
            },
            "colorscale": [
             [
              0,
              "#0d0887"
             ],
             [
              0.1111111111111111,
              "#46039f"
             ],
             [
              0.2222222222222222,
              "#7201a8"
             ],
             [
              0.3333333333333333,
              "#9c179e"
             ],
             [
              0.4444444444444444,
              "#bd3786"
             ],
             [
              0.5555555555555556,
              "#d8576b"
             ],
             [
              0.6666666666666666,
              "#ed7953"
             ],
             [
              0.7777777777777778,
              "#fb9f3a"
             ],
             [
              0.8888888888888888,
              "#fdca26"
             ],
             [
              1,
              "#f0f921"
             ]
            ],
            "type": "histogram2d"
           }
          ],
          "histogram2dcontour": [
           {
            "colorbar": {
             "outlinewidth": 0,
             "ticks": ""
            },
            "colorscale": [
             [
              0,
              "#0d0887"
             ],
             [
              0.1111111111111111,
              "#46039f"
             ],
             [
              0.2222222222222222,
              "#7201a8"
             ],
             [
              0.3333333333333333,
              "#9c179e"
             ],
             [
              0.4444444444444444,
              "#bd3786"
             ],
             [
              0.5555555555555556,
              "#d8576b"
             ],
             [
              0.6666666666666666,
              "#ed7953"
             ],
             [
              0.7777777777777778,
              "#fb9f3a"
             ],
             [
              0.8888888888888888,
              "#fdca26"
             ],
             [
              1,
              "#f0f921"
             ]
            ],
            "type": "histogram2dcontour"
           }
          ],
          "mesh3d": [
           {
            "colorbar": {
             "outlinewidth": 0,
             "ticks": ""
            },
            "type": "mesh3d"
           }
          ],
          "parcoords": [
           {
            "line": {
             "colorbar": {
              "outlinewidth": 0,
              "ticks": ""
             }
            },
            "type": "parcoords"
           }
          ],
          "pie": [
           {
            "automargin": true,
            "type": "pie"
           }
          ],
          "scatter": [
           {
            "fillpattern": {
             "fillmode": "overlay",
             "size": 10,
             "solidity": 0.2
            },
            "type": "scatter"
           }
          ],
          "scatter3d": [
           {
            "line": {
             "colorbar": {
              "outlinewidth": 0,
              "ticks": ""
             }
            },
            "marker": {
             "colorbar": {
              "outlinewidth": 0,
              "ticks": ""
             }
            },
            "type": "scatter3d"
           }
          ],
          "scattercarpet": [
           {
            "marker": {
             "colorbar": {
              "outlinewidth": 0,
              "ticks": ""
             }
            },
            "type": "scattercarpet"
           }
          ],
          "scattergeo": [
           {
            "marker": {
             "colorbar": {
              "outlinewidth": 0,
              "ticks": ""
             }
            },
            "type": "scattergeo"
           }
          ],
          "scattergl": [
           {
            "marker": {
             "colorbar": {
              "outlinewidth": 0,
              "ticks": ""
             }
            },
            "type": "scattergl"
           }
          ],
          "scattermap": [
           {
            "marker": {
             "colorbar": {
              "outlinewidth": 0,
              "ticks": ""
             }
            },
            "type": "scattermap"
           }
          ],
          "scattermapbox": [
           {
            "marker": {
             "colorbar": {
              "outlinewidth": 0,
              "ticks": ""
             }
            },
            "type": "scattermapbox"
           }
          ],
          "scatterpolar": [
           {
            "marker": {
             "colorbar": {
              "outlinewidth": 0,
              "ticks": ""
             }
            },
            "type": "scatterpolar"
           }
          ],
          "scatterpolargl": [
           {
            "marker": {
             "colorbar": {
              "outlinewidth": 0,
              "ticks": ""
             }
            },
            "type": "scatterpolargl"
           }
          ],
          "scatterternary": [
           {
            "marker": {
             "colorbar": {
              "outlinewidth": 0,
              "ticks": ""
             }
            },
            "type": "scatterternary"
           }
          ],
          "surface": [
           {
            "colorbar": {
             "outlinewidth": 0,
             "ticks": ""
            },
            "colorscale": [
             [
              0,
              "#0d0887"
             ],
             [
              0.1111111111111111,
              "#46039f"
             ],
             [
              0.2222222222222222,
              "#7201a8"
             ],
             [
              0.3333333333333333,
              "#9c179e"
             ],
             [
              0.4444444444444444,
              "#bd3786"
             ],
             [
              0.5555555555555556,
              "#d8576b"
             ],
             [
              0.6666666666666666,
              "#ed7953"
             ],
             [
              0.7777777777777778,
              "#fb9f3a"
             ],
             [
              0.8888888888888888,
              "#fdca26"
             ],
             [
              1,
              "#f0f921"
             ]
            ],
            "type": "surface"
           }
          ],
          "table": [
           {
            "cells": {
             "fill": {
              "color": "#EBF0F8"
             },
             "line": {
              "color": "white"
             }
            },
            "header": {
             "fill": {
              "color": "#C8D4E3"
             },
             "line": {
              "color": "white"
             }
            },
            "type": "table"
           }
          ]
         },
         "layout": {
          "annotationdefaults": {
           "arrowcolor": "#2a3f5f",
           "arrowhead": 0,
           "arrowwidth": 1
          },
          "autotypenumbers": "strict",
          "coloraxis": {
           "colorbar": {
            "outlinewidth": 0,
            "ticks": ""
           }
          },
          "colorscale": {
           "diverging": [
            [
             0,
             "#8e0152"
            ],
            [
             0.1,
             "#c51b7d"
            ],
            [
             0.2,
             "#de77ae"
            ],
            [
             0.3,
             "#f1b6da"
            ],
            [
             0.4,
             "#fde0ef"
            ],
            [
             0.5,
             "#f7f7f7"
            ],
            [
             0.6,
             "#e6f5d0"
            ],
            [
             0.7,
             "#b8e186"
            ],
            [
             0.8,
             "#7fbc41"
            ],
            [
             0.9,
             "#4d9221"
            ],
            [
             1,
             "#276419"
            ]
           ],
           "sequential": [
            [
             0,
             "#0d0887"
            ],
            [
             0.1111111111111111,
             "#46039f"
            ],
            [
             0.2222222222222222,
             "#7201a8"
            ],
            [
             0.3333333333333333,
             "#9c179e"
            ],
            [
             0.4444444444444444,
             "#bd3786"
            ],
            [
             0.5555555555555556,
             "#d8576b"
            ],
            [
             0.6666666666666666,
             "#ed7953"
            ],
            [
             0.7777777777777778,
             "#fb9f3a"
            ],
            [
             0.8888888888888888,
             "#fdca26"
            ],
            [
             1,
             "#f0f921"
            ]
           ],
           "sequentialminus": [
            [
             0,
             "#0d0887"
            ],
            [
             0.1111111111111111,
             "#46039f"
            ],
            [
             0.2222222222222222,
             "#7201a8"
            ],
            [
             0.3333333333333333,
             "#9c179e"
            ],
            [
             0.4444444444444444,
             "#bd3786"
            ],
            [
             0.5555555555555556,
             "#d8576b"
            ],
            [
             0.6666666666666666,
             "#ed7953"
            ],
            [
             0.7777777777777778,
             "#fb9f3a"
            ],
            [
             0.8888888888888888,
             "#fdca26"
            ],
            [
             1,
             "#f0f921"
            ]
           ]
          },
          "colorway": [
           "#636efa",
           "#EF553B",
           "#00cc96",
           "#ab63fa",
           "#FFA15A",
           "#19d3f3",
           "#FF6692",
           "#B6E880",
           "#FF97FF",
           "#FECB52"
          ],
          "font": {
           "color": "#2a3f5f"
          },
          "geo": {
           "bgcolor": "white",
           "lakecolor": "white",
           "landcolor": "#E5ECF6",
           "showlakes": true,
           "showland": true,
           "subunitcolor": "white"
          },
          "hoverlabel": {
           "align": "left"
          },
          "hovermode": "closest",
          "mapbox": {
           "style": "light"
          },
          "paper_bgcolor": "white",
          "plot_bgcolor": "#E5ECF6",
          "polar": {
           "angularaxis": {
            "gridcolor": "white",
            "linecolor": "white",
            "ticks": ""
           },
           "bgcolor": "#E5ECF6",
           "radialaxis": {
            "gridcolor": "white",
            "linecolor": "white",
            "ticks": ""
           }
          },
          "scene": {
           "xaxis": {
            "backgroundcolor": "#E5ECF6",
            "gridcolor": "white",
            "gridwidth": 2,
            "linecolor": "white",
            "showbackground": true,
            "ticks": "",
            "zerolinecolor": "white"
           },
           "yaxis": {
            "backgroundcolor": "#E5ECF6",
            "gridcolor": "white",
            "gridwidth": 2,
            "linecolor": "white",
            "showbackground": true,
            "ticks": "",
            "zerolinecolor": "white"
           },
           "zaxis": {
            "backgroundcolor": "#E5ECF6",
            "gridcolor": "white",
            "gridwidth": 2,
            "linecolor": "white",
            "showbackground": true,
            "ticks": "",
            "zerolinecolor": "white"
           }
          },
          "shapedefaults": {
           "line": {
            "color": "#2a3f5f"
           }
          },
          "ternary": {
           "aaxis": {
            "gridcolor": "white",
            "linecolor": "white",
            "ticks": ""
           },
           "baxis": {
            "gridcolor": "white",
            "linecolor": "white",
            "ticks": ""
           },
           "bgcolor": "#E5ECF6",
           "caxis": {
            "gridcolor": "white",
            "linecolor": "white",
            "ticks": ""
           }
          },
          "title": {
           "x": 0.05
          },
          "xaxis": {
           "automargin": true,
           "gridcolor": "white",
           "linecolor": "white",
           "ticks": "",
           "title": {
            "standoff": 15
           },
           "zerolinecolor": "white",
           "zerolinewidth": 2
          },
          "yaxis": {
           "automargin": true,
           "gridcolor": "white",
           "linecolor": "white",
           "ticks": "",
           "title": {
            "standoff": 15
           },
           "zerolinecolor": "white",
           "zerolinewidth": 2
          }
         }
        },
        "title": {
         "text": "Optimization History Plot"
        },
        "xaxis": {
         "title": {
          "text": "Trial"
         }
        },
        "yaxis": {
         "title": {
          "text": "Objective Value"
         }
        }
       }
      }
     },
     "metadata": {},
     "output_type": "display_data"
    }
   ],
   "source": [
    "optuna.visualization.plot_optimization_history(study)"
   ]
  },
  {
   "cell_type": "code",
   "execution_count": 32,
   "metadata": {},
   "outputs": [
    {
     "name": "stdout",
     "output_type": "stream",
     "text": [
      "Best Hyperparameters: {'fit_intercept': False, 'use_scaler': False, 'poly_degree': 2}\n"
     ]
    }
   ],
   "source": [
    "best_params = study.best_params \n",
    "print(f\"Best Hyperparameters: {best_params}\")"
   ]
  },
  {
   "cell_type": "code",
   "execution_count": 33,
   "metadata": {},
   "outputs": [
    {
     "data": {
      "application/vnd.plotly.v1+json": {
       "config": {
        "plotlyServerURL": "https://plot.ly"
       },
       "data": [
        {
         "marker": {
          "color": [
           0,
           1,
           2,
           3,
           4,
           5,
           6,
           7,
           8,
           9,
           10,
           11,
           12,
           13,
           14,
           15,
           16,
           17,
           18,
           19,
           20,
           21,
           22,
           23,
           24,
           25,
           26,
           27,
           28,
           29,
           30,
           31,
           32,
           33,
           34,
           35,
           36,
           37,
           38,
           39,
           40,
           41,
           42,
           43,
           44,
           45,
           46,
           47,
           48,
           49,
           50,
           51,
           52,
           53,
           54,
           55,
           56,
           57,
           58,
           59,
           60,
           61,
           62,
           63,
           64,
           65,
           66,
           67,
           68,
           69,
           70,
           71,
           72,
           73,
           74,
           75,
           76,
           77,
           78,
           79,
           80,
           81,
           82,
           83,
           84,
           85,
           86,
           87,
           88,
           89,
           90,
           91,
           92,
           93,
           94,
           95,
           96,
           97,
           98,
           99
          ],
          "colorbar": {
           "title": {
            "text": "Trial"
           },
           "x": 1,
           "xpad": 40
          },
          "colorscale": [
           [
            0,
            "rgb(247,251,255)"
           ],
           [
            0.125,
            "rgb(222,235,247)"
           ],
           [
            0.25,
            "rgb(198,219,239)"
           ],
           [
            0.375,
            "rgb(158,202,225)"
           ],
           [
            0.5,
            "rgb(107,174,214)"
           ],
           [
            0.625,
            "rgb(66,146,198)"
           ],
           [
            0.75,
            "rgb(33,113,181)"
           ],
           [
            0.875,
            "rgb(8,81,156)"
           ],
           [
            1,
            "rgb(8,48,107)"
           ]
          ],
          "line": {
           "color": "Grey",
           "width": 0.5
          },
          "showscale": true
         },
         "mode": "markers",
         "name": "Feasible Trial",
         "showlegend": false,
         "type": "scatter",
         "x": [
          true,
          false,
          true,
          true,
          false,
          true,
          false,
          false,
          true,
          false,
          true,
          false,
          true,
          false,
          false,
          true,
          true,
          true,
          false,
          false,
          true,
          false,
          false,
          false,
          true,
          false,
          false,
          true,
          true,
          false,
          false,
          false,
          false,
          false,
          true,
          true,
          false,
          false,
          true,
          true,
          false,
          false,
          true,
          true,
          true,
          true,
          true,
          false,
          false,
          false,
          true,
          true,
          true,
          false,
          true,
          true,
          true,
          false,
          false,
          false,
          true,
          true,
          true,
          false,
          false,
          false,
          false,
          false,
          true,
          false,
          true,
          true,
          true,
          true,
          true,
          true,
          false,
          true,
          false,
          false,
          false,
          true,
          false,
          true,
          false,
          false,
          true,
          true,
          true,
          true,
          false,
          false,
          false,
          false,
          false,
          false,
          true,
          false,
          true,
          false
         ],
         "xaxis": "x",
         "y": [
          -0.00297418192849084,
          -0.006949901960131823,
          -0.00297418192849084,
          -0.002900251376377368,
          -0.0029234658241886298,
          -0.006862772051776202,
          -0.006949901960131823,
          -0.006943357842808933,
          -0.004265449810969909,
          -0.0030031129516354905,
          -0.006862772051776202,
          -0.006943357842808933,
          -0.00297418192849084,
          -0.006949901960131823,
          -0.21583589988001445,
          -0.00297418192849086,
          -0.002900251375965142,
          -0.002974181928490868,
          -0.22139661557561524,
          -0.002898128376183294,
          -0.002954825599303536,
          -0.002898128376183294,
          -0.006949901960131823,
          -0.19491898254228945,
          -0.00297418192849086,
          -0.0029234658241886298,
          -0.006949901960131823,
          -0.006862772051776202,
          -0.002954825599303536,
          -0.22139661557561524,
          -0.0030031129516354905,
          -0.19493609476781823,
          -0.002898128376183294,
          -0.0029234658241886298,
          -0.006862772051776202,
          -0.003016454402943482,
          -0.006943357842808933,
          -0.006943357842808933,
          -0.002900251376377368,
          -0.002954825599303536,
          -0.006949901960131823,
          -0.19491898254228937,
          -0.0030109496792113306,
          -0.002954825599303536,
          -0.0030109496790112563,
          -0.002954825599303536,
          -0.002962510274803748,
          -0.006949901960131823,
          -0.003422657483218819,
          -0.002898128376183294,
          -0.002962510274803748,
          -0.002954825599303536,
          -0.002900251376377368,
          -0.0030031129516354905,
          -0.0029625102748015004,
          -0.0029741819284908396,
          -0.002974181928490868,
          -0.006943357842808933,
          -0.19491898254228945,
          -0.22139675313496027,
          -0.006862772051776202,
          -0.0029002513759653972,
          -0.00297418192849084,
          -0.006943357842808933,
          -0.21583589988001423,
          -0.22139661557561524,
          -0.006949901960131823,
          -0.0029234658241886298,
          -0.0034280831189119933,
          -0.006943357842808933,
          -0.006862772051776202,
          -0.0038729565555889675,
          -0.002900251375965142,
          -0.0029625102673905947,
          -0.006862772051776202,
          -0.002954825599303536,
          -0.002898128376183294,
          -0.0029625102673905947,
          -0.0030018875931922375,
          -0.0030018875931922375,
          -0.0029234658241886298,
          -0.00297418192849084,
          -0.0030031129516354905,
          -0.002954825599303536,
          -0.0030031129516354905,
          -0.19491898254228945,
          -0.006862772051776202,
          -0.00297418192849086,
          -0.0038729565555889675,
          -0.002900251376377368,
          -0.002977223298472228,
          -0.19233729189446178,
          -0.0030031129516354905,
          -0.19493609476781823,
          -0.19493609476781823,
          -0.003422657483218819,
          -0.0034280831189119933,
          -0.0030031129516354905,
          -0.00297418192849084,
          -0.0029234658241886298
         ],
         "yaxis": "y"
        },
        {
         "marker": {
          "color": [
           0,
           1,
           2,
           3,
           4,
           5,
           6,
           7,
           8,
           9,
           10,
           11,
           12,
           13,
           14,
           15,
           16,
           17,
           18,
           19,
           20,
           21,
           22,
           23,
           24,
           25,
           26,
           27,
           28,
           29,
           30,
           31,
           32,
           33,
           34,
           35,
           36,
           37,
           38,
           39,
           40,
           41,
           42,
           43,
           44,
           45,
           46,
           47,
           48,
           49,
           50,
           51,
           52,
           53,
           54,
           55,
           56,
           57,
           58,
           59,
           60,
           61,
           62,
           63,
           64,
           65,
           66,
           67,
           68,
           69,
           70,
           71,
           72,
           73,
           74,
           75,
           76,
           77,
           78,
           79,
           80,
           81,
           82,
           83,
           84,
           85,
           86,
           87,
           88,
           89,
           90,
           91,
           92,
           93,
           94,
           95,
           96,
           97,
           98,
           99
          ],
          "colorbar": {
           "title": {
            "text": "Trial"
           },
           "x": 1,
           "xpad": 40
          },
          "colorscale": [
           [
            0,
            "rgb(247,251,255)"
           ],
           [
            0.125,
            "rgb(222,235,247)"
           ],
           [
            0.25,
            "rgb(198,219,239)"
           ],
           [
            0.375,
            "rgb(158,202,225)"
           ],
           [
            0.5,
            "rgb(107,174,214)"
           ],
           [
            0.625,
            "rgb(66,146,198)"
           ],
           [
            0.75,
            "rgb(33,113,181)"
           ],
           [
            0.875,
            "rgb(8,81,156)"
           ],
           [
            1,
            "rgb(8,48,107)"
           ]
          ],
          "line": {
           "color": "Grey",
           "width": 0.5
          },
          "showscale": false
         },
         "mode": "markers",
         "name": "Feasible Trial",
         "showlegend": false,
         "type": "scatter",
         "x": [
          1,
          4,
          1,
          2,
          3,
          5,
          4,
          5,
          5,
          1,
          5,
          5,
          1,
          4,
          1,
          1,
          2,
          1,
          5,
          2,
          3,
          2,
          4,
          2,
          1,
          3,
          4,
          5,
          3,
          5,
          1,
          4,
          2,
          3,
          5,
          4,
          5,
          5,
          2,
          3,
          4,
          2,
          4,
          3,
          4,
          3,
          3,
          4,
          5,
          2,
          3,
          3,
          2,
          1,
          3,
          1,
          1,
          5,
          2,
          5,
          5,
          2,
          1,
          5,
          1,
          5,
          4,
          3,
          5,
          5,
          5,
          4,
          2,
          3,
          5,
          3,
          2,
          3,
          4,
          4,
          3,
          1,
          1,
          3,
          1,
          2,
          5,
          1,
          4,
          2,
          3,
          3,
          1,
          4,
          4,
          5,
          5,
          1,
          1,
          3
         ],
         "xaxis": "x2",
         "y": [
          -0.00297418192849084,
          -0.006949901960131823,
          -0.00297418192849084,
          -0.002900251376377368,
          -0.0029234658241886298,
          -0.006862772051776202,
          -0.006949901960131823,
          -0.006943357842808933,
          -0.004265449810969909,
          -0.0030031129516354905,
          -0.006862772051776202,
          -0.006943357842808933,
          -0.00297418192849084,
          -0.006949901960131823,
          -0.21583589988001445,
          -0.00297418192849086,
          -0.002900251375965142,
          -0.002974181928490868,
          -0.22139661557561524,
          -0.002898128376183294,
          -0.002954825599303536,
          -0.002898128376183294,
          -0.006949901960131823,
          -0.19491898254228945,
          -0.00297418192849086,
          -0.0029234658241886298,
          -0.006949901960131823,
          -0.006862772051776202,
          -0.002954825599303536,
          -0.22139661557561524,
          -0.0030031129516354905,
          -0.19493609476781823,
          -0.002898128376183294,
          -0.0029234658241886298,
          -0.006862772051776202,
          -0.003016454402943482,
          -0.006943357842808933,
          -0.006943357842808933,
          -0.002900251376377368,
          -0.002954825599303536,
          -0.006949901960131823,
          -0.19491898254228937,
          -0.0030109496792113306,
          -0.002954825599303536,
          -0.0030109496790112563,
          -0.002954825599303536,
          -0.002962510274803748,
          -0.006949901960131823,
          -0.003422657483218819,
          -0.002898128376183294,
          -0.002962510274803748,
          -0.002954825599303536,
          -0.002900251376377368,
          -0.0030031129516354905,
          -0.0029625102748015004,
          -0.0029741819284908396,
          -0.002974181928490868,
          -0.006943357842808933,
          -0.19491898254228945,
          -0.22139675313496027,
          -0.006862772051776202,
          -0.0029002513759653972,
          -0.00297418192849084,
          -0.006943357842808933,
          -0.21583589988001423,
          -0.22139661557561524,
          -0.006949901960131823,
          -0.0029234658241886298,
          -0.0034280831189119933,
          -0.006943357842808933,
          -0.006862772051776202,
          -0.0038729565555889675,
          -0.002900251375965142,
          -0.0029625102673905947,
          -0.006862772051776202,
          -0.002954825599303536,
          -0.002898128376183294,
          -0.0029625102673905947,
          -0.0030018875931922375,
          -0.0030018875931922375,
          -0.0029234658241886298,
          -0.00297418192849084,
          -0.0030031129516354905,
          -0.002954825599303536,
          -0.0030031129516354905,
          -0.19491898254228945,
          -0.006862772051776202,
          -0.00297418192849086,
          -0.0038729565555889675,
          -0.002900251376377368,
          -0.002977223298472228,
          -0.19233729189446178,
          -0.0030031129516354905,
          -0.19493609476781823,
          -0.19493609476781823,
          -0.003422657483218819,
          -0.0034280831189119933,
          -0.0030031129516354905,
          -0.00297418192849084,
          -0.0029234658241886298
         ],
         "yaxis": "y2"
        },
        {
         "marker": {
          "color": [
           0,
           1,
           2,
           3,
           4,
           5,
           6,
           7,
           8,
           9,
           10,
           11,
           12,
           13,
           14,
           15,
           16,
           17,
           18,
           19,
           20,
           21,
           22,
           23,
           24,
           25,
           26,
           27,
           28,
           29,
           30,
           31,
           32,
           33,
           34,
           35,
           36,
           37,
           38,
           39,
           40,
           41,
           42,
           43,
           44,
           45,
           46,
           47,
           48,
           49,
           50,
           51,
           52,
           53,
           54,
           55,
           56,
           57,
           58,
           59,
           60,
           61,
           62,
           63,
           64,
           65,
           66,
           67,
           68,
           69,
           70,
           71,
           72,
           73,
           74,
           75,
           76,
           77,
           78,
           79,
           80,
           81,
           82,
           83,
           84,
           85,
           86,
           87,
           88,
           89,
           90,
           91,
           92,
           93,
           94,
           95,
           96,
           97,
           98,
           99
          ],
          "colorbar": {
           "title": {
            "text": "Trial"
           },
           "x": 1,
           "xpad": 40
          },
          "colorscale": [
           [
            0,
            "rgb(247,251,255)"
           ],
           [
            0.125,
            "rgb(222,235,247)"
           ],
           [
            0.25,
            "rgb(198,219,239)"
           ],
           [
            0.375,
            "rgb(158,202,225)"
           ],
           [
            0.5,
            "rgb(107,174,214)"
           ],
           [
            0.625,
            "rgb(66,146,198)"
           ],
           [
            0.75,
            "rgb(33,113,181)"
           ],
           [
            0.875,
            "rgb(8,81,156)"
           ],
           [
            1,
            "rgb(8,48,107)"
           ]
          ],
          "line": {
           "color": "Grey",
           "width": 0.5
          },
          "showscale": false
         },
         "mode": "markers",
         "name": "Feasible Trial",
         "showlegend": false,
         "type": "scatter",
         "x": [
          false,
          false,
          false,
          false,
          true,
          false,
          false,
          false,
          true,
          false,
          false,
          false,
          false,
          true,
          true,
          true,
          true,
          true,
          true,
          false,
          false,
          false,
          false,
          true,
          true,
          false,
          false,
          true,
          false,
          true,
          false,
          true,
          false,
          false,
          false,
          true,
          false,
          false,
          false,
          false,
          false,
          true,
          true,
          true,
          true,
          false,
          true,
          false,
          true,
          false,
          true,
          false,
          false,
          false,
          true,
          true,
          true,
          false,
          true,
          true,
          false,
          true,
          false,
          false,
          true,
          true,
          false,
          false,
          true,
          false,
          true,
          false,
          true,
          true,
          false,
          false,
          false,
          true,
          true,
          true,
          true,
          false,
          false,
          false,
          true,
          true,
          true,
          true,
          true,
          false,
          true,
          true,
          true,
          true,
          true,
          true,
          true,
          true,
          false,
          false
         ],
         "xaxis": "x3",
         "y": [
          -0.00297418192849084,
          -0.006949901960131823,
          -0.00297418192849084,
          -0.002900251376377368,
          -0.0029234658241886298,
          -0.006862772051776202,
          -0.006949901960131823,
          -0.006943357842808933,
          -0.004265449810969909,
          -0.0030031129516354905,
          -0.006862772051776202,
          -0.006943357842808933,
          -0.00297418192849084,
          -0.006949901960131823,
          -0.21583589988001445,
          -0.00297418192849086,
          -0.002900251375965142,
          -0.002974181928490868,
          -0.22139661557561524,
          -0.002898128376183294,
          -0.002954825599303536,
          -0.002898128376183294,
          -0.006949901960131823,
          -0.19491898254228945,
          -0.00297418192849086,
          -0.0029234658241886298,
          -0.006949901960131823,
          -0.006862772051776202,
          -0.002954825599303536,
          -0.22139661557561524,
          -0.0030031129516354905,
          -0.19493609476781823,
          -0.002898128376183294,
          -0.0029234658241886298,
          -0.006862772051776202,
          -0.003016454402943482,
          -0.006943357842808933,
          -0.006943357842808933,
          -0.002900251376377368,
          -0.002954825599303536,
          -0.006949901960131823,
          -0.19491898254228937,
          -0.0030109496792113306,
          -0.002954825599303536,
          -0.0030109496790112563,
          -0.002954825599303536,
          -0.002962510274803748,
          -0.006949901960131823,
          -0.003422657483218819,
          -0.002898128376183294,
          -0.002962510274803748,
          -0.002954825599303536,
          -0.002900251376377368,
          -0.0030031129516354905,
          -0.0029625102748015004,
          -0.0029741819284908396,
          -0.002974181928490868,
          -0.006943357842808933,
          -0.19491898254228945,
          -0.22139675313496027,
          -0.006862772051776202,
          -0.0029002513759653972,
          -0.00297418192849084,
          -0.006943357842808933,
          -0.21583589988001423,
          -0.22139661557561524,
          -0.006949901960131823,
          -0.0029234658241886298,
          -0.0034280831189119933,
          -0.006943357842808933,
          -0.006862772051776202,
          -0.0038729565555889675,
          -0.002900251375965142,
          -0.0029625102673905947,
          -0.006862772051776202,
          -0.002954825599303536,
          -0.002898128376183294,
          -0.0029625102673905947,
          -0.0030018875931922375,
          -0.0030018875931922375,
          -0.0029234658241886298,
          -0.00297418192849084,
          -0.0030031129516354905,
          -0.002954825599303536,
          -0.0030031129516354905,
          -0.19491898254228945,
          -0.006862772051776202,
          -0.00297418192849086,
          -0.0038729565555889675,
          -0.002900251376377368,
          -0.002977223298472228,
          -0.19233729189446178,
          -0.0030031129516354905,
          -0.19493609476781823,
          -0.19493609476781823,
          -0.003422657483218819,
          -0.0034280831189119933,
          -0.0030031129516354905,
          -0.00297418192849084,
          -0.0029234658241886298
         ],
         "yaxis": "y3"
        }
       ],
       "layout": {
        "template": {
         "data": {
          "bar": [
           {
            "error_x": {
             "color": "#2a3f5f"
            },
            "error_y": {
             "color": "#2a3f5f"
            },
            "marker": {
             "line": {
              "color": "#E5ECF6",
              "width": 0.5
             },
             "pattern": {
              "fillmode": "overlay",
              "size": 10,
              "solidity": 0.2
             }
            },
            "type": "bar"
           }
          ],
          "barpolar": [
           {
            "marker": {
             "line": {
              "color": "#E5ECF6",
              "width": 0.5
             },
             "pattern": {
              "fillmode": "overlay",
              "size": 10,
              "solidity": 0.2
             }
            },
            "type": "barpolar"
           }
          ],
          "carpet": [
           {
            "aaxis": {
             "endlinecolor": "#2a3f5f",
             "gridcolor": "white",
             "linecolor": "white",
             "minorgridcolor": "white",
             "startlinecolor": "#2a3f5f"
            },
            "baxis": {
             "endlinecolor": "#2a3f5f",
             "gridcolor": "white",
             "linecolor": "white",
             "minorgridcolor": "white",
             "startlinecolor": "#2a3f5f"
            },
            "type": "carpet"
           }
          ],
          "choropleth": [
           {
            "colorbar": {
             "outlinewidth": 0,
             "ticks": ""
            },
            "type": "choropleth"
           }
          ],
          "contour": [
           {
            "colorbar": {
             "outlinewidth": 0,
             "ticks": ""
            },
            "colorscale": [
             [
              0,
              "#0d0887"
             ],
             [
              0.1111111111111111,
              "#46039f"
             ],
             [
              0.2222222222222222,
              "#7201a8"
             ],
             [
              0.3333333333333333,
              "#9c179e"
             ],
             [
              0.4444444444444444,
              "#bd3786"
             ],
             [
              0.5555555555555556,
              "#d8576b"
             ],
             [
              0.6666666666666666,
              "#ed7953"
             ],
             [
              0.7777777777777778,
              "#fb9f3a"
             ],
             [
              0.8888888888888888,
              "#fdca26"
             ],
             [
              1,
              "#f0f921"
             ]
            ],
            "type": "contour"
           }
          ],
          "contourcarpet": [
           {
            "colorbar": {
             "outlinewidth": 0,
             "ticks": ""
            },
            "type": "contourcarpet"
           }
          ],
          "heatmap": [
           {
            "colorbar": {
             "outlinewidth": 0,
             "ticks": ""
            },
            "colorscale": [
             [
              0,
              "#0d0887"
             ],
             [
              0.1111111111111111,
              "#46039f"
             ],
             [
              0.2222222222222222,
              "#7201a8"
             ],
             [
              0.3333333333333333,
              "#9c179e"
             ],
             [
              0.4444444444444444,
              "#bd3786"
             ],
             [
              0.5555555555555556,
              "#d8576b"
             ],
             [
              0.6666666666666666,
              "#ed7953"
             ],
             [
              0.7777777777777778,
              "#fb9f3a"
             ],
             [
              0.8888888888888888,
              "#fdca26"
             ],
             [
              1,
              "#f0f921"
             ]
            ],
            "type": "heatmap"
           }
          ],
          "histogram": [
           {
            "marker": {
             "pattern": {
              "fillmode": "overlay",
              "size": 10,
              "solidity": 0.2
             }
            },
            "type": "histogram"
           }
          ],
          "histogram2d": [
           {
            "colorbar": {
             "outlinewidth": 0,
             "ticks": ""
            },
            "colorscale": [
             [
              0,
              "#0d0887"
             ],
             [
              0.1111111111111111,
              "#46039f"
             ],
             [
              0.2222222222222222,
              "#7201a8"
             ],
             [
              0.3333333333333333,
              "#9c179e"
             ],
             [
              0.4444444444444444,
              "#bd3786"
             ],
             [
              0.5555555555555556,
              "#d8576b"
             ],
             [
              0.6666666666666666,
              "#ed7953"
             ],
             [
              0.7777777777777778,
              "#fb9f3a"
             ],
             [
              0.8888888888888888,
              "#fdca26"
             ],
             [
              1,
              "#f0f921"
             ]
            ],
            "type": "histogram2d"
           }
          ],
          "histogram2dcontour": [
           {
            "colorbar": {
             "outlinewidth": 0,
             "ticks": ""
            },
            "colorscale": [
             [
              0,
              "#0d0887"
             ],
             [
              0.1111111111111111,
              "#46039f"
             ],
             [
              0.2222222222222222,
              "#7201a8"
             ],
             [
              0.3333333333333333,
              "#9c179e"
             ],
             [
              0.4444444444444444,
              "#bd3786"
             ],
             [
              0.5555555555555556,
              "#d8576b"
             ],
             [
              0.6666666666666666,
              "#ed7953"
             ],
             [
              0.7777777777777778,
              "#fb9f3a"
             ],
             [
              0.8888888888888888,
              "#fdca26"
             ],
             [
              1,
              "#f0f921"
             ]
            ],
            "type": "histogram2dcontour"
           }
          ],
          "mesh3d": [
           {
            "colorbar": {
             "outlinewidth": 0,
             "ticks": ""
            },
            "type": "mesh3d"
           }
          ],
          "parcoords": [
           {
            "line": {
             "colorbar": {
              "outlinewidth": 0,
              "ticks": ""
             }
            },
            "type": "parcoords"
           }
          ],
          "pie": [
           {
            "automargin": true,
            "type": "pie"
           }
          ],
          "scatter": [
           {
            "fillpattern": {
             "fillmode": "overlay",
             "size": 10,
             "solidity": 0.2
            },
            "type": "scatter"
           }
          ],
          "scatter3d": [
           {
            "line": {
             "colorbar": {
              "outlinewidth": 0,
              "ticks": ""
             }
            },
            "marker": {
             "colorbar": {
              "outlinewidth": 0,
              "ticks": ""
             }
            },
            "type": "scatter3d"
           }
          ],
          "scattercarpet": [
           {
            "marker": {
             "colorbar": {
              "outlinewidth": 0,
              "ticks": ""
             }
            },
            "type": "scattercarpet"
           }
          ],
          "scattergeo": [
           {
            "marker": {
             "colorbar": {
              "outlinewidth": 0,
              "ticks": ""
             }
            },
            "type": "scattergeo"
           }
          ],
          "scattergl": [
           {
            "marker": {
             "colorbar": {
              "outlinewidth": 0,
              "ticks": ""
             }
            },
            "type": "scattergl"
           }
          ],
          "scattermap": [
           {
            "marker": {
             "colorbar": {
              "outlinewidth": 0,
              "ticks": ""
             }
            },
            "type": "scattermap"
           }
          ],
          "scattermapbox": [
           {
            "marker": {
             "colorbar": {
              "outlinewidth": 0,
              "ticks": ""
             }
            },
            "type": "scattermapbox"
           }
          ],
          "scatterpolar": [
           {
            "marker": {
             "colorbar": {
              "outlinewidth": 0,
              "ticks": ""
             }
            },
            "type": "scatterpolar"
           }
          ],
          "scatterpolargl": [
           {
            "marker": {
             "colorbar": {
              "outlinewidth": 0,
              "ticks": ""
             }
            },
            "type": "scatterpolargl"
           }
          ],
          "scatterternary": [
           {
            "marker": {
             "colorbar": {
              "outlinewidth": 0,
              "ticks": ""
             }
            },
            "type": "scatterternary"
           }
          ],
          "surface": [
           {
            "colorbar": {
             "outlinewidth": 0,
             "ticks": ""
            },
            "colorscale": [
             [
              0,
              "#0d0887"
             ],
             [
              0.1111111111111111,
              "#46039f"
             ],
             [
              0.2222222222222222,
              "#7201a8"
             ],
             [
              0.3333333333333333,
              "#9c179e"
             ],
             [
              0.4444444444444444,
              "#bd3786"
             ],
             [
              0.5555555555555556,
              "#d8576b"
             ],
             [
              0.6666666666666666,
              "#ed7953"
             ],
             [
              0.7777777777777778,
              "#fb9f3a"
             ],
             [
              0.8888888888888888,
              "#fdca26"
             ],
             [
              1,
              "#f0f921"
             ]
            ],
            "type": "surface"
           }
          ],
          "table": [
           {
            "cells": {
             "fill": {
              "color": "#EBF0F8"
             },
             "line": {
              "color": "white"
             }
            },
            "header": {
             "fill": {
              "color": "#C8D4E3"
             },
             "line": {
              "color": "white"
             }
            },
            "type": "table"
           }
          ]
         },
         "layout": {
          "annotationdefaults": {
           "arrowcolor": "#2a3f5f",
           "arrowhead": 0,
           "arrowwidth": 1
          },
          "autotypenumbers": "strict",
          "coloraxis": {
           "colorbar": {
            "outlinewidth": 0,
            "ticks": ""
           }
          },
          "colorscale": {
           "diverging": [
            [
             0,
             "#8e0152"
            ],
            [
             0.1,
             "#c51b7d"
            ],
            [
             0.2,
             "#de77ae"
            ],
            [
             0.3,
             "#f1b6da"
            ],
            [
             0.4,
             "#fde0ef"
            ],
            [
             0.5,
             "#f7f7f7"
            ],
            [
             0.6,
             "#e6f5d0"
            ],
            [
             0.7,
             "#b8e186"
            ],
            [
             0.8,
             "#7fbc41"
            ],
            [
             0.9,
             "#4d9221"
            ],
            [
             1,
             "#276419"
            ]
           ],
           "sequential": [
            [
             0,
             "#0d0887"
            ],
            [
             0.1111111111111111,
             "#46039f"
            ],
            [
             0.2222222222222222,
             "#7201a8"
            ],
            [
             0.3333333333333333,
             "#9c179e"
            ],
            [
             0.4444444444444444,
             "#bd3786"
            ],
            [
             0.5555555555555556,
             "#d8576b"
            ],
            [
             0.6666666666666666,
             "#ed7953"
            ],
            [
             0.7777777777777778,
             "#fb9f3a"
            ],
            [
             0.8888888888888888,
             "#fdca26"
            ],
            [
             1,
             "#f0f921"
            ]
           ],
           "sequentialminus": [
            [
             0,
             "#0d0887"
            ],
            [
             0.1111111111111111,
             "#46039f"
            ],
            [
             0.2222222222222222,
             "#7201a8"
            ],
            [
             0.3333333333333333,
             "#9c179e"
            ],
            [
             0.4444444444444444,
             "#bd3786"
            ],
            [
             0.5555555555555556,
             "#d8576b"
            ],
            [
             0.6666666666666666,
             "#ed7953"
            ],
            [
             0.7777777777777778,
             "#fb9f3a"
            ],
            [
             0.8888888888888888,
             "#fdca26"
            ],
            [
             1,
             "#f0f921"
            ]
           ]
          },
          "colorway": [
           "#636efa",
           "#EF553B",
           "#00cc96",
           "#ab63fa",
           "#FFA15A",
           "#19d3f3",
           "#FF6692",
           "#B6E880",
           "#FF97FF",
           "#FECB52"
          ],
          "font": {
           "color": "#2a3f5f"
          },
          "geo": {
           "bgcolor": "white",
           "lakecolor": "white",
           "landcolor": "#E5ECF6",
           "showlakes": true,
           "showland": true,
           "subunitcolor": "white"
          },
          "hoverlabel": {
           "align": "left"
          },
          "hovermode": "closest",
          "mapbox": {
           "style": "light"
          },
          "paper_bgcolor": "white",
          "plot_bgcolor": "#E5ECF6",
          "polar": {
           "angularaxis": {
            "gridcolor": "white",
            "linecolor": "white",
            "ticks": ""
           },
           "bgcolor": "#E5ECF6",
           "radialaxis": {
            "gridcolor": "white",
            "linecolor": "white",
            "ticks": ""
           }
          },
          "scene": {
           "xaxis": {
            "backgroundcolor": "#E5ECF6",
            "gridcolor": "white",
            "gridwidth": 2,
            "linecolor": "white",
            "showbackground": true,
            "ticks": "",
            "zerolinecolor": "white"
           },
           "yaxis": {
            "backgroundcolor": "#E5ECF6",
            "gridcolor": "white",
            "gridwidth": 2,
            "linecolor": "white",
            "showbackground": true,
            "ticks": "",
            "zerolinecolor": "white"
           },
           "zaxis": {
            "backgroundcolor": "#E5ECF6",
            "gridcolor": "white",
            "gridwidth": 2,
            "linecolor": "white",
            "showbackground": true,
            "ticks": "",
            "zerolinecolor": "white"
           }
          },
          "shapedefaults": {
           "line": {
            "color": "#2a3f5f"
           }
          },
          "ternary": {
           "aaxis": {
            "gridcolor": "white",
            "linecolor": "white",
            "ticks": ""
           },
           "baxis": {
            "gridcolor": "white",
            "linecolor": "white",
            "ticks": ""
           },
           "bgcolor": "#E5ECF6",
           "caxis": {
            "gridcolor": "white",
            "linecolor": "white",
            "ticks": ""
           }
          },
          "title": {
           "x": 0.05
          },
          "xaxis": {
           "automargin": true,
           "gridcolor": "white",
           "linecolor": "white",
           "ticks": "",
           "title": {
            "standoff": 15
           },
           "zerolinecolor": "white",
           "zerolinewidth": 2
          },
          "yaxis": {
           "automargin": true,
           "gridcolor": "white",
           "linecolor": "white",
           "ticks": "",
           "title": {
            "standoff": 15
           },
           "zerolinecolor": "white",
           "zerolinewidth": 2
          }
         }
        },
        "title": {
         "text": "Slice Plot"
        },
        "xaxis": {
         "anchor": "y",
         "categoryarray": [
          false,
          true
         ],
         "categoryorder": "array",
         "domain": [
          0,
          0.2888888888888889
         ],
         "title": {
          "text": "fit_intercept"
         },
         "type": "category"
        },
        "xaxis2": {
         "anchor": "y2",
         "domain": [
          0.35555555555555557,
          0.6444444444444445
         ],
         "title": {
          "text": "poly_degree"
         }
        },
        "xaxis3": {
         "anchor": "y3",
         "categoryarray": [
          false,
          true
         ],
         "categoryorder": "array",
         "domain": [
          0.7111111111111111,
          1
         ],
         "title": {
          "text": "use_scaler"
         },
         "type": "category"
        },
        "yaxis": {
         "anchor": "x",
         "domain": [
          0,
          1
         ],
         "title": {
          "text": "Objective Value"
         }
        },
        "yaxis2": {
         "anchor": "x2",
         "domain": [
          0,
          1
         ],
         "matches": "y",
         "showticklabels": false
        },
        "yaxis3": {
         "anchor": "x3",
         "domain": [
          0,
          1
         ],
         "matches": "y",
         "showticklabels": false
        }
       }
      }
     },
     "metadata": {},
     "output_type": "display_data"
    }
   ],
   "source": [
    "optuna.visualization.plot_slice(study, params=['fit_intercept','use_scaler','poly_degree'])"
   ]
  },
  {
   "cell_type": "code",
   "execution_count": 34,
   "metadata": {},
   "outputs": [
    {
     "data": {
      "application/vnd.plotly.v1+json": {
       "config": {
        "plotlyServerURL": "https://plot.ly"
       },
       "data": [
        {
         "cliponaxis": false,
         "hovertemplate": [
          "poly_degree (IntDistribution): 0.14189898752960506<extra></extra>",
          "use_scaler (CategoricalDistribution): 0.42072700224860743<extra></extra>",
          "fit_intercept (CategoricalDistribution): 0.4373740102217875<extra></extra>"
         ],
         "name": "Objective Value",
         "orientation": "h",
         "text": [
          "0.14",
          "0.42",
          "0.44"
         ],
         "textposition": "outside",
         "type": "bar",
         "x": [
          0.14189898752960506,
          0.42072700224860743,
          0.4373740102217875
         ],
         "y": [
          "poly_degree",
          "use_scaler",
          "fit_intercept"
         ]
        }
       ],
       "layout": {
        "template": {
         "data": {
          "bar": [
           {
            "error_x": {
             "color": "#2a3f5f"
            },
            "error_y": {
             "color": "#2a3f5f"
            },
            "marker": {
             "line": {
              "color": "#E5ECF6",
              "width": 0.5
             },
             "pattern": {
              "fillmode": "overlay",
              "size": 10,
              "solidity": 0.2
             }
            },
            "type": "bar"
           }
          ],
          "barpolar": [
           {
            "marker": {
             "line": {
              "color": "#E5ECF6",
              "width": 0.5
             },
             "pattern": {
              "fillmode": "overlay",
              "size": 10,
              "solidity": 0.2
             }
            },
            "type": "barpolar"
           }
          ],
          "carpet": [
           {
            "aaxis": {
             "endlinecolor": "#2a3f5f",
             "gridcolor": "white",
             "linecolor": "white",
             "minorgridcolor": "white",
             "startlinecolor": "#2a3f5f"
            },
            "baxis": {
             "endlinecolor": "#2a3f5f",
             "gridcolor": "white",
             "linecolor": "white",
             "minorgridcolor": "white",
             "startlinecolor": "#2a3f5f"
            },
            "type": "carpet"
           }
          ],
          "choropleth": [
           {
            "colorbar": {
             "outlinewidth": 0,
             "ticks": ""
            },
            "type": "choropleth"
           }
          ],
          "contour": [
           {
            "colorbar": {
             "outlinewidth": 0,
             "ticks": ""
            },
            "colorscale": [
             [
              0,
              "#0d0887"
             ],
             [
              0.1111111111111111,
              "#46039f"
             ],
             [
              0.2222222222222222,
              "#7201a8"
             ],
             [
              0.3333333333333333,
              "#9c179e"
             ],
             [
              0.4444444444444444,
              "#bd3786"
             ],
             [
              0.5555555555555556,
              "#d8576b"
             ],
             [
              0.6666666666666666,
              "#ed7953"
             ],
             [
              0.7777777777777778,
              "#fb9f3a"
             ],
             [
              0.8888888888888888,
              "#fdca26"
             ],
             [
              1,
              "#f0f921"
             ]
            ],
            "type": "contour"
           }
          ],
          "contourcarpet": [
           {
            "colorbar": {
             "outlinewidth": 0,
             "ticks": ""
            },
            "type": "contourcarpet"
           }
          ],
          "heatmap": [
           {
            "colorbar": {
             "outlinewidth": 0,
             "ticks": ""
            },
            "colorscale": [
             [
              0,
              "#0d0887"
             ],
             [
              0.1111111111111111,
              "#46039f"
             ],
             [
              0.2222222222222222,
              "#7201a8"
             ],
             [
              0.3333333333333333,
              "#9c179e"
             ],
             [
              0.4444444444444444,
              "#bd3786"
             ],
             [
              0.5555555555555556,
              "#d8576b"
             ],
             [
              0.6666666666666666,
              "#ed7953"
             ],
             [
              0.7777777777777778,
              "#fb9f3a"
             ],
             [
              0.8888888888888888,
              "#fdca26"
             ],
             [
              1,
              "#f0f921"
             ]
            ],
            "type": "heatmap"
           }
          ],
          "histogram": [
           {
            "marker": {
             "pattern": {
              "fillmode": "overlay",
              "size": 10,
              "solidity": 0.2
             }
            },
            "type": "histogram"
           }
          ],
          "histogram2d": [
           {
            "colorbar": {
             "outlinewidth": 0,
             "ticks": ""
            },
            "colorscale": [
             [
              0,
              "#0d0887"
             ],
             [
              0.1111111111111111,
              "#46039f"
             ],
             [
              0.2222222222222222,
              "#7201a8"
             ],
             [
              0.3333333333333333,
              "#9c179e"
             ],
             [
              0.4444444444444444,
              "#bd3786"
             ],
             [
              0.5555555555555556,
              "#d8576b"
             ],
             [
              0.6666666666666666,
              "#ed7953"
             ],
             [
              0.7777777777777778,
              "#fb9f3a"
             ],
             [
              0.8888888888888888,
              "#fdca26"
             ],
             [
              1,
              "#f0f921"
             ]
            ],
            "type": "histogram2d"
           }
          ],
          "histogram2dcontour": [
           {
            "colorbar": {
             "outlinewidth": 0,
             "ticks": ""
            },
            "colorscale": [
             [
              0,
              "#0d0887"
             ],
             [
              0.1111111111111111,
              "#46039f"
             ],
             [
              0.2222222222222222,
              "#7201a8"
             ],
             [
              0.3333333333333333,
              "#9c179e"
             ],
             [
              0.4444444444444444,
              "#bd3786"
             ],
             [
              0.5555555555555556,
              "#d8576b"
             ],
             [
              0.6666666666666666,
              "#ed7953"
             ],
             [
              0.7777777777777778,
              "#fb9f3a"
             ],
             [
              0.8888888888888888,
              "#fdca26"
             ],
             [
              1,
              "#f0f921"
             ]
            ],
            "type": "histogram2dcontour"
           }
          ],
          "mesh3d": [
           {
            "colorbar": {
             "outlinewidth": 0,
             "ticks": ""
            },
            "type": "mesh3d"
           }
          ],
          "parcoords": [
           {
            "line": {
             "colorbar": {
              "outlinewidth": 0,
              "ticks": ""
             }
            },
            "type": "parcoords"
           }
          ],
          "pie": [
           {
            "automargin": true,
            "type": "pie"
           }
          ],
          "scatter": [
           {
            "fillpattern": {
             "fillmode": "overlay",
             "size": 10,
             "solidity": 0.2
            },
            "type": "scatter"
           }
          ],
          "scatter3d": [
           {
            "line": {
             "colorbar": {
              "outlinewidth": 0,
              "ticks": ""
             }
            },
            "marker": {
             "colorbar": {
              "outlinewidth": 0,
              "ticks": ""
             }
            },
            "type": "scatter3d"
           }
          ],
          "scattercarpet": [
           {
            "marker": {
             "colorbar": {
              "outlinewidth": 0,
              "ticks": ""
             }
            },
            "type": "scattercarpet"
           }
          ],
          "scattergeo": [
           {
            "marker": {
             "colorbar": {
              "outlinewidth": 0,
              "ticks": ""
             }
            },
            "type": "scattergeo"
           }
          ],
          "scattergl": [
           {
            "marker": {
             "colorbar": {
              "outlinewidth": 0,
              "ticks": ""
             }
            },
            "type": "scattergl"
           }
          ],
          "scattermap": [
           {
            "marker": {
             "colorbar": {
              "outlinewidth": 0,
              "ticks": ""
             }
            },
            "type": "scattermap"
           }
          ],
          "scattermapbox": [
           {
            "marker": {
             "colorbar": {
              "outlinewidth": 0,
              "ticks": ""
             }
            },
            "type": "scattermapbox"
           }
          ],
          "scatterpolar": [
           {
            "marker": {
             "colorbar": {
              "outlinewidth": 0,
              "ticks": ""
             }
            },
            "type": "scatterpolar"
           }
          ],
          "scatterpolargl": [
           {
            "marker": {
             "colorbar": {
              "outlinewidth": 0,
              "ticks": ""
             }
            },
            "type": "scatterpolargl"
           }
          ],
          "scatterternary": [
           {
            "marker": {
             "colorbar": {
              "outlinewidth": 0,
              "ticks": ""
             }
            },
            "type": "scatterternary"
           }
          ],
          "surface": [
           {
            "colorbar": {
             "outlinewidth": 0,
             "ticks": ""
            },
            "colorscale": [
             [
              0,
              "#0d0887"
             ],
             [
              0.1111111111111111,
              "#46039f"
             ],
             [
              0.2222222222222222,
              "#7201a8"
             ],
             [
              0.3333333333333333,
              "#9c179e"
             ],
             [
              0.4444444444444444,
              "#bd3786"
             ],
             [
              0.5555555555555556,
              "#d8576b"
             ],
             [
              0.6666666666666666,
              "#ed7953"
             ],
             [
              0.7777777777777778,
              "#fb9f3a"
             ],
             [
              0.8888888888888888,
              "#fdca26"
             ],
             [
              1,
              "#f0f921"
             ]
            ],
            "type": "surface"
           }
          ],
          "table": [
           {
            "cells": {
             "fill": {
              "color": "#EBF0F8"
             },
             "line": {
              "color": "white"
             }
            },
            "header": {
             "fill": {
              "color": "#C8D4E3"
             },
             "line": {
              "color": "white"
             }
            },
            "type": "table"
           }
          ]
         },
         "layout": {
          "annotationdefaults": {
           "arrowcolor": "#2a3f5f",
           "arrowhead": 0,
           "arrowwidth": 1
          },
          "autotypenumbers": "strict",
          "coloraxis": {
           "colorbar": {
            "outlinewidth": 0,
            "ticks": ""
           }
          },
          "colorscale": {
           "diverging": [
            [
             0,
             "#8e0152"
            ],
            [
             0.1,
             "#c51b7d"
            ],
            [
             0.2,
             "#de77ae"
            ],
            [
             0.3,
             "#f1b6da"
            ],
            [
             0.4,
             "#fde0ef"
            ],
            [
             0.5,
             "#f7f7f7"
            ],
            [
             0.6,
             "#e6f5d0"
            ],
            [
             0.7,
             "#b8e186"
            ],
            [
             0.8,
             "#7fbc41"
            ],
            [
             0.9,
             "#4d9221"
            ],
            [
             1,
             "#276419"
            ]
           ],
           "sequential": [
            [
             0,
             "#0d0887"
            ],
            [
             0.1111111111111111,
             "#46039f"
            ],
            [
             0.2222222222222222,
             "#7201a8"
            ],
            [
             0.3333333333333333,
             "#9c179e"
            ],
            [
             0.4444444444444444,
             "#bd3786"
            ],
            [
             0.5555555555555556,
             "#d8576b"
            ],
            [
             0.6666666666666666,
             "#ed7953"
            ],
            [
             0.7777777777777778,
             "#fb9f3a"
            ],
            [
             0.8888888888888888,
             "#fdca26"
            ],
            [
             1,
             "#f0f921"
            ]
           ],
           "sequentialminus": [
            [
             0,
             "#0d0887"
            ],
            [
             0.1111111111111111,
             "#46039f"
            ],
            [
             0.2222222222222222,
             "#7201a8"
            ],
            [
             0.3333333333333333,
             "#9c179e"
            ],
            [
             0.4444444444444444,
             "#bd3786"
            ],
            [
             0.5555555555555556,
             "#d8576b"
            ],
            [
             0.6666666666666666,
             "#ed7953"
            ],
            [
             0.7777777777777778,
             "#fb9f3a"
            ],
            [
             0.8888888888888888,
             "#fdca26"
            ],
            [
             1,
             "#f0f921"
            ]
           ]
          },
          "colorway": [
           "#636efa",
           "#EF553B",
           "#00cc96",
           "#ab63fa",
           "#FFA15A",
           "#19d3f3",
           "#FF6692",
           "#B6E880",
           "#FF97FF",
           "#FECB52"
          ],
          "font": {
           "color": "#2a3f5f"
          },
          "geo": {
           "bgcolor": "white",
           "lakecolor": "white",
           "landcolor": "#E5ECF6",
           "showlakes": true,
           "showland": true,
           "subunitcolor": "white"
          },
          "hoverlabel": {
           "align": "left"
          },
          "hovermode": "closest",
          "mapbox": {
           "style": "light"
          },
          "paper_bgcolor": "white",
          "plot_bgcolor": "#E5ECF6",
          "polar": {
           "angularaxis": {
            "gridcolor": "white",
            "linecolor": "white",
            "ticks": ""
           },
           "bgcolor": "#E5ECF6",
           "radialaxis": {
            "gridcolor": "white",
            "linecolor": "white",
            "ticks": ""
           }
          },
          "scene": {
           "xaxis": {
            "backgroundcolor": "#E5ECF6",
            "gridcolor": "white",
            "gridwidth": 2,
            "linecolor": "white",
            "showbackground": true,
            "ticks": "",
            "zerolinecolor": "white"
           },
           "yaxis": {
            "backgroundcolor": "#E5ECF6",
            "gridcolor": "white",
            "gridwidth": 2,
            "linecolor": "white",
            "showbackground": true,
            "ticks": "",
            "zerolinecolor": "white"
           },
           "zaxis": {
            "backgroundcolor": "#E5ECF6",
            "gridcolor": "white",
            "gridwidth": 2,
            "linecolor": "white",
            "showbackground": true,
            "ticks": "",
            "zerolinecolor": "white"
           }
          },
          "shapedefaults": {
           "line": {
            "color": "#2a3f5f"
           }
          },
          "ternary": {
           "aaxis": {
            "gridcolor": "white",
            "linecolor": "white",
            "ticks": ""
           },
           "baxis": {
            "gridcolor": "white",
            "linecolor": "white",
            "ticks": ""
           },
           "bgcolor": "#E5ECF6",
           "caxis": {
            "gridcolor": "white",
            "linecolor": "white",
            "ticks": ""
           }
          },
          "title": {
           "x": 0.05
          },
          "xaxis": {
           "automargin": true,
           "gridcolor": "white",
           "linecolor": "white",
           "ticks": "",
           "title": {
            "standoff": 15
           },
           "zerolinecolor": "white",
           "zerolinewidth": 2
          },
          "yaxis": {
           "automargin": true,
           "gridcolor": "white",
           "linecolor": "white",
           "ticks": "",
           "title": {
            "standoff": 15
           },
           "zerolinecolor": "white",
           "zerolinewidth": 2
          }
         }
        },
        "title": {
         "text": "Hyperparameter Importances"
        },
        "xaxis": {
         "title": {
          "text": "Hyperparameter Importance"
         }
        },
        "yaxis": {
         "title": {
          "text": "Hyperparameter"
         }
        }
       }
      }
     },
     "metadata": {},
     "output_type": "display_data"
    }
   ],
   "source": [
    "optuna.visualization.plot_param_importances(study)"
   ]
  },
  {
   "cell_type": "code",
   "execution_count": 35,
   "metadata": {},
   "outputs": [],
   "source": [
    "numeric_pipeline_linear = Pipeline([\n",
    "    ('imputer', SimpleImputer(strategy='mean')),\n",
    "        ('poly', PolynomialFeatures(degree=2, include_bias=False)),\n",
    "])\n",
    "\n",
    "categorical_pipeline_linear = Pipeline([\n",
    "    ('imputer', SimpleImputer(strategy='most_frequent')),\n",
    "    ('onehot',  OneHotEncoder(handle_unknown='ignore', sparse_output=False,drop='first')),\n",
    "])\n",
    "\n",
    "preprocessor = ColumnTransformer([\n",
    "    ('num', numeric_pipeline_linear,      num_cols),\n",
    "    ('cat', categorical_pipeline_linear,  cat_cols),\n",
    "],\n",
    "remainder='passthrough')\n",
    "\n",
    "lin_reg = Pipeline([\n",
    "    ('prepoc',preprocessor),\n",
    "        ('linear', LinearRegression(\n",
    "            fit_intercept=False\n",
    "        )),\n",
    "    \n",
    "])"
   ]
  },
  {
   "cell_type": "code",
   "execution_count": 36,
   "metadata": {},
   "outputs": [
    {
     "name": "stdout",
     "output_type": "stream",
     "text": [
      "Linear Regressor CV results:\n",
      "[0.00289211 0.0030398  0.0030198  0.00252607 0.00301286]\n",
      "RMSE: 0.00 +/- 0.00\n",
      "\n"
     ]
    }
   ],
   "source": [
    "lin_cv = cross_val_score(\n",
    "        lin_reg, X_train, y_train,\n",
    "        cv=5,\n",
    "        scoring='neg_mean_squared_error',\n",
    "        n_jobs=-1\n",
    "    )\n",
    "print_cv_results('Linear Regressor',lin_cv)"
   ]
  },
  {
   "cell_type": "code",
   "execution_count": 37,
   "metadata": {},
   "outputs": [],
   "source": [
    "result['LinearReg'] = lin_cv"
   ]
  },
  {
   "cell_type": "code",
   "execution_count": 38,
   "metadata": {},
   "outputs": [
    {
     "data": {
      "text/html": [
       "<div>\n",
       "<style scoped>\n",
       "    .dataframe tbody tr th:only-of-type {\n",
       "        vertical-align: middle;\n",
       "    }\n",
       "\n",
       "    .dataframe tbody tr th {\n",
       "        vertical-align: top;\n",
       "    }\n",
       "\n",
       "    .dataframe thead th {\n",
       "        text-align: right;\n",
       "    }\n",
       "</style>\n",
       "<table border=\"1\" class=\"dataframe\">\n",
       "  <thead>\n",
       "    <tr style=\"text-align: right;\">\n",
       "      <th></th>\n",
       "      <th>Dummy</th>\n",
       "      <th>LinearReg</th>\n",
       "    </tr>\n",
       "  </thead>\n",
       "  <tbody>\n",
       "    <tr>\n",
       "      <th>0</th>\n",
       "      <td>-0.024326</td>\n",
       "      <td>-0.002892</td>\n",
       "    </tr>\n",
       "    <tr>\n",
       "      <th>1</th>\n",
       "      <td>-0.024591</td>\n",
       "      <td>-0.003040</td>\n",
       "    </tr>\n",
       "    <tr>\n",
       "      <th>2</th>\n",
       "      <td>-0.025826</td>\n",
       "      <td>-0.003020</td>\n",
       "    </tr>\n",
       "    <tr>\n",
       "      <th>3</th>\n",
       "      <td>-0.023849</td>\n",
       "      <td>-0.002526</td>\n",
       "    </tr>\n",
       "    <tr>\n",
       "      <th>4</th>\n",
       "      <td>-0.022861</td>\n",
       "      <td>-0.003013</td>\n",
       "    </tr>\n",
       "  </tbody>\n",
       "</table>\n",
       "</div>"
      ],
      "text/plain": [
       "      Dummy  LinearReg\n",
       "0 -0.024326  -0.002892\n",
       "1 -0.024591  -0.003040\n",
       "2 -0.025826  -0.003020\n",
       "3 -0.023849  -0.002526\n",
       "4 -0.022861  -0.003013"
      ]
     },
     "execution_count": 38,
     "metadata": {},
     "output_type": "execute_result"
    }
   ],
   "source": [
    "result "
   ]
  },
  {
   "cell_type": "markdown",
   "metadata": {},
   "source": [
    "# Elastic Net Regressor"
   ]
  },
  {
   "cell_type": "code",
   "execution_count": 39,
   "metadata": {},
   "outputs": [],
   "source": [
    "import optuna"
   ]
  },
  {
   "cell_type": "code",
   "execution_count": 40,
   "metadata": {},
   "outputs": [],
   "source": [
    "from sklearn.linear_model import ElasticNet"
   ]
  },
  {
   "cell_type": "code",
   "execution_count": 41,
   "metadata": {},
   "outputs": [],
   "source": [
    "def objective(trial):\n",
    "    alpha         = trial.suggest_float('alpha',      1e-3, 100.0, log=True)\n",
    "    l1_ratio      = trial.suggest_float('l1_ratio',   0.1,   1.0)\n",
    "    fit_intercept = trial.suggest_categorical('fit_intercept', [False, True])\n",
    "    max_iter      = trial.suggest_int('max_iter',     1000,  5000)\n",
    "\n",
    "    use_scaler  = trial.suggest_categorical('use_scaler', [False, True])\n",
    "    if use_scaler:\n",
    "        with_mean = trial.suggest_categorical('with_mean', [True, False])\n",
    "        with_std  = trial.suggest_categorical('with_std',  [True, False])\n",
    "    else:\n",
    "        with_mean = False\n",
    "        with_std  = False\n",
    "\n",
    "    poly_degree = trial.suggest_int('poly_degree', 1, 5)\n",
    "    num_steps = [('imputer', SimpleImputer(strategy='mean'))]\n",
    "    if use_scaler:\n",
    "        num_steps.append((\n",
    "            'scaler',\n",
    "            StandardScaler(with_mean=with_mean, with_std=with_std)\n",
    "        ))\n",
    "    num_steps.append((\n",
    "        'poly',\n",
    "        PolynomialFeatures(degree=poly_degree, include_bias=False)\n",
    "    ))\n",
    "            \n",
    "    numeric_pipeline = Pipeline(num_steps)\n",
    "\n",
    "    categorical_pipeline = Pipeline([\n",
    "        ('imputer', SimpleImputer(strategy='most_frequent')),\n",
    "        ('onehot',  OneHotEncoder(handle_unknown='ignore',\n",
    "                                  sparse_output=False,\n",
    "                                  drop='first')),\n",
    "    ])\n",
    "\n",
    "    preprocessor = ColumnTransformer(\n",
    "        [\n",
    "            ('num', numeric_pipeline,      num_cols),\n",
    "            ('cat', categorical_pipeline,  cat_cols),\n",
    "        ],\n",
    "        remainder='passthrough'\n",
    "    )\n",
    "\n",
    "    model = Pipeline([\n",
    "        ('preproc', preprocessor),\n",
    "        ('est', ElasticNet(\n",
    "            alpha=alpha,\n",
    "            l1_ratio=l1_ratio,\n",
    "            fit_intercept=fit_intercept,\n",
    "            max_iter=max_iter,\n",
    "            random_state=42\n",
    "        )),\n",
    "    ])\n",
    "\n",
    "    neg_mse = cross_val_score(\n",
    "        model, X_train, y_train,\n",
    "        cv=5,\n",
    "        scoring='neg_mean_squared_error',\n",
    "        n_jobs=-1\n",
    "    ).mean()\n",
    "\n",
    "    return neg_mse\n",
    "\n"
   ]
  },
  {
   "cell_type": "code",
   "execution_count": 42,
   "metadata": {},
   "outputs": [
    {
     "name": "stderr",
     "output_type": "stream",
     "text": [
      "[I 2025-05-17 10:22:35,381] A new study created in memory with name: no-name-6699033b-2d04-4320-93fd-1795336771dd\n"
     ]
    }
   ],
   "source": [
    "study = optuna.create_study(direction='maximize', sampler=optuna.samplers.RandomSampler(seed=42)) "
   ]
  },
  {
   "cell_type": "code",
   "execution_count": 43,
   "metadata": {},
   "outputs": [
    {
     "name": "stderr",
     "output_type": "stream",
     "text": [
      "/Users/jgfaraco/miniconda3/lib/python3.12/site-packages/sklearn/linear_model/_coordinate_descent.py:695: ConvergenceWarning: Objective did not converge. You might want to increase the number of iterations, check the scale of the features or consider increasing regularisation. Duality gap: 5.947e+00, tolerance: 4.015e+00\n",
      "  model = cd_fast.enet_coordinate_descent(\n",
      "/Users/jgfaraco/miniconda3/lib/python3.12/site-packages/sklearn/linear_model/_coordinate_descent.py:695: ConvergenceWarning: Objective did not converge. You might want to increase the number of iterations, check the scale of the features or consider increasing regularisation. Duality gap: 6.034e+00, tolerance: 4.013e+00\n",
      "  model = cd_fast.enet_coordinate_descent(\n",
      "/Users/jgfaraco/miniconda3/lib/python3.12/site-packages/sklearn/linear_model/_coordinate_descent.py:695: ConvergenceWarning: Objective did not converge. You might want to increase the number of iterations, check the scale of the features or consider increasing regularisation. Duality gap: 6.253e+00, tolerance: 4.016e+00\n",
      "  model = cd_fast.enet_coordinate_descent(\n",
      "/Users/jgfaraco/miniconda3/lib/python3.12/site-packages/sklearn/linear_model/_coordinate_descent.py:695: ConvergenceWarning: Objective did not converge. You might want to increase the number of iterations, check the scale of the features or consider increasing regularisation. Duality gap: 6.228e+00, tolerance: 4.012e+00\n",
      "  model = cd_fast.enet_coordinate_descent(\n",
      "/Users/jgfaraco/miniconda3/lib/python3.12/site-packages/sklearn/linear_model/_coordinate_descent.py:695: ConvergenceWarning: Objective did not converge. You might want to increase the number of iterations, check the scale of the features or consider increasing regularisation. Duality gap: 6.160e+00, tolerance: 4.019e+00\n",
      "  model = cd_fast.enet_coordinate_descent(\n",
      "[I 2025-05-17 10:22:35,966] Trial 0 finished with value: -0.008174439361756 and parameters: {'alpha': 0.07459343285726547, 'l1_ratio': 0.9556428757689246, 'fit_intercept': False, 'max_iter': 1624, 'use_scaler': False, 'poly_degree': 5}. Best is trial 0 with value: -0.008174439361756.\n",
      "[I 2025-05-17 10:22:36,037] Trial 1 finished with value: -0.019488022433032954 and parameters: {'alpha': 1.0129197956845737, 'l1_ratio': 0.737265320016441, 'fit_intercept': True, 'max_iter': 4330, 'use_scaler': False, 'poly_degree': 1}. Best is trial 0 with value: -0.008174439361756.\n",
      "/Users/jgfaraco/miniconda3/lib/python3.12/site-packages/sklearn/linear_model/_coordinate_descent.py:695: ConvergenceWarning: Objective did not converge. You might want to increase the number of iterations, check the scale of the features or consider increasing regularisation. Duality gap: 8.152e+00, tolerance: 4.015e+00\n",
      "  model = cd_fast.enet_coordinate_descent(\n",
      "/Users/jgfaraco/miniconda3/lib/python3.12/site-packages/sklearn/linear_model/_coordinate_descent.py:695: ConvergenceWarning: Objective did not converge. You might want to increase the number of iterations, check the scale of the features or consider increasing regularisation. Duality gap: 8.371e+00, tolerance: 4.012e+00\n",
      "  model = cd_fast.enet_coordinate_descent(\n",
      "/Users/jgfaraco/miniconda3/lib/python3.12/site-packages/sklearn/linear_model/_coordinate_descent.py:695: ConvergenceWarning: Objective did not converge. You might want to increase the number of iterations, check the scale of the features or consider increasing regularisation. Duality gap: 8.144e+00, tolerance: 4.013e+00\n",
      "  model = cd_fast.enet_coordinate_descent(\n",
      "/Users/jgfaraco/miniconda3/lib/python3.12/site-packages/sklearn/linear_model/_coordinate_descent.py:695: ConvergenceWarning: Objective did not converge. You might want to increase the number of iterations, check the scale of the features or consider increasing regularisation. Duality gap: 8.251e+00, tolerance: 4.019e+00\n",
      "  model = cd_fast.enet_coordinate_descent(\n",
      "/Users/jgfaraco/miniconda3/lib/python3.12/site-packages/sklearn/linear_model/_coordinate_descent.py:695: ConvergenceWarning: Objective did not converge. You might want to increase the number of iterations, check the scale of the features or consider increasing regularisation. Duality gap: 8.470e+00, tolerance: 4.016e+00\n",
      "  model = cd_fast.enet_coordinate_descent(\n",
      "[I 2025-05-17 10:22:36,601] Trial 2 finished with value: -0.008326502242811062 and parameters: {'alpha': 0.033205591037519584, 'l1_ratio': 0.5722807884690141, 'fit_intercept': False, 'max_iter': 3448, 'use_scaler': True, 'with_mean': False, 'with_std': True, 'poly_degree': 3}. Best is trial 0 with value: -0.008174439361756.\n",
      "[I 2025-05-17 10:22:36,672] Trial 3 finished with value: -3.834418109497618 and parameters: {'alpha': 0.9163741808778781, 'l1_ratio': 0.14180537144799796, 'fit_intercept': False, 'max_iter': 1260, 'use_scaler': True, 'with_mean': True, 'with_std': False, 'poly_degree': 3}. Best is trial 0 with value: -0.008174439361756.\n",
      "/Users/jgfaraco/miniconda3/lib/python3.12/site-packages/sklearn/linear_model/_coordinate_descent.py:695: ConvergenceWarning: Objective did not converge. You might want to increase the number of iterations, check the scale of the features or consider increasing regularisation. Duality gap: 4.232e+00, tolerance: 3.529e-03\n",
      "  model = cd_fast.enet_coordinate_descent(\n",
      "/Users/jgfaraco/miniconda3/lib/python3.12/site-packages/sklearn/linear_model/_coordinate_descent.py:695: ConvergenceWarning: Objective did not converge. You might want to increase the number of iterations, check the scale of the features or consider increasing regularisation. Duality gap: 4.309e+00, tolerance: 3.519e-03\n",
      "  model = cd_fast.enet_coordinate_descent(\n",
      "/Users/jgfaraco/miniconda3/lib/python3.12/site-packages/sklearn/linear_model/_coordinate_descent.py:695: ConvergenceWarning: Objective did not converge. You might want to increase the number of iterations, check the scale of the features or consider increasing regularisation. Duality gap: 4.298e+00, tolerance: 3.475e-03\n",
      "  model = cd_fast.enet_coordinate_descent(\n",
      "/Users/jgfaraco/miniconda3/lib/python3.12/site-packages/sklearn/linear_model/_coordinate_descent.py:695: ConvergenceWarning: Objective did not converge. You might want to increase the number of iterations, check the scale of the features or consider increasing regularisation. Duality gap: 4.375e+00, tolerance: 3.549e-03\n",
      "  model = cd_fast.enet_coordinate_descent(\n",
      "/Users/jgfaraco/miniconda3/lib/python3.12/site-packages/sklearn/linear_model/_coordinate_descent.py:695: ConvergenceWarning: Objective did not converge. You might want to increase the number of iterations, check the scale of the features or consider increasing regularisation. Duality gap: 4.398e+00, tolerance: 3.584e-03\n",
      "  model = cd_fast.enet_coordinate_descent(\n",
      "[I 2025-05-17 10:22:37,144] Trial 4 finished with value: -0.004386162586735751 and parameters: {'alpha': 0.00407559644007287, 'l1_ratio': 0.5456592191001431, 'fit_intercept': True, 'max_iter': 2035, 'use_scaler': False, 'poly_degree': 3}. Best is trial 4 with value: -0.004386162586735751.\n",
      "/Users/jgfaraco/miniconda3/lib/python3.12/site-packages/sklearn/linear_model/_coordinate_descent.py:695: ConvergenceWarning: Objective did not converge. You might want to increase the number of iterations, check the scale of the features or consider increasing regularisation. Duality gap: 6.063e+00, tolerance: 4.015e+00\n",
      "  model = cd_fast.enet_coordinate_descent(\n",
      "/Users/jgfaraco/miniconda3/lib/python3.12/site-packages/sklearn/linear_model/_coordinate_descent.py:695: ConvergenceWarning: Objective did not converge. You might want to increase the number of iterations, check the scale of the features or consider increasing regularisation. Duality gap: 6.336e+00, tolerance: 4.012e+00\n",
      "  model = cd_fast.enet_coordinate_descent(\n",
      "/Users/jgfaraco/miniconda3/lib/python3.12/site-packages/sklearn/linear_model/_coordinate_descent.py:695: ConvergenceWarning: Objective did not converge. You might want to increase the number of iterations, check the scale of the features or consider increasing regularisation. Duality gap: 6.127e+00, tolerance: 4.013e+00\n",
      "  model = cd_fast.enet_coordinate_descent(\n",
      "/Users/jgfaraco/miniconda3/lib/python3.12/site-packages/sklearn/linear_model/_coordinate_descent.py:695: ConvergenceWarning: Objective did not converge. You might want to increase the number of iterations, check the scale of the features or consider increasing regularisation. Duality gap: 6.250e+00, tolerance: 4.019e+00\n",
      "  model = cd_fast.enet_coordinate_descent(\n",
      "/Users/jgfaraco/miniconda3/lib/python3.12/site-packages/sklearn/linear_model/_coordinate_descent.py:695: ConvergenceWarning: Objective did not converge. You might want to increase the number of iterations, check the scale of the features or consider increasing regularisation. Duality gap: 6.367e+00, tolerance: 4.016e+00\n",
      "  model = cd_fast.enet_coordinate_descent(\n",
      "[I 2025-05-17 10:22:39,379] Trial 5 finished with value: -0.008081349725195225 and parameters: {'alpha': 0.5414413211338525, 'l1_ratio': 0.26636900997297436, 'fit_intercept': False, 'max_iter': 4758, 'use_scaler': False, 'poly_degree': 5}. Best is trial 4 with value: -0.004386162586735751.\n",
      "[I 2025-05-17 10:22:39,848] Trial 6 finished with value: -0.0038730211812538487 and parameters: {'alpha': 0.0027698899227562817, 'l1_ratio': 0.27638457617723067, 'fit_intercept': True, 'max_iter': 2555, 'use_scaler': True, 'with_mean': True, 'with_std': True, 'poly_degree': 5}. Best is trial 6 with value: -0.0038730211812538487.\n",
      "/Users/jgfaraco/miniconda3/lib/python3.12/site-packages/sklearn/linear_model/_coordinate_descent.py:695: ConvergenceWarning: Objective did not converge. You might want to increase the number of iterations, check the scale of the features or consider increasing regularisation. Duality gap: 9.323e+00, tolerance: 4.013e+00\n",
      "  model = cd_fast.enet_coordinate_descent(\n",
      "/Users/jgfaraco/miniconda3/lib/python3.12/site-packages/sklearn/linear_model/_coordinate_descent.py:695: ConvergenceWarning: Objective did not converge. You might want to increase the number of iterations, check the scale of the features or consider increasing regularisation. Duality gap: 9.273e+00, tolerance: 4.015e+00\n",
      "  model = cd_fast.enet_coordinate_descent(\n",
      "/Users/jgfaraco/miniconda3/lib/python3.12/site-packages/sklearn/linear_model/_coordinate_descent.py:695: ConvergenceWarning: Objective did not converge. You might want to increase the number of iterations, check the scale of the features or consider increasing regularisation. Duality gap: 9.341e+00, tolerance: 4.012e+00\n",
      "  model = cd_fast.enet_coordinate_descent(\n",
      "/Users/jgfaraco/miniconda3/lib/python3.12/site-packages/sklearn/linear_model/_coordinate_descent.py:695: ConvergenceWarning: Objective did not converge. You might want to increase the number of iterations, check the scale of the features or consider increasing regularisation. Duality gap: 9.360e+00, tolerance: 4.019e+00\n",
      "  model = cd_fast.enet_coordinate_descent(\n",
      "/Users/jgfaraco/miniconda3/lib/python3.12/site-packages/sklearn/linear_model/_coordinate_descent.py:695: ConvergenceWarning: Objective did not converge. You might want to increase the number of iterations, check the scale of the features or consider increasing regularisation. Duality gap: 9.455e+00, tolerance: 4.016e+00\n",
      "  model = cd_fast.enet_coordinate_descent(\n",
      "[I 2025-05-17 10:22:40,134] Trial 7 finished with value: -0.004530247500003052 and parameters: {'alpha': 0.0023591373063477136, 'l1_ratio': 0.9881982429404655, 'fit_intercept': False, 'max_iter': 1022, 'use_scaler': False, 'poly_degree': 4}. Best is trial 6 with value: -0.0038730211812538487.\n",
      "[I 2025-05-17 10:22:40,189] Trial 8 finished with value: -0.01887988533559028 and parameters: {'alpha': 7.183758655813994, 'l1_ratio': 0.16664018656068133, 'fit_intercept': False, 'max_iter': 4453, 'use_scaler': False, 'poly_degree': 1}. Best is trial 6 with value: -0.0038730211812538487.\n",
      "/Users/jgfaraco/miniconda3/lib/python3.12/site-packages/sklearn/linear_model/_coordinate_descent.py:695: ConvergenceWarning: Objective did not converge. You might want to increase the number of iterations, check the scale of the features or consider increasing regularisation. Duality gap: 5.730e+00, tolerance: 4.015e+00\n",
      "  model = cd_fast.enet_coordinate_descent(\n",
      "/Users/jgfaraco/miniconda3/lib/python3.12/site-packages/sklearn/linear_model/_coordinate_descent.py:695: ConvergenceWarning: Objective did not converge. You might want to increase the number of iterations, check the scale of the features or consider increasing regularisation. Duality gap: 6.008e+00, tolerance: 4.012e+00\n",
      "  model = cd_fast.enet_coordinate_descent(\n",
      "/Users/jgfaraco/miniconda3/lib/python3.12/site-packages/sklearn/linear_model/_coordinate_descent.py:695: ConvergenceWarning: Objective did not converge. You might want to increase the number of iterations, check the scale of the features or consider increasing regularisation. Duality gap: 6.038e+00, tolerance: 4.016e+00\n",
      "  model = cd_fast.enet_coordinate_descent(\n",
      "/Users/jgfaraco/miniconda3/lib/python3.12/site-packages/sklearn/linear_model/_coordinate_descent.py:695: ConvergenceWarning: Objective did not converge. You might want to increase the number of iterations, check the scale of the features or consider increasing regularisation. Duality gap: 5.926e+00, tolerance: 4.019e+00\n",
      "  model = cd_fast.enet_coordinate_descent(\n",
      "/Users/jgfaraco/miniconda3/lib/python3.12/site-packages/sklearn/linear_model/_coordinate_descent.py:695: ConvergenceWarning: Objective did not converge. You might want to increase the number of iterations, check the scale of the features or consider increasing regularisation. Duality gap: 5.811e+00, tolerance: 4.013e+00\n",
      "  model = cd_fast.enet_coordinate_descent(\n",
      "[I 2025-05-17 10:22:41,212] Trial 9 finished with value: -0.00812763257427078 and parameters: {'alpha': 0.03588488911386258, 'l1_ratio': 0.39266498982407233, 'fit_intercept': False, 'max_iter': 4549, 'use_scaler': False, 'poly_degree': 4}. Best is trial 6 with value: -0.0038730211812538487.\n",
      "[I 2025-05-17 10:22:41,275] Trial 10 finished with value: -0.018883274497980454 and parameters: {'alpha': 6.366859160799435, 'l1_ratio': 0.6051494778125466, 'fit_intercept': False, 'max_iter': 3091, 'use_scaler': False, 'poly_degree': 1}. Best is trial 6 with value: -0.0038730211812538487.\n",
      "[I 2025-05-17 10:22:41,343] Trial 11 finished with value: -0.0036520245157044607 and parameters: {'alpha': 0.0014359718569878096, 'l1_ratio': 0.6727693701374023, 'fit_intercept': True, 'max_iter': 4631, 'use_scaler': True, 'with_mean': True, 'with_std': False, 'poly_degree': 1}. Best is trial 11 with value: -0.0036520245157044607.\n",
      "[I 2025-05-17 10:22:41,400] Trial 12 finished with value: -0.024290639236509086 and parameters: {'alpha': 44.51314315649207, 'l1_ratio': 0.8273083416079753, 'fit_intercept': True, 'max_iter': 4215, 'use_scaler': True, 'with_mean': False, 'with_std': True, 'poly_degree': 1}. Best is trial 11 with value: -0.0036520245157044607.\n",
      "[I 2025-05-17 10:22:41,477] Trial 13 finished with value: -0.0069031259198678255 and parameters: {'alpha': 0.013793542352772482, 'l1_ratio': 0.4843970097636307, 'fit_intercept': True, 'max_iter': 1027, 'use_scaler': False, 'poly_degree': 2}. Best is trial 11 with value: -0.0036520245157044607.\n",
      "/Users/jgfaraco/miniconda3/lib/python3.12/site-packages/sklearn/linear_model/_coordinate_descent.py:695: ConvergenceWarning: Objective did not converge. You might want to increase the number of iterations, check the scale of the features or consider increasing regularisation. Duality gap: 6.715e+00, tolerance: 4.015e+00\n",
      "  model = cd_fast.enet_coordinate_descent(\n",
      "/Users/jgfaraco/miniconda3/lib/python3.12/site-packages/sklearn/linear_model/_coordinate_descent.py:695: ConvergenceWarning: Objective did not converge. You might want to increase the number of iterations, check the scale of the features or consider increasing regularisation. Duality gap: 6.716e+00, tolerance: 4.012e+00\n",
      "  model = cd_fast.enet_coordinate_descent(\n",
      "/Users/jgfaraco/miniconda3/lib/python3.12/site-packages/sklearn/linear_model/_coordinate_descent.py:695: ConvergenceWarning: Objective did not converge. You might want to increase the number of iterations, check the scale of the features or consider increasing regularisation. Duality gap: 6.737e+00, tolerance: 4.019e+00\n",
      "  model = cd_fast.enet_coordinate_descent(\n",
      "/Users/jgfaraco/miniconda3/lib/python3.12/site-packages/sklearn/linear_model/_coordinate_descent.py:695: ConvergenceWarning: Objective did not converge. You might want to increase the number of iterations, check the scale of the features or consider increasing regularisation. Duality gap: 6.763e+00, tolerance: 4.013e+00\n",
      "  model = cd_fast.enet_coordinate_descent(\n",
      "/Users/jgfaraco/miniconda3/lib/python3.12/site-packages/sklearn/linear_model/_coordinate_descent.py:695: ConvergenceWarning: Objective did not converge. You might want to increase the number of iterations, check the scale of the features or consider increasing regularisation. Duality gap: 6.842e+00, tolerance: 4.016e+00\n",
      "  model = cd_fast.enet_coordinate_descent(\n",
      "[I 2025-05-17 10:22:42,780] Trial 14 finished with value: -0.0040151544733300765 and parameters: {'alpha': 0.003974905761171867, 'l1_ratio': 0.4038536542632652, 'fit_intercept': False, 'max_iter': 3075, 'use_scaler': False, 'poly_degree': 5}. Best is trial 11 with value: -0.0036520245157044607.\n",
      "[I 2025-05-17 10:22:42,836] Trial 15 finished with value: -11.920643550673033 and parameters: {'alpha': 64.89877132084352, 'l1_ratio': 0.32660406624282773, 'fit_intercept': False, 'max_iter': 2139, 'use_scaler': True, 'with_mean': True, 'with_std': False, 'poly_degree': 2}. Best is trial 11 with value: -0.0036520245157044607.\n",
      "/Users/jgfaraco/miniconda3/lib/python3.12/site-packages/sklearn/linear_model/_coordinate_descent.py:695: ConvergenceWarning: Objective did not converge. You might want to increase the number of iterations, check the scale of the features or consider increasing regularisation. Duality gap: 6.418e+00, tolerance: 4.015e+00\n",
      "  model = cd_fast.enet_coordinate_descent(\n",
      "/Users/jgfaraco/miniconda3/lib/python3.12/site-packages/sklearn/linear_model/_coordinate_descent.py:695: ConvergenceWarning: Objective did not converge. You might want to increase the number of iterations, check the scale of the features or consider increasing regularisation. Duality gap: 6.498e+00, tolerance: 4.012e+00\n",
      "  model = cd_fast.enet_coordinate_descent(\n",
      "/Users/jgfaraco/miniconda3/lib/python3.12/site-packages/sklearn/linear_model/_coordinate_descent.py:695: ConvergenceWarning: Objective did not converge. You might want to increase the number of iterations, check the scale of the features or consider increasing regularisation. Duality gap: 6.457e+00, tolerance: 4.019e+00\n",
      "  model = cd_fast.enet_coordinate_descent(\n",
      "/Users/jgfaraco/miniconda3/lib/python3.12/site-packages/sklearn/linear_model/_coordinate_descent.py:695: ConvergenceWarning: Objective did not converge. You might want to increase the number of iterations, check the scale of the features or consider increasing regularisation. Duality gap: 6.518e+00, tolerance: 4.013e+00\n",
      "  model = cd_fast.enet_coordinate_descent(\n",
      "/Users/jgfaraco/miniconda3/lib/python3.12/site-packages/sklearn/linear_model/_coordinate_descent.py:695: ConvergenceWarning: Objective did not converge. You might want to increase the number of iterations, check the scale of the features or consider increasing regularisation. Duality gap: 6.619e+00, tolerance: 4.016e+00\n",
      "  model = cd_fast.enet_coordinate_descent(\n",
      "[I 2025-05-17 10:22:43,738] Trial 16 finished with value: -0.0047891037730046675 and parameters: {'alpha': 0.005302422876684351, 'l1_ratio': 0.5405074842498068, 'fit_intercept': False, 'max_iter': 3689, 'use_scaler': False, 'poly_degree': 4}. Best is trial 11 with value: -0.0036520245157044607.\n",
      "[I 2025-05-17 10:22:43,821] Trial 17 finished with value: -0.018879515421546162 and parameters: {'alpha': 0.0690105777981331, 'l1_ratio': 0.6690752475342215, 'fit_intercept': False, 'max_iter': 1361, 'use_scaler': False, 'poly_degree': 1}. Best is trial 11 with value: -0.0036520245157044607.\n",
      "/Users/jgfaraco/miniconda3/lib/python3.12/site-packages/sklearn/linear_model/_coordinate_descent.py:695: ConvergenceWarning: Objective did not converge. You might want to increase the number of iterations, check the scale of the features or consider increasing regularisation. Duality gap: 4.406e+00, tolerance: 4.013e+00\n",
      "  model = cd_fast.enet_coordinate_descent(\n",
      "/Users/jgfaraco/miniconda3/lib/python3.12/site-packages/sklearn/linear_model/_coordinate_descent.py:695: ConvergenceWarning: Objective did not converge. You might want to increase the number of iterations, check the scale of the features or consider increasing regularisation. Duality gap: 4.441e+00, tolerance: 4.012e+00\n",
      "  model = cd_fast.enet_coordinate_descent(\n",
      "/Users/jgfaraco/miniconda3/lib/python3.12/site-packages/sklearn/linear_model/_coordinate_descent.py:695: ConvergenceWarning: Objective did not converge. You might want to increase the number of iterations, check the scale of the features or consider increasing regularisation. Duality gap: 4.421e+00, tolerance: 4.015e+00\n",
      "  model = cd_fast.enet_coordinate_descent(\n",
      "/Users/jgfaraco/miniconda3/lib/python3.12/site-packages/sklearn/linear_model/_coordinate_descent.py:695: ConvergenceWarning: Objective did not converge. You might want to increase the number of iterations, check the scale of the features or consider increasing regularisation. Duality gap: 4.529e+00, tolerance: 4.019e+00\n",
      "  model = cd_fast.enet_coordinate_descent(\n",
      "/Users/jgfaraco/miniconda3/lib/python3.12/site-packages/sklearn/linear_model/_coordinate_descent.py:695: ConvergenceWarning: Objective did not converge. You might want to increase the number of iterations, check the scale of the features or consider increasing regularisation. Duality gap: 4.487e+00, tolerance: 4.016e+00\n",
      "  model = cd_fast.enet_coordinate_descent(\n",
      "[I 2025-05-17 10:22:44,163] Trial 18 finished with value: -0.0037215309281044585 and parameters: {'alpha': 0.0015991003111214827, 'l1_ratio': 0.6318036488694176, 'fit_intercept': False, 'max_iter': 3048, 'use_scaler': True, 'with_mean': False, 'with_std': False, 'poly_degree': 1}. Best is trial 11 with value: -0.0036520245157044607.\n",
      "/Users/jgfaraco/miniconda3/lib/python3.12/site-packages/sklearn/linear_model/_coordinate_descent.py:695: ConvergenceWarning: Objective did not converge. You might want to increase the number of iterations, check the scale of the features or consider increasing regularisation. Duality gap: 8.577e+00, tolerance: 4.013e+00\n",
      "  model = cd_fast.enet_coordinate_descent(\n",
      "/Users/jgfaraco/miniconda3/lib/python3.12/site-packages/sklearn/linear_model/_coordinate_descent.py:695: ConvergenceWarning: Objective did not converge. You might want to increase the number of iterations, check the scale of the features or consider increasing regularisation. Duality gap: 9.376e+00, tolerance: 4.016e+00\n",
      "  model = cd_fast.enet_coordinate_descent(\n",
      "[I 2025-05-17 10:22:45,133] Trial 19 finished with value: -0.5368030656411564 and parameters: {'alpha': 0.050737814374886406, 'l1_ratio': 0.20212616911653017, 'fit_intercept': False, 'max_iter': 2032, 'use_scaler': True, 'with_mean': True, 'with_std': True, 'poly_degree': 5}. Best is trial 11 with value: -0.0036520245157044607.\n",
      "/Users/jgfaraco/miniconda3/lib/python3.12/site-packages/sklearn/linear_model/_coordinate_descent.py:695: ConvergenceWarning: Objective did not converge. You might want to increase the number of iterations, check the scale of the features or consider increasing regularisation. Duality gap: 5.633e+00, tolerance: 3.519e-03\n",
      "  model = cd_fast.enet_coordinate_descent(\n",
      "/Users/jgfaraco/miniconda3/lib/python3.12/site-packages/sklearn/linear_model/_coordinate_descent.py:695: ConvergenceWarning: Objective did not converge. You might want to increase the number of iterations, check the scale of the features or consider increasing regularisation. Duality gap: 5.819e+00, tolerance: 3.475e-03\n",
      "  model = cd_fast.enet_coordinate_descent(\n",
      "/Users/jgfaraco/miniconda3/lib/python3.12/site-packages/sklearn/linear_model/_coordinate_descent.py:695: ConvergenceWarning: Objective did not converge. You might want to increase the number of iterations, check the scale of the features or consider increasing regularisation. Duality gap: 5.548e+00, tolerance: 3.529e-03\n",
      "  model = cd_fast.enet_coordinate_descent(\n",
      "/Users/jgfaraco/miniconda3/lib/python3.12/site-packages/sklearn/linear_model/_coordinate_descent.py:695: ConvergenceWarning: Objective did not converge. You might want to increase the number of iterations, check the scale of the features or consider increasing regularisation. Duality gap: 5.736e+00, tolerance: 3.549e-03\n",
      "  model = cd_fast.enet_coordinate_descent(\n",
      "/Users/jgfaraco/miniconda3/lib/python3.12/site-packages/sklearn/linear_model/_coordinate_descent.py:695: ConvergenceWarning: Objective did not converge. You might want to increase the number of iterations, check the scale of the features or consider increasing regularisation. Duality gap: 5.857e+00, tolerance: 3.584e-03\n",
      "  model = cd_fast.enet_coordinate_descent(\n",
      "[I 2025-05-17 10:22:45,773] Trial 20 finished with value: -0.007956341559542482 and parameters: {'alpha': 31.775345821188303, 'l1_ratio': 0.6697913115459412, 'fit_intercept': True, 'max_iter': 3904, 'use_scaler': False, 'poly_degree': 4}. Best is trial 11 with value: -0.0036520245157044607.\n",
      "[I 2025-05-17 10:22:45,854] Trial 21 finished with value: -0.009914880618416538 and parameters: {'alpha': 1.6224010950061378, 'l1_ratio': 0.17572596849554395, 'fit_intercept': True, 'max_iter': 3426, 'use_scaler': True, 'with_mean': True, 'with_std': False, 'poly_degree': 4}. Best is trial 11 with value: -0.0036520245157044607.\n",
      "/Users/jgfaraco/miniconda3/lib/python3.12/site-packages/sklearn/linear_model/_coordinate_descent.py:695: ConvergenceWarning: Objective did not converge. You might want to increase the number of iterations, check the scale of the features or consider increasing regularisation. Duality gap: 7.254e+00, tolerance: 4.015e+00\n",
      "  model = cd_fast.enet_coordinate_descent(\n",
      "/Users/jgfaraco/miniconda3/lib/python3.12/site-packages/sklearn/linear_model/_coordinate_descent.py:695: ConvergenceWarning: Objective did not converge. You might want to increase the number of iterations, check the scale of the features or consider increasing regularisation. Duality gap: 7.304e+00, tolerance: 4.013e+00\n",
      "  model = cd_fast.enet_coordinate_descent(\n",
      "/Users/jgfaraco/miniconda3/lib/python3.12/site-packages/sklearn/linear_model/_coordinate_descent.py:695: ConvergenceWarning: Objective did not converge. You might want to increase the number of iterations, check the scale of the features or consider increasing regularisation. Duality gap: 7.520e+00, tolerance: 4.012e+00\n",
      "  model = cd_fast.enet_coordinate_descent(\n",
      "/Users/jgfaraco/miniconda3/lib/python3.12/site-packages/sklearn/linear_model/_coordinate_descent.py:695: ConvergenceWarning: Objective did not converge. You might want to increase the number of iterations, check the scale of the features or consider increasing regularisation. Duality gap: 7.429e+00, tolerance: 4.019e+00\n",
      "  model = cd_fast.enet_coordinate_descent(\n",
      "/Users/jgfaraco/miniconda3/lib/python3.12/site-packages/sklearn/linear_model/_coordinate_descent.py:695: ConvergenceWarning: Objective did not converge. You might want to increase the number of iterations, check the scale of the features or consider increasing regularisation. Duality gap: 7.567e+00, tolerance: 4.016e+00\n",
      "  model = cd_fast.enet_coordinate_descent(\n",
      "[I 2025-05-17 10:22:46,627] Trial 22 finished with value: -0.008104296404162334 and parameters: {'alpha': 1.8188894230467822, 'l1_ratio': 0.3018423785145038, 'fit_intercept': False, 'max_iter': 2301, 'use_scaler': False, 'poly_degree': 5}. Best is trial 11 with value: -0.0036520245157044607.\n",
      "/Users/jgfaraco/miniconda3/lib/python3.12/site-packages/sklearn/linear_model/_coordinate_descent.py:695: ConvergenceWarning: Objective did not converge. You might want to increase the number of iterations, check the scale of the features or consider increasing regularisation. Duality gap: 4.658e+00, tolerance: 3.529e-03\n",
      "  model = cd_fast.enet_coordinate_descent(\n",
      "/Users/jgfaraco/miniconda3/lib/python3.12/site-packages/sklearn/linear_model/_coordinate_descent.py:695: ConvergenceWarning: Objective did not converge. You might want to increase the number of iterations, check the scale of the features or consider increasing regularisation. Duality gap: 4.492e+00, tolerance: 3.519e-03\n",
      "  model = cd_fast.enet_coordinate_descent(\n",
      "/Users/jgfaraco/miniconda3/lib/python3.12/site-packages/sklearn/linear_model/_coordinate_descent.py:695: ConvergenceWarning: Objective did not converge. You might want to increase the number of iterations, check the scale of the features or consider increasing regularisation. Duality gap: 4.804e+00, tolerance: 3.475e-03\n",
      "  model = cd_fast.enet_coordinate_descent(\n",
      "/Users/jgfaraco/miniconda3/lib/python3.12/site-packages/sklearn/linear_model/_coordinate_descent.py:695: ConvergenceWarning: Objective did not converge. You might want to increase the number of iterations, check the scale of the features or consider increasing regularisation. Duality gap: 4.552e+00, tolerance: 3.549e-03\n",
      "  model = cd_fast.enet_coordinate_descent(\n",
      "/Users/jgfaraco/miniconda3/lib/python3.12/site-packages/sklearn/linear_model/_coordinate_descent.py:695: ConvergenceWarning: Objective did not converge. You might want to increase the number of iterations, check the scale of the features or consider increasing regularisation. Duality gap: 5.004e+00, tolerance: 3.584e-03\n",
      "  model = cd_fast.enet_coordinate_descent(\n",
      "[I 2025-05-17 10:22:46,903] Trial 23 finished with value: -0.008188602525812853 and parameters: {'alpha': 1.9411739809629633, 'l1_ratio': 0.6114777430019245, 'fit_intercept': True, 'max_iter': 2061, 'use_scaler': True, 'with_mean': False, 'with_std': False, 'poly_degree': 3}. Best is trial 11 with value: -0.0036520245157044607.\n",
      "[I 2025-05-17 10:22:46,960] Trial 24 finished with value: -0.00825547930563265 and parameters: {'alpha': 0.7665128204660199, 'l1_ratio': 0.5432659244369775, 'fit_intercept': True, 'max_iter': 2123, 'use_scaler': True, 'with_mean': False, 'with_std': True, 'poly_degree': 2}. Best is trial 11 with value: -0.0036520245157044607.\n",
      "[I 2025-05-17 10:22:47,136] Trial 25 finished with value: -0.0036423800083562026 and parameters: {'alpha': 0.001194766625732598, 'l1_ratio': 0.9354867063289529, 'fit_intercept': True, 'max_iter': 4855, 'use_scaler': False, 'poly_degree': 2}. Best is trial 25 with value: -0.0036423800083562026.\n",
      "[I 2025-05-17 10:22:47,194] Trial 26 finished with value: -0.024290639236509086 and parameters: {'alpha': 18.017036467538944, 'l1_ratio': 0.38522980464064993, 'fit_intercept': True, 'max_iter': 4745, 'use_scaler': False, 'poly_degree': 1}. Best is trial 25 with value: -0.0036423800083562026.\n",
      "/Users/jgfaraco/miniconda3/lib/python3.12/site-packages/sklearn/linear_model/_coordinate_descent.py:695: ConvergenceWarning: Objective did not converge. You might want to increase the number of iterations, check the scale of the features or consider increasing regularisation. Duality gap: 5.517e+00, tolerance: 3.529e-03\n",
      "  model = cd_fast.enet_coordinate_descent(\n",
      "/Users/jgfaraco/miniconda3/lib/python3.12/site-packages/sklearn/linear_model/_coordinate_descent.py:695: ConvergenceWarning: Objective did not converge. You might want to increase the number of iterations, check the scale of the features or consider increasing regularisation. Duality gap: 5.592e+00, tolerance: 3.519e-03\n",
      "  model = cd_fast.enet_coordinate_descent(\n",
      "/Users/jgfaraco/miniconda3/lib/python3.12/site-packages/sklearn/linear_model/_coordinate_descent.py:695: ConvergenceWarning: Objective did not converge. You might want to increase the number of iterations, check the scale of the features or consider increasing regularisation. Duality gap: 5.778e+00, tolerance: 3.475e-03\n",
      "  model = cd_fast.enet_coordinate_descent(\n",
      "/Users/jgfaraco/miniconda3/lib/python3.12/site-packages/sklearn/linear_model/_coordinate_descent.py:695: ConvergenceWarning: Objective did not converge. You might want to increase the number of iterations, check the scale of the features or consider increasing regularisation. Duality gap: 5.702e+00, tolerance: 3.549e-03\n",
      "  model = cd_fast.enet_coordinate_descent(\n",
      "/Users/jgfaraco/miniconda3/lib/python3.12/site-packages/sklearn/linear_model/_coordinate_descent.py:695: ConvergenceWarning: Objective did not converge. You might want to increase the number of iterations, check the scale of the features or consider increasing regularisation. Duality gap: 5.821e+00, tolerance: 3.584e-03\n",
      "  model = cd_fast.enet_coordinate_descent(\n",
      "[I 2025-05-17 10:22:47,978] Trial 27 finished with value: -0.007935450252578254 and parameters: {'alpha': 1.1886011154695664, 'l1_ratio': 0.9910484650938369, 'fit_intercept': True, 'max_iter': 4510, 'use_scaler': False, 'poly_degree': 4}. Best is trial 25 with value: -0.0036423800083562026.\n",
      "/Users/jgfaraco/miniconda3/lib/python3.12/site-packages/sklearn/linear_model/_coordinate_descent.py:695: ConvergenceWarning: Objective did not converge. You might want to increase the number of iterations, check the scale of the features or consider increasing regularisation. Duality gap: 5.560e+00, tolerance: 3.529e-03\n",
      "  model = cd_fast.enet_coordinate_descent(\n",
      "/Users/jgfaraco/miniconda3/lib/python3.12/site-packages/sklearn/linear_model/_coordinate_descent.py:695: ConvergenceWarning: Objective did not converge. You might want to increase the number of iterations, check the scale of the features or consider increasing regularisation. Duality gap: 5.647e+00, tolerance: 3.519e-03\n",
      "  model = cd_fast.enet_coordinate_descent(\n",
      "/Users/jgfaraco/miniconda3/lib/python3.12/site-packages/sklearn/linear_model/_coordinate_descent.py:695: ConvergenceWarning: Objective did not converge. You might want to increase the number of iterations, check the scale of the features or consider increasing regularisation. Duality gap: 5.824e+00, tolerance: 3.475e-03\n",
      "  model = cd_fast.enet_coordinate_descent(\n",
      "/Users/jgfaraco/miniconda3/lib/python3.12/site-packages/sklearn/linear_model/_coordinate_descent.py:695: ConvergenceWarning: Objective did not converge. You might want to increase the number of iterations, check the scale of the features or consider increasing regularisation. Duality gap: 5.746e+00, tolerance: 3.549e-03\n",
      "  model = cd_fast.enet_coordinate_descent(\n",
      "/Users/jgfaraco/miniconda3/lib/python3.12/site-packages/sklearn/linear_model/_coordinate_descent.py:695: ConvergenceWarning: Objective did not converge. You might want to increase the number of iterations, check the scale of the features or consider increasing regularisation. Duality gap: 5.873e+00, tolerance: 3.584e-03\n",
      "  model = cd_fast.enet_coordinate_descent(\n",
      "[I 2025-05-17 10:22:48,541] Trial 28 finished with value: -0.0079554931517129 and parameters: {'alpha': 0.06272717891973825, 'l1_ratio': 0.36423265983804404, 'fit_intercept': True, 'max_iter': 4469, 'use_scaler': False, 'poly_degree': 3}. Best is trial 25 with value: -0.0036423800083562026.\n",
      "[I 2025-05-17 10:22:48,649] Trial 29 finished with value: -0.008190965149451715 and parameters: {'alpha': 9.805638874011494, 'l1_ratio': 0.6849675376999886, 'fit_intercept': True, 'max_iter': 4560, 'use_scaler': True, 'with_mean': False, 'with_std': False, 'poly_degree': 3}. Best is trial 25 with value: -0.0036423800083562026.\n",
      "/Users/jgfaraco/miniconda3/lib/python3.12/site-packages/sklearn/linear_model/_coordinate_descent.py:695: ConvergenceWarning: Objective did not converge. You might want to increase the number of iterations, check the scale of the features or consider increasing regularisation. Duality gap: 5.561e+00, tolerance: 3.529e-03\n",
      "  model = cd_fast.enet_coordinate_descent(\n",
      "/Users/jgfaraco/miniconda3/lib/python3.12/site-packages/sklearn/linear_model/_coordinate_descent.py:695: ConvergenceWarning: Objective did not converge. You might want to increase the number of iterations, check the scale of the features or consider increasing regularisation. Duality gap: 5.645e+00, tolerance: 3.519e-03\n",
      "  model = cd_fast.enet_coordinate_descent(\n",
      "/Users/jgfaraco/miniconda3/lib/python3.12/site-packages/sklearn/linear_model/_coordinate_descent.py:695: ConvergenceWarning: Objective did not converge. You might want to increase the number of iterations, check the scale of the features or consider increasing regularisation. Duality gap: 5.824e+00, tolerance: 3.475e-03\n",
      "  model = cd_fast.enet_coordinate_descent(\n",
      "/Users/jgfaraco/miniconda3/lib/python3.12/site-packages/sklearn/linear_model/_coordinate_descent.py:695: ConvergenceWarning: Objective did not converge. You might want to increase the number of iterations, check the scale of the features or consider increasing regularisation. Duality gap: 5.744e+00, tolerance: 3.549e-03\n",
      "  model = cd_fast.enet_coordinate_descent(\n",
      "/Users/jgfaraco/miniconda3/lib/python3.12/site-packages/sklearn/linear_model/_coordinate_descent.py:695: ConvergenceWarning: Objective did not converge. You might want to increase the number of iterations, check the scale of the features or consider increasing regularisation. Duality gap: 5.875e+00, tolerance: 3.584e-03\n",
      "  model = cd_fast.enet_coordinate_descent(\n",
      "[I 2025-05-17 10:22:49,208] Trial 30 finished with value: -0.007956772792106295 and parameters: {'alpha': 0.02708359186801681, 'l1_ratio': 0.6317499345121097, 'fit_intercept': True, 'max_iter': 4291, 'use_scaler': False, 'poly_degree': 3}. Best is trial 25 with value: -0.0036423800083562026.\n",
      "/Users/jgfaraco/miniconda3/lib/python3.12/site-packages/sklearn/linear_model/_coordinate_descent.py:695: ConvergenceWarning: Objective did not converge. You might want to increase the number of iterations, check the scale of the features or consider increasing regularisation. Duality gap: 4.266e+00, tolerance: 4.015e+00\n",
      "  model = cd_fast.enet_coordinate_descent(\n",
      "/Users/jgfaraco/miniconda3/lib/python3.12/site-packages/sklearn/linear_model/_coordinate_descent.py:695: ConvergenceWarning: Objective did not converge. You might want to increase the number of iterations, check the scale of the features or consider increasing regularisation. Duality gap: 4.161e+00, tolerance: 4.013e+00\n",
      "  model = cd_fast.enet_coordinate_descent(\n",
      "/Users/jgfaraco/miniconda3/lib/python3.12/site-packages/sklearn/linear_model/_coordinate_descent.py:695: ConvergenceWarning: Objective did not converge. You might want to increase the number of iterations, check the scale of the features or consider increasing regularisation. Duality gap: 4.240e+00, tolerance: 4.012e+00\n",
      "  model = cd_fast.enet_coordinate_descent(\n",
      "/Users/jgfaraco/miniconda3/lib/python3.12/site-packages/sklearn/linear_model/_coordinate_descent.py:695: ConvergenceWarning: Objective did not converge. You might want to increase the number of iterations, check the scale of the features or consider increasing regularisation. Duality gap: 4.175e+00, tolerance: 4.019e+00\n",
      "  model = cd_fast.enet_coordinate_descent(\n",
      "/Users/jgfaraco/miniconda3/lib/python3.12/site-packages/sklearn/linear_model/_coordinate_descent.py:695: ConvergenceWarning: Objective did not converge. You might want to increase the number of iterations, check the scale of the features or consider increasing regularisation. Duality gap: 4.083e+00, tolerance: 4.016e+00\n",
      "  model = cd_fast.enet_coordinate_descent(\n",
      "[I 2025-05-17 10:22:49,369] Trial 31 finished with value: -0.008737336953697697 and parameters: {'alpha': 7.07893240689976, 'l1_ratio': 0.29423892474715885, 'fit_intercept': False, 'max_iter': 1206, 'use_scaler': True, 'with_mean': False, 'with_std': True, 'poly_degree': 2}. Best is trial 25 with value: -0.0036423800083562026.\n",
      "/Users/jgfaraco/miniconda3/lib/python3.12/site-packages/sklearn/linear_model/_coordinate_descent.py:695: ConvergenceWarning: Objective did not converge. You might want to increase the number of iterations, check the scale of the features or consider increasing regularisation. Duality gap: 1.418e+01, tolerance: 4.015e+00\n",
      "  model = cd_fast.enet_coordinate_descent(\n",
      "/Users/jgfaraco/miniconda3/lib/python3.12/site-packages/sklearn/linear_model/_coordinate_descent.py:695: ConvergenceWarning: Objective did not converge. You might want to increase the number of iterations, check the scale of the features or consider increasing regularisation. Duality gap: 1.419e+01, tolerance: 4.013e+00\n",
      "  model = cd_fast.enet_coordinate_descent(\n",
      "/Users/jgfaraco/miniconda3/lib/python3.12/site-packages/sklearn/linear_model/_coordinate_descent.py:695: ConvergenceWarning: Objective did not converge. You might want to increase the number of iterations, check the scale of the features or consider increasing regularisation. Duality gap: 1.429e+01, tolerance: 4.019e+00\n",
      "  model = cd_fast.enet_coordinate_descent(\n",
      "/Users/jgfaraco/miniconda3/lib/python3.12/site-packages/sklearn/linear_model/_coordinate_descent.py:695: ConvergenceWarning: Objective did not converge. You might want to increase the number of iterations, check the scale of the features or consider increasing regularisation. Duality gap: 1.440e+01, tolerance: 4.012e+00\n",
      "  model = cd_fast.enet_coordinate_descent(\n",
      "/Users/jgfaraco/miniconda3/lib/python3.12/site-packages/sklearn/linear_model/_coordinate_descent.py:695: ConvergenceWarning: Objective did not converge. You might want to increase the number of iterations, check the scale of the features or consider increasing regularisation. Duality gap: 1.453e+01, tolerance: 4.016e+00\n",
      "  model = cd_fast.enet_coordinate_descent(\n",
      "[I 2025-05-17 10:22:49,624] Trial 32 finished with value: -0.008239189039503478 and parameters: {'alpha': 9.460867797081413, 'l1_ratio': 0.34374902613586683, 'fit_intercept': False, 'max_iter': 1101, 'use_scaler': False, 'poly_degree': 4}. Best is trial 25 with value: -0.0036423800083562026.\n",
      "[I 2025-05-17 10:22:49,692] Trial 33 finished with value: -0.00823461334668887 and parameters: {'alpha': 0.11085740853699103, 'l1_ratio': 0.2559648880637612, 'fit_intercept': True, 'max_iter': 3197, 'use_scaler': False, 'poly_degree': 2}. Best is trial 25 with value: -0.0036423800083562026.\n",
      "[I 2025-05-17 10:22:49,743] Trial 34 finished with value: -0.024290639236509086 and parameters: {'alpha': 59.47389794988398, 'l1_ratio': 0.7641072250261917, 'fit_intercept': True, 'max_iter': 2678, 'use_scaler': True, 'with_mean': True, 'with_std': True, 'poly_degree': 1}. Best is trial 25 with value: -0.0036423800083562026.\n",
      "/Users/jgfaraco/miniconda3/lib/python3.12/site-packages/sklearn/linear_model/_coordinate_descent.py:695: ConvergenceWarning: Objective did not converge. You might want to increase the number of iterations, check the scale of the features or consider increasing regularisation. Duality gap: 9.010e+00, tolerance: 4.015e+00\n",
      "  model = cd_fast.enet_coordinate_descent(\n",
      "/Users/jgfaraco/miniconda3/lib/python3.12/site-packages/sklearn/linear_model/_coordinate_descent.py:695: ConvergenceWarning: Objective did not converge. You might want to increase the number of iterations, check the scale of the features or consider increasing regularisation. Duality gap: 9.059e+00, tolerance: 4.013e+00\n",
      "  model = cd_fast.enet_coordinate_descent(\n",
      "/Users/jgfaraco/miniconda3/lib/python3.12/site-packages/sklearn/linear_model/_coordinate_descent.py:695: ConvergenceWarning: Objective did not converge. You might want to increase the number of iterations, check the scale of the features or consider increasing regularisation. Duality gap: 9.183e+00, tolerance: 4.019e+00\n",
      "  model = cd_fast.enet_coordinate_descent(\n",
      "/Users/jgfaraco/miniconda3/lib/python3.12/site-packages/sklearn/linear_model/_coordinate_descent.py:695: ConvergenceWarning: Objective did not converge. You might want to increase the number of iterations, check the scale of the features or consider increasing regularisation. Duality gap: 9.279e+00, tolerance: 4.012e+00\n",
      "  model = cd_fast.enet_coordinate_descent(\n",
      "/Users/jgfaraco/miniconda3/lib/python3.12/site-packages/sklearn/linear_model/_coordinate_descent.py:695: ConvergenceWarning: Objective did not converge. You might want to increase the number of iterations, check the scale of the features or consider increasing regularisation. Duality gap: 9.533e+00, tolerance: 4.016e+00\n",
      "  model = cd_fast.enet_coordinate_descent(\n",
      "[I 2025-05-17 10:22:50,127] Trial 35 finished with value: -0.008777948209563041 and parameters: {'alpha': 18.936639872354522, 'l1_ratio': 0.7332920734420213, 'fit_intercept': False, 'max_iter': 2966, 'use_scaler': False, 'poly_degree': 3}. Best is trial 25 with value: -0.0036423800083562026.\n",
      "/Users/jgfaraco/miniconda3/lib/python3.12/site-packages/sklearn/linear_model/_coordinate_descent.py:695: ConvergenceWarning: Objective did not converge. You might want to increase the number of iterations, check the scale of the features or consider increasing regularisation. Duality gap: 5.946e+00, tolerance: 4.013e+00\n",
      "  model = cd_fast.enet_coordinate_descent(\n",
      "/Users/jgfaraco/miniconda3/lib/python3.12/site-packages/sklearn/linear_model/_coordinate_descent.py:695: ConvergenceWarning: Objective did not converge. You might want to increase the number of iterations, check the scale of the features or consider increasing regularisation. Duality gap: 5.868e+00, tolerance: 4.015e+00\n",
      "  model = cd_fast.enet_coordinate_descent(\n",
      "/Users/jgfaraco/miniconda3/lib/python3.12/site-packages/sklearn/linear_model/_coordinate_descent.py:695: ConvergenceWarning: Objective did not converge. You might want to increase the number of iterations, check the scale of the features or consider increasing regularisation. Duality gap: 6.147e+00, tolerance: 4.012e+00\n",
      "  model = cd_fast.enet_coordinate_descent(\n",
      "/Users/jgfaraco/miniconda3/lib/python3.12/site-packages/sklearn/linear_model/_coordinate_descent.py:695: ConvergenceWarning: Objective did not converge. You might want to increase the number of iterations, check the scale of the features or consider increasing regularisation. Duality gap: 6.172e+00, tolerance: 4.016e+00\n",
      "  model = cd_fast.enet_coordinate_descent(\n",
      "/Users/jgfaraco/miniconda3/lib/python3.12/site-packages/sklearn/linear_model/_coordinate_descent.py:695: ConvergenceWarning: Objective did not converge. You might want to increase the number of iterations, check the scale of the features or consider increasing regularisation. Duality gap: 6.071e+00, tolerance: 4.019e+00\n",
      "  model = cd_fast.enet_coordinate_descent(\n",
      "[I 2025-05-17 10:22:51,113] Trial 36 finished with value: -0.008109474965559315 and parameters: {'alpha': 0.0982932448006971, 'l1_ratio': 0.6542650882469948, 'fit_intercept': False, 'max_iter': 2498, 'use_scaler': False, 'poly_degree': 5}. Best is trial 25 with value: -0.0036423800083562026.\n",
      "[I 2025-05-17 10:22:51,177] Trial 37 finished with value: -0.024290639236509086 and parameters: {'alpha': 1.965477869022202, 'l1_ratio': 0.24664098437328674, 'fit_intercept': True, 'max_iter': 1106, 'use_scaler': True, 'with_mean': True, 'with_std': True, 'poly_degree': 3}. Best is trial 25 with value: -0.0036423800083562026.\n",
      "[I 2025-05-17 10:22:51,317] Trial 38 finished with value: -0.017853969764532306 and parameters: {'alpha': 50.971104430052584, 'l1_ratio': 0.44749237402069686, 'fit_intercept': False, 'max_iter': 1783, 'use_scaler': True, 'with_mean': False, 'with_std': True, 'poly_degree': 2}. Best is trial 25 with value: -0.0036423800083562026.\n",
      "/Users/jgfaraco/miniconda3/lib/python3.12/site-packages/sklearn/linear_model/_coordinate_descent.py:695: ConvergenceWarning: Objective did not converge. You might want to increase the number of iterations, check the scale of the features or consider increasing regularisation. Duality gap: 1.096e+01, tolerance: 4.015e+00\n",
      "  model = cd_fast.enet_coordinate_descent(\n",
      "/Users/jgfaraco/miniconda3/lib/python3.12/site-packages/sklearn/linear_model/_coordinate_descent.py:695: ConvergenceWarning: Objective did not converge. You might want to increase the number of iterations, check the scale of the features or consider increasing regularisation. Duality gap: 1.119e+01, tolerance: 4.012e+00\n",
      "  model = cd_fast.enet_coordinate_descent(\n",
      "/Users/jgfaraco/miniconda3/lib/python3.12/site-packages/sklearn/linear_model/_coordinate_descent.py:695: ConvergenceWarning: Objective did not converge. You might want to increase the number of iterations, check the scale of the features or consider increasing regularisation. Duality gap: 1.095e+01, tolerance: 4.013e+00\n",
      "  model = cd_fast.enet_coordinate_descent(\n",
      "/Users/jgfaraco/miniconda3/lib/python3.12/site-packages/sklearn/linear_model/_coordinate_descent.py:695: ConvergenceWarning: Objective did not converge. You might want to increase the number of iterations, check the scale of the features or consider increasing regularisation. Duality gap: 1.108e+01, tolerance: 4.019e+00\n",
      "  model = cd_fast.enet_coordinate_descent(\n",
      "/Users/jgfaraco/miniconda3/lib/python3.12/site-packages/sklearn/linear_model/_coordinate_descent.py:695: ConvergenceWarning: Objective did not converge. You might want to increase the number of iterations, check the scale of the features or consider increasing regularisation. Duality gap: 1.129e+01, tolerance: 4.016e+00\n",
      "  model = cd_fast.enet_coordinate_descent(\n",
      "[I 2025-05-17 10:22:51,820] Trial 39 finished with value: -0.008124328705455246 and parameters: {'alpha': 16.763957643123796, 'l1_ratio': 0.12094474216224328, 'fit_intercept': False, 'max_iter': 1472, 'use_scaler': False, 'poly_degree': 5}. Best is trial 25 with value: -0.0036423800083562026.\n",
      "[I 2025-05-17 10:22:51,887] Trial 40 finished with value: -18.75024515813632 and parameters: {'alpha': 4.735384181058588, 'l1_ratio': 0.8231328373463638, 'fit_intercept': False, 'max_iter': 4003, 'use_scaler': True, 'with_mean': True, 'with_std': True, 'poly_degree': 5}. Best is trial 25 with value: -0.0036423800083562026.\n",
      "/Users/jgfaraco/miniconda3/lib/python3.12/site-packages/sklearn/linear_model/_coordinate_descent.py:695: ConvergenceWarning: Objective did not converge. You might want to increase the number of iterations, check the scale of the features or consider increasing regularisation. Duality gap: 5.593e+00, tolerance: 3.519e-03\n",
      "  model = cd_fast.enet_coordinate_descent(\n",
      "/Users/jgfaraco/miniconda3/lib/python3.12/site-packages/sklearn/linear_model/_coordinate_descent.py:695: ConvergenceWarning: Objective did not converge. You might want to increase the number of iterations, check the scale of the features or consider increasing regularisation. Duality gap: 5.780e+00, tolerance: 3.475e-03\n",
      "  model = cd_fast.enet_coordinate_descent(\n",
      "/Users/jgfaraco/miniconda3/lib/python3.12/site-packages/sklearn/linear_model/_coordinate_descent.py:695: ConvergenceWarning: Objective did not converge. You might want to increase the number of iterations, check the scale of the features or consider increasing regularisation. Duality gap: 5.518e+00, tolerance: 3.529e-03\n",
      "  model = cd_fast.enet_coordinate_descent(\n",
      "/Users/jgfaraco/miniconda3/lib/python3.12/site-packages/sklearn/linear_model/_coordinate_descent.py:695: ConvergenceWarning: Objective did not converge. You might want to increase the number of iterations, check the scale of the features or consider increasing regularisation. Duality gap: 5.698e+00, tolerance: 3.549e-03\n",
      "  model = cd_fast.enet_coordinate_descent(\n",
      "/Users/jgfaraco/miniconda3/lib/python3.12/site-packages/sklearn/linear_model/_coordinate_descent.py:695: ConvergenceWarning: Objective did not converge. You might want to increase the number of iterations, check the scale of the features or consider increasing regularisation. Duality gap: 5.829e+00, tolerance: 3.584e-03\n",
      "  model = cd_fast.enet_coordinate_descent(\n",
      "[I 2025-05-17 10:22:52,304] Trial 41 finished with value: -0.007937774159344376 and parameters: {'alpha': 19.591322745978662, 'l1_ratio': 0.4860946246375165, 'fit_intercept': True, 'max_iter': 1412, 'use_scaler': False, 'poly_degree': 5}. Best is trial 25 with value: -0.0036423800083562026.\n",
      "/Users/jgfaraco/miniconda3/lib/python3.12/site-packages/sklearn/linear_model/_coordinate_descent.py:695: ConvergenceWarning: Objective did not converge. You might want to increase the number of iterations, check the scale of the features or consider increasing regularisation. Duality gap: 6.021e+00, tolerance: 4.013e+00\n",
      "  model = cd_fast.enet_coordinate_descent(\n",
      "/Users/jgfaraco/miniconda3/lib/python3.12/site-packages/sklearn/linear_model/_coordinate_descent.py:695: ConvergenceWarning: Objective did not converge. You might want to increase the number of iterations, check the scale of the features or consider increasing regularisation. Duality gap: 5.915e+00, tolerance: 4.015e+00\n",
      "  model = cd_fast.enet_coordinate_descent(\n",
      "/Users/jgfaraco/miniconda3/lib/python3.12/site-packages/sklearn/linear_model/_coordinate_descent.py:695: ConvergenceWarning: Objective did not converge. You might want to increase the number of iterations, check the scale of the features or consider increasing regularisation. Duality gap: 6.193e+00, tolerance: 4.012e+00\n",
      "  model = cd_fast.enet_coordinate_descent(\n",
      "/Users/jgfaraco/miniconda3/lib/python3.12/site-packages/sklearn/linear_model/_coordinate_descent.py:695: ConvergenceWarning: Objective did not converge. You might want to increase the number of iterations, check the scale of the features or consider increasing regularisation. Duality gap: 6.113e+00, tolerance: 4.019e+00\n",
      "  model = cd_fast.enet_coordinate_descent(\n",
      "/Users/jgfaraco/miniconda3/lib/python3.12/site-packages/sklearn/linear_model/_coordinate_descent.py:695: ConvergenceWarning: Objective did not converge. You might want to increase the number of iterations, check the scale of the features or consider increasing regularisation. Duality gap: 6.248e+00, tolerance: 4.016e+00\n",
      "  model = cd_fast.enet_coordinate_descent(\n",
      "[I 2025-05-17 10:22:53,058] Trial 42 finished with value: -0.008296208037214486 and parameters: {'alpha': 0.039833457575901975, 'l1_ratio': 0.9059709056465804, 'fit_intercept': False, 'max_iter': 4622, 'use_scaler': True, 'with_mean': False, 'with_std': False, 'poly_degree': 3}. Best is trial 25 with value: -0.0036423800083562026.\n",
      "/Users/jgfaraco/miniconda3/lib/python3.12/site-packages/sklearn/linear_model/_coordinate_descent.py:695: ConvergenceWarning: Objective did not converge. You might want to increase the number of iterations, check the scale of the features or consider increasing regularisation. Duality gap: 5.643e+00, tolerance: 3.519e-03\n",
      "  model = cd_fast.enet_coordinate_descent(\n",
      "/Users/jgfaraco/miniconda3/lib/python3.12/site-packages/sklearn/linear_model/_coordinate_descent.py:695: ConvergenceWarning: Objective did not converge. You might want to increase the number of iterations, check the scale of the features or consider increasing regularisation. Duality gap: 5.739e+00, tolerance: 3.549e-03\n",
      "  model = cd_fast.enet_coordinate_descent(\n",
      "/Users/jgfaraco/miniconda3/lib/python3.12/site-packages/sklearn/linear_model/_coordinate_descent.py:695: ConvergenceWarning: Objective did not converge. You might want to increase the number of iterations, check the scale of the features or consider increasing regularisation. Duality gap: 5.556e+00, tolerance: 3.529e-03\n",
      "  model = cd_fast.enet_coordinate_descent(\n",
      "/Users/jgfaraco/miniconda3/lib/python3.12/site-packages/sklearn/linear_model/_coordinate_descent.py:695: ConvergenceWarning: Objective did not converge. You might want to increase the number of iterations, check the scale of the features or consider increasing regularisation. Duality gap: 5.822e+00, tolerance: 3.475e-03\n",
      "  model = cd_fast.enet_coordinate_descent(\n",
      "/Users/jgfaraco/miniconda3/lib/python3.12/site-packages/sklearn/linear_model/_coordinate_descent.py:695: ConvergenceWarning: Objective did not converge. You might want to increase the number of iterations, check the scale of the features or consider increasing regularisation. Duality gap: 5.867e+00, tolerance: 3.584e-03\n",
      "  model = cd_fast.enet_coordinate_descent(\n",
      "[I 2025-05-17 10:22:53,799] Trial 43 finished with value: -0.0078409852809102 and parameters: {'alpha': 0.029245150354524026, 'l1_ratio': 0.3957980908329244, 'fit_intercept': True, 'max_iter': 4167, 'use_scaler': False, 'poly_degree': 3}. Best is trial 25 with value: -0.0036423800083562026.\n",
      "[I 2025-05-17 10:22:53,931] Trial 44 finished with value: -0.0036458062220303122 and parameters: {'alpha': 0.0019399645775772377, 'l1_ratio': 0.594575994091362, 'fit_intercept': True, 'max_iter': 2404, 'use_scaler': True, 'with_mean': True, 'with_std': True, 'poly_degree': 4}. Best is trial 25 with value: -0.0036423800083562026.\n",
      "/Users/jgfaraco/miniconda3/lib/python3.12/site-packages/sklearn/linear_model/_coordinate_descent.py:695: ConvergenceWarning: Objective did not converge. You might want to increase the number of iterations, check the scale of the features or consider increasing regularisation. Duality gap: 8.260e+00, tolerance: 4.015e+00\n",
      "  model = cd_fast.enet_coordinate_descent(\n",
      "/Users/jgfaraco/miniconda3/lib/python3.12/site-packages/sklearn/linear_model/_coordinate_descent.py:695: ConvergenceWarning: Objective did not converge. You might want to increase the number of iterations, check the scale of the features or consider increasing regularisation. Duality gap: 8.303e+00, tolerance: 4.013e+00\n",
      "  model = cd_fast.enet_coordinate_descent(\n",
      "/Users/jgfaraco/miniconda3/lib/python3.12/site-packages/sklearn/linear_model/_coordinate_descent.py:695: ConvergenceWarning: Objective did not converge. You might want to increase the number of iterations, check the scale of the features or consider increasing regularisation. Duality gap: 8.305e+00, tolerance: 4.012e+00\n",
      "  model = cd_fast.enet_coordinate_descent(\n",
      "/Users/jgfaraco/miniconda3/lib/python3.12/site-packages/sklearn/linear_model/_coordinate_descent.py:695: ConvergenceWarning: Objective did not converge. You might want to increase the number of iterations, check the scale of the features or consider increasing regularisation. Duality gap: 8.372e+00, tolerance: 4.019e+00\n",
      "  model = cd_fast.enet_coordinate_descent(\n",
      "/Users/jgfaraco/miniconda3/lib/python3.12/site-packages/sklearn/linear_model/_coordinate_descent.py:695: ConvergenceWarning: Objective did not converge. You might want to increase the number of iterations, check the scale of the features or consider increasing regularisation. Duality gap: 8.425e+00, tolerance: 4.016e+00\n",
      "  model = cd_fast.enet_coordinate_descent(\n",
      "[I 2025-05-17 10:22:54,136] Trial 45 finished with value: -0.004180541849925097 and parameters: {'alpha': 0.002311080279955305, 'l1_ratio': 0.8396740533613206, 'fit_intercept': False, 'max_iter': 1339, 'use_scaler': False, 'poly_degree': 2}. Best is trial 25 with value: -0.0036423800083562026.\n",
      "[I 2025-05-17 10:22:54,193] Trial 46 finished with value: -27.604321376178568 and parameters: {'alpha': 11.587715829876235, 'l1_ratio': 0.9525237196454729, 'fit_intercept': False, 'max_iter': 2505, 'use_scaler': True, 'with_mean': True, 'with_std': True, 'poly_degree': 3}. Best is trial 25 with value: -0.0036423800083562026.\n",
      "/Users/jgfaraco/miniconda3/lib/python3.12/site-packages/sklearn/linear_model/_coordinate_descent.py:695: ConvergenceWarning: Objective did not converge. You might want to increase the number of iterations, check the scale of the features or consider increasing regularisation. Duality gap: 2.936e+00, tolerance: 3.529e-03\n",
      "  model = cd_fast.enet_coordinate_descent(\n",
      "/Users/jgfaraco/miniconda3/lib/python3.12/site-packages/sklearn/linear_model/_coordinate_descent.py:695: ConvergenceWarning: Objective did not converge. You might want to increase the number of iterations, check the scale of the features or consider increasing regularisation. Duality gap: 2.934e+00, tolerance: 3.519e-03\n",
      "  model = cd_fast.enet_coordinate_descent(\n",
      "/Users/jgfaraco/miniconda3/lib/python3.12/site-packages/sklearn/linear_model/_coordinate_descent.py:695: ConvergenceWarning: Objective did not converge. You might want to increase the number of iterations, check the scale of the features or consider increasing regularisation. Duality gap: 2.915e+00, tolerance: 3.475e-03\n",
      "  model = cd_fast.enet_coordinate_descent(\n",
      "/Users/jgfaraco/miniconda3/lib/python3.12/site-packages/sklearn/linear_model/_coordinate_descent.py:695: ConvergenceWarning: Objective did not converge. You might want to increase the number of iterations, check the scale of the features or consider increasing regularisation. Duality gap: 3.015e+00, tolerance: 3.549e-03\n",
      "  model = cd_fast.enet_coordinate_descent(\n",
      "/Users/jgfaraco/miniconda3/lib/python3.12/site-packages/sklearn/linear_model/_coordinate_descent.py:695: ConvergenceWarning: Objective did not converge. You might want to increase the number of iterations, check the scale of the features or consider increasing regularisation. Duality gap: 3.000e+00, tolerance: 3.584e-03\n",
      "  model = cd_fast.enet_coordinate_descent(\n",
      "[I 2025-05-17 10:22:55,041] Trial 47 finished with value: -0.003283424756676366 and parameters: {'alpha': 0.001139641416462081, 'l1_ratio': 0.5217945777947136, 'fit_intercept': True, 'max_iter': 1470, 'use_scaler': True, 'with_mean': False, 'with_std': True, 'poly_degree': 5}. Best is trial 47 with value: -0.003283424756676366.\n",
      "/Users/jgfaraco/miniconda3/lib/python3.12/site-packages/sklearn/linear_model/_coordinate_descent.py:695: ConvergenceWarning: Objective did not converge. You might want to increase the number of iterations, check the scale of the features or consider increasing regularisation. Duality gap: 5.522e+00, tolerance: 3.519e-03\n",
      "  model = cd_fast.enet_coordinate_descent(\n",
      "/Users/jgfaraco/miniconda3/lib/python3.12/site-packages/sklearn/linear_model/_coordinate_descent.py:695: ConvergenceWarning: Objective did not converge. You might want to increase the number of iterations, check the scale of the features or consider increasing regularisation. Duality gap: 5.447e+00, tolerance: 3.529e-03\n",
      "  model = cd_fast.enet_coordinate_descent(\n",
      "/Users/jgfaraco/miniconda3/lib/python3.12/site-packages/sklearn/linear_model/_coordinate_descent.py:695: ConvergenceWarning: Objective did not converge. You might want to increase the number of iterations, check the scale of the features or consider increasing regularisation. Duality gap: 5.701e+00, tolerance: 3.475e-03\n",
      "  model = cd_fast.enet_coordinate_descent(\n",
      "/Users/jgfaraco/miniconda3/lib/python3.12/site-packages/sklearn/linear_model/_coordinate_descent.py:695: ConvergenceWarning: Objective did not converge. You might want to increase the number of iterations, check the scale of the features or consider increasing regularisation. Duality gap: 5.623e+00, tolerance: 3.549e-03\n",
      "  model = cd_fast.enet_coordinate_descent(\n",
      "/Users/jgfaraco/miniconda3/lib/python3.12/site-packages/sklearn/linear_model/_coordinate_descent.py:695: ConvergenceWarning: Objective did not converge. You might want to increase the number of iterations, check the scale of the features or consider increasing regularisation. Duality gap: 5.766e+00, tolerance: 3.584e-03\n",
      "  model = cd_fast.enet_coordinate_descent(\n",
      "[I 2025-05-17 10:22:55,468] Trial 48 finished with value: -0.0077811642917170135 and parameters: {'alpha': 0.013121370319581372, 'l1_ratio': 0.9669002854965502, 'fit_intercept': True, 'max_iter': 1172, 'use_scaler': False, 'poly_degree': 5}. Best is trial 47 with value: -0.003283424756676366.\n",
      "/Users/jgfaraco/miniconda3/lib/python3.12/site-packages/sklearn/linear_model/_coordinate_descent.py:695: ConvergenceWarning: Objective did not converge. You might want to increase the number of iterations, check the scale of the features or consider increasing regularisation. Duality gap: 6.394e+00, tolerance: 4.015e+00\n",
      "  model = cd_fast.enet_coordinate_descent(\n",
      "/Users/jgfaraco/miniconda3/lib/python3.12/site-packages/sklearn/linear_model/_coordinate_descent.py:695: ConvergenceWarning: Objective did not converge. You might want to increase the number of iterations, check the scale of the features or consider increasing regularisation. Duality gap: 6.390e+00, tolerance: 4.012e+00\n",
      "  model = cd_fast.enet_coordinate_descent(\n",
      "/Users/jgfaraco/miniconda3/lib/python3.12/site-packages/sklearn/linear_model/_coordinate_descent.py:695: ConvergenceWarning: Objective did not converge. You might want to increase the number of iterations, check the scale of the features or consider increasing regularisation. Duality gap: 6.426e+00, tolerance: 4.013e+00\n",
      "  model = cd_fast.enet_coordinate_descent(\n",
      "/Users/jgfaraco/miniconda3/lib/python3.12/site-packages/sklearn/linear_model/_coordinate_descent.py:695: ConvergenceWarning: Objective did not converge. You might want to increase the number of iterations, check the scale of the features or consider increasing regularisation. Duality gap: 6.420e+00, tolerance: 4.019e+00\n",
      "  model = cd_fast.enet_coordinate_descent(\n",
      "/Users/jgfaraco/miniconda3/lib/python3.12/site-packages/sklearn/linear_model/_coordinate_descent.py:695: ConvergenceWarning: Objective did not converge. You might want to increase the number of iterations, check the scale of the features or consider increasing regularisation. Duality gap: 6.509e+00, tolerance: 4.016e+00\n",
      "  model = cd_fast.enet_coordinate_descent(\n",
      "[I 2025-05-17 10:22:56,381] Trial 49 finished with value: -0.003872681550184239 and parameters: {'alpha': 0.002338744739603667, 'l1_ratio': 0.5984688559611887, 'fit_intercept': False, 'max_iter': 3518, 'use_scaler': False, 'poly_degree': 4}. Best is trial 47 with value: -0.003283424756676366.\n",
      "/Users/jgfaraco/miniconda3/lib/python3.12/site-packages/sklearn/linear_model/_coordinate_descent.py:695: ConvergenceWarning: Objective did not converge. You might want to increase the number of iterations, check the scale of the features or consider increasing regularisation. Duality gap: 5.583e+00, tolerance: 3.519e-03\n",
      "  model = cd_fast.enet_coordinate_descent(\n",
      "/Users/jgfaraco/miniconda3/lib/python3.12/site-packages/sklearn/linear_model/_coordinate_descent.py:695: ConvergenceWarning: Objective did not converge. You might want to increase the number of iterations, check the scale of the features or consider increasing regularisation. Duality gap: 5.509e+00, tolerance: 3.529e-03\n",
      "  model = cd_fast.enet_coordinate_descent(\n",
      "/Users/jgfaraco/miniconda3/lib/python3.12/site-packages/sklearn/linear_model/_coordinate_descent.py:695: ConvergenceWarning: Objective did not converge. You might want to increase the number of iterations, check the scale of the features or consider increasing regularisation. Duality gap: 5.767e+00, tolerance: 3.475e-03\n",
      "  model = cd_fast.enet_coordinate_descent(\n",
      "/Users/jgfaraco/miniconda3/lib/python3.12/site-packages/sklearn/linear_model/_coordinate_descent.py:695: ConvergenceWarning: Objective did not converge. You might want to increase the number of iterations, check the scale of the features or consider increasing regularisation. Duality gap: 5.812e+00, tolerance: 3.584e-03\n",
      "  model = cd_fast.enet_coordinate_descent(\n",
      "/Users/jgfaraco/miniconda3/lib/python3.12/site-packages/sklearn/linear_model/_coordinate_descent.py:695: ConvergenceWarning: Objective did not converge. You might want to increase the number of iterations, check the scale of the features or consider increasing regularisation. Duality gap: 5.696e+00, tolerance: 3.549e-03\n",
      "  model = cd_fast.enet_coordinate_descent(\n",
      "[I 2025-05-17 10:22:57,208] Trial 50 finished with value: -0.007924950453962111 and parameters: {'alpha': 0.8347790852520648, 'l1_ratio': 0.9110422094418901, 'fit_intercept': True, 'max_iter': 4802, 'use_scaler': False, 'poly_degree': 4}. Best is trial 47 with value: -0.003283424756676366.\n",
      "[I 2025-05-17 10:22:58,173] Trial 51 finished with value: -0.4340465625299199 and parameters: {'alpha': 0.02437282750829703, 'l1_ratio': 0.2693090437513852, 'fit_intercept': False, 'max_iter': 3335, 'use_scaler': True, 'with_mean': True, 'with_std': True, 'poly_degree': 5}. Best is trial 47 with value: -0.003283424756676366.\n",
      "/Users/jgfaraco/miniconda3/lib/python3.12/site-packages/sklearn/linear_model/_coordinate_descent.py:695: ConvergenceWarning: Objective did not converge. You might want to increase the number of iterations, check the scale of the features or consider increasing regularisation. Duality gap: 7.311e+00, tolerance: 4.015e+00\n",
      "  model = cd_fast.enet_coordinate_descent(\n",
      "/Users/jgfaraco/miniconda3/lib/python3.12/site-packages/sklearn/linear_model/_coordinate_descent.py:695: ConvergenceWarning: Objective did not converge. You might want to increase the number of iterations, check the scale of the features or consider increasing regularisation. Duality gap: 7.359e+00, tolerance: 4.013e+00\n",
      "  model = cd_fast.enet_coordinate_descent(\n",
      "/Users/jgfaraco/miniconda3/lib/python3.12/site-packages/sklearn/linear_model/_coordinate_descent.py:695: ConvergenceWarning: Objective did not converge. You might want to increase the number of iterations, check the scale of the features or consider increasing regularisation. Duality gap: 7.557e+00, tolerance: 4.012e+00\n",
      "  model = cd_fast.enet_coordinate_descent(\n",
      "/Users/jgfaraco/miniconda3/lib/python3.12/site-packages/sklearn/linear_model/_coordinate_descent.py:695: ConvergenceWarning: Objective did not converge. You might want to increase the number of iterations, check the scale of the features or consider increasing regularisation. Duality gap: 7.450e+00, tolerance: 4.019e+00\n",
      "  model = cd_fast.enet_coordinate_descent(\n",
      "/Users/jgfaraco/miniconda3/lib/python3.12/site-packages/sklearn/linear_model/_coordinate_descent.py:695: ConvergenceWarning: Objective did not converge. You might want to increase the number of iterations, check the scale of the features or consider increasing regularisation. Duality gap: 7.651e+00, tolerance: 4.016e+00\n",
      "  model = cd_fast.enet_coordinate_descent(\n",
      "[I 2025-05-17 10:22:58,734] Trial 52 finished with value: -0.008222547521662443 and parameters: {'alpha': 2.652502871774028, 'l1_ratio': 0.24635524541040218, 'fit_intercept': False, 'max_iter': 4800, 'use_scaler': False, 'poly_degree': 3}. Best is trial 47 with value: -0.003283424756676366.\n",
      "/Users/jgfaraco/miniconda3/lib/python3.12/site-packages/sklearn/linear_model/_coordinate_descent.py:695: ConvergenceWarning: Objective did not converge. You might want to increase the number of iterations, check the scale of the features or consider increasing regularisation. Duality gap: 5.981e+00, tolerance: 4.015e+00\n",
      "  model = cd_fast.enet_coordinate_descent(\n",
      "/Users/jgfaraco/miniconda3/lib/python3.12/site-packages/sklearn/linear_model/_coordinate_descent.py:695: ConvergenceWarning: Objective did not converge. You might want to increase the number of iterations, check the scale of the features or consider increasing regularisation. Duality gap: 6.252e+00, tolerance: 4.012e+00\n",
      "  model = cd_fast.enet_coordinate_descent(\n",
      "/Users/jgfaraco/miniconda3/lib/python3.12/site-packages/sklearn/linear_model/_coordinate_descent.py:695: ConvergenceWarning: Objective did not converge. You might want to increase the number of iterations, check the scale of the features or consider increasing regularisation. Duality gap: 6.051e+00, tolerance: 4.013e+00\n",
      "  model = cd_fast.enet_coordinate_descent(\n",
      "/Users/jgfaraco/miniconda3/lib/python3.12/site-packages/sklearn/linear_model/_coordinate_descent.py:695: ConvergenceWarning: Objective did not converge. You might want to increase the number of iterations, check the scale of the features or consider increasing regularisation. Duality gap: 6.176e+00, tolerance: 4.019e+00\n",
      "  model = cd_fast.enet_coordinate_descent(\n",
      "/Users/jgfaraco/miniconda3/lib/python3.12/site-packages/sklearn/linear_model/_coordinate_descent.py:695: ConvergenceWarning: Objective did not converge. You might want to increase the number of iterations, check the scale of the features or consider increasing regularisation. Duality gap: 6.299e+00, tolerance: 4.016e+00\n",
      "  model = cd_fast.enet_coordinate_descent(\n",
      "[I 2025-05-17 10:22:59,392] Trial 53 finished with value: -0.008129689081819042 and parameters: {'alpha': 46.093789776763856, 'l1_ratio': 0.8794575005503675, 'fit_intercept': False, 'max_iter': 2506, 'use_scaler': True, 'with_mean': False, 'with_std': False, 'poly_degree': 5}. Best is trial 47 with value: -0.003283424756676366.\n",
      "/Users/jgfaraco/miniconda3/lib/python3.12/site-packages/sklearn/linear_model/_coordinate_descent.py:695: ConvergenceWarning: Objective did not converge. You might want to increase the number of iterations, check the scale of the features or consider increasing regularisation. Duality gap: 1.377e+01, tolerance: 4.015e+00\n",
      "  model = cd_fast.enet_coordinate_descent(\n",
      "/Users/jgfaraco/miniconda3/lib/python3.12/site-packages/sklearn/linear_model/_coordinate_descent.py:695: ConvergenceWarning: Objective did not converge. You might want to increase the number of iterations, check the scale of the features or consider increasing regularisation. Duality gap: 1.390e+01, tolerance: 4.012e+00\n",
      "  model = cd_fast.enet_coordinate_descent(\n",
      "/Users/jgfaraco/miniconda3/lib/python3.12/site-packages/sklearn/linear_model/_coordinate_descent.py:695: ConvergenceWarning: Objective did not converge. You might want to increase the number of iterations, check the scale of the features or consider increasing regularisation. Duality gap: 1.349e+01, tolerance: 4.013e+00\n",
      "  model = cd_fast.enet_coordinate_descent(\n",
      "/Users/jgfaraco/miniconda3/lib/python3.12/site-packages/sklearn/linear_model/_coordinate_descent.py:695: ConvergenceWarning: Objective did not converge. You might want to increase the number of iterations, check the scale of the features or consider increasing regularisation. Duality gap: 1.367e+01, tolerance: 4.019e+00\n",
      "  model = cd_fast.enet_coordinate_descent(\n",
      "/Users/jgfaraco/miniconda3/lib/python3.12/site-packages/sklearn/linear_model/_coordinate_descent.py:695: ConvergenceWarning: Objective did not converge. You might want to increase the number of iterations, check the scale of the features or consider increasing regularisation. Duality gap: 1.413e+01, tolerance: 4.016e+00\n",
      "  model = cd_fast.enet_coordinate_descent(\n",
      "[I 2025-05-17 10:22:59,809] Trial 54 finished with value: -0.008504136201989263 and parameters: {'alpha': 15.54688992039453, 'l1_ratio': 0.5218238438154733, 'fit_intercept': False, 'max_iter': 1225, 'use_scaler': False, 'poly_degree': 5}. Best is trial 47 with value: -0.003283424756676366.\n",
      "[I 2025-05-17 10:23:00,613] Trial 55 finished with value: -0.008022889778263672 and parameters: {'alpha': 96.20201870331302, 'l1_ratio': 0.5998885350423647, 'fit_intercept': True, 'max_iter': 4399, 'use_scaler': True, 'with_mean': False, 'with_std': True, 'poly_degree': 4}. Best is trial 47 with value: -0.003283424756676366.\n",
      "/Users/jgfaraco/miniconda3/lib/python3.12/site-packages/sklearn/linear_model/_coordinate_descent.py:695: ConvergenceWarning: Objective did not converge. You might want to increase the number of iterations, check the scale of the features or consider increasing regularisation. Duality gap: 5.596e+00, tolerance: 3.549e-03\n",
      "  model = cd_fast.enet_coordinate_descent(\n",
      "/Users/jgfaraco/miniconda3/lib/python3.12/site-packages/sklearn/linear_model/_coordinate_descent.py:695: ConvergenceWarning: Objective did not converge. You might want to increase the number of iterations, check the scale of the features or consider increasing regularisation. Duality gap: 5.482e+00, tolerance: 3.519e-03\n",
      "  model = cd_fast.enet_coordinate_descent(\n",
      "/Users/jgfaraco/miniconda3/lib/python3.12/site-packages/sklearn/linear_model/_coordinate_descent.py:695: ConvergenceWarning: Objective did not converge. You might want to increase the number of iterations, check the scale of the features or consider increasing regularisation. Duality gap: 5.412e+00, tolerance: 3.529e-03\n",
      "  model = cd_fast.enet_coordinate_descent(\n",
      "/Users/jgfaraco/miniconda3/lib/python3.12/site-packages/sklearn/linear_model/_coordinate_descent.py:695: ConvergenceWarning: Objective did not converge. You might want to increase the number of iterations, check the scale of the features or consider increasing regularisation. Duality gap: 5.675e+00, tolerance: 3.475e-03\n",
      "  model = cd_fast.enet_coordinate_descent(\n",
      "/Users/jgfaraco/miniconda3/lib/python3.12/site-packages/sklearn/linear_model/_coordinate_descent.py:695: ConvergenceWarning: Objective did not converge. You might want to increase the number of iterations, check the scale of the features or consider increasing regularisation. Duality gap: 5.712e+00, tolerance: 3.584e-03\n",
      "  model = cd_fast.enet_coordinate_descent(\n",
      "[I 2025-05-17 10:23:01,490] Trial 56 finished with value: -0.00773352414812214 and parameters: {'alpha': 1.2320865092618447, 'l1_ratio': 0.42234644622955647, 'fit_intercept': True, 'max_iter': 3081, 'use_scaler': False, 'poly_degree': 5}. Best is trial 47 with value: -0.003283424756676366.\n",
      "[I 2025-05-17 10:23:01,592] Trial 57 finished with value: -0.01888976499624415 and parameters: {'alpha': 0.5748230753568713, 'l1_ratio': 0.6048441743818477, 'fit_intercept': False, 'max_iter': 1536, 'use_scaler': True, 'with_mean': False, 'with_std': True, 'poly_degree': 1}. Best is trial 47 with value: -0.003283424756676366.\n",
      "/Users/jgfaraco/miniconda3/lib/python3.12/site-packages/sklearn/linear_model/_coordinate_descent.py:695: ConvergenceWarning: Objective did not converge. You might want to increase the number of iterations, check the scale of the features or consider increasing regularisation. Duality gap: 8.312e-02, tolerance: 3.529e-03\n",
      "  model = cd_fast.enet_coordinate_descent(\n",
      "/Users/jgfaraco/miniconda3/lib/python3.12/site-packages/sklearn/linear_model/_coordinate_descent.py:695: ConvergenceWarning: Objective did not converge. You might want to increase the number of iterations, check the scale of the features or consider increasing regularisation. Duality gap: 1.447e-02, tolerance: 3.519e-03\n",
      "  model = cd_fast.enet_coordinate_descent(\n",
      "/Users/jgfaraco/miniconda3/lib/python3.12/site-packages/sklearn/linear_model/_coordinate_descent.py:695: ConvergenceWarning: Objective did not converge. You might want to increase the number of iterations, check the scale of the features or consider increasing regularisation. Duality gap: 2.328e-02, tolerance: 3.475e-03\n",
      "  model = cd_fast.enet_coordinate_descent(\n",
      "/Users/jgfaraco/miniconda3/lib/python3.12/site-packages/sklearn/linear_model/_coordinate_descent.py:695: ConvergenceWarning: Objective did not converge. You might want to increase the number of iterations, check the scale of the features or consider increasing regularisation. Duality gap: 5.174e-03, tolerance: 3.584e-03\n",
      "  model = cd_fast.enet_coordinate_descent(\n",
      "/Users/jgfaraco/miniconda3/lib/python3.12/site-packages/sklearn/linear_model/_coordinate_descent.py:695: ConvergenceWarning: Objective did not converge. You might want to increase the number of iterations, check the scale of the features or consider increasing regularisation. Duality gap: 3.772e-02, tolerance: 3.549e-03\n",
      "  model = cd_fast.enet_coordinate_descent(\n",
      "[I 2025-05-17 10:23:03,334] Trial 58 finished with value: -0.009594785513697145 and parameters: {'alpha': 0.05661581898267356, 'l1_ratio': 0.6309259181691698, 'fit_intercept': True, 'max_iter': 4617, 'use_scaler': True, 'with_mean': True, 'with_std': False, 'poly_degree': 5}. Best is trial 47 with value: -0.003283424756676366.\n",
      "/Users/jgfaraco/miniconda3/lib/python3.12/site-packages/sklearn/linear_model/_coordinate_descent.py:695: ConvergenceWarning: Objective did not converge. You might want to increase the number of iterations, check the scale of the features or consider increasing regularisation. Duality gap: 8.305e+00, tolerance: 4.015e+00\n",
      "  model = cd_fast.enet_coordinate_descent(\n",
      "/Users/jgfaraco/miniconda3/lib/python3.12/site-packages/sklearn/linear_model/_coordinate_descent.py:695: ConvergenceWarning: Objective did not converge. You might want to increase the number of iterations, check the scale of the features or consider increasing regularisation. Duality gap: 8.526e+00, tolerance: 4.019e+00\n",
      "  model = cd_fast.enet_coordinate_descent(\n",
      "/Users/jgfaraco/miniconda3/lib/python3.12/site-packages/sklearn/linear_model/_coordinate_descent.py:695: ConvergenceWarning: Objective did not converge. You might want to increase the number of iterations, check the scale of the features or consider increasing regularisation. Duality gap: 8.426e+00, tolerance: 4.013e+00\n",
      "  model = cd_fast.enet_coordinate_descent(\n",
      "/Users/jgfaraco/miniconda3/lib/python3.12/site-packages/sklearn/linear_model/_coordinate_descent.py:695: ConvergenceWarning: Objective did not converge. You might want to increase the number of iterations, check the scale of the features or consider increasing regularisation. Duality gap: 8.465e+00, tolerance: 4.012e+00\n",
      "  model = cd_fast.enet_coordinate_descent(\n",
      "/Users/jgfaraco/miniconda3/lib/python3.12/site-packages/sklearn/linear_model/_coordinate_descent.py:695: ConvergenceWarning: Objective did not converge. You might want to increase the number of iterations, check the scale of the features or consider increasing regularisation. Duality gap: 8.691e+00, tolerance: 4.016e+00\n",
      "  model = cd_fast.enet_coordinate_descent(\n",
      "[I 2025-05-17 10:23:03,677] Trial 59 finished with value: -0.005772954495304267 and parameters: {'alpha': 0.00543710105109608, 'l1_ratio': 0.933928862645345, 'fit_intercept': False, 'max_iter': 2837, 'use_scaler': False, 'poly_degree': 2}. Best is trial 47 with value: -0.003283424756676366.\n",
      "/Users/jgfaraco/miniconda3/lib/python3.12/site-packages/sklearn/linear_model/_coordinate_descent.py:695: ConvergenceWarning: Objective did not converge. You might want to increase the number of iterations, check the scale of the features or consider increasing regularisation. Duality gap: 5.669e+00, tolerance: 3.519e-03\n",
      "  model = cd_fast.enet_coordinate_descent(\n",
      "/Users/jgfaraco/miniconda3/lib/python3.12/site-packages/sklearn/linear_model/_coordinate_descent.py:695: ConvergenceWarning: Objective did not converge. You might want to increase the number of iterations, check the scale of the features or consider increasing regularisation. Duality gap: 5.586e+00, tolerance: 3.529e-03\n",
      "  model = cd_fast.enet_coordinate_descent(\n",
      "/Users/jgfaraco/miniconda3/lib/python3.12/site-packages/sklearn/linear_model/_coordinate_descent.py:695: ConvergenceWarning: Objective did not converge. You might want to increase the number of iterations, check the scale of the features or consider increasing regularisation. Duality gap: 5.861e+00, tolerance: 3.475e-03\n",
      "  model = cd_fast.enet_coordinate_descent(\n",
      "/Users/jgfaraco/miniconda3/lib/python3.12/site-packages/sklearn/linear_model/_coordinate_descent.py:695: ConvergenceWarning: Objective did not converge. You might want to increase the number of iterations, check the scale of the features or consider increasing regularisation. Duality gap: 5.772e+00, tolerance: 3.549e-03\n",
      "  model = cd_fast.enet_coordinate_descent(\n",
      "/Users/jgfaraco/miniconda3/lib/python3.12/site-packages/sklearn/linear_model/_coordinate_descent.py:695: ConvergenceWarning: Objective did not converge. You might want to increase the number of iterations, check the scale of the features or consider increasing regularisation. Duality gap: 5.899e+00, tolerance: 3.584e-03\n",
      "  model = cd_fast.enet_coordinate_descent(\n",
      "[I 2025-05-17 10:23:03,994] Trial 60 finished with value: -0.008019982080494287 and parameters: {'alpha': 1.4689407256107627, 'l1_ratio': 0.3161310569003738, 'fit_intercept': True, 'max_iter': 1512, 'use_scaler': False, 'poly_degree': 4}. Best is trial 47 with value: -0.003283424756676366.\n",
      "[I 2025-05-17 10:23:04,368] Trial 61 finished with value: -0.005165029209850389 and parameters: {'alpha': 0.008117091133892166, 'l1_ratio': 0.4111005549914769, 'fit_intercept': False, 'max_iter': 3670, 'use_scaler': True, 'with_mean': False, 'with_std': True, 'poly_degree': 1}. Best is trial 47 with value: -0.003283424756676366.\n",
      "/Users/jgfaraco/miniconda3/lib/python3.12/site-packages/sklearn/linear_model/_coordinate_descent.py:695: ConvergenceWarning: Objective did not converge. You might want to increase the number of iterations, check the scale of the features or consider increasing regularisation. Duality gap: 4.102e+00, tolerance: 3.529e-03\n",
      "  model = cd_fast.enet_coordinate_descent(\n",
      "/Users/jgfaraco/miniconda3/lib/python3.12/site-packages/sklearn/linear_model/_coordinate_descent.py:695: ConvergenceWarning: Objective did not converge. You might want to increase the number of iterations, check the scale of the features or consider increasing regularisation. Duality gap: 4.149e+00, tolerance: 3.475e-03\n",
      "  model = cd_fast.enet_coordinate_descent(\n",
      "/Users/jgfaraco/miniconda3/lib/python3.12/site-packages/sklearn/linear_model/_coordinate_descent.py:695: ConvergenceWarning: Objective did not converge. You might want to increase the number of iterations, check the scale of the features or consider increasing regularisation. Duality gap: 4.227e+00, tolerance: 3.549e-03\n",
      "  model = cd_fast.enet_coordinate_descent(\n",
      "/Users/jgfaraco/miniconda3/lib/python3.12/site-packages/sklearn/linear_model/_coordinate_descent.py:695: ConvergenceWarning: Objective did not converge. You might want to increase the number of iterations, check the scale of the features or consider increasing regularisation. Duality gap: 4.166e+00, tolerance: 3.519e-03\n",
      "  model = cd_fast.enet_coordinate_descent(\n",
      "/Users/jgfaraco/miniconda3/lib/python3.12/site-packages/sklearn/linear_model/_coordinate_descent.py:695: ConvergenceWarning: Objective did not converge. You might want to increase the number of iterations, check the scale of the features or consider increasing regularisation. Duality gap: 4.262e+00, tolerance: 3.584e-03\n",
      "  model = cd_fast.enet_coordinate_descent(\n",
      "[I 2025-05-17 10:23:05,342] Trial 62 finished with value: -0.004259191486952174 and parameters: {'alpha': 0.004010323022778368, 'l1_ratio': 0.5147008912294532, 'fit_intercept': True, 'max_iter': 3014, 'use_scaler': False, 'poly_degree': 4}. Best is trial 47 with value: -0.003283424756676366.\n",
      "[I 2025-05-17 10:23:05,410] Trial 63 finished with value: -0.014939487107574137 and parameters: {'alpha': 1.3788021357516675, 'l1_ratio': 0.1735831287539847, 'fit_intercept': True, 'max_iter': 1244, 'use_scaler': True, 'with_mean': True, 'with_std': False, 'poly_degree': 3}. Best is trial 47 with value: -0.003283424756676366.\n",
      "[I 2025-05-17 10:23:05,470] Trial 64 finished with value: -0.024290639236509086 and parameters: {'alpha': 1.2338826503602005, 'l1_ratio': 0.43202227561279516, 'fit_intercept': True, 'max_iter': 1146, 'use_scaler': True, 'with_mean': True, 'with_std': True, 'poly_degree': 3}. Best is trial 47 with value: -0.003283424756676366.\n",
      "[I 2025-05-17 10:23:05,528] Trial 65 finished with value: -0.008235303797468289 and parameters: {'alpha': 0.4603480758878797, 'l1_ratio': 0.31822345327125673, 'fit_intercept': True, 'max_iter': 1080, 'use_scaler': False, 'poly_degree': 2}. Best is trial 47 with value: -0.003283424756676366.\n",
      "/Users/jgfaraco/miniconda3/lib/python3.12/site-packages/sklearn/linear_model/_coordinate_descent.py:695: ConvergenceWarning: Objective did not converge. You might want to increase the number of iterations, check the scale of the features or consider increasing regularisation. Duality gap: 4.917e+00, tolerance: 3.549e-03\n",
      "  model = cd_fast.enet_coordinate_descent(\n",
      "/Users/jgfaraco/miniconda3/lib/python3.12/site-packages/sklearn/linear_model/_coordinate_descent.py:695: ConvergenceWarning: Objective did not converge. You might want to increase the number of iterations, check the scale of the features or consider increasing regularisation. Duality gap: 4.738e+00, tolerance: 3.529e-03\n",
      "  model = cd_fast.enet_coordinate_descent(\n",
      "/Users/jgfaraco/miniconda3/lib/python3.12/site-packages/sklearn/linear_model/_coordinate_descent.py:695: ConvergenceWarning: Objective did not converge. You might want to increase the number of iterations, check the scale of the features or consider increasing regularisation. Duality gap: 4.874e+00, tolerance: 3.475e-03\n",
      "  model = cd_fast.enet_coordinate_descent(\n",
      "/Users/jgfaraco/miniconda3/lib/python3.12/site-packages/sklearn/linear_model/_coordinate_descent.py:695: ConvergenceWarning: Objective did not converge. You might want to increase the number of iterations, check the scale of the features or consider increasing regularisation. Duality gap: 4.860e+00, tolerance: 3.519e-03\n",
      "  model = cd_fast.enet_coordinate_descent(\n",
      "/Users/jgfaraco/miniconda3/lib/python3.12/site-packages/sklearn/linear_model/_coordinate_descent.py:695: ConvergenceWarning: Objective did not converge. You might want to increase the number of iterations, check the scale of the features or consider increasing regularisation. Duality gap: 4.966e+00, tolerance: 3.584e-03\n",
      "  model = cd_fast.enet_coordinate_descent(\n",
      "[I 2025-05-17 10:23:06,372] Trial 66 finished with value: -0.005192361893900386 and parameters: {'alpha': 0.00397018422204781, 'l1_ratio': 0.9014745526659055, 'fit_intercept': True, 'max_iter': 4157, 'use_scaler': False, 'poly_degree': 3}. Best is trial 47 with value: -0.003283424756676366.\n",
      "[I 2025-05-17 10:23:06,428] Trial 67 finished with value: -4.553292469189486 and parameters: {'alpha': 0.8594202650742229, 'l1_ratio': 0.770895526765897, 'fit_intercept': False, 'max_iter': 2135, 'use_scaler': True, 'with_mean': True, 'with_std': True, 'poly_degree': 2}. Best is trial 47 with value: -0.003283424756676366.\n",
      "/Users/jgfaraco/miniconda3/lib/python3.12/site-packages/sklearn/linear_model/_coordinate_descent.py:695: ConvergenceWarning: Objective did not converge. You might want to increase the number of iterations, check the scale of the features or consider increasing regularisation. Duality gap: 6.684e+00, tolerance: 4.013e+00\n",
      "  model = cd_fast.enet_coordinate_descent(\n",
      "/Users/jgfaraco/miniconda3/lib/python3.12/site-packages/sklearn/linear_model/_coordinate_descent.py:695: ConvergenceWarning: Objective did not converge. You might want to increase the number of iterations, check the scale of the features or consider increasing regularisation. Duality gap: 6.659e+00, tolerance: 4.015e+00\n",
      "  model = cd_fast.enet_coordinate_descent(\n",
      "/Users/jgfaraco/miniconda3/lib/python3.12/site-packages/sklearn/linear_model/_coordinate_descent.py:695: ConvergenceWarning: Objective did not converge. You might want to increase the number of iterations, check the scale of the features or consider increasing regularisation. Duality gap: 6.635e+00, tolerance: 4.012e+00\n",
      "  model = cd_fast.enet_coordinate_descent(\n",
      "/Users/jgfaraco/miniconda3/lib/python3.12/site-packages/sklearn/linear_model/_coordinate_descent.py:695: ConvergenceWarning: Objective did not converge. You might want to increase the number of iterations, check the scale of the features or consider increasing regularisation. Duality gap: 6.675e+00, tolerance: 4.019e+00\n",
      "  model = cd_fast.enet_coordinate_descent(\n",
      "/Users/jgfaraco/miniconda3/lib/python3.12/site-packages/sklearn/linear_model/_coordinate_descent.py:695: ConvergenceWarning: Objective did not converge. You might want to increase the number of iterations, check the scale of the features or consider increasing regularisation. Duality gap: 6.743e+00, tolerance: 4.016e+00\n",
      "  model = cd_fast.enet_coordinate_descent(\n",
      "[I 2025-05-17 10:23:07,165] Trial 68 finished with value: -0.0035668418155084453 and parameters: {'alpha': 0.0032278427050432138, 'l1_ratio': 0.23757322526589883, 'fit_intercept': False, 'max_iter': 1746, 'use_scaler': False, 'poly_degree': 5}. Best is trial 47 with value: -0.003283424756676366.\n",
      "[I 2025-05-17 10:23:07,291] Trial 69 finished with value: -0.003809866247779638 and parameters: {'alpha': 0.0025186552636979184, 'l1_ratio': 0.5720602506132292, 'fit_intercept': True, 'max_iter': 1448, 'use_scaler': True, 'with_mean': True, 'with_std': True, 'poly_degree': 4}. Best is trial 47 with value: -0.003283424756676366.\n",
      "/Users/jgfaraco/miniconda3/lib/python3.12/site-packages/sklearn/linear_model/_coordinate_descent.py:695: ConvergenceWarning: Objective did not converge. You might want to increase the number of iterations, check the scale of the features or consider increasing regularisation. Duality gap: 1.080e+01, tolerance: 4.015e+00\n",
      "  model = cd_fast.enet_coordinate_descent(\n",
      "/Users/jgfaraco/miniconda3/lib/python3.12/site-packages/sklearn/linear_model/_coordinate_descent.py:695: ConvergenceWarning: Objective did not converge. You might want to increase the number of iterations, check the scale of the features or consider increasing regularisation. Duality gap: 1.059e+01, tolerance: 4.013e+00\n",
      "  model = cd_fast.enet_coordinate_descent(\n",
      "/Users/jgfaraco/miniconda3/lib/python3.12/site-packages/sklearn/linear_model/_coordinate_descent.py:695: ConvergenceWarning: Objective did not converge. You might want to increase the number of iterations, check the scale of the features or consider increasing regularisation. Duality gap: 1.077e+01, tolerance: 4.019e+00\n",
      "  model = cd_fast.enet_coordinate_descent(\n",
      "/Users/jgfaraco/miniconda3/lib/python3.12/site-packages/sklearn/linear_model/_coordinate_descent.py:695: ConvergenceWarning: Objective did not converge. You might want to increase the number of iterations, check the scale of the features or consider increasing regularisation. Duality gap: 1.094e+01, tolerance: 4.012e+00\n",
      "  model = cd_fast.enet_coordinate_descent(\n",
      "/Users/jgfaraco/miniconda3/lib/python3.12/site-packages/sklearn/linear_model/_coordinate_descent.py:695: ConvergenceWarning: Objective did not converge. You might want to increase the number of iterations, check the scale of the features or consider increasing regularisation. Duality gap: 1.106e+01, tolerance: 4.016e+00\n",
      "  model = cd_fast.enet_coordinate_descent(\n",
      "[I 2025-05-17 10:23:08,172] Trial 70 finished with value: -0.01092013738495412 and parameters: {'alpha': 44.348603175335356, 'l1_ratio': 0.6010866037125369, 'fit_intercept': False, 'max_iter': 4078, 'use_scaler': True, 'with_mean': False, 'with_std': True, 'poly_degree': 4}. Best is trial 47 with value: -0.003283424756676366.\n",
      "[I 2025-05-17 10:23:08,252] Trial 71 finished with value: -0.009033583156189623 and parameters: {'alpha': 0.027742958115008116, 'l1_ratio': 0.6231143992803511, 'fit_intercept': True, 'max_iter': 3130, 'use_scaler': True, 'with_mean': True, 'with_std': True, 'poly_degree': 5}. Best is trial 47 with value: -0.003283424756676366.\n",
      "/Users/jgfaraco/miniconda3/lib/python3.12/site-packages/sklearn/linear_model/_coordinate_descent.py:695: ConvergenceWarning: Objective did not converge. You might want to increase the number of iterations, check the scale of the features or consider increasing regularisation. Duality gap: 5.721e+00, tolerance: 4.015e+00\n",
      "  model = cd_fast.enet_coordinate_descent(\n",
      "/Users/jgfaraco/miniconda3/lib/python3.12/site-packages/sklearn/linear_model/_coordinate_descent.py:695: ConvergenceWarning: Objective did not converge. You might want to increase the number of iterations, check the scale of the features or consider increasing regularisation. Duality gap: 5.999e+00, tolerance: 4.012e+00\n",
      "  model = cd_fast.enet_coordinate_descent(\n",
      "/Users/jgfaraco/miniconda3/lib/python3.12/site-packages/sklearn/linear_model/_coordinate_descent.py:695: ConvergenceWarning: Objective did not converge. You might want to increase the number of iterations, check the scale of the features or consider increasing regularisation. Duality gap: 5.795e+00, tolerance: 4.013e+00\n",
      "  model = cd_fast.enet_coordinate_descent(\n",
      "/Users/jgfaraco/miniconda3/lib/python3.12/site-packages/sklearn/linear_model/_coordinate_descent.py:695: ConvergenceWarning: Objective did not converge. You might want to increase the number of iterations, check the scale of the features or consider increasing regularisation. Duality gap: 6.018e+00, tolerance: 4.016e+00\n",
      "  model = cd_fast.enet_coordinate_descent(\n",
      "/Users/jgfaraco/miniconda3/lib/python3.12/site-packages/sklearn/linear_model/_coordinate_descent.py:695: ConvergenceWarning: Objective did not converge. You might want to increase the number of iterations, check the scale of the features or consider increasing regularisation. Duality gap: 5.917e+00, tolerance: 4.019e+00\n",
      "  model = cd_fast.enet_coordinate_descent(\n",
      "[I 2025-05-17 10:23:09,258] Trial 72 finished with value: -0.008086870438623087 and parameters: {'alpha': 0.01875872314533727, 'l1_ratio': 0.7133524500015364, 'fit_intercept': False, 'max_iter': 2886, 'use_scaler': False, 'poly_degree': 5}. Best is trial 47 with value: -0.003283424756676366.\n",
      "/Users/jgfaraco/miniconda3/lib/python3.12/site-packages/sklearn/linear_model/_coordinate_descent.py:695: ConvergenceWarning: Objective did not converge. You might want to increase the number of iterations, check the scale of the features or consider increasing regularisation. Duality gap: 5.794e+00, tolerance: 3.475e-03\n",
      "  model = cd_fast.enet_coordinate_descent(\n",
      "/Users/jgfaraco/miniconda3/lib/python3.12/site-packages/sklearn/linear_model/_coordinate_descent.py:695: ConvergenceWarning: Objective did not converge. You might want to increase the number of iterations, check the scale of the features or consider increasing regularisation. Duality gap: 5.611e+00, tolerance: 3.519e-03\n",
      "  model = cd_fast.enet_coordinate_descent(\n",
      "/Users/jgfaraco/miniconda3/lib/python3.12/site-packages/sklearn/linear_model/_coordinate_descent.py:695: ConvergenceWarning: Objective did not converge. You might want to increase the number of iterations, check the scale of the features or consider increasing regularisation. Duality gap: 5.527e+00, tolerance: 3.529e-03\n",
      "  model = cd_fast.enet_coordinate_descent(\n",
      "/Users/jgfaraco/miniconda3/lib/python3.12/site-packages/sklearn/linear_model/_coordinate_descent.py:695: ConvergenceWarning: Objective did not converge. You might want to increase the number of iterations, check the scale of the features or consider increasing regularisation. Duality gap: 5.712e+00, tolerance: 3.549e-03\n",
      "  model = cd_fast.enet_coordinate_descent(\n",
      "/Users/jgfaraco/miniconda3/lib/python3.12/site-packages/sklearn/linear_model/_coordinate_descent.py:695: ConvergenceWarning: Objective did not converge. You might want to increase the number of iterations, check the scale of the features or consider increasing regularisation. Duality gap: 5.837e+00, tolerance: 3.584e-03\n",
      "  model = cd_fast.enet_coordinate_descent(\n",
      "[I 2025-05-17 10:23:10,084] Trial 73 finished with value: -0.007933464129095943 and parameters: {'alpha': 14.226466283632076, 'l1_ratio': 0.9685242195998613, 'fit_intercept': True, 'max_iter': 4754, 'use_scaler': False, 'poly_degree': 4}. Best is trial 47 with value: -0.003283424756676366.\n",
      "[I 2025-05-17 10:23:10,139] Trial 74 finished with value: -0.021452421225706255 and parameters: {'alpha': 0.7453591134153514, 'l1_ratio': 0.8576458990824449, 'fit_intercept': True, 'max_iter': 1806, 'use_scaler': True, 'with_mean': True, 'with_std': True, 'poly_degree': 5}. Best is trial 47 with value: -0.003283424756676366.\n",
      "[I 2025-05-17 10:23:10,255] Trial 75 finished with value: -0.897382999606519 and parameters: {'alpha': 0.09166964238460107, 'l1_ratio': 0.8349394955244194, 'fit_intercept': False, 'max_iter': 2851, 'use_scaler': True, 'with_mean': True, 'with_std': True, 'poly_degree': 3}. Best is trial 47 with value: -0.003283424756676366.\n",
      "/Users/jgfaraco/miniconda3/lib/python3.12/site-packages/sklearn/linear_model/_coordinate_descent.py:695: ConvergenceWarning: Objective did not converge. You might want to increase the number of iterations, check the scale of the features or consider increasing regularisation. Duality gap: 5.555e+00, tolerance: 3.529e-03\n",
      "  model = cd_fast.enet_coordinate_descent(\n",
      "/Users/jgfaraco/miniconda3/lib/python3.12/site-packages/sklearn/linear_model/_coordinate_descent.py:695: ConvergenceWarning: Objective did not converge. You might want to increase the number of iterations, check the scale of the features or consider increasing regularisation. Duality gap: 5.640e+00, tolerance: 3.519e-03\n",
      "  model = cd_fast.enet_coordinate_descent(\n",
      "/Users/jgfaraco/miniconda3/lib/python3.12/site-packages/sklearn/linear_model/_coordinate_descent.py:695: ConvergenceWarning: Objective did not converge. You might want to increase the number of iterations, check the scale of the features or consider increasing regularisation. Duality gap: 5.827e+00, tolerance: 3.475e-03\n",
      "  model = cd_fast.enet_coordinate_descent(\n",
      "/Users/jgfaraco/miniconda3/lib/python3.12/site-packages/sklearn/linear_model/_coordinate_descent.py:695: ConvergenceWarning: Objective did not converge. You might want to increase the number of iterations, check the scale of the features or consider increasing regularisation. Duality gap: 5.744e+00, tolerance: 3.549e-03\n",
      "  model = cd_fast.enet_coordinate_descent(\n",
      "/Users/jgfaraco/miniconda3/lib/python3.12/site-packages/sklearn/linear_model/_coordinate_descent.py:695: ConvergenceWarning: Objective did not converge. You might want to increase the number of iterations, check the scale of the features or consider increasing regularisation. Duality gap: 5.864e+00, tolerance: 3.584e-03\n",
      "  model = cd_fast.enet_coordinate_descent(\n",
      "[I 2025-05-17 10:23:10,922] Trial 76 finished with value: -0.007966793695197339 and parameters: {'alpha': 34.069091670272684, 'l1_ratio': 0.6618141963225929, 'fit_intercept': True, 'max_iter': 3511, 'use_scaler': False, 'poly_degree': 4}. Best is trial 47 with value: -0.003283424756676366.\n",
      "/Users/jgfaraco/miniconda3/lib/python3.12/site-packages/sklearn/linear_model/_coordinate_descent.py:695: ConvergenceWarning: Objective did not converge. You might want to increase the number of iterations, check the scale of the features or consider increasing regularisation. Duality gap: 8.060e+00, tolerance: 4.015e+00\n",
      "  model = cd_fast.enet_coordinate_descent(\n",
      "/Users/jgfaraco/miniconda3/lib/python3.12/site-packages/sklearn/linear_model/_coordinate_descent.py:695: ConvergenceWarning: Objective did not converge. You might want to increase the number of iterations, check the scale of the features or consider increasing regularisation. Duality gap: 8.328e+00, tolerance: 4.012e+00\n",
      "  model = cd_fast.enet_coordinate_descent(\n",
      "/Users/jgfaraco/miniconda3/lib/python3.12/site-packages/sklearn/linear_model/_coordinate_descent.py:695: ConvergenceWarning: Objective did not converge. You might want to increase the number of iterations, check the scale of the features or consider increasing regularisation. Duality gap: 8.141e+00, tolerance: 4.013e+00\n",
      "  model = cd_fast.enet_coordinate_descent(\n",
      "/Users/jgfaraco/miniconda3/lib/python3.12/site-packages/sklearn/linear_model/_coordinate_descent.py:695: ConvergenceWarning: Objective did not converge. You might want to increase the number of iterations, check the scale of the features or consider increasing regularisation. Duality gap: 8.245e+00, tolerance: 4.019e+00\n",
      "  model = cd_fast.enet_coordinate_descent(\n",
      "/Users/jgfaraco/miniconda3/lib/python3.12/site-packages/sklearn/linear_model/_coordinate_descent.py:695: ConvergenceWarning: Objective did not converge. You might want to increase the number of iterations, check the scale of the features or consider increasing regularisation. Duality gap: 8.392e+00, tolerance: 4.016e+00\n",
      "  model = cd_fast.enet_coordinate_descent(\n",
      "[I 2025-05-17 10:23:11,284] Trial 77 finished with value: -0.008275797356691626 and parameters: {'alpha': 1.2599803717697282, 'l1_ratio': 0.5801149827786893, 'fit_intercept': False, 'max_iter': 1606, 'use_scaler': False, 'poly_degree': 4}. Best is trial 47 with value: -0.003283424756676366.\n",
      "/Users/jgfaraco/miniconda3/lib/python3.12/site-packages/sklearn/linear_model/_coordinate_descent.py:695: ConvergenceWarning: Objective did not converge. You might want to increase the number of iterations, check the scale of the features or consider increasing regularisation. Duality gap: 3.220e+00, tolerance: 3.475e-03\n",
      "  model = cd_fast.enet_coordinate_descent(\n",
      "/Users/jgfaraco/miniconda3/lib/python3.12/site-packages/sklearn/linear_model/_coordinate_descent.py:695: ConvergenceWarning: Objective did not converge. You might want to increase the number of iterations, check the scale of the features or consider increasing regularisation. Duality gap: 3.245e+00, tolerance: 3.529e-03\n",
      "  model = cd_fast.enet_coordinate_descent(\n",
      "/Users/jgfaraco/miniconda3/lib/python3.12/site-packages/sklearn/linear_model/_coordinate_descent.py:695: ConvergenceWarning: Objective did not converge. You might want to increase the number of iterations, check the scale of the features or consider increasing regularisation. Duality gap: 3.248e+00, tolerance: 3.519e-03\n",
      "  model = cd_fast.enet_coordinate_descent(\n",
      "/Users/jgfaraco/miniconda3/lib/python3.12/site-packages/sklearn/linear_model/_coordinate_descent.py:695: ConvergenceWarning: Objective did not converge. You might want to increase the number of iterations, check the scale of the features or consider increasing regularisation. Duality gap: 3.323e+00, tolerance: 3.549e-03\n",
      "  model = cd_fast.enet_coordinate_descent(\n",
      "/Users/jgfaraco/miniconda3/lib/python3.12/site-packages/sklearn/linear_model/_coordinate_descent.py:695: ConvergenceWarning: Objective did not converge. You might want to increase the number of iterations, check the scale of the features or consider increasing regularisation. Duality gap: 3.325e+00, tolerance: 3.584e-03\n",
      "  model = cd_fast.enet_coordinate_descent(\n",
      "[I 2025-05-17 10:23:12,479] Trial 78 finished with value: -0.0034502546642975187 and parameters: {'alpha': 0.0014711676743602241, 'l1_ratio': 0.6129007163841849, 'fit_intercept': True, 'max_iter': 2368, 'use_scaler': False, 'poly_degree': 5}. Best is trial 47 with value: -0.003283424756676366.\n",
      "/Users/jgfaraco/miniconda3/lib/python3.12/site-packages/sklearn/linear_model/_coordinate_descent.py:695: ConvergenceWarning: Objective did not converge. You might want to increase the number of iterations, check the scale of the features or consider increasing regularisation. Duality gap: 8.547e+00, tolerance: 4.013e+00\n",
      "  model = cd_fast.enet_coordinate_descent(\n",
      "/Users/jgfaraco/miniconda3/lib/python3.12/site-packages/sklearn/linear_model/_coordinate_descent.py:695: ConvergenceWarning: Objective did not converge. You might want to increase the number of iterations, check the scale of the features or consider increasing regularisation. Duality gap: 8.539e+00, tolerance: 4.019e+00\n",
      "  model = cd_fast.enet_coordinate_descent(\n",
      "/Users/jgfaraco/miniconda3/lib/python3.12/site-packages/sklearn/linear_model/_coordinate_descent.py:695: ConvergenceWarning: Objective did not converge. You might want to increase the number of iterations, check the scale of the features or consider increasing regularisation. Duality gap: 8.527e+00, tolerance: 4.012e+00\n",
      "  model = cd_fast.enet_coordinate_descent(\n",
      "/Users/jgfaraco/miniconda3/lib/python3.12/site-packages/sklearn/linear_model/_coordinate_descent.py:695: ConvergenceWarning: Objective did not converge. You might want to increase the number of iterations, check the scale of the features or consider increasing regularisation. Duality gap: 8.500e+00, tolerance: 4.015e+00\n",
      "  model = cd_fast.enet_coordinate_descent(\n",
      "/Users/jgfaraco/miniconda3/lib/python3.12/site-packages/sklearn/linear_model/_coordinate_descent.py:695: ConvergenceWarning: Objective did not converge. You might want to increase the number of iterations, check the scale of the features or consider increasing regularisation. Duality gap: 8.667e+00, tolerance: 4.016e+00\n",
      "  model = cd_fast.enet_coordinate_descent(\n",
      "[I 2025-05-17 10:23:12,987] Trial 79 finished with value: -0.004265403774611648 and parameters: {'alpha': 0.004339536161007622, 'l1_ratio': 0.45755856150433055, 'fit_intercept': False, 'max_iter': 1917, 'use_scaler': False, 'poly_degree': 4}. Best is trial 47 with value: -0.003283424756676366.\n",
      "/Users/jgfaraco/miniconda3/lib/python3.12/site-packages/sklearn/linear_model/_coordinate_descent.py:695: ConvergenceWarning: Objective did not converge. You might want to increase the number of iterations, check the scale of the features or consider increasing regularisation. Duality gap: 3.602e+00, tolerance: 3.529e-03\n",
      "  model = cd_fast.enet_coordinate_descent(\n",
      "/Users/jgfaraco/miniconda3/lib/python3.12/site-packages/sklearn/linear_model/_coordinate_descent.py:695: ConvergenceWarning: Objective did not converge. You might want to increase the number of iterations, check the scale of the features or consider increasing regularisation. Duality gap: 3.001e+00, tolerance: 3.519e-03\n",
      "  model = cd_fast.enet_coordinate_descent(\n",
      "/Users/jgfaraco/miniconda3/lib/python3.12/site-packages/sklearn/linear_model/_coordinate_descent.py:695: ConvergenceWarning: Objective did not converge. You might want to increase the number of iterations, check the scale of the features or consider increasing regularisation. Duality gap: 3.607e+00, tolerance: 3.475e-03\n",
      "  model = cd_fast.enet_coordinate_descent(\n",
      "/Users/jgfaraco/miniconda3/lib/python3.12/site-packages/sklearn/linear_model/_coordinate_descent.py:695: ConvergenceWarning: Objective did not converge. You might want to increase the number of iterations, check the scale of the features or consider increasing regularisation. Duality gap: 3.025e+00, tolerance: 3.549e-03\n",
      "  model = cd_fast.enet_coordinate_descent(\n",
      "/Users/jgfaraco/miniconda3/lib/python3.12/site-packages/sklearn/linear_model/_coordinate_descent.py:695: ConvergenceWarning: Objective did not converge. You might want to increase the number of iterations, check the scale of the features or consider increasing regularisation. Duality gap: 3.996e+00, tolerance: 3.584e-03\n",
      "  model = cd_fast.enet_coordinate_descent(\n",
      "[I 2025-05-17 10:23:13,225] Trial 80 finished with value: -0.00818963804532977 and parameters: {'alpha': 2.9494580414152707, 'l1_ratio': 0.5884519990128366, 'fit_intercept': True, 'max_iter': 1726, 'use_scaler': False, 'poly_degree': 3}. Best is trial 47 with value: -0.003283424756676366.\n",
      "/Users/jgfaraco/miniconda3/lib/python3.12/site-packages/sklearn/linear_model/_coordinate_descent.py:695: ConvergenceWarning: Objective did not converge. You might want to increase the number of iterations, check the scale of the features or consider increasing regularisation. Duality gap: 5.677e+00, tolerance: 3.475e-03\n",
      "  model = cd_fast.enet_coordinate_descent(\n",
      "/Users/jgfaraco/miniconda3/lib/python3.12/site-packages/sklearn/linear_model/_coordinate_descent.py:695: ConvergenceWarning: Objective did not converge. You might want to increase the number of iterations, check the scale of the features or consider increasing regularisation. Duality gap: 5.415e+00, tolerance: 3.529e-03\n",
      "  model = cd_fast.enet_coordinate_descent(\n",
      "/Users/jgfaraco/miniconda3/lib/python3.12/site-packages/sklearn/linear_model/_coordinate_descent.py:695: ConvergenceWarning: Objective did not converge. You might want to increase the number of iterations, check the scale of the features or consider increasing regularisation. Duality gap: 5.492e+00, tolerance: 3.519e-03\n",
      "  model = cd_fast.enet_coordinate_descent(\n",
      "/Users/jgfaraco/miniconda3/lib/python3.12/site-packages/sklearn/linear_model/_coordinate_descent.py:695: ConvergenceWarning: Objective did not converge. You might want to increase the number of iterations, check the scale of the features or consider increasing regularisation. Duality gap: 5.597e+00, tolerance: 3.549e-03\n",
      "  model = cd_fast.enet_coordinate_descent(\n",
      "/Users/jgfaraco/miniconda3/lib/python3.12/site-packages/sklearn/linear_model/_coordinate_descent.py:695: ConvergenceWarning: Objective did not converge. You might want to increase the number of iterations, check the scale of the features or consider increasing regularisation. Duality gap: 5.731e+00, tolerance: 3.584e-03\n",
      "  model = cd_fast.enet_coordinate_descent(\n",
      "[I 2025-05-17 10:23:14,165] Trial 81 finished with value: -0.00767483708105023 and parameters: {'alpha': 0.20418743718729587, 'l1_ratio': 0.9525550056506338, 'fit_intercept': True, 'max_iter': 3024, 'use_scaler': False, 'poly_degree': 5}. Best is trial 47 with value: -0.003283424756676366.\n",
      "[I 2025-05-17 10:23:14,292] Trial 82 finished with value: -0.01592210974325595 and parameters: {'alpha': 45.77110660026056, 'l1_ratio': 0.6086198652302881, 'fit_intercept': True, 'max_iter': 3829, 'use_scaler': True, 'with_mean': True, 'with_std': False, 'poly_degree': 5}. Best is trial 47 with value: -0.003283424756676366.\n",
      "/Users/jgfaraco/miniconda3/lib/python3.12/site-packages/sklearn/linear_model/_coordinate_descent.py:695: ConvergenceWarning: Objective did not converge. You might want to increase the number of iterations, check the scale of the features or consider increasing regularisation. Duality gap: 6.477e+00, tolerance: 4.015e+00\n",
      "  model = cd_fast.enet_coordinate_descent(\n",
      "/Users/jgfaraco/miniconda3/lib/python3.12/site-packages/sklearn/linear_model/_coordinate_descent.py:695: ConvergenceWarning: Objective did not converge. You might want to increase the number of iterations, check the scale of the features or consider increasing regularisation. Duality gap: 6.625e+00, tolerance: 4.013e+00\n",
      "  model = cd_fast.enet_coordinate_descent(\n",
      "/Users/jgfaraco/miniconda3/lib/python3.12/site-packages/sklearn/linear_model/_coordinate_descent.py:695: ConvergenceWarning: Objective did not converge. You might want to increase the number of iterations, check the scale of the features or consider increasing regularisation. Duality gap: 6.734e+00, tolerance: 4.012e+00\n",
      "  model = cd_fast.enet_coordinate_descent(\n",
      "/Users/jgfaraco/miniconda3/lib/python3.12/site-packages/sklearn/linear_model/_coordinate_descent.py:695: ConvergenceWarning: Objective did not converge. You might want to increase the number of iterations, check the scale of the features or consider increasing regularisation. Duality gap: 6.698e+00, tolerance: 4.019e+00\n",
      "  model = cd_fast.enet_coordinate_descent(\n",
      "/Users/jgfaraco/miniconda3/lib/python3.12/site-packages/sklearn/linear_model/_coordinate_descent.py:695: ConvergenceWarning: Objective did not converge. You might want to increase the number of iterations, check the scale of the features or consider increasing regularisation. Duality gap: 6.862e+00, tolerance: 4.016e+00\n",
      "  model = cd_fast.enet_coordinate_descent(\n",
      "[I 2025-05-17 10:23:14,539] Trial 83 finished with value: -0.00863421540982028 and parameters: {'alpha': 0.17955473281682394, 'l1_ratio': 0.20191424125667973, 'fit_intercept': False, 'max_iter': 1498, 'use_scaler': False, 'poly_degree': 3}. Best is trial 47 with value: -0.003283424756676366.\n",
      "[I 2025-05-17 10:23:14,597] Trial 84 finished with value: -0.008255363361901996 and parameters: {'alpha': 0.9044346216330983, 'l1_ratio': 0.45910243348311724, 'fit_intercept': True, 'max_iter': 4212, 'use_scaler': True, 'with_mean': False, 'with_std': True, 'poly_degree': 2}. Best is trial 47 with value: -0.003283424756676366.\n",
      "/Users/jgfaraco/miniconda3/lib/python3.12/site-packages/sklearn/linear_model/_coordinate_descent.py:695: ConvergenceWarning: Objective did not converge. You might want to increase the number of iterations, check the scale of the features or consider increasing regularisation. Duality gap: 5.587e+00, tolerance: 3.529e-03\n",
      "  model = cd_fast.enet_coordinate_descent(\n",
      "/Users/jgfaraco/miniconda3/lib/python3.12/site-packages/sklearn/linear_model/_coordinate_descent.py:695: ConvergenceWarning: Objective did not converge. You might want to increase the number of iterations, check the scale of the features or consider increasing regularisation. Duality gap: 5.663e+00, tolerance: 3.519e-03\n",
      "  model = cd_fast.enet_coordinate_descent(\n",
      "/Users/jgfaraco/miniconda3/lib/python3.12/site-packages/sklearn/linear_model/_coordinate_descent.py:695: ConvergenceWarning: Objective did not converge. You might want to increase the number of iterations, check the scale of the features or consider increasing regularisation. Duality gap: 5.859e+00, tolerance: 3.475e-03\n",
      "  model = cd_fast.enet_coordinate_descent(\n",
      "/Users/jgfaraco/miniconda3/lib/python3.12/site-packages/sklearn/linear_model/_coordinate_descent.py:695: ConvergenceWarning: Objective did not converge. You might want to increase the number of iterations, check the scale of the features or consider increasing regularisation. Duality gap: 5.776e+00, tolerance: 3.549e-03\n",
      "  model = cd_fast.enet_coordinate_descent(\n",
      "/Users/jgfaraco/miniconda3/lib/python3.12/site-packages/sklearn/linear_model/_coordinate_descent.py:695: ConvergenceWarning: Objective did not converge. You might want to increase the number of iterations, check the scale of the features or consider increasing regularisation. Duality gap: 5.888e+00, tolerance: 3.584e-03\n",
      "  model = cd_fast.enet_coordinate_descent(\n",
      "[I 2025-05-17 10:23:14,905] Trial 85 finished with value: -0.008011757085077963 and parameters: {'alpha': 4.869745226446183, 'l1_ratio': 0.5069961468008265, 'fit_intercept': True, 'max_iter': 1563, 'use_scaler': True, 'with_mean': False, 'with_std': False, 'poly_degree': 4}. Best is trial 47 with value: -0.003283424756676366.\n",
      "/Users/jgfaraco/miniconda3/lib/python3.12/site-packages/sklearn/linear_model/_coordinate_descent.py:695: ConvergenceWarning: Objective did not converge. You might want to increase the number of iterations, check the scale of the features or consider increasing regularisation. Duality gap: 3.164e+00, tolerance: 3.519e-03\n",
      "  model = cd_fast.enet_coordinate_descent(\n",
      "/Users/jgfaraco/miniconda3/lib/python3.12/site-packages/sklearn/linear_model/_coordinate_descent.py:695: ConvergenceWarning: Objective did not converge. You might want to increase the number of iterations, check the scale of the features or consider increasing regularisation. Duality gap: 3.139e+00, tolerance: 3.475e-03\n",
      "  model = cd_fast.enet_coordinate_descent(\n",
      "/Users/jgfaraco/miniconda3/lib/python3.12/site-packages/sklearn/linear_model/_coordinate_descent.py:695: ConvergenceWarning: Objective did not converge. You might want to increase the number of iterations, check the scale of the features or consider increasing regularisation. Duality gap: 3.164e+00, tolerance: 3.529e-03\n",
      "  model = cd_fast.enet_coordinate_descent(\n",
      "/Users/jgfaraco/miniconda3/lib/python3.12/site-packages/sklearn/linear_model/_coordinate_descent.py:695: ConvergenceWarning: Objective did not converge. You might want to increase the number of iterations, check the scale of the features or consider increasing regularisation. Duality gap: 3.238e+00, tolerance: 3.584e-03\n",
      "  model = cd_fast.enet_coordinate_descent(\n",
      "/Users/jgfaraco/miniconda3/lib/python3.12/site-packages/sklearn/linear_model/_coordinate_descent.py:695: ConvergenceWarning: Objective did not converge. You might want to increase the number of iterations, check the scale of the features or consider increasing regularisation. Duality gap: 3.243e+00, tolerance: 3.549e-03\n",
      "  model = cd_fast.enet_coordinate_descent(\n",
      "[I 2025-05-17 10:23:15,827] Trial 86 finished with value: -0.0034053900108710873 and parameters: {'alpha': 0.001162712343304238, 'l1_ratio': 0.6971836348150395, 'fit_intercept': True, 'max_iter': 1594, 'use_scaler': False, 'poly_degree': 5}. Best is trial 47 with value: -0.003283424756676366.\n",
      "[I 2025-05-17 10:23:15,885] Trial 87 finished with value: -0.017851062553680384 and parameters: {'alpha': 0.3243209859731718, 'l1_ratio': 0.6358465155880394, 'fit_intercept': True, 'max_iter': 1839, 'use_scaler': False, 'poly_degree': 1}. Best is trial 47 with value: -0.003283424756676366.\n",
      "[I 2025-05-17 10:23:15,969] Trial 88 finished with value: -0.234972529452009 and parameters: {'alpha': 0.0015231698662987007, 'l1_ratio': 0.5248602505989993, 'fit_intercept': False, 'max_iter': 4102, 'use_scaler': True, 'with_mean': True, 'with_std': True, 'poly_degree': 1}. Best is trial 47 with value: -0.003283424756676366.\n",
      "[I 2025-05-17 10:23:16,025] Trial 89 finished with value: -0.018974409469166065 and parameters: {'alpha': 20.36704885116247, 'l1_ratio': 0.9515039159202695, 'fit_intercept': False, 'max_iter': 3576, 'use_scaler': False, 'poly_degree': 1}. Best is trial 47 with value: -0.003283424756676366.\n",
      "[I 2025-05-17 10:23:16,080] Trial 90 finished with value: -0.024290639236509086 and parameters: {'alpha': 3.800678588560611, 'l1_ratio': 0.6930315477191362, 'fit_intercept': True, 'max_iter': 1924, 'use_scaler': False, 'poly_degree': 1}. Best is trial 47 with value: -0.003283424756676366.\n",
      "[I 2025-05-17 10:23:16,147] Trial 91 finished with value: -9.620281535292113 and parameters: {'alpha': 9.990343636832112, 'l1_ratio': 0.26069019584890024, 'fit_intercept': False, 'max_iter': 1397, 'use_scaler': True, 'with_mean': True, 'with_std': False, 'poly_degree': 2}. Best is trial 47 with value: -0.003283424756676366.\n",
      "[I 2025-05-17 10:23:16,205] Trial 92 finished with value: -0.009942851923293911 and parameters: {'alpha': 0.029223932177816204, 'l1_ratio': 0.9067022366690078, 'fit_intercept': True, 'max_iter': 1831, 'use_scaler': True, 'with_mean': True, 'with_std': True, 'poly_degree': 2}. Best is trial 47 with value: -0.003283424756676366.\n",
      "[I 2025-05-17 10:23:16,273] Trial 93 finished with value: -0.4300702609122197 and parameters: {'alpha': 0.0198206168884552, 'l1_ratio': 0.44172316735054024, 'fit_intercept': False, 'max_iter': 3497, 'use_scaler': True, 'with_mean': True, 'with_std': True, 'poly_degree': 1}. Best is trial 47 with value: -0.003283424756676366.\n",
      "/Users/jgfaraco/miniconda3/lib/python3.12/site-packages/sklearn/linear_model/_coordinate_descent.py:695: ConvergenceWarning: Objective did not converge. You might want to increase the number of iterations, check the scale of the features or consider increasing regularisation. Duality gap: 1.222e+01, tolerance: 4.015e+00\n",
      "  model = cd_fast.enet_coordinate_descent(\n",
      "/Users/jgfaraco/miniconda3/lib/python3.12/site-packages/sklearn/linear_model/_coordinate_descent.py:695: ConvergenceWarning: Objective did not converge. You might want to increase the number of iterations, check the scale of the features or consider increasing regularisation. Duality gap: 1.212e+01, tolerance: 4.013e+00\n",
      "  model = cd_fast.enet_coordinate_descent(\n",
      "/Users/jgfaraco/miniconda3/lib/python3.12/site-packages/sklearn/linear_model/_coordinate_descent.py:695: ConvergenceWarning: Objective did not converge. You might want to increase the number of iterations, check the scale of the features or consider increasing regularisation. Duality gap: 1.224e+01, tolerance: 4.019e+00\n",
      "  model = cd_fast.enet_coordinate_descent(\n",
      "/Users/jgfaraco/miniconda3/lib/python3.12/site-packages/sklearn/linear_model/_coordinate_descent.py:695: ConvergenceWarning: Objective did not converge. You might want to increase the number of iterations, check the scale of the features or consider increasing regularisation. Duality gap: 1.246e+01, tolerance: 4.012e+00\n",
      "  model = cd_fast.enet_coordinate_descent(\n",
      "/Users/jgfaraco/miniconda3/lib/python3.12/site-packages/sklearn/linear_model/_coordinate_descent.py:695: ConvergenceWarning: Objective did not converge. You might want to increase the number of iterations, check the scale of the features or consider increasing regularisation. Duality gap: 1.249e+01, tolerance: 4.016e+00\n",
      "  model = cd_fast.enet_coordinate_descent(\n",
      "[I 2025-05-17 10:23:17,267] Trial 94 finished with value: -0.008470242219982951 and parameters: {'alpha': 21.995805943313208, 'l1_ratio': 0.5386880784245623, 'fit_intercept': False, 'max_iter': 2701, 'use_scaler': True, 'with_mean': False, 'with_std': True, 'poly_degree': 5}. Best is trial 47 with value: -0.003283424756676366.\n",
      "[I 2025-05-17 10:23:17,334] Trial 95 finished with value: -0.0081909918091074 and parameters: {'alpha': 83.56239973758206, 'l1_ratio': 0.5731211640724173, 'fit_intercept': True, 'max_iter': 1073, 'use_scaler': False, 'poly_degree': 3}. Best is trial 47 with value: -0.003283424756676366.\n",
      "[I 2025-05-17 10:23:17,547] Trial 96 finished with value: -0.009485964878324097 and parameters: {'alpha': 0.023457196365169432, 'l1_ratio': 0.5987602022642141, 'fit_intercept': True, 'max_iter': 1825, 'use_scaler': True, 'with_mean': True, 'with_std': False, 'poly_degree': 4}. Best is trial 47 with value: -0.003283424756676366.\n",
      "[I 2025-05-17 10:23:17,628] Trial 97 finished with value: -0.28212871212674684 and parameters: {'alpha': 0.007531064950403672, 'l1_ratio': 0.9229707513324639, 'fit_intercept': False, 'max_iter': 3076, 'use_scaler': True, 'with_mean': True, 'with_std': True, 'poly_degree': 2}. Best is trial 47 with value: -0.003283424756676366.\n",
      "[I 2025-05-17 10:23:17,706] Trial 98 finished with value: -0.45208390753899186 and parameters: {'alpha': 0.02776314644135441, 'l1_ratio': 0.42010544481845424, 'fit_intercept': False, 'max_iter': 3266, 'use_scaler': True, 'with_mean': True, 'with_std': True, 'poly_degree': 2}. Best is trial 47 with value: -0.003283424756676366.\n",
      "[I 2025-05-17 10:23:17,759] Trial 99 finished with value: -0.017779137486160584 and parameters: {'alpha': 0.9449082775607387, 'l1_ratio': 0.1462832321358253, 'fit_intercept': True, 'max_iter': 2337, 'use_scaler': False, 'poly_degree': 1}. Best is trial 47 with value: -0.003283424756676366.\n"
     ]
    }
   ],
   "source": [
    "study.optimize(objective, n_trials=100)"
   ]
  },
  {
   "cell_type": "code",
   "execution_count": 44,
   "metadata": {},
   "outputs": [
    {
     "data": {
      "application/vnd.plotly.v1+json": {
       "config": {
        "plotlyServerURL": "https://plot.ly"
       },
       "data": [
        {
         "mode": "markers",
         "name": "Objective Value",
         "type": "scatter",
         "x": [
          0,
          1,
          2,
          3,
          4,
          5,
          6,
          7,
          8,
          9,
          10,
          11,
          12,
          13,
          14,
          15,
          16,
          17,
          18,
          19,
          20,
          21,
          22,
          23,
          24,
          25,
          26,
          27,
          28,
          29,
          30,
          31,
          32,
          33,
          34,
          35,
          36,
          37,
          38,
          39,
          40,
          41,
          42,
          43,
          44,
          45,
          46,
          47,
          48,
          49,
          50,
          51,
          52,
          53,
          54,
          55,
          56,
          57,
          58,
          59,
          60,
          61,
          62,
          63,
          64,
          65,
          66,
          67,
          68,
          69,
          70,
          71,
          72,
          73,
          74,
          75,
          76,
          77,
          78,
          79,
          80,
          81,
          82,
          83,
          84,
          85,
          86,
          87,
          88,
          89,
          90,
          91,
          92,
          93,
          94,
          95,
          96,
          97,
          98,
          99
         ],
         "y": [
          -0.008174439361756,
          -0.019488022433032954,
          -0.008326502242811062,
          -3.834418109497618,
          -0.004386162586735751,
          -0.008081349725195225,
          -0.0038730211812538487,
          -0.004530247500003052,
          -0.01887988533559028,
          -0.00812763257427078,
          -0.018883274497980454,
          -0.0036520245157044607,
          -0.024290639236509086,
          -0.0069031259198678255,
          -0.0040151544733300765,
          -11.920643550673033,
          -0.0047891037730046675,
          -0.018879515421546162,
          -0.0037215309281044585,
          -0.5368030656411564,
          -0.007956341559542482,
          -0.009914880618416538,
          -0.008104296404162334,
          -0.008188602525812853,
          -0.00825547930563265,
          -0.0036423800083562026,
          -0.024290639236509086,
          -0.007935450252578254,
          -0.0079554931517129,
          -0.008190965149451715,
          -0.007956772792106295,
          -0.008737336953697697,
          -0.008239189039503478,
          -0.00823461334668887,
          -0.024290639236509086,
          -0.008777948209563041,
          -0.008109474965559315,
          -0.024290639236509086,
          -0.017853969764532306,
          -0.008124328705455246,
          -18.75024515813632,
          -0.007937774159344376,
          -0.008296208037214486,
          -0.0078409852809102,
          -0.0036458062220303122,
          -0.004180541849925097,
          -27.604321376178568,
          -0.003283424756676366,
          -0.0077811642917170135,
          -0.003872681550184239,
          -0.007924950453962111,
          -0.4340465625299199,
          -0.008222547521662443,
          -0.008129689081819042,
          -0.008504136201989263,
          -0.008022889778263672,
          -0.00773352414812214,
          -0.01888976499624415,
          -0.009594785513697145,
          -0.005772954495304267,
          -0.008019982080494287,
          -0.005165029209850389,
          -0.004259191486952174,
          -0.014939487107574137,
          -0.024290639236509086,
          -0.008235303797468289,
          -0.005192361893900386,
          -4.553292469189486,
          -0.0035668418155084453,
          -0.003809866247779638,
          -0.01092013738495412,
          -0.009033583156189623,
          -0.008086870438623087,
          -0.007933464129095943,
          -0.021452421225706255,
          -0.897382999606519,
          -0.007966793695197339,
          -0.008275797356691626,
          -0.0034502546642975187,
          -0.004265403774611648,
          -0.00818963804532977,
          -0.00767483708105023,
          -0.01592210974325595,
          -0.00863421540982028,
          -0.008255363361901996,
          -0.008011757085077963,
          -0.0034053900108710873,
          -0.017851062553680384,
          -0.234972529452009,
          -0.018974409469166065,
          -0.024290639236509086,
          -9.620281535292113,
          -0.009942851923293911,
          -0.4300702609122197,
          -0.008470242219982951,
          -0.0081909918091074,
          -0.009485964878324097,
          -0.28212871212674684,
          -0.45208390753899186,
          -0.017779137486160584
         ]
        },
        {
         "mode": "lines",
         "name": "Best Value",
         "type": "scatter",
         "x": [
          0,
          1,
          2,
          3,
          4,
          5,
          6,
          7,
          8,
          9,
          10,
          11,
          12,
          13,
          14,
          15,
          16,
          17,
          18,
          19,
          20,
          21,
          22,
          23,
          24,
          25,
          26,
          27,
          28,
          29,
          30,
          31,
          32,
          33,
          34,
          35,
          36,
          37,
          38,
          39,
          40,
          41,
          42,
          43,
          44,
          45,
          46,
          47,
          48,
          49,
          50,
          51,
          52,
          53,
          54,
          55,
          56,
          57,
          58,
          59,
          60,
          61,
          62,
          63,
          64,
          65,
          66,
          67,
          68,
          69,
          70,
          71,
          72,
          73,
          74,
          75,
          76,
          77,
          78,
          79,
          80,
          81,
          82,
          83,
          84,
          85,
          86,
          87,
          88,
          89,
          90,
          91,
          92,
          93,
          94,
          95,
          96,
          97,
          98,
          99
         ],
         "y": [
          -0.008174439361756,
          -0.008174439361756,
          -0.008174439361756,
          -0.008174439361756,
          -0.004386162586735751,
          -0.004386162586735751,
          -0.0038730211812538487,
          -0.0038730211812538487,
          -0.0038730211812538487,
          -0.0038730211812538487,
          -0.0038730211812538487,
          -0.0036520245157044607,
          -0.0036520245157044607,
          -0.0036520245157044607,
          -0.0036520245157044607,
          -0.0036520245157044607,
          -0.0036520245157044607,
          -0.0036520245157044607,
          -0.0036520245157044607,
          -0.0036520245157044607,
          -0.0036520245157044607,
          -0.0036520245157044607,
          -0.0036520245157044607,
          -0.0036520245157044607,
          -0.0036520245157044607,
          -0.0036423800083562026,
          -0.0036423800083562026,
          -0.0036423800083562026,
          -0.0036423800083562026,
          -0.0036423800083562026,
          -0.0036423800083562026,
          -0.0036423800083562026,
          -0.0036423800083562026,
          -0.0036423800083562026,
          -0.0036423800083562026,
          -0.0036423800083562026,
          -0.0036423800083562026,
          -0.0036423800083562026,
          -0.0036423800083562026,
          -0.0036423800083562026,
          -0.0036423800083562026,
          -0.0036423800083562026,
          -0.0036423800083562026,
          -0.0036423800083562026,
          -0.0036423800083562026,
          -0.0036423800083562026,
          -0.0036423800083562026,
          -0.003283424756676366,
          -0.003283424756676366,
          -0.003283424756676366,
          -0.003283424756676366,
          -0.003283424756676366,
          -0.003283424756676366,
          -0.003283424756676366,
          -0.003283424756676366,
          -0.003283424756676366,
          -0.003283424756676366,
          -0.003283424756676366,
          -0.003283424756676366,
          -0.003283424756676366,
          -0.003283424756676366,
          -0.003283424756676366,
          -0.003283424756676366,
          -0.003283424756676366,
          -0.003283424756676366,
          -0.003283424756676366,
          -0.003283424756676366,
          -0.003283424756676366,
          -0.003283424756676366,
          -0.003283424756676366,
          -0.003283424756676366,
          -0.003283424756676366,
          -0.003283424756676366,
          -0.003283424756676366,
          -0.003283424756676366,
          -0.003283424756676366,
          -0.003283424756676366,
          -0.003283424756676366,
          -0.003283424756676366,
          -0.003283424756676366,
          -0.003283424756676366,
          -0.003283424756676366,
          -0.003283424756676366,
          -0.003283424756676366,
          -0.003283424756676366,
          -0.003283424756676366,
          -0.003283424756676366,
          -0.003283424756676366,
          -0.003283424756676366,
          -0.003283424756676366,
          -0.003283424756676366,
          -0.003283424756676366,
          -0.003283424756676366,
          -0.003283424756676366,
          -0.003283424756676366,
          -0.003283424756676366,
          -0.003283424756676366,
          -0.003283424756676366,
          -0.003283424756676366,
          -0.003283424756676366
         ]
        },
        {
         "marker": {
          "color": "#cccccc"
         },
         "mode": "markers",
         "name": "Infeasible Trial",
         "showlegend": false,
         "type": "scatter",
         "x": [],
         "y": []
        }
       ],
       "layout": {
        "template": {
         "data": {
          "bar": [
           {
            "error_x": {
             "color": "#2a3f5f"
            },
            "error_y": {
             "color": "#2a3f5f"
            },
            "marker": {
             "line": {
              "color": "#E5ECF6",
              "width": 0.5
             },
             "pattern": {
              "fillmode": "overlay",
              "size": 10,
              "solidity": 0.2
             }
            },
            "type": "bar"
           }
          ],
          "barpolar": [
           {
            "marker": {
             "line": {
              "color": "#E5ECF6",
              "width": 0.5
             },
             "pattern": {
              "fillmode": "overlay",
              "size": 10,
              "solidity": 0.2
             }
            },
            "type": "barpolar"
           }
          ],
          "carpet": [
           {
            "aaxis": {
             "endlinecolor": "#2a3f5f",
             "gridcolor": "white",
             "linecolor": "white",
             "minorgridcolor": "white",
             "startlinecolor": "#2a3f5f"
            },
            "baxis": {
             "endlinecolor": "#2a3f5f",
             "gridcolor": "white",
             "linecolor": "white",
             "minorgridcolor": "white",
             "startlinecolor": "#2a3f5f"
            },
            "type": "carpet"
           }
          ],
          "choropleth": [
           {
            "colorbar": {
             "outlinewidth": 0,
             "ticks": ""
            },
            "type": "choropleth"
           }
          ],
          "contour": [
           {
            "colorbar": {
             "outlinewidth": 0,
             "ticks": ""
            },
            "colorscale": [
             [
              0,
              "#0d0887"
             ],
             [
              0.1111111111111111,
              "#46039f"
             ],
             [
              0.2222222222222222,
              "#7201a8"
             ],
             [
              0.3333333333333333,
              "#9c179e"
             ],
             [
              0.4444444444444444,
              "#bd3786"
             ],
             [
              0.5555555555555556,
              "#d8576b"
             ],
             [
              0.6666666666666666,
              "#ed7953"
             ],
             [
              0.7777777777777778,
              "#fb9f3a"
             ],
             [
              0.8888888888888888,
              "#fdca26"
             ],
             [
              1,
              "#f0f921"
             ]
            ],
            "type": "contour"
           }
          ],
          "contourcarpet": [
           {
            "colorbar": {
             "outlinewidth": 0,
             "ticks": ""
            },
            "type": "contourcarpet"
           }
          ],
          "heatmap": [
           {
            "colorbar": {
             "outlinewidth": 0,
             "ticks": ""
            },
            "colorscale": [
             [
              0,
              "#0d0887"
             ],
             [
              0.1111111111111111,
              "#46039f"
             ],
             [
              0.2222222222222222,
              "#7201a8"
             ],
             [
              0.3333333333333333,
              "#9c179e"
             ],
             [
              0.4444444444444444,
              "#bd3786"
             ],
             [
              0.5555555555555556,
              "#d8576b"
             ],
             [
              0.6666666666666666,
              "#ed7953"
             ],
             [
              0.7777777777777778,
              "#fb9f3a"
             ],
             [
              0.8888888888888888,
              "#fdca26"
             ],
             [
              1,
              "#f0f921"
             ]
            ],
            "type": "heatmap"
           }
          ],
          "histogram": [
           {
            "marker": {
             "pattern": {
              "fillmode": "overlay",
              "size": 10,
              "solidity": 0.2
             }
            },
            "type": "histogram"
           }
          ],
          "histogram2d": [
           {
            "colorbar": {
             "outlinewidth": 0,
             "ticks": ""
            },
            "colorscale": [
             [
              0,
              "#0d0887"
             ],
             [
              0.1111111111111111,
              "#46039f"
             ],
             [
              0.2222222222222222,
              "#7201a8"
             ],
             [
              0.3333333333333333,
              "#9c179e"
             ],
             [
              0.4444444444444444,
              "#bd3786"
             ],
             [
              0.5555555555555556,
              "#d8576b"
             ],
             [
              0.6666666666666666,
              "#ed7953"
             ],
             [
              0.7777777777777778,
              "#fb9f3a"
             ],
             [
              0.8888888888888888,
              "#fdca26"
             ],
             [
              1,
              "#f0f921"
             ]
            ],
            "type": "histogram2d"
           }
          ],
          "histogram2dcontour": [
           {
            "colorbar": {
             "outlinewidth": 0,
             "ticks": ""
            },
            "colorscale": [
             [
              0,
              "#0d0887"
             ],
             [
              0.1111111111111111,
              "#46039f"
             ],
             [
              0.2222222222222222,
              "#7201a8"
             ],
             [
              0.3333333333333333,
              "#9c179e"
             ],
             [
              0.4444444444444444,
              "#bd3786"
             ],
             [
              0.5555555555555556,
              "#d8576b"
             ],
             [
              0.6666666666666666,
              "#ed7953"
             ],
             [
              0.7777777777777778,
              "#fb9f3a"
             ],
             [
              0.8888888888888888,
              "#fdca26"
             ],
             [
              1,
              "#f0f921"
             ]
            ],
            "type": "histogram2dcontour"
           }
          ],
          "mesh3d": [
           {
            "colorbar": {
             "outlinewidth": 0,
             "ticks": ""
            },
            "type": "mesh3d"
           }
          ],
          "parcoords": [
           {
            "line": {
             "colorbar": {
              "outlinewidth": 0,
              "ticks": ""
             }
            },
            "type": "parcoords"
           }
          ],
          "pie": [
           {
            "automargin": true,
            "type": "pie"
           }
          ],
          "scatter": [
           {
            "fillpattern": {
             "fillmode": "overlay",
             "size": 10,
             "solidity": 0.2
            },
            "type": "scatter"
           }
          ],
          "scatter3d": [
           {
            "line": {
             "colorbar": {
              "outlinewidth": 0,
              "ticks": ""
             }
            },
            "marker": {
             "colorbar": {
              "outlinewidth": 0,
              "ticks": ""
             }
            },
            "type": "scatter3d"
           }
          ],
          "scattercarpet": [
           {
            "marker": {
             "colorbar": {
              "outlinewidth": 0,
              "ticks": ""
             }
            },
            "type": "scattercarpet"
           }
          ],
          "scattergeo": [
           {
            "marker": {
             "colorbar": {
              "outlinewidth": 0,
              "ticks": ""
             }
            },
            "type": "scattergeo"
           }
          ],
          "scattergl": [
           {
            "marker": {
             "colorbar": {
              "outlinewidth": 0,
              "ticks": ""
             }
            },
            "type": "scattergl"
           }
          ],
          "scattermap": [
           {
            "marker": {
             "colorbar": {
              "outlinewidth": 0,
              "ticks": ""
             }
            },
            "type": "scattermap"
           }
          ],
          "scattermapbox": [
           {
            "marker": {
             "colorbar": {
              "outlinewidth": 0,
              "ticks": ""
             }
            },
            "type": "scattermapbox"
           }
          ],
          "scatterpolar": [
           {
            "marker": {
             "colorbar": {
              "outlinewidth": 0,
              "ticks": ""
             }
            },
            "type": "scatterpolar"
           }
          ],
          "scatterpolargl": [
           {
            "marker": {
             "colorbar": {
              "outlinewidth": 0,
              "ticks": ""
             }
            },
            "type": "scatterpolargl"
           }
          ],
          "scatterternary": [
           {
            "marker": {
             "colorbar": {
              "outlinewidth": 0,
              "ticks": ""
             }
            },
            "type": "scatterternary"
           }
          ],
          "surface": [
           {
            "colorbar": {
             "outlinewidth": 0,
             "ticks": ""
            },
            "colorscale": [
             [
              0,
              "#0d0887"
             ],
             [
              0.1111111111111111,
              "#46039f"
             ],
             [
              0.2222222222222222,
              "#7201a8"
             ],
             [
              0.3333333333333333,
              "#9c179e"
             ],
             [
              0.4444444444444444,
              "#bd3786"
             ],
             [
              0.5555555555555556,
              "#d8576b"
             ],
             [
              0.6666666666666666,
              "#ed7953"
             ],
             [
              0.7777777777777778,
              "#fb9f3a"
             ],
             [
              0.8888888888888888,
              "#fdca26"
             ],
             [
              1,
              "#f0f921"
             ]
            ],
            "type": "surface"
           }
          ],
          "table": [
           {
            "cells": {
             "fill": {
              "color": "#EBF0F8"
             },
             "line": {
              "color": "white"
             }
            },
            "header": {
             "fill": {
              "color": "#C8D4E3"
             },
             "line": {
              "color": "white"
             }
            },
            "type": "table"
           }
          ]
         },
         "layout": {
          "annotationdefaults": {
           "arrowcolor": "#2a3f5f",
           "arrowhead": 0,
           "arrowwidth": 1
          },
          "autotypenumbers": "strict",
          "coloraxis": {
           "colorbar": {
            "outlinewidth": 0,
            "ticks": ""
           }
          },
          "colorscale": {
           "diverging": [
            [
             0,
             "#8e0152"
            ],
            [
             0.1,
             "#c51b7d"
            ],
            [
             0.2,
             "#de77ae"
            ],
            [
             0.3,
             "#f1b6da"
            ],
            [
             0.4,
             "#fde0ef"
            ],
            [
             0.5,
             "#f7f7f7"
            ],
            [
             0.6,
             "#e6f5d0"
            ],
            [
             0.7,
             "#b8e186"
            ],
            [
             0.8,
             "#7fbc41"
            ],
            [
             0.9,
             "#4d9221"
            ],
            [
             1,
             "#276419"
            ]
           ],
           "sequential": [
            [
             0,
             "#0d0887"
            ],
            [
             0.1111111111111111,
             "#46039f"
            ],
            [
             0.2222222222222222,
             "#7201a8"
            ],
            [
             0.3333333333333333,
             "#9c179e"
            ],
            [
             0.4444444444444444,
             "#bd3786"
            ],
            [
             0.5555555555555556,
             "#d8576b"
            ],
            [
             0.6666666666666666,
             "#ed7953"
            ],
            [
             0.7777777777777778,
             "#fb9f3a"
            ],
            [
             0.8888888888888888,
             "#fdca26"
            ],
            [
             1,
             "#f0f921"
            ]
           ],
           "sequentialminus": [
            [
             0,
             "#0d0887"
            ],
            [
             0.1111111111111111,
             "#46039f"
            ],
            [
             0.2222222222222222,
             "#7201a8"
            ],
            [
             0.3333333333333333,
             "#9c179e"
            ],
            [
             0.4444444444444444,
             "#bd3786"
            ],
            [
             0.5555555555555556,
             "#d8576b"
            ],
            [
             0.6666666666666666,
             "#ed7953"
            ],
            [
             0.7777777777777778,
             "#fb9f3a"
            ],
            [
             0.8888888888888888,
             "#fdca26"
            ],
            [
             1,
             "#f0f921"
            ]
           ]
          },
          "colorway": [
           "#636efa",
           "#EF553B",
           "#00cc96",
           "#ab63fa",
           "#FFA15A",
           "#19d3f3",
           "#FF6692",
           "#B6E880",
           "#FF97FF",
           "#FECB52"
          ],
          "font": {
           "color": "#2a3f5f"
          },
          "geo": {
           "bgcolor": "white",
           "lakecolor": "white",
           "landcolor": "#E5ECF6",
           "showlakes": true,
           "showland": true,
           "subunitcolor": "white"
          },
          "hoverlabel": {
           "align": "left"
          },
          "hovermode": "closest",
          "mapbox": {
           "style": "light"
          },
          "paper_bgcolor": "white",
          "plot_bgcolor": "#E5ECF6",
          "polar": {
           "angularaxis": {
            "gridcolor": "white",
            "linecolor": "white",
            "ticks": ""
           },
           "bgcolor": "#E5ECF6",
           "radialaxis": {
            "gridcolor": "white",
            "linecolor": "white",
            "ticks": ""
           }
          },
          "scene": {
           "xaxis": {
            "backgroundcolor": "#E5ECF6",
            "gridcolor": "white",
            "gridwidth": 2,
            "linecolor": "white",
            "showbackground": true,
            "ticks": "",
            "zerolinecolor": "white"
           },
           "yaxis": {
            "backgroundcolor": "#E5ECF6",
            "gridcolor": "white",
            "gridwidth": 2,
            "linecolor": "white",
            "showbackground": true,
            "ticks": "",
            "zerolinecolor": "white"
           },
           "zaxis": {
            "backgroundcolor": "#E5ECF6",
            "gridcolor": "white",
            "gridwidth": 2,
            "linecolor": "white",
            "showbackground": true,
            "ticks": "",
            "zerolinecolor": "white"
           }
          },
          "shapedefaults": {
           "line": {
            "color": "#2a3f5f"
           }
          },
          "ternary": {
           "aaxis": {
            "gridcolor": "white",
            "linecolor": "white",
            "ticks": ""
           },
           "baxis": {
            "gridcolor": "white",
            "linecolor": "white",
            "ticks": ""
           },
           "bgcolor": "#E5ECF6",
           "caxis": {
            "gridcolor": "white",
            "linecolor": "white",
            "ticks": ""
           }
          },
          "title": {
           "x": 0.05
          },
          "xaxis": {
           "automargin": true,
           "gridcolor": "white",
           "linecolor": "white",
           "ticks": "",
           "title": {
            "standoff": 15
           },
           "zerolinecolor": "white",
           "zerolinewidth": 2
          },
          "yaxis": {
           "automargin": true,
           "gridcolor": "white",
           "linecolor": "white",
           "ticks": "",
           "title": {
            "standoff": 15
           },
           "zerolinecolor": "white",
           "zerolinewidth": 2
          }
         }
        },
        "title": {
         "text": "Optimization History Plot"
        },
        "xaxis": {
         "title": {
          "text": "Trial"
         }
        },
        "yaxis": {
         "title": {
          "text": "Objective Value"
         }
        }
       }
      }
     },
     "metadata": {},
     "output_type": "display_data"
    }
   ],
   "source": [
    "optuna.visualization.plot_optimization_history(study)"
   ]
  },
  {
   "cell_type": "code",
   "execution_count": 45,
   "metadata": {},
   "outputs": [
    {
     "name": "stdout",
     "output_type": "stream",
     "text": [
      "Best Hyperparameters: {'alpha': 0.001139641416462081, 'l1_ratio': 0.5217945777947136, 'fit_intercept': True, 'max_iter': 1470, 'use_scaler': True, 'with_mean': False, 'with_std': True, 'poly_degree': 5}\n"
     ]
    }
   ],
   "source": [
    "best_params = study.best_params \n",
    "print(f\"Best Hyperparameters: {best_params}\")"
   ]
  },
  {
   "cell_type": "code",
   "execution_count": 46,
   "metadata": {},
   "outputs": [
    {
     "data": {
      "application/vnd.plotly.v1+json": {
       "config": {
        "plotlyServerURL": "https://plot.ly"
       },
       "data": [
        {
         "marker": {
          "color": [
           0,
           1,
           2,
           3,
           4,
           5,
           6,
           7,
           8,
           9,
           10,
           11,
           12,
           13,
           14,
           15,
           16,
           17,
           18,
           19,
           20,
           21,
           22,
           23,
           24,
           25,
           26,
           27,
           28,
           29,
           30,
           31,
           32,
           33,
           34,
           35,
           36,
           37,
           38,
           39,
           40,
           41,
           42,
           43,
           44,
           45,
           46,
           47,
           48,
           49,
           50,
           51,
           52,
           53,
           54,
           55,
           56,
           57,
           58,
           59,
           60,
           61,
           62,
           63,
           64,
           65,
           66,
           67,
           68,
           69,
           70,
           71,
           72,
           73,
           74,
           75,
           76,
           77,
           78,
           79,
           80,
           81,
           82,
           83,
           84,
           85,
           86,
           87,
           88,
           89,
           90,
           91,
           92,
           93,
           94,
           95,
           96,
           97,
           98,
           99
          ],
          "colorbar": {
           "title": {
            "text": "Trial"
           },
           "x": 1,
           "xpad": 40
          },
          "colorscale": [
           [
            0,
            "rgb(247,251,255)"
           ],
           [
            0.125,
            "rgb(222,235,247)"
           ],
           [
            0.25,
            "rgb(198,219,239)"
           ],
           [
            0.375,
            "rgb(158,202,225)"
           ],
           [
            0.5,
            "rgb(107,174,214)"
           ],
           [
            0.625,
            "rgb(66,146,198)"
           ],
           [
            0.75,
            "rgb(33,113,181)"
           ],
           [
            0.875,
            "rgb(8,81,156)"
           ],
           [
            1,
            "rgb(8,48,107)"
           ]
          ],
          "line": {
           "color": "Grey",
           "width": 0.5
          },
          "showscale": true
         },
         "mode": "markers",
         "name": "Feasible Trial",
         "showlegend": false,
         "type": "scatter",
         "x": [
          0.07459343285726547,
          1.0129197956845737,
          0.033205591037519584,
          0.9163741808778781,
          0.00407559644007287,
          0.5414413211338525,
          0.0027698899227562817,
          0.0023591373063477136,
          7.183758655813994,
          0.03588488911386258,
          6.366859160799435,
          0.0014359718569878096,
          44.51314315649207,
          0.013793542352772482,
          0.003974905761171867,
          64.89877132084352,
          0.005302422876684351,
          0.0690105777981331,
          0.0015991003111214827,
          0.050737814374886406,
          31.775345821188303,
          1.6224010950061378,
          1.8188894230467822,
          1.9411739809629633,
          0.7665128204660199,
          0.001194766625732598,
          18.017036467538944,
          1.1886011154695664,
          0.06272717891973825,
          9.805638874011494,
          0.02708359186801681,
          7.07893240689976,
          9.460867797081413,
          0.11085740853699103,
          59.47389794988398,
          18.936639872354522,
          0.0982932448006971,
          1.965477869022202,
          50.971104430052584,
          16.763957643123796,
          4.735384181058588,
          19.591322745978662,
          0.039833457575901975,
          0.029245150354524026,
          0.0019399645775772377,
          0.002311080279955305,
          11.587715829876235,
          0.001139641416462081,
          0.013121370319581372,
          0.002338744739603667,
          0.8347790852520648,
          0.02437282750829703,
          2.652502871774028,
          46.093789776763856,
          15.54688992039453,
          96.20201870331302,
          1.2320865092618447,
          0.5748230753568713,
          0.05661581898267356,
          0.00543710105109608,
          1.4689407256107627,
          0.008117091133892166,
          0.004010323022778368,
          1.3788021357516675,
          1.2338826503602005,
          0.4603480758878797,
          0.00397018422204781,
          0.8594202650742229,
          0.0032278427050432138,
          0.0025186552636979184,
          44.348603175335356,
          0.027742958115008116,
          0.01875872314533727,
          14.226466283632076,
          0.7453591134153514,
          0.09166964238460107,
          34.069091670272684,
          1.2599803717697282,
          0.0014711676743602241,
          0.004339536161007622,
          2.9494580414152707,
          0.20418743718729587,
          45.77110660026056,
          0.17955473281682394,
          0.9044346216330983,
          4.869745226446183,
          0.001162712343304238,
          0.3243209859731718,
          0.0015231698662987007,
          20.36704885116247,
          3.800678588560611,
          9.990343636832112,
          0.029223932177816204,
          0.0198206168884552,
          21.995805943313208,
          83.56239973758206,
          0.023457196365169432,
          0.007531064950403672,
          0.02776314644135441,
          0.9449082775607387
         ],
         "xaxis": "x",
         "y": [
          -0.008174439361756,
          -0.019488022433032954,
          -0.008326502242811062,
          -3.834418109497618,
          -0.004386162586735751,
          -0.008081349725195225,
          -0.0038730211812538487,
          -0.004530247500003052,
          -0.01887988533559028,
          -0.00812763257427078,
          -0.018883274497980454,
          -0.0036520245157044607,
          -0.024290639236509086,
          -0.0069031259198678255,
          -0.0040151544733300765,
          -11.920643550673033,
          -0.0047891037730046675,
          -0.018879515421546162,
          -0.0037215309281044585,
          -0.5368030656411564,
          -0.007956341559542482,
          -0.009914880618416538,
          -0.008104296404162334,
          -0.008188602525812853,
          -0.00825547930563265,
          -0.0036423800083562026,
          -0.024290639236509086,
          -0.007935450252578254,
          -0.0079554931517129,
          -0.008190965149451715,
          -0.007956772792106295,
          -0.008737336953697697,
          -0.008239189039503478,
          -0.00823461334668887,
          -0.024290639236509086,
          -0.008777948209563041,
          -0.008109474965559315,
          -0.024290639236509086,
          -0.017853969764532306,
          -0.008124328705455246,
          -18.75024515813632,
          -0.007937774159344376,
          -0.008296208037214486,
          -0.0078409852809102,
          -0.0036458062220303122,
          -0.004180541849925097,
          -27.604321376178568,
          -0.003283424756676366,
          -0.0077811642917170135,
          -0.003872681550184239,
          -0.007924950453962111,
          -0.4340465625299199,
          -0.008222547521662443,
          -0.008129689081819042,
          -0.008504136201989263,
          -0.008022889778263672,
          -0.00773352414812214,
          -0.01888976499624415,
          -0.009594785513697145,
          -0.005772954495304267,
          -0.008019982080494287,
          -0.005165029209850389,
          -0.004259191486952174,
          -0.014939487107574137,
          -0.024290639236509086,
          -0.008235303797468289,
          -0.005192361893900386,
          -4.553292469189486,
          -0.0035668418155084453,
          -0.003809866247779638,
          -0.01092013738495412,
          -0.009033583156189623,
          -0.008086870438623087,
          -0.007933464129095943,
          -0.021452421225706255,
          -0.897382999606519,
          -0.007966793695197339,
          -0.008275797356691626,
          -0.0034502546642975187,
          -0.004265403774611648,
          -0.00818963804532977,
          -0.00767483708105023,
          -0.01592210974325595,
          -0.00863421540982028,
          -0.008255363361901996,
          -0.008011757085077963,
          -0.0034053900108710873,
          -0.017851062553680384,
          -0.234972529452009,
          -0.018974409469166065,
          -0.024290639236509086,
          -9.620281535292113,
          -0.009942851923293911,
          -0.4300702609122197,
          -0.008470242219982951,
          -0.0081909918091074,
          -0.009485964878324097,
          -0.28212871212674684,
          -0.45208390753899186,
          -0.017779137486160584
         ],
         "yaxis": "y"
        },
        {
         "marker": {
          "color": [
           0,
           1,
           2,
           3,
           4,
           5,
           6,
           7,
           8,
           9,
           10,
           11,
           12,
           13,
           14,
           15,
           16,
           17,
           18,
           19,
           20,
           21,
           22,
           23,
           24,
           25,
           26,
           27,
           28,
           29,
           30,
           31,
           32,
           33,
           34,
           35,
           36,
           37,
           38,
           39,
           40,
           41,
           42,
           43,
           44,
           45,
           46,
           47,
           48,
           49,
           50,
           51,
           52,
           53,
           54,
           55,
           56,
           57,
           58,
           59,
           60,
           61,
           62,
           63,
           64,
           65,
           66,
           67,
           68,
           69,
           70,
           71,
           72,
           73,
           74,
           75,
           76,
           77,
           78,
           79,
           80,
           81,
           82,
           83,
           84,
           85,
           86,
           87,
           88,
           89,
           90,
           91,
           92,
           93,
           94,
           95,
           96,
           97,
           98,
           99
          ],
          "colorbar": {
           "title": {
            "text": "Trial"
           },
           "x": 1,
           "xpad": 40
          },
          "colorscale": [
           [
            0,
            "rgb(247,251,255)"
           ],
           [
            0.125,
            "rgb(222,235,247)"
           ],
           [
            0.25,
            "rgb(198,219,239)"
           ],
           [
            0.375,
            "rgb(158,202,225)"
           ],
           [
            0.5,
            "rgb(107,174,214)"
           ],
           [
            0.625,
            "rgb(66,146,198)"
           ],
           [
            0.75,
            "rgb(33,113,181)"
           ],
           [
            0.875,
            "rgb(8,81,156)"
           ],
           [
            1,
            "rgb(8,48,107)"
           ]
          ],
          "line": {
           "color": "Grey",
           "width": 0.5
          },
          "showscale": false
         },
         "mode": "markers",
         "name": "Feasible Trial",
         "showlegend": false,
         "type": "scatter",
         "x": [
          false,
          true,
          false,
          false,
          true,
          false,
          true,
          false,
          false,
          false,
          false,
          true,
          true,
          true,
          false,
          false,
          false,
          false,
          false,
          false,
          true,
          true,
          false,
          true,
          true,
          true,
          true,
          true,
          true,
          true,
          true,
          false,
          false,
          true,
          true,
          false,
          false,
          true,
          false,
          false,
          false,
          true,
          false,
          true,
          true,
          false,
          false,
          true,
          true,
          false,
          true,
          false,
          false,
          false,
          false,
          true,
          true,
          false,
          true,
          false,
          true,
          false,
          true,
          true,
          true,
          true,
          true,
          false,
          false,
          true,
          false,
          true,
          false,
          true,
          true,
          false,
          true,
          false,
          true,
          false,
          true,
          true,
          true,
          false,
          true,
          true,
          true,
          true,
          false,
          false,
          true,
          false,
          true,
          false,
          false,
          true,
          true,
          false,
          false,
          true
         ],
         "xaxis": "x2",
         "y": [
          -0.008174439361756,
          -0.019488022433032954,
          -0.008326502242811062,
          -3.834418109497618,
          -0.004386162586735751,
          -0.008081349725195225,
          -0.0038730211812538487,
          -0.004530247500003052,
          -0.01887988533559028,
          -0.00812763257427078,
          -0.018883274497980454,
          -0.0036520245157044607,
          -0.024290639236509086,
          -0.0069031259198678255,
          -0.0040151544733300765,
          -11.920643550673033,
          -0.0047891037730046675,
          -0.018879515421546162,
          -0.0037215309281044585,
          -0.5368030656411564,
          -0.007956341559542482,
          -0.009914880618416538,
          -0.008104296404162334,
          -0.008188602525812853,
          -0.00825547930563265,
          -0.0036423800083562026,
          -0.024290639236509086,
          -0.007935450252578254,
          -0.0079554931517129,
          -0.008190965149451715,
          -0.007956772792106295,
          -0.008737336953697697,
          -0.008239189039503478,
          -0.00823461334668887,
          -0.024290639236509086,
          -0.008777948209563041,
          -0.008109474965559315,
          -0.024290639236509086,
          -0.017853969764532306,
          -0.008124328705455246,
          -18.75024515813632,
          -0.007937774159344376,
          -0.008296208037214486,
          -0.0078409852809102,
          -0.0036458062220303122,
          -0.004180541849925097,
          -27.604321376178568,
          -0.003283424756676366,
          -0.0077811642917170135,
          -0.003872681550184239,
          -0.007924950453962111,
          -0.4340465625299199,
          -0.008222547521662443,
          -0.008129689081819042,
          -0.008504136201989263,
          -0.008022889778263672,
          -0.00773352414812214,
          -0.01888976499624415,
          -0.009594785513697145,
          -0.005772954495304267,
          -0.008019982080494287,
          -0.005165029209850389,
          -0.004259191486952174,
          -0.014939487107574137,
          -0.024290639236509086,
          -0.008235303797468289,
          -0.005192361893900386,
          -4.553292469189486,
          -0.0035668418155084453,
          -0.003809866247779638,
          -0.01092013738495412,
          -0.009033583156189623,
          -0.008086870438623087,
          -0.007933464129095943,
          -0.021452421225706255,
          -0.897382999606519,
          -0.007966793695197339,
          -0.008275797356691626,
          -0.0034502546642975187,
          -0.004265403774611648,
          -0.00818963804532977,
          -0.00767483708105023,
          -0.01592210974325595,
          -0.00863421540982028,
          -0.008255363361901996,
          -0.008011757085077963,
          -0.0034053900108710873,
          -0.017851062553680384,
          -0.234972529452009,
          -0.018974409469166065,
          -0.024290639236509086,
          -9.620281535292113,
          -0.009942851923293911,
          -0.4300702609122197,
          -0.008470242219982951,
          -0.0081909918091074,
          -0.009485964878324097,
          -0.28212871212674684,
          -0.45208390753899186,
          -0.017779137486160584
         ],
         "yaxis": "y2"
        },
        {
         "marker": {
          "color": [
           0,
           1,
           2,
           3,
           4,
           5,
           6,
           7,
           8,
           9,
           10,
           11,
           12,
           13,
           14,
           15,
           16,
           17,
           18,
           19,
           20,
           21,
           22,
           23,
           24,
           25,
           26,
           27,
           28,
           29,
           30,
           31,
           32,
           33,
           34,
           35,
           36,
           37,
           38,
           39,
           40,
           41,
           42,
           43,
           44,
           45,
           46,
           47,
           48,
           49,
           50,
           51,
           52,
           53,
           54,
           55,
           56,
           57,
           58,
           59,
           60,
           61,
           62,
           63,
           64,
           65,
           66,
           67,
           68,
           69,
           70,
           71,
           72,
           73,
           74,
           75,
           76,
           77,
           78,
           79,
           80,
           81,
           82,
           83,
           84,
           85,
           86,
           87,
           88,
           89,
           90,
           91,
           92,
           93,
           94,
           95,
           96,
           97,
           98,
           99
          ],
          "colorbar": {
           "title": {
            "text": "Trial"
           },
           "x": 1,
           "xpad": 40
          },
          "colorscale": [
           [
            0,
            "rgb(247,251,255)"
           ],
           [
            0.125,
            "rgb(222,235,247)"
           ],
           [
            0.25,
            "rgb(198,219,239)"
           ],
           [
            0.375,
            "rgb(158,202,225)"
           ],
           [
            0.5,
            "rgb(107,174,214)"
           ],
           [
            0.625,
            "rgb(66,146,198)"
           ],
           [
            0.75,
            "rgb(33,113,181)"
           ],
           [
            0.875,
            "rgb(8,81,156)"
           ],
           [
            1,
            "rgb(8,48,107)"
           ]
          ],
          "line": {
           "color": "Grey",
           "width": 0.5
          },
          "showscale": false
         },
         "mode": "markers",
         "name": "Feasible Trial",
         "showlegend": false,
         "type": "scatter",
         "x": [
          0.9556428757689246,
          0.737265320016441,
          0.5722807884690141,
          0.14180537144799796,
          0.5456592191001431,
          0.26636900997297436,
          0.27638457617723067,
          0.9881982429404655,
          0.16664018656068133,
          0.39266498982407233,
          0.6051494778125466,
          0.6727693701374023,
          0.8273083416079753,
          0.4843970097636307,
          0.4038536542632652,
          0.32660406624282773,
          0.5405074842498068,
          0.6690752475342215,
          0.6318036488694176,
          0.20212616911653017,
          0.6697913115459412,
          0.17572596849554395,
          0.3018423785145038,
          0.6114777430019245,
          0.5432659244369775,
          0.9354867063289529,
          0.38522980464064993,
          0.9910484650938369,
          0.36423265983804404,
          0.6849675376999886,
          0.6317499345121097,
          0.29423892474715885,
          0.34374902613586683,
          0.2559648880637612,
          0.7641072250261917,
          0.7332920734420213,
          0.6542650882469948,
          0.24664098437328674,
          0.44749237402069686,
          0.12094474216224328,
          0.8231328373463638,
          0.4860946246375165,
          0.9059709056465804,
          0.3957980908329244,
          0.594575994091362,
          0.8396740533613206,
          0.9525237196454729,
          0.5217945777947136,
          0.9669002854965502,
          0.5984688559611887,
          0.9110422094418901,
          0.2693090437513852,
          0.24635524541040218,
          0.8794575005503675,
          0.5218238438154733,
          0.5998885350423647,
          0.42234644622955647,
          0.6048441743818477,
          0.6309259181691698,
          0.933928862645345,
          0.3161310569003738,
          0.4111005549914769,
          0.5147008912294532,
          0.1735831287539847,
          0.43202227561279516,
          0.31822345327125673,
          0.9014745526659055,
          0.770895526765897,
          0.23757322526589883,
          0.5720602506132292,
          0.6010866037125369,
          0.6231143992803511,
          0.7133524500015364,
          0.9685242195998613,
          0.8576458990824449,
          0.8349394955244194,
          0.6618141963225929,
          0.5801149827786893,
          0.6129007163841849,
          0.45755856150433055,
          0.5884519990128366,
          0.9525550056506338,
          0.6086198652302881,
          0.20191424125667973,
          0.45910243348311724,
          0.5069961468008265,
          0.6971836348150395,
          0.6358465155880394,
          0.5248602505989993,
          0.9515039159202695,
          0.6930315477191362,
          0.26069019584890024,
          0.9067022366690078,
          0.44172316735054024,
          0.5386880784245623,
          0.5731211640724173,
          0.5987602022642141,
          0.9229707513324639,
          0.42010544481845424,
          0.1462832321358253
         ],
         "xaxis": "x3",
         "y": [
          -0.008174439361756,
          -0.019488022433032954,
          -0.008326502242811062,
          -3.834418109497618,
          -0.004386162586735751,
          -0.008081349725195225,
          -0.0038730211812538487,
          -0.004530247500003052,
          -0.01887988533559028,
          -0.00812763257427078,
          -0.018883274497980454,
          -0.0036520245157044607,
          -0.024290639236509086,
          -0.0069031259198678255,
          -0.0040151544733300765,
          -11.920643550673033,
          -0.0047891037730046675,
          -0.018879515421546162,
          -0.0037215309281044585,
          -0.5368030656411564,
          -0.007956341559542482,
          -0.009914880618416538,
          -0.008104296404162334,
          -0.008188602525812853,
          -0.00825547930563265,
          -0.0036423800083562026,
          -0.024290639236509086,
          -0.007935450252578254,
          -0.0079554931517129,
          -0.008190965149451715,
          -0.007956772792106295,
          -0.008737336953697697,
          -0.008239189039503478,
          -0.00823461334668887,
          -0.024290639236509086,
          -0.008777948209563041,
          -0.008109474965559315,
          -0.024290639236509086,
          -0.017853969764532306,
          -0.008124328705455246,
          -18.75024515813632,
          -0.007937774159344376,
          -0.008296208037214486,
          -0.0078409852809102,
          -0.0036458062220303122,
          -0.004180541849925097,
          -27.604321376178568,
          -0.003283424756676366,
          -0.0077811642917170135,
          -0.003872681550184239,
          -0.007924950453962111,
          -0.4340465625299199,
          -0.008222547521662443,
          -0.008129689081819042,
          -0.008504136201989263,
          -0.008022889778263672,
          -0.00773352414812214,
          -0.01888976499624415,
          -0.009594785513697145,
          -0.005772954495304267,
          -0.008019982080494287,
          -0.005165029209850389,
          -0.004259191486952174,
          -0.014939487107574137,
          -0.024290639236509086,
          -0.008235303797468289,
          -0.005192361893900386,
          -4.553292469189486,
          -0.0035668418155084453,
          -0.003809866247779638,
          -0.01092013738495412,
          -0.009033583156189623,
          -0.008086870438623087,
          -0.007933464129095943,
          -0.021452421225706255,
          -0.897382999606519,
          -0.007966793695197339,
          -0.008275797356691626,
          -0.0034502546642975187,
          -0.004265403774611648,
          -0.00818963804532977,
          -0.00767483708105023,
          -0.01592210974325595,
          -0.00863421540982028,
          -0.008255363361901996,
          -0.008011757085077963,
          -0.0034053900108710873,
          -0.017851062553680384,
          -0.234972529452009,
          -0.018974409469166065,
          -0.024290639236509086,
          -9.620281535292113,
          -0.009942851923293911,
          -0.4300702609122197,
          -0.008470242219982951,
          -0.0081909918091074,
          -0.009485964878324097,
          -0.28212871212674684,
          -0.45208390753899186,
          -0.017779137486160584
         ],
         "yaxis": "y3"
        },
        {
         "marker": {
          "color": [
           0,
           1,
           2,
           3,
           4,
           5,
           6,
           7,
           8,
           9,
           10,
           11,
           12,
           13,
           14,
           15,
           16,
           17,
           18,
           19,
           20,
           21,
           22,
           23,
           24,
           25,
           26,
           27,
           28,
           29,
           30,
           31,
           32,
           33,
           34,
           35,
           36,
           37,
           38,
           39,
           40,
           41,
           42,
           43,
           44,
           45,
           46,
           47,
           48,
           49,
           50,
           51,
           52,
           53,
           54,
           55,
           56,
           57,
           58,
           59,
           60,
           61,
           62,
           63,
           64,
           65,
           66,
           67,
           68,
           69,
           70,
           71,
           72,
           73,
           74,
           75,
           76,
           77,
           78,
           79,
           80,
           81,
           82,
           83,
           84,
           85,
           86,
           87,
           88,
           89,
           90,
           91,
           92,
           93,
           94,
           95,
           96,
           97,
           98,
           99
          ],
          "colorbar": {
           "title": {
            "text": "Trial"
           },
           "x": 1,
           "xpad": 40
          },
          "colorscale": [
           [
            0,
            "rgb(247,251,255)"
           ],
           [
            0.125,
            "rgb(222,235,247)"
           ],
           [
            0.25,
            "rgb(198,219,239)"
           ],
           [
            0.375,
            "rgb(158,202,225)"
           ],
           [
            0.5,
            "rgb(107,174,214)"
           ],
           [
            0.625,
            "rgb(66,146,198)"
           ],
           [
            0.75,
            "rgb(33,113,181)"
           ],
           [
            0.875,
            "rgb(8,81,156)"
           ],
           [
            1,
            "rgb(8,48,107)"
           ]
          ],
          "line": {
           "color": "Grey",
           "width": 0.5
          },
          "showscale": false
         },
         "mode": "markers",
         "name": "Feasible Trial",
         "showlegend": false,
         "type": "scatter",
         "x": [
          1624,
          4330,
          3448,
          1260,
          2035,
          4758,
          2555,
          1022,
          4453,
          4549,
          3091,
          4631,
          4215,
          1027,
          3075,
          2139,
          3689,
          1361,
          3048,
          2032,
          3904,
          3426,
          2301,
          2061,
          2123,
          4855,
          4745,
          4510,
          4469,
          4560,
          4291,
          1206,
          1101,
          3197,
          2678,
          2966,
          2498,
          1106,
          1783,
          1472,
          4003,
          1412,
          4622,
          4167,
          2404,
          1339,
          2505,
          1470,
          1172,
          3518,
          4802,
          3335,
          4800,
          2506,
          1225,
          4399,
          3081,
          1536,
          4617,
          2837,
          1512,
          3670,
          3014,
          1244,
          1146,
          1080,
          4157,
          2135,
          1746,
          1448,
          4078,
          3130,
          2886,
          4754,
          1806,
          2851,
          3511,
          1606,
          2368,
          1917,
          1726,
          3024,
          3829,
          1498,
          4212,
          1563,
          1594,
          1839,
          4102,
          3576,
          1924,
          1397,
          1831,
          3497,
          2701,
          1073,
          1825,
          3076,
          3266,
          2337
         ],
         "xaxis": "x4",
         "y": [
          -0.008174439361756,
          -0.019488022433032954,
          -0.008326502242811062,
          -3.834418109497618,
          -0.004386162586735751,
          -0.008081349725195225,
          -0.0038730211812538487,
          -0.004530247500003052,
          -0.01887988533559028,
          -0.00812763257427078,
          -0.018883274497980454,
          -0.0036520245157044607,
          -0.024290639236509086,
          -0.0069031259198678255,
          -0.0040151544733300765,
          -11.920643550673033,
          -0.0047891037730046675,
          -0.018879515421546162,
          -0.0037215309281044585,
          -0.5368030656411564,
          -0.007956341559542482,
          -0.009914880618416538,
          -0.008104296404162334,
          -0.008188602525812853,
          -0.00825547930563265,
          -0.0036423800083562026,
          -0.024290639236509086,
          -0.007935450252578254,
          -0.0079554931517129,
          -0.008190965149451715,
          -0.007956772792106295,
          -0.008737336953697697,
          -0.008239189039503478,
          -0.00823461334668887,
          -0.024290639236509086,
          -0.008777948209563041,
          -0.008109474965559315,
          -0.024290639236509086,
          -0.017853969764532306,
          -0.008124328705455246,
          -18.75024515813632,
          -0.007937774159344376,
          -0.008296208037214486,
          -0.0078409852809102,
          -0.0036458062220303122,
          -0.004180541849925097,
          -27.604321376178568,
          -0.003283424756676366,
          -0.0077811642917170135,
          -0.003872681550184239,
          -0.007924950453962111,
          -0.4340465625299199,
          -0.008222547521662443,
          -0.008129689081819042,
          -0.008504136201989263,
          -0.008022889778263672,
          -0.00773352414812214,
          -0.01888976499624415,
          -0.009594785513697145,
          -0.005772954495304267,
          -0.008019982080494287,
          -0.005165029209850389,
          -0.004259191486952174,
          -0.014939487107574137,
          -0.024290639236509086,
          -0.008235303797468289,
          -0.005192361893900386,
          -4.553292469189486,
          -0.0035668418155084453,
          -0.003809866247779638,
          -0.01092013738495412,
          -0.009033583156189623,
          -0.008086870438623087,
          -0.007933464129095943,
          -0.021452421225706255,
          -0.897382999606519,
          -0.007966793695197339,
          -0.008275797356691626,
          -0.0034502546642975187,
          -0.004265403774611648,
          -0.00818963804532977,
          -0.00767483708105023,
          -0.01592210974325595,
          -0.00863421540982028,
          -0.008255363361901996,
          -0.008011757085077963,
          -0.0034053900108710873,
          -0.017851062553680384,
          -0.234972529452009,
          -0.018974409469166065,
          -0.024290639236509086,
          -9.620281535292113,
          -0.009942851923293911,
          -0.4300702609122197,
          -0.008470242219982951,
          -0.0081909918091074,
          -0.009485964878324097,
          -0.28212871212674684,
          -0.45208390753899186,
          -0.017779137486160584
         ],
         "yaxis": "y4"
        },
        {
         "marker": {
          "color": [
           0,
           1,
           2,
           3,
           4,
           5,
           6,
           7,
           8,
           9,
           10,
           11,
           12,
           13,
           14,
           15,
           16,
           17,
           18,
           19,
           20,
           21,
           22,
           23,
           24,
           25,
           26,
           27,
           28,
           29,
           30,
           31,
           32,
           33,
           34,
           35,
           36,
           37,
           38,
           39,
           40,
           41,
           42,
           43,
           44,
           45,
           46,
           47,
           48,
           49,
           50,
           51,
           52,
           53,
           54,
           55,
           56,
           57,
           58,
           59,
           60,
           61,
           62,
           63,
           64,
           65,
           66,
           67,
           68,
           69,
           70,
           71,
           72,
           73,
           74,
           75,
           76,
           77,
           78,
           79,
           80,
           81,
           82,
           83,
           84,
           85,
           86,
           87,
           88,
           89,
           90,
           91,
           92,
           93,
           94,
           95,
           96,
           97,
           98,
           99
          ],
          "colorbar": {
           "title": {
            "text": "Trial"
           },
           "x": 1,
           "xpad": 40
          },
          "colorscale": [
           [
            0,
            "rgb(247,251,255)"
           ],
           [
            0.125,
            "rgb(222,235,247)"
           ],
           [
            0.25,
            "rgb(198,219,239)"
           ],
           [
            0.375,
            "rgb(158,202,225)"
           ],
           [
            0.5,
            "rgb(107,174,214)"
           ],
           [
            0.625,
            "rgb(66,146,198)"
           ],
           [
            0.75,
            "rgb(33,113,181)"
           ],
           [
            0.875,
            "rgb(8,81,156)"
           ],
           [
            1,
            "rgb(8,48,107)"
           ]
          ],
          "line": {
           "color": "Grey",
           "width": 0.5
          },
          "showscale": false
         },
         "mode": "markers",
         "name": "Feasible Trial",
         "showlegend": false,
         "type": "scatter",
         "x": [
          5,
          1,
          3,
          3,
          3,
          5,
          5,
          4,
          1,
          4,
          1,
          1,
          1,
          2,
          5,
          2,
          4,
          1,
          1,
          5,
          4,
          4,
          5,
          3,
          2,
          2,
          1,
          4,
          3,
          3,
          3,
          2,
          4,
          2,
          1,
          3,
          5,
          3,
          2,
          5,
          5,
          5,
          3,
          3,
          4,
          2,
          3,
          5,
          5,
          4,
          4,
          5,
          3,
          5,
          5,
          4,
          5,
          1,
          5,
          2,
          4,
          1,
          4,
          3,
          3,
          2,
          3,
          2,
          5,
          4,
          4,
          5,
          5,
          4,
          5,
          3,
          4,
          4,
          5,
          4,
          3,
          5,
          5,
          3,
          2,
          4,
          5,
          1,
          1,
          1,
          1,
          2,
          2,
          1,
          5,
          3,
          4,
          2,
          2,
          1
         ],
         "xaxis": "x5",
         "y": [
          -0.008174439361756,
          -0.019488022433032954,
          -0.008326502242811062,
          -3.834418109497618,
          -0.004386162586735751,
          -0.008081349725195225,
          -0.0038730211812538487,
          -0.004530247500003052,
          -0.01887988533559028,
          -0.00812763257427078,
          -0.018883274497980454,
          -0.0036520245157044607,
          -0.024290639236509086,
          -0.0069031259198678255,
          -0.0040151544733300765,
          -11.920643550673033,
          -0.0047891037730046675,
          -0.018879515421546162,
          -0.0037215309281044585,
          -0.5368030656411564,
          -0.007956341559542482,
          -0.009914880618416538,
          -0.008104296404162334,
          -0.008188602525812853,
          -0.00825547930563265,
          -0.0036423800083562026,
          -0.024290639236509086,
          -0.007935450252578254,
          -0.0079554931517129,
          -0.008190965149451715,
          -0.007956772792106295,
          -0.008737336953697697,
          -0.008239189039503478,
          -0.00823461334668887,
          -0.024290639236509086,
          -0.008777948209563041,
          -0.008109474965559315,
          -0.024290639236509086,
          -0.017853969764532306,
          -0.008124328705455246,
          -18.75024515813632,
          -0.007937774159344376,
          -0.008296208037214486,
          -0.0078409852809102,
          -0.0036458062220303122,
          -0.004180541849925097,
          -27.604321376178568,
          -0.003283424756676366,
          -0.0077811642917170135,
          -0.003872681550184239,
          -0.007924950453962111,
          -0.4340465625299199,
          -0.008222547521662443,
          -0.008129689081819042,
          -0.008504136201989263,
          -0.008022889778263672,
          -0.00773352414812214,
          -0.01888976499624415,
          -0.009594785513697145,
          -0.005772954495304267,
          -0.008019982080494287,
          -0.005165029209850389,
          -0.004259191486952174,
          -0.014939487107574137,
          -0.024290639236509086,
          -0.008235303797468289,
          -0.005192361893900386,
          -4.553292469189486,
          -0.0035668418155084453,
          -0.003809866247779638,
          -0.01092013738495412,
          -0.009033583156189623,
          -0.008086870438623087,
          -0.007933464129095943,
          -0.021452421225706255,
          -0.897382999606519,
          -0.007966793695197339,
          -0.008275797356691626,
          -0.0034502546642975187,
          -0.004265403774611648,
          -0.00818963804532977,
          -0.00767483708105023,
          -0.01592210974325595,
          -0.00863421540982028,
          -0.008255363361901996,
          -0.008011757085077963,
          -0.0034053900108710873,
          -0.017851062553680384,
          -0.234972529452009,
          -0.018974409469166065,
          -0.024290639236509086,
          -9.620281535292113,
          -0.009942851923293911,
          -0.4300702609122197,
          -0.008470242219982951,
          -0.0081909918091074,
          -0.009485964878324097,
          -0.28212871212674684,
          -0.45208390753899186,
          -0.017779137486160584
         ],
         "yaxis": "y5"
        },
        {
         "marker": {
          "color": [
           0,
           1,
           2,
           3,
           4,
           5,
           6,
           7,
           8,
           9,
           10,
           11,
           12,
           13,
           14,
           15,
           16,
           17,
           18,
           19,
           20,
           21,
           22,
           23,
           24,
           25,
           26,
           27,
           28,
           29,
           30,
           31,
           32,
           33,
           34,
           35,
           36,
           37,
           38,
           39,
           40,
           41,
           42,
           43,
           44,
           45,
           46,
           47,
           48,
           49,
           50,
           51,
           52,
           53,
           54,
           55,
           56,
           57,
           58,
           59,
           60,
           61,
           62,
           63,
           64,
           65,
           66,
           67,
           68,
           69,
           70,
           71,
           72,
           73,
           74,
           75,
           76,
           77,
           78,
           79,
           80,
           81,
           82,
           83,
           84,
           85,
           86,
           87,
           88,
           89,
           90,
           91,
           92,
           93,
           94,
           95,
           96,
           97,
           98,
           99
          ],
          "colorbar": {
           "title": {
            "text": "Trial"
           },
           "x": 1,
           "xpad": 40
          },
          "colorscale": [
           [
            0,
            "rgb(247,251,255)"
           ],
           [
            0.125,
            "rgb(222,235,247)"
           ],
           [
            0.25,
            "rgb(198,219,239)"
           ],
           [
            0.375,
            "rgb(158,202,225)"
           ],
           [
            0.5,
            "rgb(107,174,214)"
           ],
           [
            0.625,
            "rgb(66,146,198)"
           ],
           [
            0.75,
            "rgb(33,113,181)"
           ],
           [
            0.875,
            "rgb(8,81,156)"
           ],
           [
            1,
            "rgb(8,48,107)"
           ]
          ],
          "line": {
           "color": "Grey",
           "width": 0.5
          },
          "showscale": false
         },
         "mode": "markers",
         "name": "Feasible Trial",
         "showlegend": false,
         "type": "scatter",
         "x": [
          false,
          false,
          true,
          true,
          false,
          false,
          true,
          false,
          false,
          false,
          false,
          true,
          true,
          false,
          false,
          true,
          false,
          false,
          true,
          true,
          false,
          true,
          false,
          true,
          true,
          false,
          false,
          false,
          false,
          true,
          false,
          true,
          false,
          false,
          true,
          false,
          false,
          true,
          true,
          false,
          true,
          false,
          true,
          false,
          true,
          false,
          true,
          true,
          false,
          false,
          false,
          true,
          false,
          true,
          false,
          true,
          false,
          true,
          true,
          false,
          false,
          true,
          false,
          true,
          true,
          false,
          false,
          true,
          false,
          true,
          true,
          true,
          false,
          false,
          true,
          true,
          false,
          false,
          false,
          false,
          false,
          false,
          true,
          false,
          true,
          true,
          false,
          false,
          true,
          false,
          false,
          true,
          true,
          true,
          true,
          false,
          true,
          true,
          true,
          false
         ],
         "xaxis": "x6",
         "y": [
          -0.008174439361756,
          -0.019488022433032954,
          -0.008326502242811062,
          -3.834418109497618,
          -0.004386162586735751,
          -0.008081349725195225,
          -0.0038730211812538487,
          -0.004530247500003052,
          -0.01887988533559028,
          -0.00812763257427078,
          -0.018883274497980454,
          -0.0036520245157044607,
          -0.024290639236509086,
          -0.0069031259198678255,
          -0.0040151544733300765,
          -11.920643550673033,
          -0.0047891037730046675,
          -0.018879515421546162,
          -0.0037215309281044585,
          -0.5368030656411564,
          -0.007956341559542482,
          -0.009914880618416538,
          -0.008104296404162334,
          -0.008188602525812853,
          -0.00825547930563265,
          -0.0036423800083562026,
          -0.024290639236509086,
          -0.007935450252578254,
          -0.0079554931517129,
          -0.008190965149451715,
          -0.007956772792106295,
          -0.008737336953697697,
          -0.008239189039503478,
          -0.00823461334668887,
          -0.024290639236509086,
          -0.008777948209563041,
          -0.008109474965559315,
          -0.024290639236509086,
          -0.017853969764532306,
          -0.008124328705455246,
          -18.75024515813632,
          -0.007937774159344376,
          -0.008296208037214486,
          -0.0078409852809102,
          -0.0036458062220303122,
          -0.004180541849925097,
          -27.604321376178568,
          -0.003283424756676366,
          -0.0077811642917170135,
          -0.003872681550184239,
          -0.007924950453962111,
          -0.4340465625299199,
          -0.008222547521662443,
          -0.008129689081819042,
          -0.008504136201989263,
          -0.008022889778263672,
          -0.00773352414812214,
          -0.01888976499624415,
          -0.009594785513697145,
          -0.005772954495304267,
          -0.008019982080494287,
          -0.005165029209850389,
          -0.004259191486952174,
          -0.014939487107574137,
          -0.024290639236509086,
          -0.008235303797468289,
          -0.005192361893900386,
          -4.553292469189486,
          -0.0035668418155084453,
          -0.003809866247779638,
          -0.01092013738495412,
          -0.009033583156189623,
          -0.008086870438623087,
          -0.007933464129095943,
          -0.021452421225706255,
          -0.897382999606519,
          -0.007966793695197339,
          -0.008275797356691626,
          -0.0034502546642975187,
          -0.004265403774611648,
          -0.00818963804532977,
          -0.00767483708105023,
          -0.01592210974325595,
          -0.00863421540982028,
          -0.008255363361901996,
          -0.008011757085077963,
          -0.0034053900108710873,
          -0.017851062553680384,
          -0.234972529452009,
          -0.018974409469166065,
          -0.024290639236509086,
          -9.620281535292113,
          -0.009942851923293911,
          -0.4300702609122197,
          -0.008470242219982951,
          -0.0081909918091074,
          -0.009485964878324097,
          -0.28212871212674684,
          -0.45208390753899186,
          -0.017779137486160584
         ],
         "yaxis": "y6"
        },
        {
         "marker": {
          "color": [
           2,
           3,
           6,
           11,
           12,
           15,
           18,
           19,
           21,
           23,
           24,
           29,
           31,
           34,
           37,
           38,
           40,
           42,
           44,
           46,
           47,
           51,
           53,
           55,
           57,
           58,
           61,
           63,
           64,
           67,
           69,
           70,
           71,
           74,
           75,
           82,
           84,
           85,
           88,
           91,
           92,
           93,
           94,
           96,
           97,
           98
          ],
          "colorbar": {
           "title": {
            "text": "Trial"
           },
           "x": 1,
           "xpad": 40
          },
          "colorscale": [
           [
            0,
            "rgb(247,251,255)"
           ],
           [
            0.125,
            "rgb(222,235,247)"
           ],
           [
            0.25,
            "rgb(198,219,239)"
           ],
           [
            0.375,
            "rgb(158,202,225)"
           ],
           [
            0.5,
            "rgb(107,174,214)"
           ],
           [
            0.625,
            "rgb(66,146,198)"
           ],
           [
            0.75,
            "rgb(33,113,181)"
           ],
           [
            0.875,
            "rgb(8,81,156)"
           ],
           [
            1,
            "rgb(8,48,107)"
           ]
          ],
          "line": {
           "color": "Grey",
           "width": 0.5
          },
          "showscale": false
         },
         "mode": "markers",
         "name": "Feasible Trial",
         "showlegend": false,
         "type": "scatter",
         "x": [
          false,
          true,
          true,
          true,
          false,
          true,
          false,
          true,
          true,
          false,
          false,
          false,
          false,
          true,
          true,
          false,
          true,
          false,
          true,
          true,
          false,
          true,
          false,
          false,
          false,
          true,
          false,
          true,
          true,
          true,
          true,
          false,
          true,
          true,
          true,
          true,
          false,
          false,
          true,
          true,
          true,
          true,
          false,
          true,
          true,
          true
         ],
         "xaxis": "x7",
         "y": [
          -0.008326502242811062,
          -3.834418109497618,
          -0.0038730211812538487,
          -0.0036520245157044607,
          -0.024290639236509086,
          -11.920643550673033,
          -0.0037215309281044585,
          -0.5368030656411564,
          -0.009914880618416538,
          -0.008188602525812853,
          -0.00825547930563265,
          -0.008190965149451715,
          -0.008737336953697697,
          -0.024290639236509086,
          -0.024290639236509086,
          -0.017853969764532306,
          -18.75024515813632,
          -0.008296208037214486,
          -0.0036458062220303122,
          -27.604321376178568,
          -0.003283424756676366,
          -0.4340465625299199,
          -0.008129689081819042,
          -0.008022889778263672,
          -0.01888976499624415,
          -0.009594785513697145,
          -0.005165029209850389,
          -0.014939487107574137,
          -0.024290639236509086,
          -4.553292469189486,
          -0.003809866247779638,
          -0.01092013738495412,
          -0.009033583156189623,
          -0.021452421225706255,
          -0.897382999606519,
          -0.01592210974325595,
          -0.008255363361901996,
          -0.008011757085077963,
          -0.234972529452009,
          -9.620281535292113,
          -0.009942851923293911,
          -0.4300702609122197,
          -0.008470242219982951,
          -0.009485964878324097,
          -0.28212871212674684,
          -0.45208390753899186
         ],
         "yaxis": "y7"
        },
        {
         "marker": {
          "color": [
           2,
           3,
           6,
           11,
           12,
           15,
           18,
           19,
           21,
           23,
           24,
           29,
           31,
           34,
           37,
           38,
           40,
           42,
           44,
           46,
           47,
           51,
           53,
           55,
           57,
           58,
           61,
           63,
           64,
           67,
           69,
           70,
           71,
           74,
           75,
           82,
           84,
           85,
           88,
           91,
           92,
           93,
           94,
           96,
           97,
           98
          ],
          "colorbar": {
           "title": {
            "text": "Trial"
           },
           "x": 1,
           "xpad": 40
          },
          "colorscale": [
           [
            0,
            "rgb(247,251,255)"
           ],
           [
            0.125,
            "rgb(222,235,247)"
           ],
           [
            0.25,
            "rgb(198,219,239)"
           ],
           [
            0.375,
            "rgb(158,202,225)"
           ],
           [
            0.5,
            "rgb(107,174,214)"
           ],
           [
            0.625,
            "rgb(66,146,198)"
           ],
           [
            0.75,
            "rgb(33,113,181)"
           ],
           [
            0.875,
            "rgb(8,81,156)"
           ],
           [
            1,
            "rgb(8,48,107)"
           ]
          ],
          "line": {
           "color": "Grey",
           "width": 0.5
          },
          "showscale": false
         },
         "mode": "markers",
         "name": "Feasible Trial",
         "showlegend": false,
         "type": "scatter",
         "x": [
          true,
          false,
          true,
          false,
          true,
          false,
          false,
          true,
          false,
          false,
          true,
          false,
          true,
          true,
          true,
          true,
          true,
          false,
          true,
          true,
          true,
          true,
          false,
          true,
          true,
          false,
          true,
          false,
          true,
          true,
          true,
          true,
          true,
          true,
          true,
          false,
          true,
          false,
          true,
          false,
          true,
          true,
          true,
          false,
          true,
          true
         ],
         "xaxis": "x8",
         "y": [
          -0.008326502242811062,
          -3.834418109497618,
          -0.0038730211812538487,
          -0.0036520245157044607,
          -0.024290639236509086,
          -11.920643550673033,
          -0.0037215309281044585,
          -0.5368030656411564,
          -0.009914880618416538,
          -0.008188602525812853,
          -0.00825547930563265,
          -0.008190965149451715,
          -0.008737336953697697,
          -0.024290639236509086,
          -0.024290639236509086,
          -0.017853969764532306,
          -18.75024515813632,
          -0.008296208037214486,
          -0.0036458062220303122,
          -27.604321376178568,
          -0.003283424756676366,
          -0.4340465625299199,
          -0.008129689081819042,
          -0.008022889778263672,
          -0.01888976499624415,
          -0.009594785513697145,
          -0.005165029209850389,
          -0.014939487107574137,
          -0.024290639236509086,
          -4.553292469189486,
          -0.003809866247779638,
          -0.01092013738495412,
          -0.009033583156189623,
          -0.021452421225706255,
          -0.897382999606519,
          -0.01592210974325595,
          -0.008255363361901996,
          -0.008011757085077963,
          -0.234972529452009,
          -9.620281535292113,
          -0.009942851923293911,
          -0.4300702609122197,
          -0.008470242219982951,
          -0.009485964878324097,
          -0.28212871212674684,
          -0.45208390753899186
         ],
         "yaxis": "y8"
        }
       ],
       "layout": {
        "template": {
         "data": {
          "bar": [
           {
            "error_x": {
             "color": "#2a3f5f"
            },
            "error_y": {
             "color": "#2a3f5f"
            },
            "marker": {
             "line": {
              "color": "#E5ECF6",
              "width": 0.5
             },
             "pattern": {
              "fillmode": "overlay",
              "size": 10,
              "solidity": 0.2
             }
            },
            "type": "bar"
           }
          ],
          "barpolar": [
           {
            "marker": {
             "line": {
              "color": "#E5ECF6",
              "width": 0.5
             },
             "pattern": {
              "fillmode": "overlay",
              "size": 10,
              "solidity": 0.2
             }
            },
            "type": "barpolar"
           }
          ],
          "carpet": [
           {
            "aaxis": {
             "endlinecolor": "#2a3f5f",
             "gridcolor": "white",
             "linecolor": "white",
             "minorgridcolor": "white",
             "startlinecolor": "#2a3f5f"
            },
            "baxis": {
             "endlinecolor": "#2a3f5f",
             "gridcolor": "white",
             "linecolor": "white",
             "minorgridcolor": "white",
             "startlinecolor": "#2a3f5f"
            },
            "type": "carpet"
           }
          ],
          "choropleth": [
           {
            "colorbar": {
             "outlinewidth": 0,
             "ticks": ""
            },
            "type": "choropleth"
           }
          ],
          "contour": [
           {
            "colorbar": {
             "outlinewidth": 0,
             "ticks": ""
            },
            "colorscale": [
             [
              0,
              "#0d0887"
             ],
             [
              0.1111111111111111,
              "#46039f"
             ],
             [
              0.2222222222222222,
              "#7201a8"
             ],
             [
              0.3333333333333333,
              "#9c179e"
             ],
             [
              0.4444444444444444,
              "#bd3786"
             ],
             [
              0.5555555555555556,
              "#d8576b"
             ],
             [
              0.6666666666666666,
              "#ed7953"
             ],
             [
              0.7777777777777778,
              "#fb9f3a"
             ],
             [
              0.8888888888888888,
              "#fdca26"
             ],
             [
              1,
              "#f0f921"
             ]
            ],
            "type": "contour"
           }
          ],
          "contourcarpet": [
           {
            "colorbar": {
             "outlinewidth": 0,
             "ticks": ""
            },
            "type": "contourcarpet"
           }
          ],
          "heatmap": [
           {
            "colorbar": {
             "outlinewidth": 0,
             "ticks": ""
            },
            "colorscale": [
             [
              0,
              "#0d0887"
             ],
             [
              0.1111111111111111,
              "#46039f"
             ],
             [
              0.2222222222222222,
              "#7201a8"
             ],
             [
              0.3333333333333333,
              "#9c179e"
             ],
             [
              0.4444444444444444,
              "#bd3786"
             ],
             [
              0.5555555555555556,
              "#d8576b"
             ],
             [
              0.6666666666666666,
              "#ed7953"
             ],
             [
              0.7777777777777778,
              "#fb9f3a"
             ],
             [
              0.8888888888888888,
              "#fdca26"
             ],
             [
              1,
              "#f0f921"
             ]
            ],
            "type": "heatmap"
           }
          ],
          "histogram": [
           {
            "marker": {
             "pattern": {
              "fillmode": "overlay",
              "size": 10,
              "solidity": 0.2
             }
            },
            "type": "histogram"
           }
          ],
          "histogram2d": [
           {
            "colorbar": {
             "outlinewidth": 0,
             "ticks": ""
            },
            "colorscale": [
             [
              0,
              "#0d0887"
             ],
             [
              0.1111111111111111,
              "#46039f"
             ],
             [
              0.2222222222222222,
              "#7201a8"
             ],
             [
              0.3333333333333333,
              "#9c179e"
             ],
             [
              0.4444444444444444,
              "#bd3786"
             ],
             [
              0.5555555555555556,
              "#d8576b"
             ],
             [
              0.6666666666666666,
              "#ed7953"
             ],
             [
              0.7777777777777778,
              "#fb9f3a"
             ],
             [
              0.8888888888888888,
              "#fdca26"
             ],
             [
              1,
              "#f0f921"
             ]
            ],
            "type": "histogram2d"
           }
          ],
          "histogram2dcontour": [
           {
            "colorbar": {
             "outlinewidth": 0,
             "ticks": ""
            },
            "colorscale": [
             [
              0,
              "#0d0887"
             ],
             [
              0.1111111111111111,
              "#46039f"
             ],
             [
              0.2222222222222222,
              "#7201a8"
             ],
             [
              0.3333333333333333,
              "#9c179e"
             ],
             [
              0.4444444444444444,
              "#bd3786"
             ],
             [
              0.5555555555555556,
              "#d8576b"
             ],
             [
              0.6666666666666666,
              "#ed7953"
             ],
             [
              0.7777777777777778,
              "#fb9f3a"
             ],
             [
              0.8888888888888888,
              "#fdca26"
             ],
             [
              1,
              "#f0f921"
             ]
            ],
            "type": "histogram2dcontour"
           }
          ],
          "mesh3d": [
           {
            "colorbar": {
             "outlinewidth": 0,
             "ticks": ""
            },
            "type": "mesh3d"
           }
          ],
          "parcoords": [
           {
            "line": {
             "colorbar": {
              "outlinewidth": 0,
              "ticks": ""
             }
            },
            "type": "parcoords"
           }
          ],
          "pie": [
           {
            "automargin": true,
            "type": "pie"
           }
          ],
          "scatter": [
           {
            "fillpattern": {
             "fillmode": "overlay",
             "size": 10,
             "solidity": 0.2
            },
            "type": "scatter"
           }
          ],
          "scatter3d": [
           {
            "line": {
             "colorbar": {
              "outlinewidth": 0,
              "ticks": ""
             }
            },
            "marker": {
             "colorbar": {
              "outlinewidth": 0,
              "ticks": ""
             }
            },
            "type": "scatter3d"
           }
          ],
          "scattercarpet": [
           {
            "marker": {
             "colorbar": {
              "outlinewidth": 0,
              "ticks": ""
             }
            },
            "type": "scattercarpet"
           }
          ],
          "scattergeo": [
           {
            "marker": {
             "colorbar": {
              "outlinewidth": 0,
              "ticks": ""
             }
            },
            "type": "scattergeo"
           }
          ],
          "scattergl": [
           {
            "marker": {
             "colorbar": {
              "outlinewidth": 0,
              "ticks": ""
             }
            },
            "type": "scattergl"
           }
          ],
          "scattermap": [
           {
            "marker": {
             "colorbar": {
              "outlinewidth": 0,
              "ticks": ""
             }
            },
            "type": "scattermap"
           }
          ],
          "scattermapbox": [
           {
            "marker": {
             "colorbar": {
              "outlinewidth": 0,
              "ticks": ""
             }
            },
            "type": "scattermapbox"
           }
          ],
          "scatterpolar": [
           {
            "marker": {
             "colorbar": {
              "outlinewidth": 0,
              "ticks": ""
             }
            },
            "type": "scatterpolar"
           }
          ],
          "scatterpolargl": [
           {
            "marker": {
             "colorbar": {
              "outlinewidth": 0,
              "ticks": ""
             }
            },
            "type": "scatterpolargl"
           }
          ],
          "scatterternary": [
           {
            "marker": {
             "colorbar": {
              "outlinewidth": 0,
              "ticks": ""
             }
            },
            "type": "scatterternary"
           }
          ],
          "surface": [
           {
            "colorbar": {
             "outlinewidth": 0,
             "ticks": ""
            },
            "colorscale": [
             [
              0,
              "#0d0887"
             ],
             [
              0.1111111111111111,
              "#46039f"
             ],
             [
              0.2222222222222222,
              "#7201a8"
             ],
             [
              0.3333333333333333,
              "#9c179e"
             ],
             [
              0.4444444444444444,
              "#bd3786"
             ],
             [
              0.5555555555555556,
              "#d8576b"
             ],
             [
              0.6666666666666666,
              "#ed7953"
             ],
             [
              0.7777777777777778,
              "#fb9f3a"
             ],
             [
              0.8888888888888888,
              "#fdca26"
             ],
             [
              1,
              "#f0f921"
             ]
            ],
            "type": "surface"
           }
          ],
          "table": [
           {
            "cells": {
             "fill": {
              "color": "#EBF0F8"
             },
             "line": {
              "color": "white"
             }
            },
            "header": {
             "fill": {
              "color": "#C8D4E3"
             },
             "line": {
              "color": "white"
             }
            },
            "type": "table"
           }
          ]
         },
         "layout": {
          "annotationdefaults": {
           "arrowcolor": "#2a3f5f",
           "arrowhead": 0,
           "arrowwidth": 1
          },
          "autotypenumbers": "strict",
          "coloraxis": {
           "colorbar": {
            "outlinewidth": 0,
            "ticks": ""
           }
          },
          "colorscale": {
           "diverging": [
            [
             0,
             "#8e0152"
            ],
            [
             0.1,
             "#c51b7d"
            ],
            [
             0.2,
             "#de77ae"
            ],
            [
             0.3,
             "#f1b6da"
            ],
            [
             0.4,
             "#fde0ef"
            ],
            [
             0.5,
             "#f7f7f7"
            ],
            [
             0.6,
             "#e6f5d0"
            ],
            [
             0.7,
             "#b8e186"
            ],
            [
             0.8,
             "#7fbc41"
            ],
            [
             0.9,
             "#4d9221"
            ],
            [
             1,
             "#276419"
            ]
           ],
           "sequential": [
            [
             0,
             "#0d0887"
            ],
            [
             0.1111111111111111,
             "#46039f"
            ],
            [
             0.2222222222222222,
             "#7201a8"
            ],
            [
             0.3333333333333333,
             "#9c179e"
            ],
            [
             0.4444444444444444,
             "#bd3786"
            ],
            [
             0.5555555555555556,
             "#d8576b"
            ],
            [
             0.6666666666666666,
             "#ed7953"
            ],
            [
             0.7777777777777778,
             "#fb9f3a"
            ],
            [
             0.8888888888888888,
             "#fdca26"
            ],
            [
             1,
             "#f0f921"
            ]
           ],
           "sequentialminus": [
            [
             0,
             "#0d0887"
            ],
            [
             0.1111111111111111,
             "#46039f"
            ],
            [
             0.2222222222222222,
             "#7201a8"
            ],
            [
             0.3333333333333333,
             "#9c179e"
            ],
            [
             0.4444444444444444,
             "#bd3786"
            ],
            [
             0.5555555555555556,
             "#d8576b"
            ],
            [
             0.6666666666666666,
             "#ed7953"
            ],
            [
             0.7777777777777778,
             "#fb9f3a"
            ],
            [
             0.8888888888888888,
             "#fdca26"
            ],
            [
             1,
             "#f0f921"
            ]
           ]
          },
          "colorway": [
           "#636efa",
           "#EF553B",
           "#00cc96",
           "#ab63fa",
           "#FFA15A",
           "#19d3f3",
           "#FF6692",
           "#B6E880",
           "#FF97FF",
           "#FECB52"
          ],
          "font": {
           "color": "#2a3f5f"
          },
          "geo": {
           "bgcolor": "white",
           "lakecolor": "white",
           "landcolor": "#E5ECF6",
           "showlakes": true,
           "showland": true,
           "subunitcolor": "white"
          },
          "hoverlabel": {
           "align": "left"
          },
          "hovermode": "closest",
          "mapbox": {
           "style": "light"
          },
          "paper_bgcolor": "white",
          "plot_bgcolor": "#E5ECF6",
          "polar": {
           "angularaxis": {
            "gridcolor": "white",
            "linecolor": "white",
            "ticks": ""
           },
           "bgcolor": "#E5ECF6",
           "radialaxis": {
            "gridcolor": "white",
            "linecolor": "white",
            "ticks": ""
           }
          },
          "scene": {
           "xaxis": {
            "backgroundcolor": "#E5ECF6",
            "gridcolor": "white",
            "gridwidth": 2,
            "linecolor": "white",
            "showbackground": true,
            "ticks": "",
            "zerolinecolor": "white"
           },
           "yaxis": {
            "backgroundcolor": "#E5ECF6",
            "gridcolor": "white",
            "gridwidth": 2,
            "linecolor": "white",
            "showbackground": true,
            "ticks": "",
            "zerolinecolor": "white"
           },
           "zaxis": {
            "backgroundcolor": "#E5ECF6",
            "gridcolor": "white",
            "gridwidth": 2,
            "linecolor": "white",
            "showbackground": true,
            "ticks": "",
            "zerolinecolor": "white"
           }
          },
          "shapedefaults": {
           "line": {
            "color": "#2a3f5f"
           }
          },
          "ternary": {
           "aaxis": {
            "gridcolor": "white",
            "linecolor": "white",
            "ticks": ""
           },
           "baxis": {
            "gridcolor": "white",
            "linecolor": "white",
            "ticks": ""
           },
           "bgcolor": "#E5ECF6",
           "caxis": {
            "gridcolor": "white",
            "linecolor": "white",
            "ticks": ""
           }
          },
          "title": {
           "x": 0.05
          },
          "xaxis": {
           "automargin": true,
           "gridcolor": "white",
           "linecolor": "white",
           "ticks": "",
           "title": {
            "standoff": 15
           },
           "zerolinecolor": "white",
           "zerolinewidth": 2
          },
          "yaxis": {
           "automargin": true,
           "gridcolor": "white",
           "linecolor": "white",
           "ticks": "",
           "title": {
            "standoff": 15
           },
           "zerolinecolor": "white",
           "zerolinewidth": 2
          }
         }
        },
        "title": {
         "text": "Slice Plot"
        },
        "width": 2400,
        "xaxis": {
         "anchor": "y",
         "domain": [
          0,
          0.103125
         ],
         "title": {
          "text": "alpha"
         },
         "type": "log"
        },
        "xaxis2": {
         "anchor": "y2",
         "categoryarray": [
          false,
          true
         ],
         "categoryorder": "array",
         "domain": [
          0.128125,
          0.23124999999999998
         ],
         "title": {
          "text": "fit_intercept"
         },
         "type": "category"
        },
        "xaxis3": {
         "anchor": "y3",
         "domain": [
          0.25625,
          0.359375
         ],
         "title": {
          "text": "l1_ratio"
         }
        },
        "xaxis4": {
         "anchor": "y4",
         "domain": [
          0.38437499999999997,
          0.48749999999999993
         ],
         "title": {
          "text": "max_iter"
         }
        },
        "xaxis5": {
         "anchor": "y5",
         "domain": [
          0.5125,
          0.615625
         ],
         "title": {
          "text": "poly_degree"
         }
        },
        "xaxis6": {
         "anchor": "y6",
         "categoryarray": [
          false,
          true
         ],
         "categoryorder": "array",
         "domain": [
          0.640625,
          0.74375
         ],
         "title": {
          "text": "use_scaler"
         },
         "type": "category"
        },
        "xaxis7": {
         "anchor": "y7",
         "categoryarray": [
          true,
          false
         ],
         "categoryorder": "array",
         "domain": [
          0.7687499999999999,
          0.871875
         ],
         "title": {
          "text": "with_mean"
         },
         "type": "category"
        },
        "xaxis8": {
         "anchor": "y8",
         "categoryarray": [
          true,
          false
         ],
         "categoryorder": "array",
         "domain": [
          0.896875,
          1
         ],
         "title": {
          "text": "with_std"
         },
         "type": "category"
        },
        "yaxis": {
         "anchor": "x",
         "domain": [
          0,
          1
         ],
         "title": {
          "text": "Objective Value"
         }
        },
        "yaxis2": {
         "anchor": "x2",
         "domain": [
          0,
          1
         ],
         "matches": "y",
         "showticklabels": false
        },
        "yaxis3": {
         "anchor": "x3",
         "domain": [
          0,
          1
         ],
         "matches": "y",
         "showticklabels": false
        },
        "yaxis4": {
         "anchor": "x4",
         "domain": [
          0,
          1
         ],
         "matches": "y",
         "showticklabels": false
        },
        "yaxis5": {
         "anchor": "x5",
         "domain": [
          0,
          1
         ],
         "matches": "y",
         "showticklabels": false
        },
        "yaxis6": {
         "anchor": "x6",
         "domain": [
          0,
          1
         ],
         "matches": "y",
         "showticklabels": false
        },
        "yaxis7": {
         "anchor": "x7",
         "domain": [
          0,
          1
         ],
         "matches": "y",
         "showticklabels": false
        },
        "yaxis8": {
         "anchor": "x8",
         "domain": [
          0,
          1
         ],
         "matches": "y",
         "showticklabels": false
        }
       }
      }
     },
     "metadata": {},
     "output_type": "display_data"
    }
   ],
   "source": [
    "optuna.visualization.plot_slice(study, params=['alpha', 'l1_ratio', 'fit_intercept', 'max_iter','use_scaler','poly_degree','with_mean','with_std'])"
   ]
  },
  {
   "cell_type": "code",
   "execution_count": 47,
   "metadata": {},
   "outputs": [
    {
     "data": {
      "application/vnd.plotly.v1+json": {
       "config": {
        "plotlyServerURL": "https://plot.ly"
       },
       "data": [
        {
         "cliponaxis": false,
         "hovertemplate": [
          "poly_degree (IntDistribution): 0.010729295783867962<extra></extra>",
          "use_scaler (CategoricalDistribution): 0.034866781392572786<extra></extra>",
          "fit_intercept (CategoricalDistribution): 0.04637779771596921<extra></extra>",
          "max_iter (IntDistribution): 0.08304984697981611<extra></extra>",
          "alpha (FloatDistribution): 0.2940488178421814<extra></extra>",
          "l1_ratio (FloatDistribution): 0.5309274602855925<extra></extra>"
         ],
         "name": "Objective Value",
         "orientation": "h",
         "text": [
          "0.01",
          "0.03",
          "0.05",
          "0.08",
          "0.29",
          "0.53"
         ],
         "textposition": "outside",
         "type": "bar",
         "x": [
          0.010729295783867962,
          0.034866781392572786,
          0.04637779771596921,
          0.08304984697981611,
          0.2940488178421814,
          0.5309274602855925
         ],
         "y": [
          "poly_degree",
          "use_scaler",
          "fit_intercept",
          "max_iter",
          "alpha",
          "l1_ratio"
         ]
        }
       ],
       "layout": {
        "template": {
         "data": {
          "bar": [
           {
            "error_x": {
             "color": "#2a3f5f"
            },
            "error_y": {
             "color": "#2a3f5f"
            },
            "marker": {
             "line": {
              "color": "#E5ECF6",
              "width": 0.5
             },
             "pattern": {
              "fillmode": "overlay",
              "size": 10,
              "solidity": 0.2
             }
            },
            "type": "bar"
           }
          ],
          "barpolar": [
           {
            "marker": {
             "line": {
              "color": "#E5ECF6",
              "width": 0.5
             },
             "pattern": {
              "fillmode": "overlay",
              "size": 10,
              "solidity": 0.2
             }
            },
            "type": "barpolar"
           }
          ],
          "carpet": [
           {
            "aaxis": {
             "endlinecolor": "#2a3f5f",
             "gridcolor": "white",
             "linecolor": "white",
             "minorgridcolor": "white",
             "startlinecolor": "#2a3f5f"
            },
            "baxis": {
             "endlinecolor": "#2a3f5f",
             "gridcolor": "white",
             "linecolor": "white",
             "minorgridcolor": "white",
             "startlinecolor": "#2a3f5f"
            },
            "type": "carpet"
           }
          ],
          "choropleth": [
           {
            "colorbar": {
             "outlinewidth": 0,
             "ticks": ""
            },
            "type": "choropleth"
           }
          ],
          "contour": [
           {
            "colorbar": {
             "outlinewidth": 0,
             "ticks": ""
            },
            "colorscale": [
             [
              0,
              "#0d0887"
             ],
             [
              0.1111111111111111,
              "#46039f"
             ],
             [
              0.2222222222222222,
              "#7201a8"
             ],
             [
              0.3333333333333333,
              "#9c179e"
             ],
             [
              0.4444444444444444,
              "#bd3786"
             ],
             [
              0.5555555555555556,
              "#d8576b"
             ],
             [
              0.6666666666666666,
              "#ed7953"
             ],
             [
              0.7777777777777778,
              "#fb9f3a"
             ],
             [
              0.8888888888888888,
              "#fdca26"
             ],
             [
              1,
              "#f0f921"
             ]
            ],
            "type": "contour"
           }
          ],
          "contourcarpet": [
           {
            "colorbar": {
             "outlinewidth": 0,
             "ticks": ""
            },
            "type": "contourcarpet"
           }
          ],
          "heatmap": [
           {
            "colorbar": {
             "outlinewidth": 0,
             "ticks": ""
            },
            "colorscale": [
             [
              0,
              "#0d0887"
             ],
             [
              0.1111111111111111,
              "#46039f"
             ],
             [
              0.2222222222222222,
              "#7201a8"
             ],
             [
              0.3333333333333333,
              "#9c179e"
             ],
             [
              0.4444444444444444,
              "#bd3786"
             ],
             [
              0.5555555555555556,
              "#d8576b"
             ],
             [
              0.6666666666666666,
              "#ed7953"
             ],
             [
              0.7777777777777778,
              "#fb9f3a"
             ],
             [
              0.8888888888888888,
              "#fdca26"
             ],
             [
              1,
              "#f0f921"
             ]
            ],
            "type": "heatmap"
           }
          ],
          "histogram": [
           {
            "marker": {
             "pattern": {
              "fillmode": "overlay",
              "size": 10,
              "solidity": 0.2
             }
            },
            "type": "histogram"
           }
          ],
          "histogram2d": [
           {
            "colorbar": {
             "outlinewidth": 0,
             "ticks": ""
            },
            "colorscale": [
             [
              0,
              "#0d0887"
             ],
             [
              0.1111111111111111,
              "#46039f"
             ],
             [
              0.2222222222222222,
              "#7201a8"
             ],
             [
              0.3333333333333333,
              "#9c179e"
             ],
             [
              0.4444444444444444,
              "#bd3786"
             ],
             [
              0.5555555555555556,
              "#d8576b"
             ],
             [
              0.6666666666666666,
              "#ed7953"
             ],
             [
              0.7777777777777778,
              "#fb9f3a"
             ],
             [
              0.8888888888888888,
              "#fdca26"
             ],
             [
              1,
              "#f0f921"
             ]
            ],
            "type": "histogram2d"
           }
          ],
          "histogram2dcontour": [
           {
            "colorbar": {
             "outlinewidth": 0,
             "ticks": ""
            },
            "colorscale": [
             [
              0,
              "#0d0887"
             ],
             [
              0.1111111111111111,
              "#46039f"
             ],
             [
              0.2222222222222222,
              "#7201a8"
             ],
             [
              0.3333333333333333,
              "#9c179e"
             ],
             [
              0.4444444444444444,
              "#bd3786"
             ],
             [
              0.5555555555555556,
              "#d8576b"
             ],
             [
              0.6666666666666666,
              "#ed7953"
             ],
             [
              0.7777777777777778,
              "#fb9f3a"
             ],
             [
              0.8888888888888888,
              "#fdca26"
             ],
             [
              1,
              "#f0f921"
             ]
            ],
            "type": "histogram2dcontour"
           }
          ],
          "mesh3d": [
           {
            "colorbar": {
             "outlinewidth": 0,
             "ticks": ""
            },
            "type": "mesh3d"
           }
          ],
          "parcoords": [
           {
            "line": {
             "colorbar": {
              "outlinewidth": 0,
              "ticks": ""
             }
            },
            "type": "parcoords"
           }
          ],
          "pie": [
           {
            "automargin": true,
            "type": "pie"
           }
          ],
          "scatter": [
           {
            "fillpattern": {
             "fillmode": "overlay",
             "size": 10,
             "solidity": 0.2
            },
            "type": "scatter"
           }
          ],
          "scatter3d": [
           {
            "line": {
             "colorbar": {
              "outlinewidth": 0,
              "ticks": ""
             }
            },
            "marker": {
             "colorbar": {
              "outlinewidth": 0,
              "ticks": ""
             }
            },
            "type": "scatter3d"
           }
          ],
          "scattercarpet": [
           {
            "marker": {
             "colorbar": {
              "outlinewidth": 0,
              "ticks": ""
             }
            },
            "type": "scattercarpet"
           }
          ],
          "scattergeo": [
           {
            "marker": {
             "colorbar": {
              "outlinewidth": 0,
              "ticks": ""
             }
            },
            "type": "scattergeo"
           }
          ],
          "scattergl": [
           {
            "marker": {
             "colorbar": {
              "outlinewidth": 0,
              "ticks": ""
             }
            },
            "type": "scattergl"
           }
          ],
          "scattermap": [
           {
            "marker": {
             "colorbar": {
              "outlinewidth": 0,
              "ticks": ""
             }
            },
            "type": "scattermap"
           }
          ],
          "scattermapbox": [
           {
            "marker": {
             "colorbar": {
              "outlinewidth": 0,
              "ticks": ""
             }
            },
            "type": "scattermapbox"
           }
          ],
          "scatterpolar": [
           {
            "marker": {
             "colorbar": {
              "outlinewidth": 0,
              "ticks": ""
             }
            },
            "type": "scatterpolar"
           }
          ],
          "scatterpolargl": [
           {
            "marker": {
             "colorbar": {
              "outlinewidth": 0,
              "ticks": ""
             }
            },
            "type": "scatterpolargl"
           }
          ],
          "scatterternary": [
           {
            "marker": {
             "colorbar": {
              "outlinewidth": 0,
              "ticks": ""
             }
            },
            "type": "scatterternary"
           }
          ],
          "surface": [
           {
            "colorbar": {
             "outlinewidth": 0,
             "ticks": ""
            },
            "colorscale": [
             [
              0,
              "#0d0887"
             ],
             [
              0.1111111111111111,
              "#46039f"
             ],
             [
              0.2222222222222222,
              "#7201a8"
             ],
             [
              0.3333333333333333,
              "#9c179e"
             ],
             [
              0.4444444444444444,
              "#bd3786"
             ],
             [
              0.5555555555555556,
              "#d8576b"
             ],
             [
              0.6666666666666666,
              "#ed7953"
             ],
             [
              0.7777777777777778,
              "#fb9f3a"
             ],
             [
              0.8888888888888888,
              "#fdca26"
             ],
             [
              1,
              "#f0f921"
             ]
            ],
            "type": "surface"
           }
          ],
          "table": [
           {
            "cells": {
             "fill": {
              "color": "#EBF0F8"
             },
             "line": {
              "color": "white"
             }
            },
            "header": {
             "fill": {
              "color": "#C8D4E3"
             },
             "line": {
              "color": "white"
             }
            },
            "type": "table"
           }
          ]
         },
         "layout": {
          "annotationdefaults": {
           "arrowcolor": "#2a3f5f",
           "arrowhead": 0,
           "arrowwidth": 1
          },
          "autotypenumbers": "strict",
          "coloraxis": {
           "colorbar": {
            "outlinewidth": 0,
            "ticks": ""
           }
          },
          "colorscale": {
           "diverging": [
            [
             0,
             "#8e0152"
            ],
            [
             0.1,
             "#c51b7d"
            ],
            [
             0.2,
             "#de77ae"
            ],
            [
             0.3,
             "#f1b6da"
            ],
            [
             0.4,
             "#fde0ef"
            ],
            [
             0.5,
             "#f7f7f7"
            ],
            [
             0.6,
             "#e6f5d0"
            ],
            [
             0.7,
             "#b8e186"
            ],
            [
             0.8,
             "#7fbc41"
            ],
            [
             0.9,
             "#4d9221"
            ],
            [
             1,
             "#276419"
            ]
           ],
           "sequential": [
            [
             0,
             "#0d0887"
            ],
            [
             0.1111111111111111,
             "#46039f"
            ],
            [
             0.2222222222222222,
             "#7201a8"
            ],
            [
             0.3333333333333333,
             "#9c179e"
            ],
            [
             0.4444444444444444,
             "#bd3786"
            ],
            [
             0.5555555555555556,
             "#d8576b"
            ],
            [
             0.6666666666666666,
             "#ed7953"
            ],
            [
             0.7777777777777778,
             "#fb9f3a"
            ],
            [
             0.8888888888888888,
             "#fdca26"
            ],
            [
             1,
             "#f0f921"
            ]
           ],
           "sequentialminus": [
            [
             0,
             "#0d0887"
            ],
            [
             0.1111111111111111,
             "#46039f"
            ],
            [
             0.2222222222222222,
             "#7201a8"
            ],
            [
             0.3333333333333333,
             "#9c179e"
            ],
            [
             0.4444444444444444,
             "#bd3786"
            ],
            [
             0.5555555555555556,
             "#d8576b"
            ],
            [
             0.6666666666666666,
             "#ed7953"
            ],
            [
             0.7777777777777778,
             "#fb9f3a"
            ],
            [
             0.8888888888888888,
             "#fdca26"
            ],
            [
             1,
             "#f0f921"
            ]
           ]
          },
          "colorway": [
           "#636efa",
           "#EF553B",
           "#00cc96",
           "#ab63fa",
           "#FFA15A",
           "#19d3f3",
           "#FF6692",
           "#B6E880",
           "#FF97FF",
           "#FECB52"
          ],
          "font": {
           "color": "#2a3f5f"
          },
          "geo": {
           "bgcolor": "white",
           "lakecolor": "white",
           "landcolor": "#E5ECF6",
           "showlakes": true,
           "showland": true,
           "subunitcolor": "white"
          },
          "hoverlabel": {
           "align": "left"
          },
          "hovermode": "closest",
          "mapbox": {
           "style": "light"
          },
          "paper_bgcolor": "white",
          "plot_bgcolor": "#E5ECF6",
          "polar": {
           "angularaxis": {
            "gridcolor": "white",
            "linecolor": "white",
            "ticks": ""
           },
           "bgcolor": "#E5ECF6",
           "radialaxis": {
            "gridcolor": "white",
            "linecolor": "white",
            "ticks": ""
           }
          },
          "scene": {
           "xaxis": {
            "backgroundcolor": "#E5ECF6",
            "gridcolor": "white",
            "gridwidth": 2,
            "linecolor": "white",
            "showbackground": true,
            "ticks": "",
            "zerolinecolor": "white"
           },
           "yaxis": {
            "backgroundcolor": "#E5ECF6",
            "gridcolor": "white",
            "gridwidth": 2,
            "linecolor": "white",
            "showbackground": true,
            "ticks": "",
            "zerolinecolor": "white"
           },
           "zaxis": {
            "backgroundcolor": "#E5ECF6",
            "gridcolor": "white",
            "gridwidth": 2,
            "linecolor": "white",
            "showbackground": true,
            "ticks": "",
            "zerolinecolor": "white"
           }
          },
          "shapedefaults": {
           "line": {
            "color": "#2a3f5f"
           }
          },
          "ternary": {
           "aaxis": {
            "gridcolor": "white",
            "linecolor": "white",
            "ticks": ""
           },
           "baxis": {
            "gridcolor": "white",
            "linecolor": "white",
            "ticks": ""
           },
           "bgcolor": "#E5ECF6",
           "caxis": {
            "gridcolor": "white",
            "linecolor": "white",
            "ticks": ""
           }
          },
          "title": {
           "x": 0.05
          },
          "xaxis": {
           "automargin": true,
           "gridcolor": "white",
           "linecolor": "white",
           "ticks": "",
           "title": {
            "standoff": 15
           },
           "zerolinecolor": "white",
           "zerolinewidth": 2
          },
          "yaxis": {
           "automargin": true,
           "gridcolor": "white",
           "linecolor": "white",
           "ticks": "",
           "title": {
            "standoff": 15
           },
           "zerolinecolor": "white",
           "zerolinewidth": 2
          }
         }
        },
        "title": {
         "text": "Hyperparameter Importances"
        },
        "xaxis": {
         "title": {
          "text": "Hyperparameter Importance"
         }
        },
        "yaxis": {
         "title": {
          "text": "Hyperparameter"
         }
        }
       }
      }
     },
     "metadata": {},
     "output_type": "display_data"
    }
   ],
   "source": [
    "optuna.visualization.plot_param_importances(study)"
   ]
  },
  {
   "cell_type": "code",
   "execution_count": 48,
   "metadata": {},
   "outputs": [],
   "source": [
    "best_alpha = best_params['alpha']\n",
    "best_l1_ratio = best_params['l1_ratio']\n",
    "best_fit_intercept = best_params['fit_intercept']\n",
    "best_max_iter = best_params['max_iter']\n",
    "\n",
    "\n"
   ]
  },
  {
   "cell_type": "code",
   "execution_count": 49,
   "metadata": {},
   "outputs": [],
   "source": [
    "numeric_pipeline_elastic = Pipeline([\n",
    "    ('imputer', SimpleImputer(strategy='mean')),\n",
    "        ('poly', PolynomialFeatures(degree=5, include_bias=False)),\n",
    "        ('scaler',StandardScaler(with_mean=False))\n",
    "])\n",
    "\n",
    "categorical_pipeline_elastic = Pipeline([\n",
    "    ('imputer', SimpleImputer(strategy='most_frequent')),\n",
    "    ('onehot',  OneHotEncoder(handle_unknown='ignore', sparse_output=False,drop='first')),\n",
    "])\n",
    "\n",
    "preprocessor = ColumnTransformer([\n",
    "    ('num', numeric_pipeline_elastic,      num_cols),\n",
    "    ('cat', categorical_pipeline_elastic,  cat_cols),\n",
    "],\n",
    "remainder='passthrough')\n",
    "\n",
    "elastic = Pipeline([\n",
    "    ('prepoc',preprocessor),\n",
    "        ('est', ElasticNet(\n",
    "            alpha=best_alpha,\n",
    "            l1_ratio=best_l1_ratio,\n",
    "            fit_intercept=best_fit_intercept,\n",
    "            max_iter=best_max_iter,\n",
    "            random_state=42\n",
    "        )),\n",
    "    \n",
    "])"
   ]
  },
  {
   "cell_type": "code",
   "execution_count": 105,
   "metadata": {},
   "outputs": [
    {
     "name": "stdout",
     "output_type": "stream",
     "text": [
      "Elastic Net Regressor CV results:\n",
      "[0.00345792 0.00345615 0.00348472 0.00292266 0.00306042]\n",
      "RMSE: 0.00 +/- 0.00\n",
      "\n"
     ]
    },
    {
     "name": "stderr",
     "output_type": "stream",
     "text": [
      "/Users/jgfaraco/miniconda3/lib/python3.12/site-packages/sklearn/linear_model/_coordinate_descent.py:695: ConvergenceWarning: Objective did not converge. You might want to increase the number of iterations, check the scale of the features or consider increasing regularisation. Duality gap: 5.200e-03, tolerance: 3.475e-03\n",
      "  model = cd_fast.enet_coordinate_descent(\n",
      "/Users/jgfaraco/miniconda3/lib/python3.12/site-packages/sklearn/linear_model/_coordinate_descent.py:695: ConvergenceWarning: Objective did not converge. You might want to increase the number of iterations, check the scale of the features or consider increasing regularisation. Duality gap: 5.695e-03, tolerance: 3.519e-03\n",
      "  model = cd_fast.enet_coordinate_descent(\n",
      "/Users/jgfaraco/miniconda3/lib/python3.12/site-packages/sklearn/linear_model/_coordinate_descent.py:695: ConvergenceWarning: Objective did not converge. You might want to increase the number of iterations, check the scale of the features or consider increasing regularisation. Duality gap: 6.598e-03, tolerance: 3.549e-03\n",
      "  model = cd_fast.enet_coordinate_descent(\n"
     ]
    }
   ],
   "source": [
    "est_cv = cross_val_score(\n",
    "        elastic, X_train, y_train,\n",
    "        cv=5,\n",
    "        scoring='neg_mean_squared_error',\n",
    "        n_jobs=-1\n",
    "    )\n",
    "print_cv_results('Elastic Net Regressor',est_cv)"
   ]
  },
  {
   "cell_type": "code",
   "execution_count": 51,
   "metadata": {},
   "outputs": [],
   "source": [
    "result['ElsticNet'] = est_cv"
   ]
  },
  {
   "cell_type": "markdown",
   "metadata": {},
   "source": [
    "# Random Forest Regressor"
   ]
  },
  {
   "cell_type": "code",
   "execution_count": 52,
   "metadata": {},
   "outputs": [],
   "source": [
    "from sklearn.ensemble import RandomForestRegressor"
   ]
  },
  {
   "cell_type": "code",
   "execution_count": 53,
   "metadata": {},
   "outputs": [],
   "source": [
    "def objective(trial): \n",
    "    n_estimators = trial.suggest_int('n_estimators', 100, 1000)\n",
    "    max_depth = trial.suggest_int('max_depth', 10, 50) \n",
    "    min_samples_split = trial.suggest_int('min_samples_split', 2, 32) \n",
    "    min_samples_leaf = trial.suggest_int('min_samples_leaf', 1, 32) \n",
    "\n",
    "    num_steps = [\n",
    "        ('imputer', SimpleImputer(strategy='mean'))\n",
    "    ]\n",
    "    poly_degree   = trial.suggest_int('poly_degree',1,3)\n",
    "\n",
    "    num_steps = [('imputer', SimpleImputer(strategy='mean'))]\n",
    "    \n",
    "    num_steps.append(('poly',\n",
    "                      PolynomialFeatures(degree=poly_degree,\n",
    "                                         include_bias=False)))\n",
    "            \n",
    "    numeric_pipeline = Pipeline(num_steps)\n",
    "\n",
    "    categorical_pipeline = Pipeline([\n",
    "        ('imputer', SimpleImputer(strategy='most_frequent')),\n",
    "        ('onehot',  OneHotEncoder(handle_unknown='ignore',\n",
    "                                  sparse_output=False,\n",
    "                                  drop='first')),\n",
    "    ])\n",
    "\n",
    "    preprocessor = ColumnTransformer(\n",
    "        [\n",
    "            ('num', numeric_pipeline,      num_cols),\n",
    "            ('cat', categorical_pipeline,  cat_cols),\n",
    "        ],\n",
    "        remainder='passthrough'\n",
    "    )\n",
    "    model = Pipeline([\n",
    "        ('preproc', preprocessor),\n",
    "        ('randomforest', RandomForestRegressor(\n",
    "        n_estimators=n_estimators, \n",
    "        max_depth=max_depth, \n",
    "        min_samples_split=min_samples_split, \n",
    "        min_samples_leaf=min_samples_leaf,\n",
    "        random_state=42\n",
    "        )),\n",
    "    ])\n",
    "\n",
    "    neg_mse = cross_val_score(\n",
    "        model, X_train, y_train,\n",
    "        cv=5,\n",
    "        scoring='neg_mean_squared_error',\n",
    "        n_jobs=-1\n",
    "    ).mean()\n",
    "\n",
    "    return neg_mse"
   ]
  },
  {
   "cell_type": "code",
   "execution_count": 54,
   "metadata": {},
   "outputs": [
    {
     "name": "stderr",
     "output_type": "stream",
     "text": [
      "[I 2025-05-17 10:23:19,168] A new study created in memory with name: no-name-799538ee-3f99-431b-98d0-603fb74e4d6f\n"
     ]
    }
   ],
   "source": [
    "study = optuna.create_study(direction='maximize', sampler=optuna.samplers.RandomSampler(seed=42)) "
   ]
  },
  {
   "cell_type": "code",
   "execution_count": 55,
   "metadata": {},
   "outputs": [
    {
     "name": "stderr",
     "output_type": "stream",
     "text": [
      "[I 2025-05-17 10:23:21,526] Trial 0 finished with value: -0.004594551395352957 and parameters: {'n_estimators': 437, 'max_depth': 48, 'min_samples_split': 24, 'min_samples_leaf': 20, 'poly_degree': 1}. Best is trial 0 with value: -0.004594551395352957.\n",
      "[I 2025-05-17 10:23:27,445] Trial 1 finished with value: -0.00445005723682228 and parameters: {'n_estimators': 240, 'max_depth': 12, 'min_samples_split': 28, 'min_samples_leaf': 20, 'poly_degree': 3}. Best is trial 1 with value: -0.00445005723682228.\n",
      "[I 2025-05-17 10:23:28,266] Trial 2 finished with value: -0.004058536747106786 and parameters: {'n_estimators': 118, 'max_depth': 49, 'min_samples_split': 27, 'min_samples_leaf': 7, 'poly_degree': 1}. Best is trial 2 with value: -0.004058536747106786.\n",
      "[I 2025-05-17 10:23:29,866] Trial 3 finished with value: -0.0043284876421504324 and parameters: {'n_estimators': 265, 'max_depth': 22, 'min_samples_split': 18, 'min_samples_leaf': 14, 'poly_degree': 1}. Best is trial 2 with value: -0.004058536747106786.\n",
      "[I 2025-05-17 10:23:38,380] Trial 4 finished with value: -0.004183290625063006 and parameters: {'n_estimators': 651, 'max_depth': 15, 'min_samples_split': 11, 'min_samples_leaf': 12, 'poly_degree': 2}. Best is trial 2 with value: -0.004058536747106786.\n",
      "[I 2025-05-17 10:23:42,898] Trial 5 finished with value: -0.004553221088905075 and parameters: {'n_estimators': 807, 'max_depth': 18, 'min_samples_split': 17, 'min_samples_leaf': 19, 'poly_degree': 1}. Best is trial 2 with value: -0.004058536747106786.\n",
      "[I 2025-05-17 10:23:56,462] Trial 6 finished with value: -0.004752593016742568 and parameters: {'n_estimators': 647, 'max_depth': 16, 'min_samples_split': 4, 'min_samples_leaf': 31, 'poly_degree': 3}. Best is trial 2 with value: -0.004058536747106786.\n",
      "[I 2025-05-17 10:24:05,632] Trial 7 finished with value: -0.0045265697890884546 and parameters: {'n_estimators': 828, 'max_depth': 22, 'min_samples_split': 5, 'min_samples_leaf': 22, 'poly_degree': 2}. Best is trial 2 with value: -0.004058536747106786.\n",
      "[I 2025-05-17 10:24:06,674] Trial 8 finished with value: -0.0049650941125509804 and parameters: {'n_estimators': 209, 'max_depth': 30, 'min_samples_split': 3, 'min_samples_leaf': 30, 'poly_degree': 1}. Best is trial 2 with value: -0.004058536747106786.\n",
      "[I 2025-05-17 10:24:10,671] Trial 9 finished with value: -0.004511488831826607 and parameters: {'n_estimators': 696, 'max_depth': 22, 'min_samples_split': 18, 'min_samples_leaf': 18, 'poly_degree': 1}. Best is trial 2 with value: -0.004058536747106786.\n",
      "[I 2025-05-17 10:24:20,651] Trial 10 finished with value: -0.004743798419693218 and parameters: {'n_estimators': 973, 'max_depth': 41, 'min_samples_split': 31, 'min_samples_leaf': 29, 'poly_degree': 2}. Best is trial 2 with value: -0.004058536747106786.\n",
      "[I 2025-05-17 10:24:29,117] Trial 11 finished with value: -0.0036241239095552704 and parameters: {'n_estimators': 930, 'max_depth': 13, 'min_samples_split': 8, 'min_samples_leaf': 2, 'poly_degree': 1}. Best is trial 11 with value: -0.0036241239095552704.\n",
      "[I 2025-05-17 10:24:32,275] Trial 12 finished with value: -0.00423796605303529 and parameters: {'n_estimators': 450, 'max_depth': 21, 'min_samples_split': 27, 'min_samples_leaf': 12, 'poly_degree': 1}. Best is trial 11 with value: -0.0036241239095552704.\n",
      "[I 2025-05-17 10:24:51,585] Trial 13 finished with value: -0.0038484038244531297 and parameters: {'n_estimators': 588, 'max_depth': 15, 'min_samples_split': 26, 'min_samples_leaf': 3, 'poly_degree': 3}. Best is trial 11 with value: -0.0036241239095552704.\n",
      "[I 2025-05-17 10:25:09,444] Trial 14 finished with value: -0.004657842470939627 and parameters: {'n_estimators': 795, 'max_depth': 18, 'min_samples_split': 2, 'min_samples_leaf': 27, 'poly_degree': 3}. Best is trial 11 with value: -0.0036241239095552704.\n",
      "[I 2025-05-17 10:25:14,322] Trial 15 finished with value: -0.004210746383528692 and parameters: {'n_estimators': 756, 'max_depth': 41, 'min_samples_split': 4, 'min_samples_leaf': 12, 'poly_degree': 1}. Best is trial 11 with value: -0.0036241239095552704.\n",
      "[I 2025-05-17 10:25:21,451] Trial 16 finished with value: -0.003699951970753031 and parameters: {'n_estimators': 877, 'max_depth': 35, 'min_samples_split': 12, 'min_samples_leaf': 3, 'poly_degree': 1}. Best is trial 11 with value: -0.0036241239095552704.\n",
      "[I 2025-05-17 10:25:25,637] Trial 17 finished with value: -0.004750202721177706 and parameters: {'n_estimators': 392, 'max_depth': 39, 'min_samples_split': 21, 'min_samples_leaf': 29, 'poly_degree': 2}. Best is trial 11 with value: -0.0036241239095552704.\n",
      "[I 2025-05-17 10:25:30,877] Trial 18 finished with value: -0.004397882523599809 and parameters: {'n_estimators': 207, 'max_depth': 39, 'min_samples_split': 25, 'min_samples_leaf': 18, 'poly_degree': 3}. Best is trial 11 with value: -0.0036241239095552704.\n",
      "[I 2025-05-17 10:25:35,558] Trial 19 finished with value: -0.003646923723671687 and parameters: {'n_estimators': 544, 'max_depth': 31, 'min_samples_split': 15, 'min_samples_leaf': 1, 'poly_degree': 1}. Best is trial 11 with value: -0.0036241239095552704.\n",
      "[I 2025-05-17 10:25:39,004] Trial 20 finished with value: -0.004364823260928246 and parameters: {'n_estimators': 128, 'max_depth': 36, 'min_samples_split': 11, 'min_samples_leaf': 17, 'poly_degree': 3}. Best is trial 11 with value: -0.0036241239095552704.\n",
      "[I 2025-05-17 10:25:41,133] Trial 21 finished with value: -0.004047212675755267 and parameters: {'n_estimators': 324, 'max_depth': 26, 'min_samples_split': 25, 'min_samples_leaf': 8, 'poly_degree': 1}. Best is trial 11 with value: -0.0036241239095552704.\n",
      "[I 2025-05-17 10:25:45,010] Trial 22 finished with value: -0.004665998136968649 and parameters: {'n_estimators': 361, 'max_depth': 16, 'min_samples_split': 30, 'min_samples_leaf': 26, 'poly_degree': 2}. Best is trial 11 with value: -0.0036241239095552704.\n",
      "[I 2025-05-17 10:25:54,188] Trial 23 finished with value: -0.0047440848008879705 and parameters: {'n_estimators': 885, 'max_depth': 42, 'min_samples_split': 7, 'min_samples_leaf': 29, 'poly_degree': 2}. Best is trial 11 with value: -0.0036241239095552704.\n",
      "[I 2025-05-17 10:26:00,691] Trial 24 finished with value: -0.0037420685408213203 and parameters: {'n_estimators': 827, 'max_depth': 46, 'min_samples_split': 11, 'min_samples_leaf': 4, 'poly_degree': 1}. Best is trial 11 with value: -0.0036241239095552704.\n",
      "[I 2025-05-17 10:26:08,634] Trial 25 finished with value: -0.003787512639792699 and parameters: {'n_estimators': 484, 'max_depth': 43, 'min_samples_split': 28, 'min_samples_leaf': 1, 'poly_degree': 2}. Best is trial 11 with value: -0.0036241239095552704.\n",
      "[I 2025-05-17 10:26:22,218] Trial 26 finished with value: -0.004118510967973881 and parameters: {'n_estimators': 476, 'max_depth': 19, 'min_samples_split': 5, 'min_samples_leaf': 11, 'poly_degree': 3}. Best is trial 11 with value: -0.0036241239095552704.\n",
      "[I 2025-05-17 10:26:33,098] Trial 27 finished with value: -0.004160503256980205 and parameters: {'n_estimators': 391, 'max_depth': 31, 'min_samples_split': 23, 'min_samples_leaf': 12, 'poly_degree': 3}. Best is trial 11 with value: -0.0036241239095552704.\n",
      "[I 2025-05-17 10:26:39,327] Trial 28 finished with value: -0.004103566314335629 and parameters: {'n_estimators': 967, 'max_depth': 20, 'min_samples_split': 17, 'min_samples_leaf': 10, 'poly_degree': 1}. Best is trial 11 with value: -0.0036241239095552704.\n",
      "[I 2025-05-17 10:26:40,438] Trial 29 finished with value: -0.003718858295860096 and parameters: {'n_estimators': 133, 'max_depth': 34, 'min_samples_split': 17, 'min_samples_leaf': 2, 'poly_degree': 1}. Best is trial 11 with value: -0.0036241239095552704.\n",
      "[I 2025-05-17 10:27:03,923] Trial 30 finished with value: -0.004308673297306304 and parameters: {'n_estimators': 918, 'max_depth': 19, 'min_samples_split': 6, 'min_samples_leaf': 16, 'poly_degree': 3}. Best is trial 11 with value: -0.0036241239095552704.\n",
      "[I 2025-05-17 10:27:13,264] Trial 31 finished with value: -0.004040042246262891 and parameters: {'n_estimators': 318, 'max_depth': 37, 'min_samples_split': 25, 'min_samples_leaf': 8, 'poly_degree': 3}. Best is trial 11 with value: -0.0036241239095552704.\n",
      "[I 2025-05-17 10:27:15,903] Trial 32 finished with value: -0.0045201174042033086 and parameters: {'n_estimators': 431, 'max_depth': 35, 'min_samples_split': 21, 'min_samples_leaf': 18, 'poly_degree': 1}. Best is trial 11 with value: -0.0036241239095552704.\n",
      "[I 2025-05-17 10:27:32,998] Trial 33 finished with value: -0.0037008362865401296 and parameters: {'n_estimators': 852, 'max_depth': 23, 'min_samples_split': 7, 'min_samples_leaf': 2, 'poly_degree': 2}. Best is trial 11 with value: -0.0036241239095552704.\n",
      "[I 2025-05-17 10:27:43,963] Trial 34 finished with value: -0.0040183997603309585 and parameters: {'n_estimators': 710, 'max_depth': 10, 'min_samples_split': 17, 'min_samples_leaf': 8, 'poly_degree': 2}. Best is trial 11 with value: -0.0036241239095552704.\n",
      "[I 2025-05-17 10:27:45,533] Trial 35 finished with value: -0.004956182464025692 and parameters: {'n_estimators': 257, 'max_depth': 38, 'min_samples_split': 13, 'min_samples_leaf': 30, 'poly_degree': 1}. Best is trial 11 with value: -0.0036241239095552704.\n",
      "[I 2025-05-17 10:27:47,771] Trial 36 finished with value: -0.004943134212086205 and parameters: {'n_estimators': 407, 'max_depth': 14, 'min_samples_split': 30, 'min_samples_leaf': 29, 'poly_degree': 1}. Best is trial 11 with value: -0.0036241239095552704.\n",
      "[I 2025-05-17 10:27:52,123] Trial 37 finished with value: -0.004468129233600823 and parameters: {'n_estimators': 694, 'max_depth': 43, 'min_samples_split': 19, 'min_samples_leaf': 17, 'poly_degree': 1}. Best is trial 11 with value: -0.0036241239095552704.\n",
      "[I 2025-05-17 10:27:54,337] Trial 38 finished with value: -0.004513800793204421 and parameters: {'n_estimators': 183, 'max_depth': 46, 'min_samples_split': 29, 'min_samples_leaf': 21, 'poly_degree': 2}. Best is trial 11 with value: -0.0036241239095552704.\n",
      "[I 2025-05-17 10:28:03,427] Trial 39 finished with value: -0.004711295213480037 and parameters: {'n_estimators': 414, 'max_depth': 39, 'min_samples_split': 29, 'min_samples_leaf': 29, 'poly_degree': 3}. Best is trial 11 with value: -0.0036241239095552704.\n",
      "[I 2025-05-17 10:28:10,426] Trial 40 finished with value: -0.004741287526160515 and parameters: {'n_estimators': 678, 'max_depth': 13, 'min_samples_split': 7, 'min_samples_leaf': 29, 'poly_degree': 2}. Best is trial 11 with value: -0.0036241239095552704.\n",
      "[I 2025-05-17 10:28:11,371] Trial 41 finished with value: -0.003765482425461649 and parameters: {'n_estimators': 108, 'max_depth': 14, 'min_samples_split': 22, 'min_samples_leaf': 1, 'poly_degree': 1}. Best is trial 11 with value: -0.0036241239095552704.\n",
      "[I 2025-05-17 10:28:29,236] Trial 42 finished with value: -0.0040104842807829385 and parameters: {'n_estimators': 594, 'max_depth': 38, 'min_samples_split': 22, 'min_samples_leaf': 8, 'poly_degree': 3}. Best is trial 11 with value: -0.0036241239095552704.\n",
      "[I 2025-05-17 10:28:36,627] Trial 43 finished with value: -0.004483430380542613 and parameters: {'n_estimators': 313, 'max_depth': 23, 'min_samples_split': 25, 'min_samples_leaf': 21, 'poly_degree': 3}. Best is trial 11 with value: -0.0036241239095552704.\n",
      "[I 2025-05-17 10:28:40,895] Trial 44 finished with value: -0.004212100292250278 and parameters: {'n_estimators': 692, 'max_depth': 33, 'min_samples_split': 4, 'min_samples_leaf': 12, 'poly_degree': 1}. Best is trial 11 with value: -0.0036241239095552704.\n",
      "[I 2025-05-17 10:28:44,255] Trial 45 finished with value: -0.004757097775829026 and parameters: {'n_estimators': 319, 'max_depth': 49, 'min_samples_split': 14, 'min_samples_leaf': 29, 'poly_degree': 2}. Best is trial 11 with value: -0.0036241239095552704.\n",
      "[I 2025-05-17 10:28:48,936] Trial 46 finished with value: -0.004424183195551325 and parameters: {'n_estimators': 816, 'max_depth': 30, 'min_samples_split': 19, 'min_samples_leaf': 16, 'poly_degree': 1}. Best is trial 11 with value: -0.0036241239095552704.\n",
      "[I 2025-05-17 10:28:53,015] Trial 47 finished with value: -0.004625494691963314 and parameters: {'n_estimators': 750, 'max_depth': 21, 'min_samples_split': 2, 'min_samples_leaf': 21, 'poly_degree': 1}. Best is trial 11 with value: -0.0036241239095552704.\n",
      "[I 2025-05-17 10:28:58,780] Trial 48 finished with value: -0.004262157234587121 and parameters: {'n_estimators': 947, 'max_depth': 49, 'min_samples_split': 30, 'min_samples_leaf': 12, 'poly_degree': 1}. Best is trial 11 with value: -0.0036241239095552704.\n",
      "[I 2025-05-17 10:29:18,945] Trial 49 finished with value: -0.004757518699032693 and parameters: {'n_estimators': 936, 'max_depth': 27, 'min_samples_split': 31, 'min_samples_leaf': 31, 'poly_degree': 3}. Best is trial 11 with value: -0.0036241239095552704.\n",
      "[I 2025-05-17 10:29:21,885] Trial 50 finished with value: -0.00420719590181459 and parameters: {'n_estimators': 365, 'max_depth': 25, 'min_samples_split': 28, 'min_samples_leaf': 11, 'poly_degree': 1}. Best is trial 11 with value: -0.0036241239095552704.\n",
      "[I 2025-05-17 10:29:26,142] Trial 51 finished with value: -0.004551262325236609 and parameters: {'n_estimators': 601, 'max_depth': 48, 'min_samples_split': 23, 'min_samples_leaf': 19, 'poly_degree': 1}. Best is trial 11 with value: -0.0036241239095552704.\n",
      "[I 2025-05-17 10:29:46,529] Trial 52 finished with value: -0.004340342726652274 and parameters: {'n_estimators': 654, 'max_depth': 50, 'min_samples_split': 6, 'min_samples_leaf': 17, 'poly_degree': 3}. Best is trial 11 with value: -0.0036241239095552704.\n",
      "[I 2025-05-17 10:29:52,459] Trial 53 finished with value: -0.004210813379472086 and parameters: {'n_estimators': 767, 'max_depth': 38, 'min_samples_split': 23, 'min_samples_leaf': 12, 'poly_degree': 1}. Best is trial 11 with value: -0.0036241239095552704.\n",
      "[I 2025-05-17 10:30:01,996] Trial 54 finished with value: -0.0047646857387594 and parameters: {'n_estimators': 829, 'max_depth': 43, 'min_samples_split': 28, 'min_samples_leaf': 30, 'poly_degree': 2}. Best is trial 11 with value: -0.0036241239095552704.\n",
      "[I 2025-05-17 10:30:14,975] Trial 55 finished with value: -0.0045288470738796965 and parameters: {'n_estimators': 551, 'max_depth': 42, 'min_samples_split': 22, 'min_samples_leaf': 23, 'poly_degree': 3}. Best is trial 11 with value: -0.0036241239095552704.\n",
      "[I 2025-05-17 10:30:30,292] Trial 56 finished with value: -0.003830272958938894 and parameters: {'n_estimators': 901, 'max_depth': 23, 'min_samples_split': 13, 'min_samples_leaf': 4, 'poly_degree': 2}. Best is trial 11 with value: -0.0036241239095552704.\n",
      "[I 2025-05-17 10:30:32,156] Trial 57 finished with value: -0.004116116846955406 and parameters: {'n_estimators': 132, 'max_depth': 29, 'min_samples_split': 18, 'min_samples_leaf': 10, 'poly_degree': 2}. Best is trial 11 with value: -0.0036241239095552704.\n",
      "[I 2025-05-17 10:30:33,014] Trial 58 finished with value: -0.004249866429755013 and parameters: {'n_estimators': 127, 'max_depth': 11, 'min_samples_split': 27, 'min_samples_leaf': 12, 'poly_degree': 1}. Best is trial 11 with value: -0.0036241239095552704.\n",
      "[I 2025-05-17 10:30:36,287] Trial 59 finished with value: -0.004587395891737641 and parameters: {'n_estimators': 570, 'max_depth': 41, 'min_samples_split': 8, 'min_samples_leaf': 20, 'poly_degree': 1}. Best is trial 11 with value: -0.0036241239095552704.\n",
      "[I 2025-05-17 10:30:39,910] Trial 60 finished with value: -0.0045081954299406694 and parameters: {'n_estimators': 146, 'max_depth': 31, 'min_samples_split': 18, 'min_samples_leaf': 21, 'poly_degree': 3}. Best is trial 11 with value: -0.0036241239095552704.\n",
      "[I 2025-05-17 10:30:44,997] Trial 61 finished with value: -0.004841108466619399 and parameters: {'n_estimators': 979, 'max_depth': 31, 'min_samples_split': 12, 'min_samples_leaf': 26, 'poly_degree': 1}. Best is trial 11 with value: -0.0036241239095552704.\n",
      "[I 2025-05-17 10:30:55,668] Trial 62 finished with value: -0.004755588076602587 and parameters: {'n_estimators': 495, 'max_depth': 13, 'min_samples_split': 2, 'min_samples_leaf': 31, 'poly_degree': 3}. Best is trial 11 with value: -0.0036241239095552704.\n",
      "[I 2025-05-17 10:31:01,729] Trial 63 finished with value: -0.0038401537111226666 and parameters: {'n_estimators': 727, 'max_depth': 26, 'min_samples_split': 7, 'min_samples_leaf': 6, 'poly_degree': 1}. Best is trial 11 with value: -0.0036241239095552704.\n",
      "[I 2025-05-17 10:31:20,945] Trial 64 finished with value: -0.004043996417206556 and parameters: {'n_estimators': 594, 'max_depth': 39, 'min_samples_split': 22, 'min_samples_leaf': 9, 'poly_degree': 3}. Best is trial 11 with value: -0.0036241239095552704.\n",
      "[I 2025-05-17 10:31:26,165] Trial 65 finished with value: -0.004317885235430334 and parameters: {'n_estimators': 764, 'max_depth': 32, 'min_samples_split': 20, 'min_samples_leaf': 14, 'poly_degree': 1}. Best is trial 11 with value: -0.0036241239095552704.\n",
      "[I 2025-05-17 10:31:30,257] Trial 66 finished with value: -0.0037250783401068356 and parameters: {'n_estimators': 420, 'max_depth': 41, 'min_samples_split': 2, 'min_samples_leaf': 4, 'poly_degree': 1}. Best is trial 11 with value: -0.0036241239095552704.\n",
      "[I 2025-05-17 10:31:31,213] Trial 67 finished with value: -0.004454595458699508 and parameters: {'n_estimators': 136, 'max_depth': 45, 'min_samples_split': 23, 'min_samples_leaf': 16, 'poly_degree': 1}. Best is trial 11 with value: -0.0036241239095552704.\n",
      "[I 2025-05-17 10:31:38,834] Trial 68 finished with value: -0.004266073711332451 and parameters: {'n_estimators': 542, 'max_depth': 29, 'min_samples_split': 7, 'min_samples_leaf': 14, 'poly_degree': 2}. Best is trial 11 with value: -0.0036241239095552704.\n",
      "[I 2025-05-17 10:31:48,489] Trial 69 finished with value: -0.004183254616338565 and parameters: {'n_estimators': 654, 'max_depth': 36, 'min_samples_split': 3, 'min_samples_leaf': 12, 'poly_degree': 2}. Best is trial 11 with value: -0.0036241239095552704.\n",
      "[I 2025-05-17 10:31:53,001] Trial 70 finished with value: -0.003922438576230307 and parameters: {'n_estimators': 553, 'max_depth': 45, 'min_samples_split': 22, 'min_samples_leaf': 6, 'poly_degree': 1}. Best is trial 11 with value: -0.0036241239095552704.\n",
      "[I 2025-05-17 10:31:59,634] Trial 71 finished with value: -0.004782811465159837 and parameters: {'n_estimators': 678, 'max_depth': 11, 'min_samples_split': 20, 'min_samples_leaf': 31, 'poly_degree': 2}. Best is trial 11 with value: -0.0036241239095552704.\n",
      "[I 2025-05-17 10:32:12,493] Trial 72 finished with value: -0.004380229441445352 and parameters: {'n_estimators': 449, 'max_depth': 36, 'min_samples_split': 16, 'min_samples_leaf': 18, 'poly_degree': 3}. Best is trial 11 with value: -0.0036241239095552704.\n",
      "[I 2025-05-17 10:32:15,437] Trial 73 finished with value: -0.004058892650601959 and parameters: {'n_estimators': 447, 'max_depth': 49, 'min_samples_split': 30, 'min_samples_leaf': 7, 'poly_degree': 1}. Best is trial 11 with value: -0.0036241239095552704.\n",
      "[I 2025-05-17 10:32:16,608] Trial 74 finished with value: -0.00468517819004035 and parameters: {'n_estimators': 190, 'max_depth': 10, 'min_samples_split': 4, 'min_samples_leaf': 22, 'poly_degree': 1}. Best is trial 11 with value: -0.0036241239095552704.\n",
      "[I 2025-05-17 10:32:19,346] Trial 75 finished with value: -0.0048842350952154855 and parameters: {'n_estimators': 387, 'max_depth': 44, 'min_samples_split': 2, 'min_samples_leaf': 27, 'poly_degree': 1}. Best is trial 11 with value: -0.0036241239095552704.\n",
      "[I 2025-05-17 10:32:23,543] Trial 76 finished with value: -0.004706122447285589 and parameters: {'n_estimators': 206, 'max_depth': 38, 'min_samples_split': 21, 'min_samples_leaf': 29, 'poly_degree': 3}. Best is trial 11 with value: -0.0036241239095552704.\n",
      "[I 2025-05-17 10:32:41,470] Trial 77 finished with value: -0.004596677083544417 and parameters: {'n_estimators': 823, 'max_depth': 21, 'min_samples_split': 7, 'min_samples_leaf': 25, 'poly_degree': 3}. Best is trial 11 with value: -0.0036241239095552704.\n",
      "[I 2025-05-17 10:32:51,673] Trial 78 finished with value: -0.004627541180710036 and parameters: {'n_estimators': 992, 'max_depth': 26, 'min_samples_split': 13, 'min_samples_leaf': 25, 'poly_degree': 2}. Best is trial 11 with value: -0.0036241239095552704.\n",
      "[I 2025-05-17 10:33:11,676] Trial 79 finished with value: -0.004595349425142788 and parameters: {'n_estimators': 938, 'max_depth': 45, 'min_samples_split': 15, 'min_samples_leaf': 25, 'poly_degree': 3}. Best is trial 11 with value: -0.0036241239095552704.\n",
      "[I 2025-05-17 10:33:12,633] Trial 80 finished with value: -0.004887809209595641 and parameters: {'n_estimators': 192, 'max_depth': 47, 'min_samples_split': 17, 'min_samples_leaf': 27, 'poly_degree': 1}. Best is trial 11 with value: -0.0036241239095552704.\n",
      "[I 2025-05-17 10:33:16,948] Trial 81 finished with value: -0.004935128434555965 and parameters: {'n_estimators': 906, 'max_depth': 25, 'min_samples_split': 2, 'min_samples_leaf': 29, 'poly_degree': 1}. Best is trial 11 with value: -0.0036241239095552704.\n",
      "[I 2025-05-17 10:33:21,248] Trial 82 finished with value: -0.004433454717831723 and parameters: {'n_estimators': 387, 'max_depth': 48, 'min_samples_split': 31, 'min_samples_leaf': 19, 'poly_degree': 2}. Best is trial 11 with value: -0.0036241239095552704.\n",
      "[I 2025-05-17 10:33:32,574] Trial 83 finished with value: -0.004497100486271335 and parameters: {'n_estimators': 504, 'max_depth': 22, 'min_samples_split': 12, 'min_samples_leaf': 22, 'poly_degree': 3}. Best is trial 11 with value: -0.0036241239095552704.\n",
      "[I 2025-05-17 10:33:37,379] Trial 84 finished with value: -0.0044242221433768245 and parameters: {'n_estimators': 813, 'max_depth': 42, 'min_samples_split': 4, 'min_samples_leaf': 16, 'poly_degree': 1}. Best is trial 11 with value: -0.0036241239095552704.\n",
      "[I 2025-05-17 10:33:41,584] Trial 85 finished with value: -0.004245157701759228 and parameters: {'n_estimators': 595, 'max_depth': 28, 'min_samples_split': 29, 'min_samples_leaf': 12, 'poly_degree': 1}. Best is trial 11 with value: -0.0036241239095552704.\n",
      "[I 2025-05-17 10:33:43,610] Trial 86 finished with value: -0.003831309739622633 and parameters: {'n_estimators': 228, 'max_depth': 41, 'min_samples_split': 21, 'min_samples_leaf': 4, 'poly_degree': 1}. Best is trial 11 with value: -0.0036241239095552704.\n",
      "[I 2025-05-17 10:33:48,167] Trial 87 finished with value: -0.004702957968129791 and parameters: {'n_estimators': 731, 'max_depth': 12, 'min_samples_split': 27, 'min_samples_leaf': 23, 'poly_degree': 1}. Best is trial 11 with value: -0.0036241239095552704.\n",
      "[I 2025-05-17 10:33:53,904] Trial 88 finished with value: -0.0041752864103017946 and parameters: {'n_estimators': 176, 'max_depth': 50, 'min_samples_split': 13, 'min_samples_leaf': 12, 'poly_degree': 3}. Best is trial 11 with value: -0.0036241239095552704.\n",
      "[I 2025-05-17 10:34:00,121] Trial 89 finished with value: -0.004272002340328744 and parameters: {'n_estimators': 953, 'max_depth': 50, 'min_samples_split': 25, 'min_samples_leaf': 13, 'poly_degree': 1}. Best is trial 11 with value: -0.0036241239095552704.\n",
      "[I 2025-05-17 10:34:03,979] Trial 90 finished with value: -0.004956706003010737 and parameters: {'n_estimators': 800, 'max_depth': 32, 'min_samples_split': 15, 'min_samples_leaf': 30, 'poly_degree': 1}. Best is trial 11 with value: -0.0036241239095552704.\n",
      "[I 2025-05-17 10:34:07,909] Trial 91 finished with value: -0.0037147621042621015 and parameters: {'n_estimators': 543, 'max_depth': 10, 'min_samples_split': 16, 'min_samples_leaf': 2, 'poly_degree': 1}. Best is trial 11 with value: -0.0036241239095552704.\n",
      "[I 2025-05-17 10:34:13,466] Trial 92 finished with value: -0.004430616268072231 and parameters: {'n_estimators': 205, 'max_depth': 36, 'min_samples_split': 25, 'min_samples_leaf': 19, 'poly_degree': 3}. Best is trial 11 with value: -0.0036241239095552704.\n",
      "[I 2025-05-17 10:34:26,111] Trial 93 finished with value: -0.004053993218316742 and parameters: {'n_estimators': 437, 'max_depth': 21, 'min_samples_split': 28, 'min_samples_leaf': 8, 'poly_degree': 3}. Best is trial 11 with value: -0.0036241239095552704.\n",
      "[I 2025-05-17 10:34:27,211] Trial 94 finished with value: -0.0047671914783097066 and parameters: {'n_estimators': 110, 'max_depth': 49, 'min_samples_split': 3, 'min_samples_leaf': 29, 'poly_degree': 2}. Best is trial 11 with value: -0.0036241239095552704.\n",
      "[I 2025-05-17 10:34:37,336] Trial 95 finished with value: -0.004807828271028024 and parameters: {'n_estimators': 994, 'max_depth': 13, 'min_samples_split': 19, 'min_samples_leaf': 32, 'poly_degree': 2}. Best is trial 11 with value: -0.0036241239095552704.\n",
      "[I 2025-05-17 10:34:44,913] Trial 96 finished with value: -0.00449171956294802 and parameters: {'n_estimators': 667, 'max_depth': 38, 'min_samples_split': 16, 'min_samples_leaf': 21, 'poly_degree': 2}. Best is trial 11 with value: -0.0036241239095552704.\n",
      "[I 2025-05-17 10:35:06,146] Trial 97 finished with value: -0.004756297718842272 and parameters: {'n_estimators': 911, 'max_depth': 11, 'min_samples_split': 10, 'min_samples_leaf': 31, 'poly_degree': 3}. Best is trial 11 with value: -0.0036241239095552704.\n",
      "[I 2025-05-17 10:35:14,140] Trial 98 finished with value: -0.003974205196842473 and parameters: {'n_estimators': 510, 'max_depth': 35, 'min_samples_split': 10, 'min_samples_leaf': 7, 'poly_degree': 2}. Best is trial 11 with value: -0.0036241239095552704.\n",
      "[I 2025-05-17 10:35:23,246] Trial 99 finished with value: -0.004786838826508726 and parameters: {'n_estimators': 418, 'max_depth': 33, 'min_samples_split': 4, 'min_samples_leaf': 32, 'poly_degree': 3}. Best is trial 11 with value: -0.0036241239095552704.\n"
     ]
    }
   ],
   "source": [
    "study.optimize(objective, n_trials=100)"
   ]
  },
  {
   "cell_type": "code",
   "execution_count": 56,
   "metadata": {},
   "outputs": [
    {
     "data": {
      "application/vnd.plotly.v1+json": {
       "config": {
        "plotlyServerURL": "https://plot.ly"
       },
       "data": [
        {
         "mode": "markers",
         "name": "Objective Value",
         "type": "scatter",
         "x": [
          0,
          1,
          2,
          3,
          4,
          5,
          6,
          7,
          8,
          9,
          10,
          11,
          12,
          13,
          14,
          15,
          16,
          17,
          18,
          19,
          20,
          21,
          22,
          23,
          24,
          25,
          26,
          27,
          28,
          29,
          30,
          31,
          32,
          33,
          34,
          35,
          36,
          37,
          38,
          39,
          40,
          41,
          42,
          43,
          44,
          45,
          46,
          47,
          48,
          49,
          50,
          51,
          52,
          53,
          54,
          55,
          56,
          57,
          58,
          59,
          60,
          61,
          62,
          63,
          64,
          65,
          66,
          67,
          68,
          69,
          70,
          71,
          72,
          73,
          74,
          75,
          76,
          77,
          78,
          79,
          80,
          81,
          82,
          83,
          84,
          85,
          86,
          87,
          88,
          89,
          90,
          91,
          92,
          93,
          94,
          95,
          96,
          97,
          98,
          99
         ],
         "y": [
          -0.004594551395352957,
          -0.00445005723682228,
          -0.004058536747106786,
          -0.0043284876421504324,
          -0.004183290625063006,
          -0.004553221088905075,
          -0.004752593016742568,
          -0.0045265697890884546,
          -0.0049650941125509804,
          -0.004511488831826607,
          -0.004743798419693218,
          -0.0036241239095552704,
          -0.00423796605303529,
          -0.0038484038244531297,
          -0.004657842470939627,
          -0.004210746383528692,
          -0.003699951970753031,
          -0.004750202721177706,
          -0.004397882523599809,
          -0.003646923723671687,
          -0.004364823260928246,
          -0.004047212675755267,
          -0.004665998136968649,
          -0.0047440848008879705,
          -0.0037420685408213203,
          -0.003787512639792699,
          -0.004118510967973881,
          -0.004160503256980205,
          -0.004103566314335629,
          -0.003718858295860096,
          -0.004308673297306304,
          -0.004040042246262891,
          -0.0045201174042033086,
          -0.0037008362865401296,
          -0.0040183997603309585,
          -0.004956182464025692,
          -0.004943134212086205,
          -0.004468129233600823,
          -0.004513800793204421,
          -0.004711295213480037,
          -0.004741287526160515,
          -0.003765482425461649,
          -0.0040104842807829385,
          -0.004483430380542613,
          -0.004212100292250278,
          -0.004757097775829026,
          -0.004424183195551325,
          -0.004625494691963314,
          -0.004262157234587121,
          -0.004757518699032693,
          -0.00420719590181459,
          -0.004551262325236609,
          -0.004340342726652274,
          -0.004210813379472086,
          -0.0047646857387594,
          -0.0045288470738796965,
          -0.003830272958938894,
          -0.004116116846955406,
          -0.004249866429755013,
          -0.004587395891737641,
          -0.0045081954299406694,
          -0.004841108466619399,
          -0.004755588076602587,
          -0.0038401537111226666,
          -0.004043996417206556,
          -0.004317885235430334,
          -0.0037250783401068356,
          -0.004454595458699508,
          -0.004266073711332451,
          -0.004183254616338565,
          -0.003922438576230307,
          -0.004782811465159837,
          -0.004380229441445352,
          -0.004058892650601959,
          -0.00468517819004035,
          -0.0048842350952154855,
          -0.004706122447285589,
          -0.004596677083544417,
          -0.004627541180710036,
          -0.004595349425142788,
          -0.004887809209595641,
          -0.004935128434555965,
          -0.004433454717831723,
          -0.004497100486271335,
          -0.0044242221433768245,
          -0.004245157701759228,
          -0.003831309739622633,
          -0.004702957968129791,
          -0.0041752864103017946,
          -0.004272002340328744,
          -0.004956706003010737,
          -0.0037147621042621015,
          -0.004430616268072231,
          -0.004053993218316742,
          -0.0047671914783097066,
          -0.004807828271028024,
          -0.00449171956294802,
          -0.004756297718842272,
          -0.003974205196842473,
          -0.004786838826508726
         ]
        },
        {
         "mode": "lines",
         "name": "Best Value",
         "type": "scatter",
         "x": [
          0,
          1,
          2,
          3,
          4,
          5,
          6,
          7,
          8,
          9,
          10,
          11,
          12,
          13,
          14,
          15,
          16,
          17,
          18,
          19,
          20,
          21,
          22,
          23,
          24,
          25,
          26,
          27,
          28,
          29,
          30,
          31,
          32,
          33,
          34,
          35,
          36,
          37,
          38,
          39,
          40,
          41,
          42,
          43,
          44,
          45,
          46,
          47,
          48,
          49,
          50,
          51,
          52,
          53,
          54,
          55,
          56,
          57,
          58,
          59,
          60,
          61,
          62,
          63,
          64,
          65,
          66,
          67,
          68,
          69,
          70,
          71,
          72,
          73,
          74,
          75,
          76,
          77,
          78,
          79,
          80,
          81,
          82,
          83,
          84,
          85,
          86,
          87,
          88,
          89,
          90,
          91,
          92,
          93,
          94,
          95,
          96,
          97,
          98,
          99
         ],
         "y": [
          -0.004594551395352957,
          -0.00445005723682228,
          -0.004058536747106786,
          -0.004058536747106786,
          -0.004058536747106786,
          -0.004058536747106786,
          -0.004058536747106786,
          -0.004058536747106786,
          -0.004058536747106786,
          -0.004058536747106786,
          -0.004058536747106786,
          -0.0036241239095552704,
          -0.0036241239095552704,
          -0.0036241239095552704,
          -0.0036241239095552704,
          -0.0036241239095552704,
          -0.0036241239095552704,
          -0.0036241239095552704,
          -0.0036241239095552704,
          -0.0036241239095552704,
          -0.0036241239095552704,
          -0.0036241239095552704,
          -0.0036241239095552704,
          -0.0036241239095552704,
          -0.0036241239095552704,
          -0.0036241239095552704,
          -0.0036241239095552704,
          -0.0036241239095552704,
          -0.0036241239095552704,
          -0.0036241239095552704,
          -0.0036241239095552704,
          -0.0036241239095552704,
          -0.0036241239095552704,
          -0.0036241239095552704,
          -0.0036241239095552704,
          -0.0036241239095552704,
          -0.0036241239095552704,
          -0.0036241239095552704,
          -0.0036241239095552704,
          -0.0036241239095552704,
          -0.0036241239095552704,
          -0.0036241239095552704,
          -0.0036241239095552704,
          -0.0036241239095552704,
          -0.0036241239095552704,
          -0.0036241239095552704,
          -0.0036241239095552704,
          -0.0036241239095552704,
          -0.0036241239095552704,
          -0.0036241239095552704,
          -0.0036241239095552704,
          -0.0036241239095552704,
          -0.0036241239095552704,
          -0.0036241239095552704,
          -0.0036241239095552704,
          -0.0036241239095552704,
          -0.0036241239095552704,
          -0.0036241239095552704,
          -0.0036241239095552704,
          -0.0036241239095552704,
          -0.0036241239095552704,
          -0.0036241239095552704,
          -0.0036241239095552704,
          -0.0036241239095552704,
          -0.0036241239095552704,
          -0.0036241239095552704,
          -0.0036241239095552704,
          -0.0036241239095552704,
          -0.0036241239095552704,
          -0.0036241239095552704,
          -0.0036241239095552704,
          -0.0036241239095552704,
          -0.0036241239095552704,
          -0.0036241239095552704,
          -0.0036241239095552704,
          -0.0036241239095552704,
          -0.0036241239095552704,
          -0.0036241239095552704,
          -0.0036241239095552704,
          -0.0036241239095552704,
          -0.0036241239095552704,
          -0.0036241239095552704,
          -0.0036241239095552704,
          -0.0036241239095552704,
          -0.0036241239095552704,
          -0.0036241239095552704,
          -0.0036241239095552704,
          -0.0036241239095552704,
          -0.0036241239095552704,
          -0.0036241239095552704,
          -0.0036241239095552704,
          -0.0036241239095552704,
          -0.0036241239095552704,
          -0.0036241239095552704,
          -0.0036241239095552704,
          -0.0036241239095552704,
          -0.0036241239095552704,
          -0.0036241239095552704,
          -0.0036241239095552704,
          -0.0036241239095552704
         ]
        },
        {
         "marker": {
          "color": "#cccccc"
         },
         "mode": "markers",
         "name": "Infeasible Trial",
         "showlegend": false,
         "type": "scatter",
         "x": [],
         "y": []
        }
       ],
       "layout": {
        "template": {
         "data": {
          "bar": [
           {
            "error_x": {
             "color": "#2a3f5f"
            },
            "error_y": {
             "color": "#2a3f5f"
            },
            "marker": {
             "line": {
              "color": "#E5ECF6",
              "width": 0.5
             },
             "pattern": {
              "fillmode": "overlay",
              "size": 10,
              "solidity": 0.2
             }
            },
            "type": "bar"
           }
          ],
          "barpolar": [
           {
            "marker": {
             "line": {
              "color": "#E5ECF6",
              "width": 0.5
             },
             "pattern": {
              "fillmode": "overlay",
              "size": 10,
              "solidity": 0.2
             }
            },
            "type": "barpolar"
           }
          ],
          "carpet": [
           {
            "aaxis": {
             "endlinecolor": "#2a3f5f",
             "gridcolor": "white",
             "linecolor": "white",
             "minorgridcolor": "white",
             "startlinecolor": "#2a3f5f"
            },
            "baxis": {
             "endlinecolor": "#2a3f5f",
             "gridcolor": "white",
             "linecolor": "white",
             "minorgridcolor": "white",
             "startlinecolor": "#2a3f5f"
            },
            "type": "carpet"
           }
          ],
          "choropleth": [
           {
            "colorbar": {
             "outlinewidth": 0,
             "ticks": ""
            },
            "type": "choropleth"
           }
          ],
          "contour": [
           {
            "colorbar": {
             "outlinewidth": 0,
             "ticks": ""
            },
            "colorscale": [
             [
              0,
              "#0d0887"
             ],
             [
              0.1111111111111111,
              "#46039f"
             ],
             [
              0.2222222222222222,
              "#7201a8"
             ],
             [
              0.3333333333333333,
              "#9c179e"
             ],
             [
              0.4444444444444444,
              "#bd3786"
             ],
             [
              0.5555555555555556,
              "#d8576b"
             ],
             [
              0.6666666666666666,
              "#ed7953"
             ],
             [
              0.7777777777777778,
              "#fb9f3a"
             ],
             [
              0.8888888888888888,
              "#fdca26"
             ],
             [
              1,
              "#f0f921"
             ]
            ],
            "type": "contour"
           }
          ],
          "contourcarpet": [
           {
            "colorbar": {
             "outlinewidth": 0,
             "ticks": ""
            },
            "type": "contourcarpet"
           }
          ],
          "heatmap": [
           {
            "colorbar": {
             "outlinewidth": 0,
             "ticks": ""
            },
            "colorscale": [
             [
              0,
              "#0d0887"
             ],
             [
              0.1111111111111111,
              "#46039f"
             ],
             [
              0.2222222222222222,
              "#7201a8"
             ],
             [
              0.3333333333333333,
              "#9c179e"
             ],
             [
              0.4444444444444444,
              "#bd3786"
             ],
             [
              0.5555555555555556,
              "#d8576b"
             ],
             [
              0.6666666666666666,
              "#ed7953"
             ],
             [
              0.7777777777777778,
              "#fb9f3a"
             ],
             [
              0.8888888888888888,
              "#fdca26"
             ],
             [
              1,
              "#f0f921"
             ]
            ],
            "type": "heatmap"
           }
          ],
          "histogram": [
           {
            "marker": {
             "pattern": {
              "fillmode": "overlay",
              "size": 10,
              "solidity": 0.2
             }
            },
            "type": "histogram"
           }
          ],
          "histogram2d": [
           {
            "colorbar": {
             "outlinewidth": 0,
             "ticks": ""
            },
            "colorscale": [
             [
              0,
              "#0d0887"
             ],
             [
              0.1111111111111111,
              "#46039f"
             ],
             [
              0.2222222222222222,
              "#7201a8"
             ],
             [
              0.3333333333333333,
              "#9c179e"
             ],
             [
              0.4444444444444444,
              "#bd3786"
             ],
             [
              0.5555555555555556,
              "#d8576b"
             ],
             [
              0.6666666666666666,
              "#ed7953"
             ],
             [
              0.7777777777777778,
              "#fb9f3a"
             ],
             [
              0.8888888888888888,
              "#fdca26"
             ],
             [
              1,
              "#f0f921"
             ]
            ],
            "type": "histogram2d"
           }
          ],
          "histogram2dcontour": [
           {
            "colorbar": {
             "outlinewidth": 0,
             "ticks": ""
            },
            "colorscale": [
             [
              0,
              "#0d0887"
             ],
             [
              0.1111111111111111,
              "#46039f"
             ],
             [
              0.2222222222222222,
              "#7201a8"
             ],
             [
              0.3333333333333333,
              "#9c179e"
             ],
             [
              0.4444444444444444,
              "#bd3786"
             ],
             [
              0.5555555555555556,
              "#d8576b"
             ],
             [
              0.6666666666666666,
              "#ed7953"
             ],
             [
              0.7777777777777778,
              "#fb9f3a"
             ],
             [
              0.8888888888888888,
              "#fdca26"
             ],
             [
              1,
              "#f0f921"
             ]
            ],
            "type": "histogram2dcontour"
           }
          ],
          "mesh3d": [
           {
            "colorbar": {
             "outlinewidth": 0,
             "ticks": ""
            },
            "type": "mesh3d"
           }
          ],
          "parcoords": [
           {
            "line": {
             "colorbar": {
              "outlinewidth": 0,
              "ticks": ""
             }
            },
            "type": "parcoords"
           }
          ],
          "pie": [
           {
            "automargin": true,
            "type": "pie"
           }
          ],
          "scatter": [
           {
            "fillpattern": {
             "fillmode": "overlay",
             "size": 10,
             "solidity": 0.2
            },
            "type": "scatter"
           }
          ],
          "scatter3d": [
           {
            "line": {
             "colorbar": {
              "outlinewidth": 0,
              "ticks": ""
             }
            },
            "marker": {
             "colorbar": {
              "outlinewidth": 0,
              "ticks": ""
             }
            },
            "type": "scatter3d"
           }
          ],
          "scattercarpet": [
           {
            "marker": {
             "colorbar": {
              "outlinewidth": 0,
              "ticks": ""
             }
            },
            "type": "scattercarpet"
           }
          ],
          "scattergeo": [
           {
            "marker": {
             "colorbar": {
              "outlinewidth": 0,
              "ticks": ""
             }
            },
            "type": "scattergeo"
           }
          ],
          "scattergl": [
           {
            "marker": {
             "colorbar": {
              "outlinewidth": 0,
              "ticks": ""
             }
            },
            "type": "scattergl"
           }
          ],
          "scattermap": [
           {
            "marker": {
             "colorbar": {
              "outlinewidth": 0,
              "ticks": ""
             }
            },
            "type": "scattermap"
           }
          ],
          "scattermapbox": [
           {
            "marker": {
             "colorbar": {
              "outlinewidth": 0,
              "ticks": ""
             }
            },
            "type": "scattermapbox"
           }
          ],
          "scatterpolar": [
           {
            "marker": {
             "colorbar": {
              "outlinewidth": 0,
              "ticks": ""
             }
            },
            "type": "scatterpolar"
           }
          ],
          "scatterpolargl": [
           {
            "marker": {
             "colorbar": {
              "outlinewidth": 0,
              "ticks": ""
             }
            },
            "type": "scatterpolargl"
           }
          ],
          "scatterternary": [
           {
            "marker": {
             "colorbar": {
              "outlinewidth": 0,
              "ticks": ""
             }
            },
            "type": "scatterternary"
           }
          ],
          "surface": [
           {
            "colorbar": {
             "outlinewidth": 0,
             "ticks": ""
            },
            "colorscale": [
             [
              0,
              "#0d0887"
             ],
             [
              0.1111111111111111,
              "#46039f"
             ],
             [
              0.2222222222222222,
              "#7201a8"
             ],
             [
              0.3333333333333333,
              "#9c179e"
             ],
             [
              0.4444444444444444,
              "#bd3786"
             ],
             [
              0.5555555555555556,
              "#d8576b"
             ],
             [
              0.6666666666666666,
              "#ed7953"
             ],
             [
              0.7777777777777778,
              "#fb9f3a"
             ],
             [
              0.8888888888888888,
              "#fdca26"
             ],
             [
              1,
              "#f0f921"
             ]
            ],
            "type": "surface"
           }
          ],
          "table": [
           {
            "cells": {
             "fill": {
              "color": "#EBF0F8"
             },
             "line": {
              "color": "white"
             }
            },
            "header": {
             "fill": {
              "color": "#C8D4E3"
             },
             "line": {
              "color": "white"
             }
            },
            "type": "table"
           }
          ]
         },
         "layout": {
          "annotationdefaults": {
           "arrowcolor": "#2a3f5f",
           "arrowhead": 0,
           "arrowwidth": 1
          },
          "autotypenumbers": "strict",
          "coloraxis": {
           "colorbar": {
            "outlinewidth": 0,
            "ticks": ""
           }
          },
          "colorscale": {
           "diverging": [
            [
             0,
             "#8e0152"
            ],
            [
             0.1,
             "#c51b7d"
            ],
            [
             0.2,
             "#de77ae"
            ],
            [
             0.3,
             "#f1b6da"
            ],
            [
             0.4,
             "#fde0ef"
            ],
            [
             0.5,
             "#f7f7f7"
            ],
            [
             0.6,
             "#e6f5d0"
            ],
            [
             0.7,
             "#b8e186"
            ],
            [
             0.8,
             "#7fbc41"
            ],
            [
             0.9,
             "#4d9221"
            ],
            [
             1,
             "#276419"
            ]
           ],
           "sequential": [
            [
             0,
             "#0d0887"
            ],
            [
             0.1111111111111111,
             "#46039f"
            ],
            [
             0.2222222222222222,
             "#7201a8"
            ],
            [
             0.3333333333333333,
             "#9c179e"
            ],
            [
             0.4444444444444444,
             "#bd3786"
            ],
            [
             0.5555555555555556,
             "#d8576b"
            ],
            [
             0.6666666666666666,
             "#ed7953"
            ],
            [
             0.7777777777777778,
             "#fb9f3a"
            ],
            [
             0.8888888888888888,
             "#fdca26"
            ],
            [
             1,
             "#f0f921"
            ]
           ],
           "sequentialminus": [
            [
             0,
             "#0d0887"
            ],
            [
             0.1111111111111111,
             "#46039f"
            ],
            [
             0.2222222222222222,
             "#7201a8"
            ],
            [
             0.3333333333333333,
             "#9c179e"
            ],
            [
             0.4444444444444444,
             "#bd3786"
            ],
            [
             0.5555555555555556,
             "#d8576b"
            ],
            [
             0.6666666666666666,
             "#ed7953"
            ],
            [
             0.7777777777777778,
             "#fb9f3a"
            ],
            [
             0.8888888888888888,
             "#fdca26"
            ],
            [
             1,
             "#f0f921"
            ]
           ]
          },
          "colorway": [
           "#636efa",
           "#EF553B",
           "#00cc96",
           "#ab63fa",
           "#FFA15A",
           "#19d3f3",
           "#FF6692",
           "#B6E880",
           "#FF97FF",
           "#FECB52"
          ],
          "font": {
           "color": "#2a3f5f"
          },
          "geo": {
           "bgcolor": "white",
           "lakecolor": "white",
           "landcolor": "#E5ECF6",
           "showlakes": true,
           "showland": true,
           "subunitcolor": "white"
          },
          "hoverlabel": {
           "align": "left"
          },
          "hovermode": "closest",
          "mapbox": {
           "style": "light"
          },
          "paper_bgcolor": "white",
          "plot_bgcolor": "#E5ECF6",
          "polar": {
           "angularaxis": {
            "gridcolor": "white",
            "linecolor": "white",
            "ticks": ""
           },
           "bgcolor": "#E5ECF6",
           "radialaxis": {
            "gridcolor": "white",
            "linecolor": "white",
            "ticks": ""
           }
          },
          "scene": {
           "xaxis": {
            "backgroundcolor": "#E5ECF6",
            "gridcolor": "white",
            "gridwidth": 2,
            "linecolor": "white",
            "showbackground": true,
            "ticks": "",
            "zerolinecolor": "white"
           },
           "yaxis": {
            "backgroundcolor": "#E5ECF6",
            "gridcolor": "white",
            "gridwidth": 2,
            "linecolor": "white",
            "showbackground": true,
            "ticks": "",
            "zerolinecolor": "white"
           },
           "zaxis": {
            "backgroundcolor": "#E5ECF6",
            "gridcolor": "white",
            "gridwidth": 2,
            "linecolor": "white",
            "showbackground": true,
            "ticks": "",
            "zerolinecolor": "white"
           }
          },
          "shapedefaults": {
           "line": {
            "color": "#2a3f5f"
           }
          },
          "ternary": {
           "aaxis": {
            "gridcolor": "white",
            "linecolor": "white",
            "ticks": ""
           },
           "baxis": {
            "gridcolor": "white",
            "linecolor": "white",
            "ticks": ""
           },
           "bgcolor": "#E5ECF6",
           "caxis": {
            "gridcolor": "white",
            "linecolor": "white",
            "ticks": ""
           }
          },
          "title": {
           "x": 0.05
          },
          "xaxis": {
           "automargin": true,
           "gridcolor": "white",
           "linecolor": "white",
           "ticks": "",
           "title": {
            "standoff": 15
           },
           "zerolinecolor": "white",
           "zerolinewidth": 2
          },
          "yaxis": {
           "automargin": true,
           "gridcolor": "white",
           "linecolor": "white",
           "ticks": "",
           "title": {
            "standoff": 15
           },
           "zerolinecolor": "white",
           "zerolinewidth": 2
          }
         }
        },
        "title": {
         "text": "Optimization History Plot"
        },
        "xaxis": {
         "title": {
          "text": "Trial"
         }
        },
        "yaxis": {
         "title": {
          "text": "Objective Value"
         }
        }
       }
      }
     },
     "metadata": {},
     "output_type": "display_data"
    }
   ],
   "source": [
    "optuna.visualization.plot_optimization_history(study)"
   ]
  },
  {
   "cell_type": "code",
   "execution_count": 57,
   "metadata": {},
   "outputs": [
    {
     "name": "stdout",
     "output_type": "stream",
     "text": [
      "Best Hyperparameters: {'n_estimators': 930, 'max_depth': 13, 'min_samples_split': 8, 'min_samples_leaf': 2, 'poly_degree': 1}\n"
     ]
    }
   ],
   "source": [
    "best_params = study.best_params \n",
    "print(f\"Best Hyperparameters: {best_params}\")"
   ]
  },
  {
   "cell_type": "code",
   "execution_count": 58,
   "metadata": {},
   "outputs": [
    {
     "data": {
      "application/vnd.plotly.v1+json": {
       "config": {
        "plotlyServerURL": "https://plot.ly"
       },
       "data": [
        {
         "marker": {
          "color": [
           0,
           1,
           2,
           3,
           4,
           5,
           6,
           7,
           8,
           9,
           10,
           11,
           12,
           13,
           14,
           15,
           16,
           17,
           18,
           19,
           20,
           21,
           22,
           23,
           24,
           25,
           26,
           27,
           28,
           29,
           30,
           31,
           32,
           33,
           34,
           35,
           36,
           37,
           38,
           39,
           40,
           41,
           42,
           43,
           44,
           45,
           46,
           47,
           48,
           49,
           50,
           51,
           52,
           53,
           54,
           55,
           56,
           57,
           58,
           59,
           60,
           61,
           62,
           63,
           64,
           65,
           66,
           67,
           68,
           69,
           70,
           71,
           72,
           73,
           74,
           75,
           76,
           77,
           78,
           79,
           80,
           81,
           82,
           83,
           84,
           85,
           86,
           87,
           88,
           89,
           90,
           91,
           92,
           93,
           94,
           95,
           96,
           97,
           98,
           99
          ],
          "colorbar": {
           "title": {
            "text": "Trial"
           },
           "x": 1,
           "xpad": 40
          },
          "colorscale": [
           [
            0,
            "rgb(247,251,255)"
           ],
           [
            0.125,
            "rgb(222,235,247)"
           ],
           [
            0.25,
            "rgb(198,219,239)"
           ],
           [
            0.375,
            "rgb(158,202,225)"
           ],
           [
            0.5,
            "rgb(107,174,214)"
           ],
           [
            0.625,
            "rgb(66,146,198)"
           ],
           [
            0.75,
            "rgb(33,113,181)"
           ],
           [
            0.875,
            "rgb(8,81,156)"
           ],
           [
            1,
            "rgb(8,48,107)"
           ]
          ],
          "line": {
           "color": "Grey",
           "width": 0.5
          },
          "showscale": true
         },
         "mode": "markers",
         "name": "Feasible Trial",
         "showlegend": false,
         "type": "scatter",
         "x": [
          48,
          12,
          49,
          22,
          15,
          18,
          16,
          22,
          30,
          22,
          41,
          13,
          21,
          15,
          18,
          41,
          35,
          39,
          39,
          31,
          36,
          26,
          16,
          42,
          46,
          43,
          19,
          31,
          20,
          34,
          19,
          37,
          35,
          23,
          10,
          38,
          14,
          43,
          46,
          39,
          13,
          14,
          38,
          23,
          33,
          49,
          30,
          21,
          49,
          27,
          25,
          48,
          50,
          38,
          43,
          42,
          23,
          29,
          11,
          41,
          31,
          31,
          13,
          26,
          39,
          32,
          41,
          45,
          29,
          36,
          45,
          11,
          36,
          49,
          10,
          44,
          38,
          21,
          26,
          45,
          47,
          25,
          48,
          22,
          42,
          28,
          41,
          12,
          50,
          50,
          32,
          10,
          36,
          21,
          49,
          13,
          38,
          11,
          35,
          33
         ],
         "xaxis": "x",
         "y": [
          -0.004594551395352957,
          -0.00445005723682228,
          -0.004058536747106786,
          -0.0043284876421504324,
          -0.004183290625063006,
          -0.004553221088905075,
          -0.004752593016742568,
          -0.0045265697890884546,
          -0.0049650941125509804,
          -0.004511488831826607,
          -0.004743798419693218,
          -0.0036241239095552704,
          -0.00423796605303529,
          -0.0038484038244531297,
          -0.004657842470939627,
          -0.004210746383528692,
          -0.003699951970753031,
          -0.004750202721177706,
          -0.004397882523599809,
          -0.003646923723671687,
          -0.004364823260928246,
          -0.004047212675755267,
          -0.004665998136968649,
          -0.0047440848008879705,
          -0.0037420685408213203,
          -0.003787512639792699,
          -0.004118510967973881,
          -0.004160503256980205,
          -0.004103566314335629,
          -0.003718858295860096,
          -0.004308673297306304,
          -0.004040042246262891,
          -0.0045201174042033086,
          -0.0037008362865401296,
          -0.0040183997603309585,
          -0.004956182464025692,
          -0.004943134212086205,
          -0.004468129233600823,
          -0.004513800793204421,
          -0.004711295213480037,
          -0.004741287526160515,
          -0.003765482425461649,
          -0.0040104842807829385,
          -0.004483430380542613,
          -0.004212100292250278,
          -0.004757097775829026,
          -0.004424183195551325,
          -0.004625494691963314,
          -0.004262157234587121,
          -0.004757518699032693,
          -0.00420719590181459,
          -0.004551262325236609,
          -0.004340342726652274,
          -0.004210813379472086,
          -0.0047646857387594,
          -0.0045288470738796965,
          -0.003830272958938894,
          -0.004116116846955406,
          -0.004249866429755013,
          -0.004587395891737641,
          -0.0045081954299406694,
          -0.004841108466619399,
          -0.004755588076602587,
          -0.0038401537111226666,
          -0.004043996417206556,
          -0.004317885235430334,
          -0.0037250783401068356,
          -0.004454595458699508,
          -0.004266073711332451,
          -0.004183254616338565,
          -0.003922438576230307,
          -0.004782811465159837,
          -0.004380229441445352,
          -0.004058892650601959,
          -0.00468517819004035,
          -0.0048842350952154855,
          -0.004706122447285589,
          -0.004596677083544417,
          -0.004627541180710036,
          -0.004595349425142788,
          -0.004887809209595641,
          -0.004935128434555965,
          -0.004433454717831723,
          -0.004497100486271335,
          -0.0044242221433768245,
          -0.004245157701759228,
          -0.003831309739622633,
          -0.004702957968129791,
          -0.0041752864103017946,
          -0.004272002340328744,
          -0.004956706003010737,
          -0.0037147621042621015,
          -0.004430616268072231,
          -0.004053993218316742,
          -0.0047671914783097066,
          -0.004807828271028024,
          -0.00449171956294802,
          -0.004756297718842272,
          -0.003974205196842473,
          -0.004786838826508726
         ],
         "yaxis": "y"
        },
        {
         "marker": {
          "color": [
           0,
           1,
           2,
           3,
           4,
           5,
           6,
           7,
           8,
           9,
           10,
           11,
           12,
           13,
           14,
           15,
           16,
           17,
           18,
           19,
           20,
           21,
           22,
           23,
           24,
           25,
           26,
           27,
           28,
           29,
           30,
           31,
           32,
           33,
           34,
           35,
           36,
           37,
           38,
           39,
           40,
           41,
           42,
           43,
           44,
           45,
           46,
           47,
           48,
           49,
           50,
           51,
           52,
           53,
           54,
           55,
           56,
           57,
           58,
           59,
           60,
           61,
           62,
           63,
           64,
           65,
           66,
           67,
           68,
           69,
           70,
           71,
           72,
           73,
           74,
           75,
           76,
           77,
           78,
           79,
           80,
           81,
           82,
           83,
           84,
           85,
           86,
           87,
           88,
           89,
           90,
           91,
           92,
           93,
           94,
           95,
           96,
           97,
           98,
           99
          ],
          "colorbar": {
           "title": {
            "text": "Trial"
           },
           "x": 1,
           "xpad": 40
          },
          "colorscale": [
           [
            0,
            "rgb(247,251,255)"
           ],
           [
            0.125,
            "rgb(222,235,247)"
           ],
           [
            0.25,
            "rgb(198,219,239)"
           ],
           [
            0.375,
            "rgb(158,202,225)"
           ],
           [
            0.5,
            "rgb(107,174,214)"
           ],
           [
            0.625,
            "rgb(66,146,198)"
           ],
           [
            0.75,
            "rgb(33,113,181)"
           ],
           [
            0.875,
            "rgb(8,81,156)"
           ],
           [
            1,
            "rgb(8,48,107)"
           ]
          ],
          "line": {
           "color": "Grey",
           "width": 0.5
          },
          "showscale": false
         },
         "mode": "markers",
         "name": "Feasible Trial",
         "showlegend": false,
         "type": "scatter",
         "x": [
          20,
          20,
          7,
          14,
          12,
          19,
          31,
          22,
          30,
          18,
          29,
          2,
          12,
          3,
          27,
          12,
          3,
          29,
          18,
          1,
          17,
          8,
          26,
          29,
          4,
          1,
          11,
          12,
          10,
          2,
          16,
          8,
          18,
          2,
          8,
          30,
          29,
          17,
          21,
          29,
          29,
          1,
          8,
          21,
          12,
          29,
          16,
          21,
          12,
          31,
          11,
          19,
          17,
          12,
          30,
          23,
          4,
          10,
          12,
          20,
          21,
          26,
          31,
          6,
          9,
          14,
          4,
          16,
          14,
          12,
          6,
          31,
          18,
          7,
          22,
          27,
          29,
          25,
          25,
          25,
          27,
          29,
          19,
          22,
          16,
          12,
          4,
          23,
          12,
          13,
          30,
          2,
          19,
          8,
          29,
          32,
          21,
          31,
          7,
          32
         ],
         "xaxis": "x2",
         "y": [
          -0.004594551395352957,
          -0.00445005723682228,
          -0.004058536747106786,
          -0.0043284876421504324,
          -0.004183290625063006,
          -0.004553221088905075,
          -0.004752593016742568,
          -0.0045265697890884546,
          -0.0049650941125509804,
          -0.004511488831826607,
          -0.004743798419693218,
          -0.0036241239095552704,
          -0.00423796605303529,
          -0.0038484038244531297,
          -0.004657842470939627,
          -0.004210746383528692,
          -0.003699951970753031,
          -0.004750202721177706,
          -0.004397882523599809,
          -0.003646923723671687,
          -0.004364823260928246,
          -0.004047212675755267,
          -0.004665998136968649,
          -0.0047440848008879705,
          -0.0037420685408213203,
          -0.003787512639792699,
          -0.004118510967973881,
          -0.004160503256980205,
          -0.004103566314335629,
          -0.003718858295860096,
          -0.004308673297306304,
          -0.004040042246262891,
          -0.0045201174042033086,
          -0.0037008362865401296,
          -0.0040183997603309585,
          -0.004956182464025692,
          -0.004943134212086205,
          -0.004468129233600823,
          -0.004513800793204421,
          -0.004711295213480037,
          -0.004741287526160515,
          -0.003765482425461649,
          -0.0040104842807829385,
          -0.004483430380542613,
          -0.004212100292250278,
          -0.004757097775829026,
          -0.004424183195551325,
          -0.004625494691963314,
          -0.004262157234587121,
          -0.004757518699032693,
          -0.00420719590181459,
          -0.004551262325236609,
          -0.004340342726652274,
          -0.004210813379472086,
          -0.0047646857387594,
          -0.0045288470738796965,
          -0.003830272958938894,
          -0.004116116846955406,
          -0.004249866429755013,
          -0.004587395891737641,
          -0.0045081954299406694,
          -0.004841108466619399,
          -0.004755588076602587,
          -0.0038401537111226666,
          -0.004043996417206556,
          -0.004317885235430334,
          -0.0037250783401068356,
          -0.004454595458699508,
          -0.004266073711332451,
          -0.004183254616338565,
          -0.003922438576230307,
          -0.004782811465159837,
          -0.004380229441445352,
          -0.004058892650601959,
          -0.00468517819004035,
          -0.0048842350952154855,
          -0.004706122447285589,
          -0.004596677083544417,
          -0.004627541180710036,
          -0.004595349425142788,
          -0.004887809209595641,
          -0.004935128434555965,
          -0.004433454717831723,
          -0.004497100486271335,
          -0.0044242221433768245,
          -0.004245157701759228,
          -0.003831309739622633,
          -0.004702957968129791,
          -0.0041752864103017946,
          -0.004272002340328744,
          -0.004956706003010737,
          -0.0037147621042621015,
          -0.004430616268072231,
          -0.004053993218316742,
          -0.0047671914783097066,
          -0.004807828271028024,
          -0.00449171956294802,
          -0.004756297718842272,
          -0.003974205196842473,
          -0.004786838826508726
         ],
         "yaxis": "y2"
        },
        {
         "marker": {
          "color": [
           0,
           1,
           2,
           3,
           4,
           5,
           6,
           7,
           8,
           9,
           10,
           11,
           12,
           13,
           14,
           15,
           16,
           17,
           18,
           19,
           20,
           21,
           22,
           23,
           24,
           25,
           26,
           27,
           28,
           29,
           30,
           31,
           32,
           33,
           34,
           35,
           36,
           37,
           38,
           39,
           40,
           41,
           42,
           43,
           44,
           45,
           46,
           47,
           48,
           49,
           50,
           51,
           52,
           53,
           54,
           55,
           56,
           57,
           58,
           59,
           60,
           61,
           62,
           63,
           64,
           65,
           66,
           67,
           68,
           69,
           70,
           71,
           72,
           73,
           74,
           75,
           76,
           77,
           78,
           79,
           80,
           81,
           82,
           83,
           84,
           85,
           86,
           87,
           88,
           89,
           90,
           91,
           92,
           93,
           94,
           95,
           96,
           97,
           98,
           99
          ],
          "colorbar": {
           "title": {
            "text": "Trial"
           },
           "x": 1,
           "xpad": 40
          },
          "colorscale": [
           [
            0,
            "rgb(247,251,255)"
           ],
           [
            0.125,
            "rgb(222,235,247)"
           ],
           [
            0.25,
            "rgb(198,219,239)"
           ],
           [
            0.375,
            "rgb(158,202,225)"
           ],
           [
            0.5,
            "rgb(107,174,214)"
           ],
           [
            0.625,
            "rgb(66,146,198)"
           ],
           [
            0.75,
            "rgb(33,113,181)"
           ],
           [
            0.875,
            "rgb(8,81,156)"
           ],
           [
            1,
            "rgb(8,48,107)"
           ]
          ],
          "line": {
           "color": "Grey",
           "width": 0.5
          },
          "showscale": false
         },
         "mode": "markers",
         "name": "Feasible Trial",
         "showlegend": false,
         "type": "scatter",
         "x": [
          24,
          28,
          27,
          18,
          11,
          17,
          4,
          5,
          3,
          18,
          31,
          8,
          27,
          26,
          2,
          4,
          12,
          21,
          25,
          15,
          11,
          25,
          30,
          7,
          11,
          28,
          5,
          23,
          17,
          17,
          6,
          25,
          21,
          7,
          17,
          13,
          30,
          19,
          29,
          29,
          7,
          22,
          22,
          25,
          4,
          14,
          19,
          2,
          30,
          31,
          28,
          23,
          6,
          23,
          28,
          22,
          13,
          18,
          27,
          8,
          18,
          12,
          2,
          7,
          22,
          20,
          2,
          23,
          7,
          3,
          22,
          20,
          16,
          30,
          4,
          2,
          21,
          7,
          13,
          15,
          17,
          2,
          31,
          12,
          4,
          29,
          21,
          27,
          13,
          25,
          15,
          16,
          25,
          28,
          3,
          19,
          16,
          10,
          10,
          4
         ],
         "xaxis": "x3",
         "y": [
          -0.004594551395352957,
          -0.00445005723682228,
          -0.004058536747106786,
          -0.0043284876421504324,
          -0.004183290625063006,
          -0.004553221088905075,
          -0.004752593016742568,
          -0.0045265697890884546,
          -0.0049650941125509804,
          -0.004511488831826607,
          -0.004743798419693218,
          -0.0036241239095552704,
          -0.00423796605303529,
          -0.0038484038244531297,
          -0.004657842470939627,
          -0.004210746383528692,
          -0.003699951970753031,
          -0.004750202721177706,
          -0.004397882523599809,
          -0.003646923723671687,
          -0.004364823260928246,
          -0.004047212675755267,
          -0.004665998136968649,
          -0.0047440848008879705,
          -0.0037420685408213203,
          -0.003787512639792699,
          -0.004118510967973881,
          -0.004160503256980205,
          -0.004103566314335629,
          -0.003718858295860096,
          -0.004308673297306304,
          -0.004040042246262891,
          -0.0045201174042033086,
          -0.0037008362865401296,
          -0.0040183997603309585,
          -0.004956182464025692,
          -0.004943134212086205,
          -0.004468129233600823,
          -0.004513800793204421,
          -0.004711295213480037,
          -0.004741287526160515,
          -0.003765482425461649,
          -0.0040104842807829385,
          -0.004483430380542613,
          -0.004212100292250278,
          -0.004757097775829026,
          -0.004424183195551325,
          -0.004625494691963314,
          -0.004262157234587121,
          -0.004757518699032693,
          -0.00420719590181459,
          -0.004551262325236609,
          -0.004340342726652274,
          -0.004210813379472086,
          -0.0047646857387594,
          -0.0045288470738796965,
          -0.003830272958938894,
          -0.004116116846955406,
          -0.004249866429755013,
          -0.004587395891737641,
          -0.0045081954299406694,
          -0.004841108466619399,
          -0.004755588076602587,
          -0.0038401537111226666,
          -0.004043996417206556,
          -0.004317885235430334,
          -0.0037250783401068356,
          -0.004454595458699508,
          -0.004266073711332451,
          -0.004183254616338565,
          -0.003922438576230307,
          -0.004782811465159837,
          -0.004380229441445352,
          -0.004058892650601959,
          -0.00468517819004035,
          -0.0048842350952154855,
          -0.004706122447285589,
          -0.004596677083544417,
          -0.004627541180710036,
          -0.004595349425142788,
          -0.004887809209595641,
          -0.004935128434555965,
          -0.004433454717831723,
          -0.004497100486271335,
          -0.0044242221433768245,
          -0.004245157701759228,
          -0.003831309739622633,
          -0.004702957968129791,
          -0.0041752864103017946,
          -0.004272002340328744,
          -0.004956706003010737,
          -0.0037147621042621015,
          -0.004430616268072231,
          -0.004053993218316742,
          -0.0047671914783097066,
          -0.004807828271028024,
          -0.00449171956294802,
          -0.004756297718842272,
          -0.003974205196842473,
          -0.004786838826508726
         ],
         "yaxis": "y3"
        },
        {
         "marker": {
          "color": [
           0,
           1,
           2,
           3,
           4,
           5,
           6,
           7,
           8,
           9,
           10,
           11,
           12,
           13,
           14,
           15,
           16,
           17,
           18,
           19,
           20,
           21,
           22,
           23,
           24,
           25,
           26,
           27,
           28,
           29,
           30,
           31,
           32,
           33,
           34,
           35,
           36,
           37,
           38,
           39,
           40,
           41,
           42,
           43,
           44,
           45,
           46,
           47,
           48,
           49,
           50,
           51,
           52,
           53,
           54,
           55,
           56,
           57,
           58,
           59,
           60,
           61,
           62,
           63,
           64,
           65,
           66,
           67,
           68,
           69,
           70,
           71,
           72,
           73,
           74,
           75,
           76,
           77,
           78,
           79,
           80,
           81,
           82,
           83,
           84,
           85,
           86,
           87,
           88,
           89,
           90,
           91,
           92,
           93,
           94,
           95,
           96,
           97,
           98,
           99
          ],
          "colorbar": {
           "title": {
            "text": "Trial"
           },
           "x": 1,
           "xpad": 40
          },
          "colorscale": [
           [
            0,
            "rgb(247,251,255)"
           ],
           [
            0.125,
            "rgb(222,235,247)"
           ],
           [
            0.25,
            "rgb(198,219,239)"
           ],
           [
            0.375,
            "rgb(158,202,225)"
           ],
           [
            0.5,
            "rgb(107,174,214)"
           ],
           [
            0.625,
            "rgb(66,146,198)"
           ],
           [
            0.75,
            "rgb(33,113,181)"
           ],
           [
            0.875,
            "rgb(8,81,156)"
           ],
           [
            1,
            "rgb(8,48,107)"
           ]
          ],
          "line": {
           "color": "Grey",
           "width": 0.5
          },
          "showscale": false
         },
         "mode": "markers",
         "name": "Feasible Trial",
         "showlegend": false,
         "type": "scatter",
         "x": [
          437,
          240,
          118,
          265,
          651,
          807,
          647,
          828,
          209,
          696,
          973,
          930,
          450,
          588,
          795,
          756,
          877,
          392,
          207,
          544,
          128,
          324,
          361,
          885,
          827,
          484,
          476,
          391,
          967,
          133,
          918,
          318,
          431,
          852,
          710,
          257,
          407,
          694,
          183,
          414,
          678,
          108,
          594,
          313,
          692,
          319,
          816,
          750,
          947,
          936,
          365,
          601,
          654,
          767,
          829,
          551,
          901,
          132,
          127,
          570,
          146,
          979,
          495,
          727,
          594,
          764,
          420,
          136,
          542,
          654,
          553,
          678,
          449,
          447,
          190,
          387,
          206,
          823,
          992,
          938,
          192,
          906,
          387,
          504,
          813,
          595,
          228,
          731,
          176,
          953,
          800,
          543,
          205,
          437,
          110,
          994,
          667,
          911,
          510,
          418
         ],
         "xaxis": "x4",
         "y": [
          -0.004594551395352957,
          -0.00445005723682228,
          -0.004058536747106786,
          -0.0043284876421504324,
          -0.004183290625063006,
          -0.004553221088905075,
          -0.004752593016742568,
          -0.0045265697890884546,
          -0.0049650941125509804,
          -0.004511488831826607,
          -0.004743798419693218,
          -0.0036241239095552704,
          -0.00423796605303529,
          -0.0038484038244531297,
          -0.004657842470939627,
          -0.004210746383528692,
          -0.003699951970753031,
          -0.004750202721177706,
          -0.004397882523599809,
          -0.003646923723671687,
          -0.004364823260928246,
          -0.004047212675755267,
          -0.004665998136968649,
          -0.0047440848008879705,
          -0.0037420685408213203,
          -0.003787512639792699,
          -0.004118510967973881,
          -0.004160503256980205,
          -0.004103566314335629,
          -0.003718858295860096,
          -0.004308673297306304,
          -0.004040042246262891,
          -0.0045201174042033086,
          -0.0037008362865401296,
          -0.0040183997603309585,
          -0.004956182464025692,
          -0.004943134212086205,
          -0.004468129233600823,
          -0.004513800793204421,
          -0.004711295213480037,
          -0.004741287526160515,
          -0.003765482425461649,
          -0.0040104842807829385,
          -0.004483430380542613,
          -0.004212100292250278,
          -0.004757097775829026,
          -0.004424183195551325,
          -0.004625494691963314,
          -0.004262157234587121,
          -0.004757518699032693,
          -0.00420719590181459,
          -0.004551262325236609,
          -0.004340342726652274,
          -0.004210813379472086,
          -0.0047646857387594,
          -0.0045288470738796965,
          -0.003830272958938894,
          -0.004116116846955406,
          -0.004249866429755013,
          -0.004587395891737641,
          -0.0045081954299406694,
          -0.004841108466619399,
          -0.004755588076602587,
          -0.0038401537111226666,
          -0.004043996417206556,
          -0.004317885235430334,
          -0.0037250783401068356,
          -0.004454595458699508,
          -0.004266073711332451,
          -0.004183254616338565,
          -0.003922438576230307,
          -0.004782811465159837,
          -0.004380229441445352,
          -0.004058892650601959,
          -0.00468517819004035,
          -0.0048842350952154855,
          -0.004706122447285589,
          -0.004596677083544417,
          -0.004627541180710036,
          -0.004595349425142788,
          -0.004887809209595641,
          -0.004935128434555965,
          -0.004433454717831723,
          -0.004497100486271335,
          -0.0044242221433768245,
          -0.004245157701759228,
          -0.003831309739622633,
          -0.004702957968129791,
          -0.0041752864103017946,
          -0.004272002340328744,
          -0.004956706003010737,
          -0.0037147621042621015,
          -0.004430616268072231,
          -0.004053993218316742,
          -0.0047671914783097066,
          -0.004807828271028024,
          -0.00449171956294802,
          -0.004756297718842272,
          -0.003974205196842473,
          -0.004786838826508726
         ],
         "yaxis": "y4"
        },
        {
         "marker": {
          "color": [
           0,
           1,
           2,
           3,
           4,
           5,
           6,
           7,
           8,
           9,
           10,
           11,
           12,
           13,
           14,
           15,
           16,
           17,
           18,
           19,
           20,
           21,
           22,
           23,
           24,
           25,
           26,
           27,
           28,
           29,
           30,
           31,
           32,
           33,
           34,
           35,
           36,
           37,
           38,
           39,
           40,
           41,
           42,
           43,
           44,
           45,
           46,
           47,
           48,
           49,
           50,
           51,
           52,
           53,
           54,
           55,
           56,
           57,
           58,
           59,
           60,
           61,
           62,
           63,
           64,
           65,
           66,
           67,
           68,
           69,
           70,
           71,
           72,
           73,
           74,
           75,
           76,
           77,
           78,
           79,
           80,
           81,
           82,
           83,
           84,
           85,
           86,
           87,
           88,
           89,
           90,
           91,
           92,
           93,
           94,
           95,
           96,
           97,
           98,
           99
          ],
          "colorbar": {
           "title": {
            "text": "Trial"
           },
           "x": 1,
           "xpad": 40
          },
          "colorscale": [
           [
            0,
            "rgb(247,251,255)"
           ],
           [
            0.125,
            "rgb(222,235,247)"
           ],
           [
            0.25,
            "rgb(198,219,239)"
           ],
           [
            0.375,
            "rgb(158,202,225)"
           ],
           [
            0.5,
            "rgb(107,174,214)"
           ],
           [
            0.625,
            "rgb(66,146,198)"
           ],
           [
            0.75,
            "rgb(33,113,181)"
           ],
           [
            0.875,
            "rgb(8,81,156)"
           ],
           [
            1,
            "rgb(8,48,107)"
           ]
          ],
          "line": {
           "color": "Grey",
           "width": 0.5
          },
          "showscale": false
         },
         "mode": "markers",
         "name": "Feasible Trial",
         "showlegend": false,
         "type": "scatter",
         "x": [
          1,
          3,
          1,
          1,
          2,
          1,
          3,
          2,
          1,
          1,
          2,
          1,
          1,
          3,
          3,
          1,
          1,
          2,
          3,
          1,
          3,
          1,
          2,
          2,
          1,
          2,
          3,
          3,
          1,
          1,
          3,
          3,
          1,
          2,
          2,
          1,
          1,
          1,
          2,
          3,
          2,
          1,
          3,
          3,
          1,
          2,
          1,
          1,
          1,
          3,
          1,
          1,
          3,
          1,
          2,
          3,
          2,
          2,
          1,
          1,
          3,
          1,
          3,
          1,
          3,
          1,
          1,
          1,
          2,
          2,
          1,
          2,
          3,
          1,
          1,
          1,
          3,
          3,
          2,
          3,
          1,
          1,
          2,
          3,
          1,
          1,
          1,
          1,
          3,
          1,
          1,
          1,
          3,
          3,
          2,
          2,
          2,
          3,
          2,
          3
         ],
         "xaxis": "x5",
         "y": [
          -0.004594551395352957,
          -0.00445005723682228,
          -0.004058536747106786,
          -0.0043284876421504324,
          -0.004183290625063006,
          -0.004553221088905075,
          -0.004752593016742568,
          -0.0045265697890884546,
          -0.0049650941125509804,
          -0.004511488831826607,
          -0.004743798419693218,
          -0.0036241239095552704,
          -0.00423796605303529,
          -0.0038484038244531297,
          -0.004657842470939627,
          -0.004210746383528692,
          -0.003699951970753031,
          -0.004750202721177706,
          -0.004397882523599809,
          -0.003646923723671687,
          -0.004364823260928246,
          -0.004047212675755267,
          -0.004665998136968649,
          -0.0047440848008879705,
          -0.0037420685408213203,
          -0.003787512639792699,
          -0.004118510967973881,
          -0.004160503256980205,
          -0.004103566314335629,
          -0.003718858295860096,
          -0.004308673297306304,
          -0.004040042246262891,
          -0.0045201174042033086,
          -0.0037008362865401296,
          -0.0040183997603309585,
          -0.004956182464025692,
          -0.004943134212086205,
          -0.004468129233600823,
          -0.004513800793204421,
          -0.004711295213480037,
          -0.004741287526160515,
          -0.003765482425461649,
          -0.0040104842807829385,
          -0.004483430380542613,
          -0.004212100292250278,
          -0.004757097775829026,
          -0.004424183195551325,
          -0.004625494691963314,
          -0.004262157234587121,
          -0.004757518699032693,
          -0.00420719590181459,
          -0.004551262325236609,
          -0.004340342726652274,
          -0.004210813379472086,
          -0.0047646857387594,
          -0.0045288470738796965,
          -0.003830272958938894,
          -0.004116116846955406,
          -0.004249866429755013,
          -0.004587395891737641,
          -0.0045081954299406694,
          -0.004841108466619399,
          -0.004755588076602587,
          -0.0038401537111226666,
          -0.004043996417206556,
          -0.004317885235430334,
          -0.0037250783401068356,
          -0.004454595458699508,
          -0.004266073711332451,
          -0.004183254616338565,
          -0.003922438576230307,
          -0.004782811465159837,
          -0.004380229441445352,
          -0.004058892650601959,
          -0.00468517819004035,
          -0.0048842350952154855,
          -0.004706122447285589,
          -0.004596677083544417,
          -0.004627541180710036,
          -0.004595349425142788,
          -0.004887809209595641,
          -0.004935128434555965,
          -0.004433454717831723,
          -0.004497100486271335,
          -0.0044242221433768245,
          -0.004245157701759228,
          -0.003831309739622633,
          -0.004702957968129791,
          -0.0041752864103017946,
          -0.004272002340328744,
          -0.004956706003010737,
          -0.0037147621042621015,
          -0.004430616268072231,
          -0.004053993218316742,
          -0.0047671914783097066,
          -0.004807828271028024,
          -0.00449171956294802,
          -0.004756297718842272,
          -0.003974205196842473,
          -0.004786838826508726
         ],
         "yaxis": "y5"
        }
       ],
       "layout": {
        "template": {
         "data": {
          "bar": [
           {
            "error_x": {
             "color": "#2a3f5f"
            },
            "error_y": {
             "color": "#2a3f5f"
            },
            "marker": {
             "line": {
              "color": "#E5ECF6",
              "width": 0.5
             },
             "pattern": {
              "fillmode": "overlay",
              "size": 10,
              "solidity": 0.2
             }
            },
            "type": "bar"
           }
          ],
          "barpolar": [
           {
            "marker": {
             "line": {
              "color": "#E5ECF6",
              "width": 0.5
             },
             "pattern": {
              "fillmode": "overlay",
              "size": 10,
              "solidity": 0.2
             }
            },
            "type": "barpolar"
           }
          ],
          "carpet": [
           {
            "aaxis": {
             "endlinecolor": "#2a3f5f",
             "gridcolor": "white",
             "linecolor": "white",
             "minorgridcolor": "white",
             "startlinecolor": "#2a3f5f"
            },
            "baxis": {
             "endlinecolor": "#2a3f5f",
             "gridcolor": "white",
             "linecolor": "white",
             "minorgridcolor": "white",
             "startlinecolor": "#2a3f5f"
            },
            "type": "carpet"
           }
          ],
          "choropleth": [
           {
            "colorbar": {
             "outlinewidth": 0,
             "ticks": ""
            },
            "type": "choropleth"
           }
          ],
          "contour": [
           {
            "colorbar": {
             "outlinewidth": 0,
             "ticks": ""
            },
            "colorscale": [
             [
              0,
              "#0d0887"
             ],
             [
              0.1111111111111111,
              "#46039f"
             ],
             [
              0.2222222222222222,
              "#7201a8"
             ],
             [
              0.3333333333333333,
              "#9c179e"
             ],
             [
              0.4444444444444444,
              "#bd3786"
             ],
             [
              0.5555555555555556,
              "#d8576b"
             ],
             [
              0.6666666666666666,
              "#ed7953"
             ],
             [
              0.7777777777777778,
              "#fb9f3a"
             ],
             [
              0.8888888888888888,
              "#fdca26"
             ],
             [
              1,
              "#f0f921"
             ]
            ],
            "type": "contour"
           }
          ],
          "contourcarpet": [
           {
            "colorbar": {
             "outlinewidth": 0,
             "ticks": ""
            },
            "type": "contourcarpet"
           }
          ],
          "heatmap": [
           {
            "colorbar": {
             "outlinewidth": 0,
             "ticks": ""
            },
            "colorscale": [
             [
              0,
              "#0d0887"
             ],
             [
              0.1111111111111111,
              "#46039f"
             ],
             [
              0.2222222222222222,
              "#7201a8"
             ],
             [
              0.3333333333333333,
              "#9c179e"
             ],
             [
              0.4444444444444444,
              "#bd3786"
             ],
             [
              0.5555555555555556,
              "#d8576b"
             ],
             [
              0.6666666666666666,
              "#ed7953"
             ],
             [
              0.7777777777777778,
              "#fb9f3a"
             ],
             [
              0.8888888888888888,
              "#fdca26"
             ],
             [
              1,
              "#f0f921"
             ]
            ],
            "type": "heatmap"
           }
          ],
          "histogram": [
           {
            "marker": {
             "pattern": {
              "fillmode": "overlay",
              "size": 10,
              "solidity": 0.2
             }
            },
            "type": "histogram"
           }
          ],
          "histogram2d": [
           {
            "colorbar": {
             "outlinewidth": 0,
             "ticks": ""
            },
            "colorscale": [
             [
              0,
              "#0d0887"
             ],
             [
              0.1111111111111111,
              "#46039f"
             ],
             [
              0.2222222222222222,
              "#7201a8"
             ],
             [
              0.3333333333333333,
              "#9c179e"
             ],
             [
              0.4444444444444444,
              "#bd3786"
             ],
             [
              0.5555555555555556,
              "#d8576b"
             ],
             [
              0.6666666666666666,
              "#ed7953"
             ],
             [
              0.7777777777777778,
              "#fb9f3a"
             ],
             [
              0.8888888888888888,
              "#fdca26"
             ],
             [
              1,
              "#f0f921"
             ]
            ],
            "type": "histogram2d"
           }
          ],
          "histogram2dcontour": [
           {
            "colorbar": {
             "outlinewidth": 0,
             "ticks": ""
            },
            "colorscale": [
             [
              0,
              "#0d0887"
             ],
             [
              0.1111111111111111,
              "#46039f"
             ],
             [
              0.2222222222222222,
              "#7201a8"
             ],
             [
              0.3333333333333333,
              "#9c179e"
             ],
             [
              0.4444444444444444,
              "#bd3786"
             ],
             [
              0.5555555555555556,
              "#d8576b"
             ],
             [
              0.6666666666666666,
              "#ed7953"
             ],
             [
              0.7777777777777778,
              "#fb9f3a"
             ],
             [
              0.8888888888888888,
              "#fdca26"
             ],
             [
              1,
              "#f0f921"
             ]
            ],
            "type": "histogram2dcontour"
           }
          ],
          "mesh3d": [
           {
            "colorbar": {
             "outlinewidth": 0,
             "ticks": ""
            },
            "type": "mesh3d"
           }
          ],
          "parcoords": [
           {
            "line": {
             "colorbar": {
              "outlinewidth": 0,
              "ticks": ""
             }
            },
            "type": "parcoords"
           }
          ],
          "pie": [
           {
            "automargin": true,
            "type": "pie"
           }
          ],
          "scatter": [
           {
            "fillpattern": {
             "fillmode": "overlay",
             "size": 10,
             "solidity": 0.2
            },
            "type": "scatter"
           }
          ],
          "scatter3d": [
           {
            "line": {
             "colorbar": {
              "outlinewidth": 0,
              "ticks": ""
             }
            },
            "marker": {
             "colorbar": {
              "outlinewidth": 0,
              "ticks": ""
             }
            },
            "type": "scatter3d"
           }
          ],
          "scattercarpet": [
           {
            "marker": {
             "colorbar": {
              "outlinewidth": 0,
              "ticks": ""
             }
            },
            "type": "scattercarpet"
           }
          ],
          "scattergeo": [
           {
            "marker": {
             "colorbar": {
              "outlinewidth": 0,
              "ticks": ""
             }
            },
            "type": "scattergeo"
           }
          ],
          "scattergl": [
           {
            "marker": {
             "colorbar": {
              "outlinewidth": 0,
              "ticks": ""
             }
            },
            "type": "scattergl"
           }
          ],
          "scattermap": [
           {
            "marker": {
             "colorbar": {
              "outlinewidth": 0,
              "ticks": ""
             }
            },
            "type": "scattermap"
           }
          ],
          "scattermapbox": [
           {
            "marker": {
             "colorbar": {
              "outlinewidth": 0,
              "ticks": ""
             }
            },
            "type": "scattermapbox"
           }
          ],
          "scatterpolar": [
           {
            "marker": {
             "colorbar": {
              "outlinewidth": 0,
              "ticks": ""
             }
            },
            "type": "scatterpolar"
           }
          ],
          "scatterpolargl": [
           {
            "marker": {
             "colorbar": {
              "outlinewidth": 0,
              "ticks": ""
             }
            },
            "type": "scatterpolargl"
           }
          ],
          "scatterternary": [
           {
            "marker": {
             "colorbar": {
              "outlinewidth": 0,
              "ticks": ""
             }
            },
            "type": "scatterternary"
           }
          ],
          "surface": [
           {
            "colorbar": {
             "outlinewidth": 0,
             "ticks": ""
            },
            "colorscale": [
             [
              0,
              "#0d0887"
             ],
             [
              0.1111111111111111,
              "#46039f"
             ],
             [
              0.2222222222222222,
              "#7201a8"
             ],
             [
              0.3333333333333333,
              "#9c179e"
             ],
             [
              0.4444444444444444,
              "#bd3786"
             ],
             [
              0.5555555555555556,
              "#d8576b"
             ],
             [
              0.6666666666666666,
              "#ed7953"
             ],
             [
              0.7777777777777778,
              "#fb9f3a"
             ],
             [
              0.8888888888888888,
              "#fdca26"
             ],
             [
              1,
              "#f0f921"
             ]
            ],
            "type": "surface"
           }
          ],
          "table": [
           {
            "cells": {
             "fill": {
              "color": "#EBF0F8"
             },
             "line": {
              "color": "white"
             }
            },
            "header": {
             "fill": {
              "color": "#C8D4E3"
             },
             "line": {
              "color": "white"
             }
            },
            "type": "table"
           }
          ]
         },
         "layout": {
          "annotationdefaults": {
           "arrowcolor": "#2a3f5f",
           "arrowhead": 0,
           "arrowwidth": 1
          },
          "autotypenumbers": "strict",
          "coloraxis": {
           "colorbar": {
            "outlinewidth": 0,
            "ticks": ""
           }
          },
          "colorscale": {
           "diverging": [
            [
             0,
             "#8e0152"
            ],
            [
             0.1,
             "#c51b7d"
            ],
            [
             0.2,
             "#de77ae"
            ],
            [
             0.3,
             "#f1b6da"
            ],
            [
             0.4,
             "#fde0ef"
            ],
            [
             0.5,
             "#f7f7f7"
            ],
            [
             0.6,
             "#e6f5d0"
            ],
            [
             0.7,
             "#b8e186"
            ],
            [
             0.8,
             "#7fbc41"
            ],
            [
             0.9,
             "#4d9221"
            ],
            [
             1,
             "#276419"
            ]
           ],
           "sequential": [
            [
             0,
             "#0d0887"
            ],
            [
             0.1111111111111111,
             "#46039f"
            ],
            [
             0.2222222222222222,
             "#7201a8"
            ],
            [
             0.3333333333333333,
             "#9c179e"
            ],
            [
             0.4444444444444444,
             "#bd3786"
            ],
            [
             0.5555555555555556,
             "#d8576b"
            ],
            [
             0.6666666666666666,
             "#ed7953"
            ],
            [
             0.7777777777777778,
             "#fb9f3a"
            ],
            [
             0.8888888888888888,
             "#fdca26"
            ],
            [
             1,
             "#f0f921"
            ]
           ],
           "sequentialminus": [
            [
             0,
             "#0d0887"
            ],
            [
             0.1111111111111111,
             "#46039f"
            ],
            [
             0.2222222222222222,
             "#7201a8"
            ],
            [
             0.3333333333333333,
             "#9c179e"
            ],
            [
             0.4444444444444444,
             "#bd3786"
            ],
            [
             0.5555555555555556,
             "#d8576b"
            ],
            [
             0.6666666666666666,
             "#ed7953"
            ],
            [
             0.7777777777777778,
             "#fb9f3a"
            ],
            [
             0.8888888888888888,
             "#fdca26"
            ],
            [
             1,
             "#f0f921"
            ]
           ]
          },
          "colorway": [
           "#636efa",
           "#EF553B",
           "#00cc96",
           "#ab63fa",
           "#FFA15A",
           "#19d3f3",
           "#FF6692",
           "#B6E880",
           "#FF97FF",
           "#FECB52"
          ],
          "font": {
           "color": "#2a3f5f"
          },
          "geo": {
           "bgcolor": "white",
           "lakecolor": "white",
           "landcolor": "#E5ECF6",
           "showlakes": true,
           "showland": true,
           "subunitcolor": "white"
          },
          "hoverlabel": {
           "align": "left"
          },
          "hovermode": "closest",
          "mapbox": {
           "style": "light"
          },
          "paper_bgcolor": "white",
          "plot_bgcolor": "#E5ECF6",
          "polar": {
           "angularaxis": {
            "gridcolor": "white",
            "linecolor": "white",
            "ticks": ""
           },
           "bgcolor": "#E5ECF6",
           "radialaxis": {
            "gridcolor": "white",
            "linecolor": "white",
            "ticks": ""
           }
          },
          "scene": {
           "xaxis": {
            "backgroundcolor": "#E5ECF6",
            "gridcolor": "white",
            "gridwidth": 2,
            "linecolor": "white",
            "showbackground": true,
            "ticks": "",
            "zerolinecolor": "white"
           },
           "yaxis": {
            "backgroundcolor": "#E5ECF6",
            "gridcolor": "white",
            "gridwidth": 2,
            "linecolor": "white",
            "showbackground": true,
            "ticks": "",
            "zerolinecolor": "white"
           },
           "zaxis": {
            "backgroundcolor": "#E5ECF6",
            "gridcolor": "white",
            "gridwidth": 2,
            "linecolor": "white",
            "showbackground": true,
            "ticks": "",
            "zerolinecolor": "white"
           }
          },
          "shapedefaults": {
           "line": {
            "color": "#2a3f5f"
           }
          },
          "ternary": {
           "aaxis": {
            "gridcolor": "white",
            "linecolor": "white",
            "ticks": ""
           },
           "baxis": {
            "gridcolor": "white",
            "linecolor": "white",
            "ticks": ""
           },
           "bgcolor": "#E5ECF6",
           "caxis": {
            "gridcolor": "white",
            "linecolor": "white",
            "ticks": ""
           }
          },
          "title": {
           "x": 0.05
          },
          "xaxis": {
           "automargin": true,
           "gridcolor": "white",
           "linecolor": "white",
           "ticks": "",
           "title": {
            "standoff": 15
           },
           "zerolinecolor": "white",
           "zerolinewidth": 2
          },
          "yaxis": {
           "automargin": true,
           "gridcolor": "white",
           "linecolor": "white",
           "ticks": "",
           "title": {
            "standoff": 15
           },
           "zerolinecolor": "white",
           "zerolinewidth": 2
          }
         }
        },
        "title": {
         "text": "Slice Plot"
        },
        "width": 1500,
        "xaxis": {
         "anchor": "y",
         "domain": [
          0,
          0.16799999999999998
         ],
         "title": {
          "text": "max_depth"
         }
        },
        "xaxis2": {
         "anchor": "y2",
         "domain": [
          0.208,
          0.376
         ],
         "title": {
          "text": "min_samples_leaf"
         }
        },
        "xaxis3": {
         "anchor": "y3",
         "domain": [
          0.416,
          0.584
         ],
         "title": {
          "text": "min_samples_split"
         }
        },
        "xaxis4": {
         "anchor": "y4",
         "domain": [
          0.624,
          0.792
         ],
         "title": {
          "text": "n_estimators"
         }
        },
        "xaxis5": {
         "anchor": "y5",
         "domain": [
          0.832,
          1
         ],
         "title": {
          "text": "poly_degree"
         }
        },
        "yaxis": {
         "anchor": "x",
         "domain": [
          0,
          1
         ],
         "title": {
          "text": "Objective Value"
         }
        },
        "yaxis2": {
         "anchor": "x2",
         "domain": [
          0,
          1
         ],
         "matches": "y",
         "showticklabels": false
        },
        "yaxis3": {
         "anchor": "x3",
         "domain": [
          0,
          1
         ],
         "matches": "y",
         "showticklabels": false
        },
        "yaxis4": {
         "anchor": "x4",
         "domain": [
          0,
          1
         ],
         "matches": "y",
         "showticklabels": false
        },
        "yaxis5": {
         "anchor": "x5",
         "domain": [
          0,
          1
         ],
         "matches": "y",
         "showticklabels": false
        }
       }
      }
     },
     "metadata": {},
     "output_type": "display_data"
    }
   ],
   "source": [
    "optuna.visualization.plot_slice(study, params=['n_estimators', 'max_depth', 'min_samples_split', 'min_samples_leaf','poly_degree'])"
   ]
  },
  {
   "cell_type": "code",
   "execution_count": 59,
   "metadata": {},
   "outputs": [
    {
     "data": {
      "application/vnd.plotly.v1+json": {
       "config": {
        "plotlyServerURL": "https://plot.ly"
       },
       "data": [
        {
         "cliponaxis": false,
         "hovertemplate": [
          "n_estimators (IntDistribution): 0.0004201265111179196<extra></extra>",
          "max_depth (IntDistribution): 0.0005973215386453115<extra></extra>",
          "min_samples_split (IntDistribution): 0.0009529043109003196<extra></extra>",
          "poly_degree (IntDistribution): 0.0061766694380639645<extra></extra>",
          "min_samples_leaf (IntDistribution): 0.9918529782012724<extra></extra>"
         ],
         "name": "Objective Value",
         "orientation": "h",
         "text": [
          "<0.01",
          "<0.01",
          "<0.01",
          "<0.01",
          "0.99"
         ],
         "textposition": "outside",
         "type": "bar",
         "x": [
          0.0004201265111179196,
          0.0005973215386453115,
          0.0009529043109003196,
          0.0061766694380639645,
          0.9918529782012724
         ],
         "y": [
          "n_estimators",
          "max_depth",
          "min_samples_split",
          "poly_degree",
          "min_samples_leaf"
         ]
        }
       ],
       "layout": {
        "template": {
         "data": {
          "bar": [
           {
            "error_x": {
             "color": "#2a3f5f"
            },
            "error_y": {
             "color": "#2a3f5f"
            },
            "marker": {
             "line": {
              "color": "#E5ECF6",
              "width": 0.5
             },
             "pattern": {
              "fillmode": "overlay",
              "size": 10,
              "solidity": 0.2
             }
            },
            "type": "bar"
           }
          ],
          "barpolar": [
           {
            "marker": {
             "line": {
              "color": "#E5ECF6",
              "width": 0.5
             },
             "pattern": {
              "fillmode": "overlay",
              "size": 10,
              "solidity": 0.2
             }
            },
            "type": "barpolar"
           }
          ],
          "carpet": [
           {
            "aaxis": {
             "endlinecolor": "#2a3f5f",
             "gridcolor": "white",
             "linecolor": "white",
             "minorgridcolor": "white",
             "startlinecolor": "#2a3f5f"
            },
            "baxis": {
             "endlinecolor": "#2a3f5f",
             "gridcolor": "white",
             "linecolor": "white",
             "minorgridcolor": "white",
             "startlinecolor": "#2a3f5f"
            },
            "type": "carpet"
           }
          ],
          "choropleth": [
           {
            "colorbar": {
             "outlinewidth": 0,
             "ticks": ""
            },
            "type": "choropleth"
           }
          ],
          "contour": [
           {
            "colorbar": {
             "outlinewidth": 0,
             "ticks": ""
            },
            "colorscale": [
             [
              0,
              "#0d0887"
             ],
             [
              0.1111111111111111,
              "#46039f"
             ],
             [
              0.2222222222222222,
              "#7201a8"
             ],
             [
              0.3333333333333333,
              "#9c179e"
             ],
             [
              0.4444444444444444,
              "#bd3786"
             ],
             [
              0.5555555555555556,
              "#d8576b"
             ],
             [
              0.6666666666666666,
              "#ed7953"
             ],
             [
              0.7777777777777778,
              "#fb9f3a"
             ],
             [
              0.8888888888888888,
              "#fdca26"
             ],
             [
              1,
              "#f0f921"
             ]
            ],
            "type": "contour"
           }
          ],
          "contourcarpet": [
           {
            "colorbar": {
             "outlinewidth": 0,
             "ticks": ""
            },
            "type": "contourcarpet"
           }
          ],
          "heatmap": [
           {
            "colorbar": {
             "outlinewidth": 0,
             "ticks": ""
            },
            "colorscale": [
             [
              0,
              "#0d0887"
             ],
             [
              0.1111111111111111,
              "#46039f"
             ],
             [
              0.2222222222222222,
              "#7201a8"
             ],
             [
              0.3333333333333333,
              "#9c179e"
             ],
             [
              0.4444444444444444,
              "#bd3786"
             ],
             [
              0.5555555555555556,
              "#d8576b"
             ],
             [
              0.6666666666666666,
              "#ed7953"
             ],
             [
              0.7777777777777778,
              "#fb9f3a"
             ],
             [
              0.8888888888888888,
              "#fdca26"
             ],
             [
              1,
              "#f0f921"
             ]
            ],
            "type": "heatmap"
           }
          ],
          "histogram": [
           {
            "marker": {
             "pattern": {
              "fillmode": "overlay",
              "size": 10,
              "solidity": 0.2
             }
            },
            "type": "histogram"
           }
          ],
          "histogram2d": [
           {
            "colorbar": {
             "outlinewidth": 0,
             "ticks": ""
            },
            "colorscale": [
             [
              0,
              "#0d0887"
             ],
             [
              0.1111111111111111,
              "#46039f"
             ],
             [
              0.2222222222222222,
              "#7201a8"
             ],
             [
              0.3333333333333333,
              "#9c179e"
             ],
             [
              0.4444444444444444,
              "#bd3786"
             ],
             [
              0.5555555555555556,
              "#d8576b"
             ],
             [
              0.6666666666666666,
              "#ed7953"
             ],
             [
              0.7777777777777778,
              "#fb9f3a"
             ],
             [
              0.8888888888888888,
              "#fdca26"
             ],
             [
              1,
              "#f0f921"
             ]
            ],
            "type": "histogram2d"
           }
          ],
          "histogram2dcontour": [
           {
            "colorbar": {
             "outlinewidth": 0,
             "ticks": ""
            },
            "colorscale": [
             [
              0,
              "#0d0887"
             ],
             [
              0.1111111111111111,
              "#46039f"
             ],
             [
              0.2222222222222222,
              "#7201a8"
             ],
             [
              0.3333333333333333,
              "#9c179e"
             ],
             [
              0.4444444444444444,
              "#bd3786"
             ],
             [
              0.5555555555555556,
              "#d8576b"
             ],
             [
              0.6666666666666666,
              "#ed7953"
             ],
             [
              0.7777777777777778,
              "#fb9f3a"
             ],
             [
              0.8888888888888888,
              "#fdca26"
             ],
             [
              1,
              "#f0f921"
             ]
            ],
            "type": "histogram2dcontour"
           }
          ],
          "mesh3d": [
           {
            "colorbar": {
             "outlinewidth": 0,
             "ticks": ""
            },
            "type": "mesh3d"
           }
          ],
          "parcoords": [
           {
            "line": {
             "colorbar": {
              "outlinewidth": 0,
              "ticks": ""
             }
            },
            "type": "parcoords"
           }
          ],
          "pie": [
           {
            "automargin": true,
            "type": "pie"
           }
          ],
          "scatter": [
           {
            "fillpattern": {
             "fillmode": "overlay",
             "size": 10,
             "solidity": 0.2
            },
            "type": "scatter"
           }
          ],
          "scatter3d": [
           {
            "line": {
             "colorbar": {
              "outlinewidth": 0,
              "ticks": ""
             }
            },
            "marker": {
             "colorbar": {
              "outlinewidth": 0,
              "ticks": ""
             }
            },
            "type": "scatter3d"
           }
          ],
          "scattercarpet": [
           {
            "marker": {
             "colorbar": {
              "outlinewidth": 0,
              "ticks": ""
             }
            },
            "type": "scattercarpet"
           }
          ],
          "scattergeo": [
           {
            "marker": {
             "colorbar": {
              "outlinewidth": 0,
              "ticks": ""
             }
            },
            "type": "scattergeo"
           }
          ],
          "scattergl": [
           {
            "marker": {
             "colorbar": {
              "outlinewidth": 0,
              "ticks": ""
             }
            },
            "type": "scattergl"
           }
          ],
          "scattermap": [
           {
            "marker": {
             "colorbar": {
              "outlinewidth": 0,
              "ticks": ""
             }
            },
            "type": "scattermap"
           }
          ],
          "scattermapbox": [
           {
            "marker": {
             "colorbar": {
              "outlinewidth": 0,
              "ticks": ""
             }
            },
            "type": "scattermapbox"
           }
          ],
          "scatterpolar": [
           {
            "marker": {
             "colorbar": {
              "outlinewidth": 0,
              "ticks": ""
             }
            },
            "type": "scatterpolar"
           }
          ],
          "scatterpolargl": [
           {
            "marker": {
             "colorbar": {
              "outlinewidth": 0,
              "ticks": ""
             }
            },
            "type": "scatterpolargl"
           }
          ],
          "scatterternary": [
           {
            "marker": {
             "colorbar": {
              "outlinewidth": 0,
              "ticks": ""
             }
            },
            "type": "scatterternary"
           }
          ],
          "surface": [
           {
            "colorbar": {
             "outlinewidth": 0,
             "ticks": ""
            },
            "colorscale": [
             [
              0,
              "#0d0887"
             ],
             [
              0.1111111111111111,
              "#46039f"
             ],
             [
              0.2222222222222222,
              "#7201a8"
             ],
             [
              0.3333333333333333,
              "#9c179e"
             ],
             [
              0.4444444444444444,
              "#bd3786"
             ],
             [
              0.5555555555555556,
              "#d8576b"
             ],
             [
              0.6666666666666666,
              "#ed7953"
             ],
             [
              0.7777777777777778,
              "#fb9f3a"
             ],
             [
              0.8888888888888888,
              "#fdca26"
             ],
             [
              1,
              "#f0f921"
             ]
            ],
            "type": "surface"
           }
          ],
          "table": [
           {
            "cells": {
             "fill": {
              "color": "#EBF0F8"
             },
             "line": {
              "color": "white"
             }
            },
            "header": {
             "fill": {
              "color": "#C8D4E3"
             },
             "line": {
              "color": "white"
             }
            },
            "type": "table"
           }
          ]
         },
         "layout": {
          "annotationdefaults": {
           "arrowcolor": "#2a3f5f",
           "arrowhead": 0,
           "arrowwidth": 1
          },
          "autotypenumbers": "strict",
          "coloraxis": {
           "colorbar": {
            "outlinewidth": 0,
            "ticks": ""
           }
          },
          "colorscale": {
           "diverging": [
            [
             0,
             "#8e0152"
            ],
            [
             0.1,
             "#c51b7d"
            ],
            [
             0.2,
             "#de77ae"
            ],
            [
             0.3,
             "#f1b6da"
            ],
            [
             0.4,
             "#fde0ef"
            ],
            [
             0.5,
             "#f7f7f7"
            ],
            [
             0.6,
             "#e6f5d0"
            ],
            [
             0.7,
             "#b8e186"
            ],
            [
             0.8,
             "#7fbc41"
            ],
            [
             0.9,
             "#4d9221"
            ],
            [
             1,
             "#276419"
            ]
           ],
           "sequential": [
            [
             0,
             "#0d0887"
            ],
            [
             0.1111111111111111,
             "#46039f"
            ],
            [
             0.2222222222222222,
             "#7201a8"
            ],
            [
             0.3333333333333333,
             "#9c179e"
            ],
            [
             0.4444444444444444,
             "#bd3786"
            ],
            [
             0.5555555555555556,
             "#d8576b"
            ],
            [
             0.6666666666666666,
             "#ed7953"
            ],
            [
             0.7777777777777778,
             "#fb9f3a"
            ],
            [
             0.8888888888888888,
             "#fdca26"
            ],
            [
             1,
             "#f0f921"
            ]
           ],
           "sequentialminus": [
            [
             0,
             "#0d0887"
            ],
            [
             0.1111111111111111,
             "#46039f"
            ],
            [
             0.2222222222222222,
             "#7201a8"
            ],
            [
             0.3333333333333333,
             "#9c179e"
            ],
            [
             0.4444444444444444,
             "#bd3786"
            ],
            [
             0.5555555555555556,
             "#d8576b"
            ],
            [
             0.6666666666666666,
             "#ed7953"
            ],
            [
             0.7777777777777778,
             "#fb9f3a"
            ],
            [
             0.8888888888888888,
             "#fdca26"
            ],
            [
             1,
             "#f0f921"
            ]
           ]
          },
          "colorway": [
           "#636efa",
           "#EF553B",
           "#00cc96",
           "#ab63fa",
           "#FFA15A",
           "#19d3f3",
           "#FF6692",
           "#B6E880",
           "#FF97FF",
           "#FECB52"
          ],
          "font": {
           "color": "#2a3f5f"
          },
          "geo": {
           "bgcolor": "white",
           "lakecolor": "white",
           "landcolor": "#E5ECF6",
           "showlakes": true,
           "showland": true,
           "subunitcolor": "white"
          },
          "hoverlabel": {
           "align": "left"
          },
          "hovermode": "closest",
          "mapbox": {
           "style": "light"
          },
          "paper_bgcolor": "white",
          "plot_bgcolor": "#E5ECF6",
          "polar": {
           "angularaxis": {
            "gridcolor": "white",
            "linecolor": "white",
            "ticks": ""
           },
           "bgcolor": "#E5ECF6",
           "radialaxis": {
            "gridcolor": "white",
            "linecolor": "white",
            "ticks": ""
           }
          },
          "scene": {
           "xaxis": {
            "backgroundcolor": "#E5ECF6",
            "gridcolor": "white",
            "gridwidth": 2,
            "linecolor": "white",
            "showbackground": true,
            "ticks": "",
            "zerolinecolor": "white"
           },
           "yaxis": {
            "backgroundcolor": "#E5ECF6",
            "gridcolor": "white",
            "gridwidth": 2,
            "linecolor": "white",
            "showbackground": true,
            "ticks": "",
            "zerolinecolor": "white"
           },
           "zaxis": {
            "backgroundcolor": "#E5ECF6",
            "gridcolor": "white",
            "gridwidth": 2,
            "linecolor": "white",
            "showbackground": true,
            "ticks": "",
            "zerolinecolor": "white"
           }
          },
          "shapedefaults": {
           "line": {
            "color": "#2a3f5f"
           }
          },
          "ternary": {
           "aaxis": {
            "gridcolor": "white",
            "linecolor": "white",
            "ticks": ""
           },
           "baxis": {
            "gridcolor": "white",
            "linecolor": "white",
            "ticks": ""
           },
           "bgcolor": "#E5ECF6",
           "caxis": {
            "gridcolor": "white",
            "linecolor": "white",
            "ticks": ""
           }
          },
          "title": {
           "x": 0.05
          },
          "xaxis": {
           "automargin": true,
           "gridcolor": "white",
           "linecolor": "white",
           "ticks": "",
           "title": {
            "standoff": 15
           },
           "zerolinecolor": "white",
           "zerolinewidth": 2
          },
          "yaxis": {
           "automargin": true,
           "gridcolor": "white",
           "linecolor": "white",
           "ticks": "",
           "title": {
            "standoff": 15
           },
           "zerolinecolor": "white",
           "zerolinewidth": 2
          }
         }
        },
        "title": {
         "text": "Hyperparameter Importances"
        },
        "xaxis": {
         "title": {
          "text": "Hyperparameter Importance"
         }
        },
        "yaxis": {
         "title": {
          "text": "Hyperparameter"
         }
        }
       }
      }
     },
     "metadata": {},
     "output_type": "display_data"
    }
   ],
   "source": [
    "optuna.visualization.plot_param_importances(study)"
   ]
  },
  {
   "cell_type": "code",
   "execution_count": 60,
   "metadata": {},
   "outputs": [],
   "source": [
    "best_n= best_params['n_estimators']\n",
    "best_max_depth = best_params['max_depth']\n",
    "best_min_samples_split = best_params['min_samples_split']\n",
    "best_min_samples_leaf = best_params['min_samples_leaf']"
   ]
  },
  {
   "cell_type": "code",
   "execution_count": 61,
   "metadata": {},
   "outputs": [],
   "source": [
    "numeric_pipeline_random_tree = Pipeline([\n",
    "    ('imputer', SimpleImputer(strategy='mean')),\n",
    "        ('poly', PolynomialFeatures(degree=1, include_bias=False))\n",
    "])\n",
    "\n",
    "categorical_pipeline_elastic = Pipeline([\n",
    "    ('imputer', SimpleImputer(strategy='most_frequent')),\n",
    "    ('onehot',  OneHotEncoder(handle_unknown='ignore', sparse_output=False,drop='first')),\n",
    "])\n",
    "\n",
    "preprocessor = ColumnTransformer([\n",
    "    ('num', numeric_pipeline_elastic,      num_cols),\n",
    "    ('cat', categorical_pipeline_elastic,  cat_cols),\n",
    "],\n",
    "remainder='passthrough')\n",
    "\n",
    "rforest = Pipeline([\n",
    "    ('prepoc',preprocessor),\n",
    "    ('randomforest', RandomForestRegressor(\n",
    "        n_estimators=best_n, \n",
    "        max_depth=best_max_depth, \n",
    "        min_samples_split=best_min_samples_split, \n",
    "        min_samples_leaf=best_min_samples_leaf,\n",
    "        random_state=42\n",
    "        )),\n",
    "    \n",
    "])"
   ]
  },
  {
   "cell_type": "code",
   "execution_count": 62,
   "metadata": {},
   "outputs": [],
   "source": [
    "rforest_cv = cross_val_score(\n",
    "        rforest, X_train, y_train,\n",
    "        cv=5,\n",
    "        scoring='neg_mean_squared_error',\n",
    "        n_jobs=-1\n",
    "    )"
   ]
  },
  {
   "cell_type": "code",
   "execution_count": 63,
   "metadata": {},
   "outputs": [
    {
     "name": "stdout",
     "output_type": "stream",
     "text": [
      "Random Forest Regressor CV results:\n",
      "[0.00408933 0.00402485 0.00366554 0.00376839 0.00353502]\n",
      "RMSE: 0.00 +/- 0.00\n",
      "\n"
     ]
    }
   ],
   "source": [
    "print_cv_results('Random Forest Regressor',rforest_cv)"
   ]
  },
  {
   "cell_type": "code",
   "execution_count": 64,
   "metadata": {},
   "outputs": [],
   "source": [
    "result['RandomForest'] = rforest_cv"
   ]
  },
  {
   "cell_type": "markdown",
   "metadata": {},
   "source": [
    "# Avaliando os modelos"
   ]
  },
  {
   "cell_type": "code",
   "execution_count": 65,
   "metadata": {},
   "outputs": [
    {
     "data": {
      "text/html": [
       "<div>\n",
       "<style scoped>\n",
       "    .dataframe tbody tr th:only-of-type {\n",
       "        vertical-align: middle;\n",
       "    }\n",
       "\n",
       "    .dataframe tbody tr th {\n",
       "        vertical-align: top;\n",
       "    }\n",
       "\n",
       "    .dataframe thead th {\n",
       "        text-align: right;\n",
       "    }\n",
       "</style>\n",
       "<table border=\"1\" class=\"dataframe\">\n",
       "  <thead>\n",
       "    <tr style=\"text-align: right;\">\n",
       "      <th></th>\n",
       "      <th>Dummy</th>\n",
       "      <th>LinearReg</th>\n",
       "      <th>ElsticNet</th>\n",
       "      <th>RandomForest</th>\n",
       "    </tr>\n",
       "  </thead>\n",
       "  <tbody>\n",
       "    <tr>\n",
       "      <th>0</th>\n",
       "      <td>-0.024326</td>\n",
       "      <td>-0.002892</td>\n",
       "      <td>-0.003458</td>\n",
       "      <td>-0.004089</td>\n",
       "    </tr>\n",
       "    <tr>\n",
       "      <th>1</th>\n",
       "      <td>-0.024591</td>\n",
       "      <td>-0.003040</td>\n",
       "      <td>-0.003456</td>\n",
       "      <td>-0.004025</td>\n",
       "    </tr>\n",
       "    <tr>\n",
       "      <th>2</th>\n",
       "      <td>-0.025826</td>\n",
       "      <td>-0.003020</td>\n",
       "      <td>-0.003485</td>\n",
       "      <td>-0.003666</td>\n",
       "    </tr>\n",
       "    <tr>\n",
       "      <th>3</th>\n",
       "      <td>-0.023849</td>\n",
       "      <td>-0.002526</td>\n",
       "      <td>-0.002923</td>\n",
       "      <td>-0.003768</td>\n",
       "    </tr>\n",
       "    <tr>\n",
       "      <th>4</th>\n",
       "      <td>-0.022861</td>\n",
       "      <td>-0.003013</td>\n",
       "      <td>-0.003060</td>\n",
       "      <td>-0.003535</td>\n",
       "    </tr>\n",
       "  </tbody>\n",
       "</table>\n",
       "</div>"
      ],
      "text/plain": [
       "      Dummy  LinearReg  ElsticNet  RandomForest\n",
       "0 -0.024326  -0.002892  -0.003458     -0.004089\n",
       "1 -0.024591  -0.003040  -0.003456     -0.004025\n",
       "2 -0.025826  -0.003020  -0.003485     -0.003666\n",
       "3 -0.023849  -0.002526  -0.002923     -0.003768\n",
       "4 -0.022861  -0.003013  -0.003060     -0.003535"
      ]
     },
     "execution_count": 65,
     "metadata": {},
     "output_type": "execute_result"
    }
   ],
   "source": [
    "result"
   ]
  },
  {
   "cell_type": "code",
   "execution_count": 67,
   "metadata": {},
   "outputs": [
    {
     "name": "stdout",
     "output_type": "stream",
     "text": [
      "Média de NRMSE do Dummy Model -0.024290639236509086\n",
      "Média de NRMSE do Linear model -0.002898128376183294\n",
      "Média de NRMSE do ElasticNet model -0.0032763714843841206\n",
      "Média de NNRMSE do RandomForest model -0.003816627344484573\n"
     ]
    }
   ],
   "source": [
    "print('Média de NRMSE do Dummy Model', result['Dummy'].mean())\n",
    "print('Média de NRMSE do Linear model', result['LinearReg'].mean())\n",
    "print('Média de NRMSE do ElasticNet model', result['ElsticNet'].mean())\n",
    "print('Média de NNRMSE do RandomForest model', result['RandomForest'].mean())"
   ]
  },
  {
   "cell_type": "code",
   "execution_count": 68,
   "metadata": {},
   "outputs": [],
   "source": [
    "from scipy.stats import ttest_rel"
   ]
  },
  {
   "cell_type": "code",
   "execution_count": 69,
   "metadata": {},
   "outputs": [
    {
     "name": "stdout",
     "output_type": "stream",
     "text": [
      "Melhor modelo: LinearReg (erro médio = -0.0029)\n",
      "\n",
      "Dummy           → Δmédia = -0.0214 | p-valor = 0.0000 | Significativo p < 0.0167? SIM\n",
      "ElsticNet       → Δmédia = -0.0004 | p-valor = 0.0125 | Significativo p < 0.0167? SIM\n",
      "RandomForest    → Δmédia = -0.0009 | p-valor = 0.0032 | Significativo p < 0.0167? SIM\n"
     ]
    }
   ],
   "source": [
    "\n",
    "\n",
    "scores_dict = result.to_dict(orient='list')\n",
    "means = {name: np.mean(vals) for name, vals in scores_dict.items()}\n",
    "best_name = max(means, key=means.get)\n",
    "print(f\"Melhor modelo: {best_name} (erro médio = {means[best_name]:.4f})\\n\")\n",
    "\n",
    "alpha = 0.05\n",
    "n_models = len(scores_dict) - 1\n",
    "alpha_corr = alpha / n_models\n",
    "for name, scores in scores_dict.items():\n",
    "    if name == best_name:\n",
    "        continue\n",
    "\n",
    "    best_scores = scores_dict[best_name]\n",
    "    other_scores = scores\n",
    "    stat, p = ttest_rel(best_scores, other_scores)\n",
    "\n",
    "    delta = means[name] - means[best_name]\n",
    "\n",
    "    signif = 'SIM' if p < alpha_corr else 'NÃO'\n",
    "    print(\n",
    "        f\"{name:15s} → Δmédia = {delta:+.4f} | \"\n",
    "        f\"p-valor = {p:.4f} | Significativo p < {alpha_corr:.4f}? {signif}\"\n",
    "    )\n"
   ]
  },
  {
   "cell_type": "markdown",
   "metadata": {},
   "source": [
    "A partir do t-test conseguimos ver que existe uma diferença de desemepenho estatisticamente significativa do modelo de regressão linear comparado com os outros modelos."
   ]
  },
  {
   "cell_type": "markdown",
   "metadata": {},
   "source": [
    "Analisando os coeficientes de variação"
   ]
  },
  {
   "cell_type": "code",
   "execution_count": 70,
   "metadata": {},
   "outputs": [
    {
     "name": "stdout",
     "output_type": "stream",
     "text": [
      "CV do modelo Dummy: 4.33%\n"
     ]
    }
   ],
   "source": [
    "pct_errors = (10**result['Dummy'] - 1) * 100\n",
    "\n",
    "cv = pct_errors.std() / pct_errors.mean() * 100\n",
    "\n",
    "print(f'CV do modelo Dummy: {-cv:.2f}%')"
   ]
  },
  {
   "cell_type": "code",
   "execution_count": 114,
   "metadata": {},
   "outputs": [
    {
     "name": "stdout",
     "output_type": "stream",
     "text": [
      "CV do modelo LinearReg: 4.04%\n",
      "Erro porcentual médio do modelo LinearReg: 13.19%\n"
     ]
    }
   ],
   "source": [
    "\n",
    "neg_mse_log = result['LinearReg']\n",
    "\n",
    "mse_log = -neg_mse_log\n",
    "\n",
    "rmse_log = np.sqrt(mse_log)\n",
    "\n",
    "pct_errors = (10**rmse_log - 1) * 100\n",
    "\n",
    "cv = pct_errors.std() / pct_errors.mean() * 100\n",
    "\n",
    "print(f'CV do modelo LinearReg: {cv:.2f}%')\n",
    "print(f'Erro porcentual médio do modelo LinearReg: {pct_errors.mean():.2f}%')"
   ]
  },
  {
   "cell_type": "code",
   "execution_count": 115,
   "metadata": {},
   "outputs": [
    {
     "name": "stdout",
     "output_type": "stream",
     "text": [
      "CV do modelo RandomForest: 3.31%\n",
      "Erro porcentual médio do modelo RandomForest: 15.28%\n"
     ]
    }
   ],
   "source": [
    "\n",
    "neg_mse_log = result['RandomForest']\n",
    "\n",
    "mse_log = -neg_mse_log\n",
    "\n",
    "rmse_log = np.sqrt(mse_log)\n",
    "\n",
    "pct_errors = (10**rmse_log - 1) * 100\n",
    "\n",
    "cv = pct_errors.std() / pct_errors.mean() * 100\n",
    "\n",
    "print(f'CV do modelo RandomForest: {cv:.2f}%')\n",
    "print(f'Erro porcentual médio do modelo RandomForest: {pct_errors.mean():.2f}%')"
   ]
  },
  {
   "cell_type": "code",
   "execution_count": 116,
   "metadata": {},
   "outputs": [
    {
     "name": "stdout",
     "output_type": "stream",
     "text": [
      "CV do modelo ElasticNet: 4.35%\n",
      "Erro porcentual médio do modelo ElasticNet: 14.08%\n"
     ]
    }
   ],
   "source": [
    "\n",
    "neg_mse_log = result['ElsticNet']\n",
    "\n",
    "mse_log = -neg_mse_log\n",
    "\n",
    "rmse_log = np.sqrt(mse_log)\n",
    "\n",
    "pct_errors = (10**rmse_log - 1) * 100\n",
    "\n",
    "cv = pct_errors.std() / pct_errors.mean() * 100\n",
    "\n",
    "print(f'CV do modelo ElasticNet: {cv:.2f}%')\n",
    "print(f'Erro porcentual médio do modelo ElasticNet: {pct_errors.mean():.2f}%')"
   ]
  },
  {
   "cell_type": "markdown",
   "metadata": {},
   "source": [
    "Portanto, o modelo de regressão linear foi o que melhor desempnhou, apesar de que comparado com o RandomForest, tem um coeficiente de variação um pouco maior"
   ]
  },
  {
   "cell_type": "markdown",
   "metadata": {},
   "source": [
    "# Análisando o melhor modelo"
   ]
  },
  {
   "cell_type": "code",
   "execution_count": null,
   "metadata": {},
   "outputs": [
    {
     "name": "stdout",
     "output_type": "stream",
     "text": [
      "Porcentagem de erro no conjunto de teste : 13.14\n"
     ]
    }
   ],
   "source": [
    "\n",
    "from sklearn.metrics import mean_squared_error\n",
    "\n",
    "lin_model = lin_reg.fit(X_train, y_train)\n",
    "y_pred_log = lin_model.predict(X_test)\n",
    "\n",
    "rmse = np.sqrt(mean_squared_error(y_pred_log, y_test))\n",
    "pct_errors = (10**rmse - 1) * 100\n",
    "print(f'Porcentagem de erro no conjunto de teste : {pct_errors:.2f}')\n"
   ]
  },
  {
   "cell_type": "code",
   "execution_count": 133,
   "metadata": {},
   "outputs": [
    {
     "name": "stdout",
     "output_type": "stream",
     "text": [
      "Features mais importantes (descendente):\n",
      "num__Gr.Liv.Area_log                    -10.632948\n",
      "num__Lot.Area_log                         1.596862\n",
      "num__Gr.Liv.Area_log^2                    0.325527\n",
      "num__Gr.Liv.Area_log Lot.Frontage_log    -0.260134\n",
      "cat__Overall.Qual_Greater than 8          0.211201\n",
      "num__Gr.Liv.Area_log Lot.Area_log         0.189154\n",
      "cat__Overall.Qual_8                       0.138325\n",
      "cat__Overall.Qual_7                       0.094104\n",
      "cat__Neighborhood_StoneBr                 0.078756\n",
      "cat__Overall.Qual_6                       0.073655\n",
      "dtype: float64\n"
     ]
    }
   ],
   "source": [
    "\n",
    "from sklearn.pipeline import Pipeline\n",
    "if isinstance(lin_model, Pipeline):\n",
    "    lr = lin_model.named_steps['linear']\n",
    "else:\n",
    "    lr = lin_model\n",
    "\n",
    "coefs = lr.coef_\n",
    "\n",
    "feature_names = X_train.columns\n",
    "preproc = lin_model.named_steps['prepoc']\n",
    "feature_names = preproc.get_feature_names_out()\n",
    "feat_imp = pd.Series(coefs, index=feature_names)\n",
    "feat_imp = feat_imp.reindex(feat_imp.abs().sort_values(ascending=False).index)\n",
    "\n",
    "print(\"Features mais importantes (descendente):\")\n",
    "print(feat_imp.head(10)) "
   ]
  },
  {
   "cell_type": "markdown",
   "metadata": {},
   "source": [
    "Analisando as features mais importantes para o modelo, podemos ver que por uma vantagem bem grande, a mais importante é `Gr.Liv.Area_log`, que faz sentido sendo que essa feature representa a soma do tamanho de todos os comodos da casa acima do solo."
   ]
  },
  {
   "cell_type": "code",
   "execution_count": 123,
   "metadata": {},
   "outputs": [
    {
     "data": {
      "image/png": "[encoded data removed]",
      "text/plain": [
       "<Figure size 640x480 with 1 Axes>"
      ]
     },
     "metadata": {},
     "output_type": "display_data"
    }
   ],
   "source": [
    "# 5) Plote real × predito\n",
    "from matplotlib import pyplot as plt\n",
    "plt.figure()\n",
    "plt.scatter(y_test, y_pred_log, alpha=0.6)\n",
    "minv = min(y_test.min(), y_pred_log.min())\n",
    "maxv = max(y_test.max(), y_pred_log.max())\n",
    "plt.plot([minv, maxv], [minv, maxv], '--', linewidth=1)\n",
    "plt.xlabel(\"Valores Reais\")\n",
    "plt.ylabel(\"Valores Preditos\")\n",
    "plt.title(\"Comparação: Reais vs Preditos (Linear Regressor)\")\n",
    "plt.tight_layout()\n",
    "plt.show()"
   ]
  },
  {
   "cell_type": "markdown",
   "metadata": {},
   "source": [
    "Análisando o plot entre os valores reais e os valores preditos pelo meu modelo. Podemos ver que ele tem uma certa dificuldade para valores maix baixos e também para valores mais altos, vamos analisar mais afundo isso "
   ]
  },
  {
   "cell_type": "code",
   "execution_count": 178,
   "metadata": {},
   "outputs": [
    {
     "data": {
      "image/png": "[encoded data removed]",
      "text/plain": [
       "<Figure size 640x480 with 1 Axes>"
      ]
     },
     "metadata": {},
     "output_type": "display_data"
    }
   ],
   "source": [
    "\n",
    "residuals = y_test - y_pred_log\n",
    "\n",
    "plt.figure()\n",
    "plt.hist(residuals, bins=30, density=True, alpha=0.6)\n",
    "mu, sigma = residuals.mean(), residuals.std()\n",
    "x = np.linspace(residuals.min(), residuals.max(), 100)\n",
    "plt.plot(x, 1/(sigma * np.sqrt(2*np.pi)) * np.exp(- (x-mu)**2 / (2*sigma**2)))\n",
    "plt.title(\"Histograma e Curva Normal Ajustada\")\n",
    "plt.xlabel(\"Resíduo\")\n",
    "plt.ylabel(\"Densidade\")\n",
    "plt.show()\n",
    "\n"
   ]
  },
  {
   "cell_type": "markdown",
   "metadata": {},
   "source": [
    "- A maioria dos resíduos se concentra em torno do zero, que é exatamente o que a gente queria. Podemos obsevar que a distribuição é quase normal, podemos ver que apesar de estar bem normalizada no meio, ainda temos alguns outliers. Vamos ver esses outliers um pouco melhor\n"
   ]
  },
  {
   "cell_type": "markdown",
   "metadata": {},
   "source": [
    "Aqui estamos comparando os resíduos com uma distribuição normal. Podemos ver que a maioria dos resíduos seguem uma distribuição normal, tirando os valores mais baixos que fogem bem da linha(que são os mesmos outliers do histograma), podemos observar também um outlier na parte mais alta dos valores.\n",
    "Vamos analisar esses outliers"
   ]
  },
  {
   "cell_type": "code",
   "execution_count": null,
   "metadata": {},
   "outputs": [
    {
     "name": "stdout",
     "output_type": "stream",
     "text": [
      "4 casos com resíduo muito alto (predito >> real) em valores originais:\n",
      "    Neighborhood House.Style Overall.Qual Full.Bath  Year.Remod.Add  \\\n",
      "241      Edwards      1Story            5         1            1999   \n",
      "125        NAmes      1Story            5         2            1958   \n",
      "279      Somerst      2Story            7         2            2003   \n",
      "297      NridgHt      2Story            7         2            2004   \n",
      "83       OldTown      1.5Fin            5         1            2003   \n",
      "\n",
      "    TotRms.AbvGrd Fireplaces Heating.QC Foundation Kitchen.AbvGr Roof.Style  \\\n",
      "241             7          0         Ex      PConc             1        Hip   \n",
      "125             8          0         TA     CBlock             2        Hip   \n",
      "279             4          0         Ex      PConc             1      Gable   \n",
      "297             8          1         Ex      PConc             1      Gable   \n",
      "83              5          0         Ex     CBlock             1      Gable   \n",
      "\n",
      "     Lot.Area_log  Lot.Frontage_log  Gr.Liv.Area_log Open.Porch.SF_bin  \\\n",
      "241      3.997255          1.875061         3.172019                 0   \n",
      "125      3.907304          1.845098         3.193125                 0   \n",
      "279      3.648067               NaN         3.033424                 1   \n",
      "297      4.026329          1.929419         3.310906                 1   \n",
      "83       3.961089          1.838849         3.007321                 0   \n",
      "\n",
      "       y_true    y_pred  residual  \n",
      "241  5.222716  5.198880  0.174675  \n",
      "125  5.109241  5.113196 -0.280491  \n",
      "279  5.143015  5.216581 -0.114295  \n",
      "297  5.453318  5.419823 -0.097575  \n",
      "83   5.056905  5.050138 -0.093644  \n"
     ]
    }
   ],
   "source": [
    "\n",
    "df_res = X_test.copy().reset_index(drop=True)\n",
    "df_res['y_true']    = y_test.values\n",
    "df_res['y_pred']    = y_pred_log\n",
    "df_res['residual']  = residuals\n",
    "\n",
    "\n",
    "df_real = df_res.copy()\n",
    "\n",
    "\n",
    "bottom4_real = df_real.nsmallest(4, 'residual')\n",
    "top1_real    = df_real.nlargest(1,    'residual')\n",
    "maiores = pd.concat([top1_real, bottom4_real], axis=0)\n",
    "print(\"4 casos com resíduo muito alto (predito >> real) em valores originais:\")\n",
    "print(maiores)\n"
   ]
  },
  {
   "cell_type": "code",
   "execution_count": null,
   "metadata": {},
   "outputs": [
    {
     "name": "stdout",
     "output_type": "stream",
     "text": [
      "4 casos com resíduo muito alto (predito >> real) em valores originais:\n",
      "     y_true_real    y_pred_real  residual_real\n",
      "241     167000.0  158081.002325    8918.997675\n",
      "125     128600.0  129776.508801   -1176.508801\n",
      "279     139000.0  164657.461072  -25657.461072\n",
      "297     284000.0  262919.716679   21080.283321\n",
      "83      114000.0  112237.503796    1762.496204\n"
     ]
    }
   ],
   "source": [
    "\n",
    "df_real = maiores.copy()\n",
    "\n",
    "df_real['y_true_real'] = 10**(df_real['y_true'])\n",
    "df_real['y_pred_real'] = 10**(df_real['y_pred'])\n",
    "\n",
    "df_real['residual_real'] = df_real['y_true_real'] - df_real['y_pred_real']\n",
    "\n",
    "\n",
    "print(\"4 casos com resíduo muito alto (predito >> real) em valores originais:\")\n",
    "print(df_real[['y_true_real','y_pred_real','residual_real']])"
   ]
  },
  {
   "cell_type": "code",
   "execution_count": 185,
   "metadata": {},
   "outputs": [
    {
     "name": "stdout",
     "output_type": "stream",
     "text": [
      "17153.02154295468\n"
     ]
    }
   ],
   "source": [
    "y_test_real = 10**y_test\n",
    "y_pred_real = 10**y_pred_log\n",
    "residuals_real = y_test_real - y_pred_real\n",
    "print(abs(residuals_real).mean())\n"
   ]
  },
  {
   "cell_type": "markdown",
   "metadata": {},
   "source": [
    "Analisando as features e os valores reais desses casos que o modelo acaba cometendo erros maiores, podemos tirar a conclusão que em casas menores, de qualidade média e que o ano da última renovação da casa foi em torno de 2000-2005, com valores mais baixos o modelo acaba cometendo erros maiores"
   ]
  },
  {
   "cell_type": "markdown",
   "metadata": {},
   "source": [
    "# Conclusão"
   ]
  },
  {
   "cell_type": "markdown",
   "metadata": {},
   "source": [
    "- O modelo alcançou um erro percentual médio de 13 % e um resíduo médio de R$ 17 153 no conjunto de teste, ao prever imóveis na faixa de R$ 100 000 a R$ 500 000. Esses resultados indicam que ele pode ser aplicado em cenários reais — respeitando as limitações descritas no `README.md`.\n",
    "Em particular, observou-se que o modelo tende a subperformar em casas de menor valor (por volta de R$ 100 000), com qualidade média e última reforma por volta de  2000 e 2005, apresentando aí maiores discrepâncias nas previsões.\n",
    "\n",
    "- A principal feature na determinação do preço do imóvel é  `Gr.Liv.Area_log`, que faz sentido sendo que essa feature representa a soma do tamanho de todos os comodos da casa acima do solo. Outras que também são importantes são `Lot.Area_log` que representa o tamamnho do lot em metros quadrados e `Overall.Qual`, que é a qualidade da casa\n",
    "\n",
    "- Próximos passos:  acredito que ainda seja possível achar um modelo melhor, talvez fazer um ensamble de modelos lineares, incluindo outros modelos lineares mais robustos e até o próprio ElasticNet dado que o desempenho dele não foi tão pior que o do modelo linear. Talvez seja até interessante separar um modelo específico para prever valores menores de casas."
   ]
  }
 ],
 "metadata": {
  "kernelspec": {
   "display_name": "base",
   "language": "python",
   "name": "python3"
  },
  "language_info": {
   "codemirror_mode": {
    "name": "ipython",
    "version": 3
   },
   "file_extension": ".py",
   "mimetype": "text/x-python",
   "name": "python",
   "nbconvert_exporter": "python",
   "pygments_lexer": "ipython3",
   "version": "3.12.2"
  }
 },
 "nbformat": 4,
 "nbformat_minor": 2
}
