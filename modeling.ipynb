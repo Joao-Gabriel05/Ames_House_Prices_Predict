{
 "cells": [
  {
   "cell_type": "markdown",
   "metadata": {},
   "source": [
    "# Separação treino-teste"
   ]
  },
  {
   "cell_type": "code",
   "execution_count": 1,
   "metadata": {},
   "outputs": [],
   "source": [
    "from loader_and_preprocess_funcs import *"
   ]
  },
  {
   "cell_type": "code",
   "execution_count": 2,
   "metadata": {},
   "outputs": [],
   "source": [
    "data =load__data()"
   ]
  },
  {
   "cell_type": "code",
   "execution_count": 3,
   "metadata": {},
   "outputs": [],
   "source": [
    "top15 = ['Neighborhood','House.Style','Overall.Qual','Full.Bath','Year.Remod.Add','Lot.Area','TotRms.AbvGrd','Fireplaces','Heating.QC','Lot.Frontage',\n",
    "             'Foundation','Gr.Liv.Area','Kitchen.AbvGr','Open.Porch.SF','Roof.Style','SalePrice']\n",
    "\n",
    "data = choose_feat(data,top15)"
   ]
  },
  {
   "cell_type": "code",
   "execution_count": 4,
   "metadata": {},
   "outputs": [
    {
     "data": {
      "text/html": [
       "<div>\n",
       "<style scoped>\n",
       "    .dataframe tbody tr th:only-of-type {\n",
       "        vertical-align: middle;\n",
       "    }\n",
       "\n",
       "    .dataframe tbody tr th {\n",
       "        vertical-align: top;\n",
       "    }\n",
       "\n",
       "    .dataframe thead th {\n",
       "        text-align: right;\n",
       "    }\n",
       "</style>\n",
       "<table border=\"1\" class=\"dataframe\">\n",
       "  <thead>\n",
       "    <tr style=\"text-align: right;\">\n",
       "      <th></th>\n",
       "      <th>Neighborhood</th>\n",
       "      <th>House.Style</th>\n",
       "      <th>Overall.Qual</th>\n",
       "      <th>Full.Bath</th>\n",
       "      <th>Year.Remod.Add</th>\n",
       "      <th>Lot.Area</th>\n",
       "      <th>TotRms.AbvGrd</th>\n",
       "      <th>Fireplaces</th>\n",
       "      <th>Heating.QC</th>\n",
       "      <th>Lot.Frontage</th>\n",
       "      <th>Foundation</th>\n",
       "      <th>Gr.Liv.Area</th>\n",
       "      <th>Kitchen.AbvGr</th>\n",
       "      <th>Open.Porch.SF</th>\n",
       "      <th>Roof.Style</th>\n",
       "      <th>SalePrice</th>\n",
       "    </tr>\n",
       "  </thead>\n",
       "  <tbody>\n",
       "    <tr>\n",
       "      <th>0</th>\n",
       "      <td>NAmes</td>\n",
       "      <td>1Story</td>\n",
       "      <td>6</td>\n",
       "      <td>1</td>\n",
       "      <td>1960</td>\n",
       "      <td>31770</td>\n",
       "      <td>7</td>\n",
       "      <td>2</td>\n",
       "      <td>Fa</td>\n",
       "      <td>141.0</td>\n",
       "      <td>CBlock</td>\n",
       "      <td>1656</td>\n",
       "      <td>1</td>\n",
       "      <td>62</td>\n",
       "      <td>Hip</td>\n",
       "      <td>215000</td>\n",
       "    </tr>\n",
       "    <tr>\n",
       "      <th>1</th>\n",
       "      <td>NAmes</td>\n",
       "      <td>1Story</td>\n",
       "      <td>5</td>\n",
       "      <td>1</td>\n",
       "      <td>1961</td>\n",
       "      <td>11622</td>\n",
       "      <td>5</td>\n",
       "      <td>0</td>\n",
       "      <td>TA</td>\n",
       "      <td>80.0</td>\n",
       "      <td>CBlock</td>\n",
       "      <td>896</td>\n",
       "      <td>1</td>\n",
       "      <td>0</td>\n",
       "      <td>Gable</td>\n",
       "      <td>105000</td>\n",
       "    </tr>\n",
       "    <tr>\n",
       "      <th>2</th>\n",
       "      <td>NAmes</td>\n",
       "      <td>1Story</td>\n",
       "      <td>6</td>\n",
       "      <td>1</td>\n",
       "      <td>1958</td>\n",
       "      <td>14267</td>\n",
       "      <td>6</td>\n",
       "      <td>0</td>\n",
       "      <td>TA</td>\n",
       "      <td>81.0</td>\n",
       "      <td>CBlock</td>\n",
       "      <td>1329</td>\n",
       "      <td>1</td>\n",
       "      <td>36</td>\n",
       "      <td>Hip</td>\n",
       "      <td>172000</td>\n",
       "    </tr>\n",
       "    <tr>\n",
       "      <th>3</th>\n",
       "      <td>NAmes</td>\n",
       "      <td>1Story</td>\n",
       "      <td>7</td>\n",
       "      <td>2</td>\n",
       "      <td>1968</td>\n",
       "      <td>11160</td>\n",
       "      <td>8</td>\n",
       "      <td>2</td>\n",
       "      <td>Ex</td>\n",
       "      <td>93.0</td>\n",
       "      <td>CBlock</td>\n",
       "      <td>2110</td>\n",
       "      <td>1</td>\n",
       "      <td>0</td>\n",
       "      <td>Hip</td>\n",
       "      <td>244000</td>\n",
       "    </tr>\n",
       "    <tr>\n",
       "      <th>4</th>\n",
       "      <td>Gilbert</td>\n",
       "      <td>2Story</td>\n",
       "      <td>5</td>\n",
       "      <td>2</td>\n",
       "      <td>1998</td>\n",
       "      <td>13830</td>\n",
       "      <td>6</td>\n",
       "      <td>1</td>\n",
       "      <td>Gd</td>\n",
       "      <td>74.0</td>\n",
       "      <td>PConc</td>\n",
       "      <td>1629</td>\n",
       "      <td>1</td>\n",
       "      <td>34</td>\n",
       "      <td>Gable</td>\n",
       "      <td>189900</td>\n",
       "    </tr>\n",
       "    <tr>\n",
       "      <th>...</th>\n",
       "      <td>...</td>\n",
       "      <td>...</td>\n",
       "      <td>...</td>\n",
       "      <td>...</td>\n",
       "      <td>...</td>\n",
       "      <td>...</td>\n",
       "      <td>...</td>\n",
       "      <td>...</td>\n",
       "      <td>...</td>\n",
       "      <td>...</td>\n",
       "      <td>...</td>\n",
       "      <td>...</td>\n",
       "      <td>...</td>\n",
       "      <td>...</td>\n",
       "      <td>...</td>\n",
       "      <td>...</td>\n",
       "    </tr>\n",
       "    <tr>\n",
       "      <th>2925</th>\n",
       "      <td>Mitchel</td>\n",
       "      <td>SLvl</td>\n",
       "      <td>6</td>\n",
       "      <td>1</td>\n",
       "      <td>1984</td>\n",
       "      <td>7937</td>\n",
       "      <td>6</td>\n",
       "      <td>0</td>\n",
       "      <td>TA</td>\n",
       "      <td>37.0</td>\n",
       "      <td>CBlock</td>\n",
       "      <td>1003</td>\n",
       "      <td>1</td>\n",
       "      <td>0</td>\n",
       "      <td>Gable</td>\n",
       "      <td>142500</td>\n",
       "    </tr>\n",
       "    <tr>\n",
       "      <th>2926</th>\n",
       "      <td>Mitchel</td>\n",
       "      <td>1Story</td>\n",
       "      <td>5</td>\n",
       "      <td>1</td>\n",
       "      <td>1983</td>\n",
       "      <td>8885</td>\n",
       "      <td>5</td>\n",
       "      <td>0</td>\n",
       "      <td>TA</td>\n",
       "      <td>NaN</td>\n",
       "      <td>CBlock</td>\n",
       "      <td>902</td>\n",
       "      <td>1</td>\n",
       "      <td>0</td>\n",
       "      <td>Gable</td>\n",
       "      <td>131000</td>\n",
       "    </tr>\n",
       "    <tr>\n",
       "      <th>2927</th>\n",
       "      <td>Mitchel</td>\n",
       "      <td>SFoyer</td>\n",
       "      <td>5</td>\n",
       "      <td>1</td>\n",
       "      <td>1992</td>\n",
       "      <td>10441</td>\n",
       "      <td>6</td>\n",
       "      <td>0</td>\n",
       "      <td>TA</td>\n",
       "      <td>62.0</td>\n",
       "      <td>PConc</td>\n",
       "      <td>970</td>\n",
       "      <td>1</td>\n",
       "      <td>32</td>\n",
       "      <td>Gable</td>\n",
       "      <td>132000</td>\n",
       "    </tr>\n",
       "    <tr>\n",
       "      <th>2928</th>\n",
       "      <td>Mitchel</td>\n",
       "      <td>1Story</td>\n",
       "      <td>5</td>\n",
       "      <td>1</td>\n",
       "      <td>1975</td>\n",
       "      <td>10010</td>\n",
       "      <td>6</td>\n",
       "      <td>1</td>\n",
       "      <td>Gd</td>\n",
       "      <td>77.0</td>\n",
       "      <td>CBlock</td>\n",
       "      <td>1389</td>\n",
       "      <td>1</td>\n",
       "      <td>38</td>\n",
       "      <td>Gable</td>\n",
       "      <td>170000</td>\n",
       "    </tr>\n",
       "    <tr>\n",
       "      <th>2929</th>\n",
       "      <td>Mitchel</td>\n",
       "      <td>2Story</td>\n",
       "      <td>7</td>\n",
       "      <td>2</td>\n",
       "      <td>1994</td>\n",
       "      <td>9627</td>\n",
       "      <td>9</td>\n",
       "      <td>1</td>\n",
       "      <td>Ex</td>\n",
       "      <td>74.0</td>\n",
       "      <td>PConc</td>\n",
       "      <td>2000</td>\n",
       "      <td>1</td>\n",
       "      <td>48</td>\n",
       "      <td>Gable</td>\n",
       "      <td>188000</td>\n",
       "    </tr>\n",
       "  </tbody>\n",
       "</table>\n",
       "<p>2930 rows × 16 columns</p>\n",
       "</div>"
      ],
      "text/plain": [
       "     Neighborhood House.Style  Overall.Qual  Full.Bath  Year.Remod.Add  \\\n",
       "0           NAmes      1Story             6          1            1960   \n",
       "1           NAmes      1Story             5          1            1961   \n",
       "2           NAmes      1Story             6          1            1958   \n",
       "3           NAmes      1Story             7          2            1968   \n",
       "4         Gilbert      2Story             5          2            1998   \n",
       "...           ...         ...           ...        ...             ...   \n",
       "2925      Mitchel        SLvl             6          1            1984   \n",
       "2926      Mitchel      1Story             5          1            1983   \n",
       "2927      Mitchel      SFoyer             5          1            1992   \n",
       "2928      Mitchel      1Story             5          1            1975   \n",
       "2929      Mitchel      2Story             7          2            1994   \n",
       "\n",
       "      Lot.Area  TotRms.AbvGrd  Fireplaces Heating.QC  Lot.Frontage Foundation  \\\n",
       "0        31770              7           2         Fa         141.0     CBlock   \n",
       "1        11622              5           0         TA          80.0     CBlock   \n",
       "2        14267              6           0         TA          81.0     CBlock   \n",
       "3        11160              8           2         Ex          93.0     CBlock   \n",
       "4        13830              6           1         Gd          74.0      PConc   \n",
       "...        ...            ...         ...        ...           ...        ...   \n",
       "2925      7937              6           0         TA          37.0     CBlock   \n",
       "2926      8885              5           0         TA           NaN     CBlock   \n",
       "2927     10441              6           0         TA          62.0      PConc   \n",
       "2928     10010              6           1         Gd          77.0     CBlock   \n",
       "2929      9627              9           1         Ex          74.0      PConc   \n",
       "\n",
       "      Gr.Liv.Area  Kitchen.AbvGr  Open.Porch.SF Roof.Style  SalePrice  \n",
       "0            1656              1             62        Hip     215000  \n",
       "1             896              1              0      Gable     105000  \n",
       "2            1329              1             36        Hip     172000  \n",
       "3            2110              1              0        Hip     244000  \n",
       "4            1629              1             34      Gable     189900  \n",
       "...           ...            ...            ...        ...        ...  \n",
       "2925         1003              1              0      Gable     142500  \n",
       "2926          902              1              0      Gable     131000  \n",
       "2927          970              1             32      Gable     132000  \n",
       "2928         1389              1             38      Gable     170000  \n",
       "2929         2000              1             48      Gable     188000  \n",
       "\n",
       "[2930 rows x 16 columns]"
      ]
     },
     "execution_count": 4,
     "metadata": {},
     "output_type": "execute_result"
    }
   ],
   "source": [
    "data"
   ]
  },
  {
   "cell_type": "code",
   "execution_count": 5,
   "metadata": {},
   "outputs": [],
   "source": [
    "data = preprocessor(data)"
   ]
  },
  {
   "cell_type": "code",
   "execution_count": 6,
   "metadata": {},
   "outputs": [
    {
     "name": "stdout",
     "output_type": "stream",
     "text": [
      "<class 'pandas.core.frame.DataFrame'>\n",
      "Index: 2273 entries, 1 to 2929\n",
      "Data columns (total 16 columns):\n",
      " #   Column             Non-Null Count  Dtype  \n",
      "---  ------             --------------  -----  \n",
      " 0   Neighborhood       2273 non-null   object \n",
      " 1   House.Style        2273 non-null   object \n",
      " 2   Overall.Qual       2273 non-null   object \n",
      " 3   Full.Bath          2273 non-null   object \n",
      " 4   Year.Remod.Add     2273 non-null   int64  \n",
      " 5   TotRms.AbvGrd      2273 non-null   object \n",
      " 6   Fireplaces         2273 non-null   object \n",
      " 7   Heating.QC         2273 non-null   object \n",
      " 8   Foundation         2273 non-null   object \n",
      " 9   Kitchen.AbvGr      2273 non-null   object \n",
      " 10  Roof.Style         2273 non-null   object \n",
      " 11  Lot.Area_log       2273 non-null   float64\n",
      " 12  Lot.Frontage_log   1878 non-null   float64\n",
      " 13  Gr.Liv.Area_log    2273 non-null   float64\n",
      " 14  SalePrice_log      2273 non-null   float64\n",
      " 15  Open.Porch.SF_bin  2273 non-null   object \n",
      "dtypes: float64(4), int64(1), object(11)\n",
      "memory usage: 301.9+ KB\n"
     ]
    }
   ],
   "source": [
    "data.info()"
   ]
  },
  {
   "cell_type": "code",
   "execution_count": 7,
   "metadata": {},
   "outputs": [],
   "source": [
    "from sklearn.model_selection import train_test_split"
   ]
  },
  {
   "cell_type": "code",
   "execution_count": 8,
   "metadata": {},
   "outputs": [],
   "source": [
    "y = data['SalePrice_log']\n",
    "X = data.drop(columns=['SalePrice_log'])\n",
    "X_train, X_test, y_train, y_test = train_test_split(X, y, test_size=0.2, random_state=42)"
   ]
  },
  {
   "cell_type": "markdown",
   "metadata": {},
   "source": [
    "# Pipeline Global"
   ]
  },
  {
   "cell_type": "code",
   "execution_count": 163,
   "metadata": {},
   "outputs": [],
   "source": [
    "\n",
    "from sklearn.pipeline import Pipeline\n",
    "from sklearn.compose import ColumnTransformer\n",
    "from sklearn.impute import SimpleImputer\n",
    "from sklearn.preprocessing import StandardScaler, OneHotEncoder,PolynomialFeatures\n",
    "from sklearn.model_selection import cross_val_score\n",
    "import optuna\n",
    "from optuna.visualization import *\n",
    "import plotly\n",
    "import optuna\n",
    "import nbformat "
   ]
  },
  {
   "cell_type": "code",
   "execution_count": 67,
   "metadata": {},
   "outputs": [],
   "source": [
    "num_cols =['Gr.Liv.Area_log','Lot.Area_log','Lot.Frontage_log','Year.Remod.Add']\n",
    "cat_cols = X.select_dtypes(include=['object', 'category']).columns.tolist()\n",
    "\n",
    "numeric_pipeline = Pipeline([\n",
    "    ('imputer', SimpleImputer(strategy='mean')),\n",
    "        ('poly', PolynomialFeatures(degree=3, include_bias=False))\n",
    "])\n",
    "\n",
    "categorical_pipeline = Pipeline([\n",
    "    ('imputer', SimpleImputer(strategy='most_frequent')),\n",
    "    ('onehot',  OneHotEncoder(handle_unknown='ignore', sparse_output=False,drop='first')),\n",
    "])\n",
    "\n",
    "preprocessor = ColumnTransformer([\n",
    "    ('num', numeric_pipeline,      num_cols),\n",
    "    ('cat', categorical_pipeline,  cat_cols),\n",
    "],\n",
    "remainder='passthrough')\n",
    "\n"
   ]
  },
  {
   "cell_type": "markdown",
   "metadata": {},
   "source": [
    "# Modelos"
   ]
  },
  {
   "cell_type": "markdown",
   "metadata": {},
   "source": [
    "ElasticNet, SVM, Trees e ensamble(cpa)"
   ]
  },
  {
   "cell_type": "code",
   "execution_count": 11,
   "metadata": {},
   "outputs": [],
   "source": [
    "def print_cv_results(model_name, cv_results):\n",
    "    cv_results = -cv_results\n",
    "\n",
    "    print(f'{model_name} CV results:')\n",
    "    print(cv_results)\n",
    "\n",
    "    mean_rmse = cv_results.mean()\n",
    "    std_rmse = cv_results.std()\n",
    "\n",
    "    print(f'RMSE: {mean_rmse:.2f} +/- {std_rmse:.2f}')\n",
    "    print()"
   ]
  },
  {
   "cell_type": "code",
   "execution_count": 54,
   "metadata": {},
   "outputs": [],
   "source": [
    "result = pd.DataFrame()"
   ]
  },
  {
   "cell_type": "markdown",
   "metadata": {},
   "source": [
    "# Dummy model"
   ]
  },
  {
   "cell_type": "code",
   "execution_count": 154,
   "metadata": {},
   "outputs": [],
   "source": [
    "from sklearn.dummy import DummyRegressor"
   ]
  },
  {
   "cell_type": "code",
   "execution_count": 294,
   "metadata": {},
   "outputs": [],
   "source": [
    "from sklearn.impute          import SimpleImputer\n",
    "from sklearn.preprocessing  import StandardScaler, PolynomialFeatures, OneHotEncoder\n",
    "from sklearn.compose        import ColumnTransformer\n",
    "from sklearn.pipeline       import Pipeline\n",
    "from sklearn.dummy          import DummyRegressor\n",
    "from sklearn.model_selection import cross_val_score\n",
    "\n",
    "def objective(trial):\n",
    "    strategy     = trial.suggest_categorical(\n",
    "        'strategy',\n",
    "        ['mean', 'median', 'constant']\n",
    "    )\n",
    "    if strategy == 'constant':\n",
    "        constant_val = trial.suggest_float('constant_val', 0.0, 1.0)\n",
    "    use_scaler  = trial.suggest_categorical('use_scaler', [False, True])\n",
    "    if use_scaler:\n",
    "        with_mean = trial.suggest_categorical('with_mean', [True, False])\n",
    "        with_std  = trial.suggest_categorical('with_std',  [True, False])\n",
    "    else:\n",
    "        with_mean = False\n",
    "        with_std  = False\n",
    "\n",
    "    poly_degree = trial.suggest_int('poly_degree', 1, 5)\n",
    "    num_steps = [('imputer', SimpleImputer(strategy='mean'))]\n",
    "    if use_scaler:\n",
    "        num_steps.append((\n",
    "            'scaler',\n",
    "            StandardScaler(with_mean=with_mean, with_std=with_std)\n",
    "        ))\n",
    "    num_steps.append((\n",
    "        'poly',\n",
    "        PolynomialFeatures(degree=poly_degree, include_bias=False)\n",
    "    ))\n",
    "    numeric_pipeline = Pipeline(num_steps)\n",
    "\n",
    "    categorical_pipeline = Pipeline([\n",
    "        ('imputer', SimpleImputer(strategy='most_frequent')),\n",
    "        ('onehot',  OneHotEncoder(handle_unknown='ignore',\n",
    "                                  sparse_output=False,\n",
    "                                  drop='first')),\n",
    "    ])\n",
    "\n",
    "    preprocessor = ColumnTransformer(\n",
    "        [\n",
    "            ('num', numeric_pipeline, num_cols),\n",
    "            ('cat', categorical_pipeline, cat_cols),\n",
    "        ],\n",
    "        remainder='passthrough'\n",
    "    )\n",
    "\n",
    "    dummy_kwargs = {'strategy': strategy}\n",
    "    if strategy == 'constant':\n",
    "        dummy_kwargs['constant'] = constant_val\n",
    "\n",
    "    model = Pipeline([\n",
    "        ('preproc', preprocessor),\n",
    "        ('dummy',  DummyRegressor(**dummy_kwargs)),\n",
    "    ])\n",
    "\n",
    "    neg_mse = cross_val_score(\n",
    "        model,\n",
    "        X_train, y_train,\n",
    "        cv=5,\n",
    "        scoring='neg_mean_squared_error',\n",
    "        n_jobs=-1\n",
    "    ).mean()\n",
    "\n",
    "    return neg_mse\n"
   ]
  },
  {
   "cell_type": "code",
   "execution_count": 295,
   "metadata": {},
   "outputs": [
    {
     "name": "stderr",
     "output_type": "stream",
     "text": [
      "[I 2025-05-03 19:43:13,757] A new study created in memory with name: no-name-d4033223-6c19-4741-9ac8-b89f20ab0b8a\n"
     ]
    }
   ],
   "source": [
    "study = optuna.create_study(direction='maximize', sampler=optuna.samplers.RandomSampler(seed=42)) "
   ]
  },
  {
   "cell_type": "code",
   "execution_count": 296,
   "metadata": {},
   "outputs": [
    {
     "name": "stderr",
     "output_type": "stream",
     "text": [
      "[I 2025-05-03 19:43:15,394] Trial 0 finished with value: -0.024529403559009882 and parameters: {'strategy': 'median', 'use_scaler': False, 'poly_degree': 1}. Best is trial 0 with value: -0.024529403559009882.\n",
      "[I 2025-05-03 19:43:15,500] Trial 1 finished with value: -0.024529403559009882 and parameters: {'strategy': 'median', 'use_scaler': False, 'poly_degree': 5}. Best is trial 0 with value: -0.024529403559009882.\n",
      "[I 2025-05-03 19:43:15,635] Trial 2 finished with value: -0.024290639236509086 and parameters: {'strategy': 'mean', 'use_scaler': True, 'with_mean': True, 'with_std': False, 'poly_degree': 1}. Best is trial 2 with value: -0.024290639236509086.\n",
      "[I 2025-05-03 19:43:15,678] Trial 3 finished with value: -19.97385203085658 and parameters: {'strategy': 'constant', 'constant_val': 0.7851759613930136, 'use_scaler': True, 'with_mean': True, 'with_std': True, 'poly_degree': 1}. Best is trial 2 with value: -0.024290639236509086.\n",
      "[I 2025-05-03 19:43:15,736] Trial 4 finished with value: -0.024529403559009882 and parameters: {'strategy': 'median', 'use_scaler': False, 'poly_degree': 4}. Best is trial 2 with value: -0.024290639236509086.\n",
      "[I 2025-05-03 19:43:15,778] Trial 5 finished with value: -27.244309592958263 and parameters: {'strategy': 'constant', 'constant_val': 0.034388521115218396, 'use_scaler': False, 'poly_degree': 4}. Best is trial 2 with value: -0.024290639236509086.\n",
      "[I 2025-05-03 19:43:15,830] Trial 6 finished with value: -25.69690321873502 and parameters: {'strategy': 'constant', 'constant_val': 0.18485445552552704, 'use_scaler': False, 'poly_degree': 5}. Best is trial 2 with value: -0.024290639236509086.\n",
      "[I 2025-05-03 19:43:15,898] Trial 7 finished with value: -26.68268540023302 and parameters: {'strategy': 'constant', 'constant_val': 0.0884925020519195, 'use_scaler': False, 'poly_degree': 2}. Best is trial 2 with value: -0.024290639236509086.\n",
      "[I 2025-05-03 19:43:15,954] Trial 8 finished with value: -23.98449257447841 and parameters: {'strategy': 'constant', 'constant_val': 0.3567533266935893, 'use_scaler': True, 'with_mean': False, 'with_std': False, 'poly_degree': 4}. Best is trial 2 with value: -0.024290639236509086.\n",
      "[I 2025-05-03 19:43:16,018] Trial 9 finished with value: -20.679605168660864 and parameters: {'strategy': 'constant', 'constant_val': 0.7068573438476171, 'use_scaler': True, 'with_mean': False, 'with_std': False, 'poly_degree': 4}. Best is trial 2 with value: -0.024290639236509086.\n",
      "[I 2025-05-03 19:43:16,111] Trial 10 finished with value: -0.024290639236509086 and parameters: {'strategy': 'mean', 'use_scaler': True, 'with_mean': False, 'with_std': True, 'poly_degree': 4}. Best is trial 2 with value: -0.024290639236509086.\n",
      "[I 2025-05-03 19:43:16,174] Trial 11 finished with value: -22.661652080058992 and parameters: {'strategy': 'constant', 'constant_val': 0.49379559636439074, 'use_scaler': False, 'poly_degree': 1}. Best is trial 2 with value: -0.024290639236509086.\n",
      "[I 2025-05-03 19:43:16,225] Trial 12 finished with value: -24.401353087204043 and parameters: {'strategy': 'constant', 'constant_val': 0.3143559810763267, 'use_scaler': True, 'with_mean': False, 'with_std': True, 'poly_degree': 1}. Best is trial 2 with value: -0.024290639236509086.\n",
      "[I 2025-05-03 19:43:16,261] Trial 13 finished with value: -19.769416247048525 and parameters: {'strategy': 'constant', 'constant_val': 0.808120379564417, 'use_scaler': True, 'with_mean': True, 'with_std': True, 'poly_degree': 5}. Best is trial 2 with value: -0.024290639236509086.\n",
      "[I 2025-05-03 19:43:16,301] Trial 14 finished with value: -0.024290639236509086 and parameters: {'strategy': 'mean', 'use_scaler': True, 'with_mean': False, 'with_std': False, 'poly_degree': 3}. Best is trial 2 with value: -0.024290639236509086.\n",
      "[I 2025-05-03 19:43:16,339] Trial 15 finished with value: -18.589698211925676 and parameters: {'strategy': 'constant', 'constant_val': 0.9429097039125192, 'use_scaler': True, 'with_mean': True, 'with_std': True, 'poly_degree': 2}. Best is trial 2 with value: -0.024290639236509086.\n",
      "[I 2025-05-03 19:43:16,389] Trial 16 finished with value: -0.024290639236509086 and parameters: {'strategy': 'mean', 'use_scaler': True, 'with_mean': True, 'with_std': False, 'poly_degree': 2}. Best is trial 2 with value: -0.024290639236509086.\n",
      "[I 2025-05-03 19:43:16,500] Trial 17 finished with value: -25.120523144584887 and parameters: {'strategy': 'constant', 'constant_val': 0.2420552715115004, 'use_scaler': True, 'with_mean': False, 'with_std': False, 'poly_degree': 4}. Best is trial 2 with value: -0.024290639236509086.\n",
      "[I 2025-05-03 19:43:16,608] Trial 18 finished with value: -24.33795891257963 and parameters: {'strategy': 'constant', 'constant_val': 0.32078006497173583, 'use_scaler': False, 'poly_degree': 3}. Best is trial 2 with value: -0.024290639236509086.\n",
      "[I 2025-05-03 19:43:16,661] Trial 19 finished with value: -0.024290639236509086 and parameters: {'strategy': 'mean', 'use_scaler': True, 'with_mean': False, 'with_std': False, 'poly_degree': 1}. Best is trial 2 with value: -0.024290639236509086.\n",
      "[I 2025-05-03 19:43:16,703] Trial 20 finished with value: -19.159051574945284 and parameters: {'strategy': 'constant', 'constant_val': 0.877339353380981, 'use_scaler': True, 'with_mean': True, 'with_std': True, 'poly_degree': 1}. Best is trial 2 with value: -0.024290639236509086.\n",
      "[I 2025-05-03 19:43:16,758] Trial 21 finished with value: -0.024529403559009882 and parameters: {'strategy': 'median', 'use_scaler': True, 'with_mean': False, 'with_std': True, 'poly_degree': 4}. Best is trial 2 with value: -0.024290639236509086.\n",
      "[I 2025-05-03 19:43:16,801] Trial 22 finished with value: -21.602546553727045 and parameters: {'strategy': 'constant', 'constant_val': 0.6064290596595899, 'use_scaler': True, 'with_mean': True, 'with_std': False, 'poly_degree': 4}. Best is trial 2 with value: -0.024290639236509086.\n",
      "[I 2025-05-03 19:43:16,840] Trial 23 finished with value: -25.168700507832447 and parameters: {'strategy': 'constant', 'constant_val': 0.23724908749680007, 'use_scaler': True, 'with_mean': False, 'with_std': True, 'poly_degree': 1}. Best is trial 2 with value: -0.024290639236509086.\n",
      "[I 2025-05-03 19:43:16,881] Trial 24 finished with value: -0.024290639236509086 and parameters: {'strategy': 'mean', 'use_scaler': False, 'poly_degree': 5}. Best is trial 2 with value: -0.024290639236509086.\n",
      "[I 2025-05-03 19:43:16,919] Trial 25 finished with value: -0.024529403559009882 and parameters: {'strategy': 'median', 'use_scaler': False, 'poly_degree': 1}. Best is trial 2 with value: -0.024290639236509086.\n",
      "[I 2025-05-03 19:43:16,959] Trial 26 finished with value: -0.024290639236509086 and parameters: {'strategy': 'mean', 'use_scaler': False, 'poly_degree': 5}. Best is trial 2 with value: -0.024290639236509086.\n",
      "[I 2025-05-03 19:43:16,998] Trial 27 finished with value: -0.024290639236509086 and parameters: {'strategy': 'mean', 'use_scaler': True, 'with_mean': False, 'with_std': True, 'poly_degree': 2}. Best is trial 2 with value: -0.024290639236509086.\n",
      "[I 2025-05-03 19:43:17,036] Trial 28 finished with value: -0.024529403559009882 and parameters: {'strategy': 'median', 'use_scaler': True, 'with_mean': True, 'with_std': True, 'poly_degree': 4}. Best is trial 2 with value: -0.024290639236509086.\n",
      "[I 2025-05-03 19:43:17,075] Trial 29 finished with value: -0.024290639236509086 and parameters: {'strategy': 'mean', 'use_scaler': False, 'poly_degree': 4}. Best is trial 2 with value: -0.024290639236509086.\n",
      "[I 2025-05-03 19:43:17,128] Trial 30 finished with value: -0.024290639236509086 and parameters: {'strategy': 'mean', 'use_scaler': True, 'with_mean': False, 'with_std': True, 'poly_degree': 4}. Best is trial 2 with value: -0.024290639236509086.\n",
      "[I 2025-05-03 19:43:17,204] Trial 31 finished with value: -19.048401550506547 and parameters: {'strategy': 'constant', 'constant_val': 0.8900053418175663, 'use_scaler': True, 'with_mean': False, 'with_std': False, 'poly_degree': 3}. Best is trial 2 with value: -0.024290639236509086.\n",
      "[I 2025-05-03 19:43:17,256] Trial 32 finished with value: -0.024529403559009882 and parameters: {'strategy': 'median', 'use_scaler': True, 'with_mean': True, 'with_std': False, 'poly_degree': 2}. Best is trial 2 with value: -0.024290639236509086.\n",
      "[I 2025-05-03 19:43:17,298] Trial 33 finished with value: -0.024290639236509086 and parameters: {'strategy': 'mean', 'use_scaler': True, 'with_mean': False, 'with_std': True, 'poly_degree': 2}. Best is trial 2 with value: -0.024290639236509086.\n",
      "[I 2025-05-03 19:43:17,338] Trial 34 finished with value: -0.024290639236509086 and parameters: {'strategy': 'mean', 'use_scaler': False, 'poly_degree': 5}. Best is trial 2 with value: -0.024290639236509086.\n",
      "[I 2025-05-03 19:43:17,377] Trial 35 finished with value: -0.024290639236509086 and parameters: {'strategy': 'mean', 'use_scaler': False, 'poly_degree': 2}. Best is trial 2 with value: -0.024290639236509086.\n",
      "[I 2025-05-03 19:43:17,417] Trial 36 finished with value: -0.024529403559009882 and parameters: {'strategy': 'median', 'use_scaler': True, 'with_mean': True, 'with_std': True, 'poly_degree': 2}. Best is trial 2 with value: -0.024290639236509086.\n",
      "[I 2025-05-03 19:43:17,457] Trial 37 finished with value: -0.024529403559009882 and parameters: {'strategy': 'median', 'use_scaler': False, 'poly_degree': 1}. Best is trial 2 with value: -0.024290639236509086.\n",
      "[I 2025-05-03 19:43:17,511] Trial 38 finished with value: -0.024290639236509086 and parameters: {'strategy': 'mean', 'use_scaler': True, 'with_mean': True, 'with_std': True, 'poly_degree': 4}. Best is trial 2 with value: -0.024290639236509086.\n",
      "[I 2025-05-03 19:43:17,568] Trial 39 finished with value: -0.024290639236509086 and parameters: {'strategy': 'mean', 'use_scaler': False, 'poly_degree': 5}. Best is trial 2 with value: -0.024290639236509086.\n",
      "[I 2025-05-03 19:43:17,607] Trial 40 finished with value: -0.024290639236509086 and parameters: {'strategy': 'mean', 'use_scaler': False, 'poly_degree': 3}. Best is trial 2 with value: -0.024290639236509086.\n",
      "[I 2025-05-03 19:43:17,649] Trial 41 finished with value: -0.024290639236509086 and parameters: {'strategy': 'mean', 'use_scaler': False, 'poly_degree': 3}. Best is trial 2 with value: -0.024290639236509086.\n",
      "[I 2025-05-03 19:43:17,688] Trial 42 finished with value: -18.914774911362095 and parameters: {'strategy': 'constant', 'constant_val': 0.9053506419560637, 'use_scaler': False, 'poly_degree': 1}. Best is trial 2 with value: -0.024290639236509086.\n",
      "[I 2025-05-03 19:43:17,740] Trial 43 finished with value: -26.86167057076143 and parameters: {'strategy': 'constant', 'constant_val': 0.07118864846022899, 'use_scaler': True, 'with_mean': False, 'with_std': True, 'poly_degree': 4}. Best is trial 2 with value: -0.024290639236509086.\n",
      "[I 2025-05-03 19:43:17,795] Trial 44 finished with value: -0.024529403559009882 and parameters: {'strategy': 'median', 'use_scaler': False, 'poly_degree': 1}. Best is trial 2 with value: -0.024290639236509086.\n",
      "[I 2025-05-03 19:43:17,871] Trial 45 finished with value: -23.440710682085182 and parameters: {'strategy': 'constant', 'constant_val': 0.4126176769114265, 'use_scaler': True, 'with_mean': False, 'with_std': True, 'poly_degree': 4}. Best is trial 2 with value: -0.024290639236509086.\n",
      "[I 2025-05-03 19:43:17,929] Trial 46 finished with value: -22.552763526351917 and parameters: {'strategy': 'constant', 'constant_val': 0.5052523724478571, 'use_scaler': False, 'poly_degree': 5}. Best is trial 2 with value: -0.024290639236509086.\n",
      "[I 2025-05-03 19:43:17,973] Trial 47 finished with value: -26.653839565450284 and parameters: {'strategy': 'constant', 'constant_val': 0.09128667678613356, 'use_scaler': True, 'with_mean': True, 'with_std': True, 'poly_degree': 2}. Best is trial 2 with value: -0.024290639236509086.\n",
      "[I 2025-05-03 19:43:18,011] Trial 48 finished with value: -19.916694367670896 and parameters: {'strategy': 'constant', 'constant_val': 0.7915790437258485, 'use_scaler': False, 'poly_degree': 3}. Best is trial 2 with value: -0.024290639236509086.\n",
      "[I 2025-05-03 19:43:18,050] Trial 49 finished with value: -0.024529403559009882 and parameters: {'strategy': 'median', 'use_scaler': False, 'poly_degree': 1}. Best is trial 2 with value: -0.024290639236509086.\n",
      "[I 2025-05-03 19:43:18,088] Trial 50 finished with value: -0.024529403559009882 and parameters: {'strategy': 'median', 'use_scaler': False, 'poly_degree': 4}. Best is trial 2 with value: -0.024290639236509086.\n",
      "[I 2025-05-03 19:43:18,129] Trial 51 finished with value: -0.024529403559009882 and parameters: {'strategy': 'median', 'use_scaler': True, 'with_mean': True, 'with_std': False, 'poly_degree': 5}. Best is trial 2 with value: -0.024290639236509086.\n",
      "[I 2025-05-03 19:43:18,170] Trial 52 finished with value: -0.024290639236509086 and parameters: {'strategy': 'mean', 'use_scaler': True, 'with_mean': True, 'with_std': True, 'poly_degree': 3}. Best is trial 2 with value: -0.024290639236509086.\n",
      "[I 2025-05-03 19:43:18,210] Trial 53 finished with value: -0.024529403559009882 and parameters: {'strategy': 'median', 'use_scaler': False, 'poly_degree': 4}. Best is trial 2 with value: -0.024290639236509086.\n",
      "[I 2025-05-03 19:43:18,248] Trial 54 finished with value: -23.807455910655545 and parameters: {'strategy': 'constant', 'constant_val': 0.37487057952370406, 'use_scaler': True, 'with_mean': False, 'with_std': False, 'poly_degree': 1}. Best is trial 2 with value: -0.024290639236509086.\n",
      "[I 2025-05-03 19:43:18,299] Trial 55 finished with value: -26.834656846891072 and parameters: {'strategy': 'constant', 'constant_val': 0.07379656473539886, 'use_scaler': True, 'with_mean': False, 'with_std': True, 'poly_degree': 4}. Best is trial 2 with value: -0.024290639236509086.\n",
      "[I 2025-05-03 19:43:18,338] Trial 56 finished with value: -0.024529403559009882 and parameters: {'strategy': 'median', 'use_scaler': True, 'with_mean': True, 'with_std': True, 'poly_degree': 1}. Best is trial 2 with value: -0.024290639236509086.\n",
      "[I 2025-05-03 19:43:18,378] Trial 57 finished with value: -26.79389067336124 and parameters: {'strategy': 'constant', 'constant_val': 0.07773463696498484, 'use_scaler': True, 'with_mean': True, 'with_std': False, 'poly_degree': 4}. Best is trial 2 with value: -0.024290639236509086.\n",
      "[I 2025-05-03 19:43:18,417] Trial 58 finished with value: -0.024529403559009882 and parameters: {'strategy': 'median', 'use_scaler': False, 'poly_degree': 4}. Best is trial 2 with value: -0.024290639236509086.\n",
      "[I 2025-05-03 19:43:18,456] Trial 59 finished with value: -0.024529403559009882 and parameters: {'strategy': 'median', 'use_scaler': False, 'poly_degree': 2}. Best is trial 2 with value: -0.024290639236509086.\n",
      "[I 2025-05-03 19:43:18,495] Trial 60 finished with value: -0.024529403559009882 and parameters: {'strategy': 'median', 'use_scaler': False, 'poly_degree': 5}. Best is trial 2 with value: -0.024290639236509086.\n",
      "[I 2025-05-03 19:43:18,553] Trial 61 finished with value: -0.024290639236509086 and parameters: {'strategy': 'mean', 'use_scaler': False, 'poly_degree': 1}. Best is trial 2 with value: -0.024290639236509086.\n",
      "[I 2025-05-03 19:43:18,602] Trial 62 finished with value: -18.12959010252375 and parameters: {'strategy': 'constant', 'constant_val': 0.9966368370739054, 'use_scaler': True, 'with_mean': True, 'with_std': False, 'poly_degree': 1}. Best is trial 2 with value: -0.024290639236509086.\n",
      "[I 2025-05-03 19:43:18,733] Trial 63 finished with value: -0.024290639236509086 and parameters: {'strategy': 'mean', 'use_scaler': False, 'poly_degree': 2}. Best is trial 2 with value: -0.024290639236509086.\n",
      "[I 2025-05-03 19:43:18,774] Trial 64 finished with value: -0.024529403559009882 and parameters: {'strategy': 'median', 'use_scaler': False, 'poly_degree': 5}. Best is trial 2 with value: -0.024290639236509086.\n",
      "[I 2025-05-03 19:43:18,815] Trial 65 finished with value: -23.529201787157447 and parameters: {'strategy': 'constant', 'constant_val': 0.40348286621239704, 'use_scaler': False, 'poly_degree': 4}. Best is trial 2 with value: -0.024290639236509086.\n",
      "[I 2025-05-03 19:43:18,855] Trial 66 finished with value: -0.024529403559009882 and parameters: {'strategy': 'median', 'use_scaler': False, 'poly_degree': 2}. Best is trial 2 with value: -0.024290639236509086.\n",
      "[I 2025-05-03 19:43:18,894] Trial 67 finished with value: -0.024290639236509086 and parameters: {'strategy': 'mean', 'use_scaler': False, 'poly_degree': 3}. Best is trial 2 with value: -0.024290639236509086.\n",
      "[I 2025-05-03 19:43:18,934] Trial 68 finished with value: -0.024290639236509086 and parameters: {'strategy': 'mean', 'use_scaler': True, 'with_mean': False, 'with_std': True, 'poly_degree': 3}. Best is trial 2 with value: -0.024290639236509086.\n",
      "[I 2025-05-03 19:43:18,974] Trial 69 finished with value: -0.024290639236509086 and parameters: {'strategy': 'mean', 'use_scaler': False, 'poly_degree': 1}. Best is trial 2 with value: -0.024290639236509086.\n",
      "[I 2025-05-03 19:43:19,013] Trial 70 finished with value: -26.165445266633856 and parameters: {'strategy': 'constant', 'constant_val': 0.13882717264941014, 'use_scaler': False, 'poly_degree': 2}. Best is trial 2 with value: -0.024290639236509086.\n",
      "[I 2025-05-03 19:43:19,052] Trial 71 finished with value: -0.024290639236509086 and parameters: {'strategy': 'mean', 'use_scaler': True, 'with_mean': False, 'with_std': True, 'poly_degree': 1}. Best is trial 2 with value: -0.024290639236509086.\n",
      "[I 2025-05-03 19:43:19,093] Trial 72 finished with value: -0.024529403559009882 and parameters: {'strategy': 'median', 'use_scaler': True, 'with_mean': True, 'with_std': True, 'poly_degree': 1}. Best is trial 2 with value: -0.024290639236509086.\n",
      "[I 2025-05-03 19:43:19,131] Trial 73 finished with value: -0.024529403559009882 and parameters: {'strategy': 'median', 'use_scaler': True, 'with_mean': True, 'with_std': False, 'poly_degree': 3}. Best is trial 2 with value: -0.024290639236509086.\n",
      "[I 2025-05-03 19:43:19,171] Trial 74 finished with value: -0.024290639236509086 and parameters: {'strategy': 'mean', 'use_scaler': False, 'poly_degree': 2}. Best is trial 2 with value: -0.024290639236509086.\n",
      "[I 2025-05-03 19:43:19,272] Trial 75 finished with value: -0.024529403559009882 and parameters: {'strategy': 'median', 'use_scaler': False, 'poly_degree': 3}. Best is trial 2 with value: -0.024290639236509086.\n",
      "[I 2025-05-03 19:43:19,313] Trial 76 finished with value: -0.024290639236509086 and parameters: {'strategy': 'mean', 'use_scaler': False, 'poly_degree': 2}. Best is trial 2 with value: -0.024290639236509086.\n",
      "[I 2025-05-03 19:43:19,354] Trial 77 finished with value: -0.024529403559009882 and parameters: {'strategy': 'median', 'use_scaler': False, 'poly_degree': 4}. Best is trial 2 with value: -0.024290639236509086.\n",
      "[I 2025-05-03 19:43:19,393] Trial 78 finished with value: -0.024290639236509086 and parameters: {'strategy': 'mean', 'use_scaler': True, 'with_mean': True, 'with_std': False, 'poly_degree': 2}. Best is trial 2 with value: -0.024290639236509086.\n",
      "[I 2025-05-03 19:43:19,434] Trial 79 finished with value: -0.024290639236509086 and parameters: {'strategy': 'mean', 'use_scaler': False, 'poly_degree': 2}. Best is trial 2 with value: -0.024290639236509086.\n",
      "[I 2025-05-03 19:43:19,491] Trial 80 finished with value: -25.94244867164282 and parameters: {'strategy': 'constant', 'constant_val': 0.16068137325955567, 'use_scaler': True, 'with_mean': False, 'with_std': False, 'poly_degree': 3}. Best is trial 2 with value: -0.024290639236509086.\n",
      "[I 2025-05-03 19:43:19,545] Trial 81 finished with value: -0.024290639236509086 and parameters: {'strategy': 'mean', 'use_scaler': False, 'poly_degree': 5}. Best is trial 2 with value: -0.024290639236509086.\n",
      "[I 2025-05-03 19:43:19,587] Trial 82 finished with value: -18.706508448746902 and parameters: {'strategy': 'constant', 'constant_val': 0.9293759891275858, 'use_scaler': True, 'with_mean': False, 'with_std': False, 'poly_degree': 3}. Best is trial 2 with value: -0.024290639236509086.\n",
      "[I 2025-05-03 19:43:19,627] Trial 83 finished with value: -0.024290639236509086 and parameters: {'strategy': 'mean', 'use_scaler': False, 'poly_degree': 3}. Best is trial 2 with value: -0.024290639236509086.\n",
      "[I 2025-05-03 19:43:19,666] Trial 84 finished with value: -27.0626867913775 and parameters: {'strategy': 'constant', 'constant_val': 0.05182353682242691, 'use_scaler': False, 'poly_degree': 1}. Best is trial 2 with value: -0.024290639236509086.\n",
      "[I 2025-05-03 19:43:19,706] Trial 85 finished with value: -0.024290639236509086 and parameters: {'strategy': 'mean', 'use_scaler': True, 'with_mean': True, 'with_std': True, 'poly_degree': 2}. Best is trial 2 with value: -0.024290639236509086.\n",
      "[I 2025-05-03 19:43:19,746] Trial 86 finished with value: -26.314235089024663 and parameters: {'strategy': 'constant', 'constant_val': 0.12429722348554473, 'use_scaler': True, 'with_mean': True, 'with_std': True, 'poly_degree': 5}. Best is trial 2 with value: -0.024290639236509086.\n",
      "[I 2025-05-03 19:43:19,784] Trial 87 finished with value: -0.024529403559009882 and parameters: {'strategy': 'median', 'use_scaler': True, 'with_mean': True, 'with_std': True, 'poly_degree': 5}. Best is trial 2 with value: -0.024290639236509086.\n",
      "[I 2025-05-03 19:43:19,825] Trial 88 finished with value: -0.024529403559009882 and parameters: {'strategy': 'median', 'use_scaler': True, 'with_mean': False, 'with_std': True, 'poly_degree': 5}. Best is trial 2 with value: -0.024290639236509086.\n",
      "[I 2025-05-03 19:43:19,867] Trial 89 finished with value: -21.437410099801415 and parameters: {'strategy': 'constant', 'constant_val': 0.6242379959139921, 'use_scaler': True, 'with_mean': True, 'with_std': False, 'poly_degree': 4}. Best is trial 2 with value: -0.024290639236509086.\n",
      "[I 2025-05-03 19:43:19,907] Trial 90 finished with value: -0.024529403559009882 and parameters: {'strategy': 'median', 'use_scaler': True, 'with_mean': False, 'with_std': False, 'poly_degree': 4}. Best is trial 2 with value: -0.024290639236509086.\n",
      "[I 2025-05-03 19:43:19,947] Trial 91 finished with value: -0.024290639236509086 and parameters: {'strategy': 'mean', 'use_scaler': True, 'with_mean': False, 'with_std': True, 'poly_degree': 2}. Best is trial 2 with value: -0.024290639236509086.\n",
      "[I 2025-05-03 19:43:19,987] Trial 92 finished with value: -0.024290639236509086 and parameters: {'strategy': 'mean', 'use_scaler': False, 'poly_degree': 2}. Best is trial 2 with value: -0.024290639236509086.\n",
      "[I 2025-05-03 19:43:20,029] Trial 93 finished with value: -21.81710457760899 and parameters: {'strategy': 'constant', 'constant_val': 0.5833917947661205, 'use_scaler': True, 'with_mean': True, 'with_std': True, 'poly_degree': 4}. Best is trial 2 with value: -0.024290639236509086.\n",
      "[I 2025-05-03 19:43:20,069] Trial 94 finished with value: -21.987910520588443 and parameters: {'strategy': 'constant', 'constant_val': 0.5651331835892089, 'use_scaler': True, 'with_mean': True, 'with_std': False, 'poly_degree': 3}. Best is trial 2 with value: -0.024290639236509086.\n",
      "[I 2025-05-03 19:43:20,108] Trial 95 finished with value: -0.024529403559009882 and parameters: {'strategy': 'median', 'use_scaler': False, 'poly_degree': 5}. Best is trial 2 with value: -0.024290639236509086.\n",
      "[I 2025-05-03 19:43:20,147] Trial 96 finished with value: -19.224223188367475 and parameters: {'strategy': 'constant', 'constant_val': 0.8698963620621283, 'use_scaler': True, 'with_mean': True, 'with_std': False, 'poly_degree': 1}. Best is trial 2 with value: -0.024290639236509086.\n",
      "[I 2025-05-03 19:43:20,188] Trial 97 finished with value: -18.788898792885906 and parameters: {'strategy': 'constant', 'constant_val': 0.9198556164127605, 'use_scaler': True, 'with_mean': True, 'with_std': False, 'poly_degree': 1}. Best is trial 2 with value: -0.024290639236509086.\n",
      "[I 2025-05-03 19:43:20,228] Trial 98 finished with value: -0.024529403559009882 and parameters: {'strategy': 'median', 'use_scaler': False, 'poly_degree': 3}. Best is trial 2 with value: -0.024290639236509086.\n",
      "[I 2025-05-03 19:43:20,265] Trial 99 finished with value: -25.766045763949545 and parameters: {'strategy': 'constant', 'constant_val': 0.17803596686975143, 'use_scaler': False, 'poly_degree': 3}. Best is trial 2 with value: -0.024290639236509086.\n"
     ]
    }
   ],
   "source": [
    "study.optimize(objective, n_trials=100)"
   ]
  },
  {
   "cell_type": "code",
   "execution_count": 297,
   "metadata": {},
   "outputs": [
    {
     "data": {
      "application/vnd.plotly.v1+json": {
       "config": {
        "plotlyServerURL": "https://plot.ly"
       },
       "data": [
        {
         "mode": "markers",
         "name": "Objective Value",
         "type": "scatter",
         "x": [
          0,
          1,
          2,
          3,
          4,
          5,
          6,
          7,
          8,
          9,
          10,
          11,
          12,
          13,
          14,
          15,
          16,
          17,
          18,
          19,
          20,
          21,
          22,
          23,
          24,
          25,
          26,
          27,
          28,
          29,
          30,
          31,
          32,
          33,
          34,
          35,
          36,
          37,
          38,
          39,
          40,
          41,
          42,
          43,
          44,
          45,
          46,
          47,
          48,
          49,
          50,
          51,
          52,
          53,
          54,
          55,
          56,
          57,
          58,
          59,
          60,
          61,
          62,
          63,
          64,
          65,
          66,
          67,
          68,
          69,
          70,
          71,
          72,
          73,
          74,
          75,
          76,
          77,
          78,
          79,
          80,
          81,
          82,
          83,
          84,
          85,
          86,
          87,
          88,
          89,
          90,
          91,
          92,
          93,
          94,
          95,
          96,
          97,
          98,
          99
         ],
         "y": [
          -0.024529403559009882,
          -0.024529403559009882,
          -0.024290639236509086,
          -19.97385203085658,
          -0.024529403559009882,
          -27.244309592958263,
          -25.69690321873502,
          -26.68268540023302,
          -23.98449257447841,
          -20.679605168660864,
          -0.024290639236509086,
          -22.661652080058992,
          -24.401353087204043,
          -19.769416247048525,
          -0.024290639236509086,
          -18.589698211925676,
          -0.024290639236509086,
          -25.120523144584887,
          -24.33795891257963,
          -0.024290639236509086,
          -19.159051574945284,
          -0.024529403559009882,
          -21.602546553727045,
          -25.168700507832447,
          -0.024290639236509086,
          -0.024529403559009882,
          -0.024290639236509086,
          -0.024290639236509086,
          -0.024529403559009882,
          -0.024290639236509086,
          -0.024290639236509086,
          -19.048401550506547,
          -0.024529403559009882,
          -0.024290639236509086,
          -0.024290639236509086,
          -0.024290639236509086,
          -0.024529403559009882,
          -0.024529403559009882,
          -0.024290639236509086,
          -0.024290639236509086,
          -0.024290639236509086,
          -0.024290639236509086,
          -18.914774911362095,
          -26.86167057076143,
          -0.024529403559009882,
          -23.440710682085182,
          -22.552763526351917,
          -26.653839565450284,
          -19.916694367670896,
          -0.024529403559009882,
          -0.024529403559009882,
          -0.024529403559009882,
          -0.024290639236509086,
          -0.024529403559009882,
          -23.807455910655545,
          -26.834656846891072,
          -0.024529403559009882,
          -26.79389067336124,
          -0.024529403559009882,
          -0.024529403559009882,
          -0.024529403559009882,
          -0.024290639236509086,
          -18.12959010252375,
          -0.024290639236509086,
          -0.024529403559009882,
          -23.529201787157447,
          -0.024529403559009882,
          -0.024290639236509086,
          -0.024290639236509086,
          -0.024290639236509086,
          -26.165445266633856,
          -0.024290639236509086,
          -0.024529403559009882,
          -0.024529403559009882,
          -0.024290639236509086,
          -0.024529403559009882,
          -0.024290639236509086,
          -0.024529403559009882,
          -0.024290639236509086,
          -0.024290639236509086,
          -25.94244867164282,
          -0.024290639236509086,
          -18.706508448746902,
          -0.024290639236509086,
          -27.0626867913775,
          -0.024290639236509086,
          -26.314235089024663,
          -0.024529403559009882,
          -0.024529403559009882,
          -21.437410099801415,
          -0.024529403559009882,
          -0.024290639236509086,
          -0.024290639236509086,
          -21.81710457760899,
          -21.987910520588443,
          -0.024529403559009882,
          -19.224223188367475,
          -18.788898792885906,
          -0.024529403559009882,
          -25.766045763949545
         ]
        },
        {
         "mode": "lines",
         "name": "Best Value",
         "type": "scatter",
         "x": [
          0,
          1,
          2,
          3,
          4,
          5,
          6,
          7,
          8,
          9,
          10,
          11,
          12,
          13,
          14,
          15,
          16,
          17,
          18,
          19,
          20,
          21,
          22,
          23,
          24,
          25,
          26,
          27,
          28,
          29,
          30,
          31,
          32,
          33,
          34,
          35,
          36,
          37,
          38,
          39,
          40,
          41,
          42,
          43,
          44,
          45,
          46,
          47,
          48,
          49,
          50,
          51,
          52,
          53,
          54,
          55,
          56,
          57,
          58,
          59,
          60,
          61,
          62,
          63,
          64,
          65,
          66,
          67,
          68,
          69,
          70,
          71,
          72,
          73,
          74,
          75,
          76,
          77,
          78,
          79,
          80,
          81,
          82,
          83,
          84,
          85,
          86,
          87,
          88,
          89,
          90,
          91,
          92,
          93,
          94,
          95,
          96,
          97,
          98,
          99
         ],
         "y": [
          -0.024529403559009882,
          -0.024529403559009882,
          -0.024290639236509086,
          -0.024290639236509086,
          -0.024290639236509086,
          -0.024290639236509086,
          -0.024290639236509086,
          -0.024290639236509086,
          -0.024290639236509086,
          -0.024290639236509086,
          -0.024290639236509086,
          -0.024290639236509086,
          -0.024290639236509086,
          -0.024290639236509086,
          -0.024290639236509086,
          -0.024290639236509086,
          -0.024290639236509086,
          -0.024290639236509086,
          -0.024290639236509086,
          -0.024290639236509086,
          -0.024290639236509086,
          -0.024290639236509086,
          -0.024290639236509086,
          -0.024290639236509086,
          -0.024290639236509086,
          -0.024290639236509086,
          -0.024290639236509086,
          -0.024290639236509086,
          -0.024290639236509086,
          -0.024290639236509086,
          -0.024290639236509086,
          -0.024290639236509086,
          -0.024290639236509086,
          -0.024290639236509086,
          -0.024290639236509086,
          -0.024290639236509086,
          -0.024290639236509086,
          -0.024290639236509086,
          -0.024290639236509086,
          -0.024290639236509086,
          -0.024290639236509086,
          -0.024290639236509086,
          -0.024290639236509086,
          -0.024290639236509086,
          -0.024290639236509086,
          -0.024290639236509086,
          -0.024290639236509086,
          -0.024290639236509086,
          -0.024290639236509086,
          -0.024290639236509086,
          -0.024290639236509086,
          -0.024290639236509086,
          -0.024290639236509086,
          -0.024290639236509086,
          -0.024290639236509086,
          -0.024290639236509086,
          -0.024290639236509086,
          -0.024290639236509086,
          -0.024290639236509086,
          -0.024290639236509086,
          -0.024290639236509086,
          -0.024290639236509086,
          -0.024290639236509086,
          -0.024290639236509086,
          -0.024290639236509086,
          -0.024290639236509086,
          -0.024290639236509086,
          -0.024290639236509086,
          -0.024290639236509086,
          -0.024290639236509086,
          -0.024290639236509086,
          -0.024290639236509086,
          -0.024290639236509086,
          -0.024290639236509086,
          -0.024290639236509086,
          -0.024290639236509086,
          -0.024290639236509086,
          -0.024290639236509086,
          -0.024290639236509086,
          -0.024290639236509086,
          -0.024290639236509086,
          -0.024290639236509086,
          -0.024290639236509086,
          -0.024290639236509086,
          -0.024290639236509086,
          -0.024290639236509086,
          -0.024290639236509086,
          -0.024290639236509086,
          -0.024290639236509086,
          -0.024290639236509086,
          -0.024290639236509086,
          -0.024290639236509086,
          -0.024290639236509086,
          -0.024290639236509086,
          -0.024290639236509086,
          -0.024290639236509086,
          -0.024290639236509086,
          -0.024290639236509086,
          -0.024290639236509086,
          -0.024290639236509086
         ]
        },
        {
         "marker": {
          "color": "#cccccc"
         },
         "mode": "markers",
         "name": "Infeasible Trial",
         "showlegend": false,
         "type": "scatter",
         "x": [],
         "y": []
        }
       ],
       "layout": {
        "template": {
         "data": {
          "bar": [
           {
            "error_x": {
             "color": "#2a3f5f"
            },
            "error_y": {
             "color": "#2a3f5f"
            },
            "marker": {
             "line": {
              "color": "#E5ECF6",
              "width": 0.5
             },
             "pattern": {
              "fillmode": "overlay",
              "size": 10,
              "solidity": 0.2
             }
            },
            "type": "bar"
           }
          ],
          "barpolar": [
           {
            "marker": {
             "line": {
              "color": "#E5ECF6",
              "width": 0.5
             },
             "pattern": {
              "fillmode": "overlay",
              "size": 10,
              "solidity": 0.2
             }
            },
            "type": "barpolar"
           }
          ],
          "carpet": [
           {
            "aaxis": {
             "endlinecolor": "#2a3f5f",
             "gridcolor": "white",
             "linecolor": "white",
             "minorgridcolor": "white",
             "startlinecolor": "#2a3f5f"
            },
            "baxis": {
             "endlinecolor": "#2a3f5f",
             "gridcolor": "white",
             "linecolor": "white",
             "minorgridcolor": "white",
             "startlinecolor": "#2a3f5f"
            },
            "type": "carpet"
           }
          ],
          "choropleth": [
           {
            "colorbar": {
             "outlinewidth": 0,
             "ticks": ""
            },
            "type": "choropleth"
           }
          ],
          "contour": [
           {
            "colorbar": {
             "outlinewidth": 0,
             "ticks": ""
            },
            "colorscale": [
             [
              0,
              "#0d0887"
             ],
             [
              0.1111111111111111,
              "#46039f"
             ],
             [
              0.2222222222222222,
              "#7201a8"
             ],
             [
              0.3333333333333333,
              "#9c179e"
             ],
             [
              0.4444444444444444,
              "#bd3786"
             ],
             [
              0.5555555555555556,
              "#d8576b"
             ],
             [
              0.6666666666666666,
              "#ed7953"
             ],
             [
              0.7777777777777778,
              "#fb9f3a"
             ],
             [
              0.8888888888888888,
              "#fdca26"
             ],
             [
              1,
              "#f0f921"
             ]
            ],
            "type": "contour"
           }
          ],
          "contourcarpet": [
           {
            "colorbar": {
             "outlinewidth": 0,
             "ticks": ""
            },
            "type": "contourcarpet"
           }
          ],
          "heatmap": [
           {
            "colorbar": {
             "outlinewidth": 0,
             "ticks": ""
            },
            "colorscale": [
             [
              0,
              "#0d0887"
             ],
             [
              0.1111111111111111,
              "#46039f"
             ],
             [
              0.2222222222222222,
              "#7201a8"
             ],
             [
              0.3333333333333333,
              "#9c179e"
             ],
             [
              0.4444444444444444,
              "#bd3786"
             ],
             [
              0.5555555555555556,
              "#d8576b"
             ],
             [
              0.6666666666666666,
              "#ed7953"
             ],
             [
              0.7777777777777778,
              "#fb9f3a"
             ],
             [
              0.8888888888888888,
              "#fdca26"
             ],
             [
              1,
              "#f0f921"
             ]
            ],
            "type": "heatmap"
           }
          ],
          "histogram": [
           {
            "marker": {
             "pattern": {
              "fillmode": "overlay",
              "size": 10,
              "solidity": 0.2
             }
            },
            "type": "histogram"
           }
          ],
          "histogram2d": [
           {
            "colorbar": {
             "outlinewidth": 0,
             "ticks": ""
            },
            "colorscale": [
             [
              0,
              "#0d0887"
             ],
             [
              0.1111111111111111,
              "#46039f"
             ],
             [
              0.2222222222222222,
              "#7201a8"
             ],
             [
              0.3333333333333333,
              "#9c179e"
             ],
             [
              0.4444444444444444,
              "#bd3786"
             ],
             [
              0.5555555555555556,
              "#d8576b"
             ],
             [
              0.6666666666666666,
              "#ed7953"
             ],
             [
              0.7777777777777778,
              "#fb9f3a"
             ],
             [
              0.8888888888888888,
              "#fdca26"
             ],
             [
              1,
              "#f0f921"
             ]
            ],
            "type": "histogram2d"
           }
          ],
          "histogram2dcontour": [
           {
            "colorbar": {
             "outlinewidth": 0,
             "ticks": ""
            },
            "colorscale": [
             [
              0,
              "#0d0887"
             ],
             [
              0.1111111111111111,
              "#46039f"
             ],
             [
              0.2222222222222222,
              "#7201a8"
             ],
             [
              0.3333333333333333,
              "#9c179e"
             ],
             [
              0.4444444444444444,
              "#bd3786"
             ],
             [
              0.5555555555555556,
              "#d8576b"
             ],
             [
              0.6666666666666666,
              "#ed7953"
             ],
             [
              0.7777777777777778,
              "#fb9f3a"
             ],
             [
              0.8888888888888888,
              "#fdca26"
             ],
             [
              1,
              "#f0f921"
             ]
            ],
            "type": "histogram2dcontour"
           }
          ],
          "mesh3d": [
           {
            "colorbar": {
             "outlinewidth": 0,
             "ticks": ""
            },
            "type": "mesh3d"
           }
          ],
          "parcoords": [
           {
            "line": {
             "colorbar": {
              "outlinewidth": 0,
              "ticks": ""
             }
            },
            "type": "parcoords"
           }
          ],
          "pie": [
           {
            "automargin": true,
            "type": "pie"
           }
          ],
          "scatter": [
           {
            "fillpattern": {
             "fillmode": "overlay",
             "size": 10,
             "solidity": 0.2
            },
            "type": "scatter"
           }
          ],
          "scatter3d": [
           {
            "line": {
             "colorbar": {
              "outlinewidth": 0,
              "ticks": ""
             }
            },
            "marker": {
             "colorbar": {
              "outlinewidth": 0,
              "ticks": ""
             }
            },
            "type": "scatter3d"
           }
          ],
          "scattercarpet": [
           {
            "marker": {
             "colorbar": {
              "outlinewidth": 0,
              "ticks": ""
             }
            },
            "type": "scattercarpet"
           }
          ],
          "scattergeo": [
           {
            "marker": {
             "colorbar": {
              "outlinewidth": 0,
              "ticks": ""
             }
            },
            "type": "scattergeo"
           }
          ],
          "scattergl": [
           {
            "marker": {
             "colorbar": {
              "outlinewidth": 0,
              "ticks": ""
             }
            },
            "type": "scattergl"
           }
          ],
          "scattermap": [
           {
            "marker": {
             "colorbar": {
              "outlinewidth": 0,
              "ticks": ""
             }
            },
            "type": "scattermap"
           }
          ],
          "scattermapbox": [
           {
            "marker": {
             "colorbar": {
              "outlinewidth": 0,
              "ticks": ""
             }
            },
            "type": "scattermapbox"
           }
          ],
          "scatterpolar": [
           {
            "marker": {
             "colorbar": {
              "outlinewidth": 0,
              "ticks": ""
             }
            },
            "type": "scatterpolar"
           }
          ],
          "scatterpolargl": [
           {
            "marker": {
             "colorbar": {
              "outlinewidth": 0,
              "ticks": ""
             }
            },
            "type": "scatterpolargl"
           }
          ],
          "scatterternary": [
           {
            "marker": {
             "colorbar": {
              "outlinewidth": 0,
              "ticks": ""
             }
            },
            "type": "scatterternary"
           }
          ],
          "surface": [
           {
            "colorbar": {
             "outlinewidth": 0,
             "ticks": ""
            },
            "colorscale": [
             [
              0,
              "#0d0887"
             ],
             [
              0.1111111111111111,
              "#46039f"
             ],
             [
              0.2222222222222222,
              "#7201a8"
             ],
             [
              0.3333333333333333,
              "#9c179e"
             ],
             [
              0.4444444444444444,
              "#bd3786"
             ],
             [
              0.5555555555555556,
              "#d8576b"
             ],
             [
              0.6666666666666666,
              "#ed7953"
             ],
             [
              0.7777777777777778,
              "#fb9f3a"
             ],
             [
              0.8888888888888888,
              "#fdca26"
             ],
             [
              1,
              "#f0f921"
             ]
            ],
            "type": "surface"
           }
          ],
          "table": [
           {
            "cells": {
             "fill": {
              "color": "#EBF0F8"
             },
             "line": {
              "color": "white"
             }
            },
            "header": {
             "fill": {
              "color": "#C8D4E3"
             },
             "line": {
              "color": "white"
             }
            },
            "type": "table"
           }
          ]
         },
         "layout": {
          "annotationdefaults": {
           "arrowcolor": "#2a3f5f",
           "arrowhead": 0,
           "arrowwidth": 1
          },
          "autotypenumbers": "strict",
          "coloraxis": {
           "colorbar": {
            "outlinewidth": 0,
            "ticks": ""
           }
          },
          "colorscale": {
           "diverging": [
            [
             0,
             "#8e0152"
            ],
            [
             0.1,
             "#c51b7d"
            ],
            [
             0.2,
             "#de77ae"
            ],
            [
             0.3,
             "#f1b6da"
            ],
            [
             0.4,
             "#fde0ef"
            ],
            [
             0.5,
             "#f7f7f7"
            ],
            [
             0.6,
             "#e6f5d0"
            ],
            [
             0.7,
             "#b8e186"
            ],
            [
             0.8,
             "#7fbc41"
            ],
            [
             0.9,
             "#4d9221"
            ],
            [
             1,
             "#276419"
            ]
           ],
           "sequential": [
            [
             0,
             "#0d0887"
            ],
            [
             0.1111111111111111,
             "#46039f"
            ],
            [
             0.2222222222222222,
             "#7201a8"
            ],
            [
             0.3333333333333333,
             "#9c179e"
            ],
            [
             0.4444444444444444,
             "#bd3786"
            ],
            [
             0.5555555555555556,
             "#d8576b"
            ],
            [
             0.6666666666666666,
             "#ed7953"
            ],
            [
             0.7777777777777778,
             "#fb9f3a"
            ],
            [
             0.8888888888888888,
             "#fdca26"
            ],
            [
             1,
             "#f0f921"
            ]
           ],
           "sequentialminus": [
            [
             0,
             "#0d0887"
            ],
            [
             0.1111111111111111,
             "#46039f"
            ],
            [
             0.2222222222222222,
             "#7201a8"
            ],
            [
             0.3333333333333333,
             "#9c179e"
            ],
            [
             0.4444444444444444,
             "#bd3786"
            ],
            [
             0.5555555555555556,
             "#d8576b"
            ],
            [
             0.6666666666666666,
             "#ed7953"
            ],
            [
             0.7777777777777778,
             "#fb9f3a"
            ],
            [
             0.8888888888888888,
             "#fdca26"
            ],
            [
             1,
             "#f0f921"
            ]
           ]
          },
          "colorway": [
           "#636efa",
           "#EF553B",
           "#00cc96",
           "#ab63fa",
           "#FFA15A",
           "#19d3f3",
           "#FF6692",
           "#B6E880",
           "#FF97FF",
           "#FECB52"
          ],
          "font": {
           "color": "#2a3f5f"
          },
          "geo": {
           "bgcolor": "white",
           "lakecolor": "white",
           "landcolor": "#E5ECF6",
           "showlakes": true,
           "showland": true,
           "subunitcolor": "white"
          },
          "hoverlabel": {
           "align": "left"
          },
          "hovermode": "closest",
          "mapbox": {
           "style": "light"
          },
          "paper_bgcolor": "white",
          "plot_bgcolor": "#E5ECF6",
          "polar": {
           "angularaxis": {
            "gridcolor": "white",
            "linecolor": "white",
            "ticks": ""
           },
           "bgcolor": "#E5ECF6",
           "radialaxis": {
            "gridcolor": "white",
            "linecolor": "white",
            "ticks": ""
           }
          },
          "scene": {
           "xaxis": {
            "backgroundcolor": "#E5ECF6",
            "gridcolor": "white",
            "gridwidth": 2,
            "linecolor": "white",
            "showbackground": true,
            "ticks": "",
            "zerolinecolor": "white"
           },
           "yaxis": {
            "backgroundcolor": "#E5ECF6",
            "gridcolor": "white",
            "gridwidth": 2,
            "linecolor": "white",
            "showbackground": true,
            "ticks": "",
            "zerolinecolor": "white"
           },
           "zaxis": {
            "backgroundcolor": "#E5ECF6",
            "gridcolor": "white",
            "gridwidth": 2,
            "linecolor": "white",
            "showbackground": true,
            "ticks": "",
            "zerolinecolor": "white"
           }
          },
          "shapedefaults": {
           "line": {
            "color": "#2a3f5f"
           }
          },
          "ternary": {
           "aaxis": {
            "gridcolor": "white",
            "linecolor": "white",
            "ticks": ""
           },
           "baxis": {
            "gridcolor": "white",
            "linecolor": "white",
            "ticks": ""
           },
           "bgcolor": "#E5ECF6",
           "caxis": {
            "gridcolor": "white",
            "linecolor": "white",
            "ticks": ""
           }
          },
          "title": {
           "x": 0.05
          },
          "xaxis": {
           "automargin": true,
           "gridcolor": "white",
           "linecolor": "white",
           "ticks": "",
           "title": {
            "standoff": 15
           },
           "zerolinecolor": "white",
           "zerolinewidth": 2
          },
          "yaxis": {
           "automargin": true,
           "gridcolor": "white",
           "linecolor": "white",
           "ticks": "",
           "title": {
            "standoff": 15
           },
           "zerolinecolor": "white",
           "zerolinewidth": 2
          }
         }
        },
        "title": {
         "text": "Optimization History Plot"
        },
        "xaxis": {
         "title": {
          "text": "Trial"
         }
        },
        "yaxis": {
         "title": {
          "text": "Objective Value"
         }
        }
       }
      }
     },
     "metadata": {},
     "output_type": "display_data"
    }
   ],
   "source": [
    "optuna.visualization.plot_optimization_history(study)"
   ]
  },
  {
   "cell_type": "code",
   "execution_count": 298,
   "metadata": {},
   "outputs": [
    {
     "name": "stdout",
     "output_type": "stream",
     "text": [
      "Best Hyperparameters: {'strategy': 'mean', 'use_scaler': True, 'with_mean': True, 'with_std': False, 'poly_degree': 1}\n"
     ]
    }
   ],
   "source": [
    "best_params = study.best_params \n",
    "print(f\"Best Hyperparameters: {best_params}\")"
   ]
  },
  {
   "cell_type": "code",
   "execution_count": 299,
   "metadata": {},
   "outputs": [
    {
     "data": {
      "application/vnd.plotly.v1+json": {
       "config": {
        "plotlyServerURL": "https://plot.ly"
       },
       "data": [
        {
         "marker": {
          "color": [
           0,
           1,
           2,
           3,
           4,
           5,
           6,
           7,
           8,
           9,
           10,
           11,
           12,
           13,
           14,
           15,
           16,
           17,
           18,
           19,
           20,
           21,
           22,
           23,
           24,
           25,
           26,
           27,
           28,
           29,
           30,
           31,
           32,
           33,
           34,
           35,
           36,
           37,
           38,
           39,
           40,
           41,
           42,
           43,
           44,
           45,
           46,
           47,
           48,
           49,
           50,
           51,
           52,
           53,
           54,
           55,
           56,
           57,
           58,
           59,
           60,
           61,
           62,
           63,
           64,
           65,
           66,
           67,
           68,
           69,
           70,
           71,
           72,
           73,
           74,
           75,
           76,
           77,
           78,
           79,
           80,
           81,
           82,
           83,
           84,
           85,
           86,
           87,
           88,
           89,
           90,
           91,
           92,
           93,
           94,
           95,
           96,
           97,
           98,
           99
          ],
          "colorbar": {
           "title": {
            "text": "Trial"
           },
           "x": 1,
           "xpad": 40
          },
          "colorscale": [
           [
            0,
            "rgb(247,251,255)"
           ],
           [
            0.125,
            "rgb(222,235,247)"
           ],
           [
            0.25,
            "rgb(198,219,239)"
           ],
           [
            0.375,
            "rgb(158,202,225)"
           ],
           [
            0.5,
            "rgb(107,174,214)"
           ],
           [
            0.625,
            "rgb(66,146,198)"
           ],
           [
            0.75,
            "rgb(33,113,181)"
           ],
           [
            0.875,
            "rgb(8,81,156)"
           ],
           [
            1,
            "rgb(8,48,107)"
           ]
          ],
          "line": {
           "color": "Grey",
           "width": 0.5
          },
          "showscale": true
         },
         "mode": "markers",
         "name": "Feasible Trial",
         "showlegend": false,
         "type": "scatter",
         "x": [
          1,
          5,
          1,
          1,
          4,
          4,
          5,
          2,
          4,
          4,
          4,
          1,
          1,
          5,
          3,
          2,
          2,
          4,
          3,
          1,
          1,
          4,
          4,
          1,
          5,
          1,
          5,
          2,
          4,
          4,
          4,
          3,
          2,
          2,
          5,
          2,
          2,
          1,
          4,
          5,
          3,
          3,
          1,
          4,
          1,
          4,
          5,
          2,
          3,
          1,
          4,
          5,
          3,
          4,
          1,
          4,
          1,
          4,
          4,
          2,
          5,
          1,
          1,
          2,
          5,
          4,
          2,
          3,
          3,
          1,
          2,
          1,
          1,
          3,
          2,
          3,
          2,
          4,
          2,
          2,
          3,
          5,
          3,
          3,
          1,
          2,
          5,
          5,
          5,
          4,
          4,
          2,
          2,
          4,
          3,
          5,
          1,
          1,
          3,
          3
         ],
         "xaxis": "x",
         "y": [
          -0.024529403559009882,
          -0.024529403559009882,
          -0.024290639236509086,
          -19.97385203085658,
          -0.024529403559009882,
          -27.244309592958263,
          -25.69690321873502,
          -26.68268540023302,
          -23.98449257447841,
          -20.679605168660864,
          -0.024290639236509086,
          -22.661652080058992,
          -24.401353087204043,
          -19.769416247048525,
          -0.024290639236509086,
          -18.589698211925676,
          -0.024290639236509086,
          -25.120523144584887,
          -24.33795891257963,
          -0.024290639236509086,
          -19.159051574945284,
          -0.024529403559009882,
          -21.602546553727045,
          -25.168700507832447,
          -0.024290639236509086,
          -0.024529403559009882,
          -0.024290639236509086,
          -0.024290639236509086,
          -0.024529403559009882,
          -0.024290639236509086,
          -0.024290639236509086,
          -19.048401550506547,
          -0.024529403559009882,
          -0.024290639236509086,
          -0.024290639236509086,
          -0.024290639236509086,
          -0.024529403559009882,
          -0.024529403559009882,
          -0.024290639236509086,
          -0.024290639236509086,
          -0.024290639236509086,
          -0.024290639236509086,
          -18.914774911362095,
          -26.86167057076143,
          -0.024529403559009882,
          -23.440710682085182,
          -22.552763526351917,
          -26.653839565450284,
          -19.916694367670896,
          -0.024529403559009882,
          -0.024529403559009882,
          -0.024529403559009882,
          -0.024290639236509086,
          -0.024529403559009882,
          -23.807455910655545,
          -26.834656846891072,
          -0.024529403559009882,
          -26.79389067336124,
          -0.024529403559009882,
          -0.024529403559009882,
          -0.024529403559009882,
          -0.024290639236509086,
          -18.12959010252375,
          -0.024290639236509086,
          -0.024529403559009882,
          -23.529201787157447,
          -0.024529403559009882,
          -0.024290639236509086,
          -0.024290639236509086,
          -0.024290639236509086,
          -26.165445266633856,
          -0.024290639236509086,
          -0.024529403559009882,
          -0.024529403559009882,
          -0.024290639236509086,
          -0.024529403559009882,
          -0.024290639236509086,
          -0.024529403559009882,
          -0.024290639236509086,
          -0.024290639236509086,
          -25.94244867164282,
          -0.024290639236509086,
          -18.706508448746902,
          -0.024290639236509086,
          -27.0626867913775,
          -0.024290639236509086,
          -26.314235089024663,
          -0.024529403559009882,
          -0.024529403559009882,
          -21.437410099801415,
          -0.024529403559009882,
          -0.024290639236509086,
          -0.024290639236509086,
          -21.81710457760899,
          -21.987910520588443,
          -0.024529403559009882,
          -19.224223188367475,
          -18.788898792885906,
          -0.024529403559009882,
          -25.766045763949545
         ],
         "yaxis": "y"
        },
        {
         "marker": {
          "color": [
           0,
           1,
           2,
           3,
           4,
           5,
           6,
           7,
           8,
           9,
           10,
           11,
           12,
           13,
           14,
           15,
           16,
           17,
           18,
           19,
           20,
           21,
           22,
           23,
           24,
           25,
           26,
           27,
           28,
           29,
           30,
           31,
           32,
           33,
           34,
           35,
           36,
           37,
           38,
           39,
           40,
           41,
           42,
           43,
           44,
           45,
           46,
           47,
           48,
           49,
           50,
           51,
           52,
           53,
           54,
           55,
           56,
           57,
           58,
           59,
           60,
           61,
           62,
           63,
           64,
           65,
           66,
           67,
           68,
           69,
           70,
           71,
           72,
           73,
           74,
           75,
           76,
           77,
           78,
           79,
           80,
           81,
           82,
           83,
           84,
           85,
           86,
           87,
           88,
           89,
           90,
           91,
           92,
           93,
           94,
           95,
           96,
           97,
           98,
           99
          ],
          "colorbar": {
           "title": {
            "text": "Trial"
           },
           "x": 1,
           "xpad": 40
          },
          "colorscale": [
           [
            0,
            "rgb(247,251,255)"
           ],
           [
            0.125,
            "rgb(222,235,247)"
           ],
           [
            0.25,
            "rgb(198,219,239)"
           ],
           [
            0.375,
            "rgb(158,202,225)"
           ],
           [
            0.5,
            "rgb(107,174,214)"
           ],
           [
            0.625,
            "rgb(66,146,198)"
           ],
           [
            0.75,
            "rgb(33,113,181)"
           ],
           [
            0.875,
            "rgb(8,81,156)"
           ],
           [
            1,
            "rgb(8,48,107)"
           ]
          ],
          "line": {
           "color": "Grey",
           "width": 0.5
          },
          "showscale": false
         },
         "mode": "markers",
         "name": "Feasible Trial",
         "showlegend": false,
         "type": "scatter",
         "x": [
          "median",
          "median",
          "mean",
          "constant",
          "median",
          "constant",
          "constant",
          "constant",
          "constant",
          "constant",
          "mean",
          "constant",
          "constant",
          "constant",
          "mean",
          "constant",
          "mean",
          "constant",
          "constant",
          "mean",
          "constant",
          "median",
          "constant",
          "constant",
          "mean",
          "median",
          "mean",
          "mean",
          "median",
          "mean",
          "mean",
          "constant",
          "median",
          "mean",
          "mean",
          "mean",
          "median",
          "median",
          "mean",
          "mean",
          "mean",
          "mean",
          "constant",
          "constant",
          "median",
          "constant",
          "constant",
          "constant",
          "constant",
          "median",
          "median",
          "median",
          "mean",
          "median",
          "constant",
          "constant",
          "median",
          "constant",
          "median",
          "median",
          "median",
          "mean",
          "constant",
          "mean",
          "median",
          "constant",
          "median",
          "mean",
          "mean",
          "mean",
          "constant",
          "mean",
          "median",
          "median",
          "mean",
          "median",
          "mean",
          "median",
          "mean",
          "mean",
          "constant",
          "mean",
          "constant",
          "mean",
          "constant",
          "mean",
          "constant",
          "median",
          "median",
          "constant",
          "median",
          "mean",
          "mean",
          "constant",
          "constant",
          "median",
          "constant",
          "constant",
          "median",
          "constant"
         ],
         "xaxis": "x2",
         "y": [
          -0.024529403559009882,
          -0.024529403559009882,
          -0.024290639236509086,
          -19.97385203085658,
          -0.024529403559009882,
          -27.244309592958263,
          -25.69690321873502,
          -26.68268540023302,
          -23.98449257447841,
          -20.679605168660864,
          -0.024290639236509086,
          -22.661652080058992,
          -24.401353087204043,
          -19.769416247048525,
          -0.024290639236509086,
          -18.589698211925676,
          -0.024290639236509086,
          -25.120523144584887,
          -24.33795891257963,
          -0.024290639236509086,
          -19.159051574945284,
          -0.024529403559009882,
          -21.602546553727045,
          -25.168700507832447,
          -0.024290639236509086,
          -0.024529403559009882,
          -0.024290639236509086,
          -0.024290639236509086,
          -0.024529403559009882,
          -0.024290639236509086,
          -0.024290639236509086,
          -19.048401550506547,
          -0.024529403559009882,
          -0.024290639236509086,
          -0.024290639236509086,
          -0.024290639236509086,
          -0.024529403559009882,
          -0.024529403559009882,
          -0.024290639236509086,
          -0.024290639236509086,
          -0.024290639236509086,
          -0.024290639236509086,
          -18.914774911362095,
          -26.86167057076143,
          -0.024529403559009882,
          -23.440710682085182,
          -22.552763526351917,
          -26.653839565450284,
          -19.916694367670896,
          -0.024529403559009882,
          -0.024529403559009882,
          -0.024529403559009882,
          -0.024290639236509086,
          -0.024529403559009882,
          -23.807455910655545,
          -26.834656846891072,
          -0.024529403559009882,
          -26.79389067336124,
          -0.024529403559009882,
          -0.024529403559009882,
          -0.024529403559009882,
          -0.024290639236509086,
          -18.12959010252375,
          -0.024290639236509086,
          -0.024529403559009882,
          -23.529201787157447,
          -0.024529403559009882,
          -0.024290639236509086,
          -0.024290639236509086,
          -0.024290639236509086,
          -26.165445266633856,
          -0.024290639236509086,
          -0.024529403559009882,
          -0.024529403559009882,
          -0.024290639236509086,
          -0.024529403559009882,
          -0.024290639236509086,
          -0.024529403559009882,
          -0.024290639236509086,
          -0.024290639236509086,
          -25.94244867164282,
          -0.024290639236509086,
          -18.706508448746902,
          -0.024290639236509086,
          -27.0626867913775,
          -0.024290639236509086,
          -26.314235089024663,
          -0.024529403559009882,
          -0.024529403559009882,
          -21.437410099801415,
          -0.024529403559009882,
          -0.024290639236509086,
          -0.024290639236509086,
          -21.81710457760899,
          -21.987910520588443,
          -0.024529403559009882,
          -19.224223188367475,
          -18.788898792885906,
          -0.024529403559009882,
          -25.766045763949545
         ],
         "yaxis": "y2"
        },
        {
         "marker": {
          "color": [
           0,
           1,
           2,
           3,
           4,
           5,
           6,
           7,
           8,
           9,
           10,
           11,
           12,
           13,
           14,
           15,
           16,
           17,
           18,
           19,
           20,
           21,
           22,
           23,
           24,
           25,
           26,
           27,
           28,
           29,
           30,
           31,
           32,
           33,
           34,
           35,
           36,
           37,
           38,
           39,
           40,
           41,
           42,
           43,
           44,
           45,
           46,
           47,
           48,
           49,
           50,
           51,
           52,
           53,
           54,
           55,
           56,
           57,
           58,
           59,
           60,
           61,
           62,
           63,
           64,
           65,
           66,
           67,
           68,
           69,
           70,
           71,
           72,
           73,
           74,
           75,
           76,
           77,
           78,
           79,
           80,
           81,
           82,
           83,
           84,
           85,
           86,
           87,
           88,
           89,
           90,
           91,
           92,
           93,
           94,
           95,
           96,
           97,
           98,
           99
          ],
          "colorbar": {
           "title": {
            "text": "Trial"
           },
           "x": 1,
           "xpad": 40
          },
          "colorscale": [
           [
            0,
            "rgb(247,251,255)"
           ],
           [
            0.125,
            "rgb(222,235,247)"
           ],
           [
            0.25,
            "rgb(198,219,239)"
           ],
           [
            0.375,
            "rgb(158,202,225)"
           ],
           [
            0.5,
            "rgb(107,174,214)"
           ],
           [
            0.625,
            "rgb(66,146,198)"
           ],
           [
            0.75,
            "rgb(33,113,181)"
           ],
           [
            0.875,
            "rgb(8,81,156)"
           ],
           [
            1,
            "rgb(8,48,107)"
           ]
          ],
          "line": {
           "color": "Grey",
           "width": 0.5
          },
          "showscale": false
         },
         "mode": "markers",
         "name": "Feasible Trial",
         "showlegend": false,
         "type": "scatter",
         "x": [
          false,
          false,
          true,
          true,
          false,
          false,
          false,
          false,
          true,
          true,
          true,
          false,
          true,
          true,
          true,
          true,
          true,
          true,
          false,
          true,
          true,
          true,
          true,
          true,
          false,
          false,
          false,
          true,
          true,
          false,
          true,
          true,
          true,
          true,
          false,
          false,
          true,
          false,
          true,
          false,
          false,
          false,
          false,
          true,
          false,
          true,
          false,
          true,
          false,
          false,
          false,
          true,
          true,
          false,
          true,
          true,
          true,
          true,
          false,
          false,
          false,
          false,
          true,
          false,
          false,
          false,
          false,
          false,
          true,
          false,
          false,
          true,
          true,
          true,
          false,
          false,
          false,
          false,
          true,
          false,
          true,
          false,
          true,
          false,
          false,
          true,
          true,
          true,
          true,
          true,
          true,
          true,
          false,
          true,
          true,
          false,
          true,
          true,
          false,
          false
         ],
         "xaxis": "x3",
         "y": [
          -0.024529403559009882,
          -0.024529403559009882,
          -0.024290639236509086,
          -19.97385203085658,
          -0.024529403559009882,
          -27.244309592958263,
          -25.69690321873502,
          -26.68268540023302,
          -23.98449257447841,
          -20.679605168660864,
          -0.024290639236509086,
          -22.661652080058992,
          -24.401353087204043,
          -19.769416247048525,
          -0.024290639236509086,
          -18.589698211925676,
          -0.024290639236509086,
          -25.120523144584887,
          -24.33795891257963,
          -0.024290639236509086,
          -19.159051574945284,
          -0.024529403559009882,
          -21.602546553727045,
          -25.168700507832447,
          -0.024290639236509086,
          -0.024529403559009882,
          -0.024290639236509086,
          -0.024290639236509086,
          -0.024529403559009882,
          -0.024290639236509086,
          -0.024290639236509086,
          -19.048401550506547,
          -0.024529403559009882,
          -0.024290639236509086,
          -0.024290639236509086,
          -0.024290639236509086,
          -0.024529403559009882,
          -0.024529403559009882,
          -0.024290639236509086,
          -0.024290639236509086,
          -0.024290639236509086,
          -0.024290639236509086,
          -18.914774911362095,
          -26.86167057076143,
          -0.024529403559009882,
          -23.440710682085182,
          -22.552763526351917,
          -26.653839565450284,
          -19.916694367670896,
          -0.024529403559009882,
          -0.024529403559009882,
          -0.024529403559009882,
          -0.024290639236509086,
          -0.024529403559009882,
          -23.807455910655545,
          -26.834656846891072,
          -0.024529403559009882,
          -26.79389067336124,
          -0.024529403559009882,
          -0.024529403559009882,
          -0.024529403559009882,
          -0.024290639236509086,
          -18.12959010252375,
          -0.024290639236509086,
          -0.024529403559009882,
          -23.529201787157447,
          -0.024529403559009882,
          -0.024290639236509086,
          -0.024290639236509086,
          -0.024290639236509086,
          -26.165445266633856,
          -0.024290639236509086,
          -0.024529403559009882,
          -0.024529403559009882,
          -0.024290639236509086,
          -0.024529403559009882,
          -0.024290639236509086,
          -0.024529403559009882,
          -0.024290639236509086,
          -0.024290639236509086,
          -25.94244867164282,
          -0.024290639236509086,
          -18.706508448746902,
          -0.024290639236509086,
          -27.0626867913775,
          -0.024290639236509086,
          -26.314235089024663,
          -0.024529403559009882,
          -0.024529403559009882,
          -21.437410099801415,
          -0.024529403559009882,
          -0.024290639236509086,
          -0.024290639236509086,
          -21.81710457760899,
          -21.987910520588443,
          -0.024529403559009882,
          -19.224223188367475,
          -18.788898792885906,
          -0.024529403559009882,
          -25.766045763949545
         ],
         "yaxis": "y3"
        },
        {
         "marker": {
          "color": [
           2,
           3,
           8,
           9,
           10,
           12,
           13,
           14,
           15,
           16,
           17,
           19,
           20,
           21,
           22,
           23,
           27,
           28,
           30,
           31,
           32,
           33,
           36,
           38,
           43,
           45,
           47,
           51,
           52,
           54,
           55,
           56,
           57,
           62,
           68,
           71,
           72,
           73,
           78,
           80,
           82,
           85,
           86,
           87,
           88,
           89,
           90,
           91,
           93,
           94,
           96,
           97
          ],
          "colorbar": {
           "title": {
            "text": "Trial"
           },
           "x": 1,
           "xpad": 40
          },
          "colorscale": [
           [
            0,
            "rgb(247,251,255)"
           ],
           [
            0.125,
            "rgb(222,235,247)"
           ],
           [
            0.25,
            "rgb(198,219,239)"
           ],
           [
            0.375,
            "rgb(158,202,225)"
           ],
           [
            0.5,
            "rgb(107,174,214)"
           ],
           [
            0.625,
            "rgb(66,146,198)"
           ],
           [
            0.75,
            "rgb(33,113,181)"
           ],
           [
            0.875,
            "rgb(8,81,156)"
           ],
           [
            1,
            "rgb(8,48,107)"
           ]
          ],
          "line": {
           "color": "Grey",
           "width": 0.5
          },
          "showscale": false
         },
         "mode": "markers",
         "name": "Feasible Trial",
         "showlegend": false,
         "type": "scatter",
         "x": [
          true,
          true,
          false,
          false,
          false,
          false,
          true,
          false,
          true,
          true,
          false,
          false,
          true,
          false,
          true,
          false,
          false,
          true,
          false,
          false,
          true,
          false,
          true,
          true,
          false,
          false,
          true,
          true,
          true,
          false,
          false,
          true,
          true,
          true,
          false,
          false,
          true,
          true,
          true,
          false,
          false,
          true,
          true,
          true,
          false,
          true,
          false,
          false,
          true,
          true,
          true,
          true
         ],
         "xaxis": "x4",
         "y": [
          -0.024290639236509086,
          -19.97385203085658,
          -23.98449257447841,
          -20.679605168660864,
          -0.024290639236509086,
          -24.401353087204043,
          -19.769416247048525,
          -0.024290639236509086,
          -18.589698211925676,
          -0.024290639236509086,
          -25.120523144584887,
          -0.024290639236509086,
          -19.159051574945284,
          -0.024529403559009882,
          -21.602546553727045,
          -25.168700507832447,
          -0.024290639236509086,
          -0.024529403559009882,
          -0.024290639236509086,
          -19.048401550506547,
          -0.024529403559009882,
          -0.024290639236509086,
          -0.024529403559009882,
          -0.024290639236509086,
          -26.86167057076143,
          -23.440710682085182,
          -26.653839565450284,
          -0.024529403559009882,
          -0.024290639236509086,
          -23.807455910655545,
          -26.834656846891072,
          -0.024529403559009882,
          -26.79389067336124,
          -18.12959010252375,
          -0.024290639236509086,
          -0.024290639236509086,
          -0.024529403559009882,
          -0.024529403559009882,
          -0.024290639236509086,
          -25.94244867164282,
          -18.706508448746902,
          -0.024290639236509086,
          -26.314235089024663,
          -0.024529403559009882,
          -0.024529403559009882,
          -21.437410099801415,
          -0.024529403559009882,
          -0.024290639236509086,
          -21.81710457760899,
          -21.987910520588443,
          -19.224223188367475,
          -18.788898792885906
         ],
         "yaxis": "y4"
        },
        {
         "marker": {
          "color": [
           2,
           3,
           8,
           9,
           10,
           12,
           13,
           14,
           15,
           16,
           17,
           19,
           20,
           21,
           22,
           23,
           27,
           28,
           30,
           31,
           32,
           33,
           36,
           38,
           43,
           45,
           47,
           51,
           52,
           54,
           55,
           56,
           57,
           62,
           68,
           71,
           72,
           73,
           78,
           80,
           82,
           85,
           86,
           87,
           88,
           89,
           90,
           91,
           93,
           94,
           96,
           97
          ],
          "colorbar": {
           "title": {
            "text": "Trial"
           },
           "x": 1,
           "xpad": 40
          },
          "colorscale": [
           [
            0,
            "rgb(247,251,255)"
           ],
           [
            0.125,
            "rgb(222,235,247)"
           ],
           [
            0.25,
            "rgb(198,219,239)"
           ],
           [
            0.375,
            "rgb(158,202,225)"
           ],
           [
            0.5,
            "rgb(107,174,214)"
           ],
           [
            0.625,
            "rgb(66,146,198)"
           ],
           [
            0.75,
            "rgb(33,113,181)"
           ],
           [
            0.875,
            "rgb(8,81,156)"
           ],
           [
            1,
            "rgb(8,48,107)"
           ]
          ],
          "line": {
           "color": "Grey",
           "width": 0.5
          },
          "showscale": false
         },
         "mode": "markers",
         "name": "Feasible Trial",
         "showlegend": false,
         "type": "scatter",
         "x": [
          false,
          true,
          false,
          false,
          true,
          true,
          true,
          false,
          true,
          false,
          false,
          false,
          true,
          true,
          false,
          true,
          true,
          true,
          true,
          false,
          false,
          true,
          true,
          true,
          true,
          true,
          true,
          false,
          true,
          false,
          true,
          true,
          false,
          false,
          true,
          true,
          true,
          false,
          false,
          false,
          false,
          true,
          true,
          true,
          true,
          false,
          false,
          true,
          true,
          false,
          false,
          false
         ],
         "xaxis": "x5",
         "y": [
          -0.024290639236509086,
          -19.97385203085658,
          -23.98449257447841,
          -20.679605168660864,
          -0.024290639236509086,
          -24.401353087204043,
          -19.769416247048525,
          -0.024290639236509086,
          -18.589698211925676,
          -0.024290639236509086,
          -25.120523144584887,
          -0.024290639236509086,
          -19.159051574945284,
          -0.024529403559009882,
          -21.602546553727045,
          -25.168700507832447,
          -0.024290639236509086,
          -0.024529403559009882,
          -0.024290639236509086,
          -19.048401550506547,
          -0.024529403559009882,
          -0.024290639236509086,
          -0.024529403559009882,
          -0.024290639236509086,
          -26.86167057076143,
          -23.440710682085182,
          -26.653839565450284,
          -0.024529403559009882,
          -0.024290639236509086,
          -23.807455910655545,
          -26.834656846891072,
          -0.024529403559009882,
          -26.79389067336124,
          -18.12959010252375,
          -0.024290639236509086,
          -0.024290639236509086,
          -0.024529403559009882,
          -0.024529403559009882,
          -0.024290639236509086,
          -25.94244867164282,
          -18.706508448746902,
          -0.024290639236509086,
          -26.314235089024663,
          -0.024529403559009882,
          -0.024529403559009882,
          -21.437410099801415,
          -0.024529403559009882,
          -0.024290639236509086,
          -21.81710457760899,
          -21.987910520588443,
          -19.224223188367475,
          -18.788898792885906
         ],
         "yaxis": "y5"
        }
       ],
       "layout": {
        "template": {
         "data": {
          "bar": [
           {
            "error_x": {
             "color": "#2a3f5f"
            },
            "error_y": {
             "color": "#2a3f5f"
            },
            "marker": {
             "line": {
              "color": "#E5ECF6",
              "width": 0.5
             },
             "pattern": {
              "fillmode": "overlay",
              "size": 10,
              "solidity": 0.2
             }
            },
            "type": "bar"
           }
          ],
          "barpolar": [
           {
            "marker": {
             "line": {
              "color": "#E5ECF6",
              "width": 0.5
             },
             "pattern": {
              "fillmode": "overlay",
              "size": 10,
              "solidity": 0.2
             }
            },
            "type": "barpolar"
           }
          ],
          "carpet": [
           {
            "aaxis": {
             "endlinecolor": "#2a3f5f",
             "gridcolor": "white",
             "linecolor": "white",
             "minorgridcolor": "white",
             "startlinecolor": "#2a3f5f"
            },
            "baxis": {
             "endlinecolor": "#2a3f5f",
             "gridcolor": "white",
             "linecolor": "white",
             "minorgridcolor": "white",
             "startlinecolor": "#2a3f5f"
            },
            "type": "carpet"
           }
          ],
          "choropleth": [
           {
            "colorbar": {
             "outlinewidth": 0,
             "ticks": ""
            },
            "type": "choropleth"
           }
          ],
          "contour": [
           {
            "colorbar": {
             "outlinewidth": 0,
             "ticks": ""
            },
            "colorscale": [
             [
              0,
              "#0d0887"
             ],
             [
              0.1111111111111111,
              "#46039f"
             ],
             [
              0.2222222222222222,
              "#7201a8"
             ],
             [
              0.3333333333333333,
              "#9c179e"
             ],
             [
              0.4444444444444444,
              "#bd3786"
             ],
             [
              0.5555555555555556,
              "#d8576b"
             ],
             [
              0.6666666666666666,
              "#ed7953"
             ],
             [
              0.7777777777777778,
              "#fb9f3a"
             ],
             [
              0.8888888888888888,
              "#fdca26"
             ],
             [
              1,
              "#f0f921"
             ]
            ],
            "type": "contour"
           }
          ],
          "contourcarpet": [
           {
            "colorbar": {
             "outlinewidth": 0,
             "ticks": ""
            },
            "type": "contourcarpet"
           }
          ],
          "heatmap": [
           {
            "colorbar": {
             "outlinewidth": 0,
             "ticks": ""
            },
            "colorscale": [
             [
              0,
              "#0d0887"
             ],
             [
              0.1111111111111111,
              "#46039f"
             ],
             [
              0.2222222222222222,
              "#7201a8"
             ],
             [
              0.3333333333333333,
              "#9c179e"
             ],
             [
              0.4444444444444444,
              "#bd3786"
             ],
             [
              0.5555555555555556,
              "#d8576b"
             ],
             [
              0.6666666666666666,
              "#ed7953"
             ],
             [
              0.7777777777777778,
              "#fb9f3a"
             ],
             [
              0.8888888888888888,
              "#fdca26"
             ],
             [
              1,
              "#f0f921"
             ]
            ],
            "type": "heatmap"
           }
          ],
          "histogram": [
           {
            "marker": {
             "pattern": {
              "fillmode": "overlay",
              "size": 10,
              "solidity": 0.2
             }
            },
            "type": "histogram"
           }
          ],
          "histogram2d": [
           {
            "colorbar": {
             "outlinewidth": 0,
             "ticks": ""
            },
            "colorscale": [
             [
              0,
              "#0d0887"
             ],
             [
              0.1111111111111111,
              "#46039f"
             ],
             [
              0.2222222222222222,
              "#7201a8"
             ],
             [
              0.3333333333333333,
              "#9c179e"
             ],
             [
              0.4444444444444444,
              "#bd3786"
             ],
             [
              0.5555555555555556,
              "#d8576b"
             ],
             [
              0.6666666666666666,
              "#ed7953"
             ],
             [
              0.7777777777777778,
              "#fb9f3a"
             ],
             [
              0.8888888888888888,
              "#fdca26"
             ],
             [
              1,
              "#f0f921"
             ]
            ],
            "type": "histogram2d"
           }
          ],
          "histogram2dcontour": [
           {
            "colorbar": {
             "outlinewidth": 0,
             "ticks": ""
            },
            "colorscale": [
             [
              0,
              "#0d0887"
             ],
             [
              0.1111111111111111,
              "#46039f"
             ],
             [
              0.2222222222222222,
              "#7201a8"
             ],
             [
              0.3333333333333333,
              "#9c179e"
             ],
             [
              0.4444444444444444,
              "#bd3786"
             ],
             [
              0.5555555555555556,
              "#d8576b"
             ],
             [
              0.6666666666666666,
              "#ed7953"
             ],
             [
              0.7777777777777778,
              "#fb9f3a"
             ],
             [
              0.8888888888888888,
              "#fdca26"
             ],
             [
              1,
              "#f0f921"
             ]
            ],
            "type": "histogram2dcontour"
           }
          ],
          "mesh3d": [
           {
            "colorbar": {
             "outlinewidth": 0,
             "ticks": ""
            },
            "type": "mesh3d"
           }
          ],
          "parcoords": [
           {
            "line": {
             "colorbar": {
              "outlinewidth": 0,
              "ticks": ""
             }
            },
            "type": "parcoords"
           }
          ],
          "pie": [
           {
            "automargin": true,
            "type": "pie"
           }
          ],
          "scatter": [
           {
            "fillpattern": {
             "fillmode": "overlay",
             "size": 10,
             "solidity": 0.2
            },
            "type": "scatter"
           }
          ],
          "scatter3d": [
           {
            "line": {
             "colorbar": {
              "outlinewidth": 0,
              "ticks": ""
             }
            },
            "marker": {
             "colorbar": {
              "outlinewidth": 0,
              "ticks": ""
             }
            },
            "type": "scatter3d"
           }
          ],
          "scattercarpet": [
           {
            "marker": {
             "colorbar": {
              "outlinewidth": 0,
              "ticks": ""
             }
            },
            "type": "scattercarpet"
           }
          ],
          "scattergeo": [
           {
            "marker": {
             "colorbar": {
              "outlinewidth": 0,
              "ticks": ""
             }
            },
            "type": "scattergeo"
           }
          ],
          "scattergl": [
           {
            "marker": {
             "colorbar": {
              "outlinewidth": 0,
              "ticks": ""
             }
            },
            "type": "scattergl"
           }
          ],
          "scattermap": [
           {
            "marker": {
             "colorbar": {
              "outlinewidth": 0,
              "ticks": ""
             }
            },
            "type": "scattermap"
           }
          ],
          "scattermapbox": [
           {
            "marker": {
             "colorbar": {
              "outlinewidth": 0,
              "ticks": ""
             }
            },
            "type": "scattermapbox"
           }
          ],
          "scatterpolar": [
           {
            "marker": {
             "colorbar": {
              "outlinewidth": 0,
              "ticks": ""
             }
            },
            "type": "scatterpolar"
           }
          ],
          "scatterpolargl": [
           {
            "marker": {
             "colorbar": {
              "outlinewidth": 0,
              "ticks": ""
             }
            },
            "type": "scatterpolargl"
           }
          ],
          "scatterternary": [
           {
            "marker": {
             "colorbar": {
              "outlinewidth": 0,
              "ticks": ""
             }
            },
            "type": "scatterternary"
           }
          ],
          "surface": [
           {
            "colorbar": {
             "outlinewidth": 0,
             "ticks": ""
            },
            "colorscale": [
             [
              0,
              "#0d0887"
             ],
             [
              0.1111111111111111,
              "#46039f"
             ],
             [
              0.2222222222222222,
              "#7201a8"
             ],
             [
              0.3333333333333333,
              "#9c179e"
             ],
             [
              0.4444444444444444,
              "#bd3786"
             ],
             [
              0.5555555555555556,
              "#d8576b"
             ],
             [
              0.6666666666666666,
              "#ed7953"
             ],
             [
              0.7777777777777778,
              "#fb9f3a"
             ],
             [
              0.8888888888888888,
              "#fdca26"
             ],
             [
              1,
              "#f0f921"
             ]
            ],
            "type": "surface"
           }
          ],
          "table": [
           {
            "cells": {
             "fill": {
              "color": "#EBF0F8"
             },
             "line": {
              "color": "white"
             }
            },
            "header": {
             "fill": {
              "color": "#C8D4E3"
             },
             "line": {
              "color": "white"
             }
            },
            "type": "table"
           }
          ]
         },
         "layout": {
          "annotationdefaults": {
           "arrowcolor": "#2a3f5f",
           "arrowhead": 0,
           "arrowwidth": 1
          },
          "autotypenumbers": "strict",
          "coloraxis": {
           "colorbar": {
            "outlinewidth": 0,
            "ticks": ""
           }
          },
          "colorscale": {
           "diverging": [
            [
             0,
             "#8e0152"
            ],
            [
             0.1,
             "#c51b7d"
            ],
            [
             0.2,
             "#de77ae"
            ],
            [
             0.3,
             "#f1b6da"
            ],
            [
             0.4,
             "#fde0ef"
            ],
            [
             0.5,
             "#f7f7f7"
            ],
            [
             0.6,
             "#e6f5d0"
            ],
            [
             0.7,
             "#b8e186"
            ],
            [
             0.8,
             "#7fbc41"
            ],
            [
             0.9,
             "#4d9221"
            ],
            [
             1,
             "#276419"
            ]
           ],
           "sequential": [
            [
             0,
             "#0d0887"
            ],
            [
             0.1111111111111111,
             "#46039f"
            ],
            [
             0.2222222222222222,
             "#7201a8"
            ],
            [
             0.3333333333333333,
             "#9c179e"
            ],
            [
             0.4444444444444444,
             "#bd3786"
            ],
            [
             0.5555555555555556,
             "#d8576b"
            ],
            [
             0.6666666666666666,
             "#ed7953"
            ],
            [
             0.7777777777777778,
             "#fb9f3a"
            ],
            [
             0.8888888888888888,
             "#fdca26"
            ],
            [
             1,
             "#f0f921"
            ]
           ],
           "sequentialminus": [
            [
             0,
             "#0d0887"
            ],
            [
             0.1111111111111111,
             "#46039f"
            ],
            [
             0.2222222222222222,
             "#7201a8"
            ],
            [
             0.3333333333333333,
             "#9c179e"
            ],
            [
             0.4444444444444444,
             "#bd3786"
            ],
            [
             0.5555555555555556,
             "#d8576b"
            ],
            [
             0.6666666666666666,
             "#ed7953"
            ],
            [
             0.7777777777777778,
             "#fb9f3a"
            ],
            [
             0.8888888888888888,
             "#fdca26"
            ],
            [
             1,
             "#f0f921"
            ]
           ]
          },
          "colorway": [
           "#636efa",
           "#EF553B",
           "#00cc96",
           "#ab63fa",
           "#FFA15A",
           "#19d3f3",
           "#FF6692",
           "#B6E880",
           "#FF97FF",
           "#FECB52"
          ],
          "font": {
           "color": "#2a3f5f"
          },
          "geo": {
           "bgcolor": "white",
           "lakecolor": "white",
           "landcolor": "#E5ECF6",
           "showlakes": true,
           "showland": true,
           "subunitcolor": "white"
          },
          "hoverlabel": {
           "align": "left"
          },
          "hovermode": "closest",
          "mapbox": {
           "style": "light"
          },
          "paper_bgcolor": "white",
          "plot_bgcolor": "#E5ECF6",
          "polar": {
           "angularaxis": {
            "gridcolor": "white",
            "linecolor": "white",
            "ticks": ""
           },
           "bgcolor": "#E5ECF6",
           "radialaxis": {
            "gridcolor": "white",
            "linecolor": "white",
            "ticks": ""
           }
          },
          "scene": {
           "xaxis": {
            "backgroundcolor": "#E5ECF6",
            "gridcolor": "white",
            "gridwidth": 2,
            "linecolor": "white",
            "showbackground": true,
            "ticks": "",
            "zerolinecolor": "white"
           },
           "yaxis": {
            "backgroundcolor": "#E5ECF6",
            "gridcolor": "white",
            "gridwidth": 2,
            "linecolor": "white",
            "showbackground": true,
            "ticks": "",
            "zerolinecolor": "white"
           },
           "zaxis": {
            "backgroundcolor": "#E5ECF6",
            "gridcolor": "white",
            "gridwidth": 2,
            "linecolor": "white",
            "showbackground": true,
            "ticks": "",
            "zerolinecolor": "white"
           }
          },
          "shapedefaults": {
           "line": {
            "color": "#2a3f5f"
           }
          },
          "ternary": {
           "aaxis": {
            "gridcolor": "white",
            "linecolor": "white",
            "ticks": ""
           },
           "baxis": {
            "gridcolor": "white",
            "linecolor": "white",
            "ticks": ""
           },
           "bgcolor": "#E5ECF6",
           "caxis": {
            "gridcolor": "white",
            "linecolor": "white",
            "ticks": ""
           }
          },
          "title": {
           "x": 0.05
          },
          "xaxis": {
           "automargin": true,
           "gridcolor": "white",
           "linecolor": "white",
           "ticks": "",
           "title": {
            "standoff": 15
           },
           "zerolinecolor": "white",
           "zerolinewidth": 2
          },
          "yaxis": {
           "automargin": true,
           "gridcolor": "white",
           "linecolor": "white",
           "ticks": "",
           "title": {
            "standoff": 15
           },
           "zerolinecolor": "white",
           "zerolinewidth": 2
          }
         }
        },
        "title": {
         "text": "Slice Plot"
        },
        "width": 1500,
        "xaxis": {
         "anchor": "y",
         "domain": [
          0,
          0.16799999999999998
         ],
         "title": {
          "text": "poly_degree"
         }
        },
        "xaxis2": {
         "anchor": "y2",
         "categoryarray": [
          "mean",
          "median",
          "constant"
         ],
         "categoryorder": "array",
         "domain": [
          0.208,
          0.376
         ],
         "title": {
          "text": "strategy"
         },
         "type": "category"
        },
        "xaxis3": {
         "anchor": "y3",
         "categoryarray": [
          false,
          true
         ],
         "categoryorder": "array",
         "domain": [
          0.416,
          0.584
         ],
         "title": {
          "text": "use_scaler"
         },
         "type": "category"
        },
        "xaxis4": {
         "anchor": "y4",
         "categoryarray": [
          true,
          false
         ],
         "categoryorder": "array",
         "domain": [
          0.624,
          0.792
         ],
         "title": {
          "text": "with_mean"
         },
         "type": "category"
        },
        "xaxis5": {
         "anchor": "y5",
         "categoryarray": [
          true,
          false
         ],
         "categoryorder": "array",
         "domain": [
          0.832,
          1
         ],
         "title": {
          "text": "with_std"
         },
         "type": "category"
        },
        "yaxis": {
         "anchor": "x",
         "domain": [
          0,
          1
         ],
         "title": {
          "text": "Objective Value"
         }
        },
        "yaxis2": {
         "anchor": "x2",
         "domain": [
          0,
          1
         ],
         "matches": "y",
         "showticklabels": false
        },
        "yaxis3": {
         "anchor": "x3",
         "domain": [
          0,
          1
         ],
         "matches": "y",
         "showticklabels": false
        },
        "yaxis4": {
         "anchor": "x4",
         "domain": [
          0,
          1
         ],
         "matches": "y",
         "showticklabels": false
        },
        "yaxis5": {
         "anchor": "x5",
         "domain": [
          0,
          1
         ],
         "matches": "y",
         "showticklabels": false
        }
       }
      }
     },
     "metadata": {},
     "output_type": "display_data"
    }
   ],
   "source": [
    "optuna.visualization.plot_slice(study, params=['strategy','use_scaler','poly_degree','with_std','with_mean'])"
   ]
  },
  {
   "cell_type": "code",
   "execution_count": 300,
   "metadata": {},
   "outputs": [
    {
     "data": {
      "application/vnd.plotly.v1+json": {
       "config": {
        "plotlyServerURL": "https://plot.ly"
       },
       "data": [
        {
         "cliponaxis": false,
         "hovertemplate": [
          "use_scaler (CategoricalDistribution): 0.0028290289757255654<extra></extra>",
          "poly_degree (IntDistribution): 0.0040071307212342705<extra></extra>",
          "strategy (CategoricalDistribution): 0.9931638403030402<extra></extra>"
         ],
         "name": "Objective Value",
         "orientation": "h",
         "text": [
          "<0.01",
          "<0.01",
          "0.99"
         ],
         "textposition": "outside",
         "type": "bar",
         "x": [
          0.0028290289757255654,
          0.0040071307212342705,
          0.9931638403030402
         ],
         "y": [
          "use_scaler",
          "poly_degree",
          "strategy"
         ]
        }
       ],
       "layout": {
        "template": {
         "data": {
          "bar": [
           {
            "error_x": {
             "color": "#2a3f5f"
            },
            "error_y": {
             "color": "#2a3f5f"
            },
            "marker": {
             "line": {
              "color": "#E5ECF6",
              "width": 0.5
             },
             "pattern": {
              "fillmode": "overlay",
              "size": 10,
              "solidity": 0.2
             }
            },
            "type": "bar"
           }
          ],
          "barpolar": [
           {
            "marker": {
             "line": {
              "color": "#E5ECF6",
              "width": 0.5
             },
             "pattern": {
              "fillmode": "overlay",
              "size": 10,
              "solidity": 0.2
             }
            },
            "type": "barpolar"
           }
          ],
          "carpet": [
           {
            "aaxis": {
             "endlinecolor": "#2a3f5f",
             "gridcolor": "white",
             "linecolor": "white",
             "minorgridcolor": "white",
             "startlinecolor": "#2a3f5f"
            },
            "baxis": {
             "endlinecolor": "#2a3f5f",
             "gridcolor": "white",
             "linecolor": "white",
             "minorgridcolor": "white",
             "startlinecolor": "#2a3f5f"
            },
            "type": "carpet"
           }
          ],
          "choropleth": [
           {
            "colorbar": {
             "outlinewidth": 0,
             "ticks": ""
            },
            "type": "choropleth"
           }
          ],
          "contour": [
           {
            "colorbar": {
             "outlinewidth": 0,
             "ticks": ""
            },
            "colorscale": [
             [
              0,
              "#0d0887"
             ],
             [
              0.1111111111111111,
              "#46039f"
             ],
             [
              0.2222222222222222,
              "#7201a8"
             ],
             [
              0.3333333333333333,
              "#9c179e"
             ],
             [
              0.4444444444444444,
              "#bd3786"
             ],
             [
              0.5555555555555556,
              "#d8576b"
             ],
             [
              0.6666666666666666,
              "#ed7953"
             ],
             [
              0.7777777777777778,
              "#fb9f3a"
             ],
             [
              0.8888888888888888,
              "#fdca26"
             ],
             [
              1,
              "#f0f921"
             ]
            ],
            "type": "contour"
           }
          ],
          "contourcarpet": [
           {
            "colorbar": {
             "outlinewidth": 0,
             "ticks": ""
            },
            "type": "contourcarpet"
           }
          ],
          "heatmap": [
           {
            "colorbar": {
             "outlinewidth": 0,
             "ticks": ""
            },
            "colorscale": [
             [
              0,
              "#0d0887"
             ],
             [
              0.1111111111111111,
              "#46039f"
             ],
             [
              0.2222222222222222,
              "#7201a8"
             ],
             [
              0.3333333333333333,
              "#9c179e"
             ],
             [
              0.4444444444444444,
              "#bd3786"
             ],
             [
              0.5555555555555556,
              "#d8576b"
             ],
             [
              0.6666666666666666,
              "#ed7953"
             ],
             [
              0.7777777777777778,
              "#fb9f3a"
             ],
             [
              0.8888888888888888,
              "#fdca26"
             ],
             [
              1,
              "#f0f921"
             ]
            ],
            "type": "heatmap"
           }
          ],
          "histogram": [
           {
            "marker": {
             "pattern": {
              "fillmode": "overlay",
              "size": 10,
              "solidity": 0.2
             }
            },
            "type": "histogram"
           }
          ],
          "histogram2d": [
           {
            "colorbar": {
             "outlinewidth": 0,
             "ticks": ""
            },
            "colorscale": [
             [
              0,
              "#0d0887"
             ],
             [
              0.1111111111111111,
              "#46039f"
             ],
             [
              0.2222222222222222,
              "#7201a8"
             ],
             [
              0.3333333333333333,
              "#9c179e"
             ],
             [
              0.4444444444444444,
              "#bd3786"
             ],
             [
              0.5555555555555556,
              "#d8576b"
             ],
             [
              0.6666666666666666,
              "#ed7953"
             ],
             [
              0.7777777777777778,
              "#fb9f3a"
             ],
             [
              0.8888888888888888,
              "#fdca26"
             ],
             [
              1,
              "#f0f921"
             ]
            ],
            "type": "histogram2d"
           }
          ],
          "histogram2dcontour": [
           {
            "colorbar": {
             "outlinewidth": 0,
             "ticks": ""
            },
            "colorscale": [
             [
              0,
              "#0d0887"
             ],
             [
              0.1111111111111111,
              "#46039f"
             ],
             [
              0.2222222222222222,
              "#7201a8"
             ],
             [
              0.3333333333333333,
              "#9c179e"
             ],
             [
              0.4444444444444444,
              "#bd3786"
             ],
             [
              0.5555555555555556,
              "#d8576b"
             ],
             [
              0.6666666666666666,
              "#ed7953"
             ],
             [
              0.7777777777777778,
              "#fb9f3a"
             ],
             [
              0.8888888888888888,
              "#fdca26"
             ],
             [
              1,
              "#f0f921"
             ]
            ],
            "type": "histogram2dcontour"
           }
          ],
          "mesh3d": [
           {
            "colorbar": {
             "outlinewidth": 0,
             "ticks": ""
            },
            "type": "mesh3d"
           }
          ],
          "parcoords": [
           {
            "line": {
             "colorbar": {
              "outlinewidth": 0,
              "ticks": ""
             }
            },
            "type": "parcoords"
           }
          ],
          "pie": [
           {
            "automargin": true,
            "type": "pie"
           }
          ],
          "scatter": [
           {
            "fillpattern": {
             "fillmode": "overlay",
             "size": 10,
             "solidity": 0.2
            },
            "type": "scatter"
           }
          ],
          "scatter3d": [
           {
            "line": {
             "colorbar": {
              "outlinewidth": 0,
              "ticks": ""
             }
            },
            "marker": {
             "colorbar": {
              "outlinewidth": 0,
              "ticks": ""
             }
            },
            "type": "scatter3d"
           }
          ],
          "scattercarpet": [
           {
            "marker": {
             "colorbar": {
              "outlinewidth": 0,
              "ticks": ""
             }
            },
            "type": "scattercarpet"
           }
          ],
          "scattergeo": [
           {
            "marker": {
             "colorbar": {
              "outlinewidth": 0,
              "ticks": ""
             }
            },
            "type": "scattergeo"
           }
          ],
          "scattergl": [
           {
            "marker": {
             "colorbar": {
              "outlinewidth": 0,
              "ticks": ""
             }
            },
            "type": "scattergl"
           }
          ],
          "scattermap": [
           {
            "marker": {
             "colorbar": {
              "outlinewidth": 0,
              "ticks": ""
             }
            },
            "type": "scattermap"
           }
          ],
          "scattermapbox": [
           {
            "marker": {
             "colorbar": {
              "outlinewidth": 0,
              "ticks": ""
             }
            },
            "type": "scattermapbox"
           }
          ],
          "scatterpolar": [
           {
            "marker": {
             "colorbar": {
              "outlinewidth": 0,
              "ticks": ""
             }
            },
            "type": "scatterpolar"
           }
          ],
          "scatterpolargl": [
           {
            "marker": {
             "colorbar": {
              "outlinewidth": 0,
              "ticks": ""
             }
            },
            "type": "scatterpolargl"
           }
          ],
          "scatterternary": [
           {
            "marker": {
             "colorbar": {
              "outlinewidth": 0,
              "ticks": ""
             }
            },
            "type": "scatterternary"
           }
          ],
          "surface": [
           {
            "colorbar": {
             "outlinewidth": 0,
             "ticks": ""
            },
            "colorscale": [
             [
              0,
              "#0d0887"
             ],
             [
              0.1111111111111111,
              "#46039f"
             ],
             [
              0.2222222222222222,
              "#7201a8"
             ],
             [
              0.3333333333333333,
              "#9c179e"
             ],
             [
              0.4444444444444444,
              "#bd3786"
             ],
             [
              0.5555555555555556,
              "#d8576b"
             ],
             [
              0.6666666666666666,
              "#ed7953"
             ],
             [
              0.7777777777777778,
              "#fb9f3a"
             ],
             [
              0.8888888888888888,
              "#fdca26"
             ],
             [
              1,
              "#f0f921"
             ]
            ],
            "type": "surface"
           }
          ],
          "table": [
           {
            "cells": {
             "fill": {
              "color": "#EBF0F8"
             },
             "line": {
              "color": "white"
             }
            },
            "header": {
             "fill": {
              "color": "#C8D4E3"
             },
             "line": {
              "color": "white"
             }
            },
            "type": "table"
           }
          ]
         },
         "layout": {
          "annotationdefaults": {
           "arrowcolor": "#2a3f5f",
           "arrowhead": 0,
           "arrowwidth": 1
          },
          "autotypenumbers": "strict",
          "coloraxis": {
           "colorbar": {
            "outlinewidth": 0,
            "ticks": ""
           }
          },
          "colorscale": {
           "diverging": [
            [
             0,
             "#8e0152"
            ],
            [
             0.1,
             "#c51b7d"
            ],
            [
             0.2,
             "#de77ae"
            ],
            [
             0.3,
             "#f1b6da"
            ],
            [
             0.4,
             "#fde0ef"
            ],
            [
             0.5,
             "#f7f7f7"
            ],
            [
             0.6,
             "#e6f5d0"
            ],
            [
             0.7,
             "#b8e186"
            ],
            [
             0.8,
             "#7fbc41"
            ],
            [
             0.9,
             "#4d9221"
            ],
            [
             1,
             "#276419"
            ]
           ],
           "sequential": [
            [
             0,
             "#0d0887"
            ],
            [
             0.1111111111111111,
             "#46039f"
            ],
            [
             0.2222222222222222,
             "#7201a8"
            ],
            [
             0.3333333333333333,
             "#9c179e"
            ],
            [
             0.4444444444444444,
             "#bd3786"
            ],
            [
             0.5555555555555556,
             "#d8576b"
            ],
            [
             0.6666666666666666,
             "#ed7953"
            ],
            [
             0.7777777777777778,
             "#fb9f3a"
            ],
            [
             0.8888888888888888,
             "#fdca26"
            ],
            [
             1,
             "#f0f921"
            ]
           ],
           "sequentialminus": [
            [
             0,
             "#0d0887"
            ],
            [
             0.1111111111111111,
             "#46039f"
            ],
            [
             0.2222222222222222,
             "#7201a8"
            ],
            [
             0.3333333333333333,
             "#9c179e"
            ],
            [
             0.4444444444444444,
             "#bd3786"
            ],
            [
             0.5555555555555556,
             "#d8576b"
            ],
            [
             0.6666666666666666,
             "#ed7953"
            ],
            [
             0.7777777777777778,
             "#fb9f3a"
            ],
            [
             0.8888888888888888,
             "#fdca26"
            ],
            [
             1,
             "#f0f921"
            ]
           ]
          },
          "colorway": [
           "#636efa",
           "#EF553B",
           "#00cc96",
           "#ab63fa",
           "#FFA15A",
           "#19d3f3",
           "#FF6692",
           "#B6E880",
           "#FF97FF",
           "#FECB52"
          ],
          "font": {
           "color": "#2a3f5f"
          },
          "geo": {
           "bgcolor": "white",
           "lakecolor": "white",
           "landcolor": "#E5ECF6",
           "showlakes": true,
           "showland": true,
           "subunitcolor": "white"
          },
          "hoverlabel": {
           "align": "left"
          },
          "hovermode": "closest",
          "mapbox": {
           "style": "light"
          },
          "paper_bgcolor": "white",
          "plot_bgcolor": "#E5ECF6",
          "polar": {
           "angularaxis": {
            "gridcolor": "white",
            "linecolor": "white",
            "ticks": ""
           },
           "bgcolor": "#E5ECF6",
           "radialaxis": {
            "gridcolor": "white",
            "linecolor": "white",
            "ticks": ""
           }
          },
          "scene": {
           "xaxis": {
            "backgroundcolor": "#E5ECF6",
            "gridcolor": "white",
            "gridwidth": 2,
            "linecolor": "white",
            "showbackground": true,
            "ticks": "",
            "zerolinecolor": "white"
           },
           "yaxis": {
            "backgroundcolor": "#E5ECF6",
            "gridcolor": "white",
            "gridwidth": 2,
            "linecolor": "white",
            "showbackground": true,
            "ticks": "",
            "zerolinecolor": "white"
           },
           "zaxis": {
            "backgroundcolor": "#E5ECF6",
            "gridcolor": "white",
            "gridwidth": 2,
            "linecolor": "white",
            "showbackground": true,
            "ticks": "",
            "zerolinecolor": "white"
           }
          },
          "shapedefaults": {
           "line": {
            "color": "#2a3f5f"
           }
          },
          "ternary": {
           "aaxis": {
            "gridcolor": "white",
            "linecolor": "white",
            "ticks": ""
           },
           "baxis": {
            "gridcolor": "white",
            "linecolor": "white",
            "ticks": ""
           },
           "bgcolor": "#E5ECF6",
           "caxis": {
            "gridcolor": "white",
            "linecolor": "white",
            "ticks": ""
           }
          },
          "title": {
           "x": 0.05
          },
          "xaxis": {
           "automargin": true,
           "gridcolor": "white",
           "linecolor": "white",
           "ticks": "",
           "title": {
            "standoff": 15
           },
           "zerolinecolor": "white",
           "zerolinewidth": 2
          },
          "yaxis": {
           "automargin": true,
           "gridcolor": "white",
           "linecolor": "white",
           "ticks": "",
           "title": {
            "standoff": 15
           },
           "zerolinecolor": "white",
           "zerolinewidth": 2
          }
         }
        },
        "title": {
         "text": "Hyperparameter Importances"
        },
        "xaxis": {
         "title": {
          "text": "Hyperparameter Importance"
         }
        },
        "yaxis": {
         "title": {
          "text": "Hyperparameter"
         }
        }
       }
      }
     },
     "metadata": {},
     "output_type": "display_data"
    }
   ],
   "source": [
    "optuna.visualization.plot_param_importances(study)"
   ]
  },
  {
   "cell_type": "code",
   "execution_count": 301,
   "metadata": {},
   "outputs": [],
   "source": [
    "best_strat = best_params['strategy']\n"
   ]
  },
  {
   "cell_type": "code",
   "execution_count": 339,
   "metadata": {},
   "outputs": [],
   "source": [
    "numeric_pipeline_dummy = Pipeline([\n",
    "    ('imputer', SimpleImputer(strategy='mean')),\n",
    "        ('poly', PolynomialFeatures(degree=1, include_bias=False)),\n",
    "        ('scaler', StandardScaler(with_mean=True,with_std=False))\n",
    "])\n",
    "\n",
    "categorical_pipeline_dummy = Pipeline([\n",
    "    ('imputer', SimpleImputer(strategy='most_frequent')),\n",
    "    ('onehot',  OneHotEncoder(handle_unknown='ignore', sparse_output=False,drop='first')),\n",
    "])\n",
    "\n",
    "preprocessor = ColumnTransformer([\n",
    "    ('num', numeric_pipeline_dummy,      num_cols),\n",
    "    ('cat', categorical_pipeline_dummy,  cat_cols),\n",
    "],\n",
    "remainder='passthrough')\n",
    "\n",
    "dummy = Pipeline([\n",
    "    ('prepoc',preprocessor),\n",
    "        ('dummy', DummyRegressor(\n",
    "            strategy=best_strat\n",
    "        )),\n",
    "    \n",
    "])"
   ]
  },
  {
   "cell_type": "code",
   "execution_count": 340,
   "metadata": {},
   "outputs": [
    {
     "name": "stdout",
     "output_type": "stream",
     "text": [
      "Dummy Regressor CV results:\n",
      "[0.02432599 0.02459076 0.02582598 0.02384896 0.0228615 ]\n",
      "RMSE: 0.02 +/- 0.00\n",
      "\n"
     ]
    }
   ],
   "source": [
    "dummy_reg_cv = cross_val_score(\n",
    "        dummy, X_train, y_train,\n",
    "        cv=5,\n",
    "        scoring='neg_mean_squared_error',\n",
    "        n_jobs=-1\n",
    "    )\n",
    "print_cv_results('Dummy Regressor',dummy_reg_cv)"
   ]
  },
  {
   "cell_type": "code",
   "execution_count": 305,
   "metadata": {},
   "outputs": [],
   "source": [
    "\n",
    "result['Dummy'] = dummy_reg_cv"
   ]
  },
  {
   "cell_type": "markdown",
   "metadata": {},
   "source": [
    "# Linear Model "
   ]
  },
  {
   "cell_type": "code",
   "execution_count": 200,
   "metadata": {},
   "outputs": [],
   "source": [
    "from sklearn.linear_model import LinearRegression\n",
    "\n"
   ]
  },
  {
   "cell_type": "code",
   "execution_count": null,
   "metadata": {},
   "outputs": [],
   "source": [
    "def objective(trial):\n",
    "    fit_intercept = trial.suggest_categorical('fit_intercept', [False, True])\n",
    "    use_scaler  = trial.suggest_categorical('use_scaler', [False, True])\n",
    "    if use_scaler:\n",
    "        with_mean = trial.suggest_categorical('with_mean', [True, False])\n",
    "        with_std  = trial.suggest_categorical('with_std',  [True, False])\n",
    "    else:\n",
    "        with_mean = False\n",
    "        with_std  = False\n",
    "\n",
    "    poly_degree = trial.suggest_int('poly_degree', 1, 5)\n",
    "    num_steps = [('imputer', SimpleImputer(strategy='mean'))]\n",
    "    if use_scaler:\n",
    "        num_steps.append((\n",
    "            'scaler',\n",
    "            StandardScaler(with_mean=with_mean, with_std=with_std)\n",
    "        ))\n",
    "    num_steps.append((\n",
    "        'poly',\n",
    "        PolynomialFeatures(degree=poly_degree, include_bias=False)\n",
    "    ))\n",
    "    numeric_pipeline = Pipeline(num_steps)\n",
    "\n",
    "    categorical_pipeline = Pipeline([\n",
    "        ('imputer', SimpleImputer(strategy='most_frequent')),\n",
    "        ('onehot',  OneHotEncoder(handle_unknown='ignore',\n",
    "                                  sparse_output=False,\n",
    "                                  drop='first')),\n",
    "    ])\n",
    "\n",
    "    preprocessor = ColumnTransformer(\n",
    "        [\n",
    "            ('num', numeric_pipeline, num_cols),\n",
    "            ('cat', categorical_pipeline, cat_cols),\n",
    "        ],\n",
    "        remainder='passthrough'\n",
    "    )\n",
    "\n",
    "    model = Pipeline([\n",
    "        ('preproc', preprocessor),\n",
    "        ('linear', LinearRegression(fit_intercept=fit_intercept)),\n",
    "    ])\n",
    "\n",
    "    neg_mse = cross_val_score(\n",
    "        model,\n",
    "        X_train, y_train,\n",
    "        cv=5,\n",
    "        scoring='neg_mean_squared_error',\n",
    "        n_jobs=-1\n",
    "    ).mean()\n",
    "\n",
    "    return neg_mse"
   ]
  },
  {
   "cell_type": "code",
   "execution_count": 283,
   "metadata": {},
   "outputs": [
    {
     "name": "stderr",
     "output_type": "stream",
     "text": [
      "[I 2025-05-03 19:39:32,598] A new study created in memory with name: no-name-b3ed6847-d229-40f6-a7f2-5f69718a4a87\n"
     ]
    }
   ],
   "source": [
    "study = optuna.create_study(direction='maximize', sampler=optuna.samplers.RandomSampler(seed=42)) "
   ]
  },
  {
   "cell_type": "code",
   "execution_count": 284,
   "metadata": {},
   "outputs": [
    {
     "name": "stderr",
     "output_type": "stream",
     "text": [
      "[I 2025-05-03 19:39:36,712] Trial 0 finished with value: -0.00297418192849084 and parameters: {'fit_intercept': True, 'use_scaler': False, 'poly_degree': 1}. Best is trial 0 with value: -0.00297418192849084.\n",
      "[I 2025-05-03 19:39:37,321] Trial 1 finished with value: -0.006949901960131823 and parameters: {'fit_intercept': False, 'use_scaler': False, 'poly_degree': 4}. Best is trial 0 with value: -0.00297418192849084.\n",
      "[I 2025-05-03 19:39:37,390] Trial 2 finished with value: -0.00297418192849084 and parameters: {'fit_intercept': True, 'use_scaler': False, 'poly_degree': 1}. Best is trial 0 with value: -0.00297418192849084.\n",
      "[I 2025-05-03 19:39:37,670] Trial 3 finished with value: -0.002900251376377368 and parameters: {'fit_intercept': True, 'use_scaler': False, 'poly_degree': 2}. Best is trial 3 with value: -0.002900251376377368.\n",
      "[I 2025-05-03 19:39:38,507] Trial 4 finished with value: -0.0029234658241886298 and parameters: {'fit_intercept': False, 'use_scaler': True, 'with_mean': False, 'with_std': False, 'poly_degree': 3}. Best is trial 3 with value: -0.002900251376377368.\n",
      "[I 2025-05-03 19:39:38,586] Trial 5 finished with value: -0.006862772051776202 and parameters: {'fit_intercept': True, 'use_scaler': False, 'poly_degree': 5}. Best is trial 3 with value: -0.002900251376377368.\n",
      "[I 2025-05-03 19:39:38,651] Trial 6 finished with value: -0.006949901960131823 and parameters: {'fit_intercept': False, 'use_scaler': False, 'poly_degree': 4}. Best is trial 3 with value: -0.002900251376377368.\n",
      "[I 2025-05-03 19:39:38,714] Trial 7 finished with value: -0.006943357842808933 and parameters: {'fit_intercept': False, 'use_scaler': False, 'poly_degree': 5}. Best is trial 3 with value: -0.002900251376377368.\n",
      "[I 2025-05-03 19:39:38,833] Trial 8 finished with value: -0.004265449810969909 and parameters: {'fit_intercept': True, 'use_scaler': True, 'with_mean': True, 'with_std': True, 'poly_degree': 5}. Best is trial 3 with value: -0.002900251376377368.\n",
      "[I 2025-05-03 19:39:38,892] Trial 9 finished with value: -0.0030031129516354905 and parameters: {'fit_intercept': False, 'use_scaler': False, 'poly_degree': 1}. Best is trial 3 with value: -0.002900251376377368.\n",
      "[I 2025-05-03 19:39:38,942] Trial 10 finished with value: -0.006862772051776202 and parameters: {'fit_intercept': True, 'use_scaler': False, 'poly_degree': 5}. Best is trial 3 with value: -0.002900251376377368.\n",
      "[I 2025-05-03 19:39:39,007] Trial 11 finished with value: -0.006943357842808933 and parameters: {'fit_intercept': False, 'use_scaler': False, 'poly_degree': 5}. Best is trial 3 with value: -0.002900251376377368.\n",
      "[I 2025-05-03 19:39:39,058] Trial 12 finished with value: -0.00297418192849084 and parameters: {'fit_intercept': True, 'use_scaler': False, 'poly_degree': 1}. Best is trial 3 with value: -0.002900251376377368.\n",
      "[I 2025-05-03 19:39:39,128] Trial 13 finished with value: -0.006949901960131823 and parameters: {'fit_intercept': False, 'use_scaler': True, 'with_mean': False, 'with_std': False, 'poly_degree': 4}. Best is trial 3 with value: -0.002900251376377368.\n",
      "[I 2025-05-03 19:39:39,170] Trial 14 finished with value: -0.21583589988001445 and parameters: {'fit_intercept': False, 'use_scaler': True, 'with_mean': True, 'with_std': True, 'poly_degree': 1}. Best is trial 3 with value: -0.002900251376377368.\n",
      "[I 2025-05-03 19:39:39,218] Trial 15 finished with value: -0.00297418192849086 and parameters: {'fit_intercept': True, 'use_scaler': True, 'with_mean': False, 'with_std': True, 'poly_degree': 1}. Best is trial 3 with value: -0.002900251376377368.\n",
      "[I 2025-05-03 19:39:39,260] Trial 16 finished with value: -0.002900251375965142 and parameters: {'fit_intercept': True, 'use_scaler': True, 'with_mean': True, 'with_std': False, 'poly_degree': 2}. Best is trial 16 with value: -0.002900251375965142.\n",
      "[I 2025-05-03 19:39:39,301] Trial 17 finished with value: -0.002974181928490868 and parameters: {'fit_intercept': True, 'use_scaler': True, 'with_mean': True, 'with_std': True, 'poly_degree': 1}. Best is trial 16 with value: -0.002900251375965142.\n",
      "[I 2025-05-03 19:39:39,360] Trial 18 finished with value: -0.22139661557561524 and parameters: {'fit_intercept': False, 'use_scaler': True, 'with_mean': True, 'with_std': False, 'poly_degree': 5}. Best is trial 16 with value: -0.002900251375965142.\n",
      "[I 2025-05-03 19:39:39,399] Trial 19 finished with value: -0.002898128376183294 and parameters: {'fit_intercept': False, 'use_scaler': False, 'poly_degree': 2}. Best is trial 19 with value: -0.002898128376183294.\n",
      "[I 2025-05-03 19:39:39,448] Trial 20 finished with value: -0.002954825599303536 and parameters: {'fit_intercept': True, 'use_scaler': False, 'poly_degree': 3}. Best is trial 19 with value: -0.002898128376183294.\n",
      "[I 2025-05-03 19:39:39,487] Trial 21 finished with value: -0.002898128376183294 and parameters: {'fit_intercept': False, 'use_scaler': False, 'poly_degree': 2}. Best is trial 19 with value: -0.002898128376183294.\n",
      "[I 2025-05-03 19:39:39,535] Trial 22 finished with value: -0.006949901960131823 and parameters: {'fit_intercept': False, 'use_scaler': False, 'poly_degree': 4}. Best is trial 19 with value: -0.002898128376183294.\n",
      "[I 2025-05-03 19:39:39,574] Trial 23 finished with value: -0.19491898254228945 and parameters: {'fit_intercept': False, 'use_scaler': True, 'with_mean': True, 'with_std': False, 'poly_degree': 2}. Best is trial 19 with value: -0.002898128376183294.\n",
      "[I 2025-05-03 19:39:39,614] Trial 24 finished with value: -0.00297418192849086 and parameters: {'fit_intercept': True, 'use_scaler': True, 'with_mean': False, 'with_std': True, 'poly_degree': 1}. Best is trial 19 with value: -0.002898128376183294.\n",
      "[I 2025-05-03 19:39:39,654] Trial 25 finished with value: -0.0029234658241886298 and parameters: {'fit_intercept': False, 'use_scaler': False, 'poly_degree': 3}. Best is trial 19 with value: -0.002898128376183294.\n",
      "[I 2025-05-03 19:39:39,718] Trial 26 finished with value: -0.006949901960131823 and parameters: {'fit_intercept': False, 'use_scaler': False, 'poly_degree': 4}. Best is trial 19 with value: -0.002898128376183294.\n",
      "[I 2025-05-03 19:39:39,770] Trial 27 finished with value: -0.006862772051776202 and parameters: {'fit_intercept': True, 'use_scaler': True, 'with_mean': False, 'with_std': False, 'poly_degree': 5}. Best is trial 19 with value: -0.002898128376183294.\n",
      "[I 2025-05-03 19:39:39,821] Trial 28 finished with value: -0.002954825599303536 and parameters: {'fit_intercept': True, 'use_scaler': False, 'poly_degree': 3}. Best is trial 19 with value: -0.002898128376183294.\n",
      "[I 2025-05-03 19:39:39,886] Trial 29 finished with value: -0.22139661557561524 and parameters: {'fit_intercept': False, 'use_scaler': True, 'with_mean': True, 'with_std': False, 'poly_degree': 5}. Best is trial 19 with value: -0.002898128376183294.\n",
      "[I 2025-05-03 19:39:39,936] Trial 30 finished with value: -0.0030031129516354905 and parameters: {'fit_intercept': False, 'use_scaler': False, 'poly_degree': 1}. Best is trial 19 with value: -0.002898128376183294.\n",
      "[I 2025-05-03 19:39:39,990] Trial 31 finished with value: -0.19493609476781823 and parameters: {'fit_intercept': False, 'use_scaler': True, 'with_mean': True, 'with_std': False, 'poly_degree': 4}. Best is trial 19 with value: -0.002898128376183294.\n",
      "[I 2025-05-03 19:39:40,030] Trial 32 finished with value: -0.002898128376183294 and parameters: {'fit_intercept': False, 'use_scaler': False, 'poly_degree': 2}. Best is trial 19 with value: -0.002898128376183294.\n",
      "[I 2025-05-03 19:39:40,070] Trial 33 finished with value: -0.0029234658241886298 and parameters: {'fit_intercept': False, 'use_scaler': False, 'poly_degree': 3}. Best is trial 19 with value: -0.002898128376183294.\n",
      "[I 2025-05-03 19:39:40,122] Trial 34 finished with value: -0.006862772051776202 and parameters: {'fit_intercept': True, 'use_scaler': False, 'poly_degree': 5}. Best is trial 19 with value: -0.002898128376183294.\n",
      "[I 2025-05-03 19:39:40,173] Trial 35 finished with value: -0.003016454402943482 and parameters: {'fit_intercept': True, 'use_scaler': True, 'with_mean': False, 'with_std': True, 'poly_degree': 4}. Best is trial 19 with value: -0.002898128376183294.\n",
      "[I 2025-05-03 19:39:40,224] Trial 36 finished with value: -0.006943357842808933 and parameters: {'fit_intercept': False, 'use_scaler': False, 'poly_degree': 5}. Best is trial 19 with value: -0.002898128376183294.\n",
      "[I 2025-05-03 19:39:40,276] Trial 37 finished with value: -0.006943357842808933 and parameters: {'fit_intercept': False, 'use_scaler': False, 'poly_degree': 5}. Best is trial 19 with value: -0.002898128376183294.\n",
      "[I 2025-05-03 19:39:40,317] Trial 38 finished with value: -0.002900251376377368 and parameters: {'fit_intercept': True, 'use_scaler': False, 'poly_degree': 2}. Best is trial 19 with value: -0.002898128376183294.\n",
      "[I 2025-05-03 19:39:40,358] Trial 39 finished with value: -0.002954825599303536 and parameters: {'fit_intercept': True, 'use_scaler': False, 'poly_degree': 3}. Best is trial 19 with value: -0.002898128376183294.\n",
      "[I 2025-05-03 19:39:40,420] Trial 40 finished with value: -0.006949901960131823 and parameters: {'fit_intercept': False, 'use_scaler': False, 'poly_degree': 4}. Best is trial 19 with value: -0.002898128376183294.\n",
      "[I 2025-05-03 19:39:40,518] Trial 41 finished with value: -0.19491898254228937 and parameters: {'fit_intercept': False, 'use_scaler': True, 'with_mean': True, 'with_std': True, 'poly_degree': 2}. Best is trial 19 with value: -0.002898128376183294.\n",
      "[I 2025-05-03 19:39:40,586] Trial 42 finished with value: -0.0030109496792113306 and parameters: {'fit_intercept': True, 'use_scaler': True, 'with_mean': True, 'with_std': True, 'poly_degree': 4}. Best is trial 19 with value: -0.002898128376183294.\n",
      "[I 2025-05-03 19:39:40,635] Trial 43 finished with value: -0.002954825599303536 and parameters: {'fit_intercept': True, 'use_scaler': True, 'with_mean': False, 'with_std': False, 'poly_degree': 3}. Best is trial 19 with value: -0.002898128376183294.\n",
      "[I 2025-05-03 19:39:40,697] Trial 44 finished with value: -0.0030109496790112563 and parameters: {'fit_intercept': True, 'use_scaler': True, 'with_mean': True, 'with_std': False, 'poly_degree': 4}. Best is trial 19 with value: -0.002898128376183294.\n",
      "[I 2025-05-03 19:39:40,747] Trial 45 finished with value: -0.002954825599303536 and parameters: {'fit_intercept': True, 'use_scaler': False, 'poly_degree': 3}. Best is trial 19 with value: -0.002898128376183294.\n",
      "[I 2025-05-03 19:39:40,815] Trial 46 finished with value: -0.002962510274803748 and parameters: {'fit_intercept': True, 'use_scaler': True, 'with_mean': True, 'with_std': True, 'poly_degree': 3}. Best is trial 19 with value: -0.002898128376183294.\n",
      "[I 2025-05-03 19:39:40,907] Trial 47 finished with value: -0.006949901960131823 and parameters: {'fit_intercept': False, 'use_scaler': False, 'poly_degree': 4}. Best is trial 19 with value: -0.002898128376183294.\n",
      "[I 2025-05-03 19:39:41,017] Trial 48 finished with value: -0.003422657483218819 and parameters: {'fit_intercept': False, 'use_scaler': True, 'with_mean': False, 'with_std': True, 'poly_degree': 5}. Best is trial 19 with value: -0.002898128376183294.\n",
      "[I 2025-05-03 19:39:41,069] Trial 49 finished with value: -0.002898128376183294 and parameters: {'fit_intercept': False, 'use_scaler': False, 'poly_degree': 2}. Best is trial 19 with value: -0.002898128376183294.\n",
      "[I 2025-05-03 19:39:41,121] Trial 50 finished with value: -0.002962510274803748 and parameters: {'fit_intercept': True, 'use_scaler': True, 'with_mean': True, 'with_std': True, 'poly_degree': 3}. Best is trial 19 with value: -0.002898128376183294.\n",
      "[I 2025-05-03 19:39:41,172] Trial 51 finished with value: -0.002954825599303536 and parameters: {'fit_intercept': True, 'use_scaler': False, 'poly_degree': 3}. Best is trial 19 with value: -0.002898128376183294.\n",
      "[I 2025-05-03 19:39:41,225] Trial 52 finished with value: -0.002900251376377368 and parameters: {'fit_intercept': True, 'use_scaler': False, 'poly_degree': 2}. Best is trial 19 with value: -0.002898128376183294.\n",
      "[I 2025-05-03 19:39:41,278] Trial 53 finished with value: -0.0030031129516354905 and parameters: {'fit_intercept': False, 'use_scaler': False, 'poly_degree': 1}. Best is trial 19 with value: -0.002898128376183294.\n",
      "[I 2025-05-03 19:39:41,332] Trial 54 finished with value: -0.0029625102748015004 and parameters: {'fit_intercept': True, 'use_scaler': True, 'with_mean': True, 'with_std': False, 'poly_degree': 3}. Best is trial 19 with value: -0.002898128376183294.\n",
      "[I 2025-05-03 19:39:41,387] Trial 55 finished with value: -0.0029741819284908396 and parameters: {'fit_intercept': True, 'use_scaler': True, 'with_mean': True, 'with_std': False, 'poly_degree': 1}. Best is trial 19 with value: -0.002898128376183294.\n",
      "[I 2025-05-03 19:39:41,427] Trial 56 finished with value: -0.002974181928490868 and parameters: {'fit_intercept': True, 'use_scaler': True, 'with_mean': True, 'with_std': True, 'poly_degree': 1}. Best is trial 19 with value: -0.002898128376183294.\n",
      "[I 2025-05-03 19:39:41,491] Trial 57 finished with value: -0.006943357842808933 and parameters: {'fit_intercept': False, 'use_scaler': False, 'poly_degree': 5}. Best is trial 19 with value: -0.002898128376183294.\n",
      "[I 2025-05-03 19:39:41,542] Trial 58 finished with value: -0.19491898254228945 and parameters: {'fit_intercept': False, 'use_scaler': True, 'with_mean': True, 'with_std': False, 'poly_degree': 2}. Best is trial 19 with value: -0.002898128376183294.\n",
      "[I 2025-05-03 19:39:41,606] Trial 59 finished with value: -0.22139675313496027 and parameters: {'fit_intercept': False, 'use_scaler': True, 'with_mean': True, 'with_std': True, 'poly_degree': 5}. Best is trial 19 with value: -0.002898128376183294.\n",
      "[I 2025-05-03 19:39:41,671] Trial 60 finished with value: -0.006862772051776202 and parameters: {'fit_intercept': True, 'use_scaler': False, 'poly_degree': 5}. Best is trial 19 with value: -0.002898128376183294.\n",
      "[I 2025-05-03 19:39:41,722] Trial 61 finished with value: -0.0029002513759653972 and parameters: {'fit_intercept': True, 'use_scaler': True, 'with_mean': False, 'with_std': True, 'poly_degree': 2}. Best is trial 19 with value: -0.002898128376183294.\n",
      "[I 2025-05-03 19:39:41,776] Trial 62 finished with value: -0.00297418192849084 and parameters: {'fit_intercept': True, 'use_scaler': False, 'poly_degree': 1}. Best is trial 19 with value: -0.002898128376183294.\n",
      "[I 2025-05-03 19:39:41,850] Trial 63 finished with value: -0.006943357842808933 and parameters: {'fit_intercept': False, 'use_scaler': False, 'poly_degree': 5}. Best is trial 19 with value: -0.002898128376183294.\n",
      "[I 2025-05-03 19:39:41,889] Trial 64 finished with value: -0.21583589988001423 and parameters: {'fit_intercept': False, 'use_scaler': True, 'with_mean': True, 'with_std': False, 'poly_degree': 1}. Best is trial 19 with value: -0.002898128376183294.\n",
      "[I 2025-05-03 19:39:41,954] Trial 65 finished with value: -0.22139661557561524 and parameters: {'fit_intercept': False, 'use_scaler': True, 'with_mean': True, 'with_std': False, 'poly_degree': 5}. Best is trial 19 with value: -0.002898128376183294.\n",
      "[I 2025-05-03 19:39:42,006] Trial 66 finished with value: -0.006949901960131823 and parameters: {'fit_intercept': False, 'use_scaler': False, 'poly_degree': 4}. Best is trial 19 with value: -0.002898128376183294.\n",
      "[I 2025-05-03 19:39:42,046] Trial 67 finished with value: -0.0029234658241886298 and parameters: {'fit_intercept': False, 'use_scaler': False, 'poly_degree': 3}. Best is trial 19 with value: -0.002898128376183294.\n",
      "[I 2025-05-03 19:39:42,099] Trial 68 finished with value: -0.0034280831189119933 and parameters: {'fit_intercept': True, 'use_scaler': True, 'with_mean': False, 'with_std': True, 'poly_degree': 5}. Best is trial 19 with value: -0.002898128376183294.\n",
      "[I 2025-05-03 19:39:42,161] Trial 69 finished with value: -0.006943357842808933 and parameters: {'fit_intercept': False, 'use_scaler': False, 'poly_degree': 5}. Best is trial 19 with value: -0.002898128376183294.\n",
      "[I 2025-05-03 19:39:42,214] Trial 70 finished with value: -0.006862772051776202 and parameters: {'fit_intercept': True, 'use_scaler': True, 'with_mean': False, 'with_std': False, 'poly_degree': 5}. Best is trial 19 with value: -0.002898128376183294.\n",
      "[I 2025-05-03 19:39:42,262] Trial 71 finished with value: -0.0038729565555889675 and parameters: {'fit_intercept': True, 'use_scaler': False, 'poly_degree': 4}. Best is trial 19 with value: -0.002898128376183294.\n",
      "[I 2025-05-03 19:39:42,313] Trial 72 finished with value: -0.002900251375965142 and parameters: {'fit_intercept': True, 'use_scaler': True, 'with_mean': True, 'with_std': False, 'poly_degree': 2}. Best is trial 19 with value: -0.002898128376183294.\n",
      "[I 2025-05-03 19:39:42,363] Trial 73 finished with value: -0.0029625102673905947 and parameters: {'fit_intercept': True, 'use_scaler': True, 'with_mean': False, 'with_std': True, 'poly_degree': 3}. Best is trial 19 with value: -0.002898128376183294.\n",
      "[I 2025-05-03 19:39:42,425] Trial 74 finished with value: -0.006862772051776202 and parameters: {'fit_intercept': True, 'use_scaler': False, 'poly_degree': 5}. Best is trial 19 with value: -0.002898128376183294.\n",
      "[I 2025-05-03 19:39:42,478] Trial 75 finished with value: -0.002954825599303536 and parameters: {'fit_intercept': True, 'use_scaler': False, 'poly_degree': 3}. Best is trial 19 with value: -0.002898128376183294.\n",
      "[I 2025-05-03 19:39:42,522] Trial 76 finished with value: -0.002898128376183294 and parameters: {'fit_intercept': False, 'use_scaler': False, 'poly_degree': 2}. Best is trial 19 with value: -0.002898128376183294.\n",
      "[I 2025-05-03 19:39:42,604] Trial 77 finished with value: -0.0029625102673905947 and parameters: {'fit_intercept': True, 'use_scaler': True, 'with_mean': False, 'with_std': True, 'poly_degree': 3}. Best is trial 19 with value: -0.002898128376183294.\n",
      "[I 2025-05-03 19:39:42,699] Trial 78 finished with value: -0.0030018875931922375 and parameters: {'fit_intercept': False, 'use_scaler': True, 'with_mean': False, 'with_std': True, 'poly_degree': 4}. Best is trial 19 with value: -0.002898128376183294.\n",
      "[I 2025-05-03 19:39:42,763] Trial 79 finished with value: -0.0030018875931922375 and parameters: {'fit_intercept': False, 'use_scaler': True, 'with_mean': False, 'with_std': True, 'poly_degree': 4}. Best is trial 19 with value: -0.002898128376183294.\n",
      "[I 2025-05-03 19:39:42,813] Trial 80 finished with value: -0.0029234658241886298 and parameters: {'fit_intercept': False, 'use_scaler': True, 'with_mean': False, 'with_std': False, 'poly_degree': 3}. Best is trial 19 with value: -0.002898128376183294.\n",
      "[I 2025-05-03 19:39:42,876] Trial 81 finished with value: -0.00297418192849084 and parameters: {'fit_intercept': True, 'use_scaler': False, 'poly_degree': 1}. Best is trial 19 with value: -0.002898128376183294.\n",
      "[I 2025-05-03 19:39:42,971] Trial 82 finished with value: -0.0030031129516354905 and parameters: {'fit_intercept': False, 'use_scaler': False, 'poly_degree': 1}. Best is trial 19 with value: -0.002898128376183294.\n",
      "[I 2025-05-03 19:39:43,035] Trial 83 finished with value: -0.002954825599303536 and parameters: {'fit_intercept': True, 'use_scaler': False, 'poly_degree': 3}. Best is trial 19 with value: -0.002898128376183294.\n",
      "[I 2025-05-03 19:39:43,077] Trial 84 finished with value: -0.0030031129516354905 and parameters: {'fit_intercept': False, 'use_scaler': True, 'with_mean': False, 'with_std': False, 'poly_degree': 1}. Best is trial 19 with value: -0.002898128376183294.\n",
      "[I 2025-05-03 19:39:43,115] Trial 85 finished with value: -0.19491898254228945 and parameters: {'fit_intercept': False, 'use_scaler': True, 'with_mean': True, 'with_std': False, 'poly_degree': 2}. Best is trial 19 with value: -0.002898128376183294.\n",
      "[I 2025-05-03 19:39:43,180] Trial 86 finished with value: -0.006862772051776202 and parameters: {'fit_intercept': True, 'use_scaler': True, 'with_mean': False, 'with_std': False, 'poly_degree': 5}. Best is trial 19 with value: -0.002898128376183294.\n",
      "[I 2025-05-03 19:39:43,220] Trial 87 finished with value: -0.00297418192849086 and parameters: {'fit_intercept': True, 'use_scaler': True, 'with_mean': False, 'with_std': True, 'poly_degree': 1}. Best is trial 19 with value: -0.002898128376183294.\n",
      "[I 2025-05-03 19:39:43,283] Trial 88 finished with value: -0.0038729565555889675 and parameters: {'fit_intercept': True, 'use_scaler': True, 'with_mean': False, 'with_std': False, 'poly_degree': 4}. Best is trial 19 with value: -0.002898128376183294.\n",
      "[I 2025-05-03 19:39:43,333] Trial 89 finished with value: -0.002900251376377368 and parameters: {'fit_intercept': True, 'use_scaler': False, 'poly_degree': 2}. Best is trial 19 with value: -0.002898128376183294.\n",
      "[I 2025-05-03 19:39:43,373] Trial 90 finished with value: -0.002977223298472228 and parameters: {'fit_intercept': False, 'use_scaler': True, 'with_mean': False, 'with_std': True, 'poly_degree': 3}. Best is trial 19 with value: -0.002898128376183294.\n",
      "[I 2025-05-03 19:39:43,412] Trial 91 finished with value: -0.19233729189446178 and parameters: {'fit_intercept': False, 'use_scaler': True, 'with_mean': True, 'with_std': True, 'poly_degree': 3}. Best is trial 19 with value: -0.002898128376183294.\n",
      "[I 2025-05-03 19:39:43,451] Trial 92 finished with value: -0.0030031129516354905 and parameters: {'fit_intercept': False, 'use_scaler': True, 'with_mean': False, 'with_std': False, 'poly_degree': 1}. Best is trial 19 with value: -0.002898128376183294.\n",
      "[I 2025-05-03 19:39:43,502] Trial 93 finished with value: -0.19493609476781823 and parameters: {'fit_intercept': False, 'use_scaler': True, 'with_mean': True, 'with_std': False, 'poly_degree': 4}. Best is trial 19 with value: -0.002898128376183294.\n",
      "[I 2025-05-03 19:39:43,553] Trial 94 finished with value: -0.19493609476781823 and parameters: {'fit_intercept': False, 'use_scaler': True, 'with_mean': True, 'with_std': False, 'poly_degree': 4}. Best is trial 19 with value: -0.002898128376183294.\n",
      "[I 2025-05-03 19:39:43,606] Trial 95 finished with value: -0.003422657483218819 and parameters: {'fit_intercept': False, 'use_scaler': True, 'with_mean': False, 'with_std': True, 'poly_degree': 5}. Best is trial 19 with value: -0.002898128376183294.\n",
      "[I 2025-05-03 19:39:43,670] Trial 96 finished with value: -0.0034280831189119933 and parameters: {'fit_intercept': True, 'use_scaler': True, 'with_mean': False, 'with_std': True, 'poly_degree': 5}. Best is trial 19 with value: -0.002898128376183294.\n",
      "[I 2025-05-03 19:39:43,723] Trial 97 finished with value: -0.0030031129516354905 and parameters: {'fit_intercept': False, 'use_scaler': True, 'with_mean': False, 'with_std': False, 'poly_degree': 1}. Best is trial 19 with value: -0.002898128376183294.\n",
      "[I 2025-05-03 19:39:43,776] Trial 98 finished with value: -0.00297418192849084 and parameters: {'fit_intercept': True, 'use_scaler': False, 'poly_degree': 1}. Best is trial 19 with value: -0.002898128376183294.\n",
      "[I 2025-05-03 19:39:43,827] Trial 99 finished with value: -0.0029234658241886298 and parameters: {'fit_intercept': False, 'use_scaler': False, 'poly_degree': 3}. Best is trial 19 with value: -0.002898128376183294.\n"
     ]
    }
   ],
   "source": [
    "study.optimize(objective, n_trials=100)"
   ]
  },
  {
   "cell_type": "code",
   "execution_count": 285,
   "metadata": {},
   "outputs": [
    {
     "data": {
      "application/vnd.plotly.v1+json": {
       "config": {
        "plotlyServerURL": "https://plot.ly"
       },
       "data": [
        {
         "mode": "markers",
         "name": "Objective Value",
         "type": "scatter",
         "x": [
          0,
          1,
          2,
          3,
          4,
          5,
          6,
          7,
          8,
          9,
          10,
          11,
          12,
          13,
          14,
          15,
          16,
          17,
          18,
          19,
          20,
          21,
          22,
          23,
          24,
          25,
          26,
          27,
          28,
          29,
          30,
          31,
          32,
          33,
          34,
          35,
          36,
          37,
          38,
          39,
          40,
          41,
          42,
          43,
          44,
          45,
          46,
          47,
          48,
          49,
          50,
          51,
          52,
          53,
          54,
          55,
          56,
          57,
          58,
          59,
          60,
          61,
          62,
          63,
          64,
          65,
          66,
          67,
          68,
          69,
          70,
          71,
          72,
          73,
          74,
          75,
          76,
          77,
          78,
          79,
          80,
          81,
          82,
          83,
          84,
          85,
          86,
          87,
          88,
          89,
          90,
          91,
          92,
          93,
          94,
          95,
          96,
          97,
          98,
          99
         ],
         "y": [
          -0.00297418192849084,
          -0.006949901960131823,
          -0.00297418192849084,
          -0.002900251376377368,
          -0.0029234658241886298,
          -0.006862772051776202,
          -0.006949901960131823,
          -0.006943357842808933,
          -0.004265449810969909,
          -0.0030031129516354905,
          -0.006862772051776202,
          -0.006943357842808933,
          -0.00297418192849084,
          -0.006949901960131823,
          -0.21583589988001445,
          -0.00297418192849086,
          -0.002900251375965142,
          -0.002974181928490868,
          -0.22139661557561524,
          -0.002898128376183294,
          -0.002954825599303536,
          -0.002898128376183294,
          -0.006949901960131823,
          -0.19491898254228945,
          -0.00297418192849086,
          -0.0029234658241886298,
          -0.006949901960131823,
          -0.006862772051776202,
          -0.002954825599303536,
          -0.22139661557561524,
          -0.0030031129516354905,
          -0.19493609476781823,
          -0.002898128376183294,
          -0.0029234658241886298,
          -0.006862772051776202,
          -0.003016454402943482,
          -0.006943357842808933,
          -0.006943357842808933,
          -0.002900251376377368,
          -0.002954825599303536,
          -0.006949901960131823,
          -0.19491898254228937,
          -0.0030109496792113306,
          -0.002954825599303536,
          -0.0030109496790112563,
          -0.002954825599303536,
          -0.002962510274803748,
          -0.006949901960131823,
          -0.003422657483218819,
          -0.002898128376183294,
          -0.002962510274803748,
          -0.002954825599303536,
          -0.002900251376377368,
          -0.0030031129516354905,
          -0.0029625102748015004,
          -0.0029741819284908396,
          -0.002974181928490868,
          -0.006943357842808933,
          -0.19491898254228945,
          -0.22139675313496027,
          -0.006862772051776202,
          -0.0029002513759653972,
          -0.00297418192849084,
          -0.006943357842808933,
          -0.21583589988001423,
          -0.22139661557561524,
          -0.006949901960131823,
          -0.0029234658241886298,
          -0.0034280831189119933,
          -0.006943357842808933,
          -0.006862772051776202,
          -0.0038729565555889675,
          -0.002900251375965142,
          -0.0029625102673905947,
          -0.006862772051776202,
          -0.002954825599303536,
          -0.002898128376183294,
          -0.0029625102673905947,
          -0.0030018875931922375,
          -0.0030018875931922375,
          -0.0029234658241886298,
          -0.00297418192849084,
          -0.0030031129516354905,
          -0.002954825599303536,
          -0.0030031129516354905,
          -0.19491898254228945,
          -0.006862772051776202,
          -0.00297418192849086,
          -0.0038729565555889675,
          -0.002900251376377368,
          -0.002977223298472228,
          -0.19233729189446178,
          -0.0030031129516354905,
          -0.19493609476781823,
          -0.19493609476781823,
          -0.003422657483218819,
          -0.0034280831189119933,
          -0.0030031129516354905,
          -0.00297418192849084,
          -0.0029234658241886298
         ]
        },
        {
         "mode": "lines",
         "name": "Best Value",
         "type": "scatter",
         "x": [
          0,
          1,
          2,
          3,
          4,
          5,
          6,
          7,
          8,
          9,
          10,
          11,
          12,
          13,
          14,
          15,
          16,
          17,
          18,
          19,
          20,
          21,
          22,
          23,
          24,
          25,
          26,
          27,
          28,
          29,
          30,
          31,
          32,
          33,
          34,
          35,
          36,
          37,
          38,
          39,
          40,
          41,
          42,
          43,
          44,
          45,
          46,
          47,
          48,
          49,
          50,
          51,
          52,
          53,
          54,
          55,
          56,
          57,
          58,
          59,
          60,
          61,
          62,
          63,
          64,
          65,
          66,
          67,
          68,
          69,
          70,
          71,
          72,
          73,
          74,
          75,
          76,
          77,
          78,
          79,
          80,
          81,
          82,
          83,
          84,
          85,
          86,
          87,
          88,
          89,
          90,
          91,
          92,
          93,
          94,
          95,
          96,
          97,
          98,
          99
         ],
         "y": [
          -0.00297418192849084,
          -0.00297418192849084,
          -0.00297418192849084,
          -0.002900251376377368,
          -0.002900251376377368,
          -0.002900251376377368,
          -0.002900251376377368,
          -0.002900251376377368,
          -0.002900251376377368,
          -0.002900251376377368,
          -0.002900251376377368,
          -0.002900251376377368,
          -0.002900251376377368,
          -0.002900251376377368,
          -0.002900251376377368,
          -0.002900251376377368,
          -0.002900251375965142,
          -0.002900251375965142,
          -0.002900251375965142,
          -0.002898128376183294,
          -0.002898128376183294,
          -0.002898128376183294,
          -0.002898128376183294,
          -0.002898128376183294,
          -0.002898128376183294,
          -0.002898128376183294,
          -0.002898128376183294,
          -0.002898128376183294,
          -0.002898128376183294,
          -0.002898128376183294,
          -0.002898128376183294,
          -0.002898128376183294,
          -0.002898128376183294,
          -0.002898128376183294,
          -0.002898128376183294,
          -0.002898128376183294,
          -0.002898128376183294,
          -0.002898128376183294,
          -0.002898128376183294,
          -0.002898128376183294,
          -0.002898128376183294,
          -0.002898128376183294,
          -0.002898128376183294,
          -0.002898128376183294,
          -0.002898128376183294,
          -0.002898128376183294,
          -0.002898128376183294,
          -0.002898128376183294,
          -0.002898128376183294,
          -0.002898128376183294,
          -0.002898128376183294,
          -0.002898128376183294,
          -0.002898128376183294,
          -0.002898128376183294,
          -0.002898128376183294,
          -0.002898128376183294,
          -0.002898128376183294,
          -0.002898128376183294,
          -0.002898128376183294,
          -0.002898128376183294,
          -0.002898128376183294,
          -0.002898128376183294,
          -0.002898128376183294,
          -0.002898128376183294,
          -0.002898128376183294,
          -0.002898128376183294,
          -0.002898128376183294,
          -0.002898128376183294,
          -0.002898128376183294,
          -0.002898128376183294,
          -0.002898128376183294,
          -0.002898128376183294,
          -0.002898128376183294,
          -0.002898128376183294,
          -0.002898128376183294,
          -0.002898128376183294,
          -0.002898128376183294,
          -0.002898128376183294,
          -0.002898128376183294,
          -0.002898128376183294,
          -0.002898128376183294,
          -0.002898128376183294,
          -0.002898128376183294,
          -0.002898128376183294,
          -0.002898128376183294,
          -0.002898128376183294,
          -0.002898128376183294,
          -0.002898128376183294,
          -0.002898128376183294,
          -0.002898128376183294,
          -0.002898128376183294,
          -0.002898128376183294,
          -0.002898128376183294,
          -0.002898128376183294,
          -0.002898128376183294,
          -0.002898128376183294,
          -0.002898128376183294,
          -0.002898128376183294,
          -0.002898128376183294,
          -0.002898128376183294
         ]
        },
        {
         "marker": {
          "color": "#cccccc"
         },
         "mode": "markers",
         "name": "Infeasible Trial",
         "showlegend": false,
         "type": "scatter",
         "x": [],
         "y": []
        }
       ],
       "layout": {
        "template": {
         "data": {
          "bar": [
           {
            "error_x": {
             "color": "#2a3f5f"
            },
            "error_y": {
             "color": "#2a3f5f"
            },
            "marker": {
             "line": {
              "color": "#E5ECF6",
              "width": 0.5
             },
             "pattern": {
              "fillmode": "overlay",
              "size": 10,
              "solidity": 0.2
             }
            },
            "type": "bar"
           }
          ],
          "barpolar": [
           {
            "marker": {
             "line": {
              "color": "#E5ECF6",
              "width": 0.5
             },
             "pattern": {
              "fillmode": "overlay",
              "size": 10,
              "solidity": 0.2
             }
            },
            "type": "barpolar"
           }
          ],
          "carpet": [
           {
            "aaxis": {
             "endlinecolor": "#2a3f5f",
             "gridcolor": "white",
             "linecolor": "white",
             "minorgridcolor": "white",
             "startlinecolor": "#2a3f5f"
            },
            "baxis": {
             "endlinecolor": "#2a3f5f",
             "gridcolor": "white",
             "linecolor": "white",
             "minorgridcolor": "white",
             "startlinecolor": "#2a3f5f"
            },
            "type": "carpet"
           }
          ],
          "choropleth": [
           {
            "colorbar": {
             "outlinewidth": 0,
             "ticks": ""
            },
            "type": "choropleth"
           }
          ],
          "contour": [
           {
            "colorbar": {
             "outlinewidth": 0,
             "ticks": ""
            },
            "colorscale": [
             [
              0,
              "#0d0887"
             ],
             [
              0.1111111111111111,
              "#46039f"
             ],
             [
              0.2222222222222222,
              "#7201a8"
             ],
             [
              0.3333333333333333,
              "#9c179e"
             ],
             [
              0.4444444444444444,
              "#bd3786"
             ],
             [
              0.5555555555555556,
              "#d8576b"
             ],
             [
              0.6666666666666666,
              "#ed7953"
             ],
             [
              0.7777777777777778,
              "#fb9f3a"
             ],
             [
              0.8888888888888888,
              "#fdca26"
             ],
             [
              1,
              "#f0f921"
             ]
            ],
            "type": "contour"
           }
          ],
          "contourcarpet": [
           {
            "colorbar": {
             "outlinewidth": 0,
             "ticks": ""
            },
            "type": "contourcarpet"
           }
          ],
          "heatmap": [
           {
            "colorbar": {
             "outlinewidth": 0,
             "ticks": ""
            },
            "colorscale": [
             [
              0,
              "#0d0887"
             ],
             [
              0.1111111111111111,
              "#46039f"
             ],
             [
              0.2222222222222222,
              "#7201a8"
             ],
             [
              0.3333333333333333,
              "#9c179e"
             ],
             [
              0.4444444444444444,
              "#bd3786"
             ],
             [
              0.5555555555555556,
              "#d8576b"
             ],
             [
              0.6666666666666666,
              "#ed7953"
             ],
             [
              0.7777777777777778,
              "#fb9f3a"
             ],
             [
              0.8888888888888888,
              "#fdca26"
             ],
             [
              1,
              "#f0f921"
             ]
            ],
            "type": "heatmap"
           }
          ],
          "histogram": [
           {
            "marker": {
             "pattern": {
              "fillmode": "overlay",
              "size": 10,
              "solidity": 0.2
             }
            },
            "type": "histogram"
           }
          ],
          "histogram2d": [
           {
            "colorbar": {
             "outlinewidth": 0,
             "ticks": ""
            },
            "colorscale": [
             [
              0,
              "#0d0887"
             ],
             [
              0.1111111111111111,
              "#46039f"
             ],
             [
              0.2222222222222222,
              "#7201a8"
             ],
             [
              0.3333333333333333,
              "#9c179e"
             ],
             [
              0.4444444444444444,
              "#bd3786"
             ],
             [
              0.5555555555555556,
              "#d8576b"
             ],
             [
              0.6666666666666666,
              "#ed7953"
             ],
             [
              0.7777777777777778,
              "#fb9f3a"
             ],
             [
              0.8888888888888888,
              "#fdca26"
             ],
             [
              1,
              "#f0f921"
             ]
            ],
            "type": "histogram2d"
           }
          ],
          "histogram2dcontour": [
           {
            "colorbar": {
             "outlinewidth": 0,
             "ticks": ""
            },
            "colorscale": [
             [
              0,
              "#0d0887"
             ],
             [
              0.1111111111111111,
              "#46039f"
             ],
             [
              0.2222222222222222,
              "#7201a8"
             ],
             [
              0.3333333333333333,
              "#9c179e"
             ],
             [
              0.4444444444444444,
              "#bd3786"
             ],
             [
              0.5555555555555556,
              "#d8576b"
             ],
             [
              0.6666666666666666,
              "#ed7953"
             ],
             [
              0.7777777777777778,
              "#fb9f3a"
             ],
             [
              0.8888888888888888,
              "#fdca26"
             ],
             [
              1,
              "#f0f921"
             ]
            ],
            "type": "histogram2dcontour"
           }
          ],
          "mesh3d": [
           {
            "colorbar": {
             "outlinewidth": 0,
             "ticks": ""
            },
            "type": "mesh3d"
           }
          ],
          "parcoords": [
           {
            "line": {
             "colorbar": {
              "outlinewidth": 0,
              "ticks": ""
             }
            },
            "type": "parcoords"
           }
          ],
          "pie": [
           {
            "automargin": true,
            "type": "pie"
           }
          ],
          "scatter": [
           {
            "fillpattern": {
             "fillmode": "overlay",
             "size": 10,
             "solidity": 0.2
            },
            "type": "scatter"
           }
          ],
          "scatter3d": [
           {
            "line": {
             "colorbar": {
              "outlinewidth": 0,
              "ticks": ""
             }
            },
            "marker": {
             "colorbar": {
              "outlinewidth": 0,
              "ticks": ""
             }
            },
            "type": "scatter3d"
           }
          ],
          "scattercarpet": [
           {
            "marker": {
             "colorbar": {
              "outlinewidth": 0,
              "ticks": ""
             }
            },
            "type": "scattercarpet"
           }
          ],
          "scattergeo": [
           {
            "marker": {
             "colorbar": {
              "outlinewidth": 0,
              "ticks": ""
             }
            },
            "type": "scattergeo"
           }
          ],
          "scattergl": [
           {
            "marker": {
             "colorbar": {
              "outlinewidth": 0,
              "ticks": ""
             }
            },
            "type": "scattergl"
           }
          ],
          "scattermap": [
           {
            "marker": {
             "colorbar": {
              "outlinewidth": 0,
              "ticks": ""
             }
            },
            "type": "scattermap"
           }
          ],
          "scattermapbox": [
           {
            "marker": {
             "colorbar": {
              "outlinewidth": 0,
              "ticks": ""
             }
            },
            "type": "scattermapbox"
           }
          ],
          "scatterpolar": [
           {
            "marker": {
             "colorbar": {
              "outlinewidth": 0,
              "ticks": ""
             }
            },
            "type": "scatterpolar"
           }
          ],
          "scatterpolargl": [
           {
            "marker": {
             "colorbar": {
              "outlinewidth": 0,
              "ticks": ""
             }
            },
            "type": "scatterpolargl"
           }
          ],
          "scatterternary": [
           {
            "marker": {
             "colorbar": {
              "outlinewidth": 0,
              "ticks": ""
             }
            },
            "type": "scatterternary"
           }
          ],
          "surface": [
           {
            "colorbar": {
             "outlinewidth": 0,
             "ticks": ""
            },
            "colorscale": [
             [
              0,
              "#0d0887"
             ],
             [
              0.1111111111111111,
              "#46039f"
             ],
             [
              0.2222222222222222,
              "#7201a8"
             ],
             [
              0.3333333333333333,
              "#9c179e"
             ],
             [
              0.4444444444444444,
              "#bd3786"
             ],
             [
              0.5555555555555556,
              "#d8576b"
             ],
             [
              0.6666666666666666,
              "#ed7953"
             ],
             [
              0.7777777777777778,
              "#fb9f3a"
             ],
             [
              0.8888888888888888,
              "#fdca26"
             ],
             [
              1,
              "#f0f921"
             ]
            ],
            "type": "surface"
           }
          ],
          "table": [
           {
            "cells": {
             "fill": {
              "color": "#EBF0F8"
             },
             "line": {
              "color": "white"
             }
            },
            "header": {
             "fill": {
              "color": "#C8D4E3"
             },
             "line": {
              "color": "white"
             }
            },
            "type": "table"
           }
          ]
         },
         "layout": {
          "annotationdefaults": {
           "arrowcolor": "#2a3f5f",
           "arrowhead": 0,
           "arrowwidth": 1
          },
          "autotypenumbers": "strict",
          "coloraxis": {
           "colorbar": {
            "outlinewidth": 0,
            "ticks": ""
           }
          },
          "colorscale": {
           "diverging": [
            [
             0,
             "#8e0152"
            ],
            [
             0.1,
             "#c51b7d"
            ],
            [
             0.2,
             "#de77ae"
            ],
            [
             0.3,
             "#f1b6da"
            ],
            [
             0.4,
             "#fde0ef"
            ],
            [
             0.5,
             "#f7f7f7"
            ],
            [
             0.6,
             "#e6f5d0"
            ],
            [
             0.7,
             "#b8e186"
            ],
            [
             0.8,
             "#7fbc41"
            ],
            [
             0.9,
             "#4d9221"
            ],
            [
             1,
             "#276419"
            ]
           ],
           "sequential": [
            [
             0,
             "#0d0887"
            ],
            [
             0.1111111111111111,
             "#46039f"
            ],
            [
             0.2222222222222222,
             "#7201a8"
            ],
            [
             0.3333333333333333,
             "#9c179e"
            ],
            [
             0.4444444444444444,
             "#bd3786"
            ],
            [
             0.5555555555555556,
             "#d8576b"
            ],
            [
             0.6666666666666666,
             "#ed7953"
            ],
            [
             0.7777777777777778,
             "#fb9f3a"
            ],
            [
             0.8888888888888888,
             "#fdca26"
            ],
            [
             1,
             "#f0f921"
            ]
           ],
           "sequentialminus": [
            [
             0,
             "#0d0887"
            ],
            [
             0.1111111111111111,
             "#46039f"
            ],
            [
             0.2222222222222222,
             "#7201a8"
            ],
            [
             0.3333333333333333,
             "#9c179e"
            ],
            [
             0.4444444444444444,
             "#bd3786"
            ],
            [
             0.5555555555555556,
             "#d8576b"
            ],
            [
             0.6666666666666666,
             "#ed7953"
            ],
            [
             0.7777777777777778,
             "#fb9f3a"
            ],
            [
             0.8888888888888888,
             "#fdca26"
            ],
            [
             1,
             "#f0f921"
            ]
           ]
          },
          "colorway": [
           "#636efa",
           "#EF553B",
           "#00cc96",
           "#ab63fa",
           "#FFA15A",
           "#19d3f3",
           "#FF6692",
           "#B6E880",
           "#FF97FF",
           "#FECB52"
          ],
          "font": {
           "color": "#2a3f5f"
          },
          "geo": {
           "bgcolor": "white",
           "lakecolor": "white",
           "landcolor": "#E5ECF6",
           "showlakes": true,
           "showland": true,
           "subunitcolor": "white"
          },
          "hoverlabel": {
           "align": "left"
          },
          "hovermode": "closest",
          "mapbox": {
           "style": "light"
          },
          "paper_bgcolor": "white",
          "plot_bgcolor": "#E5ECF6",
          "polar": {
           "angularaxis": {
            "gridcolor": "white",
            "linecolor": "white",
            "ticks": ""
           },
           "bgcolor": "#E5ECF6",
           "radialaxis": {
            "gridcolor": "white",
            "linecolor": "white",
            "ticks": ""
           }
          },
          "scene": {
           "xaxis": {
            "backgroundcolor": "#E5ECF6",
            "gridcolor": "white",
            "gridwidth": 2,
            "linecolor": "white",
            "showbackground": true,
            "ticks": "",
            "zerolinecolor": "white"
           },
           "yaxis": {
            "backgroundcolor": "#E5ECF6",
            "gridcolor": "white",
            "gridwidth": 2,
            "linecolor": "white",
            "showbackground": true,
            "ticks": "",
            "zerolinecolor": "white"
           },
           "zaxis": {
            "backgroundcolor": "#E5ECF6",
            "gridcolor": "white",
            "gridwidth": 2,
            "linecolor": "white",
            "showbackground": true,
            "ticks": "",
            "zerolinecolor": "white"
           }
          },
          "shapedefaults": {
           "line": {
            "color": "#2a3f5f"
           }
          },
          "ternary": {
           "aaxis": {
            "gridcolor": "white",
            "linecolor": "white",
            "ticks": ""
           },
           "baxis": {
            "gridcolor": "white",
            "linecolor": "white",
            "ticks": ""
           },
           "bgcolor": "#E5ECF6",
           "caxis": {
            "gridcolor": "white",
            "linecolor": "white",
            "ticks": ""
           }
          },
          "title": {
           "x": 0.05
          },
          "xaxis": {
           "automargin": true,
           "gridcolor": "white",
           "linecolor": "white",
           "ticks": "",
           "title": {
            "standoff": 15
           },
           "zerolinecolor": "white",
           "zerolinewidth": 2
          },
          "yaxis": {
           "automargin": true,
           "gridcolor": "white",
           "linecolor": "white",
           "ticks": "",
           "title": {
            "standoff": 15
           },
           "zerolinecolor": "white",
           "zerolinewidth": 2
          }
         }
        },
        "title": {
         "text": "Optimization History Plot"
        },
        "xaxis": {
         "title": {
          "text": "Trial"
         }
        },
        "yaxis": {
         "title": {
          "text": "Objective Value"
         }
        }
       }
      }
     },
     "metadata": {},
     "output_type": "display_data"
    }
   ],
   "source": [
    "optuna.visualization.plot_optimization_history(study)"
   ]
  },
  {
   "cell_type": "code",
   "execution_count": 286,
   "metadata": {},
   "outputs": [
    {
     "name": "stdout",
     "output_type": "stream",
     "text": [
      "Best Hyperparameters: {'fit_intercept': False, 'use_scaler': False, 'poly_degree': 2}\n"
     ]
    }
   ],
   "source": [
    "best_params = study.best_params \n",
    "print(f\"Best Hyperparameters: {best_params}\")"
   ]
  },
  {
   "cell_type": "code",
   "execution_count": null,
   "metadata": {},
   "outputs": [
    {
     "data": {
      "application/vnd.plotly.v1+json": {
       "config": {
        "plotlyServerURL": "https://plot.ly"
       },
       "data": [
        {
         "marker": {
          "color": [
           0,
           1,
           2,
           3,
           4,
           5,
           6,
           7,
           8,
           9,
           10,
           11,
           12,
           13,
           14,
           15,
           16,
           17,
           18,
           19,
           20,
           21,
           22,
           23,
           24,
           25,
           26,
           27,
           28,
           29,
           30,
           31,
           32,
           33,
           34,
           35,
           36,
           37,
           38,
           39,
           40,
           41,
           42,
           43,
           44,
           45,
           46,
           47,
           48,
           49,
           50,
           51,
           52,
           53,
           54,
           55,
           56,
           57,
           58,
           59,
           60,
           61,
           62,
           63,
           64,
           65,
           66,
           67,
           68,
           69,
           70,
           71,
           72,
           73,
           74,
           75,
           76,
           77,
           78,
           79,
           80,
           81,
           82,
           83,
           84,
           85,
           86,
           87,
           88,
           89,
           90,
           91,
           92,
           93,
           94,
           95,
           96,
           97,
           98,
           99
          ],
          "colorbar": {
           "title": {
            "text": "Trial"
           },
           "x": 1,
           "xpad": 40
          },
          "colorscale": [
           [
            0,
            "rgb(247,251,255)"
           ],
           [
            0.125,
            "rgb(222,235,247)"
           ],
           [
            0.25,
            "rgb(198,219,239)"
           ],
           [
            0.375,
            "rgb(158,202,225)"
           ],
           [
            0.5,
            "rgb(107,174,214)"
           ],
           [
            0.625,
            "rgb(66,146,198)"
           ],
           [
            0.75,
            "rgb(33,113,181)"
           ],
           [
            0.875,
            "rgb(8,81,156)"
           ],
           [
            1,
            "rgb(8,48,107)"
           ]
          ],
          "line": {
           "color": "Grey",
           "width": 0.5
          },
          "showscale": true
         },
         "mode": "markers",
         "name": "Feasible Trial",
         "showlegend": false,
         "type": "scatter",
         "x": [
          true,
          false,
          true,
          true,
          false,
          true,
          false,
          false,
          true,
          false,
          true,
          false,
          true,
          false,
          false,
          true,
          true,
          true,
          false,
          false,
          true,
          false,
          false,
          false,
          true,
          false,
          false,
          true,
          true,
          false,
          false,
          false,
          false,
          false,
          true,
          true,
          false,
          false,
          true,
          true,
          false,
          false,
          true,
          true,
          true,
          true,
          true,
          false,
          false,
          false,
          true,
          true,
          true,
          false,
          true,
          true,
          true,
          false,
          false,
          false,
          true,
          true,
          true,
          false,
          false,
          false,
          false,
          false,
          true,
          false,
          true,
          true,
          true,
          true,
          true,
          true,
          false,
          true,
          false,
          false,
          false,
          true,
          false,
          true,
          false,
          false,
          true,
          true,
          true,
          true,
          false,
          false,
          false,
          false,
          false,
          false,
          true,
          false,
          true,
          false
         ],
         "xaxis": "x",
         "y": [
          -0.00297418192849084,
          -0.006949901960131823,
          -0.00297418192849084,
          -0.002900251376377368,
          -0.0029234658241886298,
          -0.006862772051776202,
          -0.006949901960131823,
          -0.006943357842808933,
          -0.004265449810969909,
          -0.0030031129516354905,
          -0.006862772051776202,
          -0.006943357842808933,
          -0.00297418192849084,
          -0.006949901960131823,
          -0.21583589988001445,
          -0.00297418192849086,
          -0.002900251375965142,
          -0.002974181928490868,
          -0.22139661557561524,
          -0.002898128376183294,
          -0.002954825599303536,
          -0.002898128376183294,
          -0.006949901960131823,
          -0.19491898254228945,
          -0.00297418192849086,
          -0.0029234658241886298,
          -0.006949901960131823,
          -0.006862772051776202,
          -0.002954825599303536,
          -0.22139661557561524,
          -0.0030031129516354905,
          -0.19493609476781823,
          -0.002898128376183294,
          -0.0029234658241886298,
          -0.006862772051776202,
          -0.003016454402943482,
          -0.006943357842808933,
          -0.006943357842808933,
          -0.002900251376377368,
          -0.002954825599303536,
          -0.006949901960131823,
          -0.19491898254228937,
          -0.0030109496792113306,
          -0.002954825599303536,
          -0.0030109496790112563,
          -0.002954825599303536,
          -0.002962510274803748,
          -0.006949901960131823,
          -0.003422657483218819,
          -0.002898128376183294,
          -0.002962510274803748,
          -0.002954825599303536,
          -0.002900251376377368,
          -0.0030031129516354905,
          -0.0029625102748015004,
          -0.0029741819284908396,
          -0.002974181928490868,
          -0.006943357842808933,
          -0.19491898254228945,
          -0.22139675313496027,
          -0.006862772051776202,
          -0.0029002513759653972,
          -0.00297418192849084,
          -0.006943357842808933,
          -0.21583589988001423,
          -0.22139661557561524,
          -0.006949901960131823,
          -0.0029234658241886298,
          -0.0034280831189119933,
          -0.006943357842808933,
          -0.006862772051776202,
          -0.0038729565555889675,
          -0.002900251375965142,
          -0.0029625102673905947,
          -0.006862772051776202,
          -0.002954825599303536,
          -0.002898128376183294,
          -0.0029625102673905947,
          -0.0030018875931922375,
          -0.0030018875931922375,
          -0.0029234658241886298,
          -0.00297418192849084,
          -0.0030031129516354905,
          -0.002954825599303536,
          -0.0030031129516354905,
          -0.19491898254228945,
          -0.006862772051776202,
          -0.00297418192849086,
          -0.0038729565555889675,
          -0.002900251376377368,
          -0.002977223298472228,
          -0.19233729189446178,
          -0.0030031129516354905,
          -0.19493609476781823,
          -0.19493609476781823,
          -0.003422657483218819,
          -0.0034280831189119933,
          -0.0030031129516354905,
          -0.00297418192849084,
          -0.0029234658241886298
         ],
         "yaxis": "y"
        },
        {
         "marker": {
          "color": [
           0,
           1,
           2,
           3,
           4,
           5,
           6,
           7,
           8,
           9,
           10,
           11,
           12,
           13,
           14,
           15,
           16,
           17,
           18,
           19,
           20,
           21,
           22,
           23,
           24,
           25,
           26,
           27,
           28,
           29,
           30,
           31,
           32,
           33,
           34,
           35,
           36,
           37,
           38,
           39,
           40,
           41,
           42,
           43,
           44,
           45,
           46,
           47,
           48,
           49,
           50,
           51,
           52,
           53,
           54,
           55,
           56,
           57,
           58,
           59,
           60,
           61,
           62,
           63,
           64,
           65,
           66,
           67,
           68,
           69,
           70,
           71,
           72,
           73,
           74,
           75,
           76,
           77,
           78,
           79,
           80,
           81,
           82,
           83,
           84,
           85,
           86,
           87,
           88,
           89,
           90,
           91,
           92,
           93,
           94,
           95,
           96,
           97,
           98,
           99
          ],
          "colorbar": {
           "title": {
            "text": "Trial"
           },
           "x": 1,
           "xpad": 40
          },
          "colorscale": [
           [
            0,
            "rgb(247,251,255)"
           ],
           [
            0.125,
            "rgb(222,235,247)"
           ],
           [
            0.25,
            "rgb(198,219,239)"
           ],
           [
            0.375,
            "rgb(158,202,225)"
           ],
           [
            0.5,
            "rgb(107,174,214)"
           ],
           [
            0.625,
            "rgb(66,146,198)"
           ],
           [
            0.75,
            "rgb(33,113,181)"
           ],
           [
            0.875,
            "rgb(8,81,156)"
           ],
           [
            1,
            "rgb(8,48,107)"
           ]
          ],
          "line": {
           "color": "Grey",
           "width": 0.5
          },
          "showscale": false
         },
         "mode": "markers",
         "name": "Feasible Trial",
         "showlegend": false,
         "type": "scatter",
         "x": [
          1,
          4,
          1,
          2,
          3,
          5,
          4,
          5,
          5,
          1,
          5,
          5,
          1,
          4,
          1,
          1,
          2,
          1,
          5,
          2,
          3,
          2,
          4,
          2,
          1,
          3,
          4,
          5,
          3,
          5,
          1,
          4,
          2,
          3,
          5,
          4,
          5,
          5,
          2,
          3,
          4,
          2,
          4,
          3,
          4,
          3,
          3,
          4,
          5,
          2,
          3,
          3,
          2,
          1,
          3,
          1,
          1,
          5,
          2,
          5,
          5,
          2,
          1,
          5,
          1,
          5,
          4,
          3,
          5,
          5,
          5,
          4,
          2,
          3,
          5,
          3,
          2,
          3,
          4,
          4,
          3,
          1,
          1,
          3,
          1,
          2,
          5,
          1,
          4,
          2,
          3,
          3,
          1,
          4,
          4,
          5,
          5,
          1,
          1,
          3
         ],
         "xaxis": "x2",
         "y": [
          -0.00297418192849084,
          -0.006949901960131823,
          -0.00297418192849084,
          -0.002900251376377368,
          -0.0029234658241886298,
          -0.006862772051776202,
          -0.006949901960131823,
          -0.006943357842808933,
          -0.004265449810969909,
          -0.0030031129516354905,
          -0.006862772051776202,
          -0.006943357842808933,
          -0.00297418192849084,
          -0.006949901960131823,
          -0.21583589988001445,
          -0.00297418192849086,
          -0.002900251375965142,
          -0.002974181928490868,
          -0.22139661557561524,
          -0.002898128376183294,
          -0.002954825599303536,
          -0.002898128376183294,
          -0.006949901960131823,
          -0.19491898254228945,
          -0.00297418192849086,
          -0.0029234658241886298,
          -0.006949901960131823,
          -0.006862772051776202,
          -0.002954825599303536,
          -0.22139661557561524,
          -0.0030031129516354905,
          -0.19493609476781823,
          -0.002898128376183294,
          -0.0029234658241886298,
          -0.006862772051776202,
          -0.003016454402943482,
          -0.006943357842808933,
          -0.006943357842808933,
          -0.002900251376377368,
          -0.002954825599303536,
          -0.006949901960131823,
          -0.19491898254228937,
          -0.0030109496792113306,
          -0.002954825599303536,
          -0.0030109496790112563,
          -0.002954825599303536,
          -0.002962510274803748,
          -0.006949901960131823,
          -0.003422657483218819,
          -0.002898128376183294,
          -0.002962510274803748,
          -0.002954825599303536,
          -0.002900251376377368,
          -0.0030031129516354905,
          -0.0029625102748015004,
          -0.0029741819284908396,
          -0.002974181928490868,
          -0.006943357842808933,
          -0.19491898254228945,
          -0.22139675313496027,
          -0.006862772051776202,
          -0.0029002513759653972,
          -0.00297418192849084,
          -0.006943357842808933,
          -0.21583589988001423,
          -0.22139661557561524,
          -0.006949901960131823,
          -0.0029234658241886298,
          -0.0034280831189119933,
          -0.006943357842808933,
          -0.006862772051776202,
          -0.0038729565555889675,
          -0.002900251375965142,
          -0.0029625102673905947,
          -0.006862772051776202,
          -0.002954825599303536,
          -0.002898128376183294,
          -0.0029625102673905947,
          -0.0030018875931922375,
          -0.0030018875931922375,
          -0.0029234658241886298,
          -0.00297418192849084,
          -0.0030031129516354905,
          -0.002954825599303536,
          -0.0030031129516354905,
          -0.19491898254228945,
          -0.006862772051776202,
          -0.00297418192849086,
          -0.0038729565555889675,
          -0.002900251376377368,
          -0.002977223298472228,
          -0.19233729189446178,
          -0.0030031129516354905,
          -0.19493609476781823,
          -0.19493609476781823,
          -0.003422657483218819,
          -0.0034280831189119933,
          -0.0030031129516354905,
          -0.00297418192849084,
          -0.0029234658241886298
         ],
         "yaxis": "y2"
        },
        {
         "marker": {
          "color": [
           0,
           1,
           2,
           3,
           4,
           5,
           6,
           7,
           8,
           9,
           10,
           11,
           12,
           13,
           14,
           15,
           16,
           17,
           18,
           19,
           20,
           21,
           22,
           23,
           24,
           25,
           26,
           27,
           28,
           29,
           30,
           31,
           32,
           33,
           34,
           35,
           36,
           37,
           38,
           39,
           40,
           41,
           42,
           43,
           44,
           45,
           46,
           47,
           48,
           49,
           50,
           51,
           52,
           53,
           54,
           55,
           56,
           57,
           58,
           59,
           60,
           61,
           62,
           63,
           64,
           65,
           66,
           67,
           68,
           69,
           70,
           71,
           72,
           73,
           74,
           75,
           76,
           77,
           78,
           79,
           80,
           81,
           82,
           83,
           84,
           85,
           86,
           87,
           88,
           89,
           90,
           91,
           92,
           93,
           94,
           95,
           96,
           97,
           98,
           99
          ],
          "colorbar": {
           "title": {
            "text": "Trial"
           },
           "x": 1,
           "xpad": 40
          },
          "colorscale": [
           [
            0,
            "rgb(247,251,255)"
           ],
           [
            0.125,
            "rgb(222,235,247)"
           ],
           [
            0.25,
            "rgb(198,219,239)"
           ],
           [
            0.375,
            "rgb(158,202,225)"
           ],
           [
            0.5,
            "rgb(107,174,214)"
           ],
           [
            0.625,
            "rgb(66,146,198)"
           ],
           [
            0.75,
            "rgb(33,113,181)"
           ],
           [
            0.875,
            "rgb(8,81,156)"
           ],
           [
            1,
            "rgb(8,48,107)"
           ]
          ],
          "line": {
           "color": "Grey",
           "width": 0.5
          },
          "showscale": false
         },
         "mode": "markers",
         "name": "Feasible Trial",
         "showlegend": false,
         "type": "scatter",
         "x": [
          false,
          false,
          false,
          false,
          true,
          false,
          false,
          false,
          true,
          false,
          false,
          false,
          false,
          true,
          true,
          true,
          true,
          true,
          true,
          false,
          false,
          false,
          false,
          true,
          true,
          false,
          false,
          true,
          false,
          true,
          false,
          true,
          false,
          false,
          false,
          true,
          false,
          false,
          false,
          false,
          false,
          true,
          true,
          true,
          true,
          false,
          true,
          false,
          true,
          false,
          true,
          false,
          false,
          false,
          true,
          true,
          true,
          false,
          true,
          true,
          false,
          true,
          false,
          false,
          true,
          true,
          false,
          false,
          true,
          false,
          true,
          false,
          true,
          true,
          false,
          false,
          false,
          true,
          true,
          true,
          true,
          false,
          false,
          false,
          true,
          true,
          true,
          true,
          true,
          false,
          true,
          true,
          true,
          true,
          true,
          true,
          true,
          true,
          false,
          false
         ],
         "xaxis": "x3",
         "y": [
          -0.00297418192849084,
          -0.006949901960131823,
          -0.00297418192849084,
          -0.002900251376377368,
          -0.0029234658241886298,
          -0.006862772051776202,
          -0.006949901960131823,
          -0.006943357842808933,
          -0.004265449810969909,
          -0.0030031129516354905,
          -0.006862772051776202,
          -0.006943357842808933,
          -0.00297418192849084,
          -0.006949901960131823,
          -0.21583589988001445,
          -0.00297418192849086,
          -0.002900251375965142,
          -0.002974181928490868,
          -0.22139661557561524,
          -0.002898128376183294,
          -0.002954825599303536,
          -0.002898128376183294,
          -0.006949901960131823,
          -0.19491898254228945,
          -0.00297418192849086,
          -0.0029234658241886298,
          -0.006949901960131823,
          -0.006862772051776202,
          -0.002954825599303536,
          -0.22139661557561524,
          -0.0030031129516354905,
          -0.19493609476781823,
          -0.002898128376183294,
          -0.0029234658241886298,
          -0.006862772051776202,
          -0.003016454402943482,
          -0.006943357842808933,
          -0.006943357842808933,
          -0.002900251376377368,
          -0.002954825599303536,
          -0.006949901960131823,
          -0.19491898254228937,
          -0.0030109496792113306,
          -0.002954825599303536,
          -0.0030109496790112563,
          -0.002954825599303536,
          -0.002962510274803748,
          -0.006949901960131823,
          -0.003422657483218819,
          -0.002898128376183294,
          -0.002962510274803748,
          -0.002954825599303536,
          -0.002900251376377368,
          -0.0030031129516354905,
          -0.0029625102748015004,
          -0.0029741819284908396,
          -0.002974181928490868,
          -0.006943357842808933,
          -0.19491898254228945,
          -0.22139675313496027,
          -0.006862772051776202,
          -0.0029002513759653972,
          -0.00297418192849084,
          -0.006943357842808933,
          -0.21583589988001423,
          -0.22139661557561524,
          -0.006949901960131823,
          -0.0029234658241886298,
          -0.0034280831189119933,
          -0.006943357842808933,
          -0.006862772051776202,
          -0.0038729565555889675,
          -0.002900251375965142,
          -0.0029625102673905947,
          -0.006862772051776202,
          -0.002954825599303536,
          -0.002898128376183294,
          -0.0029625102673905947,
          -0.0030018875931922375,
          -0.0030018875931922375,
          -0.0029234658241886298,
          -0.00297418192849084,
          -0.0030031129516354905,
          -0.002954825599303536,
          -0.0030031129516354905,
          -0.19491898254228945,
          -0.006862772051776202,
          -0.00297418192849086,
          -0.0038729565555889675,
          -0.002900251376377368,
          -0.002977223298472228,
          -0.19233729189446178,
          -0.0030031129516354905,
          -0.19493609476781823,
          -0.19493609476781823,
          -0.003422657483218819,
          -0.0034280831189119933,
          -0.0030031129516354905,
          -0.00297418192849084,
          -0.0029234658241886298
         ],
         "yaxis": "y3"
        },
        {
         "marker": {
          "color": [
           4,
           8,
           13,
           14,
           15,
           16,
           17,
           18,
           23,
           24,
           27,
           29,
           31,
           35,
           41,
           42,
           43,
           44,
           46,
           48,
           50,
           54,
           55,
           56,
           58,
           59,
           61,
           64,
           65,
           68,
           70,
           72,
           73,
           77,
           78,
           79,
           80,
           84,
           85,
           86,
           87,
           88,
           90,
           91,
           92,
           93,
           94,
           95,
           96,
           97
          ],
          "colorbar": {
           "title": {
            "text": "Trial"
           },
           "x": 1,
           "xpad": 40
          },
          "colorscale": [
           [
            0,
            "rgb(247,251,255)"
           ],
           [
            0.125,
            "rgb(222,235,247)"
           ],
           [
            0.25,
            "rgb(198,219,239)"
           ],
           [
            0.375,
            "rgb(158,202,225)"
           ],
           [
            0.5,
            "rgb(107,174,214)"
           ],
           [
            0.625,
            "rgb(66,146,198)"
           ],
           [
            0.75,
            "rgb(33,113,181)"
           ],
           [
            0.875,
            "rgb(8,81,156)"
           ],
           [
            1,
            "rgb(8,48,107)"
           ]
          ],
          "line": {
           "color": "Grey",
           "width": 0.5
          },
          "showscale": false
         },
         "mode": "markers",
         "name": "Feasible Trial",
         "showlegend": false,
         "type": "scatter",
         "x": [
          false,
          true,
          false,
          true,
          false,
          true,
          true,
          true,
          true,
          false,
          false,
          true,
          true,
          false,
          true,
          true,
          false,
          true,
          true,
          false,
          true,
          true,
          true,
          true,
          true,
          true,
          false,
          true,
          true,
          false,
          false,
          true,
          false,
          false,
          false,
          false,
          false,
          false,
          true,
          false,
          false,
          false,
          false,
          true,
          false,
          true,
          true,
          false,
          false,
          false
         ],
         "xaxis": "x4",
         "y": [
          -0.0029234658241886298,
          -0.004265449810969909,
          -0.006949901960131823,
          -0.21583589988001445,
          -0.00297418192849086,
          -0.002900251375965142,
          -0.002974181928490868,
          -0.22139661557561524,
          -0.19491898254228945,
          -0.00297418192849086,
          -0.006862772051776202,
          -0.22139661557561524,
          -0.19493609476781823,
          -0.003016454402943482,
          -0.19491898254228937,
          -0.0030109496792113306,
          -0.002954825599303536,
          -0.0030109496790112563,
          -0.002962510274803748,
          -0.003422657483218819,
          -0.002962510274803748,
          -0.0029625102748015004,
          -0.0029741819284908396,
          -0.002974181928490868,
          -0.19491898254228945,
          -0.22139675313496027,
          -0.0029002513759653972,
          -0.21583589988001423,
          -0.22139661557561524,
          -0.0034280831189119933,
          -0.006862772051776202,
          -0.002900251375965142,
          -0.0029625102673905947,
          -0.0029625102673905947,
          -0.0030018875931922375,
          -0.0030018875931922375,
          -0.0029234658241886298,
          -0.0030031129516354905,
          -0.19491898254228945,
          -0.006862772051776202,
          -0.00297418192849086,
          -0.0038729565555889675,
          -0.002977223298472228,
          -0.19233729189446178,
          -0.0030031129516354905,
          -0.19493609476781823,
          -0.19493609476781823,
          -0.003422657483218819,
          -0.0034280831189119933,
          -0.0030031129516354905
         ],
         "yaxis": "y4"
        },
        {
         "marker": {
          "color": [
           4,
           8,
           13,
           14,
           15,
           16,
           17,
           18,
           23,
           24,
           27,
           29,
           31,
           35,
           41,
           42,
           43,
           44,
           46,
           48,
           50,
           54,
           55,
           56,
           58,
           59,
           61,
           64,
           65,
           68,
           70,
           72,
           73,
           77,
           78,
           79,
           80,
           84,
           85,
           86,
           87,
           88,
           90,
           91,
           92,
           93,
           94,
           95,
           96,
           97
          ],
          "colorbar": {
           "title": {
            "text": "Trial"
           },
           "x": 1,
           "xpad": 40
          },
          "colorscale": [
           [
            0,
            "rgb(247,251,255)"
           ],
           [
            0.125,
            "rgb(222,235,247)"
           ],
           [
            0.25,
            "rgb(198,219,239)"
           ],
           [
            0.375,
            "rgb(158,202,225)"
           ],
           [
            0.5,
            "rgb(107,174,214)"
           ],
           [
            0.625,
            "rgb(66,146,198)"
           ],
           [
            0.75,
            "rgb(33,113,181)"
           ],
           [
            0.875,
            "rgb(8,81,156)"
           ],
           [
            1,
            "rgb(8,48,107)"
           ]
          ],
          "line": {
           "color": "Grey",
           "width": 0.5
          },
          "showscale": false
         },
         "mode": "markers",
         "name": "Feasible Trial",
         "showlegend": false,
         "type": "scatter",
         "x": [
          false,
          true,
          false,
          true,
          true,
          false,
          true,
          false,
          false,
          true,
          false,
          false,
          false,
          true,
          true,
          true,
          false,
          false,
          true,
          true,
          true,
          false,
          false,
          true,
          false,
          true,
          true,
          false,
          false,
          true,
          false,
          false,
          true,
          true,
          true,
          true,
          false,
          false,
          false,
          false,
          true,
          false,
          true,
          true,
          false,
          false,
          false,
          true,
          true,
          false
         ],
         "xaxis": "x5",
         "y": [
          -0.0029234658241886298,
          -0.004265449810969909,
          -0.006949901960131823,
          -0.21583589988001445,
          -0.00297418192849086,
          -0.002900251375965142,
          -0.002974181928490868,
          -0.22139661557561524,
          -0.19491898254228945,
          -0.00297418192849086,
          -0.006862772051776202,
          -0.22139661557561524,
          -0.19493609476781823,
          -0.003016454402943482,
          -0.19491898254228937,
          -0.0030109496792113306,
          -0.002954825599303536,
          -0.0030109496790112563,
          -0.002962510274803748,
          -0.003422657483218819,
          -0.002962510274803748,
          -0.0029625102748015004,
          -0.0029741819284908396,
          -0.002974181928490868,
          -0.19491898254228945,
          -0.22139675313496027,
          -0.0029002513759653972,
          -0.21583589988001423,
          -0.22139661557561524,
          -0.0034280831189119933,
          -0.006862772051776202,
          -0.002900251375965142,
          -0.0029625102673905947,
          -0.0029625102673905947,
          -0.0030018875931922375,
          -0.0030018875931922375,
          -0.0029234658241886298,
          -0.0030031129516354905,
          -0.19491898254228945,
          -0.006862772051776202,
          -0.00297418192849086,
          -0.0038729565555889675,
          -0.002977223298472228,
          -0.19233729189446178,
          -0.0030031129516354905,
          -0.19493609476781823,
          -0.19493609476781823,
          -0.003422657483218819,
          -0.0034280831189119933,
          -0.0030031129516354905
         ],
         "yaxis": "y5"
        }
       ],
       "layout": {
        "template": {
         "data": {
          "bar": [
           {
            "error_x": {
             "color": "#2a3f5f"
            },
            "error_y": {
             "color": "#2a3f5f"
            },
            "marker": {
             "line": {
              "color": "#E5ECF6",
              "width": 0.5
             },
             "pattern": {
              "fillmode": "overlay",
              "size": 10,
              "solidity": 0.2
             }
            },
            "type": "bar"
           }
          ],
          "barpolar": [
           {
            "marker": {
             "line": {
              "color": "#E5ECF6",
              "width": 0.5
             },
             "pattern": {
              "fillmode": "overlay",
              "size": 10,
              "solidity": 0.2
             }
            },
            "type": "barpolar"
           }
          ],
          "carpet": [
           {
            "aaxis": {
             "endlinecolor": "#2a3f5f",
             "gridcolor": "white",
             "linecolor": "white",
             "minorgridcolor": "white",
             "startlinecolor": "#2a3f5f"
            },
            "baxis": {
             "endlinecolor": "#2a3f5f",
             "gridcolor": "white",
             "linecolor": "white",
             "minorgridcolor": "white",
             "startlinecolor": "#2a3f5f"
            },
            "type": "carpet"
           }
          ],
          "choropleth": [
           {
            "colorbar": {
             "outlinewidth": 0,
             "ticks": ""
            },
            "type": "choropleth"
           }
          ],
          "contour": [
           {
            "colorbar": {
             "outlinewidth": 0,
             "ticks": ""
            },
            "colorscale": [
             [
              0,
              "#0d0887"
             ],
             [
              0.1111111111111111,
              "#46039f"
             ],
             [
              0.2222222222222222,
              "#7201a8"
             ],
             [
              0.3333333333333333,
              "#9c179e"
             ],
             [
              0.4444444444444444,
              "#bd3786"
             ],
             [
              0.5555555555555556,
              "#d8576b"
             ],
             [
              0.6666666666666666,
              "#ed7953"
             ],
             [
              0.7777777777777778,
              "#fb9f3a"
             ],
             [
              0.8888888888888888,
              "#fdca26"
             ],
             [
              1,
              "#f0f921"
             ]
            ],
            "type": "contour"
           }
          ],
          "contourcarpet": [
           {
            "colorbar": {
             "outlinewidth": 0,
             "ticks": ""
            },
            "type": "contourcarpet"
           }
          ],
          "heatmap": [
           {
            "colorbar": {
             "outlinewidth": 0,
             "ticks": ""
            },
            "colorscale": [
             [
              0,
              "#0d0887"
             ],
             [
              0.1111111111111111,
              "#46039f"
             ],
             [
              0.2222222222222222,
              "#7201a8"
             ],
             [
              0.3333333333333333,
              "#9c179e"
             ],
             [
              0.4444444444444444,
              "#bd3786"
             ],
             [
              0.5555555555555556,
              "#d8576b"
             ],
             [
              0.6666666666666666,
              "#ed7953"
             ],
             [
              0.7777777777777778,
              "#fb9f3a"
             ],
             [
              0.8888888888888888,
              "#fdca26"
             ],
             [
              1,
              "#f0f921"
             ]
            ],
            "type": "heatmap"
           }
          ],
          "histogram": [
           {
            "marker": {
             "pattern": {
              "fillmode": "overlay",
              "size": 10,
              "solidity": 0.2
             }
            },
            "type": "histogram"
           }
          ],
          "histogram2d": [
           {
            "colorbar": {
             "outlinewidth": 0,
             "ticks": ""
            },
            "colorscale": [
             [
              0,
              "#0d0887"
             ],
             [
              0.1111111111111111,
              "#46039f"
             ],
             [
              0.2222222222222222,
              "#7201a8"
             ],
             [
              0.3333333333333333,
              "#9c179e"
             ],
             [
              0.4444444444444444,
              "#bd3786"
             ],
             [
              0.5555555555555556,
              "#d8576b"
             ],
             [
              0.6666666666666666,
              "#ed7953"
             ],
             [
              0.7777777777777778,
              "#fb9f3a"
             ],
             [
              0.8888888888888888,
              "#fdca26"
             ],
             [
              1,
              "#f0f921"
             ]
            ],
            "type": "histogram2d"
           }
          ],
          "histogram2dcontour": [
           {
            "colorbar": {
             "outlinewidth": 0,
             "ticks": ""
            },
            "colorscale": [
             [
              0,
              "#0d0887"
             ],
             [
              0.1111111111111111,
              "#46039f"
             ],
             [
              0.2222222222222222,
              "#7201a8"
             ],
             [
              0.3333333333333333,
              "#9c179e"
             ],
             [
              0.4444444444444444,
              "#bd3786"
             ],
             [
              0.5555555555555556,
              "#d8576b"
             ],
             [
              0.6666666666666666,
              "#ed7953"
             ],
             [
              0.7777777777777778,
              "#fb9f3a"
             ],
             [
              0.8888888888888888,
              "#fdca26"
             ],
             [
              1,
              "#f0f921"
             ]
            ],
            "type": "histogram2dcontour"
           }
          ],
          "mesh3d": [
           {
            "colorbar": {
             "outlinewidth": 0,
             "ticks": ""
            },
            "type": "mesh3d"
           }
          ],
          "parcoords": [
           {
            "line": {
             "colorbar": {
              "outlinewidth": 0,
              "ticks": ""
             }
            },
            "type": "parcoords"
           }
          ],
          "pie": [
           {
            "automargin": true,
            "type": "pie"
           }
          ],
          "scatter": [
           {
            "fillpattern": {
             "fillmode": "overlay",
             "size": 10,
             "solidity": 0.2
            },
            "type": "scatter"
           }
          ],
          "scatter3d": [
           {
            "line": {
             "colorbar": {
              "outlinewidth": 0,
              "ticks": ""
             }
            },
            "marker": {
             "colorbar": {
              "outlinewidth": 0,
              "ticks": ""
             }
            },
            "type": "scatter3d"
           }
          ],
          "scattercarpet": [
           {
            "marker": {
             "colorbar": {
              "outlinewidth": 0,
              "ticks": ""
             }
            },
            "type": "scattercarpet"
           }
          ],
          "scattergeo": [
           {
            "marker": {
             "colorbar": {
              "outlinewidth": 0,
              "ticks": ""
             }
            },
            "type": "scattergeo"
           }
          ],
          "scattergl": [
           {
            "marker": {
             "colorbar": {
              "outlinewidth": 0,
              "ticks": ""
             }
            },
            "type": "scattergl"
           }
          ],
          "scattermap": [
           {
            "marker": {
             "colorbar": {
              "outlinewidth": 0,
              "ticks": ""
             }
            },
            "type": "scattermap"
           }
          ],
          "scattermapbox": [
           {
            "marker": {
             "colorbar": {
              "outlinewidth": 0,
              "ticks": ""
             }
            },
            "type": "scattermapbox"
           }
          ],
          "scatterpolar": [
           {
            "marker": {
             "colorbar": {
              "outlinewidth": 0,
              "ticks": ""
             }
            },
            "type": "scatterpolar"
           }
          ],
          "scatterpolargl": [
           {
            "marker": {
             "colorbar": {
              "outlinewidth": 0,
              "ticks": ""
             }
            },
            "type": "scatterpolargl"
           }
          ],
          "scatterternary": [
           {
            "marker": {
             "colorbar": {
              "outlinewidth": 0,
              "ticks": ""
             }
            },
            "type": "scatterternary"
           }
          ],
          "surface": [
           {
            "colorbar": {
             "outlinewidth": 0,
             "ticks": ""
            },
            "colorscale": [
             [
              0,
              "#0d0887"
             ],
             [
              0.1111111111111111,
              "#46039f"
             ],
             [
              0.2222222222222222,
              "#7201a8"
             ],
             [
              0.3333333333333333,
              "#9c179e"
             ],
             [
              0.4444444444444444,
              "#bd3786"
             ],
             [
              0.5555555555555556,
              "#d8576b"
             ],
             [
              0.6666666666666666,
              "#ed7953"
             ],
             [
              0.7777777777777778,
              "#fb9f3a"
             ],
             [
              0.8888888888888888,
              "#fdca26"
             ],
             [
              1,
              "#f0f921"
             ]
            ],
            "type": "surface"
           }
          ],
          "table": [
           {
            "cells": {
             "fill": {
              "color": "#EBF0F8"
             },
             "line": {
              "color": "white"
             }
            },
            "header": {
             "fill": {
              "color": "#C8D4E3"
             },
             "line": {
              "color": "white"
             }
            },
            "type": "table"
           }
          ]
         },
         "layout": {
          "annotationdefaults": {
           "arrowcolor": "#2a3f5f",
           "arrowhead": 0,
           "arrowwidth": 1
          },
          "autotypenumbers": "strict",
          "coloraxis": {
           "colorbar": {
            "outlinewidth": 0,
            "ticks": ""
           }
          },
          "colorscale": {
           "diverging": [
            [
             0,
             "#8e0152"
            ],
            [
             0.1,
             "#c51b7d"
            ],
            [
             0.2,
             "#de77ae"
            ],
            [
             0.3,
             "#f1b6da"
            ],
            [
             0.4,
             "#fde0ef"
            ],
            [
             0.5,
             "#f7f7f7"
            ],
            [
             0.6,
             "#e6f5d0"
            ],
            [
             0.7,
             "#b8e186"
            ],
            [
             0.8,
             "#7fbc41"
            ],
            [
             0.9,
             "#4d9221"
            ],
            [
             1,
             "#276419"
            ]
           ],
           "sequential": [
            [
             0,
             "#0d0887"
            ],
            [
             0.1111111111111111,
             "#46039f"
            ],
            [
             0.2222222222222222,
             "#7201a8"
            ],
            [
             0.3333333333333333,
             "#9c179e"
            ],
            [
             0.4444444444444444,
             "#bd3786"
            ],
            [
             0.5555555555555556,
             "#d8576b"
            ],
            [
             0.6666666666666666,
             "#ed7953"
            ],
            [
             0.7777777777777778,
             "#fb9f3a"
            ],
            [
             0.8888888888888888,
             "#fdca26"
            ],
            [
             1,
             "#f0f921"
            ]
           ],
           "sequentialminus": [
            [
             0,
             "#0d0887"
            ],
            [
             0.1111111111111111,
             "#46039f"
            ],
            [
             0.2222222222222222,
             "#7201a8"
            ],
            [
             0.3333333333333333,
             "#9c179e"
            ],
            [
             0.4444444444444444,
             "#bd3786"
            ],
            [
             0.5555555555555556,
             "#d8576b"
            ],
            [
             0.6666666666666666,
             "#ed7953"
            ],
            [
             0.7777777777777778,
             "#fb9f3a"
            ],
            [
             0.8888888888888888,
             "#fdca26"
            ],
            [
             1,
             "#f0f921"
            ]
           ]
          },
          "colorway": [
           "#636efa",
           "#EF553B",
           "#00cc96",
           "#ab63fa",
           "#FFA15A",
           "#19d3f3",
           "#FF6692",
           "#B6E880",
           "#FF97FF",
           "#FECB52"
          ],
          "font": {
           "color": "#2a3f5f"
          },
          "geo": {
           "bgcolor": "white",
           "lakecolor": "white",
           "landcolor": "#E5ECF6",
           "showlakes": true,
           "showland": true,
           "subunitcolor": "white"
          },
          "hoverlabel": {
           "align": "left"
          },
          "hovermode": "closest",
          "mapbox": {
           "style": "light"
          },
          "paper_bgcolor": "white",
          "plot_bgcolor": "#E5ECF6",
          "polar": {
           "angularaxis": {
            "gridcolor": "white",
            "linecolor": "white",
            "ticks": ""
           },
           "bgcolor": "#E5ECF6",
           "radialaxis": {
            "gridcolor": "white",
            "linecolor": "white",
            "ticks": ""
           }
          },
          "scene": {
           "xaxis": {
            "backgroundcolor": "#E5ECF6",
            "gridcolor": "white",
            "gridwidth": 2,
            "linecolor": "white",
            "showbackground": true,
            "ticks": "",
            "zerolinecolor": "white"
           },
           "yaxis": {
            "backgroundcolor": "#E5ECF6",
            "gridcolor": "white",
            "gridwidth": 2,
            "linecolor": "white",
            "showbackground": true,
            "ticks": "",
            "zerolinecolor": "white"
           },
           "zaxis": {
            "backgroundcolor": "#E5ECF6",
            "gridcolor": "white",
            "gridwidth": 2,
            "linecolor": "white",
            "showbackground": true,
            "ticks": "",
            "zerolinecolor": "white"
           }
          },
          "shapedefaults": {
           "line": {
            "color": "#2a3f5f"
           }
          },
          "ternary": {
           "aaxis": {
            "gridcolor": "white",
            "linecolor": "white",
            "ticks": ""
           },
           "baxis": {
            "gridcolor": "white",
            "linecolor": "white",
            "ticks": ""
           },
           "bgcolor": "#E5ECF6",
           "caxis": {
            "gridcolor": "white",
            "linecolor": "white",
            "ticks": ""
           }
          },
          "title": {
           "x": 0.05
          },
          "xaxis": {
           "automargin": true,
           "gridcolor": "white",
           "linecolor": "white",
           "ticks": "",
           "title": {
            "standoff": 15
           },
           "zerolinecolor": "white",
           "zerolinewidth": 2
          },
          "yaxis": {
           "automargin": true,
           "gridcolor": "white",
           "linecolor": "white",
           "ticks": "",
           "title": {
            "standoff": 15
           },
           "zerolinecolor": "white",
           "zerolinewidth": 2
          }
         }
        },
        "title": {
         "text": "Slice Plot"
        },
        "width": 1500,
        "xaxis": {
         "anchor": "y",
         "categoryarray": [
          false,
          true
         ],
         "categoryorder": "array",
         "domain": [
          0,
          0.16799999999999998
         ],
         "title": {
          "text": "fit_intercept"
         },
         "type": "category"
        },
        "xaxis2": {
         "anchor": "y2",
         "domain": [
          0.208,
          0.376
         ],
         "title": {
          "text": "poly_degree"
         }
        },
        "xaxis3": {
         "anchor": "y3",
         "categoryarray": [
          false,
          true
         ],
         "categoryorder": "array",
         "domain": [
          0.416,
          0.584
         ],
         "title": {
          "text": "use_scaler"
         },
         "type": "category"
        },
        "xaxis4": {
         "anchor": "y4",
         "categoryarray": [
          true,
          false
         ],
         "categoryorder": "array",
         "domain": [
          0.624,
          0.792
         ],
         "title": {
          "text": "with_mean"
         },
         "type": "category"
        },
        "xaxis5": {
         "anchor": "y5",
         "categoryarray": [
          true,
          false
         ],
         "categoryorder": "array",
         "domain": [
          0.832,
          1
         ],
         "title": {
          "text": "with_std"
         },
         "type": "category"
        },
        "yaxis": {
         "anchor": "x",
         "domain": [
          0,
          1
         ],
         "title": {
          "text": "Objective Value"
         }
        },
        "yaxis2": {
         "anchor": "x2",
         "domain": [
          0,
          1
         ],
         "matches": "y",
         "showticklabels": false
        },
        "yaxis3": {
         "anchor": "x3",
         "domain": [
          0,
          1
         ],
         "matches": "y",
         "showticklabels": false
        },
        "yaxis4": {
         "anchor": "x4",
         "domain": [
          0,
          1
         ],
         "matches": "y",
         "showticklabels": false
        },
        "yaxis5": {
         "anchor": "x5",
         "domain": [
          0,
          1
         ],
         "matches": "y",
         "showticklabels": false
        }
       }
      }
     },
     "metadata": {},
     "output_type": "display_data"
    }
   ],
   "source": [
    "optuna.visualization.plot_slice(study, params=['fit_intercept','use_scaler','poly_degree'])"
   ]
  },
  {
   "cell_type": "code",
   "execution_count": 289,
   "metadata": {},
   "outputs": [
    {
     "data": {
      "application/vnd.plotly.v1+json": {
       "config": {
        "plotlyServerURL": "https://plot.ly"
       },
       "data": [
        {
         "cliponaxis": false,
         "hovertemplate": [
          "poly_degree (IntDistribution): 0.1447630060989584<extra></extra>",
          "use_scaler (CategoricalDistribution): 0.4197802436282655<extra></extra>",
          "fit_intercept (CategoricalDistribution): 0.4354567502727761<extra></extra>"
         ],
         "name": "Objective Value",
         "orientation": "h",
         "text": [
          "0.14",
          "0.42",
          "0.44"
         ],
         "textposition": "outside",
         "type": "bar",
         "x": [
          0.1447630060989584,
          0.4197802436282655,
          0.4354567502727761
         ],
         "y": [
          "poly_degree",
          "use_scaler",
          "fit_intercept"
         ]
        }
       ],
       "layout": {
        "template": {
         "data": {
          "bar": [
           {
            "error_x": {
             "color": "#2a3f5f"
            },
            "error_y": {
             "color": "#2a3f5f"
            },
            "marker": {
             "line": {
              "color": "#E5ECF6",
              "width": 0.5
             },
             "pattern": {
              "fillmode": "overlay",
              "size": 10,
              "solidity": 0.2
             }
            },
            "type": "bar"
           }
          ],
          "barpolar": [
           {
            "marker": {
             "line": {
              "color": "#E5ECF6",
              "width": 0.5
             },
             "pattern": {
              "fillmode": "overlay",
              "size": 10,
              "solidity": 0.2
             }
            },
            "type": "barpolar"
           }
          ],
          "carpet": [
           {
            "aaxis": {
             "endlinecolor": "#2a3f5f",
             "gridcolor": "white",
             "linecolor": "white",
             "minorgridcolor": "white",
             "startlinecolor": "#2a3f5f"
            },
            "baxis": {
             "endlinecolor": "#2a3f5f",
             "gridcolor": "white",
             "linecolor": "white",
             "minorgridcolor": "white",
             "startlinecolor": "#2a3f5f"
            },
            "type": "carpet"
           }
          ],
          "choropleth": [
           {
            "colorbar": {
             "outlinewidth": 0,
             "ticks": ""
            },
            "type": "choropleth"
           }
          ],
          "contour": [
           {
            "colorbar": {
             "outlinewidth": 0,
             "ticks": ""
            },
            "colorscale": [
             [
              0,
              "#0d0887"
             ],
             [
              0.1111111111111111,
              "#46039f"
             ],
             [
              0.2222222222222222,
              "#7201a8"
             ],
             [
              0.3333333333333333,
              "#9c179e"
             ],
             [
              0.4444444444444444,
              "#bd3786"
             ],
             [
              0.5555555555555556,
              "#d8576b"
             ],
             [
              0.6666666666666666,
              "#ed7953"
             ],
             [
              0.7777777777777778,
              "#fb9f3a"
             ],
             [
              0.8888888888888888,
              "#fdca26"
             ],
             [
              1,
              "#f0f921"
             ]
            ],
            "type": "contour"
           }
          ],
          "contourcarpet": [
           {
            "colorbar": {
             "outlinewidth": 0,
             "ticks": ""
            },
            "type": "contourcarpet"
           }
          ],
          "heatmap": [
           {
            "colorbar": {
             "outlinewidth": 0,
             "ticks": ""
            },
            "colorscale": [
             [
              0,
              "#0d0887"
             ],
             [
              0.1111111111111111,
              "#46039f"
             ],
             [
              0.2222222222222222,
              "#7201a8"
             ],
             [
              0.3333333333333333,
              "#9c179e"
             ],
             [
              0.4444444444444444,
              "#bd3786"
             ],
             [
              0.5555555555555556,
              "#d8576b"
             ],
             [
              0.6666666666666666,
              "#ed7953"
             ],
             [
              0.7777777777777778,
              "#fb9f3a"
             ],
             [
              0.8888888888888888,
              "#fdca26"
             ],
             [
              1,
              "#f0f921"
             ]
            ],
            "type": "heatmap"
           }
          ],
          "histogram": [
           {
            "marker": {
             "pattern": {
              "fillmode": "overlay",
              "size": 10,
              "solidity": 0.2
             }
            },
            "type": "histogram"
           }
          ],
          "histogram2d": [
           {
            "colorbar": {
             "outlinewidth": 0,
             "ticks": ""
            },
            "colorscale": [
             [
              0,
              "#0d0887"
             ],
             [
              0.1111111111111111,
              "#46039f"
             ],
             [
              0.2222222222222222,
              "#7201a8"
             ],
             [
              0.3333333333333333,
              "#9c179e"
             ],
             [
              0.4444444444444444,
              "#bd3786"
             ],
             [
              0.5555555555555556,
              "#d8576b"
             ],
             [
              0.6666666666666666,
              "#ed7953"
             ],
             [
              0.7777777777777778,
              "#fb9f3a"
             ],
             [
              0.8888888888888888,
              "#fdca26"
             ],
             [
              1,
              "#f0f921"
             ]
            ],
            "type": "histogram2d"
           }
          ],
          "histogram2dcontour": [
           {
            "colorbar": {
             "outlinewidth": 0,
             "ticks": ""
            },
            "colorscale": [
             [
              0,
              "#0d0887"
             ],
             [
              0.1111111111111111,
              "#46039f"
             ],
             [
              0.2222222222222222,
              "#7201a8"
             ],
             [
              0.3333333333333333,
              "#9c179e"
             ],
             [
              0.4444444444444444,
              "#bd3786"
             ],
             [
              0.5555555555555556,
              "#d8576b"
             ],
             [
              0.6666666666666666,
              "#ed7953"
             ],
             [
              0.7777777777777778,
              "#fb9f3a"
             ],
             [
              0.8888888888888888,
              "#fdca26"
             ],
             [
              1,
              "#f0f921"
             ]
            ],
            "type": "histogram2dcontour"
           }
          ],
          "mesh3d": [
           {
            "colorbar": {
             "outlinewidth": 0,
             "ticks": ""
            },
            "type": "mesh3d"
           }
          ],
          "parcoords": [
           {
            "line": {
             "colorbar": {
              "outlinewidth": 0,
              "ticks": ""
             }
            },
            "type": "parcoords"
           }
          ],
          "pie": [
           {
            "automargin": true,
            "type": "pie"
           }
          ],
          "scatter": [
           {
            "fillpattern": {
             "fillmode": "overlay",
             "size": 10,
             "solidity": 0.2
            },
            "type": "scatter"
           }
          ],
          "scatter3d": [
           {
            "line": {
             "colorbar": {
              "outlinewidth": 0,
              "ticks": ""
             }
            },
            "marker": {
             "colorbar": {
              "outlinewidth": 0,
              "ticks": ""
             }
            },
            "type": "scatter3d"
           }
          ],
          "scattercarpet": [
           {
            "marker": {
             "colorbar": {
              "outlinewidth": 0,
              "ticks": ""
             }
            },
            "type": "scattercarpet"
           }
          ],
          "scattergeo": [
           {
            "marker": {
             "colorbar": {
              "outlinewidth": 0,
              "ticks": ""
             }
            },
            "type": "scattergeo"
           }
          ],
          "scattergl": [
           {
            "marker": {
             "colorbar": {
              "outlinewidth": 0,
              "ticks": ""
             }
            },
            "type": "scattergl"
           }
          ],
          "scattermap": [
           {
            "marker": {
             "colorbar": {
              "outlinewidth": 0,
              "ticks": ""
             }
            },
            "type": "scattermap"
           }
          ],
          "scattermapbox": [
           {
            "marker": {
             "colorbar": {
              "outlinewidth": 0,
              "ticks": ""
             }
            },
            "type": "scattermapbox"
           }
          ],
          "scatterpolar": [
           {
            "marker": {
             "colorbar": {
              "outlinewidth": 0,
              "ticks": ""
             }
            },
            "type": "scatterpolar"
           }
          ],
          "scatterpolargl": [
           {
            "marker": {
             "colorbar": {
              "outlinewidth": 0,
              "ticks": ""
             }
            },
            "type": "scatterpolargl"
           }
          ],
          "scatterternary": [
           {
            "marker": {
             "colorbar": {
              "outlinewidth": 0,
              "ticks": ""
             }
            },
            "type": "scatterternary"
           }
          ],
          "surface": [
           {
            "colorbar": {
             "outlinewidth": 0,
             "ticks": ""
            },
            "colorscale": [
             [
              0,
              "#0d0887"
             ],
             [
              0.1111111111111111,
              "#46039f"
             ],
             [
              0.2222222222222222,
              "#7201a8"
             ],
             [
              0.3333333333333333,
              "#9c179e"
             ],
             [
              0.4444444444444444,
              "#bd3786"
             ],
             [
              0.5555555555555556,
              "#d8576b"
             ],
             [
              0.6666666666666666,
              "#ed7953"
             ],
             [
              0.7777777777777778,
              "#fb9f3a"
             ],
             [
              0.8888888888888888,
              "#fdca26"
             ],
             [
              1,
              "#f0f921"
             ]
            ],
            "type": "surface"
           }
          ],
          "table": [
           {
            "cells": {
             "fill": {
              "color": "#EBF0F8"
             },
             "line": {
              "color": "white"
             }
            },
            "header": {
             "fill": {
              "color": "#C8D4E3"
             },
             "line": {
              "color": "white"
             }
            },
            "type": "table"
           }
          ]
         },
         "layout": {
          "annotationdefaults": {
           "arrowcolor": "#2a3f5f",
           "arrowhead": 0,
           "arrowwidth": 1
          },
          "autotypenumbers": "strict",
          "coloraxis": {
           "colorbar": {
            "outlinewidth": 0,
            "ticks": ""
           }
          },
          "colorscale": {
           "diverging": [
            [
             0,
             "#8e0152"
            ],
            [
             0.1,
             "#c51b7d"
            ],
            [
             0.2,
             "#de77ae"
            ],
            [
             0.3,
             "#f1b6da"
            ],
            [
             0.4,
             "#fde0ef"
            ],
            [
             0.5,
             "#f7f7f7"
            ],
            [
             0.6,
             "#e6f5d0"
            ],
            [
             0.7,
             "#b8e186"
            ],
            [
             0.8,
             "#7fbc41"
            ],
            [
             0.9,
             "#4d9221"
            ],
            [
             1,
             "#276419"
            ]
           ],
           "sequential": [
            [
             0,
             "#0d0887"
            ],
            [
             0.1111111111111111,
             "#46039f"
            ],
            [
             0.2222222222222222,
             "#7201a8"
            ],
            [
             0.3333333333333333,
             "#9c179e"
            ],
            [
             0.4444444444444444,
             "#bd3786"
            ],
            [
             0.5555555555555556,
             "#d8576b"
            ],
            [
             0.6666666666666666,
             "#ed7953"
            ],
            [
             0.7777777777777778,
             "#fb9f3a"
            ],
            [
             0.8888888888888888,
             "#fdca26"
            ],
            [
             1,
             "#f0f921"
            ]
           ],
           "sequentialminus": [
            [
             0,
             "#0d0887"
            ],
            [
             0.1111111111111111,
             "#46039f"
            ],
            [
             0.2222222222222222,
             "#7201a8"
            ],
            [
             0.3333333333333333,
             "#9c179e"
            ],
            [
             0.4444444444444444,
             "#bd3786"
            ],
            [
             0.5555555555555556,
             "#d8576b"
            ],
            [
             0.6666666666666666,
             "#ed7953"
            ],
            [
             0.7777777777777778,
             "#fb9f3a"
            ],
            [
             0.8888888888888888,
             "#fdca26"
            ],
            [
             1,
             "#f0f921"
            ]
           ]
          },
          "colorway": [
           "#636efa",
           "#EF553B",
           "#00cc96",
           "#ab63fa",
           "#FFA15A",
           "#19d3f3",
           "#FF6692",
           "#B6E880",
           "#FF97FF",
           "#FECB52"
          ],
          "font": {
           "color": "#2a3f5f"
          },
          "geo": {
           "bgcolor": "white",
           "lakecolor": "white",
           "landcolor": "#E5ECF6",
           "showlakes": true,
           "showland": true,
           "subunitcolor": "white"
          },
          "hoverlabel": {
           "align": "left"
          },
          "hovermode": "closest",
          "mapbox": {
           "style": "light"
          },
          "paper_bgcolor": "white",
          "plot_bgcolor": "#E5ECF6",
          "polar": {
           "angularaxis": {
            "gridcolor": "white",
            "linecolor": "white",
            "ticks": ""
           },
           "bgcolor": "#E5ECF6",
           "radialaxis": {
            "gridcolor": "white",
            "linecolor": "white",
            "ticks": ""
           }
          },
          "scene": {
           "xaxis": {
            "backgroundcolor": "#E5ECF6",
            "gridcolor": "white",
            "gridwidth": 2,
            "linecolor": "white",
            "showbackground": true,
            "ticks": "",
            "zerolinecolor": "white"
           },
           "yaxis": {
            "backgroundcolor": "#E5ECF6",
            "gridcolor": "white",
            "gridwidth": 2,
            "linecolor": "white",
            "showbackground": true,
            "ticks": "",
            "zerolinecolor": "white"
           },
           "zaxis": {
            "backgroundcolor": "#E5ECF6",
            "gridcolor": "white",
            "gridwidth": 2,
            "linecolor": "white",
            "showbackground": true,
            "ticks": "",
            "zerolinecolor": "white"
           }
          },
          "shapedefaults": {
           "line": {
            "color": "#2a3f5f"
           }
          },
          "ternary": {
           "aaxis": {
            "gridcolor": "white",
            "linecolor": "white",
            "ticks": ""
           },
           "baxis": {
            "gridcolor": "white",
            "linecolor": "white",
            "ticks": ""
           },
           "bgcolor": "#E5ECF6",
           "caxis": {
            "gridcolor": "white",
            "linecolor": "white",
            "ticks": ""
           }
          },
          "title": {
           "x": 0.05
          },
          "xaxis": {
           "automargin": true,
           "gridcolor": "white",
           "linecolor": "white",
           "ticks": "",
           "title": {
            "standoff": 15
           },
           "zerolinecolor": "white",
           "zerolinewidth": 2
          },
          "yaxis": {
           "automargin": true,
           "gridcolor": "white",
           "linecolor": "white",
           "ticks": "",
           "title": {
            "standoff": 15
           },
           "zerolinecolor": "white",
           "zerolinewidth": 2
          }
         }
        },
        "title": {
         "text": "Hyperparameter Importances"
        },
        "xaxis": {
         "title": {
          "text": "Hyperparameter Importance"
         }
        },
        "yaxis": {
         "title": {
          "text": "Hyperparameter"
         }
        }
       }
      }
     },
     "metadata": {},
     "output_type": "display_data"
    }
   ],
   "source": [
    "optuna.visualization.plot_param_importances(study)"
   ]
  },
  {
   "cell_type": "code",
   "execution_count": 290,
   "metadata": {},
   "outputs": [],
   "source": [
    "numeric_pipeline_linear = Pipeline([\n",
    "    ('imputer', SimpleImputer(strategy='mean')),\n",
    "        ('poly', PolynomialFeatures(degree=2, include_bias=False)),\n",
    "])\n",
    "\n",
    "categorical_pipeline_linear = Pipeline([\n",
    "    ('imputer', SimpleImputer(strategy='most_frequent')),\n",
    "    ('onehot',  OneHotEncoder(handle_unknown='ignore', sparse_output=False,drop='first')),\n",
    "])\n",
    "\n",
    "preprocessor = ColumnTransformer([\n",
    "    ('num', numeric_pipeline_linear,      num_cols),\n",
    "    ('cat', categorical_pipeline_linear,  cat_cols),\n",
    "],\n",
    "remainder='passthrough')\n",
    "\n",
    "lin_reg = Pipeline([\n",
    "    ('prepoc',preprocessor),\n",
    "        ('linear', LinearRegression(\n",
    "            fit_intercept=False\n",
    "        )),\n",
    "    \n",
    "])"
   ]
  },
  {
   "cell_type": "code",
   "execution_count": 291,
   "metadata": {},
   "outputs": [
    {
     "name": "stdout",
     "output_type": "stream",
     "text": [
      "Linear Regressor CV results:\n",
      "[0.00289211 0.0030398  0.0030198  0.00252607 0.00301286]\n",
      "RMSE: 0.00 +/- 0.00\n",
      "\n"
     ]
    }
   ],
   "source": [
    "lin_cv = cross_val_score(\n",
    "        lin_reg, X_train, y_train,\n",
    "        cv=5,\n",
    "        scoring='neg_mean_squared_error',\n",
    "        n_jobs=-1\n",
    "    )\n",
    "print_cv_results('Linear Regressor',lin_cv)"
   ]
  },
  {
   "cell_type": "code",
   "execution_count": 292,
   "metadata": {},
   "outputs": [],
   "source": [
    "result['LinearReg'] = lin_cv"
   ]
  },
  {
   "cell_type": "code",
   "execution_count": 293,
   "metadata": {},
   "outputs": [
    {
     "data": {
      "text/html": [
       "<div>\n",
       "<style scoped>\n",
       "    .dataframe tbody tr th:only-of-type {\n",
       "        vertical-align: middle;\n",
       "    }\n",
       "\n",
       "    .dataframe tbody tr th {\n",
       "        vertical-align: top;\n",
       "    }\n",
       "\n",
       "    .dataframe thead th {\n",
       "        text-align: right;\n",
       "    }\n",
       "</style>\n",
       "<table border=\"1\" class=\"dataframe\">\n",
       "  <thead>\n",
       "    <tr style=\"text-align: right;\">\n",
       "      <th></th>\n",
       "      <th>Dummy</th>\n",
       "      <th>ElsticNet</th>\n",
       "      <th>RandomForest</th>\n",
       "      <th>LinearReg</th>\n",
       "    </tr>\n",
       "  </thead>\n",
       "  <tbody>\n",
       "    <tr>\n",
       "      <th>0</th>\n",
       "      <td>-0.024326</td>\n",
       "      <td>-0.003379</td>\n",
       "      <td>-0.004101</td>\n",
       "      <td>-0.002892</td>\n",
       "    </tr>\n",
       "    <tr>\n",
       "      <th>1</th>\n",
       "      <td>-0.024591</td>\n",
       "      <td>-0.003366</td>\n",
       "      <td>-0.003917</td>\n",
       "      <td>-0.003040</td>\n",
       "    </tr>\n",
       "    <tr>\n",
       "      <th>2</th>\n",
       "      <td>-0.025826</td>\n",
       "      <td>-0.003497</td>\n",
       "      <td>-0.003651</td>\n",
       "      <td>-0.003020</td>\n",
       "    </tr>\n",
       "    <tr>\n",
       "      <th>3</th>\n",
       "      <td>-0.023849</td>\n",
       "      <td>-0.002878</td>\n",
       "      <td>-0.003601</td>\n",
       "      <td>-0.002526</td>\n",
       "    </tr>\n",
       "    <tr>\n",
       "      <th>4</th>\n",
       "      <td>-0.022861</td>\n",
       "      <td>-0.003048</td>\n",
       "      <td>-0.003593</td>\n",
       "      <td>-0.003013</td>\n",
       "    </tr>\n",
       "  </tbody>\n",
       "</table>\n",
       "</div>"
      ],
      "text/plain": [
       "      Dummy  ElsticNet  RandomForest  LinearReg\n",
       "0 -0.024326  -0.003379     -0.004101  -0.002892\n",
       "1 -0.024591  -0.003366     -0.003917  -0.003040\n",
       "2 -0.025826  -0.003497     -0.003651  -0.003020\n",
       "3 -0.023849  -0.002878     -0.003601  -0.002526\n",
       "4 -0.022861  -0.003048     -0.003593  -0.003013"
      ]
     },
     "execution_count": 293,
     "metadata": {},
     "output_type": "execute_result"
    }
   ],
   "source": [
    "result "
   ]
  },
  {
   "cell_type": "markdown",
   "metadata": {},
   "source": [
    "Rmse de 0.05 (em escala log)"
   ]
  },
  {
   "cell_type": "markdown",
   "metadata": {},
   "source": [
    "# Elastic Net Regressor"
   ]
  },
  {
   "cell_type": "code",
   "execution_count": 17,
   "metadata": {},
   "outputs": [
    {
     "name": "stderr",
     "output_type": "stream",
     "text": [
      "/Users/jgfaraco/miniconda3/lib/python3.12/site-packages/tqdm/auto.py:21: TqdmWarning: IProgress not found. Please update jupyter and ipywidgets. See https://ipywidgets.readthedocs.io/en/stable/user_install.html\n",
      "  from .autonotebook import tqdm as notebook_tqdm\n"
     ]
    }
   ],
   "source": [
    "import optuna"
   ]
  },
  {
   "cell_type": "code",
   "execution_count": 164,
   "metadata": {},
   "outputs": [],
   "source": [
    "from sklearn.linear_model import ElasticNet"
   ]
  },
  {
   "cell_type": "code",
   "execution_count": 306,
   "metadata": {},
   "outputs": [],
   "source": [
    "def objective(trial):\n",
    "    alpha         = trial.suggest_float('alpha',      1e-3, 100.0, log=True)\n",
    "    l1_ratio      = trial.suggest_float('l1_ratio',   0.1,   1.0)\n",
    "    fit_intercept = trial.suggest_categorical('fit_intercept', [False, True])\n",
    "    max_iter      = trial.suggest_int('max_iter',     1000,  5000)\n",
    "\n",
    "    use_scaler  = trial.suggest_categorical('use_scaler', [False, True])\n",
    "    if use_scaler:\n",
    "        with_mean = trial.suggest_categorical('with_mean', [True, False])\n",
    "        with_std  = trial.suggest_categorical('with_std',  [True, False])\n",
    "    else:\n",
    "        with_mean = False\n",
    "        with_std  = False\n",
    "\n",
    "    poly_degree = trial.suggest_int('poly_degree', 1, 5)\n",
    "    num_steps = [('imputer', SimpleImputer(strategy='mean'))]\n",
    "    if use_scaler:\n",
    "        num_steps.append((\n",
    "            'scaler',\n",
    "            StandardScaler(with_mean=with_mean, with_std=with_std)\n",
    "        ))\n",
    "    num_steps.append((\n",
    "        'poly',\n",
    "        PolynomialFeatures(degree=poly_degree, include_bias=False)\n",
    "    ))\n",
    "            \n",
    "    numeric_pipeline = Pipeline(num_steps)\n",
    "\n",
    "    categorical_pipeline = Pipeline([\n",
    "        ('imputer', SimpleImputer(strategy='most_frequent')),\n",
    "        ('onehot',  OneHotEncoder(handle_unknown='ignore',\n",
    "                                  sparse_output=False,\n",
    "                                  drop='first')),\n",
    "    ])\n",
    "\n",
    "    preprocessor = ColumnTransformer(\n",
    "        [\n",
    "            ('num', numeric_pipeline,      num_cols),\n",
    "            ('cat', categorical_pipeline,  cat_cols),\n",
    "        ],\n",
    "        remainder='passthrough'\n",
    "    )\n",
    "\n",
    "    model = Pipeline([\n",
    "        ('preproc', preprocessor),\n",
    "        ('est', ElasticNet(\n",
    "            alpha=alpha,\n",
    "            l1_ratio=l1_ratio,\n",
    "            fit_intercept=fit_intercept,\n",
    "            max_iter=max_iter,\n",
    "            random_state=42\n",
    "        )),\n",
    "    ])\n",
    "\n",
    "    neg_mse = cross_val_score(\n",
    "        model, X_train, y_train,\n",
    "        cv=5,\n",
    "        scoring='neg_mean_squared_error',\n",
    "        n_jobs=-1\n",
    "    ).mean()\n",
    "\n",
    "    return neg_mse\n",
    "\n"
   ]
  },
  {
   "cell_type": "code",
   "execution_count": 307,
   "metadata": {},
   "outputs": [
    {
     "name": "stderr",
     "output_type": "stream",
     "text": [
      "[I 2025-05-03 19:45:15,906] A new study created in memory with name: no-name-2a75ef1c-5e1b-49cf-9750-4417d20d60d0\n"
     ]
    }
   ],
   "source": [
    "study = optuna.create_study(direction='maximize', sampler=optuna.samplers.RandomSampler(seed=42)) "
   ]
  },
  {
   "cell_type": "code",
   "execution_count": 308,
   "metadata": {},
   "outputs": [
    {
     "name": "stderr",
     "output_type": "stream",
     "text": [
      "/Users/jgfaraco/miniconda3/lib/python3.12/site-packages/sklearn/linear_model/_coordinate_descent.py:695: ConvergenceWarning: Objective did not converge. You might want to increase the number of iterations, check the scale of the features or consider increasing regularisation. Duality gap: 6.034e+00, tolerance: 4.013e+00\n",
      "  model = cd_fast.enet_coordinate_descent(\n",
      "/Users/jgfaraco/miniconda3/lib/python3.12/site-packages/sklearn/linear_model/_coordinate_descent.py:695: ConvergenceWarning: Objective did not converge. You might want to increase the number of iterations, check the scale of the features or consider increasing regularisation. Duality gap: 6.228e+00, tolerance: 4.012e+00\n",
      "  model = cd_fast.enet_coordinate_descent(\n",
      "/Users/jgfaraco/miniconda3/lib/python3.12/site-packages/sklearn/linear_model/_coordinate_descent.py:695: ConvergenceWarning: Objective did not converge. You might want to increase the number of iterations, check the scale of the features or consider increasing regularisation. Duality gap: 5.947e+00, tolerance: 4.015e+00\n",
      "  model = cd_fast.enet_coordinate_descent(\n",
      "/Users/jgfaraco/miniconda3/lib/python3.12/site-packages/sklearn/linear_model/_coordinate_descent.py:695: ConvergenceWarning: Objective did not converge. You might want to increase the number of iterations, check the scale of the features or consider increasing regularisation. Duality gap: 6.160e+00, tolerance: 4.019e+00\n",
      "  model = cd_fast.enet_coordinate_descent(\n",
      "/Users/jgfaraco/miniconda3/lib/python3.12/site-packages/sklearn/linear_model/_coordinate_descent.py:695: ConvergenceWarning: Objective did not converge. You might want to increase the number of iterations, check the scale of the features or consider increasing regularisation. Duality gap: 6.253e+00, tolerance: 4.016e+00\n",
      "  model = cd_fast.enet_coordinate_descent(\n",
      "[I 2025-05-03 19:45:17,994] Trial 0 finished with value: -0.008174439361756 and parameters: {'alpha': 0.07459343285726547, 'l1_ratio': 0.9556428757689246, 'fit_intercept': False, 'max_iter': 1624, 'use_scaler': False, 'poly_degree': 5}. Best is trial 0 with value: -0.008174439361756.\n",
      "[I 2025-05-03 19:45:18,131] Trial 1 finished with value: -0.019488022433032954 and parameters: {'alpha': 1.0129197956845737, 'l1_ratio': 0.737265320016441, 'fit_intercept': True, 'max_iter': 4330, 'use_scaler': False, 'poly_degree': 1}. Best is trial 0 with value: -0.008174439361756.\n",
      "/Users/jgfaraco/miniconda3/lib/python3.12/site-packages/sklearn/linear_model/_coordinate_descent.py:695: ConvergenceWarning: Objective did not converge. You might want to increase the number of iterations, check the scale of the features or consider increasing regularisation. Duality gap: 8.371e+00, tolerance: 4.012e+00\n",
      "  model = cd_fast.enet_coordinate_descent(\n",
      "/Users/jgfaraco/miniconda3/lib/python3.12/site-packages/sklearn/linear_model/_coordinate_descent.py:695: ConvergenceWarning: Objective did not converge. You might want to increase the number of iterations, check the scale of the features or consider increasing regularisation. Duality gap: 8.144e+00, tolerance: 4.013e+00\n",
      "  model = cd_fast.enet_coordinate_descent(\n",
      "/Users/jgfaraco/miniconda3/lib/python3.12/site-packages/sklearn/linear_model/_coordinate_descent.py:695: ConvergenceWarning: Objective did not converge. You might want to increase the number of iterations, check the scale of the features or consider increasing regularisation. Duality gap: 8.470e+00, tolerance: 4.016e+00\n",
      "  model = cd_fast.enet_coordinate_descent(\n",
      "/Users/jgfaraco/miniconda3/lib/python3.12/site-packages/sklearn/linear_model/_coordinate_descent.py:695: ConvergenceWarning: Objective did not converge. You might want to increase the number of iterations, check the scale of the features or consider increasing regularisation. Duality gap: 8.152e+00, tolerance: 4.015e+00\n",
      "  model = cd_fast.enet_coordinate_descent(\n",
      "/Users/jgfaraco/miniconda3/lib/python3.12/site-packages/sklearn/linear_model/_coordinate_descent.py:695: ConvergenceWarning: Objective did not converge. You might want to increase the number of iterations, check the scale of the features or consider increasing regularisation. Duality gap: 8.251e+00, tolerance: 4.019e+00\n",
      "  model = cd_fast.enet_coordinate_descent(\n",
      "[I 2025-05-03 19:45:18,528] Trial 2 finished with value: -0.008326502242811062 and parameters: {'alpha': 0.033205591037519584, 'l1_ratio': 0.5722807884690141, 'fit_intercept': False, 'max_iter': 3448, 'use_scaler': True, 'with_mean': False, 'with_std': True, 'poly_degree': 3}. Best is trial 0 with value: -0.008174439361756.\n",
      "[I 2025-05-03 19:45:18,594] Trial 3 finished with value: -3.834418109497618 and parameters: {'alpha': 0.9163741808778781, 'l1_ratio': 0.14180537144799796, 'fit_intercept': False, 'max_iter': 1260, 'use_scaler': True, 'with_mean': True, 'with_std': False, 'poly_degree': 3}. Best is trial 0 with value: -0.008174439361756.\n",
      "/Users/jgfaraco/miniconda3/lib/python3.12/site-packages/sklearn/linear_model/_coordinate_descent.py:695: ConvergenceWarning: Objective did not converge. You might want to increase the number of iterations, check the scale of the features or consider increasing regularisation. Duality gap: 4.232e+00, tolerance: 3.529e-03\n",
      "  model = cd_fast.enet_coordinate_descent(\n",
      "/Users/jgfaraco/miniconda3/lib/python3.12/site-packages/sklearn/linear_model/_coordinate_descent.py:695: ConvergenceWarning: Objective did not converge. You might want to increase the number of iterations, check the scale of the features or consider increasing regularisation. Duality gap: 4.298e+00, tolerance: 3.475e-03\n",
      "  model = cd_fast.enet_coordinate_descent(\n",
      "/Users/jgfaraco/miniconda3/lib/python3.12/site-packages/sklearn/linear_model/_coordinate_descent.py:695: ConvergenceWarning: Objective did not converge. You might want to increase the number of iterations, check the scale of the features or consider increasing regularisation. Duality gap: 4.309e+00, tolerance: 3.519e-03\n",
      "  model = cd_fast.enet_coordinate_descent(\n",
      "/Users/jgfaraco/miniconda3/lib/python3.12/site-packages/sklearn/linear_model/_coordinate_descent.py:695: ConvergenceWarning: Objective did not converge. You might want to increase the number of iterations, check the scale of the features or consider increasing regularisation. Duality gap: 4.375e+00, tolerance: 3.549e-03\n",
      "  model = cd_fast.enet_coordinate_descent(\n",
      "/Users/jgfaraco/miniconda3/lib/python3.12/site-packages/sklearn/linear_model/_coordinate_descent.py:695: ConvergenceWarning: Objective did not converge. You might want to increase the number of iterations, check the scale of the features or consider increasing regularisation. Duality gap: 4.398e+00, tolerance: 3.584e-03\n",
      "  model = cd_fast.enet_coordinate_descent(\n",
      "[I 2025-05-03 19:45:18,865] Trial 4 finished with value: -0.004386162586735751 and parameters: {'alpha': 0.00407559644007287, 'l1_ratio': 0.5456592191001431, 'fit_intercept': True, 'max_iter': 2035, 'use_scaler': False, 'poly_degree': 3}. Best is trial 4 with value: -0.004386162586735751.\n",
      "/Users/jgfaraco/miniconda3/lib/python3.12/site-packages/sklearn/linear_model/_coordinate_descent.py:695: ConvergenceWarning: Objective did not converge. You might want to increase the number of iterations, check the scale of the features or consider increasing regularisation. Duality gap: 6.127e+00, tolerance: 4.013e+00\n",
      "  model = cd_fast.enet_coordinate_descent(\n",
      "/Users/jgfaraco/miniconda3/lib/python3.12/site-packages/sklearn/linear_model/_coordinate_descent.py:695: ConvergenceWarning: Objective did not converge. You might want to increase the number of iterations, check the scale of the features or consider increasing regularisation. Duality gap: 6.367e+00, tolerance: 4.016e+00\n",
      "  model = cd_fast.enet_coordinate_descent(\n",
      "/Users/jgfaraco/miniconda3/lib/python3.12/site-packages/sklearn/linear_model/_coordinate_descent.py:695: ConvergenceWarning: Objective did not converge. You might want to increase the number of iterations, check the scale of the features or consider increasing regularisation. Duality gap: 6.336e+00, tolerance: 4.012e+00\n",
      "  model = cd_fast.enet_coordinate_descent(\n",
      "/Users/jgfaraco/miniconda3/lib/python3.12/site-packages/sklearn/linear_model/_coordinate_descent.py:695: ConvergenceWarning: Objective did not converge. You might want to increase the number of iterations, check the scale of the features or consider increasing regularisation. Duality gap: 6.250e+00, tolerance: 4.019e+00\n",
      "  model = cd_fast.enet_coordinate_descent(\n",
      "/Users/jgfaraco/miniconda3/lib/python3.12/site-packages/sklearn/linear_model/_coordinate_descent.py:695: ConvergenceWarning: Objective did not converge. You might want to increase the number of iterations, check the scale of the features or consider increasing regularisation. Duality gap: 6.063e+00, tolerance: 4.015e+00\n",
      "  model = cd_fast.enet_coordinate_descent(\n",
      "[I 2025-05-03 19:45:20,345] Trial 5 finished with value: -0.008081349725195225 and parameters: {'alpha': 0.5414413211338525, 'l1_ratio': 0.26636900997297436, 'fit_intercept': False, 'max_iter': 4758, 'use_scaler': False, 'poly_degree': 5}. Best is trial 4 with value: -0.004386162586735751.\n",
      "[I 2025-05-03 19:45:20,708] Trial 6 finished with value: -0.0038730211812538487 and parameters: {'alpha': 0.0027698899227562817, 'l1_ratio': 0.27638457617723067, 'fit_intercept': True, 'max_iter': 2555, 'use_scaler': True, 'with_mean': True, 'with_std': True, 'poly_degree': 5}. Best is trial 6 with value: -0.0038730211812538487.\n",
      "/Users/jgfaraco/miniconda3/lib/python3.12/site-packages/sklearn/linear_model/_coordinate_descent.py:695: ConvergenceWarning: Objective did not converge. You might want to increase the number of iterations, check the scale of the features or consider increasing regularisation. Duality gap: 9.360e+00, tolerance: 4.019e+00\n",
      "  model = cd_fast.enet_coordinate_descent(\n",
      "/Users/jgfaraco/miniconda3/lib/python3.12/site-packages/sklearn/linear_model/_coordinate_descent.py:695: ConvergenceWarning: Objective did not converge. You might want to increase the number of iterations, check the scale of the features or consider increasing regularisation. Duality gap: 9.273e+00, tolerance: 4.015e+00\n",
      "  model = cd_fast.enet_coordinate_descent(\n",
      "/Users/jgfaraco/miniconda3/lib/python3.12/site-packages/sklearn/linear_model/_coordinate_descent.py:695: ConvergenceWarning: Objective did not converge. You might want to increase the number of iterations, check the scale of the features or consider increasing regularisation. Duality gap: 9.341e+00, tolerance: 4.012e+00\n",
      "  model = cd_fast.enet_coordinate_descent(\n",
      "/Users/jgfaraco/miniconda3/lib/python3.12/site-packages/sklearn/linear_model/_coordinate_descent.py:695: ConvergenceWarning: Objective did not converge. You might want to increase the number of iterations, check the scale of the features or consider increasing regularisation. Duality gap: 9.323e+00, tolerance: 4.013e+00\n",
      "  model = cd_fast.enet_coordinate_descent(\n",
      "/Users/jgfaraco/miniconda3/lib/python3.12/site-packages/sklearn/linear_model/_coordinate_descent.py:695: ConvergenceWarning: Objective did not converge. You might want to increase the number of iterations, check the scale of the features or consider increasing regularisation. Duality gap: 9.455e+00, tolerance: 4.016e+00\n",
      "  model = cd_fast.enet_coordinate_descent(\n",
      "[I 2025-05-03 19:45:20,951] Trial 7 finished with value: -0.004530247500003052 and parameters: {'alpha': 0.0023591373063477136, 'l1_ratio': 0.9881982429404655, 'fit_intercept': False, 'max_iter': 1022, 'use_scaler': False, 'poly_degree': 4}. Best is trial 6 with value: -0.0038730211812538487.\n",
      "[I 2025-05-03 19:45:21,003] Trial 8 finished with value: -0.01887988533559028 and parameters: {'alpha': 7.183758655813994, 'l1_ratio': 0.16664018656068133, 'fit_intercept': False, 'max_iter': 4453, 'use_scaler': False, 'poly_degree': 1}. Best is trial 6 with value: -0.0038730211812538487.\n",
      "/Users/jgfaraco/miniconda3/lib/python3.12/site-packages/sklearn/linear_model/_coordinate_descent.py:695: ConvergenceWarning: Objective did not converge. You might want to increase the number of iterations, check the scale of the features or consider increasing regularisation. Duality gap: 6.008e+00, tolerance: 4.012e+00\n",
      "  model = cd_fast.enet_coordinate_descent(\n",
      "/Users/jgfaraco/miniconda3/lib/python3.12/site-packages/sklearn/linear_model/_coordinate_descent.py:695: ConvergenceWarning: Objective did not converge. You might want to increase the number of iterations, check the scale of the features or consider increasing regularisation. Duality gap: 5.730e+00, tolerance: 4.015e+00\n",
      "  model = cd_fast.enet_coordinate_descent(\n",
      "/Users/jgfaraco/miniconda3/lib/python3.12/site-packages/sklearn/linear_model/_coordinate_descent.py:695: ConvergenceWarning: Objective did not converge. You might want to increase the number of iterations, check the scale of the features or consider increasing regularisation. Duality gap: 5.926e+00, tolerance: 4.019e+00\n",
      "  model = cd_fast.enet_coordinate_descent(\n",
      "/Users/jgfaraco/miniconda3/lib/python3.12/site-packages/sklearn/linear_model/_coordinate_descent.py:695: ConvergenceWarning: Objective did not converge. You might want to increase the number of iterations, check the scale of the features or consider increasing regularisation. Duality gap: 5.811e+00, tolerance: 4.013e+00\n",
      "  model = cd_fast.enet_coordinate_descent(\n",
      "/Users/jgfaraco/miniconda3/lib/python3.12/site-packages/sklearn/linear_model/_coordinate_descent.py:695: ConvergenceWarning: Objective did not converge. You might want to increase the number of iterations, check the scale of the features or consider increasing regularisation. Duality gap: 6.038e+00, tolerance: 4.016e+00\n",
      "  model = cd_fast.enet_coordinate_descent(\n",
      "[I 2025-05-03 19:45:21,724] Trial 9 finished with value: -0.00812763257427078 and parameters: {'alpha': 0.03588488911386258, 'l1_ratio': 0.39266498982407233, 'fit_intercept': False, 'max_iter': 4549, 'use_scaler': False, 'poly_degree': 4}. Best is trial 6 with value: -0.0038730211812538487.\n",
      "[I 2025-05-03 19:45:21,763] Trial 10 finished with value: -0.018883274497980454 and parameters: {'alpha': 6.366859160799435, 'l1_ratio': 0.6051494778125466, 'fit_intercept': False, 'max_iter': 3091, 'use_scaler': False, 'poly_degree': 1}. Best is trial 6 with value: -0.0038730211812538487.\n",
      "[I 2025-05-03 19:45:21,802] Trial 11 finished with value: -0.0036520245157044607 and parameters: {'alpha': 0.0014359718569878096, 'l1_ratio': 0.6727693701374023, 'fit_intercept': True, 'max_iter': 4631, 'use_scaler': True, 'with_mean': True, 'with_std': False, 'poly_degree': 1}. Best is trial 11 with value: -0.0036520245157044607.\n",
      "[I 2025-05-03 19:45:21,842] Trial 12 finished with value: -0.024290639236509086 and parameters: {'alpha': 44.51314315649207, 'l1_ratio': 0.8273083416079753, 'fit_intercept': True, 'max_iter': 4215, 'use_scaler': True, 'with_mean': False, 'with_std': True, 'poly_degree': 1}. Best is trial 11 with value: -0.0036520245157044607.\n",
      "[I 2025-05-03 19:45:21,893] Trial 13 finished with value: -0.0069031259198678255 and parameters: {'alpha': 0.013793542352772482, 'l1_ratio': 0.4843970097636307, 'fit_intercept': True, 'max_iter': 1027, 'use_scaler': False, 'poly_degree': 2}. Best is trial 11 with value: -0.0036520245157044607.\n",
      "/Users/jgfaraco/miniconda3/lib/python3.12/site-packages/sklearn/linear_model/_coordinate_descent.py:695: ConvergenceWarning: Objective did not converge. You might want to increase the number of iterations, check the scale of the features or consider increasing regularisation. Duality gap: 6.763e+00, tolerance: 4.013e+00\n",
      "  model = cd_fast.enet_coordinate_descent(\n",
      "/Users/jgfaraco/miniconda3/lib/python3.12/site-packages/sklearn/linear_model/_coordinate_descent.py:695: ConvergenceWarning: Objective did not converge. You might want to increase the number of iterations, check the scale of the features or consider increasing regularisation. Duality gap: 6.716e+00, tolerance: 4.012e+00\n",
      "  model = cd_fast.enet_coordinate_descent(\n",
      "/Users/jgfaraco/miniconda3/lib/python3.12/site-packages/sklearn/linear_model/_coordinate_descent.py:695: ConvergenceWarning: Objective did not converge. You might want to increase the number of iterations, check the scale of the features or consider increasing regularisation. Duality gap: 6.715e+00, tolerance: 4.015e+00\n",
      "  model = cd_fast.enet_coordinate_descent(\n",
      "/Users/jgfaraco/miniconda3/lib/python3.12/site-packages/sklearn/linear_model/_coordinate_descent.py:695: ConvergenceWarning: Objective did not converge. You might want to increase the number of iterations, check the scale of the features or consider increasing regularisation. Duality gap: 6.842e+00, tolerance: 4.016e+00\n",
      "  model = cd_fast.enet_coordinate_descent(\n",
      "/Users/jgfaraco/miniconda3/lib/python3.12/site-packages/sklearn/linear_model/_coordinate_descent.py:695: ConvergenceWarning: Objective did not converge. You might want to increase the number of iterations, check the scale of the features or consider increasing regularisation. Duality gap: 6.737e+00, tolerance: 4.019e+00\n",
      "  model = cd_fast.enet_coordinate_descent(\n",
      "[I 2025-05-03 19:45:22,672] Trial 14 finished with value: -0.0040151544733300765 and parameters: {'alpha': 0.003974905761171867, 'l1_ratio': 0.4038536542632652, 'fit_intercept': False, 'max_iter': 3075, 'use_scaler': False, 'poly_degree': 5}. Best is trial 11 with value: -0.0036520245157044607.\n",
      "[I 2025-05-03 19:45:22,726] Trial 15 finished with value: -11.920643550673033 and parameters: {'alpha': 64.89877132084352, 'l1_ratio': 0.32660406624282773, 'fit_intercept': False, 'max_iter': 2139, 'use_scaler': True, 'with_mean': True, 'with_std': False, 'poly_degree': 2}. Best is trial 11 with value: -0.0036520245157044607.\n",
      "/Users/jgfaraco/miniconda3/lib/python3.12/site-packages/sklearn/linear_model/_coordinate_descent.py:695: ConvergenceWarning: Objective did not converge. You might want to increase the number of iterations, check the scale of the features or consider increasing regularisation. Duality gap: 6.418e+00, tolerance: 4.015e+00\n",
      "  model = cd_fast.enet_coordinate_descent(\n",
      "/Users/jgfaraco/miniconda3/lib/python3.12/site-packages/sklearn/linear_model/_coordinate_descent.py:695: ConvergenceWarning: Objective did not converge. You might want to increase the number of iterations, check the scale of the features or consider increasing regularisation. Duality gap: 6.457e+00, tolerance: 4.019e+00\n",
      "  model = cd_fast.enet_coordinate_descent(\n",
      "/Users/jgfaraco/miniconda3/lib/python3.12/site-packages/sklearn/linear_model/_coordinate_descent.py:695: ConvergenceWarning: Objective did not converge. You might want to increase the number of iterations, check the scale of the features or consider increasing regularisation. Duality gap: 6.518e+00, tolerance: 4.013e+00\n",
      "  model = cd_fast.enet_coordinate_descent(\n",
      "/Users/jgfaraco/miniconda3/lib/python3.12/site-packages/sklearn/linear_model/_coordinate_descent.py:695: ConvergenceWarning: Objective did not converge. You might want to increase the number of iterations, check the scale of the features or consider increasing regularisation. Duality gap: 6.619e+00, tolerance: 4.016e+00\n",
      "  model = cd_fast.enet_coordinate_descent(\n",
      "/Users/jgfaraco/miniconda3/lib/python3.12/site-packages/sklearn/linear_model/_coordinate_descent.py:695: ConvergenceWarning: Objective did not converge. You might want to increase the number of iterations, check the scale of the features or consider increasing regularisation. Duality gap: 6.498e+00, tolerance: 4.012e+00\n",
      "  model = cd_fast.enet_coordinate_descent(\n",
      "[I 2025-05-03 19:45:23,450] Trial 16 finished with value: -0.0047891037730046675 and parameters: {'alpha': 0.005302422876684351, 'l1_ratio': 0.5405074842498068, 'fit_intercept': False, 'max_iter': 3689, 'use_scaler': False, 'poly_degree': 4}. Best is trial 11 with value: -0.0036520245157044607.\n",
      "[I 2025-05-03 19:45:23,514] Trial 17 finished with value: -0.018879515421546162 and parameters: {'alpha': 0.0690105777981331, 'l1_ratio': 0.6690752475342215, 'fit_intercept': False, 'max_iter': 1361, 'use_scaler': False, 'poly_degree': 1}. Best is trial 11 with value: -0.0036520245157044607.\n",
      "/Users/jgfaraco/miniconda3/lib/python3.12/site-packages/sklearn/linear_model/_coordinate_descent.py:695: ConvergenceWarning: Objective did not converge. You might want to increase the number of iterations, check the scale of the features or consider increasing regularisation. Duality gap: 4.421e+00, tolerance: 4.015e+00\n",
      "  model = cd_fast.enet_coordinate_descent(\n",
      "/Users/jgfaraco/miniconda3/lib/python3.12/site-packages/sklearn/linear_model/_coordinate_descent.py:695: ConvergenceWarning: Objective did not converge. You might want to increase the number of iterations, check the scale of the features or consider increasing regularisation. Duality gap: 4.441e+00, tolerance: 4.012e+00\n",
      "  model = cd_fast.enet_coordinate_descent(\n",
      "/Users/jgfaraco/miniconda3/lib/python3.12/site-packages/sklearn/linear_model/_coordinate_descent.py:695: ConvergenceWarning: Objective did not converge. You might want to increase the number of iterations, check the scale of the features or consider increasing regularisation. Duality gap: 4.487e+00, tolerance: 4.016e+00\n",
      "  model = cd_fast.enet_coordinate_descent(\n",
      "/Users/jgfaraco/miniconda3/lib/python3.12/site-packages/sklearn/linear_model/_coordinate_descent.py:695: ConvergenceWarning: Objective did not converge. You might want to increase the number of iterations, check the scale of the features or consider increasing regularisation. Duality gap: 4.406e+00, tolerance: 4.013e+00\n",
      "  model = cd_fast.enet_coordinate_descent(\n",
      "/Users/jgfaraco/miniconda3/lib/python3.12/site-packages/sklearn/linear_model/_coordinate_descent.py:695: ConvergenceWarning: Objective did not converge. You might want to increase the number of iterations, check the scale of the features or consider increasing regularisation. Duality gap: 4.529e+00, tolerance: 4.019e+00\n",
      "  model = cd_fast.enet_coordinate_descent(\n",
      "[I 2025-05-03 19:45:23,742] Trial 18 finished with value: -0.0037215309281044585 and parameters: {'alpha': 0.0015991003111214827, 'l1_ratio': 0.6318036488694176, 'fit_intercept': False, 'max_iter': 3048, 'use_scaler': True, 'with_mean': False, 'with_std': False, 'poly_degree': 1}. Best is trial 11 with value: -0.0036520245157044607.\n",
      "/Users/jgfaraco/miniconda3/lib/python3.12/site-packages/sklearn/linear_model/_coordinate_descent.py:695: ConvergenceWarning: Objective did not converge. You might want to increase the number of iterations, check the scale of the features or consider increasing regularisation. Duality gap: 8.577e+00, tolerance: 4.013e+00\n",
      "  model = cd_fast.enet_coordinate_descent(\n",
      "/Users/jgfaraco/miniconda3/lib/python3.12/site-packages/sklearn/linear_model/_coordinate_descent.py:695: ConvergenceWarning: Objective did not converge. You might want to increase the number of iterations, check the scale of the features or consider increasing regularisation. Duality gap: 9.376e+00, tolerance: 4.016e+00\n",
      "  model = cd_fast.enet_coordinate_descent(\n",
      "[I 2025-05-03 19:45:24,288] Trial 19 finished with value: -0.5368030656411564 and parameters: {'alpha': 0.050737814374886406, 'l1_ratio': 0.20212616911653017, 'fit_intercept': False, 'max_iter': 2032, 'use_scaler': True, 'with_mean': True, 'with_std': True, 'poly_degree': 5}. Best is trial 11 with value: -0.0036520245157044607.\n",
      "/Users/jgfaraco/miniconda3/lib/python3.12/site-packages/sklearn/linear_model/_coordinate_descent.py:695: ConvergenceWarning: Objective did not converge. You might want to increase the number of iterations, check the scale of the features or consider increasing regularisation. Duality gap: 5.548e+00, tolerance: 3.529e-03\n",
      "  model = cd_fast.enet_coordinate_descent(\n",
      "/Users/jgfaraco/miniconda3/lib/python3.12/site-packages/sklearn/linear_model/_coordinate_descent.py:695: ConvergenceWarning: Objective did not converge. You might want to increase the number of iterations, check the scale of the features or consider increasing regularisation. Duality gap: 5.633e+00, tolerance: 3.519e-03\n",
      "  model = cd_fast.enet_coordinate_descent(\n",
      "/Users/jgfaraco/miniconda3/lib/python3.12/site-packages/sklearn/linear_model/_coordinate_descent.py:695: ConvergenceWarning: Objective did not converge. You might want to increase the number of iterations, check the scale of the features or consider increasing regularisation. Duality gap: 5.857e+00, tolerance: 3.584e-03\n",
      "  model = cd_fast.enet_coordinate_descent(\n",
      "/Users/jgfaraco/miniconda3/lib/python3.12/site-packages/sklearn/linear_model/_coordinate_descent.py:695: ConvergenceWarning: Objective did not converge. You might want to increase the number of iterations, check the scale of the features or consider increasing regularisation. Duality gap: 5.736e+00, tolerance: 3.549e-03\n",
      "  model = cd_fast.enet_coordinate_descent(\n",
      "/Users/jgfaraco/miniconda3/lib/python3.12/site-packages/sklearn/linear_model/_coordinate_descent.py:695: ConvergenceWarning: Objective did not converge. You might want to increase the number of iterations, check the scale of the features or consider increasing regularisation. Duality gap: 5.819e+00, tolerance: 3.475e-03\n",
      "  model = cd_fast.enet_coordinate_descent(\n",
      "[I 2025-05-03 19:45:24,764] Trial 20 finished with value: -0.007956341559542482 and parameters: {'alpha': 31.775345821188303, 'l1_ratio': 0.6697913115459412, 'fit_intercept': True, 'max_iter': 3904, 'use_scaler': False, 'poly_degree': 4}. Best is trial 11 with value: -0.0036520245157044607.\n",
      "[I 2025-05-03 19:45:24,829] Trial 21 finished with value: -0.009914880618416538 and parameters: {'alpha': 1.6224010950061378, 'l1_ratio': 0.17572596849554395, 'fit_intercept': True, 'max_iter': 3426, 'use_scaler': True, 'with_mean': True, 'with_std': False, 'poly_degree': 4}. Best is trial 11 with value: -0.0036520245157044607.\n",
      "/Users/jgfaraco/miniconda3/lib/python3.12/site-packages/sklearn/linear_model/_coordinate_descent.py:695: ConvergenceWarning: Objective did not converge. You might want to increase the number of iterations, check the scale of the features or consider increasing regularisation. Duality gap: 7.254e+00, tolerance: 4.015e+00\n",
      "  model = cd_fast.enet_coordinate_descent(\n",
      "/Users/jgfaraco/miniconda3/lib/python3.12/site-packages/sklearn/linear_model/_coordinate_descent.py:695: ConvergenceWarning: Objective did not converge. You might want to increase the number of iterations, check the scale of the features or consider increasing regularisation. Duality gap: 7.520e+00, tolerance: 4.012e+00\n",
      "  model = cd_fast.enet_coordinate_descent(\n",
      "/Users/jgfaraco/miniconda3/lib/python3.12/site-packages/sklearn/linear_model/_coordinate_descent.py:695: ConvergenceWarning: Objective did not converge. You might want to increase the number of iterations, check the scale of the features or consider increasing regularisation. Duality gap: 7.304e+00, tolerance: 4.013e+00\n",
      "  model = cd_fast.enet_coordinate_descent(\n",
      "/Users/jgfaraco/miniconda3/lib/python3.12/site-packages/sklearn/linear_model/_coordinate_descent.py:695: ConvergenceWarning: Objective did not converge. You might want to increase the number of iterations, check the scale of the features or consider increasing regularisation. Duality gap: 7.567e+00, tolerance: 4.016e+00\n",
      "  model = cd_fast.enet_coordinate_descent(\n",
      "/Users/jgfaraco/miniconda3/lib/python3.12/site-packages/sklearn/linear_model/_coordinate_descent.py:695: ConvergenceWarning: Objective did not converge. You might want to increase the number of iterations, check the scale of the features or consider increasing regularisation. Duality gap: 7.429e+00, tolerance: 4.019e+00\n",
      "  model = cd_fast.enet_coordinate_descent(\n",
      "[I 2025-05-03 19:45:25,340] Trial 22 finished with value: -0.008104296404162334 and parameters: {'alpha': 1.8188894230467822, 'l1_ratio': 0.3018423785145038, 'fit_intercept': False, 'max_iter': 2301, 'use_scaler': False, 'poly_degree': 5}. Best is trial 11 with value: -0.0036520245157044607.\n",
      "/Users/jgfaraco/miniconda3/lib/python3.12/site-packages/sklearn/linear_model/_coordinate_descent.py:695: ConvergenceWarning: Objective did not converge. You might want to increase the number of iterations, check the scale of the features or consider increasing regularisation. Duality gap: 4.804e+00, tolerance: 3.475e-03\n",
      "  model = cd_fast.enet_coordinate_descent(\n",
      "/Users/jgfaraco/miniconda3/lib/python3.12/site-packages/sklearn/linear_model/_coordinate_descent.py:695: ConvergenceWarning: Objective did not converge. You might want to increase the number of iterations, check the scale of the features or consider increasing regularisation. Duality gap: 4.492e+00, tolerance: 3.519e-03\n",
      "  model = cd_fast.enet_coordinate_descent(\n",
      "/Users/jgfaraco/miniconda3/lib/python3.12/site-packages/sklearn/linear_model/_coordinate_descent.py:695: ConvergenceWarning: Objective did not converge. You might want to increase the number of iterations, check the scale of the features or consider increasing regularisation. Duality gap: 4.658e+00, tolerance: 3.529e-03\n",
      "  model = cd_fast.enet_coordinate_descent(\n",
      "/Users/jgfaraco/miniconda3/lib/python3.12/site-packages/sklearn/linear_model/_coordinate_descent.py:695: ConvergenceWarning: Objective did not converge. You might want to increase the number of iterations, check the scale of the features or consider increasing regularisation. Duality gap: 5.004e+00, tolerance: 3.584e-03\n",
      "  model = cd_fast.enet_coordinate_descent(\n",
      "/Users/jgfaraco/miniconda3/lib/python3.12/site-packages/sklearn/linear_model/_coordinate_descent.py:695: ConvergenceWarning: Objective did not converge. You might want to increase the number of iterations, check the scale of the features or consider increasing regularisation. Duality gap: 4.552e+00, tolerance: 3.549e-03\n",
      "  model = cd_fast.enet_coordinate_descent(\n",
      "[I 2025-05-03 19:45:25,607] Trial 23 finished with value: -0.008188602525812853 and parameters: {'alpha': 1.9411739809629633, 'l1_ratio': 0.6114777430019245, 'fit_intercept': True, 'max_iter': 2061, 'use_scaler': True, 'with_mean': False, 'with_std': False, 'poly_degree': 3}. Best is trial 11 with value: -0.0036520245157044607.\n",
      "[I 2025-05-03 19:45:25,647] Trial 24 finished with value: -0.00825547930563265 and parameters: {'alpha': 0.7665128204660199, 'l1_ratio': 0.5432659244369775, 'fit_intercept': True, 'max_iter': 2123, 'use_scaler': True, 'with_mean': False, 'with_std': True, 'poly_degree': 2}. Best is trial 11 with value: -0.0036520245157044607.\n",
      "[I 2025-05-03 19:45:25,759] Trial 25 finished with value: -0.0036423800083562026 and parameters: {'alpha': 0.001194766625732598, 'l1_ratio': 0.9354867063289529, 'fit_intercept': True, 'max_iter': 4855, 'use_scaler': False, 'poly_degree': 2}. Best is trial 25 with value: -0.0036423800083562026.\n",
      "[I 2025-05-03 19:45:25,800] Trial 26 finished with value: -0.024290639236509086 and parameters: {'alpha': 18.017036467538944, 'l1_ratio': 0.38522980464064993, 'fit_intercept': True, 'max_iter': 4745, 'use_scaler': False, 'poly_degree': 1}. Best is trial 25 with value: -0.0036423800083562026.\n",
      "/Users/jgfaraco/miniconda3/lib/python3.12/site-packages/sklearn/linear_model/_coordinate_descent.py:695: ConvergenceWarning: Objective did not converge. You might want to increase the number of iterations, check the scale of the features or consider increasing regularisation. Duality gap: 5.821e+00, tolerance: 3.584e-03\n",
      "  model = cd_fast.enet_coordinate_descent(\n",
      "/Users/jgfaraco/miniconda3/lib/python3.12/site-packages/sklearn/linear_model/_coordinate_descent.py:695: ConvergenceWarning: Objective did not converge. You might want to increase the number of iterations, check the scale of the features or consider increasing regularisation. Duality gap: 5.702e+00, tolerance: 3.549e-03\n",
      "  model = cd_fast.enet_coordinate_descent(\n",
      "/Users/jgfaraco/miniconda3/lib/python3.12/site-packages/sklearn/linear_model/_coordinate_descent.py:695: ConvergenceWarning: Objective did not converge. You might want to increase the number of iterations, check the scale of the features or consider increasing regularisation. Duality gap: 5.778e+00, tolerance: 3.475e-03\n",
      "  model = cd_fast.enet_coordinate_descent(\n",
      "/Users/jgfaraco/miniconda3/lib/python3.12/site-packages/sklearn/linear_model/_coordinate_descent.py:695: ConvergenceWarning: Objective did not converge. You might want to increase the number of iterations, check the scale of the features or consider increasing regularisation. Duality gap: 5.592e+00, tolerance: 3.519e-03\n",
      "  model = cd_fast.enet_coordinate_descent(\n",
      "/Users/jgfaraco/miniconda3/lib/python3.12/site-packages/sklearn/linear_model/_coordinate_descent.py:695: ConvergenceWarning: Objective did not converge. You might want to increase the number of iterations, check the scale of the features or consider increasing regularisation. Duality gap: 5.517e+00, tolerance: 3.529e-03\n",
      "  model = cd_fast.enet_coordinate_descent(\n",
      "[I 2025-05-03 19:45:26,318] Trial 27 finished with value: -0.007935450252578254 and parameters: {'alpha': 1.1886011154695664, 'l1_ratio': 0.9910484650938369, 'fit_intercept': True, 'max_iter': 4510, 'use_scaler': False, 'poly_degree': 4}. Best is trial 25 with value: -0.0036423800083562026.\n",
      "/Users/jgfaraco/miniconda3/lib/python3.12/site-packages/sklearn/linear_model/_coordinate_descent.py:695: ConvergenceWarning: Objective did not converge. You might want to increase the number of iterations, check the scale of the features or consider increasing regularisation. Duality gap: 5.824e+00, tolerance: 3.475e-03\n",
      "  model = cd_fast.enet_coordinate_descent(\n",
      "/Users/jgfaraco/miniconda3/lib/python3.12/site-packages/sklearn/linear_model/_coordinate_descent.py:695: ConvergenceWarning: Objective did not converge. You might want to increase the number of iterations, check the scale of the features or consider increasing regularisation. Duality gap: 5.746e+00, tolerance: 3.549e-03\n",
      "  model = cd_fast.enet_coordinate_descent(\n",
      "/Users/jgfaraco/miniconda3/lib/python3.12/site-packages/sklearn/linear_model/_coordinate_descent.py:695: ConvergenceWarning: Objective did not converge. You might want to increase the number of iterations, check the scale of the features or consider increasing regularisation. Duality gap: 5.647e+00, tolerance: 3.519e-03\n",
      "  model = cd_fast.enet_coordinate_descent(\n",
      "/Users/jgfaraco/miniconda3/lib/python3.12/site-packages/sklearn/linear_model/_coordinate_descent.py:695: ConvergenceWarning: Objective did not converge. You might want to increase the number of iterations, check the scale of the features or consider increasing regularisation. Duality gap: 5.873e+00, tolerance: 3.584e-03\n",
      "  model = cd_fast.enet_coordinate_descent(\n",
      "/Users/jgfaraco/miniconda3/lib/python3.12/site-packages/sklearn/linear_model/_coordinate_descent.py:695: ConvergenceWarning: Objective did not converge. You might want to increase the number of iterations, check the scale of the features or consider increasing regularisation. Duality gap: 5.560e+00, tolerance: 3.529e-03\n",
      "  model = cd_fast.enet_coordinate_descent(\n",
      "[I 2025-05-03 19:45:26,683] Trial 28 finished with value: -0.0079554931517129 and parameters: {'alpha': 0.06272717891973825, 'l1_ratio': 0.36423265983804404, 'fit_intercept': True, 'max_iter': 4469, 'use_scaler': False, 'poly_degree': 3}. Best is trial 25 with value: -0.0036423800083562026.\n",
      "[I 2025-05-03 19:45:26,758] Trial 29 finished with value: -0.008190965149451715 and parameters: {'alpha': 9.805638874011494, 'l1_ratio': 0.6849675376999886, 'fit_intercept': True, 'max_iter': 4560, 'use_scaler': True, 'with_mean': False, 'with_std': False, 'poly_degree': 3}. Best is trial 25 with value: -0.0036423800083562026.\n",
      "/Users/jgfaraco/miniconda3/lib/python3.12/site-packages/sklearn/linear_model/_coordinate_descent.py:695: ConvergenceWarning: Objective did not converge. You might want to increase the number of iterations, check the scale of the features or consider increasing regularisation. Duality gap: 5.561e+00, tolerance: 3.529e-03\n",
      "  model = cd_fast.enet_coordinate_descent(\n",
      "/Users/jgfaraco/miniconda3/lib/python3.12/site-packages/sklearn/linear_model/_coordinate_descent.py:695: ConvergenceWarning: Objective did not converge. You might want to increase the number of iterations, check the scale of the features or consider increasing regularisation. Duality gap: 5.824e+00, tolerance: 3.475e-03\n",
      "  model = cd_fast.enet_coordinate_descent(\n",
      "/Users/jgfaraco/miniconda3/lib/python3.12/site-packages/sklearn/linear_model/_coordinate_descent.py:695: ConvergenceWarning: Objective did not converge. You might want to increase the number of iterations, check the scale of the features or consider increasing regularisation. Duality gap: 5.645e+00, tolerance: 3.519e-03\n",
      "  model = cd_fast.enet_coordinate_descent(\n",
      "/Users/jgfaraco/miniconda3/lib/python3.12/site-packages/sklearn/linear_model/_coordinate_descent.py:695: ConvergenceWarning: Objective did not converge. You might want to increase the number of iterations, check the scale of the features or consider increasing regularisation. Duality gap: 5.744e+00, tolerance: 3.549e-03\n",
      "  model = cd_fast.enet_coordinate_descent(\n",
      "/Users/jgfaraco/miniconda3/lib/python3.12/site-packages/sklearn/linear_model/_coordinate_descent.py:695: ConvergenceWarning: Objective did not converge. You might want to increase the number of iterations, check the scale of the features or consider increasing regularisation. Duality gap: 5.875e+00, tolerance: 3.584e-03\n",
      "  model = cd_fast.enet_coordinate_descent(\n",
      "[I 2025-05-03 19:45:27,126] Trial 30 finished with value: -0.007956772792106295 and parameters: {'alpha': 0.02708359186801681, 'l1_ratio': 0.6317499345121097, 'fit_intercept': True, 'max_iter': 4291, 'use_scaler': False, 'poly_degree': 3}. Best is trial 25 with value: -0.0036423800083562026.\n",
      "/Users/jgfaraco/miniconda3/lib/python3.12/site-packages/sklearn/linear_model/_coordinate_descent.py:695: ConvergenceWarning: Objective did not converge. You might want to increase the number of iterations, check the scale of the features or consider increasing regularisation. Duality gap: 4.161e+00, tolerance: 4.013e+00\n",
      "  model = cd_fast.enet_coordinate_descent(\n",
      "/Users/jgfaraco/miniconda3/lib/python3.12/site-packages/sklearn/linear_model/_coordinate_descent.py:695: ConvergenceWarning: Objective did not converge. You might want to increase the number of iterations, check the scale of the features or consider increasing regularisation. Duality gap: 4.266e+00, tolerance: 4.015e+00\n",
      "  model = cd_fast.enet_coordinate_descent(\n",
      "/Users/jgfaraco/miniconda3/lib/python3.12/site-packages/sklearn/linear_model/_coordinate_descent.py:695: ConvergenceWarning: Objective did not converge. You might want to increase the number of iterations, check the scale of the features or consider increasing regularisation. Duality gap: 4.175e+00, tolerance: 4.019e+00\n",
      "  model = cd_fast.enet_coordinate_descent(\n",
      "/Users/jgfaraco/miniconda3/lib/python3.12/site-packages/sklearn/linear_model/_coordinate_descent.py:695: ConvergenceWarning: Objective did not converge. You might want to increase the number of iterations, check the scale of the features or consider increasing regularisation. Duality gap: 4.240e+00, tolerance: 4.012e+00\n",
      "  model = cd_fast.enet_coordinate_descent(\n",
      "/Users/jgfaraco/miniconda3/lib/python3.12/site-packages/sklearn/linear_model/_coordinate_descent.py:695: ConvergenceWarning: Objective did not converge. You might want to increase the number of iterations, check the scale of the features or consider increasing regularisation. Duality gap: 4.083e+00, tolerance: 4.016e+00\n",
      "  model = cd_fast.enet_coordinate_descent(\n",
      "[I 2025-05-03 19:45:27,271] Trial 31 finished with value: -0.008737336953697697 and parameters: {'alpha': 7.07893240689976, 'l1_ratio': 0.29423892474715885, 'fit_intercept': False, 'max_iter': 1206, 'use_scaler': True, 'with_mean': False, 'with_std': True, 'poly_degree': 2}. Best is trial 25 with value: -0.0036423800083562026.\n",
      "/Users/jgfaraco/miniconda3/lib/python3.12/site-packages/sklearn/linear_model/_coordinate_descent.py:695: ConvergenceWarning: Objective did not converge. You might want to increase the number of iterations, check the scale of the features or consider increasing regularisation. Duality gap: 1.419e+01, tolerance: 4.013e+00\n",
      "  model = cd_fast.enet_coordinate_descent(\n",
      "/Users/jgfaraco/miniconda3/lib/python3.12/site-packages/sklearn/linear_model/_coordinate_descent.py:695: ConvergenceWarning: Objective did not converge. You might want to increase the number of iterations, check the scale of the features or consider increasing regularisation. Duality gap: 1.440e+01, tolerance: 4.012e+00\n",
      "  model = cd_fast.enet_coordinate_descent(\n",
      "/Users/jgfaraco/miniconda3/lib/python3.12/site-packages/sklearn/linear_model/_coordinate_descent.py:695: ConvergenceWarning: Objective did not converge. You might want to increase the number of iterations, check the scale of the features or consider increasing regularisation. Duality gap: 1.418e+01, tolerance: 4.015e+00\n",
      "  model = cd_fast.enet_coordinate_descent(\n",
      "/Users/jgfaraco/miniconda3/lib/python3.12/site-packages/sklearn/linear_model/_coordinate_descent.py:695: ConvergenceWarning: Objective did not converge. You might want to increase the number of iterations, check the scale of the features or consider increasing regularisation. Duality gap: 1.453e+01, tolerance: 4.016e+00\n",
      "  model = cd_fast.enet_coordinate_descent(\n",
      "/Users/jgfaraco/miniconda3/lib/python3.12/site-packages/sklearn/linear_model/_coordinate_descent.py:695: ConvergenceWarning: Objective did not converge. You might want to increase the number of iterations, check the scale of the features or consider increasing regularisation. Duality gap: 1.429e+01, tolerance: 4.019e+00\n",
      "  model = cd_fast.enet_coordinate_descent(\n",
      "[I 2025-05-03 19:45:27,445] Trial 32 finished with value: -0.008239189039503478 and parameters: {'alpha': 9.460867797081413, 'l1_ratio': 0.34374902613586683, 'fit_intercept': False, 'max_iter': 1101, 'use_scaler': False, 'poly_degree': 4}. Best is trial 25 with value: -0.0036423800083562026.\n",
      "[I 2025-05-03 19:45:27,513] Trial 33 finished with value: -0.00823461334668887 and parameters: {'alpha': 0.11085740853699103, 'l1_ratio': 0.2559648880637612, 'fit_intercept': True, 'max_iter': 3197, 'use_scaler': False, 'poly_degree': 2}. Best is trial 25 with value: -0.0036423800083562026.\n",
      "[I 2025-05-03 19:45:27,594] Trial 34 finished with value: -0.024290639236509086 and parameters: {'alpha': 59.47389794988398, 'l1_ratio': 0.7641072250261917, 'fit_intercept': True, 'max_iter': 2678, 'use_scaler': True, 'with_mean': True, 'with_std': True, 'poly_degree': 1}. Best is trial 25 with value: -0.0036423800083562026.\n",
      "/Users/jgfaraco/miniconda3/lib/python3.12/site-packages/sklearn/linear_model/_coordinate_descent.py:695: ConvergenceWarning: Objective did not converge. You might want to increase the number of iterations, check the scale of the features or consider increasing regularisation. Duality gap: 9.059e+00, tolerance: 4.013e+00\n",
      "  model = cd_fast.enet_coordinate_descent(\n",
      "/Users/jgfaraco/miniconda3/lib/python3.12/site-packages/sklearn/linear_model/_coordinate_descent.py:695: ConvergenceWarning: Objective did not converge. You might want to increase the number of iterations, check the scale of the features or consider increasing regularisation. Duality gap: 9.279e+00, tolerance: 4.012e+00\n",
      "  model = cd_fast.enet_coordinate_descent(\n",
      "/Users/jgfaraco/miniconda3/lib/python3.12/site-packages/sklearn/linear_model/_coordinate_descent.py:695: ConvergenceWarning: Objective did not converge. You might want to increase the number of iterations, check the scale of the features or consider increasing regularisation. Duality gap: 9.183e+00, tolerance: 4.019e+00\n",
      "  model = cd_fast.enet_coordinate_descent(\n",
      "/Users/jgfaraco/miniconda3/lib/python3.12/site-packages/sklearn/linear_model/_coordinate_descent.py:695: ConvergenceWarning: Objective did not converge. You might want to increase the number of iterations, check the scale of the features or consider increasing regularisation. Duality gap: 9.533e+00, tolerance: 4.016e+00\n",
      "  model = cd_fast.enet_coordinate_descent(\n",
      "/Users/jgfaraco/miniconda3/lib/python3.12/site-packages/sklearn/linear_model/_coordinate_descent.py:695: ConvergenceWarning: Objective did not converge. You might want to increase the number of iterations, check the scale of the features or consider increasing regularisation. Duality gap: 9.010e+00, tolerance: 4.015e+00\n",
      "  model = cd_fast.enet_coordinate_descent(\n",
      "[I 2025-05-03 19:45:27,931] Trial 35 finished with value: -0.008777948209563041 and parameters: {'alpha': 18.936639872354522, 'l1_ratio': 0.7332920734420213, 'fit_intercept': False, 'max_iter': 2966, 'use_scaler': False, 'poly_degree': 3}. Best is trial 25 with value: -0.0036423800083562026.\n",
      "/Users/jgfaraco/miniconda3/lib/python3.12/site-packages/sklearn/linear_model/_coordinate_descent.py:695: ConvergenceWarning: Objective did not converge. You might want to increase the number of iterations, check the scale of the features or consider increasing regularisation. Duality gap: 5.868e+00, tolerance: 4.015e+00\n",
      "  model = cd_fast.enet_coordinate_descent(\n",
      "/Users/jgfaraco/miniconda3/lib/python3.12/site-packages/sklearn/linear_model/_coordinate_descent.py:695: ConvergenceWarning: Objective did not converge. You might want to increase the number of iterations, check the scale of the features or consider increasing regularisation. Duality gap: 6.071e+00, tolerance: 4.019e+00\n",
      "  model = cd_fast.enet_coordinate_descent(\n",
      "/Users/jgfaraco/miniconda3/lib/python3.12/site-packages/sklearn/linear_model/_coordinate_descent.py:695: ConvergenceWarning: Objective did not converge. You might want to increase the number of iterations, check the scale of the features or consider increasing regularisation. Duality gap: 5.946e+00, tolerance: 4.013e+00\n",
      "  model = cd_fast.enet_coordinate_descent(\n",
      "/Users/jgfaraco/miniconda3/lib/python3.12/site-packages/sklearn/linear_model/_coordinate_descent.py:695: ConvergenceWarning: Objective did not converge. You might want to increase the number of iterations, check the scale of the features or consider increasing regularisation. Duality gap: 6.172e+00, tolerance: 4.016e+00\n",
      "  model = cd_fast.enet_coordinate_descent(\n",
      "/Users/jgfaraco/miniconda3/lib/python3.12/site-packages/sklearn/linear_model/_coordinate_descent.py:695: ConvergenceWarning: Objective did not converge. You might want to increase the number of iterations, check the scale of the features or consider increasing regularisation. Duality gap: 6.147e+00, tolerance: 4.012e+00\n",
      "  model = cd_fast.enet_coordinate_descent(\n",
      "[I 2025-05-03 19:45:28,567] Trial 36 finished with value: -0.008109474965559315 and parameters: {'alpha': 0.0982932448006971, 'l1_ratio': 0.6542650882469948, 'fit_intercept': False, 'max_iter': 2498, 'use_scaler': False, 'poly_degree': 5}. Best is trial 25 with value: -0.0036423800083562026.\n",
      "[I 2025-05-03 19:45:28,609] Trial 37 finished with value: -0.024290639236509086 and parameters: {'alpha': 1.965477869022202, 'l1_ratio': 0.24664098437328674, 'fit_intercept': True, 'max_iter': 1106, 'use_scaler': True, 'with_mean': True, 'with_std': True, 'poly_degree': 3}. Best is trial 25 with value: -0.0036423800083562026.\n",
      "[I 2025-05-03 19:45:28,708] Trial 38 finished with value: -0.017853969764532306 and parameters: {'alpha': 50.971104430052584, 'l1_ratio': 0.44749237402069686, 'fit_intercept': False, 'max_iter': 1783, 'use_scaler': True, 'with_mean': False, 'with_std': True, 'poly_degree': 2}. Best is trial 25 with value: -0.0036423800083562026.\n",
      "/Users/jgfaraco/miniconda3/lib/python3.12/site-packages/sklearn/linear_model/_coordinate_descent.py:695: ConvergenceWarning: Objective did not converge. You might want to increase the number of iterations, check the scale of the features or consider increasing regularisation. Duality gap: 1.119e+01, tolerance: 4.012e+00\n",
      "  model = cd_fast.enet_coordinate_descent(\n",
      "/Users/jgfaraco/miniconda3/lib/python3.12/site-packages/sklearn/linear_model/_coordinate_descent.py:695: ConvergenceWarning: Objective did not converge. You might want to increase the number of iterations, check the scale of the features or consider increasing regularisation. Duality gap: 1.095e+01, tolerance: 4.013e+00\n",
      "  model = cd_fast.enet_coordinate_descent(\n",
      "/Users/jgfaraco/miniconda3/lib/python3.12/site-packages/sklearn/linear_model/_coordinate_descent.py:695: ConvergenceWarning: Objective did not converge. You might want to increase the number of iterations, check the scale of the features or consider increasing regularisation. Duality gap: 1.096e+01, tolerance: 4.015e+00\n",
      "  model = cd_fast.enet_coordinate_descent(\n",
      "/Users/jgfaraco/miniconda3/lib/python3.12/site-packages/sklearn/linear_model/_coordinate_descent.py:695: ConvergenceWarning: Objective did not converge. You might want to increase the number of iterations, check the scale of the features or consider increasing regularisation. Duality gap: 1.108e+01, tolerance: 4.019e+00\n",
      "  model = cd_fast.enet_coordinate_descent(\n",
      "/Users/jgfaraco/miniconda3/lib/python3.12/site-packages/sklearn/linear_model/_coordinate_descent.py:695: ConvergenceWarning: Objective did not converge. You might want to increase the number of iterations, check the scale of the features or consider increasing regularisation. Duality gap: 1.129e+01, tolerance: 4.016e+00\n",
      "  model = cd_fast.enet_coordinate_descent(\n",
      "[I 2025-05-03 19:45:29,049] Trial 39 finished with value: -0.008124328705455246 and parameters: {'alpha': 16.763957643123796, 'l1_ratio': 0.12094474216224328, 'fit_intercept': False, 'max_iter': 1472, 'use_scaler': False, 'poly_degree': 5}. Best is trial 25 with value: -0.0036423800083562026.\n",
      "[I 2025-05-03 19:45:29,099] Trial 40 finished with value: -18.75024515813632 and parameters: {'alpha': 4.735384181058588, 'l1_ratio': 0.8231328373463638, 'fit_intercept': False, 'max_iter': 4003, 'use_scaler': True, 'with_mean': True, 'with_std': True, 'poly_degree': 5}. Best is trial 25 with value: -0.0036423800083562026.\n",
      "/Users/jgfaraco/miniconda3/lib/python3.12/site-packages/sklearn/linear_model/_coordinate_descent.py:695: ConvergenceWarning: Objective did not converge. You might want to increase the number of iterations, check the scale of the features or consider increasing regularisation. Duality gap: 5.593e+00, tolerance: 3.519e-03\n",
      "  model = cd_fast.enet_coordinate_descent(\n",
      "/Users/jgfaraco/miniconda3/lib/python3.12/site-packages/sklearn/linear_model/_coordinate_descent.py:695: ConvergenceWarning: Objective did not converge. You might want to increase the number of iterations, check the scale of the features or consider increasing regularisation. Duality gap: 5.518e+00, tolerance: 3.529e-03\n",
      "  model = cd_fast.enet_coordinate_descent(\n",
      "/Users/jgfaraco/miniconda3/lib/python3.12/site-packages/sklearn/linear_model/_coordinate_descent.py:695: ConvergenceWarning: Objective did not converge. You might want to increase the number of iterations, check the scale of the features or consider increasing regularisation. Duality gap: 5.780e+00, tolerance: 3.475e-03\n",
      "  model = cd_fast.enet_coordinate_descent(\n",
      "/Users/jgfaraco/miniconda3/lib/python3.12/site-packages/sklearn/linear_model/_coordinate_descent.py:695: ConvergenceWarning: Objective did not converge. You might want to increase the number of iterations, check the scale of the features or consider increasing regularisation. Duality gap: 5.698e+00, tolerance: 3.549e-03\n",
      "  model = cd_fast.enet_coordinate_descent(\n",
      "/Users/jgfaraco/miniconda3/lib/python3.12/site-packages/sklearn/linear_model/_coordinate_descent.py:695: ConvergenceWarning: Objective did not converge. You might want to increase the number of iterations, check the scale of the features or consider increasing regularisation. Duality gap: 5.829e+00, tolerance: 3.584e-03\n",
      "  model = cd_fast.enet_coordinate_descent(\n",
      "[I 2025-05-03 19:45:29,413] Trial 41 finished with value: -0.007937774159344376 and parameters: {'alpha': 19.591322745978662, 'l1_ratio': 0.4860946246375165, 'fit_intercept': True, 'max_iter': 1412, 'use_scaler': False, 'poly_degree': 5}. Best is trial 25 with value: -0.0036423800083562026.\n",
      "/Users/jgfaraco/miniconda3/lib/python3.12/site-packages/sklearn/linear_model/_coordinate_descent.py:695: ConvergenceWarning: Objective did not converge. You might want to increase the number of iterations, check the scale of the features or consider increasing regularisation. Duality gap: 6.021e+00, tolerance: 4.013e+00\n",
      "  model = cd_fast.enet_coordinate_descent(\n",
      "/Users/jgfaraco/miniconda3/lib/python3.12/site-packages/sklearn/linear_model/_coordinate_descent.py:695: ConvergenceWarning: Objective did not converge. You might want to increase the number of iterations, check the scale of the features or consider increasing regularisation. Duality gap: 6.113e+00, tolerance: 4.019e+00\n",
      "  model = cd_fast.enet_coordinate_descent(\n",
      "/Users/jgfaraco/miniconda3/lib/python3.12/site-packages/sklearn/linear_model/_coordinate_descent.py:695: ConvergenceWarning: Objective did not converge. You might want to increase the number of iterations, check the scale of the features or consider increasing regularisation. Duality gap: 6.193e+00, tolerance: 4.012e+00\n",
      "  model = cd_fast.enet_coordinate_descent(\n",
      "/Users/jgfaraco/miniconda3/lib/python3.12/site-packages/sklearn/linear_model/_coordinate_descent.py:695: ConvergenceWarning: Objective did not converge. You might want to increase the number of iterations, check the scale of the features or consider increasing regularisation. Duality gap: 5.915e+00, tolerance: 4.015e+00\n",
      "  model = cd_fast.enet_coordinate_descent(\n",
      "/Users/jgfaraco/miniconda3/lib/python3.12/site-packages/sklearn/linear_model/_coordinate_descent.py:695: ConvergenceWarning: Objective did not converge. You might want to increase the number of iterations, check the scale of the features or consider increasing regularisation. Duality gap: 6.248e+00, tolerance: 4.016e+00\n",
      "  model = cd_fast.enet_coordinate_descent(\n",
      "[I 2025-05-03 19:45:29,928] Trial 42 finished with value: -0.008296208037214486 and parameters: {'alpha': 0.039833457575901975, 'l1_ratio': 0.9059709056465804, 'fit_intercept': False, 'max_iter': 4622, 'use_scaler': True, 'with_mean': False, 'with_std': False, 'poly_degree': 3}. Best is trial 25 with value: -0.0036423800083562026.\n",
      "/Users/jgfaraco/miniconda3/lib/python3.12/site-packages/sklearn/linear_model/_coordinate_descent.py:695: ConvergenceWarning: Objective did not converge. You might want to increase the number of iterations, check the scale of the features or consider increasing regularisation. Duality gap: 5.643e+00, tolerance: 3.519e-03\n",
      "  model = cd_fast.enet_coordinate_descent(\n",
      "/Users/jgfaraco/miniconda3/lib/python3.12/site-packages/sklearn/linear_model/_coordinate_descent.py:695: ConvergenceWarning: Objective did not converge. You might want to increase the number of iterations, check the scale of the features or consider increasing regularisation. Duality gap: 5.867e+00, tolerance: 3.584e-03\n",
      "  model = cd_fast.enet_coordinate_descent(\n",
      "/Users/jgfaraco/miniconda3/lib/python3.12/site-packages/sklearn/linear_model/_coordinate_descent.py:695: ConvergenceWarning: Objective did not converge. You might want to increase the number of iterations, check the scale of the features or consider increasing regularisation. Duality gap: 5.822e+00, tolerance: 3.475e-03\n",
      "  model = cd_fast.enet_coordinate_descent(\n",
      "/Users/jgfaraco/miniconda3/lib/python3.12/site-packages/sklearn/linear_model/_coordinate_descent.py:695: ConvergenceWarning: Objective did not converge. You might want to increase the number of iterations, check the scale of the features or consider increasing regularisation. Duality gap: 5.739e+00, tolerance: 3.549e-03\n",
      "  model = cd_fast.enet_coordinate_descent(\n",
      "/Users/jgfaraco/miniconda3/lib/python3.12/site-packages/sklearn/linear_model/_coordinate_descent.py:695: ConvergenceWarning: Objective did not converge. You might want to increase the number of iterations, check the scale of the features or consider increasing regularisation. Duality gap: 5.556e+00, tolerance: 3.529e-03\n",
      "  model = cd_fast.enet_coordinate_descent(\n",
      "[I 2025-05-03 19:45:30,371] Trial 43 finished with value: -0.0078409852809102 and parameters: {'alpha': 0.029245150354524026, 'l1_ratio': 0.3957980908329244, 'fit_intercept': True, 'max_iter': 4167, 'use_scaler': False, 'poly_degree': 3}. Best is trial 25 with value: -0.0036423800083562026.\n",
      "[I 2025-05-03 19:45:30,461] Trial 44 finished with value: -0.0036458062220303122 and parameters: {'alpha': 0.0019399645775772377, 'l1_ratio': 0.594575994091362, 'fit_intercept': True, 'max_iter': 2404, 'use_scaler': True, 'with_mean': True, 'with_std': True, 'poly_degree': 4}. Best is trial 25 with value: -0.0036423800083562026.\n",
      "/Users/jgfaraco/miniconda3/lib/python3.12/site-packages/sklearn/linear_model/_coordinate_descent.py:695: ConvergenceWarning: Objective did not converge. You might want to increase the number of iterations, check the scale of the features or consider increasing regularisation. Duality gap: 8.305e+00, tolerance: 4.012e+00\n",
      "  model = cd_fast.enet_coordinate_descent(\n",
      "/Users/jgfaraco/miniconda3/lib/python3.12/site-packages/sklearn/linear_model/_coordinate_descent.py:695: ConvergenceWarning: Objective did not converge. You might want to increase the number of iterations, check the scale of the features or consider increasing regularisation. Duality gap: 8.260e+00, tolerance: 4.015e+00\n",
      "  model = cd_fast.enet_coordinate_descent(\n",
      "/Users/jgfaraco/miniconda3/lib/python3.12/site-packages/sklearn/linear_model/_coordinate_descent.py:695: ConvergenceWarning: Objective did not converge. You might want to increase the number of iterations, check the scale of the features or consider increasing regularisation. Duality gap: 8.303e+00, tolerance: 4.013e+00\n",
      "  model = cd_fast.enet_coordinate_descent(\n",
      "/Users/jgfaraco/miniconda3/lib/python3.12/site-packages/sklearn/linear_model/_coordinate_descent.py:695: ConvergenceWarning: Objective did not converge. You might want to increase the number of iterations, check the scale of the features or consider increasing regularisation. Duality gap: 8.372e+00, tolerance: 4.019e+00\n",
      "  model = cd_fast.enet_coordinate_descent(\n",
      "/Users/jgfaraco/miniconda3/lib/python3.12/site-packages/sklearn/linear_model/_coordinate_descent.py:695: ConvergenceWarning: Objective did not converge. You might want to increase the number of iterations, check the scale of the features or consider increasing regularisation. Duality gap: 8.425e+00, tolerance: 4.016e+00\n",
      "  model = cd_fast.enet_coordinate_descent(\n",
      "[I 2025-05-03 19:45:30,602] Trial 45 finished with value: -0.004180541849925097 and parameters: {'alpha': 0.002311080279955305, 'l1_ratio': 0.8396740533613206, 'fit_intercept': False, 'max_iter': 1339, 'use_scaler': False, 'poly_degree': 2}. Best is trial 25 with value: -0.0036423800083562026.\n",
      "[I 2025-05-03 19:45:30,641] Trial 46 finished with value: -27.604321376178568 and parameters: {'alpha': 11.587715829876235, 'l1_ratio': 0.9525237196454729, 'fit_intercept': False, 'max_iter': 2505, 'use_scaler': True, 'with_mean': True, 'with_std': True, 'poly_degree': 3}. Best is trial 25 with value: -0.0036423800083562026.\n",
      "/Users/jgfaraco/miniconda3/lib/python3.12/site-packages/sklearn/linear_model/_coordinate_descent.py:695: ConvergenceWarning: Objective did not converge. You might want to increase the number of iterations, check the scale of the features or consider increasing regularisation. Duality gap: 3.015e+00, tolerance: 3.549e-03\n",
      "  model = cd_fast.enet_coordinate_descent(\n",
      "/Users/jgfaraco/miniconda3/lib/python3.12/site-packages/sklearn/linear_model/_coordinate_descent.py:695: ConvergenceWarning: Objective did not converge. You might want to increase the number of iterations, check the scale of the features or consider increasing regularisation. Duality gap: 2.936e+00, tolerance: 3.529e-03\n",
      "  model = cd_fast.enet_coordinate_descent(\n",
      "/Users/jgfaraco/miniconda3/lib/python3.12/site-packages/sklearn/linear_model/_coordinate_descent.py:695: ConvergenceWarning: Objective did not converge. You might want to increase the number of iterations, check the scale of the features or consider increasing regularisation. Duality gap: 2.915e+00, tolerance: 3.475e-03\n",
      "  model = cd_fast.enet_coordinate_descent(\n",
      "/Users/jgfaraco/miniconda3/lib/python3.12/site-packages/sklearn/linear_model/_coordinate_descent.py:695: ConvergenceWarning: Objective did not converge. You might want to increase the number of iterations, check the scale of the features or consider increasing regularisation. Duality gap: 2.934e+00, tolerance: 3.519e-03\n",
      "  model = cd_fast.enet_coordinate_descent(\n",
      "/Users/jgfaraco/miniconda3/lib/python3.12/site-packages/sklearn/linear_model/_coordinate_descent.py:695: ConvergenceWarning: Objective did not converge. You might want to increase the number of iterations, check the scale of the features or consider increasing regularisation. Duality gap: 3.000e+00, tolerance: 3.584e-03\n",
      "  model = cd_fast.enet_coordinate_descent(\n",
      "[I 2025-05-03 19:45:31,122] Trial 47 finished with value: -0.003283424756676366 and parameters: {'alpha': 0.001139641416462081, 'l1_ratio': 0.5217945777947136, 'fit_intercept': True, 'max_iter': 1470, 'use_scaler': True, 'with_mean': False, 'with_std': True, 'poly_degree': 5}. Best is trial 47 with value: -0.003283424756676366.\n",
      "/Users/jgfaraco/miniconda3/lib/python3.12/site-packages/sklearn/linear_model/_coordinate_descent.py:695: ConvergenceWarning: Objective did not converge. You might want to increase the number of iterations, check the scale of the features or consider increasing regularisation. Duality gap: 5.522e+00, tolerance: 3.519e-03\n",
      "  model = cd_fast.enet_coordinate_descent(\n",
      "/Users/jgfaraco/miniconda3/lib/python3.12/site-packages/sklearn/linear_model/_coordinate_descent.py:695: ConvergenceWarning: Objective did not converge. You might want to increase the number of iterations, check the scale of the features or consider increasing regularisation. Duality gap: 5.447e+00, tolerance: 3.529e-03\n",
      "  model = cd_fast.enet_coordinate_descent(\n",
      "/Users/jgfaraco/miniconda3/lib/python3.12/site-packages/sklearn/linear_model/_coordinate_descent.py:695: ConvergenceWarning: Objective did not converge. You might want to increase the number of iterations, check the scale of the features or consider increasing regularisation. Duality gap: 5.766e+00, tolerance: 3.584e-03\n",
      "  model = cd_fast.enet_coordinate_descent(\n",
      "/Users/jgfaraco/miniconda3/lib/python3.12/site-packages/sklearn/linear_model/_coordinate_descent.py:695: ConvergenceWarning: Objective did not converge. You might want to increase the number of iterations, check the scale of the features or consider increasing regularisation. Duality gap: 5.623e+00, tolerance: 3.549e-03\n",
      "  model = cd_fast.enet_coordinate_descent(\n",
      "/Users/jgfaraco/miniconda3/lib/python3.12/site-packages/sklearn/linear_model/_coordinate_descent.py:695: ConvergenceWarning: Objective did not converge. You might want to increase the number of iterations, check the scale of the features or consider increasing regularisation. Duality gap: 5.701e+00, tolerance: 3.475e-03\n",
      "  model = cd_fast.enet_coordinate_descent(\n",
      "[I 2025-05-03 19:45:31,387] Trial 48 finished with value: -0.0077811642917170135 and parameters: {'alpha': 0.013121370319581372, 'l1_ratio': 0.9669002854965502, 'fit_intercept': True, 'max_iter': 1172, 'use_scaler': False, 'poly_degree': 5}. Best is trial 47 with value: -0.003283424756676366.\n",
      "/Users/jgfaraco/miniconda3/lib/python3.12/site-packages/sklearn/linear_model/_coordinate_descent.py:695: ConvergenceWarning: Objective did not converge. You might want to increase the number of iterations, check the scale of the features or consider increasing regularisation. Duality gap: 6.420e+00, tolerance: 4.019e+00\n",
      "  model = cd_fast.enet_coordinate_descent(\n",
      "/Users/jgfaraco/miniconda3/lib/python3.12/site-packages/sklearn/linear_model/_coordinate_descent.py:695: ConvergenceWarning: Objective did not converge. You might want to increase the number of iterations, check the scale of the features or consider increasing regularisation. Duality gap: 6.390e+00, tolerance: 4.012e+00\n",
      "  model = cd_fast.enet_coordinate_descent(\n",
      "/Users/jgfaraco/miniconda3/lib/python3.12/site-packages/sklearn/linear_model/_coordinate_descent.py:695: ConvergenceWarning: Objective did not converge. You might want to increase the number of iterations, check the scale of the features or consider increasing regularisation. Duality gap: 6.426e+00, tolerance: 4.013e+00\n",
      "  model = cd_fast.enet_coordinate_descent(\n",
      "/Users/jgfaraco/miniconda3/lib/python3.12/site-packages/sklearn/linear_model/_coordinate_descent.py:695: ConvergenceWarning: Objective did not converge. You might want to increase the number of iterations, check the scale of the features or consider increasing regularisation. Duality gap: 6.394e+00, tolerance: 4.015e+00\n",
      "  model = cd_fast.enet_coordinate_descent(\n",
      "/Users/jgfaraco/miniconda3/lib/python3.12/site-packages/sklearn/linear_model/_coordinate_descent.py:695: ConvergenceWarning: Objective did not converge. You might want to increase the number of iterations, check the scale of the features or consider increasing regularisation. Duality gap: 6.509e+00, tolerance: 4.016e+00\n",
      "  model = cd_fast.enet_coordinate_descent(\n",
      "[I 2025-05-03 19:45:31,980] Trial 49 finished with value: -0.003872681550184239 and parameters: {'alpha': 0.002338744739603667, 'l1_ratio': 0.5984688559611887, 'fit_intercept': False, 'max_iter': 3518, 'use_scaler': False, 'poly_degree': 4}. Best is trial 47 with value: -0.003283424756676366.\n",
      "/Users/jgfaraco/miniconda3/lib/python3.12/site-packages/sklearn/linear_model/_coordinate_descent.py:695: ConvergenceWarning: Objective did not converge. You might want to increase the number of iterations, check the scale of the features or consider increasing regularisation. Duality gap: 5.509e+00, tolerance: 3.529e-03\n",
      "  model = cd_fast.enet_coordinate_descent(\n",
      "/Users/jgfaraco/miniconda3/lib/python3.12/site-packages/sklearn/linear_model/_coordinate_descent.py:695: ConvergenceWarning: Objective did not converge. You might want to increase the number of iterations, check the scale of the features or consider increasing regularisation. Duality gap: 5.767e+00, tolerance: 3.475e-03\n",
      "  model = cd_fast.enet_coordinate_descent(\n",
      "/Users/jgfaraco/miniconda3/lib/python3.12/site-packages/sklearn/linear_model/_coordinate_descent.py:695: ConvergenceWarning: Objective did not converge. You might want to increase the number of iterations, check the scale of the features or consider increasing regularisation. Duality gap: 5.812e+00, tolerance: 3.584e-03\n",
      "  model = cd_fast.enet_coordinate_descent(\n",
      "/Users/jgfaraco/miniconda3/lib/python3.12/site-packages/sklearn/linear_model/_coordinate_descent.py:695: ConvergenceWarning: Objective did not converge. You might want to increase the number of iterations, check the scale of the features or consider increasing regularisation. Duality gap: 5.696e+00, tolerance: 3.549e-03\n",
      "  model = cd_fast.enet_coordinate_descent(\n",
      "/Users/jgfaraco/miniconda3/lib/python3.12/site-packages/sklearn/linear_model/_coordinate_descent.py:695: ConvergenceWarning: Objective did not converge. You might want to increase the number of iterations, check the scale of the features or consider increasing regularisation. Duality gap: 5.583e+00, tolerance: 3.519e-03\n",
      "  model = cd_fast.enet_coordinate_descent(\n",
      "[I 2025-05-03 19:45:32,524] Trial 50 finished with value: -0.007924950453962111 and parameters: {'alpha': 0.8347790852520648, 'l1_ratio': 0.9110422094418901, 'fit_intercept': True, 'max_iter': 4802, 'use_scaler': False, 'poly_degree': 4}. Best is trial 47 with value: -0.003283424756676366.\n",
      "[I 2025-05-03 19:45:33,082] Trial 51 finished with value: -0.4340465625299199 and parameters: {'alpha': 0.02437282750829703, 'l1_ratio': 0.2693090437513852, 'fit_intercept': False, 'max_iter': 3335, 'use_scaler': True, 'with_mean': True, 'with_std': True, 'poly_degree': 5}. Best is trial 47 with value: -0.003283424756676366.\n",
      "/Users/jgfaraco/miniconda3/lib/python3.12/site-packages/sklearn/linear_model/_coordinate_descent.py:695: ConvergenceWarning: Objective did not converge. You might want to increase the number of iterations, check the scale of the features or consider increasing regularisation. Duality gap: 7.311e+00, tolerance: 4.015e+00\n",
      "  model = cd_fast.enet_coordinate_descent(\n",
      "/Users/jgfaraco/miniconda3/lib/python3.12/site-packages/sklearn/linear_model/_coordinate_descent.py:695: ConvergenceWarning: Objective did not converge. You might want to increase the number of iterations, check the scale of the features or consider increasing regularisation. Duality gap: 7.359e+00, tolerance: 4.013e+00\n",
      "  model = cd_fast.enet_coordinate_descent(\n",
      "/Users/jgfaraco/miniconda3/lib/python3.12/site-packages/sklearn/linear_model/_coordinate_descent.py:695: ConvergenceWarning: Objective did not converge. You might want to increase the number of iterations, check the scale of the features or consider increasing regularisation. Duality gap: 7.450e+00, tolerance: 4.019e+00\n",
      "  model = cd_fast.enet_coordinate_descent(\n",
      "/Users/jgfaraco/miniconda3/lib/python3.12/site-packages/sklearn/linear_model/_coordinate_descent.py:695: ConvergenceWarning: Objective did not converge. You might want to increase the number of iterations, check the scale of the features or consider increasing regularisation. Duality gap: 7.651e+00, tolerance: 4.016e+00\n",
      "  model = cd_fast.enet_coordinate_descent(\n",
      "/Users/jgfaraco/miniconda3/lib/python3.12/site-packages/sklearn/linear_model/_coordinate_descent.py:695: ConvergenceWarning: Objective did not converge. You might want to increase the number of iterations, check the scale of the features or consider increasing regularisation. Duality gap: 7.557e+00, tolerance: 4.012e+00\n",
      "  model = cd_fast.enet_coordinate_descent(\n",
      "[I 2025-05-03 19:45:33,488] Trial 52 finished with value: -0.008222547521662443 and parameters: {'alpha': 2.652502871774028, 'l1_ratio': 0.24635524541040218, 'fit_intercept': False, 'max_iter': 4800, 'use_scaler': False, 'poly_degree': 3}. Best is trial 47 with value: -0.003283424756676366.\n",
      "/Users/jgfaraco/miniconda3/lib/python3.12/site-packages/sklearn/linear_model/_coordinate_descent.py:695: ConvergenceWarning: Objective did not converge. You might want to increase the number of iterations, check the scale of the features or consider increasing regularisation. Duality gap: 6.252e+00, tolerance: 4.012e+00\n",
      "  model = cd_fast.enet_coordinate_descent(\n",
      "/Users/jgfaraco/miniconda3/lib/python3.12/site-packages/sklearn/linear_model/_coordinate_descent.py:695: ConvergenceWarning: Objective did not converge. You might want to increase the number of iterations, check the scale of the features or consider increasing regularisation. Duality gap: 6.051e+00, tolerance: 4.013e+00\n",
      "  model = cd_fast.enet_coordinate_descent(\n",
      "/Users/jgfaraco/miniconda3/lib/python3.12/site-packages/sklearn/linear_model/_coordinate_descent.py:695: ConvergenceWarning: Objective did not converge. You might want to increase the number of iterations, check the scale of the features or consider increasing regularisation. Duality gap: 6.299e+00, tolerance: 4.016e+00\n",
      "  model = cd_fast.enet_coordinate_descent(\n",
      "/Users/jgfaraco/miniconda3/lib/python3.12/site-packages/sklearn/linear_model/_coordinate_descent.py:695: ConvergenceWarning: Objective did not converge. You might want to increase the number of iterations, check the scale of the features or consider increasing regularisation. Duality gap: 5.981e+00, tolerance: 4.015e+00\n",
      "  model = cd_fast.enet_coordinate_descent(\n",
      "/Users/jgfaraco/miniconda3/lib/python3.12/site-packages/sklearn/linear_model/_coordinate_descent.py:695: ConvergenceWarning: Objective did not converge. You might want to increase the number of iterations, check the scale of the features or consider increasing regularisation. Duality gap: 6.176e+00, tolerance: 4.019e+00\n",
      "  model = cd_fast.enet_coordinate_descent(\n",
      "[I 2025-05-03 19:45:33,991] Trial 53 finished with value: -0.008129689081819042 and parameters: {'alpha': 46.093789776763856, 'l1_ratio': 0.8794575005503675, 'fit_intercept': False, 'max_iter': 2506, 'use_scaler': True, 'with_mean': False, 'with_std': False, 'poly_degree': 5}. Best is trial 47 with value: -0.003283424756676366.\n",
      "/Users/jgfaraco/miniconda3/lib/python3.12/site-packages/sklearn/linear_model/_coordinate_descent.py:695: ConvergenceWarning: Objective did not converge. You might want to increase the number of iterations, check the scale of the features or consider increasing regularisation. Duality gap: 1.349e+01, tolerance: 4.013e+00\n",
      "  model = cd_fast.enet_coordinate_descent(\n",
      "/Users/jgfaraco/miniconda3/lib/python3.12/site-packages/sklearn/linear_model/_coordinate_descent.py:695: ConvergenceWarning: Objective did not converge. You might want to increase the number of iterations, check the scale of the features or consider increasing regularisation. Duality gap: 1.377e+01, tolerance: 4.015e+00\n",
      "  model = cd_fast.enet_coordinate_descent(\n",
      "/Users/jgfaraco/miniconda3/lib/python3.12/site-packages/sklearn/linear_model/_coordinate_descent.py:695: ConvergenceWarning: Objective did not converge. You might want to increase the number of iterations, check the scale of the features or consider increasing regularisation. Duality gap: 1.390e+01, tolerance: 4.012e+00\n",
      "  model = cd_fast.enet_coordinate_descent(\n",
      "/Users/jgfaraco/miniconda3/lib/python3.12/site-packages/sklearn/linear_model/_coordinate_descent.py:695: ConvergenceWarning: Objective did not converge. You might want to increase the number of iterations, check the scale of the features or consider increasing regularisation. Duality gap: 1.413e+01, tolerance: 4.016e+00\n",
      "  model = cd_fast.enet_coordinate_descent(\n",
      "/Users/jgfaraco/miniconda3/lib/python3.12/site-packages/sklearn/linear_model/_coordinate_descent.py:695: ConvergenceWarning: Objective did not converge. You might want to increase the number of iterations, check the scale of the features or consider increasing regularisation. Duality gap: 1.367e+01, tolerance: 4.019e+00\n",
      "  model = cd_fast.enet_coordinate_descent(\n",
      "[I 2025-05-03 19:45:34,270] Trial 54 finished with value: -0.008504136201989263 and parameters: {'alpha': 15.54688992039453, 'l1_ratio': 0.5218238438154733, 'fit_intercept': False, 'max_iter': 1225, 'use_scaler': False, 'poly_degree': 5}. Best is trial 47 with value: -0.003283424756676366.\n",
      "[I 2025-05-03 19:45:34,746] Trial 55 finished with value: -0.008022889778263672 and parameters: {'alpha': 96.20201870331302, 'l1_ratio': 0.5998885350423647, 'fit_intercept': True, 'max_iter': 4399, 'use_scaler': True, 'with_mean': False, 'with_std': True, 'poly_degree': 4}. Best is trial 47 with value: -0.003283424756676366.\n",
      "/Users/jgfaraco/miniconda3/lib/python3.12/site-packages/sklearn/linear_model/_coordinate_descent.py:695: ConvergenceWarning: Objective did not converge. You might want to increase the number of iterations, check the scale of the features or consider increasing regularisation. Duality gap: 5.412e+00, tolerance: 3.529e-03\n",
      "  model = cd_fast.enet_coordinate_descent(\n",
      "/Users/jgfaraco/miniconda3/lib/python3.12/site-packages/sklearn/linear_model/_coordinate_descent.py:695: ConvergenceWarning: Objective did not converge. You might want to increase the number of iterations, check the scale of the features or consider increasing regularisation. Duality gap: 5.712e+00, tolerance: 3.584e-03\n",
      "  model = cd_fast.enet_coordinate_descent(\n",
      "/Users/jgfaraco/miniconda3/lib/python3.12/site-packages/sklearn/linear_model/_coordinate_descent.py:695: ConvergenceWarning: Objective did not converge. You might want to increase the number of iterations, check the scale of the features or consider increasing regularisation. Duality gap: 5.596e+00, tolerance: 3.549e-03\n",
      "  model = cd_fast.enet_coordinate_descent(\n",
      "/Users/jgfaraco/miniconda3/lib/python3.12/site-packages/sklearn/linear_model/_coordinate_descent.py:695: ConvergenceWarning: Objective did not converge. You might want to increase the number of iterations, check the scale of the features or consider increasing regularisation. Duality gap: 5.482e+00, tolerance: 3.519e-03\n",
      "  model = cd_fast.enet_coordinate_descent(\n",
      "/Users/jgfaraco/miniconda3/lib/python3.12/site-packages/sklearn/linear_model/_coordinate_descent.py:695: ConvergenceWarning: Objective did not converge. You might want to increase the number of iterations, check the scale of the features or consider increasing regularisation. Duality gap: 5.675e+00, tolerance: 3.475e-03\n",
      "  model = cd_fast.enet_coordinate_descent(\n",
      "[I 2025-05-03 19:45:35,320] Trial 56 finished with value: -0.00773352414812214 and parameters: {'alpha': 1.2320865092618447, 'l1_ratio': 0.42234644622955647, 'fit_intercept': True, 'max_iter': 3081, 'use_scaler': False, 'poly_degree': 5}. Best is trial 47 with value: -0.003283424756676366.\n",
      "[I 2025-05-03 19:45:35,388] Trial 57 finished with value: -0.01888976499624415 and parameters: {'alpha': 0.5748230753568713, 'l1_ratio': 0.6048441743818477, 'fit_intercept': False, 'max_iter': 1536, 'use_scaler': True, 'with_mean': False, 'with_std': True, 'poly_degree': 1}. Best is trial 47 with value: -0.003283424756676366.\n",
      "/Users/jgfaraco/miniconda3/lib/python3.12/site-packages/sklearn/linear_model/_coordinate_descent.py:695: ConvergenceWarning: Objective did not converge. You might want to increase the number of iterations, check the scale of the features or consider increasing regularisation. Duality gap: 8.312e-02, tolerance: 3.529e-03\n",
      "  model = cd_fast.enet_coordinate_descent(\n",
      "/Users/jgfaraco/miniconda3/lib/python3.12/site-packages/sklearn/linear_model/_coordinate_descent.py:695: ConvergenceWarning: Objective did not converge. You might want to increase the number of iterations, check the scale of the features or consider increasing regularisation. Duality gap: 5.174e-03, tolerance: 3.584e-03\n",
      "  model = cd_fast.enet_coordinate_descent(\n",
      "/Users/jgfaraco/miniconda3/lib/python3.12/site-packages/sklearn/linear_model/_coordinate_descent.py:695: ConvergenceWarning: Objective did not converge. You might want to increase the number of iterations, check the scale of the features or consider increasing regularisation. Duality gap: 1.447e-02, tolerance: 3.519e-03\n",
      "  model = cd_fast.enet_coordinate_descent(\n",
      "/Users/jgfaraco/miniconda3/lib/python3.12/site-packages/sklearn/linear_model/_coordinate_descent.py:695: ConvergenceWarning: Objective did not converge. You might want to increase the number of iterations, check the scale of the features or consider increasing regularisation. Duality gap: 3.772e-02, tolerance: 3.549e-03\n",
      "  model = cd_fast.enet_coordinate_descent(\n",
      "/Users/jgfaraco/miniconda3/lib/python3.12/site-packages/sklearn/linear_model/_coordinate_descent.py:695: ConvergenceWarning: Objective did not converge. You might want to increase the number of iterations, check the scale of the features or consider increasing regularisation. Duality gap: 2.328e-02, tolerance: 3.475e-03\n",
      "  model = cd_fast.enet_coordinate_descent(\n",
      "[I 2025-05-03 19:45:36,448] Trial 58 finished with value: -0.009594785513697145 and parameters: {'alpha': 0.05661581898267356, 'l1_ratio': 0.6309259181691698, 'fit_intercept': True, 'max_iter': 4617, 'use_scaler': True, 'with_mean': True, 'with_std': False, 'poly_degree': 5}. Best is trial 47 with value: -0.003283424756676366.\n",
      "/Users/jgfaraco/miniconda3/lib/python3.12/site-packages/sklearn/linear_model/_coordinate_descent.py:695: ConvergenceWarning: Objective did not converge. You might want to increase the number of iterations, check the scale of the features or consider increasing regularisation. Duality gap: 8.305e+00, tolerance: 4.015e+00\n",
      "  model = cd_fast.enet_coordinate_descent(\n",
      "/Users/jgfaraco/miniconda3/lib/python3.12/site-packages/sklearn/linear_model/_coordinate_descent.py:695: ConvergenceWarning: Objective did not converge. You might want to increase the number of iterations, check the scale of the features or consider increasing regularisation. Duality gap: 8.426e+00, tolerance: 4.013e+00\n",
      "  model = cd_fast.enet_coordinate_descent(\n",
      "/Users/jgfaraco/miniconda3/lib/python3.12/site-packages/sklearn/linear_model/_coordinate_descent.py:695: ConvergenceWarning: Objective did not converge. You might want to increase the number of iterations, check the scale of the features or consider increasing regularisation. Duality gap: 8.691e+00, tolerance: 4.016e+00\n",
      "  model = cd_fast.enet_coordinate_descent(\n",
      "/Users/jgfaraco/miniconda3/lib/python3.12/site-packages/sklearn/linear_model/_coordinate_descent.py:695: ConvergenceWarning: Objective did not converge. You might want to increase the number of iterations, check the scale of the features or consider increasing regularisation. Duality gap: 8.465e+00, tolerance: 4.012e+00\n",
      "  model = cd_fast.enet_coordinate_descent(\n",
      "/Users/jgfaraco/miniconda3/lib/python3.12/site-packages/sklearn/linear_model/_coordinate_descent.py:695: ConvergenceWarning: Objective did not converge. You might want to increase the number of iterations, check the scale of the features or consider increasing regularisation. Duality gap: 8.526e+00, tolerance: 4.019e+00\n",
      "  model = cd_fast.enet_coordinate_descent(\n",
      "[I 2025-05-03 19:45:36,867] Trial 59 finished with value: -0.005772954495304267 and parameters: {'alpha': 0.00543710105109608, 'l1_ratio': 0.933928862645345, 'fit_intercept': False, 'max_iter': 2837, 'use_scaler': False, 'poly_degree': 2}. Best is trial 47 with value: -0.003283424756676366.\n",
      "/Users/jgfaraco/miniconda3/lib/python3.12/site-packages/sklearn/linear_model/_coordinate_descent.py:695: ConvergenceWarning: Objective did not converge. You might want to increase the number of iterations, check the scale of the features or consider increasing regularisation. Duality gap: 5.861e+00, tolerance: 3.475e-03\n",
      "  model = cd_fast.enet_coordinate_descent(\n",
      "/Users/jgfaraco/miniconda3/lib/python3.12/site-packages/sklearn/linear_model/_coordinate_descent.py:695: ConvergenceWarning: Objective did not converge. You might want to increase the number of iterations, check the scale of the features or consider increasing regularisation. Duality gap: 5.772e+00, tolerance: 3.549e-03\n",
      "  model = cd_fast.enet_coordinate_descent(\n",
      "/Users/jgfaraco/miniconda3/lib/python3.12/site-packages/sklearn/linear_model/_coordinate_descent.py:695: ConvergenceWarning: Objective did not converge. You might want to increase the number of iterations, check the scale of the features or consider increasing regularisation. Duality gap: 5.669e+00, tolerance: 3.519e-03\n",
      "  model = cd_fast.enet_coordinate_descent(\n",
      "/Users/jgfaraco/miniconda3/lib/python3.12/site-packages/sklearn/linear_model/_coordinate_descent.py:695: ConvergenceWarning: Objective did not converge. You might want to increase the number of iterations, check the scale of the features or consider increasing regularisation. Duality gap: 5.586e+00, tolerance: 3.529e-03\n",
      "  model = cd_fast.enet_coordinate_descent(\n",
      "/Users/jgfaraco/miniconda3/lib/python3.12/site-packages/sklearn/linear_model/_coordinate_descent.py:695: ConvergenceWarning: Objective did not converge. You might want to increase the number of iterations, check the scale of the features or consider increasing regularisation. Duality gap: 5.899e+00, tolerance: 3.584e-03\n",
      "  model = cd_fast.enet_coordinate_descent(\n",
      "[I 2025-05-03 19:45:37,098] Trial 60 finished with value: -0.008019982080494287 and parameters: {'alpha': 1.4689407256107627, 'l1_ratio': 0.3161310569003738, 'fit_intercept': True, 'max_iter': 1512, 'use_scaler': False, 'poly_degree': 4}. Best is trial 47 with value: -0.003283424756676366.\n",
      "[I 2025-05-03 19:45:37,394] Trial 61 finished with value: -0.005165029209850389 and parameters: {'alpha': 0.008117091133892166, 'l1_ratio': 0.4111005549914769, 'fit_intercept': False, 'max_iter': 3670, 'use_scaler': True, 'with_mean': False, 'with_std': True, 'poly_degree': 1}. Best is trial 47 with value: -0.003283424756676366.\n",
      "/Users/jgfaraco/miniconda3/lib/python3.12/site-packages/sklearn/linear_model/_coordinate_descent.py:695: ConvergenceWarning: Objective did not converge. You might want to increase the number of iterations, check the scale of the features or consider increasing regularisation. Duality gap: 4.149e+00, tolerance: 3.475e-03\n",
      "  model = cd_fast.enet_coordinate_descent(\n",
      "/Users/jgfaraco/miniconda3/lib/python3.12/site-packages/sklearn/linear_model/_coordinate_descent.py:695: ConvergenceWarning: Objective did not converge. You might want to increase the number of iterations, check the scale of the features or consider increasing regularisation. Duality gap: 4.102e+00, tolerance: 3.529e-03\n",
      "  model = cd_fast.enet_coordinate_descent(\n",
      "/Users/jgfaraco/miniconda3/lib/python3.12/site-packages/sklearn/linear_model/_coordinate_descent.py:695: ConvergenceWarning: Objective did not converge. You might want to increase the number of iterations, check the scale of the features or consider increasing regularisation. Duality gap: 4.166e+00, tolerance: 3.519e-03\n",
      "  model = cd_fast.enet_coordinate_descent(\n",
      "/Users/jgfaraco/miniconda3/lib/python3.12/site-packages/sklearn/linear_model/_coordinate_descent.py:695: ConvergenceWarning: Objective did not converge. You might want to increase the number of iterations, check the scale of the features or consider increasing regularisation. Duality gap: 4.227e+00, tolerance: 3.549e-03\n",
      "  model = cd_fast.enet_coordinate_descent(\n",
      "/Users/jgfaraco/miniconda3/lib/python3.12/site-packages/sklearn/linear_model/_coordinate_descent.py:695: ConvergenceWarning: Objective did not converge. You might want to increase the number of iterations, check the scale of the features or consider increasing regularisation. Duality gap: 4.262e+00, tolerance: 3.584e-03\n",
      "  model = cd_fast.enet_coordinate_descent(\n",
      "[I 2025-05-03 19:45:37,955] Trial 62 finished with value: -0.004259191486952174 and parameters: {'alpha': 0.004010323022778368, 'l1_ratio': 0.5147008912294532, 'fit_intercept': True, 'max_iter': 3014, 'use_scaler': False, 'poly_degree': 4}. Best is trial 47 with value: -0.003283424756676366.\n",
      "[I 2025-05-03 19:45:38,008] Trial 63 finished with value: -0.014939487107574137 and parameters: {'alpha': 1.3788021357516675, 'l1_ratio': 0.1735831287539847, 'fit_intercept': True, 'max_iter': 1244, 'use_scaler': True, 'with_mean': True, 'with_std': False, 'poly_degree': 3}. Best is trial 47 with value: -0.003283424756676366.\n",
      "[I 2025-05-03 19:45:38,064] Trial 64 finished with value: -0.024290639236509086 and parameters: {'alpha': 1.2338826503602005, 'l1_ratio': 0.43202227561279516, 'fit_intercept': True, 'max_iter': 1146, 'use_scaler': True, 'with_mean': True, 'with_std': True, 'poly_degree': 3}. Best is trial 47 with value: -0.003283424756676366.\n",
      "[I 2025-05-03 19:45:38,174] Trial 65 finished with value: -0.008235303797468289 and parameters: {'alpha': 0.4603480758878797, 'l1_ratio': 0.31822345327125673, 'fit_intercept': True, 'max_iter': 1080, 'use_scaler': False, 'poly_degree': 2}. Best is trial 47 with value: -0.003283424756676366.\n",
      "/Users/jgfaraco/miniconda3/lib/python3.12/site-packages/sklearn/linear_model/_coordinate_descent.py:695: ConvergenceWarning: Objective did not converge. You might want to increase the number of iterations, check the scale of the features or consider increasing regularisation. Duality gap: 4.738e+00, tolerance: 3.529e-03\n",
      "  model = cd_fast.enet_coordinate_descent(\n",
      "/Users/jgfaraco/miniconda3/lib/python3.12/site-packages/sklearn/linear_model/_coordinate_descent.py:695: ConvergenceWarning: Objective did not converge. You might want to increase the number of iterations, check the scale of the features or consider increasing regularisation. Duality gap: 4.860e+00, tolerance: 3.519e-03\n",
      "  model = cd_fast.enet_coordinate_descent(\n",
      "/Users/jgfaraco/miniconda3/lib/python3.12/site-packages/sklearn/linear_model/_coordinate_descent.py:695: ConvergenceWarning: Objective did not converge. You might want to increase the number of iterations, check the scale of the features or consider increasing regularisation. Duality gap: 4.874e+00, tolerance: 3.475e-03\n",
      "  model = cd_fast.enet_coordinate_descent(\n",
      "/Users/jgfaraco/miniconda3/lib/python3.12/site-packages/sklearn/linear_model/_coordinate_descent.py:695: ConvergenceWarning: Objective did not converge. You might want to increase the number of iterations, check the scale of the features or consider increasing regularisation. Duality gap: 4.917e+00, tolerance: 3.549e-03\n",
      "  model = cd_fast.enet_coordinate_descent(\n",
      "/Users/jgfaraco/miniconda3/lib/python3.12/site-packages/sklearn/linear_model/_coordinate_descent.py:695: ConvergenceWarning: Objective did not converge. You might want to increase the number of iterations, check the scale of the features or consider increasing regularisation. Duality gap: 4.966e+00, tolerance: 3.584e-03\n",
      "  model = cd_fast.enet_coordinate_descent(\n",
      "[I 2025-05-03 19:45:38,786] Trial 66 finished with value: -0.005192361893900386 and parameters: {'alpha': 0.00397018422204781, 'l1_ratio': 0.9014745526659055, 'fit_intercept': True, 'max_iter': 4157, 'use_scaler': False, 'poly_degree': 3}. Best is trial 47 with value: -0.003283424756676366.\n",
      "[I 2025-05-03 19:45:38,840] Trial 67 finished with value: -4.553292469189486 and parameters: {'alpha': 0.8594202650742229, 'l1_ratio': 0.770895526765897, 'fit_intercept': False, 'max_iter': 2135, 'use_scaler': True, 'with_mean': True, 'with_std': True, 'poly_degree': 2}. Best is trial 47 with value: -0.003283424756676366.\n",
      "/Users/jgfaraco/miniconda3/lib/python3.12/site-packages/sklearn/linear_model/_coordinate_descent.py:695: ConvergenceWarning: Objective did not converge. You might want to increase the number of iterations, check the scale of the features or consider increasing regularisation. Duality gap: 6.684e+00, tolerance: 4.013e+00\n",
      "  model = cd_fast.enet_coordinate_descent(\n",
      "/Users/jgfaraco/miniconda3/lib/python3.12/site-packages/sklearn/linear_model/_coordinate_descent.py:695: ConvergenceWarning: Objective did not converge. You might want to increase the number of iterations, check the scale of the features or consider increasing regularisation. Duality gap: 6.659e+00, tolerance: 4.015e+00\n",
      "  model = cd_fast.enet_coordinate_descent(\n",
      "/Users/jgfaraco/miniconda3/lib/python3.12/site-packages/sklearn/linear_model/_coordinate_descent.py:695: ConvergenceWarning: Objective did not converge. You might want to increase the number of iterations, check the scale of the features or consider increasing regularisation. Duality gap: 6.675e+00, tolerance: 4.019e+00\n",
      "  model = cd_fast.enet_coordinate_descent(\n",
      "/Users/jgfaraco/miniconda3/lib/python3.12/site-packages/sklearn/linear_model/_coordinate_descent.py:695: ConvergenceWarning: Objective did not converge. You might want to increase the number of iterations, check the scale of the features or consider increasing regularisation. Duality gap: 6.635e+00, tolerance: 4.012e+00\n",
      "  model = cd_fast.enet_coordinate_descent(\n",
      "/Users/jgfaraco/miniconda3/lib/python3.12/site-packages/sklearn/linear_model/_coordinate_descent.py:695: ConvergenceWarning: Objective did not converge. You might want to increase the number of iterations, check the scale of the features or consider increasing regularisation. Duality gap: 6.743e+00, tolerance: 4.016e+00\n",
      "  model = cd_fast.enet_coordinate_descent(\n",
      "[I 2025-05-03 19:45:39,358] Trial 68 finished with value: -0.0035668418155084453 and parameters: {'alpha': 0.0032278427050432138, 'l1_ratio': 0.23757322526589883, 'fit_intercept': False, 'max_iter': 1746, 'use_scaler': False, 'poly_degree': 5}. Best is trial 47 with value: -0.003283424756676366.\n",
      "[I 2025-05-03 19:45:39,448] Trial 69 finished with value: -0.003809866247779638 and parameters: {'alpha': 0.0025186552636979184, 'l1_ratio': 0.5720602506132292, 'fit_intercept': True, 'max_iter': 1448, 'use_scaler': True, 'with_mean': True, 'with_std': True, 'poly_degree': 4}. Best is trial 47 with value: -0.003283424756676366.\n",
      "/Users/jgfaraco/miniconda3/lib/python3.12/site-packages/sklearn/linear_model/_coordinate_descent.py:695: ConvergenceWarning: Objective did not converge. You might want to increase the number of iterations, check the scale of the features or consider increasing regularisation. Duality gap: 1.106e+01, tolerance: 4.016e+00\n",
      "  model = cd_fast.enet_coordinate_descent(\n",
      "/Users/jgfaraco/miniconda3/lib/python3.12/site-packages/sklearn/linear_model/_coordinate_descent.py:695: ConvergenceWarning: Objective did not converge. You might want to increase the number of iterations, check the scale of the features or consider increasing regularisation. Duality gap: 1.094e+01, tolerance: 4.012e+00\n",
      "  model = cd_fast.enet_coordinate_descent(\n",
      "/Users/jgfaraco/miniconda3/lib/python3.12/site-packages/sklearn/linear_model/_coordinate_descent.py:695: ConvergenceWarning: Objective did not converge. You might want to increase the number of iterations, check the scale of the features or consider increasing regularisation. Duality gap: 1.080e+01, tolerance: 4.015e+00\n",
      "  model = cd_fast.enet_coordinate_descent(\n",
      "/Users/jgfaraco/miniconda3/lib/python3.12/site-packages/sklearn/linear_model/_coordinate_descent.py:695: ConvergenceWarning: Objective did not converge. You might want to increase the number of iterations, check the scale of the features or consider increasing regularisation. Duality gap: 1.059e+01, tolerance: 4.013e+00\n",
      "  model = cd_fast.enet_coordinate_descent(\n",
      "/Users/jgfaraco/miniconda3/lib/python3.12/site-packages/sklearn/linear_model/_coordinate_descent.py:695: ConvergenceWarning: Objective did not converge. You might want to increase the number of iterations, check the scale of the features or consider increasing regularisation. Duality gap: 1.077e+01, tolerance: 4.019e+00\n",
      "  model = cd_fast.enet_coordinate_descent(\n",
      "[I 2025-05-03 19:45:40,002] Trial 70 finished with value: -0.01092013738495412 and parameters: {'alpha': 44.348603175335356, 'l1_ratio': 0.6010866037125369, 'fit_intercept': False, 'max_iter': 4078, 'use_scaler': True, 'with_mean': False, 'with_std': True, 'poly_degree': 4}. Best is trial 47 with value: -0.003283424756676366.\n",
      "[I 2025-05-03 19:45:40,067] Trial 71 finished with value: -0.009033583156189623 and parameters: {'alpha': 0.027742958115008116, 'l1_ratio': 0.6231143992803511, 'fit_intercept': True, 'max_iter': 3130, 'use_scaler': True, 'with_mean': True, 'with_std': True, 'poly_degree': 5}. Best is trial 47 with value: -0.003283424756676366.\n",
      "/Users/jgfaraco/miniconda3/lib/python3.12/site-packages/sklearn/linear_model/_coordinate_descent.py:695: ConvergenceWarning: Objective did not converge. You might want to increase the number of iterations, check the scale of the features or consider increasing regularisation. Duality gap: 5.795e+00, tolerance: 4.013e+00\n",
      "  model = cd_fast.enet_coordinate_descent(\n",
      "/Users/jgfaraco/miniconda3/lib/python3.12/site-packages/sklearn/linear_model/_coordinate_descent.py:695: ConvergenceWarning: Objective did not converge. You might want to increase the number of iterations, check the scale of the features or consider increasing regularisation. Duality gap: 6.018e+00, tolerance: 4.016e+00\n",
      "  model = cd_fast.enet_coordinate_descent(\n",
      "/Users/jgfaraco/miniconda3/lib/python3.12/site-packages/sklearn/linear_model/_coordinate_descent.py:695: ConvergenceWarning: Objective did not converge. You might want to increase the number of iterations, check the scale of the features or consider increasing regularisation. Duality gap: 5.721e+00, tolerance: 4.015e+00\n",
      "  model = cd_fast.enet_coordinate_descent(\n",
      "/Users/jgfaraco/miniconda3/lib/python3.12/site-packages/sklearn/linear_model/_coordinate_descent.py:695: ConvergenceWarning: Objective did not converge. You might want to increase the number of iterations, check the scale of the features or consider increasing regularisation. Duality gap: 5.999e+00, tolerance: 4.012e+00\n",
      "  model = cd_fast.enet_coordinate_descent(\n",
      "/Users/jgfaraco/miniconda3/lib/python3.12/site-packages/sklearn/linear_model/_coordinate_descent.py:695: ConvergenceWarning: Objective did not converge. You might want to increase the number of iterations, check the scale of the features or consider increasing regularisation. Duality gap: 5.917e+00, tolerance: 4.019e+00\n",
      "  model = cd_fast.enet_coordinate_descent(\n",
      "[I 2025-05-03 19:45:40,742] Trial 72 finished with value: -0.008086870438623087 and parameters: {'alpha': 0.01875872314533727, 'l1_ratio': 0.7133524500015364, 'fit_intercept': False, 'max_iter': 2886, 'use_scaler': False, 'poly_degree': 5}. Best is trial 47 with value: -0.003283424756676366.\n",
      "/Users/jgfaraco/miniconda3/lib/python3.12/site-packages/sklearn/linear_model/_coordinate_descent.py:695: ConvergenceWarning: Objective did not converge. You might want to increase the number of iterations, check the scale of the features or consider increasing regularisation. Duality gap: 5.837e+00, tolerance: 3.584e-03\n",
      "  model = cd_fast.enet_coordinate_descent(\n",
      "/Users/jgfaraco/miniconda3/lib/python3.12/site-packages/sklearn/linear_model/_coordinate_descent.py:695: ConvergenceWarning: Objective did not converge. You might want to increase the number of iterations, check the scale of the features or consider increasing regularisation. Duality gap: 5.794e+00, tolerance: 3.475e-03\n",
      "  model = cd_fast.enet_coordinate_descent(\n",
      "/Users/jgfaraco/miniconda3/lib/python3.12/site-packages/sklearn/linear_model/_coordinate_descent.py:695: ConvergenceWarning: Objective did not converge. You might want to increase the number of iterations, check the scale of the features or consider increasing regularisation. Duality gap: 5.527e+00, tolerance: 3.529e-03\n",
      "  model = cd_fast.enet_coordinate_descent(\n",
      "/Users/jgfaraco/miniconda3/lib/python3.12/site-packages/sklearn/linear_model/_coordinate_descent.py:695: ConvergenceWarning: Objective did not converge. You might want to increase the number of iterations, check the scale of the features or consider increasing regularisation. Duality gap: 5.611e+00, tolerance: 3.519e-03\n",
      "  model = cd_fast.enet_coordinate_descent(\n",
      "/Users/jgfaraco/miniconda3/lib/python3.12/site-packages/sklearn/linear_model/_coordinate_descent.py:695: ConvergenceWarning: Objective did not converge. You might want to increase the number of iterations, check the scale of the features or consider increasing regularisation. Duality gap: 5.712e+00, tolerance: 3.549e-03\n",
      "  model = cd_fast.enet_coordinate_descent(\n",
      "[I 2025-05-03 19:45:41,286] Trial 73 finished with value: -0.007933464129095943 and parameters: {'alpha': 14.226466283632076, 'l1_ratio': 0.9685242195998613, 'fit_intercept': True, 'max_iter': 4754, 'use_scaler': False, 'poly_degree': 4}. Best is trial 47 with value: -0.003283424756676366.\n",
      "[I 2025-05-03 19:45:41,338] Trial 74 finished with value: -0.021452421225706255 and parameters: {'alpha': 0.7453591134153514, 'l1_ratio': 0.8576458990824449, 'fit_intercept': True, 'max_iter': 1806, 'use_scaler': True, 'with_mean': True, 'with_std': True, 'poly_degree': 5}. Best is trial 47 with value: -0.003283424756676366.\n",
      "[I 2025-05-03 19:45:41,390] Trial 75 finished with value: -0.897382999606519 and parameters: {'alpha': 0.09166964238460107, 'l1_ratio': 0.8349394955244194, 'fit_intercept': False, 'max_iter': 2851, 'use_scaler': True, 'with_mean': True, 'with_std': True, 'poly_degree': 3}. Best is trial 47 with value: -0.003283424756676366.\n",
      "/Users/jgfaraco/miniconda3/lib/python3.12/site-packages/sklearn/linear_model/_coordinate_descent.py:695: ConvergenceWarning: Objective did not converge. You might want to increase the number of iterations, check the scale of the features or consider increasing regularisation. Duality gap: 5.555e+00, tolerance: 3.529e-03\n",
      "  model = cd_fast.enet_coordinate_descent(\n",
      "/Users/jgfaraco/miniconda3/lib/python3.12/site-packages/sklearn/linear_model/_coordinate_descent.py:695: ConvergenceWarning: Objective did not converge. You might want to increase the number of iterations, check the scale of the features or consider increasing regularisation. Duality gap: 5.640e+00, tolerance: 3.519e-03\n",
      "  model = cd_fast.enet_coordinate_descent(\n",
      "/Users/jgfaraco/miniconda3/lib/python3.12/site-packages/sklearn/linear_model/_coordinate_descent.py:695: ConvergenceWarning: Objective did not converge. You might want to increase the number of iterations, check the scale of the features or consider increasing regularisation. Duality gap: 5.744e+00, tolerance: 3.549e-03\n",
      "  model = cd_fast.enet_coordinate_descent(\n",
      "/Users/jgfaraco/miniconda3/lib/python3.12/site-packages/sklearn/linear_model/_coordinate_descent.py:695: ConvergenceWarning: Objective did not converge. You might want to increase the number of iterations, check the scale of the features or consider increasing regularisation. Duality gap: 5.827e+00, tolerance: 3.475e-03\n",
      "  model = cd_fast.enet_coordinate_descent(\n",
      "/Users/jgfaraco/miniconda3/lib/python3.12/site-packages/sklearn/linear_model/_coordinate_descent.py:695: ConvergenceWarning: Objective did not converge. You might want to increase the number of iterations, check the scale of the features or consider increasing regularisation. Duality gap: 5.864e+00, tolerance: 3.584e-03\n",
      "  model = cd_fast.enet_coordinate_descent(\n",
      "[I 2025-05-03 19:45:41,796] Trial 76 finished with value: -0.007966793695197339 and parameters: {'alpha': 34.069091670272684, 'l1_ratio': 0.6618141963225929, 'fit_intercept': True, 'max_iter': 3511, 'use_scaler': False, 'poly_degree': 4}. Best is trial 47 with value: -0.003283424756676366.\n",
      "/Users/jgfaraco/miniconda3/lib/python3.12/site-packages/sklearn/linear_model/_coordinate_descent.py:695: ConvergenceWarning: Objective did not converge. You might want to increase the number of iterations, check the scale of the features or consider increasing regularisation. Duality gap: 8.060e+00, tolerance: 4.015e+00\n",
      "  model = cd_fast.enet_coordinate_descent(\n",
      "/Users/jgfaraco/miniconda3/lib/python3.12/site-packages/sklearn/linear_model/_coordinate_descent.py:695: ConvergenceWarning: Objective did not converge. You might want to increase the number of iterations, check the scale of the features or consider increasing regularisation. Duality gap: 8.141e+00, tolerance: 4.013e+00\n",
      "  model = cd_fast.enet_coordinate_descent(\n",
      "/Users/jgfaraco/miniconda3/lib/python3.12/site-packages/sklearn/linear_model/_coordinate_descent.py:695: ConvergenceWarning: Objective did not converge. You might want to increase the number of iterations, check the scale of the features or consider increasing regularisation. Duality gap: 8.392e+00, tolerance: 4.016e+00\n",
      "  model = cd_fast.enet_coordinate_descent(\n",
      "/Users/jgfaraco/miniconda3/lib/python3.12/site-packages/sklearn/linear_model/_coordinate_descent.py:695: ConvergenceWarning: Objective did not converge. You might want to increase the number of iterations, check the scale of the features or consider increasing regularisation. Duality gap: 8.245e+00, tolerance: 4.019e+00\n",
      "  model = cd_fast.enet_coordinate_descent(\n",
      "/Users/jgfaraco/miniconda3/lib/python3.12/site-packages/sklearn/linear_model/_coordinate_descent.py:695: ConvergenceWarning: Objective did not converge. You might want to increase the number of iterations, check the scale of the features or consider increasing regularisation. Duality gap: 8.328e+00, tolerance: 4.012e+00\n",
      "  model = cd_fast.enet_coordinate_descent(\n",
      "[I 2025-05-03 19:45:42,025] Trial 77 finished with value: -0.008275797356691626 and parameters: {'alpha': 1.2599803717697282, 'l1_ratio': 0.5801149827786893, 'fit_intercept': False, 'max_iter': 1606, 'use_scaler': False, 'poly_degree': 4}. Best is trial 47 with value: -0.003283424756676366.\n",
      "/Users/jgfaraco/miniconda3/lib/python3.12/site-packages/sklearn/linear_model/_coordinate_descent.py:695: ConvergenceWarning: Objective did not converge. You might want to increase the number of iterations, check the scale of the features or consider increasing regularisation. Duality gap: 3.248e+00, tolerance: 3.519e-03\n",
      "  model = cd_fast.enet_coordinate_descent(\n",
      "/Users/jgfaraco/miniconda3/lib/python3.12/site-packages/sklearn/linear_model/_coordinate_descent.py:695: ConvergenceWarning: Objective did not converge. You might want to increase the number of iterations, check the scale of the features or consider increasing regularisation. Duality gap: 3.220e+00, tolerance: 3.475e-03\n",
      "  model = cd_fast.enet_coordinate_descent(\n",
      "/Users/jgfaraco/miniconda3/lib/python3.12/site-packages/sklearn/linear_model/_coordinate_descent.py:695: ConvergenceWarning: Objective did not converge. You might want to increase the number of iterations, check the scale of the features or consider increasing regularisation. Duality gap: 3.245e+00, tolerance: 3.529e-03\n",
      "  model = cd_fast.enet_coordinate_descent(\n",
      "/Users/jgfaraco/miniconda3/lib/python3.12/site-packages/sklearn/linear_model/_coordinate_descent.py:695: ConvergenceWarning: Objective did not converge. You might want to increase the number of iterations, check the scale of the features or consider increasing regularisation. Duality gap: 3.325e+00, tolerance: 3.584e-03\n",
      "  model = cd_fast.enet_coordinate_descent(\n",
      "/Users/jgfaraco/miniconda3/lib/python3.12/site-packages/sklearn/linear_model/_coordinate_descent.py:695: ConvergenceWarning: Objective did not converge. You might want to increase the number of iterations, check the scale of the features or consider increasing regularisation. Duality gap: 3.323e+00, tolerance: 3.549e-03\n",
      "  model = cd_fast.enet_coordinate_descent(\n",
      "[I 2025-05-03 19:45:42,813] Trial 78 finished with value: -0.0034502546642975187 and parameters: {'alpha': 0.0014711676743602241, 'l1_ratio': 0.6129007163841849, 'fit_intercept': True, 'max_iter': 2368, 'use_scaler': False, 'poly_degree': 5}. Best is trial 47 with value: -0.003283424756676366.\n",
      "/Users/jgfaraco/miniconda3/lib/python3.12/site-packages/sklearn/linear_model/_coordinate_descent.py:695: ConvergenceWarning: Objective did not converge. You might want to increase the number of iterations, check the scale of the features or consider increasing regularisation. Duality gap: 8.500e+00, tolerance: 4.015e+00\n",
      "  model = cd_fast.enet_coordinate_descent(\n",
      "/Users/jgfaraco/miniconda3/lib/python3.12/site-packages/sklearn/linear_model/_coordinate_descent.py:695: ConvergenceWarning: Objective did not converge. You might want to increase the number of iterations, check the scale of the features or consider increasing regularisation. Duality gap: 8.527e+00, tolerance: 4.012e+00\n",
      "  model = cd_fast.enet_coordinate_descent(\n",
      "/Users/jgfaraco/miniconda3/lib/python3.12/site-packages/sklearn/linear_model/_coordinate_descent.py:695: ConvergenceWarning: Objective did not converge. You might want to increase the number of iterations, check the scale of the features or consider increasing regularisation. Duality gap: 8.547e+00, tolerance: 4.013e+00\n",
      "  model = cd_fast.enet_coordinate_descent(\n",
      "/Users/jgfaraco/miniconda3/lib/python3.12/site-packages/sklearn/linear_model/_coordinate_descent.py:695: ConvergenceWarning: Objective did not converge. You might want to increase the number of iterations, check the scale of the features or consider increasing regularisation. Duality gap: 8.667e+00, tolerance: 4.016e+00\n",
      "  model = cd_fast.enet_coordinate_descent(\n",
      "/Users/jgfaraco/miniconda3/lib/python3.12/site-packages/sklearn/linear_model/_coordinate_descent.py:695: ConvergenceWarning: Objective did not converge. You might want to increase the number of iterations, check the scale of the features or consider increasing regularisation. Duality gap: 8.539e+00, tolerance: 4.019e+00\n",
      "  model = cd_fast.enet_coordinate_descent(\n",
      "[I 2025-05-03 19:45:43,129] Trial 79 finished with value: -0.004265403774611648 and parameters: {'alpha': 0.004339536161007622, 'l1_ratio': 0.45755856150433055, 'fit_intercept': False, 'max_iter': 1917, 'use_scaler': False, 'poly_degree': 4}. Best is trial 47 with value: -0.003283424756676366.\n",
      "/Users/jgfaraco/miniconda3/lib/python3.12/site-packages/sklearn/linear_model/_coordinate_descent.py:695: ConvergenceWarning: Objective did not converge. You might want to increase the number of iterations, check the scale of the features or consider increasing regularisation. Duality gap: 3.001e+00, tolerance: 3.519e-03\n",
      "  model = cd_fast.enet_coordinate_descent(\n",
      "/Users/jgfaraco/miniconda3/lib/python3.12/site-packages/sklearn/linear_model/_coordinate_descent.py:695: ConvergenceWarning: Objective did not converge. You might want to increase the number of iterations, check the scale of the features or consider increasing regularisation. Duality gap: 3.602e+00, tolerance: 3.529e-03\n",
      "  model = cd_fast.enet_coordinate_descent(\n",
      "/Users/jgfaraco/miniconda3/lib/python3.12/site-packages/sklearn/linear_model/_coordinate_descent.py:695: ConvergenceWarning: Objective did not converge. You might want to increase the number of iterations, check the scale of the features or consider increasing regularisation. Duality gap: 3.996e+00, tolerance: 3.584e-03\n",
      "  model = cd_fast.enet_coordinate_descent(\n",
      "/Users/jgfaraco/miniconda3/lib/python3.12/site-packages/sklearn/linear_model/_coordinate_descent.py:695: ConvergenceWarning: Objective did not converge. You might want to increase the number of iterations, check the scale of the features or consider increasing regularisation. Duality gap: 3.025e+00, tolerance: 3.549e-03\n",
      "  model = cd_fast.enet_coordinate_descent(\n",
      "/Users/jgfaraco/miniconda3/lib/python3.12/site-packages/sklearn/linear_model/_coordinate_descent.py:695: ConvergenceWarning: Objective did not converge. You might want to increase the number of iterations, check the scale of the features or consider increasing regularisation. Duality gap: 3.607e+00, tolerance: 3.475e-03\n",
      "  model = cd_fast.enet_coordinate_descent(\n",
      "[I 2025-05-03 19:45:43,333] Trial 80 finished with value: -0.00818963804532977 and parameters: {'alpha': 2.9494580414152707, 'l1_ratio': 0.5884519990128366, 'fit_intercept': True, 'max_iter': 1726, 'use_scaler': False, 'poly_degree': 3}. Best is trial 47 with value: -0.003283424756676366.\n",
      "/Users/jgfaraco/miniconda3/lib/python3.12/site-packages/sklearn/linear_model/_coordinate_descent.py:695: ConvergenceWarning: Objective did not converge. You might want to increase the number of iterations, check the scale of the features or consider increasing regularisation. Duality gap: 5.415e+00, tolerance: 3.529e-03\n",
      "  model = cd_fast.enet_coordinate_descent(\n",
      "/Users/jgfaraco/miniconda3/lib/python3.12/site-packages/sklearn/linear_model/_coordinate_descent.py:695: ConvergenceWarning: Objective did not converge. You might want to increase the number of iterations, check the scale of the features or consider increasing regularisation. Duality gap: 5.492e+00, tolerance: 3.519e-03\n",
      "  model = cd_fast.enet_coordinate_descent(\n",
      "/Users/jgfaraco/miniconda3/lib/python3.12/site-packages/sklearn/linear_model/_coordinate_descent.py:695: ConvergenceWarning: Objective did not converge. You might want to increase the number of iterations, check the scale of the features or consider increasing regularisation. Duality gap: 5.677e+00, tolerance: 3.475e-03\n",
      "  model = cd_fast.enet_coordinate_descent(\n",
      "/Users/jgfaraco/miniconda3/lib/python3.12/site-packages/sklearn/linear_model/_coordinate_descent.py:695: ConvergenceWarning: Objective did not converge. You might want to increase the number of iterations, check the scale of the features or consider increasing regularisation. Duality gap: 5.731e+00, tolerance: 3.584e-03\n",
      "  model = cd_fast.enet_coordinate_descent(\n",
      "/Users/jgfaraco/miniconda3/lib/python3.12/site-packages/sklearn/linear_model/_coordinate_descent.py:695: ConvergenceWarning: Objective did not converge. You might want to increase the number of iterations, check the scale of the features or consider increasing regularisation. Duality gap: 5.597e+00, tolerance: 3.549e-03\n",
      "  model = cd_fast.enet_coordinate_descent(\n",
      "[I 2025-05-03 19:45:43,931] Trial 81 finished with value: -0.00767483708105023 and parameters: {'alpha': 0.20418743718729587, 'l1_ratio': 0.9525550056506338, 'fit_intercept': True, 'max_iter': 3024, 'use_scaler': False, 'poly_degree': 5}. Best is trial 47 with value: -0.003283424756676366.\n",
      "[I 2025-05-03 19:45:44,021] Trial 82 finished with value: -0.01592210974325595 and parameters: {'alpha': 45.77110660026056, 'l1_ratio': 0.6086198652302881, 'fit_intercept': True, 'max_iter': 3829, 'use_scaler': True, 'with_mean': True, 'with_std': False, 'poly_degree': 5}. Best is trial 47 with value: -0.003283424756676366.\n",
      "/Users/jgfaraco/miniconda3/lib/python3.12/site-packages/sklearn/linear_model/_coordinate_descent.py:695: ConvergenceWarning: Objective did not converge. You might want to increase the number of iterations, check the scale of the features or consider increasing regularisation. Duality gap: 6.477e+00, tolerance: 4.015e+00\n",
      "  model = cd_fast.enet_coordinate_descent(\n",
      "/Users/jgfaraco/miniconda3/lib/python3.12/site-packages/sklearn/linear_model/_coordinate_descent.py:695: ConvergenceWarning: Objective did not converge. You might want to increase the number of iterations, check the scale of the features or consider increasing regularisation. Duality gap: 6.698e+00, tolerance: 4.019e+00\n",
      "  model = cd_fast.enet_coordinate_descent(\n",
      "/Users/jgfaraco/miniconda3/lib/python3.12/site-packages/sklearn/linear_model/_coordinate_descent.py:695: ConvergenceWarning: Objective did not converge. You might want to increase the number of iterations, check the scale of the features or consider increasing regularisation. Duality gap: 6.625e+00, tolerance: 4.013e+00\n",
      "  model = cd_fast.enet_coordinate_descent(\n",
      "/Users/jgfaraco/miniconda3/lib/python3.12/site-packages/sklearn/linear_model/_coordinate_descent.py:695: ConvergenceWarning: Objective did not converge. You might want to increase the number of iterations, check the scale of the features or consider increasing regularisation. Duality gap: 6.734e+00, tolerance: 4.012e+00\n",
      "  model = cd_fast.enet_coordinate_descent(\n",
      "/Users/jgfaraco/miniconda3/lib/python3.12/site-packages/sklearn/linear_model/_coordinate_descent.py:695: ConvergenceWarning: Objective did not converge. You might want to increase the number of iterations, check the scale of the features or consider increasing regularisation. Duality gap: 6.862e+00, tolerance: 4.016e+00\n",
      "  model = cd_fast.enet_coordinate_descent(\n",
      "[I 2025-05-03 19:45:44,190] Trial 83 finished with value: -0.00863421540982028 and parameters: {'alpha': 0.17955473281682394, 'l1_ratio': 0.20191424125667973, 'fit_intercept': False, 'max_iter': 1498, 'use_scaler': False, 'poly_degree': 3}. Best is trial 47 with value: -0.003283424756676366.\n",
      "[I 2025-05-03 19:45:44,234] Trial 84 finished with value: -0.008255363361901996 and parameters: {'alpha': 0.9044346216330983, 'l1_ratio': 0.45910243348311724, 'fit_intercept': True, 'max_iter': 4212, 'use_scaler': True, 'with_mean': False, 'with_std': True, 'poly_degree': 2}. Best is trial 47 with value: -0.003283424756676366.\n",
      "/Users/jgfaraco/miniconda3/lib/python3.12/site-packages/sklearn/linear_model/_coordinate_descent.py:695: ConvergenceWarning: Objective did not converge. You might want to increase the number of iterations, check the scale of the features or consider increasing regularisation. Duality gap: 5.859e+00, tolerance: 3.475e-03\n",
      "  model = cd_fast.enet_coordinate_descent(\n",
      "/Users/jgfaraco/miniconda3/lib/python3.12/site-packages/sklearn/linear_model/_coordinate_descent.py:695: ConvergenceWarning: Objective did not converge. You might want to increase the number of iterations, check the scale of the features or consider increasing regularisation. Duality gap: 5.587e+00, tolerance: 3.529e-03\n",
      "  model = cd_fast.enet_coordinate_descent(\n",
      "/Users/jgfaraco/miniconda3/lib/python3.12/site-packages/sklearn/linear_model/_coordinate_descent.py:695: ConvergenceWarning: Objective did not converge. You might want to increase the number of iterations, check the scale of the features or consider increasing regularisation. Duality gap: 5.663e+00, tolerance: 3.519e-03\n",
      "  model = cd_fast.enet_coordinate_descent(\n",
      "/Users/jgfaraco/miniconda3/lib/python3.12/site-packages/sklearn/linear_model/_coordinate_descent.py:695: ConvergenceWarning: Objective did not converge. You might want to increase the number of iterations, check the scale of the features or consider increasing regularisation. Duality gap: 5.888e+00, tolerance: 3.584e-03\n",
      "  model = cd_fast.enet_coordinate_descent(\n",
      "/Users/jgfaraco/miniconda3/lib/python3.12/site-packages/sklearn/linear_model/_coordinate_descent.py:695: ConvergenceWarning: Objective did not converge. You might want to increase the number of iterations, check the scale of the features or consider increasing regularisation. Duality gap: 5.776e+00, tolerance: 3.549e-03\n",
      "  model = cd_fast.enet_coordinate_descent(\n",
      "[I 2025-05-03 19:45:44,441] Trial 85 finished with value: -0.008011757085077963 and parameters: {'alpha': 4.869745226446183, 'l1_ratio': 0.5069961468008265, 'fit_intercept': True, 'max_iter': 1563, 'use_scaler': True, 'with_mean': False, 'with_std': False, 'poly_degree': 4}. Best is trial 47 with value: -0.003283424756676366.\n",
      "/Users/jgfaraco/miniconda3/lib/python3.12/site-packages/sklearn/linear_model/_coordinate_descent.py:695: ConvergenceWarning: Objective did not converge. You might want to increase the number of iterations, check the scale of the features or consider increasing regularisation. Duality gap: 3.164e+00, tolerance: 3.529e-03\n",
      "  model = cd_fast.enet_coordinate_descent(\n",
      "/Users/jgfaraco/miniconda3/lib/python3.12/site-packages/sklearn/linear_model/_coordinate_descent.py:695: ConvergenceWarning: Objective did not converge. You might want to increase the number of iterations, check the scale of the features or consider increasing regularisation. Duality gap: 3.164e+00, tolerance: 3.519e-03\n",
      "  model = cd_fast.enet_coordinate_descent(\n",
      "/Users/jgfaraco/miniconda3/lib/python3.12/site-packages/sklearn/linear_model/_coordinate_descent.py:695: ConvergenceWarning: Objective did not converge. You might want to increase the number of iterations, check the scale of the features or consider increasing regularisation. Duality gap: 3.139e+00, tolerance: 3.475e-03\n",
      "  model = cd_fast.enet_coordinate_descent(\n",
      "/Users/jgfaraco/miniconda3/lib/python3.12/site-packages/sklearn/linear_model/_coordinate_descent.py:695: ConvergenceWarning: Objective did not converge. You might want to increase the number of iterations, check the scale of the features or consider increasing regularisation. Duality gap: 3.238e+00, tolerance: 3.584e-03\n",
      "  model = cd_fast.enet_coordinate_descent(\n",
      "/Users/jgfaraco/miniconda3/lib/python3.12/site-packages/sklearn/linear_model/_coordinate_descent.py:695: ConvergenceWarning: Objective did not converge. You might want to increase the number of iterations, check the scale of the features or consider increasing regularisation. Duality gap: 3.243e+00, tolerance: 3.549e-03\n",
      "  model = cd_fast.enet_coordinate_descent(\n",
      "[I 2025-05-03 19:45:44,976] Trial 86 finished with value: -0.0034053900108710873 and parameters: {'alpha': 0.001162712343304238, 'l1_ratio': 0.6971836348150395, 'fit_intercept': True, 'max_iter': 1594, 'use_scaler': False, 'poly_degree': 5}. Best is trial 47 with value: -0.003283424756676366.\n",
      "[I 2025-05-03 19:45:45,017] Trial 87 finished with value: -0.017851062553680384 and parameters: {'alpha': 0.3243209859731718, 'l1_ratio': 0.6358465155880394, 'fit_intercept': True, 'max_iter': 1839, 'use_scaler': False, 'poly_degree': 1}. Best is trial 47 with value: -0.003283424756676366.\n",
      "[I 2025-05-03 19:45:45,070] Trial 88 finished with value: -0.234972529452009 and parameters: {'alpha': 0.0015231698662987007, 'l1_ratio': 0.5248602505989993, 'fit_intercept': False, 'max_iter': 4102, 'use_scaler': True, 'with_mean': True, 'with_std': True, 'poly_degree': 1}. Best is trial 47 with value: -0.003283424756676366.\n",
      "[I 2025-05-03 19:45:45,109] Trial 89 finished with value: -0.018974409469166065 and parameters: {'alpha': 20.36704885116247, 'l1_ratio': 0.9515039159202695, 'fit_intercept': False, 'max_iter': 3576, 'use_scaler': False, 'poly_degree': 1}. Best is trial 47 with value: -0.003283424756676366.\n",
      "[I 2025-05-03 19:45:45,149] Trial 90 finished with value: -0.024290639236509086 and parameters: {'alpha': 3.800678588560611, 'l1_ratio': 0.6930315477191362, 'fit_intercept': True, 'max_iter': 1924, 'use_scaler': False, 'poly_degree': 1}. Best is trial 47 with value: -0.003283424756676366.\n",
      "[I 2025-05-03 19:45:45,189] Trial 91 finished with value: -9.620281535292113 and parameters: {'alpha': 9.990343636832112, 'l1_ratio': 0.26069019584890024, 'fit_intercept': False, 'max_iter': 1397, 'use_scaler': True, 'with_mean': True, 'with_std': False, 'poly_degree': 2}. Best is trial 47 with value: -0.003283424756676366.\n",
      "[I 2025-05-03 19:45:45,230] Trial 92 finished with value: -0.009942851923293911 and parameters: {'alpha': 0.029223932177816204, 'l1_ratio': 0.9067022366690078, 'fit_intercept': True, 'max_iter': 1831, 'use_scaler': True, 'with_mean': True, 'with_std': True, 'poly_degree': 2}. Best is trial 47 with value: -0.003283424756676366.\n",
      "[I 2025-05-03 19:45:45,282] Trial 93 finished with value: -0.4300702609122197 and parameters: {'alpha': 0.0198206168884552, 'l1_ratio': 0.44172316735054024, 'fit_intercept': False, 'max_iter': 3497, 'use_scaler': True, 'with_mean': True, 'with_std': True, 'poly_degree': 1}. Best is trial 47 with value: -0.003283424756676366.\n",
      "/Users/jgfaraco/miniconda3/lib/python3.12/site-packages/sklearn/linear_model/_coordinate_descent.py:695: ConvergenceWarning: Objective did not converge. You might want to increase the number of iterations, check the scale of the features or consider increasing regularisation. Duality gap: 1.222e+01, tolerance: 4.015e+00\n",
      "  model = cd_fast.enet_coordinate_descent(\n",
      "/Users/jgfaraco/miniconda3/lib/python3.12/site-packages/sklearn/linear_model/_coordinate_descent.py:695: ConvergenceWarning: Objective did not converge. You might want to increase the number of iterations, check the scale of the features or consider increasing regularisation. Duality gap: 1.246e+01, tolerance: 4.012e+00\n",
      "  model = cd_fast.enet_coordinate_descent(\n",
      "/Users/jgfaraco/miniconda3/lib/python3.12/site-packages/sklearn/linear_model/_coordinate_descent.py:695: ConvergenceWarning: Objective did not converge. You might want to increase the number of iterations, check the scale of the features or consider increasing regularisation. Duality gap: 1.249e+01, tolerance: 4.016e+00\n",
      "  model = cd_fast.enet_coordinate_descent(\n",
      "/Users/jgfaraco/miniconda3/lib/python3.12/site-packages/sklearn/linear_model/_coordinate_descent.py:695: ConvergenceWarning: Objective did not converge. You might want to increase the number of iterations, check the scale of the features or consider increasing regularisation. Duality gap: 1.212e+01, tolerance: 4.013e+00\n",
      "  model = cd_fast.enet_coordinate_descent(\n",
      "/Users/jgfaraco/miniconda3/lib/python3.12/site-packages/sklearn/linear_model/_coordinate_descent.py:695: ConvergenceWarning: Objective did not converge. You might want to increase the number of iterations, check the scale of the features or consider increasing regularisation. Duality gap: 1.224e+01, tolerance: 4.019e+00\n",
      "  model = cd_fast.enet_coordinate_descent(\n",
      "[I 2025-05-03 19:45:45,912] Trial 94 finished with value: -0.008470242219982951 and parameters: {'alpha': 21.995805943313208, 'l1_ratio': 0.5386880784245623, 'fit_intercept': False, 'max_iter': 2701, 'use_scaler': True, 'with_mean': False, 'with_std': True, 'poly_degree': 5}. Best is trial 47 with value: -0.003283424756676366.\n",
      "[I 2025-05-03 19:45:45,963] Trial 95 finished with value: -0.0081909918091074 and parameters: {'alpha': 83.56239973758206, 'l1_ratio': 0.5731211640724173, 'fit_intercept': True, 'max_iter': 1073, 'use_scaler': False, 'poly_degree': 3}. Best is trial 47 with value: -0.003283424756676366.\n",
      "[I 2025-05-03 19:45:46,114] Trial 96 finished with value: -0.009485964878324097 and parameters: {'alpha': 0.023457196365169432, 'l1_ratio': 0.5987602022642141, 'fit_intercept': True, 'max_iter': 1825, 'use_scaler': True, 'with_mean': True, 'with_std': False, 'poly_degree': 4}. Best is trial 47 with value: -0.003283424756676366.\n",
      "[I 2025-05-03 19:45:46,164] Trial 97 finished with value: -0.28212871212674684 and parameters: {'alpha': 0.007531064950403672, 'l1_ratio': 0.9229707513324639, 'fit_intercept': False, 'max_iter': 3076, 'use_scaler': True, 'with_mean': True, 'with_std': True, 'poly_degree': 2}. Best is trial 47 with value: -0.003283424756676366.\n",
      "[I 2025-05-03 19:45:46,213] Trial 98 finished with value: -0.45208390753899186 and parameters: {'alpha': 0.02776314644135441, 'l1_ratio': 0.42010544481845424, 'fit_intercept': False, 'max_iter': 3266, 'use_scaler': True, 'with_mean': True, 'with_std': True, 'poly_degree': 2}. Best is trial 47 with value: -0.003283424756676366.\n",
      "[I 2025-05-03 19:45:46,254] Trial 99 finished with value: -0.017779137486160584 and parameters: {'alpha': 0.9449082775607387, 'l1_ratio': 0.1462832321358253, 'fit_intercept': True, 'max_iter': 2337, 'use_scaler': False, 'poly_degree': 1}. Best is trial 47 with value: -0.003283424756676366.\n"
     ]
    }
   ],
   "source": [
    "study.optimize(objective, n_trials=100)"
   ]
  },
  {
   "cell_type": "code",
   "execution_count": 309,
   "metadata": {},
   "outputs": [
    {
     "data": {
      "application/vnd.plotly.v1+json": {
       "config": {
        "plotlyServerURL": "https://plot.ly"
       },
       "data": [
        {
         "mode": "markers",
         "name": "Objective Value",
         "type": "scatter",
         "x": [
          0,
          1,
          2,
          3,
          4,
          5,
          6,
          7,
          8,
          9,
          10,
          11,
          12,
          13,
          14,
          15,
          16,
          17,
          18,
          19,
          20,
          21,
          22,
          23,
          24,
          25,
          26,
          27,
          28,
          29,
          30,
          31,
          32,
          33,
          34,
          35,
          36,
          37,
          38,
          39,
          40,
          41,
          42,
          43,
          44,
          45,
          46,
          47,
          48,
          49,
          50,
          51,
          52,
          53,
          54,
          55,
          56,
          57,
          58,
          59,
          60,
          61,
          62,
          63,
          64,
          65,
          66,
          67,
          68,
          69,
          70,
          71,
          72,
          73,
          74,
          75,
          76,
          77,
          78,
          79,
          80,
          81,
          82,
          83,
          84,
          85,
          86,
          87,
          88,
          89,
          90,
          91,
          92,
          93,
          94,
          95,
          96,
          97,
          98,
          99
         ],
         "y": [
          -0.008174439361756,
          -0.019488022433032954,
          -0.008326502242811062,
          -3.834418109497618,
          -0.004386162586735751,
          -0.008081349725195225,
          -0.0038730211812538487,
          -0.004530247500003052,
          -0.01887988533559028,
          -0.00812763257427078,
          -0.018883274497980454,
          -0.0036520245157044607,
          -0.024290639236509086,
          -0.0069031259198678255,
          -0.0040151544733300765,
          -11.920643550673033,
          -0.0047891037730046675,
          -0.018879515421546162,
          -0.0037215309281044585,
          -0.5368030656411564,
          -0.007956341559542482,
          -0.009914880618416538,
          -0.008104296404162334,
          -0.008188602525812853,
          -0.00825547930563265,
          -0.0036423800083562026,
          -0.024290639236509086,
          -0.007935450252578254,
          -0.0079554931517129,
          -0.008190965149451715,
          -0.007956772792106295,
          -0.008737336953697697,
          -0.008239189039503478,
          -0.00823461334668887,
          -0.024290639236509086,
          -0.008777948209563041,
          -0.008109474965559315,
          -0.024290639236509086,
          -0.017853969764532306,
          -0.008124328705455246,
          -18.75024515813632,
          -0.007937774159344376,
          -0.008296208037214486,
          -0.0078409852809102,
          -0.0036458062220303122,
          -0.004180541849925097,
          -27.604321376178568,
          -0.003283424756676366,
          -0.0077811642917170135,
          -0.003872681550184239,
          -0.007924950453962111,
          -0.4340465625299199,
          -0.008222547521662443,
          -0.008129689081819042,
          -0.008504136201989263,
          -0.008022889778263672,
          -0.00773352414812214,
          -0.01888976499624415,
          -0.009594785513697145,
          -0.005772954495304267,
          -0.008019982080494287,
          -0.005165029209850389,
          -0.004259191486952174,
          -0.014939487107574137,
          -0.024290639236509086,
          -0.008235303797468289,
          -0.005192361893900386,
          -4.553292469189486,
          -0.0035668418155084453,
          -0.003809866247779638,
          -0.01092013738495412,
          -0.009033583156189623,
          -0.008086870438623087,
          -0.007933464129095943,
          -0.021452421225706255,
          -0.897382999606519,
          -0.007966793695197339,
          -0.008275797356691626,
          -0.0034502546642975187,
          -0.004265403774611648,
          -0.00818963804532977,
          -0.00767483708105023,
          -0.01592210974325595,
          -0.00863421540982028,
          -0.008255363361901996,
          -0.008011757085077963,
          -0.0034053900108710873,
          -0.017851062553680384,
          -0.234972529452009,
          -0.018974409469166065,
          -0.024290639236509086,
          -9.620281535292113,
          -0.009942851923293911,
          -0.4300702609122197,
          -0.008470242219982951,
          -0.0081909918091074,
          -0.009485964878324097,
          -0.28212871212674684,
          -0.45208390753899186,
          -0.017779137486160584
         ]
        },
        {
         "mode": "lines",
         "name": "Best Value",
         "type": "scatter",
         "x": [
          0,
          1,
          2,
          3,
          4,
          5,
          6,
          7,
          8,
          9,
          10,
          11,
          12,
          13,
          14,
          15,
          16,
          17,
          18,
          19,
          20,
          21,
          22,
          23,
          24,
          25,
          26,
          27,
          28,
          29,
          30,
          31,
          32,
          33,
          34,
          35,
          36,
          37,
          38,
          39,
          40,
          41,
          42,
          43,
          44,
          45,
          46,
          47,
          48,
          49,
          50,
          51,
          52,
          53,
          54,
          55,
          56,
          57,
          58,
          59,
          60,
          61,
          62,
          63,
          64,
          65,
          66,
          67,
          68,
          69,
          70,
          71,
          72,
          73,
          74,
          75,
          76,
          77,
          78,
          79,
          80,
          81,
          82,
          83,
          84,
          85,
          86,
          87,
          88,
          89,
          90,
          91,
          92,
          93,
          94,
          95,
          96,
          97,
          98,
          99
         ],
         "y": [
          -0.008174439361756,
          -0.008174439361756,
          -0.008174439361756,
          -0.008174439361756,
          -0.004386162586735751,
          -0.004386162586735751,
          -0.0038730211812538487,
          -0.0038730211812538487,
          -0.0038730211812538487,
          -0.0038730211812538487,
          -0.0038730211812538487,
          -0.0036520245157044607,
          -0.0036520245157044607,
          -0.0036520245157044607,
          -0.0036520245157044607,
          -0.0036520245157044607,
          -0.0036520245157044607,
          -0.0036520245157044607,
          -0.0036520245157044607,
          -0.0036520245157044607,
          -0.0036520245157044607,
          -0.0036520245157044607,
          -0.0036520245157044607,
          -0.0036520245157044607,
          -0.0036520245157044607,
          -0.0036423800083562026,
          -0.0036423800083562026,
          -0.0036423800083562026,
          -0.0036423800083562026,
          -0.0036423800083562026,
          -0.0036423800083562026,
          -0.0036423800083562026,
          -0.0036423800083562026,
          -0.0036423800083562026,
          -0.0036423800083562026,
          -0.0036423800083562026,
          -0.0036423800083562026,
          -0.0036423800083562026,
          -0.0036423800083562026,
          -0.0036423800083562026,
          -0.0036423800083562026,
          -0.0036423800083562026,
          -0.0036423800083562026,
          -0.0036423800083562026,
          -0.0036423800083562026,
          -0.0036423800083562026,
          -0.0036423800083562026,
          -0.003283424756676366,
          -0.003283424756676366,
          -0.003283424756676366,
          -0.003283424756676366,
          -0.003283424756676366,
          -0.003283424756676366,
          -0.003283424756676366,
          -0.003283424756676366,
          -0.003283424756676366,
          -0.003283424756676366,
          -0.003283424756676366,
          -0.003283424756676366,
          -0.003283424756676366,
          -0.003283424756676366,
          -0.003283424756676366,
          -0.003283424756676366,
          -0.003283424756676366,
          -0.003283424756676366,
          -0.003283424756676366,
          -0.003283424756676366,
          -0.003283424756676366,
          -0.003283424756676366,
          -0.003283424756676366,
          -0.003283424756676366,
          -0.003283424756676366,
          -0.003283424756676366,
          -0.003283424756676366,
          -0.003283424756676366,
          -0.003283424756676366,
          -0.003283424756676366,
          -0.003283424756676366,
          -0.003283424756676366,
          -0.003283424756676366,
          -0.003283424756676366,
          -0.003283424756676366,
          -0.003283424756676366,
          -0.003283424756676366,
          -0.003283424756676366,
          -0.003283424756676366,
          -0.003283424756676366,
          -0.003283424756676366,
          -0.003283424756676366,
          -0.003283424756676366,
          -0.003283424756676366,
          -0.003283424756676366,
          -0.003283424756676366,
          -0.003283424756676366,
          -0.003283424756676366,
          -0.003283424756676366,
          -0.003283424756676366,
          -0.003283424756676366,
          -0.003283424756676366,
          -0.003283424756676366
         ]
        },
        {
         "marker": {
          "color": "#cccccc"
         },
         "mode": "markers",
         "name": "Infeasible Trial",
         "showlegend": false,
         "type": "scatter",
         "x": [],
         "y": []
        }
       ],
       "layout": {
        "template": {
         "data": {
          "bar": [
           {
            "error_x": {
             "color": "#2a3f5f"
            },
            "error_y": {
             "color": "#2a3f5f"
            },
            "marker": {
             "line": {
              "color": "#E5ECF6",
              "width": 0.5
             },
             "pattern": {
              "fillmode": "overlay",
              "size": 10,
              "solidity": 0.2
             }
            },
            "type": "bar"
           }
          ],
          "barpolar": [
           {
            "marker": {
             "line": {
              "color": "#E5ECF6",
              "width": 0.5
             },
             "pattern": {
              "fillmode": "overlay",
              "size": 10,
              "solidity": 0.2
             }
            },
            "type": "barpolar"
           }
          ],
          "carpet": [
           {
            "aaxis": {
             "endlinecolor": "#2a3f5f",
             "gridcolor": "white",
             "linecolor": "white",
             "minorgridcolor": "white",
             "startlinecolor": "#2a3f5f"
            },
            "baxis": {
             "endlinecolor": "#2a3f5f",
             "gridcolor": "white",
             "linecolor": "white",
             "minorgridcolor": "white",
             "startlinecolor": "#2a3f5f"
            },
            "type": "carpet"
           }
          ],
          "choropleth": [
           {
            "colorbar": {
             "outlinewidth": 0,
             "ticks": ""
            },
            "type": "choropleth"
           }
          ],
          "contour": [
           {
            "colorbar": {
             "outlinewidth": 0,
             "ticks": ""
            },
            "colorscale": [
             [
              0,
              "#0d0887"
             ],
             [
              0.1111111111111111,
              "#46039f"
             ],
             [
              0.2222222222222222,
              "#7201a8"
             ],
             [
              0.3333333333333333,
              "#9c179e"
             ],
             [
              0.4444444444444444,
              "#bd3786"
             ],
             [
              0.5555555555555556,
              "#d8576b"
             ],
             [
              0.6666666666666666,
              "#ed7953"
             ],
             [
              0.7777777777777778,
              "#fb9f3a"
             ],
             [
              0.8888888888888888,
              "#fdca26"
             ],
             [
              1,
              "#f0f921"
             ]
            ],
            "type": "contour"
           }
          ],
          "contourcarpet": [
           {
            "colorbar": {
             "outlinewidth": 0,
             "ticks": ""
            },
            "type": "contourcarpet"
           }
          ],
          "heatmap": [
           {
            "colorbar": {
             "outlinewidth": 0,
             "ticks": ""
            },
            "colorscale": [
             [
              0,
              "#0d0887"
             ],
             [
              0.1111111111111111,
              "#46039f"
             ],
             [
              0.2222222222222222,
              "#7201a8"
             ],
             [
              0.3333333333333333,
              "#9c179e"
             ],
             [
              0.4444444444444444,
              "#bd3786"
             ],
             [
              0.5555555555555556,
              "#d8576b"
             ],
             [
              0.6666666666666666,
              "#ed7953"
             ],
             [
              0.7777777777777778,
              "#fb9f3a"
             ],
             [
              0.8888888888888888,
              "#fdca26"
             ],
             [
              1,
              "#f0f921"
             ]
            ],
            "type": "heatmap"
           }
          ],
          "histogram": [
           {
            "marker": {
             "pattern": {
              "fillmode": "overlay",
              "size": 10,
              "solidity": 0.2
             }
            },
            "type": "histogram"
           }
          ],
          "histogram2d": [
           {
            "colorbar": {
             "outlinewidth": 0,
             "ticks": ""
            },
            "colorscale": [
             [
              0,
              "#0d0887"
             ],
             [
              0.1111111111111111,
              "#46039f"
             ],
             [
              0.2222222222222222,
              "#7201a8"
             ],
             [
              0.3333333333333333,
              "#9c179e"
             ],
             [
              0.4444444444444444,
              "#bd3786"
             ],
             [
              0.5555555555555556,
              "#d8576b"
             ],
             [
              0.6666666666666666,
              "#ed7953"
             ],
             [
              0.7777777777777778,
              "#fb9f3a"
             ],
             [
              0.8888888888888888,
              "#fdca26"
             ],
             [
              1,
              "#f0f921"
             ]
            ],
            "type": "histogram2d"
           }
          ],
          "histogram2dcontour": [
           {
            "colorbar": {
             "outlinewidth": 0,
             "ticks": ""
            },
            "colorscale": [
             [
              0,
              "#0d0887"
             ],
             [
              0.1111111111111111,
              "#46039f"
             ],
             [
              0.2222222222222222,
              "#7201a8"
             ],
             [
              0.3333333333333333,
              "#9c179e"
             ],
             [
              0.4444444444444444,
              "#bd3786"
             ],
             [
              0.5555555555555556,
              "#d8576b"
             ],
             [
              0.6666666666666666,
              "#ed7953"
             ],
             [
              0.7777777777777778,
              "#fb9f3a"
             ],
             [
              0.8888888888888888,
              "#fdca26"
             ],
             [
              1,
              "#f0f921"
             ]
            ],
            "type": "histogram2dcontour"
           }
          ],
          "mesh3d": [
           {
            "colorbar": {
             "outlinewidth": 0,
             "ticks": ""
            },
            "type": "mesh3d"
           }
          ],
          "parcoords": [
           {
            "line": {
             "colorbar": {
              "outlinewidth": 0,
              "ticks": ""
             }
            },
            "type": "parcoords"
           }
          ],
          "pie": [
           {
            "automargin": true,
            "type": "pie"
           }
          ],
          "scatter": [
           {
            "fillpattern": {
             "fillmode": "overlay",
             "size": 10,
             "solidity": 0.2
            },
            "type": "scatter"
           }
          ],
          "scatter3d": [
           {
            "line": {
             "colorbar": {
              "outlinewidth": 0,
              "ticks": ""
             }
            },
            "marker": {
             "colorbar": {
              "outlinewidth": 0,
              "ticks": ""
             }
            },
            "type": "scatter3d"
           }
          ],
          "scattercarpet": [
           {
            "marker": {
             "colorbar": {
              "outlinewidth": 0,
              "ticks": ""
             }
            },
            "type": "scattercarpet"
           }
          ],
          "scattergeo": [
           {
            "marker": {
             "colorbar": {
              "outlinewidth": 0,
              "ticks": ""
             }
            },
            "type": "scattergeo"
           }
          ],
          "scattergl": [
           {
            "marker": {
             "colorbar": {
              "outlinewidth": 0,
              "ticks": ""
             }
            },
            "type": "scattergl"
           }
          ],
          "scattermap": [
           {
            "marker": {
             "colorbar": {
              "outlinewidth": 0,
              "ticks": ""
             }
            },
            "type": "scattermap"
           }
          ],
          "scattermapbox": [
           {
            "marker": {
             "colorbar": {
              "outlinewidth": 0,
              "ticks": ""
             }
            },
            "type": "scattermapbox"
           }
          ],
          "scatterpolar": [
           {
            "marker": {
             "colorbar": {
              "outlinewidth": 0,
              "ticks": ""
             }
            },
            "type": "scatterpolar"
           }
          ],
          "scatterpolargl": [
           {
            "marker": {
             "colorbar": {
              "outlinewidth": 0,
              "ticks": ""
             }
            },
            "type": "scatterpolargl"
           }
          ],
          "scatterternary": [
           {
            "marker": {
             "colorbar": {
              "outlinewidth": 0,
              "ticks": ""
             }
            },
            "type": "scatterternary"
           }
          ],
          "surface": [
           {
            "colorbar": {
             "outlinewidth": 0,
             "ticks": ""
            },
            "colorscale": [
             [
              0,
              "#0d0887"
             ],
             [
              0.1111111111111111,
              "#46039f"
             ],
             [
              0.2222222222222222,
              "#7201a8"
             ],
             [
              0.3333333333333333,
              "#9c179e"
             ],
             [
              0.4444444444444444,
              "#bd3786"
             ],
             [
              0.5555555555555556,
              "#d8576b"
             ],
             [
              0.6666666666666666,
              "#ed7953"
             ],
             [
              0.7777777777777778,
              "#fb9f3a"
             ],
             [
              0.8888888888888888,
              "#fdca26"
             ],
             [
              1,
              "#f0f921"
             ]
            ],
            "type": "surface"
           }
          ],
          "table": [
           {
            "cells": {
             "fill": {
              "color": "#EBF0F8"
             },
             "line": {
              "color": "white"
             }
            },
            "header": {
             "fill": {
              "color": "#C8D4E3"
             },
             "line": {
              "color": "white"
             }
            },
            "type": "table"
           }
          ]
         },
         "layout": {
          "annotationdefaults": {
           "arrowcolor": "#2a3f5f",
           "arrowhead": 0,
           "arrowwidth": 1
          },
          "autotypenumbers": "strict",
          "coloraxis": {
           "colorbar": {
            "outlinewidth": 0,
            "ticks": ""
           }
          },
          "colorscale": {
           "diverging": [
            [
             0,
             "#8e0152"
            ],
            [
             0.1,
             "#c51b7d"
            ],
            [
             0.2,
             "#de77ae"
            ],
            [
             0.3,
             "#f1b6da"
            ],
            [
             0.4,
             "#fde0ef"
            ],
            [
             0.5,
             "#f7f7f7"
            ],
            [
             0.6,
             "#e6f5d0"
            ],
            [
             0.7,
             "#b8e186"
            ],
            [
             0.8,
             "#7fbc41"
            ],
            [
             0.9,
             "#4d9221"
            ],
            [
             1,
             "#276419"
            ]
           ],
           "sequential": [
            [
             0,
             "#0d0887"
            ],
            [
             0.1111111111111111,
             "#46039f"
            ],
            [
             0.2222222222222222,
             "#7201a8"
            ],
            [
             0.3333333333333333,
             "#9c179e"
            ],
            [
             0.4444444444444444,
             "#bd3786"
            ],
            [
             0.5555555555555556,
             "#d8576b"
            ],
            [
             0.6666666666666666,
             "#ed7953"
            ],
            [
             0.7777777777777778,
             "#fb9f3a"
            ],
            [
             0.8888888888888888,
             "#fdca26"
            ],
            [
             1,
             "#f0f921"
            ]
           ],
           "sequentialminus": [
            [
             0,
             "#0d0887"
            ],
            [
             0.1111111111111111,
             "#46039f"
            ],
            [
             0.2222222222222222,
             "#7201a8"
            ],
            [
             0.3333333333333333,
             "#9c179e"
            ],
            [
             0.4444444444444444,
             "#bd3786"
            ],
            [
             0.5555555555555556,
             "#d8576b"
            ],
            [
             0.6666666666666666,
             "#ed7953"
            ],
            [
             0.7777777777777778,
             "#fb9f3a"
            ],
            [
             0.8888888888888888,
             "#fdca26"
            ],
            [
             1,
             "#f0f921"
            ]
           ]
          },
          "colorway": [
           "#636efa",
           "#EF553B",
           "#00cc96",
           "#ab63fa",
           "#FFA15A",
           "#19d3f3",
           "#FF6692",
           "#B6E880",
           "#FF97FF",
           "#FECB52"
          ],
          "font": {
           "color": "#2a3f5f"
          },
          "geo": {
           "bgcolor": "white",
           "lakecolor": "white",
           "landcolor": "#E5ECF6",
           "showlakes": true,
           "showland": true,
           "subunitcolor": "white"
          },
          "hoverlabel": {
           "align": "left"
          },
          "hovermode": "closest",
          "mapbox": {
           "style": "light"
          },
          "paper_bgcolor": "white",
          "plot_bgcolor": "#E5ECF6",
          "polar": {
           "angularaxis": {
            "gridcolor": "white",
            "linecolor": "white",
            "ticks": ""
           },
           "bgcolor": "#E5ECF6",
           "radialaxis": {
            "gridcolor": "white",
            "linecolor": "white",
            "ticks": ""
           }
          },
          "scene": {
           "xaxis": {
            "backgroundcolor": "#E5ECF6",
            "gridcolor": "white",
            "gridwidth": 2,
            "linecolor": "white",
            "showbackground": true,
            "ticks": "",
            "zerolinecolor": "white"
           },
           "yaxis": {
            "backgroundcolor": "#E5ECF6",
            "gridcolor": "white",
            "gridwidth": 2,
            "linecolor": "white",
            "showbackground": true,
            "ticks": "",
            "zerolinecolor": "white"
           },
           "zaxis": {
            "backgroundcolor": "#E5ECF6",
            "gridcolor": "white",
            "gridwidth": 2,
            "linecolor": "white",
            "showbackground": true,
            "ticks": "",
            "zerolinecolor": "white"
           }
          },
          "shapedefaults": {
           "line": {
            "color": "#2a3f5f"
           }
          },
          "ternary": {
           "aaxis": {
            "gridcolor": "white",
            "linecolor": "white",
            "ticks": ""
           },
           "baxis": {
            "gridcolor": "white",
            "linecolor": "white",
            "ticks": ""
           },
           "bgcolor": "#E5ECF6",
           "caxis": {
            "gridcolor": "white",
            "linecolor": "white",
            "ticks": ""
           }
          },
          "title": {
           "x": 0.05
          },
          "xaxis": {
           "automargin": true,
           "gridcolor": "white",
           "linecolor": "white",
           "ticks": "",
           "title": {
            "standoff": 15
           },
           "zerolinecolor": "white",
           "zerolinewidth": 2
          },
          "yaxis": {
           "automargin": true,
           "gridcolor": "white",
           "linecolor": "white",
           "ticks": "",
           "title": {
            "standoff": 15
           },
           "zerolinecolor": "white",
           "zerolinewidth": 2
          }
         }
        },
        "title": {
         "text": "Optimization History Plot"
        },
        "xaxis": {
         "title": {
          "text": "Trial"
         }
        },
        "yaxis": {
         "title": {
          "text": "Objective Value"
         }
        }
       }
      }
     },
     "metadata": {},
     "output_type": "display_data"
    }
   ],
   "source": [
    "optuna.visualization.plot_optimization_history(study)"
   ]
  },
  {
   "cell_type": "code",
   "execution_count": 310,
   "metadata": {},
   "outputs": [
    {
     "name": "stdout",
     "output_type": "stream",
     "text": [
      "Best Hyperparameters: {'alpha': 0.001139641416462081, 'l1_ratio': 0.5217945777947136, 'fit_intercept': True, 'max_iter': 1470, 'use_scaler': True, 'with_mean': False, 'with_std': True, 'poly_degree': 5}\n"
     ]
    }
   ],
   "source": [
    "best_params = study.best_params \n",
    "print(f\"Best Hyperparameters: {best_params}\")"
   ]
  },
  {
   "cell_type": "code",
   "execution_count": 311,
   "metadata": {},
   "outputs": [
    {
     "data": {
      "application/vnd.plotly.v1+json": {
       "config": {
        "plotlyServerURL": "https://plot.ly"
       },
       "data": [
        {
         "marker": {
          "color": [
           0,
           1,
           2,
           3,
           4,
           5,
           6,
           7,
           8,
           9,
           10,
           11,
           12,
           13,
           14,
           15,
           16,
           17,
           18,
           19,
           20,
           21,
           22,
           23,
           24,
           25,
           26,
           27,
           28,
           29,
           30,
           31,
           32,
           33,
           34,
           35,
           36,
           37,
           38,
           39,
           40,
           41,
           42,
           43,
           44,
           45,
           46,
           47,
           48,
           49,
           50,
           51,
           52,
           53,
           54,
           55,
           56,
           57,
           58,
           59,
           60,
           61,
           62,
           63,
           64,
           65,
           66,
           67,
           68,
           69,
           70,
           71,
           72,
           73,
           74,
           75,
           76,
           77,
           78,
           79,
           80,
           81,
           82,
           83,
           84,
           85,
           86,
           87,
           88,
           89,
           90,
           91,
           92,
           93,
           94,
           95,
           96,
           97,
           98,
           99
          ],
          "colorbar": {
           "title": {
            "text": "Trial"
           },
           "x": 1,
           "xpad": 40
          },
          "colorscale": [
           [
            0,
            "rgb(247,251,255)"
           ],
           [
            0.125,
            "rgb(222,235,247)"
           ],
           [
            0.25,
            "rgb(198,219,239)"
           ],
           [
            0.375,
            "rgb(158,202,225)"
           ],
           [
            0.5,
            "rgb(107,174,214)"
           ],
           [
            0.625,
            "rgb(66,146,198)"
           ],
           [
            0.75,
            "rgb(33,113,181)"
           ],
           [
            0.875,
            "rgb(8,81,156)"
           ],
           [
            1,
            "rgb(8,48,107)"
           ]
          ],
          "line": {
           "color": "Grey",
           "width": 0.5
          },
          "showscale": true
         },
         "mode": "markers",
         "name": "Feasible Trial",
         "showlegend": false,
         "type": "scatter",
         "x": [
          0.07459343285726547,
          1.0129197956845737,
          0.033205591037519584,
          0.9163741808778781,
          0.00407559644007287,
          0.5414413211338525,
          0.0027698899227562817,
          0.0023591373063477136,
          7.183758655813994,
          0.03588488911386258,
          6.366859160799435,
          0.0014359718569878096,
          44.51314315649207,
          0.013793542352772482,
          0.003974905761171867,
          64.89877132084352,
          0.005302422876684351,
          0.0690105777981331,
          0.0015991003111214827,
          0.050737814374886406,
          31.775345821188303,
          1.6224010950061378,
          1.8188894230467822,
          1.9411739809629633,
          0.7665128204660199,
          0.001194766625732598,
          18.017036467538944,
          1.1886011154695664,
          0.06272717891973825,
          9.805638874011494,
          0.02708359186801681,
          7.07893240689976,
          9.460867797081413,
          0.11085740853699103,
          59.47389794988398,
          18.936639872354522,
          0.0982932448006971,
          1.965477869022202,
          50.971104430052584,
          16.763957643123796,
          4.735384181058588,
          19.591322745978662,
          0.039833457575901975,
          0.029245150354524026,
          0.0019399645775772377,
          0.002311080279955305,
          11.587715829876235,
          0.001139641416462081,
          0.013121370319581372,
          0.002338744739603667,
          0.8347790852520648,
          0.02437282750829703,
          2.652502871774028,
          46.093789776763856,
          15.54688992039453,
          96.20201870331302,
          1.2320865092618447,
          0.5748230753568713,
          0.05661581898267356,
          0.00543710105109608,
          1.4689407256107627,
          0.008117091133892166,
          0.004010323022778368,
          1.3788021357516675,
          1.2338826503602005,
          0.4603480758878797,
          0.00397018422204781,
          0.8594202650742229,
          0.0032278427050432138,
          0.0025186552636979184,
          44.348603175335356,
          0.027742958115008116,
          0.01875872314533727,
          14.226466283632076,
          0.7453591134153514,
          0.09166964238460107,
          34.069091670272684,
          1.2599803717697282,
          0.0014711676743602241,
          0.004339536161007622,
          2.9494580414152707,
          0.20418743718729587,
          45.77110660026056,
          0.17955473281682394,
          0.9044346216330983,
          4.869745226446183,
          0.001162712343304238,
          0.3243209859731718,
          0.0015231698662987007,
          20.36704885116247,
          3.800678588560611,
          9.990343636832112,
          0.029223932177816204,
          0.0198206168884552,
          21.995805943313208,
          83.56239973758206,
          0.023457196365169432,
          0.007531064950403672,
          0.02776314644135441,
          0.9449082775607387
         ],
         "xaxis": "x",
         "y": [
          -0.008174439361756,
          -0.019488022433032954,
          -0.008326502242811062,
          -3.834418109497618,
          -0.004386162586735751,
          -0.008081349725195225,
          -0.0038730211812538487,
          -0.004530247500003052,
          -0.01887988533559028,
          -0.00812763257427078,
          -0.018883274497980454,
          -0.0036520245157044607,
          -0.024290639236509086,
          -0.0069031259198678255,
          -0.0040151544733300765,
          -11.920643550673033,
          -0.0047891037730046675,
          -0.018879515421546162,
          -0.0037215309281044585,
          -0.5368030656411564,
          -0.007956341559542482,
          -0.009914880618416538,
          -0.008104296404162334,
          -0.008188602525812853,
          -0.00825547930563265,
          -0.0036423800083562026,
          -0.024290639236509086,
          -0.007935450252578254,
          -0.0079554931517129,
          -0.008190965149451715,
          -0.007956772792106295,
          -0.008737336953697697,
          -0.008239189039503478,
          -0.00823461334668887,
          -0.024290639236509086,
          -0.008777948209563041,
          -0.008109474965559315,
          -0.024290639236509086,
          -0.017853969764532306,
          -0.008124328705455246,
          -18.75024515813632,
          -0.007937774159344376,
          -0.008296208037214486,
          -0.0078409852809102,
          -0.0036458062220303122,
          -0.004180541849925097,
          -27.604321376178568,
          -0.003283424756676366,
          -0.0077811642917170135,
          -0.003872681550184239,
          -0.007924950453962111,
          -0.4340465625299199,
          -0.008222547521662443,
          -0.008129689081819042,
          -0.008504136201989263,
          -0.008022889778263672,
          -0.00773352414812214,
          -0.01888976499624415,
          -0.009594785513697145,
          -0.005772954495304267,
          -0.008019982080494287,
          -0.005165029209850389,
          -0.004259191486952174,
          -0.014939487107574137,
          -0.024290639236509086,
          -0.008235303797468289,
          -0.005192361893900386,
          -4.553292469189486,
          -0.0035668418155084453,
          -0.003809866247779638,
          -0.01092013738495412,
          -0.009033583156189623,
          -0.008086870438623087,
          -0.007933464129095943,
          -0.021452421225706255,
          -0.897382999606519,
          -0.007966793695197339,
          -0.008275797356691626,
          -0.0034502546642975187,
          -0.004265403774611648,
          -0.00818963804532977,
          -0.00767483708105023,
          -0.01592210974325595,
          -0.00863421540982028,
          -0.008255363361901996,
          -0.008011757085077963,
          -0.0034053900108710873,
          -0.017851062553680384,
          -0.234972529452009,
          -0.018974409469166065,
          -0.024290639236509086,
          -9.620281535292113,
          -0.009942851923293911,
          -0.4300702609122197,
          -0.008470242219982951,
          -0.0081909918091074,
          -0.009485964878324097,
          -0.28212871212674684,
          -0.45208390753899186,
          -0.017779137486160584
         ],
         "yaxis": "y"
        },
        {
         "marker": {
          "color": [
           0,
           1,
           2,
           3,
           4,
           5,
           6,
           7,
           8,
           9,
           10,
           11,
           12,
           13,
           14,
           15,
           16,
           17,
           18,
           19,
           20,
           21,
           22,
           23,
           24,
           25,
           26,
           27,
           28,
           29,
           30,
           31,
           32,
           33,
           34,
           35,
           36,
           37,
           38,
           39,
           40,
           41,
           42,
           43,
           44,
           45,
           46,
           47,
           48,
           49,
           50,
           51,
           52,
           53,
           54,
           55,
           56,
           57,
           58,
           59,
           60,
           61,
           62,
           63,
           64,
           65,
           66,
           67,
           68,
           69,
           70,
           71,
           72,
           73,
           74,
           75,
           76,
           77,
           78,
           79,
           80,
           81,
           82,
           83,
           84,
           85,
           86,
           87,
           88,
           89,
           90,
           91,
           92,
           93,
           94,
           95,
           96,
           97,
           98,
           99
          ],
          "colorbar": {
           "title": {
            "text": "Trial"
           },
           "x": 1,
           "xpad": 40
          },
          "colorscale": [
           [
            0,
            "rgb(247,251,255)"
           ],
           [
            0.125,
            "rgb(222,235,247)"
           ],
           [
            0.25,
            "rgb(198,219,239)"
           ],
           [
            0.375,
            "rgb(158,202,225)"
           ],
           [
            0.5,
            "rgb(107,174,214)"
           ],
           [
            0.625,
            "rgb(66,146,198)"
           ],
           [
            0.75,
            "rgb(33,113,181)"
           ],
           [
            0.875,
            "rgb(8,81,156)"
           ],
           [
            1,
            "rgb(8,48,107)"
           ]
          ],
          "line": {
           "color": "Grey",
           "width": 0.5
          },
          "showscale": false
         },
         "mode": "markers",
         "name": "Feasible Trial",
         "showlegend": false,
         "type": "scatter",
         "x": [
          false,
          true,
          false,
          false,
          true,
          false,
          true,
          false,
          false,
          false,
          false,
          true,
          true,
          true,
          false,
          false,
          false,
          false,
          false,
          false,
          true,
          true,
          false,
          true,
          true,
          true,
          true,
          true,
          true,
          true,
          true,
          false,
          false,
          true,
          true,
          false,
          false,
          true,
          false,
          false,
          false,
          true,
          false,
          true,
          true,
          false,
          false,
          true,
          true,
          false,
          true,
          false,
          false,
          false,
          false,
          true,
          true,
          false,
          true,
          false,
          true,
          false,
          true,
          true,
          true,
          true,
          true,
          false,
          false,
          true,
          false,
          true,
          false,
          true,
          true,
          false,
          true,
          false,
          true,
          false,
          true,
          true,
          true,
          false,
          true,
          true,
          true,
          true,
          false,
          false,
          true,
          false,
          true,
          false,
          false,
          true,
          true,
          false,
          false,
          true
         ],
         "xaxis": "x2",
         "y": [
          -0.008174439361756,
          -0.019488022433032954,
          -0.008326502242811062,
          -3.834418109497618,
          -0.004386162586735751,
          -0.008081349725195225,
          -0.0038730211812538487,
          -0.004530247500003052,
          -0.01887988533559028,
          -0.00812763257427078,
          -0.018883274497980454,
          -0.0036520245157044607,
          -0.024290639236509086,
          -0.0069031259198678255,
          -0.0040151544733300765,
          -11.920643550673033,
          -0.0047891037730046675,
          -0.018879515421546162,
          -0.0037215309281044585,
          -0.5368030656411564,
          -0.007956341559542482,
          -0.009914880618416538,
          -0.008104296404162334,
          -0.008188602525812853,
          -0.00825547930563265,
          -0.0036423800083562026,
          -0.024290639236509086,
          -0.007935450252578254,
          -0.0079554931517129,
          -0.008190965149451715,
          -0.007956772792106295,
          -0.008737336953697697,
          -0.008239189039503478,
          -0.00823461334668887,
          -0.024290639236509086,
          -0.008777948209563041,
          -0.008109474965559315,
          -0.024290639236509086,
          -0.017853969764532306,
          -0.008124328705455246,
          -18.75024515813632,
          -0.007937774159344376,
          -0.008296208037214486,
          -0.0078409852809102,
          -0.0036458062220303122,
          -0.004180541849925097,
          -27.604321376178568,
          -0.003283424756676366,
          -0.0077811642917170135,
          -0.003872681550184239,
          -0.007924950453962111,
          -0.4340465625299199,
          -0.008222547521662443,
          -0.008129689081819042,
          -0.008504136201989263,
          -0.008022889778263672,
          -0.00773352414812214,
          -0.01888976499624415,
          -0.009594785513697145,
          -0.005772954495304267,
          -0.008019982080494287,
          -0.005165029209850389,
          -0.004259191486952174,
          -0.014939487107574137,
          -0.024290639236509086,
          -0.008235303797468289,
          -0.005192361893900386,
          -4.553292469189486,
          -0.0035668418155084453,
          -0.003809866247779638,
          -0.01092013738495412,
          -0.009033583156189623,
          -0.008086870438623087,
          -0.007933464129095943,
          -0.021452421225706255,
          -0.897382999606519,
          -0.007966793695197339,
          -0.008275797356691626,
          -0.0034502546642975187,
          -0.004265403774611648,
          -0.00818963804532977,
          -0.00767483708105023,
          -0.01592210974325595,
          -0.00863421540982028,
          -0.008255363361901996,
          -0.008011757085077963,
          -0.0034053900108710873,
          -0.017851062553680384,
          -0.234972529452009,
          -0.018974409469166065,
          -0.024290639236509086,
          -9.620281535292113,
          -0.009942851923293911,
          -0.4300702609122197,
          -0.008470242219982951,
          -0.0081909918091074,
          -0.009485964878324097,
          -0.28212871212674684,
          -0.45208390753899186,
          -0.017779137486160584
         ],
         "yaxis": "y2"
        },
        {
         "marker": {
          "color": [
           0,
           1,
           2,
           3,
           4,
           5,
           6,
           7,
           8,
           9,
           10,
           11,
           12,
           13,
           14,
           15,
           16,
           17,
           18,
           19,
           20,
           21,
           22,
           23,
           24,
           25,
           26,
           27,
           28,
           29,
           30,
           31,
           32,
           33,
           34,
           35,
           36,
           37,
           38,
           39,
           40,
           41,
           42,
           43,
           44,
           45,
           46,
           47,
           48,
           49,
           50,
           51,
           52,
           53,
           54,
           55,
           56,
           57,
           58,
           59,
           60,
           61,
           62,
           63,
           64,
           65,
           66,
           67,
           68,
           69,
           70,
           71,
           72,
           73,
           74,
           75,
           76,
           77,
           78,
           79,
           80,
           81,
           82,
           83,
           84,
           85,
           86,
           87,
           88,
           89,
           90,
           91,
           92,
           93,
           94,
           95,
           96,
           97,
           98,
           99
          ],
          "colorbar": {
           "title": {
            "text": "Trial"
           },
           "x": 1,
           "xpad": 40
          },
          "colorscale": [
           [
            0,
            "rgb(247,251,255)"
           ],
           [
            0.125,
            "rgb(222,235,247)"
           ],
           [
            0.25,
            "rgb(198,219,239)"
           ],
           [
            0.375,
            "rgb(158,202,225)"
           ],
           [
            0.5,
            "rgb(107,174,214)"
           ],
           [
            0.625,
            "rgb(66,146,198)"
           ],
           [
            0.75,
            "rgb(33,113,181)"
           ],
           [
            0.875,
            "rgb(8,81,156)"
           ],
           [
            1,
            "rgb(8,48,107)"
           ]
          ],
          "line": {
           "color": "Grey",
           "width": 0.5
          },
          "showscale": false
         },
         "mode": "markers",
         "name": "Feasible Trial",
         "showlegend": false,
         "type": "scatter",
         "x": [
          0.9556428757689246,
          0.737265320016441,
          0.5722807884690141,
          0.14180537144799796,
          0.5456592191001431,
          0.26636900997297436,
          0.27638457617723067,
          0.9881982429404655,
          0.16664018656068133,
          0.39266498982407233,
          0.6051494778125466,
          0.6727693701374023,
          0.8273083416079753,
          0.4843970097636307,
          0.4038536542632652,
          0.32660406624282773,
          0.5405074842498068,
          0.6690752475342215,
          0.6318036488694176,
          0.20212616911653017,
          0.6697913115459412,
          0.17572596849554395,
          0.3018423785145038,
          0.6114777430019245,
          0.5432659244369775,
          0.9354867063289529,
          0.38522980464064993,
          0.9910484650938369,
          0.36423265983804404,
          0.6849675376999886,
          0.6317499345121097,
          0.29423892474715885,
          0.34374902613586683,
          0.2559648880637612,
          0.7641072250261917,
          0.7332920734420213,
          0.6542650882469948,
          0.24664098437328674,
          0.44749237402069686,
          0.12094474216224328,
          0.8231328373463638,
          0.4860946246375165,
          0.9059709056465804,
          0.3957980908329244,
          0.594575994091362,
          0.8396740533613206,
          0.9525237196454729,
          0.5217945777947136,
          0.9669002854965502,
          0.5984688559611887,
          0.9110422094418901,
          0.2693090437513852,
          0.24635524541040218,
          0.8794575005503675,
          0.5218238438154733,
          0.5998885350423647,
          0.42234644622955647,
          0.6048441743818477,
          0.6309259181691698,
          0.933928862645345,
          0.3161310569003738,
          0.4111005549914769,
          0.5147008912294532,
          0.1735831287539847,
          0.43202227561279516,
          0.31822345327125673,
          0.9014745526659055,
          0.770895526765897,
          0.23757322526589883,
          0.5720602506132292,
          0.6010866037125369,
          0.6231143992803511,
          0.7133524500015364,
          0.9685242195998613,
          0.8576458990824449,
          0.8349394955244194,
          0.6618141963225929,
          0.5801149827786893,
          0.6129007163841849,
          0.45755856150433055,
          0.5884519990128366,
          0.9525550056506338,
          0.6086198652302881,
          0.20191424125667973,
          0.45910243348311724,
          0.5069961468008265,
          0.6971836348150395,
          0.6358465155880394,
          0.5248602505989993,
          0.9515039159202695,
          0.6930315477191362,
          0.26069019584890024,
          0.9067022366690078,
          0.44172316735054024,
          0.5386880784245623,
          0.5731211640724173,
          0.5987602022642141,
          0.9229707513324639,
          0.42010544481845424,
          0.1462832321358253
         ],
         "xaxis": "x3",
         "y": [
          -0.008174439361756,
          -0.019488022433032954,
          -0.008326502242811062,
          -3.834418109497618,
          -0.004386162586735751,
          -0.008081349725195225,
          -0.0038730211812538487,
          -0.004530247500003052,
          -0.01887988533559028,
          -0.00812763257427078,
          -0.018883274497980454,
          -0.0036520245157044607,
          -0.024290639236509086,
          -0.0069031259198678255,
          -0.0040151544733300765,
          -11.920643550673033,
          -0.0047891037730046675,
          -0.018879515421546162,
          -0.0037215309281044585,
          -0.5368030656411564,
          -0.007956341559542482,
          -0.009914880618416538,
          -0.008104296404162334,
          -0.008188602525812853,
          -0.00825547930563265,
          -0.0036423800083562026,
          -0.024290639236509086,
          -0.007935450252578254,
          -0.0079554931517129,
          -0.008190965149451715,
          -0.007956772792106295,
          -0.008737336953697697,
          -0.008239189039503478,
          -0.00823461334668887,
          -0.024290639236509086,
          -0.008777948209563041,
          -0.008109474965559315,
          -0.024290639236509086,
          -0.017853969764532306,
          -0.008124328705455246,
          -18.75024515813632,
          -0.007937774159344376,
          -0.008296208037214486,
          -0.0078409852809102,
          -0.0036458062220303122,
          -0.004180541849925097,
          -27.604321376178568,
          -0.003283424756676366,
          -0.0077811642917170135,
          -0.003872681550184239,
          -0.007924950453962111,
          -0.4340465625299199,
          -0.008222547521662443,
          -0.008129689081819042,
          -0.008504136201989263,
          -0.008022889778263672,
          -0.00773352414812214,
          -0.01888976499624415,
          -0.009594785513697145,
          -0.005772954495304267,
          -0.008019982080494287,
          -0.005165029209850389,
          -0.004259191486952174,
          -0.014939487107574137,
          -0.024290639236509086,
          -0.008235303797468289,
          -0.005192361893900386,
          -4.553292469189486,
          -0.0035668418155084453,
          -0.003809866247779638,
          -0.01092013738495412,
          -0.009033583156189623,
          -0.008086870438623087,
          -0.007933464129095943,
          -0.021452421225706255,
          -0.897382999606519,
          -0.007966793695197339,
          -0.008275797356691626,
          -0.0034502546642975187,
          -0.004265403774611648,
          -0.00818963804532977,
          -0.00767483708105023,
          -0.01592210974325595,
          -0.00863421540982028,
          -0.008255363361901996,
          -0.008011757085077963,
          -0.0034053900108710873,
          -0.017851062553680384,
          -0.234972529452009,
          -0.018974409469166065,
          -0.024290639236509086,
          -9.620281535292113,
          -0.009942851923293911,
          -0.4300702609122197,
          -0.008470242219982951,
          -0.0081909918091074,
          -0.009485964878324097,
          -0.28212871212674684,
          -0.45208390753899186,
          -0.017779137486160584
         ],
         "yaxis": "y3"
        },
        {
         "marker": {
          "color": [
           0,
           1,
           2,
           3,
           4,
           5,
           6,
           7,
           8,
           9,
           10,
           11,
           12,
           13,
           14,
           15,
           16,
           17,
           18,
           19,
           20,
           21,
           22,
           23,
           24,
           25,
           26,
           27,
           28,
           29,
           30,
           31,
           32,
           33,
           34,
           35,
           36,
           37,
           38,
           39,
           40,
           41,
           42,
           43,
           44,
           45,
           46,
           47,
           48,
           49,
           50,
           51,
           52,
           53,
           54,
           55,
           56,
           57,
           58,
           59,
           60,
           61,
           62,
           63,
           64,
           65,
           66,
           67,
           68,
           69,
           70,
           71,
           72,
           73,
           74,
           75,
           76,
           77,
           78,
           79,
           80,
           81,
           82,
           83,
           84,
           85,
           86,
           87,
           88,
           89,
           90,
           91,
           92,
           93,
           94,
           95,
           96,
           97,
           98,
           99
          ],
          "colorbar": {
           "title": {
            "text": "Trial"
           },
           "x": 1,
           "xpad": 40
          },
          "colorscale": [
           [
            0,
            "rgb(247,251,255)"
           ],
           [
            0.125,
            "rgb(222,235,247)"
           ],
           [
            0.25,
            "rgb(198,219,239)"
           ],
           [
            0.375,
            "rgb(158,202,225)"
           ],
           [
            0.5,
            "rgb(107,174,214)"
           ],
           [
            0.625,
            "rgb(66,146,198)"
           ],
           [
            0.75,
            "rgb(33,113,181)"
           ],
           [
            0.875,
            "rgb(8,81,156)"
           ],
           [
            1,
            "rgb(8,48,107)"
           ]
          ],
          "line": {
           "color": "Grey",
           "width": 0.5
          },
          "showscale": false
         },
         "mode": "markers",
         "name": "Feasible Trial",
         "showlegend": false,
         "type": "scatter",
         "x": [
          1624,
          4330,
          3448,
          1260,
          2035,
          4758,
          2555,
          1022,
          4453,
          4549,
          3091,
          4631,
          4215,
          1027,
          3075,
          2139,
          3689,
          1361,
          3048,
          2032,
          3904,
          3426,
          2301,
          2061,
          2123,
          4855,
          4745,
          4510,
          4469,
          4560,
          4291,
          1206,
          1101,
          3197,
          2678,
          2966,
          2498,
          1106,
          1783,
          1472,
          4003,
          1412,
          4622,
          4167,
          2404,
          1339,
          2505,
          1470,
          1172,
          3518,
          4802,
          3335,
          4800,
          2506,
          1225,
          4399,
          3081,
          1536,
          4617,
          2837,
          1512,
          3670,
          3014,
          1244,
          1146,
          1080,
          4157,
          2135,
          1746,
          1448,
          4078,
          3130,
          2886,
          4754,
          1806,
          2851,
          3511,
          1606,
          2368,
          1917,
          1726,
          3024,
          3829,
          1498,
          4212,
          1563,
          1594,
          1839,
          4102,
          3576,
          1924,
          1397,
          1831,
          3497,
          2701,
          1073,
          1825,
          3076,
          3266,
          2337
         ],
         "xaxis": "x4",
         "y": [
          -0.008174439361756,
          -0.019488022433032954,
          -0.008326502242811062,
          -3.834418109497618,
          -0.004386162586735751,
          -0.008081349725195225,
          -0.0038730211812538487,
          -0.004530247500003052,
          -0.01887988533559028,
          -0.00812763257427078,
          -0.018883274497980454,
          -0.0036520245157044607,
          -0.024290639236509086,
          -0.0069031259198678255,
          -0.0040151544733300765,
          -11.920643550673033,
          -0.0047891037730046675,
          -0.018879515421546162,
          -0.0037215309281044585,
          -0.5368030656411564,
          -0.007956341559542482,
          -0.009914880618416538,
          -0.008104296404162334,
          -0.008188602525812853,
          -0.00825547930563265,
          -0.0036423800083562026,
          -0.024290639236509086,
          -0.007935450252578254,
          -0.0079554931517129,
          -0.008190965149451715,
          -0.007956772792106295,
          -0.008737336953697697,
          -0.008239189039503478,
          -0.00823461334668887,
          -0.024290639236509086,
          -0.008777948209563041,
          -0.008109474965559315,
          -0.024290639236509086,
          -0.017853969764532306,
          -0.008124328705455246,
          -18.75024515813632,
          -0.007937774159344376,
          -0.008296208037214486,
          -0.0078409852809102,
          -0.0036458062220303122,
          -0.004180541849925097,
          -27.604321376178568,
          -0.003283424756676366,
          -0.0077811642917170135,
          -0.003872681550184239,
          -0.007924950453962111,
          -0.4340465625299199,
          -0.008222547521662443,
          -0.008129689081819042,
          -0.008504136201989263,
          -0.008022889778263672,
          -0.00773352414812214,
          -0.01888976499624415,
          -0.009594785513697145,
          -0.005772954495304267,
          -0.008019982080494287,
          -0.005165029209850389,
          -0.004259191486952174,
          -0.014939487107574137,
          -0.024290639236509086,
          -0.008235303797468289,
          -0.005192361893900386,
          -4.553292469189486,
          -0.0035668418155084453,
          -0.003809866247779638,
          -0.01092013738495412,
          -0.009033583156189623,
          -0.008086870438623087,
          -0.007933464129095943,
          -0.021452421225706255,
          -0.897382999606519,
          -0.007966793695197339,
          -0.008275797356691626,
          -0.0034502546642975187,
          -0.004265403774611648,
          -0.00818963804532977,
          -0.00767483708105023,
          -0.01592210974325595,
          -0.00863421540982028,
          -0.008255363361901996,
          -0.008011757085077963,
          -0.0034053900108710873,
          -0.017851062553680384,
          -0.234972529452009,
          -0.018974409469166065,
          -0.024290639236509086,
          -9.620281535292113,
          -0.009942851923293911,
          -0.4300702609122197,
          -0.008470242219982951,
          -0.0081909918091074,
          -0.009485964878324097,
          -0.28212871212674684,
          -0.45208390753899186,
          -0.017779137486160584
         ],
         "yaxis": "y4"
        },
        {
         "marker": {
          "color": [
           0,
           1,
           2,
           3,
           4,
           5,
           6,
           7,
           8,
           9,
           10,
           11,
           12,
           13,
           14,
           15,
           16,
           17,
           18,
           19,
           20,
           21,
           22,
           23,
           24,
           25,
           26,
           27,
           28,
           29,
           30,
           31,
           32,
           33,
           34,
           35,
           36,
           37,
           38,
           39,
           40,
           41,
           42,
           43,
           44,
           45,
           46,
           47,
           48,
           49,
           50,
           51,
           52,
           53,
           54,
           55,
           56,
           57,
           58,
           59,
           60,
           61,
           62,
           63,
           64,
           65,
           66,
           67,
           68,
           69,
           70,
           71,
           72,
           73,
           74,
           75,
           76,
           77,
           78,
           79,
           80,
           81,
           82,
           83,
           84,
           85,
           86,
           87,
           88,
           89,
           90,
           91,
           92,
           93,
           94,
           95,
           96,
           97,
           98,
           99
          ],
          "colorbar": {
           "title": {
            "text": "Trial"
           },
           "x": 1,
           "xpad": 40
          },
          "colorscale": [
           [
            0,
            "rgb(247,251,255)"
           ],
           [
            0.125,
            "rgb(222,235,247)"
           ],
           [
            0.25,
            "rgb(198,219,239)"
           ],
           [
            0.375,
            "rgb(158,202,225)"
           ],
           [
            0.5,
            "rgb(107,174,214)"
           ],
           [
            0.625,
            "rgb(66,146,198)"
           ],
           [
            0.75,
            "rgb(33,113,181)"
           ],
           [
            0.875,
            "rgb(8,81,156)"
           ],
           [
            1,
            "rgb(8,48,107)"
           ]
          ],
          "line": {
           "color": "Grey",
           "width": 0.5
          },
          "showscale": false
         },
         "mode": "markers",
         "name": "Feasible Trial",
         "showlegend": false,
         "type": "scatter",
         "x": [
          5,
          1,
          3,
          3,
          3,
          5,
          5,
          4,
          1,
          4,
          1,
          1,
          1,
          2,
          5,
          2,
          4,
          1,
          1,
          5,
          4,
          4,
          5,
          3,
          2,
          2,
          1,
          4,
          3,
          3,
          3,
          2,
          4,
          2,
          1,
          3,
          5,
          3,
          2,
          5,
          5,
          5,
          3,
          3,
          4,
          2,
          3,
          5,
          5,
          4,
          4,
          5,
          3,
          5,
          5,
          4,
          5,
          1,
          5,
          2,
          4,
          1,
          4,
          3,
          3,
          2,
          3,
          2,
          5,
          4,
          4,
          5,
          5,
          4,
          5,
          3,
          4,
          4,
          5,
          4,
          3,
          5,
          5,
          3,
          2,
          4,
          5,
          1,
          1,
          1,
          1,
          2,
          2,
          1,
          5,
          3,
          4,
          2,
          2,
          1
         ],
         "xaxis": "x5",
         "y": [
          -0.008174439361756,
          -0.019488022433032954,
          -0.008326502242811062,
          -3.834418109497618,
          -0.004386162586735751,
          -0.008081349725195225,
          -0.0038730211812538487,
          -0.004530247500003052,
          -0.01887988533559028,
          -0.00812763257427078,
          -0.018883274497980454,
          -0.0036520245157044607,
          -0.024290639236509086,
          -0.0069031259198678255,
          -0.0040151544733300765,
          -11.920643550673033,
          -0.0047891037730046675,
          -0.018879515421546162,
          -0.0037215309281044585,
          -0.5368030656411564,
          -0.007956341559542482,
          -0.009914880618416538,
          -0.008104296404162334,
          -0.008188602525812853,
          -0.00825547930563265,
          -0.0036423800083562026,
          -0.024290639236509086,
          -0.007935450252578254,
          -0.0079554931517129,
          -0.008190965149451715,
          -0.007956772792106295,
          -0.008737336953697697,
          -0.008239189039503478,
          -0.00823461334668887,
          -0.024290639236509086,
          -0.008777948209563041,
          -0.008109474965559315,
          -0.024290639236509086,
          -0.017853969764532306,
          -0.008124328705455246,
          -18.75024515813632,
          -0.007937774159344376,
          -0.008296208037214486,
          -0.0078409852809102,
          -0.0036458062220303122,
          -0.004180541849925097,
          -27.604321376178568,
          -0.003283424756676366,
          -0.0077811642917170135,
          -0.003872681550184239,
          -0.007924950453962111,
          -0.4340465625299199,
          -0.008222547521662443,
          -0.008129689081819042,
          -0.008504136201989263,
          -0.008022889778263672,
          -0.00773352414812214,
          -0.01888976499624415,
          -0.009594785513697145,
          -0.005772954495304267,
          -0.008019982080494287,
          -0.005165029209850389,
          -0.004259191486952174,
          -0.014939487107574137,
          -0.024290639236509086,
          -0.008235303797468289,
          -0.005192361893900386,
          -4.553292469189486,
          -0.0035668418155084453,
          -0.003809866247779638,
          -0.01092013738495412,
          -0.009033583156189623,
          -0.008086870438623087,
          -0.007933464129095943,
          -0.021452421225706255,
          -0.897382999606519,
          -0.007966793695197339,
          -0.008275797356691626,
          -0.0034502546642975187,
          -0.004265403774611648,
          -0.00818963804532977,
          -0.00767483708105023,
          -0.01592210974325595,
          -0.00863421540982028,
          -0.008255363361901996,
          -0.008011757085077963,
          -0.0034053900108710873,
          -0.017851062553680384,
          -0.234972529452009,
          -0.018974409469166065,
          -0.024290639236509086,
          -9.620281535292113,
          -0.009942851923293911,
          -0.4300702609122197,
          -0.008470242219982951,
          -0.0081909918091074,
          -0.009485964878324097,
          -0.28212871212674684,
          -0.45208390753899186,
          -0.017779137486160584
         ],
         "yaxis": "y5"
        },
        {
         "marker": {
          "color": [
           0,
           1,
           2,
           3,
           4,
           5,
           6,
           7,
           8,
           9,
           10,
           11,
           12,
           13,
           14,
           15,
           16,
           17,
           18,
           19,
           20,
           21,
           22,
           23,
           24,
           25,
           26,
           27,
           28,
           29,
           30,
           31,
           32,
           33,
           34,
           35,
           36,
           37,
           38,
           39,
           40,
           41,
           42,
           43,
           44,
           45,
           46,
           47,
           48,
           49,
           50,
           51,
           52,
           53,
           54,
           55,
           56,
           57,
           58,
           59,
           60,
           61,
           62,
           63,
           64,
           65,
           66,
           67,
           68,
           69,
           70,
           71,
           72,
           73,
           74,
           75,
           76,
           77,
           78,
           79,
           80,
           81,
           82,
           83,
           84,
           85,
           86,
           87,
           88,
           89,
           90,
           91,
           92,
           93,
           94,
           95,
           96,
           97,
           98,
           99
          ],
          "colorbar": {
           "title": {
            "text": "Trial"
           },
           "x": 1,
           "xpad": 40
          },
          "colorscale": [
           [
            0,
            "rgb(247,251,255)"
           ],
           [
            0.125,
            "rgb(222,235,247)"
           ],
           [
            0.25,
            "rgb(198,219,239)"
           ],
           [
            0.375,
            "rgb(158,202,225)"
           ],
           [
            0.5,
            "rgb(107,174,214)"
           ],
           [
            0.625,
            "rgb(66,146,198)"
           ],
           [
            0.75,
            "rgb(33,113,181)"
           ],
           [
            0.875,
            "rgb(8,81,156)"
           ],
           [
            1,
            "rgb(8,48,107)"
           ]
          ],
          "line": {
           "color": "Grey",
           "width": 0.5
          },
          "showscale": false
         },
         "mode": "markers",
         "name": "Feasible Trial",
         "showlegend": false,
         "type": "scatter",
         "x": [
          false,
          false,
          true,
          true,
          false,
          false,
          true,
          false,
          false,
          false,
          false,
          true,
          true,
          false,
          false,
          true,
          false,
          false,
          true,
          true,
          false,
          true,
          false,
          true,
          true,
          false,
          false,
          false,
          false,
          true,
          false,
          true,
          false,
          false,
          true,
          false,
          false,
          true,
          true,
          false,
          true,
          false,
          true,
          false,
          true,
          false,
          true,
          true,
          false,
          false,
          false,
          true,
          false,
          true,
          false,
          true,
          false,
          true,
          true,
          false,
          false,
          true,
          false,
          true,
          true,
          false,
          false,
          true,
          false,
          true,
          true,
          true,
          false,
          false,
          true,
          true,
          false,
          false,
          false,
          false,
          false,
          false,
          true,
          false,
          true,
          true,
          false,
          false,
          true,
          false,
          false,
          true,
          true,
          true,
          true,
          false,
          true,
          true,
          true,
          false
         ],
         "xaxis": "x6",
         "y": [
          -0.008174439361756,
          -0.019488022433032954,
          -0.008326502242811062,
          -3.834418109497618,
          -0.004386162586735751,
          -0.008081349725195225,
          -0.0038730211812538487,
          -0.004530247500003052,
          -0.01887988533559028,
          -0.00812763257427078,
          -0.018883274497980454,
          -0.0036520245157044607,
          -0.024290639236509086,
          -0.0069031259198678255,
          -0.0040151544733300765,
          -11.920643550673033,
          -0.0047891037730046675,
          -0.018879515421546162,
          -0.0037215309281044585,
          -0.5368030656411564,
          -0.007956341559542482,
          -0.009914880618416538,
          -0.008104296404162334,
          -0.008188602525812853,
          -0.00825547930563265,
          -0.0036423800083562026,
          -0.024290639236509086,
          -0.007935450252578254,
          -0.0079554931517129,
          -0.008190965149451715,
          -0.007956772792106295,
          -0.008737336953697697,
          -0.008239189039503478,
          -0.00823461334668887,
          -0.024290639236509086,
          -0.008777948209563041,
          -0.008109474965559315,
          -0.024290639236509086,
          -0.017853969764532306,
          -0.008124328705455246,
          -18.75024515813632,
          -0.007937774159344376,
          -0.008296208037214486,
          -0.0078409852809102,
          -0.0036458062220303122,
          -0.004180541849925097,
          -27.604321376178568,
          -0.003283424756676366,
          -0.0077811642917170135,
          -0.003872681550184239,
          -0.007924950453962111,
          -0.4340465625299199,
          -0.008222547521662443,
          -0.008129689081819042,
          -0.008504136201989263,
          -0.008022889778263672,
          -0.00773352414812214,
          -0.01888976499624415,
          -0.009594785513697145,
          -0.005772954495304267,
          -0.008019982080494287,
          -0.005165029209850389,
          -0.004259191486952174,
          -0.014939487107574137,
          -0.024290639236509086,
          -0.008235303797468289,
          -0.005192361893900386,
          -4.553292469189486,
          -0.0035668418155084453,
          -0.003809866247779638,
          -0.01092013738495412,
          -0.009033583156189623,
          -0.008086870438623087,
          -0.007933464129095943,
          -0.021452421225706255,
          -0.897382999606519,
          -0.007966793695197339,
          -0.008275797356691626,
          -0.0034502546642975187,
          -0.004265403774611648,
          -0.00818963804532977,
          -0.00767483708105023,
          -0.01592210974325595,
          -0.00863421540982028,
          -0.008255363361901996,
          -0.008011757085077963,
          -0.0034053900108710873,
          -0.017851062553680384,
          -0.234972529452009,
          -0.018974409469166065,
          -0.024290639236509086,
          -9.620281535292113,
          -0.009942851923293911,
          -0.4300702609122197,
          -0.008470242219982951,
          -0.0081909918091074,
          -0.009485964878324097,
          -0.28212871212674684,
          -0.45208390753899186,
          -0.017779137486160584
         ],
         "yaxis": "y6"
        },
        {
         "marker": {
          "color": [
           2,
           3,
           6,
           11,
           12,
           15,
           18,
           19,
           21,
           23,
           24,
           29,
           31,
           34,
           37,
           38,
           40,
           42,
           44,
           46,
           47,
           51,
           53,
           55,
           57,
           58,
           61,
           63,
           64,
           67,
           69,
           70,
           71,
           74,
           75,
           82,
           84,
           85,
           88,
           91,
           92,
           93,
           94,
           96,
           97,
           98
          ],
          "colorbar": {
           "title": {
            "text": "Trial"
           },
           "x": 1,
           "xpad": 40
          },
          "colorscale": [
           [
            0,
            "rgb(247,251,255)"
           ],
           [
            0.125,
            "rgb(222,235,247)"
           ],
           [
            0.25,
            "rgb(198,219,239)"
           ],
           [
            0.375,
            "rgb(158,202,225)"
           ],
           [
            0.5,
            "rgb(107,174,214)"
           ],
           [
            0.625,
            "rgb(66,146,198)"
           ],
           [
            0.75,
            "rgb(33,113,181)"
           ],
           [
            0.875,
            "rgb(8,81,156)"
           ],
           [
            1,
            "rgb(8,48,107)"
           ]
          ],
          "line": {
           "color": "Grey",
           "width": 0.5
          },
          "showscale": false
         },
         "mode": "markers",
         "name": "Feasible Trial",
         "showlegend": false,
         "type": "scatter",
         "x": [
          false,
          true,
          true,
          true,
          false,
          true,
          false,
          true,
          true,
          false,
          false,
          false,
          false,
          true,
          true,
          false,
          true,
          false,
          true,
          true,
          false,
          true,
          false,
          false,
          false,
          true,
          false,
          true,
          true,
          true,
          true,
          false,
          true,
          true,
          true,
          true,
          false,
          false,
          true,
          true,
          true,
          true,
          false,
          true,
          true,
          true
         ],
         "xaxis": "x7",
         "y": [
          -0.008326502242811062,
          -3.834418109497618,
          -0.0038730211812538487,
          -0.0036520245157044607,
          -0.024290639236509086,
          -11.920643550673033,
          -0.0037215309281044585,
          -0.5368030656411564,
          -0.009914880618416538,
          -0.008188602525812853,
          -0.00825547930563265,
          -0.008190965149451715,
          -0.008737336953697697,
          -0.024290639236509086,
          -0.024290639236509086,
          -0.017853969764532306,
          -18.75024515813632,
          -0.008296208037214486,
          -0.0036458062220303122,
          -27.604321376178568,
          -0.003283424756676366,
          -0.4340465625299199,
          -0.008129689081819042,
          -0.008022889778263672,
          -0.01888976499624415,
          -0.009594785513697145,
          -0.005165029209850389,
          -0.014939487107574137,
          -0.024290639236509086,
          -4.553292469189486,
          -0.003809866247779638,
          -0.01092013738495412,
          -0.009033583156189623,
          -0.021452421225706255,
          -0.897382999606519,
          -0.01592210974325595,
          -0.008255363361901996,
          -0.008011757085077963,
          -0.234972529452009,
          -9.620281535292113,
          -0.009942851923293911,
          -0.4300702609122197,
          -0.008470242219982951,
          -0.009485964878324097,
          -0.28212871212674684,
          -0.45208390753899186
         ],
         "yaxis": "y7"
        },
        {
         "marker": {
          "color": [
           2,
           3,
           6,
           11,
           12,
           15,
           18,
           19,
           21,
           23,
           24,
           29,
           31,
           34,
           37,
           38,
           40,
           42,
           44,
           46,
           47,
           51,
           53,
           55,
           57,
           58,
           61,
           63,
           64,
           67,
           69,
           70,
           71,
           74,
           75,
           82,
           84,
           85,
           88,
           91,
           92,
           93,
           94,
           96,
           97,
           98
          ],
          "colorbar": {
           "title": {
            "text": "Trial"
           },
           "x": 1,
           "xpad": 40
          },
          "colorscale": [
           [
            0,
            "rgb(247,251,255)"
           ],
           [
            0.125,
            "rgb(222,235,247)"
           ],
           [
            0.25,
            "rgb(198,219,239)"
           ],
           [
            0.375,
            "rgb(158,202,225)"
           ],
           [
            0.5,
            "rgb(107,174,214)"
           ],
           [
            0.625,
            "rgb(66,146,198)"
           ],
           [
            0.75,
            "rgb(33,113,181)"
           ],
           [
            0.875,
            "rgb(8,81,156)"
           ],
           [
            1,
            "rgb(8,48,107)"
           ]
          ],
          "line": {
           "color": "Grey",
           "width": 0.5
          },
          "showscale": false
         },
         "mode": "markers",
         "name": "Feasible Trial",
         "showlegend": false,
         "type": "scatter",
         "x": [
          true,
          false,
          true,
          false,
          true,
          false,
          false,
          true,
          false,
          false,
          true,
          false,
          true,
          true,
          true,
          true,
          true,
          false,
          true,
          true,
          true,
          true,
          false,
          true,
          true,
          false,
          true,
          false,
          true,
          true,
          true,
          true,
          true,
          true,
          true,
          false,
          true,
          false,
          true,
          false,
          true,
          true,
          true,
          false,
          true,
          true
         ],
         "xaxis": "x8",
         "y": [
          -0.008326502242811062,
          -3.834418109497618,
          -0.0038730211812538487,
          -0.0036520245157044607,
          -0.024290639236509086,
          -11.920643550673033,
          -0.0037215309281044585,
          -0.5368030656411564,
          -0.009914880618416538,
          -0.008188602525812853,
          -0.00825547930563265,
          -0.008190965149451715,
          -0.008737336953697697,
          -0.024290639236509086,
          -0.024290639236509086,
          -0.017853969764532306,
          -18.75024515813632,
          -0.008296208037214486,
          -0.0036458062220303122,
          -27.604321376178568,
          -0.003283424756676366,
          -0.4340465625299199,
          -0.008129689081819042,
          -0.008022889778263672,
          -0.01888976499624415,
          -0.009594785513697145,
          -0.005165029209850389,
          -0.014939487107574137,
          -0.024290639236509086,
          -4.553292469189486,
          -0.003809866247779638,
          -0.01092013738495412,
          -0.009033583156189623,
          -0.021452421225706255,
          -0.897382999606519,
          -0.01592210974325595,
          -0.008255363361901996,
          -0.008011757085077963,
          -0.234972529452009,
          -9.620281535292113,
          -0.009942851923293911,
          -0.4300702609122197,
          -0.008470242219982951,
          -0.009485964878324097,
          -0.28212871212674684,
          -0.45208390753899186
         ],
         "yaxis": "y8"
        }
       ],
       "layout": {
        "template": {
         "data": {
          "bar": [
           {
            "error_x": {
             "color": "#2a3f5f"
            },
            "error_y": {
             "color": "#2a3f5f"
            },
            "marker": {
             "line": {
              "color": "#E5ECF6",
              "width": 0.5
             },
             "pattern": {
              "fillmode": "overlay",
              "size": 10,
              "solidity": 0.2
             }
            },
            "type": "bar"
           }
          ],
          "barpolar": [
           {
            "marker": {
             "line": {
              "color": "#E5ECF6",
              "width": 0.5
             },
             "pattern": {
              "fillmode": "overlay",
              "size": 10,
              "solidity": 0.2
             }
            },
            "type": "barpolar"
           }
          ],
          "carpet": [
           {
            "aaxis": {
             "endlinecolor": "#2a3f5f",
             "gridcolor": "white",
             "linecolor": "white",
             "minorgridcolor": "white",
             "startlinecolor": "#2a3f5f"
            },
            "baxis": {
             "endlinecolor": "#2a3f5f",
             "gridcolor": "white",
             "linecolor": "white",
             "minorgridcolor": "white",
             "startlinecolor": "#2a3f5f"
            },
            "type": "carpet"
           }
          ],
          "choropleth": [
           {
            "colorbar": {
             "outlinewidth": 0,
             "ticks": ""
            },
            "type": "choropleth"
           }
          ],
          "contour": [
           {
            "colorbar": {
             "outlinewidth": 0,
             "ticks": ""
            },
            "colorscale": [
             [
              0,
              "#0d0887"
             ],
             [
              0.1111111111111111,
              "#46039f"
             ],
             [
              0.2222222222222222,
              "#7201a8"
             ],
             [
              0.3333333333333333,
              "#9c179e"
             ],
             [
              0.4444444444444444,
              "#bd3786"
             ],
             [
              0.5555555555555556,
              "#d8576b"
             ],
             [
              0.6666666666666666,
              "#ed7953"
             ],
             [
              0.7777777777777778,
              "#fb9f3a"
             ],
             [
              0.8888888888888888,
              "#fdca26"
             ],
             [
              1,
              "#f0f921"
             ]
            ],
            "type": "contour"
           }
          ],
          "contourcarpet": [
           {
            "colorbar": {
             "outlinewidth": 0,
             "ticks": ""
            },
            "type": "contourcarpet"
           }
          ],
          "heatmap": [
           {
            "colorbar": {
             "outlinewidth": 0,
             "ticks": ""
            },
            "colorscale": [
             [
              0,
              "#0d0887"
             ],
             [
              0.1111111111111111,
              "#46039f"
             ],
             [
              0.2222222222222222,
              "#7201a8"
             ],
             [
              0.3333333333333333,
              "#9c179e"
             ],
             [
              0.4444444444444444,
              "#bd3786"
             ],
             [
              0.5555555555555556,
              "#d8576b"
             ],
             [
              0.6666666666666666,
              "#ed7953"
             ],
             [
              0.7777777777777778,
              "#fb9f3a"
             ],
             [
              0.8888888888888888,
              "#fdca26"
             ],
             [
              1,
              "#f0f921"
             ]
            ],
            "type": "heatmap"
           }
          ],
          "histogram": [
           {
            "marker": {
             "pattern": {
              "fillmode": "overlay",
              "size": 10,
              "solidity": 0.2
             }
            },
            "type": "histogram"
           }
          ],
          "histogram2d": [
           {
            "colorbar": {
             "outlinewidth": 0,
             "ticks": ""
            },
            "colorscale": [
             [
              0,
              "#0d0887"
             ],
             [
              0.1111111111111111,
              "#46039f"
             ],
             [
              0.2222222222222222,
              "#7201a8"
             ],
             [
              0.3333333333333333,
              "#9c179e"
             ],
             [
              0.4444444444444444,
              "#bd3786"
             ],
             [
              0.5555555555555556,
              "#d8576b"
             ],
             [
              0.6666666666666666,
              "#ed7953"
             ],
             [
              0.7777777777777778,
              "#fb9f3a"
             ],
             [
              0.8888888888888888,
              "#fdca26"
             ],
             [
              1,
              "#f0f921"
             ]
            ],
            "type": "histogram2d"
           }
          ],
          "histogram2dcontour": [
           {
            "colorbar": {
             "outlinewidth": 0,
             "ticks": ""
            },
            "colorscale": [
             [
              0,
              "#0d0887"
             ],
             [
              0.1111111111111111,
              "#46039f"
             ],
             [
              0.2222222222222222,
              "#7201a8"
             ],
             [
              0.3333333333333333,
              "#9c179e"
             ],
             [
              0.4444444444444444,
              "#bd3786"
             ],
             [
              0.5555555555555556,
              "#d8576b"
             ],
             [
              0.6666666666666666,
              "#ed7953"
             ],
             [
              0.7777777777777778,
              "#fb9f3a"
             ],
             [
              0.8888888888888888,
              "#fdca26"
             ],
             [
              1,
              "#f0f921"
             ]
            ],
            "type": "histogram2dcontour"
           }
          ],
          "mesh3d": [
           {
            "colorbar": {
             "outlinewidth": 0,
             "ticks": ""
            },
            "type": "mesh3d"
           }
          ],
          "parcoords": [
           {
            "line": {
             "colorbar": {
              "outlinewidth": 0,
              "ticks": ""
             }
            },
            "type": "parcoords"
           }
          ],
          "pie": [
           {
            "automargin": true,
            "type": "pie"
           }
          ],
          "scatter": [
           {
            "fillpattern": {
             "fillmode": "overlay",
             "size": 10,
             "solidity": 0.2
            },
            "type": "scatter"
           }
          ],
          "scatter3d": [
           {
            "line": {
             "colorbar": {
              "outlinewidth": 0,
              "ticks": ""
             }
            },
            "marker": {
             "colorbar": {
              "outlinewidth": 0,
              "ticks": ""
             }
            },
            "type": "scatter3d"
           }
          ],
          "scattercarpet": [
           {
            "marker": {
             "colorbar": {
              "outlinewidth": 0,
              "ticks": ""
             }
            },
            "type": "scattercarpet"
           }
          ],
          "scattergeo": [
           {
            "marker": {
             "colorbar": {
              "outlinewidth": 0,
              "ticks": ""
             }
            },
            "type": "scattergeo"
           }
          ],
          "scattergl": [
           {
            "marker": {
             "colorbar": {
              "outlinewidth": 0,
              "ticks": ""
             }
            },
            "type": "scattergl"
           }
          ],
          "scattermap": [
           {
            "marker": {
             "colorbar": {
              "outlinewidth": 0,
              "ticks": ""
             }
            },
            "type": "scattermap"
           }
          ],
          "scattermapbox": [
           {
            "marker": {
             "colorbar": {
              "outlinewidth": 0,
              "ticks": ""
             }
            },
            "type": "scattermapbox"
           }
          ],
          "scatterpolar": [
           {
            "marker": {
             "colorbar": {
              "outlinewidth": 0,
              "ticks": ""
             }
            },
            "type": "scatterpolar"
           }
          ],
          "scatterpolargl": [
           {
            "marker": {
             "colorbar": {
              "outlinewidth": 0,
              "ticks": ""
             }
            },
            "type": "scatterpolargl"
           }
          ],
          "scatterternary": [
           {
            "marker": {
             "colorbar": {
              "outlinewidth": 0,
              "ticks": ""
             }
            },
            "type": "scatterternary"
           }
          ],
          "surface": [
           {
            "colorbar": {
             "outlinewidth": 0,
             "ticks": ""
            },
            "colorscale": [
             [
              0,
              "#0d0887"
             ],
             [
              0.1111111111111111,
              "#46039f"
             ],
             [
              0.2222222222222222,
              "#7201a8"
             ],
             [
              0.3333333333333333,
              "#9c179e"
             ],
             [
              0.4444444444444444,
              "#bd3786"
             ],
             [
              0.5555555555555556,
              "#d8576b"
             ],
             [
              0.6666666666666666,
              "#ed7953"
             ],
             [
              0.7777777777777778,
              "#fb9f3a"
             ],
             [
              0.8888888888888888,
              "#fdca26"
             ],
             [
              1,
              "#f0f921"
             ]
            ],
            "type": "surface"
           }
          ],
          "table": [
           {
            "cells": {
             "fill": {
              "color": "#EBF0F8"
             },
             "line": {
              "color": "white"
             }
            },
            "header": {
             "fill": {
              "color": "#C8D4E3"
             },
             "line": {
              "color": "white"
             }
            },
            "type": "table"
           }
          ]
         },
         "layout": {
          "annotationdefaults": {
           "arrowcolor": "#2a3f5f",
           "arrowhead": 0,
           "arrowwidth": 1
          },
          "autotypenumbers": "strict",
          "coloraxis": {
           "colorbar": {
            "outlinewidth": 0,
            "ticks": ""
           }
          },
          "colorscale": {
           "diverging": [
            [
             0,
             "#8e0152"
            ],
            [
             0.1,
             "#c51b7d"
            ],
            [
             0.2,
             "#de77ae"
            ],
            [
             0.3,
             "#f1b6da"
            ],
            [
             0.4,
             "#fde0ef"
            ],
            [
             0.5,
             "#f7f7f7"
            ],
            [
             0.6,
             "#e6f5d0"
            ],
            [
             0.7,
             "#b8e186"
            ],
            [
             0.8,
             "#7fbc41"
            ],
            [
             0.9,
             "#4d9221"
            ],
            [
             1,
             "#276419"
            ]
           ],
           "sequential": [
            [
             0,
             "#0d0887"
            ],
            [
             0.1111111111111111,
             "#46039f"
            ],
            [
             0.2222222222222222,
             "#7201a8"
            ],
            [
             0.3333333333333333,
             "#9c179e"
            ],
            [
             0.4444444444444444,
             "#bd3786"
            ],
            [
             0.5555555555555556,
             "#d8576b"
            ],
            [
             0.6666666666666666,
             "#ed7953"
            ],
            [
             0.7777777777777778,
             "#fb9f3a"
            ],
            [
             0.8888888888888888,
             "#fdca26"
            ],
            [
             1,
             "#f0f921"
            ]
           ],
           "sequentialminus": [
            [
             0,
             "#0d0887"
            ],
            [
             0.1111111111111111,
             "#46039f"
            ],
            [
             0.2222222222222222,
             "#7201a8"
            ],
            [
             0.3333333333333333,
             "#9c179e"
            ],
            [
             0.4444444444444444,
             "#bd3786"
            ],
            [
             0.5555555555555556,
             "#d8576b"
            ],
            [
             0.6666666666666666,
             "#ed7953"
            ],
            [
             0.7777777777777778,
             "#fb9f3a"
            ],
            [
             0.8888888888888888,
             "#fdca26"
            ],
            [
             1,
             "#f0f921"
            ]
           ]
          },
          "colorway": [
           "#636efa",
           "#EF553B",
           "#00cc96",
           "#ab63fa",
           "#FFA15A",
           "#19d3f3",
           "#FF6692",
           "#B6E880",
           "#FF97FF",
           "#FECB52"
          ],
          "font": {
           "color": "#2a3f5f"
          },
          "geo": {
           "bgcolor": "white",
           "lakecolor": "white",
           "landcolor": "#E5ECF6",
           "showlakes": true,
           "showland": true,
           "subunitcolor": "white"
          },
          "hoverlabel": {
           "align": "left"
          },
          "hovermode": "closest",
          "mapbox": {
           "style": "light"
          },
          "paper_bgcolor": "white",
          "plot_bgcolor": "#E5ECF6",
          "polar": {
           "angularaxis": {
            "gridcolor": "white",
            "linecolor": "white",
            "ticks": ""
           },
           "bgcolor": "#E5ECF6",
           "radialaxis": {
            "gridcolor": "white",
            "linecolor": "white",
            "ticks": ""
           }
          },
          "scene": {
           "xaxis": {
            "backgroundcolor": "#E5ECF6",
            "gridcolor": "white",
            "gridwidth": 2,
            "linecolor": "white",
            "showbackground": true,
            "ticks": "",
            "zerolinecolor": "white"
           },
           "yaxis": {
            "backgroundcolor": "#E5ECF6",
            "gridcolor": "white",
            "gridwidth": 2,
            "linecolor": "white",
            "showbackground": true,
            "ticks": "",
            "zerolinecolor": "white"
           },
           "zaxis": {
            "backgroundcolor": "#E5ECF6",
            "gridcolor": "white",
            "gridwidth": 2,
            "linecolor": "white",
            "showbackground": true,
            "ticks": "",
            "zerolinecolor": "white"
           }
          },
          "shapedefaults": {
           "line": {
            "color": "#2a3f5f"
           }
          },
          "ternary": {
           "aaxis": {
            "gridcolor": "white",
            "linecolor": "white",
            "ticks": ""
           },
           "baxis": {
            "gridcolor": "white",
            "linecolor": "white",
            "ticks": ""
           },
           "bgcolor": "#E5ECF6",
           "caxis": {
            "gridcolor": "white",
            "linecolor": "white",
            "ticks": ""
           }
          },
          "title": {
           "x": 0.05
          },
          "xaxis": {
           "automargin": true,
           "gridcolor": "white",
           "linecolor": "white",
           "ticks": "",
           "title": {
            "standoff": 15
           },
           "zerolinecolor": "white",
           "zerolinewidth": 2
          },
          "yaxis": {
           "automargin": true,
           "gridcolor": "white",
           "linecolor": "white",
           "ticks": "",
           "title": {
            "standoff": 15
           },
           "zerolinecolor": "white",
           "zerolinewidth": 2
          }
         }
        },
        "title": {
         "text": "Slice Plot"
        },
        "width": 2400,
        "xaxis": {
         "anchor": "y",
         "domain": [
          0,
          0.103125
         ],
         "title": {
          "text": "alpha"
         },
         "type": "log"
        },
        "xaxis2": {
         "anchor": "y2",
         "categoryarray": [
          false,
          true
         ],
         "categoryorder": "array",
         "domain": [
          0.128125,
          0.23124999999999998
         ],
         "title": {
          "text": "fit_intercept"
         },
         "type": "category"
        },
        "xaxis3": {
         "anchor": "y3",
         "domain": [
          0.25625,
          0.359375
         ],
         "title": {
          "text": "l1_ratio"
         }
        },
        "xaxis4": {
         "anchor": "y4",
         "domain": [
          0.38437499999999997,
          0.48749999999999993
         ],
         "title": {
          "text": "max_iter"
         }
        },
        "xaxis5": {
         "anchor": "y5",
         "domain": [
          0.5125,
          0.615625
         ],
         "title": {
          "text": "poly_degree"
         }
        },
        "xaxis6": {
         "anchor": "y6",
         "categoryarray": [
          false,
          true
         ],
         "categoryorder": "array",
         "domain": [
          0.640625,
          0.74375
         ],
         "title": {
          "text": "use_scaler"
         },
         "type": "category"
        },
        "xaxis7": {
         "anchor": "y7",
         "categoryarray": [
          true,
          false
         ],
         "categoryorder": "array",
         "domain": [
          0.7687499999999999,
          0.871875
         ],
         "title": {
          "text": "with_mean"
         },
         "type": "category"
        },
        "xaxis8": {
         "anchor": "y8",
         "categoryarray": [
          true,
          false
         ],
         "categoryorder": "array",
         "domain": [
          0.896875,
          1
         ],
         "title": {
          "text": "with_std"
         },
         "type": "category"
        },
        "yaxis": {
         "anchor": "x",
         "domain": [
          0,
          1
         ],
         "title": {
          "text": "Objective Value"
         }
        },
        "yaxis2": {
         "anchor": "x2",
         "domain": [
          0,
          1
         ],
         "matches": "y",
         "showticklabels": false
        },
        "yaxis3": {
         "anchor": "x3",
         "domain": [
          0,
          1
         ],
         "matches": "y",
         "showticklabels": false
        },
        "yaxis4": {
         "anchor": "x4",
         "domain": [
          0,
          1
         ],
         "matches": "y",
         "showticklabels": false
        },
        "yaxis5": {
         "anchor": "x5",
         "domain": [
          0,
          1
         ],
         "matches": "y",
         "showticklabels": false
        },
        "yaxis6": {
         "anchor": "x6",
         "domain": [
          0,
          1
         ],
         "matches": "y",
         "showticklabels": false
        },
        "yaxis7": {
         "anchor": "x7",
         "domain": [
          0,
          1
         ],
         "matches": "y",
         "showticklabels": false
        },
        "yaxis8": {
         "anchor": "x8",
         "domain": [
          0,
          1
         ],
         "matches": "y",
         "showticklabels": false
        }
       }
      }
     },
     "metadata": {},
     "output_type": "display_data"
    }
   ],
   "source": [
    "optuna.visualization.plot_slice(study, params=['alpha', 'l1_ratio', 'fit_intercept', 'max_iter','use_scaler','poly_degree','with_mean','with_std'])"
   ]
  },
  {
   "cell_type": "code",
   "execution_count": 312,
   "metadata": {},
   "outputs": [
    {
     "data": {
      "application/vnd.plotly.v1+json": {
       "config": {
        "plotlyServerURL": "https://plot.ly"
       },
       "data": [
        {
         "cliponaxis": false,
         "hovertemplate": [
          "poly_degree (IntDistribution): 0.03143951528350916<extra></extra>",
          "use_scaler (CategoricalDistribution): 0.03478822649024093<extra></extra>",
          "fit_intercept (CategoricalDistribution): 0.048422661900485386<extra></extra>",
          "max_iter (IntDistribution): 0.06231579056267724<extra></extra>",
          "alpha (FloatDistribution): 0.27946609928251265<extra></extra>",
          "l1_ratio (FloatDistribution): 0.5435677064805746<extra></extra>"
         ],
         "name": "Objective Value",
         "orientation": "h",
         "text": [
          "0.03",
          "0.03",
          "0.05",
          "0.06",
          "0.28",
          "0.54"
         ],
         "textposition": "outside",
         "type": "bar",
         "x": [
          0.03143951528350916,
          0.03478822649024093,
          0.048422661900485386,
          0.06231579056267724,
          0.27946609928251265,
          0.5435677064805746
         ],
         "y": [
          "poly_degree",
          "use_scaler",
          "fit_intercept",
          "max_iter",
          "alpha",
          "l1_ratio"
         ]
        }
       ],
       "layout": {
        "template": {
         "data": {
          "bar": [
           {
            "error_x": {
             "color": "#2a3f5f"
            },
            "error_y": {
             "color": "#2a3f5f"
            },
            "marker": {
             "line": {
              "color": "#E5ECF6",
              "width": 0.5
             },
             "pattern": {
              "fillmode": "overlay",
              "size": 10,
              "solidity": 0.2
             }
            },
            "type": "bar"
           }
          ],
          "barpolar": [
           {
            "marker": {
             "line": {
              "color": "#E5ECF6",
              "width": 0.5
             },
             "pattern": {
              "fillmode": "overlay",
              "size": 10,
              "solidity": 0.2
             }
            },
            "type": "barpolar"
           }
          ],
          "carpet": [
           {
            "aaxis": {
             "endlinecolor": "#2a3f5f",
             "gridcolor": "white",
             "linecolor": "white",
             "minorgridcolor": "white",
             "startlinecolor": "#2a3f5f"
            },
            "baxis": {
             "endlinecolor": "#2a3f5f",
             "gridcolor": "white",
             "linecolor": "white",
             "minorgridcolor": "white",
             "startlinecolor": "#2a3f5f"
            },
            "type": "carpet"
           }
          ],
          "choropleth": [
           {
            "colorbar": {
             "outlinewidth": 0,
             "ticks": ""
            },
            "type": "choropleth"
           }
          ],
          "contour": [
           {
            "colorbar": {
             "outlinewidth": 0,
             "ticks": ""
            },
            "colorscale": [
             [
              0,
              "#0d0887"
             ],
             [
              0.1111111111111111,
              "#46039f"
             ],
             [
              0.2222222222222222,
              "#7201a8"
             ],
             [
              0.3333333333333333,
              "#9c179e"
             ],
             [
              0.4444444444444444,
              "#bd3786"
             ],
             [
              0.5555555555555556,
              "#d8576b"
             ],
             [
              0.6666666666666666,
              "#ed7953"
             ],
             [
              0.7777777777777778,
              "#fb9f3a"
             ],
             [
              0.8888888888888888,
              "#fdca26"
             ],
             [
              1,
              "#f0f921"
             ]
            ],
            "type": "contour"
           }
          ],
          "contourcarpet": [
           {
            "colorbar": {
             "outlinewidth": 0,
             "ticks": ""
            },
            "type": "contourcarpet"
           }
          ],
          "heatmap": [
           {
            "colorbar": {
             "outlinewidth": 0,
             "ticks": ""
            },
            "colorscale": [
             [
              0,
              "#0d0887"
             ],
             [
              0.1111111111111111,
              "#46039f"
             ],
             [
              0.2222222222222222,
              "#7201a8"
             ],
             [
              0.3333333333333333,
              "#9c179e"
             ],
             [
              0.4444444444444444,
              "#bd3786"
             ],
             [
              0.5555555555555556,
              "#d8576b"
             ],
             [
              0.6666666666666666,
              "#ed7953"
             ],
             [
              0.7777777777777778,
              "#fb9f3a"
             ],
             [
              0.8888888888888888,
              "#fdca26"
             ],
             [
              1,
              "#f0f921"
             ]
            ],
            "type": "heatmap"
           }
          ],
          "histogram": [
           {
            "marker": {
             "pattern": {
              "fillmode": "overlay",
              "size": 10,
              "solidity": 0.2
             }
            },
            "type": "histogram"
           }
          ],
          "histogram2d": [
           {
            "colorbar": {
             "outlinewidth": 0,
             "ticks": ""
            },
            "colorscale": [
             [
              0,
              "#0d0887"
             ],
             [
              0.1111111111111111,
              "#46039f"
             ],
             [
              0.2222222222222222,
              "#7201a8"
             ],
             [
              0.3333333333333333,
              "#9c179e"
             ],
             [
              0.4444444444444444,
              "#bd3786"
             ],
             [
              0.5555555555555556,
              "#d8576b"
             ],
             [
              0.6666666666666666,
              "#ed7953"
             ],
             [
              0.7777777777777778,
              "#fb9f3a"
             ],
             [
              0.8888888888888888,
              "#fdca26"
             ],
             [
              1,
              "#f0f921"
             ]
            ],
            "type": "histogram2d"
           }
          ],
          "histogram2dcontour": [
           {
            "colorbar": {
             "outlinewidth": 0,
             "ticks": ""
            },
            "colorscale": [
             [
              0,
              "#0d0887"
             ],
             [
              0.1111111111111111,
              "#46039f"
             ],
             [
              0.2222222222222222,
              "#7201a8"
             ],
             [
              0.3333333333333333,
              "#9c179e"
             ],
             [
              0.4444444444444444,
              "#bd3786"
             ],
             [
              0.5555555555555556,
              "#d8576b"
             ],
             [
              0.6666666666666666,
              "#ed7953"
             ],
             [
              0.7777777777777778,
              "#fb9f3a"
             ],
             [
              0.8888888888888888,
              "#fdca26"
             ],
             [
              1,
              "#f0f921"
             ]
            ],
            "type": "histogram2dcontour"
           }
          ],
          "mesh3d": [
           {
            "colorbar": {
             "outlinewidth": 0,
             "ticks": ""
            },
            "type": "mesh3d"
           }
          ],
          "parcoords": [
           {
            "line": {
             "colorbar": {
              "outlinewidth": 0,
              "ticks": ""
             }
            },
            "type": "parcoords"
           }
          ],
          "pie": [
           {
            "automargin": true,
            "type": "pie"
           }
          ],
          "scatter": [
           {
            "fillpattern": {
             "fillmode": "overlay",
             "size": 10,
             "solidity": 0.2
            },
            "type": "scatter"
           }
          ],
          "scatter3d": [
           {
            "line": {
             "colorbar": {
              "outlinewidth": 0,
              "ticks": ""
             }
            },
            "marker": {
             "colorbar": {
              "outlinewidth": 0,
              "ticks": ""
             }
            },
            "type": "scatter3d"
           }
          ],
          "scattercarpet": [
           {
            "marker": {
             "colorbar": {
              "outlinewidth": 0,
              "ticks": ""
             }
            },
            "type": "scattercarpet"
           }
          ],
          "scattergeo": [
           {
            "marker": {
             "colorbar": {
              "outlinewidth": 0,
              "ticks": ""
             }
            },
            "type": "scattergeo"
           }
          ],
          "scattergl": [
           {
            "marker": {
             "colorbar": {
              "outlinewidth": 0,
              "ticks": ""
             }
            },
            "type": "scattergl"
           }
          ],
          "scattermap": [
           {
            "marker": {
             "colorbar": {
              "outlinewidth": 0,
              "ticks": ""
             }
            },
            "type": "scattermap"
           }
          ],
          "scattermapbox": [
           {
            "marker": {
             "colorbar": {
              "outlinewidth": 0,
              "ticks": ""
             }
            },
            "type": "scattermapbox"
           }
          ],
          "scatterpolar": [
           {
            "marker": {
             "colorbar": {
              "outlinewidth": 0,
              "ticks": ""
             }
            },
            "type": "scatterpolar"
           }
          ],
          "scatterpolargl": [
           {
            "marker": {
             "colorbar": {
              "outlinewidth": 0,
              "ticks": ""
             }
            },
            "type": "scatterpolargl"
           }
          ],
          "scatterternary": [
           {
            "marker": {
             "colorbar": {
              "outlinewidth": 0,
              "ticks": ""
             }
            },
            "type": "scatterternary"
           }
          ],
          "surface": [
           {
            "colorbar": {
             "outlinewidth": 0,
             "ticks": ""
            },
            "colorscale": [
             [
              0,
              "#0d0887"
             ],
             [
              0.1111111111111111,
              "#46039f"
             ],
             [
              0.2222222222222222,
              "#7201a8"
             ],
             [
              0.3333333333333333,
              "#9c179e"
             ],
             [
              0.4444444444444444,
              "#bd3786"
             ],
             [
              0.5555555555555556,
              "#d8576b"
             ],
             [
              0.6666666666666666,
              "#ed7953"
             ],
             [
              0.7777777777777778,
              "#fb9f3a"
             ],
             [
              0.8888888888888888,
              "#fdca26"
             ],
             [
              1,
              "#f0f921"
             ]
            ],
            "type": "surface"
           }
          ],
          "table": [
           {
            "cells": {
             "fill": {
              "color": "#EBF0F8"
             },
             "line": {
              "color": "white"
             }
            },
            "header": {
             "fill": {
              "color": "#C8D4E3"
             },
             "line": {
              "color": "white"
             }
            },
            "type": "table"
           }
          ]
         },
         "layout": {
          "annotationdefaults": {
           "arrowcolor": "#2a3f5f",
           "arrowhead": 0,
           "arrowwidth": 1
          },
          "autotypenumbers": "strict",
          "coloraxis": {
           "colorbar": {
            "outlinewidth": 0,
            "ticks": ""
           }
          },
          "colorscale": {
           "diverging": [
            [
             0,
             "#8e0152"
            ],
            [
             0.1,
             "#c51b7d"
            ],
            [
             0.2,
             "#de77ae"
            ],
            [
             0.3,
             "#f1b6da"
            ],
            [
             0.4,
             "#fde0ef"
            ],
            [
             0.5,
             "#f7f7f7"
            ],
            [
             0.6,
             "#e6f5d0"
            ],
            [
             0.7,
             "#b8e186"
            ],
            [
             0.8,
             "#7fbc41"
            ],
            [
             0.9,
             "#4d9221"
            ],
            [
             1,
             "#276419"
            ]
           ],
           "sequential": [
            [
             0,
             "#0d0887"
            ],
            [
             0.1111111111111111,
             "#46039f"
            ],
            [
             0.2222222222222222,
             "#7201a8"
            ],
            [
             0.3333333333333333,
             "#9c179e"
            ],
            [
             0.4444444444444444,
             "#bd3786"
            ],
            [
             0.5555555555555556,
             "#d8576b"
            ],
            [
             0.6666666666666666,
             "#ed7953"
            ],
            [
             0.7777777777777778,
             "#fb9f3a"
            ],
            [
             0.8888888888888888,
             "#fdca26"
            ],
            [
             1,
             "#f0f921"
            ]
           ],
           "sequentialminus": [
            [
             0,
             "#0d0887"
            ],
            [
             0.1111111111111111,
             "#46039f"
            ],
            [
             0.2222222222222222,
             "#7201a8"
            ],
            [
             0.3333333333333333,
             "#9c179e"
            ],
            [
             0.4444444444444444,
             "#bd3786"
            ],
            [
             0.5555555555555556,
             "#d8576b"
            ],
            [
             0.6666666666666666,
             "#ed7953"
            ],
            [
             0.7777777777777778,
             "#fb9f3a"
            ],
            [
             0.8888888888888888,
             "#fdca26"
            ],
            [
             1,
             "#f0f921"
            ]
           ]
          },
          "colorway": [
           "#636efa",
           "#EF553B",
           "#00cc96",
           "#ab63fa",
           "#FFA15A",
           "#19d3f3",
           "#FF6692",
           "#B6E880",
           "#FF97FF",
           "#FECB52"
          ],
          "font": {
           "color": "#2a3f5f"
          },
          "geo": {
           "bgcolor": "white",
           "lakecolor": "white",
           "landcolor": "#E5ECF6",
           "showlakes": true,
           "showland": true,
           "subunitcolor": "white"
          },
          "hoverlabel": {
           "align": "left"
          },
          "hovermode": "closest",
          "mapbox": {
           "style": "light"
          },
          "paper_bgcolor": "white",
          "plot_bgcolor": "#E5ECF6",
          "polar": {
           "angularaxis": {
            "gridcolor": "white",
            "linecolor": "white",
            "ticks": ""
           },
           "bgcolor": "#E5ECF6",
           "radialaxis": {
            "gridcolor": "white",
            "linecolor": "white",
            "ticks": ""
           }
          },
          "scene": {
           "xaxis": {
            "backgroundcolor": "#E5ECF6",
            "gridcolor": "white",
            "gridwidth": 2,
            "linecolor": "white",
            "showbackground": true,
            "ticks": "",
            "zerolinecolor": "white"
           },
           "yaxis": {
            "backgroundcolor": "#E5ECF6",
            "gridcolor": "white",
            "gridwidth": 2,
            "linecolor": "white",
            "showbackground": true,
            "ticks": "",
            "zerolinecolor": "white"
           },
           "zaxis": {
            "backgroundcolor": "#E5ECF6",
            "gridcolor": "white",
            "gridwidth": 2,
            "linecolor": "white",
            "showbackground": true,
            "ticks": "",
            "zerolinecolor": "white"
           }
          },
          "shapedefaults": {
           "line": {
            "color": "#2a3f5f"
           }
          },
          "ternary": {
           "aaxis": {
            "gridcolor": "white",
            "linecolor": "white",
            "ticks": ""
           },
           "baxis": {
            "gridcolor": "white",
            "linecolor": "white",
            "ticks": ""
           },
           "bgcolor": "#E5ECF6",
           "caxis": {
            "gridcolor": "white",
            "linecolor": "white",
            "ticks": ""
           }
          },
          "title": {
           "x": 0.05
          },
          "xaxis": {
           "automargin": true,
           "gridcolor": "white",
           "linecolor": "white",
           "ticks": "",
           "title": {
            "standoff": 15
           },
           "zerolinecolor": "white",
           "zerolinewidth": 2
          },
          "yaxis": {
           "automargin": true,
           "gridcolor": "white",
           "linecolor": "white",
           "ticks": "",
           "title": {
            "standoff": 15
           },
           "zerolinecolor": "white",
           "zerolinewidth": 2
          }
         }
        },
        "title": {
         "text": "Hyperparameter Importances"
        },
        "xaxis": {
         "title": {
          "text": "Hyperparameter Importance"
         }
        },
        "yaxis": {
         "title": {
          "text": "Hyperparameter"
         }
        }
       }
      }
     },
     "metadata": {},
     "output_type": "display_data"
    }
   ],
   "source": [
    "optuna.visualization.plot_param_importances(study)"
   ]
  },
  {
   "cell_type": "code",
   "execution_count": 313,
   "metadata": {},
   "outputs": [],
   "source": [
    "best_alpha = best_params['alpha']\n",
    "best_l1_ratio = best_params['l1_ratio']\n",
    "best_fit_intercept = best_params['fit_intercept']\n",
    "best_max_iter = best_params['max_iter']\n",
    "\n",
    "\n"
   ]
  },
  {
   "cell_type": "code",
   "execution_count": 336,
   "metadata": {},
   "outputs": [],
   "source": [
    "numeric_pipeline_elastic = Pipeline([\n",
    "    ('imputer', SimpleImputer(strategy='mean')),\n",
    "        ('poly', PolynomialFeatures(degree=5, include_bias=False)),\n",
    "        ('scaler',StandardScaler(with_mean=False))\n",
    "])\n",
    "\n",
    "categorical_pipeline_elastic = Pipeline([\n",
    "    ('imputer', SimpleImputer(strategy='most_frequent')),\n",
    "    ('onehot',  OneHotEncoder(handle_unknown='ignore', sparse_output=False,drop='first')),\n",
    "])\n",
    "\n",
    "preprocessor = ColumnTransformer([\n",
    "    ('num', numeric_pipeline_elastic,      num_cols),\n",
    "    ('cat', categorical_pipeline_elastic,  cat_cols),\n",
    "],\n",
    "remainder='passthrough')\n",
    "\n",
    "elastic = Pipeline([\n",
    "    ('prepoc',preprocessor),\n",
    "        ('est', ElasticNet(\n",
    "            alpha=best_alpha,\n",
    "            l1_ratio=best_l1_ratio,\n",
    "            fit_intercept=best_fit_intercept,\n",
    "            max_iter=best_max_iter,\n",
    "            random_state=42\n",
    "        )),\n",
    "    \n",
    "])"
   ]
  },
  {
   "cell_type": "code",
   "execution_count": 337,
   "metadata": {},
   "outputs": [
    {
     "name": "stdout",
     "output_type": "stream",
     "text": [
      "Elastic Net Regressor CV results:\n",
      "[0.00345808 0.00345629 0.00348434 0.00292274 0.00306042]\n",
      "RMSE: 0.00 +/- 0.00\n",
      "\n"
     ]
    }
   ],
   "source": [
    "est_cv = cross_val_score(\n",
    "        elastic, X_train, y_train,\n",
    "        cv=5,\n",
    "        scoring='neg_mean_squared_error',\n",
    "        n_jobs=-1\n",
    "    )\n",
    "print_cv_results('Elastic Net Regressor',est_cv)"
   ]
  },
  {
   "cell_type": "code",
   "execution_count": 338,
   "metadata": {},
   "outputs": [],
   "source": [
    "result['ElsticNet'] = est_cv"
   ]
  },
  {
   "cell_type": "markdown",
   "metadata": {},
   "source": [
    "# Random Forest Regressor"
   ]
  },
  {
   "cell_type": "code",
   "execution_count": 90,
   "metadata": {},
   "outputs": [],
   "source": [
    "from sklearn.ensemble import RandomForestRegressor"
   ]
  },
  {
   "cell_type": "code",
   "execution_count": null,
   "metadata": {},
   "outputs": [],
   "source": [
    "def objective(trial): \n",
    "    n_estimators = trial.suggest_int('n_estimators', 100, 1000)\n",
    "    max_depth = trial.suggest_int('max_depth', 10, 50) \n",
    "    min_samples_split = trial.suggest_int('min_samples_split', 2, 32) \n",
    "    min_samples_leaf = trial.suggest_int('min_samples_leaf', 1, 32) \n",
    "\n",
    "    num_steps = [\n",
    "        ('imputer', SimpleImputer(strategy='mean'))\n",
    "    ]\n",
    "    poly_degree   = trial.suggest_int('poly_degree',1,3)\n",
    "\n",
    "    num_steps = [('imputer', SimpleImputer(strategy='mean'))]\n",
    "    \n",
    "    num_steps.append(('poly',\n",
    "                      PolynomialFeatures(degree=poly_degree,\n",
    "                                         include_bias=False)))\n",
    "            \n",
    "    numeric_pipeline = Pipeline(num_steps)\n",
    "\n",
    "    categorical_pipeline = Pipeline([\n",
    "        ('imputer', SimpleImputer(strategy='most_frequent')),\n",
    "        ('onehot',  OneHotEncoder(handle_unknown='ignore',\n",
    "                                  sparse_output=False,\n",
    "                                  drop='first')),\n",
    "    ])\n",
    "\n",
    "    preprocessor = ColumnTransformer(\n",
    "        [\n",
    "            ('num', numeric_pipeline,      num_cols),\n",
    "            ('cat', categorical_pipeline,  cat_cols),\n",
    "        ],\n",
    "        remainder='passthrough'\n",
    "    )\n",
    "    model = Pipeline([\n",
    "        ('preproc', preprocessor),\n",
    "        ('randomforest', RandomForestRegressor(\n",
    "        n_estimators=n_estimators, \n",
    "        max_depth=max_depth, \n",
    "        min_samples_split=min_samples_split, \n",
    "        min_samples_leaf=min_samples_leaf,\n",
    "        random_state=42\n",
    "        )),\n",
    "    ])\n",
    "\n",
    "    neg_mse = cross_val_score(\n",
    "        model, X_train, y_train,\n",
    "        cv=5,\n",
    "        scoring='neg_mean_squared_error',\n",
    "        n_jobs=-1\n",
    "    ).mean()\n",
    "\n",
    "    return neg_mse"
   ]
  },
  {
   "cell_type": "code",
   "execution_count": 102,
   "metadata": {},
   "outputs": [
    {
     "name": "stderr",
     "output_type": "stream",
     "text": [
      "[I 2025-05-03 15:45:31,619] A new study created in memory with name: no-name-e14df4ff-2051-4e62-8bcb-f2c630aa1740\n"
     ]
    }
   ],
   "source": [
    "study = optuna.create_study(direction='maximize', sampler=optuna.samplers.RandomSampler(seed=42)) "
   ]
  },
  {
   "cell_type": "code",
   "execution_count": 103,
   "metadata": {},
   "outputs": [
    {
     "name": "stderr",
     "output_type": "stream",
     "text": [
      "[I 2025-05-03 15:45:40,152] Trial 0 finished with value: -0.004594551395352957 and parameters: {'n_estimators': 437, 'max_depth': 48, 'min_samples_split': 24, 'min_samples_leaf': 20, 'poly_degree': 1}. Best is trial 0 with value: -0.004594551395352957.\n",
      "[I 2025-05-03 15:45:53,958] Trial 1 finished with value: -0.00445005723682228 and parameters: {'n_estimators': 240, 'max_depth': 12, 'min_samples_split': 28, 'min_samples_leaf': 20, 'poly_degree': 3}. Best is trial 1 with value: -0.00445005723682228.\n",
      "[I 2025-05-03 15:45:55,329] Trial 2 finished with value: -0.004058536747106786 and parameters: {'n_estimators': 118, 'max_depth': 49, 'min_samples_split': 27, 'min_samples_leaf': 7, 'poly_degree': 1}. Best is trial 2 with value: -0.004058536747106786.\n",
      "[I 2025-05-03 15:45:58,873] Trial 3 finished with value: -0.0043284876421504324 and parameters: {'n_estimators': 265, 'max_depth': 22, 'min_samples_split': 18, 'min_samples_leaf': 14, 'poly_degree': 1}. Best is trial 2 with value: -0.004058536747106786.\n",
      "[I 2025-05-03 15:46:10,119] Trial 4 finished with value: -0.004183290625063006 and parameters: {'n_estimators': 651, 'max_depth': 15, 'min_samples_split': 11, 'min_samples_leaf': 12, 'poly_degree': 2}. Best is trial 2 with value: -0.004058536747106786.\n",
      "[I 2025-05-03 15:46:15,351] Trial 5 finished with value: -0.004553221088905075 and parameters: {'n_estimators': 807, 'max_depth': 18, 'min_samples_split': 17, 'min_samples_leaf': 19, 'poly_degree': 1}. Best is trial 2 with value: -0.004058536747106786.\n",
      "[I 2025-05-03 15:46:30,234] Trial 6 finished with value: -0.004752593016742568 and parameters: {'n_estimators': 647, 'max_depth': 16, 'min_samples_split': 4, 'min_samples_leaf': 31, 'poly_degree': 3}. Best is trial 2 with value: -0.004058536747106786.\n",
      "[I 2025-05-03 15:46:40,729] Trial 7 finished with value: -0.0045265697890884546 and parameters: {'n_estimators': 828, 'max_depth': 22, 'min_samples_split': 5, 'min_samples_leaf': 22, 'poly_degree': 2}. Best is trial 2 with value: -0.004058536747106786.\n",
      "[I 2025-05-03 15:46:42,273] Trial 8 finished with value: -0.0049650941125509804 and parameters: {'n_estimators': 209, 'max_depth': 30, 'min_samples_split': 3, 'min_samples_leaf': 30, 'poly_degree': 1}. Best is trial 2 with value: -0.004058536747106786.\n",
      "[I 2025-05-03 15:46:47,363] Trial 9 finished with value: -0.004511488831826607 and parameters: {'n_estimators': 696, 'max_depth': 22, 'min_samples_split': 18, 'min_samples_leaf': 18, 'poly_degree': 1}. Best is trial 2 with value: -0.004058536747106786.\n",
      "[I 2025-05-03 15:46:58,580] Trial 10 finished with value: -0.004743798419693218 and parameters: {'n_estimators': 973, 'max_depth': 41, 'min_samples_split': 31, 'min_samples_leaf': 29, 'poly_degree': 2}. Best is trial 2 with value: -0.004058536747106786.\n",
      "[I 2025-05-03 15:47:08,036] Trial 11 finished with value: -0.0036241239095552704 and parameters: {'n_estimators': 930, 'max_depth': 13, 'min_samples_split': 8, 'min_samples_leaf': 2, 'poly_degree': 1}. Best is trial 11 with value: -0.0036241239095552704.\n",
      "[I 2025-05-03 15:47:11,668] Trial 12 finished with value: -0.00423796605303529 and parameters: {'n_estimators': 450, 'max_depth': 21, 'min_samples_split': 27, 'min_samples_leaf': 12, 'poly_degree': 1}. Best is trial 11 with value: -0.0036241239095552704.\n",
      "[I 2025-05-03 15:47:33,110] Trial 13 finished with value: -0.0038484038244531297 and parameters: {'n_estimators': 588, 'max_depth': 15, 'min_samples_split': 26, 'min_samples_leaf': 3, 'poly_degree': 3}. Best is trial 11 with value: -0.0036241239095552704.\n",
      "[I 2025-05-03 15:48:27,036] Trial 14 finished with value: -0.004657842470939627 and parameters: {'n_estimators': 795, 'max_depth': 18, 'min_samples_split': 2, 'min_samples_leaf': 27, 'poly_degree': 3}. Best is trial 11 with value: -0.0036241239095552704.\n",
      "[I 2025-05-03 15:48:32,951] Trial 15 finished with value: -0.004210746383528692 and parameters: {'n_estimators': 756, 'max_depth': 41, 'min_samples_split': 4, 'min_samples_leaf': 12, 'poly_degree': 1}. Best is trial 11 with value: -0.0036241239095552704.\n",
      "[I 2025-05-03 15:48:42,401] Trial 16 finished with value: -0.003699951970753031 and parameters: {'n_estimators': 877, 'max_depth': 35, 'min_samples_split': 12, 'min_samples_leaf': 3, 'poly_degree': 1}. Best is trial 11 with value: -0.0036241239095552704.\n",
      "[I 2025-05-03 15:48:47,303] Trial 17 finished with value: -0.004750202721177706 and parameters: {'n_estimators': 392, 'max_depth': 39, 'min_samples_split': 21, 'min_samples_leaf': 29, 'poly_degree': 2}. Best is trial 11 with value: -0.0036241239095552704.\n",
      "[I 2025-05-03 15:48:53,467] Trial 18 finished with value: -0.004397882523599809 and parameters: {'n_estimators': 207, 'max_depth': 39, 'min_samples_split': 25, 'min_samples_leaf': 18, 'poly_degree': 3}. Best is trial 11 with value: -0.0036241239095552704.\n",
      "[I 2025-05-03 15:48:59,065] Trial 19 finished with value: -0.003646923723671687 and parameters: {'n_estimators': 544, 'max_depth': 31, 'min_samples_split': 15, 'min_samples_leaf': 1, 'poly_degree': 1}. Best is trial 11 with value: -0.0036241239095552704.\n",
      "[I 2025-05-03 15:49:03,777] Trial 20 finished with value: -0.004364823260928246 and parameters: {'n_estimators': 128, 'max_depth': 36, 'min_samples_split': 11, 'min_samples_leaf': 17, 'poly_degree': 3}. Best is trial 11 with value: -0.0036241239095552704.\n",
      "[I 2025-05-03 15:49:07,230] Trial 21 finished with value: -0.004047212675755267 and parameters: {'n_estimators': 324, 'max_depth': 26, 'min_samples_split': 25, 'min_samples_leaf': 8, 'poly_degree': 1}. Best is trial 11 with value: -0.0036241239095552704.\n",
      "[I 2025-05-03 15:49:12,603] Trial 22 finished with value: -0.004665998136968649 and parameters: {'n_estimators': 361, 'max_depth': 16, 'min_samples_split': 30, 'min_samples_leaf': 26, 'poly_degree': 2}. Best is trial 11 with value: -0.0036241239095552704.\n",
      "[I 2025-05-03 15:49:23,593] Trial 23 finished with value: -0.0047440848008879705 and parameters: {'n_estimators': 885, 'max_depth': 42, 'min_samples_split': 7, 'min_samples_leaf': 29, 'poly_degree': 2}. Best is trial 11 with value: -0.0036241239095552704.\n",
      "[I 2025-05-03 15:49:31,071] Trial 24 finished with value: -0.0037420685408213203 and parameters: {'n_estimators': 827, 'max_depth': 46, 'min_samples_split': 11, 'min_samples_leaf': 4, 'poly_degree': 1}. Best is trial 11 with value: -0.0036241239095552704.\n",
      "[I 2025-05-03 15:49:39,813] Trial 25 finished with value: -0.003787512639792699 and parameters: {'n_estimators': 484, 'max_depth': 43, 'min_samples_split': 28, 'min_samples_leaf': 1, 'poly_degree': 2}. Best is trial 11 with value: -0.0036241239095552704.\n",
      "[I 2025-05-03 15:49:50,858] Trial 26 finished with value: -0.004118510967973881 and parameters: {'n_estimators': 476, 'max_depth': 19, 'min_samples_split': 5, 'min_samples_leaf': 11, 'poly_degree': 3}. Best is trial 11 with value: -0.0036241239095552704.\n",
      "[I 2025-05-03 15:49:58,594] Trial 27 finished with value: -0.004160503256980205 and parameters: {'n_estimators': 391, 'max_depth': 31, 'min_samples_split': 23, 'min_samples_leaf': 12, 'poly_degree': 3}. Best is trial 11 with value: -0.0036241239095552704.\n",
      "[I 2025-05-03 15:50:02,531] Trial 28 finished with value: -0.004103566314335629 and parameters: {'n_estimators': 967, 'max_depth': 20, 'min_samples_split': 17, 'min_samples_leaf': 10, 'poly_degree': 1}. Best is trial 11 with value: -0.0036241239095552704.\n",
      "[I 2025-05-03 15:50:03,215] Trial 29 finished with value: -0.003718858295860096 and parameters: {'n_estimators': 133, 'max_depth': 34, 'min_samples_split': 17, 'min_samples_leaf': 2, 'poly_degree': 1}. Best is trial 11 with value: -0.0036241239095552704.\n",
      "[I 2025-05-03 15:50:17,563] Trial 30 finished with value: -0.004308673297306304 and parameters: {'n_estimators': 918, 'max_depth': 19, 'min_samples_split': 6, 'min_samples_leaf': 16, 'poly_degree': 3}. Best is trial 11 with value: -0.0036241239095552704.\n",
      "[I 2025-05-03 15:50:23,379] Trial 31 finished with value: -0.004040042246262891 and parameters: {'n_estimators': 318, 'max_depth': 37, 'min_samples_split': 25, 'min_samples_leaf': 8, 'poly_degree': 3}. Best is trial 11 with value: -0.0036241239095552704.\n",
      "[I 2025-05-03 15:50:25,116] Trial 32 finished with value: -0.0045201174042033086 and parameters: {'n_estimators': 431, 'max_depth': 35, 'min_samples_split': 21, 'min_samples_leaf': 18, 'poly_degree': 1}. Best is trial 11 with value: -0.0036241239095552704.\n",
      "[I 2025-05-03 15:50:35,713] Trial 33 finished with value: -0.0037008362865401296 and parameters: {'n_estimators': 852, 'max_depth': 23, 'min_samples_split': 7, 'min_samples_leaf': 2, 'poly_degree': 2}. Best is trial 11 with value: -0.0036241239095552704.\n",
      "[I 2025-05-03 15:50:42,363] Trial 34 finished with value: -0.0040183997603309585 and parameters: {'n_estimators': 710, 'max_depth': 10, 'min_samples_split': 17, 'min_samples_leaf': 8, 'poly_degree': 2}. Best is trial 11 with value: -0.0036241239095552704.\n",
      "[I 2025-05-03 15:50:43,298] Trial 35 finished with value: -0.004956182464025692 and parameters: {'n_estimators': 257, 'max_depth': 38, 'min_samples_split': 13, 'min_samples_leaf': 30, 'poly_degree': 1}. Best is trial 11 with value: -0.0036241239095552704.\n",
      "[I 2025-05-03 15:50:44,572] Trial 36 finished with value: -0.004943134212086205 and parameters: {'n_estimators': 407, 'max_depth': 14, 'min_samples_split': 30, 'min_samples_leaf': 29, 'poly_degree': 1}. Best is trial 11 with value: -0.0036241239095552704.\n",
      "[I 2025-05-03 15:50:47,593] Trial 37 finished with value: -0.004468129233600823 and parameters: {'n_estimators': 694, 'max_depth': 43, 'min_samples_split': 19, 'min_samples_leaf': 17, 'poly_degree': 1}. Best is trial 11 with value: -0.0036241239095552704.\n",
      "[I 2025-05-03 15:50:48,980] Trial 38 finished with value: -0.004513800793204421 and parameters: {'n_estimators': 183, 'max_depth': 46, 'min_samples_split': 29, 'min_samples_leaf': 21, 'poly_degree': 2}. Best is trial 11 with value: -0.0036241239095552704.\n",
      "[I 2025-05-03 15:50:54,830] Trial 39 finished with value: -0.004711295213480037 and parameters: {'n_estimators': 414, 'max_depth': 39, 'min_samples_split': 29, 'min_samples_leaf': 29, 'poly_degree': 3}. Best is trial 11 with value: -0.0036241239095552704.\n",
      "[I 2025-05-03 15:50:59,398] Trial 40 finished with value: -0.004741287526160515 and parameters: {'n_estimators': 678, 'max_depth': 13, 'min_samples_split': 7, 'min_samples_leaf': 29, 'poly_degree': 2}. Best is trial 11 with value: -0.0036241239095552704.\n",
      "[I 2025-05-03 15:51:00,162] Trial 41 finished with value: -0.003765482425461649 and parameters: {'n_estimators': 108, 'max_depth': 14, 'min_samples_split': 22, 'min_samples_leaf': 1, 'poly_degree': 1}. Best is trial 11 with value: -0.0036241239095552704.\n",
      "[I 2025-05-03 15:51:11,944] Trial 42 finished with value: -0.0040104842807829385 and parameters: {'n_estimators': 594, 'max_depth': 38, 'min_samples_split': 22, 'min_samples_leaf': 8, 'poly_degree': 3}. Best is trial 11 with value: -0.0036241239095552704.\n",
      "[I 2025-05-03 15:51:17,145] Trial 43 finished with value: -0.004483430380542613 and parameters: {'n_estimators': 313, 'max_depth': 23, 'min_samples_split': 25, 'min_samples_leaf': 21, 'poly_degree': 3}. Best is trial 11 with value: -0.0036241239095552704.\n",
      "[I 2025-05-03 15:51:19,965] Trial 44 finished with value: -0.004212100292250278 and parameters: {'n_estimators': 692, 'max_depth': 33, 'min_samples_split': 4, 'min_samples_leaf': 12, 'poly_degree': 1}. Best is trial 11 with value: -0.0036241239095552704.\n",
      "[I 2025-05-03 15:51:22,170] Trial 45 finished with value: -0.004757097775829026 and parameters: {'n_estimators': 319, 'max_depth': 49, 'min_samples_split': 14, 'min_samples_leaf': 29, 'poly_degree': 2}. Best is trial 11 with value: -0.0036241239095552704.\n",
      "[I 2025-05-03 15:51:25,463] Trial 46 finished with value: -0.004424183195551325 and parameters: {'n_estimators': 816, 'max_depth': 30, 'min_samples_split': 19, 'min_samples_leaf': 16, 'poly_degree': 1}. Best is trial 11 with value: -0.0036241239095552704.\n",
      "[I 2025-05-03 15:51:28,132] Trial 47 finished with value: -0.004625494691963314 and parameters: {'n_estimators': 750, 'max_depth': 21, 'min_samples_split': 2, 'min_samples_leaf': 21, 'poly_degree': 1}. Best is trial 11 with value: -0.0036241239095552704.\n",
      "[I 2025-05-03 15:51:31,912] Trial 48 finished with value: -0.004262157234587121 and parameters: {'n_estimators': 947, 'max_depth': 49, 'min_samples_split': 30, 'min_samples_leaf': 12, 'poly_degree': 1}. Best is trial 11 with value: -0.0036241239095552704.\n",
      "[I 2025-05-03 15:51:44,963] Trial 49 finished with value: -0.004757518699032693 and parameters: {'n_estimators': 936, 'max_depth': 27, 'min_samples_split': 31, 'min_samples_leaf': 31, 'poly_degree': 3}. Best is trial 11 with value: -0.0036241239095552704.\n",
      "[I 2025-05-03 15:51:46,481] Trial 50 finished with value: -0.00420719590181459 and parameters: {'n_estimators': 365, 'max_depth': 25, 'min_samples_split': 28, 'min_samples_leaf': 11, 'poly_degree': 1}. Best is trial 11 with value: -0.0036241239095552704.\n",
      "[I 2025-05-03 15:51:48,957] Trial 51 finished with value: -0.004551262325236609 and parameters: {'n_estimators': 601, 'max_depth': 48, 'min_samples_split': 23, 'min_samples_leaf': 19, 'poly_degree': 1}. Best is trial 11 with value: -0.0036241239095552704.\n",
      "[I 2025-05-03 15:51:59,773] Trial 52 finished with value: -0.004340342726652274 and parameters: {'n_estimators': 654, 'max_depth': 50, 'min_samples_split': 6, 'min_samples_leaf': 17, 'poly_degree': 3}. Best is trial 11 with value: -0.0036241239095552704.\n",
      "[I 2025-05-03 15:52:02,896] Trial 53 finished with value: -0.004210813379472086 and parameters: {'n_estimators': 767, 'max_depth': 38, 'min_samples_split': 23, 'min_samples_leaf': 12, 'poly_degree': 1}. Best is trial 11 with value: -0.0036241239095552704.\n",
      "[I 2025-05-03 15:52:08,715] Trial 54 finished with value: -0.0047646857387594 and parameters: {'n_estimators': 829, 'max_depth': 43, 'min_samples_split': 28, 'min_samples_leaf': 30, 'poly_degree': 2}. Best is trial 11 with value: -0.0036241239095552704.\n",
      "[I 2025-05-03 15:52:17,179] Trial 55 finished with value: -0.0045288470738796965 and parameters: {'n_estimators': 551, 'max_depth': 42, 'min_samples_split': 22, 'min_samples_leaf': 23, 'poly_degree': 3}. Best is trial 11 with value: -0.0036241239095552704.\n",
      "[I 2025-05-03 15:52:27,227] Trial 56 finished with value: -0.003830272958938894 and parameters: {'n_estimators': 901, 'max_depth': 23, 'min_samples_split': 13, 'min_samples_leaf': 4, 'poly_degree': 2}. Best is trial 11 with value: -0.0036241239095552704.\n",
      "[I 2025-05-03 15:52:28,449] Trial 57 finished with value: -0.004116116846955406 and parameters: {'n_estimators': 132, 'max_depth': 29, 'min_samples_split': 18, 'min_samples_leaf': 10, 'poly_degree': 2}. Best is trial 11 with value: -0.0036241239095552704.\n",
      "[I 2025-05-03 15:52:29,054] Trial 58 finished with value: -0.004249866429755013 and parameters: {'n_estimators': 127, 'max_depth': 11, 'min_samples_split': 27, 'min_samples_leaf': 12, 'poly_degree': 1}. Best is trial 11 with value: -0.0036241239095552704.\n",
      "[I 2025-05-03 15:52:31,539] Trial 59 finished with value: -0.004587395891737641 and parameters: {'n_estimators': 570, 'max_depth': 41, 'min_samples_split': 8, 'min_samples_leaf': 20, 'poly_degree': 1}. Best is trial 11 with value: -0.0036241239095552704.\n",
      "[I 2025-05-03 15:52:33,972] Trial 60 finished with value: -0.0045081954299406694 and parameters: {'n_estimators': 146, 'max_depth': 31, 'min_samples_split': 18, 'min_samples_leaf': 21, 'poly_degree': 3}. Best is trial 11 with value: -0.0036241239095552704.\n",
      "[I 2025-05-03 15:52:37,362] Trial 61 finished with value: -0.004841108466619399 and parameters: {'n_estimators': 979, 'max_depth': 31, 'min_samples_split': 12, 'min_samples_leaf': 26, 'poly_degree': 1}. Best is trial 11 with value: -0.0036241239095552704.\n",
      "[I 2025-05-03 15:52:44,660] Trial 62 finished with value: -0.004755588076602587 and parameters: {'n_estimators': 495, 'max_depth': 13, 'min_samples_split': 2, 'min_samples_leaf': 31, 'poly_degree': 3}. Best is trial 11 with value: -0.0036241239095552704.\n",
      "[I 2025-05-03 15:52:48,460] Trial 63 finished with value: -0.0038401537111226666 and parameters: {'n_estimators': 727, 'max_depth': 26, 'min_samples_split': 7, 'min_samples_leaf': 6, 'poly_degree': 1}. Best is trial 11 with value: -0.0036241239095552704.\n",
      "[I 2025-05-03 15:53:00,372] Trial 64 finished with value: -0.004043996417206556 and parameters: {'n_estimators': 594, 'max_depth': 39, 'min_samples_split': 22, 'min_samples_leaf': 9, 'poly_degree': 3}. Best is trial 11 with value: -0.0036241239095552704.\n",
      "[I 2025-05-03 15:53:03,442] Trial 65 finished with value: -0.004317885235430334 and parameters: {'n_estimators': 764, 'max_depth': 32, 'min_samples_split': 20, 'min_samples_leaf': 14, 'poly_degree': 1}. Best is trial 11 with value: -0.0036241239095552704.\n",
      "[I 2025-05-03 15:53:05,798] Trial 66 finished with value: -0.0037250783401068356 and parameters: {'n_estimators': 420, 'max_depth': 41, 'min_samples_split': 2, 'min_samples_leaf': 4, 'poly_degree': 1}. Best is trial 11 with value: -0.0036241239095552704.\n",
      "[I 2025-05-03 15:53:06,334] Trial 67 finished with value: -0.004454595458699508 and parameters: {'n_estimators': 136, 'max_depth': 45, 'min_samples_split': 23, 'min_samples_leaf': 16, 'poly_degree': 1}. Best is trial 11 with value: -0.0036241239095552704.\n",
      "[I 2025-05-03 15:53:11,265] Trial 68 finished with value: -0.004266073711332451 and parameters: {'n_estimators': 542, 'max_depth': 29, 'min_samples_split': 7, 'min_samples_leaf': 14, 'poly_degree': 2}. Best is trial 11 with value: -0.0036241239095552704.\n",
      "[I 2025-05-03 15:53:17,414] Trial 69 finished with value: -0.004183254616338565 and parameters: {'n_estimators': 654, 'max_depth': 36, 'min_samples_split': 3, 'min_samples_leaf': 12, 'poly_degree': 2}. Best is trial 11 with value: -0.0036241239095552704.\n",
      "[I 2025-05-03 15:53:19,986] Trial 70 finished with value: -0.003922438576230307 and parameters: {'n_estimators': 553, 'max_depth': 45, 'min_samples_split': 22, 'min_samples_leaf': 6, 'poly_degree': 1}. Best is trial 11 with value: -0.0036241239095552704.\n",
      "[I 2025-05-03 15:53:24,934] Trial 71 finished with value: -0.004782811465159837 and parameters: {'n_estimators': 678, 'max_depth': 11, 'min_samples_split': 20, 'min_samples_leaf': 31, 'poly_degree': 2}. Best is trial 11 with value: -0.0036241239095552704.\n",
      "[I 2025-05-03 15:53:32,586] Trial 72 finished with value: -0.004380229441445352 and parameters: {'n_estimators': 449, 'max_depth': 36, 'min_samples_split': 16, 'min_samples_leaf': 18, 'poly_degree': 3}. Best is trial 11 with value: -0.0036241239095552704.\n",
      "[I 2025-05-03 15:53:34,518] Trial 73 finished with value: -0.004058892650601959 and parameters: {'n_estimators': 447, 'max_depth': 49, 'min_samples_split': 30, 'min_samples_leaf': 7, 'poly_degree': 1}. Best is trial 11 with value: -0.0036241239095552704.\n",
      "[I 2025-05-03 15:53:35,305] Trial 74 finished with value: -0.00468517819004035 and parameters: {'n_estimators': 190, 'max_depth': 10, 'min_samples_split': 4, 'min_samples_leaf': 22, 'poly_degree': 1}. Best is trial 11 with value: -0.0036241239095552704.\n",
      "[I 2025-05-03 15:53:36,647] Trial 75 finished with value: -0.0048842350952154855 and parameters: {'n_estimators': 387, 'max_depth': 44, 'min_samples_split': 2, 'min_samples_leaf': 27, 'poly_degree': 1}. Best is trial 11 with value: -0.0036241239095552704.\n",
      "[I 2025-05-03 15:53:40,067] Trial 76 finished with value: -0.004706122447285589 and parameters: {'n_estimators': 206, 'max_depth': 38, 'min_samples_split': 21, 'min_samples_leaf': 29, 'poly_degree': 3}. Best is trial 11 with value: -0.0036241239095552704.\n",
      "[I 2025-05-03 15:53:52,776] Trial 77 finished with value: -0.004596677083544417 and parameters: {'n_estimators': 823, 'max_depth': 21, 'min_samples_split': 7, 'min_samples_leaf': 25, 'poly_degree': 3}. Best is trial 11 with value: -0.0036241239095552704.\n",
      "[I 2025-05-03 15:54:00,149] Trial 78 finished with value: -0.004627541180710036 and parameters: {'n_estimators': 992, 'max_depth': 26, 'min_samples_split': 13, 'min_samples_leaf': 25, 'poly_degree': 2}. Best is trial 11 with value: -0.0036241239095552704.\n",
      "[I 2025-05-03 15:54:14,478] Trial 79 finished with value: -0.004595349425142788 and parameters: {'n_estimators': 938, 'max_depth': 45, 'min_samples_split': 15, 'min_samples_leaf': 25, 'poly_degree': 3}. Best is trial 11 with value: -0.0036241239095552704.\n",
      "[I 2025-05-03 15:54:15,168] Trial 80 finished with value: -0.004887809209595641 and parameters: {'n_estimators': 192, 'max_depth': 47, 'min_samples_split': 17, 'min_samples_leaf': 27, 'poly_degree': 1}. Best is trial 11 with value: -0.0036241239095552704.\n",
      "[I 2025-05-03 15:54:18,458] Trial 81 finished with value: -0.004935128434555965 and parameters: {'n_estimators': 906, 'max_depth': 25, 'min_samples_split': 2, 'min_samples_leaf': 29, 'poly_degree': 1}. Best is trial 11 with value: -0.0036241239095552704.\n",
      "[I 2025-05-03 15:54:21,671] Trial 82 finished with value: -0.004433454717831723 and parameters: {'n_estimators': 387, 'max_depth': 48, 'min_samples_split': 31, 'min_samples_leaf': 19, 'poly_degree': 2}. Best is trial 11 with value: -0.0036241239095552704.\n",
      "[I 2025-05-03 15:54:29,938] Trial 83 finished with value: -0.004497100486271335 and parameters: {'n_estimators': 504, 'max_depth': 22, 'min_samples_split': 12, 'min_samples_leaf': 22, 'poly_degree': 3}. Best is trial 11 with value: -0.0036241239095552704.\n",
      "[I 2025-05-03 15:54:33,187] Trial 84 finished with value: -0.0044242221433768245 and parameters: {'n_estimators': 813, 'max_depth': 42, 'min_samples_split': 4, 'min_samples_leaf': 16, 'poly_degree': 1}. Best is trial 11 with value: -0.0036241239095552704.\n",
      "[I 2025-05-03 15:54:35,994] Trial 85 finished with value: -0.004245157701759228 and parameters: {'n_estimators': 595, 'max_depth': 28, 'min_samples_split': 29, 'min_samples_leaf': 12, 'poly_degree': 1}. Best is trial 11 with value: -0.0036241239095552704.\n",
      "[I 2025-05-03 15:54:37,237] Trial 86 finished with value: -0.003831309739622633 and parameters: {'n_estimators': 228, 'max_depth': 41, 'min_samples_split': 21, 'min_samples_leaf': 4, 'poly_degree': 1}. Best is trial 11 with value: -0.0036241239095552704.\n",
      "[I 2025-05-03 15:54:40,158] Trial 87 finished with value: -0.004702957968129791 and parameters: {'n_estimators': 731, 'max_depth': 12, 'min_samples_split': 27, 'min_samples_leaf': 23, 'poly_degree': 1}. Best is trial 11 with value: -0.0036241239095552704.\n",
      "[I 2025-05-03 15:54:43,794] Trial 88 finished with value: -0.0041752864103017946 and parameters: {'n_estimators': 176, 'max_depth': 50, 'min_samples_split': 13, 'min_samples_leaf': 12, 'poly_degree': 3}. Best is trial 11 with value: -0.0036241239095552704.\n",
      "[I 2025-05-03 15:54:47,787] Trial 89 finished with value: -0.004272002340328744 and parameters: {'n_estimators': 953, 'max_depth': 50, 'min_samples_split': 25, 'min_samples_leaf': 13, 'poly_degree': 1}. Best is trial 11 with value: -0.0036241239095552704.\n",
      "[I 2025-05-03 15:54:50,840] Trial 90 finished with value: -0.004956706003010737 and parameters: {'n_estimators': 800, 'max_depth': 32, 'min_samples_split': 15, 'min_samples_leaf': 30, 'poly_degree': 1}. Best is trial 11 with value: -0.0036241239095552704.\n",
      "[I 2025-05-03 15:54:53,690] Trial 91 finished with value: -0.0037147621042621015 and parameters: {'n_estimators': 543, 'max_depth': 10, 'min_samples_split': 16, 'min_samples_leaf': 2, 'poly_degree': 1}. Best is trial 11 with value: -0.0036241239095552704.\n",
      "[I 2025-05-03 15:54:57,265] Trial 92 finished with value: -0.004430616268072231 and parameters: {'n_estimators': 205, 'max_depth': 36, 'min_samples_split': 25, 'min_samples_leaf': 19, 'poly_degree': 3}. Best is trial 11 with value: -0.0036241239095552704.\n",
      "[I 2025-05-03 15:55:06,310] Trial 93 finished with value: -0.004053993218316742 and parameters: {'n_estimators': 437, 'max_depth': 21, 'min_samples_split': 28, 'min_samples_leaf': 8, 'poly_degree': 3}. Best is trial 11 with value: -0.0036241239095552704.\n",
      "[I 2025-05-03 15:55:07,201] Trial 94 finished with value: -0.0047671914783097066 and parameters: {'n_estimators': 110, 'max_depth': 49, 'min_samples_split': 3, 'min_samples_leaf': 29, 'poly_degree': 2}. Best is trial 11 with value: -0.0036241239095552704.\n",
      "[I 2025-05-03 15:55:14,046] Trial 95 finished with value: -0.004807828271028024 and parameters: {'n_estimators': 994, 'max_depth': 13, 'min_samples_split': 19, 'min_samples_leaf': 32, 'poly_degree': 2}. Best is trial 11 with value: -0.0036241239095552704.\n",
      "[I 2025-05-03 15:55:19,523] Trial 96 finished with value: -0.00449171956294802 and parameters: {'n_estimators': 667, 'max_depth': 38, 'min_samples_split': 16, 'min_samples_leaf': 21, 'poly_degree': 2}. Best is trial 11 with value: -0.0036241239095552704.\n",
      "[I 2025-05-03 15:55:32,870] Trial 97 finished with value: -0.004756297718842272 and parameters: {'n_estimators': 911, 'max_depth': 11, 'min_samples_split': 10, 'min_samples_leaf': 31, 'poly_degree': 3}. Best is trial 11 with value: -0.0036241239095552704.\n",
      "[I 2025-05-03 15:55:38,668] Trial 98 finished with value: -0.003974205196842473 and parameters: {'n_estimators': 510, 'max_depth': 35, 'min_samples_split': 10, 'min_samples_leaf': 7, 'poly_degree': 2}. Best is trial 11 with value: -0.0036241239095552704.\n",
      "[I 2025-05-03 15:55:44,926] Trial 99 finished with value: -0.004786838826508726 and parameters: {'n_estimators': 418, 'max_depth': 33, 'min_samples_split': 4, 'min_samples_leaf': 32, 'poly_degree': 3}. Best is trial 11 with value: -0.0036241239095552704.\n"
     ]
    }
   ],
   "source": [
    "study.optimize(objective, n_trials=100)"
   ]
  },
  {
   "cell_type": "code",
   "execution_count": 104,
   "metadata": {},
   "outputs": [
    {
     "data": {
      "application/vnd.plotly.v1+json": {
       "config": {
        "plotlyServerURL": "https://plot.ly"
       },
       "data": [
        {
         "mode": "markers",
         "name": "Objective Value",
         "type": "scatter",
         "x": [
          0,
          1,
          2,
          3,
          4,
          5,
          6,
          7,
          8,
          9,
          10,
          11,
          12,
          13,
          14,
          15,
          16,
          17,
          18,
          19,
          20,
          21,
          22,
          23,
          24,
          25,
          26,
          27,
          28,
          29,
          30,
          31,
          32,
          33,
          34,
          35,
          36,
          37,
          38,
          39,
          40,
          41,
          42,
          43,
          44,
          45,
          46,
          47,
          48,
          49,
          50,
          51,
          52,
          53,
          54,
          55,
          56,
          57,
          58,
          59,
          60,
          61,
          62,
          63,
          64,
          65,
          66,
          67,
          68,
          69,
          70,
          71,
          72,
          73,
          74,
          75,
          76,
          77,
          78,
          79,
          80,
          81,
          82,
          83,
          84,
          85,
          86,
          87,
          88,
          89,
          90,
          91,
          92,
          93,
          94,
          95,
          96,
          97,
          98,
          99
         ],
         "y": [
          -0.004594551395352957,
          -0.00445005723682228,
          -0.004058536747106786,
          -0.0043284876421504324,
          -0.004183290625063006,
          -0.004553221088905075,
          -0.004752593016742568,
          -0.0045265697890884546,
          -0.0049650941125509804,
          -0.004511488831826607,
          -0.004743798419693218,
          -0.0036241239095552704,
          -0.00423796605303529,
          -0.0038484038244531297,
          -0.004657842470939627,
          -0.004210746383528692,
          -0.003699951970753031,
          -0.004750202721177706,
          -0.004397882523599809,
          -0.003646923723671687,
          -0.004364823260928246,
          -0.004047212675755267,
          -0.004665998136968649,
          -0.0047440848008879705,
          -0.0037420685408213203,
          -0.003787512639792699,
          -0.004118510967973881,
          -0.004160503256980205,
          -0.004103566314335629,
          -0.003718858295860096,
          -0.004308673297306304,
          -0.004040042246262891,
          -0.0045201174042033086,
          -0.0037008362865401296,
          -0.0040183997603309585,
          -0.004956182464025692,
          -0.004943134212086205,
          -0.004468129233600823,
          -0.004513800793204421,
          -0.004711295213480037,
          -0.004741287526160515,
          -0.003765482425461649,
          -0.0040104842807829385,
          -0.004483430380542613,
          -0.004212100292250278,
          -0.004757097775829026,
          -0.004424183195551325,
          -0.004625494691963314,
          -0.004262157234587121,
          -0.004757518699032693,
          -0.00420719590181459,
          -0.004551262325236609,
          -0.004340342726652274,
          -0.004210813379472086,
          -0.0047646857387594,
          -0.0045288470738796965,
          -0.003830272958938894,
          -0.004116116846955406,
          -0.004249866429755013,
          -0.004587395891737641,
          -0.0045081954299406694,
          -0.004841108466619399,
          -0.004755588076602587,
          -0.0038401537111226666,
          -0.004043996417206556,
          -0.004317885235430334,
          -0.0037250783401068356,
          -0.004454595458699508,
          -0.004266073711332451,
          -0.004183254616338565,
          -0.003922438576230307,
          -0.004782811465159837,
          -0.004380229441445352,
          -0.004058892650601959,
          -0.00468517819004035,
          -0.0048842350952154855,
          -0.004706122447285589,
          -0.004596677083544417,
          -0.004627541180710036,
          -0.004595349425142788,
          -0.004887809209595641,
          -0.004935128434555965,
          -0.004433454717831723,
          -0.004497100486271335,
          -0.0044242221433768245,
          -0.004245157701759228,
          -0.003831309739622633,
          -0.004702957968129791,
          -0.0041752864103017946,
          -0.004272002340328744,
          -0.004956706003010737,
          -0.0037147621042621015,
          -0.004430616268072231,
          -0.004053993218316742,
          -0.0047671914783097066,
          -0.004807828271028024,
          -0.00449171956294802,
          -0.004756297718842272,
          -0.003974205196842473,
          -0.004786838826508726
         ]
        },
        {
         "mode": "lines",
         "name": "Best Value",
         "type": "scatter",
         "x": [
          0,
          1,
          2,
          3,
          4,
          5,
          6,
          7,
          8,
          9,
          10,
          11,
          12,
          13,
          14,
          15,
          16,
          17,
          18,
          19,
          20,
          21,
          22,
          23,
          24,
          25,
          26,
          27,
          28,
          29,
          30,
          31,
          32,
          33,
          34,
          35,
          36,
          37,
          38,
          39,
          40,
          41,
          42,
          43,
          44,
          45,
          46,
          47,
          48,
          49,
          50,
          51,
          52,
          53,
          54,
          55,
          56,
          57,
          58,
          59,
          60,
          61,
          62,
          63,
          64,
          65,
          66,
          67,
          68,
          69,
          70,
          71,
          72,
          73,
          74,
          75,
          76,
          77,
          78,
          79,
          80,
          81,
          82,
          83,
          84,
          85,
          86,
          87,
          88,
          89,
          90,
          91,
          92,
          93,
          94,
          95,
          96,
          97,
          98,
          99
         ],
         "y": [
          -0.004594551395352957,
          -0.00445005723682228,
          -0.004058536747106786,
          -0.004058536747106786,
          -0.004058536747106786,
          -0.004058536747106786,
          -0.004058536747106786,
          -0.004058536747106786,
          -0.004058536747106786,
          -0.004058536747106786,
          -0.004058536747106786,
          -0.0036241239095552704,
          -0.0036241239095552704,
          -0.0036241239095552704,
          -0.0036241239095552704,
          -0.0036241239095552704,
          -0.0036241239095552704,
          -0.0036241239095552704,
          -0.0036241239095552704,
          -0.0036241239095552704,
          -0.0036241239095552704,
          -0.0036241239095552704,
          -0.0036241239095552704,
          -0.0036241239095552704,
          -0.0036241239095552704,
          -0.0036241239095552704,
          -0.0036241239095552704,
          -0.0036241239095552704,
          -0.0036241239095552704,
          -0.0036241239095552704,
          -0.0036241239095552704,
          -0.0036241239095552704,
          -0.0036241239095552704,
          -0.0036241239095552704,
          -0.0036241239095552704,
          -0.0036241239095552704,
          -0.0036241239095552704,
          -0.0036241239095552704,
          -0.0036241239095552704,
          -0.0036241239095552704,
          -0.0036241239095552704,
          -0.0036241239095552704,
          -0.0036241239095552704,
          -0.0036241239095552704,
          -0.0036241239095552704,
          -0.0036241239095552704,
          -0.0036241239095552704,
          -0.0036241239095552704,
          -0.0036241239095552704,
          -0.0036241239095552704,
          -0.0036241239095552704,
          -0.0036241239095552704,
          -0.0036241239095552704,
          -0.0036241239095552704,
          -0.0036241239095552704,
          -0.0036241239095552704,
          -0.0036241239095552704,
          -0.0036241239095552704,
          -0.0036241239095552704,
          -0.0036241239095552704,
          -0.0036241239095552704,
          -0.0036241239095552704,
          -0.0036241239095552704,
          -0.0036241239095552704,
          -0.0036241239095552704,
          -0.0036241239095552704,
          -0.0036241239095552704,
          -0.0036241239095552704,
          -0.0036241239095552704,
          -0.0036241239095552704,
          -0.0036241239095552704,
          -0.0036241239095552704,
          -0.0036241239095552704,
          -0.0036241239095552704,
          -0.0036241239095552704,
          -0.0036241239095552704,
          -0.0036241239095552704,
          -0.0036241239095552704,
          -0.0036241239095552704,
          -0.0036241239095552704,
          -0.0036241239095552704,
          -0.0036241239095552704,
          -0.0036241239095552704,
          -0.0036241239095552704,
          -0.0036241239095552704,
          -0.0036241239095552704,
          -0.0036241239095552704,
          -0.0036241239095552704,
          -0.0036241239095552704,
          -0.0036241239095552704,
          -0.0036241239095552704,
          -0.0036241239095552704,
          -0.0036241239095552704,
          -0.0036241239095552704,
          -0.0036241239095552704,
          -0.0036241239095552704,
          -0.0036241239095552704,
          -0.0036241239095552704,
          -0.0036241239095552704,
          -0.0036241239095552704
         ]
        },
        {
         "marker": {
          "color": "#cccccc"
         },
         "mode": "markers",
         "name": "Infeasible Trial",
         "showlegend": false,
         "type": "scatter",
         "x": [],
         "y": []
        }
       ],
       "layout": {
        "template": {
         "data": {
          "bar": [
           {
            "error_x": {
             "color": "#2a3f5f"
            },
            "error_y": {
             "color": "#2a3f5f"
            },
            "marker": {
             "line": {
              "color": "#E5ECF6",
              "width": 0.5
             },
             "pattern": {
              "fillmode": "overlay",
              "size": 10,
              "solidity": 0.2
             }
            },
            "type": "bar"
           }
          ],
          "barpolar": [
           {
            "marker": {
             "line": {
              "color": "#E5ECF6",
              "width": 0.5
             },
             "pattern": {
              "fillmode": "overlay",
              "size": 10,
              "solidity": 0.2
             }
            },
            "type": "barpolar"
           }
          ],
          "carpet": [
           {
            "aaxis": {
             "endlinecolor": "#2a3f5f",
             "gridcolor": "white",
             "linecolor": "white",
             "minorgridcolor": "white",
             "startlinecolor": "#2a3f5f"
            },
            "baxis": {
             "endlinecolor": "#2a3f5f",
             "gridcolor": "white",
             "linecolor": "white",
             "minorgridcolor": "white",
             "startlinecolor": "#2a3f5f"
            },
            "type": "carpet"
           }
          ],
          "choropleth": [
           {
            "colorbar": {
             "outlinewidth": 0,
             "ticks": ""
            },
            "type": "choropleth"
           }
          ],
          "contour": [
           {
            "colorbar": {
             "outlinewidth": 0,
             "ticks": ""
            },
            "colorscale": [
             [
              0,
              "#0d0887"
             ],
             [
              0.1111111111111111,
              "#46039f"
             ],
             [
              0.2222222222222222,
              "#7201a8"
             ],
             [
              0.3333333333333333,
              "#9c179e"
             ],
             [
              0.4444444444444444,
              "#bd3786"
             ],
             [
              0.5555555555555556,
              "#d8576b"
             ],
             [
              0.6666666666666666,
              "#ed7953"
             ],
             [
              0.7777777777777778,
              "#fb9f3a"
             ],
             [
              0.8888888888888888,
              "#fdca26"
             ],
             [
              1,
              "#f0f921"
             ]
            ],
            "type": "contour"
           }
          ],
          "contourcarpet": [
           {
            "colorbar": {
             "outlinewidth": 0,
             "ticks": ""
            },
            "type": "contourcarpet"
           }
          ],
          "heatmap": [
           {
            "colorbar": {
             "outlinewidth": 0,
             "ticks": ""
            },
            "colorscale": [
             [
              0,
              "#0d0887"
             ],
             [
              0.1111111111111111,
              "#46039f"
             ],
             [
              0.2222222222222222,
              "#7201a8"
             ],
             [
              0.3333333333333333,
              "#9c179e"
             ],
             [
              0.4444444444444444,
              "#bd3786"
             ],
             [
              0.5555555555555556,
              "#d8576b"
             ],
             [
              0.6666666666666666,
              "#ed7953"
             ],
             [
              0.7777777777777778,
              "#fb9f3a"
             ],
             [
              0.8888888888888888,
              "#fdca26"
             ],
             [
              1,
              "#f0f921"
             ]
            ],
            "type": "heatmap"
           }
          ],
          "histogram": [
           {
            "marker": {
             "pattern": {
              "fillmode": "overlay",
              "size": 10,
              "solidity": 0.2
             }
            },
            "type": "histogram"
           }
          ],
          "histogram2d": [
           {
            "colorbar": {
             "outlinewidth": 0,
             "ticks": ""
            },
            "colorscale": [
             [
              0,
              "#0d0887"
             ],
             [
              0.1111111111111111,
              "#46039f"
             ],
             [
              0.2222222222222222,
              "#7201a8"
             ],
             [
              0.3333333333333333,
              "#9c179e"
             ],
             [
              0.4444444444444444,
              "#bd3786"
             ],
             [
              0.5555555555555556,
              "#d8576b"
             ],
             [
              0.6666666666666666,
              "#ed7953"
             ],
             [
              0.7777777777777778,
              "#fb9f3a"
             ],
             [
              0.8888888888888888,
              "#fdca26"
             ],
             [
              1,
              "#f0f921"
             ]
            ],
            "type": "histogram2d"
           }
          ],
          "histogram2dcontour": [
           {
            "colorbar": {
             "outlinewidth": 0,
             "ticks": ""
            },
            "colorscale": [
             [
              0,
              "#0d0887"
             ],
             [
              0.1111111111111111,
              "#46039f"
             ],
             [
              0.2222222222222222,
              "#7201a8"
             ],
             [
              0.3333333333333333,
              "#9c179e"
             ],
             [
              0.4444444444444444,
              "#bd3786"
             ],
             [
              0.5555555555555556,
              "#d8576b"
             ],
             [
              0.6666666666666666,
              "#ed7953"
             ],
             [
              0.7777777777777778,
              "#fb9f3a"
             ],
             [
              0.8888888888888888,
              "#fdca26"
             ],
             [
              1,
              "#f0f921"
             ]
            ],
            "type": "histogram2dcontour"
           }
          ],
          "mesh3d": [
           {
            "colorbar": {
             "outlinewidth": 0,
             "ticks": ""
            },
            "type": "mesh3d"
           }
          ],
          "parcoords": [
           {
            "line": {
             "colorbar": {
              "outlinewidth": 0,
              "ticks": ""
             }
            },
            "type": "parcoords"
           }
          ],
          "pie": [
           {
            "automargin": true,
            "type": "pie"
           }
          ],
          "scatter": [
           {
            "fillpattern": {
             "fillmode": "overlay",
             "size": 10,
             "solidity": 0.2
            },
            "type": "scatter"
           }
          ],
          "scatter3d": [
           {
            "line": {
             "colorbar": {
              "outlinewidth": 0,
              "ticks": ""
             }
            },
            "marker": {
             "colorbar": {
              "outlinewidth": 0,
              "ticks": ""
             }
            },
            "type": "scatter3d"
           }
          ],
          "scattercarpet": [
           {
            "marker": {
             "colorbar": {
              "outlinewidth": 0,
              "ticks": ""
             }
            },
            "type": "scattercarpet"
           }
          ],
          "scattergeo": [
           {
            "marker": {
             "colorbar": {
              "outlinewidth": 0,
              "ticks": ""
             }
            },
            "type": "scattergeo"
           }
          ],
          "scattergl": [
           {
            "marker": {
             "colorbar": {
              "outlinewidth": 0,
              "ticks": ""
             }
            },
            "type": "scattergl"
           }
          ],
          "scattermap": [
           {
            "marker": {
             "colorbar": {
              "outlinewidth": 0,
              "ticks": ""
             }
            },
            "type": "scattermap"
           }
          ],
          "scattermapbox": [
           {
            "marker": {
             "colorbar": {
              "outlinewidth": 0,
              "ticks": ""
             }
            },
            "type": "scattermapbox"
           }
          ],
          "scatterpolar": [
           {
            "marker": {
             "colorbar": {
              "outlinewidth": 0,
              "ticks": ""
             }
            },
            "type": "scatterpolar"
           }
          ],
          "scatterpolargl": [
           {
            "marker": {
             "colorbar": {
              "outlinewidth": 0,
              "ticks": ""
             }
            },
            "type": "scatterpolargl"
           }
          ],
          "scatterternary": [
           {
            "marker": {
             "colorbar": {
              "outlinewidth": 0,
              "ticks": ""
             }
            },
            "type": "scatterternary"
           }
          ],
          "surface": [
           {
            "colorbar": {
             "outlinewidth": 0,
             "ticks": ""
            },
            "colorscale": [
             [
              0,
              "#0d0887"
             ],
             [
              0.1111111111111111,
              "#46039f"
             ],
             [
              0.2222222222222222,
              "#7201a8"
             ],
             [
              0.3333333333333333,
              "#9c179e"
             ],
             [
              0.4444444444444444,
              "#bd3786"
             ],
             [
              0.5555555555555556,
              "#d8576b"
             ],
             [
              0.6666666666666666,
              "#ed7953"
             ],
             [
              0.7777777777777778,
              "#fb9f3a"
             ],
             [
              0.8888888888888888,
              "#fdca26"
             ],
             [
              1,
              "#f0f921"
             ]
            ],
            "type": "surface"
           }
          ],
          "table": [
           {
            "cells": {
             "fill": {
              "color": "#EBF0F8"
             },
             "line": {
              "color": "white"
             }
            },
            "header": {
             "fill": {
              "color": "#C8D4E3"
             },
             "line": {
              "color": "white"
             }
            },
            "type": "table"
           }
          ]
         },
         "layout": {
          "annotationdefaults": {
           "arrowcolor": "#2a3f5f",
           "arrowhead": 0,
           "arrowwidth": 1
          },
          "autotypenumbers": "strict",
          "coloraxis": {
           "colorbar": {
            "outlinewidth": 0,
            "ticks": ""
           }
          },
          "colorscale": {
           "diverging": [
            [
             0,
             "#8e0152"
            ],
            [
             0.1,
             "#c51b7d"
            ],
            [
             0.2,
             "#de77ae"
            ],
            [
             0.3,
             "#f1b6da"
            ],
            [
             0.4,
             "#fde0ef"
            ],
            [
             0.5,
             "#f7f7f7"
            ],
            [
             0.6,
             "#e6f5d0"
            ],
            [
             0.7,
             "#b8e186"
            ],
            [
             0.8,
             "#7fbc41"
            ],
            [
             0.9,
             "#4d9221"
            ],
            [
             1,
             "#276419"
            ]
           ],
           "sequential": [
            [
             0,
             "#0d0887"
            ],
            [
             0.1111111111111111,
             "#46039f"
            ],
            [
             0.2222222222222222,
             "#7201a8"
            ],
            [
             0.3333333333333333,
             "#9c179e"
            ],
            [
             0.4444444444444444,
             "#bd3786"
            ],
            [
             0.5555555555555556,
             "#d8576b"
            ],
            [
             0.6666666666666666,
             "#ed7953"
            ],
            [
             0.7777777777777778,
             "#fb9f3a"
            ],
            [
             0.8888888888888888,
             "#fdca26"
            ],
            [
             1,
             "#f0f921"
            ]
           ],
           "sequentialminus": [
            [
             0,
             "#0d0887"
            ],
            [
             0.1111111111111111,
             "#46039f"
            ],
            [
             0.2222222222222222,
             "#7201a8"
            ],
            [
             0.3333333333333333,
             "#9c179e"
            ],
            [
             0.4444444444444444,
             "#bd3786"
            ],
            [
             0.5555555555555556,
             "#d8576b"
            ],
            [
             0.6666666666666666,
             "#ed7953"
            ],
            [
             0.7777777777777778,
             "#fb9f3a"
            ],
            [
             0.8888888888888888,
             "#fdca26"
            ],
            [
             1,
             "#f0f921"
            ]
           ]
          },
          "colorway": [
           "#636efa",
           "#EF553B",
           "#00cc96",
           "#ab63fa",
           "#FFA15A",
           "#19d3f3",
           "#FF6692",
           "#B6E880",
           "#FF97FF",
           "#FECB52"
          ],
          "font": {
           "color": "#2a3f5f"
          },
          "geo": {
           "bgcolor": "white",
           "lakecolor": "white",
           "landcolor": "#E5ECF6",
           "showlakes": true,
           "showland": true,
           "subunitcolor": "white"
          },
          "hoverlabel": {
           "align": "left"
          },
          "hovermode": "closest",
          "mapbox": {
           "style": "light"
          },
          "paper_bgcolor": "white",
          "plot_bgcolor": "#E5ECF6",
          "polar": {
           "angularaxis": {
            "gridcolor": "white",
            "linecolor": "white",
            "ticks": ""
           },
           "bgcolor": "#E5ECF6",
           "radialaxis": {
            "gridcolor": "white",
            "linecolor": "white",
            "ticks": ""
           }
          },
          "scene": {
           "xaxis": {
            "backgroundcolor": "#E5ECF6",
            "gridcolor": "white",
            "gridwidth": 2,
            "linecolor": "white",
            "showbackground": true,
            "ticks": "",
            "zerolinecolor": "white"
           },
           "yaxis": {
            "backgroundcolor": "#E5ECF6",
            "gridcolor": "white",
            "gridwidth": 2,
            "linecolor": "white",
            "showbackground": true,
            "ticks": "",
            "zerolinecolor": "white"
           },
           "zaxis": {
            "backgroundcolor": "#E5ECF6",
            "gridcolor": "white",
            "gridwidth": 2,
            "linecolor": "white",
            "showbackground": true,
            "ticks": "",
            "zerolinecolor": "white"
           }
          },
          "shapedefaults": {
           "line": {
            "color": "#2a3f5f"
           }
          },
          "ternary": {
           "aaxis": {
            "gridcolor": "white",
            "linecolor": "white",
            "ticks": ""
           },
           "baxis": {
            "gridcolor": "white",
            "linecolor": "white",
            "ticks": ""
           },
           "bgcolor": "#E5ECF6",
           "caxis": {
            "gridcolor": "white",
            "linecolor": "white",
            "ticks": ""
           }
          },
          "title": {
           "x": 0.05
          },
          "xaxis": {
           "automargin": true,
           "gridcolor": "white",
           "linecolor": "white",
           "ticks": "",
           "title": {
            "standoff": 15
           },
           "zerolinecolor": "white",
           "zerolinewidth": 2
          },
          "yaxis": {
           "automargin": true,
           "gridcolor": "white",
           "linecolor": "white",
           "ticks": "",
           "title": {
            "standoff": 15
           },
           "zerolinecolor": "white",
           "zerolinewidth": 2
          }
         }
        },
        "title": {
         "text": "Optimization History Plot"
        },
        "xaxis": {
         "title": {
          "text": "Trial"
         }
        },
        "yaxis": {
         "title": {
          "text": "Objective Value"
         }
        }
       }
      }
     },
     "metadata": {},
     "output_type": "display_data"
    }
   ],
   "source": [
    "optuna.visualization.plot_optimization_history(study)"
   ]
  },
  {
   "cell_type": "code",
   "execution_count": 105,
   "metadata": {},
   "outputs": [
    {
     "name": "stdout",
     "output_type": "stream",
     "text": [
      "Best Hyperparameters: {'n_estimators': 930, 'max_depth': 13, 'min_samples_split': 8, 'min_samples_leaf': 2, 'poly_degree': 1}\n"
     ]
    }
   ],
   "source": [
    "best_params = study.best_params \n",
    "print(f\"Best Hyperparameters: {best_params}\")"
   ]
  },
  {
   "cell_type": "code",
   "execution_count": 106,
   "metadata": {},
   "outputs": [
    {
     "data": {
      "application/vnd.plotly.v1+json": {
       "config": {
        "plotlyServerURL": "https://plot.ly"
       },
       "data": [
        {
         "marker": {
          "color": [
           0,
           1,
           2,
           3,
           4,
           5,
           6,
           7,
           8,
           9,
           10,
           11,
           12,
           13,
           14,
           15,
           16,
           17,
           18,
           19,
           20,
           21,
           22,
           23,
           24,
           25,
           26,
           27,
           28,
           29,
           30,
           31,
           32,
           33,
           34,
           35,
           36,
           37,
           38,
           39,
           40,
           41,
           42,
           43,
           44,
           45,
           46,
           47,
           48,
           49,
           50,
           51,
           52,
           53,
           54,
           55,
           56,
           57,
           58,
           59,
           60,
           61,
           62,
           63,
           64,
           65,
           66,
           67,
           68,
           69,
           70,
           71,
           72,
           73,
           74,
           75,
           76,
           77,
           78,
           79,
           80,
           81,
           82,
           83,
           84,
           85,
           86,
           87,
           88,
           89,
           90,
           91,
           92,
           93,
           94,
           95,
           96,
           97,
           98,
           99
          ],
          "colorbar": {
           "title": {
            "text": "Trial"
           },
           "x": 1,
           "xpad": 40
          },
          "colorscale": [
           [
            0,
            "rgb(247,251,255)"
           ],
           [
            0.125,
            "rgb(222,235,247)"
           ],
           [
            0.25,
            "rgb(198,219,239)"
           ],
           [
            0.375,
            "rgb(158,202,225)"
           ],
           [
            0.5,
            "rgb(107,174,214)"
           ],
           [
            0.625,
            "rgb(66,146,198)"
           ],
           [
            0.75,
            "rgb(33,113,181)"
           ],
           [
            0.875,
            "rgb(8,81,156)"
           ],
           [
            1,
            "rgb(8,48,107)"
           ]
          ],
          "line": {
           "color": "Grey",
           "width": 0.5
          },
          "showscale": true
         },
         "mode": "markers",
         "name": "Feasible Trial",
         "showlegend": false,
         "type": "scatter",
         "x": [
          48,
          12,
          49,
          22,
          15,
          18,
          16,
          22,
          30,
          22,
          41,
          13,
          21,
          15,
          18,
          41,
          35,
          39,
          39,
          31,
          36,
          26,
          16,
          42,
          46,
          43,
          19,
          31,
          20,
          34,
          19,
          37,
          35,
          23,
          10,
          38,
          14,
          43,
          46,
          39,
          13,
          14,
          38,
          23,
          33,
          49,
          30,
          21,
          49,
          27,
          25,
          48,
          50,
          38,
          43,
          42,
          23,
          29,
          11,
          41,
          31,
          31,
          13,
          26,
          39,
          32,
          41,
          45,
          29,
          36,
          45,
          11,
          36,
          49,
          10,
          44,
          38,
          21,
          26,
          45,
          47,
          25,
          48,
          22,
          42,
          28,
          41,
          12,
          50,
          50,
          32,
          10,
          36,
          21,
          49,
          13,
          38,
          11,
          35,
          33
         ],
         "xaxis": "x",
         "y": [
          -0.004594551395352957,
          -0.00445005723682228,
          -0.004058536747106786,
          -0.0043284876421504324,
          -0.004183290625063006,
          -0.004553221088905075,
          -0.004752593016742568,
          -0.0045265697890884546,
          -0.0049650941125509804,
          -0.004511488831826607,
          -0.004743798419693218,
          -0.0036241239095552704,
          -0.00423796605303529,
          -0.0038484038244531297,
          -0.004657842470939627,
          -0.004210746383528692,
          -0.003699951970753031,
          -0.004750202721177706,
          -0.004397882523599809,
          -0.003646923723671687,
          -0.004364823260928246,
          -0.004047212675755267,
          -0.004665998136968649,
          -0.0047440848008879705,
          -0.0037420685408213203,
          -0.003787512639792699,
          -0.004118510967973881,
          -0.004160503256980205,
          -0.004103566314335629,
          -0.003718858295860096,
          -0.004308673297306304,
          -0.004040042246262891,
          -0.0045201174042033086,
          -0.0037008362865401296,
          -0.0040183997603309585,
          -0.004956182464025692,
          -0.004943134212086205,
          -0.004468129233600823,
          -0.004513800793204421,
          -0.004711295213480037,
          -0.004741287526160515,
          -0.003765482425461649,
          -0.0040104842807829385,
          -0.004483430380542613,
          -0.004212100292250278,
          -0.004757097775829026,
          -0.004424183195551325,
          -0.004625494691963314,
          -0.004262157234587121,
          -0.004757518699032693,
          -0.00420719590181459,
          -0.004551262325236609,
          -0.004340342726652274,
          -0.004210813379472086,
          -0.0047646857387594,
          -0.0045288470738796965,
          -0.003830272958938894,
          -0.004116116846955406,
          -0.004249866429755013,
          -0.004587395891737641,
          -0.0045081954299406694,
          -0.004841108466619399,
          -0.004755588076602587,
          -0.0038401537111226666,
          -0.004043996417206556,
          -0.004317885235430334,
          -0.0037250783401068356,
          -0.004454595458699508,
          -0.004266073711332451,
          -0.004183254616338565,
          -0.003922438576230307,
          -0.004782811465159837,
          -0.004380229441445352,
          -0.004058892650601959,
          -0.00468517819004035,
          -0.0048842350952154855,
          -0.004706122447285589,
          -0.004596677083544417,
          -0.004627541180710036,
          -0.004595349425142788,
          -0.004887809209595641,
          -0.004935128434555965,
          -0.004433454717831723,
          -0.004497100486271335,
          -0.0044242221433768245,
          -0.004245157701759228,
          -0.003831309739622633,
          -0.004702957968129791,
          -0.0041752864103017946,
          -0.004272002340328744,
          -0.004956706003010737,
          -0.0037147621042621015,
          -0.004430616268072231,
          -0.004053993218316742,
          -0.0047671914783097066,
          -0.004807828271028024,
          -0.00449171956294802,
          -0.004756297718842272,
          -0.003974205196842473,
          -0.004786838826508726
         ],
         "yaxis": "y"
        },
        {
         "marker": {
          "color": [
           0,
           1,
           2,
           3,
           4,
           5,
           6,
           7,
           8,
           9,
           10,
           11,
           12,
           13,
           14,
           15,
           16,
           17,
           18,
           19,
           20,
           21,
           22,
           23,
           24,
           25,
           26,
           27,
           28,
           29,
           30,
           31,
           32,
           33,
           34,
           35,
           36,
           37,
           38,
           39,
           40,
           41,
           42,
           43,
           44,
           45,
           46,
           47,
           48,
           49,
           50,
           51,
           52,
           53,
           54,
           55,
           56,
           57,
           58,
           59,
           60,
           61,
           62,
           63,
           64,
           65,
           66,
           67,
           68,
           69,
           70,
           71,
           72,
           73,
           74,
           75,
           76,
           77,
           78,
           79,
           80,
           81,
           82,
           83,
           84,
           85,
           86,
           87,
           88,
           89,
           90,
           91,
           92,
           93,
           94,
           95,
           96,
           97,
           98,
           99
          ],
          "colorbar": {
           "title": {
            "text": "Trial"
           },
           "x": 1,
           "xpad": 40
          },
          "colorscale": [
           [
            0,
            "rgb(247,251,255)"
           ],
           [
            0.125,
            "rgb(222,235,247)"
           ],
           [
            0.25,
            "rgb(198,219,239)"
           ],
           [
            0.375,
            "rgb(158,202,225)"
           ],
           [
            0.5,
            "rgb(107,174,214)"
           ],
           [
            0.625,
            "rgb(66,146,198)"
           ],
           [
            0.75,
            "rgb(33,113,181)"
           ],
           [
            0.875,
            "rgb(8,81,156)"
           ],
           [
            1,
            "rgb(8,48,107)"
           ]
          ],
          "line": {
           "color": "Grey",
           "width": 0.5
          },
          "showscale": false
         },
         "mode": "markers",
         "name": "Feasible Trial",
         "showlegend": false,
         "type": "scatter",
         "x": [
          20,
          20,
          7,
          14,
          12,
          19,
          31,
          22,
          30,
          18,
          29,
          2,
          12,
          3,
          27,
          12,
          3,
          29,
          18,
          1,
          17,
          8,
          26,
          29,
          4,
          1,
          11,
          12,
          10,
          2,
          16,
          8,
          18,
          2,
          8,
          30,
          29,
          17,
          21,
          29,
          29,
          1,
          8,
          21,
          12,
          29,
          16,
          21,
          12,
          31,
          11,
          19,
          17,
          12,
          30,
          23,
          4,
          10,
          12,
          20,
          21,
          26,
          31,
          6,
          9,
          14,
          4,
          16,
          14,
          12,
          6,
          31,
          18,
          7,
          22,
          27,
          29,
          25,
          25,
          25,
          27,
          29,
          19,
          22,
          16,
          12,
          4,
          23,
          12,
          13,
          30,
          2,
          19,
          8,
          29,
          32,
          21,
          31,
          7,
          32
         ],
         "xaxis": "x2",
         "y": [
          -0.004594551395352957,
          -0.00445005723682228,
          -0.004058536747106786,
          -0.0043284876421504324,
          -0.004183290625063006,
          -0.004553221088905075,
          -0.004752593016742568,
          -0.0045265697890884546,
          -0.0049650941125509804,
          -0.004511488831826607,
          -0.004743798419693218,
          -0.0036241239095552704,
          -0.00423796605303529,
          -0.0038484038244531297,
          -0.004657842470939627,
          -0.004210746383528692,
          -0.003699951970753031,
          -0.004750202721177706,
          -0.004397882523599809,
          -0.003646923723671687,
          -0.004364823260928246,
          -0.004047212675755267,
          -0.004665998136968649,
          -0.0047440848008879705,
          -0.0037420685408213203,
          -0.003787512639792699,
          -0.004118510967973881,
          -0.004160503256980205,
          -0.004103566314335629,
          -0.003718858295860096,
          -0.004308673297306304,
          -0.004040042246262891,
          -0.0045201174042033086,
          -0.0037008362865401296,
          -0.0040183997603309585,
          -0.004956182464025692,
          -0.004943134212086205,
          -0.004468129233600823,
          -0.004513800793204421,
          -0.004711295213480037,
          -0.004741287526160515,
          -0.003765482425461649,
          -0.0040104842807829385,
          -0.004483430380542613,
          -0.004212100292250278,
          -0.004757097775829026,
          -0.004424183195551325,
          -0.004625494691963314,
          -0.004262157234587121,
          -0.004757518699032693,
          -0.00420719590181459,
          -0.004551262325236609,
          -0.004340342726652274,
          -0.004210813379472086,
          -0.0047646857387594,
          -0.0045288470738796965,
          -0.003830272958938894,
          -0.004116116846955406,
          -0.004249866429755013,
          -0.004587395891737641,
          -0.0045081954299406694,
          -0.004841108466619399,
          -0.004755588076602587,
          -0.0038401537111226666,
          -0.004043996417206556,
          -0.004317885235430334,
          -0.0037250783401068356,
          -0.004454595458699508,
          -0.004266073711332451,
          -0.004183254616338565,
          -0.003922438576230307,
          -0.004782811465159837,
          -0.004380229441445352,
          -0.004058892650601959,
          -0.00468517819004035,
          -0.0048842350952154855,
          -0.004706122447285589,
          -0.004596677083544417,
          -0.004627541180710036,
          -0.004595349425142788,
          -0.004887809209595641,
          -0.004935128434555965,
          -0.004433454717831723,
          -0.004497100486271335,
          -0.0044242221433768245,
          -0.004245157701759228,
          -0.003831309739622633,
          -0.004702957968129791,
          -0.0041752864103017946,
          -0.004272002340328744,
          -0.004956706003010737,
          -0.0037147621042621015,
          -0.004430616268072231,
          -0.004053993218316742,
          -0.0047671914783097066,
          -0.004807828271028024,
          -0.00449171956294802,
          -0.004756297718842272,
          -0.003974205196842473,
          -0.004786838826508726
         ],
         "yaxis": "y2"
        },
        {
         "marker": {
          "color": [
           0,
           1,
           2,
           3,
           4,
           5,
           6,
           7,
           8,
           9,
           10,
           11,
           12,
           13,
           14,
           15,
           16,
           17,
           18,
           19,
           20,
           21,
           22,
           23,
           24,
           25,
           26,
           27,
           28,
           29,
           30,
           31,
           32,
           33,
           34,
           35,
           36,
           37,
           38,
           39,
           40,
           41,
           42,
           43,
           44,
           45,
           46,
           47,
           48,
           49,
           50,
           51,
           52,
           53,
           54,
           55,
           56,
           57,
           58,
           59,
           60,
           61,
           62,
           63,
           64,
           65,
           66,
           67,
           68,
           69,
           70,
           71,
           72,
           73,
           74,
           75,
           76,
           77,
           78,
           79,
           80,
           81,
           82,
           83,
           84,
           85,
           86,
           87,
           88,
           89,
           90,
           91,
           92,
           93,
           94,
           95,
           96,
           97,
           98,
           99
          ],
          "colorbar": {
           "title": {
            "text": "Trial"
           },
           "x": 1,
           "xpad": 40
          },
          "colorscale": [
           [
            0,
            "rgb(247,251,255)"
           ],
           [
            0.125,
            "rgb(222,235,247)"
           ],
           [
            0.25,
            "rgb(198,219,239)"
           ],
           [
            0.375,
            "rgb(158,202,225)"
           ],
           [
            0.5,
            "rgb(107,174,214)"
           ],
           [
            0.625,
            "rgb(66,146,198)"
           ],
           [
            0.75,
            "rgb(33,113,181)"
           ],
           [
            0.875,
            "rgb(8,81,156)"
           ],
           [
            1,
            "rgb(8,48,107)"
           ]
          ],
          "line": {
           "color": "Grey",
           "width": 0.5
          },
          "showscale": false
         },
         "mode": "markers",
         "name": "Feasible Trial",
         "showlegend": false,
         "type": "scatter",
         "x": [
          24,
          28,
          27,
          18,
          11,
          17,
          4,
          5,
          3,
          18,
          31,
          8,
          27,
          26,
          2,
          4,
          12,
          21,
          25,
          15,
          11,
          25,
          30,
          7,
          11,
          28,
          5,
          23,
          17,
          17,
          6,
          25,
          21,
          7,
          17,
          13,
          30,
          19,
          29,
          29,
          7,
          22,
          22,
          25,
          4,
          14,
          19,
          2,
          30,
          31,
          28,
          23,
          6,
          23,
          28,
          22,
          13,
          18,
          27,
          8,
          18,
          12,
          2,
          7,
          22,
          20,
          2,
          23,
          7,
          3,
          22,
          20,
          16,
          30,
          4,
          2,
          21,
          7,
          13,
          15,
          17,
          2,
          31,
          12,
          4,
          29,
          21,
          27,
          13,
          25,
          15,
          16,
          25,
          28,
          3,
          19,
          16,
          10,
          10,
          4
         ],
         "xaxis": "x3",
         "y": [
          -0.004594551395352957,
          -0.00445005723682228,
          -0.004058536747106786,
          -0.0043284876421504324,
          -0.004183290625063006,
          -0.004553221088905075,
          -0.004752593016742568,
          -0.0045265697890884546,
          -0.0049650941125509804,
          -0.004511488831826607,
          -0.004743798419693218,
          -0.0036241239095552704,
          -0.00423796605303529,
          -0.0038484038244531297,
          -0.004657842470939627,
          -0.004210746383528692,
          -0.003699951970753031,
          -0.004750202721177706,
          -0.004397882523599809,
          -0.003646923723671687,
          -0.004364823260928246,
          -0.004047212675755267,
          -0.004665998136968649,
          -0.0047440848008879705,
          -0.0037420685408213203,
          -0.003787512639792699,
          -0.004118510967973881,
          -0.004160503256980205,
          -0.004103566314335629,
          -0.003718858295860096,
          -0.004308673297306304,
          -0.004040042246262891,
          -0.0045201174042033086,
          -0.0037008362865401296,
          -0.0040183997603309585,
          -0.004956182464025692,
          -0.004943134212086205,
          -0.004468129233600823,
          -0.004513800793204421,
          -0.004711295213480037,
          -0.004741287526160515,
          -0.003765482425461649,
          -0.0040104842807829385,
          -0.004483430380542613,
          -0.004212100292250278,
          -0.004757097775829026,
          -0.004424183195551325,
          -0.004625494691963314,
          -0.004262157234587121,
          -0.004757518699032693,
          -0.00420719590181459,
          -0.004551262325236609,
          -0.004340342726652274,
          -0.004210813379472086,
          -0.0047646857387594,
          -0.0045288470738796965,
          -0.003830272958938894,
          -0.004116116846955406,
          -0.004249866429755013,
          -0.004587395891737641,
          -0.0045081954299406694,
          -0.004841108466619399,
          -0.004755588076602587,
          -0.0038401537111226666,
          -0.004043996417206556,
          -0.004317885235430334,
          -0.0037250783401068356,
          -0.004454595458699508,
          -0.004266073711332451,
          -0.004183254616338565,
          -0.003922438576230307,
          -0.004782811465159837,
          -0.004380229441445352,
          -0.004058892650601959,
          -0.00468517819004035,
          -0.0048842350952154855,
          -0.004706122447285589,
          -0.004596677083544417,
          -0.004627541180710036,
          -0.004595349425142788,
          -0.004887809209595641,
          -0.004935128434555965,
          -0.004433454717831723,
          -0.004497100486271335,
          -0.0044242221433768245,
          -0.004245157701759228,
          -0.003831309739622633,
          -0.004702957968129791,
          -0.0041752864103017946,
          -0.004272002340328744,
          -0.004956706003010737,
          -0.0037147621042621015,
          -0.004430616268072231,
          -0.004053993218316742,
          -0.0047671914783097066,
          -0.004807828271028024,
          -0.00449171956294802,
          -0.004756297718842272,
          -0.003974205196842473,
          -0.004786838826508726
         ],
         "yaxis": "y3"
        },
        {
         "marker": {
          "color": [
           0,
           1,
           2,
           3,
           4,
           5,
           6,
           7,
           8,
           9,
           10,
           11,
           12,
           13,
           14,
           15,
           16,
           17,
           18,
           19,
           20,
           21,
           22,
           23,
           24,
           25,
           26,
           27,
           28,
           29,
           30,
           31,
           32,
           33,
           34,
           35,
           36,
           37,
           38,
           39,
           40,
           41,
           42,
           43,
           44,
           45,
           46,
           47,
           48,
           49,
           50,
           51,
           52,
           53,
           54,
           55,
           56,
           57,
           58,
           59,
           60,
           61,
           62,
           63,
           64,
           65,
           66,
           67,
           68,
           69,
           70,
           71,
           72,
           73,
           74,
           75,
           76,
           77,
           78,
           79,
           80,
           81,
           82,
           83,
           84,
           85,
           86,
           87,
           88,
           89,
           90,
           91,
           92,
           93,
           94,
           95,
           96,
           97,
           98,
           99
          ],
          "colorbar": {
           "title": {
            "text": "Trial"
           },
           "x": 1,
           "xpad": 40
          },
          "colorscale": [
           [
            0,
            "rgb(247,251,255)"
           ],
           [
            0.125,
            "rgb(222,235,247)"
           ],
           [
            0.25,
            "rgb(198,219,239)"
           ],
           [
            0.375,
            "rgb(158,202,225)"
           ],
           [
            0.5,
            "rgb(107,174,214)"
           ],
           [
            0.625,
            "rgb(66,146,198)"
           ],
           [
            0.75,
            "rgb(33,113,181)"
           ],
           [
            0.875,
            "rgb(8,81,156)"
           ],
           [
            1,
            "rgb(8,48,107)"
           ]
          ],
          "line": {
           "color": "Grey",
           "width": 0.5
          },
          "showscale": false
         },
         "mode": "markers",
         "name": "Feasible Trial",
         "showlegend": false,
         "type": "scatter",
         "x": [
          437,
          240,
          118,
          265,
          651,
          807,
          647,
          828,
          209,
          696,
          973,
          930,
          450,
          588,
          795,
          756,
          877,
          392,
          207,
          544,
          128,
          324,
          361,
          885,
          827,
          484,
          476,
          391,
          967,
          133,
          918,
          318,
          431,
          852,
          710,
          257,
          407,
          694,
          183,
          414,
          678,
          108,
          594,
          313,
          692,
          319,
          816,
          750,
          947,
          936,
          365,
          601,
          654,
          767,
          829,
          551,
          901,
          132,
          127,
          570,
          146,
          979,
          495,
          727,
          594,
          764,
          420,
          136,
          542,
          654,
          553,
          678,
          449,
          447,
          190,
          387,
          206,
          823,
          992,
          938,
          192,
          906,
          387,
          504,
          813,
          595,
          228,
          731,
          176,
          953,
          800,
          543,
          205,
          437,
          110,
          994,
          667,
          911,
          510,
          418
         ],
         "xaxis": "x4",
         "y": [
          -0.004594551395352957,
          -0.00445005723682228,
          -0.004058536747106786,
          -0.0043284876421504324,
          -0.004183290625063006,
          -0.004553221088905075,
          -0.004752593016742568,
          -0.0045265697890884546,
          -0.0049650941125509804,
          -0.004511488831826607,
          -0.004743798419693218,
          -0.0036241239095552704,
          -0.00423796605303529,
          -0.0038484038244531297,
          -0.004657842470939627,
          -0.004210746383528692,
          -0.003699951970753031,
          -0.004750202721177706,
          -0.004397882523599809,
          -0.003646923723671687,
          -0.004364823260928246,
          -0.004047212675755267,
          -0.004665998136968649,
          -0.0047440848008879705,
          -0.0037420685408213203,
          -0.003787512639792699,
          -0.004118510967973881,
          -0.004160503256980205,
          -0.004103566314335629,
          -0.003718858295860096,
          -0.004308673297306304,
          -0.004040042246262891,
          -0.0045201174042033086,
          -0.0037008362865401296,
          -0.0040183997603309585,
          -0.004956182464025692,
          -0.004943134212086205,
          -0.004468129233600823,
          -0.004513800793204421,
          -0.004711295213480037,
          -0.004741287526160515,
          -0.003765482425461649,
          -0.0040104842807829385,
          -0.004483430380542613,
          -0.004212100292250278,
          -0.004757097775829026,
          -0.004424183195551325,
          -0.004625494691963314,
          -0.004262157234587121,
          -0.004757518699032693,
          -0.00420719590181459,
          -0.004551262325236609,
          -0.004340342726652274,
          -0.004210813379472086,
          -0.0047646857387594,
          -0.0045288470738796965,
          -0.003830272958938894,
          -0.004116116846955406,
          -0.004249866429755013,
          -0.004587395891737641,
          -0.0045081954299406694,
          -0.004841108466619399,
          -0.004755588076602587,
          -0.0038401537111226666,
          -0.004043996417206556,
          -0.004317885235430334,
          -0.0037250783401068356,
          -0.004454595458699508,
          -0.004266073711332451,
          -0.004183254616338565,
          -0.003922438576230307,
          -0.004782811465159837,
          -0.004380229441445352,
          -0.004058892650601959,
          -0.00468517819004035,
          -0.0048842350952154855,
          -0.004706122447285589,
          -0.004596677083544417,
          -0.004627541180710036,
          -0.004595349425142788,
          -0.004887809209595641,
          -0.004935128434555965,
          -0.004433454717831723,
          -0.004497100486271335,
          -0.0044242221433768245,
          -0.004245157701759228,
          -0.003831309739622633,
          -0.004702957968129791,
          -0.0041752864103017946,
          -0.004272002340328744,
          -0.004956706003010737,
          -0.0037147621042621015,
          -0.004430616268072231,
          -0.004053993218316742,
          -0.0047671914783097066,
          -0.004807828271028024,
          -0.00449171956294802,
          -0.004756297718842272,
          -0.003974205196842473,
          -0.004786838826508726
         ],
         "yaxis": "y4"
        },
        {
         "marker": {
          "color": [
           0,
           1,
           2,
           3,
           4,
           5,
           6,
           7,
           8,
           9,
           10,
           11,
           12,
           13,
           14,
           15,
           16,
           17,
           18,
           19,
           20,
           21,
           22,
           23,
           24,
           25,
           26,
           27,
           28,
           29,
           30,
           31,
           32,
           33,
           34,
           35,
           36,
           37,
           38,
           39,
           40,
           41,
           42,
           43,
           44,
           45,
           46,
           47,
           48,
           49,
           50,
           51,
           52,
           53,
           54,
           55,
           56,
           57,
           58,
           59,
           60,
           61,
           62,
           63,
           64,
           65,
           66,
           67,
           68,
           69,
           70,
           71,
           72,
           73,
           74,
           75,
           76,
           77,
           78,
           79,
           80,
           81,
           82,
           83,
           84,
           85,
           86,
           87,
           88,
           89,
           90,
           91,
           92,
           93,
           94,
           95,
           96,
           97,
           98,
           99
          ],
          "colorbar": {
           "title": {
            "text": "Trial"
           },
           "x": 1,
           "xpad": 40
          },
          "colorscale": [
           [
            0,
            "rgb(247,251,255)"
           ],
           [
            0.125,
            "rgb(222,235,247)"
           ],
           [
            0.25,
            "rgb(198,219,239)"
           ],
           [
            0.375,
            "rgb(158,202,225)"
           ],
           [
            0.5,
            "rgb(107,174,214)"
           ],
           [
            0.625,
            "rgb(66,146,198)"
           ],
           [
            0.75,
            "rgb(33,113,181)"
           ],
           [
            0.875,
            "rgb(8,81,156)"
           ],
           [
            1,
            "rgb(8,48,107)"
           ]
          ],
          "line": {
           "color": "Grey",
           "width": 0.5
          },
          "showscale": false
         },
         "mode": "markers",
         "name": "Feasible Trial",
         "showlegend": false,
         "type": "scatter",
         "x": [
          1,
          3,
          1,
          1,
          2,
          1,
          3,
          2,
          1,
          1,
          2,
          1,
          1,
          3,
          3,
          1,
          1,
          2,
          3,
          1,
          3,
          1,
          2,
          2,
          1,
          2,
          3,
          3,
          1,
          1,
          3,
          3,
          1,
          2,
          2,
          1,
          1,
          1,
          2,
          3,
          2,
          1,
          3,
          3,
          1,
          2,
          1,
          1,
          1,
          3,
          1,
          1,
          3,
          1,
          2,
          3,
          2,
          2,
          1,
          1,
          3,
          1,
          3,
          1,
          3,
          1,
          1,
          1,
          2,
          2,
          1,
          2,
          3,
          1,
          1,
          1,
          3,
          3,
          2,
          3,
          1,
          1,
          2,
          3,
          1,
          1,
          1,
          1,
          3,
          1,
          1,
          1,
          3,
          3,
          2,
          2,
          2,
          3,
          2,
          3
         ],
         "xaxis": "x5",
         "y": [
          -0.004594551395352957,
          -0.00445005723682228,
          -0.004058536747106786,
          -0.0043284876421504324,
          -0.004183290625063006,
          -0.004553221088905075,
          -0.004752593016742568,
          -0.0045265697890884546,
          -0.0049650941125509804,
          -0.004511488831826607,
          -0.004743798419693218,
          -0.0036241239095552704,
          -0.00423796605303529,
          -0.0038484038244531297,
          -0.004657842470939627,
          -0.004210746383528692,
          -0.003699951970753031,
          -0.004750202721177706,
          -0.004397882523599809,
          -0.003646923723671687,
          -0.004364823260928246,
          -0.004047212675755267,
          -0.004665998136968649,
          -0.0047440848008879705,
          -0.0037420685408213203,
          -0.003787512639792699,
          -0.004118510967973881,
          -0.004160503256980205,
          -0.004103566314335629,
          -0.003718858295860096,
          -0.004308673297306304,
          -0.004040042246262891,
          -0.0045201174042033086,
          -0.0037008362865401296,
          -0.0040183997603309585,
          -0.004956182464025692,
          -0.004943134212086205,
          -0.004468129233600823,
          -0.004513800793204421,
          -0.004711295213480037,
          -0.004741287526160515,
          -0.003765482425461649,
          -0.0040104842807829385,
          -0.004483430380542613,
          -0.004212100292250278,
          -0.004757097775829026,
          -0.004424183195551325,
          -0.004625494691963314,
          -0.004262157234587121,
          -0.004757518699032693,
          -0.00420719590181459,
          -0.004551262325236609,
          -0.004340342726652274,
          -0.004210813379472086,
          -0.0047646857387594,
          -0.0045288470738796965,
          -0.003830272958938894,
          -0.004116116846955406,
          -0.004249866429755013,
          -0.004587395891737641,
          -0.0045081954299406694,
          -0.004841108466619399,
          -0.004755588076602587,
          -0.0038401537111226666,
          -0.004043996417206556,
          -0.004317885235430334,
          -0.0037250783401068356,
          -0.004454595458699508,
          -0.004266073711332451,
          -0.004183254616338565,
          -0.003922438576230307,
          -0.004782811465159837,
          -0.004380229441445352,
          -0.004058892650601959,
          -0.00468517819004035,
          -0.0048842350952154855,
          -0.004706122447285589,
          -0.004596677083544417,
          -0.004627541180710036,
          -0.004595349425142788,
          -0.004887809209595641,
          -0.004935128434555965,
          -0.004433454717831723,
          -0.004497100486271335,
          -0.0044242221433768245,
          -0.004245157701759228,
          -0.003831309739622633,
          -0.004702957968129791,
          -0.0041752864103017946,
          -0.004272002340328744,
          -0.004956706003010737,
          -0.0037147621042621015,
          -0.004430616268072231,
          -0.004053993218316742,
          -0.0047671914783097066,
          -0.004807828271028024,
          -0.00449171956294802,
          -0.004756297718842272,
          -0.003974205196842473,
          -0.004786838826508726
         ],
         "yaxis": "y5"
        }
       ],
       "layout": {
        "template": {
         "data": {
          "bar": [
           {
            "error_x": {
             "color": "#2a3f5f"
            },
            "error_y": {
             "color": "#2a3f5f"
            },
            "marker": {
             "line": {
              "color": "#E5ECF6",
              "width": 0.5
             },
             "pattern": {
              "fillmode": "overlay",
              "size": 10,
              "solidity": 0.2
             }
            },
            "type": "bar"
           }
          ],
          "barpolar": [
           {
            "marker": {
             "line": {
              "color": "#E5ECF6",
              "width": 0.5
             },
             "pattern": {
              "fillmode": "overlay",
              "size": 10,
              "solidity": 0.2
             }
            },
            "type": "barpolar"
           }
          ],
          "carpet": [
           {
            "aaxis": {
             "endlinecolor": "#2a3f5f",
             "gridcolor": "white",
             "linecolor": "white",
             "minorgridcolor": "white",
             "startlinecolor": "#2a3f5f"
            },
            "baxis": {
             "endlinecolor": "#2a3f5f",
             "gridcolor": "white",
             "linecolor": "white",
             "minorgridcolor": "white",
             "startlinecolor": "#2a3f5f"
            },
            "type": "carpet"
           }
          ],
          "choropleth": [
           {
            "colorbar": {
             "outlinewidth": 0,
             "ticks": ""
            },
            "type": "choropleth"
           }
          ],
          "contour": [
           {
            "colorbar": {
             "outlinewidth": 0,
             "ticks": ""
            },
            "colorscale": [
             [
              0,
              "#0d0887"
             ],
             [
              0.1111111111111111,
              "#46039f"
             ],
             [
              0.2222222222222222,
              "#7201a8"
             ],
             [
              0.3333333333333333,
              "#9c179e"
             ],
             [
              0.4444444444444444,
              "#bd3786"
             ],
             [
              0.5555555555555556,
              "#d8576b"
             ],
             [
              0.6666666666666666,
              "#ed7953"
             ],
             [
              0.7777777777777778,
              "#fb9f3a"
             ],
             [
              0.8888888888888888,
              "#fdca26"
             ],
             [
              1,
              "#f0f921"
             ]
            ],
            "type": "contour"
           }
          ],
          "contourcarpet": [
           {
            "colorbar": {
             "outlinewidth": 0,
             "ticks": ""
            },
            "type": "contourcarpet"
           }
          ],
          "heatmap": [
           {
            "colorbar": {
             "outlinewidth": 0,
             "ticks": ""
            },
            "colorscale": [
             [
              0,
              "#0d0887"
             ],
             [
              0.1111111111111111,
              "#46039f"
             ],
             [
              0.2222222222222222,
              "#7201a8"
             ],
             [
              0.3333333333333333,
              "#9c179e"
             ],
             [
              0.4444444444444444,
              "#bd3786"
             ],
             [
              0.5555555555555556,
              "#d8576b"
             ],
             [
              0.6666666666666666,
              "#ed7953"
             ],
             [
              0.7777777777777778,
              "#fb9f3a"
             ],
             [
              0.8888888888888888,
              "#fdca26"
             ],
             [
              1,
              "#f0f921"
             ]
            ],
            "type": "heatmap"
           }
          ],
          "histogram": [
           {
            "marker": {
             "pattern": {
              "fillmode": "overlay",
              "size": 10,
              "solidity": 0.2
             }
            },
            "type": "histogram"
           }
          ],
          "histogram2d": [
           {
            "colorbar": {
             "outlinewidth": 0,
             "ticks": ""
            },
            "colorscale": [
             [
              0,
              "#0d0887"
             ],
             [
              0.1111111111111111,
              "#46039f"
             ],
             [
              0.2222222222222222,
              "#7201a8"
             ],
             [
              0.3333333333333333,
              "#9c179e"
             ],
             [
              0.4444444444444444,
              "#bd3786"
             ],
             [
              0.5555555555555556,
              "#d8576b"
             ],
             [
              0.6666666666666666,
              "#ed7953"
             ],
             [
              0.7777777777777778,
              "#fb9f3a"
             ],
             [
              0.8888888888888888,
              "#fdca26"
             ],
             [
              1,
              "#f0f921"
             ]
            ],
            "type": "histogram2d"
           }
          ],
          "histogram2dcontour": [
           {
            "colorbar": {
             "outlinewidth": 0,
             "ticks": ""
            },
            "colorscale": [
             [
              0,
              "#0d0887"
             ],
             [
              0.1111111111111111,
              "#46039f"
             ],
             [
              0.2222222222222222,
              "#7201a8"
             ],
             [
              0.3333333333333333,
              "#9c179e"
             ],
             [
              0.4444444444444444,
              "#bd3786"
             ],
             [
              0.5555555555555556,
              "#d8576b"
             ],
             [
              0.6666666666666666,
              "#ed7953"
             ],
             [
              0.7777777777777778,
              "#fb9f3a"
             ],
             [
              0.8888888888888888,
              "#fdca26"
             ],
             [
              1,
              "#f0f921"
             ]
            ],
            "type": "histogram2dcontour"
           }
          ],
          "mesh3d": [
           {
            "colorbar": {
             "outlinewidth": 0,
             "ticks": ""
            },
            "type": "mesh3d"
           }
          ],
          "parcoords": [
           {
            "line": {
             "colorbar": {
              "outlinewidth": 0,
              "ticks": ""
             }
            },
            "type": "parcoords"
           }
          ],
          "pie": [
           {
            "automargin": true,
            "type": "pie"
           }
          ],
          "scatter": [
           {
            "fillpattern": {
             "fillmode": "overlay",
             "size": 10,
             "solidity": 0.2
            },
            "type": "scatter"
           }
          ],
          "scatter3d": [
           {
            "line": {
             "colorbar": {
              "outlinewidth": 0,
              "ticks": ""
             }
            },
            "marker": {
             "colorbar": {
              "outlinewidth": 0,
              "ticks": ""
             }
            },
            "type": "scatter3d"
           }
          ],
          "scattercarpet": [
           {
            "marker": {
             "colorbar": {
              "outlinewidth": 0,
              "ticks": ""
             }
            },
            "type": "scattercarpet"
           }
          ],
          "scattergeo": [
           {
            "marker": {
             "colorbar": {
              "outlinewidth": 0,
              "ticks": ""
             }
            },
            "type": "scattergeo"
           }
          ],
          "scattergl": [
           {
            "marker": {
             "colorbar": {
              "outlinewidth": 0,
              "ticks": ""
             }
            },
            "type": "scattergl"
           }
          ],
          "scattermap": [
           {
            "marker": {
             "colorbar": {
              "outlinewidth": 0,
              "ticks": ""
             }
            },
            "type": "scattermap"
           }
          ],
          "scattermapbox": [
           {
            "marker": {
             "colorbar": {
              "outlinewidth": 0,
              "ticks": ""
             }
            },
            "type": "scattermapbox"
           }
          ],
          "scatterpolar": [
           {
            "marker": {
             "colorbar": {
              "outlinewidth": 0,
              "ticks": ""
             }
            },
            "type": "scatterpolar"
           }
          ],
          "scatterpolargl": [
           {
            "marker": {
             "colorbar": {
              "outlinewidth": 0,
              "ticks": ""
             }
            },
            "type": "scatterpolargl"
           }
          ],
          "scatterternary": [
           {
            "marker": {
             "colorbar": {
              "outlinewidth": 0,
              "ticks": ""
             }
            },
            "type": "scatterternary"
           }
          ],
          "surface": [
           {
            "colorbar": {
             "outlinewidth": 0,
             "ticks": ""
            },
            "colorscale": [
             [
              0,
              "#0d0887"
             ],
             [
              0.1111111111111111,
              "#46039f"
             ],
             [
              0.2222222222222222,
              "#7201a8"
             ],
             [
              0.3333333333333333,
              "#9c179e"
             ],
             [
              0.4444444444444444,
              "#bd3786"
             ],
             [
              0.5555555555555556,
              "#d8576b"
             ],
             [
              0.6666666666666666,
              "#ed7953"
             ],
             [
              0.7777777777777778,
              "#fb9f3a"
             ],
             [
              0.8888888888888888,
              "#fdca26"
             ],
             [
              1,
              "#f0f921"
             ]
            ],
            "type": "surface"
           }
          ],
          "table": [
           {
            "cells": {
             "fill": {
              "color": "#EBF0F8"
             },
             "line": {
              "color": "white"
             }
            },
            "header": {
             "fill": {
              "color": "#C8D4E3"
             },
             "line": {
              "color": "white"
             }
            },
            "type": "table"
           }
          ]
         },
         "layout": {
          "annotationdefaults": {
           "arrowcolor": "#2a3f5f",
           "arrowhead": 0,
           "arrowwidth": 1
          },
          "autotypenumbers": "strict",
          "coloraxis": {
           "colorbar": {
            "outlinewidth": 0,
            "ticks": ""
           }
          },
          "colorscale": {
           "diverging": [
            [
             0,
             "#8e0152"
            ],
            [
             0.1,
             "#c51b7d"
            ],
            [
             0.2,
             "#de77ae"
            ],
            [
             0.3,
             "#f1b6da"
            ],
            [
             0.4,
             "#fde0ef"
            ],
            [
             0.5,
             "#f7f7f7"
            ],
            [
             0.6,
             "#e6f5d0"
            ],
            [
             0.7,
             "#b8e186"
            ],
            [
             0.8,
             "#7fbc41"
            ],
            [
             0.9,
             "#4d9221"
            ],
            [
             1,
             "#276419"
            ]
           ],
           "sequential": [
            [
             0,
             "#0d0887"
            ],
            [
             0.1111111111111111,
             "#46039f"
            ],
            [
             0.2222222222222222,
             "#7201a8"
            ],
            [
             0.3333333333333333,
             "#9c179e"
            ],
            [
             0.4444444444444444,
             "#bd3786"
            ],
            [
             0.5555555555555556,
             "#d8576b"
            ],
            [
             0.6666666666666666,
             "#ed7953"
            ],
            [
             0.7777777777777778,
             "#fb9f3a"
            ],
            [
             0.8888888888888888,
             "#fdca26"
            ],
            [
             1,
             "#f0f921"
            ]
           ],
           "sequentialminus": [
            [
             0,
             "#0d0887"
            ],
            [
             0.1111111111111111,
             "#46039f"
            ],
            [
             0.2222222222222222,
             "#7201a8"
            ],
            [
             0.3333333333333333,
             "#9c179e"
            ],
            [
             0.4444444444444444,
             "#bd3786"
            ],
            [
             0.5555555555555556,
             "#d8576b"
            ],
            [
             0.6666666666666666,
             "#ed7953"
            ],
            [
             0.7777777777777778,
             "#fb9f3a"
            ],
            [
             0.8888888888888888,
             "#fdca26"
            ],
            [
             1,
             "#f0f921"
            ]
           ]
          },
          "colorway": [
           "#636efa",
           "#EF553B",
           "#00cc96",
           "#ab63fa",
           "#FFA15A",
           "#19d3f3",
           "#FF6692",
           "#B6E880",
           "#FF97FF",
           "#FECB52"
          ],
          "font": {
           "color": "#2a3f5f"
          },
          "geo": {
           "bgcolor": "white",
           "lakecolor": "white",
           "landcolor": "#E5ECF6",
           "showlakes": true,
           "showland": true,
           "subunitcolor": "white"
          },
          "hoverlabel": {
           "align": "left"
          },
          "hovermode": "closest",
          "mapbox": {
           "style": "light"
          },
          "paper_bgcolor": "white",
          "plot_bgcolor": "#E5ECF6",
          "polar": {
           "angularaxis": {
            "gridcolor": "white",
            "linecolor": "white",
            "ticks": ""
           },
           "bgcolor": "#E5ECF6",
           "radialaxis": {
            "gridcolor": "white",
            "linecolor": "white",
            "ticks": ""
           }
          },
          "scene": {
           "xaxis": {
            "backgroundcolor": "#E5ECF6",
            "gridcolor": "white",
            "gridwidth": 2,
            "linecolor": "white",
            "showbackground": true,
            "ticks": "",
            "zerolinecolor": "white"
           },
           "yaxis": {
            "backgroundcolor": "#E5ECF6",
            "gridcolor": "white",
            "gridwidth": 2,
            "linecolor": "white",
            "showbackground": true,
            "ticks": "",
            "zerolinecolor": "white"
           },
           "zaxis": {
            "backgroundcolor": "#E5ECF6",
            "gridcolor": "white",
            "gridwidth": 2,
            "linecolor": "white",
            "showbackground": true,
            "ticks": "",
            "zerolinecolor": "white"
           }
          },
          "shapedefaults": {
           "line": {
            "color": "#2a3f5f"
           }
          },
          "ternary": {
           "aaxis": {
            "gridcolor": "white",
            "linecolor": "white",
            "ticks": ""
           },
           "baxis": {
            "gridcolor": "white",
            "linecolor": "white",
            "ticks": ""
           },
           "bgcolor": "#E5ECF6",
           "caxis": {
            "gridcolor": "white",
            "linecolor": "white",
            "ticks": ""
           }
          },
          "title": {
           "x": 0.05
          },
          "xaxis": {
           "automargin": true,
           "gridcolor": "white",
           "linecolor": "white",
           "ticks": "",
           "title": {
            "standoff": 15
           },
           "zerolinecolor": "white",
           "zerolinewidth": 2
          },
          "yaxis": {
           "automargin": true,
           "gridcolor": "white",
           "linecolor": "white",
           "ticks": "",
           "title": {
            "standoff": 15
           },
           "zerolinecolor": "white",
           "zerolinewidth": 2
          }
         }
        },
        "title": {
         "text": "Slice Plot"
        },
        "width": 1500,
        "xaxis": {
         "anchor": "y",
         "domain": [
          0,
          0.16799999999999998
         ],
         "title": {
          "text": "max_depth"
         }
        },
        "xaxis2": {
         "anchor": "y2",
         "domain": [
          0.208,
          0.376
         ],
         "title": {
          "text": "min_samples_leaf"
         }
        },
        "xaxis3": {
         "anchor": "y3",
         "domain": [
          0.416,
          0.584
         ],
         "title": {
          "text": "min_samples_split"
         }
        },
        "xaxis4": {
         "anchor": "y4",
         "domain": [
          0.624,
          0.792
         ],
         "title": {
          "text": "n_estimators"
         }
        },
        "xaxis5": {
         "anchor": "y5",
         "domain": [
          0.832,
          1
         ],
         "title": {
          "text": "poly_degree"
         }
        },
        "yaxis": {
         "anchor": "x",
         "domain": [
          0,
          1
         ],
         "title": {
          "text": "Objective Value"
         }
        },
        "yaxis2": {
         "anchor": "x2",
         "domain": [
          0,
          1
         ],
         "matches": "y",
         "showticklabels": false
        },
        "yaxis3": {
         "anchor": "x3",
         "domain": [
          0,
          1
         ],
         "matches": "y",
         "showticklabels": false
        },
        "yaxis4": {
         "anchor": "x4",
         "domain": [
          0,
          1
         ],
         "matches": "y",
         "showticklabels": false
        },
        "yaxis5": {
         "anchor": "x5",
         "domain": [
          0,
          1
         ],
         "matches": "y",
         "showticklabels": false
        }
       }
      }
     },
     "metadata": {},
     "output_type": "display_data"
    }
   ],
   "source": [
    "optuna.visualization.plot_slice(study, params=['n_estimators', 'max_depth', 'min_samples_split', 'min_samples_leaf','poly_degree'])"
   ]
  },
  {
   "cell_type": "code",
   "execution_count": 107,
   "metadata": {},
   "outputs": [
    {
     "data": {
      "application/vnd.plotly.v1+json": {
       "config": {
        "plotlyServerURL": "https://plot.ly"
       },
       "data": [
        {
         "cliponaxis": false,
         "hovertemplate": [
          "max_depth (IntDistribution): 0.0005050221145183018<extra></extra>",
          "n_estimators (IntDistribution): 0.0005690867910840337<extra></extra>",
          "min_samples_split (IntDistribution): 0.0011966625021424548<extra></extra>",
          "poly_degree (IntDistribution): 0.0054015516404708275<extra></extra>",
          "min_samples_leaf (IntDistribution): 0.9923276769517843<extra></extra>"
         ],
         "name": "Objective Value",
         "orientation": "h",
         "text": [
          "<0.01",
          "<0.01",
          "<0.01",
          "<0.01",
          "0.99"
         ],
         "textposition": "outside",
         "type": "bar",
         "x": [
          0.0005050221145183018,
          0.0005690867910840337,
          0.0011966625021424548,
          0.0054015516404708275,
          0.9923276769517843
         ],
         "y": [
          "max_depth",
          "n_estimators",
          "min_samples_split",
          "poly_degree",
          "min_samples_leaf"
         ]
        }
       ],
       "layout": {
        "template": {
         "data": {
          "bar": [
           {
            "error_x": {
             "color": "#2a3f5f"
            },
            "error_y": {
             "color": "#2a3f5f"
            },
            "marker": {
             "line": {
              "color": "#E5ECF6",
              "width": 0.5
             },
             "pattern": {
              "fillmode": "overlay",
              "size": 10,
              "solidity": 0.2
             }
            },
            "type": "bar"
           }
          ],
          "barpolar": [
           {
            "marker": {
             "line": {
              "color": "#E5ECF6",
              "width": 0.5
             },
             "pattern": {
              "fillmode": "overlay",
              "size": 10,
              "solidity": 0.2
             }
            },
            "type": "barpolar"
           }
          ],
          "carpet": [
           {
            "aaxis": {
             "endlinecolor": "#2a3f5f",
             "gridcolor": "white",
             "linecolor": "white",
             "minorgridcolor": "white",
             "startlinecolor": "#2a3f5f"
            },
            "baxis": {
             "endlinecolor": "#2a3f5f",
             "gridcolor": "white",
             "linecolor": "white",
             "minorgridcolor": "white",
             "startlinecolor": "#2a3f5f"
            },
            "type": "carpet"
           }
          ],
          "choropleth": [
           {
            "colorbar": {
             "outlinewidth": 0,
             "ticks": ""
            },
            "type": "choropleth"
           }
          ],
          "contour": [
           {
            "colorbar": {
             "outlinewidth": 0,
             "ticks": ""
            },
            "colorscale": [
             [
              0,
              "#0d0887"
             ],
             [
              0.1111111111111111,
              "#46039f"
             ],
             [
              0.2222222222222222,
              "#7201a8"
             ],
             [
              0.3333333333333333,
              "#9c179e"
             ],
             [
              0.4444444444444444,
              "#bd3786"
             ],
             [
              0.5555555555555556,
              "#d8576b"
             ],
             [
              0.6666666666666666,
              "#ed7953"
             ],
             [
              0.7777777777777778,
              "#fb9f3a"
             ],
             [
              0.8888888888888888,
              "#fdca26"
             ],
             [
              1,
              "#f0f921"
             ]
            ],
            "type": "contour"
           }
          ],
          "contourcarpet": [
           {
            "colorbar": {
             "outlinewidth": 0,
             "ticks": ""
            },
            "type": "contourcarpet"
           }
          ],
          "heatmap": [
           {
            "colorbar": {
             "outlinewidth": 0,
             "ticks": ""
            },
            "colorscale": [
             [
              0,
              "#0d0887"
             ],
             [
              0.1111111111111111,
              "#46039f"
             ],
             [
              0.2222222222222222,
              "#7201a8"
             ],
             [
              0.3333333333333333,
              "#9c179e"
             ],
             [
              0.4444444444444444,
              "#bd3786"
             ],
             [
              0.5555555555555556,
              "#d8576b"
             ],
             [
              0.6666666666666666,
              "#ed7953"
             ],
             [
              0.7777777777777778,
              "#fb9f3a"
             ],
             [
              0.8888888888888888,
              "#fdca26"
             ],
             [
              1,
              "#f0f921"
             ]
            ],
            "type": "heatmap"
           }
          ],
          "histogram": [
           {
            "marker": {
             "pattern": {
              "fillmode": "overlay",
              "size": 10,
              "solidity": 0.2
             }
            },
            "type": "histogram"
           }
          ],
          "histogram2d": [
           {
            "colorbar": {
             "outlinewidth": 0,
             "ticks": ""
            },
            "colorscale": [
             [
              0,
              "#0d0887"
             ],
             [
              0.1111111111111111,
              "#46039f"
             ],
             [
              0.2222222222222222,
              "#7201a8"
             ],
             [
              0.3333333333333333,
              "#9c179e"
             ],
             [
              0.4444444444444444,
              "#bd3786"
             ],
             [
              0.5555555555555556,
              "#d8576b"
             ],
             [
              0.6666666666666666,
              "#ed7953"
             ],
             [
              0.7777777777777778,
              "#fb9f3a"
             ],
             [
              0.8888888888888888,
              "#fdca26"
             ],
             [
              1,
              "#f0f921"
             ]
            ],
            "type": "histogram2d"
           }
          ],
          "histogram2dcontour": [
           {
            "colorbar": {
             "outlinewidth": 0,
             "ticks": ""
            },
            "colorscale": [
             [
              0,
              "#0d0887"
             ],
             [
              0.1111111111111111,
              "#46039f"
             ],
             [
              0.2222222222222222,
              "#7201a8"
             ],
             [
              0.3333333333333333,
              "#9c179e"
             ],
             [
              0.4444444444444444,
              "#bd3786"
             ],
             [
              0.5555555555555556,
              "#d8576b"
             ],
             [
              0.6666666666666666,
              "#ed7953"
             ],
             [
              0.7777777777777778,
              "#fb9f3a"
             ],
             [
              0.8888888888888888,
              "#fdca26"
             ],
             [
              1,
              "#f0f921"
             ]
            ],
            "type": "histogram2dcontour"
           }
          ],
          "mesh3d": [
           {
            "colorbar": {
             "outlinewidth": 0,
             "ticks": ""
            },
            "type": "mesh3d"
           }
          ],
          "parcoords": [
           {
            "line": {
             "colorbar": {
              "outlinewidth": 0,
              "ticks": ""
             }
            },
            "type": "parcoords"
           }
          ],
          "pie": [
           {
            "automargin": true,
            "type": "pie"
           }
          ],
          "scatter": [
           {
            "fillpattern": {
             "fillmode": "overlay",
             "size": 10,
             "solidity": 0.2
            },
            "type": "scatter"
           }
          ],
          "scatter3d": [
           {
            "line": {
             "colorbar": {
              "outlinewidth": 0,
              "ticks": ""
             }
            },
            "marker": {
             "colorbar": {
              "outlinewidth": 0,
              "ticks": ""
             }
            },
            "type": "scatter3d"
           }
          ],
          "scattercarpet": [
           {
            "marker": {
             "colorbar": {
              "outlinewidth": 0,
              "ticks": ""
             }
            },
            "type": "scattercarpet"
           }
          ],
          "scattergeo": [
           {
            "marker": {
             "colorbar": {
              "outlinewidth": 0,
              "ticks": ""
             }
            },
            "type": "scattergeo"
           }
          ],
          "scattergl": [
           {
            "marker": {
             "colorbar": {
              "outlinewidth": 0,
              "ticks": ""
             }
            },
            "type": "scattergl"
           }
          ],
          "scattermap": [
           {
            "marker": {
             "colorbar": {
              "outlinewidth": 0,
              "ticks": ""
             }
            },
            "type": "scattermap"
           }
          ],
          "scattermapbox": [
           {
            "marker": {
             "colorbar": {
              "outlinewidth": 0,
              "ticks": ""
             }
            },
            "type": "scattermapbox"
           }
          ],
          "scatterpolar": [
           {
            "marker": {
             "colorbar": {
              "outlinewidth": 0,
              "ticks": ""
             }
            },
            "type": "scatterpolar"
           }
          ],
          "scatterpolargl": [
           {
            "marker": {
             "colorbar": {
              "outlinewidth": 0,
              "ticks": ""
             }
            },
            "type": "scatterpolargl"
           }
          ],
          "scatterternary": [
           {
            "marker": {
             "colorbar": {
              "outlinewidth": 0,
              "ticks": ""
             }
            },
            "type": "scatterternary"
           }
          ],
          "surface": [
           {
            "colorbar": {
             "outlinewidth": 0,
             "ticks": ""
            },
            "colorscale": [
             [
              0,
              "#0d0887"
             ],
             [
              0.1111111111111111,
              "#46039f"
             ],
             [
              0.2222222222222222,
              "#7201a8"
             ],
             [
              0.3333333333333333,
              "#9c179e"
             ],
             [
              0.4444444444444444,
              "#bd3786"
             ],
             [
              0.5555555555555556,
              "#d8576b"
             ],
             [
              0.6666666666666666,
              "#ed7953"
             ],
             [
              0.7777777777777778,
              "#fb9f3a"
             ],
             [
              0.8888888888888888,
              "#fdca26"
             ],
             [
              1,
              "#f0f921"
             ]
            ],
            "type": "surface"
           }
          ],
          "table": [
           {
            "cells": {
             "fill": {
              "color": "#EBF0F8"
             },
             "line": {
              "color": "white"
             }
            },
            "header": {
             "fill": {
              "color": "#C8D4E3"
             },
             "line": {
              "color": "white"
             }
            },
            "type": "table"
           }
          ]
         },
         "layout": {
          "annotationdefaults": {
           "arrowcolor": "#2a3f5f",
           "arrowhead": 0,
           "arrowwidth": 1
          },
          "autotypenumbers": "strict",
          "coloraxis": {
           "colorbar": {
            "outlinewidth": 0,
            "ticks": ""
           }
          },
          "colorscale": {
           "diverging": [
            [
             0,
             "#8e0152"
            ],
            [
             0.1,
             "#c51b7d"
            ],
            [
             0.2,
             "#de77ae"
            ],
            [
             0.3,
             "#f1b6da"
            ],
            [
             0.4,
             "#fde0ef"
            ],
            [
             0.5,
             "#f7f7f7"
            ],
            [
             0.6,
             "#e6f5d0"
            ],
            [
             0.7,
             "#b8e186"
            ],
            [
             0.8,
             "#7fbc41"
            ],
            [
             0.9,
             "#4d9221"
            ],
            [
             1,
             "#276419"
            ]
           ],
           "sequential": [
            [
             0,
             "#0d0887"
            ],
            [
             0.1111111111111111,
             "#46039f"
            ],
            [
             0.2222222222222222,
             "#7201a8"
            ],
            [
             0.3333333333333333,
             "#9c179e"
            ],
            [
             0.4444444444444444,
             "#bd3786"
            ],
            [
             0.5555555555555556,
             "#d8576b"
            ],
            [
             0.6666666666666666,
             "#ed7953"
            ],
            [
             0.7777777777777778,
             "#fb9f3a"
            ],
            [
             0.8888888888888888,
             "#fdca26"
            ],
            [
             1,
             "#f0f921"
            ]
           ],
           "sequentialminus": [
            [
             0,
             "#0d0887"
            ],
            [
             0.1111111111111111,
             "#46039f"
            ],
            [
             0.2222222222222222,
             "#7201a8"
            ],
            [
             0.3333333333333333,
             "#9c179e"
            ],
            [
             0.4444444444444444,
             "#bd3786"
            ],
            [
             0.5555555555555556,
             "#d8576b"
            ],
            [
             0.6666666666666666,
             "#ed7953"
            ],
            [
             0.7777777777777778,
             "#fb9f3a"
            ],
            [
             0.8888888888888888,
             "#fdca26"
            ],
            [
             1,
             "#f0f921"
            ]
           ]
          },
          "colorway": [
           "#636efa",
           "#EF553B",
           "#00cc96",
           "#ab63fa",
           "#FFA15A",
           "#19d3f3",
           "#FF6692",
           "#B6E880",
           "#FF97FF",
           "#FECB52"
          ],
          "font": {
           "color": "#2a3f5f"
          },
          "geo": {
           "bgcolor": "white",
           "lakecolor": "white",
           "landcolor": "#E5ECF6",
           "showlakes": true,
           "showland": true,
           "subunitcolor": "white"
          },
          "hoverlabel": {
           "align": "left"
          },
          "hovermode": "closest",
          "mapbox": {
           "style": "light"
          },
          "paper_bgcolor": "white",
          "plot_bgcolor": "#E5ECF6",
          "polar": {
           "angularaxis": {
            "gridcolor": "white",
            "linecolor": "white",
            "ticks": ""
           },
           "bgcolor": "#E5ECF6",
           "radialaxis": {
            "gridcolor": "white",
            "linecolor": "white",
            "ticks": ""
           }
          },
          "scene": {
           "xaxis": {
            "backgroundcolor": "#E5ECF6",
            "gridcolor": "white",
            "gridwidth": 2,
            "linecolor": "white",
            "showbackground": true,
            "ticks": "",
            "zerolinecolor": "white"
           },
           "yaxis": {
            "backgroundcolor": "#E5ECF6",
            "gridcolor": "white",
            "gridwidth": 2,
            "linecolor": "white",
            "showbackground": true,
            "ticks": "",
            "zerolinecolor": "white"
           },
           "zaxis": {
            "backgroundcolor": "#E5ECF6",
            "gridcolor": "white",
            "gridwidth": 2,
            "linecolor": "white",
            "showbackground": true,
            "ticks": "",
            "zerolinecolor": "white"
           }
          },
          "shapedefaults": {
           "line": {
            "color": "#2a3f5f"
           }
          },
          "ternary": {
           "aaxis": {
            "gridcolor": "white",
            "linecolor": "white",
            "ticks": ""
           },
           "baxis": {
            "gridcolor": "white",
            "linecolor": "white",
            "ticks": ""
           },
           "bgcolor": "#E5ECF6",
           "caxis": {
            "gridcolor": "white",
            "linecolor": "white",
            "ticks": ""
           }
          },
          "title": {
           "x": 0.05
          },
          "xaxis": {
           "automargin": true,
           "gridcolor": "white",
           "linecolor": "white",
           "ticks": "",
           "title": {
            "standoff": 15
           },
           "zerolinecolor": "white",
           "zerolinewidth": 2
          },
          "yaxis": {
           "automargin": true,
           "gridcolor": "white",
           "linecolor": "white",
           "ticks": "",
           "title": {
            "standoff": 15
           },
           "zerolinecolor": "white",
           "zerolinewidth": 2
          }
         }
        },
        "title": {
         "text": "Hyperparameter Importances"
        },
        "xaxis": {
         "title": {
          "text": "Hyperparameter Importance"
         }
        },
        "yaxis": {
         "title": {
          "text": "Hyperparameter"
         }
        }
       }
      }
     },
     "metadata": {},
     "output_type": "display_data"
    }
   ],
   "source": [
    "optuna.visualization.plot_param_importances(study)"
   ]
  },
  {
   "cell_type": "code",
   "execution_count": 108,
   "metadata": {},
   "outputs": [],
   "source": [
    "best_n= best_params['n_estimators']\n",
    "best_max_depth = best_params['max_depth']\n",
    "best_min_samples_split = best_params['min_samples_split']\n",
    "best_min_samples_leaf = best_params['min_samples_leaf']"
   ]
  },
  {
   "cell_type": "code",
   "execution_count": 111,
   "metadata": {},
   "outputs": [],
   "source": [
    "numeric_pipeline_random_tree = Pipeline([\n",
    "    ('imputer', SimpleImputer(strategy='mean')),\n",
    "        ('poly', PolynomialFeatures(degree=1, include_bias=False))\n",
    "])\n",
    "\n",
    "categorical_pipeline_elastic = Pipeline([\n",
    "    ('imputer', SimpleImputer(strategy='most_frequent')),\n",
    "    ('onehot',  OneHotEncoder(handle_unknown='ignore', sparse_output=False,drop='first')),\n",
    "])\n",
    "\n",
    "preprocessor = ColumnTransformer([\n",
    "    ('num', numeric_pipeline_elastic,      num_cols),\n",
    "    ('cat', categorical_pipeline_elastic,  cat_cols),\n",
    "],\n",
    "remainder='passthrough')\n",
    "\n",
    "rforest = Pipeline([\n",
    "    ('prepoc',preprocessor),\n",
    "    ('randomforest', RandomForestRegressor(\n",
    "        n_estimators=best_n, \n",
    "        max_depth=best_max_depth, \n",
    "        min_samples_split=best_min_samples_split, \n",
    "        min_samples_leaf=best_min_samples_leaf,\n",
    "        random_state=42\n",
    "        )),\n",
    "    \n",
    "])"
   ]
  },
  {
   "cell_type": "code",
   "execution_count": 112,
   "metadata": {},
   "outputs": [],
   "source": [
    "rforest_cv = cross_val_score(\n",
    "        rforest, X_train, y_train,\n",
    "        cv=5,\n",
    "        scoring='neg_mean_squared_error',\n",
    "        n_jobs=-1\n",
    "    )"
   ]
  },
  {
   "cell_type": "code",
   "execution_count": 113,
   "metadata": {},
   "outputs": [
    {
     "name": "stdout",
     "output_type": "stream",
     "text": [
      "Random Forest Regressor CV results:\n",
      "[0.004101   0.0039174  0.003651   0.00360113 0.00359323]\n",
      "RMSE: 0.00 +/- 0.00\n",
      "\n"
     ]
    }
   ],
   "source": [
    "print_cv_results('Random Forest Regressor',rforest_cv)"
   ]
  },
  {
   "cell_type": "code",
   "execution_count": 114,
   "metadata": {},
   "outputs": [],
   "source": [
    "result['RandomForest'] = rforest_cv"
   ]
  },
  {
   "cell_type": "markdown",
   "metadata": {},
   "source": [
    "# SVR"
   ]
  },
  {
   "cell_type": "code",
   "execution_count": null,
   "metadata": {},
   "outputs": [],
   "source": [
    "from sklearn.svm import SVR\n",
    "from sklearn.preprocessing import MinMaxScaler\n",
    "from sklearn.preprocessing import RobustScaler "
   ]
  },
  {
   "cell_type": "code",
   "execution_count": null,
   "metadata": {},
   "outputs": [],
   "source": [
    "def objective(trial):\n",
    "    # Hiperparâmetros do SVR com ranges ampliados\n",
    "    C = trial.suggest_float('C', 1e-5, 1000.0, log=True)\n",
    "    epsilon = trial.suggest_float('epsilon', 1e-5, 0.5, log=True)\n",
    "    kernel = trial.suggest_categorical('kernel', ['linear', 'poly', 'rbf', 'sigmoid'])\n",
    "    \n",
    "    # Parâmetros específicos por kernel\n",
    "    if kernel == 'poly':\n",
    "        degree = trial.suggest_int('degree', 2, 5)\n",
    "        coef0 = trial.suggest_float('coef0', 0.0, 10.0)\n",
    "    else:\n",
    "        degree = 3\n",
    "        coef0 = 1.0\n",
    "        \n",
    "    if kernel in ['rbf', 'poly', 'sigmoid']:\n",
    "        gamma = trial.suggest_float('gamma', 1e-6, 10.0, log=True)\n",
    "    else:\n",
    "        gamma = 'scale'\n",
    "        \n",
    "    max_iter = trial.suggest_int('max_iter', 1000, 20000, log=True)\n",
    "    \n",
    "    # Escolha de escalonador\n",
    "    scaler_type = trial.suggest_categorical('scaler', ['standard', 'minmax', 'robust'])\n",
    "    \n",
    "    # Opções para PolynomialFeatures\n",
    "    use_poly = trial.suggest_categorical('use_poly', [True, False])\n",
    "    if use_poly:\n",
    "        poly_degree = trial.suggest_int('poly_degree', 1, 3)\n",
    "    else:\n",
    "        poly_degree = 1\n",
    "    \n",
    "    # Pipeline para dados numéricos\n",
    "    num_steps = [('imputer', SimpleImputer(strategy='mean'))]\n",
    "    \n",
    "    if scaler_type == 'standard':\n",
    "        num_steps.append(('scaler', StandardScaler()))\n",
    "    elif scaler_type == 'minmax':\n",
    "        num_steps.append(('scaler', MinMaxScaler()))\n",
    "    else:\n",
    "        num_steps.append(('scaler', RobustScaler()))\n",
    "    \n",
    "    if use_poly:\n",
    "        num_steps.append(('poly', PolynomialFeatures(degree=poly_degree, include_bias=False)))\n",
    "    \n",
    "    numeric_pipeline = Pipeline(num_steps)\n",
    "\n",
    "    # Pipeline para dados categóricos\n",
    "    categorical_pipeline = Pipeline([\n",
    "        ('imputer', SimpleImputer(strategy='most_frequent')),\n",
    "        ('onehot', OneHotEncoder(handle_unknown='ignore', sparse_output=False, drop='first')),\n",
    "    ])\n",
    "\n",
    "    preprocessor = ColumnTransformer(\n",
    "        [\n",
    "            ('num', numeric_pipeline, num_cols),\n",
    "            ('cat', categorical_pipeline, cat_cols),\n",
    "        ],\n",
    "        remainder='passthrough'\n",
    "    )\n",
    "    \n",
    "    # Configuração do SVR com todos os parâmetros\n",
    "    svr_params = {\n",
    "        'C': C,\n",
    "        'epsilon': epsilon,\n",
    "        'kernel': kernel,\n",
    "        'max_iter': max_iter\n",
    "    }\n",
    "    \n",
    "    if kernel == 'poly':\n",
    "        svr_params['degree'] = degree\n",
    "        svr_params['coef0'] = coef0\n",
    "    \n",
    "    if kernel in ['rbf', 'poly', 'sigmoid']:\n",
    "        svr_params['gamma'] = gamma\n",
    "    \n",
    "    model = Pipeline([\n",
    "        ('preproc', preprocessor),\n",
    "        ('svr', SVR(**svr_params)),\n",
    "    ])\n",
    "\n",
    "    # Avaliação com múltiplas métricas\n",
    "    score = cross_val_score(\n",
    "        model, X_train, y_train,\n",
    "        cv=5,\n",
    "        scoring='neg_mean_squared_error',\n",
    "        n_jobs=-1\n",
    "    ).mean()\n",
    "    \n",
    "    \n",
    "    return score"
   ]
  },
  {
   "cell_type": "code",
   "execution_count": 367,
   "metadata": {},
   "outputs": [
    {
     "name": "stderr",
     "output_type": "stream",
     "text": [
      "[I 2025-05-03 20:24:03,717] A new study created in memory with name: no-name-9dd3e5c8-fd85-4db3-b1bf-0ecb0742a005\n"
     ]
    }
   ],
   "source": [
    "study = optuna.create_study(direction='maximize', sampler=optuna.samplers.RandomSampler(seed=42)) "
   ]
  },
  {
   "cell_type": "code",
   "execution_count": 368,
   "metadata": {},
   "outputs": [
    {
     "name": "stderr",
     "output_type": "stream",
     "text": [
      "[I 2025-05-03 20:24:04,596] Trial 0 finished with value: -0.009187839725991067 and parameters: {'C': 0.00991564456663839, 'epsilon': 0.2933445395788398, 'kernel': 'linear', 'max_iter': 1190, 'scaler': 'standard', 'use_poly': False}. Best is trial 0 with value: -0.009187839725991067.\n",
      "/Users/jgfaraco/miniconda3/lib/python3.12/site-packages/sklearn/svm/_base.py:305: ConvergenceWarning: Solver terminated early (max_iter=2392).  Consider pre-processing your data with StandardScaler or MinMaxScaler.\n",
      "  warnings.warn(\n",
      "/Users/jgfaraco/miniconda3/lib/python3.12/site-packages/sklearn/svm/_base.py:305: ConvergenceWarning: Solver terminated early (max_iter=2392).  Consider pre-processing your data with StandardScaler or MinMaxScaler.\n",
      "  warnings.warn(\n",
      "/Users/jgfaraco/miniconda3/lib/python3.12/site-packages/sklearn/svm/_base.py:305: ConvergenceWarning: Solver terminated early (max_iter=2392).  Consider pre-processing your data with StandardScaler or MinMaxScaler.\n",
      "  warnings.warn(\n",
      "/Users/jgfaraco/miniconda3/lib/python3.12/site-packages/sklearn/svm/_base.py:305: ConvergenceWarning: Solver terminated early (max_iter=2392).  Consider pre-processing your data with StandardScaler or MinMaxScaler.\n",
      "  warnings.warn(\n",
      "/Users/jgfaraco/miniconda3/lib/python3.12/site-packages/sklearn/svm/_base.py:305: ConvergenceWarning: Solver terminated early (max_iter=2392).  Consider pre-processing your data with StandardScaler or MinMaxScaler.\n",
      "  warnings.warn(\n",
      "[I 2025-05-03 20:24:04,777] Trial 1 finished with value: -0.003108862998722367 and parameters: {'C': 45.66054873446124, 'epsilon': 9.94890105809073e-05, 'kernel': 'sigmoid', 'gamma': 0.0010558813779064837, 'max_iter': 2392, 'scaler': 'standard', 'use_poly': False}. Best is trial 1 with value: -0.003108862998722367.\n",
      "[I 2025-05-03 20:24:04,966] Trial 2 finished with value: -0.006259086200184061 and parameters: {'C': 19.116469627784266, 'epsilon': 8.674832802525465e-05, 'kernel': 'sigmoid', 'gamma': 1.5619562520792747e-05, 'max_iter': 1215, 'scaler': 'minmax', 'use_poly': True, 'poly_degree': 3}. Best is trial 1 with value: -0.003108862998722367.\n",
      "[I 2025-05-03 20:24:05,237] Trial 3 finished with value: -0.0034067731188198785 and parameters: {'C': 0.03320625892007928, 'epsilon': 3.745018823436383e-05, 'kernel': 'rbf', 'gamma': 0.04341661800361742, 'max_iter': 2543, 'scaler': 'minmax', 'use_poly': True, 'poly_degree': 3}. Best is trial 1 with value: -0.003108862998722367.\n",
      "/Users/jgfaraco/miniconda3/lib/python3.12/site-packages/sklearn/svm/_base.py:305: ConvergenceWarning: Solver terminated early (max_iter=2649).  Consider pre-processing your data with StandardScaler or MinMaxScaler.\n",
      "  warnings.warn(\n",
      "/Users/jgfaraco/miniconda3/lib/python3.12/site-packages/sklearn/svm/_base.py:305: ConvergenceWarning: Solver terminated early (max_iter=2649).  Consider pre-processing your data with StandardScaler or MinMaxScaler.\n",
      "  warnings.warn(\n",
      "/Users/jgfaraco/miniconda3/lib/python3.12/site-packages/sklearn/svm/_base.py:305: ConvergenceWarning: Solver terminated early (max_iter=2649).  Consider pre-processing your data with StandardScaler or MinMaxScaler.\n",
      "  warnings.warn(\n",
      "/Users/jgfaraco/miniconda3/lib/python3.12/site-packages/sklearn/svm/_base.py:305: ConvergenceWarning: Solver terminated early (max_iter=2649).  Consider pre-processing your data with StandardScaler or MinMaxScaler.\n",
      "  warnings.warn(\n",
      "/Users/jgfaraco/miniconda3/lib/python3.12/site-packages/sklearn/svm/_base.py:305: ConvergenceWarning: Solver terminated early (max_iter=2649).  Consider pre-processing your data with StandardScaler or MinMaxScaler.\n",
      "  warnings.warn(\n",
      "[I 2025-05-03 20:24:05,370] Trial 4 finished with value: -0.023457493137687486 and parameters: {'C': 144.08501080722579, 'epsilon': 0.006449322077378629, 'kernel': 'linear', 'max_iter': 2649, 'scaler': 'robust', 'use_poly': True, 'poly_degree': 2}. Best is trial 1 with value: -0.003108862998722367.\n",
      "[I 2025-05-03 20:24:05,446] Trial 5 finished with value: -0.006462703510971073 and parameters: {'C': 0.00013408920002835423, 'epsilon': 0.058816550488618946, 'kernel': 'poly', 'degree': 2, 'coef0': 8.154614284548341, 'gamma': 0.08871588860587633, 'max_iter': 8880, 'scaler': 'standard', 'use_poly': False}. Best is trial 1 with value: -0.003108862998722367.\n",
      "[I 2025-05-03 20:24:05,667] Trial 6 finished with value: -2455.6005172858613 and parameters: {'C': 0.9691366432023916, 'epsilon': 0.00035882268637259164, 'kernel': 'sigmoid', 'gamma': 0.029033694281285664, 'max_iter': 14265, 'scaler': 'robust', 'use_poly': True, 'poly_degree': 3}. Best is trial 1 with value: -0.003108862998722367.\n",
      "/Users/jgfaraco/miniconda3/lib/python3.12/site-packages/sklearn/svm/_base.py:305: ConvergenceWarning: Solver terminated early (max_iter=6728).  Consider pre-processing your data with StandardScaler or MinMaxScaler.\n",
      "  warnings.warn(\n",
      "/Users/jgfaraco/miniconda3/lib/python3.12/site-packages/sklearn/svm/_base.py:305: ConvergenceWarning: Solver terminated early (max_iter=6728).  Consider pre-processing your data with StandardScaler or MinMaxScaler.\n",
      "  warnings.warn(\n",
      "/Users/jgfaraco/miniconda3/lib/python3.12/site-packages/sklearn/svm/_base.py:305: ConvergenceWarning: Solver terminated early (max_iter=6728).  Consider pre-processing your data with StandardScaler or MinMaxScaler.\n",
      "  warnings.warn(\n",
      "/Users/jgfaraco/miniconda3/lib/python3.12/site-packages/sklearn/svm/_base.py:305: ConvergenceWarning: Solver terminated early (max_iter=6728).  Consider pre-processing your data with StandardScaler or MinMaxScaler.\n",
      "  warnings.warn(\n",
      "/Users/jgfaraco/miniconda3/lib/python3.12/site-packages/sklearn/svm/_base.py:305: ConvergenceWarning: Solver terminated early (max_iter=6728).  Consider pre-processing your data with StandardScaler or MinMaxScaler.\n",
      "  warnings.warn(\n",
      "[I 2025-05-03 20:24:05,862] Trial 7 finished with value: -0.0029892802148752816 and parameters: {'C': 0.08919998285789824, 'epsilon': 0.002859603931944107, 'kernel': 'linear', 'max_iter': 6728, 'scaler': 'robust', 'use_poly': False}. Best is trial 7 with value: -0.0029892802148752816.\n",
      "[I 2025-05-03 20:24:06,095] Trial 8 finished with value: -2580656.735583416 and parameters: {'C': 11.076667222301104, 'epsilon': 0.00011888189431127739, 'kernel': 'sigmoid', 'gamma': 0.45377718531570727, 'max_iter': 6668, 'scaler': 'standard', 'use_poly': True, 'poly_degree': 3}. Best is trial 7 with value: -0.0029892802148752816.\n",
      "/Users/jgfaraco/miniconda3/lib/python3.12/site-packages/sklearn/svm/_base.py:305: ConvergenceWarning: Solver terminated early (max_iter=1021).  Consider pre-processing your data with StandardScaler or MinMaxScaler.\n",
      "  warnings.warn(\n",
      "/Users/jgfaraco/miniconda3/lib/python3.12/site-packages/sklearn/svm/_base.py:305: ConvergenceWarning: Solver terminated early (max_iter=1021).  Consider pre-processing your data with StandardScaler or MinMaxScaler.\n",
      "  warnings.warn(\n",
      "/Users/jgfaraco/miniconda3/lib/python3.12/site-packages/sklearn/svm/_base.py:305: ConvergenceWarning: Solver terminated early (max_iter=1021).  Consider pre-processing your data with StandardScaler or MinMaxScaler.\n",
      "  warnings.warn(\n",
      "/Users/jgfaraco/miniconda3/lib/python3.12/site-packages/sklearn/svm/_base.py:305: ConvergenceWarning: Solver terminated early (max_iter=1021).  Consider pre-processing your data with StandardScaler or MinMaxScaler.\n",
      "  warnings.warn(\n",
      "/Users/jgfaraco/miniconda3/lib/python3.12/site-packages/sklearn/svm/_base.py:305: ConvergenceWarning: Solver terminated early (max_iter=1021).  Consider pre-processing your data with StandardScaler or MinMaxScaler.\n",
      "  warnings.warn(\n",
      "[I 2025-05-03 20:24:06,278] Trial 9 finished with value: -728577885.0879266 and parameters: {'C': 147.47907308930834, 'epsilon': 0.00031209642228865146, 'kernel': 'sigmoid', 'gamma': 1.0595320121534553, 'max_iter': 1021, 'scaler': 'standard', 'use_poly': False}. Best is trial 7 with value: -0.0029892802148752816.\n",
      "[I 2025-05-03 20:24:06,468] Trial 10 finished with value: -5653706842.81967 and parameters: {'C': 349.36358165695214, 'epsilon': 0.0003301572837470894, 'kernel': 'sigmoid', 'gamma': 5.459225887825808, 'max_iter': 2125, 'scaler': 'standard', 'use_poly': False}. Best is trial 7 with value: -0.0029892802148752816.\n",
      "[I 2025-05-03 20:24:06,604] Trial 11 finished with value: -0.0037451926007259703 and parameters: {'C': 0.10505873950469616, 'epsilon': 1.7454085858813002e-05, 'kernel': 'poly', 'degree': 3, 'coef0': 9.856504541106007, 'gamma': 4.947512505081404e-05, 'max_iter': 7489, 'scaler': 'standard', 'use_poly': False}. Best is trial 7 with value: -0.0029892802148752816.\n",
      "/Users/jgfaraco/miniconda3/lib/python3.12/site-packages/sklearn/svm/_base.py:305: ConvergenceWarning: Solver terminated early (max_iter=1050).  Consider pre-processing your data with StandardScaler or MinMaxScaler.\n",
      "  warnings.warn(\n",
      "/Users/jgfaraco/miniconda3/lib/python3.12/site-packages/sklearn/svm/_base.py:305: ConvergenceWarning: Solver terminated early (max_iter=1050).  Consider pre-processing your data with StandardScaler or MinMaxScaler.\n",
      "  warnings.warn(\n",
      "/Users/jgfaraco/miniconda3/lib/python3.12/site-packages/sklearn/svm/_base.py:305: ConvergenceWarning: Solver terminated early (max_iter=1050).  Consider pre-processing your data with StandardScaler or MinMaxScaler.\n",
      "  warnings.warn(\n",
      "/Users/jgfaraco/miniconda3/lib/python3.12/site-packages/sklearn/svm/_base.py:305: ConvergenceWarning: Solver terminated early (max_iter=1050).  Consider pre-processing your data with StandardScaler or MinMaxScaler.\n",
      "  warnings.warn(\n",
      "/Users/jgfaraco/miniconda3/lib/python3.12/site-packages/sklearn/svm/_base.py:305: ConvergenceWarning: Solver terminated early (max_iter=1050).  Consider pre-processing your data with StandardScaler or MinMaxScaler.\n",
      "  warnings.warn(\n",
      "[I 2025-05-03 20:24:06,718] Trial 12 finished with value: -0.007154986500964765 and parameters: {'C': 1.1701396243779076, 'epsilon': 0.0032929805802698747, 'kernel': 'poly', 'degree': 2, 'coef0': 5.908929431882418, 'gamma': 0.05532870850012652, 'max_iter': 1050, 'scaler': 'robust', 'use_poly': False}. Best is trial 7 with value: -0.0029892802148752816.\n",
      "[I 2025-05-03 20:24:06,780] Trial 13 finished with value: -0.02599533117607223 and parameters: {'C': 0.012413171922260383, 'epsilon': 0.25215414940919145, 'kernel': 'sigmoid', 'gamma': 1.384763072446818, 'max_iter': 2165, 'scaler': 'minmax', 'use_poly': True, 'poly_degree': 1}. Best is trial 7 with value: -0.0029892802148752816.\n",
      "[I 2025-05-03 20:24:06,949] Trial 14 finished with value: -952105596.6707432 and parameters: {'C': 150.5657055633723, 'epsilon': 0.1702305263472293, 'kernel': 'sigmoid', 'gamma': 1.9044598430332453, 'max_iter': 14260, 'scaler': 'standard', 'use_poly': False}. Best is trial 7 with value: -0.0029892802148752816.\n",
      "/Users/jgfaraco/miniconda3/lib/python3.12/site-packages/sklearn/svm/_base.py:305: ConvergenceWarning: Solver terminated early (max_iter=1957).  Consider pre-processing your data with StandardScaler or MinMaxScaler.\n",
      "  warnings.warn(\n",
      "/Users/jgfaraco/miniconda3/lib/python3.12/site-packages/sklearn/svm/_base.py:305: ConvergenceWarning: Solver terminated early (max_iter=1957).  Consider pre-processing your data with StandardScaler or MinMaxScaler.\n",
      "  warnings.warn(\n",
      "/Users/jgfaraco/miniconda3/lib/python3.12/site-packages/sklearn/svm/_base.py:305: ConvergenceWarning: Solver terminated early (max_iter=1957).  Consider pre-processing your data with StandardScaler or MinMaxScaler.\n",
      "  warnings.warn(\n",
      "/Users/jgfaraco/miniconda3/lib/python3.12/site-packages/sklearn/svm/_base.py:305: ConvergenceWarning: Solver terminated early (max_iter=1957).  Consider pre-processing your data with StandardScaler or MinMaxScaler.\n",
      "  warnings.warn(\n",
      "/Users/jgfaraco/miniconda3/lib/python3.12/site-packages/sklearn/svm/_base.py:305: ConvergenceWarning: Solver terminated early (max_iter=1957).  Consider pre-processing your data with StandardScaler or MinMaxScaler.\n",
      "  warnings.warn(\n",
      "[I 2025-05-03 20:24:07,069] Trial 15 finished with value: -11.304218790956968 and parameters: {'C': 0.7102847286095375, 'epsilon': 1.1046295825531423e-05, 'kernel': 'poly', 'degree': 4, 'coef0': 6.918951976926932, 'gamma': 0.03662088340054268, 'max_iter': 1957, 'scaler': 'standard', 'use_poly': True, 'poly_degree': 3}. Best is trial 7 with value: -0.0029892802148752816.\n",
      "/Users/jgfaraco/miniconda3/lib/python3.12/site-packages/sklearn/svm/_base.py:305: ConvergenceWarning: Solver terminated early (max_iter=6623).  Consider pre-processing your data with StandardScaler or MinMaxScaler.\n",
      "  warnings.warn(\n",
      "/Users/jgfaraco/miniconda3/lib/python3.12/site-packages/sklearn/svm/_base.py:305: ConvergenceWarning: Solver terminated early (max_iter=6623).  Consider pre-processing your data with StandardScaler or MinMaxScaler.\n",
      "  warnings.warn(\n",
      "/Users/jgfaraco/miniconda3/lib/python3.12/site-packages/sklearn/svm/_base.py:305: ConvergenceWarning: Solver terminated early (max_iter=6623).  Consider pre-processing your data with StandardScaler or MinMaxScaler.\n",
      "  warnings.warn(\n",
      "/Users/jgfaraco/miniconda3/lib/python3.12/site-packages/sklearn/svm/_base.py:305: ConvergenceWarning: Solver terminated early (max_iter=6623).  Consider pre-processing your data with StandardScaler or MinMaxScaler.\n",
      "  warnings.warn(\n",
      "/Users/jgfaraco/miniconda3/lib/python3.12/site-packages/sklearn/svm/_base.py:305: ConvergenceWarning: Solver terminated early (max_iter=6623).  Consider pre-processing your data with StandardScaler or MinMaxScaler.\n",
      "  warnings.warn(\n",
      "[I 2025-05-03 20:24:07,287] Trial 16 finished with value: -21577353.412829768 and parameters: {'C': 1.823488960445763, 'epsilon': 0.0046823630102616875, 'kernel': 'poly', 'degree': 5, 'coef0': 3.930977246667604, 'gamma': 1.755197073995364, 'max_iter': 6623, 'scaler': 'standard', 'use_poly': True, 'poly_degree': 3}. Best is trial 7 with value: -0.0029892802148752816.\n",
      "[I 2025-05-03 20:24:07,497] Trial 17 finished with value: -0.024658958774674104 and parameters: {'C': 0.0017627020091555566, 'epsilon': 1.3009481770360556e-05, 'kernel': 'sigmoid', 'gamma': 2.5354247855376286, 'max_iter': 3030, 'scaler': 'minmax', 'use_poly': True, 'poly_degree': 3}. Best is trial 7 with value: -0.0029892802148752816.\n",
      "[I 2025-05-03 20:24:07,629] Trial 18 finished with value: -0.003507005418810687 and parameters: {'C': 0.002267728909395629, 'epsilon': 0.0006450043973032046, 'kernel': 'linear', 'max_iter': 16518, 'scaler': 'standard', 'use_poly': False}. Best is trial 7 with value: -0.0029892802148752816.\n",
      "[I 2025-05-03 20:24:07,746] Trial 19 finished with value: -0.007989387414816081 and parameters: {'C': 0.00013202984757223246, 'epsilon': 0.0027265626977853647, 'kernel': 'linear', 'max_iter': 2935, 'scaler': 'robust', 'use_poly': False}. Best is trial 7 with value: -0.0029892802148752816.\n",
      "/Users/jgfaraco/miniconda3/lib/python3.12/site-packages/sklearn/svm/_base.py:305: ConvergenceWarning: Solver terminated early (max_iter=14385).  Consider pre-processing your data with StandardScaler or MinMaxScaler.\n",
      "  warnings.warn(\n",
      "[I 2025-05-03 20:24:07,950] Trial 20 finished with value: -0.0028893079368513454 and parameters: {'C': 0.12323645327131416, 'epsilon': 0.002273055424771213, 'kernel': 'linear', 'max_iter': 14385, 'scaler': 'minmax', 'use_poly': True, 'poly_degree': 2}. Best is trial 20 with value: -0.0028893079368513454.\n",
      "[I 2025-05-03 20:24:08,090] Trial 21 finished with value: -0.014554445542208156 and parameters: {'C': 0.2193598182745358, 'epsilon': 0.00022204896272277758, 'kernel': 'sigmoid', 'gamma': 0.00033215017827674923, 'max_iter': 1463, 'scaler': 'minmax', 'use_poly': True, 'poly_degree': 1}. Best is trial 20 with value: -0.0028893079368513454.\n",
      "[I 2025-05-03 20:24:08,282] Trial 22 finished with value: -0.015174943703563298 and parameters: {'C': 0.17817101436983127, 'epsilon': 0.0034707890588799254, 'kernel': 'rbf', 'gamma': 0.0001822616554559889, 'max_iter': 10827, 'scaler': 'minmax', 'use_poly': False}. Best is trial 20 with value: -0.0028893079368513454.\n",
      "/Users/jgfaraco/miniconda3/lib/python3.12/site-packages/sklearn/svm/_base.py:305: ConvergenceWarning: Solver terminated early (max_iter=5182).  Consider pre-processing your data with StandardScaler or MinMaxScaler.\n",
      "  warnings.warn(\n",
      "/Users/jgfaraco/miniconda3/lib/python3.12/site-packages/sklearn/svm/_base.py:305: ConvergenceWarning: Solver terminated early (max_iter=5182).  Consider pre-processing your data with StandardScaler or MinMaxScaler.\n",
      "  warnings.warn(\n",
      "/Users/jgfaraco/miniconda3/lib/python3.12/site-packages/sklearn/svm/_base.py:305: ConvergenceWarning: Solver terminated early (max_iter=5182).  Consider pre-processing your data with StandardScaler or MinMaxScaler.\n",
      "  warnings.warn(\n",
      "/Users/jgfaraco/miniconda3/lib/python3.12/site-packages/sklearn/svm/_base.py:305: ConvergenceWarning: Solver terminated early (max_iter=5182).  Consider pre-processing your data with StandardScaler or MinMaxScaler.\n",
      "  warnings.warn(\n",
      "/Users/jgfaraco/miniconda3/lib/python3.12/site-packages/sklearn/svm/_base.py:305: ConvergenceWarning: Solver terminated early (max_iter=5182).  Consider pre-processing your data with StandardScaler or MinMaxScaler.\n",
      "  warnings.warn(\n",
      "[I 2025-05-03 20:24:08,449] Trial 23 finished with value: -0.020379176906927098 and parameters: {'C': 48.7349992926976, 'epsilon': 0.018636395491045493, 'kernel': 'linear', 'max_iter': 5182, 'scaler': 'standard', 'use_poly': True, 'poly_degree': 2}. Best is trial 20 with value: -0.0028893079368513454.\n",
      "[I 2025-05-03 20:24:08,658] Trial 24 finished with value: -0.021664461702581767 and parameters: {'C': 0.783007586411321, 'epsilon': 0.0009368889293086391, 'kernel': 'rbf', 'gamma': 6.493943167807165e-06, 'max_iter': 1147, 'scaler': 'minmax', 'use_poly': True, 'poly_degree': 2}. Best is trial 20 with value: -0.0028893079368513454.\n",
      "[I 2025-05-03 20:24:08,833] Trial 25 finished with value: -0.024468828807923233 and parameters: {'C': 0.06134429310056979, 'epsilon': 6.514339544699753e-05, 'kernel': 'sigmoid', 'gamma': 2.0755254756046575e-06, 'max_iter': 3071, 'scaler': 'robust', 'use_poly': True, 'poly_degree': 1}. Best is trial 20 with value: -0.0028893079368513454.\n",
      "/Users/jgfaraco/miniconda3/lib/python3.12/site-packages/sklearn/svm/_base.py:305: ConvergenceWarning: Solver terminated early (max_iter=16783).  Consider pre-processing your data with StandardScaler or MinMaxScaler.\n",
      "  warnings.warn(\n",
      "/Users/jgfaraco/miniconda3/lib/python3.12/site-packages/sklearn/svm/_base.py:305: ConvergenceWarning: Solver terminated early (max_iter=16783).  Consider pre-processing your data with StandardScaler or MinMaxScaler.\n",
      "  warnings.warn(\n",
      "/Users/jgfaraco/miniconda3/lib/python3.12/site-packages/sklearn/svm/_base.py:305: ConvergenceWarning: Solver terminated early (max_iter=16783).  Consider pre-processing your data with StandardScaler or MinMaxScaler.\n",
      "  warnings.warn(\n",
      "/Users/jgfaraco/miniconda3/lib/python3.12/site-packages/sklearn/svm/_base.py:305: ConvergenceWarning: Solver terminated early (max_iter=16783).  Consider pre-processing your data with StandardScaler or MinMaxScaler.\n",
      "  warnings.warn(\n",
      "/Users/jgfaraco/miniconda3/lib/python3.12/site-packages/sklearn/svm/_base.py:305: ConvergenceWarning: Solver terminated early (max_iter=16783).  Consider pre-processing your data with StandardScaler or MinMaxScaler.\n",
      "  warnings.warn(\n",
      "[I 2025-05-03 20:24:09,724] Trial 26 finished with value: -0.0037295314570903134 and parameters: {'C': 1.3783332269550637, 'epsilon': 1.3322197048392301e-05, 'kernel': 'poly', 'degree': 4, 'coef0': 4.582528904915167, 'gamma': 0.006596560124991372, 'max_iter': 16783, 'scaler': 'minmax', 'use_poly': True, 'poly_degree': 1}. Best is trial 20 with value: -0.0028893079368513454.\n",
      "[I 2025-05-03 20:24:10,039] Trial 27 finished with value: -0.024528871658713796 and parameters: {'C': 1.39886113825694e-05, 'epsilon': 2.7783351902823763e-05, 'kernel': 'sigmoid', 'gamma': 1.4551358823192067e-06, 'max_iter': 11471, 'scaler': 'robust', 'use_poly': False}. Best is trial 20 with value: -0.0028893079368513454.\n",
      "[I 2025-05-03 20:24:10,184] Trial 28 finished with value: -0.08700890540167078 and parameters: {'C': 7.595709565769607, 'epsilon': 0.05963933481678987, 'kernel': 'sigmoid', 'gamma': 8.580962301550056, 'max_iter': 3441, 'scaler': 'minmax', 'use_poly': True, 'poly_degree': 2}. Best is trial 20 with value: -0.0028893079368513454.\n",
      "/Users/jgfaraco/miniconda3/lib/python3.12/site-packages/sklearn/svm/_base.py:305: ConvergenceWarning: Solver terminated early (max_iter=1032).  Consider pre-processing your data with StandardScaler or MinMaxScaler.\n",
      "  warnings.warn(\n",
      "/Users/jgfaraco/miniconda3/lib/python3.12/site-packages/sklearn/svm/_base.py:305: ConvergenceWarning: Solver terminated early (max_iter=1032).  Consider pre-processing your data with StandardScaler or MinMaxScaler.\n",
      "  warnings.warn(\n",
      "/Users/jgfaraco/miniconda3/lib/python3.12/site-packages/sklearn/svm/_base.py:305: ConvergenceWarning: Solver terminated early (max_iter=1032).  Consider pre-processing your data with StandardScaler or MinMaxScaler.\n",
      "  warnings.warn(\n",
      "/Users/jgfaraco/miniconda3/lib/python3.12/site-packages/sklearn/svm/_base.py:305: ConvergenceWarning: Solver terminated early (max_iter=1032).  Consider pre-processing your data with StandardScaler or MinMaxScaler.\n",
      "  warnings.warn(\n",
      "/Users/jgfaraco/miniconda3/lib/python3.12/site-packages/sklearn/svm/_base.py:305: ConvergenceWarning: Solver terminated early (max_iter=1032).  Consider pre-processing your data with StandardScaler or MinMaxScaler.\n",
      "  warnings.warn(\n",
      "[I 2025-05-03 20:24:10,262] Trial 29 finished with value: -0.005259328975748209 and parameters: {'C': 10.161750846220235, 'epsilon': 0.03512160322676691, 'kernel': 'poly', 'degree': 3, 'coef0': 8.955232284962005, 'gamma': 0.0005301658517108408, 'max_iter': 1032, 'scaler': 'standard', 'use_poly': False}. Best is trial 20 with value: -0.0028893079368513454.\n",
      "[I 2025-05-03 20:24:10,445] Trial 30 finished with value: -188.3708096659221 and parameters: {'C': 0.3868148201538443, 'epsilon': 0.009310738035186684, 'kernel': 'sigmoid', 'gamma': 0.18476585075392615, 'max_iter': 10711, 'scaler': 'standard', 'use_poly': False}. Best is trial 20 with value: -0.0028893079368513454.\n",
      "[I 2025-05-03 20:24:10,512] Trial 31 finished with value: -0.009815350062286447 and parameters: {'C': 0.034059950384615005, 'epsilon': 0.14835265650698604, 'kernel': 'sigmoid', 'gamma': 0.02125819777659747, 'max_iter': 1353, 'scaler': 'minmax', 'use_poly': True, 'poly_degree': 1}. Best is trial 20 with value: -0.0028893079368513454.\n",
      "[I 2025-05-03 20:24:10,580] Trial 32 finished with value: -0.02431093184370599 and parameters: {'C': 4.772014039122302e-05, 'epsilon': 0.43270287867085766, 'kernel': 'sigmoid', 'gamma': 7.980083704396254, 'max_iter': 9553, 'scaler': 'robust', 'use_poly': True, 'poly_degree': 3}. Best is trial 20 with value: -0.0028893079368513454.\n",
      "/Users/jgfaraco/miniconda3/lib/python3.12/site-packages/sklearn/svm/_base.py:305: ConvergenceWarning: Solver terminated early (max_iter=5740).  Consider pre-processing your data with StandardScaler or MinMaxScaler.\n",
      "  warnings.warn(\n",
      "/Users/jgfaraco/miniconda3/lib/python3.12/site-packages/sklearn/svm/_base.py:305: ConvergenceWarning: Solver terminated early (max_iter=5740).  Consider pre-processing your data with StandardScaler or MinMaxScaler.\n",
      "  warnings.warn(\n",
      "/Users/jgfaraco/miniconda3/lib/python3.12/site-packages/sklearn/svm/_base.py:305: ConvergenceWarning: Solver terminated early (max_iter=5740).  Consider pre-processing your data with StandardScaler or MinMaxScaler.\n",
      "  warnings.warn(\n",
      "/Users/jgfaraco/miniconda3/lib/python3.12/site-packages/sklearn/svm/_base.py:305: ConvergenceWarning: Solver terminated early (max_iter=5740).  Consider pre-processing your data with StandardScaler or MinMaxScaler.\n",
      "  warnings.warn(\n",
      "[I 2025-05-03 20:24:10,809] Trial 33 finished with value: -0.005129832392825637 and parameters: {'C': 7.754965292299121e-05, 'epsilon': 0.0020645746401044204, 'kernel': 'poly', 'degree': 2, 'coef0': 6.492103021160636, 'gamma': 0.16684536826294374, 'max_iter': 5740, 'scaler': 'standard', 'use_poly': True, 'poly_degree': 3}. Best is trial 20 with value: -0.0028893079368513454.\n",
      "[I 2025-05-03 20:24:10,861] Trial 34 finished with value: -0.024624659626067642 and parameters: {'C': 1.2509380349845527e-05, 'epsilon': 0.3609370916291666, 'kernel': 'sigmoid', 'gamma': 3.2853069554789815e-06, 'max_iter': 5254, 'scaler': 'standard', 'use_poly': True, 'poly_degree': 2}. Best is trial 20 with value: -0.0028893079368513454.\n",
      "[I 2025-05-03 20:24:10,913] Trial 35 finished with value: -0.00646714430967806 and parameters: {'C': 0.4726226112923822, 'epsilon': 0.17159888455057065, 'kernel': 'rbf', 'gamma': 0.0015473810340829227, 'max_iter': 6408, 'scaler': 'robust', 'use_poly': False}. Best is trial 20 with value: -0.0028893079368513454.\n",
      "[I 2025-05-03 20:24:10,966] Trial 36 finished with value: -0.0245908275513081 and parameters: {'C': 4.18675064327984e-05, 'epsilon': 0.3790111387303631, 'kernel': 'linear', 'max_iter': 11448, 'scaler': 'robust', 'use_poly': False}. Best is trial 20 with value: -0.0028893079368513454.\n",
      "/Users/jgfaraco/miniconda3/lib/python3.12/site-packages/sklearn/svm/_base.py:305: ConvergenceWarning: Solver terminated early (max_iter=19252).  Consider pre-processing your data with StandardScaler or MinMaxScaler.\n",
      "  warnings.warn(\n",
      "/Users/jgfaraco/miniconda3/lib/python3.12/site-packages/sklearn/svm/_base.py:305: ConvergenceWarning: Solver terminated early (max_iter=19252).  Consider pre-processing your data with StandardScaler or MinMaxScaler.\n",
      "  warnings.warn(\n",
      "/Users/jgfaraco/miniconda3/lib/python3.12/site-packages/sklearn/svm/_base.py:305: ConvergenceWarning: Solver terminated early (max_iter=19252).  Consider pre-processing your data with StandardScaler or MinMaxScaler.\n",
      "  warnings.warn(\n",
      "/Users/jgfaraco/miniconda3/lib/python3.12/site-packages/sklearn/svm/_base.py:305: ConvergenceWarning: Solver terminated early (max_iter=19252).  Consider pre-processing your data with StandardScaler or MinMaxScaler.\n",
      "  warnings.warn(\n",
      "/Users/jgfaraco/miniconda3/lib/python3.12/site-packages/sklearn/svm/_base.py:305: ConvergenceWarning: Solver terminated early (max_iter=19252).  Consider pre-processing your data with StandardScaler or MinMaxScaler.\n",
      "  warnings.warn(\n",
      "[I 2025-05-03 20:24:11,445] Trial 37 finished with value: -0.009065985963318765 and parameters: {'C': 6.393756125164365, 'epsilon': 0.007628156700463714, 'kernel': 'poly', 'degree': 2, 'coef0': 3.7646336687804958, 'gamma': 0.4719253596577226, 'max_iter': 19252, 'scaler': 'minmax', 'use_poly': True, 'poly_degree': 3}. Best is trial 20 with value: -0.0028893079368513454.\n",
      "[I 2025-05-03 20:24:11,640] Trial 38 finished with value: -0.024095574438395082 and parameters: {'C': 0.05617528421239681, 'epsilon': 0.0008896606842127647, 'kernel': 'rbf', 'gamma': 9.954597691726137, 'max_iter': 19800, 'scaler': 'robust', 'use_poly': True, 'poly_degree': 2}. Best is trial 20 with value: -0.0028893079368513454.\n",
      "[I 2025-05-03 20:24:11,690] Trial 39 finished with value: -0.025067618381208034 and parameters: {'C': 0.00010796309379202907, 'epsilon': 0.30412852782833044, 'kernel': 'rbf', 'gamma': 0.00032146894594466114, 'max_iter': 1405, 'scaler': 'robust', 'use_poly': False}. Best is trial 20 with value: -0.0028893079368513454.\n",
      "/Users/jgfaraco/miniconda3/lib/python3.12/site-packages/sklearn/svm/_base.py:305: ConvergenceWarning: Solver terminated early (max_iter=9603).  Consider pre-processing your data with StandardScaler or MinMaxScaler.\n",
      "  warnings.warn(\n",
      "/Users/jgfaraco/miniconda3/lib/python3.12/site-packages/sklearn/svm/_base.py:305: ConvergenceWarning: Solver terminated early (max_iter=9603).  Consider pre-processing your data with StandardScaler or MinMaxScaler.\n",
      "  warnings.warn(\n",
      "/Users/jgfaraco/miniconda3/lib/python3.12/site-packages/sklearn/svm/_base.py:305: ConvergenceWarning: Solver terminated early (max_iter=9603).  Consider pre-processing your data with StandardScaler or MinMaxScaler.\n",
      "  warnings.warn(\n",
      "/Users/jgfaraco/miniconda3/lib/python3.12/site-packages/sklearn/svm/_base.py:305: ConvergenceWarning: Solver terminated early (max_iter=9603).  Consider pre-processing your data with StandardScaler or MinMaxScaler.\n",
      "  warnings.warn(\n",
      "/Users/jgfaraco/miniconda3/lib/python3.12/site-packages/sklearn/svm/_base.py:305: ConvergenceWarning: Solver terminated early (max_iter=9603).  Consider pre-processing your data with StandardScaler or MinMaxScaler.\n",
      "  warnings.warn(\n",
      "[I 2025-05-03 20:24:11,940] Trial 40 finished with value: -0.0029116686973030335 and parameters: {'C': 0.26016849829674316, 'epsilon': 0.004323452605677864, 'kernel': 'linear', 'max_iter': 9603, 'scaler': 'minmax', 'use_poly': True, 'poly_degree': 2}. Best is trial 20 with value: -0.0028893079368513454.\n",
      "/Users/jgfaraco/miniconda3/lib/python3.12/site-packages/sklearn/svm/_base.py:305: ConvergenceWarning: Solver terminated early (max_iter=13242).  Consider pre-processing your data with StandardScaler or MinMaxScaler.\n",
      "  warnings.warn(\n",
      "/Users/jgfaraco/miniconda3/lib/python3.12/site-packages/sklearn/svm/_base.py:305: ConvergenceWarning: Solver terminated early (max_iter=13242).  Consider pre-processing your data with StandardScaler or MinMaxScaler.\n",
      "  warnings.warn(\n",
      "/Users/jgfaraco/miniconda3/lib/python3.12/site-packages/sklearn/svm/_base.py:305: ConvergenceWarning: Solver terminated early (max_iter=13242).  Consider pre-processing your data with StandardScaler or MinMaxScaler.\n",
      "  warnings.warn(\n",
      "/Users/jgfaraco/miniconda3/lib/python3.12/site-packages/sklearn/svm/_base.py:305: ConvergenceWarning: Solver terminated early (max_iter=13242).  Consider pre-processing your data with StandardScaler or MinMaxScaler.\n",
      "  warnings.warn(\n",
      "/Users/jgfaraco/miniconda3/lib/python3.12/site-packages/sklearn/svm/_base.py:305: ConvergenceWarning: Solver terminated early (max_iter=13242).  Consider pre-processing your data with StandardScaler or MinMaxScaler.\n",
      "  warnings.warn(\n",
      "[I 2025-05-03 20:24:12,293] Trial 41 finished with value: -0.035514312880147905 and parameters: {'C': 0.524012316477032, 'epsilon': 0.0006968559335551808, 'kernel': 'poly', 'degree': 5, 'coef0': 3.9654278232127016, 'gamma': 0.022625954091337976, 'max_iter': 13242, 'scaler': 'standard', 'use_poly': True, 'poly_degree': 2}. Best is trial 20 with value: -0.0028893079368513454.\n",
      "/Users/jgfaraco/miniconda3/lib/python3.12/site-packages/sklearn/svm/_base.py:305: ConvergenceWarning: Solver terminated early (max_iter=1515).  Consider pre-processing your data with StandardScaler or MinMaxScaler.\n",
      "  warnings.warn(\n",
      "/Users/jgfaraco/miniconda3/lib/python3.12/site-packages/sklearn/svm/_base.py:305: ConvergenceWarning: Solver terminated early (max_iter=1515).  Consider pre-processing your data with StandardScaler or MinMaxScaler.\n",
      "  warnings.warn(\n",
      "/Users/jgfaraco/miniconda3/lib/python3.12/site-packages/sklearn/svm/_base.py:305: ConvergenceWarning: Solver terminated early (max_iter=1515).  Consider pre-processing your data with StandardScaler or MinMaxScaler.\n",
      "  warnings.warn(\n",
      "/Users/jgfaraco/miniconda3/lib/python3.12/site-packages/sklearn/svm/_base.py:305: ConvergenceWarning: Solver terminated early (max_iter=1515).  Consider pre-processing your data with StandardScaler or MinMaxScaler.\n",
      "  warnings.warn(\n",
      "/Users/jgfaraco/miniconda3/lib/python3.12/site-packages/sklearn/svm/_base.py:305: ConvergenceWarning: Solver terminated early (max_iter=1515).  Consider pre-processing your data with StandardScaler or MinMaxScaler.\n",
      "  warnings.warn(\n",
      "[I 2025-05-03 20:24:12,417] Trial 42 finished with value: -0.013182117180737377 and parameters: {'C': 692.2462348527533, 'epsilon': 0.0020644180483252645, 'kernel': 'poly', 'degree': 2, 'coef0': 1.2804583895777244, 'gamma': 1.1569613596958447e-05, 'max_iter': 1515, 'scaler': 'standard', 'use_poly': True, 'poly_degree': 3}. Best is trial 20 with value: -0.0028893079368513454.\n",
      "[I 2025-05-03 20:24:12,588] Trial 43 finished with value: -0.024521732715246138 and parameters: {'C': 0.00023908865539830148, 'epsilon': 8.008668760176791e-05, 'kernel': 'rbf', 'gamma': 4.177512290603947e-06, 'max_iter': 1435, 'scaler': 'standard', 'use_poly': False}. Best is trial 20 with value: -0.0028893079368513454.\n",
      "[I 2025-05-03 20:24:12,713] Trial 44 finished with value: -0.02452029256527462 and parameters: {'C': 2.062989980622066e-05, 'epsilon': 0.05706968633906919, 'kernel': 'sigmoid', 'gamma': 2.676367324512447e-06, 'max_iter': 2291, 'scaler': 'standard', 'use_poly': False}. Best is trial 20 with value: -0.0028893079368513454.\n",
      "[I 2025-05-03 20:24:12,902] Trial 45 finished with value: -0.019608679946579135 and parameters: {'C': 0.07519412006866386, 'epsilon': 0.00803823366179807, 'kernel': 'rbf', 'gamma': 5.848690100802877e-05, 'max_iter': 8473, 'scaler': 'standard', 'use_poly': False}. Best is trial 20 with value: -0.0028893079368513454.\n",
      "[I 2025-05-03 20:24:13,037] Trial 46 finished with value: -0.02083815699023906 and parameters: {'C': 0.1823635893818441, 'epsilon': 0.00013783567059787367, 'kernel': 'poly', 'degree': 2, 'coef0': 3.2749735217791462, 'gamma': 6.891835816318616e-06, 'max_iter': 14407, 'scaler': 'robust', 'use_poly': True, 'poly_degree': 2}. Best is trial 20 with value: -0.0028893079368513454.\n",
      "/Users/jgfaraco/miniconda3/lib/python3.12/site-packages/sklearn/svm/_base.py:305: ConvergenceWarning: Solver terminated early (max_iter=6923).  Consider pre-processing your data with StandardScaler or MinMaxScaler.\n",
      "  warnings.warn(\n",
      "/Users/jgfaraco/miniconda3/lib/python3.12/site-packages/sklearn/svm/_base.py:305: ConvergenceWarning: Solver terminated early (max_iter=6923).  Consider pre-processing your data with StandardScaler or MinMaxScaler.\n",
      "  warnings.warn(\n",
      "/Users/jgfaraco/miniconda3/lib/python3.12/site-packages/sklearn/svm/_base.py:305: ConvergenceWarning: Solver terminated early (max_iter=6923).  Consider pre-processing your data with StandardScaler or MinMaxScaler.\n",
      "  warnings.warn(\n",
      "/Users/jgfaraco/miniconda3/lib/python3.12/site-packages/sklearn/svm/_base.py:305: ConvergenceWarning: Solver terminated early (max_iter=6923).  Consider pre-processing your data with StandardScaler or MinMaxScaler.\n",
      "  warnings.warn(\n",
      "/Users/jgfaraco/miniconda3/lib/python3.12/site-packages/sklearn/svm/_base.py:305: ConvergenceWarning: Solver terminated early (max_iter=6923).  Consider pre-processing your data with StandardScaler or MinMaxScaler.\n",
      "  warnings.warn(\n",
      "[I 2025-05-03 20:24:13,211] Trial 47 finished with value: -0.00311626020715174 and parameters: {'C': 0.49514106239107925, 'epsilon': 0.03182714840928093, 'kernel': 'linear', 'max_iter': 6923, 'scaler': 'robust', 'use_poly': True, 'poly_degree': 1}. Best is trial 20 with value: -0.0028893079368513454.\n",
      "[I 2025-05-03 20:24:13,387] Trial 48 finished with value: -0.02450123267607874 and parameters: {'C': 0.00016706024480593474, 'epsilon': 0.0001431357071728414, 'kernel': 'rbf', 'gamma': 1.893904048361689, 'max_iter': 1271, 'scaler': 'robust', 'use_poly': False}. Best is trial 20 with value: -0.0028893079368513454.\n",
      "/Users/jgfaraco/miniconda3/lib/python3.12/site-packages/sklearn/svm/_base.py:305: ConvergenceWarning: Solver terminated early (max_iter=16186).  Consider pre-processing your data with StandardScaler or MinMaxScaler.\n",
      "  warnings.warn(\n",
      "/Users/jgfaraco/miniconda3/lib/python3.12/site-packages/sklearn/svm/_base.py:305: ConvergenceWarning: Solver terminated early (max_iter=16186).  Consider pre-processing your data with StandardScaler or MinMaxScaler.\n",
      "  warnings.warn(\n",
      "/Users/jgfaraco/miniconda3/lib/python3.12/site-packages/sklearn/svm/_base.py:305: ConvergenceWarning: Solver terminated early (max_iter=16186).  Consider pre-processing your data with StandardScaler or MinMaxScaler.\n",
      "  warnings.warn(\n",
      "/Users/jgfaraco/miniconda3/lib/python3.12/site-packages/sklearn/svm/_base.py:305: ConvergenceWarning: Solver terminated early (max_iter=16186).  Consider pre-processing your data with StandardScaler or MinMaxScaler.\n",
      "  warnings.warn(\n",
      "/Users/jgfaraco/miniconda3/lib/python3.12/site-packages/sklearn/svm/_base.py:305: ConvergenceWarning: Solver terminated early (max_iter=16186).  Consider pre-processing your data with StandardScaler or MinMaxScaler.\n",
      "  warnings.warn(\n",
      "[I 2025-05-03 20:24:13,572] Trial 49 finished with value: -0.00822637599411012 and parameters: {'C': 569.853823019525, 'epsilon': 0.11667881859326168, 'kernel': 'linear', 'max_iter': 16186, 'scaler': 'minmax', 'use_poly': True, 'poly_degree': 1}. Best is trial 20 with value: -0.0028893079368513454.\n",
      "[I 2025-05-03 20:24:13,748] Trial 50 finished with value: -0.006879039038947951 and parameters: {'C': 0.02532162127461645, 'epsilon': 0.002427984686763986, 'kernel': 'rbf', 'gamma': 0.011712983997858873, 'max_iter': 1587, 'scaler': 'minmax', 'use_poly': True, 'poly_degree': 1}. Best is trial 20 with value: -0.0028893079368513454.\n",
      "/Users/jgfaraco/miniconda3/lib/python3.12/site-packages/sklearn/svm/_base.py:305: ConvergenceWarning: Solver terminated early (max_iter=5955).  Consider pre-processing your data with StandardScaler or MinMaxScaler.\n",
      "  warnings.warn(\n",
      "/Users/jgfaraco/miniconda3/lib/python3.12/site-packages/sklearn/svm/_base.py:305: ConvergenceWarning: Solver terminated early (max_iter=5955).  Consider pre-processing your data with StandardScaler or MinMaxScaler.\n",
      "  warnings.warn(\n",
      "/Users/jgfaraco/miniconda3/lib/python3.12/site-packages/sklearn/svm/_base.py:305: ConvergenceWarning: Solver terminated early (max_iter=5955).  Consider pre-processing your data with StandardScaler or MinMaxScaler.\n",
      "  warnings.warn(\n",
      "/Users/jgfaraco/miniconda3/lib/python3.12/site-packages/sklearn/svm/_base.py:305: ConvergenceWarning: Solver terminated early (max_iter=5955).  Consider pre-processing your data with StandardScaler or MinMaxScaler.\n",
      "  warnings.warn(\n",
      "/Users/jgfaraco/miniconda3/lib/python3.12/site-packages/sklearn/svm/_base.py:305: ConvergenceWarning: Solver terminated early (max_iter=5955).  Consider pre-processing your data with StandardScaler or MinMaxScaler.\n",
      "  warnings.warn(\n",
      "[I 2025-05-03 20:24:13,930] Trial 51 finished with value: -0.10390852043833458 and parameters: {'C': 831.154688623777, 'epsilon': 0.0003271380407373631, 'kernel': 'linear', 'max_iter': 5955, 'scaler': 'standard', 'use_poly': True, 'poly_degree': 3}. Best is trial 20 with value: -0.0028893079368513454.\n",
      "[I 2025-05-03 20:24:14,028] Trial 52 finished with value: -0.007959223248860715 and parameters: {'C': 9.871378123311873e-05, 'epsilon': 0.027184687385285265, 'kernel': 'linear', 'max_iter': 5589, 'scaler': 'standard', 'use_poly': True, 'poly_degree': 1}. Best is trial 20 with value: -0.0028893079368513454.\n",
      "/Users/jgfaraco/miniconda3/lib/python3.12/site-packages/sklearn/svm/_base.py:305: ConvergenceWarning: Solver terminated early (max_iter=3726).  Consider pre-processing your data with StandardScaler or MinMaxScaler.\n",
      "  warnings.warn(\n",
      "/Users/jgfaraco/miniconda3/lib/python3.12/site-packages/sklearn/svm/_base.py:305: ConvergenceWarning: Solver terminated early (max_iter=3726).  Consider pre-processing your data with StandardScaler or MinMaxScaler.\n",
      "  warnings.warn(\n",
      "/Users/jgfaraco/miniconda3/lib/python3.12/site-packages/sklearn/svm/_base.py:305: ConvergenceWarning: Solver terminated early (max_iter=3726).  Consider pre-processing your data with StandardScaler or MinMaxScaler.\n",
      "  warnings.warn(\n",
      "/Users/jgfaraco/miniconda3/lib/python3.12/site-packages/sklearn/svm/_base.py:305: ConvergenceWarning: Solver terminated early (max_iter=3726).  Consider pre-processing your data with StandardScaler or MinMaxScaler.\n",
      "  warnings.warn(\n",
      "/Users/jgfaraco/miniconda3/lib/python3.12/site-packages/sklearn/svm/_base.py:305: ConvergenceWarning: Solver terminated early (max_iter=3726).  Consider pre-processing your data with StandardScaler or MinMaxScaler.\n",
      "  warnings.warn(\n",
      "[I 2025-05-03 20:24:14,205] Trial 53 finished with value: -0.0052960015633476375 and parameters: {'C': 32.85471935893196, 'epsilon': 0.01335801070039392, 'kernel': 'rbf', 'gamma': 0.5202308185623249, 'max_iter': 3726, 'scaler': 'minmax', 'use_poly': True, 'poly_degree': 1}. Best is trial 20 with value: -0.0028893079368513454.\n",
      "/Users/jgfaraco/miniconda3/lib/python3.12/site-packages/sklearn/svm/_base.py:305: ConvergenceWarning: Solver terminated early (max_iter=1517).  Consider pre-processing your data with StandardScaler or MinMaxScaler.\n",
      "  warnings.warn(\n",
      "/Users/jgfaraco/miniconda3/lib/python3.12/site-packages/sklearn/svm/_base.py:305: ConvergenceWarning: Solver terminated early (max_iter=1517).  Consider pre-processing your data with StandardScaler or MinMaxScaler.\n",
      "  warnings.warn(\n",
      "/Users/jgfaraco/miniconda3/lib/python3.12/site-packages/sklearn/svm/_base.py:305: ConvergenceWarning: Solver terminated early (max_iter=1517).  Consider pre-processing your data with StandardScaler or MinMaxScaler.\n",
      "  warnings.warn(\n",
      "/Users/jgfaraco/miniconda3/lib/python3.12/site-packages/sklearn/svm/_base.py:305: ConvergenceWarning: Solver terminated early (max_iter=1517).  Consider pre-processing your data with StandardScaler or MinMaxScaler.\n",
      "  warnings.warn(\n",
      "/Users/jgfaraco/miniconda3/lib/python3.12/site-packages/sklearn/svm/_base.py:305: ConvergenceWarning: Solver terminated early (max_iter=1517).  Consider pre-processing your data with StandardScaler or MinMaxScaler.\n",
      "  warnings.warn(\n",
      "[I 2025-05-03 20:24:14,295] Trial 54 finished with value: -0.03532992773440876 and parameters: {'C': 157.252147910854, 'epsilon': 0.0006366391385662076, 'kernel': 'poly', 'degree': 5, 'coef0': 6.277080530714178, 'gamma': 0.0002209730461783793, 'max_iter': 1517, 'scaler': 'standard', 'use_poly': True, 'poly_degree': 1}. Best is trial 20 with value: -0.0028893079368513454.\n",
      "[I 2025-05-03 20:24:14,495] Trial 55 finished with value: -0.30733424605949955 and parameters: {'C': 0.0031172852339266728, 'epsilon': 0.0001471102773920944, 'kernel': 'sigmoid', 'gamma': 1.3720168887808752, 'max_iter': 2786, 'scaler': 'robust', 'use_poly': False}. Best is trial 20 with value: -0.0028893079368513454.\n",
      "/Users/jgfaraco/miniconda3/lib/python3.12/site-packages/sklearn/svm/_base.py:305: ConvergenceWarning: Solver terminated early (max_iter=2816).  Consider pre-processing your data with StandardScaler or MinMaxScaler.\n",
      "  warnings.warn(\n",
      "/Users/jgfaraco/miniconda3/lib/python3.12/site-packages/sklearn/svm/_base.py:305: ConvergenceWarning: Solver terminated early (max_iter=2816).  Consider pre-processing your data with StandardScaler or MinMaxScaler.\n",
      "  warnings.warn(\n",
      "/Users/jgfaraco/miniconda3/lib/python3.12/site-packages/sklearn/svm/_base.py:305: ConvergenceWarning: Solver terminated early (max_iter=2816).  Consider pre-processing your data with StandardScaler or MinMaxScaler.\n",
      "  warnings.warn(\n",
      "/Users/jgfaraco/miniconda3/lib/python3.12/site-packages/sklearn/svm/_base.py:305: ConvergenceWarning: Solver terminated early (max_iter=2816).  Consider pre-processing your data with StandardScaler or MinMaxScaler.\n",
      "  warnings.warn(\n",
      "/Users/jgfaraco/miniconda3/lib/python3.12/site-packages/sklearn/svm/_base.py:305: ConvergenceWarning: Solver terminated early (max_iter=2816).  Consider pre-processing your data with StandardScaler or MinMaxScaler.\n",
      "  warnings.warn(\n",
      "[I 2025-05-03 20:24:14,632] Trial 56 finished with value: -0.0040281133913290055 and parameters: {'C': 23.898075356728487, 'epsilon': 5.0635778827619285e-05, 'kernel': 'poly', 'degree': 4, 'coef0': 5.427244433475962, 'gamma': 5.788864875854221e-05, 'max_iter': 2816, 'scaler': 'minmax', 'use_poly': False}. Best is trial 20 with value: -0.0028893079368513454.\n",
      "[I 2025-05-03 20:24:14,882] Trial 57 finished with value: -0.01964554141858401 and parameters: {'C': 378.67507220232494, 'epsilon': 5.255253176182601e-05, 'kernel': 'rbf', 'gamma': 1.273114201254783, 'max_iter': 16320, 'scaler': 'robust', 'use_poly': True, 'poly_degree': 2}. Best is trial 20 with value: -0.0028893079368513454.\n",
      "/Users/jgfaraco/miniconda3/lib/python3.12/site-packages/sklearn/svm/_base.py:305: ConvergenceWarning: Solver terminated early (max_iter=1452).  Consider pre-processing your data with StandardScaler or MinMaxScaler.\n",
      "  warnings.warn(\n",
      "/Users/jgfaraco/miniconda3/lib/python3.12/site-packages/sklearn/svm/_base.py:305: ConvergenceWarning: Solver terminated early (max_iter=1452).  Consider pre-processing your data with StandardScaler or MinMaxScaler.\n",
      "  warnings.warn(\n",
      "/Users/jgfaraco/miniconda3/lib/python3.12/site-packages/sklearn/svm/_base.py:305: ConvergenceWarning: Solver terminated early (max_iter=1452).  Consider pre-processing your data with StandardScaler or MinMaxScaler.\n",
      "  warnings.warn(\n",
      "/Users/jgfaraco/miniconda3/lib/python3.12/site-packages/sklearn/svm/_base.py:305: ConvergenceWarning: Solver terminated early (max_iter=1452).  Consider pre-processing your data with StandardScaler or MinMaxScaler.\n",
      "  warnings.warn(\n",
      "/Users/jgfaraco/miniconda3/lib/python3.12/site-packages/sklearn/svm/_base.py:305: ConvergenceWarning: Solver terminated early (max_iter=1452).  Consider pre-processing your data with StandardScaler or MinMaxScaler.\n",
      "  warnings.warn(\n",
      "[I 2025-05-03 20:24:15,003] Trial 58 finished with value: -0.018491907427088734 and parameters: {'C': 0.7140364318106537, 'epsilon': 0.000983959679508988, 'kernel': 'poly', 'degree': 2, 'coef0': 9.848411989623346, 'gamma': 0.7452236090789482, 'max_iter': 1452, 'scaler': 'standard', 'use_poly': True, 'poly_degree': 1}. Best is trial 20 with value: -0.0028893079368513454.\n",
      "[I 2025-05-03 20:24:15,127] Trial 59 finished with value: -0.02481044447834779 and parameters: {'C': 0.004803722742291233, 'epsilon': 0.05923580200644871, 'kernel': 'sigmoid', 'gamma': 2.7478265464594807, 'max_iter': 2821, 'scaler': 'minmax', 'use_poly': False}. Best is trial 20 with value: -0.0028893079368513454.\n",
      "[I 2025-05-03 20:24:15,318] Trial 60 finished with value: -0.02367282133480584 and parameters: {'C': 0.000133923306420297, 'epsilon': 6.742751568857137e-05, 'kernel': 'rbf', 'gamma': 0.011590934507845797, 'max_iter': 6645, 'scaler': 'minmax', 'use_poly': True, 'poly_degree': 2}. Best is trial 20 with value: -0.0028893079368513454.\n",
      "[I 2025-05-03 20:24:15,414] Trial 61 finished with value: -0.0248857037208963 and parameters: {'C': 4.817229581912974e-05, 'epsilon': 0.4833727989545204, 'kernel': 'sigmoid', 'gamma': 2.9467219060174474e-05, 'max_iter': 14736, 'scaler': 'standard', 'use_poly': False}. Best is trial 20 with value: -0.0028893079368513454.\n",
      "[I 2025-05-03 20:24:15,525] Trial 62 finished with value: -0.02454500908584933 and parameters: {'C': 3.3548191656951565e-05, 'epsilon': 0.044073851940762805, 'kernel': 'poly', 'degree': 4, 'coef0': 1.552402459307125, 'gamma': 1.877141077476388e-05, 'max_iter': 13219, 'scaler': 'standard', 'use_poly': True, 'poly_degree': 1}. Best is trial 20 with value: -0.0028893079368513454.\n",
      "[I 2025-05-03 20:24:15,627] Trial 63 finished with value: -0.007230681864957 and parameters: {'C': 0.00017750916411782684, 'epsilon': 0.02313833088338088, 'kernel': 'linear', 'max_iter': 7483, 'scaler': 'robust', 'use_poly': False}. Best is trial 20 with value: -0.0028893079368513454.\n",
      "[I 2025-05-03 20:24:15,801] Trial 64 finished with value: -0.02410469044592238 and parameters: {'C': 0.0008043818235518097, 'epsilon': 2.932730270123841e-05, 'kernel': 'rbf', 'gamma': 0.0006029547312622337, 'max_iter': 7398, 'scaler': 'robust', 'use_poly': False}. Best is trial 20 with value: -0.0028893079368513454.\n",
      "[I 2025-05-03 20:24:15,988] Trial 65 finished with value: -0.012702259437025843 and parameters: {'C': 0.00046035200729655553, 'epsilon': 1.33252090209691e-05, 'kernel': 'sigmoid', 'gamma': 0.5273572635872423, 'max_iter': 2783, 'scaler': 'robust', 'use_poly': False}. Best is trial 20 with value: -0.0028893079368513454.\n",
      "[I 2025-05-03 20:24:16,156] Trial 66 finished with value: -0.024417239136617988 and parameters: {'C': 0.01884921280248868, 'epsilon': 0.003926929855642222, 'kernel': 'rbf', 'gamma': 9.56736252218854e-06, 'max_iter': 13486, 'scaler': 'minmax', 'use_poly': True, 'poly_degree': 1}. Best is trial 20 with value: -0.0028893079368513454.\n",
      "[I 2025-05-03 20:24:16,281] Trial 67 finished with value: -0.004106236228619977 and parameters: {'C': 0.21531471796123086, 'epsilon': 0.009477529684764846, 'kernel': 'sigmoid', 'gamma': 0.004784441801241872, 'max_iter': 1672, 'scaler': 'robust', 'use_poly': False}. Best is trial 20 with value: -0.0028893079368513454.\n",
      "/Users/jgfaraco/miniconda3/lib/python3.12/site-packages/sklearn/svm/_base.py:305: ConvergenceWarning: Solver terminated early (max_iter=5986).  Consider pre-processing your data with StandardScaler or MinMaxScaler.\n",
      "  warnings.warn(\n",
      "/Users/jgfaraco/miniconda3/lib/python3.12/site-packages/sklearn/svm/_base.py:305: ConvergenceWarning: Solver terminated early (max_iter=5986).  Consider pre-processing your data with StandardScaler or MinMaxScaler.\n",
      "  warnings.warn(\n",
      "/Users/jgfaraco/miniconda3/lib/python3.12/site-packages/sklearn/svm/_base.py:305: ConvergenceWarning: Solver terminated early (max_iter=5986).  Consider pre-processing your data with StandardScaler or MinMaxScaler.\n",
      "  warnings.warn(\n",
      "/Users/jgfaraco/miniconda3/lib/python3.12/site-packages/sklearn/svm/_base.py:305: ConvergenceWarning: Solver terminated early (max_iter=5986).  Consider pre-processing your data with StandardScaler or MinMaxScaler.\n",
      "  warnings.warn(\n",
      "/Users/jgfaraco/miniconda3/lib/python3.12/site-packages/sklearn/svm/_base.py:305: ConvergenceWarning: Solver terminated early (max_iter=5986).  Consider pre-processing your data with StandardScaler or MinMaxScaler.\n",
      "  warnings.warn(\n",
      "[I 2025-05-03 20:24:16,460] Trial 68 finished with value: -0.0029052048466443967 and parameters: {'C': 0.001557549169220837, 'epsilon': 0.004018517008978283, 'kernel': 'poly', 'degree': 2, 'coef0': 9.00018641848105, 'gamma': 1.3098770798195571, 'max_iter': 5986, 'scaler': 'minmax', 'use_poly': True, 'poly_degree': 2}. Best is trial 20 with value: -0.0028893079368513454.\n",
      "[I 2025-05-03 20:24:16,597] Trial 69 finished with value: -0.007358230251694612 and parameters: {'C': 0.14169079670177182, 'epsilon': 1.6622321161456788e-05, 'kernel': 'poly', 'degree': 2, 'coef0': 3.8929561404197655, 'gamma': 0.00010491948674353243, 'max_iter': 2901, 'scaler': 'standard', 'use_poly': False}. Best is trial 20 with value: -0.0028893079368513454.\n",
      "[I 2025-05-03 20:24:16,733] Trial 70 finished with value: -0.004473042228972184 and parameters: {'C': 312.34741395001004, 'epsilon': 0.027690723991911272, 'kernel': 'sigmoid', 'gamma': 2.2907658195258316e-06, 'max_iter': 4423, 'scaler': 'robust', 'use_poly': True, 'poly_degree': 3}. Best is trial 20 with value: -0.0028893079368513454.\n",
      "[I 2025-05-03 20:24:16,972] Trial 71 finished with value: -0.009239487335187084 and parameters: {'C': 0.09203023471326863, 'epsilon': 0.017170471132502713, 'kernel': 'rbf', 'gamma': 0.07292480827159639, 'max_iter': 2259, 'scaler': 'standard', 'use_poly': True, 'poly_degree': 3}. Best is trial 20 with value: -0.0028893079368513454.\n",
      "/Users/jgfaraco/miniconda3/lib/python3.12/site-packages/sklearn/svm/_base.py:305: ConvergenceWarning: Solver terminated early (max_iter=2112).  Consider pre-processing your data with StandardScaler or MinMaxScaler.\n",
      "  warnings.warn(\n",
      "/Users/jgfaraco/miniconda3/lib/python3.12/site-packages/sklearn/svm/_base.py:305: ConvergenceWarning: Solver terminated early (max_iter=2112).  Consider pre-processing your data with StandardScaler or MinMaxScaler.\n",
      "  warnings.warn(\n",
      "/Users/jgfaraco/miniconda3/lib/python3.12/site-packages/sklearn/svm/_base.py:305: ConvergenceWarning: Solver terminated early (max_iter=2112).  Consider pre-processing your data with StandardScaler or MinMaxScaler.\n",
      "  warnings.warn(\n",
      "/Users/jgfaraco/miniconda3/lib/python3.12/site-packages/sklearn/svm/_base.py:305: ConvergenceWarning: Solver terminated early (max_iter=2112).  Consider pre-processing your data with StandardScaler or MinMaxScaler.\n",
      "  warnings.warn(\n",
      "/Users/jgfaraco/miniconda3/lib/python3.12/site-packages/sklearn/svm/_base.py:305: ConvergenceWarning: Solver terminated early (max_iter=2112).  Consider pre-processing your data with StandardScaler or MinMaxScaler.\n",
      "  warnings.warn(\n",
      "[I 2025-05-03 20:24:17,073] Trial 72 finished with value: -6604.075639886646 and parameters: {'C': 0.03698675100714994, 'epsilon': 7.411977280433383e-05, 'kernel': 'poly', 'degree': 4, 'coef0': 6.922765645178525, 'gamma': 0.8797708354749385, 'max_iter': 2112, 'scaler': 'robust', 'use_poly': True, 'poly_degree': 3}. Best is trial 20 with value: -0.0028893079368513454.\n",
      "/Users/jgfaraco/miniconda3/lib/python3.12/site-packages/sklearn/svm/_base.py:305: ConvergenceWarning: Solver terminated early (max_iter=16925).  Consider pre-processing your data with StandardScaler or MinMaxScaler.\n",
      "  warnings.warn(\n",
      "/Users/jgfaraco/miniconda3/lib/python3.12/site-packages/sklearn/svm/_base.py:305: ConvergenceWarning: Solver terminated early (max_iter=16925).  Consider pre-processing your data with StandardScaler or MinMaxScaler.\n",
      "  warnings.warn(\n",
      "/Users/jgfaraco/miniconda3/lib/python3.12/site-packages/sklearn/svm/_base.py:305: ConvergenceWarning: Solver terminated early (max_iter=16925).  Consider pre-processing your data with StandardScaler or MinMaxScaler.\n",
      "  warnings.warn(\n",
      "/Users/jgfaraco/miniconda3/lib/python3.12/site-packages/sklearn/svm/_base.py:305: ConvergenceWarning: Solver terminated early (max_iter=16925).  Consider pre-processing your data with StandardScaler or MinMaxScaler.\n",
      "  warnings.warn(\n",
      "/Users/jgfaraco/miniconda3/lib/python3.12/site-packages/sklearn/svm/_base.py:305: ConvergenceWarning: Solver terminated early (max_iter=16925).  Consider pre-processing your data with StandardScaler or MinMaxScaler.\n",
      "  warnings.warn(\n",
      "[I 2025-05-03 20:24:17,518] Trial 73 finished with value: -1.3153397392523356 and parameters: {'C': 252.34025600492913, 'epsilon': 7.055342970256349e-05, 'kernel': 'poly', 'degree': 3, 'coef0': 9.243961953765304, 'gamma': 6.272024067057101, 'max_iter': 16925, 'scaler': 'minmax', 'use_poly': False}. Best is trial 20 with value: -0.0028893079368513454.\n",
      "[I 2025-05-03 20:24:17,679] Trial 74 finished with value: -0.024524422356903653 and parameters: {'C': 1.9772476940641975e-05, 'epsilon': 0.0063365705340017635, 'kernel': 'sigmoid', 'gamma': 0.0002394003309122701, 'max_iter': 8768, 'scaler': 'robust', 'use_poly': True, 'poly_degree': 2}. Best is trial 20 with value: -0.0028893079368513454.\n",
      "[I 2025-05-03 20:24:17,895] Trial 75 finished with value: -0.015594376727425896 and parameters: {'C': 122.41143409626305, 'epsilon': 0.00783290118959502, 'kernel': 'rbf', 'gamma': 1.3271246284863902, 'max_iter': 4876, 'scaler': 'robust', 'use_poly': False}. Best is trial 20 with value: -0.0028893079368513454.\n",
      "[I 2025-05-03 20:24:18,076] Trial 76 finished with value: -0.01346149920780294 and parameters: {'C': 0.01642280396601759, 'epsilon': 0.00179854432573068, 'kernel': 'rbf', 'gamma': 0.0008401705901798732, 'max_iter': 3532, 'scaler': 'standard', 'use_poly': True, 'poly_degree': 1}. Best is trial 20 with value: -0.0028893079368513454.\n",
      "/Users/jgfaraco/miniconda3/lib/python3.12/site-packages/sklearn/svm/_base.py:305: ConvergenceWarning: Solver terminated early (max_iter=10544).  Consider pre-processing your data with StandardScaler or MinMaxScaler.\n",
      "  warnings.warn(\n",
      "/Users/jgfaraco/miniconda3/lib/python3.12/site-packages/sklearn/svm/_base.py:305: ConvergenceWarning: Solver terminated early (max_iter=10544).  Consider pre-processing your data with StandardScaler or MinMaxScaler.\n",
      "  warnings.warn(\n",
      "/Users/jgfaraco/miniconda3/lib/python3.12/site-packages/sklearn/svm/_base.py:305: ConvergenceWarning: Solver terminated early (max_iter=10544).  Consider pre-processing your data with StandardScaler or MinMaxScaler.\n",
      "  warnings.warn(\n",
      "/Users/jgfaraco/miniconda3/lib/python3.12/site-packages/sklearn/svm/_base.py:305: ConvergenceWarning: Solver terminated early (max_iter=10544).  Consider pre-processing your data with StandardScaler or MinMaxScaler.\n",
      "  warnings.warn(\n",
      "/Users/jgfaraco/miniconda3/lib/python3.12/site-packages/sklearn/svm/_base.py:305: ConvergenceWarning: Solver terminated early (max_iter=10544).  Consider pre-processing your data with StandardScaler or MinMaxScaler.\n",
      "  warnings.warn(\n",
      "[I 2025-05-03 20:24:18,387] Trial 77 finished with value: -2.844867661030409 and parameters: {'C': 0.0007393703121292927, 'epsilon': 1.5768654421731177e-05, 'kernel': 'poly', 'degree': 4, 'coef0': 2.1825388786506417, 'gamma': 4.464042160733061, 'max_iter': 10544, 'scaler': 'robust', 'use_poly': True, 'poly_degree': 2}. Best is trial 20 with value: -0.0028893079368513454.\n",
      "[I 2025-05-03 20:24:18,425] Trial 78 finished with value: -0.024450870337819612 and parameters: {'C': 0.00021690600160319474, 'epsilon': 0.45443486466425964, 'kernel': 'poly', 'degree': 4, 'coef0': 2.3066981171775867, 'gamma': 1.7206646006941663e-05, 'max_iter': 1935, 'scaler': 'minmax', 'use_poly': False}. Best is trial 20 with value: -0.0028893079368513454.\n",
      "[I 2025-05-03 20:24:18,467] Trial 79 finished with value: -0.008245255429863766 and parameters: {'C': 117.5674448875141, 'epsilon': 0.22881271283212304, 'kernel': 'linear', 'max_iter': 8044, 'scaler': 'minmax', 'use_poly': False}. Best is trial 20 with value: -0.0028893079368513454.\n",
      "/Users/jgfaraco/miniconda3/lib/python3.12/site-packages/sklearn/svm/_base.py:305: ConvergenceWarning: Solver terminated early (max_iter=11302).  Consider pre-processing your data with StandardScaler or MinMaxScaler.\n",
      "  warnings.warn(\n",
      "/Users/jgfaraco/miniconda3/lib/python3.12/site-packages/sklearn/svm/_base.py:305: ConvergenceWarning: Solver terminated early (max_iter=11302).  Consider pre-processing your data with StandardScaler or MinMaxScaler.\n",
      "  warnings.warn(\n",
      "/Users/jgfaraco/miniconda3/lib/python3.12/site-packages/sklearn/svm/_base.py:305: ConvergenceWarning: Solver terminated early (max_iter=11302).  Consider pre-processing your data with StandardScaler or MinMaxScaler.\n",
      "  warnings.warn(\n",
      "/Users/jgfaraco/miniconda3/lib/python3.12/site-packages/sklearn/svm/_base.py:305: ConvergenceWarning: Solver terminated early (max_iter=11302).  Consider pre-processing your data with StandardScaler or MinMaxScaler.\n",
      "  warnings.warn(\n",
      "/Users/jgfaraco/miniconda3/lib/python3.12/site-packages/sklearn/svm/_base.py:305: ConvergenceWarning: Solver terminated early (max_iter=11302).  Consider pre-processing your data with StandardScaler or MinMaxScaler.\n",
      "  warnings.warn(\n",
      "[I 2025-05-03 20:24:18,802] Trial 80 finished with value: -0.8180379439999766 and parameters: {'C': 0.554012391635834, 'epsilon': 0.005318726891793134, 'kernel': 'poly', 'degree': 5, 'coef0': 9.556514982297534, 'gamma': 1.0836606932950654, 'max_iter': 11302, 'scaler': 'standard', 'use_poly': True, 'poly_degree': 1}. Best is trial 20 with value: -0.0028893079368513454.\n",
      "[I 2025-05-03 20:24:19,053] Trial 81 finished with value: -0.011574364930722305 and parameters: {'C': 6.128594816239062, 'epsilon': 0.002138480059646194, 'kernel': 'rbf', 'gamma': 0.9087583165229717, 'max_iter': 4407, 'scaler': 'robust', 'use_poly': False}. Best is trial 20 with value: -0.0028893079368513454.\n",
      "/Users/jgfaraco/miniconda3/lib/python3.12/site-packages/sklearn/svm/_base.py:305: ConvergenceWarning: Solver terminated early (max_iter=13439).  Consider pre-processing your data with StandardScaler or MinMaxScaler.\n",
      "  warnings.warn(\n",
      "/Users/jgfaraco/miniconda3/lib/python3.12/site-packages/sklearn/svm/_base.py:305: ConvergenceWarning: Solver terminated early (max_iter=13439).  Consider pre-processing your data with StandardScaler or MinMaxScaler.\n",
      "  warnings.warn(\n",
      "/Users/jgfaraco/miniconda3/lib/python3.12/site-packages/sklearn/svm/_base.py:305: ConvergenceWarning: Solver terminated early (max_iter=13439).  Consider pre-processing your data with StandardScaler or MinMaxScaler.\n",
      "  warnings.warn(\n",
      "/Users/jgfaraco/miniconda3/lib/python3.12/site-packages/sklearn/svm/_base.py:305: ConvergenceWarning: Solver terminated early (max_iter=13439).  Consider pre-processing your data with StandardScaler or MinMaxScaler.\n",
      "  warnings.warn(\n",
      "/Users/jgfaraco/miniconda3/lib/python3.12/site-packages/sklearn/svm/_base.py:305: ConvergenceWarning: Solver terminated early (max_iter=13439).  Consider pre-processing your data with StandardScaler or MinMaxScaler.\n",
      "  warnings.warn(\n",
      "[I 2025-05-03 20:24:19,373] Trial 82 finished with value: -0.0029259166819916313 and parameters: {'C': 0.3356260888244435, 'epsilon': 0.00017978681212836939, 'kernel': 'linear', 'max_iter': 13439, 'scaler': 'minmax', 'use_poly': True, 'poly_degree': 3}. Best is trial 20 with value: -0.0028893079368513454.\n",
      "[I 2025-05-03 20:24:19,427] Trial 83 finished with value: -0.01112647528616217 and parameters: {'C': 0.000185712374271795, 'epsilon': 0.13777971281158796, 'kernel': 'linear', 'max_iter': 2728, 'scaler': 'robust', 'use_poly': True, 'poly_degree': 1}. Best is trial 20 with value: -0.0028893079368513454.\n",
      "[I 2025-05-03 20:24:19,549] Trial 84 finished with value: -0.0035771111314127973 and parameters: {'C': 0.0019783588286225963, 'epsilon': 0.007923573380833568, 'kernel': 'linear', 'max_iter': 5040, 'scaler': 'standard', 'use_poly': False}. Best is trial 20 with value: -0.0028893079368513454.\n",
      "[I 2025-05-03 20:24:19,721] Trial 85 finished with value: -0.02451062038624189 and parameters: {'C': 0.005432219726658192, 'epsilon': 0.009390123407617829, 'kernel': 'rbf', 'gamma': 2.9844163716326052e-06, 'max_iter': 2463, 'scaler': 'standard', 'use_poly': False}. Best is trial 20 with value: -0.0028893079368513454.\n",
      "[I 2025-05-03 20:24:19,796] Trial 86 finished with value: -0.019450053984089125 and parameters: {'C': 2.322395976935722e-05, 'epsilon': 0.12454471689727908, 'kernel': 'linear', 'max_iter': 9693, 'scaler': 'robust', 'use_poly': False}. Best is trial 20 with value: -0.0028893079368513454.\n",
      "/Users/jgfaraco/miniconda3/lib/python3.12/site-packages/sklearn/svm/_base.py:305: ConvergenceWarning: Solver terminated early (max_iter=1937).  Consider pre-processing your data with StandardScaler or MinMaxScaler.\n",
      "  warnings.warn(\n",
      "/Users/jgfaraco/miniconda3/lib/python3.12/site-packages/sklearn/svm/_base.py:305: ConvergenceWarning: Solver terminated early (max_iter=1937).  Consider pre-processing your data with StandardScaler or MinMaxScaler.\n",
      "  warnings.warn(\n",
      "/Users/jgfaraco/miniconda3/lib/python3.12/site-packages/sklearn/svm/_base.py:305: ConvergenceWarning: Solver terminated early (max_iter=1937).  Consider pre-processing your data with StandardScaler or MinMaxScaler.\n",
      "  warnings.warn(\n",
      "/Users/jgfaraco/miniconda3/lib/python3.12/site-packages/sklearn/svm/_base.py:305: ConvergenceWarning: Solver terminated early (max_iter=1937).  Consider pre-processing your data with StandardScaler or MinMaxScaler.\n",
      "  warnings.warn(\n",
      "/Users/jgfaraco/miniconda3/lib/python3.12/site-packages/sklearn/svm/_base.py:305: ConvergenceWarning: Solver terminated early (max_iter=1937).  Consider pre-processing your data with StandardScaler or MinMaxScaler.\n",
      "  warnings.warn(\n",
      "[I 2025-05-03 20:24:19,910] Trial 87 finished with value: -0.005992650318718193 and parameters: {'C': 2.926597604990691, 'epsilon': 0.0012453271088345799, 'kernel': 'poly', 'degree': 2, 'coef0': 7.948095487499294, 'gamma': 0.07174234704329911, 'max_iter': 1937, 'scaler': 'minmax', 'use_poly': False}. Best is trial 20 with value: -0.0028893079368513454.\n",
      "[I 2025-05-03 20:24:20,048] Trial 88 finished with value: -0.006654748675947832 and parameters: {'C': 0.0001616081036767941, 'epsilon': 0.0010752965735761487, 'kernel': 'linear', 'max_iter': 2273, 'scaler': 'standard', 'use_poly': True, 'poly_degree': 1}. Best is trial 20 with value: -0.0028893079368513454.\n",
      "[I 2025-05-03 20:24:20,300] Trial 89 finished with value: -0.01006104538080335 and parameters: {'C': 1.6343106206752958, 'epsilon': 0.0005391309137385027, 'kernel': 'rbf', 'gamma': 1.2032674696101433, 'max_iter': 10241, 'scaler': 'minmax', 'use_poly': True, 'poly_degree': 1}. Best is trial 20 with value: -0.0028893079368513454.\n",
      "/Users/jgfaraco/miniconda3/lib/python3.12/site-packages/sklearn/svm/_base.py:305: ConvergenceWarning: Solver terminated early (max_iter=7796).  Consider pre-processing your data with StandardScaler or MinMaxScaler.\n",
      "  warnings.warn(\n",
      "/Users/jgfaraco/miniconda3/lib/python3.12/site-packages/sklearn/svm/_base.py:305: ConvergenceWarning: Solver terminated early (max_iter=7796).  Consider pre-processing your data with StandardScaler or MinMaxScaler.\n",
      "  warnings.warn(\n",
      "/Users/jgfaraco/miniconda3/lib/python3.12/site-packages/sklearn/svm/_base.py:305: ConvergenceWarning: Solver terminated early (max_iter=7796).  Consider pre-processing your data with StandardScaler or MinMaxScaler.\n",
      "  warnings.warn(\n",
      "/Users/jgfaraco/miniconda3/lib/python3.12/site-packages/sklearn/svm/_base.py:305: ConvergenceWarning: Solver terminated early (max_iter=7796).  Consider pre-processing your data with StandardScaler or MinMaxScaler.\n",
      "  warnings.warn(\n",
      "/Users/jgfaraco/miniconda3/lib/python3.12/site-packages/sklearn/svm/_base.py:305: ConvergenceWarning: Solver terminated early (max_iter=7796).  Consider pre-processing your data with StandardScaler or MinMaxScaler.\n",
      "  warnings.warn(\n",
      "[I 2025-05-03 20:24:20,504] Trial 90 finished with value: -0.015192303937438905 and parameters: {'C': 232.69271266913515, 'epsilon': 0.007899895220349831, 'kernel': 'linear', 'max_iter': 7796, 'scaler': 'robust', 'use_poly': False}. Best is trial 20 with value: -0.0028893079368513454.\n",
      "[I 2025-05-03 20:24:20,638] Trial 91 finished with value: -0.005117809613876463 and parameters: {'C': 0.0014188851240587658, 'epsilon': 0.0559379170483338, 'kernel': 'poly', 'degree': 3, 'coef0': 4.799388347171235, 'gamma': 0.015854181905563362, 'max_iter': 2395, 'scaler': 'minmax', 'use_poly': False}. Best is trial 20 with value: -0.0028893079368513454.\n",
      "[I 2025-05-03 20:24:20,783] Trial 92 finished with value: -0.008352784610547222 and parameters: {'C': 6.909417368303303e-05, 'epsilon': 0.00013720257721389046, 'kernel': 'linear', 'max_iter': 8201, 'scaler': 'standard', 'use_poly': True, 'poly_degree': 2}. Best is trial 20 with value: -0.0028893079368513454.\n",
      "[I 2025-05-03 20:24:21,031] Trial 93 finished with value: -0.023078241710043898 and parameters: {'C': 1.843422442010901e-05, 'epsilon': 2.3401193144232767e-05, 'kernel': 'sigmoid', 'gamma': 0.40188971659082756, 'max_iter': 1821, 'scaler': 'robust', 'use_poly': True, 'poly_degree': 3}. Best is trial 20 with value: -0.0028893079368513454.\n",
      "[I 2025-05-03 20:24:21,196] Trial 94 finished with value: -0.024492849446473786 and parameters: {'C': 2.6047753252920978e-05, 'epsilon': 0.0034957087615603262, 'kernel': 'poly', 'degree': 3, 'coef0': 8.148251137465122, 'gamma': 3.63750772821312e-06, 'max_iter': 14594, 'scaler': 'minmax', 'use_poly': True, 'poly_degree': 3}. Best is trial 20 with value: -0.0028893079368513454.\n",
      "[I 2025-05-03 20:24:21,384] Trial 95 finished with value: -0.02452002727485051 and parameters: {'C': 4.4982113416188995e-05, 'epsilon': 1.9212887172459308e-05, 'kernel': 'rbf', 'gamma': 6.777301255333955, 'max_iter': 2743, 'scaler': 'minmax', 'use_poly': False}. Best is trial 20 with value: -0.0028893079368513454.\n",
      "/Users/jgfaraco/miniconda3/lib/python3.12/site-packages/sklearn/svm/_base.py:305: ConvergenceWarning: Solver terminated early (max_iter=7672).  Consider pre-processing your data with StandardScaler or MinMaxScaler.\n",
      "  warnings.warn(\n",
      "/Users/jgfaraco/miniconda3/lib/python3.12/site-packages/sklearn/svm/_base.py:305: ConvergenceWarning: Solver terminated early (max_iter=7672).  Consider pre-processing your data with StandardScaler or MinMaxScaler.\n",
      "  warnings.warn(\n",
      "/Users/jgfaraco/miniconda3/lib/python3.12/site-packages/sklearn/svm/_base.py:305: ConvergenceWarning: Solver terminated early (max_iter=7672).  Consider pre-processing your data with StandardScaler or MinMaxScaler.\n",
      "  warnings.warn(\n",
      "/Users/jgfaraco/miniconda3/lib/python3.12/site-packages/sklearn/svm/_base.py:305: ConvergenceWarning: Solver terminated early (max_iter=7672).  Consider pre-processing your data with StandardScaler or MinMaxScaler.\n",
      "  warnings.warn(\n",
      "/Users/jgfaraco/miniconda3/lib/python3.12/site-packages/sklearn/svm/_base.py:305: ConvergenceWarning: Solver terminated early (max_iter=7672).  Consider pre-processing your data with StandardScaler or MinMaxScaler.\n",
      "  warnings.warn(\n",
      "[I 2025-05-03 20:24:21,599] Trial 96 finished with value: -0.008822819029247964 and parameters: {'C': 5.67040692400147, 'epsilon': 0.00011844097582971238, 'kernel': 'linear', 'max_iter': 7672, 'scaler': 'robust', 'use_poly': False}. Best is trial 20 with value: -0.0028893079368513454.\n",
      "[I 2025-05-03 20:24:21,714] Trial 97 finished with value: -0.01987032131675332 and parameters: {'C': 6.566781380741867, 'epsilon': 0.030899799764868754, 'kernel': 'sigmoid', 'gamma': 1.9088172008612093e-06, 'max_iter': 13428, 'scaler': 'robust', 'use_poly': False}. Best is trial 20 with value: -0.0028893079368513454.\n",
      "/Users/jgfaraco/miniconda3/lib/python3.12/site-packages/sklearn/svm/_base.py:305: ConvergenceWarning: Solver terminated early (max_iter=6631).  Consider pre-processing your data with StandardScaler or MinMaxScaler.\n",
      "  warnings.warn(\n",
      "/Users/jgfaraco/miniconda3/lib/python3.12/site-packages/sklearn/svm/_base.py:305: ConvergenceWarning: Solver terminated early (max_iter=6631).  Consider pre-processing your data with StandardScaler or MinMaxScaler.\n",
      "  warnings.warn(\n",
      "/Users/jgfaraco/miniconda3/lib/python3.12/site-packages/sklearn/svm/_base.py:305: ConvergenceWarning: Solver terminated early (max_iter=6631).  Consider pre-processing your data with StandardScaler or MinMaxScaler.\n",
      "  warnings.warn(\n",
      "/Users/jgfaraco/miniconda3/lib/python3.12/site-packages/sklearn/svm/_base.py:305: ConvergenceWarning: Solver terminated early (max_iter=6631).  Consider pre-processing your data with StandardScaler or MinMaxScaler.\n",
      "  warnings.warn(\n",
      "/Users/jgfaraco/miniconda3/lib/python3.12/site-packages/sklearn/svm/_base.py:305: ConvergenceWarning: Solver terminated early (max_iter=6631).  Consider pre-processing your data with StandardScaler or MinMaxScaler.\n",
      "  warnings.warn(\n",
      "[I 2025-05-03 20:24:21,982] Trial 98 finished with value: -0.005879275350990197 and parameters: {'C': 160.55170134587584, 'epsilon': 0.0009586365549287515, 'kernel': 'rbf', 'gamma': 0.022949122540467323, 'max_iter': 6631, 'scaler': 'standard', 'use_poly': True, 'poly_degree': 1}. Best is trial 20 with value: -0.0028893079368513454.\n",
      "/Users/jgfaraco/miniconda3/lib/python3.12/site-packages/sklearn/svm/_base.py:305: ConvergenceWarning: Solver terminated early (max_iter=4674).  Consider pre-processing your data with StandardScaler or MinMaxScaler.\n",
      "  warnings.warn(\n",
      "/Users/jgfaraco/miniconda3/lib/python3.12/site-packages/sklearn/svm/_base.py:305: ConvergenceWarning: Solver terminated early (max_iter=4674).  Consider pre-processing your data with StandardScaler or MinMaxScaler.\n",
      "  warnings.warn(\n",
      "/Users/jgfaraco/miniconda3/lib/python3.12/site-packages/sklearn/svm/_base.py:305: ConvergenceWarning: Solver terminated early (max_iter=4674).  Consider pre-processing your data with StandardScaler or MinMaxScaler.\n",
      "  warnings.warn(\n",
      "/Users/jgfaraco/miniconda3/lib/python3.12/site-packages/sklearn/svm/_base.py:305: ConvergenceWarning: Solver terminated early (max_iter=4674).  Consider pre-processing your data with StandardScaler or MinMaxScaler.\n",
      "  warnings.warn(\n",
      "/Users/jgfaraco/miniconda3/lib/python3.12/site-packages/sklearn/svm/_base.py:305: ConvergenceWarning: Solver terminated early (max_iter=4674).  Consider pre-processing your data with StandardScaler or MinMaxScaler.\n",
      "  warnings.warn(\n",
      "[I 2025-05-03 20:24:22,164] Trial 99 finished with value: -0.003856028984571794 and parameters: {'C': 590.4195811332573, 'epsilon': 7.086067292246445e-05, 'kernel': 'sigmoid', 'gamma': 0.0013095943267601633, 'max_iter': 4674, 'scaler': 'minmax', 'use_poly': False}. Best is trial 20 with value: -0.0028893079368513454.\n"
     ]
    }
   ],
   "source": [
    "study.optimize(objective, n_trials=100)"
   ]
  },
  {
   "cell_type": "code",
   "execution_count": 369,
   "metadata": {},
   "outputs": [
    {
     "data": {
      "application/vnd.plotly.v1+json": {
       "config": {
        "plotlyServerURL": "https://plot.ly"
       },
       "data": [
        {
         "mode": "markers",
         "name": "Objective Value",
         "type": "scatter",
         "x": [
          0,
          1,
          2,
          3,
          4,
          5,
          6,
          7,
          8,
          9,
          10,
          11,
          12,
          13,
          14,
          15,
          16,
          17,
          18,
          19,
          20,
          21,
          22,
          23,
          24,
          25,
          26,
          27,
          28,
          29,
          30,
          31,
          32,
          33,
          34,
          35,
          36,
          37,
          38,
          39,
          40,
          41,
          42,
          43,
          44,
          45,
          46,
          47,
          48,
          49,
          50,
          51,
          52,
          53,
          54,
          55,
          56,
          57,
          58,
          59,
          60,
          61,
          62,
          63,
          64,
          65,
          66,
          67,
          68,
          69,
          70,
          71,
          72,
          73,
          74,
          75,
          76,
          77,
          78,
          79,
          80,
          81,
          82,
          83,
          84,
          85,
          86,
          87,
          88,
          89,
          90,
          91,
          92,
          93,
          94,
          95,
          96,
          97,
          98,
          99
         ],
         "y": [
          -0.009187839725991067,
          -0.003108862998722367,
          -0.006259086200184061,
          -0.0034067731188198785,
          -0.023457493137687486,
          -0.006462703510971073,
          -2455.6005172858613,
          -0.0029892802148752816,
          -2580656.735583416,
          -728577885.0879266,
          -5653706842.81967,
          -0.0037451926007259703,
          -0.007154986500964765,
          -0.02599533117607223,
          -952105596.6707432,
          -11.304218790956968,
          -21577353.412829768,
          -0.024658958774674104,
          -0.003507005418810687,
          -0.007989387414816081,
          -0.0028893079368513454,
          -0.014554445542208156,
          -0.015174943703563298,
          -0.020379176906927098,
          -0.021664461702581767,
          -0.024468828807923233,
          -0.0037295314570903134,
          -0.024528871658713796,
          -0.08700890540167078,
          -0.005259328975748209,
          -188.3708096659221,
          -0.009815350062286447,
          -0.02431093184370599,
          -0.005129832392825637,
          -0.024624659626067642,
          -0.00646714430967806,
          -0.0245908275513081,
          -0.009065985963318765,
          -0.024095574438395082,
          -0.025067618381208034,
          -0.0029116686973030335,
          -0.035514312880147905,
          -0.013182117180737377,
          -0.024521732715246138,
          -0.02452029256527462,
          -0.019608679946579135,
          -0.02083815699023906,
          -0.00311626020715174,
          -0.02450123267607874,
          -0.00822637599411012,
          -0.006879039038947951,
          -0.10390852043833458,
          -0.007959223248860715,
          -0.0052960015633476375,
          -0.03532992773440876,
          -0.30733424605949955,
          -0.0040281133913290055,
          -0.01964554141858401,
          -0.018491907427088734,
          -0.02481044447834779,
          -0.02367282133480584,
          -0.0248857037208963,
          -0.02454500908584933,
          -0.007230681864957,
          -0.02410469044592238,
          -0.012702259437025843,
          -0.024417239136617988,
          -0.004106236228619977,
          -0.0029052048466443967,
          -0.007358230251694612,
          -0.004473042228972184,
          -0.009239487335187084,
          -6604.075639886646,
          -1.3153397392523356,
          -0.024524422356903653,
          -0.015594376727425896,
          -0.01346149920780294,
          -2.844867661030409,
          -0.024450870337819612,
          -0.008245255429863766,
          -0.8180379439999766,
          -0.011574364930722305,
          -0.0029259166819916313,
          -0.01112647528616217,
          -0.0035771111314127973,
          -0.02451062038624189,
          -0.019450053984089125,
          -0.005992650318718193,
          -0.006654748675947832,
          -0.01006104538080335,
          -0.015192303937438905,
          -0.005117809613876463,
          -0.008352784610547222,
          -0.023078241710043898,
          -0.024492849446473786,
          -0.02452002727485051,
          -0.008822819029247964,
          -0.01987032131675332,
          -0.005879275350990197,
          -0.003856028984571794
         ]
        },
        {
         "mode": "lines",
         "name": "Best Value",
         "type": "scatter",
         "x": [
          0,
          1,
          2,
          3,
          4,
          5,
          6,
          7,
          8,
          9,
          10,
          11,
          12,
          13,
          14,
          15,
          16,
          17,
          18,
          19,
          20,
          21,
          22,
          23,
          24,
          25,
          26,
          27,
          28,
          29,
          30,
          31,
          32,
          33,
          34,
          35,
          36,
          37,
          38,
          39,
          40,
          41,
          42,
          43,
          44,
          45,
          46,
          47,
          48,
          49,
          50,
          51,
          52,
          53,
          54,
          55,
          56,
          57,
          58,
          59,
          60,
          61,
          62,
          63,
          64,
          65,
          66,
          67,
          68,
          69,
          70,
          71,
          72,
          73,
          74,
          75,
          76,
          77,
          78,
          79,
          80,
          81,
          82,
          83,
          84,
          85,
          86,
          87,
          88,
          89,
          90,
          91,
          92,
          93,
          94,
          95,
          96,
          97,
          98,
          99
         ],
         "y": [
          -0.009187839725991067,
          -0.003108862998722367,
          -0.003108862998722367,
          -0.003108862998722367,
          -0.003108862998722367,
          -0.003108862998722367,
          -0.003108862998722367,
          -0.0029892802148752816,
          -0.0029892802148752816,
          -0.0029892802148752816,
          -0.0029892802148752816,
          -0.0029892802148752816,
          -0.0029892802148752816,
          -0.0029892802148752816,
          -0.0029892802148752816,
          -0.0029892802148752816,
          -0.0029892802148752816,
          -0.0029892802148752816,
          -0.0029892802148752816,
          -0.0029892802148752816,
          -0.0028893079368513454,
          -0.0028893079368513454,
          -0.0028893079368513454,
          -0.0028893079368513454,
          -0.0028893079368513454,
          -0.0028893079368513454,
          -0.0028893079368513454,
          -0.0028893079368513454,
          -0.0028893079368513454,
          -0.0028893079368513454,
          -0.0028893079368513454,
          -0.0028893079368513454,
          -0.0028893079368513454,
          -0.0028893079368513454,
          -0.0028893079368513454,
          -0.0028893079368513454,
          -0.0028893079368513454,
          -0.0028893079368513454,
          -0.0028893079368513454,
          -0.0028893079368513454,
          -0.0028893079368513454,
          -0.0028893079368513454,
          -0.0028893079368513454,
          -0.0028893079368513454,
          -0.0028893079368513454,
          -0.0028893079368513454,
          -0.0028893079368513454,
          -0.0028893079368513454,
          -0.0028893079368513454,
          -0.0028893079368513454,
          -0.0028893079368513454,
          -0.0028893079368513454,
          -0.0028893079368513454,
          -0.0028893079368513454,
          -0.0028893079368513454,
          -0.0028893079368513454,
          -0.0028893079368513454,
          -0.0028893079368513454,
          -0.0028893079368513454,
          -0.0028893079368513454,
          -0.0028893079368513454,
          -0.0028893079368513454,
          -0.0028893079368513454,
          -0.0028893079368513454,
          -0.0028893079368513454,
          -0.0028893079368513454,
          -0.0028893079368513454,
          -0.0028893079368513454,
          -0.0028893079368513454,
          -0.0028893079368513454,
          -0.0028893079368513454,
          -0.0028893079368513454,
          -0.0028893079368513454,
          -0.0028893079368513454,
          -0.0028893079368513454,
          -0.0028893079368513454,
          -0.0028893079368513454,
          -0.0028893079368513454,
          -0.0028893079368513454,
          -0.0028893079368513454,
          -0.0028893079368513454,
          -0.0028893079368513454,
          -0.0028893079368513454,
          -0.0028893079368513454,
          -0.0028893079368513454,
          -0.0028893079368513454,
          -0.0028893079368513454,
          -0.0028893079368513454,
          -0.0028893079368513454,
          -0.0028893079368513454,
          -0.0028893079368513454,
          -0.0028893079368513454,
          -0.0028893079368513454,
          -0.0028893079368513454,
          -0.0028893079368513454,
          -0.0028893079368513454,
          -0.0028893079368513454,
          -0.0028893079368513454,
          -0.0028893079368513454,
          -0.0028893079368513454
         ]
        },
        {
         "marker": {
          "color": "#cccccc"
         },
         "mode": "markers",
         "name": "Infeasible Trial",
         "showlegend": false,
         "type": "scatter",
         "x": [],
         "y": []
        }
       ],
       "layout": {
        "template": {
         "data": {
          "bar": [
           {
            "error_x": {
             "color": "#2a3f5f"
            },
            "error_y": {
             "color": "#2a3f5f"
            },
            "marker": {
             "line": {
              "color": "#E5ECF6",
              "width": 0.5
             },
             "pattern": {
              "fillmode": "overlay",
              "size": 10,
              "solidity": 0.2
             }
            },
            "type": "bar"
           }
          ],
          "barpolar": [
           {
            "marker": {
             "line": {
              "color": "#E5ECF6",
              "width": 0.5
             },
             "pattern": {
              "fillmode": "overlay",
              "size": 10,
              "solidity": 0.2
             }
            },
            "type": "barpolar"
           }
          ],
          "carpet": [
           {
            "aaxis": {
             "endlinecolor": "#2a3f5f",
             "gridcolor": "white",
             "linecolor": "white",
             "minorgridcolor": "white",
             "startlinecolor": "#2a3f5f"
            },
            "baxis": {
             "endlinecolor": "#2a3f5f",
             "gridcolor": "white",
             "linecolor": "white",
             "minorgridcolor": "white",
             "startlinecolor": "#2a3f5f"
            },
            "type": "carpet"
           }
          ],
          "choropleth": [
           {
            "colorbar": {
             "outlinewidth": 0,
             "ticks": ""
            },
            "type": "choropleth"
           }
          ],
          "contour": [
           {
            "colorbar": {
             "outlinewidth": 0,
             "ticks": ""
            },
            "colorscale": [
             [
              0,
              "#0d0887"
             ],
             [
              0.1111111111111111,
              "#46039f"
             ],
             [
              0.2222222222222222,
              "#7201a8"
             ],
             [
              0.3333333333333333,
              "#9c179e"
             ],
             [
              0.4444444444444444,
              "#bd3786"
             ],
             [
              0.5555555555555556,
              "#d8576b"
             ],
             [
              0.6666666666666666,
              "#ed7953"
             ],
             [
              0.7777777777777778,
              "#fb9f3a"
             ],
             [
              0.8888888888888888,
              "#fdca26"
             ],
             [
              1,
              "#f0f921"
             ]
            ],
            "type": "contour"
           }
          ],
          "contourcarpet": [
           {
            "colorbar": {
             "outlinewidth": 0,
             "ticks": ""
            },
            "type": "contourcarpet"
           }
          ],
          "heatmap": [
           {
            "colorbar": {
             "outlinewidth": 0,
             "ticks": ""
            },
            "colorscale": [
             [
              0,
              "#0d0887"
             ],
             [
              0.1111111111111111,
              "#46039f"
             ],
             [
              0.2222222222222222,
              "#7201a8"
             ],
             [
              0.3333333333333333,
              "#9c179e"
             ],
             [
              0.4444444444444444,
              "#bd3786"
             ],
             [
              0.5555555555555556,
              "#d8576b"
             ],
             [
              0.6666666666666666,
              "#ed7953"
             ],
             [
              0.7777777777777778,
              "#fb9f3a"
             ],
             [
              0.8888888888888888,
              "#fdca26"
             ],
             [
              1,
              "#f0f921"
             ]
            ],
            "type": "heatmap"
           }
          ],
          "histogram": [
           {
            "marker": {
             "pattern": {
              "fillmode": "overlay",
              "size": 10,
              "solidity": 0.2
             }
            },
            "type": "histogram"
           }
          ],
          "histogram2d": [
           {
            "colorbar": {
             "outlinewidth": 0,
             "ticks": ""
            },
            "colorscale": [
             [
              0,
              "#0d0887"
             ],
             [
              0.1111111111111111,
              "#46039f"
             ],
             [
              0.2222222222222222,
              "#7201a8"
             ],
             [
              0.3333333333333333,
              "#9c179e"
             ],
             [
              0.4444444444444444,
              "#bd3786"
             ],
             [
              0.5555555555555556,
              "#d8576b"
             ],
             [
              0.6666666666666666,
              "#ed7953"
             ],
             [
              0.7777777777777778,
              "#fb9f3a"
             ],
             [
              0.8888888888888888,
              "#fdca26"
             ],
             [
              1,
              "#f0f921"
             ]
            ],
            "type": "histogram2d"
           }
          ],
          "histogram2dcontour": [
           {
            "colorbar": {
             "outlinewidth": 0,
             "ticks": ""
            },
            "colorscale": [
             [
              0,
              "#0d0887"
             ],
             [
              0.1111111111111111,
              "#46039f"
             ],
             [
              0.2222222222222222,
              "#7201a8"
             ],
             [
              0.3333333333333333,
              "#9c179e"
             ],
             [
              0.4444444444444444,
              "#bd3786"
             ],
             [
              0.5555555555555556,
              "#d8576b"
             ],
             [
              0.6666666666666666,
              "#ed7953"
             ],
             [
              0.7777777777777778,
              "#fb9f3a"
             ],
             [
              0.8888888888888888,
              "#fdca26"
             ],
             [
              1,
              "#f0f921"
             ]
            ],
            "type": "histogram2dcontour"
           }
          ],
          "mesh3d": [
           {
            "colorbar": {
             "outlinewidth": 0,
             "ticks": ""
            },
            "type": "mesh3d"
           }
          ],
          "parcoords": [
           {
            "line": {
             "colorbar": {
              "outlinewidth": 0,
              "ticks": ""
             }
            },
            "type": "parcoords"
           }
          ],
          "pie": [
           {
            "automargin": true,
            "type": "pie"
           }
          ],
          "scatter": [
           {
            "fillpattern": {
             "fillmode": "overlay",
             "size": 10,
             "solidity": 0.2
            },
            "type": "scatter"
           }
          ],
          "scatter3d": [
           {
            "line": {
             "colorbar": {
              "outlinewidth": 0,
              "ticks": ""
             }
            },
            "marker": {
             "colorbar": {
              "outlinewidth": 0,
              "ticks": ""
             }
            },
            "type": "scatter3d"
           }
          ],
          "scattercarpet": [
           {
            "marker": {
             "colorbar": {
              "outlinewidth": 0,
              "ticks": ""
             }
            },
            "type": "scattercarpet"
           }
          ],
          "scattergeo": [
           {
            "marker": {
             "colorbar": {
              "outlinewidth": 0,
              "ticks": ""
             }
            },
            "type": "scattergeo"
           }
          ],
          "scattergl": [
           {
            "marker": {
             "colorbar": {
              "outlinewidth": 0,
              "ticks": ""
             }
            },
            "type": "scattergl"
           }
          ],
          "scattermap": [
           {
            "marker": {
             "colorbar": {
              "outlinewidth": 0,
              "ticks": ""
             }
            },
            "type": "scattermap"
           }
          ],
          "scattermapbox": [
           {
            "marker": {
             "colorbar": {
              "outlinewidth": 0,
              "ticks": ""
             }
            },
            "type": "scattermapbox"
           }
          ],
          "scatterpolar": [
           {
            "marker": {
             "colorbar": {
              "outlinewidth": 0,
              "ticks": ""
             }
            },
            "type": "scatterpolar"
           }
          ],
          "scatterpolargl": [
           {
            "marker": {
             "colorbar": {
              "outlinewidth": 0,
              "ticks": ""
             }
            },
            "type": "scatterpolargl"
           }
          ],
          "scatterternary": [
           {
            "marker": {
             "colorbar": {
              "outlinewidth": 0,
              "ticks": ""
             }
            },
            "type": "scatterternary"
           }
          ],
          "surface": [
           {
            "colorbar": {
             "outlinewidth": 0,
             "ticks": ""
            },
            "colorscale": [
             [
              0,
              "#0d0887"
             ],
             [
              0.1111111111111111,
              "#46039f"
             ],
             [
              0.2222222222222222,
              "#7201a8"
             ],
             [
              0.3333333333333333,
              "#9c179e"
             ],
             [
              0.4444444444444444,
              "#bd3786"
             ],
             [
              0.5555555555555556,
              "#d8576b"
             ],
             [
              0.6666666666666666,
              "#ed7953"
             ],
             [
              0.7777777777777778,
              "#fb9f3a"
             ],
             [
              0.8888888888888888,
              "#fdca26"
             ],
             [
              1,
              "#f0f921"
             ]
            ],
            "type": "surface"
           }
          ],
          "table": [
           {
            "cells": {
             "fill": {
              "color": "#EBF0F8"
             },
             "line": {
              "color": "white"
             }
            },
            "header": {
             "fill": {
              "color": "#C8D4E3"
             },
             "line": {
              "color": "white"
             }
            },
            "type": "table"
           }
          ]
         },
         "layout": {
          "annotationdefaults": {
           "arrowcolor": "#2a3f5f",
           "arrowhead": 0,
           "arrowwidth": 1
          },
          "autotypenumbers": "strict",
          "coloraxis": {
           "colorbar": {
            "outlinewidth": 0,
            "ticks": ""
           }
          },
          "colorscale": {
           "diverging": [
            [
             0,
             "#8e0152"
            ],
            [
             0.1,
             "#c51b7d"
            ],
            [
             0.2,
             "#de77ae"
            ],
            [
             0.3,
             "#f1b6da"
            ],
            [
             0.4,
             "#fde0ef"
            ],
            [
             0.5,
             "#f7f7f7"
            ],
            [
             0.6,
             "#e6f5d0"
            ],
            [
             0.7,
             "#b8e186"
            ],
            [
             0.8,
             "#7fbc41"
            ],
            [
             0.9,
             "#4d9221"
            ],
            [
             1,
             "#276419"
            ]
           ],
           "sequential": [
            [
             0,
             "#0d0887"
            ],
            [
             0.1111111111111111,
             "#46039f"
            ],
            [
             0.2222222222222222,
             "#7201a8"
            ],
            [
             0.3333333333333333,
             "#9c179e"
            ],
            [
             0.4444444444444444,
             "#bd3786"
            ],
            [
             0.5555555555555556,
             "#d8576b"
            ],
            [
             0.6666666666666666,
             "#ed7953"
            ],
            [
             0.7777777777777778,
             "#fb9f3a"
            ],
            [
             0.8888888888888888,
             "#fdca26"
            ],
            [
             1,
             "#f0f921"
            ]
           ],
           "sequentialminus": [
            [
             0,
             "#0d0887"
            ],
            [
             0.1111111111111111,
             "#46039f"
            ],
            [
             0.2222222222222222,
             "#7201a8"
            ],
            [
             0.3333333333333333,
             "#9c179e"
            ],
            [
             0.4444444444444444,
             "#bd3786"
            ],
            [
             0.5555555555555556,
             "#d8576b"
            ],
            [
             0.6666666666666666,
             "#ed7953"
            ],
            [
             0.7777777777777778,
             "#fb9f3a"
            ],
            [
             0.8888888888888888,
             "#fdca26"
            ],
            [
             1,
             "#f0f921"
            ]
           ]
          },
          "colorway": [
           "#636efa",
           "#EF553B",
           "#00cc96",
           "#ab63fa",
           "#FFA15A",
           "#19d3f3",
           "#FF6692",
           "#B6E880",
           "#FF97FF",
           "#FECB52"
          ],
          "font": {
           "color": "#2a3f5f"
          },
          "geo": {
           "bgcolor": "white",
           "lakecolor": "white",
           "landcolor": "#E5ECF6",
           "showlakes": true,
           "showland": true,
           "subunitcolor": "white"
          },
          "hoverlabel": {
           "align": "left"
          },
          "hovermode": "closest",
          "mapbox": {
           "style": "light"
          },
          "paper_bgcolor": "white",
          "plot_bgcolor": "#E5ECF6",
          "polar": {
           "angularaxis": {
            "gridcolor": "white",
            "linecolor": "white",
            "ticks": ""
           },
           "bgcolor": "#E5ECF6",
           "radialaxis": {
            "gridcolor": "white",
            "linecolor": "white",
            "ticks": ""
           }
          },
          "scene": {
           "xaxis": {
            "backgroundcolor": "#E5ECF6",
            "gridcolor": "white",
            "gridwidth": 2,
            "linecolor": "white",
            "showbackground": true,
            "ticks": "",
            "zerolinecolor": "white"
           },
           "yaxis": {
            "backgroundcolor": "#E5ECF6",
            "gridcolor": "white",
            "gridwidth": 2,
            "linecolor": "white",
            "showbackground": true,
            "ticks": "",
            "zerolinecolor": "white"
           },
           "zaxis": {
            "backgroundcolor": "#E5ECF6",
            "gridcolor": "white",
            "gridwidth": 2,
            "linecolor": "white",
            "showbackground": true,
            "ticks": "",
            "zerolinecolor": "white"
           }
          },
          "shapedefaults": {
           "line": {
            "color": "#2a3f5f"
           }
          },
          "ternary": {
           "aaxis": {
            "gridcolor": "white",
            "linecolor": "white",
            "ticks": ""
           },
           "baxis": {
            "gridcolor": "white",
            "linecolor": "white",
            "ticks": ""
           },
           "bgcolor": "#E5ECF6",
           "caxis": {
            "gridcolor": "white",
            "linecolor": "white",
            "ticks": ""
           }
          },
          "title": {
           "x": 0.05
          },
          "xaxis": {
           "automargin": true,
           "gridcolor": "white",
           "linecolor": "white",
           "ticks": "",
           "title": {
            "standoff": 15
           },
           "zerolinecolor": "white",
           "zerolinewidth": 2
          },
          "yaxis": {
           "automargin": true,
           "gridcolor": "white",
           "linecolor": "white",
           "ticks": "",
           "title": {
            "standoff": 15
           },
           "zerolinecolor": "white",
           "zerolinewidth": 2
          }
         }
        },
        "title": {
         "text": "Optimization History Plot"
        },
        "xaxis": {
         "title": {
          "text": "Trial"
         }
        },
        "yaxis": {
         "title": {
          "text": "Objective Value"
         }
        }
       }
      }
     },
     "metadata": {},
     "output_type": "display_data"
    }
   ],
   "source": [
    "optuna.visualization.plot_optimization_history(study)"
   ]
  },
  {
   "cell_type": "code",
   "execution_count": 370,
   "metadata": {},
   "outputs": [
    {
     "name": "stdout",
     "output_type": "stream",
     "text": [
      "Best Hyperparameters: {'C': 0.12323645327131416, 'epsilon': 0.002273055424771213, 'kernel': 'linear', 'max_iter': 14385, 'scaler': 'minmax', 'use_poly': True, 'poly_degree': 2}\n"
     ]
    }
   ],
   "source": [
    "best_params = study.best_params \n",
    "print(f\"Best Hyperparameters: {best_params}\")"
   ]
  },
  {
   "cell_type": "code",
   "execution_count": 372,
   "metadata": {},
   "outputs": [
    {
     "data": {
      "application/vnd.plotly.v1+json": {
       "config": {
        "plotlyServerURL": "https://plot.ly"
       },
       "data": [
        {
         "marker": {
          "color": [
           0,
           1,
           2,
           3,
           4,
           5,
           6,
           7,
           8,
           9,
           10,
           11,
           12,
           13,
           14,
           15,
           16,
           17,
           18,
           19,
           20,
           21,
           22,
           23,
           24,
           25,
           26,
           27,
           28,
           29,
           30,
           31,
           32,
           33,
           34,
           35,
           36,
           37,
           38,
           39,
           40,
           41,
           42,
           43,
           44,
           45,
           46,
           47,
           48,
           49,
           50,
           51,
           52,
           53,
           54,
           55,
           56,
           57,
           58,
           59,
           60,
           61,
           62,
           63,
           64,
           65,
           66,
           67,
           68,
           69,
           70,
           71,
           72,
           73,
           74,
           75,
           76,
           77,
           78,
           79,
           80,
           81,
           82,
           83,
           84,
           85,
           86,
           87,
           88,
           89,
           90,
           91,
           92,
           93,
           94,
           95,
           96,
           97,
           98,
           99
          ],
          "colorbar": {
           "title": {
            "text": "Trial"
           },
           "x": 1,
           "xpad": 40
          },
          "colorscale": [
           [
            0,
            "rgb(247,251,255)"
           ],
           [
            0.125,
            "rgb(222,235,247)"
           ],
           [
            0.25,
            "rgb(198,219,239)"
           ],
           [
            0.375,
            "rgb(158,202,225)"
           ],
           [
            0.5,
            "rgb(107,174,214)"
           ],
           [
            0.625,
            "rgb(66,146,198)"
           ],
           [
            0.75,
            "rgb(33,113,181)"
           ],
           [
            0.875,
            "rgb(8,81,156)"
           ],
           [
            1,
            "rgb(8,48,107)"
           ]
          ],
          "line": {
           "color": "Grey",
           "width": 0.5
          },
          "showscale": true
         },
         "mode": "markers",
         "name": "Feasible Trial",
         "showlegend": false,
         "type": "scatter",
         "x": [
          0.00991564456663839,
          45.66054873446124,
          19.116469627784266,
          0.03320625892007928,
          144.08501080722579,
          0.00013408920002835423,
          0.9691366432023916,
          0.08919998285789824,
          11.076667222301104,
          147.47907308930834,
          349.36358165695214,
          0.10505873950469616,
          1.1701396243779076,
          0.012413171922260383,
          150.5657055633723,
          0.7102847286095375,
          1.823488960445763,
          0.0017627020091555566,
          0.002267728909395629,
          0.00013202984757223246,
          0.12323645327131416,
          0.2193598182745358,
          0.17817101436983127,
          48.7349992926976,
          0.783007586411321,
          0.06134429310056979,
          1.3783332269550637,
          0.0000139886113825694,
          7.595709565769607,
          10.161750846220235,
          0.3868148201538443,
          0.034059950384615005,
          0.00004772014039122302,
          0.00007754965292299121,
          0.000012509380349845527,
          0.4726226112923822,
          0.0000418675064327984,
          6.393756125164365,
          0.05617528421239681,
          0.00010796309379202907,
          0.26016849829674316,
          0.524012316477032,
          692.2462348527533,
          0.00023908865539830148,
          0.00002062989980622066,
          0.07519412006866386,
          0.1823635893818441,
          0.49514106239107925,
          0.00016706024480593474,
          569.853823019525,
          0.02532162127461645,
          831.154688623777,
          0.00009871378123311873,
          32.85471935893196,
          157.252147910854,
          0.0031172852339266728,
          23.898075356728487,
          378.67507220232494,
          0.7140364318106537,
          0.004803722742291233,
          0.000133923306420297,
          0.00004817229581912974,
          0.000033548191656951565,
          0.00017750916411782684,
          0.0008043818235518097,
          0.00046035200729655553,
          0.01884921280248868,
          0.21531471796123086,
          0.001557549169220837,
          0.14169079670177182,
          312.34741395001004,
          0.09203023471326863,
          0.03698675100714994,
          252.34025600492913,
          0.000019772476940641975,
          122.41143409626305,
          0.01642280396601759,
          0.0007393703121292927,
          0.00021690600160319474,
          117.5674448875141,
          0.554012391635834,
          6.128594816239062,
          0.3356260888244435,
          0.000185712374271795,
          0.0019783588286225963,
          0.005432219726658192,
          0.00002322395976935722,
          2.926597604990691,
          0.0001616081036767941,
          1.6343106206752958,
          232.69271266913515,
          0.0014188851240587658,
          0.00006909417368303303,
          0.00001843422442010901,
          0.000026047753252920978,
          0.000044982113416188995,
          5.67040692400147,
          6.566781380741867,
          160.55170134587584,
          590.4195811332573
         ],
         "xaxis": "x",
         "y": [
          -0.009187839725991067,
          -0.003108862998722367,
          -0.006259086200184061,
          -0.0034067731188198785,
          -0.023457493137687486,
          -0.006462703510971073,
          -2455.6005172858613,
          -0.0029892802148752816,
          -2580656.735583416,
          -728577885.0879266,
          -5653706842.81967,
          -0.0037451926007259703,
          -0.007154986500964765,
          -0.02599533117607223,
          -952105596.6707432,
          -11.304218790956968,
          -21577353.412829768,
          -0.024658958774674104,
          -0.003507005418810687,
          -0.007989387414816081,
          -0.0028893079368513454,
          -0.014554445542208156,
          -0.015174943703563298,
          -0.020379176906927098,
          -0.021664461702581767,
          -0.024468828807923233,
          -0.0037295314570903134,
          -0.024528871658713796,
          -0.08700890540167078,
          -0.005259328975748209,
          -188.3708096659221,
          -0.009815350062286447,
          -0.02431093184370599,
          -0.005129832392825637,
          -0.024624659626067642,
          -0.00646714430967806,
          -0.0245908275513081,
          -0.009065985963318765,
          -0.024095574438395082,
          -0.025067618381208034,
          -0.0029116686973030335,
          -0.035514312880147905,
          -0.013182117180737377,
          -0.024521732715246138,
          -0.02452029256527462,
          -0.019608679946579135,
          -0.02083815699023906,
          -0.00311626020715174,
          -0.02450123267607874,
          -0.00822637599411012,
          -0.006879039038947951,
          -0.10390852043833458,
          -0.007959223248860715,
          -0.0052960015633476375,
          -0.03532992773440876,
          -0.30733424605949955,
          -0.0040281133913290055,
          -0.01964554141858401,
          -0.018491907427088734,
          -0.02481044447834779,
          -0.02367282133480584,
          -0.0248857037208963,
          -0.02454500908584933,
          -0.007230681864957,
          -0.02410469044592238,
          -0.012702259437025843,
          -0.024417239136617988,
          -0.004106236228619977,
          -0.0029052048466443967,
          -0.007358230251694612,
          -0.004473042228972184,
          -0.009239487335187084,
          -6604.075639886646,
          -1.3153397392523356,
          -0.024524422356903653,
          -0.015594376727425896,
          -0.01346149920780294,
          -2.844867661030409,
          -0.024450870337819612,
          -0.008245255429863766,
          -0.8180379439999766,
          -0.011574364930722305,
          -0.0029259166819916313,
          -0.01112647528616217,
          -0.0035771111314127973,
          -0.02451062038624189,
          -0.019450053984089125,
          -0.005992650318718193,
          -0.006654748675947832,
          -0.01006104538080335,
          -0.015192303937438905,
          -0.005117809613876463,
          -0.008352784610547222,
          -0.023078241710043898,
          -0.024492849446473786,
          -0.02452002727485051,
          -0.008822819029247964,
          -0.01987032131675332,
          -0.005879275350990197,
          -0.003856028984571794
         ],
         "yaxis": "y"
        },
        {
         "marker": {
          "color": [
           0,
           1,
           2,
           3,
           4,
           5,
           6,
           7,
           8,
           9,
           10,
           11,
           12,
           13,
           14,
           15,
           16,
           17,
           18,
           19,
           20,
           21,
           22,
           23,
           24,
           25,
           26,
           27,
           28,
           29,
           30,
           31,
           32,
           33,
           34,
           35,
           36,
           37,
           38,
           39,
           40,
           41,
           42,
           43,
           44,
           45,
           46,
           47,
           48,
           49,
           50,
           51,
           52,
           53,
           54,
           55,
           56,
           57,
           58,
           59,
           60,
           61,
           62,
           63,
           64,
           65,
           66,
           67,
           68,
           69,
           70,
           71,
           72,
           73,
           74,
           75,
           76,
           77,
           78,
           79,
           80,
           81,
           82,
           83,
           84,
           85,
           86,
           87,
           88,
           89,
           90,
           91,
           92,
           93,
           94,
           95,
           96,
           97,
           98,
           99
          ],
          "colorbar": {
           "title": {
            "text": "Trial"
           },
           "x": 1,
           "xpad": 40
          },
          "colorscale": [
           [
            0,
            "rgb(247,251,255)"
           ],
           [
            0.125,
            "rgb(222,235,247)"
           ],
           [
            0.25,
            "rgb(198,219,239)"
           ],
           [
            0.375,
            "rgb(158,202,225)"
           ],
           [
            0.5,
            "rgb(107,174,214)"
           ],
           [
            0.625,
            "rgb(66,146,198)"
           ],
           [
            0.75,
            "rgb(33,113,181)"
           ],
           [
            0.875,
            "rgb(8,81,156)"
           ],
           [
            1,
            "rgb(8,48,107)"
           ]
          ],
          "line": {
           "color": "Grey",
           "width": 0.5
          },
          "showscale": false
         },
         "mode": "markers",
         "name": "Feasible Trial",
         "showlegend": false,
         "type": "scatter",
         "x": [
          0.2933445395788398,
          0.0000994890105809073,
          0.00008674832802525465,
          0.00003745018823436383,
          0.006449322077378629,
          0.058816550488618946,
          0.00035882268637259164,
          0.002859603931944107,
          0.00011888189431127739,
          0.00031209642228865146,
          0.0003301572837470894,
          0.000017454085858813002,
          0.0032929805802698747,
          0.25215414940919145,
          0.1702305263472293,
          0.000011046295825531423,
          0.0046823630102616875,
          0.000013009481770360556,
          0.0006450043973032046,
          0.0027265626977853647,
          0.002273055424771213,
          0.00022204896272277758,
          0.0034707890588799254,
          0.018636395491045493,
          0.0009368889293086391,
          0.00006514339544699753,
          0.000013322197048392301,
          0.000027783351902823763,
          0.05963933481678987,
          0.03512160322676691,
          0.009310738035186684,
          0.14835265650698604,
          0.43270287867085766,
          0.0020645746401044204,
          0.3609370916291666,
          0.17159888455057065,
          0.3790111387303631,
          0.007628156700463714,
          0.0008896606842127647,
          0.30412852782833044,
          0.004323452605677864,
          0.0006968559335551808,
          0.0020644180483252645,
          0.00008008668760176791,
          0.05706968633906919,
          0.00803823366179807,
          0.00013783567059787367,
          0.03182714840928093,
          0.0001431357071728414,
          0.11667881859326168,
          0.002427984686763986,
          0.0003271380407373631,
          0.027184687385285265,
          0.01335801070039392,
          0.0006366391385662076,
          0.0001471102773920944,
          0.000050635778827619285,
          0.00005255253176182601,
          0.000983959679508988,
          0.05923580200644871,
          0.00006742751568857137,
          0.4833727989545204,
          0.044073851940762805,
          0.02313833088338088,
          0.00002932730270123841,
          0.0000133252090209691,
          0.003926929855642222,
          0.009477529684764846,
          0.004018517008978283,
          0.000016622321161456788,
          0.027690723991911272,
          0.017170471132502713,
          0.00007411977280433383,
          0.00007055342970256349,
          0.0063365705340017635,
          0.00783290118959502,
          0.00179854432573068,
          0.000015768654421731177,
          0.45443486466425964,
          0.22881271283212304,
          0.005318726891793134,
          0.002138480059646194,
          0.00017978681212836939,
          0.13777971281158796,
          0.007923573380833568,
          0.009390123407617829,
          0.12454471689727908,
          0.0012453271088345799,
          0.0010752965735761487,
          0.0005391309137385027,
          0.007899895220349831,
          0.0559379170483338,
          0.00013720257721389046,
          0.000023401193144232767,
          0.0034957087615603262,
          0.000019212887172459308,
          0.00011844097582971238,
          0.030899799764868754,
          0.0009586365549287515,
          0.00007086067292246445
         ],
         "xaxis": "x2",
         "y": [
          -0.009187839725991067,
          -0.003108862998722367,
          -0.006259086200184061,
          -0.0034067731188198785,
          -0.023457493137687486,
          -0.006462703510971073,
          -2455.6005172858613,
          -0.0029892802148752816,
          -2580656.735583416,
          -728577885.0879266,
          -5653706842.81967,
          -0.0037451926007259703,
          -0.007154986500964765,
          -0.02599533117607223,
          -952105596.6707432,
          -11.304218790956968,
          -21577353.412829768,
          -0.024658958774674104,
          -0.003507005418810687,
          -0.007989387414816081,
          -0.0028893079368513454,
          -0.014554445542208156,
          -0.015174943703563298,
          -0.020379176906927098,
          -0.021664461702581767,
          -0.024468828807923233,
          -0.0037295314570903134,
          -0.024528871658713796,
          -0.08700890540167078,
          -0.005259328975748209,
          -188.3708096659221,
          -0.009815350062286447,
          -0.02431093184370599,
          -0.005129832392825637,
          -0.024624659626067642,
          -0.00646714430967806,
          -0.0245908275513081,
          -0.009065985963318765,
          -0.024095574438395082,
          -0.025067618381208034,
          -0.0029116686973030335,
          -0.035514312880147905,
          -0.013182117180737377,
          -0.024521732715246138,
          -0.02452029256527462,
          -0.019608679946579135,
          -0.02083815699023906,
          -0.00311626020715174,
          -0.02450123267607874,
          -0.00822637599411012,
          -0.006879039038947951,
          -0.10390852043833458,
          -0.007959223248860715,
          -0.0052960015633476375,
          -0.03532992773440876,
          -0.30733424605949955,
          -0.0040281133913290055,
          -0.01964554141858401,
          -0.018491907427088734,
          -0.02481044447834779,
          -0.02367282133480584,
          -0.0248857037208963,
          -0.02454500908584933,
          -0.007230681864957,
          -0.02410469044592238,
          -0.012702259437025843,
          -0.024417239136617988,
          -0.004106236228619977,
          -0.0029052048466443967,
          -0.007358230251694612,
          -0.004473042228972184,
          -0.009239487335187084,
          -6604.075639886646,
          -1.3153397392523356,
          -0.024524422356903653,
          -0.015594376727425896,
          -0.01346149920780294,
          -2.844867661030409,
          -0.024450870337819612,
          -0.008245255429863766,
          -0.8180379439999766,
          -0.011574364930722305,
          -0.0029259166819916313,
          -0.01112647528616217,
          -0.0035771111314127973,
          -0.02451062038624189,
          -0.019450053984089125,
          -0.005992650318718193,
          -0.006654748675947832,
          -0.01006104538080335,
          -0.015192303937438905,
          -0.005117809613876463,
          -0.008352784610547222,
          -0.023078241710043898,
          -0.024492849446473786,
          -0.02452002727485051,
          -0.008822819029247964,
          -0.01987032131675332,
          -0.005879275350990197,
          -0.003856028984571794
         ],
         "yaxis": "y2"
        },
        {
         "marker": {
          "color": [
           1,
           2,
           3,
           5,
           6,
           8,
           9,
           10,
           11,
           12,
           13,
           14,
           15,
           16,
           17,
           21,
           22,
           24,
           25,
           26,
           27,
           28,
           29,
           30,
           31,
           32,
           33,
           34,
           35,
           37,
           38,
           39,
           41,
           42,
           43,
           44,
           45,
           46,
           48,
           50,
           53,
           54,
           55,
           56,
           57,
           58,
           59,
           60,
           61,
           62,
           64,
           65,
           66,
           67,
           68,
           69,
           70,
           71,
           72,
           73,
           74,
           75,
           76,
           77,
           78,
           80,
           81,
           85,
           87,
           89,
           91,
           93,
           94,
           95,
           97,
           98,
           99
          ],
          "colorbar": {
           "title": {
            "text": "Trial"
           },
           "x": 1,
           "xpad": 40
          },
          "colorscale": [
           [
            0,
            "rgb(247,251,255)"
           ],
           [
            0.125,
            "rgb(222,235,247)"
           ],
           [
            0.25,
            "rgb(198,219,239)"
           ],
           [
            0.375,
            "rgb(158,202,225)"
           ],
           [
            0.5,
            "rgb(107,174,214)"
           ],
           [
            0.625,
            "rgb(66,146,198)"
           ],
           [
            0.75,
            "rgb(33,113,181)"
           ],
           [
            0.875,
            "rgb(8,81,156)"
           ],
           [
            1,
            "rgb(8,48,107)"
           ]
          ],
          "line": {
           "color": "Grey",
           "width": 0.5
          },
          "showscale": false
         },
         "mode": "markers",
         "name": "Feasible Trial",
         "showlegend": false,
         "type": "scatter",
         "x": [
          0.0010558813779064837,
          0.000015619562520792747,
          0.04341661800361742,
          0.08871588860587633,
          0.029033694281285664,
          0.45377718531570727,
          1.0595320121534553,
          5.459225887825808,
          0.00004947512505081404,
          0.05532870850012652,
          1.384763072446818,
          1.9044598430332453,
          0.03662088340054268,
          1.755197073995364,
          2.5354247855376286,
          0.00033215017827674923,
          0.0001822616554559889,
          0.000006493943167807165,
          0.0000020755254756046575,
          0.006596560124991372,
          0.0000014551358823192067,
          8.580962301550056,
          0.0005301658517108408,
          0.18476585075392615,
          0.02125819777659747,
          7.980083704396254,
          0.16684536826294374,
          0.0000032853069554789815,
          0.0015473810340829227,
          0.4719253596577226,
          9.954597691726137,
          0.00032146894594466114,
          0.022625954091337976,
          0.000011569613596958447,
          0.000004177512290603947,
          0.000002676367324512447,
          0.00005848690100802877,
          0.000006891835816318616,
          1.893904048361689,
          0.011712983997858873,
          0.5202308185623249,
          0.0002209730461783793,
          1.3720168887808752,
          0.00005788864875854221,
          1.273114201254783,
          0.7452236090789482,
          2.7478265464594807,
          0.011590934507845797,
          0.000029467219060174474,
          0.00001877141077476388,
          0.0006029547312622337,
          0.5273572635872423,
          0.00000956736252218854,
          0.004784441801241872,
          1.3098770798195571,
          0.00010491948674353243,
          0.0000022907658195258316,
          0.07292480827159639,
          0.8797708354749385,
          6.272024067057101,
          0.0002394003309122701,
          1.3271246284863902,
          0.0008401705901798732,
          4.464042160733061,
          0.000017206646006941663,
          1.0836606932950654,
          0.9087583165229717,
          0.0000029844163716326052,
          0.07174234704329911,
          1.2032674696101433,
          0.015854181905563362,
          0.40188971659082756,
          0.00000363750772821312,
          6.777301255333955,
          0.0000019088172008612093,
          0.022949122540467323,
          0.0013095943267601633
         ],
         "xaxis": "x3",
         "y": [
          -0.003108862998722367,
          -0.006259086200184061,
          -0.0034067731188198785,
          -0.006462703510971073,
          -2455.6005172858613,
          -2580656.735583416,
          -728577885.0879266,
          -5653706842.81967,
          -0.0037451926007259703,
          -0.007154986500964765,
          -0.02599533117607223,
          -952105596.6707432,
          -11.304218790956968,
          -21577353.412829768,
          -0.024658958774674104,
          -0.014554445542208156,
          -0.015174943703563298,
          -0.021664461702581767,
          -0.024468828807923233,
          -0.0037295314570903134,
          -0.024528871658713796,
          -0.08700890540167078,
          -0.005259328975748209,
          -188.3708096659221,
          -0.009815350062286447,
          -0.02431093184370599,
          -0.005129832392825637,
          -0.024624659626067642,
          -0.00646714430967806,
          -0.009065985963318765,
          -0.024095574438395082,
          -0.025067618381208034,
          -0.035514312880147905,
          -0.013182117180737377,
          -0.024521732715246138,
          -0.02452029256527462,
          -0.019608679946579135,
          -0.02083815699023906,
          -0.02450123267607874,
          -0.006879039038947951,
          -0.0052960015633476375,
          -0.03532992773440876,
          -0.30733424605949955,
          -0.0040281133913290055,
          -0.01964554141858401,
          -0.018491907427088734,
          -0.02481044447834779,
          -0.02367282133480584,
          -0.0248857037208963,
          -0.02454500908584933,
          -0.02410469044592238,
          -0.012702259437025843,
          -0.024417239136617988,
          -0.004106236228619977,
          -0.0029052048466443967,
          -0.007358230251694612,
          -0.004473042228972184,
          -0.009239487335187084,
          -6604.075639886646,
          -1.3153397392523356,
          -0.024524422356903653,
          -0.015594376727425896,
          -0.01346149920780294,
          -2.844867661030409,
          -0.024450870337819612,
          -0.8180379439999766,
          -0.011574364930722305,
          -0.02451062038624189,
          -0.005992650318718193,
          -0.01006104538080335,
          -0.005117809613876463,
          -0.023078241710043898,
          -0.024492849446473786,
          -0.02452002727485051,
          -0.01987032131675332,
          -0.005879275350990197,
          -0.003856028984571794
         ],
         "yaxis": "y3"
        },
        {
         "marker": {
          "color": [
           0,
           1,
           2,
           3,
           4,
           5,
           6,
           7,
           8,
           9,
           10,
           11,
           12,
           13,
           14,
           15,
           16,
           17,
           18,
           19,
           20,
           21,
           22,
           23,
           24,
           25,
           26,
           27,
           28,
           29,
           30,
           31,
           32,
           33,
           34,
           35,
           36,
           37,
           38,
           39,
           40,
           41,
           42,
           43,
           44,
           45,
           46,
           47,
           48,
           49,
           50,
           51,
           52,
           53,
           54,
           55,
           56,
           57,
           58,
           59,
           60,
           61,
           62,
           63,
           64,
           65,
           66,
           67,
           68,
           69,
           70,
           71,
           72,
           73,
           74,
           75,
           76,
           77,
           78,
           79,
           80,
           81,
           82,
           83,
           84,
           85,
           86,
           87,
           88,
           89,
           90,
           91,
           92,
           93,
           94,
           95,
           96,
           97,
           98,
           99
          ],
          "colorbar": {
           "title": {
            "text": "Trial"
           },
           "x": 1,
           "xpad": 40
          },
          "colorscale": [
           [
            0,
            "rgb(247,251,255)"
           ],
           [
            0.125,
            "rgb(222,235,247)"
           ],
           [
            0.25,
            "rgb(198,219,239)"
           ],
           [
            0.375,
            "rgb(158,202,225)"
           ],
           [
            0.5,
            "rgb(107,174,214)"
           ],
           [
            0.625,
            "rgb(66,146,198)"
           ],
           [
            0.75,
            "rgb(33,113,181)"
           ],
           [
            0.875,
            "rgb(8,81,156)"
           ],
           [
            1,
            "rgb(8,48,107)"
           ]
          ],
          "line": {
           "color": "Grey",
           "width": 0.5
          },
          "showscale": false
         },
         "mode": "markers",
         "name": "Feasible Trial",
         "showlegend": false,
         "type": "scatter",
         "x": [
          "linear",
          "sigmoid",
          "sigmoid",
          "rbf",
          "linear",
          "poly",
          "sigmoid",
          "linear",
          "sigmoid",
          "sigmoid",
          "sigmoid",
          "poly",
          "poly",
          "sigmoid",
          "sigmoid",
          "poly",
          "poly",
          "sigmoid",
          "linear",
          "linear",
          "linear",
          "sigmoid",
          "rbf",
          "linear",
          "rbf",
          "sigmoid",
          "poly",
          "sigmoid",
          "sigmoid",
          "poly",
          "sigmoid",
          "sigmoid",
          "sigmoid",
          "poly",
          "sigmoid",
          "rbf",
          "linear",
          "poly",
          "rbf",
          "rbf",
          "linear",
          "poly",
          "poly",
          "rbf",
          "sigmoid",
          "rbf",
          "poly",
          "linear",
          "rbf",
          "linear",
          "rbf",
          "linear",
          "linear",
          "rbf",
          "poly",
          "sigmoid",
          "poly",
          "rbf",
          "poly",
          "sigmoid",
          "rbf",
          "sigmoid",
          "poly",
          "linear",
          "rbf",
          "sigmoid",
          "rbf",
          "sigmoid",
          "poly",
          "poly",
          "sigmoid",
          "rbf",
          "poly",
          "poly",
          "sigmoid",
          "rbf",
          "rbf",
          "poly",
          "poly",
          "linear",
          "poly",
          "rbf",
          "linear",
          "linear",
          "linear",
          "rbf",
          "linear",
          "poly",
          "linear",
          "rbf",
          "linear",
          "poly",
          "linear",
          "sigmoid",
          "poly",
          "rbf",
          "linear",
          "sigmoid",
          "rbf",
          "sigmoid"
         ],
         "xaxis": "x4",
         "y": [
          -0.009187839725991067,
          -0.003108862998722367,
          -0.006259086200184061,
          -0.0034067731188198785,
          -0.023457493137687486,
          -0.006462703510971073,
          -2455.6005172858613,
          -0.0029892802148752816,
          -2580656.735583416,
          -728577885.0879266,
          -5653706842.81967,
          -0.0037451926007259703,
          -0.007154986500964765,
          -0.02599533117607223,
          -952105596.6707432,
          -11.304218790956968,
          -21577353.412829768,
          -0.024658958774674104,
          -0.003507005418810687,
          -0.007989387414816081,
          -0.0028893079368513454,
          -0.014554445542208156,
          -0.015174943703563298,
          -0.020379176906927098,
          -0.021664461702581767,
          -0.024468828807923233,
          -0.0037295314570903134,
          -0.024528871658713796,
          -0.08700890540167078,
          -0.005259328975748209,
          -188.3708096659221,
          -0.009815350062286447,
          -0.02431093184370599,
          -0.005129832392825637,
          -0.024624659626067642,
          -0.00646714430967806,
          -0.0245908275513081,
          -0.009065985963318765,
          -0.024095574438395082,
          -0.025067618381208034,
          -0.0029116686973030335,
          -0.035514312880147905,
          -0.013182117180737377,
          -0.024521732715246138,
          -0.02452029256527462,
          -0.019608679946579135,
          -0.02083815699023906,
          -0.00311626020715174,
          -0.02450123267607874,
          -0.00822637599411012,
          -0.006879039038947951,
          -0.10390852043833458,
          -0.007959223248860715,
          -0.0052960015633476375,
          -0.03532992773440876,
          -0.30733424605949955,
          -0.0040281133913290055,
          -0.01964554141858401,
          -0.018491907427088734,
          -0.02481044447834779,
          -0.02367282133480584,
          -0.0248857037208963,
          -0.02454500908584933,
          -0.007230681864957,
          -0.02410469044592238,
          -0.012702259437025843,
          -0.024417239136617988,
          -0.004106236228619977,
          -0.0029052048466443967,
          -0.007358230251694612,
          -0.004473042228972184,
          -0.009239487335187084,
          -6604.075639886646,
          -1.3153397392523356,
          -0.024524422356903653,
          -0.015594376727425896,
          -0.01346149920780294,
          -2.844867661030409,
          -0.024450870337819612,
          -0.008245255429863766,
          -0.8180379439999766,
          -0.011574364930722305,
          -0.0029259166819916313,
          -0.01112647528616217,
          -0.0035771111314127973,
          -0.02451062038624189,
          -0.019450053984089125,
          -0.005992650318718193,
          -0.006654748675947832,
          -0.01006104538080335,
          -0.015192303937438905,
          -0.005117809613876463,
          -0.008352784610547222,
          -0.023078241710043898,
          -0.024492849446473786,
          -0.02452002727485051,
          -0.008822819029247964,
          -0.01987032131675332,
          -0.005879275350990197,
          -0.003856028984571794
         ],
         "yaxis": "y4"
        },
        {
         "marker": {
          "color": [
           0,
           1,
           2,
           3,
           4,
           5,
           6,
           7,
           8,
           9,
           10,
           11,
           12,
           13,
           14,
           15,
           16,
           17,
           18,
           19,
           20,
           21,
           22,
           23,
           24,
           25,
           26,
           27,
           28,
           29,
           30,
           31,
           32,
           33,
           34,
           35,
           36,
           37,
           38,
           39,
           40,
           41,
           42,
           43,
           44,
           45,
           46,
           47,
           48,
           49,
           50,
           51,
           52,
           53,
           54,
           55,
           56,
           57,
           58,
           59,
           60,
           61,
           62,
           63,
           64,
           65,
           66,
           67,
           68,
           69,
           70,
           71,
           72,
           73,
           74,
           75,
           76,
           77,
           78,
           79,
           80,
           81,
           82,
           83,
           84,
           85,
           86,
           87,
           88,
           89,
           90,
           91,
           92,
           93,
           94,
           95,
           96,
           97,
           98,
           99
          ],
          "colorbar": {
           "title": {
            "text": "Trial"
           },
           "x": 1,
           "xpad": 40
          },
          "colorscale": [
           [
            0,
            "rgb(247,251,255)"
           ],
           [
            0.125,
            "rgb(222,235,247)"
           ],
           [
            0.25,
            "rgb(198,219,239)"
           ],
           [
            0.375,
            "rgb(158,202,225)"
           ],
           [
            0.5,
            "rgb(107,174,214)"
           ],
           [
            0.625,
            "rgb(66,146,198)"
           ],
           [
            0.75,
            "rgb(33,113,181)"
           ],
           [
            0.875,
            "rgb(8,81,156)"
           ],
           [
            1,
            "rgb(8,48,107)"
           ]
          ],
          "line": {
           "color": "Grey",
           "width": 0.5
          },
          "showscale": false
         },
         "mode": "markers",
         "name": "Feasible Trial",
         "showlegend": false,
         "type": "scatter",
         "x": [
          1190,
          2392,
          1215,
          2543,
          2649,
          8880,
          14265,
          6728,
          6668,
          1021,
          2125,
          7489,
          1050,
          2165,
          14260,
          1957,
          6623,
          3030,
          16518,
          2935,
          14385,
          1463,
          10827,
          5182,
          1147,
          3071,
          16783,
          11471,
          3441,
          1032,
          10711,
          1353,
          9553,
          5740,
          5254,
          6408,
          11448,
          19252,
          19800,
          1405,
          9603,
          13242,
          1515,
          1435,
          2291,
          8473,
          14407,
          6923,
          1271,
          16186,
          1587,
          5955,
          5589,
          3726,
          1517,
          2786,
          2816,
          16320,
          1452,
          2821,
          6645,
          14736,
          13219,
          7483,
          7398,
          2783,
          13486,
          1672,
          5986,
          2901,
          4423,
          2259,
          2112,
          16925,
          8768,
          4876,
          3532,
          10544,
          1935,
          8044,
          11302,
          4407,
          13439,
          2728,
          5040,
          2463,
          9693,
          1937,
          2273,
          10241,
          7796,
          2395,
          8201,
          1821,
          14594,
          2743,
          7672,
          13428,
          6631,
          4674
         ],
         "xaxis": "x5",
         "y": [
          -0.009187839725991067,
          -0.003108862998722367,
          -0.006259086200184061,
          -0.0034067731188198785,
          -0.023457493137687486,
          -0.006462703510971073,
          -2455.6005172858613,
          -0.0029892802148752816,
          -2580656.735583416,
          -728577885.0879266,
          -5653706842.81967,
          -0.0037451926007259703,
          -0.007154986500964765,
          -0.02599533117607223,
          -952105596.6707432,
          -11.304218790956968,
          -21577353.412829768,
          -0.024658958774674104,
          -0.003507005418810687,
          -0.007989387414816081,
          -0.0028893079368513454,
          -0.014554445542208156,
          -0.015174943703563298,
          -0.020379176906927098,
          -0.021664461702581767,
          -0.024468828807923233,
          -0.0037295314570903134,
          -0.024528871658713796,
          -0.08700890540167078,
          -0.005259328975748209,
          -188.3708096659221,
          -0.009815350062286447,
          -0.02431093184370599,
          -0.005129832392825637,
          -0.024624659626067642,
          -0.00646714430967806,
          -0.0245908275513081,
          -0.009065985963318765,
          -0.024095574438395082,
          -0.025067618381208034,
          -0.0029116686973030335,
          -0.035514312880147905,
          -0.013182117180737377,
          -0.024521732715246138,
          -0.02452029256527462,
          -0.019608679946579135,
          -0.02083815699023906,
          -0.00311626020715174,
          -0.02450123267607874,
          -0.00822637599411012,
          -0.006879039038947951,
          -0.10390852043833458,
          -0.007959223248860715,
          -0.0052960015633476375,
          -0.03532992773440876,
          -0.30733424605949955,
          -0.0040281133913290055,
          -0.01964554141858401,
          -0.018491907427088734,
          -0.02481044447834779,
          -0.02367282133480584,
          -0.0248857037208963,
          -0.02454500908584933,
          -0.007230681864957,
          -0.02410469044592238,
          -0.012702259437025843,
          -0.024417239136617988,
          -0.004106236228619977,
          -0.0029052048466443967,
          -0.007358230251694612,
          -0.004473042228972184,
          -0.009239487335187084,
          -6604.075639886646,
          -1.3153397392523356,
          -0.024524422356903653,
          -0.015594376727425896,
          -0.01346149920780294,
          -2.844867661030409,
          -0.024450870337819612,
          -0.008245255429863766,
          -0.8180379439999766,
          -0.011574364930722305,
          -0.0029259166819916313,
          -0.01112647528616217,
          -0.0035771111314127973,
          -0.02451062038624189,
          -0.019450053984089125,
          -0.005992650318718193,
          -0.006654748675947832,
          -0.01006104538080335,
          -0.015192303937438905,
          -0.005117809613876463,
          -0.008352784610547222,
          -0.023078241710043898,
          -0.024492849446473786,
          -0.02452002727485051,
          -0.008822819029247964,
          -0.01987032131675332,
          -0.005879275350990197,
          -0.003856028984571794
         ],
         "yaxis": "y5"
        },
        {
         "marker": {
          "color": [
           2,
           3,
           4,
           6,
           8,
           13,
           15,
           16,
           17,
           20,
           21,
           23,
           24,
           25,
           26,
           28,
           31,
           32,
           33,
           34,
           37,
           38,
           40,
           41,
           42,
           46,
           47,
           49,
           50,
           51,
           52,
           53,
           54,
           57,
           58,
           60,
           62,
           66,
           68,
           70,
           71,
           72,
           74,
           76,
           77,
           80,
           82,
           83,
           88,
           89,
           92,
           93,
           94,
           98
          ],
          "colorbar": {
           "title": {
            "text": "Trial"
           },
           "x": 1,
           "xpad": 40
          },
          "colorscale": [
           [
            0,
            "rgb(247,251,255)"
           ],
           [
            0.125,
            "rgb(222,235,247)"
           ],
           [
            0.25,
            "rgb(198,219,239)"
           ],
           [
            0.375,
            "rgb(158,202,225)"
           ],
           [
            0.5,
            "rgb(107,174,214)"
           ],
           [
            0.625,
            "rgb(66,146,198)"
           ],
           [
            0.75,
            "rgb(33,113,181)"
           ],
           [
            0.875,
            "rgb(8,81,156)"
           ],
           [
            1,
            "rgb(8,48,107)"
           ]
          ],
          "line": {
           "color": "Grey",
           "width": 0.5
          },
          "showscale": false
         },
         "mode": "markers",
         "name": "Feasible Trial",
         "showlegend": false,
         "type": "scatter",
         "x": [
          3,
          3,
          2,
          3,
          3,
          1,
          3,
          3,
          3,
          2,
          1,
          2,
          2,
          1,
          1,
          2,
          1,
          3,
          3,
          2,
          3,
          2,
          2,
          2,
          3,
          2,
          1,
          1,
          1,
          3,
          1,
          1,
          1,
          2,
          1,
          2,
          1,
          1,
          2,
          3,
          3,
          3,
          2,
          1,
          2,
          1,
          3,
          1,
          1,
          1,
          2,
          3,
          3,
          1
         ],
         "xaxis": "x6",
         "y": [
          -0.006259086200184061,
          -0.0034067731188198785,
          -0.023457493137687486,
          -2455.6005172858613,
          -2580656.735583416,
          -0.02599533117607223,
          -11.304218790956968,
          -21577353.412829768,
          -0.024658958774674104,
          -0.0028893079368513454,
          -0.014554445542208156,
          -0.020379176906927098,
          -0.021664461702581767,
          -0.024468828807923233,
          -0.0037295314570903134,
          -0.08700890540167078,
          -0.009815350062286447,
          -0.02431093184370599,
          -0.005129832392825637,
          -0.024624659626067642,
          -0.009065985963318765,
          -0.024095574438395082,
          -0.0029116686973030335,
          -0.035514312880147905,
          -0.013182117180737377,
          -0.02083815699023906,
          -0.00311626020715174,
          -0.00822637599411012,
          -0.006879039038947951,
          -0.10390852043833458,
          -0.007959223248860715,
          -0.0052960015633476375,
          -0.03532992773440876,
          -0.01964554141858401,
          -0.018491907427088734,
          -0.02367282133480584,
          -0.02454500908584933,
          -0.024417239136617988,
          -0.0029052048466443967,
          -0.004473042228972184,
          -0.009239487335187084,
          -6604.075639886646,
          -0.024524422356903653,
          -0.01346149920780294,
          -2.844867661030409,
          -0.8180379439999766,
          -0.0029259166819916313,
          -0.01112647528616217,
          -0.006654748675947832,
          -0.01006104538080335,
          -0.008352784610547222,
          -0.023078241710043898,
          -0.024492849446473786,
          -0.005879275350990197
         ],
         "yaxis": "y6"
        },
        {
         "marker": {
          "color": [
           0,
           1,
           2,
           3,
           4,
           5,
           6,
           7,
           8,
           9,
           10,
           11,
           12,
           13,
           14,
           15,
           16,
           17,
           18,
           19,
           20,
           21,
           22,
           23,
           24,
           25,
           26,
           27,
           28,
           29,
           30,
           31,
           32,
           33,
           34,
           35,
           36,
           37,
           38,
           39,
           40,
           41,
           42,
           43,
           44,
           45,
           46,
           47,
           48,
           49,
           50,
           51,
           52,
           53,
           54,
           55,
           56,
           57,
           58,
           59,
           60,
           61,
           62,
           63,
           64,
           65,
           66,
           67,
           68,
           69,
           70,
           71,
           72,
           73,
           74,
           75,
           76,
           77,
           78,
           79,
           80,
           81,
           82,
           83,
           84,
           85,
           86,
           87,
           88,
           89,
           90,
           91,
           92,
           93,
           94,
           95,
           96,
           97,
           98,
           99
          ],
          "colorbar": {
           "title": {
            "text": "Trial"
           },
           "x": 1,
           "xpad": 40
          },
          "colorscale": [
           [
            0,
            "rgb(247,251,255)"
           ],
           [
            0.125,
            "rgb(222,235,247)"
           ],
           [
            0.25,
            "rgb(198,219,239)"
           ],
           [
            0.375,
            "rgb(158,202,225)"
           ],
           [
            0.5,
            "rgb(107,174,214)"
           ],
           [
            0.625,
            "rgb(66,146,198)"
           ],
           [
            0.75,
            "rgb(33,113,181)"
           ],
           [
            0.875,
            "rgb(8,81,156)"
           ],
           [
            1,
            "rgb(8,48,107)"
           ]
          ],
          "line": {
           "color": "Grey",
           "width": 0.5
          },
          "showscale": false
         },
         "mode": "markers",
         "name": "Feasible Trial",
         "showlegend": false,
         "type": "scatter",
         "x": [
          "standard",
          "standard",
          "minmax",
          "minmax",
          "robust",
          "standard",
          "robust",
          "robust",
          "standard",
          "standard",
          "standard",
          "standard",
          "robust",
          "minmax",
          "standard",
          "standard",
          "standard",
          "minmax",
          "standard",
          "robust",
          "minmax",
          "minmax",
          "minmax",
          "standard",
          "minmax",
          "robust",
          "minmax",
          "robust",
          "minmax",
          "standard",
          "standard",
          "minmax",
          "robust",
          "standard",
          "standard",
          "robust",
          "robust",
          "minmax",
          "robust",
          "robust",
          "minmax",
          "standard",
          "standard",
          "standard",
          "standard",
          "standard",
          "robust",
          "robust",
          "robust",
          "minmax",
          "minmax",
          "standard",
          "standard",
          "minmax",
          "standard",
          "robust",
          "minmax",
          "robust",
          "standard",
          "minmax",
          "minmax",
          "standard",
          "standard",
          "robust",
          "robust",
          "robust",
          "minmax",
          "robust",
          "minmax",
          "standard",
          "robust",
          "standard",
          "robust",
          "minmax",
          "robust",
          "robust",
          "standard",
          "robust",
          "minmax",
          "minmax",
          "standard",
          "robust",
          "minmax",
          "robust",
          "standard",
          "standard",
          "robust",
          "minmax",
          "standard",
          "minmax",
          "robust",
          "minmax",
          "standard",
          "robust",
          "minmax",
          "minmax",
          "robust",
          "robust",
          "standard",
          "minmax"
         ],
         "xaxis": "x7",
         "y": [
          -0.009187839725991067,
          -0.003108862998722367,
          -0.006259086200184061,
          -0.0034067731188198785,
          -0.023457493137687486,
          -0.006462703510971073,
          -2455.6005172858613,
          -0.0029892802148752816,
          -2580656.735583416,
          -728577885.0879266,
          -5653706842.81967,
          -0.0037451926007259703,
          -0.007154986500964765,
          -0.02599533117607223,
          -952105596.6707432,
          -11.304218790956968,
          -21577353.412829768,
          -0.024658958774674104,
          -0.003507005418810687,
          -0.007989387414816081,
          -0.0028893079368513454,
          -0.014554445542208156,
          -0.015174943703563298,
          -0.020379176906927098,
          -0.021664461702581767,
          -0.024468828807923233,
          -0.0037295314570903134,
          -0.024528871658713796,
          -0.08700890540167078,
          -0.005259328975748209,
          -188.3708096659221,
          -0.009815350062286447,
          -0.02431093184370599,
          -0.005129832392825637,
          -0.024624659626067642,
          -0.00646714430967806,
          -0.0245908275513081,
          -0.009065985963318765,
          -0.024095574438395082,
          -0.025067618381208034,
          -0.0029116686973030335,
          -0.035514312880147905,
          -0.013182117180737377,
          -0.024521732715246138,
          -0.02452029256527462,
          -0.019608679946579135,
          -0.02083815699023906,
          -0.00311626020715174,
          -0.02450123267607874,
          -0.00822637599411012,
          -0.006879039038947951,
          -0.10390852043833458,
          -0.007959223248860715,
          -0.0052960015633476375,
          -0.03532992773440876,
          -0.30733424605949955,
          -0.0040281133913290055,
          -0.01964554141858401,
          -0.018491907427088734,
          -0.02481044447834779,
          -0.02367282133480584,
          -0.0248857037208963,
          -0.02454500908584933,
          -0.007230681864957,
          -0.02410469044592238,
          -0.012702259437025843,
          -0.024417239136617988,
          -0.004106236228619977,
          -0.0029052048466443967,
          -0.007358230251694612,
          -0.004473042228972184,
          -0.009239487335187084,
          -6604.075639886646,
          -1.3153397392523356,
          -0.024524422356903653,
          -0.015594376727425896,
          -0.01346149920780294,
          -2.844867661030409,
          -0.024450870337819612,
          -0.008245255429863766,
          -0.8180379439999766,
          -0.011574364930722305,
          -0.0029259166819916313,
          -0.01112647528616217,
          -0.0035771111314127973,
          -0.02451062038624189,
          -0.019450053984089125,
          -0.005992650318718193,
          -0.006654748675947832,
          -0.01006104538080335,
          -0.015192303937438905,
          -0.005117809613876463,
          -0.008352784610547222,
          -0.023078241710043898,
          -0.024492849446473786,
          -0.02452002727485051,
          -0.008822819029247964,
          -0.01987032131675332,
          -0.005879275350990197,
          -0.003856028984571794
         ],
         "yaxis": "y7"
        }
       ],
       "layout": {
        "template": {
         "data": {
          "bar": [
           {
            "error_x": {
             "color": "#2a3f5f"
            },
            "error_y": {
             "color": "#2a3f5f"
            },
            "marker": {
             "line": {
              "color": "#E5ECF6",
              "width": 0.5
             },
             "pattern": {
              "fillmode": "overlay",
              "size": 10,
              "solidity": 0.2
             }
            },
            "type": "bar"
           }
          ],
          "barpolar": [
           {
            "marker": {
             "line": {
              "color": "#E5ECF6",
              "width": 0.5
             },
             "pattern": {
              "fillmode": "overlay",
              "size": 10,
              "solidity": 0.2
             }
            },
            "type": "barpolar"
           }
          ],
          "carpet": [
           {
            "aaxis": {
             "endlinecolor": "#2a3f5f",
             "gridcolor": "white",
             "linecolor": "white",
             "minorgridcolor": "white",
             "startlinecolor": "#2a3f5f"
            },
            "baxis": {
             "endlinecolor": "#2a3f5f",
             "gridcolor": "white",
             "linecolor": "white",
             "minorgridcolor": "white",
             "startlinecolor": "#2a3f5f"
            },
            "type": "carpet"
           }
          ],
          "choropleth": [
           {
            "colorbar": {
             "outlinewidth": 0,
             "ticks": ""
            },
            "type": "choropleth"
           }
          ],
          "contour": [
           {
            "colorbar": {
             "outlinewidth": 0,
             "ticks": ""
            },
            "colorscale": [
             [
              0,
              "#0d0887"
             ],
             [
              0.1111111111111111,
              "#46039f"
             ],
             [
              0.2222222222222222,
              "#7201a8"
             ],
             [
              0.3333333333333333,
              "#9c179e"
             ],
             [
              0.4444444444444444,
              "#bd3786"
             ],
             [
              0.5555555555555556,
              "#d8576b"
             ],
             [
              0.6666666666666666,
              "#ed7953"
             ],
             [
              0.7777777777777778,
              "#fb9f3a"
             ],
             [
              0.8888888888888888,
              "#fdca26"
             ],
             [
              1,
              "#f0f921"
             ]
            ],
            "type": "contour"
           }
          ],
          "contourcarpet": [
           {
            "colorbar": {
             "outlinewidth": 0,
             "ticks": ""
            },
            "type": "contourcarpet"
           }
          ],
          "heatmap": [
           {
            "colorbar": {
             "outlinewidth": 0,
             "ticks": ""
            },
            "colorscale": [
             [
              0,
              "#0d0887"
             ],
             [
              0.1111111111111111,
              "#46039f"
             ],
             [
              0.2222222222222222,
              "#7201a8"
             ],
             [
              0.3333333333333333,
              "#9c179e"
             ],
             [
              0.4444444444444444,
              "#bd3786"
             ],
             [
              0.5555555555555556,
              "#d8576b"
             ],
             [
              0.6666666666666666,
              "#ed7953"
             ],
             [
              0.7777777777777778,
              "#fb9f3a"
             ],
             [
              0.8888888888888888,
              "#fdca26"
             ],
             [
              1,
              "#f0f921"
             ]
            ],
            "type": "heatmap"
           }
          ],
          "histogram": [
           {
            "marker": {
             "pattern": {
              "fillmode": "overlay",
              "size": 10,
              "solidity": 0.2
             }
            },
            "type": "histogram"
           }
          ],
          "histogram2d": [
           {
            "colorbar": {
             "outlinewidth": 0,
             "ticks": ""
            },
            "colorscale": [
             [
              0,
              "#0d0887"
             ],
             [
              0.1111111111111111,
              "#46039f"
             ],
             [
              0.2222222222222222,
              "#7201a8"
             ],
             [
              0.3333333333333333,
              "#9c179e"
             ],
             [
              0.4444444444444444,
              "#bd3786"
             ],
             [
              0.5555555555555556,
              "#d8576b"
             ],
             [
              0.6666666666666666,
              "#ed7953"
             ],
             [
              0.7777777777777778,
              "#fb9f3a"
             ],
             [
              0.8888888888888888,
              "#fdca26"
             ],
             [
              1,
              "#f0f921"
             ]
            ],
            "type": "histogram2d"
           }
          ],
          "histogram2dcontour": [
           {
            "colorbar": {
             "outlinewidth": 0,
             "ticks": ""
            },
            "colorscale": [
             [
              0,
              "#0d0887"
             ],
             [
              0.1111111111111111,
              "#46039f"
             ],
             [
              0.2222222222222222,
              "#7201a8"
             ],
             [
              0.3333333333333333,
              "#9c179e"
             ],
             [
              0.4444444444444444,
              "#bd3786"
             ],
             [
              0.5555555555555556,
              "#d8576b"
             ],
             [
              0.6666666666666666,
              "#ed7953"
             ],
             [
              0.7777777777777778,
              "#fb9f3a"
             ],
             [
              0.8888888888888888,
              "#fdca26"
             ],
             [
              1,
              "#f0f921"
             ]
            ],
            "type": "histogram2dcontour"
           }
          ],
          "mesh3d": [
           {
            "colorbar": {
             "outlinewidth": 0,
             "ticks": ""
            },
            "type": "mesh3d"
           }
          ],
          "parcoords": [
           {
            "line": {
             "colorbar": {
              "outlinewidth": 0,
              "ticks": ""
             }
            },
            "type": "parcoords"
           }
          ],
          "pie": [
           {
            "automargin": true,
            "type": "pie"
           }
          ],
          "scatter": [
           {
            "fillpattern": {
             "fillmode": "overlay",
             "size": 10,
             "solidity": 0.2
            },
            "type": "scatter"
           }
          ],
          "scatter3d": [
           {
            "line": {
             "colorbar": {
              "outlinewidth": 0,
              "ticks": ""
             }
            },
            "marker": {
             "colorbar": {
              "outlinewidth": 0,
              "ticks": ""
             }
            },
            "type": "scatter3d"
           }
          ],
          "scattercarpet": [
           {
            "marker": {
             "colorbar": {
              "outlinewidth": 0,
              "ticks": ""
             }
            },
            "type": "scattercarpet"
           }
          ],
          "scattergeo": [
           {
            "marker": {
             "colorbar": {
              "outlinewidth": 0,
              "ticks": ""
             }
            },
            "type": "scattergeo"
           }
          ],
          "scattergl": [
           {
            "marker": {
             "colorbar": {
              "outlinewidth": 0,
              "ticks": ""
             }
            },
            "type": "scattergl"
           }
          ],
          "scattermap": [
           {
            "marker": {
             "colorbar": {
              "outlinewidth": 0,
              "ticks": ""
             }
            },
            "type": "scattermap"
           }
          ],
          "scattermapbox": [
           {
            "marker": {
             "colorbar": {
              "outlinewidth": 0,
              "ticks": ""
             }
            },
            "type": "scattermapbox"
           }
          ],
          "scatterpolar": [
           {
            "marker": {
             "colorbar": {
              "outlinewidth": 0,
              "ticks": ""
             }
            },
            "type": "scatterpolar"
           }
          ],
          "scatterpolargl": [
           {
            "marker": {
             "colorbar": {
              "outlinewidth": 0,
              "ticks": ""
             }
            },
            "type": "scatterpolargl"
           }
          ],
          "scatterternary": [
           {
            "marker": {
             "colorbar": {
              "outlinewidth": 0,
              "ticks": ""
             }
            },
            "type": "scatterternary"
           }
          ],
          "surface": [
           {
            "colorbar": {
             "outlinewidth": 0,
             "ticks": ""
            },
            "colorscale": [
             [
              0,
              "#0d0887"
             ],
             [
              0.1111111111111111,
              "#46039f"
             ],
             [
              0.2222222222222222,
              "#7201a8"
             ],
             [
              0.3333333333333333,
              "#9c179e"
             ],
             [
              0.4444444444444444,
              "#bd3786"
             ],
             [
              0.5555555555555556,
              "#d8576b"
             ],
             [
              0.6666666666666666,
              "#ed7953"
             ],
             [
              0.7777777777777778,
              "#fb9f3a"
             ],
             [
              0.8888888888888888,
              "#fdca26"
             ],
             [
              1,
              "#f0f921"
             ]
            ],
            "type": "surface"
           }
          ],
          "table": [
           {
            "cells": {
             "fill": {
              "color": "#EBF0F8"
             },
             "line": {
              "color": "white"
             }
            },
            "header": {
             "fill": {
              "color": "#C8D4E3"
             },
             "line": {
              "color": "white"
             }
            },
            "type": "table"
           }
          ]
         },
         "layout": {
          "annotationdefaults": {
           "arrowcolor": "#2a3f5f",
           "arrowhead": 0,
           "arrowwidth": 1
          },
          "autotypenumbers": "strict",
          "coloraxis": {
           "colorbar": {
            "outlinewidth": 0,
            "ticks": ""
           }
          },
          "colorscale": {
           "diverging": [
            [
             0,
             "#8e0152"
            ],
            [
             0.1,
             "#c51b7d"
            ],
            [
             0.2,
             "#de77ae"
            ],
            [
             0.3,
             "#f1b6da"
            ],
            [
             0.4,
             "#fde0ef"
            ],
            [
             0.5,
             "#f7f7f7"
            ],
            [
             0.6,
             "#e6f5d0"
            ],
            [
             0.7,
             "#b8e186"
            ],
            [
             0.8,
             "#7fbc41"
            ],
            [
             0.9,
             "#4d9221"
            ],
            [
             1,
             "#276419"
            ]
           ],
           "sequential": [
            [
             0,
             "#0d0887"
            ],
            [
             0.1111111111111111,
             "#46039f"
            ],
            [
             0.2222222222222222,
             "#7201a8"
            ],
            [
             0.3333333333333333,
             "#9c179e"
            ],
            [
             0.4444444444444444,
             "#bd3786"
            ],
            [
             0.5555555555555556,
             "#d8576b"
            ],
            [
             0.6666666666666666,
             "#ed7953"
            ],
            [
             0.7777777777777778,
             "#fb9f3a"
            ],
            [
             0.8888888888888888,
             "#fdca26"
            ],
            [
             1,
             "#f0f921"
            ]
           ],
           "sequentialminus": [
            [
             0,
             "#0d0887"
            ],
            [
             0.1111111111111111,
             "#46039f"
            ],
            [
             0.2222222222222222,
             "#7201a8"
            ],
            [
             0.3333333333333333,
             "#9c179e"
            ],
            [
             0.4444444444444444,
             "#bd3786"
            ],
            [
             0.5555555555555556,
             "#d8576b"
            ],
            [
             0.6666666666666666,
             "#ed7953"
            ],
            [
             0.7777777777777778,
             "#fb9f3a"
            ],
            [
             0.8888888888888888,
             "#fdca26"
            ],
            [
             1,
             "#f0f921"
            ]
           ]
          },
          "colorway": [
           "#636efa",
           "#EF553B",
           "#00cc96",
           "#ab63fa",
           "#FFA15A",
           "#19d3f3",
           "#FF6692",
           "#B6E880",
           "#FF97FF",
           "#FECB52"
          ],
          "font": {
           "color": "#2a3f5f"
          },
          "geo": {
           "bgcolor": "white",
           "lakecolor": "white",
           "landcolor": "#E5ECF6",
           "showlakes": true,
           "showland": true,
           "subunitcolor": "white"
          },
          "hoverlabel": {
           "align": "left"
          },
          "hovermode": "closest",
          "mapbox": {
           "style": "light"
          },
          "paper_bgcolor": "white",
          "plot_bgcolor": "#E5ECF6",
          "polar": {
           "angularaxis": {
            "gridcolor": "white",
            "linecolor": "white",
            "ticks": ""
           },
           "bgcolor": "#E5ECF6",
           "radialaxis": {
            "gridcolor": "white",
            "linecolor": "white",
            "ticks": ""
           }
          },
          "scene": {
           "xaxis": {
            "backgroundcolor": "#E5ECF6",
            "gridcolor": "white",
            "gridwidth": 2,
            "linecolor": "white",
            "showbackground": true,
            "ticks": "",
            "zerolinecolor": "white"
           },
           "yaxis": {
            "backgroundcolor": "#E5ECF6",
            "gridcolor": "white",
            "gridwidth": 2,
            "linecolor": "white",
            "showbackground": true,
            "ticks": "",
            "zerolinecolor": "white"
           },
           "zaxis": {
            "backgroundcolor": "#E5ECF6",
            "gridcolor": "white",
            "gridwidth": 2,
            "linecolor": "white",
            "showbackground": true,
            "ticks": "",
            "zerolinecolor": "white"
           }
          },
          "shapedefaults": {
           "line": {
            "color": "#2a3f5f"
           }
          },
          "ternary": {
           "aaxis": {
            "gridcolor": "white",
            "linecolor": "white",
            "ticks": ""
           },
           "baxis": {
            "gridcolor": "white",
            "linecolor": "white",
            "ticks": ""
           },
           "bgcolor": "#E5ECF6",
           "caxis": {
            "gridcolor": "white",
            "linecolor": "white",
            "ticks": ""
           }
          },
          "title": {
           "x": 0.05
          },
          "xaxis": {
           "automargin": true,
           "gridcolor": "white",
           "linecolor": "white",
           "ticks": "",
           "title": {
            "standoff": 15
           },
           "zerolinecolor": "white",
           "zerolinewidth": 2
          },
          "yaxis": {
           "automargin": true,
           "gridcolor": "white",
           "linecolor": "white",
           "ticks": "",
           "title": {
            "standoff": 15
           },
           "zerolinecolor": "white",
           "zerolinewidth": 2
          }
         }
        },
        "title": {
         "text": "Slice Plot"
        },
        "width": 2100,
        "xaxis": {
         "anchor": "y",
         "domain": [
          0,
          0.1183673469387755
         ],
         "title": {
          "text": "C"
         },
         "type": "log"
        },
        "xaxis2": {
         "anchor": "y2",
         "domain": [
          0.14693877551020407,
          0.26530612244897955
         ],
         "title": {
          "text": "epsilon"
         },
         "type": "log"
        },
        "xaxis3": {
         "anchor": "y3",
         "domain": [
          0.29387755102040813,
          0.4122448979591836
         ],
         "title": {
          "text": "gamma"
         },
         "type": "log"
        },
        "xaxis4": {
         "anchor": "y4",
         "categoryarray": [
          "linear",
          "poly",
          "rbf",
          "sigmoid"
         ],
         "categoryorder": "array",
         "domain": [
          0.4408163265306122,
          0.5591836734693877
         ],
         "title": {
          "text": "kernel"
         },
         "type": "category"
        },
        "xaxis5": {
         "anchor": "y5",
         "domain": [
          0.5877551020408163,
          0.7061224489795918
         ],
         "title": {
          "text": "max_iter"
         },
         "type": "log"
        },
        "xaxis6": {
         "anchor": "y6",
         "domain": [
          0.7346938775510204,
          0.8530612244897959
         ],
         "title": {
          "text": "poly_degree"
         }
        },
        "xaxis7": {
         "anchor": "y7",
         "categoryarray": [
          "standard",
          "minmax",
          "robust"
         ],
         "categoryorder": "array",
         "domain": [
          0.8816326530612244,
          0.9999999999999999
         ],
         "title": {
          "text": "scaler"
         },
         "type": "category"
        },
        "yaxis": {
         "anchor": "x",
         "domain": [
          0,
          1
         ],
         "title": {
          "text": "Objective Value"
         }
        },
        "yaxis2": {
         "anchor": "x2",
         "domain": [
          0,
          1
         ],
         "matches": "y",
         "showticklabels": false
        },
        "yaxis3": {
         "anchor": "x3",
         "domain": [
          0,
          1
         ],
         "matches": "y",
         "showticklabels": false
        },
        "yaxis4": {
         "anchor": "x4",
         "domain": [
          0,
          1
         ],
         "matches": "y",
         "showticklabels": false
        },
        "yaxis5": {
         "anchor": "x5",
         "domain": [
          0,
          1
         ],
         "matches": "y",
         "showticklabels": false
        },
        "yaxis6": {
         "anchor": "x6",
         "domain": [
          0,
          1
         ],
         "matches": "y",
         "showticklabels": false
        },
        "yaxis7": {
         "anchor": "x7",
         "domain": [
          0,
          1
         ],
         "matches": "y",
         "showticklabels": false
        }
       }
      }
     },
     "metadata": {},
     "output_type": "display_data"
    }
   ],
   "source": [
    "optuna.visualization.plot_slice(study, params=['C','epsilon','kernel','gamma','max_iter','poly_degree', 'scaler'])"
   ]
  },
  {
   "cell_type": "code",
   "execution_count": 373,
   "metadata": {},
   "outputs": [
    {
     "data": {
      "application/vnd.plotly.v1+json": {
       "config": {
        "plotlyServerURL": "https://plot.ly"
       },
       "data": [
        {
         "cliponaxis": false,
         "hovertemplate": [
          "scaler (CategoricalDistribution): 0.01792401247224154<extra></extra>",
          "kernel (CategoricalDistribution): 0.03891444303898991<extra></extra>",
          "use_poly (CategoricalDistribution): 0.0702425410218758<extra></extra>",
          "epsilon (FloatDistribution): 0.10283941998687834<extra></extra>",
          "max_iter (IntDistribution): 0.17346403800716734<extra></extra>",
          "C (FloatDistribution): 0.5966155454728471<extra></extra>"
         ],
         "name": "Objective Value",
         "orientation": "h",
         "text": [
          "0.02",
          "0.04",
          "0.07",
          "0.10",
          "0.17",
          "0.60"
         ],
         "textposition": "outside",
         "type": "bar",
         "x": [
          0.01792401247224154,
          0.03891444303898991,
          0.0702425410218758,
          0.10283941998687834,
          0.17346403800716734,
          0.5966155454728471
         ],
         "y": [
          "scaler",
          "kernel",
          "use_poly",
          "epsilon",
          "max_iter",
          "C"
         ]
        }
       ],
       "layout": {
        "template": {
         "data": {
          "bar": [
           {
            "error_x": {
             "color": "#2a3f5f"
            },
            "error_y": {
             "color": "#2a3f5f"
            },
            "marker": {
             "line": {
              "color": "#E5ECF6",
              "width": 0.5
             },
             "pattern": {
              "fillmode": "overlay",
              "size": 10,
              "solidity": 0.2
             }
            },
            "type": "bar"
           }
          ],
          "barpolar": [
           {
            "marker": {
             "line": {
              "color": "#E5ECF6",
              "width": 0.5
             },
             "pattern": {
              "fillmode": "overlay",
              "size": 10,
              "solidity": 0.2
             }
            },
            "type": "barpolar"
           }
          ],
          "carpet": [
           {
            "aaxis": {
             "endlinecolor": "#2a3f5f",
             "gridcolor": "white",
             "linecolor": "white",
             "minorgridcolor": "white",
             "startlinecolor": "#2a3f5f"
            },
            "baxis": {
             "endlinecolor": "#2a3f5f",
             "gridcolor": "white",
             "linecolor": "white",
             "minorgridcolor": "white",
             "startlinecolor": "#2a3f5f"
            },
            "type": "carpet"
           }
          ],
          "choropleth": [
           {
            "colorbar": {
             "outlinewidth": 0,
             "ticks": ""
            },
            "type": "choropleth"
           }
          ],
          "contour": [
           {
            "colorbar": {
             "outlinewidth": 0,
             "ticks": ""
            },
            "colorscale": [
             [
              0,
              "#0d0887"
             ],
             [
              0.1111111111111111,
              "#46039f"
             ],
             [
              0.2222222222222222,
              "#7201a8"
             ],
             [
              0.3333333333333333,
              "#9c179e"
             ],
             [
              0.4444444444444444,
              "#bd3786"
             ],
             [
              0.5555555555555556,
              "#d8576b"
             ],
             [
              0.6666666666666666,
              "#ed7953"
             ],
             [
              0.7777777777777778,
              "#fb9f3a"
             ],
             [
              0.8888888888888888,
              "#fdca26"
             ],
             [
              1,
              "#f0f921"
             ]
            ],
            "type": "contour"
           }
          ],
          "contourcarpet": [
           {
            "colorbar": {
             "outlinewidth": 0,
             "ticks": ""
            },
            "type": "contourcarpet"
           }
          ],
          "heatmap": [
           {
            "colorbar": {
             "outlinewidth": 0,
             "ticks": ""
            },
            "colorscale": [
             [
              0,
              "#0d0887"
             ],
             [
              0.1111111111111111,
              "#46039f"
             ],
             [
              0.2222222222222222,
              "#7201a8"
             ],
             [
              0.3333333333333333,
              "#9c179e"
             ],
             [
              0.4444444444444444,
              "#bd3786"
             ],
             [
              0.5555555555555556,
              "#d8576b"
             ],
             [
              0.6666666666666666,
              "#ed7953"
             ],
             [
              0.7777777777777778,
              "#fb9f3a"
             ],
             [
              0.8888888888888888,
              "#fdca26"
             ],
             [
              1,
              "#f0f921"
             ]
            ],
            "type": "heatmap"
           }
          ],
          "histogram": [
           {
            "marker": {
             "pattern": {
              "fillmode": "overlay",
              "size": 10,
              "solidity": 0.2
             }
            },
            "type": "histogram"
           }
          ],
          "histogram2d": [
           {
            "colorbar": {
             "outlinewidth": 0,
             "ticks": ""
            },
            "colorscale": [
             [
              0,
              "#0d0887"
             ],
             [
              0.1111111111111111,
              "#46039f"
             ],
             [
              0.2222222222222222,
              "#7201a8"
             ],
             [
              0.3333333333333333,
              "#9c179e"
             ],
             [
              0.4444444444444444,
              "#bd3786"
             ],
             [
              0.5555555555555556,
              "#d8576b"
             ],
             [
              0.6666666666666666,
              "#ed7953"
             ],
             [
              0.7777777777777778,
              "#fb9f3a"
             ],
             [
              0.8888888888888888,
              "#fdca26"
             ],
             [
              1,
              "#f0f921"
             ]
            ],
            "type": "histogram2d"
           }
          ],
          "histogram2dcontour": [
           {
            "colorbar": {
             "outlinewidth": 0,
             "ticks": ""
            },
            "colorscale": [
             [
              0,
              "#0d0887"
             ],
             [
              0.1111111111111111,
              "#46039f"
             ],
             [
              0.2222222222222222,
              "#7201a8"
             ],
             [
              0.3333333333333333,
              "#9c179e"
             ],
             [
              0.4444444444444444,
              "#bd3786"
             ],
             [
              0.5555555555555556,
              "#d8576b"
             ],
             [
              0.6666666666666666,
              "#ed7953"
             ],
             [
              0.7777777777777778,
              "#fb9f3a"
             ],
             [
              0.8888888888888888,
              "#fdca26"
             ],
             [
              1,
              "#f0f921"
             ]
            ],
            "type": "histogram2dcontour"
           }
          ],
          "mesh3d": [
           {
            "colorbar": {
             "outlinewidth": 0,
             "ticks": ""
            },
            "type": "mesh3d"
           }
          ],
          "parcoords": [
           {
            "line": {
             "colorbar": {
              "outlinewidth": 0,
              "ticks": ""
             }
            },
            "type": "parcoords"
           }
          ],
          "pie": [
           {
            "automargin": true,
            "type": "pie"
           }
          ],
          "scatter": [
           {
            "fillpattern": {
             "fillmode": "overlay",
             "size": 10,
             "solidity": 0.2
            },
            "type": "scatter"
           }
          ],
          "scatter3d": [
           {
            "line": {
             "colorbar": {
              "outlinewidth": 0,
              "ticks": ""
             }
            },
            "marker": {
             "colorbar": {
              "outlinewidth": 0,
              "ticks": ""
             }
            },
            "type": "scatter3d"
           }
          ],
          "scattercarpet": [
           {
            "marker": {
             "colorbar": {
              "outlinewidth": 0,
              "ticks": ""
             }
            },
            "type": "scattercarpet"
           }
          ],
          "scattergeo": [
           {
            "marker": {
             "colorbar": {
              "outlinewidth": 0,
              "ticks": ""
             }
            },
            "type": "scattergeo"
           }
          ],
          "scattergl": [
           {
            "marker": {
             "colorbar": {
              "outlinewidth": 0,
              "ticks": ""
             }
            },
            "type": "scattergl"
           }
          ],
          "scattermap": [
           {
            "marker": {
             "colorbar": {
              "outlinewidth": 0,
              "ticks": ""
             }
            },
            "type": "scattermap"
           }
          ],
          "scattermapbox": [
           {
            "marker": {
             "colorbar": {
              "outlinewidth": 0,
              "ticks": ""
             }
            },
            "type": "scattermapbox"
           }
          ],
          "scatterpolar": [
           {
            "marker": {
             "colorbar": {
              "outlinewidth": 0,
              "ticks": ""
             }
            },
            "type": "scatterpolar"
           }
          ],
          "scatterpolargl": [
           {
            "marker": {
             "colorbar": {
              "outlinewidth": 0,
              "ticks": ""
             }
            },
            "type": "scatterpolargl"
           }
          ],
          "scatterternary": [
           {
            "marker": {
             "colorbar": {
              "outlinewidth": 0,
              "ticks": ""
             }
            },
            "type": "scatterternary"
           }
          ],
          "surface": [
           {
            "colorbar": {
             "outlinewidth": 0,
             "ticks": ""
            },
            "colorscale": [
             [
              0,
              "#0d0887"
             ],
             [
              0.1111111111111111,
              "#46039f"
             ],
             [
              0.2222222222222222,
              "#7201a8"
             ],
             [
              0.3333333333333333,
              "#9c179e"
             ],
             [
              0.4444444444444444,
              "#bd3786"
             ],
             [
              0.5555555555555556,
              "#d8576b"
             ],
             [
              0.6666666666666666,
              "#ed7953"
             ],
             [
              0.7777777777777778,
              "#fb9f3a"
             ],
             [
              0.8888888888888888,
              "#fdca26"
             ],
             [
              1,
              "#f0f921"
             ]
            ],
            "type": "surface"
           }
          ],
          "table": [
           {
            "cells": {
             "fill": {
              "color": "#EBF0F8"
             },
             "line": {
              "color": "white"
             }
            },
            "header": {
             "fill": {
              "color": "#C8D4E3"
             },
             "line": {
              "color": "white"
             }
            },
            "type": "table"
           }
          ]
         },
         "layout": {
          "annotationdefaults": {
           "arrowcolor": "#2a3f5f",
           "arrowhead": 0,
           "arrowwidth": 1
          },
          "autotypenumbers": "strict",
          "coloraxis": {
           "colorbar": {
            "outlinewidth": 0,
            "ticks": ""
           }
          },
          "colorscale": {
           "diverging": [
            [
             0,
             "#8e0152"
            ],
            [
             0.1,
             "#c51b7d"
            ],
            [
             0.2,
             "#de77ae"
            ],
            [
             0.3,
             "#f1b6da"
            ],
            [
             0.4,
             "#fde0ef"
            ],
            [
             0.5,
             "#f7f7f7"
            ],
            [
             0.6,
             "#e6f5d0"
            ],
            [
             0.7,
             "#b8e186"
            ],
            [
             0.8,
             "#7fbc41"
            ],
            [
             0.9,
             "#4d9221"
            ],
            [
             1,
             "#276419"
            ]
           ],
           "sequential": [
            [
             0,
             "#0d0887"
            ],
            [
             0.1111111111111111,
             "#46039f"
            ],
            [
             0.2222222222222222,
             "#7201a8"
            ],
            [
             0.3333333333333333,
             "#9c179e"
            ],
            [
             0.4444444444444444,
             "#bd3786"
            ],
            [
             0.5555555555555556,
             "#d8576b"
            ],
            [
             0.6666666666666666,
             "#ed7953"
            ],
            [
             0.7777777777777778,
             "#fb9f3a"
            ],
            [
             0.8888888888888888,
             "#fdca26"
            ],
            [
             1,
             "#f0f921"
            ]
           ],
           "sequentialminus": [
            [
             0,
             "#0d0887"
            ],
            [
             0.1111111111111111,
             "#46039f"
            ],
            [
             0.2222222222222222,
             "#7201a8"
            ],
            [
             0.3333333333333333,
             "#9c179e"
            ],
            [
             0.4444444444444444,
             "#bd3786"
            ],
            [
             0.5555555555555556,
             "#d8576b"
            ],
            [
             0.6666666666666666,
             "#ed7953"
            ],
            [
             0.7777777777777778,
             "#fb9f3a"
            ],
            [
             0.8888888888888888,
             "#fdca26"
            ],
            [
             1,
             "#f0f921"
            ]
           ]
          },
          "colorway": [
           "#636efa",
           "#EF553B",
           "#00cc96",
           "#ab63fa",
           "#FFA15A",
           "#19d3f3",
           "#FF6692",
           "#B6E880",
           "#FF97FF",
           "#FECB52"
          ],
          "font": {
           "color": "#2a3f5f"
          },
          "geo": {
           "bgcolor": "white",
           "lakecolor": "white",
           "landcolor": "#E5ECF6",
           "showlakes": true,
           "showland": true,
           "subunitcolor": "white"
          },
          "hoverlabel": {
           "align": "left"
          },
          "hovermode": "closest",
          "mapbox": {
           "style": "light"
          },
          "paper_bgcolor": "white",
          "plot_bgcolor": "#E5ECF6",
          "polar": {
           "angularaxis": {
            "gridcolor": "white",
            "linecolor": "white",
            "ticks": ""
           },
           "bgcolor": "#E5ECF6",
           "radialaxis": {
            "gridcolor": "white",
            "linecolor": "white",
            "ticks": ""
           }
          },
          "scene": {
           "xaxis": {
            "backgroundcolor": "#E5ECF6",
            "gridcolor": "white",
            "gridwidth": 2,
            "linecolor": "white",
            "showbackground": true,
            "ticks": "",
            "zerolinecolor": "white"
           },
           "yaxis": {
            "backgroundcolor": "#E5ECF6",
            "gridcolor": "white",
            "gridwidth": 2,
            "linecolor": "white",
            "showbackground": true,
            "ticks": "",
            "zerolinecolor": "white"
           },
           "zaxis": {
            "backgroundcolor": "#E5ECF6",
            "gridcolor": "white",
            "gridwidth": 2,
            "linecolor": "white",
            "showbackground": true,
            "ticks": "",
            "zerolinecolor": "white"
           }
          },
          "shapedefaults": {
           "line": {
            "color": "#2a3f5f"
           }
          },
          "ternary": {
           "aaxis": {
            "gridcolor": "white",
            "linecolor": "white",
            "ticks": ""
           },
           "baxis": {
            "gridcolor": "white",
            "linecolor": "white",
            "ticks": ""
           },
           "bgcolor": "#E5ECF6",
           "caxis": {
            "gridcolor": "white",
            "linecolor": "white",
            "ticks": ""
           }
          },
          "title": {
           "x": 0.05
          },
          "xaxis": {
           "automargin": true,
           "gridcolor": "white",
           "linecolor": "white",
           "ticks": "",
           "title": {
            "standoff": 15
           },
           "zerolinecolor": "white",
           "zerolinewidth": 2
          },
          "yaxis": {
           "automargin": true,
           "gridcolor": "white",
           "linecolor": "white",
           "ticks": "",
           "title": {
            "standoff": 15
           },
           "zerolinecolor": "white",
           "zerolinewidth": 2
          }
         }
        },
        "title": {
         "text": "Hyperparameter Importances"
        },
        "xaxis": {
         "title": {
          "text": "Hyperparameter Importance"
         }
        },
        "yaxis": {
         "title": {
          "text": "Hyperparameter"
         }
        }
       }
      }
     },
     "metadata": {},
     "output_type": "display_data"
    }
   ],
   "source": [
    "optuna.visualization.plot_param_importances(study)"
   ]
  },
  {
   "cell_type": "code",
   "execution_count": 376,
   "metadata": {},
   "outputs": [],
   "source": [
    "best_C = best_params['C']\n",
    "best_epsilon = best_params['epsilon']\n",
    "best_kernel = best_params['kernel']\n",
    "best_max_iter = best_params['max_iter']\n",
    "\n"
   ]
  },
  {
   "cell_type": "code",
   "execution_count": 377,
   "metadata": {},
   "outputs": [],
   "source": [
    "numeric_pipeline_SVR = Pipeline([\n",
    "    ('imputer', SimpleImputer(strategy='mean')),\n",
    "        ('poly', PolynomialFeatures(degree=2, include_bias=False)),\n",
    "        ('scaler',MinMaxScaler())\n",
    "])\n",
    "\n",
    "categorical_pipeline_SVR = Pipeline([\n",
    "    ('imputer', SimpleImputer(strategy='most_frequent')),\n",
    "    ('onehot',  OneHotEncoder(handle_unknown='ignore', sparse_output=False,drop='first')),\n",
    "])\n",
    "\n",
    "preprocessor = ColumnTransformer([\n",
    "    ('num', numeric_pipeline_elastic,      num_cols),\n",
    "    ('cat', categorical_pipeline_elastic,  cat_cols),\n",
    "],\n",
    "remainder='passthrough')\n",
    "\n",
    "svr = Pipeline([\n",
    "    ('prepoc',preprocessor),\n",
    "        ('svr', SVR(\n",
    "            C=best_C,\n",
    "            epsilon=best_epsilon,\n",
    "            kernel=best_kernel,\n",
    "            max_iter=best_max_iter\n",
    "        )),\n",
    "    \n",
    "])"
   ]
  },
  {
   "cell_type": "code",
   "execution_count": 378,
   "metadata": {},
   "outputs": [
    {
     "name": "stdout",
     "output_type": "stream",
     "text": [
      "SVR Regressor CV results:\n",
      "[0.01023654 0.00424866 0.00452444 0.01362903 0.00501421]\n",
      "RMSE: 0.01 +/- 0.00\n",
      "\n"
     ]
    },
    {
     "name": "stderr",
     "output_type": "stream",
     "text": [
      "/Users/jgfaraco/miniconda3/lib/python3.12/site-packages/sklearn/svm/_base.py:305: ConvergenceWarning: Solver terminated early (max_iter=14385).  Consider pre-processing your data with StandardScaler or MinMaxScaler.\n",
      "  warnings.warn(\n",
      "/Users/jgfaraco/miniconda3/lib/python3.12/site-packages/sklearn/svm/_base.py:305: ConvergenceWarning: Solver terminated early (max_iter=14385).  Consider pre-processing your data with StandardScaler or MinMaxScaler.\n",
      "  warnings.warn(\n",
      "/Users/jgfaraco/miniconda3/lib/python3.12/site-packages/sklearn/svm/_base.py:305: ConvergenceWarning: Solver terminated early (max_iter=14385).  Consider pre-processing your data with StandardScaler or MinMaxScaler.\n",
      "  warnings.warn(\n",
      "/Users/jgfaraco/miniconda3/lib/python3.12/site-packages/sklearn/svm/_base.py:305: ConvergenceWarning: Solver terminated early (max_iter=14385).  Consider pre-processing your data with StandardScaler or MinMaxScaler.\n",
      "  warnings.warn(\n",
      "/Users/jgfaraco/miniconda3/lib/python3.12/site-packages/sklearn/svm/_base.py:305: ConvergenceWarning: Solver terminated early (max_iter=14385).  Consider pre-processing your data with StandardScaler or MinMaxScaler.\n",
      "  warnings.warn(\n"
     ]
    }
   ],
   "source": [
    "svr_cv = cross_val_score(\n",
    "        svr, X_train, y_train,\n",
    "        cv=5,\n",
    "        scoring='neg_mean_squared_error',\n",
    "        n_jobs=-1\n",
    "    )\n",
    "print_cv_results('SVR Regressor',svr_cv)"
   ]
  },
  {
   "cell_type": "code",
   "execution_count": 379,
   "metadata": {},
   "outputs": [],
   "source": [
    "result['SVR'] = svr_cv"
   ]
  },
  {
   "cell_type": "markdown",
   "metadata": {},
   "source": [
    "# Avaliando os modelos"
   ]
  },
  {
   "cell_type": "code",
   "execution_count": 381,
   "metadata": {},
   "outputs": [
    {
     "data": {
      "text/html": [
       "<div>\n",
       "<style scoped>\n",
       "    .dataframe tbody tr th:only-of-type {\n",
       "        vertical-align: middle;\n",
       "    }\n",
       "\n",
       "    .dataframe tbody tr th {\n",
       "        vertical-align: top;\n",
       "    }\n",
       "\n",
       "    .dataframe thead th {\n",
       "        text-align: right;\n",
       "    }\n",
       "</style>\n",
       "<table border=\"1\" class=\"dataframe\">\n",
       "  <thead>\n",
       "    <tr style=\"text-align: right;\">\n",
       "      <th></th>\n",
       "      <th>Dummy</th>\n",
       "      <th>ElsticNet</th>\n",
       "      <th>RandomForest</th>\n",
       "      <th>LinearReg</th>\n",
       "      <th>SVR</th>\n",
       "    </tr>\n",
       "  </thead>\n",
       "  <tbody>\n",
       "    <tr>\n",
       "      <th>0</th>\n",
       "      <td>-0.024326</td>\n",
       "      <td>-0.003458</td>\n",
       "      <td>-0.004101</td>\n",
       "      <td>-0.002892</td>\n",
       "      <td>-0.010237</td>\n",
       "    </tr>\n",
       "    <tr>\n",
       "      <th>1</th>\n",
       "      <td>-0.024591</td>\n",
       "      <td>-0.003456</td>\n",
       "      <td>-0.003917</td>\n",
       "      <td>-0.003040</td>\n",
       "      <td>-0.004249</td>\n",
       "    </tr>\n",
       "    <tr>\n",
       "      <th>2</th>\n",
       "      <td>-0.025826</td>\n",
       "      <td>-0.003484</td>\n",
       "      <td>-0.003651</td>\n",
       "      <td>-0.003020</td>\n",
       "      <td>-0.004524</td>\n",
       "    </tr>\n",
       "    <tr>\n",
       "      <th>3</th>\n",
       "      <td>-0.023849</td>\n",
       "      <td>-0.002923</td>\n",
       "      <td>-0.003601</td>\n",
       "      <td>-0.002526</td>\n",
       "      <td>-0.013629</td>\n",
       "    </tr>\n",
       "    <tr>\n",
       "      <th>4</th>\n",
       "      <td>-0.022861</td>\n",
       "      <td>-0.003060</td>\n",
       "      <td>-0.003593</td>\n",
       "      <td>-0.003013</td>\n",
       "      <td>-0.005014</td>\n",
       "    </tr>\n",
       "  </tbody>\n",
       "</table>\n",
       "</div>"
      ],
      "text/plain": [
       "      Dummy  ElsticNet  RandomForest  LinearReg       SVR\n",
       "0 -0.024326  -0.003458     -0.004101  -0.002892 -0.010237\n",
       "1 -0.024591  -0.003456     -0.003917  -0.003040 -0.004249\n",
       "2 -0.025826  -0.003484     -0.003651  -0.003020 -0.004524\n",
       "3 -0.023849  -0.002923     -0.003601  -0.002526 -0.013629\n",
       "4 -0.022861  -0.003060     -0.003593  -0.003013 -0.005014"
      ]
     },
     "execution_count": 381,
     "metadata": {},
     "output_type": "execute_result"
    }
   ],
   "source": [
    "result"
   ]
  },
  {
   "cell_type": "code",
   "execution_count": 333,
   "metadata": {},
   "outputs": [
    {
     "name": "stdout",
     "output_type": "stream",
     "text": [
      "Média de NRMSE do Dummy Model -0.024290639236509086\n",
      "Média de NRMSE do Linear model -0.002898128376183294\n",
      "Média de NRMSE do ElasticNet model -0.0032827821041055217\n",
      "Média de NNRMSE do RandomForest model -0.003772751297930811\n",
      "Média de NNRMSE do SVR model -0.015095335983458077\n"
     ]
    }
   ],
   "source": [
    "print('Média de NRMSE do Dummy Model', result['Dummy'].mean())\n",
    "print('Média de NRMSE do Linear model', result['LinearReg'].mean())\n",
    "print('Média de NRMSE do ElasticNet model', result['ElsticNet'].mean())\n",
    "print('Média de NNRMSE do RandomForest model', result['RandomForest'].mean())\n",
    "print('Média de NNRMSE do SVR model', result['SVR'].mean())"
   ]
  },
  {
   "cell_type": "code",
   "execution_count": 334,
   "metadata": {},
   "outputs": [],
   "source": [
    "from scipy.stats import ttest_rel"
   ]
  },
  {
   "cell_type": "code",
   "execution_count": 335,
   "metadata": {},
   "outputs": [
    {
     "name": "stdout",
     "output_type": "stream",
     "text": [
      "Melhor modelo: LinearReg (erro médio = -0.0029)\n",
      "\n",
      "Dummy           → Δmédia = -0.0214 | p-valor = 0.0000 | Significativo p < 0.0125? SIM\n",
      "ElsticNet       → Δmédia = -0.0004 | p-valor = 0.0124 | Significativo p < 0.0125? SIM\n",
      "RandomForest    → Δmédia = -0.0009 | p-valor = 0.0020 | Significativo p < 0.0125? SIM\n",
      "SVR             → Δmédia = -0.0122 | p-valor = 0.0000 | Significativo p < 0.0125? SIM\n"
     ]
    }
   ],
   "source": [
    "\n",
    "\n",
    "scores_dict = result.to_dict(orient='list')\n",
    "means = {name: np.mean(vals) for name, vals in scores_dict.items()}\n",
    "best_name = max(means, key=means.get)\n",
    "print(f\"Melhor modelo: {best_name} (erro médio = {means[best_name]:.4f})\\n\")\n",
    "\n",
    "alpha = 0.05\n",
    "n_models = len(scores_dict) - 1\n",
    "alpha_corr = alpha / n_models\n",
    "for name, scores in scores_dict.items():\n",
    "    if name == best_name:\n",
    "        continue\n",
    "\n",
    "    best_scores = scores_dict[best_name]\n",
    "    other_scores = scores\n",
    "    stat, p = ttest_rel(best_scores, other_scores)\n",
    "\n",
    "    delta = means[name] - means[best_name]\n",
    "\n",
    "    signif = 'SIM' if p < alpha_corr else 'NÃO'\n",
    "    print(\n",
    "        f\"{name:15s} → Δmédia = {delta:+.4f} | \"\n",
    "        f\"p-valor = {p:.4f} | Significativo p < {alpha_corr:.4f}? {signif}\"\n",
    "    )\n"
   ]
  },
  {
   "cell_type": "markdown",
   "metadata": {},
   "source": [
    "Analisando os coeficientes de variação"
   ]
  },
  {
   "cell_type": "code",
   "execution_count": 237,
   "metadata": {},
   "outputs": [
    {
     "name": "stdout",
     "output_type": "stream",
     "text": [
      "CV do modelo Dummy: 4.33%\n"
     ]
    }
   ],
   "source": [
    "pct_errors = (10**result['Dummy'] - 1) * 100\n",
    "\n",
    "cv = pct_errors.std() / pct_errors.mean() * 100\n",
    "\n",
    "print(f'CV do modelo Dummy: {-cv:.2f}%')"
   ]
  },
  {
   "cell_type": "code",
   "execution_count": 1,
   "metadata": {},
   "outputs": [
    {
     "ename": "NameError",
     "evalue": "name 'result' is not defined",
     "output_type": "error",
     "traceback": [
      "\u001b[0;31m---------------------------------------------------------------------------\u001b[0m",
      "\u001b[0;31mNameError\u001b[0m                                 Traceback (most recent call last)",
      "Cell \u001b[0;32mIn[1], line 1\u001b[0m\n\u001b[0;32m----> 1\u001b[0m pct_errors \u001b[38;5;241m=\u001b[39m (\u001b[38;5;241m10\u001b[39m\u001b[38;5;241m*\u001b[39m\u001b[38;5;241m*\u001b[39m\u001b[43mresult\u001b[49m[\u001b[38;5;124m'\u001b[39m\u001b[38;5;124mLinearReg\u001b[39m\u001b[38;5;124m'\u001b[39m] \u001b[38;5;241m-\u001b[39m \u001b[38;5;241m1\u001b[39m) \u001b[38;5;241m*\u001b[39m \u001b[38;5;241m100\u001b[39m\n\u001b[1;32m      3\u001b[0m cv \u001b[38;5;241m=\u001b[39m pct_errors\u001b[38;5;241m.\u001b[39mstd() \u001b[38;5;241m/\u001b[39m pct_errors\u001b[38;5;241m.\u001b[39mmean() \u001b[38;5;241m*\u001b[39m \u001b[38;5;241m100\u001b[39m\n\u001b[1;32m      5\u001b[0m \u001b[38;5;28mprint\u001b[39m(\u001b[38;5;124mf\u001b[39m\u001b[38;5;124m'\u001b[39m\u001b[38;5;124mCV do modelo LinearReg: \u001b[39m\u001b[38;5;132;01m{\u001b[39;00m\u001b[38;5;241m-\u001b[39mcv\u001b[38;5;132;01m:\u001b[39;00m\u001b[38;5;124m.2f\u001b[39m\u001b[38;5;132;01m}\u001b[39;00m\u001b[38;5;124m%\u001b[39m\u001b[38;5;124m'\u001b[39m)\n",
      "\u001b[0;31mNameError\u001b[0m: name 'result' is not defined"
     ]
    }
   ],
   "source": [
    "pct_errors = (10**result['LinearReg'] - 1) * 100\n",
    "\n",
    "cv = pct_errors.std() / pct_errors.mean() * 100\n",
    "\n",
    "print(f'CV do modelo LinearReg: {-cv:.2f}%')"
   ]
  },
  {
   "cell_type": "code",
   "execution_count": 239,
   "metadata": {},
   "outputs": [
    {
     "name": "stdout",
     "output_type": "stream",
     "text": [
      "CV do modelo RandomForest: 5.98%\n"
     ]
    }
   ],
   "source": [
    "pct_errors = (10**result['RandomForest'] - 1) * 100\n",
    "\n",
    "cv = pct_errors.std() / pct_errors.mean() * 100\n",
    "\n",
    "print(f'CV do modelo RandomForest: {-cv:.2f}%')"
   ]
  },
  {
   "cell_type": "code",
   "execution_count": 240,
   "metadata": {},
   "outputs": [
    {
     "name": "stdout",
     "output_type": "stream",
     "text": [
      "CV do modelo ElasticNet: 7.99%\n"
     ]
    }
   ],
   "source": [
    "pct_errors = (10**result['ElsticNet'] - 1) * 100\n",
    "\n",
    "cv = pct_errors.std() / pct_errors.mean() * 100\n",
    "\n",
    "print(f'CV do modelo ElasticNet: {-cv:.2f}%')\n"
   ]
  }
 ],
 "metadata": {
  "kernelspec": {
   "display_name": "base",
   "language": "python",
   "name": "python3"
  },
  "language_info": {
   "codemirror_mode": {
    "name": "ipython",
    "version": 3
   },
   "file_extension": ".py",
   "mimetype": "text/x-python",
   "name": "python",
   "nbconvert_exporter": "python",
   "pygments_lexer": "ipython3",
   "version": "3.12.2"
  }
 },
 "nbformat": 4,
 "nbformat_minor": 2
}
