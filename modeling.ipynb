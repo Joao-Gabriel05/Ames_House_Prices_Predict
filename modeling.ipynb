{
 "cells": [
  {
   "cell_type": "markdown",
   "metadata": {},
   "source": [
    "# Separação treino-teste"
   ]
  },
  {
   "cell_type": "code",
   "execution_count": 1,
   "metadata": {},
   "outputs": [],
   "source": [
    "from loader_and_preprocess_funcs import *"
   ]
  },
  {
   "cell_type": "code",
   "execution_count": 2,
   "metadata": {},
   "outputs": [],
   "source": [
    "data =load__data()"
   ]
  },
  {
   "cell_type": "code",
   "execution_count": 3,
   "metadata": {},
   "outputs": [],
   "source": [
    "top15 = ['Neighborhood','House.Style','Overall.Qual','Full.Bath','Year.Remod.Add','Lot.Area','TotRms.AbvGrd','Fireplaces','Heating.QC','Lot.Frontage',\n",
    "             'Foundation','Gr.Liv.Area','Kitchen.AbvGr','Open.Porch.SF','Roof.Style','SalePrice']\n",
    "\n",
    "data = choose_feat(data,top15)"
   ]
  },
  {
   "cell_type": "code",
   "execution_count": 4,
   "metadata": {},
   "outputs": [
    {
     "data": {
      "text/html": [
       "<div>\n",
       "<style scoped>\n",
       "    .dataframe tbody tr th:only-of-type {\n",
       "        vertical-align: middle;\n",
       "    }\n",
       "\n",
       "    .dataframe tbody tr th {\n",
       "        vertical-align: top;\n",
       "    }\n",
       "\n",
       "    .dataframe thead th {\n",
       "        text-align: right;\n",
       "    }\n",
       "</style>\n",
       "<table border=\"1\" class=\"dataframe\">\n",
       "  <thead>\n",
       "    <tr style=\"text-align: right;\">\n",
       "      <th></th>\n",
       "      <th>Neighborhood</th>\n",
       "      <th>House.Style</th>\n",
       "      <th>Overall.Qual</th>\n",
       "      <th>Full.Bath</th>\n",
       "      <th>Year.Remod.Add</th>\n",
       "      <th>Lot.Area</th>\n",
       "      <th>TotRms.AbvGrd</th>\n",
       "      <th>Fireplaces</th>\n",
       "      <th>Heating.QC</th>\n",
       "      <th>Lot.Frontage</th>\n",
       "      <th>Foundation</th>\n",
       "      <th>Gr.Liv.Area</th>\n",
       "      <th>Kitchen.AbvGr</th>\n",
       "      <th>Open.Porch.SF</th>\n",
       "      <th>Roof.Style</th>\n",
       "      <th>SalePrice</th>\n",
       "    </tr>\n",
       "  </thead>\n",
       "  <tbody>\n",
       "    <tr>\n",
       "      <th>0</th>\n",
       "      <td>NAmes</td>\n",
       "      <td>1Story</td>\n",
       "      <td>6</td>\n",
       "      <td>1</td>\n",
       "      <td>1960</td>\n",
       "      <td>31770</td>\n",
       "      <td>7</td>\n",
       "      <td>2</td>\n",
       "      <td>Fa</td>\n",
       "      <td>141.0</td>\n",
       "      <td>CBlock</td>\n",
       "      <td>1656</td>\n",
       "      <td>1</td>\n",
       "      <td>62</td>\n",
       "      <td>Hip</td>\n",
       "      <td>215000</td>\n",
       "    </tr>\n",
       "    <tr>\n",
       "      <th>1</th>\n",
       "      <td>NAmes</td>\n",
       "      <td>1Story</td>\n",
       "      <td>5</td>\n",
       "      <td>1</td>\n",
       "      <td>1961</td>\n",
       "      <td>11622</td>\n",
       "      <td>5</td>\n",
       "      <td>0</td>\n",
       "      <td>TA</td>\n",
       "      <td>80.0</td>\n",
       "      <td>CBlock</td>\n",
       "      <td>896</td>\n",
       "      <td>1</td>\n",
       "      <td>0</td>\n",
       "      <td>Gable</td>\n",
       "      <td>105000</td>\n",
       "    </tr>\n",
       "    <tr>\n",
       "      <th>2</th>\n",
       "      <td>NAmes</td>\n",
       "      <td>1Story</td>\n",
       "      <td>6</td>\n",
       "      <td>1</td>\n",
       "      <td>1958</td>\n",
       "      <td>14267</td>\n",
       "      <td>6</td>\n",
       "      <td>0</td>\n",
       "      <td>TA</td>\n",
       "      <td>81.0</td>\n",
       "      <td>CBlock</td>\n",
       "      <td>1329</td>\n",
       "      <td>1</td>\n",
       "      <td>36</td>\n",
       "      <td>Hip</td>\n",
       "      <td>172000</td>\n",
       "    </tr>\n",
       "    <tr>\n",
       "      <th>3</th>\n",
       "      <td>NAmes</td>\n",
       "      <td>1Story</td>\n",
       "      <td>7</td>\n",
       "      <td>2</td>\n",
       "      <td>1968</td>\n",
       "      <td>11160</td>\n",
       "      <td>8</td>\n",
       "      <td>2</td>\n",
       "      <td>Ex</td>\n",
       "      <td>93.0</td>\n",
       "      <td>CBlock</td>\n",
       "      <td>2110</td>\n",
       "      <td>1</td>\n",
       "      <td>0</td>\n",
       "      <td>Hip</td>\n",
       "      <td>244000</td>\n",
       "    </tr>\n",
       "    <tr>\n",
       "      <th>4</th>\n",
       "      <td>Gilbert</td>\n",
       "      <td>2Story</td>\n",
       "      <td>5</td>\n",
       "      <td>2</td>\n",
       "      <td>1998</td>\n",
       "      <td>13830</td>\n",
       "      <td>6</td>\n",
       "      <td>1</td>\n",
       "      <td>Gd</td>\n",
       "      <td>74.0</td>\n",
       "      <td>PConc</td>\n",
       "      <td>1629</td>\n",
       "      <td>1</td>\n",
       "      <td>34</td>\n",
       "      <td>Gable</td>\n",
       "      <td>189900</td>\n",
       "    </tr>\n",
       "    <tr>\n",
       "      <th>...</th>\n",
       "      <td>...</td>\n",
       "      <td>...</td>\n",
       "      <td>...</td>\n",
       "      <td>...</td>\n",
       "      <td>...</td>\n",
       "      <td>...</td>\n",
       "      <td>...</td>\n",
       "      <td>...</td>\n",
       "      <td>...</td>\n",
       "      <td>...</td>\n",
       "      <td>...</td>\n",
       "      <td>...</td>\n",
       "      <td>...</td>\n",
       "      <td>...</td>\n",
       "      <td>...</td>\n",
       "      <td>...</td>\n",
       "    </tr>\n",
       "    <tr>\n",
       "      <th>2925</th>\n",
       "      <td>Mitchel</td>\n",
       "      <td>SLvl</td>\n",
       "      <td>6</td>\n",
       "      <td>1</td>\n",
       "      <td>1984</td>\n",
       "      <td>7937</td>\n",
       "      <td>6</td>\n",
       "      <td>0</td>\n",
       "      <td>TA</td>\n",
       "      <td>37.0</td>\n",
       "      <td>CBlock</td>\n",
       "      <td>1003</td>\n",
       "      <td>1</td>\n",
       "      <td>0</td>\n",
       "      <td>Gable</td>\n",
       "      <td>142500</td>\n",
       "    </tr>\n",
       "    <tr>\n",
       "      <th>2926</th>\n",
       "      <td>Mitchel</td>\n",
       "      <td>1Story</td>\n",
       "      <td>5</td>\n",
       "      <td>1</td>\n",
       "      <td>1983</td>\n",
       "      <td>8885</td>\n",
       "      <td>5</td>\n",
       "      <td>0</td>\n",
       "      <td>TA</td>\n",
       "      <td>NaN</td>\n",
       "      <td>CBlock</td>\n",
       "      <td>902</td>\n",
       "      <td>1</td>\n",
       "      <td>0</td>\n",
       "      <td>Gable</td>\n",
       "      <td>131000</td>\n",
       "    </tr>\n",
       "    <tr>\n",
       "      <th>2927</th>\n",
       "      <td>Mitchel</td>\n",
       "      <td>SFoyer</td>\n",
       "      <td>5</td>\n",
       "      <td>1</td>\n",
       "      <td>1992</td>\n",
       "      <td>10441</td>\n",
       "      <td>6</td>\n",
       "      <td>0</td>\n",
       "      <td>TA</td>\n",
       "      <td>62.0</td>\n",
       "      <td>PConc</td>\n",
       "      <td>970</td>\n",
       "      <td>1</td>\n",
       "      <td>32</td>\n",
       "      <td>Gable</td>\n",
       "      <td>132000</td>\n",
       "    </tr>\n",
       "    <tr>\n",
       "      <th>2928</th>\n",
       "      <td>Mitchel</td>\n",
       "      <td>1Story</td>\n",
       "      <td>5</td>\n",
       "      <td>1</td>\n",
       "      <td>1975</td>\n",
       "      <td>10010</td>\n",
       "      <td>6</td>\n",
       "      <td>1</td>\n",
       "      <td>Gd</td>\n",
       "      <td>77.0</td>\n",
       "      <td>CBlock</td>\n",
       "      <td>1389</td>\n",
       "      <td>1</td>\n",
       "      <td>38</td>\n",
       "      <td>Gable</td>\n",
       "      <td>170000</td>\n",
       "    </tr>\n",
       "    <tr>\n",
       "      <th>2929</th>\n",
       "      <td>Mitchel</td>\n",
       "      <td>2Story</td>\n",
       "      <td>7</td>\n",
       "      <td>2</td>\n",
       "      <td>1994</td>\n",
       "      <td>9627</td>\n",
       "      <td>9</td>\n",
       "      <td>1</td>\n",
       "      <td>Ex</td>\n",
       "      <td>74.0</td>\n",
       "      <td>PConc</td>\n",
       "      <td>2000</td>\n",
       "      <td>1</td>\n",
       "      <td>48</td>\n",
       "      <td>Gable</td>\n",
       "      <td>188000</td>\n",
       "    </tr>\n",
       "  </tbody>\n",
       "</table>\n",
       "<p>2930 rows × 16 columns</p>\n",
       "</div>"
      ],
      "text/plain": [
       "     Neighborhood House.Style  Overall.Qual  Full.Bath  Year.Remod.Add  \\\n",
       "0           NAmes      1Story             6          1            1960   \n",
       "1           NAmes      1Story             5          1            1961   \n",
       "2           NAmes      1Story             6          1            1958   \n",
       "3           NAmes      1Story             7          2            1968   \n",
       "4         Gilbert      2Story             5          2            1998   \n",
       "...           ...         ...           ...        ...             ...   \n",
       "2925      Mitchel        SLvl             6          1            1984   \n",
       "2926      Mitchel      1Story             5          1            1983   \n",
       "2927      Mitchel      SFoyer             5          1            1992   \n",
       "2928      Mitchel      1Story             5          1            1975   \n",
       "2929      Mitchel      2Story             7          2            1994   \n",
       "\n",
       "      Lot.Area  TotRms.AbvGrd  Fireplaces Heating.QC  Lot.Frontage Foundation  \\\n",
       "0        31770              7           2         Fa         141.0     CBlock   \n",
       "1        11622              5           0         TA          80.0     CBlock   \n",
       "2        14267              6           0         TA          81.0     CBlock   \n",
       "3        11160              8           2         Ex          93.0     CBlock   \n",
       "4        13830              6           1         Gd          74.0      PConc   \n",
       "...        ...            ...         ...        ...           ...        ...   \n",
       "2925      7937              6           0         TA          37.0     CBlock   \n",
       "2926      8885              5           0         TA           NaN     CBlock   \n",
       "2927     10441              6           0         TA          62.0      PConc   \n",
       "2928     10010              6           1         Gd          77.0     CBlock   \n",
       "2929      9627              9           1         Ex          74.0      PConc   \n",
       "\n",
       "      Gr.Liv.Area  Kitchen.AbvGr  Open.Porch.SF Roof.Style  SalePrice  \n",
       "0            1656              1             62        Hip     215000  \n",
       "1             896              1              0      Gable     105000  \n",
       "2            1329              1             36        Hip     172000  \n",
       "3            2110              1              0        Hip     244000  \n",
       "4            1629              1             34      Gable     189900  \n",
       "...           ...            ...            ...        ...        ...  \n",
       "2925         1003              1              0      Gable     142500  \n",
       "2926          902              1              0      Gable     131000  \n",
       "2927          970              1             32      Gable     132000  \n",
       "2928         1389              1             38      Gable     170000  \n",
       "2929         2000              1             48      Gable     188000  \n",
       "\n",
       "[2930 rows x 16 columns]"
      ]
     },
     "execution_count": 4,
     "metadata": {},
     "output_type": "execute_result"
    }
   ],
   "source": [
    "data"
   ]
  },
  {
   "cell_type": "code",
   "execution_count": 5,
   "metadata": {},
   "outputs": [],
   "source": [
    "data = preprocessor(data)"
   ]
  },
  {
   "cell_type": "code",
   "execution_count": 6,
   "metadata": {},
   "outputs": [
    {
     "name": "stdout",
     "output_type": "stream",
     "text": [
      "<class 'pandas.core.frame.DataFrame'>\n",
      "Index: 2273 entries, 1 to 2929\n",
      "Data columns (total 16 columns):\n",
      " #   Column             Non-Null Count  Dtype  \n",
      "---  ------             --------------  -----  \n",
      " 0   Neighborhood       2273 non-null   object \n",
      " 1   House.Style        2273 non-null   object \n",
      " 2   Overall.Qual       2273 non-null   object \n",
      " 3   Full.Bath          2273 non-null   object \n",
      " 4   Year.Remod.Add     2273 non-null   int64  \n",
      " 5   TotRms.AbvGrd      2273 non-null   object \n",
      " 6   Fireplaces         2273 non-null   object \n",
      " 7   Heating.QC         2273 non-null   object \n",
      " 8   Foundation         2273 non-null   object \n",
      " 9   Kitchen.AbvGr      2273 non-null   object \n",
      " 10  Roof.Style         2273 non-null   object \n",
      " 11  Lot.Area_log       2273 non-null   float64\n",
      " 12  Lot.Frontage_log   1878 non-null   float64\n",
      " 13  Gr.Liv.Area_log    2273 non-null   float64\n",
      " 14  SalePrice_log      2273 non-null   float64\n",
      " 15  Open.Porch.SF_bin  2273 non-null   object \n",
      "dtypes: float64(4), int64(1), object(11)\n",
      "memory usage: 301.9+ KB\n"
     ]
    }
   ],
   "source": [
    "data.info()"
   ]
  },
  {
   "cell_type": "code",
   "execution_count": 7,
   "metadata": {},
   "outputs": [],
   "source": [
    "from sklearn.model_selection import train_test_split"
   ]
  },
  {
   "cell_type": "code",
   "execution_count": 8,
   "metadata": {},
   "outputs": [],
   "source": [
    "y = data['SalePrice_log']\n",
    "X = data.drop(columns=['SalePrice_log'])\n",
    "X_train, X_test, y_train, y_test = train_test_split(X, y, test_size=0.2, random_state=42)"
   ]
  },
  {
   "cell_type": "markdown",
   "metadata": {},
   "source": [
    "# Pipeline Global"
   ]
  },
  {
   "cell_type": "code",
   "execution_count": 9,
   "metadata": {},
   "outputs": [],
   "source": [
    "\n",
    "from sklearn.pipeline import Pipeline\n",
    "from sklearn.compose import ColumnTransformer\n",
    "from sklearn.impute import SimpleImputer\n",
    "from sklearn.preprocessing import StandardScaler, OneHotEncoder,PolynomialFeatures\n",
    "from sklearn.model_selection import cross_val_score"
   ]
  },
  {
   "cell_type": "code",
   "execution_count": 67,
   "metadata": {},
   "outputs": [],
   "source": [
    "num_cols =['Gr.Liv.Area_log','Lot.Area_log','Lot.Frontage_log','Year.Remod.Add']\n",
    "cat_cols = X.select_dtypes(include=['object', 'category']).columns.tolist()\n",
    "\n",
    "numeric_pipeline = Pipeline([\n",
    "    ('imputer', SimpleImputer(strategy='mean')),\n",
    "        ('poly', PolynomialFeatures(degree=3, include_bias=False))\n",
    "])\n",
    "\n",
    "categorical_pipeline = Pipeline([\n",
    "    ('imputer', SimpleImputer(strategy='most_frequent')),\n",
    "    ('onehot',  OneHotEncoder(handle_unknown='ignore', sparse_output=False,drop='first')),\n",
    "])\n",
    "\n",
    "preprocessor = ColumnTransformer([\n",
    "    ('num', numeric_pipeline,      num_cols),\n",
    "    ('cat', categorical_pipeline,  cat_cols),\n",
    "],\n",
    "remainder='passthrough')\n",
    "\n"
   ]
  },
  {
   "cell_type": "markdown",
   "metadata": {},
   "source": [
    "# Modelos"
   ]
  },
  {
   "cell_type": "markdown",
   "metadata": {},
   "source": [
    "ElasticNet, SVM, Trees e ensamble(cpa)"
   ]
  },
  {
   "cell_type": "code",
   "execution_count": 11,
   "metadata": {},
   "outputs": [],
   "source": [
    "def print_cv_results(model_name, cv_results):\n",
    "    cv_results = -cv_results\n",
    "\n",
    "    print(f'{model_name} CV results:')\n",
    "    print(cv_results)\n",
    "\n",
    "    mean_rmse = cv_results.mean()\n",
    "    std_rmse = cv_results.std()\n",
    "\n",
    "    print(f'RMSE: {mean_rmse:.2f} +/- {std_rmse:.2f}')\n",
    "    print()"
   ]
  },
  {
   "cell_type": "code",
   "execution_count": 54,
   "metadata": {},
   "outputs": [],
   "source": [
    "result = pd.DataFrame()"
   ]
  },
  {
   "cell_type": "markdown",
   "metadata": {},
   "source": [
    "# Dummy model"
   ]
  },
  {
   "cell_type": "code",
   "execution_count": 12,
   "metadata": {},
   "outputs": [],
   "source": [
    "from sklearn.dummy import DummyRegressor\n",
    "\n",
    "dummy_reg = Pipeline([\n",
    "    ('preprocessing', preprocessor),\n",
    "    (\n",
    "        'regression', DummyRegressor(strategy='mean'),\n",
    "    ),\n",
    "])"
   ]
  },
  {
   "cell_type": "code",
   "execution_count": null,
   "metadata": {},
   "outputs": [
    {
     "name": "stdout",
     "output_type": "stream",
     "text": [
      "Dummy Regressor CV results:\n",
      "[0.15596792 0.15681443 0.16070465 0.15443107 0.15120019]\n",
      "RMSE: 0.16 +/- 0.00\n",
      "\n"
     ]
    }
   ],
   "source": [
    "\n",
    "\n",
    "cv = 5\n",
    "\n",
    "dummy_reg_cv = cross_val_score(\n",
    "    dummy_reg,\n",
    "    X_train,\n",
    "    y_train,\n",
    "    cv=cv,\n",
    "    scoring='neg_root_mean_squared_error',\n",
    "    n_jobs=-1,\n",
    ")\n",
    "print_cv_results('Dummy Regressor', dummy_reg_cv)\n"
   ]
  },
  {
   "cell_type": "code",
   "execution_count": 58,
   "metadata": {},
   "outputs": [],
   "source": [
    "\n",
    "result['Dummy'] = dummy_reg_cv"
   ]
  },
  {
   "cell_type": "markdown",
   "metadata": {},
   "source": [
    "Rmse de 0.16(escala log)"
   ]
  },
  {
   "cell_type": "markdown",
   "metadata": {},
   "source": [
    "# Linear Model "
   ]
  },
  {
   "cell_type": "code",
   "execution_count": 14,
   "metadata": {},
   "outputs": [],
   "source": [
    "from sklearn.linear_model import LinearRegression\n",
    "\n",
    "lin_reg = Pipeline([\n",
    "    ('preprocessing', preprocessor),\n",
    "    ('regression', LinearRegression()),\n",
    "])"
   ]
  },
  {
   "cell_type": "code",
   "execution_count": 15,
   "metadata": {},
   "outputs": [
    {
     "name": "stdout",
     "output_type": "stream",
     "text": [
      "Linear Regressor CV results:\n",
      "[0.05465166 0.0547433  0.05556746 0.05174398 0.05500285]\n",
      "RMSE: 0.05 +/- 0.00\n",
      "\n"
     ]
    }
   ],
   "source": [
    "cv = 5\n",
    "\n",
    "lin_reg_cv = cross_val_score(\n",
    "    lin_reg,\n",
    "    X_train,\n",
    "    y_train,\n",
    "    cv=cv,\n",
    "    scoring='neg_root_mean_squared_error',\n",
    "    n_jobs=-1,\n",
    ")\n",
    "print_cv_results('Linear Regressor', lin_reg_cv)"
   ]
  },
  {
   "cell_type": "code",
   "execution_count": 59,
   "metadata": {},
   "outputs": [],
   "source": [
    "result['Linear Reg'] = lin_reg_cv"
   ]
  },
  {
   "cell_type": "markdown",
   "metadata": {},
   "source": [
    "Rmse de 0.05 (em escala log)"
   ]
  },
  {
   "cell_type": "markdown",
   "metadata": {},
   "source": [
    "# Elastic Net Regressor"
   ]
  },
  {
   "cell_type": "code",
   "execution_count": 16,
   "metadata": {},
   "outputs": [],
   "source": [
    "from sklearn.linear_model import ElasticNet \n",
    "elastic_net = Pipeline([\n",
    "    ('preprocessing', preprocessor),\n",
    "    ('elasticnet', ElasticNet()),\n",
    "])"
   ]
  },
  {
   "cell_type": "code",
   "execution_count": 17,
   "metadata": {},
   "outputs": [
    {
     "name": "stderr",
     "output_type": "stream",
     "text": [
      "/Users/jgfaraco/miniconda3/lib/python3.12/site-packages/tqdm/auto.py:21: TqdmWarning: IProgress not found. Please update jupyter and ipywidgets. See https://ipywidgets.readthedocs.io/en/stable/user_install.html\n",
      "  from .autonotebook import tqdm as notebook_tqdm\n"
     ]
    }
   ],
   "source": [
    "import optuna"
   ]
  },
  {
   "cell_type": "code",
   "execution_count": 77,
   "metadata": {},
   "outputs": [],
   "source": [
    "def objective(trial):\n",
    "    alpha         = trial.suggest_float('alpha',      1e-3, 100.0, log=True)\n",
    "    l1_ratio      = trial.suggest_float('l1_ratio',   0.1,   1.0)\n",
    "    fit_intercept = trial.suggest_categorical('fit_intercept', [False, True])\n",
    "    max_iter      = trial.suggest_int('max_iter',     1000,  5000)\n",
    "\n",
    "    use_scaler    = trial.suggest_categorical('use_scaler', [False, True])\n",
    "    poly_degree   = trial.suggest_int('poly_degree', 1,  5)\n",
    "\n",
    "    num_steps = [\n",
    "        ('imputer', SimpleImputer(strategy='mean'))\n",
    "    ]\n",
    "    if use_scaler:\n",
    "        scaler_option = trial.suggest_categorical('scaler_option', ['mean', 'std'])\n",
    "    poly_degree   = trial.suggest_int('poly_degree',   1,     5)\n",
    "\n",
    "    num_steps = [('imputer', SimpleImputer(strategy='mean'))]\n",
    "    if use_scaler:\n",
    "        if scaler_option == 'mean':\n",
    "            num_steps.append(('scaler',\n",
    "                              StandardScaler(with_mean=True,  with_std=False)))\n",
    "        else:\n",
    "            num_steps.append(('scaler',\n",
    "                              StandardScaler(with_mean=False, with_std=True)))\n",
    "    \n",
    "    num_steps.append(('poly',\n",
    "                      PolynomialFeatures(degree=poly_degree,\n",
    "                                         include_bias=False)))\n",
    "            \n",
    "    numeric_pipeline = Pipeline(num_steps)\n",
    "\n",
    "    categorical_pipeline = Pipeline([\n",
    "        ('imputer', SimpleImputer(strategy='most_frequent')),\n",
    "        ('onehot',  OneHotEncoder(handle_unknown='ignore',\n",
    "                                  sparse_output=False,\n",
    "                                  drop='first')),\n",
    "    ])\n",
    "\n",
    "    preprocessor = ColumnTransformer(\n",
    "        [\n",
    "            ('num', numeric_pipeline,      num_cols),\n",
    "            ('cat', categorical_pipeline,  cat_cols),\n",
    "        ],\n",
    "        remainder='passthrough'\n",
    "    )\n",
    "\n",
    "    model = Pipeline([\n",
    "        ('preproc', preprocessor),\n",
    "        ('est', ElasticNet(\n",
    "            alpha=alpha,\n",
    "            l1_ratio=l1_ratio,\n",
    "            fit_intercept=fit_intercept,\n",
    "            max_iter=max_iter,\n",
    "            random_state=42\n",
    "        )),\n",
    "    ])\n",
    "\n",
    "    neg_mse = cross_val_score(\n",
    "        model, X_train, y_train,\n",
    "        cv=5,\n",
    "        scoring='neg_mean_squared_error',\n",
    "        n_jobs=-1\n",
    "    ).mean()\n",
    "\n",
    "    return neg_mse\n",
    "\n"
   ]
  },
  {
   "cell_type": "code",
   "execution_count": 78,
   "metadata": {},
   "outputs": [
    {
     "name": "stderr",
     "output_type": "stream",
     "text": [
      "[I 2025-05-03 15:39:23,702] A new study created in memory with name: no-name-8d073190-14b8-4469-9089-e5f3c30e4ebb\n"
     ]
    }
   ],
   "source": [
    "study = optuna.create_study(direction='maximize', sampler=optuna.samplers.RandomSampler(seed=42)) "
   ]
  },
  {
   "cell_type": "code",
   "execution_count": 79,
   "metadata": {},
   "outputs": [
    {
     "name": "stderr",
     "output_type": "stream",
     "text": [
      "/Users/jgfaraco/miniconda3/lib/python3.12/site-packages/sklearn/linear_model/_coordinate_descent.py:695: ConvergenceWarning: Objective did not converge. You might want to increase the number of iterations, check the scale of the features or consider increasing regularisation. Duality gap: 5.947e+00, tolerance: 4.015e+00\n",
      "  model = cd_fast.enet_coordinate_descent(\n",
      "/Users/jgfaraco/miniconda3/lib/python3.12/site-packages/sklearn/linear_model/_coordinate_descent.py:695: ConvergenceWarning: Objective did not converge. You might want to increase the number of iterations, check the scale of the features or consider increasing regularisation. Duality gap: 6.253e+00, tolerance: 4.016e+00\n",
      "  model = cd_fast.enet_coordinate_descent(\n",
      "/Users/jgfaraco/miniconda3/lib/python3.12/site-packages/sklearn/linear_model/_coordinate_descent.py:695: ConvergenceWarning: Objective did not converge. You might want to increase the number of iterations, check the scale of the features or consider increasing regularisation. Duality gap: 6.228e+00, tolerance: 4.012e+00\n",
      "  model = cd_fast.enet_coordinate_descent(\n",
      "/Users/jgfaraco/miniconda3/lib/python3.12/site-packages/sklearn/linear_model/_coordinate_descent.py:695: ConvergenceWarning: Objective did not converge. You might want to increase the number of iterations, check the scale of the features or consider increasing regularisation. Duality gap: 6.034e+00, tolerance: 4.013e+00\n",
      "  model = cd_fast.enet_coordinate_descent(\n",
      "/Users/jgfaraco/miniconda3/lib/python3.12/site-packages/sklearn/linear_model/_coordinate_descent.py:695: ConvergenceWarning: Objective did not converge. You might want to increase the number of iterations, check the scale of the features or consider increasing regularisation. Duality gap: 6.160e+00, tolerance: 4.019e+00\n",
      "  model = cd_fast.enet_coordinate_descent(\n",
      "[I 2025-05-03 15:39:32,280] Trial 0 finished with value: -0.008174439361756 and parameters: {'alpha': 0.07459343285726547, 'l1_ratio': 0.9556428757689246, 'fit_intercept': False, 'max_iter': 1624, 'use_scaler': False, 'poly_degree': 5}. Best is trial 0 with value: -0.008174439361756.\n",
      "[I 2025-05-03 15:39:33,303] Trial 1 finished with value: -0.019488022433032954 and parameters: {'alpha': 1.0129197956845737, 'l1_ratio': 0.737265320016441, 'fit_intercept': True, 'max_iter': 4330, 'use_scaler': False, 'poly_degree': 1}. Best is trial 0 with value: -0.008174439361756.\n",
      "/Users/jgfaraco/miniconda3/lib/python3.12/site-packages/sklearn/linear_model/_coordinate_descent.py:695: ConvergenceWarning: Objective did not converge. You might want to increase the number of iterations, check the scale of the features or consider increasing regularisation. Duality gap: 7.777e+00, tolerance: 4.015e+00\n",
      "  model = cd_fast.enet_coordinate_descent(\n",
      "/Users/jgfaraco/miniconda3/lib/python3.12/site-packages/sklearn/linear_model/_coordinate_descent.py:695: ConvergenceWarning: Objective did not converge. You might want to increase the number of iterations, check the scale of the features or consider increasing regularisation. Duality gap: 7.797e+00, tolerance: 4.013e+00\n",
      "  model = cd_fast.enet_coordinate_descent(\n",
      "/Users/jgfaraco/miniconda3/lib/python3.12/site-packages/sklearn/linear_model/_coordinate_descent.py:695: ConvergenceWarning: Objective did not converge. You might want to increase the number of iterations, check the scale of the features or consider increasing regularisation. Duality gap: 7.892e+00, tolerance: 4.019e+00\n",
      "  model = cd_fast.enet_coordinate_descent(\n",
      "/Users/jgfaraco/miniconda3/lib/python3.12/site-packages/sklearn/linear_model/_coordinate_descent.py:695: ConvergenceWarning: Objective did not converge. You might want to increase the number of iterations, check the scale of the features or consider increasing regularisation. Duality gap: 8.046e+00, tolerance: 4.016e+00\n",
      "  model = cd_fast.enet_coordinate_descent(\n",
      "/Users/jgfaraco/miniconda3/lib/python3.12/site-packages/sklearn/linear_model/_coordinate_descent.py:695: ConvergenceWarning: Objective did not converge. You might want to increase the number of iterations, check the scale of the features or consider increasing regularisation. Duality gap: 7.949e+00, tolerance: 4.012e+00\n",
      "  model = cd_fast.enet_coordinate_descent(\n",
      "[I 2025-05-03 15:39:34,525] Trial 2 finished with value: -0.00859219034958084 and parameters: {'alpha': 0.033205591037519584, 'l1_ratio': 0.5722807884690141, 'fit_intercept': False, 'max_iter': 3448, 'use_scaler': True, 'poly_degree': 2, 'scaler_option': 'std'}. Best is trial 0 with value: -0.008174439361756.\n",
      "/Users/jgfaraco/miniconda3/lib/python3.12/site-packages/sklearn/linear_model/_coordinate_descent.py:695: ConvergenceWarning: Objective did not converge. You might want to increase the number of iterations, check the scale of the features or consider increasing regularisation. Duality gap: 5.514e+00, tolerance: 4.012e+00\n",
      "  model = cd_fast.enet_coordinate_descent(\n",
      "/Users/jgfaraco/miniconda3/lib/python3.12/site-packages/sklearn/linear_model/_coordinate_descent.py:695: ConvergenceWarning: Objective did not converge. You might want to increase the number of iterations, check the scale of the features or consider increasing regularisation. Duality gap: 5.419e+00, tolerance: 4.013e+00\n",
      "  model = cd_fast.enet_coordinate_descent(\n",
      "/Users/jgfaraco/miniconda3/lib/python3.12/site-packages/sklearn/linear_model/_coordinate_descent.py:695: ConvergenceWarning: Objective did not converge. You might want to increase the number of iterations, check the scale of the features or consider increasing regularisation. Duality gap: 5.311e+00, tolerance: 4.015e+00\n",
      "  model = cd_fast.enet_coordinate_descent(\n",
      "/Users/jgfaraco/miniconda3/lib/python3.12/site-packages/sklearn/linear_model/_coordinate_descent.py:695: ConvergenceWarning: Objective did not converge. You might want to increase the number of iterations, check the scale of the features or consider increasing regularisation. Duality gap: 5.593e+00, tolerance: 4.016e+00\n",
      "  model = cd_fast.enet_coordinate_descent(\n",
      "/Users/jgfaraco/miniconda3/lib/python3.12/site-packages/sklearn/linear_model/_coordinate_descent.py:695: ConvergenceWarning: Objective did not converge. You might want to increase the number of iterations, check the scale of the features or consider increasing regularisation. Duality gap: 5.529e+00, tolerance: 4.019e+00\n",
      "  model = cd_fast.enet_coordinate_descent(\n",
      "[I 2025-05-03 15:39:36,465] Trial 3 finished with value: -0.006303178763804015 and parameters: {'alpha': 0.009962513222055111, 'l1_ratio': 0.5628109945722505, 'fit_intercept': False, 'max_iter': 3430, 'use_scaler': False, 'poly_degree': 5}. Best is trial 3 with value: -0.006303178763804015.\n",
      "/Users/jgfaraco/miniconda3/lib/python3.12/site-packages/sklearn/linear_model/_coordinate_descent.py:695: ConvergenceWarning: Objective did not converge. You might want to increase the number of iterations, check the scale of the features or consider increasing regularisation. Duality gap: 5.935e+00, tolerance: 4.013e+00\n",
      "  model = cd_fast.enet_coordinate_descent(\n",
      "/Users/jgfaraco/miniconda3/lib/python3.12/site-packages/sklearn/linear_model/_coordinate_descent.py:695: ConvergenceWarning: Objective did not converge. You might want to increase the number of iterations, check the scale of the features or consider increasing regularisation. Duality gap: 6.113e+00, tolerance: 4.012e+00\n",
      "  model = cd_fast.enet_coordinate_descent(\n",
      "/Users/jgfaraco/miniconda3/lib/python3.12/site-packages/sklearn/linear_model/_coordinate_descent.py:695: ConvergenceWarning: Objective did not converge. You might want to increase the number of iterations, check the scale of the features or consider increasing regularisation. Duality gap: 6.198e+00, tolerance: 4.016e+00\n",
      "  model = cd_fast.enet_coordinate_descent(\n",
      "/Users/jgfaraco/miniconda3/lib/python3.12/site-packages/sklearn/linear_model/_coordinate_descent.py:695: ConvergenceWarning: Objective did not converge. You might want to increase the number of iterations, check the scale of the features or consider increasing regularisation. Duality gap: 6.010e+00, tolerance: 4.019e+00\n",
      "  model = cd_fast.enet_coordinate_descent(\n",
      "/Users/jgfaraco/miniconda3/lib/python3.12/site-packages/sklearn/linear_model/_coordinate_descent.py:695: ConvergenceWarning: Objective did not converge. You might want to increase the number of iterations, check the scale of the features or consider increasing regularisation. Duality gap: 5.867e+00, tolerance: 4.015e+00\n",
      "  model = cd_fast.enet_coordinate_descent(\n",
      "[I 2025-05-03 15:39:38,515] Trial 4 finished with value: -0.008393278779760541 and parameters: {'alpha': 67.32248920775338, 'l1_ratio': 0.827557613304815, 'fit_intercept': False, 'max_iter': 3737, 'use_scaler': False, 'poly_degree': 3}. Best is trial 3 with value: -0.006303178763804015.\n",
      "[I 2025-05-03 15:39:38,640] Trial 5 finished with value: -0.003986473629726506 and parameters: {'alpha': 0.0014857392806279248, 'l1_ratio': 0.9183883618709039, 'fit_intercept': True, 'max_iter': 2247, 'use_scaler': True, 'poly_degree': 1, 'scaler_option': 'mean'}. Best is trial 5 with value: -0.003986473629726506.\n",
      "[I 2025-05-03 15:39:38,723] Trial 6 finished with value: -0.01771037012223057 and parameters: {'alpha': 49.830438374949104, 'l1_ratio': 0.905344615384884, 'fit_intercept': True, 'max_iter': 1354, 'use_scaler': False, 'poly_degree': 2}. Best is trial 5 with value: -0.003986473629726506.\n",
      "/Users/jgfaraco/miniconda3/lib/python3.12/site-packages/sklearn/linear_model/_coordinate_descent.py:695: ConvergenceWarning: Objective did not converge. You might want to increase the number of iterations, check the scale of the features or consider increasing regularisation. Duality gap: 5.868e+00, tolerance: 4.013e+00\n",
      "  model = cd_fast.enet_coordinate_descent(\n",
      "/Users/jgfaraco/miniconda3/lib/python3.12/site-packages/sklearn/linear_model/_coordinate_descent.py:695: ConvergenceWarning: Objective did not converge. You might want to increase the number of iterations, check the scale of the features or consider increasing regularisation. Duality gap: 5.992e+00, tolerance: 4.019e+00\n",
      "  model = cd_fast.enet_coordinate_descent(\n",
      "/Users/jgfaraco/miniconda3/lib/python3.12/site-packages/sklearn/linear_model/_coordinate_descent.py:695: ConvergenceWarning: Objective did not converge. You might want to increase the number of iterations, check the scale of the features or consider increasing regularisation. Duality gap: 6.063e+00, tolerance: 4.012e+00\n",
      "  model = cd_fast.enet_coordinate_descent(\n",
      "/Users/jgfaraco/miniconda3/lib/python3.12/site-packages/sklearn/linear_model/_coordinate_descent.py:695: ConvergenceWarning: Objective did not converge. You might want to increase the number of iterations, check the scale of the features or consider increasing regularisation. Duality gap: 6.090e+00, tolerance: 4.016e+00\n",
      "  model = cd_fast.enet_coordinate_descent(\n",
      "/Users/jgfaraco/miniconda3/lib/python3.12/site-packages/sklearn/linear_model/_coordinate_descent.py:695: ConvergenceWarning: Objective did not converge. You might want to increase the number of iterations, check the scale of the features or consider increasing regularisation. Duality gap: 5.785e+00, tolerance: 4.015e+00\n",
      "  model = cd_fast.enet_coordinate_descent(\n",
      "[I 2025-05-03 15:39:39,839] Trial 7 finished with value: -0.008128377062837052 and parameters: {'alpha': 0.08777815504719658, 'l1_ratio': 0.34421412859650635, 'fit_intercept': False, 'max_iter': 2124, 'use_scaler': False, 'poly_degree': 5}. Best is trial 5 with value: -0.003986473629726506.\n",
      "/Users/jgfaraco/miniconda3/lib/python3.12/site-packages/sklearn/linear_model/_coordinate_descent.py:695: ConvergenceWarning: Objective did not converge. You might want to increase the number of iterations, check the scale of the features or consider increasing regularisation. Duality gap: 9.341e+00, tolerance: 4.012e+00\n",
      "  model = cd_fast.enet_coordinate_descent(\n",
      "/Users/jgfaraco/miniconda3/lib/python3.12/site-packages/sklearn/linear_model/_coordinate_descent.py:695: ConvergenceWarning: Objective did not converge. You might want to increase the number of iterations, check the scale of the features or consider increasing regularisation. Duality gap: 9.273e+00, tolerance: 4.015e+00\n",
      "  model = cd_fast.enet_coordinate_descent(\n",
      "/Users/jgfaraco/miniconda3/lib/python3.12/site-packages/sklearn/linear_model/_coordinate_descent.py:695: ConvergenceWarning: Objective did not converge. You might want to increase the number of iterations, check the scale of the features or consider increasing regularisation. Duality gap: 9.455e+00, tolerance: 4.016e+00\n",
      "  model = cd_fast.enet_coordinate_descent(\n",
      "/Users/jgfaraco/miniconda3/lib/python3.12/site-packages/sklearn/linear_model/_coordinate_descent.py:695: ConvergenceWarning: Objective did not converge. You might want to increase the number of iterations, check the scale of the features or consider increasing regularisation. Duality gap: 9.323e+00, tolerance: 4.013e+00\n",
      "  model = cd_fast.enet_coordinate_descent(\n",
      "/Users/jgfaraco/miniconda3/lib/python3.12/site-packages/sklearn/linear_model/_coordinate_descent.py:695: ConvergenceWarning: Objective did not converge. You might want to increase the number of iterations, check the scale of the features or consider increasing regularisation. Duality gap: 9.360e+00, tolerance: 4.019e+00\n",
      "  model = cd_fast.enet_coordinate_descent(\n",
      "[I 2025-05-03 15:39:40,244] Trial 8 finished with value: -0.004530247500003052 and parameters: {'alpha': 0.0023591373063477136, 'l1_ratio': 0.9881982429404655, 'fit_intercept': False, 'max_iter': 1022, 'use_scaler': False, 'poly_degree': 4}. Best is trial 5 with value: -0.003986473629726506.\n",
      "[I 2025-05-03 15:39:40,321] Trial 9 finished with value: -0.01887988533559028 and parameters: {'alpha': 7.183758655813994, 'l1_ratio': 0.16664018656068133, 'fit_intercept': False, 'max_iter': 4453, 'use_scaler': False, 'poly_degree': 1}. Best is trial 5 with value: -0.003986473629726506.\n",
      "/Users/jgfaraco/miniconda3/lib/python3.12/site-packages/sklearn/linear_model/_coordinate_descent.py:695: ConvergenceWarning: Objective did not converge. You might want to increase the number of iterations, check the scale of the features or consider increasing regularisation. Duality gap: 5.730e+00, tolerance: 4.015e+00\n",
      "  model = cd_fast.enet_coordinate_descent(\n",
      "/Users/jgfaraco/miniconda3/lib/python3.12/site-packages/sklearn/linear_model/_coordinate_descent.py:695: ConvergenceWarning: Objective did not converge. You might want to increase the number of iterations, check the scale of the features or consider increasing regularisation. Duality gap: 6.038e+00, tolerance: 4.016e+00\n",
      "  model = cd_fast.enet_coordinate_descent(\n",
      "/Users/jgfaraco/miniconda3/lib/python3.12/site-packages/sklearn/linear_model/_coordinate_descent.py:695: ConvergenceWarning: Objective did not converge. You might want to increase the number of iterations, check the scale of the features or consider increasing regularisation. Duality gap: 5.926e+00, tolerance: 4.019e+00\n",
      "  model = cd_fast.enet_coordinate_descent(\n",
      "/Users/jgfaraco/miniconda3/lib/python3.12/site-packages/sklearn/linear_model/_coordinate_descent.py:695: ConvergenceWarning: Objective did not converge. You might want to increase the number of iterations, check the scale of the features or consider increasing regularisation. Duality gap: 6.008e+00, tolerance: 4.012e+00\n",
      "  model = cd_fast.enet_coordinate_descent(\n",
      "/Users/jgfaraco/miniconda3/lib/python3.12/site-packages/sklearn/linear_model/_coordinate_descent.py:695: ConvergenceWarning: Objective did not converge. You might want to increase the number of iterations, check the scale of the features or consider increasing regularisation. Duality gap: 5.811e+00, tolerance: 4.013e+00\n",
      "  model = cd_fast.enet_coordinate_descent(\n",
      "[I 2025-05-03 15:39:41,509] Trial 10 finished with value: -0.00812763257427078 and parameters: {'alpha': 0.03588488911386258, 'l1_ratio': 0.39266498982407233, 'fit_intercept': False, 'max_iter': 4549, 'use_scaler': False, 'poly_degree': 4}. Best is trial 5 with value: -0.003986473629726506.\n",
      "[I 2025-05-03 15:39:41,579] Trial 11 finished with value: -0.018883274497980454 and parameters: {'alpha': 6.366859160799435, 'l1_ratio': 0.6051494778125466, 'fit_intercept': False, 'max_iter': 3091, 'use_scaler': False, 'poly_degree': 1}. Best is trial 5 with value: -0.003986473629726506.\n",
      "[I 2025-05-03 15:39:41,997] Trial 12 finished with value: -0.0037969439197799368 and parameters: {'alpha': 0.0014359718569878096, 'l1_ratio': 0.6727693701374023, 'fit_intercept': True, 'max_iter': 4631, 'use_scaler': True, 'poly_degree': 4, 'scaler_option': 'mean'}. Best is trial 12 with value: -0.0037969439197799368.\n",
      "[I 2025-05-03 15:39:42,317] Trial 13 finished with value: -0.009831104812563867 and parameters: {'alpha': 0.028103296447636077, 'l1_ratio': 0.24509915852860398, 'fit_intercept': False, 'max_iter': 3534, 'use_scaler': False, 'poly_degree': 1}. Best is trial 12 with value: -0.0037969439197799368.\n",
      "[I 2025-05-03 15:39:42,447] Trial 14 finished with value: -0.008193299199888062 and parameters: {'alpha': 29.02652141826394, 'l1_ratio': 0.5854080177240857, 'fit_intercept': True, 'max_iter': 2272, 'use_scaler': True, 'poly_degree': 3, 'scaler_option': 'std'}. Best is trial 12 with value: -0.0037969439197799368.\n",
      "[I 2025-05-03 15:39:42,818] Trial 15 finished with value: -0.003418979340550453 and parameters: {'alpha': 0.0010833297073737749, 'l1_ratio': 0.5596725723198092, 'fit_intercept': False, 'max_iter': 1479, 'use_scaler': True, 'poly_degree': 2, 'scaler_option': 'std'}. Best is trial 15 with value: -0.003418979340550453.\n",
      "[I 2025-05-03 15:39:42,925] Trial 16 finished with value: -0.018879515901355 and parameters: {'alpha': 0.06578820119123178, 'l1_ratio': 0.9746038744488646, 'fit_intercept': False, 'max_iter': 2989, 'use_scaler': False, 'poly_degree': 1}. Best is trial 15 with value: -0.003418979340550453.\n",
      "/Users/jgfaraco/miniconda3/lib/python3.12/site-packages/sklearn/linear_model/_coordinate_descent.py:695: ConvergenceWarning: Objective did not converge. You might want to increase the number of iterations, check the scale of the features or consider increasing regularisation. Duality gap: 5.499e+00, tolerance: 3.475e-03\n",
      "  model = cd_fast.enet_coordinate_descent(\n",
      "/Users/jgfaraco/miniconda3/lib/python3.12/site-packages/sklearn/linear_model/_coordinate_descent.py:695: ConvergenceWarning: Objective did not converge. You might want to increase the number of iterations, check the scale of the features or consider increasing regularisation. Duality gap: 5.289e+00, tolerance: 3.519e-03\n",
      "  model = cd_fast.enet_coordinate_descent(\n",
      "/Users/jgfaraco/miniconda3/lib/python3.12/site-packages/sklearn/linear_model/_coordinate_descent.py:695: ConvergenceWarning: Objective did not converge. You might want to increase the number of iterations, check the scale of the features or consider increasing regularisation. Duality gap: 5.280e+00, tolerance: 3.529e-03\n",
      "  model = cd_fast.enet_coordinate_descent(\n",
      "/Users/jgfaraco/miniconda3/lib/python3.12/site-packages/sklearn/linear_model/_coordinate_descent.py:695: ConvergenceWarning: Objective did not converge. You might want to increase the number of iterations, check the scale of the features or consider increasing regularisation. Duality gap: 5.362e+00, tolerance: 3.549e-03\n",
      "  model = cd_fast.enet_coordinate_descent(\n",
      "/Users/jgfaraco/miniconda3/lib/python3.12/site-packages/sklearn/linear_model/_coordinate_descent.py:695: ConvergenceWarning: Objective did not converge. You might want to increase the number of iterations, check the scale of the features or consider increasing regularisation. Duality gap: 5.615e+00, tolerance: 3.584e-03\n",
      "  model = cd_fast.enet_coordinate_descent(\n",
      "[I 2025-05-03 15:39:43,621] Trial 17 finished with value: -0.008179387269162825 and parameters: {'alpha': 1.1164047352793705, 'l1_ratio': 0.5524111209059753, 'fit_intercept': True, 'max_iter': 4633, 'use_scaler': False, 'poly_degree': 3}. Best is trial 15 with value: -0.003418979340550453.\n",
      "/Users/jgfaraco/miniconda3/lib/python3.12/site-packages/sklearn/linear_model/_coordinate_descent.py:695: ConvergenceWarning: Objective did not converge. You might want to increase the number of iterations, check the scale of the features or consider increasing regularisation. Duality gap: 5.582e+00, tolerance: 3.529e-03\n",
      "  model = cd_fast.enet_coordinate_descent(\n",
      "/Users/jgfaraco/miniconda3/lib/python3.12/site-packages/sklearn/linear_model/_coordinate_descent.py:695: ConvergenceWarning: Objective did not converge. You might want to increase the number of iterations, check the scale of the features or consider increasing regularisation. Duality gap: 5.667e+00, tolerance: 3.519e-03\n",
      "  model = cd_fast.enet_coordinate_descent(\n",
      "/Users/jgfaraco/miniconda3/lib/python3.12/site-packages/sklearn/linear_model/_coordinate_descent.py:695: ConvergenceWarning: Objective did not converge. You might want to increase the number of iterations, check the scale of the features or consider increasing regularisation. Duality gap: 5.860e+00, tolerance: 3.475e-03\n",
      "  model = cd_fast.enet_coordinate_descent(\n",
      "/Users/jgfaraco/miniconda3/lib/python3.12/site-packages/sklearn/linear_model/_coordinate_descent.py:695: ConvergenceWarning: Objective did not converge. You might want to increase the number of iterations, check the scale of the features or consider increasing regularisation. Duality gap: 5.776e+00, tolerance: 3.549e-03\n",
      "  model = cd_fast.enet_coordinate_descent(\n",
      "/Users/jgfaraco/miniconda3/lib/python3.12/site-packages/sklearn/linear_model/_coordinate_descent.py:695: ConvergenceWarning: Objective did not converge. You might want to increase the number of iterations, check the scale of the features or consider increasing regularisation. Duality gap: 5.887e+00, tolerance: 3.584e-03\n",
      "  model = cd_fast.enet_coordinate_descent(\n",
      "[I 2025-05-03 15:39:44,007] Trial 18 finished with value: -0.008003165374328583 and parameters: {'alpha': 84.77196898302783, 'l1_ratio': 0.3178497443603504, 'fit_intercept': True, 'max_iter': 1950, 'use_scaler': False, 'poly_degree': 4}. Best is trial 15 with value: -0.003418979340550453.\n",
      "/Users/jgfaraco/miniconda3/lib/python3.12/site-packages/sklearn/linear_model/_coordinate_descent.py:695: ConvergenceWarning: Objective did not converge. You might want to increase the number of iterations, check the scale of the features or consider increasing regularisation. Duality gap: 5.018e+00, tolerance: 3.519e-03\n",
      "  model = cd_fast.enet_coordinate_descent(\n",
      "/Users/jgfaraco/miniconda3/lib/python3.12/site-packages/sklearn/linear_model/_coordinate_descent.py:695: ConvergenceWarning: Objective did not converge. You might want to increase the number of iterations, check the scale of the features or consider increasing regularisation. Duality gap: 5.259e+00, tolerance: 3.475e-03\n",
      "  model = cd_fast.enet_coordinate_descent(\n",
      "/Users/jgfaraco/miniconda3/lib/python3.12/site-packages/sklearn/linear_model/_coordinate_descent.py:695: ConvergenceWarning: Objective did not converge. You might want to increase the number of iterations, check the scale of the features or consider increasing regularisation. Duality gap: 5.402e+00, tolerance: 3.584e-03\n",
      "  model = cd_fast.enet_coordinate_descent(\n",
      "/Users/jgfaraco/miniconda3/lib/python3.12/site-packages/sklearn/linear_model/_coordinate_descent.py:695: ConvergenceWarning: Objective did not converge. You might want to increase the number of iterations, check the scale of the features or consider increasing regularisation. Duality gap: 5.087e+00, tolerance: 3.549e-03\n",
      "  model = cd_fast.enet_coordinate_descent(\n",
      "/Users/jgfaraco/miniconda3/lib/python3.12/site-packages/sklearn/linear_model/_coordinate_descent.py:695: ConvergenceWarning: Objective did not converge. You might want to increase the number of iterations, check the scale of the features or consider increasing regularisation. Duality gap: 5.064e+00, tolerance: 3.529e-03\n",
      "  model = cd_fast.enet_coordinate_descent(\n",
      "[I 2025-05-03 15:39:44,337] Trial 19 finished with value: -0.008187827901023223 and parameters: {'alpha': 1.4711215379121978, 'l1_ratio': 0.5821972156672827, 'fit_intercept': True, 'max_iter': 2283, 'use_scaler': False, 'poly_degree': 3}. Best is trial 15 with value: -0.003418979340550453.\n",
      "[I 2025-05-03 15:39:44,409] Trial 20 finished with value: -6.870744201447051 and parameters: {'alpha': 2.4424282201158256, 'l1_ratio': 0.11492904603507054, 'fit_intercept': False, 'max_iter': 3581, 'use_scaler': True, 'poly_degree': 2, 'scaler_option': 'mean'}. Best is trial 15 with value: -0.003418979340550453.\n",
      "[I 2025-05-03 15:39:44,497] Trial 21 finished with value: -0.6109964588096366 and parameters: {'alpha': 0.050737814374886406, 'l1_ratio': 0.20212616911653017, 'fit_intercept': False, 'max_iter': 2032, 'use_scaler': True, 'poly_degree': 3, 'scaler_option': 'mean'}. Best is trial 15 with value: -0.003418979340550453.\n",
      "/Users/jgfaraco/miniconda3/lib/python3.12/site-packages/sklearn/linear_model/_coordinate_descent.py:695: ConvergenceWarning: Objective did not converge. You might want to increase the number of iterations, check the scale of the features or consider increasing regularisation. Duality gap: 2.717e+02, tolerance: 4.015e+00\n",
      "  model = cd_fast.enet_coordinate_descent(\n",
      "/Users/jgfaraco/miniconda3/lib/python3.12/site-packages/sklearn/linear_model/_coordinate_descent.py:695: ConvergenceWarning: Objective did not converge. You might want to increase the number of iterations, check the scale of the features or consider increasing regularisation. Duality gap: 2.746e+02, tolerance: 4.012e+00\n",
      "  model = cd_fast.enet_coordinate_descent(\n",
      "/Users/jgfaraco/miniconda3/lib/python3.12/site-packages/sklearn/linear_model/_coordinate_descent.py:695: ConvergenceWarning: Objective did not converge. You might want to increase the number of iterations, check the scale of the features or consider increasing regularisation. Duality gap: 2.717e+02, tolerance: 4.013e+00\n",
      "  model = cd_fast.enet_coordinate_descent(\n",
      "/Users/jgfaraco/miniconda3/lib/python3.12/site-packages/sklearn/linear_model/_coordinate_descent.py:695: ConvergenceWarning: Objective did not converge. You might want to increase the number of iterations, check the scale of the features or consider increasing regularisation. Duality gap: 2.741e+02, tolerance: 4.016e+00\n",
      "  model = cd_fast.enet_coordinate_descent(\n",
      "/Users/jgfaraco/miniconda3/lib/python3.12/site-packages/sklearn/linear_model/_coordinate_descent.py:695: ConvergenceWarning: Objective did not converge. You might want to increase the number of iterations, check the scale of the features or consider increasing regularisation. Duality gap: 2.725e+02, tolerance: 4.019e+00\n",
      "  model = cd_fast.enet_coordinate_descent(\n",
      "[I 2025-05-03 15:39:45,840] Trial 22 finished with value: -0.2557973115740081 and parameters: {'alpha': 0.0029208808341780897, 'l1_ratio': 0.9074941821579942, 'fit_intercept': False, 'max_iter': 2356, 'use_scaler': True, 'poly_degree': 5, 'scaler_option': 'mean'}. Best is trial 15 with value: -0.003418979340550453.\n",
      "/Users/jgfaraco/miniconda3/lib/python3.12/site-packages/sklearn/linear_model/_coordinate_descent.py:695: ConvergenceWarning: Objective did not converge. You might want to increase the number of iterations, check the scale of the features or consider increasing regularisation. Duality gap: 5.498e+00, tolerance: 3.529e-03\n",
      "  model = cd_fast.enet_coordinate_descent(\n",
      "/Users/jgfaraco/miniconda3/lib/python3.12/site-packages/sklearn/linear_model/_coordinate_descent.py:695: ConvergenceWarning: Objective did not converge. You might want to increase the number of iterations, check the scale of the features or consider increasing regularisation. Duality gap: 5.588e+00, tolerance: 3.519e-03\n",
      "  model = cd_fast.enet_coordinate_descent(\n",
      "/Users/jgfaraco/miniconda3/lib/python3.12/site-packages/sklearn/linear_model/_coordinate_descent.py:695: ConvergenceWarning: Objective did not converge. You might want to increase the number of iterations, check the scale of the features or consider increasing regularisation. Duality gap: 5.765e+00, tolerance: 3.475e-03\n",
      "  model = cd_fast.enet_coordinate_descent(\n",
      "/Users/jgfaraco/miniconda3/lib/python3.12/site-packages/sklearn/linear_model/_coordinate_descent.py:695: ConvergenceWarning: Objective did not converge. You might want to increase the number of iterations, check the scale of the features or consider increasing regularisation. Duality gap: 5.685e+00, tolerance: 3.549e-03\n",
      "  model = cd_fast.enet_coordinate_descent(\n",
      "/Users/jgfaraco/miniconda3/lib/python3.12/site-packages/sklearn/linear_model/_coordinate_descent.py:695: ConvergenceWarning: Objective did not converge. You might want to increase the number of iterations, check the scale of the features or consider increasing regularisation. Duality gap: 5.809e+00, tolerance: 3.584e-03\n",
      "  model = cd_fast.enet_coordinate_descent(\n",
      "[I 2025-05-03 15:39:46,699] Trial 23 finished with value: -0.007865139284904527 and parameters: {'alpha': 1.6224010950061378, 'l1_ratio': 0.17572596849554395, 'fit_intercept': True, 'max_iter': 3426, 'use_scaler': True, 'poly_degree': 4, 'scaler_option': 'std'}. Best is trial 15 with value: -0.003418979340550453.\n",
      "/Users/jgfaraco/miniconda3/lib/python3.12/site-packages/sklearn/linear_model/_coordinate_descent.py:695: ConvergenceWarning: Objective did not converge. You might want to increase the number of iterations, check the scale of the features or consider increasing regularisation. Duality gap: 9.534e+00, tolerance: 4.015e+00\n",
      "  model = cd_fast.enet_coordinate_descent(\n",
      "/Users/jgfaraco/miniconda3/lib/python3.12/site-packages/sklearn/linear_model/_coordinate_descent.py:695: ConvergenceWarning: Objective did not converge. You might want to increase the number of iterations, check the scale of the features or consider increasing regularisation. Duality gap: 9.397e+00, tolerance: 4.013e+00\n",
      "  model = cd_fast.enet_coordinate_descent(\n",
      "/Users/jgfaraco/miniconda3/lib/python3.12/site-packages/sklearn/linear_model/_coordinate_descent.py:695: ConvergenceWarning: Objective did not converge. You might want to increase the number of iterations, check the scale of the features or consider increasing regularisation. Duality gap: 9.558e+00, tolerance: 4.019e+00\n",
      "  model = cd_fast.enet_coordinate_descent(\n",
      "/Users/jgfaraco/miniconda3/lib/python3.12/site-packages/sklearn/linear_model/_coordinate_descent.py:695: ConvergenceWarning: Objective did not converge. You might want to increase the number of iterations, check the scale of the features or consider increasing regularisation. Duality gap: 9.811e+00, tolerance: 4.016e+00\n",
      "  model = cd_fast.enet_coordinate_descent(\n",
      "/Users/jgfaraco/miniconda3/lib/python3.12/site-packages/sklearn/linear_model/_coordinate_descent.py:695: ConvergenceWarning: Objective did not converge. You might want to increase the number of iterations, check the scale of the features or consider increasing regularisation. Duality gap: 9.702e+00, tolerance: 4.012e+00\n",
      "  model = cd_fast.enet_coordinate_descent(\n",
      "[I 2025-05-03 15:39:47,805] Trial 24 finished with value: -0.00850106511867153 and parameters: {'alpha': 0.5542030950268271, 'l1_ratio': 0.722705677923424, 'fit_intercept': False, 'max_iter': 3849, 'use_scaler': True, 'poly_degree': 4, 'scaler_option': 'std'}. Best is trial 15 with value: -0.003418979340550453.\n",
      "[I 2025-05-03 15:39:47,879] Trial 25 finished with value: -0.02188670543354742 and parameters: {'alpha': 1.9411739809629633, 'l1_ratio': 0.6114777430019245, 'fit_intercept': True, 'max_iter': 2061, 'use_scaler': True, 'poly_degree': 2, 'scaler_option': 'mean'}. Best is trial 15 with value: -0.003418979340550453.\n",
      "[I 2025-05-03 15:39:47,950] Trial 26 finished with value: -0.018886379679034136 and parameters: {'alpha': 9.420121790275633, 'l1_ratio': 0.5523733837946729, 'fit_intercept': False, 'max_iter': 1781, 'use_scaler': False, 'poly_degree': 1}. Best is trial 15 with value: -0.003418979340550453.\n",
      "/Users/jgfaraco/miniconda3/lib/python3.12/site-packages/sklearn/linear_model/_coordinate_descent.py:695: ConvergenceWarning: Objective did not converge. You might want to increase the number of iterations, check the scale of the features or consider increasing regularisation. Duality gap: 5.430e+00, tolerance: 3.519e-03\n",
      "  model = cd_fast.enet_coordinate_descent(\n",
      "/Users/jgfaraco/miniconda3/lib/python3.12/site-packages/sklearn/linear_model/_coordinate_descent.py:695: ConvergenceWarning: Objective did not converge. You might want to increase the number of iterations, check the scale of the features or consider increasing regularisation. Duality gap: 5.543e+00, tolerance: 3.549e-03\n",
      "  model = cd_fast.enet_coordinate_descent(\n",
      "/Users/jgfaraco/miniconda3/lib/python3.12/site-packages/sklearn/linear_model/_coordinate_descent.py:695: ConvergenceWarning: Objective did not converge. You might want to increase the number of iterations, check the scale of the features or consider increasing regularisation. Duality gap: 5.620e+00, tolerance: 3.475e-03\n",
      "  model = cd_fast.enet_coordinate_descent(\n",
      "/Users/jgfaraco/miniconda3/lib/python3.12/site-packages/sklearn/linear_model/_coordinate_descent.py:695: ConvergenceWarning: Objective did not converge. You might want to increase the number of iterations, check the scale of the features or consider increasing regularisation. Duality gap: 5.361e+00, tolerance: 3.529e-03\n",
      "  model = cd_fast.enet_coordinate_descent(\n",
      "/Users/jgfaraco/miniconda3/lib/python3.12/site-packages/sklearn/linear_model/_coordinate_descent.py:695: ConvergenceWarning: Objective did not converge. You might want to increase the number of iterations, check the scale of the features or consider increasing regularisation. Duality gap: 5.663e+00, tolerance: 3.584e-03\n",
      "  model = cd_fast.enet_coordinate_descent(\n",
      "[I 2025-05-03 15:39:49,704] Trial 27 finished with value: -0.007578103872324793 and parameters: {'alpha': 1.6879573909049668, 'l1_ratio': 0.25939961146634405, 'fit_intercept': True, 'max_iter': 4660, 'use_scaler': False, 'poly_degree': 5}. Best is trial 15 with value: -0.003418979340550453.\n",
      "/Users/jgfaraco/miniconda3/lib/python3.12/site-packages/sklearn/linear_model/_coordinate_descent.py:695: ConvergenceWarning: Objective did not converge. You might want to increase the number of iterations, check the scale of the features or consider increasing regularisation. Duality gap: 1.036e+01, tolerance: 4.013e+00\n",
      "  model = cd_fast.enet_coordinate_descent(\n",
      "/Users/jgfaraco/miniconda3/lib/python3.12/site-packages/sklearn/linear_model/_coordinate_descent.py:695: ConvergenceWarning: Objective did not converge. You might want to increase the number of iterations, check the scale of the features or consider increasing regularisation. Duality gap: 1.031e+01, tolerance: 4.015e+00\n",
      "  model = cd_fast.enet_coordinate_descent(\n",
      "/Users/jgfaraco/miniconda3/lib/python3.12/site-packages/sklearn/linear_model/_coordinate_descent.py:695: ConvergenceWarning: Objective did not converge. You might want to increase the number of iterations, check the scale of the features or consider increasing regularisation. Duality gap: 1.051e+01, tolerance: 4.012e+00\n",
      "  model = cd_fast.enet_coordinate_descent(\n",
      "/Users/jgfaraco/miniconda3/lib/python3.12/site-packages/sklearn/linear_model/_coordinate_descent.py:695: ConvergenceWarning: Objective did not converge. You might want to increase the number of iterations, check the scale of the features or consider increasing regularisation. Duality gap: 1.060e+01, tolerance: 4.016e+00\n",
      "  model = cd_fast.enet_coordinate_descent(\n",
      "/Users/jgfaraco/miniconda3/lib/python3.12/site-packages/sklearn/linear_model/_coordinate_descent.py:695: ConvergenceWarning: Objective did not converge. You might want to increase the number of iterations, check the scale of the features or consider increasing regularisation. Duality gap: 1.043e+01, tolerance: 4.019e+00\n",
      "  model = cd_fast.enet_coordinate_descent(\n",
      "[I 2025-05-03 15:39:50,211] Trial 28 finished with value: -0.008796367744281055 and parameters: {'alpha': 0.13833139021965044, 'l1_ratio': 0.9699893371393027, 'fit_intercept': False, 'max_iter': 2178, 'use_scaler': True, 'poly_degree': 2, 'scaler_option': 'std'}. Best is trial 15 with value: -0.003418979340550453.\n",
      "/Users/jgfaraco/miniconda3/lib/python3.12/site-packages/sklearn/linear_model/_coordinate_descent.py:695: ConvergenceWarning: Objective did not converge. You might want to increase the number of iterations, check the scale of the features or consider increasing regularisation. Duality gap: 7.097e+00, tolerance: 4.013e+00\n",
      "  model = cd_fast.enet_coordinate_descent(\n",
      "/Users/jgfaraco/miniconda3/lib/python3.12/site-packages/sklearn/linear_model/_coordinate_descent.py:695: ConvergenceWarning: Objective did not converge. You might want to increase the number of iterations, check the scale of the features or consider increasing regularisation. Duality gap: 7.252e+00, tolerance: 4.012e+00\n",
      "  model = cd_fast.enet_coordinate_descent(\n",
      "/Users/jgfaraco/miniconda3/lib/python3.12/site-packages/sklearn/linear_model/_coordinate_descent.py:695: ConvergenceWarning: Objective did not converge. You might want to increase the number of iterations, check the scale of the features or consider increasing regularisation. Duality gap: 7.002e+00, tolerance: 4.015e+00\n",
      "  model = cd_fast.enet_coordinate_descent(\n",
      "/Users/jgfaraco/miniconda3/lib/python3.12/site-packages/sklearn/linear_model/_coordinate_descent.py:695: ConvergenceWarning: Objective did not converge. You might want to increase the number of iterations, check the scale of the features or consider increasing regularisation. Duality gap: 7.192e+00, tolerance: 4.019e+00\n",
      "  model = cd_fast.enet_coordinate_descent(\n",
      "/Users/jgfaraco/miniconda3/lib/python3.12/site-packages/sklearn/linear_model/_coordinate_descent.py:695: ConvergenceWarning: Objective did not converge. You might want to increase the number of iterations, check the scale of the features or consider increasing regularisation. Duality gap: 7.467e+00, tolerance: 4.016e+00\n",
      "  model = cd_fast.enet_coordinate_descent(\n",
      "[I 2025-05-03 15:39:50,694] Trial 29 finished with value: -0.008680966036152747 and parameters: {'alpha': 47.94837252202717, 'l1_ratio': 0.7264268170074757, 'fit_intercept': False, 'max_iter': 3460, 'use_scaler': False, 'poly_degree': 3}. Best is trial 15 with value: -0.003418979340550453.\n",
      "/Users/jgfaraco/miniconda3/lib/python3.12/site-packages/sklearn/linear_model/_coordinate_descent.py:695: ConvergenceWarning: Objective did not converge. You might want to increase the number of iterations, check the scale of the features or consider increasing regularisation. Duality gap: 5.479e+00, tolerance: 3.529e-03\n",
      "  model = cd_fast.enet_coordinate_descent(\n",
      "/Users/jgfaraco/miniconda3/lib/python3.12/site-packages/sklearn/linear_model/_coordinate_descent.py:695: ConvergenceWarning: Objective did not converge. You might want to increase the number of iterations, check the scale of the features or consider increasing regularisation. Duality gap: 5.568e+00, tolerance: 3.519e-03\n",
      "  model = cd_fast.enet_coordinate_descent(\n",
      "/Users/jgfaraco/miniconda3/lib/python3.12/site-packages/sklearn/linear_model/_coordinate_descent.py:695: ConvergenceWarning: Objective did not converge. You might want to increase the number of iterations, check the scale of the features or consider increasing regularisation. Duality gap: 5.663e+00, tolerance: 3.549e-03\n",
      "  model = cd_fast.enet_coordinate_descent(\n",
      "/Users/jgfaraco/miniconda3/lib/python3.12/site-packages/sklearn/linear_model/_coordinate_descent.py:695: ConvergenceWarning: Objective did not converge. You might want to increase the number of iterations, check the scale of the features or consider increasing regularisation. Duality gap: 5.792e+00, tolerance: 3.584e-03\n",
      "  model = cd_fast.enet_coordinate_descent(\n",
      "/Users/jgfaraco/miniconda3/lib/python3.12/site-packages/sklearn/linear_model/_coordinate_descent.py:695: ConvergenceWarning: Objective did not converge. You might want to increase the number of iterations, check the scale of the features or consider increasing regularisation. Duality gap: 5.752e+00, tolerance: 3.475e-03\n",
      "  model = cd_fast.enet_coordinate_descent(\n",
      "[I 2025-05-03 15:39:51,555] Trial 30 finished with value: -0.007848489071903343 and parameters: {'alpha': 24.370551632385435, 'l1_ratio': 0.766691755978784, 'fit_intercept': True, 'max_iter': 2438, 'use_scaler': True, 'poly_degree': 5, 'scaler_option': 'std'}. Best is trial 15 with value: -0.003418979340550453.\n",
      "[I 2025-05-03 15:39:51,626] Trial 31 finished with value: -2.6338912663104166 and parameters: {'alpha': 0.3603396018164125, 'l1_ratio': 0.5513646652184797, 'fit_intercept': False, 'max_iter': 3808, 'use_scaler': True, 'poly_degree': 2, 'scaler_option': 'mean'}. Best is trial 15 with value: -0.003418979340550453.\n",
      "[I 2025-05-03 15:39:51,704] Trial 32 finished with value: -0.017751214757363184 and parameters: {'alpha': 0.7787547434272366, 'l1_ratio': 0.13234804641706788, 'fit_intercept': True, 'max_iter': 2146, 'use_scaler': False, 'poly_degree': 1}. Best is trial 15 with value: -0.003418979340550453.\n",
      "[I 2025-05-03 15:39:51,786] Trial 33 finished with value: -0.024290639236509086 and parameters: {'alpha': 12.971876440863593, 'l1_ratio': 0.4241715772701366, 'fit_intercept': True, 'max_iter': 4080, 'use_scaler': True, 'poly_degree': 1, 'scaler_option': 'std'}. Best is trial 15 with value: -0.003418979340550453.\n",
      "[I 2025-05-03 15:39:51,894] Trial 34 finished with value: -0.01829211850788414 and parameters: {'alpha': 0.5048653998722948, 'l1_ratio': 0.6736869113483859, 'fit_intercept': True, 'max_iter': 3065, 'use_scaler': True, 'poly_degree': 2, 'scaler_option': 'mean'}. Best is trial 15 with value: -0.003418979340550453.\n",
      "/Users/jgfaraco/miniconda3/lib/python3.12/site-packages/sklearn/linear_model/_coordinate_descent.py:695: ConvergenceWarning: Objective did not converge. You might want to increase the number of iterations, check the scale of the features or consider increasing regularisation. Duality gap: 6.122e+00, tolerance: 4.015e+00\n",
      "  model = cd_fast.enet_coordinate_descent(\n",
      "/Users/jgfaraco/miniconda3/lib/python3.12/site-packages/sklearn/linear_model/_coordinate_descent.py:695: ConvergenceWarning: Objective did not converge. You might want to increase the number of iterations, check the scale of the features or consider increasing regularisation. Duality gap: 6.141e+00, tolerance: 4.013e+00\n",
      "  model = cd_fast.enet_coordinate_descent(\n",
      "/Users/jgfaraco/miniconda3/lib/python3.12/site-packages/sklearn/linear_model/_coordinate_descent.py:695: ConvergenceWarning: Objective did not converge. You might want to increase the number of iterations, check the scale of the features or consider increasing regularisation. Duality gap: 6.131e+00, tolerance: 4.012e+00\n",
      "  model = cd_fast.enet_coordinate_descent(\n",
      "/Users/jgfaraco/miniconda3/lib/python3.12/site-packages/sklearn/linear_model/_coordinate_descent.py:695: ConvergenceWarning: Objective did not converge. You might want to increase the number of iterations, check the scale of the features or consider increasing regularisation. Duality gap: 6.204e+00, tolerance: 4.019e+00\n",
      "  model = cd_fast.enet_coordinate_descent(\n",
      "/Users/jgfaraco/miniconda3/lib/python3.12/site-packages/sklearn/linear_model/_coordinate_descent.py:695: ConvergenceWarning: Objective did not converge. You might want to increase the number of iterations, check the scale of the features or consider increasing regularisation. Duality gap: 6.242e+00, tolerance: 4.016e+00\n",
      "  model = cd_fast.enet_coordinate_descent(\n",
      "[I 2025-05-03 15:39:52,368] Trial 35 finished with value: -0.003788445896367118 and parameters: {'alpha': 0.0013389171890458426, 'l1_ratio': 0.9663835732101326, 'fit_intercept': False, 'max_iter': 2636, 'use_scaler': False, 'poly_degree': 2}. Best is trial 15 with value: -0.003418979340550453.\n",
      "/Users/jgfaraco/miniconda3/lib/python3.12/site-packages/sklearn/linear_model/_coordinate_descent.py:695: ConvergenceWarning: Objective did not converge. You might want to increase the number of iterations, check the scale of the features or consider increasing regularisation. Duality gap: 6.801e+00, tolerance: 4.013e+00\n",
      "  model = cd_fast.enet_coordinate_descent(\n",
      "/Users/jgfaraco/miniconda3/lib/python3.12/site-packages/sklearn/linear_model/_coordinate_descent.py:695: ConvergenceWarning: Objective did not converge. You might want to increase the number of iterations, check the scale of the features or consider increasing regularisation. Duality gap: 6.913e+00, tolerance: 4.019e+00\n",
      "  model = cd_fast.enet_coordinate_descent(\n",
      "/Users/jgfaraco/miniconda3/lib/python3.12/site-packages/sklearn/linear_model/_coordinate_descent.py:695: ConvergenceWarning: Objective did not converge. You might want to increase the number of iterations, check the scale of the features or consider increasing regularisation. Duality gap: 6.746e+00, tolerance: 4.015e+00\n",
      "  model = cd_fast.enet_coordinate_descent(\n",
      "/Users/jgfaraco/miniconda3/lib/python3.12/site-packages/sklearn/linear_model/_coordinate_descent.py:695: ConvergenceWarning: Objective did not converge. You might want to increase the number of iterations, check the scale of the features or consider increasing regularisation. Duality gap: 7.010e+00, tolerance: 4.012e+00\n",
      "  model = cd_fast.enet_coordinate_descent(\n",
      "/Users/jgfaraco/miniconda3/lib/python3.12/site-packages/sklearn/linear_model/_coordinate_descent.py:695: ConvergenceWarning: Objective did not converge. You might want to increase the number of iterations, check the scale of the features or consider increasing regularisation. Duality gap: 7.073e+00, tolerance: 4.016e+00\n",
      "  model = cd_fast.enet_coordinate_descent(\n",
      "[I 2025-05-03 15:39:53,735] Trial 36 finished with value: -0.00812676509127926 and parameters: {'alpha': 0.5573568249598129, 'l1_ratio': 0.7431363304300561, 'fit_intercept': False, 'max_iter': 4820, 'use_scaler': False, 'poly_degree': 4}. Best is trial 15 with value: -0.003418979340550453.\n",
      "[I 2025-05-03 15:39:53,812] Trial 37 finished with value: -0.017721021250244298 and parameters: {'alpha': 0.1253142075607501, 'l1_ratio': 0.32295789055104174, 'fit_intercept': True, 'max_iter': 1057, 'use_scaler': False, 'poly_degree': 1}. Best is trial 15 with value: -0.003418979340550453.\n",
      "/Users/jgfaraco/miniconda3/lib/python3.12/site-packages/sklearn/linear_model/_coordinate_descent.py:695: ConvergenceWarning: Objective did not converge. You might want to increase the number of iterations, check the scale of the features or consider increasing regularisation. Duality gap: 9.059e+00, tolerance: 4.013e+00\n",
      "  model = cd_fast.enet_coordinate_descent(\n",
      "/Users/jgfaraco/miniconda3/lib/python3.12/site-packages/sklearn/linear_model/_coordinate_descent.py:695: ConvergenceWarning: Objective did not converge. You might want to increase the number of iterations, check the scale of the features or consider increasing regularisation. Duality gap: 9.010e+00, tolerance: 4.015e+00\n",
      "  model = cd_fast.enet_coordinate_descent(\n",
      "/Users/jgfaraco/miniconda3/lib/python3.12/site-packages/sklearn/linear_model/_coordinate_descent.py:695: ConvergenceWarning: Objective did not converge. You might want to increase the number of iterations, check the scale of the features or consider increasing regularisation. Duality gap: 9.183e+00, tolerance: 4.019e+00\n",
      "  model = cd_fast.enet_coordinate_descent(\n",
      "/Users/jgfaraco/miniconda3/lib/python3.12/site-packages/sklearn/linear_model/_coordinate_descent.py:695: ConvergenceWarning: Objective did not converge. You might want to increase the number of iterations, check the scale of the features or consider increasing regularisation. Duality gap: 9.279e+00, tolerance: 4.012e+00\n",
      "  model = cd_fast.enet_coordinate_descent(\n",
      "/Users/jgfaraco/miniconda3/lib/python3.12/site-packages/sklearn/linear_model/_coordinate_descent.py:695: ConvergenceWarning: Objective did not converge. You might want to increase the number of iterations, check the scale of the features or consider increasing regularisation. Duality gap: 9.533e+00, tolerance: 4.016e+00\n",
      "  model = cd_fast.enet_coordinate_descent(\n",
      "[I 2025-05-03 15:39:54,344] Trial 38 finished with value: -0.008777948209563041 and parameters: {'alpha': 18.936639872354522, 'l1_ratio': 0.7332920734420213, 'fit_intercept': False, 'max_iter': 2966, 'use_scaler': False, 'poly_degree': 3}. Best is trial 15 with value: -0.003418979340550453.\n",
      "/Users/jgfaraco/miniconda3/lib/python3.12/site-packages/sklearn/linear_model/_coordinate_descent.py:695: ConvergenceWarning: Objective did not converge. You might want to increase the number of iterations, check the scale of the features or consider increasing regularisation. Duality gap: 5.868e+00, tolerance: 4.015e+00\n",
      "  model = cd_fast.enet_coordinate_descent(\n",
      "/Users/jgfaraco/miniconda3/lib/python3.12/site-packages/sklearn/linear_model/_coordinate_descent.py:695: ConvergenceWarning: Objective did not converge. You might want to increase the number of iterations, check the scale of the features or consider increasing regularisation. Duality gap: 6.172e+00, tolerance: 4.016e+00\n",
      "  model = cd_fast.enet_coordinate_descent(\n",
      "/Users/jgfaraco/miniconda3/lib/python3.12/site-packages/sklearn/linear_model/_coordinate_descent.py:695: ConvergenceWarning: Objective did not converge. You might want to increase the number of iterations, check the scale of the features or consider increasing regularisation. Duality gap: 5.946e+00, tolerance: 4.013e+00\n",
      "  model = cd_fast.enet_coordinate_descent(\n",
      "/Users/jgfaraco/miniconda3/lib/python3.12/site-packages/sklearn/linear_model/_coordinate_descent.py:695: ConvergenceWarning: Objective did not converge. You might want to increase the number of iterations, check the scale of the features or consider increasing regularisation. Duality gap: 6.147e+00, tolerance: 4.012e+00\n",
      "  model = cd_fast.enet_coordinate_descent(\n",
      "/Users/jgfaraco/miniconda3/lib/python3.12/site-packages/sklearn/linear_model/_coordinate_descent.py:695: ConvergenceWarning: Objective did not converge. You might want to increase the number of iterations, check the scale of the features or consider increasing regularisation. Duality gap: 6.071e+00, tolerance: 4.019e+00\n",
      "  model = cd_fast.enet_coordinate_descent(\n",
      "[I 2025-05-03 15:39:55,350] Trial 39 finished with value: -0.008109474965559315 and parameters: {'alpha': 0.0982932448006971, 'l1_ratio': 0.6542650882469948, 'fit_intercept': False, 'max_iter': 2498, 'use_scaler': False, 'poly_degree': 5}. Best is trial 15 with value: -0.003418979340550453.\n",
      "/Users/jgfaraco/miniconda3/lib/python3.12/site-packages/sklearn/linear_model/_coordinate_descent.py:695: ConvergenceWarning: Objective did not converge. You might want to increase the number of iterations, check the scale of the features or consider increasing regularisation. Duality gap: 7.511e-01, tolerance: 3.519e-03\n",
      "  model = cd_fast.enet_coordinate_descent(\n",
      "/Users/jgfaraco/miniconda3/lib/python3.12/site-packages/sklearn/linear_model/_coordinate_descent.py:695: ConvergenceWarning: Objective did not converge. You might want to increase the number of iterations, check the scale of the features or consider increasing regularisation. Duality gap: 3.689e-01, tolerance: 3.475e-03\n",
      "  model = cd_fast.enet_coordinate_descent(\n",
      "/Users/jgfaraco/miniconda3/lib/python3.12/site-packages/sklearn/linear_model/_coordinate_descent.py:695: ConvergenceWarning: Objective did not converge. You might want to increase the number of iterations, check the scale of the features or consider increasing regularisation. Duality gap: 1.518e-01, tolerance: 3.529e-03\n",
      "  model = cd_fast.enet_coordinate_descent(\n",
      "/Users/jgfaraco/miniconda3/lib/python3.12/site-packages/sklearn/linear_model/_coordinate_descent.py:695: ConvergenceWarning: Objective did not converge. You might want to increase the number of iterations, check the scale of the features or consider increasing regularisation. Duality gap: 2.765e-01, tolerance: 3.549e-03\n",
      "  model = cd_fast.enet_coordinate_descent(\n",
      "/Users/jgfaraco/miniconda3/lib/python3.12/site-packages/sklearn/linear_model/_coordinate_descent.py:695: ConvergenceWarning: Objective did not converge. You might want to increase the number of iterations, check the scale of the features or consider increasing regularisation. Duality gap: 8.321e-01, tolerance: 3.584e-03\n",
      "  model = cd_fast.enet_coordinate_descent(\n",
      "[I 2025-05-03 15:39:55,562] Trial 40 finished with value: -0.00806719093080428 and parameters: {'alpha': 1.965477869022202, 'l1_ratio': 0.24664098437328674, 'fit_intercept': True, 'max_iter': 1106, 'use_scaler': True, 'poly_degree': 3, 'scaler_option': 'std'}. Best is trial 15 with value: -0.003418979340550453.\n",
      "[I 2025-05-03 15:39:55,635] Trial 41 finished with value: -0.018879518195249266 and parameters: {'alpha': 0.19555298629314807, 'l1_ratio': 0.5910551103843414, 'fit_intercept': False, 'max_iter': 4845, 'use_scaler': False, 'poly_degree': 1}. Best is trial 15 with value: -0.003418979340550453.\n",
      "[I 2025-05-03 15:39:55,705] Trial 42 finished with value: -0.0034012429075328593 and parameters: {'alpha': 0.0031907296414409162, 'l1_ratio': 0.11639964308639476, 'fit_intercept': True, 'max_iter': 1284, 'use_scaler': True, 'poly_degree': 1, 'scaler_option': 'mean'}. Best is trial 42 with value: -0.0034012429075328593.\n",
      "[I 2025-05-03 15:39:55,778] Trial 43 finished with value: -0.005191950494466894 and parameters: {'alpha': 0.0038978411671571614, 'l1_ratio': 0.7270634488277355, 'fit_intercept': True, 'max_iter': 3941, 'use_scaler': False, 'poly_degree': 1}. Best is trial 42 with value: -0.0034012429075328593.\n",
      "/Users/jgfaraco/miniconda3/lib/python3.12/site-packages/sklearn/linear_model/_coordinate_descent.py:695: ConvergenceWarning: Objective did not converge. You might want to increase the number of iterations, check the scale of the features or consider increasing regularisation. Duality gap: 9.985e+00, tolerance: 4.013e+00\n",
      "  model = cd_fast.enet_coordinate_descent(\n",
      "/Users/jgfaraco/miniconda3/lib/python3.12/site-packages/sklearn/linear_model/_coordinate_descent.py:695: ConvergenceWarning: Objective did not converge. You might want to increase the number of iterations, check the scale of the features or consider increasing regularisation. Duality gap: 1.025e+01, tolerance: 4.012e+00\n",
      "  model = cd_fast.enet_coordinate_descent(\n",
      "/Users/jgfaraco/miniconda3/lib/python3.12/site-packages/sklearn/linear_model/_coordinate_descent.py:695: ConvergenceWarning: Objective did not converge. You might want to increase the number of iterations, check the scale of the features or consider increasing regularisation. Duality gap: 1.035e+01, tolerance: 4.016e+00\n",
      "  model = cd_fast.enet_coordinate_descent(\n",
      "/Users/jgfaraco/miniconda3/lib/python3.12/site-packages/sklearn/linear_model/_coordinate_descent.py:695: ConvergenceWarning: Objective did not converge. You might want to increase the number of iterations, check the scale of the features or consider increasing regularisation. Duality gap: 1.001e+01, tolerance: 4.015e+00\n",
      "  model = cd_fast.enet_coordinate_descent(\n",
      "/Users/jgfaraco/miniconda3/lib/python3.12/site-packages/sklearn/linear_model/_coordinate_descent.py:695: ConvergenceWarning: Objective did not converge. You might want to increase the number of iterations, check the scale of the features or consider increasing regularisation. Duality gap: 1.011e+01, tolerance: 4.019e+00\n",
      "  model = cd_fast.enet_coordinate_descent(\n",
      "[I 2025-05-03 15:39:57,033] Trial 44 finished with value: -0.008418033580824161 and parameters: {'alpha': 5.663354641950937, 'l1_ratio': 0.8261512653405376, 'fit_intercept': False, 'max_iter': 2488, 'use_scaler': False, 'poly_degree': 5}. Best is trial 42 with value: -0.0034012429075328593.\n",
      "/Users/jgfaraco/miniconda3/lib/python3.12/site-packages/sklearn/linear_model/_coordinate_descent.py:695: ConvergenceWarning: Objective did not converge. You might want to increase the number of iterations, check the scale of the features or consider increasing regularisation. Duality gap: 5.593e+00, tolerance: 3.519e-03\n",
      "  model = cd_fast.enet_coordinate_descent(\n",
      "/Users/jgfaraco/miniconda3/lib/python3.12/site-packages/sklearn/linear_model/_coordinate_descent.py:695: ConvergenceWarning: Objective did not converge. You might want to increase the number of iterations, check the scale of the features or consider increasing regularisation. Duality gap: 5.780e+00, tolerance: 3.475e-03\n",
      "  model = cd_fast.enet_coordinate_descent(\n",
      "/Users/jgfaraco/miniconda3/lib/python3.12/site-packages/sklearn/linear_model/_coordinate_descent.py:695: ConvergenceWarning: Objective did not converge. You might want to increase the number of iterations, check the scale of the features or consider increasing regularisation. Duality gap: 5.518e+00, tolerance: 3.529e-03\n",
      "  model = cd_fast.enet_coordinate_descent(\n",
      "/Users/jgfaraco/miniconda3/lib/python3.12/site-packages/sklearn/linear_model/_coordinate_descent.py:695: ConvergenceWarning: Objective did not converge. You might want to increase the number of iterations, check the scale of the features or consider increasing regularisation. Duality gap: 5.698e+00, tolerance: 3.549e-03\n",
      "  model = cd_fast.enet_coordinate_descent(\n",
      "/Users/jgfaraco/miniconda3/lib/python3.12/site-packages/sklearn/linear_model/_coordinate_descent.py:695: ConvergenceWarning: Objective did not converge. You might want to increase the number of iterations, check the scale of the features or consider increasing regularisation. Duality gap: 5.829e+00, tolerance: 3.584e-03\n",
      "  model = cd_fast.enet_coordinate_descent(\n",
      "[I 2025-05-03 15:39:57,614] Trial 45 finished with value: -0.007937774159344376 and parameters: {'alpha': 19.591322745978662, 'l1_ratio': 0.4860946246375165, 'fit_intercept': True, 'max_iter': 1412, 'use_scaler': False, 'poly_degree': 5}. Best is trial 42 with value: -0.0034012429075328593.\n",
      "/Users/jgfaraco/miniconda3/lib/python3.12/site-packages/sklearn/linear_model/_coordinate_descent.py:695: ConvergenceWarning: Objective did not converge. You might want to increase the number of iterations, check the scale of the features or consider increasing regularisation. Duality gap: 9.997e+02, tolerance: 4.016e+00\n",
      "  model = cd_fast.enet_coordinate_descent(\n",
      "/Users/jgfaraco/miniconda3/lib/python3.12/site-packages/sklearn/linear_model/_coordinate_descent.py:695: ConvergenceWarning: Objective did not converge. You might want to increase the number of iterations, check the scale of the features or consider increasing regularisation. Duality gap: 1.086e+03, tolerance: 4.015e+00\n",
      "  model = cd_fast.enet_coordinate_descent(\n",
      "/Users/jgfaraco/miniconda3/lib/python3.12/site-packages/sklearn/linear_model/_coordinate_descent.py:695: ConvergenceWarning: Objective did not converge. You might want to increase the number of iterations, check the scale of the features or consider increasing regularisation. Duality gap: 1.041e+03, tolerance: 4.013e+00\n",
      "  model = cd_fast.enet_coordinate_descent(\n",
      "/Users/jgfaraco/miniconda3/lib/python3.12/site-packages/sklearn/linear_model/_coordinate_descent.py:695: ConvergenceWarning: Objective did not converge. You might want to increase the number of iterations, check the scale of the features or consider increasing regularisation. Duality gap: 1.081e+03, tolerance: 4.012e+00\n",
      "  model = cd_fast.enet_coordinate_descent(\n",
      "/Users/jgfaraco/miniconda3/lib/python3.12/site-packages/sklearn/linear_model/_coordinate_descent.py:695: ConvergenceWarning: Objective did not converge. You might want to increase the number of iterations, check the scale of the features or consider increasing regularisation. Duality gap: 1.061e+03, tolerance: 4.019e+00\n",
      "  model = cd_fast.enet_coordinate_descent(\n",
      "[I 2025-05-03 15:39:59,857] Trial 46 finished with value: -0.7451839499641689 and parameters: {'alpha': 0.039833457575901975, 'l1_ratio': 0.9059709056465804, 'fit_intercept': False, 'max_iter': 4622, 'use_scaler': True, 'poly_degree': 5, 'scaler_option': 'mean'}. Best is trial 42 with value: -0.0034012429075328593.\n",
      "/Users/jgfaraco/miniconda3/lib/python3.12/site-packages/sklearn/linear_model/_coordinate_descent.py:695: ConvergenceWarning: Objective did not converge. You might want to increase the number of iterations, check the scale of the features or consider increasing regularisation. Duality gap: 5.252e+00, tolerance: 3.529e-03\n",
      "  model = cd_fast.enet_coordinate_descent(\n",
      "/Users/jgfaraco/miniconda3/lib/python3.12/site-packages/sklearn/linear_model/_coordinate_descent.py:695: ConvergenceWarning: Objective did not converge. You might want to increase the number of iterations, check the scale of the features or consider increasing regularisation. Duality gap: 5.340e+00, tolerance: 3.519e-03\n",
      "  model = cd_fast.enet_coordinate_descent(\n",
      "/Users/jgfaraco/miniconda3/lib/python3.12/site-packages/sklearn/linear_model/_coordinate_descent.py:695: ConvergenceWarning: Objective did not converge. You might want to increase the number of iterations, check the scale of the features or consider increasing regularisation. Duality gap: 5.553e+00, tolerance: 3.475e-03\n",
      "  model = cd_fast.enet_coordinate_descent(\n",
      "/Users/jgfaraco/miniconda3/lib/python3.12/site-packages/sklearn/linear_model/_coordinate_descent.py:695: ConvergenceWarning: Objective did not converge. You might want to increase the number of iterations, check the scale of the features or consider increasing regularisation. Duality gap: 5.561e+00, tolerance: 3.584e-03\n",
      "  model = cd_fast.enet_coordinate_descent(\n",
      "/Users/jgfaraco/miniconda3/lib/python3.12/site-packages/sklearn/linear_model/_coordinate_descent.py:695: ConvergenceWarning: Objective did not converge. You might want to increase the number of iterations, check the scale of the features or consider increasing regularisation. Duality gap: 5.428e+00, tolerance: 3.549e-03\n",
      "  model = cd_fast.enet_coordinate_descent(\n",
      "[I 2025-05-03 15:40:00,754] Trial 47 finished with value: -0.00788046749145731 and parameters: {'alpha': 1.4427333163005203, 'l1_ratio': 0.5036009697804879, 'fit_intercept': True, 'max_iter': 3690, 'use_scaler': True, 'poly_degree': 4, 'scaler_option': 'std'}. Best is trial 42 with value: -0.0034012429075328593.\n",
      "[I 2025-05-03 15:40:01,140] Trial 48 finished with value: -0.004086053421073897 and parameters: {'alpha': 0.0019399645775772377, 'l1_ratio': 0.594575994091362, 'fit_intercept': True, 'max_iter': 2404, 'use_scaler': True, 'poly_degree': 4, 'scaler_option': 'mean'}. Best is trial 42 with value: -0.0034012429075328593.\n",
      "/Users/jgfaraco/miniconda3/lib/python3.12/site-packages/sklearn/linear_model/_coordinate_descent.py:695: ConvergenceWarning: Objective did not converge. You might want to increase the number of iterations, check the scale of the features or consider increasing regularisation. Duality gap: 4.094e+00, tolerance: 3.529e-03\n",
      "  model = cd_fast.enet_coordinate_descent(\n",
      "/Users/jgfaraco/miniconda3/lib/python3.12/site-packages/sklearn/linear_model/_coordinate_descent.py:695: ConvergenceWarning: Objective did not converge. You might want to increase the number of iterations, check the scale of the features or consider increasing regularisation. Duality gap: 2.945e+00, tolerance: 3.584e-03\n",
      "  model = cd_fast.enet_coordinate_descent(\n",
      "/Users/jgfaraco/miniconda3/lib/python3.12/site-packages/sklearn/linear_model/_coordinate_descent.py:695: ConvergenceWarning: Objective did not converge. You might want to increase the number of iterations, check the scale of the features or consider increasing regularisation. Duality gap: 3.796e+00, tolerance: 3.475e-03\n",
      "  model = cd_fast.enet_coordinate_descent(\n",
      "/Users/jgfaraco/miniconda3/lib/python3.12/site-packages/sklearn/linear_model/_coordinate_descent.py:695: ConvergenceWarning: Objective did not converge. You might want to increase the number of iterations, check the scale of the features or consider increasing regularisation. Duality gap: 3.586e+00, tolerance: 3.549e-03\n",
      "  model = cd_fast.enet_coordinate_descent(\n",
      "/Users/jgfaraco/miniconda3/lib/python3.12/site-packages/sklearn/linear_model/_coordinate_descent.py:695: ConvergenceWarning: Objective did not converge. You might want to increase the number of iterations, check the scale of the features or consider increasing regularisation. Duality gap: 3.300e+00, tolerance: 3.519e-03\n",
      "  model = cd_fast.enet_coordinate_descent(\n",
      "[I 2025-05-03 15:40:03,382] Trial 49 finished with value: -0.004996594106636092 and parameters: {'alpha': 0.0026335042924962083, 'l1_ratio': 0.730872218313208, 'fit_intercept': True, 'max_iter': 3825, 'use_scaler': True, 'poly_degree': 5, 'scaler_option': 'mean'}. Best is trial 42 with value: -0.0034012429075328593.\n",
      "/Users/jgfaraco/miniconda3/lib/python3.12/site-packages/sklearn/linear_model/_coordinate_descent.py:695: ConvergenceWarning: Objective did not converge. You might want to increase the number of iterations, check the scale of the features or consider increasing regularisation. Duality gap: 1.003e+01, tolerance: 4.012e+00\n",
      "  model = cd_fast.enet_coordinate_descent(\n",
      "/Users/jgfaraco/miniconda3/lib/python3.12/site-packages/sklearn/linear_model/_coordinate_descent.py:695: ConvergenceWarning: Objective did not converge. You might want to increase the number of iterations, check the scale of the features or consider increasing regularisation. Duality gap: 9.775e+00, tolerance: 4.013e+00\n",
      "  model = cd_fast.enet_coordinate_descent(\n",
      "/Users/jgfaraco/miniconda3/lib/python3.12/site-packages/sklearn/linear_model/_coordinate_descent.py:695: ConvergenceWarning: Objective did not converge. You might want to increase the number of iterations, check the scale of the features or consider increasing regularisation. Duality gap: 9.859e+00, tolerance: 4.015e+00\n",
      "  model = cd_fast.enet_coordinate_descent(\n",
      "/Users/jgfaraco/miniconda3/lib/python3.12/site-packages/sklearn/linear_model/_coordinate_descent.py:695: ConvergenceWarning: Objective did not converge. You might want to increase the number of iterations, check the scale of the features or consider increasing regularisation. Duality gap: 1.004e+01, tolerance: 4.016e+00\n",
      "  model = cd_fast.enet_coordinate_descent(\n",
      "/Users/jgfaraco/miniconda3/lib/python3.12/site-packages/sklearn/linear_model/_coordinate_descent.py:695: ConvergenceWarning: Objective did not converge. You might want to increase the number of iterations, check the scale of the features or consider increasing regularisation. Duality gap: 9.861e+00, tolerance: 4.019e+00\n",
      "  model = cd_fast.enet_coordinate_descent(\n",
      "[I 2025-05-03 15:40:03,805] Trial 50 finished with value: -0.009088443012383892 and parameters: {'alpha': 11.587715829876235, 'l1_ratio': 0.9525237196454729, 'fit_intercept': False, 'max_iter': 2505, 'use_scaler': True, 'poly_degree': 3, 'scaler_option': 'std'}. Best is trial 42 with value: -0.0034012429075328593.\n",
      "/Users/jgfaraco/miniconda3/lib/python3.12/site-packages/sklearn/linear_model/_coordinate_descent.py:695: ConvergenceWarning: Objective did not converge. You might want to increase the number of iterations, check the scale of the features or consider increasing regularisation. Duality gap: 4.114e+00, tolerance: 3.475e-03\n",
      "  model = cd_fast.enet_coordinate_descent(\n",
      "/Users/jgfaraco/miniconda3/lib/python3.12/site-packages/sklearn/linear_model/_coordinate_descent.py:695: ConvergenceWarning: Objective did not converge. You might want to increase the number of iterations, check the scale of the features or consider increasing regularisation. Duality gap: 4.132e+00, tolerance: 3.519e-03\n",
      "  model = cd_fast.enet_coordinate_descent(\n",
      "/Users/jgfaraco/miniconda3/lib/python3.12/site-packages/sklearn/linear_model/_coordinate_descent.py:695: ConvergenceWarning: Objective did not converge. You might want to increase the number of iterations, check the scale of the features or consider increasing regularisation. Duality gap: 4.073e+00, tolerance: 3.529e-03\n",
      "  model = cd_fast.enet_coordinate_descent(\n",
      "/Users/jgfaraco/miniconda3/lib/python3.12/site-packages/sklearn/linear_model/_coordinate_descent.py:695: ConvergenceWarning: Objective did not converge. You might want to increase the number of iterations, check the scale of the features or consider increasing regularisation. Duality gap: 4.200e+00, tolerance: 3.549e-03\n",
      "  model = cd_fast.enet_coordinate_descent(\n",
      "/Users/jgfaraco/miniconda3/lib/python3.12/site-packages/sklearn/linear_model/_coordinate_descent.py:695: ConvergenceWarning: Objective did not converge. You might want to increase the number of iterations, check the scale of the features or consider increasing regularisation. Duality gap: 4.222e+00, tolerance: 3.584e-03\n",
      "  model = cd_fast.enet_coordinate_descent(\n",
      "[I 2025-05-03 15:40:04,262] Trial 51 finished with value: -0.004195066188557006 and parameters: {'alpha': 0.00359738907604862, 'l1_ratio': 0.5433625938617732, 'fit_intercept': True, 'max_iter': 1225, 'use_scaler': False, 'poly_degree': 4}. Best is trial 42 with value: -0.0034012429075328593.\n",
      "/Users/jgfaraco/miniconda3/lib/python3.12/site-packages/sklearn/linear_model/_coordinate_descent.py:695: ConvergenceWarning: Objective did not converge. You might want to increase the number of iterations, check the scale of the features or consider increasing regularisation. Duality gap: 1.099e+01, tolerance: 4.013e+00\n",
      "  model = cd_fast.enet_coordinate_descent(\n",
      "/Users/jgfaraco/miniconda3/lib/python3.12/site-packages/sklearn/linear_model/_coordinate_descent.py:695: ConvergenceWarning: Objective did not converge. You might want to increase the number of iterations, check the scale of the features or consider increasing regularisation. Duality gap: 1.130e+01, tolerance: 4.012e+00\n",
      "  model = cd_fast.enet_coordinate_descent(\n",
      "/Users/jgfaraco/miniconda3/lib/python3.12/site-packages/sklearn/linear_model/_coordinate_descent.py:695: ConvergenceWarning: Objective did not converge. You might want to increase the number of iterations, check the scale of the features or consider increasing regularisation. Duality gap: 1.110e+01, tolerance: 4.015e+00\n",
      "  model = cd_fast.enet_coordinate_descent(\n",
      "/Users/jgfaraco/miniconda3/lib/python3.12/site-packages/sklearn/linear_model/_coordinate_descent.py:695: ConvergenceWarning: Objective did not converge. You might want to increase the number of iterations, check the scale of the features or consider increasing regularisation. Duality gap: 1.145e+01, tolerance: 4.016e+00\n",
      "  model = cd_fast.enet_coordinate_descent(\n",
      "/Users/jgfaraco/miniconda3/lib/python3.12/site-packages/sklearn/linear_model/_coordinate_descent.py:695: ConvergenceWarning: Objective did not converge. You might want to increase the number of iterations, check the scale of the features or consider increasing regularisation. Duality gap: 1.114e+01, tolerance: 4.019e+00\n",
      "  model = cd_fast.enet_coordinate_descent(\n",
      "[I 2025-05-03 15:40:05,103] Trial 52 finished with value: -0.008253436908225388 and parameters: {'alpha': 5.3730934790674265, 'l1_ratio': 0.6250318885874436, 'fit_intercept': False, 'max_iter': 2143, 'use_scaler': False, 'poly_degree': 5}. Best is trial 42 with value: -0.0034012429075328593.\n",
      "/Users/jgfaraco/miniconda3/lib/python3.12/site-packages/sklearn/linear_model/_coordinate_descent.py:695: ConvergenceWarning: Objective did not converge. You might want to increase the number of iterations, check the scale of the features or consider increasing regularisation. Duality gap: 3.467e+00, tolerance: 3.529e-03\n",
      "  model = cd_fast.enet_coordinate_descent(\n",
      "/Users/jgfaraco/miniconda3/lib/python3.12/site-packages/sklearn/linear_model/_coordinate_descent.py:695: ConvergenceWarning: Objective did not converge. You might want to increase the number of iterations, check the scale of the features or consider increasing regularisation. Duality gap: 3.457e+00, tolerance: 3.475e-03\n",
      "  model = cd_fast.enet_coordinate_descent(\n",
      "/Users/jgfaraco/miniconda3/lib/python3.12/site-packages/sklearn/linear_model/_coordinate_descent.py:695: ConvergenceWarning: Objective did not converge. You might want to increase the number of iterations, check the scale of the features or consider increasing regularisation. Duality gap: 3.485e+00, tolerance: 3.519e-03\n",
      "  model = cd_fast.enet_coordinate_descent(\n",
      "/Users/jgfaraco/miniconda3/lib/python3.12/site-packages/sklearn/linear_model/_coordinate_descent.py:695: ConvergenceWarning: Objective did not converge. You might want to increase the number of iterations, check the scale of the features or consider increasing regularisation. Duality gap: 3.563e+00, tolerance: 3.584e-03\n",
      "  model = cd_fast.enet_coordinate_descent(\n",
      "/Users/jgfaraco/miniconda3/lib/python3.12/site-packages/sklearn/linear_model/_coordinate_descent.py:695: ConvergenceWarning: Objective did not converge. You might want to increase the number of iterations, check the scale of the features or consider increasing regularisation. Duality gap: 3.563e+00, tolerance: 3.549e-03\n",
      "  model = cd_fast.enet_coordinate_descent(\n",
      "[I 2025-05-03 15:40:05,917] Trial 53 finished with value: -0.003612163054765899 and parameters: {'alpha': 0.0011501973785501985, 'l1_ratio': 0.9728909440368751, 'fit_intercept': True, 'max_iter': 3111, 'use_scaler': False, 'poly_degree': 3}. Best is trial 42 with value: -0.0034012429075328593.\n",
      "/Users/jgfaraco/miniconda3/lib/python3.12/site-packages/sklearn/linear_model/_coordinate_descent.py:695: ConvergenceWarning: Objective did not converge. You might want to increase the number of iterations, check the scale of the features or consider increasing regularisation. Duality gap: 5.457e+00, tolerance: 3.529e-03\n",
      "  model = cd_fast.enet_coordinate_descent(\n",
      "/Users/jgfaraco/miniconda3/lib/python3.12/site-packages/sklearn/linear_model/_coordinate_descent.py:695: ConvergenceWarning: Objective did not converge. You might want to increase the number of iterations, check the scale of the features or consider increasing regularisation. Duality gap: 5.539e+00, tolerance: 3.519e-03\n",
      "  model = cd_fast.enet_coordinate_descent(\n",
      "/Users/jgfaraco/miniconda3/lib/python3.12/site-packages/sklearn/linear_model/_coordinate_descent.py:695: ConvergenceWarning: Objective did not converge. You might want to increase the number of iterations, check the scale of the features or consider increasing regularisation. Duality gap: 5.723e+00, tolerance: 3.475e-03\n",
      "  model = cd_fast.enet_coordinate_descent(\n",
      "/Users/jgfaraco/miniconda3/lib/python3.12/site-packages/sklearn/linear_model/_coordinate_descent.py:695: ConvergenceWarning: Objective did not converge. You might want to increase the number of iterations, check the scale of the features or consider increasing regularisation. Duality gap: 5.638e+00, tolerance: 3.549e-03\n",
      "  model = cd_fast.enet_coordinate_descent(\n",
      "/Users/jgfaraco/miniconda3/lib/python3.12/site-packages/sklearn/linear_model/_coordinate_descent.py:695: ConvergenceWarning: Objective did not converge. You might want to increase the number of iterations, check the scale of the features or consider increasing regularisation. Duality gap: 5.775e+00, tolerance: 3.584e-03\n",
      "  model = cd_fast.enet_coordinate_descent(\n",
      "[I 2025-05-03 15:40:06,775] Trial 54 finished with value: -0.007798502205213874 and parameters: {'alpha': 70.22838447830075, 'l1_ratio': 0.570788059753134, 'fit_intercept': True, 'max_iter': 2818, 'use_scaler': False, 'poly_degree': 5}. Best is trial 42 with value: -0.0034012429075328593.\n",
      "/Users/jgfaraco/miniconda3/lib/python3.12/site-packages/sklearn/linear_model/_coordinate_descent.py:695: ConvergenceWarning: Objective did not converge. You might want to increase the number of iterations, check the scale of the features or consider increasing regularisation. Duality gap: 4.160e+00, tolerance: 4.019e+00\n",
      "  model = cd_fast.enet_coordinate_descent(\n",
      "[I 2025-05-03 15:40:07,238] Trial 55 finished with value: -0.0035937188863287848 and parameters: {'alpha': 0.0016874538403502289, 'l1_ratio': 0.3528668706330073, 'fit_intercept': False, 'max_iter': 2823, 'use_scaler': False, 'poly_degree': 1}. Best is trial 42 with value: -0.0034012429075328593.\n",
      "/Users/jgfaraco/miniconda3/lib/python3.12/site-packages/sklearn/linear_model/_coordinate_descent.py:695: ConvergenceWarning: Objective did not converge. You might want to increase the number of iterations, check the scale of the features or consider increasing regularisation. Duality gap: 6.149e+00, tolerance: 4.013e+00\n",
      "  model = cd_fast.enet_coordinate_descent(\n",
      "/Users/jgfaraco/miniconda3/lib/python3.12/site-packages/sklearn/linear_model/_coordinate_descent.py:695: ConvergenceWarning: Objective did not converge. You might want to increase the number of iterations, check the scale of the features or consider increasing regularisation. Duality gap: 6.049e+00, tolerance: 4.015e+00\n",
      "  model = cd_fast.enet_coordinate_descent(\n",
      "/Users/jgfaraco/miniconda3/lib/python3.12/site-packages/sklearn/linear_model/_coordinate_descent.py:695: ConvergenceWarning: Objective did not converge. You might want to increase the number of iterations, check the scale of the features or consider increasing regularisation. Duality gap: 6.323e+00, tolerance: 4.012e+00\n",
      "  model = cd_fast.enet_coordinate_descent(\n",
      "/Users/jgfaraco/miniconda3/lib/python3.12/site-packages/sklearn/linear_model/_coordinate_descent.py:695: ConvergenceWarning: Objective did not converge. You might want to increase the number of iterations, check the scale of the features or consider increasing regularisation. Duality gap: 6.240e+00, tolerance: 4.019e+00\n",
      "  model = cd_fast.enet_coordinate_descent(\n",
      "/Users/jgfaraco/miniconda3/lib/python3.12/site-packages/sklearn/linear_model/_coordinate_descent.py:695: ConvergenceWarning: Objective did not converge. You might want to increase the number of iterations, check the scale of the features or consider increasing regularisation. Duality gap: 6.385e+00, tolerance: 4.016e+00\n",
      "  model = cd_fast.enet_coordinate_descent(\n",
      "[I 2025-05-03 15:40:08,195] Trial 56 finished with value: -0.008273085466965513 and parameters: {'alpha': 0.20820541704278972, 'l1_ratio': 0.41801700522344754, 'fit_intercept': False, 'max_iter': 4898, 'use_scaler': False, 'poly_degree': 3}. Best is trial 42 with value: -0.0034012429075328593.\n",
      "[I 2025-05-03 15:40:08,664] Trial 57 finished with value: -0.6700819103615369 and parameters: {'alpha': 0.035288896780107666, 'l1_ratio': 0.8324155177362539, 'fit_intercept': False, 'max_iter': 4644, 'use_scaler': True, 'poly_degree': 4, 'scaler_option': 'mean'}. Best is trial 42 with value: -0.0034012429075328593.\n",
      "[I 2025-05-03 15:40:08,735] Trial 58 finished with value: -27.604321376178568 and parameters: {'alpha': 46.093789776763856, 'l1_ratio': 0.8794575005503675, 'fit_intercept': False, 'max_iter': 2506, 'use_scaler': True, 'poly_degree': 1, 'scaler_option': 'mean'}. Best is trial 42 with value: -0.0034012429075328593.\n",
      "/Users/jgfaraco/miniconda3/lib/python3.12/site-packages/sklearn/linear_model/_coordinate_descent.py:695: ConvergenceWarning: Objective did not converge. You might want to increase the number of iterations, check the scale of the features or consider increasing regularisation. Duality gap: 6.280e+00, tolerance: 4.012e+00\n",
      "  model = cd_fast.enet_coordinate_descent(\n",
      "/Users/jgfaraco/miniconda3/lib/python3.12/site-packages/sklearn/linear_model/_coordinate_descent.py:695: ConvergenceWarning: Objective did not converge. You might want to increase the number of iterations, check the scale of the features or consider increasing regularisation. Duality gap: 6.339e+00, tolerance: 4.016e+00\n",
      "  model = cd_fast.enet_coordinate_descent(\n",
      "/Users/jgfaraco/miniconda3/lib/python3.12/site-packages/sklearn/linear_model/_coordinate_descent.py:695: ConvergenceWarning: Objective did not converge. You might want to increase the number of iterations, check the scale of the features or consider increasing regularisation. Duality gap: 6.199e+00, tolerance: 4.019e+00\n",
      "  model = cd_fast.enet_coordinate_descent(\n",
      "/Users/jgfaraco/miniconda3/lib/python3.12/site-packages/sklearn/linear_model/_coordinate_descent.py:695: ConvergenceWarning: Objective did not converge. You might want to increase the number of iterations, check the scale of the features or consider increasing regularisation. Duality gap: 6.080e+00, tolerance: 4.013e+00\n",
      "  model = cd_fast.enet_coordinate_descent(\n",
      "/Users/jgfaraco/miniconda3/lib/python3.12/site-packages/sklearn/linear_model/_coordinate_descent.py:695: ConvergenceWarning: Objective did not converge. You might want to increase the number of iterations, check the scale of the features or consider increasing regularisation. Duality gap: 6.013e+00, tolerance: 4.015e+00\n",
      "  model = cd_fast.enet_coordinate_descent(\n",
      "[I 2025-05-03 15:40:09,687] Trial 59 finished with value: -0.008110778505201362 and parameters: {'alpha': 70.72484251478394, 'l1_ratio': 0.8579070308221378, 'fit_intercept': False, 'max_iter': 2659, 'use_scaler': False, 'poly_degree': 5}. Best is trial 42 with value: -0.0034012429075328593.\n",
      "[I 2025-05-03 15:40:10,326] Trial 60 finished with value: -0.0114396053928144 and parameters: {'alpha': 11.601256944557477, 'l1_ratio': 0.9997459059575176, 'fit_intercept': False, 'max_iter': 4076, 'use_scaler': False, 'poly_degree': 2}. Best is trial 42 with value: -0.0034012429075328593.\n",
      "/Users/jgfaraco/miniconda3/lib/python3.12/site-packages/sklearn/linear_model/_coordinate_descent.py:695: ConvergenceWarning: Objective did not converge. You might want to increase the number of iterations, check the scale of the features or consider increasing regularisation. Duality gap: 6.468e+00, tolerance: 4.015e+00\n",
      "  model = cd_fast.enet_coordinate_descent(\n",
      "/Users/jgfaraco/miniconda3/lib/python3.12/site-packages/sklearn/linear_model/_coordinate_descent.py:695: ConvergenceWarning: Objective did not converge. You might want to increase the number of iterations, check the scale of the features or consider increasing regularisation. Duality gap: 6.655e+00, tolerance: 4.013e+00\n",
      "  model = cd_fast.enet_coordinate_descent(\n",
      "/Users/jgfaraco/miniconda3/lib/python3.12/site-packages/sklearn/linear_model/_coordinate_descent.py:695: ConvergenceWarning: Objective did not converge. You might want to increase the number of iterations, check the scale of the features or consider increasing regularisation. Duality gap: 6.764e+00, tolerance: 4.012e+00\n",
      "  model = cd_fast.enet_coordinate_descent(\n",
      "/Users/jgfaraco/miniconda3/lib/python3.12/site-packages/sklearn/linear_model/_coordinate_descent.py:695: ConvergenceWarning: Objective did not converge. You might want to increase the number of iterations, check the scale of the features or consider increasing regularisation. Duality gap: 6.725e+00, tolerance: 4.019e+00\n",
      "  model = cd_fast.enet_coordinate_descent(\n",
      "/Users/jgfaraco/miniconda3/lib/python3.12/site-packages/sklearn/linear_model/_coordinate_descent.py:695: ConvergenceWarning: Objective did not converge. You might want to increase the number of iterations, check the scale of the features or consider increasing regularisation. Duality gap: 6.849e+00, tolerance: 4.016e+00\n",
      "  model = cd_fast.enet_coordinate_descent(\n",
      "[I 2025-05-03 15:40:10,788] Trial 61 finished with value: -0.009199573519492013 and parameters: {'alpha': 0.17894545674847273, 'l1_ratio': 0.2162434736363455, 'fit_intercept': False, 'max_iter': 1914, 'use_scaler': False, 'poly_degree': 2}. Best is trial 42 with value: -0.0034012429075328593.\n",
      "/Users/jgfaraco/miniconda3/lib/python3.12/site-packages/sklearn/linear_model/_coordinate_descent.py:695: ConvergenceWarning: Objective did not converge. You might want to increase the number of iterations, check the scale of the features or consider increasing regularisation. Duality gap: 4.392e+00, tolerance: 3.529e-03\n",
      "  model = cd_fast.enet_coordinate_descent(\n",
      "/Users/jgfaraco/miniconda3/lib/python3.12/site-packages/sklearn/linear_model/_coordinate_descent.py:695: ConvergenceWarning: Objective did not converge. You might want to increase the number of iterations, check the scale of the features or consider increasing regularisation. Duality gap: 4.492e+00, tolerance: 3.519e-03\n",
      "  model = cd_fast.enet_coordinate_descent(\n",
      "/Users/jgfaraco/miniconda3/lib/python3.12/site-packages/sklearn/linear_model/_coordinate_descent.py:695: ConvergenceWarning: Objective did not converge. You might want to increase the number of iterations, check the scale of the features or consider increasing regularisation. Duality gap: 4.550e+00, tolerance: 3.549e-03\n",
      "  model = cd_fast.enet_coordinate_descent(\n",
      "/Users/jgfaraco/miniconda3/lib/python3.12/site-packages/sklearn/linear_model/_coordinate_descent.py:695: ConvergenceWarning: Objective did not converge. You might want to increase the number of iterations, check the scale of the features or consider increasing regularisation. Duality gap: 4.483e+00, tolerance: 3.475e-03\n",
      "  model = cd_fast.enet_coordinate_descent(\n",
      "/Users/jgfaraco/miniconda3/lib/python3.12/site-packages/sklearn/linear_model/_coordinate_descent.py:695: ConvergenceWarning: Objective did not converge. You might want to increase the number of iterations, check the scale of the features or consider increasing regularisation. Duality gap: 4.578e+00, tolerance: 3.584e-03\n",
      "  model = cd_fast.enet_coordinate_descent(\n",
      "[I 2025-05-03 15:40:11,963] Trial 62 finished with value: -0.004632443662283951 and parameters: {'alpha': 0.003696476597387663, 'l1_ratio': 0.7044158760335196, 'fit_intercept': True, 'max_iter': 3081, 'use_scaler': False, 'poly_degree': 3}. Best is trial 42 with value: -0.0034012429075328593.\n",
      "[I 2025-05-03 15:40:12,160] Trial 63 finished with value: -10.237931172819984 and parameters: {'alpha': 24.169519319206778, 'l1_ratio': 0.46313457959115734, 'fit_intercept': False, 'max_iter': 4021, 'use_scaler': True, 'poly_degree': 2, 'scaler_option': 'mean'}. Best is trial 42 with value: -0.0034012429075328593.\n",
      "/Users/jgfaraco/miniconda3/lib/python3.12/site-packages/sklearn/linear_model/_coordinate_descent.py:695: ConvergenceWarning: Objective did not converge. You might want to increase the number of iterations, check the scale of the features or consider increasing regularisation. Duality gap: 5.434e+00, tolerance: 3.529e-03\n",
      "  model = cd_fast.enet_coordinate_descent(\n",
      "/Users/jgfaraco/miniconda3/lib/python3.12/site-packages/sklearn/linear_model/_coordinate_descent.py:695: ConvergenceWarning: Objective did not converge. You might want to increase the number of iterations, check the scale of the features or consider increasing regularisation. Duality gap: 5.520e+00, tolerance: 3.519e-03\n",
      "  model = cd_fast.enet_coordinate_descent(\n",
      "/Users/jgfaraco/miniconda3/lib/python3.12/site-packages/sklearn/linear_model/_coordinate_descent.py:695: ConvergenceWarning: Objective did not converge. You might want to increase the number of iterations, check the scale of the features or consider increasing regularisation. Duality gap: 5.705e+00, tolerance: 3.475e-03\n",
      "  model = cd_fast.enet_coordinate_descent(\n",
      "/Users/jgfaraco/miniconda3/lib/python3.12/site-packages/sklearn/linear_model/_coordinate_descent.py:695: ConvergenceWarning: Objective did not converge. You might want to increase the number of iterations, check the scale of the features or consider increasing regularisation. Duality gap: 5.620e+00, tolerance: 3.549e-03\n",
      "  model = cd_fast.enet_coordinate_descent(\n",
      "/Users/jgfaraco/miniconda3/lib/python3.12/site-packages/sklearn/linear_model/_coordinate_descent.py:695: ConvergenceWarning: Objective did not converge. You might want to increase the number of iterations, check the scale of the features or consider increasing regularisation. Duality gap: 5.754e+00, tolerance: 3.584e-03\n",
      "  model = cd_fast.enet_coordinate_descent(\n",
      "[I 2025-05-03 15:40:13,744] Trial 64 finished with value: -0.0077220146938909535 and parameters: {'alpha': 0.05661581898267356, 'l1_ratio': 0.6309259181691698, 'fit_intercept': True, 'max_iter': 4617, 'use_scaler': True, 'poly_degree': 4, 'scaler_option': 'std'}. Best is trial 42 with value: -0.0034012429075328593.\n",
      "[I 2025-05-03 15:40:13,924] Trial 65 finished with value: -0.014486331295581597 and parameters: {'alpha': 20.50305344346676, 'l1_ratio': 0.954568561291878, 'fit_intercept': True, 'max_iter': 2968, 'use_scaler': True, 'poly_degree': 5, 'scaler_option': 'mean'}. Best is trial 42 with value: -0.0034012429075328593.\n",
      "/Users/jgfaraco/miniconda3/lib/python3.12/site-packages/sklearn/linear_model/_coordinate_descent.py:695: ConvergenceWarning: Objective did not converge. You might want to increase the number of iterations, check the scale of the features or consider increasing regularisation. Duality gap: 5.586e+00, tolerance: 3.529e-03\n",
      "  model = cd_fast.enet_coordinate_descent(\n",
      "/Users/jgfaraco/miniconda3/lib/python3.12/site-packages/sklearn/linear_model/_coordinate_descent.py:695: ConvergenceWarning: Objective did not converge. You might want to increase the number of iterations, check the scale of the features or consider increasing regularisation. Duality gap: 5.861e+00, tolerance: 3.475e-03\n",
      "  model = cd_fast.enet_coordinate_descent(\n",
      "/Users/jgfaraco/miniconda3/lib/python3.12/site-packages/sklearn/linear_model/_coordinate_descent.py:695: ConvergenceWarning: Objective did not converge. You might want to increase the number of iterations, check the scale of the features or consider increasing regularisation. Duality gap: 5.669e+00, tolerance: 3.519e-03\n",
      "  model = cd_fast.enet_coordinate_descent(\n",
      "/Users/jgfaraco/miniconda3/lib/python3.12/site-packages/sklearn/linear_model/_coordinate_descent.py:695: ConvergenceWarning: Objective did not converge. You might want to increase the number of iterations, check the scale of the features or consider increasing regularisation. Duality gap: 5.772e+00, tolerance: 3.549e-03\n",
      "  model = cd_fast.enet_coordinate_descent(\n",
      "/Users/jgfaraco/miniconda3/lib/python3.12/site-packages/sklearn/linear_model/_coordinate_descent.py:695: ConvergenceWarning: Objective did not converge. You might want to increase the number of iterations, check the scale of the features or consider increasing regularisation. Duality gap: 5.899e+00, tolerance: 3.584e-03\n",
      "  model = cd_fast.enet_coordinate_descent(\n",
      "[I 2025-05-03 15:40:14,368] Trial 66 finished with value: -0.008019982080494287 and parameters: {'alpha': 1.4689407256107627, 'l1_ratio': 0.3161310569003738, 'fit_intercept': True, 'max_iter': 1512, 'use_scaler': False, 'poly_degree': 4}. Best is trial 42 with value: -0.0034012429075328593.\n",
      "[I 2025-05-03 15:40:14,987] Trial 67 finished with value: -0.005165029209850389 and parameters: {'alpha': 0.008117091133892166, 'l1_ratio': 0.4111005549914769, 'fit_intercept': False, 'max_iter': 3670, 'use_scaler': True, 'poly_degree': 1, 'scaler_option': 'std'}. Best is trial 42 with value: -0.0034012429075328593.\n",
      "/Users/jgfaraco/miniconda3/lib/python3.12/site-packages/sklearn/linear_model/_coordinate_descent.py:695: ConvergenceWarning: Objective did not converge. You might want to increase the number of iterations, check the scale of the features or consider increasing regularisation. Duality gap: 3.808e+00, tolerance: 3.519e-03\n",
      "  model = cd_fast.enet_coordinate_descent(\n",
      "/Users/jgfaraco/miniconda3/lib/python3.12/site-packages/sklearn/linear_model/_coordinate_descent.py:695: ConvergenceWarning: Objective did not converge. You might want to increase the number of iterations, check the scale of the features or consider increasing regularisation. Duality gap: 3.794e+00, tolerance: 3.475e-03\n",
      "  model = cd_fast.enet_coordinate_descent(\n",
      "/Users/jgfaraco/miniconda3/lib/python3.12/site-packages/sklearn/linear_model/_coordinate_descent.py:695: ConvergenceWarning: Objective did not converge. You might want to increase the number of iterations, check the scale of the features or consider increasing regularisation. Duality gap: 3.913e+00, tolerance: 3.584e-03\n",
      "  model = cd_fast.enet_coordinate_descent(\n",
      "/Users/jgfaraco/miniconda3/lib/python3.12/site-packages/sklearn/linear_model/_coordinate_descent.py:695: ConvergenceWarning: Objective did not converge. You might want to increase the number of iterations, check the scale of the features or consider increasing regularisation. Duality gap: 3.771e+00, tolerance: 3.529e-03\n",
      "  model = cd_fast.enet_coordinate_descent(\n",
      "/Users/jgfaraco/miniconda3/lib/python3.12/site-packages/sklearn/linear_model/_coordinate_descent.py:695: ConvergenceWarning: Objective did not converge. You might want to increase the number of iterations, check the scale of the features or consider increasing regularisation. Duality gap: 3.885e+00, tolerance: 3.549e-03\n",
      "  model = cd_fast.enet_coordinate_descent(\n",
      "[I 2025-05-03 15:40:16,062] Trial 68 finished with value: -0.003927234634655673 and parameters: {'alpha': 0.007674541190879919, 'l1_ratio': 0.17983228038135005, 'fit_intercept': True, 'max_iter': 1825, 'use_scaler': True, 'poly_degree': 4, 'scaler_option': 'std'}. Best is trial 42 with value: -0.0034012429075328593.\n",
      "/Users/jgfaraco/miniconda3/lib/python3.12/site-packages/sklearn/linear_model/_coordinate_descent.py:695: ConvergenceWarning: Objective did not converge. You might want to increase the number of iterations, check the scale of the features or consider increasing regularisation. Duality gap: 5.644e+00, tolerance: 3.519e-03\n",
      "  model = cd_fast.enet_coordinate_descent(\n",
      "/Users/jgfaraco/miniconda3/lib/python3.12/site-packages/sklearn/linear_model/_coordinate_descent.py:695: ConvergenceWarning: Objective did not converge. You might want to increase the number of iterations, check the scale of the features or consider increasing regularisation. Duality gap: 5.556e+00, tolerance: 3.529e-03\n",
      "  model = cd_fast.enet_coordinate_descent(\n",
      "/Users/jgfaraco/miniconda3/lib/python3.12/site-packages/sklearn/linear_model/_coordinate_descent.py:695: ConvergenceWarning: Objective did not converge. You might want to increase the number of iterations, check the scale of the features or consider increasing regularisation. Duality gap: 5.828e+00, tolerance: 3.475e-03\n",
      "  model = cd_fast.enet_coordinate_descent(\n",
      "/Users/jgfaraco/miniconda3/lib/python3.12/site-packages/sklearn/linear_model/_coordinate_descent.py:695: ConvergenceWarning: Objective did not converge. You might want to increase the number of iterations, check the scale of the features or consider increasing regularisation. Duality gap: 5.744e+00, tolerance: 3.549e-03\n",
      "  model = cd_fast.enet_coordinate_descent(\n",
      "/Users/jgfaraco/miniconda3/lib/python3.12/site-packages/sklearn/linear_model/_coordinate_descent.py:695: ConvergenceWarning: Objective did not converge. You might want to increase the number of iterations, check the scale of the features or consider increasing regularisation. Duality gap: 5.866e+00, tolerance: 3.584e-03\n",
      "  model = cd_fast.enet_coordinate_descent(\n",
      "[I 2025-05-03 15:40:16,545] Trial 69 finished with value: -0.008028257955233464 and parameters: {'alpha': 1.3788021357516675, 'l1_ratio': 0.1735831287539847, 'fit_intercept': True, 'max_iter': 1244, 'use_scaler': True, 'poly_degree': 4, 'scaler_option': 'std'}. Best is trial 42 with value: -0.0034012429075328593.\n",
      "/Users/jgfaraco/miniconda3/lib/python3.12/site-packages/sklearn/linear_model/_coordinate_descent.py:695: ConvergenceWarning: Objective did not converge. You might want to increase the number of iterations, check the scale of the features or consider increasing regularisation. Duality gap: 6.383e+00, tolerance: 4.016e+00\n",
      "  model = cd_fast.enet_coordinate_descent(\n",
      "/Users/jgfaraco/miniconda3/lib/python3.12/site-packages/sklearn/linear_model/_coordinate_descent.py:695: ConvergenceWarning: Objective did not converge. You might want to increase the number of iterations, check the scale of the features or consider increasing regularisation. Duality gap: 6.230e+00, tolerance: 4.013e+00\n",
      "  model = cd_fast.enet_coordinate_descent(\n",
      "/Users/jgfaraco/miniconda3/lib/python3.12/site-packages/sklearn/linear_model/_coordinate_descent.py:695: ConvergenceWarning: Objective did not converge. You might want to increase the number of iterations, check the scale of the features or consider increasing regularisation. Duality gap: 6.313e+00, tolerance: 4.019e+00\n",
      "  model = cd_fast.enet_coordinate_descent(\n",
      "/Users/jgfaraco/miniconda3/lib/python3.12/site-packages/sklearn/linear_model/_coordinate_descent.py:695: ConvergenceWarning: Objective did not converge. You might want to increase the number of iterations, check the scale of the features or consider increasing regularisation. Duality gap: 6.358e+00, tolerance: 4.012e+00\n",
      "  model = cd_fast.enet_coordinate_descent(\n",
      "/Users/jgfaraco/miniconda3/lib/python3.12/site-packages/sklearn/linear_model/_coordinate_descent.py:695: ConvergenceWarning: Objective did not converge. You might want to increase the number of iterations, check the scale of the features or consider increasing regularisation. Duality gap: 6.063e+00, tolerance: 4.015e+00\n",
      "  model = cd_fast.enet_coordinate_descent(\n",
      "[I 2025-05-03 15:40:17,072] Trial 70 finished with value: -0.00888288294495172 and parameters: {'alpha': 0.07118041471054572, 'l1_ratio': 0.5360706866719193, 'fit_intercept': False, 'max_iter': 2850, 'use_scaler': False, 'poly_degree': 2}. Best is trial 42 with value: -0.0034012429075328593.\n",
      "[I 2025-05-03 15:40:17,131] Trial 71 finished with value: -0.009487317347864833 and parameters: {'alpha': 3.6876350096203034, 'l1_ratio': 0.9056861539184794, 'fit_intercept': True, 'max_iter': 1428, 'use_scaler': True, 'poly_degree': 2, 'scaler_option': 'std'}. Best is trial 42 with value: -0.0034012429075328593.\n",
      "/Users/jgfaraco/miniconda3/lib/python3.12/site-packages/sklearn/linear_model/_coordinate_descent.py:695: ConvergenceWarning: Objective did not converge. You might want to increase the number of iterations, check the scale of the features or consider increasing regularisation. Duality gap: 2.841e+00, tolerance: 3.519e-03\n",
      "  model = cd_fast.enet_coordinate_descent(\n",
      "/Users/jgfaraco/miniconda3/lib/python3.12/site-packages/sklearn/linear_model/_coordinate_descent.py:695: ConvergenceWarning: Objective did not converge. You might want to increase the number of iterations, check the scale of the features or consider increasing regularisation. Duality gap: 2.841e+00, tolerance: 3.529e-03\n",
      "  model = cd_fast.enet_coordinate_descent(\n",
      "/Users/jgfaraco/miniconda3/lib/python3.12/site-packages/sklearn/linear_model/_coordinate_descent.py:695: ConvergenceWarning: Objective did not converge. You might want to increase the number of iterations, check the scale of the features or consider increasing regularisation. Duality gap: 2.828e+00, tolerance: 3.475e-03\n",
      "  model = cd_fast.enet_coordinate_descent(\n",
      "/Users/jgfaraco/miniconda3/lib/python3.12/site-packages/sklearn/linear_model/_coordinate_descent.py:695: ConvergenceWarning: Objective did not converge. You might want to increase the number of iterations, check the scale of the features or consider increasing regularisation. Duality gap: 2.905e+00, tolerance: 3.584e-03\n",
      "  model = cd_fast.enet_coordinate_descent(\n",
      "/Users/jgfaraco/miniconda3/lib/python3.12/site-packages/sklearn/linear_model/_coordinate_descent.py:695: ConvergenceWarning: Objective did not converge. You might want to increase the number of iterations, check the scale of the features or consider increasing regularisation. Duality gap: 2.924e+00, tolerance: 3.549e-03\n",
      "  model = cd_fast.enet_coordinate_descent(\n",
      "[I 2025-05-03 15:40:17,690] Trial 72 finished with value: -0.0032335357104508666 and parameters: {'alpha': 0.0012599577693434842, 'l1_ratio': 0.3898712490248605, 'fit_intercept': True, 'max_iter': 1479, 'use_scaler': False, 'poly_degree': 4}. Best is trial 72 with value: -0.0032335357104508666.\n",
      "[I 2025-05-03 15:40:17,747] Trial 73 finished with value: -0.024290639236509086 and parameters: {'alpha': 8.827875365479903, 'l1_ratio': 0.5485979790361516, 'fit_intercept': True, 'max_iter': 3347, 'use_scaler': False, 'poly_degree': 1}. Best is trial 72 with value: -0.0032335357104508666.\n",
      "/Users/jgfaraco/miniconda3/lib/python3.12/site-packages/sklearn/linear_model/_coordinate_descent.py:695: ConvergenceWarning: Objective did not converge. You might want to increase the number of iterations, check the scale of the features or consider increasing regularisation. Duality gap: 8.054e+00, tolerance: 4.013e+00\n",
      "  model = cd_fast.enet_coordinate_descent(\n",
      "/Users/jgfaraco/miniconda3/lib/python3.12/site-packages/sklearn/linear_model/_coordinate_descent.py:695: ConvergenceWarning: Objective did not converge. You might want to increase the number of iterations, check the scale of the features or consider increasing regularisation. Duality gap: 8.125e+00, tolerance: 4.012e+00\n",
      "  model = cd_fast.enet_coordinate_descent(\n",
      "/Users/jgfaraco/miniconda3/lib/python3.12/site-packages/sklearn/linear_model/_coordinate_descent.py:695: ConvergenceWarning: Objective did not converge. You might want to increase the number of iterations, check the scale of the features or consider increasing regularisation. Duality gap: 7.861e+00, tolerance: 4.015e+00\n",
      "  model = cd_fast.enet_coordinate_descent(\n",
      "/Users/jgfaraco/miniconda3/lib/python3.12/site-packages/sklearn/linear_model/_coordinate_descent.py:695: ConvergenceWarning: Objective did not converge. You might want to increase the number of iterations, check the scale of the features or consider increasing regularisation. Duality gap: 8.170e+00, tolerance: 4.019e+00\n",
      "  model = cd_fast.enet_coordinate_descent(\n",
      "/Users/jgfaraco/miniconda3/lib/python3.12/site-packages/sklearn/linear_model/_coordinate_descent.py:695: ConvergenceWarning: Objective did not converge. You might want to increase the number of iterations, check the scale of the features or consider increasing regularisation. Duality gap: 8.347e+00, tolerance: 4.016e+00\n",
      "  model = cd_fast.enet_coordinate_descent(\n",
      "[I 2025-05-03 15:40:18,119] Trial 74 finished with value: -0.007973223437037547 and parameters: {'alpha': 0.026234906999095586, 'l1_ratio': 0.4267740667587716, 'fit_intercept': False, 'max_iter': 2424, 'use_scaler': False, 'poly_degree': 2}. Best is trial 72 with value: -0.0032335357104508666.\n",
      "/Users/jgfaraco/miniconda3/lib/python3.12/site-packages/sklearn/linear_model/_coordinate_descent.py:695: ConvergenceWarning: Objective did not converge. You might want to increase the number of iterations, check the scale of the features or consider increasing regularisation. Duality gap: 6.684e+00, tolerance: 4.013e+00\n",
      "  model = cd_fast.enet_coordinate_descent(\n",
      "/Users/jgfaraco/miniconda3/lib/python3.12/site-packages/sklearn/linear_model/_coordinate_descent.py:695: ConvergenceWarning: Objective did not converge. You might want to increase the number of iterations, check the scale of the features or consider increasing regularisation. Duality gap: 6.675e+00, tolerance: 4.019e+00\n",
      "  model = cd_fast.enet_coordinate_descent(\n",
      "/Users/jgfaraco/miniconda3/lib/python3.12/site-packages/sklearn/linear_model/_coordinate_descent.py:695: ConvergenceWarning: Objective did not converge. You might want to increase the number of iterations, check the scale of the features or consider increasing regularisation. Duality gap: 6.635e+00, tolerance: 4.012e+00\n",
      "  model = cd_fast.enet_coordinate_descent(\n",
      "/Users/jgfaraco/miniconda3/lib/python3.12/site-packages/sklearn/linear_model/_coordinate_descent.py:695: ConvergenceWarning: Objective did not converge. You might want to increase the number of iterations, check the scale of the features or consider increasing regularisation. Duality gap: 6.743e+00, tolerance: 4.016e+00\n",
      "  model = cd_fast.enet_coordinate_descent(\n",
      "/Users/jgfaraco/miniconda3/lib/python3.12/site-packages/sklearn/linear_model/_coordinate_descent.py:695: ConvergenceWarning: Objective did not converge. You might want to increase the number of iterations, check the scale of the features or consider increasing regularisation. Duality gap: 6.659e+00, tolerance: 4.015e+00\n",
      "  model = cd_fast.enet_coordinate_descent(\n",
      "[I 2025-05-03 15:40:19,166] Trial 75 finished with value: -0.0035668418155084453 and parameters: {'alpha': 0.0032278427050432138, 'l1_ratio': 0.23757322526589883, 'fit_intercept': False, 'max_iter': 1746, 'use_scaler': False, 'poly_degree': 5}. Best is trial 72 with value: -0.0032335357104508666.\n",
      "/Users/jgfaraco/miniconda3/lib/python3.12/site-packages/sklearn/linear_model/_coordinate_descent.py:695: ConvergenceWarning: Objective did not converge. You might want to increase the number of iterations, check the scale of the features or consider increasing regularisation. Duality gap: 4.335e+00, tolerance: 3.529e-03\n",
      "  model = cd_fast.enet_coordinate_descent(\n",
      "/Users/jgfaraco/miniconda3/lib/python3.12/site-packages/sklearn/linear_model/_coordinate_descent.py:695: ConvergenceWarning: Objective did not converge. You might want to increase the number of iterations, check the scale of the features or consider increasing regularisation. Duality gap: 4.237e+00, tolerance: 3.475e-03\n",
      "  model = cd_fast.enet_coordinate_descent(\n",
      "/Users/jgfaraco/miniconda3/lib/python3.12/site-packages/sklearn/linear_model/_coordinate_descent.py:695: ConvergenceWarning: Objective did not converge. You might want to increase the number of iterations, check the scale of the features or consider increasing regularisation. Duality gap: 4.444e+00, tolerance: 3.549e-03\n",
      "  model = cd_fast.enet_coordinate_descent(\n",
      "/Users/jgfaraco/miniconda3/lib/python3.12/site-packages/sklearn/linear_model/_coordinate_descent.py:695: ConvergenceWarning: Objective did not converge. You might want to increase the number of iterations, check the scale of the features or consider increasing regularisation. Duality gap: 4.458e+00, tolerance: 3.584e-03\n",
      "  model = cd_fast.enet_coordinate_descent(\n",
      "/Users/jgfaraco/miniconda3/lib/python3.12/site-packages/sklearn/linear_model/_coordinate_descent.py:695: ConvergenceWarning: Objective did not converge. You might want to increase the number of iterations, check the scale of the features or consider increasing regularisation. Duality gap: 4.241e+00, tolerance: 3.519e-03\n",
      "  model = cd_fast.enet_coordinate_descent(\n",
      "[I 2025-05-03 15:40:19,947] Trial 76 finished with value: -0.004588423479686926 and parameters: {'alpha': 0.0025186552636979184, 'l1_ratio': 0.5720602506132292, 'fit_intercept': True, 'max_iter': 1448, 'use_scaler': True, 'poly_degree': 5, 'scaler_option': 'mean'}. Best is trial 72 with value: -0.0032335357104508666.\n",
      "[I 2025-05-03 15:40:20,404] Trial 77 finished with value: -0.005862580715181458 and parameters: {'alpha': 0.007152171783370562, 'l1_ratio': 0.7017788979319879, 'fit_intercept': False, 'max_iter': 3287, 'use_scaler': True, 'poly_degree': 1, 'scaler_option': 'std'}. Best is trial 72 with value: -0.0032335357104508666.\n",
      "/Users/jgfaraco/miniconda3/lib/python3.12/site-packages/sklearn/linear_model/_coordinate_descent.py:695: ConvergenceWarning: Objective did not converge. You might want to increase the number of iterations, check the scale of the features or consider increasing regularisation. Duality gap: 5.752e+00, tolerance: 3.549e-03\n",
      "  model = cd_fast.enet_coordinate_descent(\n",
      "/Users/jgfaraco/miniconda3/lib/python3.12/site-packages/sklearn/linear_model/_coordinate_descent.py:695: ConvergenceWarning: Objective did not converge. You might want to increase the number of iterations, check the scale of the features or consider increasing regularisation. Duality gap: 5.916e+00, tolerance: 3.584e-03\n",
      "  model = cd_fast.enet_coordinate_descent(\n",
      "/Users/jgfaraco/miniconda3/lib/python3.12/site-packages/sklearn/linear_model/_coordinate_descent.py:695: ConvergenceWarning: Objective did not converge. You might want to increase the number of iterations, check the scale of the features or consider increasing regularisation. Duality gap: 5.671e+00, tolerance: 3.519e-03\n",
      "  model = cd_fast.enet_coordinate_descent(\n",
      "/Users/jgfaraco/miniconda3/lib/python3.12/site-packages/sklearn/linear_model/_coordinate_descent.py:695: ConvergenceWarning: Objective did not converge. You might want to increase the number of iterations, check the scale of the features or consider increasing regularisation. Duality gap: 5.597e+00, tolerance: 3.529e-03\n",
      "  model = cd_fast.enet_coordinate_descent(\n",
      "/Users/jgfaraco/miniconda3/lib/python3.12/site-packages/sklearn/linear_model/_coordinate_descent.py:695: ConvergenceWarning: Objective did not converge. You might want to increase the number of iterations, check the scale of the features or consider increasing regularisation. Duality gap: 5.875e+00, tolerance: 3.475e-03\n",
      "  model = cd_fast.enet_coordinate_descent(\n",
      "[I 2025-05-03 15:40:20,738] Trial 78 finished with value: -0.008065847965872458 and parameters: {'alpha': 0.3451849826872351, 'l1_ratio': 0.31816875917357224, 'fit_intercept': True, 'max_iter': 2154, 'use_scaler': False, 'poly_degree': 3}. Best is trial 72 with value: -0.0032335357104508666.\n",
      "/Users/jgfaraco/miniconda3/lib/python3.12/site-packages/sklearn/linear_model/_coordinate_descent.py:695: ConvergenceWarning: Objective did not converge. You might want to increase the number of iterations, check the scale of the features or consider increasing regularisation. Duality gap: 5.997e+00, tolerance: 4.015e+00\n",
      "  model = cd_fast.enet_coordinate_descent(\n",
      "/Users/jgfaraco/miniconda3/lib/python3.12/site-packages/sklearn/linear_model/_coordinate_descent.py:695: ConvergenceWarning: Objective did not converge. You might want to increase the number of iterations, check the scale of the features or consider increasing regularisation. Duality gap: 6.094e+00, tolerance: 4.013e+00\n",
      "  model = cd_fast.enet_coordinate_descent(\n",
      "/Users/jgfaraco/miniconda3/lib/python3.12/site-packages/sklearn/linear_model/_coordinate_descent.py:695: ConvergenceWarning: Objective did not converge. You might want to increase the number of iterations, check the scale of the features or consider increasing regularisation. Duality gap: 6.277e+00, tolerance: 4.012e+00\n",
      "  model = cd_fast.enet_coordinate_descent(\n",
      "/Users/jgfaraco/miniconda3/lib/python3.12/site-packages/sklearn/linear_model/_coordinate_descent.py:695: ConvergenceWarning: Objective did not converge. You might want to increase the number of iterations, check the scale of the features or consider increasing regularisation. Duality gap: 6.213e+00, tolerance: 4.019e+00\n",
      "  model = cd_fast.enet_coordinate_descent(\n",
      "/Users/jgfaraco/miniconda3/lib/python3.12/site-packages/sklearn/linear_model/_coordinate_descent.py:695: ConvergenceWarning: Objective did not converge. You might want to increase the number of iterations, check the scale of the features or consider increasing regularisation. Duality gap: 6.309e+00, tolerance: 4.016e+00\n",
      "  model = cd_fast.enet_coordinate_descent(\n",
      "[I 2025-05-03 15:40:21,229] Trial 79 finished with value: -0.008238388550755637 and parameters: {'alpha': 0.46020058113905465, 'l1_ratio': 0.14664118314018423, 'fit_intercept': False, 'max_iter': 1253, 'use_scaler': False, 'poly_degree': 5}. Best is trial 72 with value: -0.0032335357104508666.\n",
      "/Users/jgfaraco/miniconda3/lib/python3.12/site-packages/sklearn/linear_model/_coordinate_descent.py:695: ConvergenceWarning: Objective did not converge. You might want to increase the number of iterations, check the scale of the features or consider increasing regularisation. Duality gap: 5.917e+00, tolerance: 4.019e+00\n",
      "  model = cd_fast.enet_coordinate_descent(\n",
      "/Users/jgfaraco/miniconda3/lib/python3.12/site-packages/sklearn/linear_model/_coordinate_descent.py:695: ConvergenceWarning: Objective did not converge. You might want to increase the number of iterations, check the scale of the features or consider increasing regularisation. Duality gap: 5.721e+00, tolerance: 4.015e+00\n",
      "  model = cd_fast.enet_coordinate_descent(\n",
      "/Users/jgfaraco/miniconda3/lib/python3.12/site-packages/sklearn/linear_model/_coordinate_descent.py:695: ConvergenceWarning: Objective did not converge. You might want to increase the number of iterations, check the scale of the features or consider increasing regularisation. Duality gap: 5.999e+00, tolerance: 4.012e+00\n",
      "  model = cd_fast.enet_coordinate_descent(\n",
      "/Users/jgfaraco/miniconda3/lib/python3.12/site-packages/sklearn/linear_model/_coordinate_descent.py:695: ConvergenceWarning: Objective did not converge. You might want to increase the number of iterations, check the scale of the features or consider increasing regularisation. Duality gap: 5.795e+00, tolerance: 4.013e+00\n",
      "  model = cd_fast.enet_coordinate_descent(\n",
      "/Users/jgfaraco/miniconda3/lib/python3.12/site-packages/sklearn/linear_model/_coordinate_descent.py:695: ConvergenceWarning: Objective did not converge. You might want to increase the number of iterations, check the scale of the features or consider increasing regularisation. Duality gap: 6.018e+00, tolerance: 4.016e+00\n",
      "  model = cd_fast.enet_coordinate_descent(\n",
      "[I 2025-05-03 15:40:22,535] Trial 80 finished with value: -0.008086870438623087 and parameters: {'alpha': 0.01875872314533727, 'l1_ratio': 0.7133524500015364, 'fit_intercept': False, 'max_iter': 2886, 'use_scaler': False, 'poly_degree': 5}. Best is trial 72 with value: -0.0032335357104508666.\n",
      "/Users/jgfaraco/miniconda3/lib/python3.12/site-packages/sklearn/linear_model/_coordinate_descent.py:695: ConvergenceWarning: Objective did not converge. You might want to increase the number of iterations, check the scale of the features or consider increasing regularisation. Duality gap: 5.527e+00, tolerance: 3.529e-03\n",
      "  model = cd_fast.enet_coordinate_descent(\n",
      "/Users/jgfaraco/miniconda3/lib/python3.12/site-packages/sklearn/linear_model/_coordinate_descent.py:695: ConvergenceWarning: Objective did not converge. You might want to increase the number of iterations, check the scale of the features or consider increasing regularisation. Duality gap: 5.794e+00, tolerance: 3.475e-03\n",
      "  model = cd_fast.enet_coordinate_descent(\n",
      "/Users/jgfaraco/miniconda3/lib/python3.12/site-packages/sklearn/linear_model/_coordinate_descent.py:695: ConvergenceWarning: Objective did not converge. You might want to increase the number of iterations, check the scale of the features or consider increasing regularisation. Duality gap: 5.611e+00, tolerance: 3.519e-03\n",
      "  model = cd_fast.enet_coordinate_descent(\n",
      "/Users/jgfaraco/miniconda3/lib/python3.12/site-packages/sklearn/linear_model/_coordinate_descent.py:695: ConvergenceWarning: Objective did not converge. You might want to increase the number of iterations, check the scale of the features or consider increasing regularisation. Duality gap: 5.837e+00, tolerance: 3.584e-03\n",
      "  model = cd_fast.enet_coordinate_descent(\n",
      "/Users/jgfaraco/miniconda3/lib/python3.12/site-packages/sklearn/linear_model/_coordinate_descent.py:695: ConvergenceWarning: Objective did not converge. You might want to increase the number of iterations, check the scale of the features or consider increasing regularisation. Duality gap: 5.712e+00, tolerance: 3.549e-03\n",
      "  model = cd_fast.enet_coordinate_descent(\n",
      "[I 2025-05-03 15:40:23,511] Trial 81 finished with value: -0.007933464129095943 and parameters: {'alpha': 14.226466283632076, 'l1_ratio': 0.9685242195998613, 'fit_intercept': True, 'max_iter': 4754, 'use_scaler': False, 'poly_degree': 4}. Best is trial 72 with value: -0.0032335357104508666.\n",
      "[I 2025-05-03 15:40:23,715] Trial 82 finished with value: -0.011015259988720749 and parameters: {'alpha': 0.7453591134153514, 'l1_ratio': 0.8576458990824449, 'fit_intercept': True, 'max_iter': 1806, 'use_scaler': True, 'poly_degree': 5, 'scaler_option': 'mean'}. Best is trial 72 with value: -0.0032335357104508666.\n",
      "[I 2025-05-03 15:40:23,786] Trial 83 finished with value: -0.017268638811301824 and parameters: {'alpha': 0.06225187269045146, 'l1_ratio': 0.8894804867317975, 'fit_intercept': True, 'max_iter': 2756, 'use_scaler': True, 'poly_degree': 2, 'scaler_option': 'mean'}. Best is trial 72 with value: -0.0032335357104508666.\n",
      "/Users/jgfaraco/miniconda3/lib/python3.12/site-packages/sklearn/linear_model/_coordinate_descent.py:695: ConvergenceWarning: Objective did not converge. You might want to increase the number of iterations, check the scale of the features or consider increasing regularisation. Duality gap: 5.461e+00, tolerance: 3.584e-03\n",
      "  model = cd_fast.enet_coordinate_descent(\n",
      "/Users/jgfaraco/miniconda3/lib/python3.12/site-packages/sklearn/linear_model/_coordinate_descent.py:695: ConvergenceWarning: Objective did not converge. You might want to increase the number of iterations, check the scale of the features or consider increasing regularisation. Duality gap: 5.136e+00, tolerance: 3.529e-03\n",
      "  model = cd_fast.enet_coordinate_descent(\n",
      "/Users/jgfaraco/miniconda3/lib/python3.12/site-packages/sklearn/linear_model/_coordinate_descent.py:695: ConvergenceWarning: Objective did not converge. You might want to increase the number of iterations, check the scale of the features or consider increasing regularisation. Duality gap: 5.292e+00, tolerance: 3.549e-03\n",
      "  model = cd_fast.enet_coordinate_descent(\n",
      "/Users/jgfaraco/miniconda3/lib/python3.12/site-packages/sklearn/linear_model/_coordinate_descent.py:695: ConvergenceWarning: Objective did not converge. You might want to increase the number of iterations, check the scale of the features or consider increasing regularisation. Duality gap: 5.380e+00, tolerance: 3.475e-03\n",
      "  model = cd_fast.enet_coordinate_descent(\n",
      "/Users/jgfaraco/miniconda3/lib/python3.12/site-packages/sklearn/linear_model/_coordinate_descent.py:695: ConvergenceWarning: Objective did not converge. You might want to increase the number of iterations, check the scale of the features or consider increasing regularisation. Duality gap: 5.205e+00, tolerance: 3.519e-03\n",
      "  model = cd_fast.enet_coordinate_descent(\n",
      "[I 2025-05-03 15:40:27,770] Trial 84 finished with value: -0.007280178421829335 and parameters: {'alpha': 0.014489836190209094, 'l1_ratio': 0.9096171159471117, 'fit_intercept': True, 'max_iter': 4626, 'use_scaler': False, 'poly_degree': 5}. Best is trial 72 with value: -0.0032335357104508666.\n",
      "/Users/jgfaraco/miniconda3/lib/python3.12/site-packages/sklearn/linear_model/_coordinate_descent.py:695: ConvergenceWarning: Objective did not converge. You might want to increase the number of iterations, check the scale of the features or consider increasing regularisation. Duality gap: 5.396e+00, tolerance: 3.519e-03\n",
      "  model = cd_fast.enet_coordinate_descent(\n",
      "/Users/jgfaraco/miniconda3/lib/python3.12/site-packages/sklearn/linear_model/_coordinate_descent.py:695: ConvergenceWarning: Objective did not converge. You might want to increase the number of iterations, check the scale of the features or consider increasing regularisation. Duality gap: 5.606e+00, tolerance: 3.584e-03\n",
      "  model = cd_fast.enet_coordinate_descent(\n",
      "/Users/jgfaraco/miniconda3/lib/python3.12/site-packages/sklearn/linear_model/_coordinate_descent.py:695: ConvergenceWarning: Objective did not converge. You might want to increase the number of iterations, check the scale of the features or consider increasing regularisation. Duality gap: 5.298e+00, tolerance: 3.529e-03\n",
      "  model = cd_fast.enet_coordinate_descent(\n",
      "/Users/jgfaraco/miniconda3/lib/python3.12/site-packages/sklearn/linear_model/_coordinate_descent.py:695: ConvergenceWarning: Objective did not converge. You might want to increase the number of iterations, check the scale of the features or consider increasing regularisation. Duality gap: 5.560e+00, tolerance: 3.475e-03\n",
      "  model = cd_fast.enet_coordinate_descent(\n",
      "/Users/jgfaraco/miniconda3/lib/python3.12/site-packages/sklearn/linear_model/_coordinate_descent.py:695: ConvergenceWarning: Objective did not converge. You might want to increase the number of iterations, check the scale of the features or consider increasing regularisation. Duality gap: 5.499e+00, tolerance: 3.549e-03\n",
      "  model = cd_fast.enet_coordinate_descent(\n",
      "[I 2025-05-03 15:40:28,846] Trial 85 finished with value: -0.007883750089037696 and parameters: {'alpha': 1.3757523564319387, 'l1_ratio': 0.40141505319137755, 'fit_intercept': True, 'max_iter': 3480, 'use_scaler': True, 'poly_degree': 4, 'scaler_option': 'std'}. Best is trial 72 with value: -0.0032335357104508666.\n",
      "/Users/jgfaraco/miniconda3/lib/python3.12/site-packages/sklearn/linear_model/_coordinate_descent.py:695: ConvergenceWarning: Objective did not converge. You might want to increase the number of iterations, check the scale of the features or consider increasing regularisation. Duality gap: 5.165e+00, tolerance: 3.529e-03\n",
      "  model = cd_fast.enet_coordinate_descent(\n",
      "/Users/jgfaraco/miniconda3/lib/python3.12/site-packages/sklearn/linear_model/_coordinate_descent.py:695: ConvergenceWarning: Objective did not converge. You might want to increase the number of iterations, check the scale of the features or consider increasing regularisation. Duality gap: 5.233e+00, tolerance: 3.519e-03\n",
      "  model = cd_fast.enet_coordinate_descent(\n",
      "/Users/jgfaraco/miniconda3/lib/python3.12/site-packages/sklearn/linear_model/_coordinate_descent.py:695: ConvergenceWarning: Objective did not converge. You might want to increase the number of iterations, check the scale of the features or consider increasing regularisation. Duality gap: 5.409e+00, tolerance: 3.475e-03\n",
      "  model = cd_fast.enet_coordinate_descent(\n",
      "/Users/jgfaraco/miniconda3/lib/python3.12/site-packages/sklearn/linear_model/_coordinate_descent.py:695: ConvergenceWarning: Objective did not converge. You might want to increase the number of iterations, check the scale of the features or consider increasing regularisation. Duality gap: 5.324e+00, tolerance: 3.549e-03\n",
      "  model = cd_fast.enet_coordinate_descent(\n",
      "/Users/jgfaraco/miniconda3/lib/python3.12/site-packages/sklearn/linear_model/_coordinate_descent.py:695: ConvergenceWarning: Objective did not converge. You might want to increase the number of iterations, check the scale of the features or consider increasing regularisation. Duality gap: 5.490e+00, tolerance: 3.584e-03\n",
      "  model = cd_fast.enet_coordinate_descent(\n",
      "[I 2025-05-03 15:40:31,078] Trial 86 finished with value: -0.007327486788749384 and parameters: {'alpha': 0.017476147401057962, 'l1_ratio': 0.7695516633154093, 'fit_intercept': True, 'max_iter': 4050, 'use_scaler': False, 'poly_degree': 5}. Best is trial 72 with value: -0.0032335357104508666.\n",
      "[I 2025-05-03 15:40:31,520] Trial 87 finished with value: -0.005916146800899066 and parameters: {'alpha': 0.0035740340421127536, 'l1_ratio': 0.8618070625610664, 'fit_intercept': True, 'max_iter': 4189, 'use_scaler': True, 'poly_degree': 4, 'scaler_option': 'mean'}. Best is trial 72 with value: -0.0032335357104508666.\n",
      "/Users/jgfaraco/miniconda3/lib/python3.12/site-packages/sklearn/linear_model/_coordinate_descent.py:695: ConvergenceWarning: Objective did not converge. You might want to increase the number of iterations, check the scale of the features or consider increasing regularisation. Duality gap: 3.001e+00, tolerance: 3.519e-03\n",
      "  model = cd_fast.enet_coordinate_descent(\n",
      "/Users/jgfaraco/miniconda3/lib/python3.12/site-packages/sklearn/linear_model/_coordinate_descent.py:695: ConvergenceWarning: Objective did not converge. You might want to increase the number of iterations, check the scale of the features or consider increasing regularisation. Duality gap: 3.025e+00, tolerance: 3.549e-03\n",
      "  model = cd_fast.enet_coordinate_descent(\n",
      "/Users/jgfaraco/miniconda3/lib/python3.12/site-packages/sklearn/linear_model/_coordinate_descent.py:695: ConvergenceWarning: Objective did not converge. You might want to increase the number of iterations, check the scale of the features or consider increasing regularisation. Duality gap: 3.996e+00, tolerance: 3.584e-03\n",
      "  model = cd_fast.enet_coordinate_descent(\n",
      "/Users/jgfaraco/miniconda3/lib/python3.12/site-packages/sklearn/linear_model/_coordinate_descent.py:695: ConvergenceWarning: Objective did not converge. You might want to increase the number of iterations, check the scale of the features or consider increasing regularisation. Duality gap: 3.602e+00, tolerance: 3.529e-03\n",
      "  model = cd_fast.enet_coordinate_descent(\n",
      "/Users/jgfaraco/miniconda3/lib/python3.12/site-packages/sklearn/linear_model/_coordinate_descent.py:695: ConvergenceWarning: Objective did not converge. You might want to increase the number of iterations, check the scale of the features or consider increasing regularisation. Duality gap: 3.607e+00, tolerance: 3.475e-03\n",
      "  model = cd_fast.enet_coordinate_descent(\n",
      "[I 2025-05-03 15:40:31,818] Trial 88 finished with value: -0.00818963804532977 and parameters: {'alpha': 2.9494580414152707, 'l1_ratio': 0.5884519990128366, 'fit_intercept': True, 'max_iter': 1726, 'use_scaler': False, 'poly_degree': 3}. Best is trial 72 with value: -0.0032335357104508666.\n",
      "/Users/jgfaraco/miniconda3/lib/python3.12/site-packages/sklearn/linear_model/_coordinate_descent.py:695: ConvergenceWarning: Objective did not converge. You might want to increase the number of iterations, check the scale of the features or consider increasing regularisation. Duality gap: 5.677e+00, tolerance: 3.475e-03\n",
      "  model = cd_fast.enet_coordinate_descent(\n",
      "/Users/jgfaraco/miniconda3/lib/python3.12/site-packages/sklearn/linear_model/_coordinate_descent.py:695: ConvergenceWarning: Objective did not converge. You might want to increase the number of iterations, check the scale of the features or consider increasing regularisation. Duality gap: 5.415e+00, tolerance: 3.529e-03\n",
      "  model = cd_fast.enet_coordinate_descent(\n",
      "/Users/jgfaraco/miniconda3/lib/python3.12/site-packages/sklearn/linear_model/_coordinate_descent.py:695: ConvergenceWarning: Objective did not converge. You might want to increase the number of iterations, check the scale of the features or consider increasing regularisation. Duality gap: 5.492e+00, tolerance: 3.519e-03\n",
      "  model = cd_fast.enet_coordinate_descent(\n",
      "/Users/jgfaraco/miniconda3/lib/python3.12/site-packages/sklearn/linear_model/_coordinate_descent.py:695: ConvergenceWarning: Objective did not converge. You might want to increase the number of iterations, check the scale of the features or consider increasing regularisation. Duality gap: 5.597e+00, tolerance: 3.549e-03\n",
      "  model = cd_fast.enet_coordinate_descent(\n",
      "/Users/jgfaraco/miniconda3/lib/python3.12/site-packages/sklearn/linear_model/_coordinate_descent.py:695: ConvergenceWarning: Objective did not converge. You might want to increase the number of iterations, check the scale of the features or consider increasing regularisation. Duality gap: 5.731e+00, tolerance: 3.584e-03\n",
      "  model = cd_fast.enet_coordinate_descent(\n",
      "[I 2025-05-03 15:40:32,887] Trial 89 finished with value: -0.00767483708105023 and parameters: {'alpha': 0.20418743718729587, 'l1_ratio': 0.9525550056506338, 'fit_intercept': True, 'max_iter': 3024, 'use_scaler': False, 'poly_degree': 5}. Best is trial 72 with value: -0.0032335357104508666.\n",
      "/Users/jgfaraco/miniconda3/lib/python3.12/site-packages/sklearn/linear_model/_coordinate_descent.py:695: ConvergenceWarning: Objective did not converge. You might want to increase the number of iterations, check the scale of the features or consider increasing regularisation. Duality gap: 2.644e-01, tolerance: 3.549e-03\n",
      "  model = cd_fast.enet_coordinate_descent(\n",
      "/Users/jgfaraco/miniconda3/lib/python3.12/site-packages/sklearn/linear_model/_coordinate_descent.py:695: ConvergenceWarning: Objective did not converge. You might want to increase the number of iterations, check the scale of the features or consider increasing regularisation. Duality gap: 1.518e-02, tolerance: 3.584e-03\n",
      "  model = cd_fast.enet_coordinate_descent(\n",
      "/Users/jgfaraco/miniconda3/lib/python3.12/site-packages/sklearn/linear_model/_coordinate_descent.py:695: ConvergenceWarning: Objective did not converge. You might want to increase the number of iterations, check the scale of the features or consider increasing regularisation. Duality gap: 3.635e-02, tolerance: 3.519e-03\n",
      "  model = cd_fast.enet_coordinate_descent(\n",
      "/Users/jgfaraco/miniconda3/lib/python3.12/site-packages/sklearn/linear_model/_coordinate_descent.py:695: ConvergenceWarning: Objective did not converge. You might want to increase the number of iterations, check the scale of the features or consider increasing regularisation. Duality gap: 4.150e-02, tolerance: 3.529e-03\n",
      "  model = cd_fast.enet_coordinate_descent(\n",
      "/Users/jgfaraco/miniconda3/lib/python3.12/site-packages/sklearn/linear_model/_coordinate_descent.py:695: ConvergenceWarning: Objective did not converge. You might want to increase the number of iterations, check the scale of the features or consider increasing regularisation. Duality gap: 1.171e-01, tolerance: 3.475e-03\n",
      "  model = cd_fast.enet_coordinate_descent(\n",
      "[I 2025-05-03 15:40:34,002] Trial 90 finished with value: -0.008022062348662175 and parameters: {'alpha': 45.77110660026056, 'l1_ratio': 0.6086198652302881, 'fit_intercept': True, 'max_iter': 3829, 'use_scaler': True, 'poly_degree': 4, 'scaler_option': 'std'}. Best is trial 72 with value: -0.0032335357104508666.\n",
      "/Users/jgfaraco/miniconda3/lib/python3.12/site-packages/sklearn/linear_model/_coordinate_descent.py:695: ConvergenceWarning: Objective did not converge. You might want to increase the number of iterations, check the scale of the features or consider increasing regularisation. Duality gap: 5.848e+00, tolerance: 4.015e+00\n",
      "  model = cd_fast.enet_coordinate_descent(\n",
      "/Users/jgfaraco/miniconda3/lib/python3.12/site-packages/sklearn/linear_model/_coordinate_descent.py:695: ConvergenceWarning: Objective did not converge. You might want to increase the number of iterations, check the scale of the features or consider increasing regularisation. Duality gap: 5.918e+00, tolerance: 4.013e+00\n",
      "  model = cd_fast.enet_coordinate_descent(\n",
      "/Users/jgfaraco/miniconda3/lib/python3.12/site-packages/sklearn/linear_model/_coordinate_descent.py:695: ConvergenceWarning: Objective did not converge. You might want to increase the number of iterations, check the scale of the features or consider increasing regularisation. Duality gap: 6.034e+00, tolerance: 4.019e+00\n",
      "  model = cd_fast.enet_coordinate_descent(\n",
      "/Users/jgfaraco/miniconda3/lib/python3.12/site-packages/sklearn/linear_model/_coordinate_descent.py:695: ConvergenceWarning: Objective did not converge. You might want to increase the number of iterations, check the scale of the features or consider increasing regularisation. Duality gap: 6.117e+00, tolerance: 4.012e+00\n",
      "  model = cd_fast.enet_coordinate_descent(\n",
      "/Users/jgfaraco/miniconda3/lib/python3.12/site-packages/sklearn/linear_model/_coordinate_descent.py:695: ConvergenceWarning: Objective did not converge. You might want to increase the number of iterations, check the scale of the features or consider increasing regularisation. Duality gap: 6.173e+00, tolerance: 4.016e+00\n",
      "  model = cd_fast.enet_coordinate_descent(\n",
      "[I 2025-05-03 15:40:35,750] Trial 91 finished with value: -0.008074644873990731 and parameters: {'alpha': 46.97156971390483, 'l1_ratio': 0.9330116616160987, 'fit_intercept': False, 'max_iter': 4940, 'use_scaler': False, 'poly_degree': 5}. Best is trial 72 with value: -0.0032335357104508666.\n",
      "[I 2025-05-03 15:40:35,823] Trial 92 finished with value: -0.03259479239671027 and parameters: {'alpha': 22.360515435267164, 'l1_ratio': 0.5669542514134649, 'fit_intercept': False, 'max_iter': 1219, 'use_scaler': True, 'poly_degree': 1, 'scaler_option': 'std'}. Best is trial 72 with value: -0.0032335357104508666.\n",
      "/Users/jgfaraco/miniconda3/lib/python3.12/site-packages/sklearn/linear_model/_coordinate_descent.py:695: ConvergenceWarning: Objective did not converge. You might want to increase the number of iterations, check the scale of the features or consider increasing regularisation. Duality gap: 5.658e+00, tolerance: 3.475e-03\n",
      "  model = cd_fast.enet_coordinate_descent(\n",
      "/Users/jgfaraco/miniconda3/lib/python3.12/site-packages/sklearn/linear_model/_coordinate_descent.py:695: ConvergenceWarning: Objective did not converge. You might want to increase the number of iterations, check the scale of the features or consider increasing regularisation. Duality gap: 5.418e+00, tolerance: 3.529e-03\n",
      "  model = cd_fast.enet_coordinate_descent(\n",
      "/Users/jgfaraco/miniconda3/lib/python3.12/site-packages/sklearn/linear_model/_coordinate_descent.py:695: ConvergenceWarning: Objective did not converge. You might want to increase the number of iterations, check the scale of the features or consider increasing regularisation. Duality gap: 5.457e+00, tolerance: 3.519e-03\n",
      "  model = cd_fast.enet_coordinate_descent(\n",
      "/Users/jgfaraco/miniconda3/lib/python3.12/site-packages/sklearn/linear_model/_coordinate_descent.py:695: ConvergenceWarning: Objective did not converge. You might want to increase the number of iterations, check the scale of the features or consider increasing regularisation. Duality gap: 5.752e+00, tolerance: 3.584e-03\n",
      "  model = cd_fast.enet_coordinate_descent(\n",
      "/Users/jgfaraco/miniconda3/lib/python3.12/site-packages/sklearn/linear_model/_coordinate_descent.py:695: ConvergenceWarning: Objective did not converge. You might want to increase the number of iterations, check the scale of the features or consider increasing regularisation. Duality gap: 5.537e+00, tolerance: 3.549e-03\n",
      "  model = cd_fast.enet_coordinate_descent(\n",
      "[I 2025-05-03 15:40:36,678] Trial 93 finished with value: -0.008157733321022579 and parameters: {'alpha': 0.4863825828994062, 'l1_ratio': 0.9278700547714844, 'fit_intercept': True, 'max_iter': 3950, 'use_scaler': False, 'poly_degree': 3}. Best is trial 72 with value: -0.0032335357104508666.\n",
      "/Users/jgfaraco/miniconda3/lib/python3.12/site-packages/sklearn/linear_model/_coordinate_descent.py:695: ConvergenceWarning: Objective did not converge. You might want to increase the number of iterations, check the scale of the features or consider increasing regularisation. Duality gap: 4.360e+00, tolerance: 4.012e+00\n",
      "  model = cd_fast.enet_coordinate_descent(\n",
      "/Users/jgfaraco/miniconda3/lib/python3.12/site-packages/sklearn/linear_model/_coordinate_descent.py:695: ConvergenceWarning: Objective did not converge. You might want to increase the number of iterations, check the scale of the features or consider increasing regularisation. Duality gap: 4.351e+00, tolerance: 4.013e+00\n",
      "  model = cd_fast.enet_coordinate_descent(\n",
      "/Users/jgfaraco/miniconda3/lib/python3.12/site-packages/sklearn/linear_model/_coordinate_descent.py:695: ConvergenceWarning: Objective did not converge. You might want to increase the number of iterations, check the scale of the features or consider increasing regularisation. Duality gap: 4.469e+00, tolerance: 4.016e+00\n",
      "  model = cd_fast.enet_coordinate_descent(\n",
      "/Users/jgfaraco/miniconda3/lib/python3.12/site-packages/sklearn/linear_model/_coordinate_descent.py:695: ConvergenceWarning: Objective did not converge. You might want to increase the number of iterations, check the scale of the features or consider increasing regularisation. Duality gap: 4.342e+00, tolerance: 4.015e+00\n",
      "  model = cd_fast.enet_coordinate_descent(\n",
      "/Users/jgfaraco/miniconda3/lib/python3.12/site-packages/sklearn/linear_model/_coordinate_descent.py:695: ConvergenceWarning: Objective did not converge. You might want to increase the number of iterations, check the scale of the features or consider increasing regularisation. Duality gap: 4.420e+00, tolerance: 4.019e+00\n",
      "  model = cd_fast.enet_coordinate_descent(\n",
      "[I 2025-05-03 15:40:39,109] Trial 94 finished with value: -0.004000090954909962 and parameters: {'alpha': 0.005061568304359487, 'l1_ratio': 0.258748287855601, 'fit_intercept': False, 'max_iter': 4660, 'use_scaler': True, 'poly_degree': 4, 'scaler_option': 'std'}. Best is trial 72 with value: -0.0032335357104508666.\n",
      "/Users/jgfaraco/miniconda3/lib/python3.12/site-packages/sklearn/linear_model/_coordinate_descent.py:695: ConvergenceWarning: Objective did not converge. You might want to increase the number of iterations, check the scale of the features or consider increasing regularisation. Duality gap: 5.553e+00, tolerance: 3.519e-03\n",
      "  model = cd_fast.enet_coordinate_descent(\n",
      "/Users/jgfaraco/miniconda3/lib/python3.12/site-packages/sklearn/linear_model/_coordinate_descent.py:695: ConvergenceWarning: Objective did not converge. You might want to increase the number of iterations, check the scale of the features or consider increasing regularisation. Duality gap: 5.674e+00, tolerance: 3.475e-03\n",
      "  model = cd_fast.enet_coordinate_descent(\n",
      "/Users/jgfaraco/miniconda3/lib/python3.12/site-packages/sklearn/linear_model/_coordinate_descent.py:695: ConvergenceWarning: Objective did not converge. You might want to increase the number of iterations, check the scale of the features or consider increasing regularisation. Duality gap: 5.652e+00, tolerance: 3.549e-03\n",
      "  model = cd_fast.enet_coordinate_descent(\n",
      "/Users/jgfaraco/miniconda3/lib/python3.12/site-packages/sklearn/linear_model/_coordinate_descent.py:695: ConvergenceWarning: Objective did not converge. You might want to increase the number of iterations, check the scale of the features or consider increasing regularisation. Duality gap: 5.440e+00, tolerance: 3.529e-03\n",
      "  model = cd_fast.enet_coordinate_descent(\n",
      "/Users/jgfaraco/miniconda3/lib/python3.12/site-packages/sklearn/linear_model/_coordinate_descent.py:695: ConvergenceWarning: Objective did not converge. You might want to increase the number of iterations, check the scale of the features or consider increasing regularisation. Duality gap: 5.744e+00, tolerance: 3.584e-03\n",
      "  model = cd_fast.enet_coordinate_descent(\n",
      "[I 2025-05-03 15:40:39,466] Trial 95 finished with value: -0.006992864283360224 and parameters: {'alpha': 0.007765686146138311, 'l1_ratio': 0.9649632857225097, 'fit_intercept': True, 'max_iter': 1341, 'use_scaler': False, 'poly_degree': 3}. Best is trial 72 with value: -0.0032335357104508666.\n",
      "/Users/jgfaraco/miniconda3/lib/python3.12/site-packages/sklearn/linear_model/_coordinate_descent.py:695: ConvergenceWarning: Objective did not converge. You might want to increase the number of iterations, check the scale of the features or consider increasing regularisation. Duality gap: 3.943e+00, tolerance: 3.519e-03\n",
      "  model = cd_fast.enet_coordinate_descent(\n",
      "/Users/jgfaraco/miniconda3/lib/python3.12/site-packages/sklearn/linear_model/_coordinate_descent.py:695: ConvergenceWarning: Objective did not converge. You might want to increase the number of iterations, check the scale of the features or consider increasing regularisation. Duality gap: 3.924e+00, tolerance: 3.475e-03\n",
      "  model = cd_fast.enet_coordinate_descent(\n",
      "/Users/jgfaraco/miniconda3/lib/python3.12/site-packages/sklearn/linear_model/_coordinate_descent.py:695: ConvergenceWarning: Objective did not converge. You might want to increase the number of iterations, check the scale of the features or consider increasing regularisation. Duality gap: 3.899e+00, tolerance: 3.529e-03\n",
      "  model = cd_fast.enet_coordinate_descent(\n",
      "/Users/jgfaraco/miniconda3/lib/python3.12/site-packages/sklearn/linear_model/_coordinate_descent.py:695: ConvergenceWarning: Objective did not converge. You might want to increase the number of iterations, check the scale of the features or consider increasing regularisation. Duality gap: 4.015e+00, tolerance: 3.549e-03\n",
      "  model = cd_fast.enet_coordinate_descent(\n",
      "/Users/jgfaraco/miniconda3/lib/python3.12/site-packages/sklearn/linear_model/_coordinate_descent.py:695: ConvergenceWarning: Objective did not converge. You might want to increase the number of iterations, check the scale of the features or consider increasing regularisation. Duality gap: 4.031e+00, tolerance: 3.584e-03\n",
      "  model = cd_fast.enet_coordinate_descent(\n",
      "[I 2025-05-03 15:40:40,076] Trial 96 finished with value: -0.003991063027125727 and parameters: {'alpha': 0.0021646235893912963, 'l1_ratio': 0.7749644233592601, 'fit_intercept': True, 'max_iter': 1820, 'use_scaler': False, 'poly_degree': 3}. Best is trial 72 with value: -0.0032335357104508666.\n",
      "/Users/jgfaraco/miniconda3/lib/python3.12/site-packages/sklearn/linear_model/_coordinate_descent.py:695: ConvergenceWarning: Objective did not converge. You might want to increase the number of iterations, check the scale of the features or consider increasing regularisation. Duality gap: 6.333e+00, tolerance: 4.013e+00\n",
      "  model = cd_fast.enet_coordinate_descent(\n",
      "/Users/jgfaraco/miniconda3/lib/python3.12/site-packages/sklearn/linear_model/_coordinate_descent.py:695: ConvergenceWarning: Objective did not converge. You might want to increase the number of iterations, check the scale of the features or consider increasing regularisation. Duality gap: 6.499e+00, tolerance: 4.012e+00\n",
      "  model = cd_fast.enet_coordinate_descent(\n",
      "/Users/jgfaraco/miniconda3/lib/python3.12/site-packages/sklearn/linear_model/_coordinate_descent.py:695: ConvergenceWarning: Objective did not converge. You might want to increase the number of iterations, check the scale of the features or consider increasing regularisation. Duality gap: 6.554e+00, tolerance: 4.016e+00\n",
      "  model = cd_fast.enet_coordinate_descent(\n",
      "/Users/jgfaraco/miniconda3/lib/python3.12/site-packages/sklearn/linear_model/_coordinate_descent.py:695: ConvergenceWarning: Objective did not converge. You might want to increase the number of iterations, check the scale of the features or consider increasing regularisation. Duality gap: 6.423e+00, tolerance: 4.019e+00\n",
      "  model = cd_fast.enet_coordinate_descent(\n",
      "/Users/jgfaraco/miniconda3/lib/python3.12/site-packages/sklearn/linear_model/_coordinate_descent.py:695: ConvergenceWarning: Objective did not converge. You might want to increase the number of iterations, check the scale of the features or consider increasing regularisation. Duality gap: 6.219e+00, tolerance: 4.015e+00\n",
      "  model = cd_fast.enet_coordinate_descent(\n",
      "[I 2025-05-03 15:40:40,845] Trial 97 finished with value: -0.00839187778431479 and parameters: {'alpha': 0.6671226198007874, 'l1_ratio': 0.15913777548551714, 'fit_intercept': False, 'max_iter': 3098, 'use_scaler': False, 'poly_degree': 3}. Best is trial 72 with value: -0.0032335357104508666.\n",
      "/Users/jgfaraco/miniconda3/lib/python3.12/site-packages/sklearn/linear_model/_coordinate_descent.py:695: ConvergenceWarning: Objective did not converge. You might want to increase the number of iterations, check the scale of the features or consider increasing regularisation. Duality gap: 3.853e+00, tolerance: 3.529e-03\n",
      "  model = cd_fast.enet_coordinate_descent(\n",
      "/Users/jgfaraco/miniconda3/lib/python3.12/site-packages/sklearn/linear_model/_coordinate_descent.py:695: ConvergenceWarning: Objective did not converge. You might want to increase the number of iterations, check the scale of the features or consider increasing regularisation. Duality gap: 3.907e+00, tolerance: 3.519e-03\n",
      "  model = cd_fast.enet_coordinate_descent(\n",
      "/Users/jgfaraco/miniconda3/lib/python3.12/site-packages/sklearn/linear_model/_coordinate_descent.py:695: ConvergenceWarning: Objective did not converge. You might want to increase the number of iterations, check the scale of the features or consider increasing regularisation. Duality gap: 3.989e+00, tolerance: 3.549e-03\n",
      "  model = cd_fast.enet_coordinate_descent(\n",
      "/Users/jgfaraco/miniconda3/lib/python3.12/site-packages/sklearn/linear_model/_coordinate_descent.py:695: ConvergenceWarning: Objective did not converge. You might want to increase the number of iterations, check the scale of the features or consider increasing regularisation. Duality gap: 3.999e+00, tolerance: 3.584e-03\n",
      "  model = cd_fast.enet_coordinate_descent(\n",
      "/Users/jgfaraco/miniconda3/lib/python3.12/site-packages/sklearn/linear_model/_coordinate_descent.py:695: ConvergenceWarning: Objective did not converge. You might want to increase the number of iterations, check the scale of the features or consider increasing regularisation. Duality gap: 3.872e+00, tolerance: 3.475e-03\n",
      "  model = cd_fast.enet_coordinate_descent(\n",
      "[I 2025-05-03 15:40:41,607] Trial 98 finished with value: -0.0040235126708206325 and parameters: {'alpha': 0.005973119860281263, 'l1_ratio': 0.263735317445744, 'fit_intercept': True, 'max_iter': 2493, 'use_scaler': True, 'poly_degree': 3, 'scaler_option': 'std'}. Best is trial 72 with value: -0.0032335357104508666.\n",
      "[I 2025-05-03 15:40:41,680] Trial 99 finished with value: -0.024290639236509086 and parameters: {'alpha': 3.800678588560611, 'l1_ratio': 0.6930315477191362, 'fit_intercept': True, 'max_iter': 1924, 'use_scaler': False, 'poly_degree': 1}. Best is trial 72 with value: -0.0032335357104508666.\n"
     ]
    }
   ],
   "source": [
    "study.optimize(objective, n_trials=100)"
   ]
  },
  {
   "cell_type": "code",
   "execution_count": 80,
   "metadata": {},
   "outputs": [
    {
     "data": {
      "application/vnd.plotly.v1+json": {
       "config": {
        "plotlyServerURL": "https://plot.ly"
       },
       "data": [
        {
         "mode": "markers",
         "name": "Objective Value",
         "type": "scatter",
         "x": [
          0,
          1,
          2,
          3,
          4,
          5,
          6,
          7,
          8,
          9,
          10,
          11,
          12,
          13,
          14,
          15,
          16,
          17,
          18,
          19,
          20,
          21,
          22,
          23,
          24,
          25,
          26,
          27,
          28,
          29,
          30,
          31,
          32,
          33,
          34,
          35,
          36,
          37,
          38,
          39,
          40,
          41,
          42,
          43,
          44,
          45,
          46,
          47,
          48,
          49,
          50,
          51,
          52,
          53,
          54,
          55,
          56,
          57,
          58,
          59,
          60,
          61,
          62,
          63,
          64,
          65,
          66,
          67,
          68,
          69,
          70,
          71,
          72,
          73,
          74,
          75,
          76,
          77,
          78,
          79,
          80,
          81,
          82,
          83,
          84,
          85,
          86,
          87,
          88,
          89,
          90,
          91,
          92,
          93,
          94,
          95,
          96,
          97,
          98,
          99
         ],
         "y": [
          -0.008174439361756,
          -0.019488022433032954,
          -0.00859219034958084,
          -0.006303178763804015,
          -0.008393278779760541,
          -0.003986473629726506,
          -0.01771037012223057,
          -0.008128377062837052,
          -0.004530247500003052,
          -0.01887988533559028,
          -0.00812763257427078,
          -0.018883274497980454,
          -0.0037969439197799368,
          -0.009831104812563867,
          -0.008193299199888062,
          -0.003418979340550453,
          -0.018879515901355,
          -0.008179387269162825,
          -0.008003165374328583,
          -0.008187827901023223,
          -6.870744201447051,
          -0.6109964588096366,
          -0.2557973115740081,
          -0.007865139284904527,
          -0.00850106511867153,
          -0.02188670543354742,
          -0.018886379679034136,
          -0.007578103872324793,
          -0.008796367744281055,
          -0.008680966036152747,
          -0.007848489071903343,
          -2.6338912663104166,
          -0.017751214757363184,
          -0.024290639236509086,
          -0.01829211850788414,
          -0.003788445896367118,
          -0.00812676509127926,
          -0.017721021250244298,
          -0.008777948209563041,
          -0.008109474965559315,
          -0.00806719093080428,
          -0.018879518195249266,
          -0.0034012429075328593,
          -0.005191950494466894,
          -0.008418033580824161,
          -0.007937774159344376,
          -0.7451839499641689,
          -0.00788046749145731,
          -0.004086053421073897,
          -0.004996594106636092,
          -0.009088443012383892,
          -0.004195066188557006,
          -0.008253436908225388,
          -0.003612163054765899,
          -0.007798502205213874,
          -0.0035937188863287848,
          -0.008273085466965513,
          -0.6700819103615369,
          -27.604321376178568,
          -0.008110778505201362,
          -0.0114396053928144,
          -0.009199573519492013,
          -0.004632443662283951,
          -10.237931172819984,
          -0.0077220146938909535,
          -0.014486331295581597,
          -0.008019982080494287,
          -0.005165029209850389,
          -0.003927234634655673,
          -0.008028257955233464,
          -0.00888288294495172,
          -0.009487317347864833,
          -0.0032335357104508666,
          -0.024290639236509086,
          -0.007973223437037547,
          -0.0035668418155084453,
          -0.004588423479686926,
          -0.005862580715181458,
          -0.008065847965872458,
          -0.008238388550755637,
          -0.008086870438623087,
          -0.007933464129095943,
          -0.011015259988720749,
          -0.017268638811301824,
          -0.007280178421829335,
          -0.007883750089037696,
          -0.007327486788749384,
          -0.005916146800899066,
          -0.00818963804532977,
          -0.00767483708105023,
          -0.008022062348662175,
          -0.008074644873990731,
          -0.03259479239671027,
          -0.008157733321022579,
          -0.004000090954909962,
          -0.006992864283360224,
          -0.003991063027125727,
          -0.00839187778431479,
          -0.0040235126708206325,
          -0.024290639236509086
         ]
        },
        {
         "mode": "lines",
         "name": "Best Value",
         "type": "scatter",
         "x": [
          0,
          1,
          2,
          3,
          4,
          5,
          6,
          7,
          8,
          9,
          10,
          11,
          12,
          13,
          14,
          15,
          16,
          17,
          18,
          19,
          20,
          21,
          22,
          23,
          24,
          25,
          26,
          27,
          28,
          29,
          30,
          31,
          32,
          33,
          34,
          35,
          36,
          37,
          38,
          39,
          40,
          41,
          42,
          43,
          44,
          45,
          46,
          47,
          48,
          49,
          50,
          51,
          52,
          53,
          54,
          55,
          56,
          57,
          58,
          59,
          60,
          61,
          62,
          63,
          64,
          65,
          66,
          67,
          68,
          69,
          70,
          71,
          72,
          73,
          74,
          75,
          76,
          77,
          78,
          79,
          80,
          81,
          82,
          83,
          84,
          85,
          86,
          87,
          88,
          89,
          90,
          91,
          92,
          93,
          94,
          95,
          96,
          97,
          98,
          99
         ],
         "y": [
          -0.008174439361756,
          -0.008174439361756,
          -0.008174439361756,
          -0.006303178763804015,
          -0.006303178763804015,
          -0.003986473629726506,
          -0.003986473629726506,
          -0.003986473629726506,
          -0.003986473629726506,
          -0.003986473629726506,
          -0.003986473629726506,
          -0.003986473629726506,
          -0.0037969439197799368,
          -0.0037969439197799368,
          -0.0037969439197799368,
          -0.003418979340550453,
          -0.003418979340550453,
          -0.003418979340550453,
          -0.003418979340550453,
          -0.003418979340550453,
          -0.003418979340550453,
          -0.003418979340550453,
          -0.003418979340550453,
          -0.003418979340550453,
          -0.003418979340550453,
          -0.003418979340550453,
          -0.003418979340550453,
          -0.003418979340550453,
          -0.003418979340550453,
          -0.003418979340550453,
          -0.003418979340550453,
          -0.003418979340550453,
          -0.003418979340550453,
          -0.003418979340550453,
          -0.003418979340550453,
          -0.003418979340550453,
          -0.003418979340550453,
          -0.003418979340550453,
          -0.003418979340550453,
          -0.003418979340550453,
          -0.003418979340550453,
          -0.003418979340550453,
          -0.0034012429075328593,
          -0.0034012429075328593,
          -0.0034012429075328593,
          -0.0034012429075328593,
          -0.0034012429075328593,
          -0.0034012429075328593,
          -0.0034012429075328593,
          -0.0034012429075328593,
          -0.0034012429075328593,
          -0.0034012429075328593,
          -0.0034012429075328593,
          -0.0034012429075328593,
          -0.0034012429075328593,
          -0.0034012429075328593,
          -0.0034012429075328593,
          -0.0034012429075328593,
          -0.0034012429075328593,
          -0.0034012429075328593,
          -0.0034012429075328593,
          -0.0034012429075328593,
          -0.0034012429075328593,
          -0.0034012429075328593,
          -0.0034012429075328593,
          -0.0034012429075328593,
          -0.0034012429075328593,
          -0.0034012429075328593,
          -0.0034012429075328593,
          -0.0034012429075328593,
          -0.0034012429075328593,
          -0.0034012429075328593,
          -0.0032335357104508666,
          -0.0032335357104508666,
          -0.0032335357104508666,
          -0.0032335357104508666,
          -0.0032335357104508666,
          -0.0032335357104508666,
          -0.0032335357104508666,
          -0.0032335357104508666,
          -0.0032335357104508666,
          -0.0032335357104508666,
          -0.0032335357104508666,
          -0.0032335357104508666,
          -0.0032335357104508666,
          -0.0032335357104508666,
          -0.0032335357104508666,
          -0.0032335357104508666,
          -0.0032335357104508666,
          -0.0032335357104508666,
          -0.0032335357104508666,
          -0.0032335357104508666,
          -0.0032335357104508666,
          -0.0032335357104508666,
          -0.0032335357104508666,
          -0.0032335357104508666,
          -0.0032335357104508666,
          -0.0032335357104508666,
          -0.0032335357104508666,
          -0.0032335357104508666
         ]
        },
        {
         "marker": {
          "color": "#cccccc"
         },
         "mode": "markers",
         "name": "Infeasible Trial",
         "showlegend": false,
         "type": "scatter",
         "x": [],
         "y": []
        }
       ],
       "layout": {
        "template": {
         "data": {
          "bar": [
           {
            "error_x": {
             "color": "#2a3f5f"
            },
            "error_y": {
             "color": "#2a3f5f"
            },
            "marker": {
             "line": {
              "color": "#E5ECF6",
              "width": 0.5
             },
             "pattern": {
              "fillmode": "overlay",
              "size": 10,
              "solidity": 0.2
             }
            },
            "type": "bar"
           }
          ],
          "barpolar": [
           {
            "marker": {
             "line": {
              "color": "#E5ECF6",
              "width": 0.5
             },
             "pattern": {
              "fillmode": "overlay",
              "size": 10,
              "solidity": 0.2
             }
            },
            "type": "barpolar"
           }
          ],
          "carpet": [
           {
            "aaxis": {
             "endlinecolor": "#2a3f5f",
             "gridcolor": "white",
             "linecolor": "white",
             "minorgridcolor": "white",
             "startlinecolor": "#2a3f5f"
            },
            "baxis": {
             "endlinecolor": "#2a3f5f",
             "gridcolor": "white",
             "linecolor": "white",
             "minorgridcolor": "white",
             "startlinecolor": "#2a3f5f"
            },
            "type": "carpet"
           }
          ],
          "choropleth": [
           {
            "colorbar": {
             "outlinewidth": 0,
             "ticks": ""
            },
            "type": "choropleth"
           }
          ],
          "contour": [
           {
            "colorbar": {
             "outlinewidth": 0,
             "ticks": ""
            },
            "colorscale": [
             [
              0,
              "#0d0887"
             ],
             [
              0.1111111111111111,
              "#46039f"
             ],
             [
              0.2222222222222222,
              "#7201a8"
             ],
             [
              0.3333333333333333,
              "#9c179e"
             ],
             [
              0.4444444444444444,
              "#bd3786"
             ],
             [
              0.5555555555555556,
              "#d8576b"
             ],
             [
              0.6666666666666666,
              "#ed7953"
             ],
             [
              0.7777777777777778,
              "#fb9f3a"
             ],
             [
              0.8888888888888888,
              "#fdca26"
             ],
             [
              1,
              "#f0f921"
             ]
            ],
            "type": "contour"
           }
          ],
          "contourcarpet": [
           {
            "colorbar": {
             "outlinewidth": 0,
             "ticks": ""
            },
            "type": "contourcarpet"
           }
          ],
          "heatmap": [
           {
            "colorbar": {
             "outlinewidth": 0,
             "ticks": ""
            },
            "colorscale": [
             [
              0,
              "#0d0887"
             ],
             [
              0.1111111111111111,
              "#46039f"
             ],
             [
              0.2222222222222222,
              "#7201a8"
             ],
             [
              0.3333333333333333,
              "#9c179e"
             ],
             [
              0.4444444444444444,
              "#bd3786"
             ],
             [
              0.5555555555555556,
              "#d8576b"
             ],
             [
              0.6666666666666666,
              "#ed7953"
             ],
             [
              0.7777777777777778,
              "#fb9f3a"
             ],
             [
              0.8888888888888888,
              "#fdca26"
             ],
             [
              1,
              "#f0f921"
             ]
            ],
            "type": "heatmap"
           }
          ],
          "histogram": [
           {
            "marker": {
             "pattern": {
              "fillmode": "overlay",
              "size": 10,
              "solidity": 0.2
             }
            },
            "type": "histogram"
           }
          ],
          "histogram2d": [
           {
            "colorbar": {
             "outlinewidth": 0,
             "ticks": ""
            },
            "colorscale": [
             [
              0,
              "#0d0887"
             ],
             [
              0.1111111111111111,
              "#46039f"
             ],
             [
              0.2222222222222222,
              "#7201a8"
             ],
             [
              0.3333333333333333,
              "#9c179e"
             ],
             [
              0.4444444444444444,
              "#bd3786"
             ],
             [
              0.5555555555555556,
              "#d8576b"
             ],
             [
              0.6666666666666666,
              "#ed7953"
             ],
             [
              0.7777777777777778,
              "#fb9f3a"
             ],
             [
              0.8888888888888888,
              "#fdca26"
             ],
             [
              1,
              "#f0f921"
             ]
            ],
            "type": "histogram2d"
           }
          ],
          "histogram2dcontour": [
           {
            "colorbar": {
             "outlinewidth": 0,
             "ticks": ""
            },
            "colorscale": [
             [
              0,
              "#0d0887"
             ],
             [
              0.1111111111111111,
              "#46039f"
             ],
             [
              0.2222222222222222,
              "#7201a8"
             ],
             [
              0.3333333333333333,
              "#9c179e"
             ],
             [
              0.4444444444444444,
              "#bd3786"
             ],
             [
              0.5555555555555556,
              "#d8576b"
             ],
             [
              0.6666666666666666,
              "#ed7953"
             ],
             [
              0.7777777777777778,
              "#fb9f3a"
             ],
             [
              0.8888888888888888,
              "#fdca26"
             ],
             [
              1,
              "#f0f921"
             ]
            ],
            "type": "histogram2dcontour"
           }
          ],
          "mesh3d": [
           {
            "colorbar": {
             "outlinewidth": 0,
             "ticks": ""
            },
            "type": "mesh3d"
           }
          ],
          "parcoords": [
           {
            "line": {
             "colorbar": {
              "outlinewidth": 0,
              "ticks": ""
             }
            },
            "type": "parcoords"
           }
          ],
          "pie": [
           {
            "automargin": true,
            "type": "pie"
           }
          ],
          "scatter": [
           {
            "fillpattern": {
             "fillmode": "overlay",
             "size": 10,
             "solidity": 0.2
            },
            "type": "scatter"
           }
          ],
          "scatter3d": [
           {
            "line": {
             "colorbar": {
              "outlinewidth": 0,
              "ticks": ""
             }
            },
            "marker": {
             "colorbar": {
              "outlinewidth": 0,
              "ticks": ""
             }
            },
            "type": "scatter3d"
           }
          ],
          "scattercarpet": [
           {
            "marker": {
             "colorbar": {
              "outlinewidth": 0,
              "ticks": ""
             }
            },
            "type": "scattercarpet"
           }
          ],
          "scattergeo": [
           {
            "marker": {
             "colorbar": {
              "outlinewidth": 0,
              "ticks": ""
             }
            },
            "type": "scattergeo"
           }
          ],
          "scattergl": [
           {
            "marker": {
             "colorbar": {
              "outlinewidth": 0,
              "ticks": ""
             }
            },
            "type": "scattergl"
           }
          ],
          "scattermap": [
           {
            "marker": {
             "colorbar": {
              "outlinewidth": 0,
              "ticks": ""
             }
            },
            "type": "scattermap"
           }
          ],
          "scattermapbox": [
           {
            "marker": {
             "colorbar": {
              "outlinewidth": 0,
              "ticks": ""
             }
            },
            "type": "scattermapbox"
           }
          ],
          "scatterpolar": [
           {
            "marker": {
             "colorbar": {
              "outlinewidth": 0,
              "ticks": ""
             }
            },
            "type": "scatterpolar"
           }
          ],
          "scatterpolargl": [
           {
            "marker": {
             "colorbar": {
              "outlinewidth": 0,
              "ticks": ""
             }
            },
            "type": "scatterpolargl"
           }
          ],
          "scatterternary": [
           {
            "marker": {
             "colorbar": {
              "outlinewidth": 0,
              "ticks": ""
             }
            },
            "type": "scatterternary"
           }
          ],
          "surface": [
           {
            "colorbar": {
             "outlinewidth": 0,
             "ticks": ""
            },
            "colorscale": [
             [
              0,
              "#0d0887"
             ],
             [
              0.1111111111111111,
              "#46039f"
             ],
             [
              0.2222222222222222,
              "#7201a8"
             ],
             [
              0.3333333333333333,
              "#9c179e"
             ],
             [
              0.4444444444444444,
              "#bd3786"
             ],
             [
              0.5555555555555556,
              "#d8576b"
             ],
             [
              0.6666666666666666,
              "#ed7953"
             ],
             [
              0.7777777777777778,
              "#fb9f3a"
             ],
             [
              0.8888888888888888,
              "#fdca26"
             ],
             [
              1,
              "#f0f921"
             ]
            ],
            "type": "surface"
           }
          ],
          "table": [
           {
            "cells": {
             "fill": {
              "color": "#EBF0F8"
             },
             "line": {
              "color": "white"
             }
            },
            "header": {
             "fill": {
              "color": "#C8D4E3"
             },
             "line": {
              "color": "white"
             }
            },
            "type": "table"
           }
          ]
         },
         "layout": {
          "annotationdefaults": {
           "arrowcolor": "#2a3f5f",
           "arrowhead": 0,
           "arrowwidth": 1
          },
          "autotypenumbers": "strict",
          "coloraxis": {
           "colorbar": {
            "outlinewidth": 0,
            "ticks": ""
           }
          },
          "colorscale": {
           "diverging": [
            [
             0,
             "#8e0152"
            ],
            [
             0.1,
             "#c51b7d"
            ],
            [
             0.2,
             "#de77ae"
            ],
            [
             0.3,
             "#f1b6da"
            ],
            [
             0.4,
             "#fde0ef"
            ],
            [
             0.5,
             "#f7f7f7"
            ],
            [
             0.6,
             "#e6f5d0"
            ],
            [
             0.7,
             "#b8e186"
            ],
            [
             0.8,
             "#7fbc41"
            ],
            [
             0.9,
             "#4d9221"
            ],
            [
             1,
             "#276419"
            ]
           ],
           "sequential": [
            [
             0,
             "#0d0887"
            ],
            [
             0.1111111111111111,
             "#46039f"
            ],
            [
             0.2222222222222222,
             "#7201a8"
            ],
            [
             0.3333333333333333,
             "#9c179e"
            ],
            [
             0.4444444444444444,
             "#bd3786"
            ],
            [
             0.5555555555555556,
             "#d8576b"
            ],
            [
             0.6666666666666666,
             "#ed7953"
            ],
            [
             0.7777777777777778,
             "#fb9f3a"
            ],
            [
             0.8888888888888888,
             "#fdca26"
            ],
            [
             1,
             "#f0f921"
            ]
           ],
           "sequentialminus": [
            [
             0,
             "#0d0887"
            ],
            [
             0.1111111111111111,
             "#46039f"
            ],
            [
             0.2222222222222222,
             "#7201a8"
            ],
            [
             0.3333333333333333,
             "#9c179e"
            ],
            [
             0.4444444444444444,
             "#bd3786"
            ],
            [
             0.5555555555555556,
             "#d8576b"
            ],
            [
             0.6666666666666666,
             "#ed7953"
            ],
            [
             0.7777777777777778,
             "#fb9f3a"
            ],
            [
             0.8888888888888888,
             "#fdca26"
            ],
            [
             1,
             "#f0f921"
            ]
           ]
          },
          "colorway": [
           "#636efa",
           "#EF553B",
           "#00cc96",
           "#ab63fa",
           "#FFA15A",
           "#19d3f3",
           "#FF6692",
           "#B6E880",
           "#FF97FF",
           "#FECB52"
          ],
          "font": {
           "color": "#2a3f5f"
          },
          "geo": {
           "bgcolor": "white",
           "lakecolor": "white",
           "landcolor": "#E5ECF6",
           "showlakes": true,
           "showland": true,
           "subunitcolor": "white"
          },
          "hoverlabel": {
           "align": "left"
          },
          "hovermode": "closest",
          "mapbox": {
           "style": "light"
          },
          "paper_bgcolor": "white",
          "plot_bgcolor": "#E5ECF6",
          "polar": {
           "angularaxis": {
            "gridcolor": "white",
            "linecolor": "white",
            "ticks": ""
           },
           "bgcolor": "#E5ECF6",
           "radialaxis": {
            "gridcolor": "white",
            "linecolor": "white",
            "ticks": ""
           }
          },
          "scene": {
           "xaxis": {
            "backgroundcolor": "#E5ECF6",
            "gridcolor": "white",
            "gridwidth": 2,
            "linecolor": "white",
            "showbackground": true,
            "ticks": "",
            "zerolinecolor": "white"
           },
           "yaxis": {
            "backgroundcolor": "#E5ECF6",
            "gridcolor": "white",
            "gridwidth": 2,
            "linecolor": "white",
            "showbackground": true,
            "ticks": "",
            "zerolinecolor": "white"
           },
           "zaxis": {
            "backgroundcolor": "#E5ECF6",
            "gridcolor": "white",
            "gridwidth": 2,
            "linecolor": "white",
            "showbackground": true,
            "ticks": "",
            "zerolinecolor": "white"
           }
          },
          "shapedefaults": {
           "line": {
            "color": "#2a3f5f"
           }
          },
          "ternary": {
           "aaxis": {
            "gridcolor": "white",
            "linecolor": "white",
            "ticks": ""
           },
           "baxis": {
            "gridcolor": "white",
            "linecolor": "white",
            "ticks": ""
           },
           "bgcolor": "#E5ECF6",
           "caxis": {
            "gridcolor": "white",
            "linecolor": "white",
            "ticks": ""
           }
          },
          "title": {
           "x": 0.05
          },
          "xaxis": {
           "automargin": true,
           "gridcolor": "white",
           "linecolor": "white",
           "ticks": "",
           "title": {
            "standoff": 15
           },
           "zerolinecolor": "white",
           "zerolinewidth": 2
          },
          "yaxis": {
           "automargin": true,
           "gridcolor": "white",
           "linecolor": "white",
           "ticks": "",
           "title": {
            "standoff": 15
           },
           "zerolinecolor": "white",
           "zerolinewidth": 2
          }
         }
        },
        "title": {
         "text": "Optimization History Plot"
        },
        "xaxis": {
         "title": {
          "text": "Trial"
         }
        },
        "yaxis": {
         "title": {
          "text": "Objective Value"
         }
        }
       }
      }
     },
     "metadata": {},
     "output_type": "display_data"
    }
   ],
   "source": [
    "optuna.visualization.plot_optimization_history(study)"
   ]
  },
  {
   "cell_type": "code",
   "execution_count": 81,
   "metadata": {},
   "outputs": [
    {
     "name": "stdout",
     "output_type": "stream",
     "text": [
      "Best Hyperparameters: {'alpha': 0.0012599577693434842, 'l1_ratio': 0.3898712490248605, 'fit_intercept': True, 'max_iter': 1479, 'use_scaler': False, 'poly_degree': 4}\n"
     ]
    }
   ],
   "source": [
    "best_params = study.best_params \n",
    "print(f\"Best Hyperparameters: {best_params}\")"
   ]
  },
  {
   "cell_type": "code",
   "execution_count": 83,
   "metadata": {},
   "outputs": [],
   "source": [
    "from optuna.visualization import *\n",
    "import plotly\n",
    "import optuna\n",
    "import nbformat "
   ]
  },
  {
   "cell_type": "code",
   "execution_count": 84,
   "metadata": {},
   "outputs": [
    {
     "data": {
      "application/vnd.plotly.v1+json": {
       "config": {
        "plotlyServerURL": "https://plot.ly"
       },
       "data": [
        {
         "marker": {
          "color": [
           0,
           1,
           2,
           3,
           4,
           5,
           6,
           7,
           8,
           9,
           10,
           11,
           12,
           13,
           14,
           15,
           16,
           17,
           18,
           19,
           20,
           21,
           22,
           23,
           24,
           25,
           26,
           27,
           28,
           29,
           30,
           31,
           32,
           33,
           34,
           35,
           36,
           37,
           38,
           39,
           40,
           41,
           42,
           43,
           44,
           45,
           46,
           47,
           48,
           49,
           50,
           51,
           52,
           53,
           54,
           55,
           56,
           57,
           58,
           59,
           60,
           61,
           62,
           63,
           64,
           65,
           66,
           67,
           68,
           69,
           70,
           71,
           72,
           73,
           74,
           75,
           76,
           77,
           78,
           79,
           80,
           81,
           82,
           83,
           84,
           85,
           86,
           87,
           88,
           89,
           90,
           91,
           92,
           93,
           94,
           95,
           96,
           97,
           98,
           99
          ],
          "colorbar": {
           "title": {
            "text": "Trial"
           },
           "x": 1,
           "xpad": 40
          },
          "colorscale": [
           [
            0,
            "rgb(247,251,255)"
           ],
           [
            0.125,
            "rgb(222,235,247)"
           ],
           [
            0.25,
            "rgb(198,219,239)"
           ],
           [
            0.375,
            "rgb(158,202,225)"
           ],
           [
            0.5,
            "rgb(107,174,214)"
           ],
           [
            0.625,
            "rgb(66,146,198)"
           ],
           [
            0.75,
            "rgb(33,113,181)"
           ],
           [
            0.875,
            "rgb(8,81,156)"
           ],
           [
            1,
            "rgb(8,48,107)"
           ]
          ],
          "line": {
           "color": "Grey",
           "width": 0.5
          },
          "showscale": true
         },
         "mode": "markers",
         "name": "Feasible Trial",
         "showlegend": false,
         "type": "scatter",
         "x": [
          0.07459343285726547,
          1.0129197956845737,
          0.033205591037519584,
          0.009962513222055111,
          67.32248920775338,
          0.0014857392806279248,
          49.830438374949104,
          0.08777815504719658,
          0.0023591373063477136,
          7.183758655813994,
          0.03588488911386258,
          6.366859160799435,
          0.0014359718569878096,
          0.028103296447636077,
          29.02652141826394,
          0.0010833297073737749,
          0.06578820119123178,
          1.1164047352793705,
          84.77196898302783,
          1.4711215379121978,
          2.4424282201158256,
          0.050737814374886406,
          0.0029208808341780897,
          1.6224010950061378,
          0.5542030950268271,
          1.9411739809629633,
          9.420121790275633,
          1.6879573909049668,
          0.13833139021965044,
          47.94837252202717,
          24.370551632385435,
          0.3603396018164125,
          0.7787547434272366,
          12.971876440863593,
          0.5048653998722948,
          0.0013389171890458426,
          0.5573568249598129,
          0.1253142075607501,
          18.936639872354522,
          0.0982932448006971,
          1.965477869022202,
          0.19555298629314807,
          0.0031907296414409162,
          0.0038978411671571614,
          5.663354641950937,
          19.591322745978662,
          0.039833457575901975,
          1.4427333163005203,
          0.0019399645775772377,
          0.0026335042924962083,
          11.587715829876235,
          0.00359738907604862,
          5.3730934790674265,
          0.0011501973785501985,
          70.22838447830075,
          0.0016874538403502289,
          0.20820541704278972,
          0.035288896780107666,
          46.093789776763856,
          70.72484251478394,
          11.601256944557477,
          0.17894545674847273,
          0.003696476597387663,
          24.169519319206778,
          0.05661581898267356,
          20.50305344346676,
          1.4689407256107627,
          0.008117091133892166,
          0.007674541190879919,
          1.3788021357516675,
          0.07118041471054572,
          3.6876350096203034,
          0.0012599577693434842,
          8.827875365479903,
          0.026234906999095586,
          0.0032278427050432138,
          0.0025186552636979184,
          0.007152171783370562,
          0.3451849826872351,
          0.46020058113905465,
          0.01875872314533727,
          14.226466283632076,
          0.7453591134153514,
          0.06225187269045146,
          0.014489836190209094,
          1.3757523564319387,
          0.017476147401057962,
          0.0035740340421127536,
          2.9494580414152707,
          0.20418743718729587,
          45.77110660026056,
          46.97156971390483,
          22.360515435267164,
          0.4863825828994062,
          0.005061568304359487,
          0.007765686146138311,
          0.0021646235893912963,
          0.6671226198007874,
          0.005973119860281263,
          3.800678588560611
         ],
         "xaxis": "x",
         "y": [
          -0.008174439361756,
          -0.019488022433032954,
          -0.00859219034958084,
          -0.006303178763804015,
          -0.008393278779760541,
          -0.003986473629726506,
          -0.01771037012223057,
          -0.008128377062837052,
          -0.004530247500003052,
          -0.01887988533559028,
          -0.00812763257427078,
          -0.018883274497980454,
          -0.0037969439197799368,
          -0.009831104812563867,
          -0.008193299199888062,
          -0.003418979340550453,
          -0.018879515901355,
          -0.008179387269162825,
          -0.008003165374328583,
          -0.008187827901023223,
          -6.870744201447051,
          -0.6109964588096366,
          -0.2557973115740081,
          -0.007865139284904527,
          -0.00850106511867153,
          -0.02188670543354742,
          -0.018886379679034136,
          -0.007578103872324793,
          -0.008796367744281055,
          -0.008680966036152747,
          -0.007848489071903343,
          -2.6338912663104166,
          -0.017751214757363184,
          -0.024290639236509086,
          -0.01829211850788414,
          -0.003788445896367118,
          -0.00812676509127926,
          -0.017721021250244298,
          -0.008777948209563041,
          -0.008109474965559315,
          -0.00806719093080428,
          -0.018879518195249266,
          -0.0034012429075328593,
          -0.005191950494466894,
          -0.008418033580824161,
          -0.007937774159344376,
          -0.7451839499641689,
          -0.00788046749145731,
          -0.004086053421073897,
          -0.004996594106636092,
          -0.009088443012383892,
          -0.004195066188557006,
          -0.008253436908225388,
          -0.003612163054765899,
          -0.007798502205213874,
          -0.0035937188863287848,
          -0.008273085466965513,
          -0.6700819103615369,
          -27.604321376178568,
          -0.008110778505201362,
          -0.0114396053928144,
          -0.009199573519492013,
          -0.004632443662283951,
          -10.237931172819984,
          -0.0077220146938909535,
          -0.014486331295581597,
          -0.008019982080494287,
          -0.005165029209850389,
          -0.003927234634655673,
          -0.008028257955233464,
          -0.00888288294495172,
          -0.009487317347864833,
          -0.0032335357104508666,
          -0.024290639236509086,
          -0.007973223437037547,
          -0.0035668418155084453,
          -0.004588423479686926,
          -0.005862580715181458,
          -0.008065847965872458,
          -0.008238388550755637,
          -0.008086870438623087,
          -0.007933464129095943,
          -0.011015259988720749,
          -0.017268638811301824,
          -0.007280178421829335,
          -0.007883750089037696,
          -0.007327486788749384,
          -0.005916146800899066,
          -0.00818963804532977,
          -0.00767483708105023,
          -0.008022062348662175,
          -0.008074644873990731,
          -0.03259479239671027,
          -0.008157733321022579,
          -0.004000090954909962,
          -0.006992864283360224,
          -0.003991063027125727,
          -0.00839187778431479,
          -0.0040235126708206325,
          -0.024290639236509086
         ],
         "yaxis": "y"
        },
        {
         "marker": {
          "color": [
           0,
           1,
           2,
           3,
           4,
           5,
           6,
           7,
           8,
           9,
           10,
           11,
           12,
           13,
           14,
           15,
           16,
           17,
           18,
           19,
           20,
           21,
           22,
           23,
           24,
           25,
           26,
           27,
           28,
           29,
           30,
           31,
           32,
           33,
           34,
           35,
           36,
           37,
           38,
           39,
           40,
           41,
           42,
           43,
           44,
           45,
           46,
           47,
           48,
           49,
           50,
           51,
           52,
           53,
           54,
           55,
           56,
           57,
           58,
           59,
           60,
           61,
           62,
           63,
           64,
           65,
           66,
           67,
           68,
           69,
           70,
           71,
           72,
           73,
           74,
           75,
           76,
           77,
           78,
           79,
           80,
           81,
           82,
           83,
           84,
           85,
           86,
           87,
           88,
           89,
           90,
           91,
           92,
           93,
           94,
           95,
           96,
           97,
           98,
           99
          ],
          "colorbar": {
           "title": {
            "text": "Trial"
           },
           "x": 1,
           "xpad": 40
          },
          "colorscale": [
           [
            0,
            "rgb(247,251,255)"
           ],
           [
            0.125,
            "rgb(222,235,247)"
           ],
           [
            0.25,
            "rgb(198,219,239)"
           ],
           [
            0.375,
            "rgb(158,202,225)"
           ],
           [
            0.5,
            "rgb(107,174,214)"
           ],
           [
            0.625,
            "rgb(66,146,198)"
           ],
           [
            0.75,
            "rgb(33,113,181)"
           ],
           [
            0.875,
            "rgb(8,81,156)"
           ],
           [
            1,
            "rgb(8,48,107)"
           ]
          ],
          "line": {
           "color": "Grey",
           "width": 0.5
          },
          "showscale": false
         },
         "mode": "markers",
         "name": "Feasible Trial",
         "showlegend": false,
         "type": "scatter",
         "x": [
          false,
          true,
          false,
          false,
          false,
          true,
          true,
          false,
          false,
          false,
          false,
          false,
          true,
          false,
          true,
          false,
          false,
          true,
          true,
          true,
          false,
          false,
          false,
          true,
          false,
          true,
          false,
          true,
          false,
          false,
          true,
          false,
          true,
          true,
          true,
          false,
          false,
          true,
          false,
          false,
          true,
          false,
          true,
          true,
          false,
          true,
          false,
          true,
          true,
          true,
          false,
          true,
          false,
          true,
          true,
          false,
          false,
          false,
          false,
          false,
          false,
          false,
          true,
          false,
          true,
          true,
          true,
          false,
          true,
          true,
          false,
          true,
          true,
          true,
          false,
          false,
          true,
          false,
          true,
          false,
          false,
          true,
          true,
          true,
          true,
          true,
          true,
          true,
          true,
          true,
          true,
          false,
          false,
          true,
          false,
          true,
          true,
          false,
          true,
          true
         ],
         "xaxis": "x2",
         "y": [
          -0.008174439361756,
          -0.019488022433032954,
          -0.00859219034958084,
          -0.006303178763804015,
          -0.008393278779760541,
          -0.003986473629726506,
          -0.01771037012223057,
          -0.008128377062837052,
          -0.004530247500003052,
          -0.01887988533559028,
          -0.00812763257427078,
          -0.018883274497980454,
          -0.0037969439197799368,
          -0.009831104812563867,
          -0.008193299199888062,
          -0.003418979340550453,
          -0.018879515901355,
          -0.008179387269162825,
          -0.008003165374328583,
          -0.008187827901023223,
          -6.870744201447051,
          -0.6109964588096366,
          -0.2557973115740081,
          -0.007865139284904527,
          -0.00850106511867153,
          -0.02188670543354742,
          -0.018886379679034136,
          -0.007578103872324793,
          -0.008796367744281055,
          -0.008680966036152747,
          -0.007848489071903343,
          -2.6338912663104166,
          -0.017751214757363184,
          -0.024290639236509086,
          -0.01829211850788414,
          -0.003788445896367118,
          -0.00812676509127926,
          -0.017721021250244298,
          -0.008777948209563041,
          -0.008109474965559315,
          -0.00806719093080428,
          -0.018879518195249266,
          -0.0034012429075328593,
          -0.005191950494466894,
          -0.008418033580824161,
          -0.007937774159344376,
          -0.7451839499641689,
          -0.00788046749145731,
          -0.004086053421073897,
          -0.004996594106636092,
          -0.009088443012383892,
          -0.004195066188557006,
          -0.008253436908225388,
          -0.003612163054765899,
          -0.007798502205213874,
          -0.0035937188863287848,
          -0.008273085466965513,
          -0.6700819103615369,
          -27.604321376178568,
          -0.008110778505201362,
          -0.0114396053928144,
          -0.009199573519492013,
          -0.004632443662283951,
          -10.237931172819984,
          -0.0077220146938909535,
          -0.014486331295581597,
          -0.008019982080494287,
          -0.005165029209850389,
          -0.003927234634655673,
          -0.008028257955233464,
          -0.00888288294495172,
          -0.009487317347864833,
          -0.0032335357104508666,
          -0.024290639236509086,
          -0.007973223437037547,
          -0.0035668418155084453,
          -0.004588423479686926,
          -0.005862580715181458,
          -0.008065847965872458,
          -0.008238388550755637,
          -0.008086870438623087,
          -0.007933464129095943,
          -0.011015259988720749,
          -0.017268638811301824,
          -0.007280178421829335,
          -0.007883750089037696,
          -0.007327486788749384,
          -0.005916146800899066,
          -0.00818963804532977,
          -0.00767483708105023,
          -0.008022062348662175,
          -0.008074644873990731,
          -0.03259479239671027,
          -0.008157733321022579,
          -0.004000090954909962,
          -0.006992864283360224,
          -0.003991063027125727,
          -0.00839187778431479,
          -0.0040235126708206325,
          -0.024290639236509086
         ],
         "yaxis": "y2"
        },
        {
         "marker": {
          "color": [
           0,
           1,
           2,
           3,
           4,
           5,
           6,
           7,
           8,
           9,
           10,
           11,
           12,
           13,
           14,
           15,
           16,
           17,
           18,
           19,
           20,
           21,
           22,
           23,
           24,
           25,
           26,
           27,
           28,
           29,
           30,
           31,
           32,
           33,
           34,
           35,
           36,
           37,
           38,
           39,
           40,
           41,
           42,
           43,
           44,
           45,
           46,
           47,
           48,
           49,
           50,
           51,
           52,
           53,
           54,
           55,
           56,
           57,
           58,
           59,
           60,
           61,
           62,
           63,
           64,
           65,
           66,
           67,
           68,
           69,
           70,
           71,
           72,
           73,
           74,
           75,
           76,
           77,
           78,
           79,
           80,
           81,
           82,
           83,
           84,
           85,
           86,
           87,
           88,
           89,
           90,
           91,
           92,
           93,
           94,
           95,
           96,
           97,
           98,
           99
          ],
          "colorbar": {
           "title": {
            "text": "Trial"
           },
           "x": 1,
           "xpad": 40
          },
          "colorscale": [
           [
            0,
            "rgb(247,251,255)"
           ],
           [
            0.125,
            "rgb(222,235,247)"
           ],
           [
            0.25,
            "rgb(198,219,239)"
           ],
           [
            0.375,
            "rgb(158,202,225)"
           ],
           [
            0.5,
            "rgb(107,174,214)"
           ],
           [
            0.625,
            "rgb(66,146,198)"
           ],
           [
            0.75,
            "rgb(33,113,181)"
           ],
           [
            0.875,
            "rgb(8,81,156)"
           ],
           [
            1,
            "rgb(8,48,107)"
           ]
          ],
          "line": {
           "color": "Grey",
           "width": 0.5
          },
          "showscale": false
         },
         "mode": "markers",
         "name": "Feasible Trial",
         "showlegend": false,
         "type": "scatter",
         "x": [
          0.9556428757689246,
          0.737265320016441,
          0.5722807884690141,
          0.5628109945722505,
          0.827557613304815,
          0.9183883618709039,
          0.905344615384884,
          0.34421412859650635,
          0.9881982429404655,
          0.16664018656068133,
          0.39266498982407233,
          0.6051494778125466,
          0.6727693701374023,
          0.24509915852860398,
          0.5854080177240857,
          0.5596725723198092,
          0.9746038744488646,
          0.5524111209059753,
          0.3178497443603504,
          0.5821972156672827,
          0.11492904603507054,
          0.20212616911653017,
          0.9074941821579942,
          0.17572596849554395,
          0.722705677923424,
          0.6114777430019245,
          0.5523733837946729,
          0.25939961146634405,
          0.9699893371393027,
          0.7264268170074757,
          0.766691755978784,
          0.5513646652184797,
          0.13234804641706788,
          0.4241715772701366,
          0.6736869113483859,
          0.9663835732101326,
          0.7431363304300561,
          0.32295789055104174,
          0.7332920734420213,
          0.6542650882469948,
          0.24664098437328674,
          0.5910551103843414,
          0.11639964308639476,
          0.7270634488277355,
          0.8261512653405376,
          0.4860946246375165,
          0.9059709056465804,
          0.5036009697804879,
          0.594575994091362,
          0.730872218313208,
          0.9525237196454729,
          0.5433625938617732,
          0.6250318885874436,
          0.9728909440368751,
          0.570788059753134,
          0.3528668706330073,
          0.41801700522344754,
          0.8324155177362539,
          0.8794575005503675,
          0.8579070308221378,
          0.9997459059575176,
          0.2162434736363455,
          0.7044158760335196,
          0.46313457959115734,
          0.6309259181691698,
          0.954568561291878,
          0.3161310569003738,
          0.4111005549914769,
          0.17983228038135005,
          0.1735831287539847,
          0.5360706866719193,
          0.9056861539184794,
          0.3898712490248605,
          0.5485979790361516,
          0.4267740667587716,
          0.23757322526589883,
          0.5720602506132292,
          0.7017788979319879,
          0.31816875917357224,
          0.14664118314018423,
          0.7133524500015364,
          0.9685242195998613,
          0.8576458990824449,
          0.8894804867317975,
          0.9096171159471117,
          0.40141505319137755,
          0.7695516633154093,
          0.8618070625610664,
          0.5884519990128366,
          0.9525550056506338,
          0.6086198652302881,
          0.9330116616160987,
          0.5669542514134649,
          0.9278700547714844,
          0.258748287855601,
          0.9649632857225097,
          0.7749644233592601,
          0.15913777548551714,
          0.263735317445744,
          0.6930315477191362
         ],
         "xaxis": "x3",
         "y": [
          -0.008174439361756,
          -0.019488022433032954,
          -0.00859219034958084,
          -0.006303178763804015,
          -0.008393278779760541,
          -0.003986473629726506,
          -0.01771037012223057,
          -0.008128377062837052,
          -0.004530247500003052,
          -0.01887988533559028,
          -0.00812763257427078,
          -0.018883274497980454,
          -0.0037969439197799368,
          -0.009831104812563867,
          -0.008193299199888062,
          -0.003418979340550453,
          -0.018879515901355,
          -0.008179387269162825,
          -0.008003165374328583,
          -0.008187827901023223,
          -6.870744201447051,
          -0.6109964588096366,
          -0.2557973115740081,
          -0.007865139284904527,
          -0.00850106511867153,
          -0.02188670543354742,
          -0.018886379679034136,
          -0.007578103872324793,
          -0.008796367744281055,
          -0.008680966036152747,
          -0.007848489071903343,
          -2.6338912663104166,
          -0.017751214757363184,
          -0.024290639236509086,
          -0.01829211850788414,
          -0.003788445896367118,
          -0.00812676509127926,
          -0.017721021250244298,
          -0.008777948209563041,
          -0.008109474965559315,
          -0.00806719093080428,
          -0.018879518195249266,
          -0.0034012429075328593,
          -0.005191950494466894,
          -0.008418033580824161,
          -0.007937774159344376,
          -0.7451839499641689,
          -0.00788046749145731,
          -0.004086053421073897,
          -0.004996594106636092,
          -0.009088443012383892,
          -0.004195066188557006,
          -0.008253436908225388,
          -0.003612163054765899,
          -0.007798502205213874,
          -0.0035937188863287848,
          -0.008273085466965513,
          -0.6700819103615369,
          -27.604321376178568,
          -0.008110778505201362,
          -0.0114396053928144,
          -0.009199573519492013,
          -0.004632443662283951,
          -10.237931172819984,
          -0.0077220146938909535,
          -0.014486331295581597,
          -0.008019982080494287,
          -0.005165029209850389,
          -0.003927234634655673,
          -0.008028257955233464,
          -0.00888288294495172,
          -0.009487317347864833,
          -0.0032335357104508666,
          -0.024290639236509086,
          -0.007973223437037547,
          -0.0035668418155084453,
          -0.004588423479686926,
          -0.005862580715181458,
          -0.008065847965872458,
          -0.008238388550755637,
          -0.008086870438623087,
          -0.007933464129095943,
          -0.011015259988720749,
          -0.017268638811301824,
          -0.007280178421829335,
          -0.007883750089037696,
          -0.007327486788749384,
          -0.005916146800899066,
          -0.00818963804532977,
          -0.00767483708105023,
          -0.008022062348662175,
          -0.008074644873990731,
          -0.03259479239671027,
          -0.008157733321022579,
          -0.004000090954909962,
          -0.006992864283360224,
          -0.003991063027125727,
          -0.00839187778431479,
          -0.0040235126708206325,
          -0.024290639236509086
         ],
         "yaxis": "y3"
        },
        {
         "marker": {
          "color": [
           0,
           1,
           2,
           3,
           4,
           5,
           6,
           7,
           8,
           9,
           10,
           11,
           12,
           13,
           14,
           15,
           16,
           17,
           18,
           19,
           20,
           21,
           22,
           23,
           24,
           25,
           26,
           27,
           28,
           29,
           30,
           31,
           32,
           33,
           34,
           35,
           36,
           37,
           38,
           39,
           40,
           41,
           42,
           43,
           44,
           45,
           46,
           47,
           48,
           49,
           50,
           51,
           52,
           53,
           54,
           55,
           56,
           57,
           58,
           59,
           60,
           61,
           62,
           63,
           64,
           65,
           66,
           67,
           68,
           69,
           70,
           71,
           72,
           73,
           74,
           75,
           76,
           77,
           78,
           79,
           80,
           81,
           82,
           83,
           84,
           85,
           86,
           87,
           88,
           89,
           90,
           91,
           92,
           93,
           94,
           95,
           96,
           97,
           98,
           99
          ],
          "colorbar": {
           "title": {
            "text": "Trial"
           },
           "x": 1,
           "xpad": 40
          },
          "colorscale": [
           [
            0,
            "rgb(247,251,255)"
           ],
           [
            0.125,
            "rgb(222,235,247)"
           ],
           [
            0.25,
            "rgb(198,219,239)"
           ],
           [
            0.375,
            "rgb(158,202,225)"
           ],
           [
            0.5,
            "rgb(107,174,214)"
           ],
           [
            0.625,
            "rgb(66,146,198)"
           ],
           [
            0.75,
            "rgb(33,113,181)"
           ],
           [
            0.875,
            "rgb(8,81,156)"
           ],
           [
            1,
            "rgb(8,48,107)"
           ]
          ],
          "line": {
           "color": "Grey",
           "width": 0.5
          },
          "showscale": false
         },
         "mode": "markers",
         "name": "Feasible Trial",
         "showlegend": false,
         "type": "scatter",
         "x": [
          1624,
          4330,
          3448,
          3430,
          3737,
          2247,
          1354,
          2124,
          1022,
          4453,
          4549,
          3091,
          4631,
          3534,
          2272,
          1479,
          2989,
          4633,
          1950,
          2283,
          3581,
          2032,
          2356,
          3426,
          3849,
          2061,
          1781,
          4660,
          2178,
          3460,
          2438,
          3808,
          2146,
          4080,
          3065,
          2636,
          4820,
          1057,
          2966,
          2498,
          1106,
          4845,
          1284,
          3941,
          2488,
          1412,
          4622,
          3690,
          2404,
          3825,
          2505,
          1225,
          2143,
          3111,
          2818,
          2823,
          4898,
          4644,
          2506,
          2659,
          4076,
          1914,
          3081,
          4021,
          4617,
          2968,
          1512,
          3670,
          1825,
          1244,
          2850,
          1428,
          1479,
          3347,
          2424,
          1746,
          1448,
          3287,
          2154,
          1253,
          2886,
          4754,
          1806,
          2756,
          4626,
          3480,
          4050,
          4189,
          1726,
          3024,
          3829,
          4940,
          1219,
          3950,
          4660,
          1341,
          1820,
          3098,
          2493,
          1924
         ],
         "xaxis": "x4",
         "y": [
          -0.008174439361756,
          -0.019488022433032954,
          -0.00859219034958084,
          -0.006303178763804015,
          -0.008393278779760541,
          -0.003986473629726506,
          -0.01771037012223057,
          -0.008128377062837052,
          -0.004530247500003052,
          -0.01887988533559028,
          -0.00812763257427078,
          -0.018883274497980454,
          -0.0037969439197799368,
          -0.009831104812563867,
          -0.008193299199888062,
          -0.003418979340550453,
          -0.018879515901355,
          -0.008179387269162825,
          -0.008003165374328583,
          -0.008187827901023223,
          -6.870744201447051,
          -0.6109964588096366,
          -0.2557973115740081,
          -0.007865139284904527,
          -0.00850106511867153,
          -0.02188670543354742,
          -0.018886379679034136,
          -0.007578103872324793,
          -0.008796367744281055,
          -0.008680966036152747,
          -0.007848489071903343,
          -2.6338912663104166,
          -0.017751214757363184,
          -0.024290639236509086,
          -0.01829211850788414,
          -0.003788445896367118,
          -0.00812676509127926,
          -0.017721021250244298,
          -0.008777948209563041,
          -0.008109474965559315,
          -0.00806719093080428,
          -0.018879518195249266,
          -0.0034012429075328593,
          -0.005191950494466894,
          -0.008418033580824161,
          -0.007937774159344376,
          -0.7451839499641689,
          -0.00788046749145731,
          -0.004086053421073897,
          -0.004996594106636092,
          -0.009088443012383892,
          -0.004195066188557006,
          -0.008253436908225388,
          -0.003612163054765899,
          -0.007798502205213874,
          -0.0035937188863287848,
          -0.008273085466965513,
          -0.6700819103615369,
          -27.604321376178568,
          -0.008110778505201362,
          -0.0114396053928144,
          -0.009199573519492013,
          -0.004632443662283951,
          -10.237931172819984,
          -0.0077220146938909535,
          -0.014486331295581597,
          -0.008019982080494287,
          -0.005165029209850389,
          -0.003927234634655673,
          -0.008028257955233464,
          -0.00888288294495172,
          -0.009487317347864833,
          -0.0032335357104508666,
          -0.024290639236509086,
          -0.007973223437037547,
          -0.0035668418155084453,
          -0.004588423479686926,
          -0.005862580715181458,
          -0.008065847965872458,
          -0.008238388550755637,
          -0.008086870438623087,
          -0.007933464129095943,
          -0.011015259988720749,
          -0.017268638811301824,
          -0.007280178421829335,
          -0.007883750089037696,
          -0.007327486788749384,
          -0.005916146800899066,
          -0.00818963804532977,
          -0.00767483708105023,
          -0.008022062348662175,
          -0.008074644873990731,
          -0.03259479239671027,
          -0.008157733321022579,
          -0.004000090954909962,
          -0.006992864283360224,
          -0.003991063027125727,
          -0.00839187778431479,
          -0.0040235126708206325,
          -0.024290639236509086
         ],
         "yaxis": "y4"
        },
        {
         "marker": {
          "color": [
           0,
           1,
           2,
           3,
           4,
           5,
           6,
           7,
           8,
           9,
           10,
           11,
           12,
           13,
           14,
           15,
           16,
           17,
           18,
           19,
           20,
           21,
           22,
           23,
           24,
           25,
           26,
           27,
           28,
           29,
           30,
           31,
           32,
           33,
           34,
           35,
           36,
           37,
           38,
           39,
           40,
           41,
           42,
           43,
           44,
           45,
           46,
           47,
           48,
           49,
           50,
           51,
           52,
           53,
           54,
           55,
           56,
           57,
           58,
           59,
           60,
           61,
           62,
           63,
           64,
           65,
           66,
           67,
           68,
           69,
           70,
           71,
           72,
           73,
           74,
           75,
           76,
           77,
           78,
           79,
           80,
           81,
           82,
           83,
           84,
           85,
           86,
           87,
           88,
           89,
           90,
           91,
           92,
           93,
           94,
           95,
           96,
           97,
           98,
           99
          ],
          "colorbar": {
           "title": {
            "text": "Trial"
           },
           "x": 1,
           "xpad": 40
          },
          "colorscale": [
           [
            0,
            "rgb(247,251,255)"
           ],
           [
            0.125,
            "rgb(222,235,247)"
           ],
           [
            0.25,
            "rgb(198,219,239)"
           ],
           [
            0.375,
            "rgb(158,202,225)"
           ],
           [
            0.5,
            "rgb(107,174,214)"
           ],
           [
            0.625,
            "rgb(66,146,198)"
           ],
           [
            0.75,
            "rgb(33,113,181)"
           ],
           [
            0.875,
            "rgb(8,81,156)"
           ],
           [
            1,
            "rgb(8,48,107)"
           ]
          ],
          "line": {
           "color": "Grey",
           "width": 0.5
          },
          "showscale": false
         },
         "mode": "markers",
         "name": "Feasible Trial",
         "showlegend": false,
         "type": "scatter",
         "x": [
          5,
          1,
          2,
          5,
          3,
          1,
          2,
          5,
          4,
          1,
          4,
          1,
          4,
          1,
          3,
          2,
          1,
          3,
          4,
          3,
          2,
          3,
          5,
          4,
          4,
          2,
          1,
          5,
          2,
          3,
          5,
          2,
          1,
          1,
          2,
          2,
          4,
          1,
          3,
          5,
          3,
          1,
          1,
          1,
          5,
          5,
          5,
          4,
          4,
          5,
          3,
          4,
          5,
          3,
          5,
          1,
          3,
          4,
          1,
          5,
          2,
          2,
          3,
          2,
          4,
          5,
          4,
          1,
          4,
          4,
          2,
          2,
          4,
          1,
          2,
          5,
          5,
          1,
          3,
          5,
          5,
          4,
          5,
          2,
          5,
          4,
          5,
          4,
          3,
          5,
          4,
          5,
          1,
          3,
          4,
          3,
          3,
          3,
          3,
          1
         ],
         "xaxis": "x5",
         "y": [
          -0.008174439361756,
          -0.019488022433032954,
          -0.00859219034958084,
          -0.006303178763804015,
          -0.008393278779760541,
          -0.003986473629726506,
          -0.01771037012223057,
          -0.008128377062837052,
          -0.004530247500003052,
          -0.01887988533559028,
          -0.00812763257427078,
          -0.018883274497980454,
          -0.0037969439197799368,
          -0.009831104812563867,
          -0.008193299199888062,
          -0.003418979340550453,
          -0.018879515901355,
          -0.008179387269162825,
          -0.008003165374328583,
          -0.008187827901023223,
          -6.870744201447051,
          -0.6109964588096366,
          -0.2557973115740081,
          -0.007865139284904527,
          -0.00850106511867153,
          -0.02188670543354742,
          -0.018886379679034136,
          -0.007578103872324793,
          -0.008796367744281055,
          -0.008680966036152747,
          -0.007848489071903343,
          -2.6338912663104166,
          -0.017751214757363184,
          -0.024290639236509086,
          -0.01829211850788414,
          -0.003788445896367118,
          -0.00812676509127926,
          -0.017721021250244298,
          -0.008777948209563041,
          -0.008109474965559315,
          -0.00806719093080428,
          -0.018879518195249266,
          -0.0034012429075328593,
          -0.005191950494466894,
          -0.008418033580824161,
          -0.007937774159344376,
          -0.7451839499641689,
          -0.00788046749145731,
          -0.004086053421073897,
          -0.004996594106636092,
          -0.009088443012383892,
          -0.004195066188557006,
          -0.008253436908225388,
          -0.003612163054765899,
          -0.007798502205213874,
          -0.0035937188863287848,
          -0.008273085466965513,
          -0.6700819103615369,
          -27.604321376178568,
          -0.008110778505201362,
          -0.0114396053928144,
          -0.009199573519492013,
          -0.004632443662283951,
          -10.237931172819984,
          -0.0077220146938909535,
          -0.014486331295581597,
          -0.008019982080494287,
          -0.005165029209850389,
          -0.003927234634655673,
          -0.008028257955233464,
          -0.00888288294495172,
          -0.009487317347864833,
          -0.0032335357104508666,
          -0.024290639236509086,
          -0.007973223437037547,
          -0.0035668418155084453,
          -0.004588423479686926,
          -0.005862580715181458,
          -0.008065847965872458,
          -0.008238388550755637,
          -0.008086870438623087,
          -0.007933464129095943,
          -0.011015259988720749,
          -0.017268638811301824,
          -0.007280178421829335,
          -0.007883750089037696,
          -0.007327486788749384,
          -0.005916146800899066,
          -0.00818963804532977,
          -0.00767483708105023,
          -0.008022062348662175,
          -0.008074644873990731,
          -0.03259479239671027,
          -0.008157733321022579,
          -0.004000090954909962,
          -0.006992864283360224,
          -0.003991063027125727,
          -0.00839187778431479,
          -0.0040235126708206325,
          -0.024290639236509086
         ],
         "yaxis": "y5"
        },
        {
         "marker": {
          "color": [
           2,
           5,
           12,
           14,
           15,
           20,
           21,
           22,
           23,
           24,
           25,
           28,
           30,
           31,
           33,
           34,
           40,
           42,
           46,
           47,
           48,
           49,
           50,
           57,
           58,
           63,
           64,
           65,
           67,
           68,
           69,
           71,
           76,
           77,
           82,
           83,
           85,
           87,
           90,
           92,
           94,
           98
          ],
          "colorbar": {
           "title": {
            "text": "Trial"
           },
           "x": 1,
           "xpad": 40
          },
          "colorscale": [
           [
            0,
            "rgb(247,251,255)"
           ],
           [
            0.125,
            "rgb(222,235,247)"
           ],
           [
            0.25,
            "rgb(198,219,239)"
           ],
           [
            0.375,
            "rgb(158,202,225)"
           ],
           [
            0.5,
            "rgb(107,174,214)"
           ],
           [
            0.625,
            "rgb(66,146,198)"
           ],
           [
            0.75,
            "rgb(33,113,181)"
           ],
           [
            0.875,
            "rgb(8,81,156)"
           ],
           [
            1,
            "rgb(8,48,107)"
           ]
          ],
          "line": {
           "color": "Grey",
           "width": 0.5
          },
          "showscale": false
         },
         "mode": "markers",
         "name": "Feasible Trial",
         "showlegend": false,
         "type": "scatter",
         "x": [
          "std",
          "mean",
          "mean",
          "std",
          "std",
          "mean",
          "mean",
          "mean",
          "std",
          "std",
          "mean",
          "std",
          "std",
          "mean",
          "std",
          "mean",
          "std",
          "mean",
          "mean",
          "std",
          "mean",
          "mean",
          "std",
          "mean",
          "mean",
          "mean",
          "std",
          "mean",
          "std",
          "std",
          "std",
          "std",
          "mean",
          "std",
          "mean",
          "mean",
          "std",
          "mean",
          "std",
          "std",
          "std",
          "std"
         ],
         "xaxis": "x6",
         "y": [
          -0.00859219034958084,
          -0.003986473629726506,
          -0.0037969439197799368,
          -0.008193299199888062,
          -0.003418979340550453,
          -6.870744201447051,
          -0.6109964588096366,
          -0.2557973115740081,
          -0.007865139284904527,
          -0.00850106511867153,
          -0.02188670543354742,
          -0.008796367744281055,
          -0.007848489071903343,
          -2.6338912663104166,
          -0.024290639236509086,
          -0.01829211850788414,
          -0.00806719093080428,
          -0.0034012429075328593,
          -0.7451839499641689,
          -0.00788046749145731,
          -0.004086053421073897,
          -0.004996594106636092,
          -0.009088443012383892,
          -0.6700819103615369,
          -27.604321376178568,
          -10.237931172819984,
          -0.0077220146938909535,
          -0.014486331295581597,
          -0.005165029209850389,
          -0.003927234634655673,
          -0.008028257955233464,
          -0.009487317347864833,
          -0.004588423479686926,
          -0.005862580715181458,
          -0.011015259988720749,
          -0.017268638811301824,
          -0.007883750089037696,
          -0.005916146800899066,
          -0.008022062348662175,
          -0.03259479239671027,
          -0.004000090954909962,
          -0.0040235126708206325
         ],
         "yaxis": "y6"
        },
        {
         "marker": {
          "color": [
           0,
           1,
           2,
           3,
           4,
           5,
           6,
           7,
           8,
           9,
           10,
           11,
           12,
           13,
           14,
           15,
           16,
           17,
           18,
           19,
           20,
           21,
           22,
           23,
           24,
           25,
           26,
           27,
           28,
           29,
           30,
           31,
           32,
           33,
           34,
           35,
           36,
           37,
           38,
           39,
           40,
           41,
           42,
           43,
           44,
           45,
           46,
           47,
           48,
           49,
           50,
           51,
           52,
           53,
           54,
           55,
           56,
           57,
           58,
           59,
           60,
           61,
           62,
           63,
           64,
           65,
           66,
           67,
           68,
           69,
           70,
           71,
           72,
           73,
           74,
           75,
           76,
           77,
           78,
           79,
           80,
           81,
           82,
           83,
           84,
           85,
           86,
           87,
           88,
           89,
           90,
           91,
           92,
           93,
           94,
           95,
           96,
           97,
           98,
           99
          ],
          "colorbar": {
           "title": {
            "text": "Trial"
           },
           "x": 1,
           "xpad": 40
          },
          "colorscale": [
           [
            0,
            "rgb(247,251,255)"
           ],
           [
            0.125,
            "rgb(222,235,247)"
           ],
           [
            0.25,
            "rgb(198,219,239)"
           ],
           [
            0.375,
            "rgb(158,202,225)"
           ],
           [
            0.5,
            "rgb(107,174,214)"
           ],
           [
            0.625,
            "rgb(66,146,198)"
           ],
           [
            0.75,
            "rgb(33,113,181)"
           ],
           [
            0.875,
            "rgb(8,81,156)"
           ],
           [
            1,
            "rgb(8,48,107)"
           ]
          ],
          "line": {
           "color": "Grey",
           "width": 0.5
          },
          "showscale": false
         },
         "mode": "markers",
         "name": "Feasible Trial",
         "showlegend": false,
         "type": "scatter",
         "x": [
          false,
          false,
          true,
          false,
          false,
          true,
          false,
          false,
          false,
          false,
          false,
          false,
          true,
          false,
          true,
          true,
          false,
          false,
          false,
          false,
          true,
          true,
          true,
          true,
          true,
          true,
          false,
          false,
          true,
          false,
          true,
          true,
          false,
          true,
          true,
          false,
          false,
          false,
          false,
          false,
          true,
          false,
          true,
          false,
          false,
          false,
          true,
          true,
          true,
          true,
          true,
          false,
          false,
          false,
          false,
          false,
          false,
          true,
          true,
          false,
          false,
          false,
          false,
          true,
          true,
          true,
          false,
          true,
          true,
          true,
          false,
          true,
          false,
          false,
          false,
          false,
          true,
          true,
          false,
          false,
          false,
          false,
          true,
          true,
          false,
          true,
          false,
          true,
          false,
          false,
          true,
          false,
          true,
          false,
          true,
          false,
          false,
          false,
          true,
          false
         ],
         "xaxis": "x7",
         "y": [
          -0.008174439361756,
          -0.019488022433032954,
          -0.00859219034958084,
          -0.006303178763804015,
          -0.008393278779760541,
          -0.003986473629726506,
          -0.01771037012223057,
          -0.008128377062837052,
          -0.004530247500003052,
          -0.01887988533559028,
          -0.00812763257427078,
          -0.018883274497980454,
          -0.0037969439197799368,
          -0.009831104812563867,
          -0.008193299199888062,
          -0.003418979340550453,
          -0.018879515901355,
          -0.008179387269162825,
          -0.008003165374328583,
          -0.008187827901023223,
          -6.870744201447051,
          -0.6109964588096366,
          -0.2557973115740081,
          -0.007865139284904527,
          -0.00850106511867153,
          -0.02188670543354742,
          -0.018886379679034136,
          -0.007578103872324793,
          -0.008796367744281055,
          -0.008680966036152747,
          -0.007848489071903343,
          -2.6338912663104166,
          -0.017751214757363184,
          -0.024290639236509086,
          -0.01829211850788414,
          -0.003788445896367118,
          -0.00812676509127926,
          -0.017721021250244298,
          -0.008777948209563041,
          -0.008109474965559315,
          -0.00806719093080428,
          -0.018879518195249266,
          -0.0034012429075328593,
          -0.005191950494466894,
          -0.008418033580824161,
          -0.007937774159344376,
          -0.7451839499641689,
          -0.00788046749145731,
          -0.004086053421073897,
          -0.004996594106636092,
          -0.009088443012383892,
          -0.004195066188557006,
          -0.008253436908225388,
          -0.003612163054765899,
          -0.007798502205213874,
          -0.0035937188863287848,
          -0.008273085466965513,
          -0.6700819103615369,
          -27.604321376178568,
          -0.008110778505201362,
          -0.0114396053928144,
          -0.009199573519492013,
          -0.004632443662283951,
          -10.237931172819984,
          -0.0077220146938909535,
          -0.014486331295581597,
          -0.008019982080494287,
          -0.005165029209850389,
          -0.003927234634655673,
          -0.008028257955233464,
          -0.00888288294495172,
          -0.009487317347864833,
          -0.0032335357104508666,
          -0.024290639236509086,
          -0.007973223437037547,
          -0.0035668418155084453,
          -0.004588423479686926,
          -0.005862580715181458,
          -0.008065847965872458,
          -0.008238388550755637,
          -0.008086870438623087,
          -0.007933464129095943,
          -0.011015259988720749,
          -0.017268638811301824,
          -0.007280178421829335,
          -0.007883750089037696,
          -0.007327486788749384,
          -0.005916146800899066,
          -0.00818963804532977,
          -0.00767483708105023,
          -0.008022062348662175,
          -0.008074644873990731,
          -0.03259479239671027,
          -0.008157733321022579,
          -0.004000090954909962,
          -0.006992864283360224,
          -0.003991063027125727,
          -0.00839187778431479,
          -0.0040235126708206325,
          -0.024290639236509086
         ],
         "yaxis": "y7"
        }
       ],
       "layout": {
        "template": {
         "data": {
          "bar": [
           {
            "error_x": {
             "color": "#2a3f5f"
            },
            "error_y": {
             "color": "#2a3f5f"
            },
            "marker": {
             "line": {
              "color": "#E5ECF6",
              "width": 0.5
             },
             "pattern": {
              "fillmode": "overlay",
              "size": 10,
              "solidity": 0.2
             }
            },
            "type": "bar"
           }
          ],
          "barpolar": [
           {
            "marker": {
             "line": {
              "color": "#E5ECF6",
              "width": 0.5
             },
             "pattern": {
              "fillmode": "overlay",
              "size": 10,
              "solidity": 0.2
             }
            },
            "type": "barpolar"
           }
          ],
          "carpet": [
           {
            "aaxis": {
             "endlinecolor": "#2a3f5f",
             "gridcolor": "white",
             "linecolor": "white",
             "minorgridcolor": "white",
             "startlinecolor": "#2a3f5f"
            },
            "baxis": {
             "endlinecolor": "#2a3f5f",
             "gridcolor": "white",
             "linecolor": "white",
             "minorgridcolor": "white",
             "startlinecolor": "#2a3f5f"
            },
            "type": "carpet"
           }
          ],
          "choropleth": [
           {
            "colorbar": {
             "outlinewidth": 0,
             "ticks": ""
            },
            "type": "choropleth"
           }
          ],
          "contour": [
           {
            "colorbar": {
             "outlinewidth": 0,
             "ticks": ""
            },
            "colorscale": [
             [
              0,
              "#0d0887"
             ],
             [
              0.1111111111111111,
              "#46039f"
             ],
             [
              0.2222222222222222,
              "#7201a8"
             ],
             [
              0.3333333333333333,
              "#9c179e"
             ],
             [
              0.4444444444444444,
              "#bd3786"
             ],
             [
              0.5555555555555556,
              "#d8576b"
             ],
             [
              0.6666666666666666,
              "#ed7953"
             ],
             [
              0.7777777777777778,
              "#fb9f3a"
             ],
             [
              0.8888888888888888,
              "#fdca26"
             ],
             [
              1,
              "#f0f921"
             ]
            ],
            "type": "contour"
           }
          ],
          "contourcarpet": [
           {
            "colorbar": {
             "outlinewidth": 0,
             "ticks": ""
            },
            "type": "contourcarpet"
           }
          ],
          "heatmap": [
           {
            "colorbar": {
             "outlinewidth": 0,
             "ticks": ""
            },
            "colorscale": [
             [
              0,
              "#0d0887"
             ],
             [
              0.1111111111111111,
              "#46039f"
             ],
             [
              0.2222222222222222,
              "#7201a8"
             ],
             [
              0.3333333333333333,
              "#9c179e"
             ],
             [
              0.4444444444444444,
              "#bd3786"
             ],
             [
              0.5555555555555556,
              "#d8576b"
             ],
             [
              0.6666666666666666,
              "#ed7953"
             ],
             [
              0.7777777777777778,
              "#fb9f3a"
             ],
             [
              0.8888888888888888,
              "#fdca26"
             ],
             [
              1,
              "#f0f921"
             ]
            ],
            "type": "heatmap"
           }
          ],
          "histogram": [
           {
            "marker": {
             "pattern": {
              "fillmode": "overlay",
              "size": 10,
              "solidity": 0.2
             }
            },
            "type": "histogram"
           }
          ],
          "histogram2d": [
           {
            "colorbar": {
             "outlinewidth": 0,
             "ticks": ""
            },
            "colorscale": [
             [
              0,
              "#0d0887"
             ],
             [
              0.1111111111111111,
              "#46039f"
             ],
             [
              0.2222222222222222,
              "#7201a8"
             ],
             [
              0.3333333333333333,
              "#9c179e"
             ],
             [
              0.4444444444444444,
              "#bd3786"
             ],
             [
              0.5555555555555556,
              "#d8576b"
             ],
             [
              0.6666666666666666,
              "#ed7953"
             ],
             [
              0.7777777777777778,
              "#fb9f3a"
             ],
             [
              0.8888888888888888,
              "#fdca26"
             ],
             [
              1,
              "#f0f921"
             ]
            ],
            "type": "histogram2d"
           }
          ],
          "histogram2dcontour": [
           {
            "colorbar": {
             "outlinewidth": 0,
             "ticks": ""
            },
            "colorscale": [
             [
              0,
              "#0d0887"
             ],
             [
              0.1111111111111111,
              "#46039f"
             ],
             [
              0.2222222222222222,
              "#7201a8"
             ],
             [
              0.3333333333333333,
              "#9c179e"
             ],
             [
              0.4444444444444444,
              "#bd3786"
             ],
             [
              0.5555555555555556,
              "#d8576b"
             ],
             [
              0.6666666666666666,
              "#ed7953"
             ],
             [
              0.7777777777777778,
              "#fb9f3a"
             ],
             [
              0.8888888888888888,
              "#fdca26"
             ],
             [
              1,
              "#f0f921"
             ]
            ],
            "type": "histogram2dcontour"
           }
          ],
          "mesh3d": [
           {
            "colorbar": {
             "outlinewidth": 0,
             "ticks": ""
            },
            "type": "mesh3d"
           }
          ],
          "parcoords": [
           {
            "line": {
             "colorbar": {
              "outlinewidth": 0,
              "ticks": ""
             }
            },
            "type": "parcoords"
           }
          ],
          "pie": [
           {
            "automargin": true,
            "type": "pie"
           }
          ],
          "scatter": [
           {
            "fillpattern": {
             "fillmode": "overlay",
             "size": 10,
             "solidity": 0.2
            },
            "type": "scatter"
           }
          ],
          "scatter3d": [
           {
            "line": {
             "colorbar": {
              "outlinewidth": 0,
              "ticks": ""
             }
            },
            "marker": {
             "colorbar": {
              "outlinewidth": 0,
              "ticks": ""
             }
            },
            "type": "scatter3d"
           }
          ],
          "scattercarpet": [
           {
            "marker": {
             "colorbar": {
              "outlinewidth": 0,
              "ticks": ""
             }
            },
            "type": "scattercarpet"
           }
          ],
          "scattergeo": [
           {
            "marker": {
             "colorbar": {
              "outlinewidth": 0,
              "ticks": ""
             }
            },
            "type": "scattergeo"
           }
          ],
          "scattergl": [
           {
            "marker": {
             "colorbar": {
              "outlinewidth": 0,
              "ticks": ""
             }
            },
            "type": "scattergl"
           }
          ],
          "scattermap": [
           {
            "marker": {
             "colorbar": {
              "outlinewidth": 0,
              "ticks": ""
             }
            },
            "type": "scattermap"
           }
          ],
          "scattermapbox": [
           {
            "marker": {
             "colorbar": {
              "outlinewidth": 0,
              "ticks": ""
             }
            },
            "type": "scattermapbox"
           }
          ],
          "scatterpolar": [
           {
            "marker": {
             "colorbar": {
              "outlinewidth": 0,
              "ticks": ""
             }
            },
            "type": "scatterpolar"
           }
          ],
          "scatterpolargl": [
           {
            "marker": {
             "colorbar": {
              "outlinewidth": 0,
              "ticks": ""
             }
            },
            "type": "scatterpolargl"
           }
          ],
          "scatterternary": [
           {
            "marker": {
             "colorbar": {
              "outlinewidth": 0,
              "ticks": ""
             }
            },
            "type": "scatterternary"
           }
          ],
          "surface": [
           {
            "colorbar": {
             "outlinewidth": 0,
             "ticks": ""
            },
            "colorscale": [
             [
              0,
              "#0d0887"
             ],
             [
              0.1111111111111111,
              "#46039f"
             ],
             [
              0.2222222222222222,
              "#7201a8"
             ],
             [
              0.3333333333333333,
              "#9c179e"
             ],
             [
              0.4444444444444444,
              "#bd3786"
             ],
             [
              0.5555555555555556,
              "#d8576b"
             ],
             [
              0.6666666666666666,
              "#ed7953"
             ],
             [
              0.7777777777777778,
              "#fb9f3a"
             ],
             [
              0.8888888888888888,
              "#fdca26"
             ],
             [
              1,
              "#f0f921"
             ]
            ],
            "type": "surface"
           }
          ],
          "table": [
           {
            "cells": {
             "fill": {
              "color": "#EBF0F8"
             },
             "line": {
              "color": "white"
             }
            },
            "header": {
             "fill": {
              "color": "#C8D4E3"
             },
             "line": {
              "color": "white"
             }
            },
            "type": "table"
           }
          ]
         },
         "layout": {
          "annotationdefaults": {
           "arrowcolor": "#2a3f5f",
           "arrowhead": 0,
           "arrowwidth": 1
          },
          "autotypenumbers": "strict",
          "coloraxis": {
           "colorbar": {
            "outlinewidth": 0,
            "ticks": ""
           }
          },
          "colorscale": {
           "diverging": [
            [
             0,
             "#8e0152"
            ],
            [
             0.1,
             "#c51b7d"
            ],
            [
             0.2,
             "#de77ae"
            ],
            [
             0.3,
             "#f1b6da"
            ],
            [
             0.4,
             "#fde0ef"
            ],
            [
             0.5,
             "#f7f7f7"
            ],
            [
             0.6,
             "#e6f5d0"
            ],
            [
             0.7,
             "#b8e186"
            ],
            [
             0.8,
             "#7fbc41"
            ],
            [
             0.9,
             "#4d9221"
            ],
            [
             1,
             "#276419"
            ]
           ],
           "sequential": [
            [
             0,
             "#0d0887"
            ],
            [
             0.1111111111111111,
             "#46039f"
            ],
            [
             0.2222222222222222,
             "#7201a8"
            ],
            [
             0.3333333333333333,
             "#9c179e"
            ],
            [
             0.4444444444444444,
             "#bd3786"
            ],
            [
             0.5555555555555556,
             "#d8576b"
            ],
            [
             0.6666666666666666,
             "#ed7953"
            ],
            [
             0.7777777777777778,
             "#fb9f3a"
            ],
            [
             0.8888888888888888,
             "#fdca26"
            ],
            [
             1,
             "#f0f921"
            ]
           ],
           "sequentialminus": [
            [
             0,
             "#0d0887"
            ],
            [
             0.1111111111111111,
             "#46039f"
            ],
            [
             0.2222222222222222,
             "#7201a8"
            ],
            [
             0.3333333333333333,
             "#9c179e"
            ],
            [
             0.4444444444444444,
             "#bd3786"
            ],
            [
             0.5555555555555556,
             "#d8576b"
            ],
            [
             0.6666666666666666,
             "#ed7953"
            ],
            [
             0.7777777777777778,
             "#fb9f3a"
            ],
            [
             0.8888888888888888,
             "#fdca26"
            ],
            [
             1,
             "#f0f921"
            ]
           ]
          },
          "colorway": [
           "#636efa",
           "#EF553B",
           "#00cc96",
           "#ab63fa",
           "#FFA15A",
           "#19d3f3",
           "#FF6692",
           "#B6E880",
           "#FF97FF",
           "#FECB52"
          ],
          "font": {
           "color": "#2a3f5f"
          },
          "geo": {
           "bgcolor": "white",
           "lakecolor": "white",
           "landcolor": "#E5ECF6",
           "showlakes": true,
           "showland": true,
           "subunitcolor": "white"
          },
          "hoverlabel": {
           "align": "left"
          },
          "hovermode": "closest",
          "mapbox": {
           "style": "light"
          },
          "paper_bgcolor": "white",
          "plot_bgcolor": "#E5ECF6",
          "polar": {
           "angularaxis": {
            "gridcolor": "white",
            "linecolor": "white",
            "ticks": ""
           },
           "bgcolor": "#E5ECF6",
           "radialaxis": {
            "gridcolor": "white",
            "linecolor": "white",
            "ticks": ""
           }
          },
          "scene": {
           "xaxis": {
            "backgroundcolor": "#E5ECF6",
            "gridcolor": "white",
            "gridwidth": 2,
            "linecolor": "white",
            "showbackground": true,
            "ticks": "",
            "zerolinecolor": "white"
           },
           "yaxis": {
            "backgroundcolor": "#E5ECF6",
            "gridcolor": "white",
            "gridwidth": 2,
            "linecolor": "white",
            "showbackground": true,
            "ticks": "",
            "zerolinecolor": "white"
           },
           "zaxis": {
            "backgroundcolor": "#E5ECF6",
            "gridcolor": "white",
            "gridwidth": 2,
            "linecolor": "white",
            "showbackground": true,
            "ticks": "",
            "zerolinecolor": "white"
           }
          },
          "shapedefaults": {
           "line": {
            "color": "#2a3f5f"
           }
          },
          "ternary": {
           "aaxis": {
            "gridcolor": "white",
            "linecolor": "white",
            "ticks": ""
           },
           "baxis": {
            "gridcolor": "white",
            "linecolor": "white",
            "ticks": ""
           },
           "bgcolor": "#E5ECF6",
           "caxis": {
            "gridcolor": "white",
            "linecolor": "white",
            "ticks": ""
           }
          },
          "title": {
           "x": 0.05
          },
          "xaxis": {
           "automargin": true,
           "gridcolor": "white",
           "linecolor": "white",
           "ticks": "",
           "title": {
            "standoff": 15
           },
           "zerolinecolor": "white",
           "zerolinewidth": 2
          },
          "yaxis": {
           "automargin": true,
           "gridcolor": "white",
           "linecolor": "white",
           "ticks": "",
           "title": {
            "standoff": 15
           },
           "zerolinecolor": "white",
           "zerolinewidth": 2
          }
         }
        },
        "title": {
         "text": "Slice Plot"
        },
        "width": 2100,
        "xaxis": {
         "anchor": "y",
         "domain": [
          0,
          0.1183673469387755
         ],
         "title": {
          "text": "alpha"
         },
         "type": "log"
        },
        "xaxis2": {
         "anchor": "y2",
         "categoryarray": [
          false,
          true
         ],
         "categoryorder": "array",
         "domain": [
          0.14693877551020407,
          0.26530612244897955
         ],
         "title": {
          "text": "fit_intercept"
         },
         "type": "category"
        },
        "xaxis3": {
         "anchor": "y3",
         "domain": [
          0.29387755102040813,
          0.4122448979591836
         ],
         "title": {
          "text": "l1_ratio"
         }
        },
        "xaxis4": {
         "anchor": "y4",
         "domain": [
          0.4408163265306122,
          0.5591836734693877
         ],
         "title": {
          "text": "max_iter"
         }
        },
        "xaxis5": {
         "anchor": "y5",
         "domain": [
          0.5877551020408163,
          0.7061224489795918
         ],
         "title": {
          "text": "poly_degree"
         }
        },
        "xaxis6": {
         "anchor": "y6",
         "categoryarray": [
          "mean",
          "std"
         ],
         "categoryorder": "array",
         "domain": [
          0.7346938775510204,
          0.8530612244897959
         ],
         "title": {
          "text": "scaler_option"
         },
         "type": "category"
        },
        "xaxis7": {
         "anchor": "y7",
         "categoryarray": [
          false,
          true
         ],
         "categoryorder": "array",
         "domain": [
          0.8816326530612244,
          0.9999999999999999
         ],
         "title": {
          "text": "use_scaler"
         },
         "type": "category"
        },
        "yaxis": {
         "anchor": "x",
         "domain": [
          0,
          1
         ],
         "title": {
          "text": "Objective Value"
         }
        },
        "yaxis2": {
         "anchor": "x2",
         "domain": [
          0,
          1
         ],
         "matches": "y",
         "showticklabels": false
        },
        "yaxis3": {
         "anchor": "x3",
         "domain": [
          0,
          1
         ],
         "matches": "y",
         "showticklabels": false
        },
        "yaxis4": {
         "anchor": "x4",
         "domain": [
          0,
          1
         ],
         "matches": "y",
         "showticklabels": false
        },
        "yaxis5": {
         "anchor": "x5",
         "domain": [
          0,
          1
         ],
         "matches": "y",
         "showticklabels": false
        },
        "yaxis6": {
         "anchor": "x6",
         "domain": [
          0,
          1
         ],
         "matches": "y",
         "showticklabels": false
        },
        "yaxis7": {
         "anchor": "x7",
         "domain": [
          0,
          1
         ],
         "matches": "y",
         "showticklabels": false
        }
       }
      }
     },
     "metadata": {},
     "output_type": "display_data"
    }
   ],
   "source": [
    "optuna.visualization.plot_slice(study, params=['alpha', 'l1_ratio', 'fit_intercept', 'max_iter','use_scaler','poly_degree','scaler_option'])"
   ]
  },
  {
   "cell_type": "code",
   "execution_count": 85,
   "metadata": {},
   "outputs": [
    {
     "data": {
      "application/vnd.plotly.v1+json": {
       "config": {
        "plotlyServerURL": "https://plot.ly"
       },
       "data": [
        {
         "cliponaxis": false,
         "hovertemplate": [
          "fit_intercept (CategoricalDistribution): 0.006024064681286103<extra></extra>",
          "use_scaler (CategoricalDistribution): 0.03807783715071495<extra></extra>",
          "max_iter (IntDistribution): 0.11789938280888085<extra></extra>",
          "l1_ratio (FloatDistribution): 0.23957879408264737<extra></extra>",
          "alpha (FloatDistribution): 0.25047285578149997<extra></extra>",
          "poly_degree (IntDistribution): 0.3479470654949709<extra></extra>"
         ],
         "name": "Objective Value",
         "orientation": "h",
         "text": [
          "<0.01",
          "0.04",
          "0.12",
          "0.24",
          "0.25",
          "0.35"
         ],
         "textposition": "outside",
         "type": "bar",
         "x": [
          0.006024064681286103,
          0.03807783715071495,
          0.11789938280888085,
          0.23957879408264737,
          0.25047285578149997,
          0.3479470654949709
         ],
         "y": [
          "fit_intercept",
          "use_scaler",
          "max_iter",
          "l1_ratio",
          "alpha",
          "poly_degree"
         ]
        }
       ],
       "layout": {
        "template": {
         "data": {
          "bar": [
           {
            "error_x": {
             "color": "#2a3f5f"
            },
            "error_y": {
             "color": "#2a3f5f"
            },
            "marker": {
             "line": {
              "color": "#E5ECF6",
              "width": 0.5
             },
             "pattern": {
              "fillmode": "overlay",
              "size": 10,
              "solidity": 0.2
             }
            },
            "type": "bar"
           }
          ],
          "barpolar": [
           {
            "marker": {
             "line": {
              "color": "#E5ECF6",
              "width": 0.5
             },
             "pattern": {
              "fillmode": "overlay",
              "size": 10,
              "solidity": 0.2
             }
            },
            "type": "barpolar"
           }
          ],
          "carpet": [
           {
            "aaxis": {
             "endlinecolor": "#2a3f5f",
             "gridcolor": "white",
             "linecolor": "white",
             "minorgridcolor": "white",
             "startlinecolor": "#2a3f5f"
            },
            "baxis": {
             "endlinecolor": "#2a3f5f",
             "gridcolor": "white",
             "linecolor": "white",
             "minorgridcolor": "white",
             "startlinecolor": "#2a3f5f"
            },
            "type": "carpet"
           }
          ],
          "choropleth": [
           {
            "colorbar": {
             "outlinewidth": 0,
             "ticks": ""
            },
            "type": "choropleth"
           }
          ],
          "contour": [
           {
            "colorbar": {
             "outlinewidth": 0,
             "ticks": ""
            },
            "colorscale": [
             [
              0,
              "#0d0887"
             ],
             [
              0.1111111111111111,
              "#46039f"
             ],
             [
              0.2222222222222222,
              "#7201a8"
             ],
             [
              0.3333333333333333,
              "#9c179e"
             ],
             [
              0.4444444444444444,
              "#bd3786"
             ],
             [
              0.5555555555555556,
              "#d8576b"
             ],
             [
              0.6666666666666666,
              "#ed7953"
             ],
             [
              0.7777777777777778,
              "#fb9f3a"
             ],
             [
              0.8888888888888888,
              "#fdca26"
             ],
             [
              1,
              "#f0f921"
             ]
            ],
            "type": "contour"
           }
          ],
          "contourcarpet": [
           {
            "colorbar": {
             "outlinewidth": 0,
             "ticks": ""
            },
            "type": "contourcarpet"
           }
          ],
          "heatmap": [
           {
            "colorbar": {
             "outlinewidth": 0,
             "ticks": ""
            },
            "colorscale": [
             [
              0,
              "#0d0887"
             ],
             [
              0.1111111111111111,
              "#46039f"
             ],
             [
              0.2222222222222222,
              "#7201a8"
             ],
             [
              0.3333333333333333,
              "#9c179e"
             ],
             [
              0.4444444444444444,
              "#bd3786"
             ],
             [
              0.5555555555555556,
              "#d8576b"
             ],
             [
              0.6666666666666666,
              "#ed7953"
             ],
             [
              0.7777777777777778,
              "#fb9f3a"
             ],
             [
              0.8888888888888888,
              "#fdca26"
             ],
             [
              1,
              "#f0f921"
             ]
            ],
            "type": "heatmap"
           }
          ],
          "histogram": [
           {
            "marker": {
             "pattern": {
              "fillmode": "overlay",
              "size": 10,
              "solidity": 0.2
             }
            },
            "type": "histogram"
           }
          ],
          "histogram2d": [
           {
            "colorbar": {
             "outlinewidth": 0,
             "ticks": ""
            },
            "colorscale": [
             [
              0,
              "#0d0887"
             ],
             [
              0.1111111111111111,
              "#46039f"
             ],
             [
              0.2222222222222222,
              "#7201a8"
             ],
             [
              0.3333333333333333,
              "#9c179e"
             ],
             [
              0.4444444444444444,
              "#bd3786"
             ],
             [
              0.5555555555555556,
              "#d8576b"
             ],
             [
              0.6666666666666666,
              "#ed7953"
             ],
             [
              0.7777777777777778,
              "#fb9f3a"
             ],
             [
              0.8888888888888888,
              "#fdca26"
             ],
             [
              1,
              "#f0f921"
             ]
            ],
            "type": "histogram2d"
           }
          ],
          "histogram2dcontour": [
           {
            "colorbar": {
             "outlinewidth": 0,
             "ticks": ""
            },
            "colorscale": [
             [
              0,
              "#0d0887"
             ],
             [
              0.1111111111111111,
              "#46039f"
             ],
             [
              0.2222222222222222,
              "#7201a8"
             ],
             [
              0.3333333333333333,
              "#9c179e"
             ],
             [
              0.4444444444444444,
              "#bd3786"
             ],
             [
              0.5555555555555556,
              "#d8576b"
             ],
             [
              0.6666666666666666,
              "#ed7953"
             ],
             [
              0.7777777777777778,
              "#fb9f3a"
             ],
             [
              0.8888888888888888,
              "#fdca26"
             ],
             [
              1,
              "#f0f921"
             ]
            ],
            "type": "histogram2dcontour"
           }
          ],
          "mesh3d": [
           {
            "colorbar": {
             "outlinewidth": 0,
             "ticks": ""
            },
            "type": "mesh3d"
           }
          ],
          "parcoords": [
           {
            "line": {
             "colorbar": {
              "outlinewidth": 0,
              "ticks": ""
             }
            },
            "type": "parcoords"
           }
          ],
          "pie": [
           {
            "automargin": true,
            "type": "pie"
           }
          ],
          "scatter": [
           {
            "fillpattern": {
             "fillmode": "overlay",
             "size": 10,
             "solidity": 0.2
            },
            "type": "scatter"
           }
          ],
          "scatter3d": [
           {
            "line": {
             "colorbar": {
              "outlinewidth": 0,
              "ticks": ""
             }
            },
            "marker": {
             "colorbar": {
              "outlinewidth": 0,
              "ticks": ""
             }
            },
            "type": "scatter3d"
           }
          ],
          "scattercarpet": [
           {
            "marker": {
             "colorbar": {
              "outlinewidth": 0,
              "ticks": ""
             }
            },
            "type": "scattercarpet"
           }
          ],
          "scattergeo": [
           {
            "marker": {
             "colorbar": {
              "outlinewidth": 0,
              "ticks": ""
             }
            },
            "type": "scattergeo"
           }
          ],
          "scattergl": [
           {
            "marker": {
             "colorbar": {
              "outlinewidth": 0,
              "ticks": ""
             }
            },
            "type": "scattergl"
           }
          ],
          "scattermap": [
           {
            "marker": {
             "colorbar": {
              "outlinewidth": 0,
              "ticks": ""
             }
            },
            "type": "scattermap"
           }
          ],
          "scattermapbox": [
           {
            "marker": {
             "colorbar": {
              "outlinewidth": 0,
              "ticks": ""
             }
            },
            "type": "scattermapbox"
           }
          ],
          "scatterpolar": [
           {
            "marker": {
             "colorbar": {
              "outlinewidth": 0,
              "ticks": ""
             }
            },
            "type": "scatterpolar"
           }
          ],
          "scatterpolargl": [
           {
            "marker": {
             "colorbar": {
              "outlinewidth": 0,
              "ticks": ""
             }
            },
            "type": "scatterpolargl"
           }
          ],
          "scatterternary": [
           {
            "marker": {
             "colorbar": {
              "outlinewidth": 0,
              "ticks": ""
             }
            },
            "type": "scatterternary"
           }
          ],
          "surface": [
           {
            "colorbar": {
             "outlinewidth": 0,
             "ticks": ""
            },
            "colorscale": [
             [
              0,
              "#0d0887"
             ],
             [
              0.1111111111111111,
              "#46039f"
             ],
             [
              0.2222222222222222,
              "#7201a8"
             ],
             [
              0.3333333333333333,
              "#9c179e"
             ],
             [
              0.4444444444444444,
              "#bd3786"
             ],
             [
              0.5555555555555556,
              "#d8576b"
             ],
             [
              0.6666666666666666,
              "#ed7953"
             ],
             [
              0.7777777777777778,
              "#fb9f3a"
             ],
             [
              0.8888888888888888,
              "#fdca26"
             ],
             [
              1,
              "#f0f921"
             ]
            ],
            "type": "surface"
           }
          ],
          "table": [
           {
            "cells": {
             "fill": {
              "color": "#EBF0F8"
             },
             "line": {
              "color": "white"
             }
            },
            "header": {
             "fill": {
              "color": "#C8D4E3"
             },
             "line": {
              "color": "white"
             }
            },
            "type": "table"
           }
          ]
         },
         "layout": {
          "annotationdefaults": {
           "arrowcolor": "#2a3f5f",
           "arrowhead": 0,
           "arrowwidth": 1
          },
          "autotypenumbers": "strict",
          "coloraxis": {
           "colorbar": {
            "outlinewidth": 0,
            "ticks": ""
           }
          },
          "colorscale": {
           "diverging": [
            [
             0,
             "#8e0152"
            ],
            [
             0.1,
             "#c51b7d"
            ],
            [
             0.2,
             "#de77ae"
            ],
            [
             0.3,
             "#f1b6da"
            ],
            [
             0.4,
             "#fde0ef"
            ],
            [
             0.5,
             "#f7f7f7"
            ],
            [
             0.6,
             "#e6f5d0"
            ],
            [
             0.7,
             "#b8e186"
            ],
            [
             0.8,
             "#7fbc41"
            ],
            [
             0.9,
             "#4d9221"
            ],
            [
             1,
             "#276419"
            ]
           ],
           "sequential": [
            [
             0,
             "#0d0887"
            ],
            [
             0.1111111111111111,
             "#46039f"
            ],
            [
             0.2222222222222222,
             "#7201a8"
            ],
            [
             0.3333333333333333,
             "#9c179e"
            ],
            [
             0.4444444444444444,
             "#bd3786"
            ],
            [
             0.5555555555555556,
             "#d8576b"
            ],
            [
             0.6666666666666666,
             "#ed7953"
            ],
            [
             0.7777777777777778,
             "#fb9f3a"
            ],
            [
             0.8888888888888888,
             "#fdca26"
            ],
            [
             1,
             "#f0f921"
            ]
           ],
           "sequentialminus": [
            [
             0,
             "#0d0887"
            ],
            [
             0.1111111111111111,
             "#46039f"
            ],
            [
             0.2222222222222222,
             "#7201a8"
            ],
            [
             0.3333333333333333,
             "#9c179e"
            ],
            [
             0.4444444444444444,
             "#bd3786"
            ],
            [
             0.5555555555555556,
             "#d8576b"
            ],
            [
             0.6666666666666666,
             "#ed7953"
            ],
            [
             0.7777777777777778,
             "#fb9f3a"
            ],
            [
             0.8888888888888888,
             "#fdca26"
            ],
            [
             1,
             "#f0f921"
            ]
           ]
          },
          "colorway": [
           "#636efa",
           "#EF553B",
           "#00cc96",
           "#ab63fa",
           "#FFA15A",
           "#19d3f3",
           "#FF6692",
           "#B6E880",
           "#FF97FF",
           "#FECB52"
          ],
          "font": {
           "color": "#2a3f5f"
          },
          "geo": {
           "bgcolor": "white",
           "lakecolor": "white",
           "landcolor": "#E5ECF6",
           "showlakes": true,
           "showland": true,
           "subunitcolor": "white"
          },
          "hoverlabel": {
           "align": "left"
          },
          "hovermode": "closest",
          "mapbox": {
           "style": "light"
          },
          "paper_bgcolor": "white",
          "plot_bgcolor": "#E5ECF6",
          "polar": {
           "angularaxis": {
            "gridcolor": "white",
            "linecolor": "white",
            "ticks": ""
           },
           "bgcolor": "#E5ECF6",
           "radialaxis": {
            "gridcolor": "white",
            "linecolor": "white",
            "ticks": ""
           }
          },
          "scene": {
           "xaxis": {
            "backgroundcolor": "#E5ECF6",
            "gridcolor": "white",
            "gridwidth": 2,
            "linecolor": "white",
            "showbackground": true,
            "ticks": "",
            "zerolinecolor": "white"
           },
           "yaxis": {
            "backgroundcolor": "#E5ECF6",
            "gridcolor": "white",
            "gridwidth": 2,
            "linecolor": "white",
            "showbackground": true,
            "ticks": "",
            "zerolinecolor": "white"
           },
           "zaxis": {
            "backgroundcolor": "#E5ECF6",
            "gridcolor": "white",
            "gridwidth": 2,
            "linecolor": "white",
            "showbackground": true,
            "ticks": "",
            "zerolinecolor": "white"
           }
          },
          "shapedefaults": {
           "line": {
            "color": "#2a3f5f"
           }
          },
          "ternary": {
           "aaxis": {
            "gridcolor": "white",
            "linecolor": "white",
            "ticks": ""
           },
           "baxis": {
            "gridcolor": "white",
            "linecolor": "white",
            "ticks": ""
           },
           "bgcolor": "#E5ECF6",
           "caxis": {
            "gridcolor": "white",
            "linecolor": "white",
            "ticks": ""
           }
          },
          "title": {
           "x": 0.05
          },
          "xaxis": {
           "automargin": true,
           "gridcolor": "white",
           "linecolor": "white",
           "ticks": "",
           "title": {
            "standoff": 15
           },
           "zerolinecolor": "white",
           "zerolinewidth": 2
          },
          "yaxis": {
           "automargin": true,
           "gridcolor": "white",
           "linecolor": "white",
           "ticks": "",
           "title": {
            "standoff": 15
           },
           "zerolinecolor": "white",
           "zerolinewidth": 2
          }
         }
        },
        "title": {
         "text": "Hyperparameter Importances"
        },
        "xaxis": {
         "title": {
          "text": "Hyperparameter Importance"
         }
        },
        "yaxis": {
         "title": {
          "text": "Hyperparameter"
         }
        }
       }
      }
     },
     "metadata": {},
     "output_type": "display_data"
    }
   ],
   "source": [
    "optuna.visualization.plot_param_importances(study)"
   ]
  },
  {
   "cell_type": "code",
   "execution_count": 86,
   "metadata": {},
   "outputs": [],
   "source": [
    "best_alpha = best_params['alpha']\n",
    "best_l1_ratio = best_params['l1_ratio']\n",
    "best_fit_intercept = best_params['fit_intercept']\n",
    "best_max_iter = best_params['max_iter']\n",
    "\n",
    "\n"
   ]
  },
  {
   "cell_type": "code",
   "execution_count": 87,
   "metadata": {},
   "outputs": [],
   "source": [
    "numeric_pipeline_elastic = Pipeline([\n",
    "    ('imputer', SimpleImputer(strategy='mean')),\n",
    "        ('poly', PolynomialFeatures(degree=4, include_bias=False))\n",
    "])\n",
    "\n",
    "categorical_pipeline_elastic = Pipeline([\n",
    "    ('imputer', SimpleImputer(strategy='most_frequent')),\n",
    "    ('onehot',  OneHotEncoder(handle_unknown='ignore', sparse_output=False,drop='first')),\n",
    "])\n",
    "\n",
    "preprocessor = ColumnTransformer([\n",
    "    ('num', numeric_pipeline_elastic,      num_cols),\n",
    "    ('cat', categorical_pipeline_elastic,  cat_cols),\n",
    "],\n",
    "remainder='passthrough')\n",
    "\n",
    "elastic = Pipeline([\n",
    "    ('prepoc',preprocessor),\n",
    "        ('est', ElasticNet(\n",
    "            alpha=best_alpha,\n",
    "            l1_ratio=best_l1_ratio,\n",
    "            fit_intercept=best_fit_intercept,\n",
    "            max_iter=best_max_iter,\n",
    "            random_state=42\n",
    "        )),\n",
    "    \n",
    "])"
   ]
  },
  {
   "cell_type": "code",
   "execution_count": 88,
   "metadata": {},
   "outputs": [
    {
     "name": "stderr",
     "output_type": "stream",
     "text": [
      "/Users/jgfaraco/miniconda3/lib/python3.12/site-packages/sklearn/linear_model/_coordinate_descent.py:695: ConvergenceWarning: Objective did not converge. You might want to increase the number of iterations, check the scale of the features or consider increasing regularisation. Duality gap: 2.841e+00, tolerance: 3.519e-03\n",
      "  model = cd_fast.enet_coordinate_descent(\n",
      "/Users/jgfaraco/miniconda3/lib/python3.12/site-packages/sklearn/linear_model/_coordinate_descent.py:695: ConvergenceWarning: Objective did not converge. You might want to increase the number of iterations, check the scale of the features or consider increasing regularisation. Duality gap: 2.841e+00, tolerance: 3.529e-03\n",
      "  model = cd_fast.enet_coordinate_descent(\n",
      "/Users/jgfaraco/miniconda3/lib/python3.12/site-packages/sklearn/linear_model/_coordinate_descent.py:695: ConvergenceWarning: Objective did not converge. You might want to increase the number of iterations, check the scale of the features or consider increasing regularisation. Duality gap: 2.828e+00, tolerance: 3.475e-03\n",
      "  model = cd_fast.enet_coordinate_descent(\n",
      "/Users/jgfaraco/miniconda3/lib/python3.12/site-packages/sklearn/linear_model/_coordinate_descent.py:695: ConvergenceWarning: Objective did not converge. You might want to increase the number of iterations, check the scale of the features or consider increasing regularisation. Duality gap: 2.924e+00, tolerance: 3.549e-03\n",
      "  model = cd_fast.enet_coordinate_descent(\n"
     ]
    },
    {
     "name": "stdout",
     "output_type": "stream",
     "text": [
      "Elastic Net Regressor CV results:\n",
      "[0.00337859 0.0033661  0.00349701 0.00287815 0.00304782]\n",
      "RMSE: 0.00 +/- 0.00\n",
      "\n"
     ]
    },
    {
     "name": "stderr",
     "output_type": "stream",
     "text": [
      "/Users/jgfaraco/miniconda3/lib/python3.12/site-packages/sklearn/linear_model/_coordinate_descent.py:695: ConvergenceWarning: Objective did not converge. You might want to increase the number of iterations, check the scale of the features or consider increasing regularisation. Duality gap: 2.905e+00, tolerance: 3.584e-03\n",
      "  model = cd_fast.enet_coordinate_descent(\n"
     ]
    }
   ],
   "source": [
    "est_cv = cross_val_score(\n",
    "        elastic, X_train, y_train,\n",
    "        cv=5,\n",
    "        scoring='neg_mean_squared_error',\n",
    "        n_jobs=-1\n",
    "    )\n",
    "print_cv_results('Elastic Net Regressor',est_cv)"
   ]
  },
  {
   "cell_type": "code",
   "execution_count": 89,
   "metadata": {},
   "outputs": [],
   "source": [
    "result['ElsticNet'] = est_cv"
   ]
  },
  {
   "cell_type": "markdown",
   "metadata": {},
   "source": [
    "# Random Forest Regressor"
   ]
  },
  {
   "cell_type": "code",
   "execution_count": 90,
   "metadata": {},
   "outputs": [],
   "source": [
    "from sklearn.ensemble import RandomForestRegressor"
   ]
  },
  {
   "cell_type": "code",
   "execution_count": null,
   "metadata": {},
   "outputs": [],
   "source": [
    "def objective(trial): \n",
    "    n_estimators = trial.suggest_int('n_estimators', 100, 1000)\n",
    "    max_depth = trial.suggest_int('max_depth', 10, 50) \n",
    "    min_samples_split = trial.suggest_int('min_samples_split', 2, 32) \n",
    "    min_samples_leaf = trial.suggest_int('min_samples_leaf', 1, 32) \n",
    "\n",
    "    num_steps = [\n",
    "        ('imputer', SimpleImputer(strategy='mean'))\n",
    "    ]\n",
    "    poly_degree   = trial.suggest_int('poly_degree',1,3)\n",
    "\n",
    "    num_steps = [('imputer', SimpleImputer(strategy='mean'))]\n",
    "    \n",
    "    num_steps.append(('poly',\n",
    "                      PolynomialFeatures(degree=poly_degree,\n",
    "                                         include_bias=False)))\n",
    "            \n",
    "    numeric_pipeline = Pipeline(num_steps)\n",
    "\n",
    "    categorical_pipeline = Pipeline([\n",
    "        ('imputer', SimpleImputer(strategy='most_frequent')),\n",
    "        ('onehot',  OneHotEncoder(handle_unknown='ignore',\n",
    "                                  sparse_output=False,\n",
    "                                  drop='first')),\n",
    "    ])\n",
    "\n",
    "    preprocessor = ColumnTransformer(\n",
    "        [\n",
    "            ('num', numeric_pipeline,      num_cols),\n",
    "            ('cat', categorical_pipeline,  cat_cols),\n",
    "        ],\n",
    "        remainder='passthrough'\n",
    "    )\n",
    "    model = Pipeline([\n",
    "        ('preproc', preprocessor),\n",
    "        ('randomforest', RandomForestRegressor(\n",
    "        n_estimators=n_estimators, \n",
    "        max_depth=max_depth, \n",
    "        min_samples_split=min_samples_split, \n",
    "        min_samples_leaf=min_samples_leaf,\n",
    "        random_state=42\n",
    "        )),\n",
    "    ])\n",
    "\n",
    "    neg_mse = cross_val_score(\n",
    "        model, X_train, y_train,\n",
    "        cv=5,\n",
    "        scoring='neg_mean_squared_error',\n",
    "        n_jobs=-1\n",
    "    ).mean()\n",
    "\n",
    "    return neg_mse"
   ]
  },
  {
   "cell_type": "code",
   "execution_count": 102,
   "metadata": {},
   "outputs": [
    {
     "name": "stderr",
     "output_type": "stream",
     "text": [
      "[I 2025-05-03 15:45:31,619] A new study created in memory with name: no-name-e14df4ff-2051-4e62-8bcb-f2c630aa1740\n"
     ]
    }
   ],
   "source": [
    "study = optuna.create_study(direction='maximize', sampler=optuna.samplers.RandomSampler(seed=42)) "
   ]
  },
  {
   "cell_type": "code",
   "execution_count": 103,
   "metadata": {},
   "outputs": [
    {
     "name": "stderr",
     "output_type": "stream",
     "text": [
      "[I 2025-05-03 15:45:40,152] Trial 0 finished with value: -0.004594551395352957 and parameters: {'n_estimators': 437, 'max_depth': 48, 'min_samples_split': 24, 'min_samples_leaf': 20, 'poly_degree': 1}. Best is trial 0 with value: -0.004594551395352957.\n",
      "[I 2025-05-03 15:45:53,958] Trial 1 finished with value: -0.00445005723682228 and parameters: {'n_estimators': 240, 'max_depth': 12, 'min_samples_split': 28, 'min_samples_leaf': 20, 'poly_degree': 3}. Best is trial 1 with value: -0.00445005723682228.\n",
      "[I 2025-05-03 15:45:55,329] Trial 2 finished with value: -0.004058536747106786 and parameters: {'n_estimators': 118, 'max_depth': 49, 'min_samples_split': 27, 'min_samples_leaf': 7, 'poly_degree': 1}. Best is trial 2 with value: -0.004058536747106786.\n",
      "[I 2025-05-03 15:45:58,873] Trial 3 finished with value: -0.0043284876421504324 and parameters: {'n_estimators': 265, 'max_depth': 22, 'min_samples_split': 18, 'min_samples_leaf': 14, 'poly_degree': 1}. Best is trial 2 with value: -0.004058536747106786.\n",
      "[I 2025-05-03 15:46:10,119] Trial 4 finished with value: -0.004183290625063006 and parameters: {'n_estimators': 651, 'max_depth': 15, 'min_samples_split': 11, 'min_samples_leaf': 12, 'poly_degree': 2}. Best is trial 2 with value: -0.004058536747106786.\n",
      "[I 2025-05-03 15:46:15,351] Trial 5 finished with value: -0.004553221088905075 and parameters: {'n_estimators': 807, 'max_depth': 18, 'min_samples_split': 17, 'min_samples_leaf': 19, 'poly_degree': 1}. Best is trial 2 with value: -0.004058536747106786.\n",
      "[I 2025-05-03 15:46:30,234] Trial 6 finished with value: -0.004752593016742568 and parameters: {'n_estimators': 647, 'max_depth': 16, 'min_samples_split': 4, 'min_samples_leaf': 31, 'poly_degree': 3}. Best is trial 2 with value: -0.004058536747106786.\n",
      "[I 2025-05-03 15:46:40,729] Trial 7 finished with value: -0.0045265697890884546 and parameters: {'n_estimators': 828, 'max_depth': 22, 'min_samples_split': 5, 'min_samples_leaf': 22, 'poly_degree': 2}. Best is trial 2 with value: -0.004058536747106786.\n",
      "[I 2025-05-03 15:46:42,273] Trial 8 finished with value: -0.0049650941125509804 and parameters: {'n_estimators': 209, 'max_depth': 30, 'min_samples_split': 3, 'min_samples_leaf': 30, 'poly_degree': 1}. Best is trial 2 with value: -0.004058536747106786.\n",
      "[I 2025-05-03 15:46:47,363] Trial 9 finished with value: -0.004511488831826607 and parameters: {'n_estimators': 696, 'max_depth': 22, 'min_samples_split': 18, 'min_samples_leaf': 18, 'poly_degree': 1}. Best is trial 2 with value: -0.004058536747106786.\n",
      "[I 2025-05-03 15:46:58,580] Trial 10 finished with value: -0.004743798419693218 and parameters: {'n_estimators': 973, 'max_depth': 41, 'min_samples_split': 31, 'min_samples_leaf': 29, 'poly_degree': 2}. Best is trial 2 with value: -0.004058536747106786.\n",
      "[I 2025-05-03 15:47:08,036] Trial 11 finished with value: -0.0036241239095552704 and parameters: {'n_estimators': 930, 'max_depth': 13, 'min_samples_split': 8, 'min_samples_leaf': 2, 'poly_degree': 1}. Best is trial 11 with value: -0.0036241239095552704.\n",
      "[I 2025-05-03 15:47:11,668] Trial 12 finished with value: -0.00423796605303529 and parameters: {'n_estimators': 450, 'max_depth': 21, 'min_samples_split': 27, 'min_samples_leaf': 12, 'poly_degree': 1}. Best is trial 11 with value: -0.0036241239095552704.\n",
      "[I 2025-05-03 15:47:33,110] Trial 13 finished with value: -0.0038484038244531297 and parameters: {'n_estimators': 588, 'max_depth': 15, 'min_samples_split': 26, 'min_samples_leaf': 3, 'poly_degree': 3}. Best is trial 11 with value: -0.0036241239095552704.\n",
      "[I 2025-05-03 15:48:27,036] Trial 14 finished with value: -0.004657842470939627 and parameters: {'n_estimators': 795, 'max_depth': 18, 'min_samples_split': 2, 'min_samples_leaf': 27, 'poly_degree': 3}. Best is trial 11 with value: -0.0036241239095552704.\n",
      "[I 2025-05-03 15:48:32,951] Trial 15 finished with value: -0.004210746383528692 and parameters: {'n_estimators': 756, 'max_depth': 41, 'min_samples_split': 4, 'min_samples_leaf': 12, 'poly_degree': 1}. Best is trial 11 with value: -0.0036241239095552704.\n",
      "[I 2025-05-03 15:48:42,401] Trial 16 finished with value: -0.003699951970753031 and parameters: {'n_estimators': 877, 'max_depth': 35, 'min_samples_split': 12, 'min_samples_leaf': 3, 'poly_degree': 1}. Best is trial 11 with value: -0.0036241239095552704.\n",
      "[I 2025-05-03 15:48:47,303] Trial 17 finished with value: -0.004750202721177706 and parameters: {'n_estimators': 392, 'max_depth': 39, 'min_samples_split': 21, 'min_samples_leaf': 29, 'poly_degree': 2}. Best is trial 11 with value: -0.0036241239095552704.\n",
      "[I 2025-05-03 15:48:53,467] Trial 18 finished with value: -0.004397882523599809 and parameters: {'n_estimators': 207, 'max_depth': 39, 'min_samples_split': 25, 'min_samples_leaf': 18, 'poly_degree': 3}. Best is trial 11 with value: -0.0036241239095552704.\n",
      "[I 2025-05-03 15:48:59,065] Trial 19 finished with value: -0.003646923723671687 and parameters: {'n_estimators': 544, 'max_depth': 31, 'min_samples_split': 15, 'min_samples_leaf': 1, 'poly_degree': 1}. Best is trial 11 with value: -0.0036241239095552704.\n",
      "[I 2025-05-03 15:49:03,777] Trial 20 finished with value: -0.004364823260928246 and parameters: {'n_estimators': 128, 'max_depth': 36, 'min_samples_split': 11, 'min_samples_leaf': 17, 'poly_degree': 3}. Best is trial 11 with value: -0.0036241239095552704.\n",
      "[I 2025-05-03 15:49:07,230] Trial 21 finished with value: -0.004047212675755267 and parameters: {'n_estimators': 324, 'max_depth': 26, 'min_samples_split': 25, 'min_samples_leaf': 8, 'poly_degree': 1}. Best is trial 11 with value: -0.0036241239095552704.\n",
      "[I 2025-05-03 15:49:12,603] Trial 22 finished with value: -0.004665998136968649 and parameters: {'n_estimators': 361, 'max_depth': 16, 'min_samples_split': 30, 'min_samples_leaf': 26, 'poly_degree': 2}. Best is trial 11 with value: -0.0036241239095552704.\n",
      "[I 2025-05-03 15:49:23,593] Trial 23 finished with value: -0.0047440848008879705 and parameters: {'n_estimators': 885, 'max_depth': 42, 'min_samples_split': 7, 'min_samples_leaf': 29, 'poly_degree': 2}. Best is trial 11 with value: -0.0036241239095552704.\n",
      "[I 2025-05-03 15:49:31,071] Trial 24 finished with value: -0.0037420685408213203 and parameters: {'n_estimators': 827, 'max_depth': 46, 'min_samples_split': 11, 'min_samples_leaf': 4, 'poly_degree': 1}. Best is trial 11 with value: -0.0036241239095552704.\n",
      "[I 2025-05-03 15:49:39,813] Trial 25 finished with value: -0.003787512639792699 and parameters: {'n_estimators': 484, 'max_depth': 43, 'min_samples_split': 28, 'min_samples_leaf': 1, 'poly_degree': 2}. Best is trial 11 with value: -0.0036241239095552704.\n",
      "[I 2025-05-03 15:49:50,858] Trial 26 finished with value: -0.004118510967973881 and parameters: {'n_estimators': 476, 'max_depth': 19, 'min_samples_split': 5, 'min_samples_leaf': 11, 'poly_degree': 3}. Best is trial 11 with value: -0.0036241239095552704.\n",
      "[I 2025-05-03 15:49:58,594] Trial 27 finished with value: -0.004160503256980205 and parameters: {'n_estimators': 391, 'max_depth': 31, 'min_samples_split': 23, 'min_samples_leaf': 12, 'poly_degree': 3}. Best is trial 11 with value: -0.0036241239095552704.\n",
      "[I 2025-05-03 15:50:02,531] Trial 28 finished with value: -0.004103566314335629 and parameters: {'n_estimators': 967, 'max_depth': 20, 'min_samples_split': 17, 'min_samples_leaf': 10, 'poly_degree': 1}. Best is trial 11 with value: -0.0036241239095552704.\n",
      "[I 2025-05-03 15:50:03,215] Trial 29 finished with value: -0.003718858295860096 and parameters: {'n_estimators': 133, 'max_depth': 34, 'min_samples_split': 17, 'min_samples_leaf': 2, 'poly_degree': 1}. Best is trial 11 with value: -0.0036241239095552704.\n",
      "[I 2025-05-03 15:50:17,563] Trial 30 finished with value: -0.004308673297306304 and parameters: {'n_estimators': 918, 'max_depth': 19, 'min_samples_split': 6, 'min_samples_leaf': 16, 'poly_degree': 3}. Best is trial 11 with value: -0.0036241239095552704.\n",
      "[I 2025-05-03 15:50:23,379] Trial 31 finished with value: -0.004040042246262891 and parameters: {'n_estimators': 318, 'max_depth': 37, 'min_samples_split': 25, 'min_samples_leaf': 8, 'poly_degree': 3}. Best is trial 11 with value: -0.0036241239095552704.\n",
      "[I 2025-05-03 15:50:25,116] Trial 32 finished with value: -0.0045201174042033086 and parameters: {'n_estimators': 431, 'max_depth': 35, 'min_samples_split': 21, 'min_samples_leaf': 18, 'poly_degree': 1}. Best is trial 11 with value: -0.0036241239095552704.\n",
      "[I 2025-05-03 15:50:35,713] Trial 33 finished with value: -0.0037008362865401296 and parameters: {'n_estimators': 852, 'max_depth': 23, 'min_samples_split': 7, 'min_samples_leaf': 2, 'poly_degree': 2}. Best is trial 11 with value: -0.0036241239095552704.\n",
      "[I 2025-05-03 15:50:42,363] Trial 34 finished with value: -0.0040183997603309585 and parameters: {'n_estimators': 710, 'max_depth': 10, 'min_samples_split': 17, 'min_samples_leaf': 8, 'poly_degree': 2}. Best is trial 11 with value: -0.0036241239095552704.\n",
      "[I 2025-05-03 15:50:43,298] Trial 35 finished with value: -0.004956182464025692 and parameters: {'n_estimators': 257, 'max_depth': 38, 'min_samples_split': 13, 'min_samples_leaf': 30, 'poly_degree': 1}. Best is trial 11 with value: -0.0036241239095552704.\n",
      "[I 2025-05-03 15:50:44,572] Trial 36 finished with value: -0.004943134212086205 and parameters: {'n_estimators': 407, 'max_depth': 14, 'min_samples_split': 30, 'min_samples_leaf': 29, 'poly_degree': 1}. Best is trial 11 with value: -0.0036241239095552704.\n",
      "[I 2025-05-03 15:50:47,593] Trial 37 finished with value: -0.004468129233600823 and parameters: {'n_estimators': 694, 'max_depth': 43, 'min_samples_split': 19, 'min_samples_leaf': 17, 'poly_degree': 1}. Best is trial 11 with value: -0.0036241239095552704.\n",
      "[I 2025-05-03 15:50:48,980] Trial 38 finished with value: -0.004513800793204421 and parameters: {'n_estimators': 183, 'max_depth': 46, 'min_samples_split': 29, 'min_samples_leaf': 21, 'poly_degree': 2}. Best is trial 11 with value: -0.0036241239095552704.\n",
      "[I 2025-05-03 15:50:54,830] Trial 39 finished with value: -0.004711295213480037 and parameters: {'n_estimators': 414, 'max_depth': 39, 'min_samples_split': 29, 'min_samples_leaf': 29, 'poly_degree': 3}. Best is trial 11 with value: -0.0036241239095552704.\n",
      "[I 2025-05-03 15:50:59,398] Trial 40 finished with value: -0.004741287526160515 and parameters: {'n_estimators': 678, 'max_depth': 13, 'min_samples_split': 7, 'min_samples_leaf': 29, 'poly_degree': 2}. Best is trial 11 with value: -0.0036241239095552704.\n",
      "[I 2025-05-03 15:51:00,162] Trial 41 finished with value: -0.003765482425461649 and parameters: {'n_estimators': 108, 'max_depth': 14, 'min_samples_split': 22, 'min_samples_leaf': 1, 'poly_degree': 1}. Best is trial 11 with value: -0.0036241239095552704.\n",
      "[I 2025-05-03 15:51:11,944] Trial 42 finished with value: -0.0040104842807829385 and parameters: {'n_estimators': 594, 'max_depth': 38, 'min_samples_split': 22, 'min_samples_leaf': 8, 'poly_degree': 3}. Best is trial 11 with value: -0.0036241239095552704.\n",
      "[I 2025-05-03 15:51:17,145] Trial 43 finished with value: -0.004483430380542613 and parameters: {'n_estimators': 313, 'max_depth': 23, 'min_samples_split': 25, 'min_samples_leaf': 21, 'poly_degree': 3}. Best is trial 11 with value: -0.0036241239095552704.\n",
      "[I 2025-05-03 15:51:19,965] Trial 44 finished with value: -0.004212100292250278 and parameters: {'n_estimators': 692, 'max_depth': 33, 'min_samples_split': 4, 'min_samples_leaf': 12, 'poly_degree': 1}. Best is trial 11 with value: -0.0036241239095552704.\n",
      "[I 2025-05-03 15:51:22,170] Trial 45 finished with value: -0.004757097775829026 and parameters: {'n_estimators': 319, 'max_depth': 49, 'min_samples_split': 14, 'min_samples_leaf': 29, 'poly_degree': 2}. Best is trial 11 with value: -0.0036241239095552704.\n",
      "[I 2025-05-03 15:51:25,463] Trial 46 finished with value: -0.004424183195551325 and parameters: {'n_estimators': 816, 'max_depth': 30, 'min_samples_split': 19, 'min_samples_leaf': 16, 'poly_degree': 1}. Best is trial 11 with value: -0.0036241239095552704.\n",
      "[I 2025-05-03 15:51:28,132] Trial 47 finished with value: -0.004625494691963314 and parameters: {'n_estimators': 750, 'max_depth': 21, 'min_samples_split': 2, 'min_samples_leaf': 21, 'poly_degree': 1}. Best is trial 11 with value: -0.0036241239095552704.\n",
      "[I 2025-05-03 15:51:31,912] Trial 48 finished with value: -0.004262157234587121 and parameters: {'n_estimators': 947, 'max_depth': 49, 'min_samples_split': 30, 'min_samples_leaf': 12, 'poly_degree': 1}. Best is trial 11 with value: -0.0036241239095552704.\n",
      "[I 2025-05-03 15:51:44,963] Trial 49 finished with value: -0.004757518699032693 and parameters: {'n_estimators': 936, 'max_depth': 27, 'min_samples_split': 31, 'min_samples_leaf': 31, 'poly_degree': 3}. Best is trial 11 with value: -0.0036241239095552704.\n",
      "[I 2025-05-03 15:51:46,481] Trial 50 finished with value: -0.00420719590181459 and parameters: {'n_estimators': 365, 'max_depth': 25, 'min_samples_split': 28, 'min_samples_leaf': 11, 'poly_degree': 1}. Best is trial 11 with value: -0.0036241239095552704.\n",
      "[I 2025-05-03 15:51:48,957] Trial 51 finished with value: -0.004551262325236609 and parameters: {'n_estimators': 601, 'max_depth': 48, 'min_samples_split': 23, 'min_samples_leaf': 19, 'poly_degree': 1}. Best is trial 11 with value: -0.0036241239095552704.\n",
      "[I 2025-05-03 15:51:59,773] Trial 52 finished with value: -0.004340342726652274 and parameters: {'n_estimators': 654, 'max_depth': 50, 'min_samples_split': 6, 'min_samples_leaf': 17, 'poly_degree': 3}. Best is trial 11 with value: -0.0036241239095552704.\n",
      "[I 2025-05-03 15:52:02,896] Trial 53 finished with value: -0.004210813379472086 and parameters: {'n_estimators': 767, 'max_depth': 38, 'min_samples_split': 23, 'min_samples_leaf': 12, 'poly_degree': 1}. Best is trial 11 with value: -0.0036241239095552704.\n",
      "[I 2025-05-03 15:52:08,715] Trial 54 finished with value: -0.0047646857387594 and parameters: {'n_estimators': 829, 'max_depth': 43, 'min_samples_split': 28, 'min_samples_leaf': 30, 'poly_degree': 2}. Best is trial 11 with value: -0.0036241239095552704.\n",
      "[I 2025-05-03 15:52:17,179] Trial 55 finished with value: -0.0045288470738796965 and parameters: {'n_estimators': 551, 'max_depth': 42, 'min_samples_split': 22, 'min_samples_leaf': 23, 'poly_degree': 3}. Best is trial 11 with value: -0.0036241239095552704.\n",
      "[I 2025-05-03 15:52:27,227] Trial 56 finished with value: -0.003830272958938894 and parameters: {'n_estimators': 901, 'max_depth': 23, 'min_samples_split': 13, 'min_samples_leaf': 4, 'poly_degree': 2}. Best is trial 11 with value: -0.0036241239095552704.\n",
      "[I 2025-05-03 15:52:28,449] Trial 57 finished with value: -0.004116116846955406 and parameters: {'n_estimators': 132, 'max_depth': 29, 'min_samples_split': 18, 'min_samples_leaf': 10, 'poly_degree': 2}. Best is trial 11 with value: -0.0036241239095552704.\n",
      "[I 2025-05-03 15:52:29,054] Trial 58 finished with value: -0.004249866429755013 and parameters: {'n_estimators': 127, 'max_depth': 11, 'min_samples_split': 27, 'min_samples_leaf': 12, 'poly_degree': 1}. Best is trial 11 with value: -0.0036241239095552704.\n",
      "[I 2025-05-03 15:52:31,539] Trial 59 finished with value: -0.004587395891737641 and parameters: {'n_estimators': 570, 'max_depth': 41, 'min_samples_split': 8, 'min_samples_leaf': 20, 'poly_degree': 1}. Best is trial 11 with value: -0.0036241239095552704.\n",
      "[I 2025-05-03 15:52:33,972] Trial 60 finished with value: -0.0045081954299406694 and parameters: {'n_estimators': 146, 'max_depth': 31, 'min_samples_split': 18, 'min_samples_leaf': 21, 'poly_degree': 3}. Best is trial 11 with value: -0.0036241239095552704.\n",
      "[I 2025-05-03 15:52:37,362] Trial 61 finished with value: -0.004841108466619399 and parameters: {'n_estimators': 979, 'max_depth': 31, 'min_samples_split': 12, 'min_samples_leaf': 26, 'poly_degree': 1}. Best is trial 11 with value: -0.0036241239095552704.\n",
      "[I 2025-05-03 15:52:44,660] Trial 62 finished with value: -0.004755588076602587 and parameters: {'n_estimators': 495, 'max_depth': 13, 'min_samples_split': 2, 'min_samples_leaf': 31, 'poly_degree': 3}. Best is trial 11 with value: -0.0036241239095552704.\n",
      "[I 2025-05-03 15:52:48,460] Trial 63 finished with value: -0.0038401537111226666 and parameters: {'n_estimators': 727, 'max_depth': 26, 'min_samples_split': 7, 'min_samples_leaf': 6, 'poly_degree': 1}. Best is trial 11 with value: -0.0036241239095552704.\n",
      "[I 2025-05-03 15:53:00,372] Trial 64 finished with value: -0.004043996417206556 and parameters: {'n_estimators': 594, 'max_depth': 39, 'min_samples_split': 22, 'min_samples_leaf': 9, 'poly_degree': 3}. Best is trial 11 with value: -0.0036241239095552704.\n",
      "[I 2025-05-03 15:53:03,442] Trial 65 finished with value: -0.004317885235430334 and parameters: {'n_estimators': 764, 'max_depth': 32, 'min_samples_split': 20, 'min_samples_leaf': 14, 'poly_degree': 1}. Best is trial 11 with value: -0.0036241239095552704.\n",
      "[I 2025-05-03 15:53:05,798] Trial 66 finished with value: -0.0037250783401068356 and parameters: {'n_estimators': 420, 'max_depth': 41, 'min_samples_split': 2, 'min_samples_leaf': 4, 'poly_degree': 1}. Best is trial 11 with value: -0.0036241239095552704.\n",
      "[I 2025-05-03 15:53:06,334] Trial 67 finished with value: -0.004454595458699508 and parameters: {'n_estimators': 136, 'max_depth': 45, 'min_samples_split': 23, 'min_samples_leaf': 16, 'poly_degree': 1}. Best is trial 11 with value: -0.0036241239095552704.\n",
      "[I 2025-05-03 15:53:11,265] Trial 68 finished with value: -0.004266073711332451 and parameters: {'n_estimators': 542, 'max_depth': 29, 'min_samples_split': 7, 'min_samples_leaf': 14, 'poly_degree': 2}. Best is trial 11 with value: -0.0036241239095552704.\n",
      "[I 2025-05-03 15:53:17,414] Trial 69 finished with value: -0.004183254616338565 and parameters: {'n_estimators': 654, 'max_depth': 36, 'min_samples_split': 3, 'min_samples_leaf': 12, 'poly_degree': 2}. Best is trial 11 with value: -0.0036241239095552704.\n",
      "[I 2025-05-03 15:53:19,986] Trial 70 finished with value: -0.003922438576230307 and parameters: {'n_estimators': 553, 'max_depth': 45, 'min_samples_split': 22, 'min_samples_leaf': 6, 'poly_degree': 1}. Best is trial 11 with value: -0.0036241239095552704.\n",
      "[I 2025-05-03 15:53:24,934] Trial 71 finished with value: -0.004782811465159837 and parameters: {'n_estimators': 678, 'max_depth': 11, 'min_samples_split': 20, 'min_samples_leaf': 31, 'poly_degree': 2}. Best is trial 11 with value: -0.0036241239095552704.\n",
      "[I 2025-05-03 15:53:32,586] Trial 72 finished with value: -0.004380229441445352 and parameters: {'n_estimators': 449, 'max_depth': 36, 'min_samples_split': 16, 'min_samples_leaf': 18, 'poly_degree': 3}. Best is trial 11 with value: -0.0036241239095552704.\n",
      "[I 2025-05-03 15:53:34,518] Trial 73 finished with value: -0.004058892650601959 and parameters: {'n_estimators': 447, 'max_depth': 49, 'min_samples_split': 30, 'min_samples_leaf': 7, 'poly_degree': 1}. Best is trial 11 with value: -0.0036241239095552704.\n",
      "[I 2025-05-03 15:53:35,305] Trial 74 finished with value: -0.00468517819004035 and parameters: {'n_estimators': 190, 'max_depth': 10, 'min_samples_split': 4, 'min_samples_leaf': 22, 'poly_degree': 1}. Best is trial 11 with value: -0.0036241239095552704.\n",
      "[I 2025-05-03 15:53:36,647] Trial 75 finished with value: -0.0048842350952154855 and parameters: {'n_estimators': 387, 'max_depth': 44, 'min_samples_split': 2, 'min_samples_leaf': 27, 'poly_degree': 1}. Best is trial 11 with value: -0.0036241239095552704.\n",
      "[I 2025-05-03 15:53:40,067] Trial 76 finished with value: -0.004706122447285589 and parameters: {'n_estimators': 206, 'max_depth': 38, 'min_samples_split': 21, 'min_samples_leaf': 29, 'poly_degree': 3}. Best is trial 11 with value: -0.0036241239095552704.\n",
      "[I 2025-05-03 15:53:52,776] Trial 77 finished with value: -0.004596677083544417 and parameters: {'n_estimators': 823, 'max_depth': 21, 'min_samples_split': 7, 'min_samples_leaf': 25, 'poly_degree': 3}. Best is trial 11 with value: -0.0036241239095552704.\n",
      "[I 2025-05-03 15:54:00,149] Trial 78 finished with value: -0.004627541180710036 and parameters: {'n_estimators': 992, 'max_depth': 26, 'min_samples_split': 13, 'min_samples_leaf': 25, 'poly_degree': 2}. Best is trial 11 with value: -0.0036241239095552704.\n",
      "[I 2025-05-03 15:54:14,478] Trial 79 finished with value: -0.004595349425142788 and parameters: {'n_estimators': 938, 'max_depth': 45, 'min_samples_split': 15, 'min_samples_leaf': 25, 'poly_degree': 3}. Best is trial 11 with value: -0.0036241239095552704.\n",
      "[I 2025-05-03 15:54:15,168] Trial 80 finished with value: -0.004887809209595641 and parameters: {'n_estimators': 192, 'max_depth': 47, 'min_samples_split': 17, 'min_samples_leaf': 27, 'poly_degree': 1}. Best is trial 11 with value: -0.0036241239095552704.\n",
      "[I 2025-05-03 15:54:18,458] Trial 81 finished with value: -0.004935128434555965 and parameters: {'n_estimators': 906, 'max_depth': 25, 'min_samples_split': 2, 'min_samples_leaf': 29, 'poly_degree': 1}. Best is trial 11 with value: -0.0036241239095552704.\n",
      "[I 2025-05-03 15:54:21,671] Trial 82 finished with value: -0.004433454717831723 and parameters: {'n_estimators': 387, 'max_depth': 48, 'min_samples_split': 31, 'min_samples_leaf': 19, 'poly_degree': 2}. Best is trial 11 with value: -0.0036241239095552704.\n",
      "[I 2025-05-03 15:54:29,938] Trial 83 finished with value: -0.004497100486271335 and parameters: {'n_estimators': 504, 'max_depth': 22, 'min_samples_split': 12, 'min_samples_leaf': 22, 'poly_degree': 3}. Best is trial 11 with value: -0.0036241239095552704.\n",
      "[I 2025-05-03 15:54:33,187] Trial 84 finished with value: -0.0044242221433768245 and parameters: {'n_estimators': 813, 'max_depth': 42, 'min_samples_split': 4, 'min_samples_leaf': 16, 'poly_degree': 1}. Best is trial 11 with value: -0.0036241239095552704.\n",
      "[I 2025-05-03 15:54:35,994] Trial 85 finished with value: -0.004245157701759228 and parameters: {'n_estimators': 595, 'max_depth': 28, 'min_samples_split': 29, 'min_samples_leaf': 12, 'poly_degree': 1}. Best is trial 11 with value: -0.0036241239095552704.\n",
      "[I 2025-05-03 15:54:37,237] Trial 86 finished with value: -0.003831309739622633 and parameters: {'n_estimators': 228, 'max_depth': 41, 'min_samples_split': 21, 'min_samples_leaf': 4, 'poly_degree': 1}. Best is trial 11 with value: -0.0036241239095552704.\n",
      "[I 2025-05-03 15:54:40,158] Trial 87 finished with value: -0.004702957968129791 and parameters: {'n_estimators': 731, 'max_depth': 12, 'min_samples_split': 27, 'min_samples_leaf': 23, 'poly_degree': 1}. Best is trial 11 with value: -0.0036241239095552704.\n",
      "[I 2025-05-03 15:54:43,794] Trial 88 finished with value: -0.0041752864103017946 and parameters: {'n_estimators': 176, 'max_depth': 50, 'min_samples_split': 13, 'min_samples_leaf': 12, 'poly_degree': 3}. Best is trial 11 with value: -0.0036241239095552704.\n",
      "[I 2025-05-03 15:54:47,787] Trial 89 finished with value: -0.004272002340328744 and parameters: {'n_estimators': 953, 'max_depth': 50, 'min_samples_split': 25, 'min_samples_leaf': 13, 'poly_degree': 1}. Best is trial 11 with value: -0.0036241239095552704.\n",
      "[I 2025-05-03 15:54:50,840] Trial 90 finished with value: -0.004956706003010737 and parameters: {'n_estimators': 800, 'max_depth': 32, 'min_samples_split': 15, 'min_samples_leaf': 30, 'poly_degree': 1}. Best is trial 11 with value: -0.0036241239095552704.\n",
      "[I 2025-05-03 15:54:53,690] Trial 91 finished with value: -0.0037147621042621015 and parameters: {'n_estimators': 543, 'max_depth': 10, 'min_samples_split': 16, 'min_samples_leaf': 2, 'poly_degree': 1}. Best is trial 11 with value: -0.0036241239095552704.\n",
      "[I 2025-05-03 15:54:57,265] Trial 92 finished with value: -0.004430616268072231 and parameters: {'n_estimators': 205, 'max_depth': 36, 'min_samples_split': 25, 'min_samples_leaf': 19, 'poly_degree': 3}. Best is trial 11 with value: -0.0036241239095552704.\n",
      "[I 2025-05-03 15:55:06,310] Trial 93 finished with value: -0.004053993218316742 and parameters: {'n_estimators': 437, 'max_depth': 21, 'min_samples_split': 28, 'min_samples_leaf': 8, 'poly_degree': 3}. Best is trial 11 with value: -0.0036241239095552704.\n",
      "[I 2025-05-03 15:55:07,201] Trial 94 finished with value: -0.0047671914783097066 and parameters: {'n_estimators': 110, 'max_depth': 49, 'min_samples_split': 3, 'min_samples_leaf': 29, 'poly_degree': 2}. Best is trial 11 with value: -0.0036241239095552704.\n",
      "[I 2025-05-03 15:55:14,046] Trial 95 finished with value: -0.004807828271028024 and parameters: {'n_estimators': 994, 'max_depth': 13, 'min_samples_split': 19, 'min_samples_leaf': 32, 'poly_degree': 2}. Best is trial 11 with value: -0.0036241239095552704.\n",
      "[I 2025-05-03 15:55:19,523] Trial 96 finished with value: -0.00449171956294802 and parameters: {'n_estimators': 667, 'max_depth': 38, 'min_samples_split': 16, 'min_samples_leaf': 21, 'poly_degree': 2}. Best is trial 11 with value: -0.0036241239095552704.\n",
      "[I 2025-05-03 15:55:32,870] Trial 97 finished with value: -0.004756297718842272 and parameters: {'n_estimators': 911, 'max_depth': 11, 'min_samples_split': 10, 'min_samples_leaf': 31, 'poly_degree': 3}. Best is trial 11 with value: -0.0036241239095552704.\n",
      "[I 2025-05-03 15:55:38,668] Trial 98 finished with value: -0.003974205196842473 and parameters: {'n_estimators': 510, 'max_depth': 35, 'min_samples_split': 10, 'min_samples_leaf': 7, 'poly_degree': 2}. Best is trial 11 with value: -0.0036241239095552704.\n",
      "[I 2025-05-03 15:55:44,926] Trial 99 finished with value: -0.004786838826508726 and parameters: {'n_estimators': 418, 'max_depth': 33, 'min_samples_split': 4, 'min_samples_leaf': 32, 'poly_degree': 3}. Best is trial 11 with value: -0.0036241239095552704.\n"
     ]
    }
   ],
   "source": [
    "study.optimize(objective, n_trials=100)"
   ]
  },
  {
   "cell_type": "code",
   "execution_count": 104,
   "metadata": {},
   "outputs": [
    {
     "data": {
      "application/vnd.plotly.v1+json": {
       "config": {
        "plotlyServerURL": "https://plot.ly"
       },
       "data": [
        {
         "mode": "markers",
         "name": "Objective Value",
         "type": "scatter",
         "x": [
          0,
          1,
          2,
          3,
          4,
          5,
          6,
          7,
          8,
          9,
          10,
          11,
          12,
          13,
          14,
          15,
          16,
          17,
          18,
          19,
          20,
          21,
          22,
          23,
          24,
          25,
          26,
          27,
          28,
          29,
          30,
          31,
          32,
          33,
          34,
          35,
          36,
          37,
          38,
          39,
          40,
          41,
          42,
          43,
          44,
          45,
          46,
          47,
          48,
          49,
          50,
          51,
          52,
          53,
          54,
          55,
          56,
          57,
          58,
          59,
          60,
          61,
          62,
          63,
          64,
          65,
          66,
          67,
          68,
          69,
          70,
          71,
          72,
          73,
          74,
          75,
          76,
          77,
          78,
          79,
          80,
          81,
          82,
          83,
          84,
          85,
          86,
          87,
          88,
          89,
          90,
          91,
          92,
          93,
          94,
          95,
          96,
          97,
          98,
          99
         ],
         "y": [
          -0.004594551395352957,
          -0.00445005723682228,
          -0.004058536747106786,
          -0.0043284876421504324,
          -0.004183290625063006,
          -0.004553221088905075,
          -0.004752593016742568,
          -0.0045265697890884546,
          -0.0049650941125509804,
          -0.004511488831826607,
          -0.004743798419693218,
          -0.0036241239095552704,
          -0.00423796605303529,
          -0.0038484038244531297,
          -0.004657842470939627,
          -0.004210746383528692,
          -0.003699951970753031,
          -0.004750202721177706,
          -0.004397882523599809,
          -0.003646923723671687,
          -0.004364823260928246,
          -0.004047212675755267,
          -0.004665998136968649,
          -0.0047440848008879705,
          -0.0037420685408213203,
          -0.003787512639792699,
          -0.004118510967973881,
          -0.004160503256980205,
          -0.004103566314335629,
          -0.003718858295860096,
          -0.004308673297306304,
          -0.004040042246262891,
          -0.0045201174042033086,
          -0.0037008362865401296,
          -0.0040183997603309585,
          -0.004956182464025692,
          -0.004943134212086205,
          -0.004468129233600823,
          -0.004513800793204421,
          -0.004711295213480037,
          -0.004741287526160515,
          -0.003765482425461649,
          -0.0040104842807829385,
          -0.004483430380542613,
          -0.004212100292250278,
          -0.004757097775829026,
          -0.004424183195551325,
          -0.004625494691963314,
          -0.004262157234587121,
          -0.004757518699032693,
          -0.00420719590181459,
          -0.004551262325236609,
          -0.004340342726652274,
          -0.004210813379472086,
          -0.0047646857387594,
          -0.0045288470738796965,
          -0.003830272958938894,
          -0.004116116846955406,
          -0.004249866429755013,
          -0.004587395891737641,
          -0.0045081954299406694,
          -0.004841108466619399,
          -0.004755588076602587,
          -0.0038401537111226666,
          -0.004043996417206556,
          -0.004317885235430334,
          -0.0037250783401068356,
          -0.004454595458699508,
          -0.004266073711332451,
          -0.004183254616338565,
          -0.003922438576230307,
          -0.004782811465159837,
          -0.004380229441445352,
          -0.004058892650601959,
          -0.00468517819004035,
          -0.0048842350952154855,
          -0.004706122447285589,
          -0.004596677083544417,
          -0.004627541180710036,
          -0.004595349425142788,
          -0.004887809209595641,
          -0.004935128434555965,
          -0.004433454717831723,
          -0.004497100486271335,
          -0.0044242221433768245,
          -0.004245157701759228,
          -0.003831309739622633,
          -0.004702957968129791,
          -0.0041752864103017946,
          -0.004272002340328744,
          -0.004956706003010737,
          -0.0037147621042621015,
          -0.004430616268072231,
          -0.004053993218316742,
          -0.0047671914783097066,
          -0.004807828271028024,
          -0.00449171956294802,
          -0.004756297718842272,
          -0.003974205196842473,
          -0.004786838826508726
         ]
        },
        {
         "mode": "lines",
         "name": "Best Value",
         "type": "scatter",
         "x": [
          0,
          1,
          2,
          3,
          4,
          5,
          6,
          7,
          8,
          9,
          10,
          11,
          12,
          13,
          14,
          15,
          16,
          17,
          18,
          19,
          20,
          21,
          22,
          23,
          24,
          25,
          26,
          27,
          28,
          29,
          30,
          31,
          32,
          33,
          34,
          35,
          36,
          37,
          38,
          39,
          40,
          41,
          42,
          43,
          44,
          45,
          46,
          47,
          48,
          49,
          50,
          51,
          52,
          53,
          54,
          55,
          56,
          57,
          58,
          59,
          60,
          61,
          62,
          63,
          64,
          65,
          66,
          67,
          68,
          69,
          70,
          71,
          72,
          73,
          74,
          75,
          76,
          77,
          78,
          79,
          80,
          81,
          82,
          83,
          84,
          85,
          86,
          87,
          88,
          89,
          90,
          91,
          92,
          93,
          94,
          95,
          96,
          97,
          98,
          99
         ],
         "y": [
          -0.004594551395352957,
          -0.00445005723682228,
          -0.004058536747106786,
          -0.004058536747106786,
          -0.004058536747106786,
          -0.004058536747106786,
          -0.004058536747106786,
          -0.004058536747106786,
          -0.004058536747106786,
          -0.004058536747106786,
          -0.004058536747106786,
          -0.0036241239095552704,
          -0.0036241239095552704,
          -0.0036241239095552704,
          -0.0036241239095552704,
          -0.0036241239095552704,
          -0.0036241239095552704,
          -0.0036241239095552704,
          -0.0036241239095552704,
          -0.0036241239095552704,
          -0.0036241239095552704,
          -0.0036241239095552704,
          -0.0036241239095552704,
          -0.0036241239095552704,
          -0.0036241239095552704,
          -0.0036241239095552704,
          -0.0036241239095552704,
          -0.0036241239095552704,
          -0.0036241239095552704,
          -0.0036241239095552704,
          -0.0036241239095552704,
          -0.0036241239095552704,
          -0.0036241239095552704,
          -0.0036241239095552704,
          -0.0036241239095552704,
          -0.0036241239095552704,
          -0.0036241239095552704,
          -0.0036241239095552704,
          -0.0036241239095552704,
          -0.0036241239095552704,
          -0.0036241239095552704,
          -0.0036241239095552704,
          -0.0036241239095552704,
          -0.0036241239095552704,
          -0.0036241239095552704,
          -0.0036241239095552704,
          -0.0036241239095552704,
          -0.0036241239095552704,
          -0.0036241239095552704,
          -0.0036241239095552704,
          -0.0036241239095552704,
          -0.0036241239095552704,
          -0.0036241239095552704,
          -0.0036241239095552704,
          -0.0036241239095552704,
          -0.0036241239095552704,
          -0.0036241239095552704,
          -0.0036241239095552704,
          -0.0036241239095552704,
          -0.0036241239095552704,
          -0.0036241239095552704,
          -0.0036241239095552704,
          -0.0036241239095552704,
          -0.0036241239095552704,
          -0.0036241239095552704,
          -0.0036241239095552704,
          -0.0036241239095552704,
          -0.0036241239095552704,
          -0.0036241239095552704,
          -0.0036241239095552704,
          -0.0036241239095552704,
          -0.0036241239095552704,
          -0.0036241239095552704,
          -0.0036241239095552704,
          -0.0036241239095552704,
          -0.0036241239095552704,
          -0.0036241239095552704,
          -0.0036241239095552704,
          -0.0036241239095552704,
          -0.0036241239095552704,
          -0.0036241239095552704,
          -0.0036241239095552704,
          -0.0036241239095552704,
          -0.0036241239095552704,
          -0.0036241239095552704,
          -0.0036241239095552704,
          -0.0036241239095552704,
          -0.0036241239095552704,
          -0.0036241239095552704,
          -0.0036241239095552704,
          -0.0036241239095552704,
          -0.0036241239095552704,
          -0.0036241239095552704,
          -0.0036241239095552704,
          -0.0036241239095552704,
          -0.0036241239095552704,
          -0.0036241239095552704,
          -0.0036241239095552704,
          -0.0036241239095552704,
          -0.0036241239095552704
         ]
        },
        {
         "marker": {
          "color": "#cccccc"
         },
         "mode": "markers",
         "name": "Infeasible Trial",
         "showlegend": false,
         "type": "scatter",
         "x": [],
         "y": []
        }
       ],
       "layout": {
        "template": {
         "data": {
          "bar": [
           {
            "error_x": {
             "color": "#2a3f5f"
            },
            "error_y": {
             "color": "#2a3f5f"
            },
            "marker": {
             "line": {
              "color": "#E5ECF6",
              "width": 0.5
             },
             "pattern": {
              "fillmode": "overlay",
              "size": 10,
              "solidity": 0.2
             }
            },
            "type": "bar"
           }
          ],
          "barpolar": [
           {
            "marker": {
             "line": {
              "color": "#E5ECF6",
              "width": 0.5
             },
             "pattern": {
              "fillmode": "overlay",
              "size": 10,
              "solidity": 0.2
             }
            },
            "type": "barpolar"
           }
          ],
          "carpet": [
           {
            "aaxis": {
             "endlinecolor": "#2a3f5f",
             "gridcolor": "white",
             "linecolor": "white",
             "minorgridcolor": "white",
             "startlinecolor": "#2a3f5f"
            },
            "baxis": {
             "endlinecolor": "#2a3f5f",
             "gridcolor": "white",
             "linecolor": "white",
             "minorgridcolor": "white",
             "startlinecolor": "#2a3f5f"
            },
            "type": "carpet"
           }
          ],
          "choropleth": [
           {
            "colorbar": {
             "outlinewidth": 0,
             "ticks": ""
            },
            "type": "choropleth"
           }
          ],
          "contour": [
           {
            "colorbar": {
             "outlinewidth": 0,
             "ticks": ""
            },
            "colorscale": [
             [
              0,
              "#0d0887"
             ],
             [
              0.1111111111111111,
              "#46039f"
             ],
             [
              0.2222222222222222,
              "#7201a8"
             ],
             [
              0.3333333333333333,
              "#9c179e"
             ],
             [
              0.4444444444444444,
              "#bd3786"
             ],
             [
              0.5555555555555556,
              "#d8576b"
             ],
             [
              0.6666666666666666,
              "#ed7953"
             ],
             [
              0.7777777777777778,
              "#fb9f3a"
             ],
             [
              0.8888888888888888,
              "#fdca26"
             ],
             [
              1,
              "#f0f921"
             ]
            ],
            "type": "contour"
           }
          ],
          "contourcarpet": [
           {
            "colorbar": {
             "outlinewidth": 0,
             "ticks": ""
            },
            "type": "contourcarpet"
           }
          ],
          "heatmap": [
           {
            "colorbar": {
             "outlinewidth": 0,
             "ticks": ""
            },
            "colorscale": [
             [
              0,
              "#0d0887"
             ],
             [
              0.1111111111111111,
              "#46039f"
             ],
             [
              0.2222222222222222,
              "#7201a8"
             ],
             [
              0.3333333333333333,
              "#9c179e"
             ],
             [
              0.4444444444444444,
              "#bd3786"
             ],
             [
              0.5555555555555556,
              "#d8576b"
             ],
             [
              0.6666666666666666,
              "#ed7953"
             ],
             [
              0.7777777777777778,
              "#fb9f3a"
             ],
             [
              0.8888888888888888,
              "#fdca26"
             ],
             [
              1,
              "#f0f921"
             ]
            ],
            "type": "heatmap"
           }
          ],
          "histogram": [
           {
            "marker": {
             "pattern": {
              "fillmode": "overlay",
              "size": 10,
              "solidity": 0.2
             }
            },
            "type": "histogram"
           }
          ],
          "histogram2d": [
           {
            "colorbar": {
             "outlinewidth": 0,
             "ticks": ""
            },
            "colorscale": [
             [
              0,
              "#0d0887"
             ],
             [
              0.1111111111111111,
              "#46039f"
             ],
             [
              0.2222222222222222,
              "#7201a8"
             ],
             [
              0.3333333333333333,
              "#9c179e"
             ],
             [
              0.4444444444444444,
              "#bd3786"
             ],
             [
              0.5555555555555556,
              "#d8576b"
             ],
             [
              0.6666666666666666,
              "#ed7953"
             ],
             [
              0.7777777777777778,
              "#fb9f3a"
             ],
             [
              0.8888888888888888,
              "#fdca26"
             ],
             [
              1,
              "#f0f921"
             ]
            ],
            "type": "histogram2d"
           }
          ],
          "histogram2dcontour": [
           {
            "colorbar": {
             "outlinewidth": 0,
             "ticks": ""
            },
            "colorscale": [
             [
              0,
              "#0d0887"
             ],
             [
              0.1111111111111111,
              "#46039f"
             ],
             [
              0.2222222222222222,
              "#7201a8"
             ],
             [
              0.3333333333333333,
              "#9c179e"
             ],
             [
              0.4444444444444444,
              "#bd3786"
             ],
             [
              0.5555555555555556,
              "#d8576b"
             ],
             [
              0.6666666666666666,
              "#ed7953"
             ],
             [
              0.7777777777777778,
              "#fb9f3a"
             ],
             [
              0.8888888888888888,
              "#fdca26"
             ],
             [
              1,
              "#f0f921"
             ]
            ],
            "type": "histogram2dcontour"
           }
          ],
          "mesh3d": [
           {
            "colorbar": {
             "outlinewidth": 0,
             "ticks": ""
            },
            "type": "mesh3d"
           }
          ],
          "parcoords": [
           {
            "line": {
             "colorbar": {
              "outlinewidth": 0,
              "ticks": ""
             }
            },
            "type": "parcoords"
           }
          ],
          "pie": [
           {
            "automargin": true,
            "type": "pie"
           }
          ],
          "scatter": [
           {
            "fillpattern": {
             "fillmode": "overlay",
             "size": 10,
             "solidity": 0.2
            },
            "type": "scatter"
           }
          ],
          "scatter3d": [
           {
            "line": {
             "colorbar": {
              "outlinewidth": 0,
              "ticks": ""
             }
            },
            "marker": {
             "colorbar": {
              "outlinewidth": 0,
              "ticks": ""
             }
            },
            "type": "scatter3d"
           }
          ],
          "scattercarpet": [
           {
            "marker": {
             "colorbar": {
              "outlinewidth": 0,
              "ticks": ""
             }
            },
            "type": "scattercarpet"
           }
          ],
          "scattergeo": [
           {
            "marker": {
             "colorbar": {
              "outlinewidth": 0,
              "ticks": ""
             }
            },
            "type": "scattergeo"
           }
          ],
          "scattergl": [
           {
            "marker": {
             "colorbar": {
              "outlinewidth": 0,
              "ticks": ""
             }
            },
            "type": "scattergl"
           }
          ],
          "scattermap": [
           {
            "marker": {
             "colorbar": {
              "outlinewidth": 0,
              "ticks": ""
             }
            },
            "type": "scattermap"
           }
          ],
          "scattermapbox": [
           {
            "marker": {
             "colorbar": {
              "outlinewidth": 0,
              "ticks": ""
             }
            },
            "type": "scattermapbox"
           }
          ],
          "scatterpolar": [
           {
            "marker": {
             "colorbar": {
              "outlinewidth": 0,
              "ticks": ""
             }
            },
            "type": "scatterpolar"
           }
          ],
          "scatterpolargl": [
           {
            "marker": {
             "colorbar": {
              "outlinewidth": 0,
              "ticks": ""
             }
            },
            "type": "scatterpolargl"
           }
          ],
          "scatterternary": [
           {
            "marker": {
             "colorbar": {
              "outlinewidth": 0,
              "ticks": ""
             }
            },
            "type": "scatterternary"
           }
          ],
          "surface": [
           {
            "colorbar": {
             "outlinewidth": 0,
             "ticks": ""
            },
            "colorscale": [
             [
              0,
              "#0d0887"
             ],
             [
              0.1111111111111111,
              "#46039f"
             ],
             [
              0.2222222222222222,
              "#7201a8"
             ],
             [
              0.3333333333333333,
              "#9c179e"
             ],
             [
              0.4444444444444444,
              "#bd3786"
             ],
             [
              0.5555555555555556,
              "#d8576b"
             ],
             [
              0.6666666666666666,
              "#ed7953"
             ],
             [
              0.7777777777777778,
              "#fb9f3a"
             ],
             [
              0.8888888888888888,
              "#fdca26"
             ],
             [
              1,
              "#f0f921"
             ]
            ],
            "type": "surface"
           }
          ],
          "table": [
           {
            "cells": {
             "fill": {
              "color": "#EBF0F8"
             },
             "line": {
              "color": "white"
             }
            },
            "header": {
             "fill": {
              "color": "#C8D4E3"
             },
             "line": {
              "color": "white"
             }
            },
            "type": "table"
           }
          ]
         },
         "layout": {
          "annotationdefaults": {
           "arrowcolor": "#2a3f5f",
           "arrowhead": 0,
           "arrowwidth": 1
          },
          "autotypenumbers": "strict",
          "coloraxis": {
           "colorbar": {
            "outlinewidth": 0,
            "ticks": ""
           }
          },
          "colorscale": {
           "diverging": [
            [
             0,
             "#8e0152"
            ],
            [
             0.1,
             "#c51b7d"
            ],
            [
             0.2,
             "#de77ae"
            ],
            [
             0.3,
             "#f1b6da"
            ],
            [
             0.4,
             "#fde0ef"
            ],
            [
             0.5,
             "#f7f7f7"
            ],
            [
             0.6,
             "#e6f5d0"
            ],
            [
             0.7,
             "#b8e186"
            ],
            [
             0.8,
             "#7fbc41"
            ],
            [
             0.9,
             "#4d9221"
            ],
            [
             1,
             "#276419"
            ]
           ],
           "sequential": [
            [
             0,
             "#0d0887"
            ],
            [
             0.1111111111111111,
             "#46039f"
            ],
            [
             0.2222222222222222,
             "#7201a8"
            ],
            [
             0.3333333333333333,
             "#9c179e"
            ],
            [
             0.4444444444444444,
             "#bd3786"
            ],
            [
             0.5555555555555556,
             "#d8576b"
            ],
            [
             0.6666666666666666,
             "#ed7953"
            ],
            [
             0.7777777777777778,
             "#fb9f3a"
            ],
            [
             0.8888888888888888,
             "#fdca26"
            ],
            [
             1,
             "#f0f921"
            ]
           ],
           "sequentialminus": [
            [
             0,
             "#0d0887"
            ],
            [
             0.1111111111111111,
             "#46039f"
            ],
            [
             0.2222222222222222,
             "#7201a8"
            ],
            [
             0.3333333333333333,
             "#9c179e"
            ],
            [
             0.4444444444444444,
             "#bd3786"
            ],
            [
             0.5555555555555556,
             "#d8576b"
            ],
            [
             0.6666666666666666,
             "#ed7953"
            ],
            [
             0.7777777777777778,
             "#fb9f3a"
            ],
            [
             0.8888888888888888,
             "#fdca26"
            ],
            [
             1,
             "#f0f921"
            ]
           ]
          },
          "colorway": [
           "#636efa",
           "#EF553B",
           "#00cc96",
           "#ab63fa",
           "#FFA15A",
           "#19d3f3",
           "#FF6692",
           "#B6E880",
           "#FF97FF",
           "#FECB52"
          ],
          "font": {
           "color": "#2a3f5f"
          },
          "geo": {
           "bgcolor": "white",
           "lakecolor": "white",
           "landcolor": "#E5ECF6",
           "showlakes": true,
           "showland": true,
           "subunitcolor": "white"
          },
          "hoverlabel": {
           "align": "left"
          },
          "hovermode": "closest",
          "mapbox": {
           "style": "light"
          },
          "paper_bgcolor": "white",
          "plot_bgcolor": "#E5ECF6",
          "polar": {
           "angularaxis": {
            "gridcolor": "white",
            "linecolor": "white",
            "ticks": ""
           },
           "bgcolor": "#E5ECF6",
           "radialaxis": {
            "gridcolor": "white",
            "linecolor": "white",
            "ticks": ""
           }
          },
          "scene": {
           "xaxis": {
            "backgroundcolor": "#E5ECF6",
            "gridcolor": "white",
            "gridwidth": 2,
            "linecolor": "white",
            "showbackground": true,
            "ticks": "",
            "zerolinecolor": "white"
           },
           "yaxis": {
            "backgroundcolor": "#E5ECF6",
            "gridcolor": "white",
            "gridwidth": 2,
            "linecolor": "white",
            "showbackground": true,
            "ticks": "",
            "zerolinecolor": "white"
           },
           "zaxis": {
            "backgroundcolor": "#E5ECF6",
            "gridcolor": "white",
            "gridwidth": 2,
            "linecolor": "white",
            "showbackground": true,
            "ticks": "",
            "zerolinecolor": "white"
           }
          },
          "shapedefaults": {
           "line": {
            "color": "#2a3f5f"
           }
          },
          "ternary": {
           "aaxis": {
            "gridcolor": "white",
            "linecolor": "white",
            "ticks": ""
           },
           "baxis": {
            "gridcolor": "white",
            "linecolor": "white",
            "ticks": ""
           },
           "bgcolor": "#E5ECF6",
           "caxis": {
            "gridcolor": "white",
            "linecolor": "white",
            "ticks": ""
           }
          },
          "title": {
           "x": 0.05
          },
          "xaxis": {
           "automargin": true,
           "gridcolor": "white",
           "linecolor": "white",
           "ticks": "",
           "title": {
            "standoff": 15
           },
           "zerolinecolor": "white",
           "zerolinewidth": 2
          },
          "yaxis": {
           "automargin": true,
           "gridcolor": "white",
           "linecolor": "white",
           "ticks": "",
           "title": {
            "standoff": 15
           },
           "zerolinecolor": "white",
           "zerolinewidth": 2
          }
         }
        },
        "title": {
         "text": "Optimization History Plot"
        },
        "xaxis": {
         "title": {
          "text": "Trial"
         }
        },
        "yaxis": {
         "title": {
          "text": "Objective Value"
         }
        }
       }
      }
     },
     "metadata": {},
     "output_type": "display_data"
    }
   ],
   "source": [
    "optuna.visualization.plot_optimization_history(study)"
   ]
  },
  {
   "cell_type": "code",
   "execution_count": 105,
   "metadata": {},
   "outputs": [
    {
     "name": "stdout",
     "output_type": "stream",
     "text": [
      "Best Hyperparameters: {'n_estimators': 930, 'max_depth': 13, 'min_samples_split': 8, 'min_samples_leaf': 2, 'poly_degree': 1}\n"
     ]
    }
   ],
   "source": [
    "best_params = study.best_params \n",
    "print(f\"Best Hyperparameters: {best_params}\")"
   ]
  },
  {
   "cell_type": "code",
   "execution_count": 106,
   "metadata": {},
   "outputs": [
    {
     "data": {
      "application/vnd.plotly.v1+json": {
       "config": {
        "plotlyServerURL": "https://plot.ly"
       },
       "data": [
        {
         "marker": {
          "color": [
           0,
           1,
           2,
           3,
           4,
           5,
           6,
           7,
           8,
           9,
           10,
           11,
           12,
           13,
           14,
           15,
           16,
           17,
           18,
           19,
           20,
           21,
           22,
           23,
           24,
           25,
           26,
           27,
           28,
           29,
           30,
           31,
           32,
           33,
           34,
           35,
           36,
           37,
           38,
           39,
           40,
           41,
           42,
           43,
           44,
           45,
           46,
           47,
           48,
           49,
           50,
           51,
           52,
           53,
           54,
           55,
           56,
           57,
           58,
           59,
           60,
           61,
           62,
           63,
           64,
           65,
           66,
           67,
           68,
           69,
           70,
           71,
           72,
           73,
           74,
           75,
           76,
           77,
           78,
           79,
           80,
           81,
           82,
           83,
           84,
           85,
           86,
           87,
           88,
           89,
           90,
           91,
           92,
           93,
           94,
           95,
           96,
           97,
           98,
           99
          ],
          "colorbar": {
           "title": {
            "text": "Trial"
           },
           "x": 1,
           "xpad": 40
          },
          "colorscale": [
           [
            0,
            "rgb(247,251,255)"
           ],
           [
            0.125,
            "rgb(222,235,247)"
           ],
           [
            0.25,
            "rgb(198,219,239)"
           ],
           [
            0.375,
            "rgb(158,202,225)"
           ],
           [
            0.5,
            "rgb(107,174,214)"
           ],
           [
            0.625,
            "rgb(66,146,198)"
           ],
           [
            0.75,
            "rgb(33,113,181)"
           ],
           [
            0.875,
            "rgb(8,81,156)"
           ],
           [
            1,
            "rgb(8,48,107)"
           ]
          ],
          "line": {
           "color": "Grey",
           "width": 0.5
          },
          "showscale": true
         },
         "mode": "markers",
         "name": "Feasible Trial",
         "showlegend": false,
         "type": "scatter",
         "x": [
          48,
          12,
          49,
          22,
          15,
          18,
          16,
          22,
          30,
          22,
          41,
          13,
          21,
          15,
          18,
          41,
          35,
          39,
          39,
          31,
          36,
          26,
          16,
          42,
          46,
          43,
          19,
          31,
          20,
          34,
          19,
          37,
          35,
          23,
          10,
          38,
          14,
          43,
          46,
          39,
          13,
          14,
          38,
          23,
          33,
          49,
          30,
          21,
          49,
          27,
          25,
          48,
          50,
          38,
          43,
          42,
          23,
          29,
          11,
          41,
          31,
          31,
          13,
          26,
          39,
          32,
          41,
          45,
          29,
          36,
          45,
          11,
          36,
          49,
          10,
          44,
          38,
          21,
          26,
          45,
          47,
          25,
          48,
          22,
          42,
          28,
          41,
          12,
          50,
          50,
          32,
          10,
          36,
          21,
          49,
          13,
          38,
          11,
          35,
          33
         ],
         "xaxis": "x",
         "y": [
          -0.004594551395352957,
          -0.00445005723682228,
          -0.004058536747106786,
          -0.0043284876421504324,
          -0.004183290625063006,
          -0.004553221088905075,
          -0.004752593016742568,
          -0.0045265697890884546,
          -0.0049650941125509804,
          -0.004511488831826607,
          -0.004743798419693218,
          -0.0036241239095552704,
          -0.00423796605303529,
          -0.0038484038244531297,
          -0.004657842470939627,
          -0.004210746383528692,
          -0.003699951970753031,
          -0.004750202721177706,
          -0.004397882523599809,
          -0.003646923723671687,
          -0.004364823260928246,
          -0.004047212675755267,
          -0.004665998136968649,
          -0.0047440848008879705,
          -0.0037420685408213203,
          -0.003787512639792699,
          -0.004118510967973881,
          -0.004160503256980205,
          -0.004103566314335629,
          -0.003718858295860096,
          -0.004308673297306304,
          -0.004040042246262891,
          -0.0045201174042033086,
          -0.0037008362865401296,
          -0.0040183997603309585,
          -0.004956182464025692,
          -0.004943134212086205,
          -0.004468129233600823,
          -0.004513800793204421,
          -0.004711295213480037,
          -0.004741287526160515,
          -0.003765482425461649,
          -0.0040104842807829385,
          -0.004483430380542613,
          -0.004212100292250278,
          -0.004757097775829026,
          -0.004424183195551325,
          -0.004625494691963314,
          -0.004262157234587121,
          -0.004757518699032693,
          -0.00420719590181459,
          -0.004551262325236609,
          -0.004340342726652274,
          -0.004210813379472086,
          -0.0047646857387594,
          -0.0045288470738796965,
          -0.003830272958938894,
          -0.004116116846955406,
          -0.004249866429755013,
          -0.004587395891737641,
          -0.0045081954299406694,
          -0.004841108466619399,
          -0.004755588076602587,
          -0.0038401537111226666,
          -0.004043996417206556,
          -0.004317885235430334,
          -0.0037250783401068356,
          -0.004454595458699508,
          -0.004266073711332451,
          -0.004183254616338565,
          -0.003922438576230307,
          -0.004782811465159837,
          -0.004380229441445352,
          -0.004058892650601959,
          -0.00468517819004035,
          -0.0048842350952154855,
          -0.004706122447285589,
          -0.004596677083544417,
          -0.004627541180710036,
          -0.004595349425142788,
          -0.004887809209595641,
          -0.004935128434555965,
          -0.004433454717831723,
          -0.004497100486271335,
          -0.0044242221433768245,
          -0.004245157701759228,
          -0.003831309739622633,
          -0.004702957968129791,
          -0.0041752864103017946,
          -0.004272002340328744,
          -0.004956706003010737,
          -0.0037147621042621015,
          -0.004430616268072231,
          -0.004053993218316742,
          -0.0047671914783097066,
          -0.004807828271028024,
          -0.00449171956294802,
          -0.004756297718842272,
          -0.003974205196842473,
          -0.004786838826508726
         ],
         "yaxis": "y"
        },
        {
         "marker": {
          "color": [
           0,
           1,
           2,
           3,
           4,
           5,
           6,
           7,
           8,
           9,
           10,
           11,
           12,
           13,
           14,
           15,
           16,
           17,
           18,
           19,
           20,
           21,
           22,
           23,
           24,
           25,
           26,
           27,
           28,
           29,
           30,
           31,
           32,
           33,
           34,
           35,
           36,
           37,
           38,
           39,
           40,
           41,
           42,
           43,
           44,
           45,
           46,
           47,
           48,
           49,
           50,
           51,
           52,
           53,
           54,
           55,
           56,
           57,
           58,
           59,
           60,
           61,
           62,
           63,
           64,
           65,
           66,
           67,
           68,
           69,
           70,
           71,
           72,
           73,
           74,
           75,
           76,
           77,
           78,
           79,
           80,
           81,
           82,
           83,
           84,
           85,
           86,
           87,
           88,
           89,
           90,
           91,
           92,
           93,
           94,
           95,
           96,
           97,
           98,
           99
          ],
          "colorbar": {
           "title": {
            "text": "Trial"
           },
           "x": 1,
           "xpad": 40
          },
          "colorscale": [
           [
            0,
            "rgb(247,251,255)"
           ],
           [
            0.125,
            "rgb(222,235,247)"
           ],
           [
            0.25,
            "rgb(198,219,239)"
           ],
           [
            0.375,
            "rgb(158,202,225)"
           ],
           [
            0.5,
            "rgb(107,174,214)"
           ],
           [
            0.625,
            "rgb(66,146,198)"
           ],
           [
            0.75,
            "rgb(33,113,181)"
           ],
           [
            0.875,
            "rgb(8,81,156)"
           ],
           [
            1,
            "rgb(8,48,107)"
           ]
          ],
          "line": {
           "color": "Grey",
           "width": 0.5
          },
          "showscale": false
         },
         "mode": "markers",
         "name": "Feasible Trial",
         "showlegend": false,
         "type": "scatter",
         "x": [
          20,
          20,
          7,
          14,
          12,
          19,
          31,
          22,
          30,
          18,
          29,
          2,
          12,
          3,
          27,
          12,
          3,
          29,
          18,
          1,
          17,
          8,
          26,
          29,
          4,
          1,
          11,
          12,
          10,
          2,
          16,
          8,
          18,
          2,
          8,
          30,
          29,
          17,
          21,
          29,
          29,
          1,
          8,
          21,
          12,
          29,
          16,
          21,
          12,
          31,
          11,
          19,
          17,
          12,
          30,
          23,
          4,
          10,
          12,
          20,
          21,
          26,
          31,
          6,
          9,
          14,
          4,
          16,
          14,
          12,
          6,
          31,
          18,
          7,
          22,
          27,
          29,
          25,
          25,
          25,
          27,
          29,
          19,
          22,
          16,
          12,
          4,
          23,
          12,
          13,
          30,
          2,
          19,
          8,
          29,
          32,
          21,
          31,
          7,
          32
         ],
         "xaxis": "x2",
         "y": [
          -0.004594551395352957,
          -0.00445005723682228,
          -0.004058536747106786,
          -0.0043284876421504324,
          -0.004183290625063006,
          -0.004553221088905075,
          -0.004752593016742568,
          -0.0045265697890884546,
          -0.0049650941125509804,
          -0.004511488831826607,
          -0.004743798419693218,
          -0.0036241239095552704,
          -0.00423796605303529,
          -0.0038484038244531297,
          -0.004657842470939627,
          -0.004210746383528692,
          -0.003699951970753031,
          -0.004750202721177706,
          -0.004397882523599809,
          -0.003646923723671687,
          -0.004364823260928246,
          -0.004047212675755267,
          -0.004665998136968649,
          -0.0047440848008879705,
          -0.0037420685408213203,
          -0.003787512639792699,
          -0.004118510967973881,
          -0.004160503256980205,
          -0.004103566314335629,
          -0.003718858295860096,
          -0.004308673297306304,
          -0.004040042246262891,
          -0.0045201174042033086,
          -0.0037008362865401296,
          -0.0040183997603309585,
          -0.004956182464025692,
          -0.004943134212086205,
          -0.004468129233600823,
          -0.004513800793204421,
          -0.004711295213480037,
          -0.004741287526160515,
          -0.003765482425461649,
          -0.0040104842807829385,
          -0.004483430380542613,
          -0.004212100292250278,
          -0.004757097775829026,
          -0.004424183195551325,
          -0.004625494691963314,
          -0.004262157234587121,
          -0.004757518699032693,
          -0.00420719590181459,
          -0.004551262325236609,
          -0.004340342726652274,
          -0.004210813379472086,
          -0.0047646857387594,
          -0.0045288470738796965,
          -0.003830272958938894,
          -0.004116116846955406,
          -0.004249866429755013,
          -0.004587395891737641,
          -0.0045081954299406694,
          -0.004841108466619399,
          -0.004755588076602587,
          -0.0038401537111226666,
          -0.004043996417206556,
          -0.004317885235430334,
          -0.0037250783401068356,
          -0.004454595458699508,
          -0.004266073711332451,
          -0.004183254616338565,
          -0.003922438576230307,
          -0.004782811465159837,
          -0.004380229441445352,
          -0.004058892650601959,
          -0.00468517819004035,
          -0.0048842350952154855,
          -0.004706122447285589,
          -0.004596677083544417,
          -0.004627541180710036,
          -0.004595349425142788,
          -0.004887809209595641,
          -0.004935128434555965,
          -0.004433454717831723,
          -0.004497100486271335,
          -0.0044242221433768245,
          -0.004245157701759228,
          -0.003831309739622633,
          -0.004702957968129791,
          -0.0041752864103017946,
          -0.004272002340328744,
          -0.004956706003010737,
          -0.0037147621042621015,
          -0.004430616268072231,
          -0.004053993218316742,
          -0.0047671914783097066,
          -0.004807828271028024,
          -0.00449171956294802,
          -0.004756297718842272,
          -0.003974205196842473,
          -0.004786838826508726
         ],
         "yaxis": "y2"
        },
        {
         "marker": {
          "color": [
           0,
           1,
           2,
           3,
           4,
           5,
           6,
           7,
           8,
           9,
           10,
           11,
           12,
           13,
           14,
           15,
           16,
           17,
           18,
           19,
           20,
           21,
           22,
           23,
           24,
           25,
           26,
           27,
           28,
           29,
           30,
           31,
           32,
           33,
           34,
           35,
           36,
           37,
           38,
           39,
           40,
           41,
           42,
           43,
           44,
           45,
           46,
           47,
           48,
           49,
           50,
           51,
           52,
           53,
           54,
           55,
           56,
           57,
           58,
           59,
           60,
           61,
           62,
           63,
           64,
           65,
           66,
           67,
           68,
           69,
           70,
           71,
           72,
           73,
           74,
           75,
           76,
           77,
           78,
           79,
           80,
           81,
           82,
           83,
           84,
           85,
           86,
           87,
           88,
           89,
           90,
           91,
           92,
           93,
           94,
           95,
           96,
           97,
           98,
           99
          ],
          "colorbar": {
           "title": {
            "text": "Trial"
           },
           "x": 1,
           "xpad": 40
          },
          "colorscale": [
           [
            0,
            "rgb(247,251,255)"
           ],
           [
            0.125,
            "rgb(222,235,247)"
           ],
           [
            0.25,
            "rgb(198,219,239)"
           ],
           [
            0.375,
            "rgb(158,202,225)"
           ],
           [
            0.5,
            "rgb(107,174,214)"
           ],
           [
            0.625,
            "rgb(66,146,198)"
           ],
           [
            0.75,
            "rgb(33,113,181)"
           ],
           [
            0.875,
            "rgb(8,81,156)"
           ],
           [
            1,
            "rgb(8,48,107)"
           ]
          ],
          "line": {
           "color": "Grey",
           "width": 0.5
          },
          "showscale": false
         },
         "mode": "markers",
         "name": "Feasible Trial",
         "showlegend": false,
         "type": "scatter",
         "x": [
          24,
          28,
          27,
          18,
          11,
          17,
          4,
          5,
          3,
          18,
          31,
          8,
          27,
          26,
          2,
          4,
          12,
          21,
          25,
          15,
          11,
          25,
          30,
          7,
          11,
          28,
          5,
          23,
          17,
          17,
          6,
          25,
          21,
          7,
          17,
          13,
          30,
          19,
          29,
          29,
          7,
          22,
          22,
          25,
          4,
          14,
          19,
          2,
          30,
          31,
          28,
          23,
          6,
          23,
          28,
          22,
          13,
          18,
          27,
          8,
          18,
          12,
          2,
          7,
          22,
          20,
          2,
          23,
          7,
          3,
          22,
          20,
          16,
          30,
          4,
          2,
          21,
          7,
          13,
          15,
          17,
          2,
          31,
          12,
          4,
          29,
          21,
          27,
          13,
          25,
          15,
          16,
          25,
          28,
          3,
          19,
          16,
          10,
          10,
          4
         ],
         "xaxis": "x3",
         "y": [
          -0.004594551395352957,
          -0.00445005723682228,
          -0.004058536747106786,
          -0.0043284876421504324,
          -0.004183290625063006,
          -0.004553221088905075,
          -0.004752593016742568,
          -0.0045265697890884546,
          -0.0049650941125509804,
          -0.004511488831826607,
          -0.004743798419693218,
          -0.0036241239095552704,
          -0.00423796605303529,
          -0.0038484038244531297,
          -0.004657842470939627,
          -0.004210746383528692,
          -0.003699951970753031,
          -0.004750202721177706,
          -0.004397882523599809,
          -0.003646923723671687,
          -0.004364823260928246,
          -0.004047212675755267,
          -0.004665998136968649,
          -0.0047440848008879705,
          -0.0037420685408213203,
          -0.003787512639792699,
          -0.004118510967973881,
          -0.004160503256980205,
          -0.004103566314335629,
          -0.003718858295860096,
          -0.004308673297306304,
          -0.004040042246262891,
          -0.0045201174042033086,
          -0.0037008362865401296,
          -0.0040183997603309585,
          -0.004956182464025692,
          -0.004943134212086205,
          -0.004468129233600823,
          -0.004513800793204421,
          -0.004711295213480037,
          -0.004741287526160515,
          -0.003765482425461649,
          -0.0040104842807829385,
          -0.004483430380542613,
          -0.004212100292250278,
          -0.004757097775829026,
          -0.004424183195551325,
          -0.004625494691963314,
          -0.004262157234587121,
          -0.004757518699032693,
          -0.00420719590181459,
          -0.004551262325236609,
          -0.004340342726652274,
          -0.004210813379472086,
          -0.0047646857387594,
          -0.0045288470738796965,
          -0.003830272958938894,
          -0.004116116846955406,
          -0.004249866429755013,
          -0.004587395891737641,
          -0.0045081954299406694,
          -0.004841108466619399,
          -0.004755588076602587,
          -0.0038401537111226666,
          -0.004043996417206556,
          -0.004317885235430334,
          -0.0037250783401068356,
          -0.004454595458699508,
          -0.004266073711332451,
          -0.004183254616338565,
          -0.003922438576230307,
          -0.004782811465159837,
          -0.004380229441445352,
          -0.004058892650601959,
          -0.00468517819004035,
          -0.0048842350952154855,
          -0.004706122447285589,
          -0.004596677083544417,
          -0.004627541180710036,
          -0.004595349425142788,
          -0.004887809209595641,
          -0.004935128434555965,
          -0.004433454717831723,
          -0.004497100486271335,
          -0.0044242221433768245,
          -0.004245157701759228,
          -0.003831309739622633,
          -0.004702957968129791,
          -0.0041752864103017946,
          -0.004272002340328744,
          -0.004956706003010737,
          -0.0037147621042621015,
          -0.004430616268072231,
          -0.004053993218316742,
          -0.0047671914783097066,
          -0.004807828271028024,
          -0.00449171956294802,
          -0.004756297718842272,
          -0.003974205196842473,
          -0.004786838826508726
         ],
         "yaxis": "y3"
        },
        {
         "marker": {
          "color": [
           0,
           1,
           2,
           3,
           4,
           5,
           6,
           7,
           8,
           9,
           10,
           11,
           12,
           13,
           14,
           15,
           16,
           17,
           18,
           19,
           20,
           21,
           22,
           23,
           24,
           25,
           26,
           27,
           28,
           29,
           30,
           31,
           32,
           33,
           34,
           35,
           36,
           37,
           38,
           39,
           40,
           41,
           42,
           43,
           44,
           45,
           46,
           47,
           48,
           49,
           50,
           51,
           52,
           53,
           54,
           55,
           56,
           57,
           58,
           59,
           60,
           61,
           62,
           63,
           64,
           65,
           66,
           67,
           68,
           69,
           70,
           71,
           72,
           73,
           74,
           75,
           76,
           77,
           78,
           79,
           80,
           81,
           82,
           83,
           84,
           85,
           86,
           87,
           88,
           89,
           90,
           91,
           92,
           93,
           94,
           95,
           96,
           97,
           98,
           99
          ],
          "colorbar": {
           "title": {
            "text": "Trial"
           },
           "x": 1,
           "xpad": 40
          },
          "colorscale": [
           [
            0,
            "rgb(247,251,255)"
           ],
           [
            0.125,
            "rgb(222,235,247)"
           ],
           [
            0.25,
            "rgb(198,219,239)"
           ],
           [
            0.375,
            "rgb(158,202,225)"
           ],
           [
            0.5,
            "rgb(107,174,214)"
           ],
           [
            0.625,
            "rgb(66,146,198)"
           ],
           [
            0.75,
            "rgb(33,113,181)"
           ],
           [
            0.875,
            "rgb(8,81,156)"
           ],
           [
            1,
            "rgb(8,48,107)"
           ]
          ],
          "line": {
           "color": "Grey",
           "width": 0.5
          },
          "showscale": false
         },
         "mode": "markers",
         "name": "Feasible Trial",
         "showlegend": false,
         "type": "scatter",
         "x": [
          437,
          240,
          118,
          265,
          651,
          807,
          647,
          828,
          209,
          696,
          973,
          930,
          450,
          588,
          795,
          756,
          877,
          392,
          207,
          544,
          128,
          324,
          361,
          885,
          827,
          484,
          476,
          391,
          967,
          133,
          918,
          318,
          431,
          852,
          710,
          257,
          407,
          694,
          183,
          414,
          678,
          108,
          594,
          313,
          692,
          319,
          816,
          750,
          947,
          936,
          365,
          601,
          654,
          767,
          829,
          551,
          901,
          132,
          127,
          570,
          146,
          979,
          495,
          727,
          594,
          764,
          420,
          136,
          542,
          654,
          553,
          678,
          449,
          447,
          190,
          387,
          206,
          823,
          992,
          938,
          192,
          906,
          387,
          504,
          813,
          595,
          228,
          731,
          176,
          953,
          800,
          543,
          205,
          437,
          110,
          994,
          667,
          911,
          510,
          418
         ],
         "xaxis": "x4",
         "y": [
          -0.004594551395352957,
          -0.00445005723682228,
          -0.004058536747106786,
          -0.0043284876421504324,
          -0.004183290625063006,
          -0.004553221088905075,
          -0.004752593016742568,
          -0.0045265697890884546,
          -0.0049650941125509804,
          -0.004511488831826607,
          -0.004743798419693218,
          -0.0036241239095552704,
          -0.00423796605303529,
          -0.0038484038244531297,
          -0.004657842470939627,
          -0.004210746383528692,
          -0.003699951970753031,
          -0.004750202721177706,
          -0.004397882523599809,
          -0.003646923723671687,
          -0.004364823260928246,
          -0.004047212675755267,
          -0.004665998136968649,
          -0.0047440848008879705,
          -0.0037420685408213203,
          -0.003787512639792699,
          -0.004118510967973881,
          -0.004160503256980205,
          -0.004103566314335629,
          -0.003718858295860096,
          -0.004308673297306304,
          -0.004040042246262891,
          -0.0045201174042033086,
          -0.0037008362865401296,
          -0.0040183997603309585,
          -0.004956182464025692,
          -0.004943134212086205,
          -0.004468129233600823,
          -0.004513800793204421,
          -0.004711295213480037,
          -0.004741287526160515,
          -0.003765482425461649,
          -0.0040104842807829385,
          -0.004483430380542613,
          -0.004212100292250278,
          -0.004757097775829026,
          -0.004424183195551325,
          -0.004625494691963314,
          -0.004262157234587121,
          -0.004757518699032693,
          -0.00420719590181459,
          -0.004551262325236609,
          -0.004340342726652274,
          -0.004210813379472086,
          -0.0047646857387594,
          -0.0045288470738796965,
          -0.003830272958938894,
          -0.004116116846955406,
          -0.004249866429755013,
          -0.004587395891737641,
          -0.0045081954299406694,
          -0.004841108466619399,
          -0.004755588076602587,
          -0.0038401537111226666,
          -0.004043996417206556,
          -0.004317885235430334,
          -0.0037250783401068356,
          -0.004454595458699508,
          -0.004266073711332451,
          -0.004183254616338565,
          -0.003922438576230307,
          -0.004782811465159837,
          -0.004380229441445352,
          -0.004058892650601959,
          -0.00468517819004035,
          -0.0048842350952154855,
          -0.004706122447285589,
          -0.004596677083544417,
          -0.004627541180710036,
          -0.004595349425142788,
          -0.004887809209595641,
          -0.004935128434555965,
          -0.004433454717831723,
          -0.004497100486271335,
          -0.0044242221433768245,
          -0.004245157701759228,
          -0.003831309739622633,
          -0.004702957968129791,
          -0.0041752864103017946,
          -0.004272002340328744,
          -0.004956706003010737,
          -0.0037147621042621015,
          -0.004430616268072231,
          -0.004053993218316742,
          -0.0047671914783097066,
          -0.004807828271028024,
          -0.00449171956294802,
          -0.004756297718842272,
          -0.003974205196842473,
          -0.004786838826508726
         ],
         "yaxis": "y4"
        },
        {
         "marker": {
          "color": [
           0,
           1,
           2,
           3,
           4,
           5,
           6,
           7,
           8,
           9,
           10,
           11,
           12,
           13,
           14,
           15,
           16,
           17,
           18,
           19,
           20,
           21,
           22,
           23,
           24,
           25,
           26,
           27,
           28,
           29,
           30,
           31,
           32,
           33,
           34,
           35,
           36,
           37,
           38,
           39,
           40,
           41,
           42,
           43,
           44,
           45,
           46,
           47,
           48,
           49,
           50,
           51,
           52,
           53,
           54,
           55,
           56,
           57,
           58,
           59,
           60,
           61,
           62,
           63,
           64,
           65,
           66,
           67,
           68,
           69,
           70,
           71,
           72,
           73,
           74,
           75,
           76,
           77,
           78,
           79,
           80,
           81,
           82,
           83,
           84,
           85,
           86,
           87,
           88,
           89,
           90,
           91,
           92,
           93,
           94,
           95,
           96,
           97,
           98,
           99
          ],
          "colorbar": {
           "title": {
            "text": "Trial"
           },
           "x": 1,
           "xpad": 40
          },
          "colorscale": [
           [
            0,
            "rgb(247,251,255)"
           ],
           [
            0.125,
            "rgb(222,235,247)"
           ],
           [
            0.25,
            "rgb(198,219,239)"
           ],
           [
            0.375,
            "rgb(158,202,225)"
           ],
           [
            0.5,
            "rgb(107,174,214)"
           ],
           [
            0.625,
            "rgb(66,146,198)"
           ],
           [
            0.75,
            "rgb(33,113,181)"
           ],
           [
            0.875,
            "rgb(8,81,156)"
           ],
           [
            1,
            "rgb(8,48,107)"
           ]
          ],
          "line": {
           "color": "Grey",
           "width": 0.5
          },
          "showscale": false
         },
         "mode": "markers",
         "name": "Feasible Trial",
         "showlegend": false,
         "type": "scatter",
         "x": [
          1,
          3,
          1,
          1,
          2,
          1,
          3,
          2,
          1,
          1,
          2,
          1,
          1,
          3,
          3,
          1,
          1,
          2,
          3,
          1,
          3,
          1,
          2,
          2,
          1,
          2,
          3,
          3,
          1,
          1,
          3,
          3,
          1,
          2,
          2,
          1,
          1,
          1,
          2,
          3,
          2,
          1,
          3,
          3,
          1,
          2,
          1,
          1,
          1,
          3,
          1,
          1,
          3,
          1,
          2,
          3,
          2,
          2,
          1,
          1,
          3,
          1,
          3,
          1,
          3,
          1,
          1,
          1,
          2,
          2,
          1,
          2,
          3,
          1,
          1,
          1,
          3,
          3,
          2,
          3,
          1,
          1,
          2,
          3,
          1,
          1,
          1,
          1,
          3,
          1,
          1,
          1,
          3,
          3,
          2,
          2,
          2,
          3,
          2,
          3
         ],
         "xaxis": "x5",
         "y": [
          -0.004594551395352957,
          -0.00445005723682228,
          -0.004058536747106786,
          -0.0043284876421504324,
          -0.004183290625063006,
          -0.004553221088905075,
          -0.004752593016742568,
          -0.0045265697890884546,
          -0.0049650941125509804,
          -0.004511488831826607,
          -0.004743798419693218,
          -0.0036241239095552704,
          -0.00423796605303529,
          -0.0038484038244531297,
          -0.004657842470939627,
          -0.004210746383528692,
          -0.003699951970753031,
          -0.004750202721177706,
          -0.004397882523599809,
          -0.003646923723671687,
          -0.004364823260928246,
          -0.004047212675755267,
          -0.004665998136968649,
          -0.0047440848008879705,
          -0.0037420685408213203,
          -0.003787512639792699,
          -0.004118510967973881,
          -0.004160503256980205,
          -0.004103566314335629,
          -0.003718858295860096,
          -0.004308673297306304,
          -0.004040042246262891,
          -0.0045201174042033086,
          -0.0037008362865401296,
          -0.0040183997603309585,
          -0.004956182464025692,
          -0.004943134212086205,
          -0.004468129233600823,
          -0.004513800793204421,
          -0.004711295213480037,
          -0.004741287526160515,
          -0.003765482425461649,
          -0.0040104842807829385,
          -0.004483430380542613,
          -0.004212100292250278,
          -0.004757097775829026,
          -0.004424183195551325,
          -0.004625494691963314,
          -0.004262157234587121,
          -0.004757518699032693,
          -0.00420719590181459,
          -0.004551262325236609,
          -0.004340342726652274,
          -0.004210813379472086,
          -0.0047646857387594,
          -0.0045288470738796965,
          -0.003830272958938894,
          -0.004116116846955406,
          -0.004249866429755013,
          -0.004587395891737641,
          -0.0045081954299406694,
          -0.004841108466619399,
          -0.004755588076602587,
          -0.0038401537111226666,
          -0.004043996417206556,
          -0.004317885235430334,
          -0.0037250783401068356,
          -0.004454595458699508,
          -0.004266073711332451,
          -0.004183254616338565,
          -0.003922438576230307,
          -0.004782811465159837,
          -0.004380229441445352,
          -0.004058892650601959,
          -0.00468517819004035,
          -0.0048842350952154855,
          -0.004706122447285589,
          -0.004596677083544417,
          -0.004627541180710036,
          -0.004595349425142788,
          -0.004887809209595641,
          -0.004935128434555965,
          -0.004433454717831723,
          -0.004497100486271335,
          -0.0044242221433768245,
          -0.004245157701759228,
          -0.003831309739622633,
          -0.004702957968129791,
          -0.0041752864103017946,
          -0.004272002340328744,
          -0.004956706003010737,
          -0.0037147621042621015,
          -0.004430616268072231,
          -0.004053993218316742,
          -0.0047671914783097066,
          -0.004807828271028024,
          -0.00449171956294802,
          -0.004756297718842272,
          -0.003974205196842473,
          -0.004786838826508726
         ],
         "yaxis": "y5"
        }
       ],
       "layout": {
        "template": {
         "data": {
          "bar": [
           {
            "error_x": {
             "color": "#2a3f5f"
            },
            "error_y": {
             "color": "#2a3f5f"
            },
            "marker": {
             "line": {
              "color": "#E5ECF6",
              "width": 0.5
             },
             "pattern": {
              "fillmode": "overlay",
              "size": 10,
              "solidity": 0.2
             }
            },
            "type": "bar"
           }
          ],
          "barpolar": [
           {
            "marker": {
             "line": {
              "color": "#E5ECF6",
              "width": 0.5
             },
             "pattern": {
              "fillmode": "overlay",
              "size": 10,
              "solidity": 0.2
             }
            },
            "type": "barpolar"
           }
          ],
          "carpet": [
           {
            "aaxis": {
             "endlinecolor": "#2a3f5f",
             "gridcolor": "white",
             "linecolor": "white",
             "minorgridcolor": "white",
             "startlinecolor": "#2a3f5f"
            },
            "baxis": {
             "endlinecolor": "#2a3f5f",
             "gridcolor": "white",
             "linecolor": "white",
             "minorgridcolor": "white",
             "startlinecolor": "#2a3f5f"
            },
            "type": "carpet"
           }
          ],
          "choropleth": [
           {
            "colorbar": {
             "outlinewidth": 0,
             "ticks": ""
            },
            "type": "choropleth"
           }
          ],
          "contour": [
           {
            "colorbar": {
             "outlinewidth": 0,
             "ticks": ""
            },
            "colorscale": [
             [
              0,
              "#0d0887"
             ],
             [
              0.1111111111111111,
              "#46039f"
             ],
             [
              0.2222222222222222,
              "#7201a8"
             ],
             [
              0.3333333333333333,
              "#9c179e"
             ],
             [
              0.4444444444444444,
              "#bd3786"
             ],
             [
              0.5555555555555556,
              "#d8576b"
             ],
             [
              0.6666666666666666,
              "#ed7953"
             ],
             [
              0.7777777777777778,
              "#fb9f3a"
             ],
             [
              0.8888888888888888,
              "#fdca26"
             ],
             [
              1,
              "#f0f921"
             ]
            ],
            "type": "contour"
           }
          ],
          "contourcarpet": [
           {
            "colorbar": {
             "outlinewidth": 0,
             "ticks": ""
            },
            "type": "contourcarpet"
           }
          ],
          "heatmap": [
           {
            "colorbar": {
             "outlinewidth": 0,
             "ticks": ""
            },
            "colorscale": [
             [
              0,
              "#0d0887"
             ],
             [
              0.1111111111111111,
              "#46039f"
             ],
             [
              0.2222222222222222,
              "#7201a8"
             ],
             [
              0.3333333333333333,
              "#9c179e"
             ],
             [
              0.4444444444444444,
              "#bd3786"
             ],
             [
              0.5555555555555556,
              "#d8576b"
             ],
             [
              0.6666666666666666,
              "#ed7953"
             ],
             [
              0.7777777777777778,
              "#fb9f3a"
             ],
             [
              0.8888888888888888,
              "#fdca26"
             ],
             [
              1,
              "#f0f921"
             ]
            ],
            "type": "heatmap"
           }
          ],
          "histogram": [
           {
            "marker": {
             "pattern": {
              "fillmode": "overlay",
              "size": 10,
              "solidity": 0.2
             }
            },
            "type": "histogram"
           }
          ],
          "histogram2d": [
           {
            "colorbar": {
             "outlinewidth": 0,
             "ticks": ""
            },
            "colorscale": [
             [
              0,
              "#0d0887"
             ],
             [
              0.1111111111111111,
              "#46039f"
             ],
             [
              0.2222222222222222,
              "#7201a8"
             ],
             [
              0.3333333333333333,
              "#9c179e"
             ],
             [
              0.4444444444444444,
              "#bd3786"
             ],
             [
              0.5555555555555556,
              "#d8576b"
             ],
             [
              0.6666666666666666,
              "#ed7953"
             ],
             [
              0.7777777777777778,
              "#fb9f3a"
             ],
             [
              0.8888888888888888,
              "#fdca26"
             ],
             [
              1,
              "#f0f921"
             ]
            ],
            "type": "histogram2d"
           }
          ],
          "histogram2dcontour": [
           {
            "colorbar": {
             "outlinewidth": 0,
             "ticks": ""
            },
            "colorscale": [
             [
              0,
              "#0d0887"
             ],
             [
              0.1111111111111111,
              "#46039f"
             ],
             [
              0.2222222222222222,
              "#7201a8"
             ],
             [
              0.3333333333333333,
              "#9c179e"
             ],
             [
              0.4444444444444444,
              "#bd3786"
             ],
             [
              0.5555555555555556,
              "#d8576b"
             ],
             [
              0.6666666666666666,
              "#ed7953"
             ],
             [
              0.7777777777777778,
              "#fb9f3a"
             ],
             [
              0.8888888888888888,
              "#fdca26"
             ],
             [
              1,
              "#f0f921"
             ]
            ],
            "type": "histogram2dcontour"
           }
          ],
          "mesh3d": [
           {
            "colorbar": {
             "outlinewidth": 0,
             "ticks": ""
            },
            "type": "mesh3d"
           }
          ],
          "parcoords": [
           {
            "line": {
             "colorbar": {
              "outlinewidth": 0,
              "ticks": ""
             }
            },
            "type": "parcoords"
           }
          ],
          "pie": [
           {
            "automargin": true,
            "type": "pie"
           }
          ],
          "scatter": [
           {
            "fillpattern": {
             "fillmode": "overlay",
             "size": 10,
             "solidity": 0.2
            },
            "type": "scatter"
           }
          ],
          "scatter3d": [
           {
            "line": {
             "colorbar": {
              "outlinewidth": 0,
              "ticks": ""
             }
            },
            "marker": {
             "colorbar": {
              "outlinewidth": 0,
              "ticks": ""
             }
            },
            "type": "scatter3d"
           }
          ],
          "scattercarpet": [
           {
            "marker": {
             "colorbar": {
              "outlinewidth": 0,
              "ticks": ""
             }
            },
            "type": "scattercarpet"
           }
          ],
          "scattergeo": [
           {
            "marker": {
             "colorbar": {
              "outlinewidth": 0,
              "ticks": ""
             }
            },
            "type": "scattergeo"
           }
          ],
          "scattergl": [
           {
            "marker": {
             "colorbar": {
              "outlinewidth": 0,
              "ticks": ""
             }
            },
            "type": "scattergl"
           }
          ],
          "scattermap": [
           {
            "marker": {
             "colorbar": {
              "outlinewidth": 0,
              "ticks": ""
             }
            },
            "type": "scattermap"
           }
          ],
          "scattermapbox": [
           {
            "marker": {
             "colorbar": {
              "outlinewidth": 0,
              "ticks": ""
             }
            },
            "type": "scattermapbox"
           }
          ],
          "scatterpolar": [
           {
            "marker": {
             "colorbar": {
              "outlinewidth": 0,
              "ticks": ""
             }
            },
            "type": "scatterpolar"
           }
          ],
          "scatterpolargl": [
           {
            "marker": {
             "colorbar": {
              "outlinewidth": 0,
              "ticks": ""
             }
            },
            "type": "scatterpolargl"
           }
          ],
          "scatterternary": [
           {
            "marker": {
             "colorbar": {
              "outlinewidth": 0,
              "ticks": ""
             }
            },
            "type": "scatterternary"
           }
          ],
          "surface": [
           {
            "colorbar": {
             "outlinewidth": 0,
             "ticks": ""
            },
            "colorscale": [
             [
              0,
              "#0d0887"
             ],
             [
              0.1111111111111111,
              "#46039f"
             ],
             [
              0.2222222222222222,
              "#7201a8"
             ],
             [
              0.3333333333333333,
              "#9c179e"
             ],
             [
              0.4444444444444444,
              "#bd3786"
             ],
             [
              0.5555555555555556,
              "#d8576b"
             ],
             [
              0.6666666666666666,
              "#ed7953"
             ],
             [
              0.7777777777777778,
              "#fb9f3a"
             ],
             [
              0.8888888888888888,
              "#fdca26"
             ],
             [
              1,
              "#f0f921"
             ]
            ],
            "type": "surface"
           }
          ],
          "table": [
           {
            "cells": {
             "fill": {
              "color": "#EBF0F8"
             },
             "line": {
              "color": "white"
             }
            },
            "header": {
             "fill": {
              "color": "#C8D4E3"
             },
             "line": {
              "color": "white"
             }
            },
            "type": "table"
           }
          ]
         },
         "layout": {
          "annotationdefaults": {
           "arrowcolor": "#2a3f5f",
           "arrowhead": 0,
           "arrowwidth": 1
          },
          "autotypenumbers": "strict",
          "coloraxis": {
           "colorbar": {
            "outlinewidth": 0,
            "ticks": ""
           }
          },
          "colorscale": {
           "diverging": [
            [
             0,
             "#8e0152"
            ],
            [
             0.1,
             "#c51b7d"
            ],
            [
             0.2,
             "#de77ae"
            ],
            [
             0.3,
             "#f1b6da"
            ],
            [
             0.4,
             "#fde0ef"
            ],
            [
             0.5,
             "#f7f7f7"
            ],
            [
             0.6,
             "#e6f5d0"
            ],
            [
             0.7,
             "#b8e186"
            ],
            [
             0.8,
             "#7fbc41"
            ],
            [
             0.9,
             "#4d9221"
            ],
            [
             1,
             "#276419"
            ]
           ],
           "sequential": [
            [
             0,
             "#0d0887"
            ],
            [
             0.1111111111111111,
             "#46039f"
            ],
            [
             0.2222222222222222,
             "#7201a8"
            ],
            [
             0.3333333333333333,
             "#9c179e"
            ],
            [
             0.4444444444444444,
             "#bd3786"
            ],
            [
             0.5555555555555556,
             "#d8576b"
            ],
            [
             0.6666666666666666,
             "#ed7953"
            ],
            [
             0.7777777777777778,
             "#fb9f3a"
            ],
            [
             0.8888888888888888,
             "#fdca26"
            ],
            [
             1,
             "#f0f921"
            ]
           ],
           "sequentialminus": [
            [
             0,
             "#0d0887"
            ],
            [
             0.1111111111111111,
             "#46039f"
            ],
            [
             0.2222222222222222,
             "#7201a8"
            ],
            [
             0.3333333333333333,
             "#9c179e"
            ],
            [
             0.4444444444444444,
             "#bd3786"
            ],
            [
             0.5555555555555556,
             "#d8576b"
            ],
            [
             0.6666666666666666,
             "#ed7953"
            ],
            [
             0.7777777777777778,
             "#fb9f3a"
            ],
            [
             0.8888888888888888,
             "#fdca26"
            ],
            [
             1,
             "#f0f921"
            ]
           ]
          },
          "colorway": [
           "#636efa",
           "#EF553B",
           "#00cc96",
           "#ab63fa",
           "#FFA15A",
           "#19d3f3",
           "#FF6692",
           "#B6E880",
           "#FF97FF",
           "#FECB52"
          ],
          "font": {
           "color": "#2a3f5f"
          },
          "geo": {
           "bgcolor": "white",
           "lakecolor": "white",
           "landcolor": "#E5ECF6",
           "showlakes": true,
           "showland": true,
           "subunitcolor": "white"
          },
          "hoverlabel": {
           "align": "left"
          },
          "hovermode": "closest",
          "mapbox": {
           "style": "light"
          },
          "paper_bgcolor": "white",
          "plot_bgcolor": "#E5ECF6",
          "polar": {
           "angularaxis": {
            "gridcolor": "white",
            "linecolor": "white",
            "ticks": ""
           },
           "bgcolor": "#E5ECF6",
           "radialaxis": {
            "gridcolor": "white",
            "linecolor": "white",
            "ticks": ""
           }
          },
          "scene": {
           "xaxis": {
            "backgroundcolor": "#E5ECF6",
            "gridcolor": "white",
            "gridwidth": 2,
            "linecolor": "white",
            "showbackground": true,
            "ticks": "",
            "zerolinecolor": "white"
           },
           "yaxis": {
            "backgroundcolor": "#E5ECF6",
            "gridcolor": "white",
            "gridwidth": 2,
            "linecolor": "white",
            "showbackground": true,
            "ticks": "",
            "zerolinecolor": "white"
           },
           "zaxis": {
            "backgroundcolor": "#E5ECF6",
            "gridcolor": "white",
            "gridwidth": 2,
            "linecolor": "white",
            "showbackground": true,
            "ticks": "",
            "zerolinecolor": "white"
           }
          },
          "shapedefaults": {
           "line": {
            "color": "#2a3f5f"
           }
          },
          "ternary": {
           "aaxis": {
            "gridcolor": "white",
            "linecolor": "white",
            "ticks": ""
           },
           "baxis": {
            "gridcolor": "white",
            "linecolor": "white",
            "ticks": ""
           },
           "bgcolor": "#E5ECF6",
           "caxis": {
            "gridcolor": "white",
            "linecolor": "white",
            "ticks": ""
           }
          },
          "title": {
           "x": 0.05
          },
          "xaxis": {
           "automargin": true,
           "gridcolor": "white",
           "linecolor": "white",
           "ticks": "",
           "title": {
            "standoff": 15
           },
           "zerolinecolor": "white",
           "zerolinewidth": 2
          },
          "yaxis": {
           "automargin": true,
           "gridcolor": "white",
           "linecolor": "white",
           "ticks": "",
           "title": {
            "standoff": 15
           },
           "zerolinecolor": "white",
           "zerolinewidth": 2
          }
         }
        },
        "title": {
         "text": "Slice Plot"
        },
        "width": 1500,
        "xaxis": {
         "anchor": "y",
         "domain": [
          0,
          0.16799999999999998
         ],
         "title": {
          "text": "max_depth"
         }
        },
        "xaxis2": {
         "anchor": "y2",
         "domain": [
          0.208,
          0.376
         ],
         "title": {
          "text": "min_samples_leaf"
         }
        },
        "xaxis3": {
         "anchor": "y3",
         "domain": [
          0.416,
          0.584
         ],
         "title": {
          "text": "min_samples_split"
         }
        },
        "xaxis4": {
         "anchor": "y4",
         "domain": [
          0.624,
          0.792
         ],
         "title": {
          "text": "n_estimators"
         }
        },
        "xaxis5": {
         "anchor": "y5",
         "domain": [
          0.832,
          1
         ],
         "title": {
          "text": "poly_degree"
         }
        },
        "yaxis": {
         "anchor": "x",
         "domain": [
          0,
          1
         ],
         "title": {
          "text": "Objective Value"
         }
        },
        "yaxis2": {
         "anchor": "x2",
         "domain": [
          0,
          1
         ],
         "matches": "y",
         "showticklabels": false
        },
        "yaxis3": {
         "anchor": "x3",
         "domain": [
          0,
          1
         ],
         "matches": "y",
         "showticklabels": false
        },
        "yaxis4": {
         "anchor": "x4",
         "domain": [
          0,
          1
         ],
         "matches": "y",
         "showticklabels": false
        },
        "yaxis5": {
         "anchor": "x5",
         "domain": [
          0,
          1
         ],
         "matches": "y",
         "showticklabels": false
        }
       }
      }
     },
     "metadata": {},
     "output_type": "display_data"
    }
   ],
   "source": [
    "optuna.visualization.plot_slice(study, params=['n_estimators', 'max_depth', 'min_samples_split', 'min_samples_leaf','poly_degree'])"
   ]
  },
  {
   "cell_type": "code",
   "execution_count": 107,
   "metadata": {},
   "outputs": [
    {
     "data": {
      "application/vnd.plotly.v1+json": {
       "config": {
        "plotlyServerURL": "https://plot.ly"
       },
       "data": [
        {
         "cliponaxis": false,
         "hovertemplate": [
          "max_depth (IntDistribution): 0.0005050221145183018<extra></extra>",
          "n_estimators (IntDistribution): 0.0005690867910840337<extra></extra>",
          "min_samples_split (IntDistribution): 0.0011966625021424548<extra></extra>",
          "poly_degree (IntDistribution): 0.0054015516404708275<extra></extra>",
          "min_samples_leaf (IntDistribution): 0.9923276769517843<extra></extra>"
         ],
         "name": "Objective Value",
         "orientation": "h",
         "text": [
          "<0.01",
          "<0.01",
          "<0.01",
          "<0.01",
          "0.99"
         ],
         "textposition": "outside",
         "type": "bar",
         "x": [
          0.0005050221145183018,
          0.0005690867910840337,
          0.0011966625021424548,
          0.0054015516404708275,
          0.9923276769517843
         ],
         "y": [
          "max_depth",
          "n_estimators",
          "min_samples_split",
          "poly_degree",
          "min_samples_leaf"
         ]
        }
       ],
       "layout": {
        "template": {
         "data": {
          "bar": [
           {
            "error_x": {
             "color": "#2a3f5f"
            },
            "error_y": {
             "color": "#2a3f5f"
            },
            "marker": {
             "line": {
              "color": "#E5ECF6",
              "width": 0.5
             },
             "pattern": {
              "fillmode": "overlay",
              "size": 10,
              "solidity": 0.2
             }
            },
            "type": "bar"
           }
          ],
          "barpolar": [
           {
            "marker": {
             "line": {
              "color": "#E5ECF6",
              "width": 0.5
             },
             "pattern": {
              "fillmode": "overlay",
              "size": 10,
              "solidity": 0.2
             }
            },
            "type": "barpolar"
           }
          ],
          "carpet": [
           {
            "aaxis": {
             "endlinecolor": "#2a3f5f",
             "gridcolor": "white",
             "linecolor": "white",
             "minorgridcolor": "white",
             "startlinecolor": "#2a3f5f"
            },
            "baxis": {
             "endlinecolor": "#2a3f5f",
             "gridcolor": "white",
             "linecolor": "white",
             "minorgridcolor": "white",
             "startlinecolor": "#2a3f5f"
            },
            "type": "carpet"
           }
          ],
          "choropleth": [
           {
            "colorbar": {
             "outlinewidth": 0,
             "ticks": ""
            },
            "type": "choropleth"
           }
          ],
          "contour": [
           {
            "colorbar": {
             "outlinewidth": 0,
             "ticks": ""
            },
            "colorscale": [
             [
              0,
              "#0d0887"
             ],
             [
              0.1111111111111111,
              "#46039f"
             ],
             [
              0.2222222222222222,
              "#7201a8"
             ],
             [
              0.3333333333333333,
              "#9c179e"
             ],
             [
              0.4444444444444444,
              "#bd3786"
             ],
             [
              0.5555555555555556,
              "#d8576b"
             ],
             [
              0.6666666666666666,
              "#ed7953"
             ],
             [
              0.7777777777777778,
              "#fb9f3a"
             ],
             [
              0.8888888888888888,
              "#fdca26"
             ],
             [
              1,
              "#f0f921"
             ]
            ],
            "type": "contour"
           }
          ],
          "contourcarpet": [
           {
            "colorbar": {
             "outlinewidth": 0,
             "ticks": ""
            },
            "type": "contourcarpet"
           }
          ],
          "heatmap": [
           {
            "colorbar": {
             "outlinewidth": 0,
             "ticks": ""
            },
            "colorscale": [
             [
              0,
              "#0d0887"
             ],
             [
              0.1111111111111111,
              "#46039f"
             ],
             [
              0.2222222222222222,
              "#7201a8"
             ],
             [
              0.3333333333333333,
              "#9c179e"
             ],
             [
              0.4444444444444444,
              "#bd3786"
             ],
             [
              0.5555555555555556,
              "#d8576b"
             ],
             [
              0.6666666666666666,
              "#ed7953"
             ],
             [
              0.7777777777777778,
              "#fb9f3a"
             ],
             [
              0.8888888888888888,
              "#fdca26"
             ],
             [
              1,
              "#f0f921"
             ]
            ],
            "type": "heatmap"
           }
          ],
          "histogram": [
           {
            "marker": {
             "pattern": {
              "fillmode": "overlay",
              "size": 10,
              "solidity": 0.2
             }
            },
            "type": "histogram"
           }
          ],
          "histogram2d": [
           {
            "colorbar": {
             "outlinewidth": 0,
             "ticks": ""
            },
            "colorscale": [
             [
              0,
              "#0d0887"
             ],
             [
              0.1111111111111111,
              "#46039f"
             ],
             [
              0.2222222222222222,
              "#7201a8"
             ],
             [
              0.3333333333333333,
              "#9c179e"
             ],
             [
              0.4444444444444444,
              "#bd3786"
             ],
             [
              0.5555555555555556,
              "#d8576b"
             ],
             [
              0.6666666666666666,
              "#ed7953"
             ],
             [
              0.7777777777777778,
              "#fb9f3a"
             ],
             [
              0.8888888888888888,
              "#fdca26"
             ],
             [
              1,
              "#f0f921"
             ]
            ],
            "type": "histogram2d"
           }
          ],
          "histogram2dcontour": [
           {
            "colorbar": {
             "outlinewidth": 0,
             "ticks": ""
            },
            "colorscale": [
             [
              0,
              "#0d0887"
             ],
             [
              0.1111111111111111,
              "#46039f"
             ],
             [
              0.2222222222222222,
              "#7201a8"
             ],
             [
              0.3333333333333333,
              "#9c179e"
             ],
             [
              0.4444444444444444,
              "#bd3786"
             ],
             [
              0.5555555555555556,
              "#d8576b"
             ],
             [
              0.6666666666666666,
              "#ed7953"
             ],
             [
              0.7777777777777778,
              "#fb9f3a"
             ],
             [
              0.8888888888888888,
              "#fdca26"
             ],
             [
              1,
              "#f0f921"
             ]
            ],
            "type": "histogram2dcontour"
           }
          ],
          "mesh3d": [
           {
            "colorbar": {
             "outlinewidth": 0,
             "ticks": ""
            },
            "type": "mesh3d"
           }
          ],
          "parcoords": [
           {
            "line": {
             "colorbar": {
              "outlinewidth": 0,
              "ticks": ""
             }
            },
            "type": "parcoords"
           }
          ],
          "pie": [
           {
            "automargin": true,
            "type": "pie"
           }
          ],
          "scatter": [
           {
            "fillpattern": {
             "fillmode": "overlay",
             "size": 10,
             "solidity": 0.2
            },
            "type": "scatter"
           }
          ],
          "scatter3d": [
           {
            "line": {
             "colorbar": {
              "outlinewidth": 0,
              "ticks": ""
             }
            },
            "marker": {
             "colorbar": {
              "outlinewidth": 0,
              "ticks": ""
             }
            },
            "type": "scatter3d"
           }
          ],
          "scattercarpet": [
           {
            "marker": {
             "colorbar": {
              "outlinewidth": 0,
              "ticks": ""
             }
            },
            "type": "scattercarpet"
           }
          ],
          "scattergeo": [
           {
            "marker": {
             "colorbar": {
              "outlinewidth": 0,
              "ticks": ""
             }
            },
            "type": "scattergeo"
           }
          ],
          "scattergl": [
           {
            "marker": {
             "colorbar": {
              "outlinewidth": 0,
              "ticks": ""
             }
            },
            "type": "scattergl"
           }
          ],
          "scattermap": [
           {
            "marker": {
             "colorbar": {
              "outlinewidth": 0,
              "ticks": ""
             }
            },
            "type": "scattermap"
           }
          ],
          "scattermapbox": [
           {
            "marker": {
             "colorbar": {
              "outlinewidth": 0,
              "ticks": ""
             }
            },
            "type": "scattermapbox"
           }
          ],
          "scatterpolar": [
           {
            "marker": {
             "colorbar": {
              "outlinewidth": 0,
              "ticks": ""
             }
            },
            "type": "scatterpolar"
           }
          ],
          "scatterpolargl": [
           {
            "marker": {
             "colorbar": {
              "outlinewidth": 0,
              "ticks": ""
             }
            },
            "type": "scatterpolargl"
           }
          ],
          "scatterternary": [
           {
            "marker": {
             "colorbar": {
              "outlinewidth": 0,
              "ticks": ""
             }
            },
            "type": "scatterternary"
           }
          ],
          "surface": [
           {
            "colorbar": {
             "outlinewidth": 0,
             "ticks": ""
            },
            "colorscale": [
             [
              0,
              "#0d0887"
             ],
             [
              0.1111111111111111,
              "#46039f"
             ],
             [
              0.2222222222222222,
              "#7201a8"
             ],
             [
              0.3333333333333333,
              "#9c179e"
             ],
             [
              0.4444444444444444,
              "#bd3786"
             ],
             [
              0.5555555555555556,
              "#d8576b"
             ],
             [
              0.6666666666666666,
              "#ed7953"
             ],
             [
              0.7777777777777778,
              "#fb9f3a"
             ],
             [
              0.8888888888888888,
              "#fdca26"
             ],
             [
              1,
              "#f0f921"
             ]
            ],
            "type": "surface"
           }
          ],
          "table": [
           {
            "cells": {
             "fill": {
              "color": "#EBF0F8"
             },
             "line": {
              "color": "white"
             }
            },
            "header": {
             "fill": {
              "color": "#C8D4E3"
             },
             "line": {
              "color": "white"
             }
            },
            "type": "table"
           }
          ]
         },
         "layout": {
          "annotationdefaults": {
           "arrowcolor": "#2a3f5f",
           "arrowhead": 0,
           "arrowwidth": 1
          },
          "autotypenumbers": "strict",
          "coloraxis": {
           "colorbar": {
            "outlinewidth": 0,
            "ticks": ""
           }
          },
          "colorscale": {
           "diverging": [
            [
             0,
             "#8e0152"
            ],
            [
             0.1,
             "#c51b7d"
            ],
            [
             0.2,
             "#de77ae"
            ],
            [
             0.3,
             "#f1b6da"
            ],
            [
             0.4,
             "#fde0ef"
            ],
            [
             0.5,
             "#f7f7f7"
            ],
            [
             0.6,
             "#e6f5d0"
            ],
            [
             0.7,
             "#b8e186"
            ],
            [
             0.8,
             "#7fbc41"
            ],
            [
             0.9,
             "#4d9221"
            ],
            [
             1,
             "#276419"
            ]
           ],
           "sequential": [
            [
             0,
             "#0d0887"
            ],
            [
             0.1111111111111111,
             "#46039f"
            ],
            [
             0.2222222222222222,
             "#7201a8"
            ],
            [
             0.3333333333333333,
             "#9c179e"
            ],
            [
             0.4444444444444444,
             "#bd3786"
            ],
            [
             0.5555555555555556,
             "#d8576b"
            ],
            [
             0.6666666666666666,
             "#ed7953"
            ],
            [
             0.7777777777777778,
             "#fb9f3a"
            ],
            [
             0.8888888888888888,
             "#fdca26"
            ],
            [
             1,
             "#f0f921"
            ]
           ],
           "sequentialminus": [
            [
             0,
             "#0d0887"
            ],
            [
             0.1111111111111111,
             "#46039f"
            ],
            [
             0.2222222222222222,
             "#7201a8"
            ],
            [
             0.3333333333333333,
             "#9c179e"
            ],
            [
             0.4444444444444444,
             "#bd3786"
            ],
            [
             0.5555555555555556,
             "#d8576b"
            ],
            [
             0.6666666666666666,
             "#ed7953"
            ],
            [
             0.7777777777777778,
             "#fb9f3a"
            ],
            [
             0.8888888888888888,
             "#fdca26"
            ],
            [
             1,
             "#f0f921"
            ]
           ]
          },
          "colorway": [
           "#636efa",
           "#EF553B",
           "#00cc96",
           "#ab63fa",
           "#FFA15A",
           "#19d3f3",
           "#FF6692",
           "#B6E880",
           "#FF97FF",
           "#FECB52"
          ],
          "font": {
           "color": "#2a3f5f"
          },
          "geo": {
           "bgcolor": "white",
           "lakecolor": "white",
           "landcolor": "#E5ECF6",
           "showlakes": true,
           "showland": true,
           "subunitcolor": "white"
          },
          "hoverlabel": {
           "align": "left"
          },
          "hovermode": "closest",
          "mapbox": {
           "style": "light"
          },
          "paper_bgcolor": "white",
          "plot_bgcolor": "#E5ECF6",
          "polar": {
           "angularaxis": {
            "gridcolor": "white",
            "linecolor": "white",
            "ticks": ""
           },
           "bgcolor": "#E5ECF6",
           "radialaxis": {
            "gridcolor": "white",
            "linecolor": "white",
            "ticks": ""
           }
          },
          "scene": {
           "xaxis": {
            "backgroundcolor": "#E5ECF6",
            "gridcolor": "white",
            "gridwidth": 2,
            "linecolor": "white",
            "showbackground": true,
            "ticks": "",
            "zerolinecolor": "white"
           },
           "yaxis": {
            "backgroundcolor": "#E5ECF6",
            "gridcolor": "white",
            "gridwidth": 2,
            "linecolor": "white",
            "showbackground": true,
            "ticks": "",
            "zerolinecolor": "white"
           },
           "zaxis": {
            "backgroundcolor": "#E5ECF6",
            "gridcolor": "white",
            "gridwidth": 2,
            "linecolor": "white",
            "showbackground": true,
            "ticks": "",
            "zerolinecolor": "white"
           }
          },
          "shapedefaults": {
           "line": {
            "color": "#2a3f5f"
           }
          },
          "ternary": {
           "aaxis": {
            "gridcolor": "white",
            "linecolor": "white",
            "ticks": ""
           },
           "baxis": {
            "gridcolor": "white",
            "linecolor": "white",
            "ticks": ""
           },
           "bgcolor": "#E5ECF6",
           "caxis": {
            "gridcolor": "white",
            "linecolor": "white",
            "ticks": ""
           }
          },
          "title": {
           "x": 0.05
          },
          "xaxis": {
           "automargin": true,
           "gridcolor": "white",
           "linecolor": "white",
           "ticks": "",
           "title": {
            "standoff": 15
           },
           "zerolinecolor": "white",
           "zerolinewidth": 2
          },
          "yaxis": {
           "automargin": true,
           "gridcolor": "white",
           "linecolor": "white",
           "ticks": "",
           "title": {
            "standoff": 15
           },
           "zerolinecolor": "white",
           "zerolinewidth": 2
          }
         }
        },
        "title": {
         "text": "Hyperparameter Importances"
        },
        "xaxis": {
         "title": {
          "text": "Hyperparameter Importance"
         }
        },
        "yaxis": {
         "title": {
          "text": "Hyperparameter"
         }
        }
       }
      }
     },
     "metadata": {},
     "output_type": "display_data"
    }
   ],
   "source": [
    "optuna.visualization.plot_param_importances(study)"
   ]
  },
  {
   "cell_type": "code",
   "execution_count": 108,
   "metadata": {},
   "outputs": [],
   "source": [
    "best_n= best_params['n_estimators']\n",
    "best_max_depth = best_params['max_depth']\n",
    "best_min_samples_split = best_params['min_samples_split']\n",
    "best_min_samples_leaf = best_params['min_samples_leaf']"
   ]
  },
  {
   "cell_type": "code",
   "execution_count": 111,
   "metadata": {},
   "outputs": [],
   "source": [
    "numeric_pipeline_random_tree = Pipeline([\n",
    "    ('imputer', SimpleImputer(strategy='mean')),\n",
    "        ('poly', PolynomialFeatures(degree=1, include_bias=False))\n",
    "])\n",
    "\n",
    "categorical_pipeline_elastic = Pipeline([\n",
    "    ('imputer', SimpleImputer(strategy='most_frequent')),\n",
    "    ('onehot',  OneHotEncoder(handle_unknown='ignore', sparse_output=False,drop='first')),\n",
    "])\n",
    "\n",
    "preprocessor = ColumnTransformer([\n",
    "    ('num', numeric_pipeline_elastic,      num_cols),\n",
    "    ('cat', categorical_pipeline_elastic,  cat_cols),\n",
    "],\n",
    "remainder='passthrough')\n",
    "\n",
    "rforest = Pipeline([\n",
    "    ('prepoc',preprocessor),\n",
    "    ('randomforest', RandomForestRegressor(\n",
    "        n_estimators=best_n, \n",
    "        max_depth=best_max_depth, \n",
    "        min_samples_split=best_min_samples_split, \n",
    "        min_samples_leaf=best_min_samples_leaf,\n",
    "        random_state=42\n",
    "        )),\n",
    "    \n",
    "])"
   ]
  },
  {
   "cell_type": "code",
   "execution_count": 112,
   "metadata": {},
   "outputs": [],
   "source": [
    "rforest_cv = cross_val_score(\n",
    "        rforest, X_train, y_train,\n",
    "        cv=5,\n",
    "        scoring='neg_mean_squared_error',\n",
    "        n_jobs=-1\n",
    "    )"
   ]
  },
  {
   "cell_type": "code",
   "execution_count": 113,
   "metadata": {},
   "outputs": [
    {
     "name": "stdout",
     "output_type": "stream",
     "text": [
      "Random Forest Regressor CV results:\n",
      "[0.004101   0.0039174  0.003651   0.00360113 0.00359323]\n",
      "RMSE: 0.00 +/- 0.00\n",
      "\n"
     ]
    }
   ],
   "source": [
    "print_cv_results('Random Forest Regressor',rforest_cv)"
   ]
  },
  {
   "cell_type": "code",
   "execution_count": 114,
   "metadata": {},
   "outputs": [],
   "source": [
    "result['RandomForest'] = rforest_cv"
   ]
  },
  {
   "cell_type": "markdown",
   "metadata": {},
   "source": [
    "# Avaliando os modelos"
   ]
  },
  {
   "cell_type": "code",
   "execution_count": 115,
   "metadata": {},
   "outputs": [
    {
     "data": {
      "text/html": [
       "<div>\n",
       "<style scoped>\n",
       "    .dataframe tbody tr th:only-of-type {\n",
       "        vertical-align: middle;\n",
       "    }\n",
       "\n",
       "    .dataframe tbody tr th {\n",
       "        vertical-align: top;\n",
       "    }\n",
       "\n",
       "    .dataframe thead th {\n",
       "        text-align: right;\n",
       "    }\n",
       "</style>\n",
       "<table border=\"1\" class=\"dataframe\">\n",
       "  <thead>\n",
       "    <tr style=\"text-align: right;\">\n",
       "      <th></th>\n",
       "      <th>Dummy</th>\n",
       "      <th>Linear Reg</th>\n",
       "      <th>ElsticNet</th>\n",
       "      <th>RandomForest</th>\n",
       "    </tr>\n",
       "  </thead>\n",
       "  <tbody>\n",
       "    <tr>\n",
       "      <th>0</th>\n",
       "      <td>-0.155968</td>\n",
       "      <td>-0.054652</td>\n",
       "      <td>-0.003379</td>\n",
       "      <td>-0.004101</td>\n",
       "    </tr>\n",
       "    <tr>\n",
       "      <th>1</th>\n",
       "      <td>-0.156814</td>\n",
       "      <td>-0.054743</td>\n",
       "      <td>-0.003366</td>\n",
       "      <td>-0.003917</td>\n",
       "    </tr>\n",
       "    <tr>\n",
       "      <th>2</th>\n",
       "      <td>-0.160705</td>\n",
       "      <td>-0.055567</td>\n",
       "      <td>-0.003497</td>\n",
       "      <td>-0.003651</td>\n",
       "    </tr>\n",
       "    <tr>\n",
       "      <th>3</th>\n",
       "      <td>-0.154431</td>\n",
       "      <td>-0.051744</td>\n",
       "      <td>-0.002878</td>\n",
       "      <td>-0.003601</td>\n",
       "    </tr>\n",
       "    <tr>\n",
       "      <th>4</th>\n",
       "      <td>-0.151200</td>\n",
       "      <td>-0.055003</td>\n",
       "      <td>-0.003048</td>\n",
       "      <td>-0.003593</td>\n",
       "    </tr>\n",
       "  </tbody>\n",
       "</table>\n",
       "</div>"
      ],
      "text/plain": [
       "      Dummy  Linear Reg  ElsticNet  RandomForest\n",
       "0 -0.155968   -0.054652  -0.003379     -0.004101\n",
       "1 -0.156814   -0.054743  -0.003366     -0.003917\n",
       "2 -0.160705   -0.055567  -0.003497     -0.003651\n",
       "3 -0.154431   -0.051744  -0.002878     -0.003601\n",
       "4 -0.151200   -0.055003  -0.003048     -0.003593"
      ]
     },
     "execution_count": 115,
     "metadata": {},
     "output_type": "execute_result"
    }
   ],
   "source": [
    "result"
   ]
  },
  {
   "cell_type": "code",
   "execution_count": 122,
   "metadata": {},
   "outputs": [
    {
     "name": "stdout",
     "output_type": "stream",
     "text": [
      "Média de NRMSE do Dummy Model -0.1558236528631532\n",
      "Média de NRMSE do Linear model -0.05434184924197355\n",
      "Média de NRMSE do ElasticNet model -0.0032335357104508666\n",
      "Média de NNRMSE do RandomForest model -0.003772751297930811\n"
     ]
    }
   ],
   "source": [
    "print('Média de NRMSE do Dummy Model', result['Dummy'].mean())\n",
    "print('Média de NRMSE do Linear model', result['Linear Reg'].mean())\n",
    "print('Média de NRMSE do ElasticNet model', result['ElsticNet'].mean())\n",
    "print('Média de NNRMSE do RandomForest model', result['RandomForest'].mean())"
   ]
  },
  {
   "cell_type": "markdown",
   "metadata": {},
   "source": [
    "Os modelo ElasticNet e RandomForest se destacam do resto quando se compara o desempenho em média dos dois, vamos ver em porcentagem para ter uma noção melhor, e depois vamos comparar sua variância também"
   ]
  },
  {
   "cell_type": "code",
   "execution_count": 138,
   "metadata": {},
   "outputs": [
    {
     "name": "stdout",
     "output_type": "stream",
     "text": [
      "Média em porcentagem do RMSE do ElasticNet model 13.99%\n",
      "Média em porcentagem do RMSE do RandomForest model 15.19%\n"
     ]
    }
   ],
   "source": [
    "mean_elastic = 100*(10**np.sqrt(-result['ElsticNet'].mean())-1)\n",
    "mean_rforest = 100*(10**np.sqrt(-result['RandomForest'].mean())-1) \n",
    "print(f'Média em porcentagem do RMSE do ElasticNet model {mean_elastic:.2f}%')\n",
    "print(f'Média em porcentagem do RMSE do RandomForest model {mean_rforest:.2f}%')"
   ]
  },
  {
   "cell_type": "code",
   "execution_count": 123,
   "metadata": {},
   "outputs": [
    {
     "name": "stdout",
     "output_type": "stream",
     "text": [
      "Variância de NRMSE do Dummy Model 1.2035556115781293e-05\n",
      "Variância de NRMSE do Linear model 2.2362753326933676e-06\n",
      "Variância de NRMSE do ElasticNet model 6.720621290309157e-08\n",
      "Variância de NRMSE do RandomForest model 5.129295387526053e-08\n"
     ]
    }
   ],
   "source": [
    "print('Variância de NRMSE do Dummy Model',      result['Dummy'].var())\n",
    "print('Variância de NRMSE do Linear model',     result['Linear Reg'].var())\n",
    "print('Variância de NRMSE do ElasticNet model', result['ElsticNet'].var())\n",
    "print('Variância de NRMSE do RandomForest model', result['RandomForest'].var())"
   ]
  },
  {
   "cell_type": "markdown",
   "metadata": {},
   "source": [
    "Podemos ver que o RandomForest tem uma vairância menor que o ElasticNet, mas não parece ser algo muito gritante(mas estamos analisando esses resultados na escala log, vamos analisar em porcentagem)"
   ]
  },
  {
   "cell_type": "code",
   "execution_count": 126,
   "metadata": {},
   "outputs": [
    {
     "name": "stdout",
     "output_type": "stream",
     "text": [
      "Variancia em porcentagem do RMSE do ElasticNet model 0.059710406480339984\n",
      "Variancia em porcentagem do RMSE do RandomForest model 0.05216242681529426\n"
     ]
    }
   ],
   "source": [
    "print('Variancia em porcentagem do RMSE do ElasticNet model',100*(10**np.sqrt(result['ElsticNet'].var()) - 1))\n",
    "print('Variancia em porcentagem do RMSE do RandomForest model',100*(10**np.sqrt(result['RandomForest'].var()) - 1))"
   ]
  },
  {
   "cell_type": "markdown",
   "metadata": {},
   "source": [
    "As duas variância estão em torno de 5%/6%. Para termos uma noção estatísitca melhor vamos analisar o coeficiente de variação desses modelos."
   ]
  },
  {
   "cell_type": "code",
   "execution_count": 131,
   "metadata": {},
   "outputs": [
    {
     "name": "stdout",
     "output_type": "stream",
     "text": [
      "CV do modelo RandomForest: -5.98%\n"
     ]
    }
   ],
   "source": [
    "\n",
    "pct_errors = (10**result['RandomForest'] - 1) * 100\n",
    "\n",
    "cv = pct_errors.std() / pct_errors.mean() * 100\n",
    "\n",
    "print(f'CV do modelo RandomForest: {cv:.2f}%')"
   ]
  },
  {
   "cell_type": "code",
   "execution_count": 130,
   "metadata": {},
   "outputs": [
    {
     "name": "stdout",
     "output_type": "stream",
     "text": [
      "CV do modelo ElasticNet: -7.99%\n"
     ]
    }
   ],
   "source": [
    "pct_errors = (10**result['ElsticNet'] - 1) * 100\n",
    "\n",
    "cv = pct_errors.std() / pct_errors.mean() * 100\n",
    "\n",
    "print(f'CV do modelo ElasticNet: {cv:.2f}%')"
   ]
  },
  {
   "cell_type": "markdown",
   "metadata": {},
   "source": [
    "Partindo agora para o t-test:"
   ]
  },
  {
   "cell_type": "code",
   "execution_count": 145,
   "metadata": {},
   "outputs": [],
   "source": [
    "from scipy.stats import ttest_rel"
   ]
  },
  {
   "cell_type": "code",
   "execution_count": null,
   "metadata": {},
   "outputs": [
    {
     "name": "stdout",
     "output_type": "stream",
     "text": [
      "Melhor modelo: ElsticNet (erro médio = -0.0032)\n",
      "\n",
      "0.016666666666666666\n",
      "Dummy           → Δmédia = -0.1526 | p-valor = 0.0000 | Significativo p < 0.0167? SIM\n",
      "Linear Reg      → Δmédia = -0.0511 | p-valor = 0.0000 | Significativo p < 0.0167? SIM\n",
      "RandomForest    → Δmédia = -0.0005 | p-valor = 0.0066 | Significativo p < 0.0167? SIM\n"
     ]
    }
   ],
   "source": [
    "\n",
    "\n",
    "scores_dict = result.to_dict(orient='list')\n",
    "means = {name: np.mean(vals) for name, vals in scores_dict.items()}\n",
    "best_name = max(means, key=means.get)\n",
    "print(f\"Melhor modelo: {best_name} (erro médio = {means[best_name]:.4f})\\n\")\n",
    "\n",
    "alpha = 0.05\n",
    "n_models = len(scores_dict) - 1\n",
    "alpha_corr = alpha / n_models\n",
    "for name, scores in scores_dict.items():\n",
    "    if name == best_name:\n",
    "        continue\n",
    "\n",
    "    best_scores = scores_dict[best_name]\n",
    "    other_scores = scores\n",
    "    stat, p = ttest_rel(best_scores, other_scores)\n",
    "\n",
    "    delta = means[name] - means[best_name]\n",
    "\n",
    "    signif = 'SIM' if p < alpha_corr else 'NÃO'\n",
    "    print(\n",
    "        f\"{name:15s} → Δmédia = {delta:+.4f} | \"\n",
    "        f\"p-valor = {p:.4f} | Significativo p < {alpha_corr:.4f}? {signif}\"\n",
    "    )\n"
   ]
  },
  {
   "cell_type": "markdown",
   "metadata": {},
   "source": [
    "Aplicamos testes pareados (t-test) comparando fold a fold o erro médio do ElasticNet contra Dummy, Linear Reg e RandomForest, usando correção de Bonferroni (α_corr=0,0167). Em todas as comparações obtivemos p-valores inferiores a α_corr, portanto podemos  rejeitar a hipótese nula de que não existia diferença da média de erro do ElasticNet para os outros modelos. Concluímos que os outros modelos apresentam erro médio estatisticamente maior que o ElasticNet. Entretanto, a magnitude da diferença para o RandomForest (Δ≈0,0005) é muito pequena e possivelmente irrelevante na prática."
   ]
  }
 ],
 "metadata": {
  "kernelspec": {
   "display_name": "base",
   "language": "python",
   "name": "python3"
  },
  "language_info": {
   "codemirror_mode": {
    "name": "ipython",
    "version": 3
   },
   "file_extension": ".py",
   "mimetype": "text/x-python",
   "name": "python",
   "nbconvert_exporter": "python",
   "pygments_lexer": "ipython3",
   "version": "3.12.2"
  }
 },
 "nbformat": 4,
 "nbformat_minor": 2
}
